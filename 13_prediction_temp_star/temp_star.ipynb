{
 "cells": [
  {
   "cell_type": "markdown",
   "id": "42ea041f",
   "metadata": {},
   "source": [
    "## Постановка задачи\n",
    "Необходимо придумать, как с помощью нейросети определять температуру на поверхности обнаруженных звёзд. Обычно для расчёта температуры учёные пользуются следующими методами:\n",
    "* закон смещения Вина, \n",
    "* закон Стефана-Больцмана, \n",
    "* спектральный анализ. \n",
    "\n",
    "Каждый из них имеет плюсы и минусы. Обсерватория хочет внедрить технологии машинного обучения для предсказания температуры звёзд, надеясь, что этот метод будет наиболее точным и удобным. \n",
    "\n",
    "В нашем распоряжении следующие характеристики:\n",
    "\n",
    "* Относительная светимость L/Lo — светимость звезды относительно Солнца;\n",
    "* Относительный радиус R/Ro — радиус звезды относительно радиуса Солнца;\n",
    "* Абсолютная звёздная величина \n",
    "* Mv — физическая величина, характеризующая блеск звезды;\n",
    "* Звёздный цвет (white, red, blue, yellow, yellow-orange и др.) — цвет звезды, который определяют на основе спектрального анализа;\n",
    "\n",
    "* Абсолютная температура T(K) — температура на поверхности звезды в Кельвинах.\n",
    "\n",
    "| Тип звезды                        | Номер соответствующий типу |\n",
    "|-----------------------------------|----------------------------|\n",
    "| Коричневый карлик                 |   0   |\n",
    "| Красный карлик                    |   1   | \n",
    "| Белый карлик                      |   2   |\n",
    "| Звёзды главной последовательности |   0   |\n",
    "| Сверхгигант                       |   1   | \n",
    "| Гипергигант                       |   2   |\n",
    "\n",
    "*Задача*: разработать нейронную сеть, которая поможет предсказывать абсолютную температуру на поверхности звезды."
   ]
  },
  {
   "cell_type": "code",
   "execution_count": 2,
   "id": "ead04a46",
   "metadata": {},
   "outputs": [
    {
     "name": "stdout",
     "output_type": "stream",
     "text": [
      "Collecting phik\n",
      "  Downloading phik-0.12.3-cp39-cp39-manylinux_2_17_x86_64.manylinux2014_x86_64.whl (679 kB)\n",
      "\u001b[K     |████████████████████████████████| 679 kB 2.2 MB/s eta 0:00:01\n",
      "\u001b[?25hRequirement already satisfied: matplotlib>=2.2.3 in /opt/conda/lib/python3.9/site-packages (from phik) (3.3.4)\n",
      "Requirement already satisfied: numpy>=1.18.0 in /opt/conda/lib/python3.9/site-packages (from phik) (1.21.1)\n",
      "Requirement already satisfied: joblib>=0.14.1 in /opt/conda/lib/python3.9/site-packages (from phik) (1.1.0)\n",
      "Requirement already satisfied: scipy>=1.5.2 in /opt/conda/lib/python3.9/site-packages (from phik) (1.9.1)\n",
      "Requirement already satisfied: pandas>=0.25.1 in /opt/conda/lib/python3.9/site-packages (from phik) (1.2.4)\n",
      "Requirement already satisfied: cycler>=0.10 in /opt/conda/lib/python3.9/site-packages (from matplotlib>=2.2.3->phik) (0.11.0)\n",
      "Requirement already satisfied: kiwisolver>=1.0.1 in /opt/conda/lib/python3.9/site-packages (from matplotlib>=2.2.3->phik) (1.4.4)\n",
      "Requirement already satisfied: pyparsing!=2.0.4,!=2.1.2,!=2.1.6,>=2.0.3 in /opt/conda/lib/python3.9/site-packages (from matplotlib>=2.2.3->phik) (2.4.7)\n",
      "Requirement already satisfied: pillow>=6.2.0 in /opt/conda/lib/python3.9/site-packages (from matplotlib>=2.2.3->phik) (8.4.0)\n",
      "Requirement already satisfied: python-dateutil>=2.1 in /opt/conda/lib/python3.9/site-packages (from matplotlib>=2.2.3->phik) (2.8.1)\n",
      "Requirement already satisfied: pytz>=2017.3 in /opt/conda/lib/python3.9/site-packages (from pandas>=0.25.1->phik) (2021.1)\n",
      "Requirement already satisfied: six>=1.5 in /opt/conda/lib/python3.9/site-packages (from python-dateutil>=2.1->matplotlib>=2.2.3->phik) (1.16.0)\n",
      "Installing collected packages: phik\n",
      "Successfully installed phik-0.12.3\n"
     ]
    }
   ],
   "source": [
    "!pip install phik"
   ]
  },
  {
   "cell_type": "code",
   "execution_count": 3,
   "id": "cde5f7c0",
   "metadata": {},
   "outputs": [],
   "source": [
    "import pandas as pd\n",
    "import numpy as np\n",
    "import seaborn as sns\n",
    "import matplotlib.pyplot as plt\n",
    "from math import ceil\n",
    "\n",
    "import phik\n",
    "from phik.report import plot_correlation_matrix\n",
    "from phik import report\n",
    "\n",
    "import torch\n",
    "import torch.nn as nn\n",
    "from torch.utils.data import Dataset, DataLoader\n",
    "\n",
    "import sklearn\n",
    "from sklearn.model_selection import train_test_split\n",
    "from sklearn.preprocessing import StandardScaler, OneHotEncoder, LabelBinarizer\n",
    "from sklearn.metrics import mean_squared_error\n",
    "from sklearn.compose import ColumnTransformer\n",
    "\n",
    "import tqdm"
   ]
  },
  {
   "cell_type": "code",
   "execution_count": 4,
   "id": "48899749",
   "metadata": {},
   "outputs": [],
   "source": [
    "def info(df):\n",
    "\n",
    "    display('------------------------------------------------------------------------')\n",
    "    display('********************** Размер набора данных ****************************')\n",
    "    display(f'Набор данных сподержит: {df.shape[1]} признаков, включая целевой')\n",
    "    display(f'                     и: {df.shape[0]} наблюдений')\n",
    "    display('------------------------------------------------------------------------')\n",
    "\n",
    "\n",
    "    display('**************** 10 случайных наблюдений набора данных *****************')\n",
    "    display(df.sample(10))\n",
    "    display('------------------------------------------------------------------------')\n",
    "\n",
    "\n",
    "    display('********************** Информация о наборе данных **********************')\n",
    "    display(df.info())\n",
    "    display('------------------------------------------------------------------------')\n",
    "\n",
    "\n",
    "    display('********* Основные статистические характеристики набора данных *********')\n",
    "    display(df.describe())\n",
    "    display('------------------------------------------------------------------------')"
   ]
  },
  {
   "cell_type": "code",
   "execution_count": 5,
   "id": "c072c3b6",
   "metadata": {},
   "outputs": [],
   "source": [
    "def spread(column_list, df):\n",
    "\n",
    "    for column in column_list:\n",
    "\n",
    "        display('---------------------------------------------------------------------------------')\n",
    "        display(f'************************** Признак {column} ***************************')\n",
    "        df.boxplot(column=column,\n",
    "                   vert=False,\n",
    "                   figsize=(12,9),\n",
    "                   rot=90,\n",
    "                   fontsize=15)\n",
    "        plt.title(f'Диаграмма размаха признака: {column}',\n",
    "                  fontsize = 20)\n",
    "        plt.show()\n",
    "\n",
    "        df[column].plot(kind='hist',\n",
    "                        bins=100,\n",
    "                        grid=True,\n",
    "                        figsize=(12,9),\n",
    "                        fontsize=15)\n",
    "        plt.title(f'Гистограмма признака: {column}',\n",
    "                  fontsize = 20)\n",
    "        plt.xlabel(column,fontsize = 15)\n",
    "        plt.ylabel('Количество наблюдений',fontsize = 15)\n",
    "\n",
    "        plt.show()"
   ]
  },
  {
   "cell_type": "code",
   "execution_count": 6,
   "id": "e40d1a8c",
   "metadata": {},
   "outputs": [],
   "source": [
    "def uniqueness(colomn_list, df):\n",
    "    # Просмотр уникальных значений\n",
    "    for column in colomn_list:\n",
    "        display(f'Количество уникальных значений признака {column}: {df[column].nunique()}')\n",
    "\n",
    "        display(f'Уникальные значения пирзнака {column}:')\n",
    "        display((df[column].unique()).tolist())\n",
    "        display('------------------------------------------------------------------------')"
   ]
  },
  {
   "cell_type": "markdown",
   "id": "corresponding-armstrong",
   "metadata": {
    "ExecuteTime": {
     "end_time": "2022-05-05T04:58:05.692448Z",
     "start_time": "2022-05-05T04:58:05.688565Z"
    }
   },
   "source": [
    "## Загрузка данных"
   ]
  },
  {
   "cell_type": "code",
   "execution_count": 7,
   "id": "spectacular-folder",
   "metadata": {
    "scrolled": false
   },
   "outputs": [
    {
     "data": {
      "text/plain": [
       "'------------------------------------------------------------------------'"
      ]
     },
     "metadata": {},
     "output_type": "display_data"
    },
    {
     "data": {
      "text/plain": [
       "'********************** Размер набора данных ****************************'"
      ]
     },
     "metadata": {},
     "output_type": "display_data"
    },
    {
     "data": {
      "text/plain": [
       "'Набор данных сподержит: 6 признаков, включая целевой'"
      ]
     },
     "metadata": {},
     "output_type": "display_data"
    },
    {
     "data": {
      "text/plain": [
       "'                     и: 240 наблюдений'"
      ]
     },
     "metadata": {},
     "output_type": "display_data"
    },
    {
     "data": {
      "text/plain": [
       "'------------------------------------------------------------------------'"
      ]
     },
     "metadata": {},
     "output_type": "display_data"
    },
    {
     "data": {
      "text/plain": [
       "'**************** 10 случайных наблюдений набора данных *****************'"
      ]
     },
     "metadata": {},
     "output_type": "display_data"
    },
    {
     "data": {
      "text/html": [
       "<div>\n",
       "<style scoped>\n",
       "    .dataframe tbody tr th:only-of-type {\n",
       "        vertical-align: middle;\n",
       "    }\n",
       "\n",
       "    .dataframe tbody tr th {\n",
       "        vertical-align: top;\n",
       "    }\n",
       "\n",
       "    .dataframe thead th {\n",
       "        text-align: right;\n",
       "    }\n",
       "</style>\n",
       "<table border=\"1\" class=\"dataframe\">\n",
       "  <thead>\n",
       "    <tr style=\"text-align: right;\">\n",
       "      <th></th>\n",
       "      <th>Temperature (K)</th>\n",
       "      <th>Luminosity(L/Lo)</th>\n",
       "      <th>Radius(R/Ro)</th>\n",
       "      <th>Absolute magnitude(Mv)</th>\n",
       "      <th>Star type</th>\n",
       "      <th>Star color</th>\n",
       "    </tr>\n",
       "  </thead>\n",
       "  <tbody>\n",
       "    <tr>\n",
       "      <th>130</th>\n",
       "      <td>3095</td>\n",
       "      <td>0.00019</td>\n",
       "      <td>0.4920</td>\n",
       "      <td>10.870</td>\n",
       "      <td>1</td>\n",
       "      <td>Red</td>\n",
       "    </tr>\n",
       "    <tr>\n",
       "      <th>226</th>\n",
       "      <td>9892</td>\n",
       "      <td>593900.00000</td>\n",
       "      <td>80.0000</td>\n",
       "      <td>-7.262</td>\n",
       "      <td>4</td>\n",
       "      <td>Blue</td>\n",
       "    </tr>\n",
       "    <tr>\n",
       "      <th>224</th>\n",
       "      <td>16787</td>\n",
       "      <td>246730.00000</td>\n",
       "      <td>62.0000</td>\n",
       "      <td>-6.350</td>\n",
       "      <td>4</td>\n",
       "      <td>Blue</td>\n",
       "    </tr>\n",
       "    <tr>\n",
       "      <th>18</th>\n",
       "      <td>3192</td>\n",
       "      <td>0.00362</td>\n",
       "      <td>0.1967</td>\n",
       "      <td>13.530</td>\n",
       "      <td>1</td>\n",
       "      <td>Red</td>\n",
       "    </tr>\n",
       "    <tr>\n",
       "      <th>153</th>\n",
       "      <td>16390</td>\n",
       "      <td>1278.00000</td>\n",
       "      <td>5.6800</td>\n",
       "      <td>-3.320</td>\n",
       "      <td>3</td>\n",
       "      <td>Blue-white</td>\n",
       "    </tr>\n",
       "    <tr>\n",
       "      <th>56</th>\n",
       "      <td>3660</td>\n",
       "      <td>363000.00000</td>\n",
       "      <td>1673.0000</td>\n",
       "      <td>-11.920</td>\n",
       "      <td>5</td>\n",
       "      <td>Red</td>\n",
       "    </tr>\n",
       "    <tr>\n",
       "      <th>11</th>\n",
       "      <td>3129</td>\n",
       "      <td>0.01220</td>\n",
       "      <td>0.3761</td>\n",
       "      <td>11.790</td>\n",
       "      <td>1</td>\n",
       "      <td>Red</td>\n",
       "    </tr>\n",
       "    <tr>\n",
       "      <th>151</th>\n",
       "      <td>8945</td>\n",
       "      <td>38.00000</td>\n",
       "      <td>2.4870</td>\n",
       "      <td>0.120</td>\n",
       "      <td>3</td>\n",
       "      <td>Blue-White</td>\n",
       "    </tr>\n",
       "    <tr>\n",
       "      <th>95</th>\n",
       "      <td>11250</td>\n",
       "      <td>672.00000</td>\n",
       "      <td>6.9800</td>\n",
       "      <td>-2.300</td>\n",
       "      <td>3</td>\n",
       "      <td>Blue-white</td>\n",
       "    </tr>\n",
       "    <tr>\n",
       "      <th>34</th>\n",
       "      <td>5800</td>\n",
       "      <td>0.81000</td>\n",
       "      <td>0.9000</td>\n",
       "      <td>5.050</td>\n",
       "      <td>3</td>\n",
       "      <td>yellow-white</td>\n",
       "    </tr>\n",
       "  </tbody>\n",
       "</table>\n",
       "</div>"
      ],
      "text/plain": [
       "     Temperature (K)  Luminosity(L/Lo)  Radius(R/Ro)  Absolute magnitude(Mv)  \\\n",
       "130             3095           0.00019        0.4920                  10.870   \n",
       "226             9892      593900.00000       80.0000                  -7.262   \n",
       "224            16787      246730.00000       62.0000                  -6.350   \n",
       "18              3192           0.00362        0.1967                  13.530   \n",
       "153            16390        1278.00000        5.6800                  -3.320   \n",
       "56              3660      363000.00000     1673.0000                 -11.920   \n",
       "11              3129           0.01220        0.3761                  11.790   \n",
       "151             8945          38.00000        2.4870                   0.120   \n",
       "95             11250         672.00000        6.9800                  -2.300   \n",
       "34              5800           0.81000        0.9000                   5.050   \n",
       "\n",
       "     Star type    Star color  \n",
       "130          1           Red  \n",
       "226          4          Blue  \n",
       "224          4          Blue  \n",
       "18           1           Red  \n",
       "153          3    Blue-white  \n",
       "56           5           Red  \n",
       "11           1           Red  \n",
       "151          3    Blue-White  \n",
       "95           3    Blue-white  \n",
       "34           3  yellow-white  "
      ]
     },
     "metadata": {},
     "output_type": "display_data"
    },
    {
     "data": {
      "text/plain": [
       "'------------------------------------------------------------------------'"
      ]
     },
     "metadata": {},
     "output_type": "display_data"
    },
    {
     "data": {
      "text/plain": [
       "'********************** Информация о наборе данных **********************'"
      ]
     },
     "metadata": {},
     "output_type": "display_data"
    },
    {
     "name": "stdout",
     "output_type": "stream",
     "text": [
      "<class 'pandas.core.frame.DataFrame'>\n",
      "Int64Index: 240 entries, 0 to 239\n",
      "Data columns (total 6 columns):\n",
      " #   Column                  Non-Null Count  Dtype  \n",
      "---  ------                  --------------  -----  \n",
      " 0   Temperature (K)         240 non-null    int64  \n",
      " 1   Luminosity(L/Lo)        240 non-null    float64\n",
      " 2   Radius(R/Ro)            240 non-null    float64\n",
      " 3   Absolute magnitude(Mv)  240 non-null    float64\n",
      " 4   Star type               240 non-null    int64  \n",
      " 5   Star color              240 non-null    object \n",
      "dtypes: float64(3), int64(2), object(1)\n",
      "memory usage: 13.1+ KB\n"
     ]
    },
    {
     "data": {
      "text/plain": [
       "None"
      ]
     },
     "metadata": {},
     "output_type": "display_data"
    },
    {
     "data": {
      "text/plain": [
       "'------------------------------------------------------------------------'"
      ]
     },
     "metadata": {},
     "output_type": "display_data"
    },
    {
     "data": {
      "text/plain": [
       "'********* Основные статистические характеристики набора данных *********'"
      ]
     },
     "metadata": {},
     "output_type": "display_data"
    },
    {
     "data": {
      "text/html": [
       "<div>\n",
       "<style scoped>\n",
       "    .dataframe tbody tr th:only-of-type {\n",
       "        vertical-align: middle;\n",
       "    }\n",
       "\n",
       "    .dataframe tbody tr th {\n",
       "        vertical-align: top;\n",
       "    }\n",
       "\n",
       "    .dataframe thead th {\n",
       "        text-align: right;\n",
       "    }\n",
       "</style>\n",
       "<table border=\"1\" class=\"dataframe\">\n",
       "  <thead>\n",
       "    <tr style=\"text-align: right;\">\n",
       "      <th></th>\n",
       "      <th>Temperature (K)</th>\n",
       "      <th>Luminosity(L/Lo)</th>\n",
       "      <th>Radius(R/Ro)</th>\n",
       "      <th>Absolute magnitude(Mv)</th>\n",
       "      <th>Star type</th>\n",
       "    </tr>\n",
       "  </thead>\n",
       "  <tbody>\n",
       "    <tr>\n",
       "      <th>count</th>\n",
       "      <td>240.000000</td>\n",
       "      <td>240.000000</td>\n",
       "      <td>240.000000</td>\n",
       "      <td>240.000000</td>\n",
       "      <td>240.000000</td>\n",
       "    </tr>\n",
       "    <tr>\n",
       "      <th>mean</th>\n",
       "      <td>10497.462500</td>\n",
       "      <td>107188.361635</td>\n",
       "      <td>237.157781</td>\n",
       "      <td>4.382396</td>\n",
       "      <td>2.500000</td>\n",
       "    </tr>\n",
       "    <tr>\n",
       "      <th>std</th>\n",
       "      <td>9552.425037</td>\n",
       "      <td>179432.244940</td>\n",
       "      <td>517.155763</td>\n",
       "      <td>10.532512</td>\n",
       "      <td>1.711394</td>\n",
       "    </tr>\n",
       "    <tr>\n",
       "      <th>min</th>\n",
       "      <td>1939.000000</td>\n",
       "      <td>0.000080</td>\n",
       "      <td>0.008400</td>\n",
       "      <td>-11.920000</td>\n",
       "      <td>0.000000</td>\n",
       "    </tr>\n",
       "    <tr>\n",
       "      <th>25%</th>\n",
       "      <td>3344.250000</td>\n",
       "      <td>0.000865</td>\n",
       "      <td>0.102750</td>\n",
       "      <td>-6.232500</td>\n",
       "      <td>1.000000</td>\n",
       "    </tr>\n",
       "    <tr>\n",
       "      <th>50%</th>\n",
       "      <td>5776.000000</td>\n",
       "      <td>0.070500</td>\n",
       "      <td>0.762500</td>\n",
       "      <td>8.313000</td>\n",
       "      <td>2.500000</td>\n",
       "    </tr>\n",
       "    <tr>\n",
       "      <th>75%</th>\n",
       "      <td>15055.500000</td>\n",
       "      <td>198050.000000</td>\n",
       "      <td>42.750000</td>\n",
       "      <td>13.697500</td>\n",
       "      <td>4.000000</td>\n",
       "    </tr>\n",
       "    <tr>\n",
       "      <th>max</th>\n",
       "      <td>40000.000000</td>\n",
       "      <td>849420.000000</td>\n",
       "      <td>1948.500000</td>\n",
       "      <td>20.060000</td>\n",
       "      <td>5.000000</td>\n",
       "    </tr>\n",
       "  </tbody>\n",
       "</table>\n",
       "</div>"
      ],
      "text/plain": [
       "       Temperature (K)  Luminosity(L/Lo)  Radius(R/Ro)  \\\n",
       "count       240.000000        240.000000    240.000000   \n",
       "mean      10497.462500     107188.361635    237.157781   \n",
       "std        9552.425037     179432.244940    517.155763   \n",
       "min        1939.000000          0.000080      0.008400   \n",
       "25%        3344.250000          0.000865      0.102750   \n",
       "50%        5776.000000          0.070500      0.762500   \n",
       "75%       15055.500000     198050.000000     42.750000   \n",
       "max       40000.000000     849420.000000   1948.500000   \n",
       "\n",
       "       Absolute magnitude(Mv)   Star type  \n",
       "count              240.000000  240.000000  \n",
       "mean                 4.382396    2.500000  \n",
       "std                 10.532512    1.711394  \n",
       "min                -11.920000    0.000000  \n",
       "25%                 -6.232500    1.000000  \n",
       "50%                  8.313000    2.500000  \n",
       "75%                 13.697500    4.000000  \n",
       "max                 20.060000    5.000000  "
      ]
     },
     "metadata": {},
     "output_type": "display_data"
    },
    {
     "data": {
      "text/plain": [
       "'------------------------------------------------------------------------'"
      ]
     },
     "metadata": {},
     "output_type": "display_data"
    }
   ],
   "source": [
    "df = pd.read_csv('/datasets/6_class.csv', index_col = 0)\n",
    "info(df)"
   ]
  },
  {
   "cell_type": "code",
   "execution_count": 8,
   "id": "38e74d15",
   "metadata": {},
   "outputs": [
    {
     "data": {
      "text/plain": [
       "0"
      ]
     },
     "execution_count": 8,
     "metadata": {},
     "output_type": "execute_result"
    }
   ],
   "source": [
    "# проверим данные на дубликаты\n",
    "df.duplicated().sum()"
   ]
  },
  {
   "cell_type": "code",
   "execution_count": 9,
   "id": "d856a529",
   "metadata": {},
   "outputs": [],
   "source": [
    "numeric_columns = ['Temperature (K)', 'Luminosity(L/Lo)', 'Radius(R/Ro)',\n",
    "                   'Absolute magnitude(Mv)', 'Star type']"
   ]
  },
  {
   "cell_type": "code",
   "execution_count": 10,
   "id": "6be6f7bf",
   "metadata": {},
   "outputs": [
    {
     "data": {
      "text/plain": [
       "'---------------------------------------------------------------------------------'"
      ]
     },
     "metadata": {},
     "output_type": "display_data"
    },
    {
     "data": {
      "text/plain": [
       "'************************** Признак Temperature (K) ***************************'"
      ]
     },
     "metadata": {},
     "output_type": "display_data"
    },
    {
     "data": {
      "image/png": "[encoded data removed]",
      "text/plain": [
       "<Figure size 864x648 with 1 Axes>"
      ]
     },
     "metadata": {
      "needs_background": "light"
     },
     "output_type": "display_data"
    },
    {
     "data": {
      "image/png": "[encoded data removed]",
      "text/plain": [
       "<Figure size 864x648 with 1 Axes>"
      ]
     },
     "metadata": {
      "needs_background": "light"
     },
     "output_type": "display_data"
    },
    {
     "data": {
      "text/plain": [
       "'---------------------------------------------------------------------------------'"
      ]
     },
     "metadata": {},
     "output_type": "display_data"
    },
    {
     "data": {
      "text/plain": [
       "'************************** Признак Luminosity(L/Lo) ***************************'"
      ]
     },
     "metadata": {},
     "output_type": "display_data"
    },
    {
     "data": {
      "image/png": "[encoded data removed]",
      "text/plain": [
       "<Figure size 864x648 with 1 Axes>"
      ]
     },
     "metadata": {
      "needs_background": "light"
     },
     "output_type": "display_data"
    },
    {
     "data": {
      "image/png": "[encoded data removed]",
      "text/plain": [
       "<Figure size 864x648 with 1 Axes>"
      ]
     },
     "metadata": {
      "needs_background": "light"
     },
     "output_type": "display_data"
    },
    {
     "data": {
      "text/plain": [
       "'---------------------------------------------------------------------------------'"
      ]
     },
     "metadata": {},
     "output_type": "display_data"
    },
    {
     "data": {
      "text/plain": [
       "'************************** Признак Radius(R/Ro) ***************************'"
      ]
     },
     "metadata": {},
     "output_type": "display_data"
    },
    {
     "data": {
      "image/png": "[encoded data removed]",
      "text/plain": [
       "<Figure size 864x648 with 1 Axes>"
      ]
     },
     "metadata": {
      "needs_background": "light"
     },
     "output_type": "display_data"
    },
    {
     "data": {
      "image/png": "[encoded data removed]",
      "text/plain": [
       "<Figure size 864x648 with 1 Axes>"
      ]
     },
     "metadata": {
      "needs_background": "light"
     },
     "output_type": "display_data"
    },
    {
     "data": {
      "text/plain": [
       "'---------------------------------------------------------------------------------'"
      ]
     },
     "metadata": {},
     "output_type": "display_data"
    },
    {
     "data": {
      "text/plain": [
       "'************************** Признак Absolute magnitude(Mv) ***************************'"
      ]
     },
     "metadata": {},
     "output_type": "display_data"
    },
    {
     "data": {
      "image/png": "[encoded data removed]",
      "text/plain": [
       "<Figure size 864x648 with 1 Axes>"
      ]
     },
     "metadata": {
      "needs_background": "light"
     },
     "output_type": "display_data"
    },
    {
     "data": {
      "image/png": "[encoded data removed]",
      "text/plain": [
       "<Figure size 864x648 with 1 Axes>"
      ]
     },
     "metadata": {
      "needs_background": "light"
     },
     "output_type": "display_data"
    },
    {
     "data": {
      "text/plain": [
       "'---------------------------------------------------------------------------------'"
      ]
     },
     "metadata": {},
     "output_type": "display_data"
    },
    {
     "data": {
      "text/plain": [
       "'************************** Признак Star type ***************************'"
      ]
     },
     "metadata": {},
     "output_type": "display_data"
    },
    {
     "data": {
      "image/png": "[encoded data removed]",
      "text/plain": [
       "<Figure size 864x648 with 1 Axes>"
      ]
     },
     "metadata": {
      "needs_background": "light"
     },
     "output_type": "display_data"
    },
    {
     "data": {
      "image/png": "[encoded data removed]",
      "text/plain": [
       "<Figure size 864x648 with 1 Axes>"
      ]
     },
     "metadata": {
      "needs_background": "light"
     },
     "output_type": "display_data"
    }
   ],
   "source": [
    "# Посмотрим на разброс данных\n",
    "spread(numeric_columns, df)"
   ]
  },
  {
   "cell_type": "code",
   "execution_count": 11,
   "id": "7d5b6faf",
   "metadata": {},
   "outputs": [],
   "source": [
    "cat_columns = ['Star type', 'Star color']"
   ]
  },
  {
   "cell_type": "code",
   "execution_count": 12,
   "id": "1d67b091",
   "metadata": {},
   "outputs": [
    {
     "data": {
      "text/plain": [
       "'Количество уникальных значений признака Star type: 6'"
      ]
     },
     "metadata": {},
     "output_type": "display_data"
    },
    {
     "data": {
      "text/plain": [
       "'Уникальные значения пирзнака Star type:'"
      ]
     },
     "metadata": {},
     "output_type": "display_data"
    },
    {
     "data": {
      "text/plain": [
       "[0, 1, 2, 3, 4, 5]"
      ]
     },
     "metadata": {},
     "output_type": "display_data"
    },
    {
     "data": {
      "text/plain": [
       "'------------------------------------------------------------------------'"
      ]
     },
     "metadata": {},
     "output_type": "display_data"
    },
    {
     "data": {
      "text/plain": [
       "'Количество уникальных значений признака Star color: 19'"
      ]
     },
     "metadata": {},
     "output_type": "display_data"
    },
    {
     "data": {
      "text/plain": [
       "'Уникальные значения пирзнака Star color:'"
      ]
     },
     "metadata": {},
     "output_type": "display_data"
    },
    {
     "data": {
      "text/plain": [
       "['Red',\n",
       " 'Blue White',\n",
       " 'White',\n",
       " 'Yellowish White',\n",
       " 'Blue white',\n",
       " 'Pale yellow orange',\n",
       " 'Blue',\n",
       " 'Blue-white',\n",
       " 'Whitish',\n",
       " 'yellow-white',\n",
       " 'Orange',\n",
       " 'White-Yellow',\n",
       " 'white',\n",
       " 'Blue ',\n",
       " 'yellowish',\n",
       " 'Yellowish',\n",
       " 'Orange-Red',\n",
       " 'Blue white ',\n",
       " 'Blue-White']"
      ]
     },
     "metadata": {},
     "output_type": "display_data"
    },
    {
     "data": {
      "text/plain": [
       "'------------------------------------------------------------------------'"
      ]
     },
     "metadata": {},
     "output_type": "display_data"
    }
   ],
   "source": [
    "uniqueness(cat_columns, df)"
   ]
  },
  {
   "cell_type": "code",
   "execution_count": 13,
   "id": "3a5d92d8",
   "metadata": {},
   "outputs": [],
   "source": [
    "# Сброс ограничений на число столбцов\n",
    "pd.set_option('display.max_columns', None)"
   ]
  },
  {
   "cell_type": "code",
   "execution_count": 14,
   "id": "95ee44d9",
   "metadata": {},
   "outputs": [
    {
     "data": {
      "text/html": [
       "<div>\n",
       "<style scoped>\n",
       "    .dataframe tbody tr th:only-of-type {\n",
       "        vertical-align: middle;\n",
       "    }\n",
       "\n",
       "    .dataframe tbody tr th {\n",
       "        vertical-align: top;\n",
       "    }\n",
       "\n",
       "    .dataframe thead th {\n",
       "        text-align: right;\n",
       "    }\n",
       "</style>\n",
       "<table border=\"1\" class=\"dataframe\">\n",
       "  <thead>\n",
       "    <tr style=\"text-align: right;\">\n",
       "      <th></th>\n",
       "      <th>Temperature (K)</th>\n",
       "      <th>Luminosity(L/Lo)</th>\n",
       "      <th>Radius(R/Ro)</th>\n",
       "      <th>Absolute magnitude(Mv)</th>\n",
       "      <th>Star type</th>\n",
       "    </tr>\n",
       "  </thead>\n",
       "  <tbody>\n",
       "    <tr>\n",
       "      <th>Temperature (K)</th>\n",
       "      <td>1.000000</td>\n",
       "      <td>0.393404</td>\n",
       "      <td>0.064216</td>\n",
       "      <td>-0.420261</td>\n",
       "      <td>0.411129</td>\n",
       "    </tr>\n",
       "    <tr>\n",
       "      <th>Luminosity(L/Lo)</th>\n",
       "      <td>0.393404</td>\n",
       "      <td>1.000000</td>\n",
       "      <td>0.526516</td>\n",
       "      <td>-0.692619</td>\n",
       "      <td>0.676845</td>\n",
       "    </tr>\n",
       "    <tr>\n",
       "      <th>Radius(R/Ro)</th>\n",
       "      <td>0.064216</td>\n",
       "      <td>0.526516</td>\n",
       "      <td>1.000000</td>\n",
       "      <td>-0.608728</td>\n",
       "      <td>0.660975</td>\n",
       "    </tr>\n",
       "    <tr>\n",
       "      <th>Absolute magnitude(Mv)</th>\n",
       "      <td>-0.420261</td>\n",
       "      <td>-0.692619</td>\n",
       "      <td>-0.608728</td>\n",
       "      <td>1.000000</td>\n",
       "      <td>-0.955276</td>\n",
       "    </tr>\n",
       "    <tr>\n",
       "      <th>Star type</th>\n",
       "      <td>0.411129</td>\n",
       "      <td>0.676845</td>\n",
       "      <td>0.660975</td>\n",
       "      <td>-0.955276</td>\n",
       "      <td>1.000000</td>\n",
       "    </tr>\n",
       "  </tbody>\n",
       "</table>\n",
       "</div>"
      ],
      "text/plain": [
       "                        Temperature (K)  Luminosity(L/Lo)  Radius(R/Ro)  \\\n",
       "Temperature (K)                1.000000          0.393404      0.064216   \n",
       "Luminosity(L/Lo)               0.393404          1.000000      0.526516   \n",
       "Radius(R/Ro)                   0.064216          0.526516      1.000000   \n",
       "Absolute magnitude(Mv)        -0.420261         -0.692619     -0.608728   \n",
       "Star type                      0.411129          0.676845      0.660975   \n",
       "\n",
       "                        Absolute magnitude(Mv)  Star type  \n",
       "Temperature (K)                      -0.420261   0.411129  \n",
       "Luminosity(L/Lo)                     -0.692619   0.676845  \n",
       "Radius(R/Ro)                         -0.608728   0.660975  \n",
       "Absolute magnitude(Mv)                1.000000  -0.955276  \n",
       "Star type                            -0.955276   1.000000  "
      ]
     },
     "metadata": {},
     "output_type": "display_data"
    }
   ],
   "source": [
    "display(df.corr())"
   ]
  },
  {
   "cell_type": "code",
   "execution_count": 15,
   "id": "15368b9f",
   "metadata": {},
   "outputs": [
    {
     "data": {
      "text/html": [
       "<div>\n",
       "<style scoped>\n",
       "    .dataframe tbody tr th:only-of-type {\n",
       "        vertical-align: middle;\n",
       "    }\n",
       "\n",
       "    .dataframe tbody tr th {\n",
       "        vertical-align: top;\n",
       "    }\n",
       "\n",
       "    .dataframe thead th {\n",
       "        text-align: right;\n",
       "    }\n",
       "</style>\n",
       "<table border=\"1\" class=\"dataframe\">\n",
       "  <thead>\n",
       "    <tr style=\"text-align: right;\">\n",
       "      <th></th>\n",
       "      <th>Temperature (K)</th>\n",
       "      <th>Luminosity(L/Lo)</th>\n",
       "      <th>Radius(R/Ro)</th>\n",
       "      <th>Absolute magnitude(Mv)</th>\n",
       "      <th>Star type</th>\n",
       "      <th>Star color</th>\n",
       "    </tr>\n",
       "  </thead>\n",
       "  <tbody>\n",
       "    <tr>\n",
       "      <th>215</th>\n",
       "      <td>32460</td>\n",
       "      <td>173800.0</td>\n",
       "      <td>6.237</td>\n",
       "      <td>-4.36</td>\n",
       "      <td>3</td>\n",
       "      <td>Blue</td>\n",
       "    </tr>\n",
       "    <tr>\n",
       "      <th>232</th>\n",
       "      <td>32489</td>\n",
       "      <td>648430.0</td>\n",
       "      <td>1948.500</td>\n",
       "      <td>-10.84</td>\n",
       "      <td>5</td>\n",
       "      <td>Blue</td>\n",
       "    </tr>\n",
       "    <tr>\n",
       "      <th>100</th>\n",
       "      <td>33300</td>\n",
       "      <td>240000.0</td>\n",
       "      <td>12.000</td>\n",
       "      <td>-6.50</td>\n",
       "      <td>4</td>\n",
       "      <td>Blue</td>\n",
       "    </tr>\n",
       "    <tr>\n",
       "      <th>109</th>\n",
       "      <td>33421</td>\n",
       "      <td>352000.0</td>\n",
       "      <td>67.000</td>\n",
       "      <td>-5.79</td>\n",
       "      <td>4</td>\n",
       "      <td>Blue</td>\n",
       "    </tr>\n",
       "    <tr>\n",
       "      <th>49</th>\n",
       "      <td>33750</td>\n",
       "      <td>220000.0</td>\n",
       "      <td>26.000</td>\n",
       "      <td>-6.10</td>\n",
       "      <td>4</td>\n",
       "      <td>Blue</td>\n",
       "    </tr>\n",
       "    <tr>\n",
       "      <th>214</th>\n",
       "      <td>34190</td>\n",
       "      <td>198200.0</td>\n",
       "      <td>6.390</td>\n",
       "      <td>-4.57</td>\n",
       "      <td>3</td>\n",
       "      <td>Blue</td>\n",
       "    </tr>\n",
       "    <tr>\n",
       "      <th>99</th>\n",
       "      <td>36108</td>\n",
       "      <td>198000.0</td>\n",
       "      <td>10.200</td>\n",
       "      <td>-4.40</td>\n",
       "      <td>3</td>\n",
       "      <td>Blue</td>\n",
       "    </tr>\n",
       "    <tr>\n",
       "      <th>159</th>\n",
       "      <td>37800</td>\n",
       "      <td>202900.0</td>\n",
       "      <td>6.860</td>\n",
       "      <td>-4.56</td>\n",
       "      <td>3</td>\n",
       "      <td>Blue</td>\n",
       "    </tr>\n",
       "    <tr>\n",
       "      <th>239</th>\n",
       "      <td>37882</td>\n",
       "      <td>294903.0</td>\n",
       "      <td>1783.000</td>\n",
       "      <td>-7.80</td>\n",
       "      <td>5</td>\n",
       "      <td>Blue</td>\n",
       "    </tr>\n",
       "    <tr>\n",
       "      <th>231</th>\n",
       "      <td>38234</td>\n",
       "      <td>272830.0</td>\n",
       "      <td>1356.000</td>\n",
       "      <td>-9.29</td>\n",
       "      <td>5</td>\n",
       "      <td>Blue</td>\n",
       "    </tr>\n",
       "    <tr>\n",
       "      <th>235</th>\n",
       "      <td>38940</td>\n",
       "      <td>374830.0</td>\n",
       "      <td>1356.000</td>\n",
       "      <td>-9.93</td>\n",
       "      <td>5</td>\n",
       "      <td>Blue</td>\n",
       "    </tr>\n",
       "    <tr>\n",
       "      <th>30</th>\n",
       "      <td>39000</td>\n",
       "      <td>204000.0</td>\n",
       "      <td>10.600</td>\n",
       "      <td>-4.70</td>\n",
       "      <td>3</td>\n",
       "      <td>Blue</td>\n",
       "    </tr>\n",
       "    <tr>\n",
       "      <th>101</th>\n",
       "      <td>40000</td>\n",
       "      <td>813000.0</td>\n",
       "      <td>14.000</td>\n",
       "      <td>-6.23</td>\n",
       "      <td>4</td>\n",
       "      <td>Blue</td>\n",
       "    </tr>\n",
       "  </tbody>\n",
       "</table>\n",
       "</div>"
      ],
      "text/plain": [
       "     Temperature (K)  Luminosity(L/Lo)  Radius(R/Ro)  Absolute magnitude(Mv)  \\\n",
       "215            32460          173800.0         6.237                   -4.36   \n",
       "232            32489          648430.0      1948.500                  -10.84   \n",
       "100            33300          240000.0        12.000                   -6.50   \n",
       "109            33421          352000.0        67.000                   -5.79   \n",
       "49             33750          220000.0        26.000                   -6.10   \n",
       "214            34190          198200.0         6.390                   -4.57   \n",
       "99             36108          198000.0        10.200                   -4.40   \n",
       "159            37800          202900.0         6.860                   -4.56   \n",
       "239            37882          294903.0      1783.000                   -7.80   \n",
       "231            38234          272830.0      1356.000                   -9.29   \n",
       "235            38940          374830.0      1356.000                   -9.93   \n",
       "30             39000          204000.0        10.600                   -4.70   \n",
       "101            40000          813000.0        14.000                   -6.23   \n",
       "\n",
       "     Star type Star color  \n",
       "215          3       Blue  \n",
       "232          5       Blue  \n",
       "100          4       Blue  \n",
       "109          4       Blue  \n",
       "49           4       Blue  \n",
       "214          3       Blue  \n",
       "99           3       Blue  \n",
       "159          3       Blue  \n",
       "239          5       Blue  \n",
       "231          5       Blue  \n",
       "235          5       Blue  \n",
       "30           3       Blue  \n",
       "101          4       Blue  "
      ]
     },
     "metadata": {},
     "output_type": "display_data"
    }
   ],
   "source": [
    "display(df.loc[df['Temperature (K)'] > 32000].sort_values(by=['Temperature (K)']))"
   ]
  },
  {
   "cell_type": "code",
   "execution_count": 16,
   "id": "bde852a8",
   "metadata": {},
   "outputs": [
    {
     "data": {
      "text/html": [
       "<div>\n",
       "<style scoped>\n",
       "    .dataframe tbody tr th:only-of-type {\n",
       "        vertical-align: middle;\n",
       "    }\n",
       "\n",
       "    .dataframe tbody tr th {\n",
       "        vertical-align: top;\n",
       "    }\n",
       "\n",
       "    .dataframe thead th {\n",
       "        text-align: right;\n",
       "    }\n",
       "</style>\n",
       "<table border=\"1\" class=\"dataframe\">\n",
       "  <thead>\n",
       "    <tr style=\"text-align: right;\">\n",
       "      <th></th>\n",
       "      <th>Temperature (K)</th>\n",
       "      <th>Luminosity(L/Lo)</th>\n",
       "      <th>Radius(R/Ro)</th>\n",
       "      <th>Absolute magnitude(Mv)</th>\n",
       "      <th>Star type</th>\n",
       "      <th>Star color</th>\n",
       "    </tr>\n",
       "  </thead>\n",
       "  <tbody>\n",
       "    <tr>\n",
       "      <th>104</th>\n",
       "      <td>11096</td>\n",
       "      <td>112000.0</td>\n",
       "      <td>12.0</td>\n",
       "      <td>-5.910</td>\n",
       "      <td>4</td>\n",
       "      <td>Blue</td>\n",
       "    </tr>\n",
       "    <tr>\n",
       "      <th>113</th>\n",
       "      <td>3399</td>\n",
       "      <td>117000.0</td>\n",
       "      <td>1486.0</td>\n",
       "      <td>-10.920</td>\n",
       "      <td>5</td>\n",
       "      <td>Red</td>\n",
       "    </tr>\n",
       "    <tr>\n",
       "      <th>178</th>\n",
       "      <td>12100</td>\n",
       "      <td>120000.0</td>\n",
       "      <td>708.9</td>\n",
       "      <td>-7.840</td>\n",
       "      <td>5</td>\n",
       "      <td>Blue-white</td>\n",
       "    </tr>\n",
       "    <tr>\n",
       "      <th>46</th>\n",
       "      <td>3575</td>\n",
       "      <td>123000.0</td>\n",
       "      <td>45.0</td>\n",
       "      <td>-6.780</td>\n",
       "      <td>4</td>\n",
       "      <td>Red</td>\n",
       "    </tr>\n",
       "    <tr>\n",
       "      <th>111</th>\n",
       "      <td>3605</td>\n",
       "      <td>126000.0</td>\n",
       "      <td>1124.0</td>\n",
       "      <td>-10.810</td>\n",
       "      <td>5</td>\n",
       "      <td>Red</td>\n",
       "    </tr>\n",
       "    <tr>\n",
       "      <th>...</th>\n",
       "      <td>...</td>\n",
       "      <td>...</td>\n",
       "      <td>...</td>\n",
       "      <td>...</td>\n",
       "      <td>...</td>\n",
       "      <td>...</td>\n",
       "    </tr>\n",
       "    <tr>\n",
       "      <th>229</th>\n",
       "      <td>21738</td>\n",
       "      <td>748890.0</td>\n",
       "      <td>92.0</td>\n",
       "      <td>-7.346</td>\n",
       "      <td>4</td>\n",
       "      <td>Blue</td>\n",
       "    </tr>\n",
       "    <tr>\n",
       "      <th>227</th>\n",
       "      <td>10930</td>\n",
       "      <td>783930.0</td>\n",
       "      <td>25.0</td>\n",
       "      <td>-6.224</td>\n",
       "      <td>4</td>\n",
       "      <td>Blue</td>\n",
       "    </tr>\n",
       "    <tr>\n",
       "      <th>101</th>\n",
       "      <td>40000</td>\n",
       "      <td>813000.0</td>\n",
       "      <td>14.0</td>\n",
       "      <td>-6.230</td>\n",
       "      <td>4</td>\n",
       "      <td>Blue</td>\n",
       "    </tr>\n",
       "    <tr>\n",
       "      <th>236</th>\n",
       "      <td>30839</td>\n",
       "      <td>834042.0</td>\n",
       "      <td>1194.0</td>\n",
       "      <td>-10.630</td>\n",
       "      <td>5</td>\n",
       "      <td>Blue</td>\n",
       "    </tr>\n",
       "    <tr>\n",
       "      <th>233</th>\n",
       "      <td>27739</td>\n",
       "      <td>849420.0</td>\n",
       "      <td>1252.0</td>\n",
       "      <td>-7.590</td>\n",
       "      <td>5</td>\n",
       "      <td>Blue-white</td>\n",
       "    </tr>\n",
       "  </tbody>\n",
       "</table>\n",
       "<p>84 rows × 6 columns</p>\n",
       "</div>"
      ],
      "text/plain": [
       "     Temperature (K)  Luminosity(L/Lo)  Radius(R/Ro)  Absolute magnitude(Mv)  \\\n",
       "104            11096          112000.0          12.0                  -5.910   \n",
       "113             3399          117000.0        1486.0                 -10.920   \n",
       "178            12100          120000.0         708.9                  -7.840   \n",
       "46              3575          123000.0          45.0                  -6.780   \n",
       "111             3605          126000.0        1124.0                 -10.810   \n",
       "..               ...               ...           ...                     ...   \n",
       "229            21738          748890.0          92.0                  -7.346   \n",
       "227            10930          783930.0          25.0                  -6.224   \n",
       "101            40000          813000.0          14.0                  -6.230   \n",
       "236            30839          834042.0        1194.0                 -10.630   \n",
       "233            27739          849420.0        1252.0                  -7.590   \n",
       "\n",
       "     Star type  Star color  \n",
       "104          4        Blue  \n",
       "113          5         Red  \n",
       "178          5  Blue-white  \n",
       "46           4         Red  \n",
       "111          5         Red  \n",
       "..         ...         ...  \n",
       "229          4        Blue  \n",
       "227          4        Blue  \n",
       "101          4        Blue  \n",
       "236          5        Blue  \n",
       "233          5  Blue-white  \n",
       "\n",
       "[84 rows x 6 columns]"
      ]
     },
     "metadata": {},
     "output_type": "display_data"
    }
   ],
   "source": [
    "display(df.loc[df['Luminosity(L/Lo)'] > 100000].sort_values(by=['Luminosity(L/Lo)']))"
   ]
  },
  {
   "cell_type": "code",
   "execution_count": 17,
   "id": "00a417c3",
   "metadata": {},
   "outputs": [
    {
     "data": {
      "text/html": [
       "<div>\n",
       "<style scoped>\n",
       "    .dataframe tbody tr th:only-of-type {\n",
       "        vertical-align: middle;\n",
       "    }\n",
       "\n",
       "    .dataframe tbody tr th {\n",
       "        vertical-align: top;\n",
       "    }\n",
       "\n",
       "    .dataframe thead th {\n",
       "        text-align: right;\n",
       "    }\n",
       "</style>\n",
       "<table border=\"1\" class=\"dataframe\">\n",
       "  <thead>\n",
       "    <tr style=\"text-align: right;\">\n",
       "      <th></th>\n",
       "      <th>Temperature (K)</th>\n",
       "      <th>Luminosity(L/Lo)</th>\n",
       "      <th>Radius(R/Ro)</th>\n",
       "      <th>Absolute magnitude(Mv)</th>\n",
       "      <th>Star type</th>\n",
       "      <th>Star color</th>\n",
       "    </tr>\n",
       "  </thead>\n",
       "  <tbody>\n",
       "    <tr>\n",
       "      <th>178</th>\n",
       "      <td>12100</td>\n",
       "      <td>120000.0</td>\n",
       "      <td>708.9</td>\n",
       "      <td>-7.84</td>\n",
       "      <td>5</td>\n",
       "      <td>Blue-white</td>\n",
       "    </tr>\n",
       "    <tr>\n",
       "      <th>117</th>\n",
       "      <td>3625</td>\n",
       "      <td>74000.0</td>\n",
       "      <td>876.0</td>\n",
       "      <td>-10.25</td>\n",
       "      <td>5</td>\n",
       "      <td>Red</td>\n",
       "    </tr>\n",
       "    <tr>\n",
       "      <th>58</th>\n",
       "      <td>3752</td>\n",
       "      <td>209000.0</td>\n",
       "      <td>955.0</td>\n",
       "      <td>-11.24</td>\n",
       "      <td>5</td>\n",
       "      <td>Red</td>\n",
       "    </tr>\n",
       "    <tr>\n",
       "      <th>176</th>\n",
       "      <td>18000</td>\n",
       "      <td>200000.0</td>\n",
       "      <td>1045.0</td>\n",
       "      <td>-8.30</td>\n",
       "      <td>5</td>\n",
       "      <td>Blue</td>\n",
       "    </tr>\n",
       "    <tr>\n",
       "      <th>238</th>\n",
       "      <td>9235</td>\n",
       "      <td>404940.0</td>\n",
       "      <td>1112.0</td>\n",
       "      <td>-11.23</td>\n",
       "      <td>5</td>\n",
       "      <td>White</td>\n",
       "    </tr>\n",
       "    <tr>\n",
       "      <th>111</th>\n",
       "      <td>3605</td>\n",
       "      <td>126000.0</td>\n",
       "      <td>1124.0</td>\n",
       "      <td>-10.81</td>\n",
       "      <td>5</td>\n",
       "      <td>Red</td>\n",
       "    </tr>\n",
       "    <tr>\n",
       "      <th>234</th>\n",
       "      <td>21904</td>\n",
       "      <td>748490.0</td>\n",
       "      <td>1130.0</td>\n",
       "      <td>-7.67</td>\n",
       "      <td>5</td>\n",
       "      <td>Blue-white</td>\n",
       "    </tr>\n",
       "    <tr>\n",
       "      <th>179</th>\n",
       "      <td>24490</td>\n",
       "      <td>248490.0</td>\n",
       "      <td>1134.5</td>\n",
       "      <td>-8.24</td>\n",
       "      <td>5</td>\n",
       "      <td>Blue-white</td>\n",
       "    </tr>\n",
       "    <tr>\n",
       "      <th>52</th>\n",
       "      <td>3834</td>\n",
       "      <td>272000.0</td>\n",
       "      <td>1183.0</td>\n",
       "      <td>-9.20</td>\n",
       "      <td>5</td>\n",
       "      <td>Red</td>\n",
       "    </tr>\n",
       "    <tr>\n",
       "      <th>174</th>\n",
       "      <td>3600</td>\n",
       "      <td>240000.0</td>\n",
       "      <td>1190.0</td>\n",
       "      <td>-7.89</td>\n",
       "      <td>5</td>\n",
       "      <td>Red</td>\n",
       "    </tr>\n",
       "    <tr>\n",
       "      <th>236</th>\n",
       "      <td>30839</td>\n",
       "      <td>834042.0</td>\n",
       "      <td>1194.0</td>\n",
       "      <td>-10.63</td>\n",
       "      <td>5</td>\n",
       "      <td>Blue</td>\n",
       "    </tr>\n",
       "    <tr>\n",
       "      <th>233</th>\n",
       "      <td>27739</td>\n",
       "      <td>849420.0</td>\n",
       "      <td>1252.0</td>\n",
       "      <td>-7.59</td>\n",
       "      <td>5</td>\n",
       "      <td>Blue-white</td>\n",
       "    </tr>\n",
       "    <tr>\n",
       "      <th>51</th>\n",
       "      <td>3750</td>\n",
       "      <td>283000.0</td>\n",
       "      <td>1260.0</td>\n",
       "      <td>-7.63</td>\n",
       "      <td>5</td>\n",
       "      <td>Red</td>\n",
       "    </tr>\n",
       "    <tr>\n",
       "      <th>57</th>\n",
       "      <td>3450</td>\n",
       "      <td>174000.0</td>\n",
       "      <td>1284.0</td>\n",
       "      <td>-11.28</td>\n",
       "      <td>5</td>\n",
       "      <td>Red</td>\n",
       "    </tr>\n",
       "    <tr>\n",
       "      <th>110</th>\n",
       "      <td>3459</td>\n",
       "      <td>100000.0</td>\n",
       "      <td>1289.0</td>\n",
       "      <td>-10.70</td>\n",
       "      <td>5</td>\n",
       "      <td>Red</td>\n",
       "    </tr>\n",
       "    <tr>\n",
       "      <th>172</th>\n",
       "      <td>4287</td>\n",
       "      <td>630000.0</td>\n",
       "      <td>1315.0</td>\n",
       "      <td>-9.20</td>\n",
       "      <td>5</td>\n",
       "      <td>Orange</td>\n",
       "    </tr>\n",
       "    <tr>\n",
       "      <th>119</th>\n",
       "      <td>3780</td>\n",
       "      <td>200000.0</td>\n",
       "      <td>1324.0</td>\n",
       "      <td>-10.70</td>\n",
       "      <td>5</td>\n",
       "      <td>Red</td>\n",
       "    </tr>\n",
       "    <tr>\n",
       "      <th>115</th>\n",
       "      <td>3553</td>\n",
       "      <td>145000.0</td>\n",
       "      <td>1324.0</td>\n",
       "      <td>-11.03</td>\n",
       "      <td>5</td>\n",
       "      <td>Red</td>\n",
       "    </tr>\n",
       "    <tr>\n",
       "      <th>54</th>\n",
       "      <td>3650</td>\n",
       "      <td>310000.0</td>\n",
       "      <td>1324.0</td>\n",
       "      <td>-7.79</td>\n",
       "      <td>5</td>\n",
       "      <td>Red</td>\n",
       "    </tr>\n",
       "    <tr>\n",
       "      <th>55</th>\n",
       "      <td>3450</td>\n",
       "      <td>263000.0</td>\n",
       "      <td>1349.0</td>\n",
       "      <td>-11.75</td>\n",
       "      <td>5</td>\n",
       "      <td>Red</td>\n",
       "    </tr>\n",
       "    <tr>\n",
       "      <th>235</th>\n",
       "      <td>38940</td>\n",
       "      <td>374830.0</td>\n",
       "      <td>1356.0</td>\n",
       "      <td>-9.93</td>\n",
       "      <td>5</td>\n",
       "      <td>Blue</td>\n",
       "    </tr>\n",
       "    <tr>\n",
       "      <th>231</th>\n",
       "      <td>38234</td>\n",
       "      <td>272830.0</td>\n",
       "      <td>1356.0</td>\n",
       "      <td>-9.29</td>\n",
       "      <td>5</td>\n",
       "      <td>Blue</td>\n",
       "    </tr>\n",
       "    <tr>\n",
       "      <th>171</th>\n",
       "      <td>3500</td>\n",
       "      <td>138000.0</td>\n",
       "      <td>1420.0</td>\n",
       "      <td>-8.18</td>\n",
       "      <td>5</td>\n",
       "      <td>Red</td>\n",
       "    </tr>\n",
       "    <tr>\n",
       "      <th>237</th>\n",
       "      <td>8829</td>\n",
       "      <td>537493.0</td>\n",
       "      <td>1423.0</td>\n",
       "      <td>-10.73</td>\n",
       "      <td>5</td>\n",
       "      <td>White</td>\n",
       "    </tr>\n",
       "    <tr>\n",
       "      <th>118</th>\n",
       "      <td>6850</td>\n",
       "      <td>229000.0</td>\n",
       "      <td>1467.0</td>\n",
       "      <td>-10.07</td>\n",
       "      <td>5</td>\n",
       "      <td>Red</td>\n",
       "    </tr>\n",
       "    <tr>\n",
       "      <th>170</th>\n",
       "      <td>3570</td>\n",
       "      <td>320000.0</td>\n",
       "      <td>1480.0</td>\n",
       "      <td>-7.58</td>\n",
       "      <td>5</td>\n",
       "      <td>Red</td>\n",
       "    </tr>\n",
       "    <tr>\n",
       "      <th>113</th>\n",
       "      <td>3399</td>\n",
       "      <td>117000.0</td>\n",
       "      <td>1486.0</td>\n",
       "      <td>-10.92</td>\n",
       "      <td>5</td>\n",
       "      <td>Red</td>\n",
       "    </tr>\n",
       "    <tr>\n",
       "      <th>230</th>\n",
       "      <td>24145</td>\n",
       "      <td>382993.0</td>\n",
       "      <td>1494.0</td>\n",
       "      <td>-8.84</td>\n",
       "      <td>5</td>\n",
       "      <td>Blue-white</td>\n",
       "    </tr>\n",
       "    <tr>\n",
       "      <th>50</th>\n",
       "      <td>3490</td>\n",
       "      <td>270000.0</td>\n",
       "      <td>1520.0</td>\n",
       "      <td>-9.40</td>\n",
       "      <td>5</td>\n",
       "      <td>Red</td>\n",
       "    </tr>\n",
       "    <tr>\n",
       "      <th>114</th>\n",
       "      <td>3610</td>\n",
       "      <td>132000.0</td>\n",
       "      <td>1522.0</td>\n",
       "      <td>-10.86</td>\n",
       "      <td>5</td>\n",
       "      <td>Red</td>\n",
       "    </tr>\n",
       "    <tr>\n",
       "      <th>116</th>\n",
       "      <td>4015</td>\n",
       "      <td>282000.0</td>\n",
       "      <td>1534.0</td>\n",
       "      <td>-11.39</td>\n",
       "      <td>5</td>\n",
       "      <td>Red</td>\n",
       "    </tr>\n",
       "    <tr>\n",
       "      <th>59</th>\n",
       "      <td>3535</td>\n",
       "      <td>195000.0</td>\n",
       "      <td>1546.0</td>\n",
       "      <td>-11.36</td>\n",
       "      <td>5</td>\n",
       "      <td>Red</td>\n",
       "    </tr>\n",
       "    <tr>\n",
       "      <th>175</th>\n",
       "      <td>3614</td>\n",
       "      <td>145000.0</td>\n",
       "      <td>1553.0</td>\n",
       "      <td>-7.71</td>\n",
       "      <td>5</td>\n",
       "      <td>Red</td>\n",
       "    </tr>\n",
       "    <tr>\n",
       "      <th>112</th>\n",
       "      <td>3615</td>\n",
       "      <td>200000.0</td>\n",
       "      <td>1635.0</td>\n",
       "      <td>-11.33</td>\n",
       "      <td>5</td>\n",
       "      <td>Red</td>\n",
       "    </tr>\n",
       "    <tr>\n",
       "      <th>53</th>\n",
       "      <td>3749</td>\n",
       "      <td>550000.0</td>\n",
       "      <td>1648.0</td>\n",
       "      <td>-8.05</td>\n",
       "      <td>5</td>\n",
       "      <td>Orange</td>\n",
       "    </tr>\n",
       "    <tr>\n",
       "      <th>56</th>\n",
       "      <td>3660</td>\n",
       "      <td>363000.0</td>\n",
       "      <td>1673.0</td>\n",
       "      <td>-11.92</td>\n",
       "      <td>5</td>\n",
       "      <td>Red</td>\n",
       "    </tr>\n",
       "    <tr>\n",
       "      <th>173</th>\n",
       "      <td>26000</td>\n",
       "      <td>316000.0</td>\n",
       "      <td>1679.0</td>\n",
       "      <td>-9.10</td>\n",
       "      <td>5</td>\n",
       "      <td>Blue</td>\n",
       "    </tr>\n",
       "    <tr>\n",
       "      <th>177</th>\n",
       "      <td>11000</td>\n",
       "      <td>170000.0</td>\n",
       "      <td>1779.0</td>\n",
       "      <td>-9.90</td>\n",
       "      <td>5</td>\n",
       "      <td>Blue-white</td>\n",
       "    </tr>\n",
       "    <tr>\n",
       "      <th>239</th>\n",
       "      <td>37882</td>\n",
       "      <td>294903.0</td>\n",
       "      <td>1783.0</td>\n",
       "      <td>-7.80</td>\n",
       "      <td>5</td>\n",
       "      <td>Blue</td>\n",
       "    </tr>\n",
       "    <tr>\n",
       "      <th>232</th>\n",
       "      <td>32489</td>\n",
       "      <td>648430.0</td>\n",
       "      <td>1948.5</td>\n",
       "      <td>-10.84</td>\n",
       "      <td>5</td>\n",
       "      <td>Blue</td>\n",
       "    </tr>\n",
       "  </tbody>\n",
       "</table>\n",
       "</div>"
      ],
      "text/plain": [
       "     Temperature (K)  Luminosity(L/Lo)  Radius(R/Ro)  Absolute magnitude(Mv)  \\\n",
       "178            12100          120000.0         708.9                   -7.84   \n",
       "117             3625           74000.0         876.0                  -10.25   \n",
       "58              3752          209000.0         955.0                  -11.24   \n",
       "176            18000          200000.0        1045.0                   -8.30   \n",
       "238             9235          404940.0        1112.0                  -11.23   \n",
       "111             3605          126000.0        1124.0                  -10.81   \n",
       "234            21904          748490.0        1130.0                   -7.67   \n",
       "179            24490          248490.0        1134.5                   -8.24   \n",
       "52              3834          272000.0        1183.0                   -9.20   \n",
       "174             3600          240000.0        1190.0                   -7.89   \n",
       "236            30839          834042.0        1194.0                  -10.63   \n",
       "233            27739          849420.0        1252.0                   -7.59   \n",
       "51              3750          283000.0        1260.0                   -7.63   \n",
       "57              3450          174000.0        1284.0                  -11.28   \n",
       "110             3459          100000.0        1289.0                  -10.70   \n",
       "172             4287          630000.0        1315.0                   -9.20   \n",
       "119             3780          200000.0        1324.0                  -10.70   \n",
       "115             3553          145000.0        1324.0                  -11.03   \n",
       "54              3650          310000.0        1324.0                   -7.79   \n",
       "55              3450          263000.0        1349.0                  -11.75   \n",
       "235            38940          374830.0        1356.0                   -9.93   \n",
       "231            38234          272830.0        1356.0                   -9.29   \n",
       "171             3500          138000.0        1420.0                   -8.18   \n",
       "237             8829          537493.0        1423.0                  -10.73   \n",
       "118             6850          229000.0        1467.0                  -10.07   \n",
       "170             3570          320000.0        1480.0                   -7.58   \n",
       "113             3399          117000.0        1486.0                  -10.92   \n",
       "230            24145          382993.0        1494.0                   -8.84   \n",
       "50              3490          270000.0        1520.0                   -9.40   \n",
       "114             3610          132000.0        1522.0                  -10.86   \n",
       "116             4015          282000.0        1534.0                  -11.39   \n",
       "59              3535          195000.0        1546.0                  -11.36   \n",
       "175             3614          145000.0        1553.0                   -7.71   \n",
       "112             3615          200000.0        1635.0                  -11.33   \n",
       "53              3749          550000.0        1648.0                   -8.05   \n",
       "56              3660          363000.0        1673.0                  -11.92   \n",
       "173            26000          316000.0        1679.0                   -9.10   \n",
       "177            11000          170000.0        1779.0                   -9.90   \n",
       "239            37882          294903.0        1783.0                   -7.80   \n",
       "232            32489          648430.0        1948.5                  -10.84   \n",
       "\n",
       "     Star type  Star color  \n",
       "178          5  Blue-white  \n",
       "117          5         Red  \n",
       "58           5         Red  \n",
       "176          5        Blue  \n",
       "238          5       White  \n",
       "111          5         Red  \n",
       "234          5  Blue-white  \n",
       "179          5  Blue-white  \n",
       "52           5         Red  \n",
       "174          5         Red  \n",
       "236          5        Blue  \n",
       "233          5  Blue-white  \n",
       "51           5         Red  \n",
       "57           5         Red  \n",
       "110          5         Red  \n",
       "172          5      Orange  \n",
       "119          5         Red  \n",
       "115          5         Red  \n",
       "54           5         Red  \n",
       "55           5         Red  \n",
       "235          5        Blue  \n",
       "231          5        Blue  \n",
       "171          5         Red  \n",
       "237          5       White  \n",
       "118          5         Red  \n",
       "170          5         Red  \n",
       "113          5         Red  \n",
       "230          5  Blue-white  \n",
       "50           5         Red  \n",
       "114          5         Red  \n",
       "116          5         Red  \n",
       "59           5         Red  \n",
       "175          5         Red  \n",
       "112          5         Red  \n",
       "53           5      Orange  \n",
       "56           5         Red  \n",
       "173          5        Blue  \n",
       "177          5  Blue-white  \n",
       "239          5        Blue  \n",
       "232          5        Blue  "
      ]
     },
     "metadata": {},
     "output_type": "display_data"
    }
   ],
   "source": [
    "display(df.loc[df['Radius(R/Ro)'] > 500].sort_values(by=['Radius(R/Ro)']))"
   ]
  },
  {
   "cell_type": "markdown",
   "id": "feaa195b",
   "metadata": {},
   "source": [
    "#### Вывод\n",
    "\n",
    "1. Набор данных содержит 6 признаков и 240 наблюдений. \n",
    "\n",
    "2. Набор данных содержит 6 признаков:\n",
    "    * Категориальные признаки:\n",
    "        * `Star type`;\n",
    "        * `Star color`.\n",
    "    * Количественные признаки:\n",
    "        * `Luminosity(L/Lo)`;\n",
    "        * `Radius(R/Ro)`;\n",
    "        * `Absolute magnitude(Mv)`.\n",
    "    * Целевой признак -- `Temperature (K)`.\n",
    "\n",
    "    `Temperature (K)` - медианное значение стоит выше 5000 (К), в целом в наборе данных большинство наблюдений имеет температуру звезды примерно 3500-4000 Кельвинов, что является среднестатистической нормой температуры звёзд. Но существуют значения, которые выходят за пределы усов диаграммы размаха  (>32500 Кельвинов), не будем удалять эти значения, потому что подобная температура звёзд возможна.\n",
    "\n",
    "    `Luminosity(L/Lo)` - большинство звёзд в наборе данных имеют низкую светимость относительно солнца.\n",
    "\n",
    "    `Radius(R/Ro)` -  большинство наблюдений имеют меньший радиус, по сравнению с солнцем.\n",
    "\n",
    "    `Absolute magnitude(Mv)` - признак без выбросов, который имеет бимодальное распределение, практически зеркальное в отрицательной и положительной частях графика. Меньше всего значений в диапазоне 0-5.\n",
    "\n",
    "    `Star type` - категориальный столбец, по которому мы можем увидеть, что нам предоставили по 40 наблюдений каждого класса.\n",
    "\n",
    "3. Пропусков и явных дубликатов в данных нет. \n",
    "\n",
    "4. Есть неявные дубликаты в признаке `Star color`.\n"
   ]
  },
  {
   "cell_type": "markdown",
   "id": "simple-subdivision",
   "metadata": {},
   "source": [
    "## Предобработка и анализ данных"
   ]
  },
  {
   "cell_type": "code",
   "execution_count": 18,
   "id": "flush-dream",
   "metadata": {},
   "outputs": [
    {
     "data": {
      "text/plain": [
       "'Количество уникальных значений признака Star type: 6'"
      ]
     },
     "metadata": {},
     "output_type": "display_data"
    },
    {
     "data": {
      "text/plain": [
       "'Уникальные значения пирзнака Star type:'"
      ]
     },
     "metadata": {},
     "output_type": "display_data"
    },
    {
     "data": {
      "text/plain": [
       "[0, 1, 2, 3, 4, 5]"
      ]
     },
     "metadata": {},
     "output_type": "display_data"
    },
    {
     "data": {
      "text/plain": [
       "'------------------------------------------------------------------------'"
      ]
     },
     "metadata": {},
     "output_type": "display_data"
    },
    {
     "data": {
      "text/plain": [
       "'Количество уникальных значений признака Star color: 12'"
      ]
     },
     "metadata": {},
     "output_type": "display_data"
    },
    {
     "data": {
      "text/plain": [
       "'Уникальные значения пирзнака Star color:'"
      ]
     },
     "metadata": {},
     "output_type": "display_data"
    },
    {
     "data": {
      "text/plain": [
       "['red',\n",
       " 'blue white',\n",
       " 'white',\n",
       " 'yellowish white',\n",
       " 'pale yellow orange',\n",
       " 'blue',\n",
       " 'blue-white',\n",
       " 'whitish',\n",
       " 'white-yellow',\n",
       " 'orange',\n",
       " 'yellowish',\n",
       " 'orange-red']"
      ]
     },
     "metadata": {},
     "output_type": "display_data"
    },
    {
     "data": {
      "text/plain": [
       "'------------------------------------------------------------------------'"
      ]
     },
     "metadata": {},
     "output_type": "display_data"
    }
   ],
   "source": [
    "# неявные дубликаты\n",
    "df['Star color'] = df['Star color'].replace('blue white', 'blue-white')\n",
    "df['Star color'] = df['Star color'].replace(['yellow-white', 'yellowish white'], 'white-yellow')\n",
    "df['Star color'] = df['Star color'].str.lower()\n",
    "df['Star color'] = df['Star color'].str.strip(to_strip = None)\n",
    "uniqueness(cat_columns, df)"
   ]
  },
  {
   "cell_type": "markdown",
   "id": "1f1e9d9f",
   "metadata": {},
   "source": [
    "#### Вывод\n",
    "По результатам предобработки данных были исправлены ошибки в столбце Star color, связанные с неявными дубликатами в словах, что позволило сократить количество уникальных значений с 19 до 12 штук."
   ]
  },
  {
   "cell_type": "markdown",
   "id": "e592c028",
   "metadata": {},
   "source": [
    "### Корреляция"
   ]
  },
  {
   "cell_type": "code",
   "execution_count": 19,
   "id": "forced-concentrate",
   "metadata": {},
   "outputs": [
    {
     "name": "stdout",
     "output_type": "stream",
     "text": [
      "interval columns not set, guessing: ['Temperature (K)', 'Luminosity(L/Lo)', 'Radius(R/Ro)', 'Absolute magnitude(Mv)', 'Star type']\n"
     ]
    },
    {
     "data": {
      "image/png": "[encoded data removed]",
      "text/plain": [
       "<Figure size 864x864 with 2 Axes>"
      ]
     },
     "metadata": {
      "needs_background": "light"
     },
     "output_type": "display_data"
    }
   ],
   "source": [
    "# Корреляция Phik\n",
    "\n",
    "phik_overview = df.phik_matrix()\n",
    "phik_overview.round(2)\n",
    "\n",
    "plot_correlation_matrix(phik_overview.values,\n",
    "                        x_labels=phik_overview.columns,\n",
    "                        y_labels=phik_overview.index,\n",
    "                        vmin=0, vmax=1, color_map=\"Blues\",\n",
    "                        title=r\"Корреляция $\\phi_K$\",\n",
    "                        fontsize_factor=1.5,\n",
    "                        figsize=(12, 12))\n",
    "plt.tight_layout()\n",
    "plt.show()"
   ]
  },
  {
   "cell_type": "code",
   "execution_count": 20,
   "id": "a322e6ac",
   "metadata": {},
   "outputs": [
    {
     "data": {
      "image/png": "[encoded data removed]",
      "text/plain": [
       "<Figure size 720x504 with 2 Axes>"
      ]
     },
     "metadata": {
      "needs_background": "light"
     },
     "output_type": "display_data"
    }
   ],
   "source": [
    "# Статзначимость\n",
    "\n",
    "significance_overview = df.significance_matrix(interval_cols=['Temperature (K)', 'Luminosity(L/Lo)', 'Radius(R/Ro)', 'Absolute magnitude(Mv)', 'Star type'])\n",
    "plot_correlation_matrix(significance_overview.fillna(0).values,\n",
    "                        x_labels=significance_overview.columns,\n",
    "                        y_labels=significance_overview.index,\n",
    "                        vmin=-5, vmax=5, title=\"Статистическая значимость признаков\",\n",
    "                        usetex=False, fontsize_factor=1.5, figsize=(10, 7), color_map=\"Blues\")\n",
    "plt.tight_layout()"
   ]
  },
  {
   "cell_type": "code",
   "execution_count": 21,
   "id": "7963ef90",
   "metadata": {},
   "outputs": [
    {
     "data": {
      "image/png": "[encoded data removed]",
      "text/plain": [
       "<Figure size 288x504 with 2 Axes>"
      ]
     },
     "metadata": {
      "needs_background": "light"
     },
     "output_type": "display_data"
    }
   ],
   "source": [
    "# Корреляция целевого признака\n",
    "plt.figure(figsize=(4, 7))\n",
    "sns.heatmap(phik_overview.sort_values(by = 'Temperature (K)',\n",
    "                                      ascending=False)[['Temperature (K)']],\n",
    "                                      cmap='Blues', annot=True,\n",
    "                                      annot_kws={'size':16},\n",
    "                                      fmt='.2g')\n",
    "plt.title('Корреляция по таргету', fontsize=20)\n",
    "plt.show()"
   ]
  },
  {
   "cell_type": "code",
   "execution_count": 22,
   "id": "a5fb4af4",
   "metadata": {},
   "outputs": [
    {
     "data": {
      "image/png": "[encoded data removed]",
      "text/plain": [
       "<Figure size 252x288 with 2 Axes>"
      ]
     },
     "metadata": {
      "needs_background": "light"
     },
     "output_type": "display_data"
    }
   ],
   "source": [
    "global_correlation, global_labels = df.global_phik(interval_cols=numeric_columns)\n",
    "\n",
    "plot_correlation_matrix(global_correlation,\n",
    "                        x_labels=[''],\n",
    "                        y_labels=global_labels,\n",
    "                        vmin=0,\n",
    "                        vmax=1,\n",
    "                        figsize=(3.5,4),\n",
    "                        color_map=\"Blues\",\n",
    "                        title=r\"$g_k$\",\n",
    "                        fontsize_factor=1.5)\n",
    "plt.tight_layout()"
   ]
  },
  {
   "cell_type": "markdown",
   "id": "5ae02522",
   "metadata": {},
   "source": [
    "#### Вывод\n",
    "Мультикорреляция между столбцом `Star type` и `Absolute magnitude(Mv)`, равная 90% по корреляции phik. Но статзначимость равная- 21,61, поэтому оставим эти оба этих признака.\n",
    "\n",
    "Зависимость целевого признака с признаками:\n",
    "\n",
    "`Luminosity(L/Lo)` - 56% корреляция. Относительная светимость зависит от температуры.\n",
    "\n",
    "`Absolute magnitude(Mv)` - 71% корреляция. Абсолютная звёздная величина схожа с понятием относительная светимость.\n",
    "\n",
    "`Star color` - 69% корреляция. Главным фактором температуры звезды является его цвет.\n",
    "\n",
    "`Star type` - 60% корреляцияс нашим признаком. Всё просто у нас есть пять основных типов звёзд и по ним возможно понять их температуру, с точки зрения статистики и наблюдений.\n",
    "\n",
    "`Radius(R/Ro)` - 24%. "
   ]
  },
  {
   "cell_type": "markdown",
   "id": "funded-electric",
   "metadata": {},
   "source": [
    "## Построение базовой нейронной сети"
   ]
  },
  {
   "cell_type": "markdown",
   "id": "05593e32",
   "metadata": {},
   "source": [
    "### Подготовка данных"
   ]
  },
  {
   "cell_type": "code",
   "execution_count": 30,
   "id": "60eff8b7",
   "metadata": {
    "scrolled": true
   },
   "outputs": [
    {
     "data": {
      "text/plain": [
       "(192, 5)"
      ]
     },
     "metadata": {},
     "output_type": "display_data"
    },
    {
     "data": {
      "text/plain": [
       "(48, 5)"
      ]
     },
     "metadata": {},
     "output_type": "display_data"
    },
    {
     "data": {
      "text/plain": [
       "(192,)"
      ]
     },
     "metadata": {},
     "output_type": "display_data"
    },
    {
     "data": {
      "text/plain": [
       "(48,)"
      ]
     },
     "metadata": {},
     "output_type": "display_data"
    }
   ],
   "source": [
    "# Разделим нашу выборку\n",
    "X_train, X_test, y_train, y_test = train_test_split(df.drop('Temperature (K)', axis = 1),\n",
    "                                                    df['Temperature (K)'],\n",
    "                                                    test_size=0.2,\n",
    "                                                    shuffle=True,\n",
    "                                                    random_state=1)\n",
    "\n",
    "display(X_train.shape, X_test.shape, y_train.shape, y_test.shape)"
   ]
  },
  {
   "cell_type": "code",
   "execution_count": 31,
   "id": "5728204a",
   "metadata": {},
   "outputs": [],
   "source": [
    "numeric_features = ['Luminosity(L/Lo)', 'Radius(R/Ro)',\n",
    "                   'Absolute magnitude(Mv)']\n",
    "cat_features = ['Star type', 'Star color']"
   ]
  },
  {
   "cell_type": "code",
   "execution_count": 32,
   "id": "757f00b6",
   "metadata": {},
   "outputs": [],
   "source": [
    "col_transformer = ColumnTransformer(\n",
    "                        transformers=[\n",
    "                            ('scaler', StandardScaler(), numeric_features),\n",
    "                            ('ohe', OneHotEncoder(sparse=False), cat_features)],\n",
    "                                remainder=\"passthrough\"\n",
    "                                  )\n",
    "\n",
    "col_transformer.fit(df.drop('Temperature (K)', axis=1))\n",
    "X_train = col_transformer.transform(X_train)\n",
    "X_test = col_transformer.transform(X_test)"
   ]
  },
  {
   "cell_type": "code",
   "execution_count": 34,
   "id": "4b86c96a",
   "metadata": {},
   "outputs": [
    {
     "data": {
      "text/plain": [
       "array([-0.59862356, -0.45920992,  1.11674535,  1.        ,  0.        ,\n",
       "        0.        ,  0.        ,  0.        ,  0.        ,  0.        ,\n",
       "        0.        ,  0.        ,  0.        ,  0.        ,  0.        ,\n",
       "        1.        ,  0.        ,  0.        ,  0.        ,  0.        ,\n",
       "        0.        ])"
      ]
     },
     "execution_count": 34,
     "metadata": {},
     "output_type": "execute_result"
    }
   ],
   "source": [
    "X_train[0]"
   ]
  },
  {
   "cell_type": "code",
   "execution_count": 35,
   "id": "acceptable-forwarding",
   "metadata": {},
   "outputs": [],
   "source": [
    "# Перевод выборки в тензоры\n",
    "X_train = torch.FloatTensor(np.array(X_train))\n",
    "X_test = torch.FloatTensor(np.array(X_test))\n",
    "y_train = torch.FloatTensor(np.array(y_train))\n",
    "y_test = torch.FloatTensor(np.array(y_test))"
   ]
  },
  {
   "cell_type": "code",
   "execution_count": 36,
   "id": "610d1589",
   "metadata": {},
   "outputs": [
    {
     "data": {
      "text/plain": [
       "tensor([-0.5986, -0.4592,  1.1167,  1.0000,  0.0000,  0.0000,  0.0000,  0.0000,\n",
       "         0.0000,  0.0000,  0.0000,  0.0000,  0.0000,  0.0000,  0.0000,  1.0000,\n",
       "         0.0000,  0.0000,  0.0000,  0.0000,  0.0000])"
      ]
     },
     "execution_count": 36,
     "metadata": {},
     "output_type": "execute_result"
    }
   ],
   "source": [
    "X_train[0]"
   ]
  },
  {
   "cell_type": "markdown",
   "id": "a7f7fc7b",
   "metadata": {},
   "source": [
    "### Создание нейросети"
   ]
  },
  {
   "cell_type": "code",
   "execution_count": 26,
   "id": "b404e7a2",
   "metadata": {},
   "outputs": [],
   "source": [
    "# Создание ПНС\n",
    "class Net(nn.Module):\n",
    "    def __init__(self, n_in_neurons, n_hidden_neurons_1, n_hidden_neurons_2, n_out_neurons,drop_out):\n",
    "            super(Net, self).__init__()\n",
    "\n",
    "            self.fc1 = nn.Linear(n_in_neurons, n_hidden_neurons_1)\n",
    "            self.act1 = nn.ReLU()\n",
    "            self.dp2 = drop_out\n",
    "            self.fc2 = nn.Linear(n_hidden_neurons_1, n_hidden_neurons_2)\n",
    "            self.act2 = nn.ReLU()\n",
    "            self.fc3 = nn.Linear(n_hidden_neurons_2, n_out_neurons)\n",
    "\n",
    "    def forward(self, x):\n",
    "        x = self.fc1(x)\n",
    "        x = self.act1(x)\n",
    "        x = self.fc2(x)\n",
    "        x = self.act2(x)\n",
    "        x = self.fc3(x)\n",
    "\n",
    "        return x"
   ]
  },
  {
   "cell_type": "code",
   "execution_count": 27,
   "id": "58346201",
   "metadata": {},
   "outputs": [],
   "source": [
    "n_in_neurons = X_train.shape[1]\n",
    "n_hidden_neurons_1 = 15\n",
    "n_hidden_neurons_2 = 10\n",
    "n_out_neurons = 1\n",
    "\n",
    "net = Net(n_in_neurons, n_hidden_neurons_1, n_hidden_neurons_2, n_out_neurons, drop_out=0)\n",
    "optimizer = torch.optim.Adam(net.parameters(), lr=1e-3)\n",
    "loss = nn.MSELoss()"
   ]
  },
  {
   "cell_type": "code",
   "execution_count": 28,
   "id": "da0a1965",
   "metadata": {},
   "outputs": [],
   "source": [
    "dataset_train = torch.utils.data.TensorDataset(X_train, y_train)\n",
    "dataset_test = torch.utils.data.TensorDataset(X_test, y_test)\n",
    "\n",
    "train_dataloader = DataLoader(dataset_train, batch_size=40, shuffle=True,\n",
    "                              num_workers=0)\n",
    "test_dataloader = DataLoader(dataset_test, batch_size=40, num_workers=0)"
   ]
  },
  {
   "cell_type": "code",
   "execution_count": 29,
   "id": "5334df51",
   "metadata": {},
   "outputs": [],
   "source": [
    "class CustomEarlyStopping():\n",
    "    \"\"\"\n",
    "    Ранняя остановка, чтобы остановить тренировку, когда потеря не улучшается после определенной эпохи.\n",
    "    \"\"\"\n",
    "    def __init__(self, patience=5, min_delta=0):\n",
    "        \"\"\"\n",
    "        :param patience: сколько эпох ждать, прежде чем остановиться, когда потеря не улучшается\n",
    "        :param min_delta: минимальная разница между loss/метриками, если улучшений нет, то остановим обучение\n",
    "        \"\"\"\n",
    "        self.patience = patience\n",
    "        self.min_delta = min_delta\n",
    "        self.counter = 0\n",
    "        self.best_loss = None\n",
    "        self.early_stop = False\n",
    "\n",
    "    def __call__(self, val_loss):\n",
    "        if self.best_loss == None:\n",
    "            self.best_loss = val_loss\n",
    "        elif self.best_loss - val_loss > self.min_delta:\n",
    "            self.best_loss = val_loss\n",
    "            self.counter = 0\n",
    "        elif self.best_loss - val_loss < self.min_delta:\n",
    "            self.counter += 1\n",
    "            print(f\"INFO: Early stopping counter {self.counter} of {self.patience}\")\n",
    "            if self.counter >= self.patience:\n",
    "                print('INFO: Early stopping')\n",
    "                self.early_stop = True"
   ]
  },
  {
   "cell_type": "code",
   "execution_count": 30,
   "id": "3766a4de",
   "metadata": {},
   "outputs": [],
   "source": [
    "def fit_net(net):\n",
    "    early_stopping = CustomEarlyStopping(patience=5, min_delta=20)\n",
    "\n",
    "    num_epochs = 100001\n",
    "    val_loss = []\n",
    "    train_loss = []\n",
    "    for epoch in range(num_epochs):\n",
    "        net.train()\n",
    "        train_loss_batches = []\n",
    "        for batch in train_dataloader:\n",
    "            data_train, temperature_train = batch\n",
    "            optimizer.zero_grad()\n",
    "\n",
    "            preds = net.forward(data_train).flatten()\n",
    "\n",
    "            loss_value = torch.sqrt(loss(preds, temperature_train))\n",
    "            loss_value.backward()\n",
    "            optimizer.step()\n",
    "            loss_value = loss_value.detach().numpy().reshape([-1])\n",
    "        train_loss_batches.append(loss_value)\n",
    "        if epoch % 200 == 0:\n",
    "            predicted_temp = []\n",
    "            with torch.no_grad():\n",
    "                net.eval()\n",
    "                for batch in test_dataloader:\n",
    "                    data_test, temperature_test = batch\n",
    "\n",
    "                    test_preds = net.forward(data_test).flatten()\n",
    "                    predicted_temp.append(test_preds)\n",
    "                    RMSE_loss = torch.sqrt(loss(test_preds, temperature_test))\n",
    "\n",
    "            predicted_temp = torch.cat(predicted_temp).detach().numpy()\n",
    "            RMSE = mean_squared_error(y_test, predicted_temp, squared=False)\n",
    "            early_stopping(RMSE)\n",
    "            if early_stopping.counter == 0:\n",
    "                best_rmse = RMSE\n",
    "                best_predicted_temp = predicted_temp\n",
    "                val_loss.append(best_rmse)\n",
    "                train_loss.append(np.mean(train_loss_batches))\n",
    "            print(f\"epoch:{epoch}, RMSE test: {RMSE}\")\n",
    "\n",
    "            if early_stopping.early_stop:\n",
    "                print('Early Stoppning!!!')\n",
    "                print(f'Best RMSE test {best_rmse}')\n",
    "                try:rmse_optimizers.append(round(best_rmse, 2))\n",
    "                except: None\n",
    "                break\n",
    "    return val_loss, train_loss, predicted_temp"
   ]
  },
  {
   "cell_type": "code",
   "execution_count": 31,
   "id": "48347253",
   "metadata": {
    "scrolled": false
   },
   "outputs": [
    {
     "name": "stdout",
     "output_type": "stream",
     "text": [
      "epoch:0, RMSE test: 15201.3037109375\n",
      "epoch:200, RMSE test: 13995.9462890625\n",
      "epoch:400, RMSE test: 9472.173828125\n",
      "epoch:600, RMSE test: 7629.2119140625\n",
      "epoch:800, RMSE test: 7103.06884765625\n",
      "epoch:1000, RMSE test: 6591.98193359375\n",
      "epoch:1200, RMSE test: 6133.720703125\n",
      "epoch:1400, RMSE test: 5767.48193359375\n",
      "epoch:1600, RMSE test: 5514.2626953125\n",
      "epoch:1800, RMSE test: 5350.83984375\n",
      "epoch:2000, RMSE test: 5250.98828125\n",
      "epoch:2200, RMSE test: 5174.19580078125\n",
      "epoch:2400, RMSE test: 5112.6064453125\n",
      "epoch:2600, RMSE test: 5053.67529296875\n",
      "epoch:2800, RMSE test: 4998.7685546875\n",
      "epoch:3000, RMSE test: 4953.3662109375\n",
      "epoch:3200, RMSE test: 4909.001953125\n",
      "epoch:3400, RMSE test: 4876.65966796875\n",
      "epoch:3600, RMSE test: 4846.06201171875\n",
      "epoch:3800, RMSE test: 4821.24853515625\n",
      "INFO: Early stopping counter 1 of 5\n",
      "epoch:4000, RMSE test: 4802.21435546875\n",
      "epoch:4200, RMSE test: 4780.5986328125\n",
      "epoch:4400, RMSE test: 4755.47021484375\n",
      "INFO: Early stopping counter 1 of 5\n",
      "epoch:4600, RMSE test: 4747.38671875\n",
      "epoch:4800, RMSE test: 4728.4951171875\n",
      "INFO: Early stopping counter 1 of 5\n",
      "epoch:5000, RMSE test: 4718.05908203125\n",
      "epoch:5200, RMSE test: 4694.521484375\n",
      "INFO: Early stopping counter 1 of 5\n",
      "epoch:5400, RMSE test: 4681.17333984375\n",
      "INFO: Early stopping counter 2 of 5\n",
      "epoch:5600, RMSE test: 4674.58740234375\n",
      "INFO: Early stopping counter 3 of 5\n",
      "epoch:5800, RMSE test: 4676.708984375\n",
      "epoch:6000, RMSE test: 4671.2255859375\n",
      "INFO: Early stopping counter 1 of 5\n",
      "epoch:6200, RMSE test: 4674.919921875\n",
      "INFO: Early stopping counter 2 of 5\n",
      "epoch:6400, RMSE test: 4667.921875\n",
      "INFO: Early stopping counter 3 of 5\n",
      "epoch:6600, RMSE test: 4666.44775390625\n",
      "INFO: Early stopping counter 4 of 5\n",
      "epoch:6800, RMSE test: 4666.49462890625\n",
      "INFO: Early stopping counter 5 of 5\n",
      "INFO: Early stopping\n",
      "epoch:7000, RMSE test: 4666.046875\n",
      "Early Stoppning!!!\n",
      "Best RMSE test 4671.2255859375\n"
     ]
    }
   ],
   "source": [
    "_,_,predicted_temp = fit_net(net)"
   ]
  },
  {
   "cell_type": "code",
   "execution_count": 32,
   "id": "227db00a",
   "metadata": {},
   "outputs": [],
   "source": [
    "def fact_forecast(test_preds, y_test):\n",
    "\n",
    "    '''Функция для визуализации качества регрессии \"Факт-прогноз\"'''\n",
    "\n",
    "    y1 = torch.FloatTensor(test_preds)\n",
    "    y1 = y1.detach().numpy().reshape([-1])\n",
    "    y2 = y_test.detach().numpy().reshape([-1])\n",
    "    x = np.arange(len(y1))\n",
    "\n",
    "    fig,ax = plt.subplots()\n",
    "    fig.set_figwidth(18)\n",
    "    fig.set_figheight(8)\n",
    "    ax.set_xticks(x)\n",
    "    fact = ax.bar(x, y2, width = 0.6, label = 'Факт')\n",
    "    forecast = ax.bar(x, y1, width = 0.3, label = 'Прогноз')\n",
    "    ax.legend()\n",
    "    ax.set_title('График \"Факт-прогноз\"', fontsize=20)\n",
    "    ax.set_xlabel('Номер звезды')\n",
    "    ax.set_ylabel('Температура звезды')\n",
    "    plt.show()"
   ]
  },
  {
   "cell_type": "code",
   "execution_count": 33,
   "id": "02f90fc4",
   "metadata": {},
   "outputs": [
    {
     "data": {
      "image/png": "[encoded data removed]",
      "text/plain": [
       "<Figure size 1296x576 with 1 Axes>"
      ]
     },
     "metadata": {
      "needs_background": "light"
     },
     "output_type": "display_data"
    }
   ],
   "source": [
    "# Визуализация полученных значений\n",
    "fact_forecast(predicted_temp, y_test)"
   ]
  },
  {
   "cell_type": "markdown",
   "id": "b21ba8e8",
   "metadata": {},
   "source": [
    "#### Вывод\n",
    "1. Обучена baseline модель без перебора параметров. \n",
    "2. Лучшая метрика RMSE до начала переобучения равна 4268. \n",
    "3. График факт-прогноз показывает,что нейросеть хорошо прогнозирует температуру звёзд с минимальным отклонением до 5000 градусов по Кельвину. Далее нейросеть начинает ошибаться, то выше правильного ответа, то ниже. Предположительно, нейросети не хватило данных, чтобы правильно научиться на таком малом количестве данных."
   ]
  },
  {
   "cell_type": "markdown",
   "id": "growing-supply",
   "metadata": {},
   "source": [
    "## Улучшение нейронной сети"
   ]
  },
  {
   "cell_type": "code",
   "execution_count": 34,
   "id": "02fcbed0",
   "metadata": {},
   "outputs": [],
   "source": [
    "n_in_neurons = X_train.shape[1]\n",
    "n_hidden_neurons_1 = 15\n",
    "n_hidden_neurons_2 = 10\n",
    "n_out_neurons = 1\n",
    "\n",
    "net = Net(n_in_neurons, n_hidden_neurons_1, n_hidden_neurons_2, n_out_neurons, drop_out=nn.Dropout(p=0))\n",
    "optimizer1 = torch.optim.Adam(net.parameters(), lr=1e-3)\n",
    "optimizer2 = torch.optim.NAdam(net.parameters(), lr=1e-2)\n",
    "optimizer3 = torch.optim.Adamax(net.parameters(), lr=1e-2)\n",
    "optimizer4 = torch.optim.Adamax(net.parameters(), lr=1e-3)\n",
    "optimizer5 = torch.optim.Adam(net.parameters(), lr=1e-2)\n",
    "\n",
    "optimizers = [optimizer1, optimizer2, optimizer3, optimizer4, optimizer5]"
   ]
  },
  {
   "cell_type": "code",
   "execution_count": 35,
   "id": "a2a55452",
   "metadata": {
    "scrolled": true
   },
   "outputs": [
    {
     "name": "stdout",
     "output_type": "stream",
     "text": [
      "Adam (\n",
      "Parameter Group 0\n",
      "    amsgrad: False\n",
      "    betas: (0.9, 0.999)\n",
      "    eps: 1e-08\n",
      "    lr: 0.001\n",
      "    weight_decay: 0\n",
      ")\n",
      "-------------------------------------------------------------------------\n",
      "epoch:0, RMSE test: 15201.0986328125\n",
      "epoch:200, RMSE test: 13887.8349609375\n",
      "epoch:400, RMSE test: 9125.2978515625\n",
      "epoch:600, RMSE test: 7548.7470703125\n",
      "epoch:800, RMSE test: 6985.0498046875\n",
      "epoch:1000, RMSE test: 6449.923828125\n",
      "epoch:1200, RMSE test: 6001.26171875\n",
      "epoch:1400, RMSE test: 5663.84716796875\n",
      "epoch:1600, RMSE test: 5443.26708984375\n",
      "epoch:1800, RMSE test: 5309.5634765625\n",
      "epoch:2000, RMSE test: 5217.6943359375\n",
      "epoch:2200, RMSE test: 5144.06787109375\n",
      "epoch:2400, RMSE test: 5071.44873046875\n",
      "epoch:2600, RMSE test: 5003.88427734375\n",
      "epoch:2800, RMSE test: 4937.31298828125\n",
      "epoch:3000, RMSE test: 4876.73681640625\n",
      "epoch:3200, RMSE test: 4830.69921875\n",
      "epoch:3400, RMSE test: 4793.89013671875\n",
      "epoch:3600, RMSE test: 4761.31201171875\n",
      "INFO: Early stopping counter 1 of 5\n",
      "epoch:3800, RMSE test: 4746.72705078125\n",
      "epoch:4000, RMSE test: 4722.93359375\n",
      "INFO: Early stopping counter 1 of 5\n",
      "epoch:4200, RMSE test: 4708.14453125\n",
      "epoch:4400, RMSE test: 4691.57177734375\n",
      "INFO: Early stopping counter 1 of 5\n",
      "epoch:4600, RMSE test: 4690.4765625\n",
      "INFO: Early stopping counter 2 of 5\n",
      "epoch:4800, RMSE test: 4672.166015625\n",
      "epoch:5000, RMSE test: 4653.0009765625\n",
      "INFO: Early stopping counter 1 of 5\n",
      "epoch:5200, RMSE test: 4652.84326171875\n",
      "INFO: Early stopping counter 2 of 5\n",
      "epoch:5400, RMSE test: 4635.93701171875\n",
      "INFO: Early stopping counter 3 of 5\n",
      "epoch:5600, RMSE test: 4635.51220703125\n",
      "epoch:5800, RMSE test: 4614.740234375\n",
      "INFO: Early stopping counter 1 of 5\n",
      "epoch:6000, RMSE test: 4611.62353515625\n",
      "INFO: Early stopping counter 2 of 5\n",
      "epoch:6200, RMSE test: 4620.890625\n",
      "INFO: Early stopping counter 3 of 5\n",
      "epoch:6400, RMSE test: 4608.7265625\n",
      "INFO: Early stopping counter 4 of 5\n",
      "epoch:6600, RMSE test: 4609.06396484375\n",
      "INFO: Early stopping counter 5 of 5\n",
      "INFO: Early stopping\n",
      "epoch:6800, RMSE test: 4596.26416015625\n",
      "Early Stoppning!!!\n",
      "Best RMSE test 4614.740234375\n",
      "NAdam (\n",
      "Parameter Group 0\n",
      "    betas: (0.9, 0.999)\n",
      "    eps: 1e-08\n",
      "    lr: 0.01\n",
      "    momentum_decay: 0.004\n",
      "    weight_decay: 0\n",
      ")\n",
      "-------------------------------------------------------------------------\n",
      "epoch:0, RMSE test: 4610.78564453125\n",
      "epoch:200, RMSE test: 4439.8525390625\n",
      "epoch:400, RMSE test: 4297.79150390625\n",
      "epoch:600, RMSE test: 4241.16357421875\n",
      "INFO: Early stopping counter 1 of 5\n",
      "epoch:800, RMSE test: 4244.36669921875\n",
      "epoch:1000, RMSE test: 4117.02587890625\n",
      "INFO: Early stopping counter 1 of 5\n",
      "epoch:1200, RMSE test: 4179.4716796875\n",
      "epoch:1400, RMSE test: 4094.494873046875\n",
      "INFO: Early stopping counter 1 of 5\n",
      "epoch:1600, RMSE test: 4143.87060546875\n",
      "INFO: Early stopping counter 2 of 5\n",
      "epoch:1800, RMSE test: 4190.9052734375\n",
      "INFO: Early stopping counter 3 of 5\n",
      "epoch:2000, RMSE test: 4222.8466796875\n",
      "INFO: Early stopping counter 4 of 5\n",
      "epoch:2200, RMSE test: 4326.65283203125\n",
      "INFO: Early stopping counter 5 of 5\n",
      "INFO: Early stopping\n",
      "epoch:2400, RMSE test: 4690.2236328125\n",
      "Early Stoppning!!!\n",
      "Best RMSE test 4094.494873046875\n",
      "Adamax (\n",
      "Parameter Group 0\n",
      "    betas: (0.9, 0.999)\n",
      "    eps: 1e-08\n",
      "    lr: 0.01\n",
      "    weight_decay: 0\n",
      ")\n",
      "-------------------------------------------------------------------------\n",
      "epoch:0, RMSE test: 4727.08056640625\n",
      "INFO: Early stopping counter 1 of 5\n",
      "epoch:200, RMSE test: 4802.24462890625\n",
      "INFO: Early stopping counter 2 of 5\n",
      "epoch:400, RMSE test: 4848.41455078125\n",
      "INFO: Early stopping counter 3 of 5\n",
      "epoch:600, RMSE test: 4869.1708984375\n",
      "INFO: Early stopping counter 4 of 5\n",
      "epoch:800, RMSE test: 4918.59375\n",
      "INFO: Early stopping counter 5 of 5\n",
      "INFO: Early stopping\n",
      "epoch:1000, RMSE test: 4994.73779296875\n",
      "Early Stoppning!!!\n",
      "Best RMSE test 4727.08056640625\n",
      "Adamax (\n",
      "Parameter Group 0\n",
      "    betas: (0.9, 0.999)\n",
      "    eps: 1e-08\n",
      "    lr: 0.001\n",
      "    weight_decay: 0\n",
      ")\n",
      "-------------------------------------------------------------------------\n",
      "epoch:0, RMSE test: 4997.865234375\n",
      "INFO: Early stopping counter 1 of 5\n",
      "epoch:200, RMSE test: 4981.076171875\n",
      "INFO: Early stopping counter 2 of 5\n",
      "epoch:400, RMSE test: 4996.1025390625\n",
      "INFO: Early stopping counter 3 of 5\n",
      "epoch:600, RMSE test: 4988.8603515625\n",
      "INFO: Early stopping counter 4 of 5\n",
      "epoch:800, RMSE test: 5004.76611328125\n",
      "INFO: Early stopping counter 5 of 5\n",
      "INFO: Early stopping\n",
      "epoch:1000, RMSE test: 5009.65771484375\n",
      "Early Stoppning!!!\n",
      "Best RMSE test 4997.865234375\n",
      "Adam (\n",
      "Parameter Group 0\n",
      "    amsgrad: False\n",
      "    betas: (0.9, 0.999)\n",
      "    eps: 1e-08\n",
      "    lr: 0.01\n",
      "    weight_decay: 0\n",
      ")\n",
      "-------------------------------------------------------------------------\n",
      "epoch:0, RMSE test: 4889.921875\n",
      "INFO: Early stopping counter 1 of 5\n",
      "epoch:200, RMSE test: 5158.17236328125\n",
      "INFO: Early stopping counter 2 of 5\n",
      "epoch:400, RMSE test: 5225.90478515625\n",
      "INFO: Early stopping counter 3 of 5\n",
      "epoch:600, RMSE test: 5276.60888671875\n",
      "INFO: Early stopping counter 4 of 5\n",
      "epoch:800, RMSE test: 5395.00732421875\n",
      "INFO: Early stopping counter 5 of 5\n",
      "INFO: Early stopping\n",
      "epoch:1000, RMSE test: 5369.306640625\n",
      "Early Stoppning!!!\n",
      "Best RMSE test 4889.921875\n"
     ]
    }
   ],
   "source": [
    "rmse_optimizers = []\n",
    "\n",
    "for optimizer in optimizers:\n",
    "    print(optimizer)\n",
    "    print('-------------------------------------------------------------------------')\n",
    "    train_dataloader = DataLoader(dataset_train, batch_size=40, shuffle=True,\n",
    "                                      num_workers=0)\n",
    "    test_dataloader = DataLoader(dataset_test, batch_size=40, num_workers=0)\n",
    "    _,_, predicted_temp = fit_net(net)"
   ]
  },
  {
   "cell_type": "code",
   "execution_count": 36,
   "id": "ae960c00",
   "metadata": {},
   "outputs": [
    {
     "data": {
      "text/html": [
       "<div>\n",
       "<style scoped>\n",
       "    .dataframe tbody tr th:only-of-type {\n",
       "        vertical-align: middle;\n",
       "    }\n",
       "\n",
       "    .dataframe tbody tr th {\n",
       "        vertical-align: top;\n",
       "    }\n",
       "\n",
       "    .dataframe thead th {\n",
       "        text-align: right;\n",
       "    }\n",
       "</style>\n",
       "<table border=\"1\" class=\"dataframe\">\n",
       "  <thead>\n",
       "    <tr style=\"text-align: right;\">\n",
       "      <th></th>\n",
       "      <th>RMSE</th>\n",
       "    </tr>\n",
       "  </thead>\n",
       "  <tbody>\n",
       "    <tr>\n",
       "      <th>NAdam, lr: 0.01</th>\n",
       "      <td>4094.500000</td>\n",
       "    </tr>\n",
       "    <tr>\n",
       "      <th>Adam, lr: 0.001</th>\n",
       "      <td>4614.740234</td>\n",
       "    </tr>\n",
       "    <tr>\n",
       "      <th>Adamax, lr: 0.01</th>\n",
       "      <td>4727.080078</td>\n",
       "    </tr>\n",
       "    <tr>\n",
       "      <th>Adam, lr: 0.01</th>\n",
       "      <td>4889.919922</td>\n",
       "    </tr>\n",
       "    <tr>\n",
       "      <th>Adamax, lr: 0.001</th>\n",
       "      <td>4997.870117</td>\n",
       "    </tr>\n",
       "  </tbody>\n",
       "</table>\n",
       "</div>"
      ],
      "text/plain": [
       "                          RMSE\n",
       "NAdam, lr: 0.01    4094.500000\n",
       "Adam, lr: 0.001    4614.740234\n",
       "Adamax, lr: 0.01   4727.080078\n",
       "Adam, lr: 0.01     4889.919922\n",
       "Adamax, lr: 0.001  4997.870117"
      ]
     },
     "metadata": {},
     "output_type": "display_data"
    }
   ],
   "source": [
    "optimizers_rmse = pd.DataFrame(data = rmse_optimizers, index = ['Adam, lr: 0.001',\n",
    "                                                                'NAdam, lr: 0.01',\n",
    "                                                                'Adamax, lr: 0.01',\n",
    "                                                                'Adamax, lr: 0.001',\n",
    "                                                                'Adam, lr: 0.01'], columns = ['RMSE'])\n",
    "display(optimizers_rmse.sort_values(by='RMSE'))"
   ]
  },
  {
   "cell_type": "code",
   "execution_count": 37,
   "id": "53e2ce75",
   "metadata": {
    "scrolled": true
   },
   "outputs": [
    {
     "name": "stdout",
     "output_type": "stream",
     "text": [
      "batch_size - 10\n",
      "epoch:0, RMSE test: 5481.70556640625\n",
      "INFO: Early stopping counter 1 of 5\n",
      "epoch:200, RMSE test: 5561.56494140625\n",
      "epoch:400, RMSE test: 5132.86474609375\n",
      "epoch:600, RMSE test: 4992.09521484375\n",
      "INFO: Early stopping counter 1 of 5\n",
      "epoch:800, RMSE test: 5012.60546875\n",
      "epoch:1000, RMSE test: 4936.87353515625\n",
      "INFO: Early stopping counter 1 of 5\n",
      "epoch:1200, RMSE test: 5003.806640625\n",
      "INFO: Early stopping counter 2 of 5\n",
      "epoch:1400, RMSE test: 5083.42724609375\n",
      "INFO: Early stopping counter 3 of 5\n",
      "epoch:1600, RMSE test: 5385.93017578125\n",
      "INFO: Early stopping counter 4 of 5\n",
      "epoch:1800, RMSE test: 5363.6552734375\n",
      "INFO: Early stopping counter 5 of 5\n",
      "INFO: Early stopping\n",
      "epoch:2000, RMSE test: 5497.18798828125\n",
      "Early Stoppning!!!\n",
      "Best RMSE test 4936.87353515625\n",
      "batch_size - 20\n",
      "epoch:0, RMSE test: 5485.484375\n",
      "epoch:200, RMSE test: 5461.16650390625\n",
      "INFO: Early stopping counter 1 of 5\n",
      "epoch:400, RMSE test: 5462.54541015625\n",
      "epoch:600, RMSE test: 5342.962890625\n",
      "epoch:800, RMSE test: 5270.30419921875\n",
      "INFO: Early stopping counter 1 of 5\n",
      "epoch:1000, RMSE test: 5266.32666015625\n",
      "INFO: Early stopping counter 2 of 5\n",
      "epoch:1200, RMSE test: 5366.810546875\n",
      "INFO: Early stopping counter 3 of 5\n",
      "epoch:1400, RMSE test: 5536.939453125\n",
      "INFO: Early stopping counter 4 of 5\n",
      "epoch:1600, RMSE test: 5494.6708984375\n",
      "INFO: Early stopping counter 5 of 5\n",
      "INFO: Early stopping\n",
      "epoch:1800, RMSE test: 5523.03466796875\n",
      "Early Stoppning!!!\n",
      "Best RMSE test 5270.30419921875\n",
      "batch_size - 50\n",
      "epoch:0, RMSE test: 5554.099609375\n",
      "INFO: Early stopping counter 1 of 5\n",
      "epoch:200, RMSE test: 5624.634765625\n",
      "INFO: Early stopping counter 2 of 5\n",
      "epoch:400, RMSE test: 5695.55859375\n",
      "INFO: Early stopping counter 3 of 5\n",
      "epoch:600, RMSE test: 5758.44482421875\n",
      "INFO: Early stopping counter 4 of 5\n",
      "epoch:800, RMSE test: 5855.8779296875\n",
      "INFO: Early stopping counter 5 of 5\n",
      "INFO: Early stopping\n",
      "epoch:1000, RMSE test: 5867.24609375\n",
      "Early Stoppning!!!\n",
      "Best RMSE test 5554.099609375\n"
     ]
    }
   ],
   "source": [
    "batch_sizes = [10, 20, 50]\n",
    "rmse_optimizers = []\n",
    "for b_size in batch_sizes:\n",
    "\n",
    "    print(f'batch_size - {b_size}')\n",
    "    train_dataloader = DataLoader(dataset_train, batch_size=b_size, shuffle=True,\n",
    "                                  num_workers=0)\n",
    "    test_dataloader = DataLoader(dataset_test, batch_size=b_size, num_workers=0)\n",
    "    _,_, predicted_temp = fit_net(net)"
   ]
  },
  {
   "cell_type": "code",
   "execution_count": 38,
   "id": "d9636a29",
   "metadata": {},
   "outputs": [
    {
     "data": {
      "text/html": [
       "<div>\n",
       "<style scoped>\n",
       "    .dataframe tbody tr th:only-of-type {\n",
       "        vertical-align: middle;\n",
       "    }\n",
       "\n",
       "    .dataframe tbody tr th {\n",
       "        vertical-align: top;\n",
       "    }\n",
       "\n",
       "    .dataframe thead th {\n",
       "        text-align: right;\n",
       "    }\n",
       "</style>\n",
       "<table border=\"1\" class=\"dataframe\">\n",
       "  <thead>\n",
       "    <tr style=\"text-align: right;\">\n",
       "      <th></th>\n",
       "      <th>RMSE</th>\n",
       "    </tr>\n",
       "  </thead>\n",
       "  <tbody>\n",
       "    <tr>\n",
       "      <th>batch_sizes: 10</th>\n",
       "      <td>4936.870117</td>\n",
       "    </tr>\n",
       "    <tr>\n",
       "      <th>batch_sizes: 20</th>\n",
       "      <td>5270.299805</td>\n",
       "    </tr>\n",
       "    <tr>\n",
       "      <th>batch_sizes: 50</th>\n",
       "      <td>5554.100098</td>\n",
       "    </tr>\n",
       "  </tbody>\n",
       "</table>\n",
       "</div>"
      ],
      "text/plain": [
       "                        RMSE\n",
       "batch_sizes: 10  4936.870117\n",
       "batch_sizes: 20  5270.299805\n",
       "batch_sizes: 50  5554.100098"
      ]
     },
     "metadata": {},
     "output_type": "display_data"
    }
   ],
   "source": [
    "bs_rmse = pd.DataFrame(data = rmse_optimizers, index = ['batch_sizes: 10',\n",
    "                                                        'batch_sizes: 20',\n",
    "                                                        'batch_sizes: 50'], columns = ['RMSE'])\n",
    "display(bs_rmse.sort_values(by='RMSE'))"
   ]
  },
  {
   "cell_type": "code",
   "execution_count": 39,
   "id": "ab729348",
   "metadata": {},
   "outputs": [
    {
     "name": "stdout",
     "output_type": "stream",
     "text": [
      "epoch:0, RMSE test: 15197.3193359375\n",
      "epoch:200, RMSE test: 4772.13623046875\n",
      "epoch:400, RMSE test: 4356.15771484375\n",
      "epoch:600, RMSE test: 4185.8994140625\n",
      "epoch:800, RMSE test: 4106.08642578125\n",
      "INFO: Early stopping counter 1 of 5\n",
      "epoch:1000, RMSE test: 4109.927734375\n",
      "INFO: Early stopping counter 2 of 5\n",
      "epoch:1200, RMSE test: 4237.10791015625\n",
      "INFO: Early stopping counter 3 of 5\n",
      "epoch:1400, RMSE test: 4362.791015625\n",
      "INFO: Early stopping counter 4 of 5\n",
      "epoch:1600, RMSE test: 4321.814453125\n",
      "INFO: Early stopping counter 5 of 5\n",
      "INFO: Early stopping\n",
      "epoch:1800, RMSE test: 4362.4833984375\n",
      "Early Stoppning!!!\n",
      "Best RMSE test 4106.08642578125\n"
     ]
    }
   ],
   "source": [
    "n_in_neurons = X_train.shape[1]\n",
    "n_hidden_neurons_1 = 15\n",
    "n_hidden_neurons_2 = 10\n",
    "n_out_neurons = 1\n",
    "\n",
    "net = Net(n_in_neurons, n_hidden_neurons_1, n_hidden_neurons_2, n_out_neurons, drop_out = nn.Dropout(p=0.1))\n",
    "optimizer = torch.optim.NAdam(net.parameters(), lr=1e-2)\n",
    "loss = nn.MSELoss()\n",
    "\n",
    "dataset_train = torch.utils.data.TensorDataset(X_train, y_train)\n",
    "dataset_test = torch.utils.data.TensorDataset(X_test, y_test)\n",
    "\n",
    "train_dataloader = DataLoader(dataset_train, batch_size=10, shuffle=True,\n",
    "                              num_workers=0)\n",
    "test_dataloader = DataLoader(dataset_test, batch_size=10, num_workers=0)\n",
    "_,_,_ = fit_net(net)"
   ]
  },
  {
   "cell_type": "code",
   "execution_count": 40,
   "id": "74e143aa",
   "metadata": {},
   "outputs": [
    {
     "name": "stdout",
     "output_type": "stream",
     "text": [
      "epoch:0, RMSE test: 15197.6435546875\n",
      "epoch:200, RMSE test: 4774.4306640625\n",
      "epoch:400, RMSE test: 4211.05615234375\n",
      "INFO: Early stopping counter 1 of 5\n",
      "epoch:600, RMSE test: 4207.07373046875\n",
      "INFO: Early stopping counter 2 of 5\n",
      "epoch:800, RMSE test: 4340.57275390625\n",
      "INFO: Early stopping counter 3 of 5\n",
      "epoch:1000, RMSE test: 4199.18359375\n",
      "epoch:1200, RMSE test: 4119.4267578125\n",
      "INFO: Early stopping counter 1 of 5\n",
      "epoch:1400, RMSE test: 4224.703125\n",
      "INFO: Early stopping counter 2 of 5\n",
      "epoch:1600, RMSE test: 4247.2333984375\n",
      "INFO: Early stopping counter 3 of 5\n",
      "epoch:1800, RMSE test: 4294.06640625\n",
      "INFO: Early stopping counter 4 of 5\n",
      "epoch:2000, RMSE test: 4257.1484375\n",
      "INFO: Early stopping counter 5 of 5\n",
      "INFO: Early stopping\n",
      "epoch:2200, RMSE test: 4319.52490234375\n",
      "Early Stoppning!!!\n",
      "Best RMSE test 4119.4267578125\n"
     ]
    }
   ],
   "source": [
    "n_in_neurons = X_train.shape[1]\n",
    "n_hidden_neurons_1 = 15\n",
    "n_hidden_neurons_2 = 10\n",
    "n_out_neurons = 1\n",
    "\n",
    "net = Net(n_in_neurons, n_hidden_neurons_1, n_hidden_neurons_2, n_out_neurons, drop_out = nn.Dropout(p=0.3))\n",
    "optimizer = torch.optim.NAdam(net.parameters(), lr=1e-2)\n",
    "loss = nn.MSELoss()\n",
    "\n",
    "dataset_train = torch.utils.data.TensorDataset(X_train, y_train)\n",
    "dataset_test = torch.utils.data.TensorDataset(X_test, y_test)\n",
    "\n",
    "train_dataloader = DataLoader(dataset_train, batch_size=10, shuffle=True,\n",
    "                              num_workers=0)\n",
    "test_dataloader = DataLoader(dataset_test, batch_size=10, num_workers=0)\n",
    "_,_,_ = fit_net(net)"
   ]
  },
  {
   "cell_type": "code",
   "execution_count": 41,
   "id": "b26a54ac",
   "metadata": {},
   "outputs": [
    {
     "name": "stdout",
     "output_type": "stream",
     "text": [
      "epoch:0, RMSE test: 15195.642578125\n",
      "epoch:200, RMSE test: 4629.81982421875\n",
      "epoch:400, RMSE test: 4452.3115234375\n",
      "epoch:600, RMSE test: 4328.14990234375\n",
      "INFO: Early stopping counter 1 of 5\n",
      "epoch:800, RMSE test: 4402.1787109375\n",
      "epoch:1000, RMSE test: 4226.79150390625\n",
      "INFO: Early stopping counter 1 of 5\n",
      "epoch:1200, RMSE test: 4385.412109375\n",
      "INFO: Early stopping counter 2 of 5\n",
      "epoch:1400, RMSE test: 4584.2958984375\n",
      "INFO: Early stopping counter 3 of 5\n",
      "epoch:1600, RMSE test: 4560.5419921875\n",
      "INFO: Early stopping counter 4 of 5\n",
      "epoch:1800, RMSE test: 4387.40283203125\n",
      "INFO: Early stopping counter 5 of 5\n",
      "INFO: Early stopping\n",
      "epoch:2000, RMSE test: 4568.67724609375\n",
      "Early Stoppning!!!\n",
      "Best RMSE test 4226.79150390625\n"
     ]
    }
   ],
   "source": [
    "n_in_neurons = X_train.shape[1]\n",
    "n_hidden_neurons_1 = 15\n",
    "n_hidden_neurons_2 = 10\n",
    "n_out_neurons = 1\n",
    "\n",
    "net = Net(n_in_neurons, n_hidden_neurons_1, n_hidden_neurons_2, n_out_neurons, drop_out = nn.Dropout(p=0.5))\n",
    "optimizer = torch.optim.NAdam(net.parameters(), lr=1e-2)\n",
    "loss = nn.MSELoss()\n",
    "\n",
    "dataset_train = torch.utils.data.TensorDataset(X_train, y_train)\n",
    "dataset_test = torch.utils.data.TensorDataset(X_test, y_test)\n",
    "\n",
    "train_dataloader = DataLoader(dataset_train, batch_size=10, shuffle=True,\n",
    "                              num_workers=0)\n",
    "test_dataloader = DataLoader(dataset_test, batch_size=10, num_workers=0)\n",
    "_,_,_ = fit_net(net)"
   ]
  },
  {
   "cell_type": "code",
   "execution_count": 42,
   "id": "eb89f4b8",
   "metadata": {},
   "outputs": [],
   "source": [
    "# Добавление регуляризации на лучшем оптимизаторе\n",
    "\n",
    "class Net(nn.Module):\n",
    "    def __init__(self, n_in_neurons, n_hidden_neurons_1, n_hidden_neurons_2, n_out_neurons, drop_out):\n",
    "            super(Net, self).__init__()\n",
    "\n",
    "            self.fc1 = nn.Linear(n_in_neurons, n_hidden_neurons_1)\n",
    "            self.bn1 = nn.BatchNorm1d(n_hidden_neurons_1)\n",
    "            self.act1 = nn.ReLU()\n",
    "            self.dp2 = drop_out\n",
    "            self.fc2 = nn.Linear(n_hidden_neurons_1, n_hidden_neurons_2)\n",
    "            self.act2 = nn.ReLU()\n",
    "            self.fc3 = nn.Linear(n_hidden_neurons_2, n_out_neurons)\n",
    "\n",
    "    def forward(self, x):\n",
    "        x = self.fc1(x)\n",
    "        x = self.bn1(x)\n",
    "        x = self.act1(x)\n",
    "        x = self.dp2(x)\n",
    "        x = self.fc2(x)\n",
    "        x = self.act2(x)\n",
    "        x = self.fc3(x)\n",
    "\n",
    "        return x"
   ]
  },
  {
   "cell_type": "code",
   "execution_count": 43,
   "id": "8d2bce6b",
   "metadata": {},
   "outputs": [
    {
     "name": "stdout",
     "output_type": "stream",
     "text": [
      "epoch:0, RMSE test: 15195.86328125\n",
      "epoch:200, RMSE test: 4803.8837890625\n",
      "epoch:400, RMSE test: 4570.5712890625\n",
      "epoch:600, RMSE test: 4042.328125\n",
      "INFO: Early stopping counter 1 of 5\n",
      "epoch:800, RMSE test: 4166.556640625\n",
      "INFO: Early stopping counter 2 of 5\n",
      "epoch:1000, RMSE test: 4358.79931640625\n",
      "INFO: Early stopping counter 3 of 5\n",
      "epoch:1200, RMSE test: 4100.3603515625\n",
      "INFO: Early stopping counter 4 of 5\n",
      "epoch:1400, RMSE test: 4085.094482421875\n",
      "INFO: Early stopping counter 5 of 5\n",
      "INFO: Early stopping\n",
      "epoch:1600, RMSE test: 4451.40234375\n",
      "Early Stoppning!!!\n",
      "Best RMSE test 4042.328125\n"
     ]
    }
   ],
   "source": [
    "n_in_neurons = X_train.shape[1]\n",
    "n_hidden_neurons_1 = 15\n",
    "n_hidden_neurons_2 = 10\n",
    "n_out_neurons = 1\n",
    "\n",
    "net = Net(n_in_neurons, n_hidden_neurons_1, n_hidden_neurons_2, n_out_neurons, drop_out = nn.Dropout(p=0.3))\n",
    "optimizer = torch.optim.NAdam(net.parameters(), lr=1e-2)\n",
    "loss = nn.MSELoss()\n",
    "\n",
    "dataset_train = torch.utils.data.TensorDataset(X_train, y_train)\n",
    "dataset_test = torch.utils.data.TensorDataset(X_test, y_test)\n",
    "\n",
    "train_dataloader = DataLoader(dataset_train, batch_size=10, shuffle=True,\n",
    "                              num_workers=0)\n",
    "test_dataloader = DataLoader(dataset_test, batch_size=10, num_workers=0)\n",
    "_,_,_ = fit_net(net)"
   ]
  },
  {
   "cell_type": "code",
   "execution_count": 44,
   "id": "50f8e6a7",
   "metadata": {},
   "outputs": [],
   "source": [
    "n_in_neurons = X_train.shape[1]\n",
    "n_hidden_neurons_1 = 15\n",
    "n_hidden_neurons_2 = 10\n",
    "n_out_neurons = 1\n",
    "\n",
    "net = Net(n_in_neurons, n_hidden_neurons_1, n_hidden_neurons_2, n_out_neurons, drop_out = nn.Dropout(p=0.5))\n",
    "optimizer = torch.optim.NAdam(net.parameters(), lr=1e-2)\n",
    "loss = nn.MSELoss()"
   ]
  },
  {
   "cell_type": "code",
   "execution_count": 45,
   "id": "45800cd8",
   "metadata": {},
   "outputs": [],
   "source": [
    "dataset_train = torch.utils.data.TensorDataset(X_train, y_train)\n",
    "dataset_test = torch.utils.data.TensorDataset(X_test, y_test)\n",
    "\n",
    "train_dataloader = DataLoader(dataset_train, batch_size=40, shuffle=True,\n",
    "                              num_workers=0)\n",
    "test_dataloader = DataLoader(dataset_test, batch_size=40, num_workers=0)"
   ]
  },
  {
   "cell_type": "code",
   "execution_count": 46,
   "id": "3974a947",
   "metadata": {
    "scrolled": true
   },
   "outputs": [
    {
     "name": "stdout",
     "output_type": "stream",
     "text": [
      "epoch:0, RMSE test: 15201.1220703125\n",
      "epoch:200, RMSE test: 4390.43994140625\n",
      "epoch:400, RMSE test: 4323.17822265625\n",
      "epoch:600, RMSE test: 4220.46240234375\n",
      "INFO: Early stopping counter 1 of 5\n",
      "epoch:800, RMSE test: 4266.076171875\n",
      "INFO: Early stopping counter 2 of 5\n",
      "epoch:1000, RMSE test: 4299.57373046875\n",
      "INFO: Early stopping counter 3 of 5\n",
      "epoch:1200, RMSE test: 4431.333984375\n",
      "INFO: Early stopping counter 4 of 5\n",
      "epoch:1400, RMSE test: 4677.5634765625\n",
      "INFO: Early stopping counter 5 of 5\n",
      "INFO: Early stopping\n",
      "epoch:1600, RMSE test: 4957.86181640625\n",
      "Early Stoppning!!!\n",
      "Best RMSE test 4220.46240234375\n"
     ]
    }
   ],
   "source": [
    "val_loss, train_loss, predicted_temp = fit_net(net)"
   ]
  },
  {
   "cell_type": "code",
   "execution_count": 47,
   "id": "72371ff2",
   "metadata": {},
   "outputs": [
    {
     "data": {
      "image/png": "[encoded data removed]",
      "text/plain": [
       "<Figure size 720x504 with 1 Axes>"
      ]
     },
     "metadata": {
      "needs_background": "light"
     },
     "output_type": "display_data"
    }
   ],
   "source": [
    "x = np.arange(len(val_loss))\n",
    "\n",
    "fig, ax = plt.subplots()\n",
    "fig.set_figwidth(10)\n",
    "fig.set_figheight(7)\n",
    "ax.set_xticks(x)\n",
    "val = ax.plot(x, val_loss, label = 'Validation loss')\n",
    "train = ax.plot(x, train_loss, label = 'Train loss')\n",
    "ax.legend()\n",
    "ax.set_title('Потери нейросети', fontsize=20)\n",
    "ax.set_xlabel('Эпохи (600)')\n",
    "ax.set_ylabel('Loss')\n",
    "plt.show()"
   ]
  },
  {
   "cell_type": "code",
   "execution_count": 48,
   "id": "a15f1400",
   "metadata": {
    "scrolled": false
   },
   "outputs": [
    {
     "data": {
      "image/png": "[encoded data removed]",
      "text/plain": [
       "<Figure size 1296x576 with 1 Axes>"
      ]
     },
     "metadata": {
      "needs_background": "light"
     },
     "output_type": "display_data"
    }
   ],
   "source": [
    "fact_forecast(predicted_temp, y_test)"
   ]
  },
  {
   "cell_type": "markdown",
   "id": "58f2127b",
   "metadata": {},
   "source": [
    "### Вывод: \n",
    "1. Проведен перебор оптимизаторов. \n",
    "    Лучшим оптимизатором для этой задачи является NAdam с шагом равным одной сотой (RMSE = 4113). \n",
    "    На нём мы провели конечное улучшение модели: добавили dropout равный 50% и регуляризацию весов BatchNorm1d на первый скрытый слой. \n",
    "    Время обучения сильно увеличилась. Конечная метрика RMSE в улучшинной НС равна 4040. \n",
    "2. На графике видно, что модель обучилась качественно, без недо/переобучений. \n",
    "3. График фкт-прогноз схож с графиком от baseline.Видно, что модель предсказывает лучше до 15000 и свыше 30000 градусов по Кельвину."
   ]
  },
  {
   "cell_type": "markdown",
   "id": "accurate-infrastructure",
   "metadata": {},
   "source": [
    "## Выводы"
   ]
  },
  {
   "cell_type": "markdown",
   "id": "b99e9abb",
   "metadata": {},
   "source": [
    "1. Обзор данных и предобработка данных\n",
    "    1. Набор данных содержит 6 признаков и 240 наблюдений. \n",
    "\n",
    "    2. Набор данных содержит 6 признаков:\n",
    "        * Категориальные признаки:\n",
    "            * `Star type`;\n",
    "            * `Star color`.\n",
    "        * Количественные признаки:\n",
    "            * `Luminosity(L/Lo)`;\n",
    "            * `Radius(R/Ro)`;\n",
    "            * `Absolute magnitude(Mv)`.\n",
    "        * Целевой признак -- `Temperature (K)`.\n",
    "\n",
    "    3. Пропусков и явных дубликатов в данных нет. \n",
    "    \n",
    "    4. По результатам предобработки данных были исправлены ошибки в столбце Star color, связанные с неявными дубликатами в словах, что позволило сократить количество уникальных значений с 19 до 12 штук.\n",
    "\n",
    "2. Построение базовой нейронной сети\n",
    "    1. Обучена baseline модель без перебора параметров.\n",
    "    2. Лучшая метрика RMSE до начала переобучения равна 4268.\n",
    "\n",
    "3. Улучшение нейронной сети\n",
    "\n",
    "    1. Проведен перебор оптимизаторов. Лучшим оптимизатором для этой задачи является NAdam с шагом равным одной сотой (RMSE = 4113). На нём мы провели конечное улучшение модели: добавили dropout равный 50% и регуляризацию весов BatchNorm1d на первый скрытый слой. Время обучения сильно увеличилась. Конечная метрика RMSE в улучшинной НС равна 4040.\n",
    "    2. На графике видно, что модель обучилась качественно, без недо/переобучений.\n",
    "    3. График фкт-прогноз схож с графиком от baseline.Видно, что модель предсказывает лучше до 15000 и свыше 30000 градусов по Кельвину.\n"
   ]
  }
 ],
 "metadata": {
  "ExecuteTimeLog": [
   {
    "duration": 1291,
    "start_time": "2023-06-28T02:10:31.128Z"
   },
   {
    "duration": 2792,
    "start_time": "2023-06-28T02:10:43.400Z"
   },
   {
    "duration": 684,
    "start_time": "2023-06-28T02:10:47.487Z"
   },
   {
    "duration": 111,
    "start_time": "2023-06-28T02:14:50.689Z"
   },
   {
    "duration": 6,
    "start_time": "2023-06-28T02:17:45.596Z"
   },
   {
    "duration": 54,
    "start_time": "2023-06-28T02:17:49.301Z"
   },
   {
    "duration": 4,
    "start_time": "2023-06-28T02:17:59.101Z"
   },
   {
    "duration": 57,
    "start_time": "2023-06-28T02:18:02.411Z"
   },
   {
    "duration": 5,
    "start_time": "2023-06-28T02:18:11.992Z"
   },
   {
    "duration": 51,
    "start_time": "2023-06-28T02:18:12.353Z"
   },
   {
    "duration": 53,
    "start_time": "2023-06-28T02:18:17.314Z"
   },
   {
    "duration": 55,
    "start_time": "2023-06-28T02:18:41.665Z"
   },
   {
    "duration": 9,
    "start_time": "2023-06-28T02:18:49.415Z"
   },
   {
    "duration": 1535,
    "start_time": "2023-06-28T02:18:54.070Z"
   },
   {
    "duration": 4,
    "start_time": "2023-06-28T02:19:16.583Z"
   },
   {
    "duration": 3,
    "start_time": "2023-06-28T02:19:33.758Z"
   },
   {
    "duration": 11,
    "start_time": "2023-06-28T02:19:41.593Z"
   },
   {
    "duration": 16,
    "start_time": "2023-06-28T02:19:49.990Z"
   },
   {
    "duration": 18,
    "start_time": "2023-06-28T02:19:52.785Z"
   },
   {
    "duration": 40,
    "start_time": "2023-06-28T02:20:06.444Z"
   },
   {
    "duration": 7,
    "start_time": "2023-06-28T02:21:15.366Z"
   },
   {
    "duration": 9,
    "start_time": "2023-06-28T02:21:42.780Z"
   },
   {
    "duration": 5,
    "start_time": "2023-06-28T02:21:47.360Z"
   },
   {
    "duration": 815,
    "start_time": "2023-06-28T02:22:47.695Z"
   },
   {
    "duration": 7100,
    "start_time": "2023-06-28T02:23:10.788Z"
   },
   {
    "duration": 270,
    "start_time": "2023-06-28T02:23:50.751Z"
   },
   {
    "duration": 11,
    "start_time": "2023-06-28T02:24:09.563Z"
   },
   {
    "duration": 348,
    "start_time": "2023-06-28T02:24:22.500Z"
   },
   {
    "duration": 7,
    "start_time": "2023-06-28T02:25:25.534Z"
   },
   {
    "duration": 17,
    "start_time": "2023-06-28T02:26:15.562Z"
   },
   {
    "duration": 3,
    "start_time": "2023-06-28T02:26:32.820Z"
   },
   {
    "duration": 4,
    "start_time": "2023-06-28T02:26:50.541Z"
   },
   {
    "duration": 4,
    "start_time": "2023-06-28T02:26:58.688Z"
   },
   {
    "duration": 3,
    "start_time": "2023-06-28T02:27:06.565Z"
   },
   {
    "duration": 5,
    "start_time": "2023-06-28T02:27:17.486Z"
   },
   {
    "duration": 23845,
    "start_time": "2023-06-28T02:27:29.468Z"
   },
   {
    "duration": 5,
    "start_time": "2023-06-28T02:28:03.378Z"
   },
   {
    "duration": 477,
    "start_time": "2023-06-28T02:28:11.732Z"
   },
   {
    "duration": 8,
    "start_time": "2023-06-28T02:30:05.909Z"
   },
   {
    "duration": 70853,
    "start_time": "2023-06-28T02:30:20.153Z"
   },
   {
    "duration": 8,
    "start_time": "2023-06-28T02:31:42.685Z"
   },
   {
    "duration": 4,
    "start_time": "2023-06-28T02:31:44.446Z"
   },
   {
    "duration": 6,
    "start_time": "2023-06-28T02:31:46.090Z"
   },
   {
    "duration": 3,
    "start_time": "2023-06-28T02:31:46.925Z"
   },
   {
    "duration": 72695,
    "start_time": "2023-06-28T02:31:47.812Z"
   },
   {
    "duration": 138,
    "start_time": "2023-06-28T02:33:06.606Z"
   },
   {
    "duration": 473,
    "start_time": "2023-06-28T02:33:07.485Z"
   },
   {
    "duration": 17,
    "start_time": "2023-06-28T21:20:14.655Z"
   },
   {
    "duration": 51,
    "start_time": "2023-06-28T21:20:19.532Z"
   },
   {
    "duration": 1511,
    "start_time": "2023-06-28T21:20:23.651Z"
   },
   {
    "duration": 0,
    "start_time": "2023-06-28T21:20:25.163Z"
   },
   {
    "duration": 80,
    "start_time": "2023-06-28T21:20:31.167Z"
   },
   {
    "duration": 72,
    "start_time": "2023-06-28T21:20:43.132Z"
   },
   {
    "duration": 3474,
    "start_time": "2023-06-28T21:20:55.712Z"
   },
   {
    "duration": 6,
    "start_time": "2023-06-28T21:21:15.762Z"
   },
   {
    "duration": 1520,
    "start_time": "2023-06-28T21:25:19.947Z"
   },
   {
    "duration": 6,
    "start_time": "2023-06-28T21:27:07.996Z"
   },
   {
    "duration": 68,
    "start_time": "2023-06-28T21:27:09.145Z"
   },
   {
    "duration": 63,
    "start_time": "2023-06-28T21:27:23.799Z"
   },
   {
    "duration": 5,
    "start_time": "2023-06-28T21:28:14.541Z"
   },
   {
    "duration": 64,
    "start_time": "2023-06-28T21:28:17.253Z"
   },
   {
    "duration": 9,
    "start_time": "2023-06-28T21:28:48.468Z"
   },
   {
    "duration": 9,
    "start_time": "2023-06-28T21:30:02.664Z"
   },
   {
    "duration": 64,
    "start_time": "2023-06-28T21:30:04.068Z"
   },
   {
    "duration": 7,
    "start_time": "2023-06-28T21:30:21.967Z"
   },
   {
    "duration": 6,
    "start_time": "2023-06-28T21:31:08.727Z"
   },
   {
    "duration": 7,
    "start_time": "2023-06-28T21:32:19.371Z"
   },
   {
    "duration": 65,
    "start_time": "2023-06-28T21:32:20.155Z"
   },
   {
    "duration": 51,
    "start_time": "2023-06-28T21:32:20.539Z"
   },
   {
    "duration": 8,
    "start_time": "2023-06-28T21:32:52.137Z"
   },
   {
    "duration": 74,
    "start_time": "2023-06-28T21:32:52.809Z"
   },
   {
    "duration": 6,
    "start_time": "2023-06-28T21:33:15.980Z"
   },
   {
    "duration": 72,
    "start_time": "2023-06-28T21:33:16.919Z"
   },
   {
    "duration": 6,
    "start_time": "2023-06-28T21:34:02.757Z"
   },
   {
    "duration": 86,
    "start_time": "2023-06-28T21:34:03.553Z"
   },
   {
    "duration": 11,
    "start_time": "2023-06-28T21:34:04.096Z"
   },
   {
    "duration": 6,
    "start_time": "2023-06-28T21:34:24.648Z"
   },
   {
    "duration": 74,
    "start_time": "2023-06-28T21:34:25.268Z"
   },
   {
    "duration": 7,
    "start_time": "2023-06-28T21:35:11.847Z"
   },
   {
    "duration": 89,
    "start_time": "2023-06-28T21:35:13.541Z"
   },
   {
    "duration": 7,
    "start_time": "2023-06-28T21:36:10.640Z"
   },
   {
    "duration": 73,
    "start_time": "2023-06-28T21:36:11.601Z"
   },
   {
    "duration": 6,
    "start_time": "2023-06-28T21:36:59.848Z"
   },
   {
    "duration": 83,
    "start_time": "2023-06-28T21:37:00.199Z"
   },
   {
    "duration": 91,
    "start_time": "2023-06-28T21:37:00.340Z"
   },
   {
    "duration": 7,
    "start_time": "2023-06-28T21:40:24.713Z"
   },
   {
    "duration": 87,
    "start_time": "2023-06-28T21:40:25.641Z"
   },
   {
    "duration": 15,
    "start_time": "2023-06-28T21:40:26.323Z"
   },
   {
    "duration": 2164,
    "start_time": "2023-06-28T21:40:31.127Z"
   },
   {
    "duration": 247,
    "start_time": "2023-06-28T21:44:26.955Z"
   },
   {
    "duration": 7,
    "start_time": "2023-06-28T21:44:36.006Z"
   },
   {
    "duration": 90,
    "start_time": "2023-06-28T21:44:37.171Z"
   },
   {
    "duration": 9,
    "start_time": "2023-06-28T21:45:28.667Z"
   },
   {
    "duration": 81,
    "start_time": "2023-06-28T21:45:29.449Z"
   },
   {
    "duration": 10,
    "start_time": "2023-06-28T21:48:13.549Z"
   },
   {
    "duration": 9,
    "start_time": "2023-06-28T21:48:50.411Z"
   },
   {
    "duration": 83,
    "start_time": "2023-06-28T21:48:51.130Z"
   },
   {
    "duration": 7,
    "start_time": "2023-06-28T21:49:44.011Z"
   },
   {
    "duration": 76,
    "start_time": "2023-06-28T21:49:44.737Z"
   },
   {
    "duration": 9,
    "start_time": "2023-06-28T21:50:48.228Z"
   },
   {
    "duration": 94,
    "start_time": "2023-06-28T21:50:51.065Z"
   },
   {
    "duration": 3,
    "start_time": "2023-06-28T21:52:50.866Z"
   },
   {
    "duration": 2093,
    "start_time": "2023-06-28T21:53:01.549Z"
   },
   {
    "duration": 6,
    "start_time": "2023-06-28T21:54:12.111Z"
   },
   {
    "duration": 6,
    "start_time": "2023-06-28T21:55:22.506Z"
   },
   {
    "duration": 4,
    "start_time": "2023-06-28T21:57:33.841Z"
   },
   {
    "duration": 507,
    "start_time": "2023-06-28T21:57:39.615Z"
   },
   {
    "duration": 4,
    "start_time": "2023-06-28T21:58:01.613Z"
   },
   {
    "duration": 3,
    "start_time": "2023-06-28T21:58:02.011Z"
   },
   {
    "duration": 90,
    "start_time": "2023-06-28T21:58:02.349Z"
   },
   {
    "duration": 3,
    "start_time": "2023-06-28T21:58:02.662Z"
   },
   {
    "duration": 2052,
    "start_time": "2023-06-28T21:58:07.549Z"
   },
   {
    "duration": 4,
    "start_time": "2023-06-28T22:00:04.475Z"
   },
   {
    "duration": 2059,
    "start_time": "2023-06-28T22:00:08.600Z"
   },
   {
    "duration": 6,
    "start_time": "2023-06-28T22:01:20.639Z"
   },
   {
    "duration": 4,
    "start_time": "2023-06-28T22:01:20.946Z"
   },
   {
    "duration": 107,
    "start_time": "2023-06-28T22:01:22.354Z"
   },
   {
    "duration": 2,
    "start_time": "2023-06-28T22:01:24.115Z"
   },
   {
    "duration": 2308,
    "start_time": "2023-06-28T22:01:25.858Z"
   },
   {
    "duration": 5,
    "start_time": "2023-06-28T22:02:03.156Z"
   },
   {
    "duration": 4,
    "start_time": "2023-06-28T22:02:03.437Z"
   },
   {
    "duration": 85,
    "start_time": "2023-06-28T22:02:03.761Z"
   },
   {
    "duration": 3,
    "start_time": "2023-06-28T22:02:03.920Z"
   },
   {
    "duration": 2372,
    "start_time": "2023-06-28T22:02:04.022Z"
   },
   {
    "duration": 10,
    "start_time": "2023-06-28T22:02:06.396Z"
   },
   {
    "duration": 5,
    "start_time": "2023-06-28T22:05:29.625Z"
   },
   {
    "duration": 3,
    "start_time": "2023-06-28T22:05:29.912Z"
   },
   {
    "duration": 77,
    "start_time": "2023-06-28T22:05:30.237Z"
   },
   {
    "duration": 2,
    "start_time": "2023-06-28T22:05:30.413Z"
   },
   {
    "duration": 2533,
    "start_time": "2023-06-28T22:05:30.720Z"
   },
   {
    "duration": 5,
    "start_time": "2023-06-28T22:05:49.413Z"
   },
   {
    "duration": 2206,
    "start_time": "2023-06-28T22:05:53.461Z"
   },
   {
    "duration": 6,
    "start_time": "2023-06-28T22:06:15.153Z"
   },
   {
    "duration": 3,
    "start_time": "2023-06-28T22:06:15.467Z"
   },
   {
    "duration": 73,
    "start_time": "2023-06-28T22:06:15.836Z"
   },
   {
    "duration": 3,
    "start_time": "2023-06-28T22:06:17.178Z"
   },
   {
    "duration": 2337,
    "start_time": "2023-06-28T22:06:19.769Z"
   },
   {
    "duration": 5,
    "start_time": "2023-06-28T22:08:58.761Z"
   },
   {
    "duration": 2534,
    "start_time": "2023-06-28T22:09:03.364Z"
   },
   {
    "duration": 6,
    "start_time": "2023-06-28T22:09:35.123Z"
   },
   {
    "duration": 4,
    "start_time": "2023-06-28T22:09:35.340Z"
   },
   {
    "duration": 92,
    "start_time": "2023-06-28T22:09:35.733Z"
   },
   {
    "duration": 3,
    "start_time": "2023-06-28T22:09:35.904Z"
   },
   {
    "duration": 2372,
    "start_time": "2023-06-28T22:09:36.852Z"
   },
   {
    "duration": 5,
    "start_time": "2023-06-28T22:10:17.932Z"
   },
   {
    "duration": 5,
    "start_time": "2023-06-28T22:10:35.151Z"
   },
   {
    "duration": 4,
    "start_time": "2023-06-28T22:10:35.416Z"
   },
   {
    "duration": 81,
    "start_time": "2023-06-28T22:10:35.709Z"
   },
   {
    "duration": 3,
    "start_time": "2023-06-28T22:10:35.834Z"
   },
   {
    "duration": 2442,
    "start_time": "2023-06-28T22:10:36.040Z"
   },
   {
    "duration": 2570,
    "start_time": "2023-06-28T22:10:42.604Z"
   },
   {
    "duration": 12,
    "start_time": "2023-06-28T22:11:13.098Z"
   },
   {
    "duration": 11,
    "start_time": "2023-06-28T22:12:08.816Z"
   },
   {
    "duration": 2,
    "start_time": "2023-06-28T22:12:11.920Z"
   },
   {
    "duration": 11,
    "start_time": "2023-06-28T22:12:12.124Z"
   },
   {
    "duration": 11,
    "start_time": "2023-06-28T22:12:31.433Z"
   },
   {
    "duration": 4,
    "start_time": "2023-06-28T22:14:05.300Z"
   },
   {
    "duration": 2,
    "start_time": "2023-06-28T22:14:18.174Z"
   },
   {
    "duration": 13,
    "start_time": "2023-06-28T22:14:18.404Z"
   },
   {
    "duration": 4,
    "start_time": "2023-06-28T22:17:23.755Z"
   },
   {
    "duration": 14,
    "start_time": "2023-06-28T22:17:44.716Z"
   },
   {
    "duration": 4,
    "start_time": "2023-06-28T22:18:03.676Z"
   },
   {
    "duration": 17,
    "start_time": "2023-06-28T22:18:09.502Z"
   },
   {
    "duration": 3,
    "start_time": "2023-06-28T22:18:25.030Z"
   },
   {
    "duration": 18,
    "start_time": "2023-06-28T22:18:28.428Z"
   },
   {
    "duration": 4,
    "start_time": "2023-06-28T22:18:44.929Z"
   },
   {
    "duration": 12,
    "start_time": "2023-06-28T22:18:49.713Z"
   },
   {
    "duration": 75,
    "start_time": "2023-06-28T22:19:01.876Z"
   },
   {
    "duration": 4,
    "start_time": "2023-06-28T22:19:09.118Z"
   },
   {
    "duration": 21,
    "start_time": "2023-06-28T22:19:13.327Z"
   },
   {
    "duration": 26,
    "start_time": "2023-06-28T22:19:15.734Z"
   },
   {
    "duration": 4,
    "start_time": "2023-06-28T22:19:40.710Z"
   },
   {
    "duration": 25,
    "start_time": "2023-06-28T22:19:43.320Z"
   },
   {
    "duration": 4,
    "start_time": "2023-06-28T22:19:52.909Z"
   },
   {
    "duration": 17,
    "start_time": "2023-06-28T22:19:57.099Z"
   },
   {
    "duration": 4,
    "start_time": "2023-06-28T22:20:46.230Z"
   },
   {
    "duration": 19,
    "start_time": "2023-06-28T22:20:48.821Z"
   },
   {
    "duration": 5,
    "start_time": "2023-06-28T22:20:55.307Z"
   },
   {
    "duration": 19,
    "start_time": "2023-06-28T22:21:00.913Z"
   },
   {
    "duration": 4,
    "start_time": "2023-06-28T22:21:15.800Z"
   },
   {
    "duration": 24,
    "start_time": "2023-06-28T22:21:25.116Z"
   },
   {
    "duration": 4,
    "start_time": "2023-06-28T22:22:19.204Z"
   },
   {
    "duration": 18,
    "start_time": "2023-06-28T22:22:22.396Z"
   },
   {
    "duration": 3,
    "start_time": "2023-06-28T22:25:20.638Z"
   },
   {
    "duration": 4,
    "start_time": "2023-06-28T22:25:46.969Z"
   },
   {
    "duration": 11,
    "start_time": "2023-06-28T22:26:10.949Z"
   },
   {
    "duration": 11,
    "start_time": "2023-06-28T22:26:15.462Z"
   },
   {
    "duration": 71,
    "start_time": "2023-06-28T22:28:04.441Z"
   },
   {
    "duration": 3,
    "start_time": "2023-06-28T22:28:07.635Z"
   },
   {
    "duration": 76,
    "start_time": "2023-06-28T22:28:07.997Z"
   },
   {
    "duration": 2,
    "start_time": "2023-06-28T22:28:08.128Z"
   },
   {
    "duration": 10,
    "start_time": "2023-06-28T22:28:08.342Z"
   },
   {
    "duration": 2397,
    "start_time": "2023-06-28T22:28:08.438Z"
   },
   {
    "duration": 4,
    "start_time": "2023-06-28T22:28:10.837Z"
   },
   {
    "duration": 13,
    "start_time": "2023-06-28T22:28:10.843Z"
   },
   {
    "duration": 2075,
    "start_time": "2023-06-28T22:28:10.859Z"
   },
   {
    "duration": 0,
    "start_time": "2023-06-28T22:28:12.937Z"
   },
   {
    "duration": 77,
    "start_time": "2023-06-28T22:28:25.402Z"
   },
   {
    "duration": 3,
    "start_time": "2023-06-28T22:28:25.601Z"
   },
   {
    "duration": 12,
    "start_time": "2023-06-28T22:28:25.728Z"
   },
   {
    "duration": 2424,
    "start_time": "2023-06-28T22:28:25.917Z"
   },
   {
    "duration": 2,
    "start_time": "2023-06-28T22:28:28.354Z"
   },
   {
    "duration": 49,
    "start_time": "2023-06-28T22:28:28.358Z"
   },
   {
    "duration": 3,
    "start_time": "2023-06-28T22:28:28.409Z"
   },
   {
    "duration": 52,
    "start_time": "2023-06-28T22:28:28.564Z"
   },
   {
    "duration": 3,
    "start_time": "2023-06-28T22:28:58.436Z"
   },
   {
    "duration": 14,
    "start_time": "2023-06-28T22:29:01.243Z"
   },
   {
    "duration": 3,
    "start_time": "2023-06-28T22:29:25.264Z"
   },
   {
    "duration": 13,
    "start_time": "2023-06-28T22:31:07.501Z"
   },
   {
    "duration": 21,
    "start_time": "2023-06-28T22:31:12.328Z"
   },
   {
    "duration": 16,
    "start_time": "2023-06-28T22:31:25.449Z"
   },
   {
    "duration": 17,
    "start_time": "2023-06-28T22:31:35.297Z"
   },
   {
    "duration": 20,
    "start_time": "2023-06-28T22:32:01.938Z"
   },
   {
    "duration": 7,
    "start_time": "2023-06-28T22:52:14.078Z"
   },
   {
    "duration": 193,
    "start_time": "2023-06-28T22:52:16.789Z"
   },
   {
    "duration": 6,
    "start_time": "2023-06-28T22:52:20.665Z"
   },
   {
    "duration": 2,
    "start_time": "2023-06-28T22:52:25.571Z"
   },
   {
    "duration": 2376,
    "start_time": "2023-06-28T22:52:26.105Z"
   },
   {
    "duration": 3,
    "start_time": "2023-06-28T22:52:28.483Z"
   },
   {
    "duration": 38,
    "start_time": "2023-06-28T22:52:28.488Z"
   },
   {
    "duration": 20,
    "start_time": "2023-06-28T22:53:21.678Z"
   },
   {
    "duration": 17,
    "start_time": "2023-06-28T22:57:14.383Z"
   },
   {
    "duration": 15,
    "start_time": "2023-06-28T22:57:21.926Z"
   },
   {
    "duration": 1062,
    "start_time": "2023-06-28T22:58:59.586Z"
   },
   {
    "duration": 863,
    "start_time": "2023-06-28T22:59:06.920Z"
   },
   {
    "duration": 857,
    "start_time": "2023-06-28T22:59:12.641Z"
   },
   {
    "duration": 867,
    "start_time": "2023-06-28T22:59:18.888Z"
   },
   {
    "duration": 847,
    "start_time": "2023-06-28T22:59:30.511Z"
   },
   {
    "duration": 994,
    "start_time": "2023-06-28T22:59:55.782Z"
   },
   {
    "duration": 10191,
    "start_time": "2023-06-28T23:00:17.344Z"
   },
   {
    "duration": 329,
    "start_time": "2023-06-28T23:00:55.841Z"
   },
   {
    "duration": 397,
    "start_time": "2023-06-28T23:01:42.485Z"
   },
   {
    "duration": 426,
    "start_time": "2023-06-28T23:02:14.760Z"
   },
   {
    "duration": 449,
    "start_time": "2023-06-28T23:02:23.762Z"
   },
   {
    "duration": 170,
    "start_time": "2023-06-28T23:03:06.849Z"
   },
   {
    "duration": 475,
    "start_time": "2023-06-28T23:03:12.036Z"
   },
   {
    "duration": 469,
    "start_time": "2023-06-28T23:03:21.218Z"
   },
   {
    "duration": 435,
    "start_time": "2023-06-28T23:04:10.097Z"
   },
   {
    "duration": 12,
    "start_time": "2023-06-28T23:12:43.513Z"
   },
   {
    "duration": 13,
    "start_time": "2023-06-28T23:12:45.905Z"
   },
   {
    "duration": 12,
    "start_time": "2023-06-28T23:12:46.119Z"
   },
   {
    "duration": 10,
    "start_time": "2023-06-28T23:12:50.896Z"
   },
   {
    "duration": 21,
    "start_time": "2023-06-28T23:13:11.094Z"
   },
   {
    "duration": 1565,
    "start_time": "2023-06-28T23:15:31.729Z"
   },
   {
    "duration": 10,
    "start_time": "2023-06-28T23:15:46.705Z"
   },
   {
    "duration": 1576,
    "start_time": "2023-06-28T23:15:46.958Z"
   },
   {
    "duration": 1431,
    "start_time": "2023-06-28T23:16:21.156Z"
   },
   {
    "duration": 1391,
    "start_time": "2023-06-28T23:16:31.077Z"
   },
   {
    "duration": 2325,
    "start_time": "2023-06-28T23:17:08.579Z"
   },
   {
    "duration": 1987,
    "start_time": "2023-06-28T23:17:10.907Z"
   },
   {
    "duration": 5,
    "start_time": "2023-06-28T23:17:12.896Z"
   },
   {
    "duration": 43,
    "start_time": "2023-06-28T23:17:12.902Z"
   },
   {
    "duration": 32,
    "start_time": "2023-06-28T23:17:12.947Z"
   },
   {
    "duration": 108,
    "start_time": "2023-06-28T23:17:12.981Z"
   },
   {
    "duration": 5,
    "start_time": "2023-06-28T23:17:13.091Z"
   },
   {
    "duration": 19,
    "start_time": "2023-06-28T23:17:13.098Z"
   },
   {
    "duration": 2529,
    "start_time": "2023-06-28T23:17:13.119Z"
   },
   {
    "duration": 4,
    "start_time": "2023-06-28T23:17:15.654Z"
   },
   {
    "duration": 33,
    "start_time": "2023-06-28T23:17:15.659Z"
   },
   {
    "duration": 8,
    "start_time": "2023-06-28T23:17:15.695Z"
   },
   {
    "duration": 23,
    "start_time": "2023-06-28T23:17:15.705Z"
   },
   {
    "duration": 38,
    "start_time": "2023-06-28T23:17:15.732Z"
   },
   {
    "duration": 17,
    "start_time": "2023-06-28T23:17:15.772Z"
   },
   {
    "duration": 152,
    "start_time": "2023-06-28T23:17:15.791Z"
   },
   {
    "duration": 33,
    "start_time": "2023-06-28T23:17:15.945Z"
   },
   {
    "duration": 1024,
    "start_time": "2023-06-28T23:17:15.980Z"
   },
   {
    "duration": 10609,
    "start_time": "2023-06-28T23:17:17.006Z"
   },
   {
    "duration": 355,
    "start_time": "2023-06-28T23:17:27.617Z"
   },
   {
    "duration": 447,
    "start_time": "2023-06-28T23:17:27.974Z"
   },
   {
    "duration": 10,
    "start_time": "2023-06-28T23:17:28.423Z"
   },
   {
    "duration": 1463,
    "start_time": "2023-06-28T23:17:28.434Z"
   },
   {
    "duration": 0,
    "start_time": "2023-06-28T23:17:29.899Z"
   },
   {
    "duration": 0,
    "start_time": "2023-06-28T23:17:29.900Z"
   },
   {
    "duration": 0,
    "start_time": "2023-06-28T23:17:29.902Z"
   },
   {
    "duration": 0,
    "start_time": "2023-06-28T23:17:29.903Z"
   },
   {
    "duration": 0,
    "start_time": "2023-06-28T23:17:29.905Z"
   },
   {
    "duration": 0,
    "start_time": "2023-06-28T23:17:29.906Z"
   },
   {
    "duration": 0,
    "start_time": "2023-06-28T23:17:29.908Z"
   },
   {
    "duration": 1,
    "start_time": "2023-06-28T23:17:29.909Z"
   },
   {
    "duration": 0,
    "start_time": "2023-06-28T23:17:29.911Z"
   },
   {
    "duration": 0,
    "start_time": "2023-06-28T23:17:29.912Z"
   },
   {
    "duration": 0,
    "start_time": "2023-06-28T23:17:29.914Z"
   },
   {
    "duration": 0,
    "start_time": "2023-06-28T23:17:29.916Z"
   },
   {
    "duration": 0,
    "start_time": "2023-06-28T23:17:29.918Z"
   },
   {
    "duration": 0,
    "start_time": "2023-06-28T23:17:29.919Z"
   },
   {
    "duration": 0,
    "start_time": "2023-06-28T23:17:29.920Z"
   },
   {
    "duration": 0,
    "start_time": "2023-06-28T23:17:29.921Z"
   },
   {
    "duration": 0,
    "start_time": "2023-06-28T23:17:29.922Z"
   },
   {
    "duration": 13,
    "start_time": "2023-06-28T23:22:26.428Z"
   },
   {
    "duration": 11,
    "start_time": "2023-06-28T23:22:55.111Z"
   },
   {
    "duration": 11,
    "start_time": "2023-06-28T23:23:49.817Z"
   },
   {
    "duration": 11,
    "start_time": "2023-06-28T23:24:10.057Z"
   },
   {
    "duration": 13,
    "start_time": "2023-06-28T23:24:34.235Z"
   },
   {
    "duration": 19,
    "start_time": "2023-06-28T23:25:03.615Z"
   },
   {
    "duration": 2282,
    "start_time": "2023-06-28T23:25:13.748Z"
   },
   {
    "duration": 2008,
    "start_time": "2023-06-28T23:25:16.033Z"
   },
   {
    "duration": 4,
    "start_time": "2023-06-28T23:25:18.043Z"
   },
   {
    "duration": 43,
    "start_time": "2023-06-28T23:25:18.048Z"
   },
   {
    "duration": 51,
    "start_time": "2023-06-28T23:25:18.093Z"
   },
   {
    "duration": 106,
    "start_time": "2023-06-28T23:25:18.145Z"
   },
   {
    "duration": 6,
    "start_time": "2023-06-28T23:25:18.252Z"
   },
   {
    "duration": 11,
    "start_time": "2023-06-28T23:25:18.260Z"
   },
   {
    "duration": 2394,
    "start_time": "2023-06-28T23:25:18.272Z"
   },
   {
    "duration": 3,
    "start_time": "2023-06-28T23:25:20.668Z"
   },
   {
    "duration": 24,
    "start_time": "2023-06-28T23:25:20.672Z"
   },
   {
    "duration": 18,
    "start_time": "2023-06-28T23:25:20.698Z"
   },
   {
    "duration": 31,
    "start_time": "2023-06-28T23:25:20.717Z"
   },
   {
    "duration": 16,
    "start_time": "2023-06-28T23:25:20.753Z"
   },
   {
    "duration": 17,
    "start_time": "2023-06-28T23:25:20.770Z"
   },
   {
    "duration": 42,
    "start_time": "2023-06-28T23:25:20.789Z"
   },
   {
    "duration": 28,
    "start_time": "2023-06-28T23:25:20.833Z"
   },
   {
    "duration": 1010,
    "start_time": "2023-06-28T23:25:20.862Z"
   },
   {
    "duration": 9855,
    "start_time": "2023-06-28T23:25:21.874Z"
   },
   {
    "duration": 340,
    "start_time": "2023-06-28T23:25:31.731Z"
   },
   {
    "duration": 466,
    "start_time": "2023-06-28T23:25:32.072Z"
   },
   {
    "duration": 17,
    "start_time": "2023-06-28T23:25:32.541Z"
   },
   {
    "duration": 168,
    "start_time": "2023-06-28T23:25:32.559Z"
   },
   {
    "duration": 0,
    "start_time": "2023-06-28T23:25:32.729Z"
   },
   {
    "duration": 0,
    "start_time": "2023-06-28T23:25:32.730Z"
   },
   {
    "duration": 0,
    "start_time": "2023-06-28T23:25:32.731Z"
   },
   {
    "duration": 0,
    "start_time": "2023-06-28T23:25:32.732Z"
   },
   {
    "duration": 0,
    "start_time": "2023-06-28T23:25:32.733Z"
   },
   {
    "duration": 0,
    "start_time": "2023-06-28T23:25:32.734Z"
   },
   {
    "duration": 0,
    "start_time": "2023-06-28T23:25:32.735Z"
   },
   {
    "duration": 0,
    "start_time": "2023-06-28T23:25:32.737Z"
   },
   {
    "duration": 0,
    "start_time": "2023-06-28T23:25:32.754Z"
   },
   {
    "duration": 0,
    "start_time": "2023-06-28T23:25:32.755Z"
   },
   {
    "duration": 0,
    "start_time": "2023-06-28T23:25:32.756Z"
   },
   {
    "duration": 0,
    "start_time": "2023-06-28T23:25:32.757Z"
   },
   {
    "duration": 0,
    "start_time": "2023-06-28T23:25:32.758Z"
   },
   {
    "duration": 0,
    "start_time": "2023-06-28T23:25:32.759Z"
   },
   {
    "duration": 0,
    "start_time": "2023-06-28T23:25:32.760Z"
   },
   {
    "duration": 0,
    "start_time": "2023-06-28T23:25:32.761Z"
   },
   {
    "duration": 0,
    "start_time": "2023-06-28T23:25:32.762Z"
   },
   {
    "duration": 12,
    "start_time": "2023-06-28T23:27:25.337Z"
   },
   {
    "duration": 11,
    "start_time": "2023-06-28T23:27:28.724Z"
   },
   {
    "duration": 16,
    "start_time": "2023-06-28T23:27:36.010Z"
   },
   {
    "duration": 11,
    "start_time": "2023-06-28T23:28:28.275Z"
   },
   {
    "duration": 15,
    "start_time": "2023-06-28T23:28:33.756Z"
   },
   {
    "duration": 128,
    "start_time": "2023-06-28T23:29:10.545Z"
   },
   {
    "duration": 14,
    "start_time": "2023-06-28T23:29:15.196Z"
   },
   {
    "duration": 10,
    "start_time": "2023-06-28T23:30:07.932Z"
   },
   {
    "duration": 10,
    "start_time": "2023-06-28T23:30:45.550Z"
   },
   {
    "duration": 3,
    "start_time": "2023-06-28T23:31:28.736Z"
   },
   {
    "duration": 27,
    "start_time": "2023-06-28T23:31:29.504Z"
   },
   {
    "duration": 33,
    "start_time": "2023-06-28T23:33:10.849Z"
   },
   {
    "duration": 2,
    "start_time": "2023-06-28T23:33:25.762Z"
   },
   {
    "duration": 22,
    "start_time": "2023-06-28T23:33:26.037Z"
   },
   {
    "duration": 22,
    "start_time": "2023-06-28T23:33:40.534Z"
   },
   {
    "duration": 22,
    "start_time": "2023-06-28T23:33:51.170Z"
   },
   {
    "duration": 2359,
    "start_time": "2023-06-28T23:33:59.686Z"
   },
   {
    "duration": 2075,
    "start_time": "2023-06-28T23:34:02.048Z"
   },
   {
    "duration": 4,
    "start_time": "2023-06-28T23:34:04.125Z"
   },
   {
    "duration": 10,
    "start_time": "2023-06-28T23:34:04.131Z"
   },
   {
    "duration": 14,
    "start_time": "2023-06-28T23:34:04.143Z"
   },
   {
    "duration": 95,
    "start_time": "2023-06-28T23:34:04.159Z"
   },
   {
    "duration": 6,
    "start_time": "2023-06-28T23:34:04.256Z"
   },
   {
    "duration": 36,
    "start_time": "2023-06-28T23:34:04.264Z"
   },
   {
    "duration": 2376,
    "start_time": "2023-06-28T23:34:04.301Z"
   },
   {
    "duration": 4,
    "start_time": "2023-06-28T23:34:06.680Z"
   },
   {
    "duration": 19,
    "start_time": "2023-06-28T23:34:06.685Z"
   },
   {
    "duration": 3,
    "start_time": "2023-06-28T23:34:06.706Z"
   },
   {
    "duration": 19,
    "start_time": "2023-06-28T23:34:06.710Z"
   },
   {
    "duration": 15,
    "start_time": "2023-06-28T23:34:06.753Z"
   },
   {
    "duration": 18,
    "start_time": "2023-06-28T23:34:06.770Z"
   },
   {
    "duration": 25,
    "start_time": "2023-06-28T23:34:06.790Z"
   },
   {
    "duration": 44,
    "start_time": "2023-06-28T23:34:06.816Z"
   },
   {
    "duration": 995,
    "start_time": "2023-06-28T23:34:06.861Z"
   },
   {
    "duration": 10051,
    "start_time": "2023-06-28T23:34:07.858Z"
   },
   {
    "duration": 342,
    "start_time": "2023-06-28T23:34:17.911Z"
   },
   {
    "duration": 449,
    "start_time": "2023-06-28T23:34:18.255Z"
   },
   {
    "duration": 11,
    "start_time": "2023-06-28T23:34:18.706Z"
   },
   {
    "duration": 9,
    "start_time": "2023-06-28T23:34:18.718Z"
   },
   {
    "duration": 40,
    "start_time": "2023-06-28T23:34:18.728Z"
   },
   {
    "duration": 86,
    "start_time": "2023-06-28T23:34:18.770Z"
   },
   {
    "duration": 5,
    "start_time": "2023-06-28T23:34:18.858Z"
   },
   {
    "duration": 50,
    "start_time": "2023-06-28T23:34:18.865Z"
   },
   {
    "duration": 3,
    "start_time": "2023-06-28T23:34:18.920Z"
   },
   {
    "duration": 8,
    "start_time": "2023-06-28T23:34:18.926Z"
   },
   {
    "duration": 49301,
    "start_time": "2023-06-28T23:34:18.936Z"
   },
   {
    "duration": 6,
    "start_time": "2023-06-28T23:35:08.238Z"
   },
   {
    "duration": 630,
    "start_time": "2023-06-28T23:35:08.245Z"
   },
   {
    "duration": 6,
    "start_time": "2023-06-28T23:35:08.877Z"
   },
   {
    "duration": 73997,
    "start_time": "2023-06-28T23:35:08.885Z"
   },
   {
    "duration": 9,
    "start_time": "2023-06-28T23:36:22.883Z"
   },
   {
    "duration": 12,
    "start_time": "2023-06-28T23:36:22.893Z"
   },
   {
    "duration": 9,
    "start_time": "2023-06-28T23:36:22.907Z"
   },
   {
    "duration": 3,
    "start_time": "2023-06-28T23:36:22.918Z"
   },
   {
    "duration": 90846,
    "start_time": "2023-06-28T23:36:22.923Z"
   },
   {
    "duration": 221,
    "start_time": "2023-06-28T23:37:53.771Z"
   },
   {
    "duration": 653,
    "start_time": "2023-06-28T23:37:53.994Z"
   },
   {
    "duration": 163519,
    "start_time": "2023-06-28T23:37:54.653Z"
   },
   {
    "duration": 2207,
    "start_time": "2023-06-28T23:41:32.518Z"
   },
   {
    "duration": 1904,
    "start_time": "2023-06-28T23:41:34.728Z"
   },
   {
    "duration": 4,
    "start_time": "2023-06-28T23:41:36.634Z"
   },
   {
    "duration": 18,
    "start_time": "2023-06-28T23:41:36.640Z"
   },
   {
    "duration": 14,
    "start_time": "2023-06-28T23:41:36.660Z"
   },
   {
    "duration": 89,
    "start_time": "2023-06-28T23:41:36.676Z"
   },
   {
    "duration": 7,
    "start_time": "2023-06-28T23:41:36.767Z"
   },
   {
    "duration": 13,
    "start_time": "2023-06-28T23:41:36.775Z"
   },
   {
    "duration": 2360,
    "start_time": "2023-06-28T23:41:36.790Z"
   },
   {
    "duration": 2,
    "start_time": "2023-06-28T23:41:39.153Z"
   },
   {
    "duration": 28,
    "start_time": "2023-06-28T23:41:39.157Z"
   },
   {
    "duration": 4,
    "start_time": "2023-06-28T23:41:39.186Z"
   },
   {
    "duration": 21,
    "start_time": "2023-06-28T23:41:39.191Z"
   },
   {
    "duration": 27,
    "start_time": "2023-06-28T23:41:39.214Z"
   },
   {
    "duration": 22,
    "start_time": "2023-06-28T23:41:39.243Z"
   },
   {
    "duration": 19,
    "start_time": "2023-06-28T23:41:39.268Z"
   },
   {
    "duration": 23,
    "start_time": "2023-06-28T23:41:39.289Z"
   },
   {
    "duration": 955,
    "start_time": "2023-06-28T23:41:39.313Z"
   },
   {
    "duration": 9799,
    "start_time": "2023-06-28T23:41:40.270Z"
   },
   {
    "duration": 303,
    "start_time": "2023-06-28T23:41:50.070Z"
   },
   {
    "duration": 444,
    "start_time": "2023-06-28T23:41:50.375Z"
   },
   {
    "duration": 10,
    "start_time": "2023-06-28T23:41:50.821Z"
   },
   {
    "duration": 22,
    "start_time": "2023-06-28T23:41:50.833Z"
   },
   {
    "duration": 29,
    "start_time": "2023-06-28T23:41:50.857Z"
   },
   {
    "duration": 18,
    "start_time": "2023-06-28T23:41:50.887Z"
   },
   {
    "duration": 44,
    "start_time": "2023-06-28T23:41:50.907Z"
   },
   {
    "duration": 30,
    "start_time": "2023-06-28T23:41:50.952Z"
   },
   {
    "duration": 13,
    "start_time": "2023-06-28T23:41:50.987Z"
   },
   {
    "duration": 34,
    "start_time": "2023-06-28T23:41:51.001Z"
   },
   {
    "duration": 68259,
    "start_time": "2023-06-28T23:41:51.037Z"
   },
   {
    "duration": 5,
    "start_time": "2023-06-28T23:42:59.297Z"
   },
   {
    "duration": 619,
    "start_time": "2023-06-28T23:42:59.304Z"
   },
   {
    "duration": 6,
    "start_time": "2023-06-28T23:42:59.925Z"
   },
   {
    "duration": 101470,
    "start_time": "2023-06-28T23:42:59.932Z"
   },
   {
    "duration": 10,
    "start_time": "2023-06-28T23:44:41.404Z"
   },
   {
    "duration": 17,
    "start_time": "2023-06-28T23:44:41.415Z"
   },
   {
    "duration": 21,
    "start_time": "2023-06-28T23:44:41.434Z"
   },
   {
    "duration": 9,
    "start_time": "2023-06-28T23:44:41.456Z"
   },
   {
    "duration": 91497,
    "start_time": "2023-06-28T23:44:41.467Z"
   },
   {
    "duration": 204,
    "start_time": "2023-06-28T23:46:12.967Z"
   },
   {
    "duration": 648,
    "start_time": "2023-06-28T23:46:13.173Z"
   },
   {
    "duration": 12,
    "start_time": "2023-06-29T13:48:04.234Z"
   },
   {
    "duration": 4,
    "start_time": "2023-06-29T13:49:43.629Z"
   },
   {
    "duration": 4796,
    "start_time": "2023-06-29T13:50:50.825Z"
   },
   {
    "duration": 3415,
    "start_time": "2023-06-29T13:50:55.626Z"
   },
   {
    "duration": 7,
    "start_time": "2023-06-29T13:50:59.045Z"
   },
   {
    "duration": 24,
    "start_time": "2023-06-29T13:50:59.056Z"
   },
   {
    "duration": 10,
    "start_time": "2023-06-29T13:50:59.082Z"
   },
   {
    "duration": 189,
    "start_time": "2023-06-29T13:50:59.094Z"
   },
   {
    "duration": 10,
    "start_time": "2023-06-29T13:50:59.285Z"
   },
   {
    "duration": 10,
    "start_time": "2023-06-29T13:50:59.297Z"
   },
   {
    "duration": 3679,
    "start_time": "2023-06-29T13:50:59.309Z"
   },
   {
    "duration": 8,
    "start_time": "2023-06-29T13:51:02.992Z"
   },
   {
    "duration": 44,
    "start_time": "2023-06-29T13:51:03.003Z"
   },
   {
    "duration": 7,
    "start_time": "2023-06-29T13:51:03.050Z"
   },
   {
    "duration": 34,
    "start_time": "2023-06-29T13:51:03.060Z"
   },
   {
    "duration": 27,
    "start_time": "2023-06-29T13:51:03.098Z"
   },
   {
    "duration": 28,
    "start_time": "2023-06-29T13:51:03.129Z"
   },
   {
    "duration": 49,
    "start_time": "2023-06-29T13:51:03.159Z"
   },
   {
    "duration": 26,
    "start_time": "2023-06-29T13:51:03.211Z"
   },
   {
    "duration": 1425,
    "start_time": "2023-06-29T13:51:03.241Z"
   },
   {
    "duration": 13547,
    "start_time": "2023-06-29T13:51:04.669Z"
   },
   {
    "duration": 455,
    "start_time": "2023-06-29T13:51:18.218Z"
   },
   {
    "duration": 624,
    "start_time": "2023-06-29T13:51:18.676Z"
   },
   {
    "duration": 17,
    "start_time": "2023-06-29T13:51:19.303Z"
   },
   {
    "duration": 16,
    "start_time": "2023-06-29T13:51:19.323Z"
   },
   {
    "duration": 45,
    "start_time": "2023-06-29T13:51:19.342Z"
   },
   {
    "duration": 93,
    "start_time": "2023-06-29T13:51:19.389Z"
   },
   {
    "duration": 9,
    "start_time": "2023-06-29T13:51:19.485Z"
   },
   {
    "duration": 33,
    "start_time": "2023-06-29T13:51:19.497Z"
   },
   {
    "duration": 18,
    "start_time": "2023-06-29T13:51:19.535Z"
   },
   {
    "duration": 14,
    "start_time": "2023-06-29T13:51:19.555Z"
   },
   {
    "duration": 108767,
    "start_time": "2023-06-29T13:51:19.571Z"
   },
   {
    "duration": 9,
    "start_time": "2023-06-29T13:53:08.341Z"
   },
   {
    "duration": 1015,
    "start_time": "2023-06-29T13:53:08.353Z"
   },
   {
    "duration": 8,
    "start_time": "2023-06-29T13:53:09.371Z"
   },
   {
    "duration": 152230,
    "start_time": "2023-06-29T13:53:09.382Z"
   },
   {
    "duration": 18,
    "start_time": "2023-06-29T13:55:41.614Z"
   },
   {
    "duration": 9,
    "start_time": "2023-06-29T13:55:41.635Z"
   },
   {
    "duration": 38,
    "start_time": "2023-06-29T13:55:41.646Z"
   },
   {
    "duration": 7,
    "start_time": "2023-06-29T13:55:41.686Z"
   },
   {
    "duration": 416688,
    "start_time": "2023-06-29T13:55:41.695Z"
   },
   {
    "duration": 283,
    "start_time": "2023-06-29T14:02:38.392Z"
   },
   {
    "duration": 880,
    "start_time": "2023-06-29T14:02:38.678Z"
   },
   {
    "duration": 300,
    "start_time": "2023-06-29T15:37:12.216Z"
   },
   {
    "duration": 23,
    "start_time": "2023-06-29T15:37:31.102Z"
   },
   {
    "duration": 12,
    "start_time": "2023-06-29T15:38:25.846Z"
   },
   {
    "duration": 14,
    "start_time": "2023-06-29T15:50:26.776Z"
   },
   {
    "duration": 13,
    "start_time": "2023-06-29T15:51:06.840Z"
   },
   {
    "duration": 14,
    "start_time": "2023-06-29T15:51:18.807Z"
   },
   {
    "duration": 13,
    "start_time": "2023-06-29T15:52:18.042Z"
   },
   {
    "duration": 24,
    "start_time": "2023-06-29T15:52:25.262Z"
   },
   {
    "duration": 4,
    "start_time": "2023-06-29T15:53:14.547Z"
   },
   {
    "duration": 28,
    "start_time": "2023-06-29T15:53:26.878Z"
   },
   {
    "duration": 2232,
    "start_time": "2023-06-29T16:20:52.384Z"
   },
   {
    "duration": 2080,
    "start_time": "2023-06-29T16:20:54.619Z"
   },
   {
    "duration": 6,
    "start_time": "2023-06-29T16:20:56.701Z"
   },
   {
    "duration": 13,
    "start_time": "2023-06-29T16:20:56.709Z"
   },
   {
    "duration": 7,
    "start_time": "2023-06-29T16:20:56.724Z"
   },
   {
    "duration": 115,
    "start_time": "2023-06-29T16:20:56.733Z"
   },
   {
    "duration": 9,
    "start_time": "2023-06-29T16:20:56.868Z"
   },
   {
    "duration": 15,
    "start_time": "2023-06-29T16:20:56.880Z"
   },
   {
    "duration": 2611,
    "start_time": "2023-06-29T16:20:56.898Z"
   },
   {
    "duration": 3,
    "start_time": "2023-06-29T16:20:59.511Z"
   },
   {
    "duration": 34,
    "start_time": "2023-06-29T16:20:59.515Z"
   },
   {
    "duration": 3,
    "start_time": "2023-06-29T16:20:59.551Z"
   },
   {
    "duration": 17,
    "start_time": "2023-06-29T16:20:59.556Z"
   },
   {
    "duration": 15,
    "start_time": "2023-06-29T16:20:59.576Z"
   },
   {
    "duration": 17,
    "start_time": "2023-06-29T16:20:59.592Z"
   },
   {
    "duration": 19,
    "start_time": "2023-06-29T16:20:59.611Z"
   },
   {
    "duration": 45,
    "start_time": "2023-06-29T16:20:59.632Z"
   },
   {
    "duration": 992,
    "start_time": "2023-06-29T16:21:00.705Z"
   },
   {
    "duration": 10722,
    "start_time": "2023-06-29T16:21:01.699Z"
   },
   {
    "duration": 370,
    "start_time": "2023-06-29T16:21:12.423Z"
   },
   {
    "duration": 459,
    "start_time": "2023-06-29T16:21:12.795Z"
   },
   {
    "duration": 12,
    "start_time": "2023-06-29T16:21:16.080Z"
   },
   {
    "duration": 3,
    "start_time": "2023-06-29T16:21:16.655Z"
   },
   {
    "duration": 21,
    "start_time": "2023-06-29T16:21:17.910Z"
   },
   {
    "duration": 4,
    "start_time": "2023-06-29T16:21:21.578Z"
   },
   {
    "duration": 4,
    "start_time": "2023-06-29T16:21:25.270Z"
   },
   {
    "duration": 5,
    "start_time": "2023-06-29T16:21:29.943Z"
   },
   {
    "duration": 6,
    "start_time": "2023-06-29T16:21:36.170Z"
   },
   {
    "duration": 5,
    "start_time": "2023-06-29T16:21:37.997Z"
   },
   {
    "duration": 76,
    "start_time": "2023-06-29T16:21:42.274Z"
   },
   {
    "duration": 7,
    "start_time": "2023-06-29T16:22:08.499Z"
   },
   {
    "duration": 149,
    "start_time": "2023-06-29T16:22:36.032Z"
   },
   {
    "duration": 11,
    "start_time": "2023-06-29T16:22:40.982Z"
   },
   {
    "duration": 12,
    "start_time": "2023-06-29T16:22:50.838Z"
   },
   {
    "duration": 7,
    "start_time": "2023-06-29T16:23:03.270Z"
   },
   {
    "duration": 88212,
    "start_time": "2023-06-29T16:23:08.430Z"
   },
   {
    "duration": 8,
    "start_time": "2023-06-29T16:25:01.409Z"
   },
   {
    "duration": 79597,
    "start_time": "2023-06-29T16:25:22.969Z"
   },
   {
    "duration": 11,
    "start_time": "2023-06-29T16:27:13.491Z"
   },
   {
    "duration": 5967,
    "start_time": "2023-06-29T16:29:15.244Z"
   },
   {
    "duration": 10,
    "start_time": "2023-06-29T16:29:44.515Z"
   },
   {
    "duration": 6698,
    "start_time": "2023-06-29T16:29:46.272Z"
   },
   {
    "duration": 34605,
    "start_time": "2023-06-29T16:30:25.587Z"
   },
   {
    "duration": 9,
    "start_time": "2023-06-29T16:31:29.202Z"
   },
   {
    "duration": 6,
    "start_time": "2023-06-29T16:31:58.874Z"
   },
   {
    "duration": 7,
    "start_time": "2023-06-29T16:32:02.324Z"
   },
   {
    "duration": 4,
    "start_time": "2023-06-29T16:32:10.234Z"
   },
   {
    "duration": 128341,
    "start_time": "2023-06-29T16:32:10.856Z"
   },
   {
    "duration": 74,
    "start_time": "2023-06-29T16:36:37.241Z"
   },
   {
    "duration": 8,
    "start_time": "2023-06-29T16:36:50.626Z"
   },
   {
    "duration": 40261,
    "start_time": "2023-06-29T16:36:53.510Z"
   },
   {
    "duration": 9,
    "start_time": "2023-06-29T16:38:17.346Z"
   },
   {
    "duration": 6,
    "start_time": "2023-06-29T16:38:22.984Z"
   },
   {
    "duration": 371400,
    "start_time": "2023-06-29T16:38:23.293Z"
   },
   {
    "duration": 11,
    "start_time": "2023-06-29T16:44:34.696Z"
   },
   {
    "duration": 57066,
    "start_time": "2023-06-29T16:44:34.709Z"
   },
   {
    "duration": 10,
    "start_time": "2023-06-29T16:47:08.235Z"
   },
   {
    "duration": 15,
    "start_time": "2023-06-29T16:48:27.028Z"
   },
   {
    "duration": 54,
    "start_time": "2023-06-29T16:48:30.153Z"
   },
   {
    "duration": 2391,
    "start_time": "2023-06-29T16:48:38.661Z"
   },
   {
    "duration": 2301,
    "start_time": "2023-06-29T16:48:41.054Z"
   },
   {
    "duration": 5,
    "start_time": "2023-06-29T16:48:43.357Z"
   },
   {
    "duration": 25,
    "start_time": "2023-06-29T16:48:43.368Z"
   },
   {
    "duration": 6,
    "start_time": "2023-06-29T16:48:43.395Z"
   },
   {
    "duration": 108,
    "start_time": "2023-06-29T16:48:43.403Z"
   },
   {
    "duration": 6,
    "start_time": "2023-06-29T16:48:43.513Z"
   },
   {
    "duration": 5,
    "start_time": "2023-06-29T16:48:43.521Z"
   },
   {
    "duration": 2762,
    "start_time": "2023-06-29T16:48:43.528Z"
   },
   {
    "duration": 3,
    "start_time": "2023-06-29T16:48:46.294Z"
   },
   {
    "duration": 16,
    "start_time": "2023-06-29T16:48:46.299Z"
   },
   {
    "duration": 3,
    "start_time": "2023-06-29T16:48:46.317Z"
   },
   {
    "duration": 50,
    "start_time": "2023-06-29T16:48:46.321Z"
   },
   {
    "duration": 18,
    "start_time": "2023-06-29T16:48:46.372Z"
   },
   {
    "duration": 18,
    "start_time": "2023-06-29T16:48:46.392Z"
   },
   {
    "duration": 20,
    "start_time": "2023-06-29T16:48:46.411Z"
   },
   {
    "duration": 54,
    "start_time": "2023-06-29T16:48:46.433Z"
   },
   {
    "duration": 1083,
    "start_time": "2023-06-29T16:48:46.489Z"
   },
   {
    "duration": 11667,
    "start_time": "2023-06-29T16:48:47.574Z"
   },
   {
    "duration": 361,
    "start_time": "2023-06-29T16:48:59.243Z"
   },
   {
    "duration": 497,
    "start_time": "2023-06-29T16:48:59.606Z"
   },
   {
    "duration": 12,
    "start_time": "2023-06-29T16:49:00.106Z"
   },
   {
    "duration": 34,
    "start_time": "2023-06-29T16:49:00.120Z"
   },
   {
    "duration": 84,
    "start_time": "2023-06-29T16:49:00.156Z"
   },
   {
    "duration": 36,
    "start_time": "2023-06-29T16:49:00.243Z"
   },
   {
    "duration": 57,
    "start_time": "2023-06-29T16:49:00.284Z"
   },
   {
    "duration": 37,
    "start_time": "2023-06-29T16:49:00.343Z"
   },
   {
    "duration": 55,
    "start_time": "2023-06-29T16:49:00.385Z"
   },
   {
    "duration": 30,
    "start_time": "2023-06-29T16:49:00.442Z"
   },
   {
    "duration": 17,
    "start_time": "2023-06-29T16:49:19.361Z"
   },
   {
    "duration": 9,
    "start_time": "2023-06-29T16:49:45.789Z"
   },
   {
    "duration": 39341,
    "start_time": "2023-06-29T16:49:47.140Z"
   },
   {
    "duration": 8,
    "start_time": "2023-06-29T16:51:31.510Z"
   },
   {
    "duration": 53310,
    "start_time": "2023-06-29T16:51:32.843Z"
   },
   {
    "duration": 6,
    "start_time": "2023-06-29T16:53:50.717Z"
   },
   {
    "duration": 10,
    "start_time": "2023-06-29T16:53:53.112Z"
   },
   {
    "duration": 12,
    "start_time": "2023-06-29T16:54:58.507Z"
   },
   {
    "duration": 10315,
    "start_time": "2023-06-29T16:54:59.029Z"
   },
   {
    "duration": 6,
    "start_time": "2023-06-29T16:57:03.704Z"
   },
   {
    "duration": 15,
    "start_time": "2023-06-29T16:57:06.377Z"
   },
   {
    "duration": 12,
    "start_time": "2023-06-29T16:57:59.205Z"
   },
   {
    "duration": 12,
    "start_time": "2023-06-29T16:59:49.772Z"
   },
   {
    "duration": 11,
    "start_time": "2023-06-29T17:51:21.587Z"
   },
   {
    "duration": 13,
    "start_time": "2023-06-29T17:51:32.059Z"
   },
   {
    "duration": 12095,
    "start_time": "2023-06-29T17:51:35.039Z"
   },
   {
    "duration": 9,
    "start_time": "2023-06-29T17:54:06.276Z"
   },
   {
    "duration": 6090,
    "start_time": "2023-06-29T17:54:06.751Z"
   },
   {
    "duration": 11,
    "start_time": "2023-06-29T17:54:17.716Z"
   },
   {
    "duration": 12,
    "start_time": "2023-06-29T17:54:33.638Z"
   },
   {
    "duration": 72,
    "start_time": "2023-06-29T17:55:01.089Z"
   },
   {
    "duration": 6330,
    "start_time": "2023-06-29T17:55:01.491Z"
   },
   {
    "duration": 7,
    "start_time": "2023-06-29T17:55:16.268Z"
   },
   {
    "duration": 8493,
    "start_time": "2023-06-29T17:55:17.662Z"
   },
   {
    "duration": 17,
    "start_time": "2023-06-29T17:55:26.157Z"
   },
   {
    "duration": 12,
    "start_time": "2023-06-29T17:55:54.996Z"
   },
   {
    "duration": 8,
    "start_time": "2023-06-29T17:56:19.908Z"
   },
   {
    "duration": 16,
    "start_time": "2023-06-29T17:56:38.437Z"
   },
   {
    "duration": 9,
    "start_time": "2023-06-29T17:57:06.604Z"
   },
   {
    "duration": 6429,
    "start_time": "2023-06-29T17:57:07.874Z"
   },
   {
    "duration": 11,
    "start_time": "2023-06-29T17:57:14.305Z"
   },
   {
    "duration": 13,
    "start_time": "2023-06-29T17:57:19.889Z"
   },
   {
    "duration": 96,
    "start_time": "2023-06-29T18:00:12.864Z"
   },
   {
    "duration": 7,
    "start_time": "2023-06-29T18:00:42.935Z"
   },
   {
    "duration": 6147,
    "start_time": "2023-06-29T18:00:48.186Z"
   },
   {
    "duration": 12,
    "start_time": "2023-06-29T18:01:03.810Z"
   },
   {
    "duration": 7,
    "start_time": "2023-06-29T18:03:14.872Z"
   },
   {
    "duration": 5975,
    "start_time": "2023-06-29T18:03:16.447Z"
   },
   {
    "duration": 11,
    "start_time": "2023-06-29T18:03:22.424Z"
   },
   {
    "duration": 12,
    "start_time": "2023-06-29T18:03:26.216Z"
   },
   {
    "duration": 6,
    "start_time": "2023-06-29T18:03:28.332Z"
   },
   {
    "duration": 10,
    "start_time": "2023-06-29T18:03:35.671Z"
   },
   {
    "duration": 7,
    "start_time": "2023-06-29T18:04:30.818Z"
   },
   {
    "duration": 6142,
    "start_time": "2023-06-29T18:04:31.376Z"
   },
   {
    "duration": 13,
    "start_time": "2023-06-29T18:04:48.049Z"
   },
   {
    "duration": 7,
    "start_time": "2023-06-29T18:05:10.093Z"
   },
   {
    "duration": 1197,
    "start_time": "2023-06-29T18:05:14.524Z"
   },
   {
    "duration": 7,
    "start_time": "2023-06-29T18:05:35.326Z"
   },
   {
    "duration": 26,
    "start_time": "2023-06-29T18:05:36.778Z"
   },
   {
    "duration": 7,
    "start_time": "2023-06-29T18:06:50.815Z"
   },
   {
    "duration": 6225,
    "start_time": "2023-06-29T18:06:51.182Z"
   },
   {
    "duration": 12,
    "start_time": "2023-06-29T18:07:18.319Z"
   },
   {
    "duration": 6636,
    "start_time": "2023-06-29T18:08:57.990Z"
   },
   {
    "duration": 5,
    "start_time": "2023-06-29T18:09:08.428Z"
   },
   {
    "duration": 699,
    "start_time": "2023-06-29T18:09:17.136Z"
   },
   {
    "duration": 8,
    "start_time": "2023-06-29T18:10:36.189Z"
   },
   {
    "duration": 18,
    "start_time": "2023-06-29T18:10:36.621Z"
   },
   {
    "duration": 8,
    "start_time": "2023-06-29T18:11:15.677Z"
   },
   {
    "duration": 16,
    "start_time": "2023-06-29T18:11:16.269Z"
   },
   {
    "duration": 7,
    "start_time": "2023-06-29T18:12:59.212Z"
   },
   {
    "duration": 6285,
    "start_time": "2023-06-29T18:12:59.840Z"
   },
   {
    "duration": 9,
    "start_time": "2023-06-29T18:13:58.794Z"
   },
   {
    "duration": 10297,
    "start_time": "2023-06-29T18:14:22.126Z"
   },
   {
    "duration": 7,
    "start_time": "2023-06-29T18:15:21.680Z"
   },
   {
    "duration": 10188,
    "start_time": "2023-06-29T18:15:21.826Z"
   },
   {
    "duration": 5,
    "start_time": "2023-06-29T18:15:51.011Z"
   },
   {
    "duration": 692,
    "start_time": "2023-06-29T18:16:05.536Z"
   },
   {
    "duration": 16,
    "start_time": "2023-06-29T18:16:44.606Z"
   },
   {
    "duration": 6,
    "start_time": "2023-06-29T18:16:51.486Z"
   },
   {
    "duration": 129285,
    "start_time": "2023-06-29T18:16:51.891Z"
   },
   {
    "duration": 9,
    "start_time": "2023-06-29T18:19:01.179Z"
   },
   {
    "duration": 7,
    "start_time": "2023-06-29T18:19:15.483Z"
   },
   {
    "duration": 5,
    "start_time": "2023-06-29T18:19:22.455Z"
   },
   {
    "duration": 4,
    "start_time": "2023-06-29T18:19:23.422Z"
   },
   {
    "duration": 136465,
    "start_time": "2023-06-29T18:19:32.220Z"
   },
   {
    "duration": 52628,
    "start_time": "2023-06-29T18:21:55.240Z"
   },
   {
    "duration": 2638,
    "start_time": "2023-06-29T18:26:31.260Z"
   },
   {
    "duration": 2288,
    "start_time": "2023-06-29T18:26:33.904Z"
   },
   {
    "duration": 6,
    "start_time": "2023-06-29T18:26:36.194Z"
   },
   {
    "duration": 35,
    "start_time": "2023-06-29T18:26:36.204Z"
   },
   {
    "duration": 42,
    "start_time": "2023-06-29T18:26:36.242Z"
   },
   {
    "duration": 107,
    "start_time": "2023-06-29T18:26:36.288Z"
   },
   {
    "duration": 7,
    "start_time": "2023-06-29T18:26:36.396Z"
   },
   {
    "duration": 11,
    "start_time": "2023-06-29T18:26:36.405Z"
   },
   {
    "duration": 2941,
    "start_time": "2023-06-29T18:26:36.418Z"
   },
   {
    "duration": 5,
    "start_time": "2023-06-29T18:26:39.366Z"
   },
   {
    "duration": 41,
    "start_time": "2023-06-29T18:26:39.373Z"
   },
   {
    "duration": 3,
    "start_time": "2023-06-29T18:26:39.416Z"
   },
   {
    "duration": 32,
    "start_time": "2023-06-29T18:26:39.421Z"
   },
   {
    "duration": 25,
    "start_time": "2023-06-29T18:26:39.455Z"
   },
   {
    "duration": 18,
    "start_time": "2023-06-29T18:26:39.481Z"
   },
   {
    "duration": 36,
    "start_time": "2023-06-29T18:26:39.501Z"
   },
   {
    "duration": 38,
    "start_time": "2023-06-29T18:26:39.538Z"
   },
   {
    "duration": 1151,
    "start_time": "2023-06-29T18:26:39.579Z"
   },
   {
    "duration": 11524,
    "start_time": "2023-06-29T18:26:40.733Z"
   },
   {
    "duration": 359,
    "start_time": "2023-06-29T18:26:52.259Z"
   },
   {
    "duration": 510,
    "start_time": "2023-06-29T18:26:52.620Z"
   },
   {
    "duration": 12,
    "start_time": "2023-06-29T18:26:53.132Z"
   },
   {
    "duration": 25,
    "start_time": "2023-06-29T18:26:53.146Z"
   },
   {
    "duration": 37,
    "start_time": "2023-06-29T18:26:53.173Z"
   },
   {
    "duration": 4,
    "start_time": "2023-06-29T18:26:53.212Z"
   },
   {
    "duration": 11,
    "start_time": "2023-06-29T18:26:53.219Z"
   },
   {
    "duration": 22,
    "start_time": "2023-06-29T18:26:53.232Z"
   },
   {
    "duration": 17,
    "start_time": "2023-06-29T18:26:53.259Z"
   },
   {
    "duration": 9,
    "start_time": "2023-06-29T18:26:53.278Z"
   },
   {
    "duration": 19,
    "start_time": "2023-06-29T18:26:53.289Z"
   },
   {
    "duration": 87823,
    "start_time": "2023-06-29T18:26:53.310Z"
   },
   {
    "duration": 6,
    "start_time": "2023-06-29T18:28:21.135Z"
   },
   {
    "duration": 689,
    "start_time": "2023-06-29T18:28:21.142Z"
   },
   {
    "duration": 7,
    "start_time": "2023-06-29T18:28:21.833Z"
   },
   {
    "duration": 119756,
    "start_time": "2023-06-29T18:28:21.842Z"
   },
   {
    "duration": 12,
    "start_time": "2023-06-29T18:30:21.600Z"
   },
   {
    "duration": 19,
    "start_time": "2023-06-29T18:30:21.614Z"
   },
   {
    "duration": 15,
    "start_time": "2023-06-29T18:30:21.635Z"
   },
   {
    "duration": 5,
    "start_time": "2023-06-29T18:30:21.652Z"
   },
   {
    "duration": 563423,
    "start_time": "2023-06-29T18:30:21.659Z"
   },
   {
    "duration": 2,
    "start_time": "2023-06-29T18:39:45.085Z"
   },
   {
    "duration": 239,
    "start_time": "2023-06-29T18:39:45.089Z"
   },
   {
    "duration": 0,
    "start_time": "2023-06-29T18:39:45.331Z"
   },
   {
    "duration": 34991,
    "start_time": "2023-06-29T18:54:22.192Z"
   },
   {
    "duration": 8,
    "start_time": "2023-06-29T18:55:29.558Z"
   },
   {
    "duration": 33023,
    "start_time": "2023-06-29T18:55:29.950Z"
   },
   {
    "duration": 437932,
    "start_time": "2023-06-29T18:57:27.041Z"
   },
   {
    "duration": 152,
    "start_time": "2023-06-29T19:06:00.566Z"
   },
   {
    "duration": 24,
    "start_time": "2023-06-29T19:17:27.535Z"
   },
   {
    "duration": 8,
    "start_time": "2023-06-29T19:29:05.975Z"
   },
   {
    "duration": 6,
    "start_time": "2023-06-29T19:29:21.698Z"
   },
   {
    "duration": 5,
    "start_time": "2023-06-29T19:29:23.441Z"
   },
   {
    "duration": 122479,
    "start_time": "2023-06-29T19:29:37.588Z"
   },
   {
    "duration": 146,
    "start_time": "2023-06-29T19:32:45.219Z"
   },
   {
    "duration": 12,
    "start_time": "2023-06-29T19:36:03.397Z"
   },
   {
    "duration": 6,
    "start_time": "2023-06-29T19:37:27.637Z"
   },
   {
    "duration": 5,
    "start_time": "2023-06-29T19:37:28.748Z"
   },
   {
    "duration": 81,
    "start_time": "2023-06-29T19:40:56.592Z"
   },
   {
    "duration": 58,
    "start_time": "2023-06-29T19:42:57.401Z"
   },
   {
    "duration": 7,
    "start_time": "2023-06-29T19:43:02.409Z"
   },
   {
    "duration": 13,
    "start_time": "2023-06-29T19:43:06.343Z"
   },
   {
    "duration": 5,
    "start_time": "2023-06-29T19:43:10.640Z"
   },
   {
    "duration": 17,
    "start_time": "2023-06-29T19:43:10.939Z"
   },
   {
    "duration": 6,
    "start_time": "2023-06-29T19:43:16.442Z"
   },
   {
    "duration": 4,
    "start_time": "2023-06-29T19:43:18.035Z"
   },
   {
    "duration": 14,
    "start_time": "2023-06-29T19:43:18.647Z"
   },
   {
    "duration": 13,
    "start_time": "2023-06-29T19:43:33.254Z"
   },
   {
    "duration": 28255,
    "start_time": "2023-06-29T19:43:53.220Z"
   },
   {
    "duration": 1228210,
    "start_time": "2023-06-29T19:47:37.664Z"
   },
   {
    "duration": 2386,
    "start_time": "2023-06-29T20:13:16.026Z"
   },
   {
    "duration": 2201,
    "start_time": "2023-06-29T20:13:18.414Z"
   },
   {
    "duration": 5,
    "start_time": "2023-06-29T20:13:20.617Z"
   },
   {
    "duration": 21,
    "start_time": "2023-06-29T20:13:20.623Z"
   },
   {
    "duration": 11,
    "start_time": "2023-06-29T20:13:20.647Z"
   },
   {
    "duration": 127,
    "start_time": "2023-06-29T20:13:20.661Z"
   },
   {
    "duration": 6,
    "start_time": "2023-06-29T20:13:20.790Z"
   },
   {
    "duration": 13,
    "start_time": "2023-06-29T20:13:20.798Z"
   },
   {
    "duration": 2643,
    "start_time": "2023-06-29T20:13:20.813Z"
   },
   {
    "duration": 3,
    "start_time": "2023-06-29T20:13:23.458Z"
   },
   {
    "duration": 24,
    "start_time": "2023-06-29T20:13:23.468Z"
   },
   {
    "duration": 7,
    "start_time": "2023-06-29T20:13:23.494Z"
   },
   {
    "duration": 20,
    "start_time": "2023-06-29T20:13:23.503Z"
   },
   {
    "duration": 17,
    "start_time": "2023-06-29T20:13:23.527Z"
   },
   {
    "duration": 40,
    "start_time": "2023-06-29T20:13:23.546Z"
   },
   {
    "duration": 20,
    "start_time": "2023-06-29T20:13:23.588Z"
   },
   {
    "duration": 20,
    "start_time": "2023-06-29T20:13:23.610Z"
   },
   {
    "duration": 1100,
    "start_time": "2023-06-29T20:13:23.632Z"
   },
   {
    "duration": 11137,
    "start_time": "2023-06-29T20:13:24.734Z"
   },
   {
    "duration": 346,
    "start_time": "2023-06-29T20:13:35.873Z"
   },
   {
    "duration": 527,
    "start_time": "2023-06-29T20:13:36.221Z"
   },
   {
    "duration": 29,
    "start_time": "2023-06-29T20:13:36.750Z"
   },
   {
    "duration": 3,
    "start_time": "2023-06-29T20:13:36.782Z"
   },
   {
    "duration": 28,
    "start_time": "2023-06-29T20:13:36.786Z"
   },
   {
    "duration": 5,
    "start_time": "2023-06-29T20:13:36.816Z"
   },
   {
    "duration": 6,
    "start_time": "2023-06-29T20:13:36.822Z"
   },
   {
    "duration": 8,
    "start_time": "2023-06-29T20:13:36.830Z"
   },
   {
    "duration": 29,
    "start_time": "2023-06-29T20:13:36.840Z"
   },
   {
    "duration": 8,
    "start_time": "2023-06-29T20:13:36.882Z"
   },
   {
    "duration": 10,
    "start_time": "2023-06-29T20:13:36.891Z"
   },
   {
    "duration": 77854,
    "start_time": "2023-06-29T20:13:36.903Z"
   },
   {
    "duration": 13,
    "start_time": "2023-06-29T20:14:54.758Z"
   },
   {
    "duration": 797,
    "start_time": "2023-06-29T20:14:54.782Z"
   },
   {
    "duration": 6,
    "start_time": "2023-06-29T20:14:55.581Z"
   },
   {
    "duration": 101182,
    "start_time": "2023-06-29T20:14:55.589Z"
   },
   {
    "duration": 12,
    "start_time": "2023-06-29T20:16:36.777Z"
   },
   {
    "duration": 179,
    "start_time": "2023-06-29T20:16:36.791Z"
   },
   {
    "duration": 0,
    "start_time": "2023-06-29T20:16:36.975Z"
   },
   {
    "duration": 0,
    "start_time": "2023-06-29T20:16:36.976Z"
   },
   {
    "duration": 0,
    "start_time": "2023-06-29T20:16:36.977Z"
   },
   {
    "duration": 0,
    "start_time": "2023-06-29T20:16:36.979Z"
   },
   {
    "duration": 0,
    "start_time": "2023-06-29T20:16:36.980Z"
   },
   {
    "duration": 0,
    "start_time": "2023-06-29T20:16:36.980Z"
   },
   {
    "duration": 93,
    "start_time": "2023-06-29T20:23:25.425Z"
   },
   {
    "duration": 6,
    "start_time": "2023-06-29T20:23:48.957Z"
   },
   {
    "duration": 2522,
    "start_time": "2023-06-29T20:37:24.326Z"
   },
   {
    "duration": 2334,
    "start_time": "2023-06-29T20:37:26.852Z"
   },
   {
    "duration": 7,
    "start_time": "2023-06-29T20:37:29.192Z"
   },
   {
    "duration": 5,
    "start_time": "2023-06-29T20:37:29.203Z"
   },
   {
    "duration": 9,
    "start_time": "2023-06-29T20:37:29.210Z"
   },
   {
    "duration": 110,
    "start_time": "2023-06-29T20:37:29.220Z"
   },
   {
    "duration": 7,
    "start_time": "2023-06-29T20:37:29.332Z"
   },
   {
    "duration": 10,
    "start_time": "2023-06-29T20:37:29.341Z"
   },
   {
    "duration": 2940,
    "start_time": "2023-06-29T20:37:29.369Z"
   },
   {
    "duration": 5,
    "start_time": "2023-06-29T20:37:32.313Z"
   },
   {
    "duration": 24,
    "start_time": "2023-06-29T20:37:32.320Z"
   },
   {
    "duration": 24,
    "start_time": "2023-06-29T20:37:32.346Z"
   },
   {
    "duration": 41,
    "start_time": "2023-06-29T20:37:32.372Z"
   },
   {
    "duration": 45,
    "start_time": "2023-06-29T20:37:32.416Z"
   },
   {
    "duration": 33,
    "start_time": "2023-06-29T20:37:32.463Z"
   },
   {
    "duration": 25,
    "start_time": "2023-06-29T20:37:32.498Z"
   },
   {
    "duration": 66,
    "start_time": "2023-06-29T20:37:32.525Z"
   },
   {
    "duration": 1148,
    "start_time": "2023-06-29T20:37:32.593Z"
   },
   {
    "duration": 12082,
    "start_time": "2023-06-29T20:37:33.743Z"
   },
   {
    "duration": 379,
    "start_time": "2023-06-29T20:37:45.828Z"
   },
   {
    "duration": 537,
    "start_time": "2023-06-29T20:37:46.209Z"
   },
   {
    "duration": 24,
    "start_time": "2023-06-29T20:37:46.748Z"
   },
   {
    "duration": 6,
    "start_time": "2023-06-29T20:37:46.774Z"
   },
   {
    "duration": 31,
    "start_time": "2023-06-29T20:37:46.785Z"
   },
   {
    "duration": 6,
    "start_time": "2023-06-29T20:37:46.819Z"
   },
   {
    "duration": 13,
    "start_time": "2023-06-29T20:37:46.828Z"
   },
   {
    "duration": 176,
    "start_time": "2023-06-29T20:37:46.843Z"
   },
   {
    "duration": 0,
    "start_time": "2023-06-29T20:37:47.021Z"
   },
   {
    "duration": 0,
    "start_time": "2023-06-29T20:37:47.023Z"
   },
   {
    "duration": 0,
    "start_time": "2023-06-29T20:37:47.025Z"
   },
   {
    "duration": 0,
    "start_time": "2023-06-29T20:37:47.027Z"
   },
   {
    "duration": 0,
    "start_time": "2023-06-29T20:37:47.029Z"
   },
   {
    "duration": 0,
    "start_time": "2023-06-29T20:37:47.031Z"
   },
   {
    "duration": 0,
    "start_time": "2023-06-29T20:37:47.032Z"
   },
   {
    "duration": 0,
    "start_time": "2023-06-29T20:37:47.034Z"
   },
   {
    "duration": 0,
    "start_time": "2023-06-29T20:37:47.036Z"
   },
   {
    "duration": 0,
    "start_time": "2023-06-29T20:37:47.038Z"
   },
   {
    "duration": 0,
    "start_time": "2023-06-29T20:37:47.040Z"
   },
   {
    "duration": 0,
    "start_time": "2023-06-29T20:37:47.067Z"
   },
   {
    "duration": 0,
    "start_time": "2023-06-29T20:37:47.072Z"
   },
   {
    "duration": 0,
    "start_time": "2023-06-29T20:37:47.073Z"
   },
   {
    "duration": 0,
    "start_time": "2023-06-29T20:37:47.074Z"
   },
   {
    "duration": 0,
    "start_time": "2023-06-29T20:37:47.074Z"
   },
   {
    "duration": 5,
    "start_time": "2023-06-29T20:38:58.386Z"
   },
   {
    "duration": 14,
    "start_time": "2023-06-29T20:39:02.163Z"
   },
   {
    "duration": 10,
    "start_time": "2023-06-29T20:39:03.169Z"
   },
   {
    "duration": 10,
    "start_time": "2023-06-29T20:39:04.155Z"
   },
   {
    "duration": 47705,
    "start_time": "2023-06-29T20:39:07.185Z"
   },
   {
    "duration": 8,
    "start_time": "2023-06-29T20:39:54.893Z"
   },
   {
    "duration": 711,
    "start_time": "2023-06-29T20:39:54.903Z"
   },
   {
    "duration": 15,
    "start_time": "2023-06-29T20:39:55.616Z"
   },
   {
    "duration": 0,
    "start_time": "2023-06-29T20:39:55.633Z"
   },
   {
    "duration": 0,
    "start_time": "2023-06-29T20:39:55.634Z"
   },
   {
    "duration": 0,
    "start_time": "2023-06-29T20:39:55.636Z"
   },
   {
    "duration": 7,
    "start_time": "2023-06-29T20:40:28.090Z"
   },
   {
    "duration": 141429,
    "start_time": "2023-06-29T20:40:32.844Z"
   },
   {
    "duration": 11,
    "start_time": "2023-06-29T20:51:27.174Z"
   },
   {
    "duration": 116390,
    "start_time": "2023-06-29T20:51:32.573Z"
   },
   {
    "duration": 106,
    "start_time": "2023-06-29T20:53:38.686Z"
   },
   {
    "duration": 72,
    "start_time": "2023-06-29T20:53:46.455Z"
   },
   {
    "duration": 38421,
    "start_time": "2023-06-29T20:53:58.944Z"
   },
   {
    "duration": 5245,
    "start_time": "2023-06-29T20:55:54.231Z"
   },
   {
    "duration": 2326,
    "start_time": "2023-06-29T20:59:16.534Z"
   },
   {
    "duration": 2218,
    "start_time": "2023-06-29T20:59:18.863Z"
   },
   {
    "duration": 6,
    "start_time": "2023-06-29T20:59:21.083Z"
   },
   {
    "duration": 8,
    "start_time": "2023-06-29T20:59:21.094Z"
   },
   {
    "duration": 8,
    "start_time": "2023-06-29T20:59:21.104Z"
   },
   {
    "duration": 127,
    "start_time": "2023-06-29T20:59:21.114Z"
   },
   {
    "duration": 31,
    "start_time": "2023-06-29T20:59:21.243Z"
   },
   {
    "duration": 3,
    "start_time": "2023-06-29T20:59:21.276Z"
   },
   {
    "duration": 2795,
    "start_time": "2023-06-29T20:59:21.281Z"
   },
   {
    "duration": 4,
    "start_time": "2023-06-29T20:59:24.082Z"
   },
   {
    "duration": 17,
    "start_time": "2023-06-29T20:59:24.088Z"
   },
   {
    "duration": 3,
    "start_time": "2023-06-29T20:59:24.107Z"
   },
   {
    "duration": 23,
    "start_time": "2023-06-29T20:59:24.113Z"
   },
   {
    "duration": 29,
    "start_time": "2023-06-29T20:59:24.168Z"
   },
   {
    "duration": 27,
    "start_time": "2023-06-29T20:59:24.199Z"
   },
   {
    "duration": 54,
    "start_time": "2023-06-29T20:59:24.228Z"
   },
   {
    "duration": 25,
    "start_time": "2023-06-29T20:59:24.284Z"
   },
   {
    "duration": 1026,
    "start_time": "2023-06-29T20:59:24.311Z"
   },
   {
    "duration": 11670,
    "start_time": "2023-06-29T20:59:25.340Z"
   },
   {
    "duration": 416,
    "start_time": "2023-06-29T20:59:37.012Z"
   },
   {
    "duration": 623,
    "start_time": "2023-06-29T20:59:37.430Z"
   },
   {
    "duration": 25,
    "start_time": "2023-06-29T20:59:38.055Z"
   },
   {
    "duration": 17,
    "start_time": "2023-06-29T20:59:38.083Z"
   },
   {
    "duration": 46,
    "start_time": "2023-06-29T20:59:38.102Z"
   },
   {
    "duration": 22,
    "start_time": "2023-06-29T20:59:38.150Z"
   },
   {
    "duration": 11,
    "start_time": "2023-06-29T20:59:38.174Z"
   },
   {
    "duration": 14,
    "start_time": "2023-06-29T20:59:38.188Z"
   },
   {
    "duration": 9,
    "start_time": "2023-06-29T20:59:38.208Z"
   },
   {
    "duration": 9,
    "start_time": "2023-06-29T20:59:38.219Z"
   },
   {
    "duration": 21,
    "start_time": "2023-06-29T20:59:38.230Z"
   },
   {
    "duration": 40832,
    "start_time": "2023-06-29T20:59:38.253Z"
   },
   {
    "duration": 6,
    "start_time": "2023-06-29T21:00:19.088Z"
   },
   {
    "duration": 718,
    "start_time": "2023-06-29T21:00:19.096Z"
   },
   {
    "duration": 11,
    "start_time": "2023-06-29T21:00:19.817Z"
   },
   {
    "duration": 2440,
    "start_time": "2023-06-29T21:05:32.308Z"
   },
   {
    "duration": 2243,
    "start_time": "2023-06-29T21:05:34.751Z"
   },
   {
    "duration": 5,
    "start_time": "2023-06-29T21:05:36.996Z"
   },
   {
    "duration": 15,
    "start_time": "2023-06-29T21:05:37.003Z"
   },
   {
    "duration": 7,
    "start_time": "2023-06-29T21:05:37.022Z"
   },
   {
    "duration": 147,
    "start_time": "2023-06-29T21:05:37.030Z"
   },
   {
    "duration": 9,
    "start_time": "2023-06-29T21:05:37.180Z"
   },
   {
    "duration": 7,
    "start_time": "2023-06-29T21:05:37.190Z"
   },
   {
    "duration": 2950,
    "start_time": "2023-06-29T21:05:37.199Z"
   },
   {
    "duration": 4,
    "start_time": "2023-06-29T21:05:40.151Z"
   },
   {
    "duration": 19,
    "start_time": "2023-06-29T21:05:40.167Z"
   },
   {
    "duration": 3,
    "start_time": "2023-06-29T21:05:40.188Z"
   },
   {
    "duration": 18,
    "start_time": "2023-06-29T21:05:40.194Z"
   },
   {
    "duration": 56,
    "start_time": "2023-06-29T21:05:40.216Z"
   },
   {
    "duration": 20,
    "start_time": "2023-06-29T21:05:40.274Z"
   },
   {
    "duration": 23,
    "start_time": "2023-06-29T21:05:40.296Z"
   },
   {
    "duration": 52,
    "start_time": "2023-06-29T21:05:40.321Z"
   },
   {
    "duration": 1070,
    "start_time": "2023-06-29T21:05:40.375Z"
   },
   {
    "duration": 11573,
    "start_time": "2023-06-29T21:05:41.448Z"
   },
   {
    "duration": 372,
    "start_time": "2023-06-29T21:05:53.023Z"
   },
   {
    "duration": 508,
    "start_time": "2023-06-29T21:05:53.397Z"
   },
   {
    "duration": 17,
    "start_time": "2023-06-29T21:05:53.907Z"
   },
   {
    "duration": 50,
    "start_time": "2023-06-29T21:05:53.926Z"
   },
   {
    "duration": 52,
    "start_time": "2023-06-29T21:05:53.978Z"
   },
   {
    "duration": 10,
    "start_time": "2023-06-29T21:05:54.033Z"
   },
   {
    "duration": 8,
    "start_time": "2023-06-29T21:05:54.046Z"
   },
   {
    "duration": 8,
    "start_time": "2023-06-29T21:05:54.057Z"
   },
   {
    "duration": 7,
    "start_time": "2023-06-29T21:05:54.068Z"
   },
   {
    "duration": 16,
    "start_time": "2023-06-29T21:05:54.077Z"
   },
   {
    "duration": 10,
    "start_time": "2023-06-29T21:05:54.096Z"
   },
   {
    "duration": 52012,
    "start_time": "2023-06-29T21:05:54.109Z"
   },
   {
    "duration": 6,
    "start_time": "2023-06-29T21:06:46.123Z"
   },
   {
    "duration": 698,
    "start_time": "2023-06-29T21:06:46.132Z"
   },
   {
    "duration": 7,
    "start_time": "2023-06-29T21:06:46.832Z"
   },
   {
    "duration": 2381,
    "start_time": "2023-06-29T21:07:59.343Z"
   },
   {
    "duration": 2404,
    "start_time": "2023-06-29T21:08:01.726Z"
   },
   {
    "duration": 9,
    "start_time": "2023-06-29T21:08:04.132Z"
   },
   {
    "duration": 14,
    "start_time": "2023-06-29T21:08:04.143Z"
   },
   {
    "duration": 8,
    "start_time": "2023-06-29T21:08:04.160Z"
   },
   {
    "duration": 110,
    "start_time": "2023-06-29T21:08:04.171Z"
   },
   {
    "duration": 9,
    "start_time": "2023-06-29T21:08:04.282Z"
   },
   {
    "duration": 4,
    "start_time": "2023-06-29T21:08:04.293Z"
   },
   {
    "duration": 2701,
    "start_time": "2023-06-29T21:08:04.299Z"
   },
   {
    "duration": 3,
    "start_time": "2023-06-29T21:08:07.002Z"
   },
   {
    "duration": 23,
    "start_time": "2023-06-29T21:08:07.008Z"
   },
   {
    "duration": 4,
    "start_time": "2023-06-29T21:08:07.033Z"
   },
   {
    "duration": 35,
    "start_time": "2023-06-29T21:08:07.039Z"
   },
   {
    "duration": 17,
    "start_time": "2023-06-29T21:08:07.080Z"
   },
   {
    "duration": 18,
    "start_time": "2023-06-29T21:08:07.099Z"
   },
   {
    "duration": 26,
    "start_time": "2023-06-29T21:08:07.119Z"
   },
   {
    "duration": 48,
    "start_time": "2023-06-29T21:08:07.147Z"
   },
   {
    "duration": 1132,
    "start_time": "2023-06-29T21:08:07.197Z"
   },
   {
    "duration": 11541,
    "start_time": "2023-06-29T21:08:08.331Z"
   },
   {
    "duration": 352,
    "start_time": "2023-06-29T21:08:19.874Z"
   },
   {
    "duration": 522,
    "start_time": "2023-06-29T21:08:20.229Z"
   },
   {
    "duration": 32,
    "start_time": "2023-06-29T21:08:20.753Z"
   },
   {
    "duration": 3,
    "start_time": "2023-06-29T21:08:20.786Z"
   },
   {
    "duration": 49,
    "start_time": "2023-06-29T21:08:20.791Z"
   },
   {
    "duration": 11,
    "start_time": "2023-06-29T21:08:20.842Z"
   },
   {
    "duration": 20,
    "start_time": "2023-06-29T21:08:20.855Z"
   },
   {
    "duration": 26,
    "start_time": "2023-06-29T21:08:20.877Z"
   },
   {
    "duration": 12,
    "start_time": "2023-06-29T21:08:20.906Z"
   },
   {
    "duration": 11,
    "start_time": "2023-06-29T21:08:20.920Z"
   },
   {
    "duration": 9,
    "start_time": "2023-06-29T21:08:20.933Z"
   },
   {
    "duration": 95069,
    "start_time": "2023-06-29T21:08:20.944Z"
   },
   {
    "duration": 6,
    "start_time": "2023-06-29T21:09:56.015Z"
   },
   {
    "duration": 712,
    "start_time": "2023-06-29T21:09:56.024Z"
   },
   {
    "duration": 9,
    "start_time": "2023-06-29T21:09:56.739Z"
   },
   {
    "duration": 215108,
    "start_time": "2023-06-29T21:09:56.750Z"
   },
   {
    "duration": 182,
    "start_time": "2023-06-29T21:13:31.860Z"
   },
   {
    "duration": 0,
    "start_time": "2023-06-29T21:13:32.044Z"
   },
   {
    "duration": 0,
    "start_time": "2023-06-29T21:13:32.045Z"
   },
   {
    "duration": 0,
    "start_time": "2023-06-29T21:13:32.047Z"
   },
   {
    "duration": 0,
    "start_time": "2023-06-29T21:13:32.048Z"
   },
   {
    "duration": 0,
    "start_time": "2023-06-29T21:13:32.049Z"
   },
   {
    "duration": 0,
    "start_time": "2023-06-29T21:13:32.050Z"
   },
   {
    "duration": 0,
    "start_time": "2023-06-29T21:13:32.051Z"
   },
   {
    "duration": 73,
    "start_time": "2023-06-29T21:14:13.657Z"
   },
   {
    "duration": 84,
    "start_time": "2023-06-29T21:14:26.553Z"
   },
   {
    "duration": 24220,
    "start_time": "2023-06-29T21:14:50.599Z"
   },
   {
    "duration": 15,
    "start_time": "2023-06-29T21:16:15.769Z"
   },
   {
    "duration": 2262,
    "start_time": "2023-06-29T21:16:25.608Z"
   },
   {
    "duration": 2172,
    "start_time": "2023-06-29T21:16:27.873Z"
   },
   {
    "duration": 5,
    "start_time": "2023-06-29T21:16:30.047Z"
   },
   {
    "duration": 48,
    "start_time": "2023-06-29T21:16:30.055Z"
   },
   {
    "duration": 69,
    "start_time": "2023-06-29T21:16:30.105Z"
   },
   {
    "duration": 108,
    "start_time": "2023-06-29T21:16:30.176Z"
   },
   {
    "duration": 8,
    "start_time": "2023-06-29T21:16:30.286Z"
   },
   {
    "duration": 20,
    "start_time": "2023-06-29T21:16:30.296Z"
   },
   {
    "duration": 2765,
    "start_time": "2023-06-29T21:16:30.318Z"
   },
   {
    "duration": 5,
    "start_time": "2023-06-29T21:16:33.086Z"
   },
   {
    "duration": 23,
    "start_time": "2023-06-29T21:16:33.092Z"
   },
   {
    "duration": 3,
    "start_time": "2023-06-29T21:16:33.117Z"
   },
   {
    "duration": 27,
    "start_time": "2023-06-29T21:16:33.122Z"
   },
   {
    "duration": 45,
    "start_time": "2023-06-29T21:16:33.151Z"
   },
   {
    "duration": 21,
    "start_time": "2023-06-29T21:16:33.197Z"
   },
   {
    "duration": 26,
    "start_time": "2023-06-29T21:16:33.221Z"
   },
   {
    "duration": 41,
    "start_time": "2023-06-29T21:16:33.250Z"
   },
   {
    "duration": 1172,
    "start_time": "2023-06-29T21:16:33.293Z"
   },
   {
    "duration": 11499,
    "start_time": "2023-06-29T21:16:34.475Z"
   },
   {
    "duration": 328,
    "start_time": "2023-06-29T21:16:45.976Z"
   },
   {
    "duration": 490,
    "start_time": "2023-06-29T21:16:46.305Z"
   },
   {
    "duration": 13,
    "start_time": "2023-06-29T21:16:46.797Z"
   },
   {
    "duration": 16,
    "start_time": "2023-06-29T21:16:46.812Z"
   },
   {
    "duration": 51,
    "start_time": "2023-06-29T21:16:46.830Z"
   },
   {
    "duration": 6,
    "start_time": "2023-06-29T21:16:46.884Z"
   },
   {
    "duration": 17,
    "start_time": "2023-06-29T21:16:46.892Z"
   },
   {
    "duration": 13,
    "start_time": "2023-06-29T21:16:46.911Z"
   },
   {
    "duration": 5,
    "start_time": "2023-06-29T21:16:46.927Z"
   },
   {
    "duration": 9,
    "start_time": "2023-06-29T21:16:46.934Z"
   },
   {
    "duration": 12,
    "start_time": "2023-06-29T21:16:46.945Z"
   },
   {
    "duration": 61561,
    "start_time": "2023-06-29T21:16:46.960Z"
   },
   {
    "duration": 5,
    "start_time": "2023-06-29T21:17:48.523Z"
   },
   {
    "duration": 719,
    "start_time": "2023-06-29T21:17:48.530Z"
   },
   {
    "duration": 24,
    "start_time": "2023-06-29T21:17:49.250Z"
   },
   {
    "duration": 23268,
    "start_time": "2023-06-29T21:17:49.278Z"
   },
   {
    "duration": 10,
    "start_time": "2023-06-29T21:18:12.548Z"
   },
   {
    "duration": 2338,
    "start_time": "2023-06-29T21:18:29.913Z"
   },
   {
    "duration": 2227,
    "start_time": "2023-06-29T21:18:32.255Z"
   },
   {
    "duration": 4,
    "start_time": "2023-06-29T21:18:34.484Z"
   },
   {
    "duration": 11,
    "start_time": "2023-06-29T21:18:34.490Z"
   },
   {
    "duration": 22,
    "start_time": "2023-06-29T21:18:34.503Z"
   },
   {
    "duration": 117,
    "start_time": "2023-06-29T21:18:34.528Z"
   },
   {
    "duration": 7,
    "start_time": "2023-06-29T21:18:34.646Z"
   },
   {
    "duration": 29,
    "start_time": "2023-06-29T21:18:34.655Z"
   },
   {
    "duration": 2552,
    "start_time": "2023-06-29T21:18:34.688Z"
   },
   {
    "duration": 3,
    "start_time": "2023-06-29T21:18:37.242Z"
   },
   {
    "duration": 44,
    "start_time": "2023-06-29T21:18:37.247Z"
   },
   {
    "duration": 3,
    "start_time": "2023-06-29T21:18:37.294Z"
   },
   {
    "duration": 17,
    "start_time": "2023-06-29T21:18:37.298Z"
   },
   {
    "duration": 16,
    "start_time": "2023-06-29T21:18:37.319Z"
   },
   {
    "duration": 45,
    "start_time": "2023-06-29T21:18:37.337Z"
   },
   {
    "duration": 21,
    "start_time": "2023-06-29T21:18:37.384Z"
   },
   {
    "duration": 29,
    "start_time": "2023-06-29T21:18:37.408Z"
   },
   {
    "duration": 1110,
    "start_time": "2023-06-29T21:18:37.439Z"
   },
   {
    "duration": 11017,
    "start_time": "2023-06-29T21:18:38.552Z"
   },
   {
    "duration": 349,
    "start_time": "2023-06-29T21:18:49.577Z"
   },
   {
    "duration": 520,
    "start_time": "2023-06-29T21:18:49.928Z"
   },
   {
    "duration": 36,
    "start_time": "2023-06-29T21:18:50.450Z"
   },
   {
    "duration": 6,
    "start_time": "2023-06-29T21:18:50.489Z"
   },
   {
    "duration": 27,
    "start_time": "2023-06-29T21:18:50.497Z"
   },
   {
    "duration": 30,
    "start_time": "2023-06-29T21:18:50.526Z"
   },
   {
    "duration": 23,
    "start_time": "2023-06-29T21:18:50.558Z"
   },
   {
    "duration": 34,
    "start_time": "2023-06-29T21:18:50.584Z"
   },
   {
    "duration": 12,
    "start_time": "2023-06-29T21:18:50.620Z"
   },
   {
    "duration": 15,
    "start_time": "2023-06-29T21:18:50.633Z"
   },
   {
    "duration": 32,
    "start_time": "2023-06-29T21:18:50.649Z"
   },
   {
    "duration": 113196,
    "start_time": "2023-06-29T21:18:50.683Z"
   },
   {
    "duration": 7,
    "start_time": "2023-06-29T21:20:43.882Z"
   },
   {
    "duration": 799,
    "start_time": "2023-06-29T21:20:43.894Z"
   },
   {
    "duration": 7,
    "start_time": "2023-06-29T21:20:44.695Z"
   },
   {
    "duration": 62,
    "start_time": "2023-06-29T21:20:44.704Z"
   },
   {
    "duration": 0,
    "start_time": "2023-06-29T21:20:44.769Z"
   },
   {
    "duration": 0,
    "start_time": "2023-06-29T21:20:44.770Z"
   },
   {
    "duration": 0,
    "start_time": "2023-06-29T21:20:44.773Z"
   },
   {
    "duration": 0,
    "start_time": "2023-06-29T21:20:44.774Z"
   },
   {
    "duration": 0,
    "start_time": "2023-06-29T21:20:44.776Z"
   },
   {
    "duration": 0,
    "start_time": "2023-06-29T21:20:44.777Z"
   },
   {
    "duration": 0,
    "start_time": "2023-06-29T21:20:44.779Z"
   },
   {
    "duration": 0,
    "start_time": "2023-06-29T21:20:44.780Z"
   },
   {
    "duration": 71887,
    "start_time": "2023-06-29T21:25:04.215Z"
   },
   {
    "duration": 13,
    "start_time": "2023-06-29T21:29:26.070Z"
   },
   {
    "duration": 45946,
    "start_time": "2023-06-29T21:32:48.855Z"
   },
   {
    "duration": 5,
    "start_time": "2023-06-29T21:38:32.367Z"
   },
   {
    "duration": 44557,
    "start_time": "2023-06-29T21:39:03.916Z"
   },
   {
    "duration": 4,
    "start_time": "2023-06-29T21:39:48.475Z"
   },
   {
    "duration": 86103,
    "start_time": "2023-06-29T21:40:34.796Z"
   },
   {
    "duration": 4,
    "start_time": "2023-06-29T21:42:00.902Z"
   },
   {
    "duration": 9,
    "start_time": "2023-06-29T21:43:54.738Z"
   },
   {
    "duration": 9,
    "start_time": "2023-06-29T21:44:18.570Z"
   },
   {
    "duration": 5265,
    "start_time": "2023-06-29T21:48:01.723Z"
   },
   {
    "duration": 5132,
    "start_time": "2023-06-29T21:48:17.120Z"
   },
   {
    "duration": 5232,
    "start_time": "2023-06-29T21:50:04.521Z"
   },
   {
    "duration": 5226,
    "start_time": "2023-06-29T21:50:13.225Z"
   },
   {
    "duration": 5306,
    "start_time": "2023-06-29T21:52:14.214Z"
   },
   {
    "duration": 5407,
    "start_time": "2023-06-29T21:52:54.406Z"
   },
   {
    "duration": 5188,
    "start_time": "2023-06-29T21:53:18.230Z"
   },
   {
    "duration": 2200,
    "start_time": "2023-06-29T21:53:40.402Z"
   },
   {
    "duration": 2094,
    "start_time": "2023-06-29T21:53:42.604Z"
   },
   {
    "duration": 5,
    "start_time": "2023-06-29T21:53:44.699Z"
   },
   {
    "duration": 15,
    "start_time": "2023-06-29T21:53:44.706Z"
   },
   {
    "duration": 14,
    "start_time": "2023-06-29T21:53:44.723Z"
   },
   {
    "duration": 121,
    "start_time": "2023-06-29T21:53:44.739Z"
   },
   {
    "duration": 9,
    "start_time": "2023-06-29T21:53:44.861Z"
   },
   {
    "duration": 11,
    "start_time": "2023-06-29T21:53:44.872Z"
   },
   {
    "duration": 2530,
    "start_time": "2023-06-29T21:53:44.885Z"
   },
   {
    "duration": 3,
    "start_time": "2023-06-29T21:53:47.417Z"
   },
   {
    "duration": 28,
    "start_time": "2023-06-29T21:53:47.421Z"
   },
   {
    "duration": 18,
    "start_time": "2023-06-29T21:53:47.451Z"
   },
   {
    "duration": 37,
    "start_time": "2023-06-29T21:53:47.470Z"
   },
   {
    "duration": 20,
    "start_time": "2023-06-29T21:53:47.513Z"
   },
   {
    "duration": 18,
    "start_time": "2023-06-29T21:53:47.536Z"
   },
   {
    "duration": 28,
    "start_time": "2023-06-29T21:53:47.557Z"
   },
   {
    "duration": 17,
    "start_time": "2023-06-29T21:53:47.586Z"
   },
   {
    "duration": 1033,
    "start_time": "2023-06-29T21:53:47.604Z"
   },
   {
    "duration": 11061,
    "start_time": "2023-06-29T21:53:48.639Z"
   },
   {
    "duration": 345,
    "start_time": "2023-06-29T21:53:59.703Z"
   },
   {
    "duration": 487,
    "start_time": "2023-06-29T21:54:00.051Z"
   },
   {
    "duration": 28,
    "start_time": "2023-06-29T21:54:00.540Z"
   },
   {
    "duration": 13,
    "start_time": "2023-06-29T21:54:00.570Z"
   },
   {
    "duration": 31,
    "start_time": "2023-06-29T21:54:00.585Z"
   },
   {
    "duration": 35,
    "start_time": "2023-06-29T21:54:00.618Z"
   },
   {
    "duration": 48,
    "start_time": "2023-06-29T21:54:00.655Z"
   },
   {
    "duration": 27,
    "start_time": "2023-06-29T21:54:00.705Z"
   },
   {
    "duration": 20,
    "start_time": "2023-06-29T21:54:00.734Z"
   },
   {
    "duration": 85,
    "start_time": "2023-06-29T21:54:00.756Z"
   },
   {
    "duration": 22,
    "start_time": "2023-06-29T21:54:00.844Z"
   },
   {
    "duration": 49050,
    "start_time": "2023-06-29T21:54:00.868Z"
   },
   {
    "duration": 6,
    "start_time": "2023-06-29T21:54:49.921Z"
   },
   {
    "duration": 667,
    "start_time": "2023-06-29T21:54:49.928Z"
   },
   {
    "duration": 7,
    "start_time": "2023-06-29T21:54:50.597Z"
   },
   {
    "duration": 103515,
    "start_time": "2023-06-29T21:54:50.605Z"
   },
   {
    "duration": 9,
    "start_time": "2023-06-29T21:56:34.122Z"
   },
   {
    "duration": 35742,
    "start_time": "2023-06-29T21:56:34.132Z"
   },
   {
    "duration": 9,
    "start_time": "2023-06-29T21:57:09.876Z"
   },
   {
    "duration": 5123,
    "start_time": "2023-06-29T21:57:09.887Z"
   },
   {
    "duration": 7,
    "start_time": "2023-06-29T21:57:15.012Z"
   },
   {
    "duration": 37,
    "start_time": "2023-06-29T21:57:15.023Z"
   },
   {
    "duration": 35,
    "start_time": "2023-06-29T21:57:15.062Z"
   },
   {
    "duration": 27477,
    "start_time": "2023-06-29T21:57:15.099Z"
   },
   {
    "duration": 201,
    "start_time": "2023-06-29T21:57:42.578Z"
   },
   {
    "duration": 0,
    "start_time": "2023-06-29T21:57:42.781Z"
   },
   {
    "duration": 0,
    "start_time": "2023-06-29T21:57:42.782Z"
   },
   {
    "duration": 2201,
    "start_time": "2023-06-29T21:58:04.931Z"
   },
   {
    "duration": 2096,
    "start_time": "2023-06-29T21:58:07.135Z"
   },
   {
    "duration": 5,
    "start_time": "2023-06-29T21:58:09.233Z"
   },
   {
    "duration": 30,
    "start_time": "2023-06-29T21:58:09.239Z"
   },
   {
    "duration": 8,
    "start_time": "2023-06-29T21:58:09.271Z"
   },
   {
    "duration": 103,
    "start_time": "2023-06-29T21:58:09.281Z"
   },
   {
    "duration": 7,
    "start_time": "2023-06-29T21:58:09.387Z"
   },
   {
    "duration": 4,
    "start_time": "2023-06-29T21:58:09.395Z"
   },
   {
    "duration": 2519,
    "start_time": "2023-06-29T21:58:09.401Z"
   },
   {
    "duration": 3,
    "start_time": "2023-06-29T21:58:11.922Z"
   },
   {
    "duration": 20,
    "start_time": "2023-06-29T21:58:11.927Z"
   },
   {
    "duration": 20,
    "start_time": "2023-06-29T21:58:11.948Z"
   },
   {
    "duration": 16,
    "start_time": "2023-06-29T21:58:11.970Z"
   },
   {
    "duration": 15,
    "start_time": "2023-06-29T21:58:11.989Z"
   },
   {
    "duration": 20,
    "start_time": "2023-06-29T21:58:12.006Z"
   },
   {
    "duration": 53,
    "start_time": "2023-06-29T21:58:12.027Z"
   },
   {
    "duration": 15,
    "start_time": "2023-06-29T21:58:12.082Z"
   },
   {
    "duration": 1070,
    "start_time": "2023-06-29T21:58:12.099Z"
   },
   {
    "duration": 10593,
    "start_time": "2023-06-29T21:58:13.172Z"
   },
   {
    "duration": 364,
    "start_time": "2023-06-29T21:58:23.768Z"
   },
   {
    "duration": 480,
    "start_time": "2023-06-29T21:58:24.134Z"
   },
   {
    "duration": 13,
    "start_time": "2023-06-29T21:58:24.616Z"
   },
   {
    "duration": 2,
    "start_time": "2023-06-29T21:58:24.631Z"
   },
   {
    "duration": 46,
    "start_time": "2023-06-29T21:58:24.635Z"
   },
   {
    "duration": 27,
    "start_time": "2023-06-29T21:58:24.683Z"
   },
   {
    "duration": 5,
    "start_time": "2023-06-29T21:58:24.712Z"
   },
   {
    "duration": 6,
    "start_time": "2023-06-29T21:58:24.719Z"
   },
   {
    "duration": 11,
    "start_time": "2023-06-29T21:58:24.727Z"
   },
   {
    "duration": 6,
    "start_time": "2023-06-29T21:58:24.740Z"
   },
   {
    "duration": 20,
    "start_time": "2023-06-29T21:58:24.747Z"
   },
   {
    "duration": 44060,
    "start_time": "2023-06-29T21:58:24.769Z"
   },
   {
    "duration": 6,
    "start_time": "2023-06-29T21:59:08.832Z"
   },
   {
    "duration": 669,
    "start_time": "2023-06-29T21:59:08.840Z"
   },
   {
    "duration": 6,
    "start_time": "2023-06-29T21:59:09.511Z"
   },
   {
    "duration": 114856,
    "start_time": "2023-06-29T21:59:09.518Z"
   },
   {
    "duration": 9,
    "start_time": "2023-06-29T22:01:04.376Z"
   },
   {
    "duration": 43663,
    "start_time": "2023-06-29T22:01:04.387Z"
   },
   {
    "duration": 14,
    "start_time": "2023-06-29T22:01:48.052Z"
   },
   {
    "duration": 21009,
    "start_time": "2023-06-29T22:01:48.068Z"
   },
   {
    "duration": 6,
    "start_time": "2023-06-29T22:02:09.079Z"
   },
   {
    "duration": 17,
    "start_time": "2023-06-29T22:02:09.091Z"
   },
   {
    "duration": 9,
    "start_time": "2023-06-29T22:02:09.110Z"
   },
   {
    "duration": 28769,
    "start_time": "2023-06-29T22:02:09.122Z"
   },
   {
    "duration": 246,
    "start_time": "2023-06-29T22:02:37.893Z"
   },
   {
    "duration": 0,
    "start_time": "2023-06-29T22:02:38.142Z"
   },
   {
    "duration": 29,
    "start_time": "2023-06-29T23:16:08.510Z"
   },
   {
    "duration": 6,
    "start_time": "2023-06-29T23:16:10.737Z"
   },
   {
    "duration": 6,
    "start_time": "2023-06-29T23:16:12.300Z"
   },
   {
    "duration": 6,
    "start_time": "2023-06-29T23:16:12.572Z"
   },
   {
    "duration": 4,
    "start_time": "2023-06-29T23:16:29.988Z"
   },
   {
    "duration": 22,
    "start_time": "2023-06-29T23:16:32.976Z"
   },
   {
    "duration": 64,
    "start_time": "2023-06-29T23:16:45.940Z"
   },
   {
    "duration": 82692,
    "start_time": "2023-06-29T23:16:57.888Z"
   },
   {
    "duration": 14,
    "start_time": "2023-06-29T23:18:42.790Z"
   },
   {
    "duration": 717,
    "start_time": "2023-06-29T23:18:43.813Z"
   },
   {
    "duration": 40472,
    "start_time": "2023-06-29T23:20:25.409Z"
   },
   {
    "duration": 2362,
    "start_time": "2023-06-29T23:23:26.709Z"
   },
   {
    "duration": 2267,
    "start_time": "2023-06-29T23:23:29.074Z"
   },
   {
    "duration": 5,
    "start_time": "2023-06-29T23:23:31.343Z"
   },
   {
    "duration": 65,
    "start_time": "2023-06-29T23:23:31.350Z"
   },
   {
    "duration": 86,
    "start_time": "2023-06-29T23:23:31.418Z"
   },
   {
    "duration": 124,
    "start_time": "2023-06-29T23:23:31.506Z"
   },
   {
    "duration": 39,
    "start_time": "2023-06-29T23:23:31.632Z"
   },
   {
    "duration": 32,
    "start_time": "2023-06-29T23:23:31.672Z"
   },
   {
    "duration": 2641,
    "start_time": "2023-06-29T23:23:31.706Z"
   },
   {
    "duration": 3,
    "start_time": "2023-06-29T23:23:34.351Z"
   },
   {
    "duration": 21,
    "start_time": "2023-06-29T23:23:34.366Z"
   },
   {
    "duration": 3,
    "start_time": "2023-06-29T23:23:34.389Z"
   },
   {
    "duration": 16,
    "start_time": "2023-06-29T23:23:34.394Z"
   },
   {
    "duration": 19,
    "start_time": "2023-06-29T23:23:34.412Z"
   },
   {
    "duration": 48,
    "start_time": "2023-06-29T23:23:34.433Z"
   },
   {
    "duration": 26,
    "start_time": "2023-06-29T23:23:34.483Z"
   },
   {
    "duration": 27,
    "start_time": "2023-06-29T23:23:34.511Z"
   },
   {
    "duration": 1086,
    "start_time": "2023-06-29T23:23:34.539Z"
   },
   {
    "duration": 10613,
    "start_time": "2023-06-29T23:23:35.627Z"
   },
   {
    "duration": 347,
    "start_time": "2023-06-29T23:23:46.241Z"
   },
   {
    "duration": 520,
    "start_time": "2023-06-29T23:23:46.590Z"
   },
   {
    "duration": 13,
    "start_time": "2023-06-29T23:23:47.112Z"
   },
   {
    "duration": 13,
    "start_time": "2023-06-29T23:23:47.127Z"
   },
   {
    "duration": 52,
    "start_time": "2023-06-29T23:23:47.142Z"
   },
   {
    "duration": 6,
    "start_time": "2023-06-29T23:23:47.197Z"
   },
   {
    "duration": 30,
    "start_time": "2023-06-29T23:23:47.206Z"
   },
   {
    "duration": 47,
    "start_time": "2023-06-29T23:23:47.239Z"
   },
   {
    "duration": 6,
    "start_time": "2023-06-29T23:23:47.292Z"
   },
   {
    "duration": 7,
    "start_time": "2023-06-29T23:23:47.301Z"
   },
   {
    "duration": 18,
    "start_time": "2023-06-29T23:23:47.310Z"
   },
   {
    "duration": 90933,
    "start_time": "2023-06-29T23:23:47.330Z"
   },
   {
    "duration": 5,
    "start_time": "2023-06-29T23:25:18.267Z"
   },
   {
    "duration": 671,
    "start_time": "2023-06-29T23:25:18.274Z"
   },
   {
    "duration": 7,
    "start_time": "2023-06-29T23:25:18.946Z"
   },
   {
    "duration": 112918,
    "start_time": "2023-06-29T23:25:18.967Z"
   },
   {
    "duration": 11,
    "start_time": "2023-06-29T23:27:11.887Z"
   },
   {
    "duration": 59219,
    "start_time": "2023-06-29T23:27:11.899Z"
   },
   {
    "duration": 10,
    "start_time": "2023-06-29T23:28:11.119Z"
   },
   {
    "duration": 19917,
    "start_time": "2023-06-29T23:28:11.130Z"
   },
   {
    "duration": 167,
    "start_time": "2023-06-29T23:28:31.049Z"
   },
   {
    "duration": 0,
    "start_time": "2023-06-29T23:28:31.218Z"
   },
   {
    "duration": 0,
    "start_time": "2023-06-29T23:28:31.219Z"
   },
   {
    "duration": 0,
    "start_time": "2023-06-29T23:28:31.221Z"
   },
   {
    "duration": 0,
    "start_time": "2023-06-29T23:28:31.222Z"
   },
   {
    "duration": 0,
    "start_time": "2023-06-29T23:28:31.223Z"
   },
   {
    "duration": 0,
    "start_time": "2023-06-29T23:28:31.224Z"
   },
   {
    "duration": 25,
    "start_time": "2023-06-29T23:31:07.146Z"
   },
   {
    "duration": 6,
    "start_time": "2023-06-29T23:45:26.231Z"
   },
   {
    "duration": 2280,
    "start_time": "2023-06-29T23:45:35.646Z"
   },
   {
    "duration": 2239,
    "start_time": "2023-06-29T23:45:37.929Z"
   },
   {
    "duration": 7,
    "start_time": "2023-06-29T23:45:40.170Z"
   },
   {
    "duration": 7,
    "start_time": "2023-06-29T23:45:40.178Z"
   },
   {
    "duration": 18,
    "start_time": "2023-06-29T23:45:40.187Z"
   },
   {
    "duration": 91,
    "start_time": "2023-06-29T23:45:40.207Z"
   },
   {
    "duration": 5,
    "start_time": "2023-06-29T23:45:40.300Z"
   },
   {
    "duration": 3,
    "start_time": "2023-06-29T23:45:40.307Z"
   },
   {
    "duration": 2562,
    "start_time": "2023-06-29T23:45:40.312Z"
   },
   {
    "duration": 3,
    "start_time": "2023-06-29T23:45:42.876Z"
   },
   {
    "duration": 23,
    "start_time": "2023-06-29T23:45:42.880Z"
   },
   {
    "duration": 3,
    "start_time": "2023-06-29T23:45:42.904Z"
   },
   {
    "duration": 15,
    "start_time": "2023-06-29T23:45:42.909Z"
   },
   {
    "duration": 43,
    "start_time": "2023-06-29T23:45:42.928Z"
   },
   {
    "duration": 20,
    "start_time": "2023-06-29T23:45:42.973Z"
   },
   {
    "duration": 20,
    "start_time": "2023-06-29T23:45:42.994Z"
   },
   {
    "duration": 59,
    "start_time": "2023-06-29T23:45:43.016Z"
   },
   {
    "duration": 1109,
    "start_time": "2023-06-29T23:45:43.077Z"
   },
   {
    "duration": 10968,
    "start_time": "2023-06-29T23:45:44.188Z"
   },
   {
    "duration": 345,
    "start_time": "2023-06-29T23:45:55.158Z"
   },
   {
    "duration": 508,
    "start_time": "2023-06-29T23:45:55.505Z"
   },
   {
    "duration": 13,
    "start_time": "2023-06-29T23:45:56.015Z"
   },
   {
    "duration": 3,
    "start_time": "2023-06-29T23:45:56.030Z"
   },
   {
    "duration": 50,
    "start_time": "2023-06-29T23:45:56.035Z"
   },
   {
    "duration": 5,
    "start_time": "2023-06-29T23:45:56.087Z"
   },
   {
    "duration": 9,
    "start_time": "2023-06-29T23:45:56.094Z"
   },
   {
    "duration": 10,
    "start_time": "2023-06-29T23:45:56.105Z"
   },
   {
    "duration": 11,
    "start_time": "2023-06-29T23:45:56.118Z"
   },
   {
    "duration": 36,
    "start_time": "2023-06-29T23:45:56.131Z"
   },
   {
    "duration": 41,
    "start_time": "2023-06-29T23:45:56.169Z"
   },
   {
    "duration": 72400,
    "start_time": "2023-06-29T23:45:56.213Z"
   },
   {
    "duration": 6,
    "start_time": "2023-06-29T23:47:08.616Z"
   },
   {
    "duration": 707,
    "start_time": "2023-06-29T23:47:08.624Z"
   },
   {
    "duration": 5,
    "start_time": "2023-06-29T23:47:09.333Z"
   },
   {
    "duration": 114747,
    "start_time": "2023-06-29T23:47:09.340Z"
   },
   {
    "duration": 10,
    "start_time": "2023-06-29T23:49:04.089Z"
   },
   {
    "duration": 43675,
    "start_time": "2023-06-29T23:49:04.100Z"
   },
   {
    "duration": 9,
    "start_time": "2023-06-29T23:49:47.777Z"
   },
   {
    "duration": 20007,
    "start_time": "2023-06-29T23:49:47.788Z"
   },
   {
    "duration": 59178,
    "start_time": "2023-06-29T23:50:07.797Z"
   },
   {
    "duration": 4,
    "start_time": "2023-06-29T23:51:06.979Z"
   },
   {
    "duration": 6041,
    "start_time": "2023-06-29T23:51:06.985Z"
   },
   {
    "duration": 5,
    "start_time": "2023-06-29T23:51:13.028Z"
   },
   {
    "duration": 6077,
    "start_time": "2023-06-29T23:51:13.034Z"
   },
   {
    "duration": 139,
    "start_time": "2023-06-29T23:51:19.113Z"
   },
   {
    "duration": 696,
    "start_time": "2023-06-29T23:51:19.254Z"
   },
   {
    "duration": 6,
    "start_time": "2023-06-29T23:52:34.497Z"
   },
   {
    "duration": 6358,
    "start_time": "2023-06-29T23:52:36.258Z"
   },
   {
    "duration": 147,
    "start_time": "2023-06-29T23:54:46.002Z"
   },
   {
    "duration": 5,
    "start_time": "2023-06-29T23:54:46.442Z"
   },
   {
    "duration": 6,
    "start_time": "2023-06-29T23:55:02.398Z"
   },
   {
    "duration": 5,
    "start_time": "2023-06-29T23:55:03.205Z"
   },
   {
    "duration": 56061,
    "start_time": "2023-06-29T23:55:11.224Z"
   },
   {
    "duration": 15,
    "start_time": "2023-06-29T23:58:51.572Z"
   },
   {
    "duration": 82301,
    "start_time": "2023-06-29T23:59:15.680Z"
   },
   {
    "duration": 150890,
    "start_time": "2023-06-30T00:01:17.981Z"
   },
   {
    "duration": 2123,
    "start_time": "2023-06-30T00:06:24.688Z"
   },
   {
    "duration": 2114,
    "start_time": "2023-06-30T00:06:26.814Z"
   },
   {
    "duration": 5,
    "start_time": "2023-06-30T00:06:28.930Z"
   },
   {
    "duration": 20,
    "start_time": "2023-06-30T00:06:28.937Z"
   },
   {
    "duration": 8,
    "start_time": "2023-06-30T00:06:28.959Z"
   },
   {
    "duration": 93,
    "start_time": "2023-06-30T00:06:28.969Z"
   },
   {
    "duration": 6,
    "start_time": "2023-06-30T00:06:29.064Z"
   },
   {
    "duration": 10,
    "start_time": "2023-06-30T00:06:29.072Z"
   },
   {
    "duration": 2530,
    "start_time": "2023-06-30T00:06:29.084Z"
   },
   {
    "duration": 3,
    "start_time": "2023-06-30T00:06:31.618Z"
   },
   {
    "duration": 43,
    "start_time": "2023-06-30T00:06:31.623Z"
   },
   {
    "duration": 18,
    "start_time": "2023-06-30T00:06:31.668Z"
   },
   {
    "duration": 54,
    "start_time": "2023-06-30T00:06:31.687Z"
   },
   {
    "duration": 35,
    "start_time": "2023-06-30T00:06:31.743Z"
   },
   {
    "duration": 30,
    "start_time": "2023-06-30T00:06:31.780Z"
   },
   {
    "duration": 36,
    "start_time": "2023-06-30T00:06:31.813Z"
   },
   {
    "duration": 39,
    "start_time": "2023-06-30T00:06:31.851Z"
   },
   {
    "duration": 1029,
    "start_time": "2023-06-30T00:06:31.892Z"
   },
   {
    "duration": 10590,
    "start_time": "2023-06-30T00:06:32.924Z"
   },
   {
    "duration": 365,
    "start_time": "2023-06-30T00:06:43.517Z"
   },
   {
    "duration": 548,
    "start_time": "2023-06-30T00:06:43.884Z"
   },
   {
    "duration": 11,
    "start_time": "2023-06-30T00:06:44.434Z"
   },
   {
    "duration": 25,
    "start_time": "2023-06-30T00:06:44.447Z"
   },
   {
    "duration": 23,
    "start_time": "2023-06-30T00:06:44.474Z"
   },
   {
    "duration": 4,
    "start_time": "2023-06-30T00:06:44.499Z"
   },
   {
    "duration": 6,
    "start_time": "2023-06-30T00:06:44.505Z"
   },
   {
    "duration": 7,
    "start_time": "2023-06-30T00:06:44.512Z"
   },
   {
    "duration": 6,
    "start_time": "2023-06-30T00:06:44.522Z"
   },
   {
    "duration": 42,
    "start_time": "2023-06-30T00:06:44.529Z"
   },
   {
    "duration": 12,
    "start_time": "2023-06-30T00:06:44.573Z"
   },
   {
    "duration": 72860,
    "start_time": "2023-06-30T00:06:44.587Z"
   },
   {
    "duration": 7,
    "start_time": "2023-06-30T00:07:57.449Z"
   },
   {
    "duration": 681,
    "start_time": "2023-06-30T00:07:57.467Z"
   },
   {
    "duration": 64,
    "start_time": "2023-06-30T00:07:58.150Z"
   },
   {
    "duration": 0,
    "start_time": "2023-06-30T00:07:58.216Z"
   },
   {
    "duration": 0,
    "start_time": "2023-06-30T00:07:58.218Z"
   },
   {
    "duration": 0,
    "start_time": "2023-06-30T00:07:58.219Z"
   },
   {
    "duration": 0,
    "start_time": "2023-06-30T00:07:58.220Z"
   },
   {
    "duration": 0,
    "start_time": "2023-06-30T00:07:58.222Z"
   },
   {
    "duration": 0,
    "start_time": "2023-06-30T00:07:58.223Z"
   },
   {
    "duration": 0,
    "start_time": "2023-06-30T00:07:58.225Z"
   },
   {
    "duration": 0,
    "start_time": "2023-06-30T00:07:58.225Z"
   },
   {
    "duration": 0,
    "start_time": "2023-06-30T00:07:58.226Z"
   },
   {
    "duration": 0,
    "start_time": "2023-06-30T00:07:58.227Z"
   },
   {
    "duration": 0,
    "start_time": "2023-06-30T00:07:58.229Z"
   },
   {
    "duration": 0,
    "start_time": "2023-06-30T00:07:58.230Z"
   },
   {
    "duration": 9,
    "start_time": "2023-06-30T00:09:04.293Z"
   },
   {
    "duration": 6,
    "start_time": "2023-06-30T00:09:09.812Z"
   },
   {
    "duration": 78483,
    "start_time": "2023-06-30T00:11:10.600Z"
   },
   {
    "duration": 10,
    "start_time": "2023-06-30T00:13:26.999Z"
   },
   {
    "duration": 60114,
    "start_time": "2023-06-30T00:13:36.072Z"
   },
   {
    "duration": 8,
    "start_time": "2023-06-30T00:14:36.188Z"
   },
   {
    "duration": 32763,
    "start_time": "2023-06-30T00:14:36.198Z"
   },
   {
    "duration": 53263,
    "start_time": "2023-06-30T00:15:08.966Z"
   },
   {
    "duration": 49250,
    "start_time": "2023-06-30T00:16:02.231Z"
   },
   {
    "duration": 5,
    "start_time": "2023-06-30T00:16:51.483Z"
   },
   {
    "duration": 278583,
    "start_time": "2023-06-30T00:16:51.490Z"
   },
   {
    "duration": 228707,
    "start_time": "2023-06-30T00:21:30.075Z"
   },
   {
    "duration": 190,
    "start_time": "2023-06-30T00:25:18.784Z"
   },
   {
    "duration": 614,
    "start_time": "2023-06-30T00:25:18.976Z"
   },
   {
    "duration": 2143,
    "start_time": "2023-06-30T00:33:48.900Z"
   },
   {
    "duration": 2070,
    "start_time": "2023-06-30T00:33:51.045Z"
   },
   {
    "duration": 5,
    "start_time": "2023-06-30T00:33:53.117Z"
   },
   {
    "duration": 17,
    "start_time": "2023-06-30T00:33:53.124Z"
   },
   {
    "duration": 9,
    "start_time": "2023-06-30T00:33:53.142Z"
   },
   {
    "duration": 115,
    "start_time": "2023-06-30T00:33:53.153Z"
   },
   {
    "duration": 8,
    "start_time": "2023-06-30T00:33:53.271Z"
   },
   {
    "duration": 3,
    "start_time": "2023-06-30T00:33:53.281Z"
   },
   {
    "duration": 2474,
    "start_time": "2023-06-30T00:33:53.286Z"
   },
   {
    "duration": 5,
    "start_time": "2023-06-30T00:33:55.762Z"
   },
   {
    "duration": 15,
    "start_time": "2023-06-30T00:33:55.769Z"
   },
   {
    "duration": 3,
    "start_time": "2023-06-30T00:33:55.785Z"
   },
   {
    "duration": 21,
    "start_time": "2023-06-30T00:33:55.789Z"
   },
   {
    "duration": 20,
    "start_time": "2023-06-30T00:33:55.812Z"
   },
   {
    "duration": 47,
    "start_time": "2023-06-30T00:33:55.834Z"
   },
   {
    "duration": 25,
    "start_time": "2023-06-30T00:33:55.883Z"
   },
   {
    "duration": 22,
    "start_time": "2023-06-30T00:33:55.910Z"
   },
   {
    "duration": 996,
    "start_time": "2023-06-30T00:33:55.933Z"
   },
   {
    "duration": 10700,
    "start_time": "2023-06-30T00:33:56.931Z"
   },
   {
    "duration": 371,
    "start_time": "2023-06-30T00:34:07.633Z"
   },
   {
    "duration": 498,
    "start_time": "2023-06-30T00:34:08.006Z"
   },
   {
    "duration": 12,
    "start_time": "2023-06-30T00:34:08.505Z"
   },
   {
    "duration": 3,
    "start_time": "2023-06-30T00:34:08.519Z"
   },
   {
    "duration": 47,
    "start_time": "2023-06-30T00:34:08.524Z"
   },
   {
    "duration": 4,
    "start_time": "2023-06-30T00:34:08.573Z"
   },
   {
    "duration": 23,
    "start_time": "2023-06-30T00:34:08.579Z"
   },
   {
    "duration": 19,
    "start_time": "2023-06-30T00:34:08.604Z"
   },
   {
    "duration": 11,
    "start_time": "2023-06-30T00:34:08.627Z"
   },
   {
    "duration": 32,
    "start_time": "2023-06-30T00:34:08.640Z"
   },
   {
    "duration": 18,
    "start_time": "2023-06-30T00:34:08.673Z"
   },
   {
    "duration": 90664,
    "start_time": "2023-06-30T00:34:08.693Z"
   },
   {
    "duration": 9,
    "start_time": "2023-06-30T00:35:39.360Z"
   },
   {
    "duration": 658,
    "start_time": "2023-06-30T00:35:39.371Z"
   },
   {
    "duration": 7,
    "start_time": "2023-06-30T00:35:40.031Z"
   },
   {
    "duration": 83884,
    "start_time": "2023-06-30T00:35:40.040Z"
   },
   {
    "duration": 13,
    "start_time": "2023-06-30T00:37:03.927Z"
   },
   {
    "duration": 58378,
    "start_time": "2023-06-30T00:37:03.942Z"
   },
   {
    "duration": 11,
    "start_time": "2023-06-30T00:38:02.322Z"
   },
   {
    "duration": 39159,
    "start_time": "2023-06-30T00:38:02.335Z"
   },
   {
    "duration": 31091,
    "start_time": "2023-06-30T00:38:41.496Z"
   },
   {
    "duration": 47227,
    "start_time": "2023-06-30T00:39:12.589Z"
   },
   {
    "duration": 5,
    "start_time": "2023-06-30T00:39:59.818Z"
   },
   {
    "duration": 271357,
    "start_time": "2023-06-30T00:39:59.825Z"
   },
   {
    "duration": 222389,
    "start_time": "2023-06-30T00:44:31.185Z"
   },
   {
    "duration": 168,
    "start_time": "2023-06-30T00:48:13.576Z"
   },
   {
    "duration": 685,
    "start_time": "2023-06-30T00:48:13.746Z"
   },
   {
    "duration": 149,
    "start_time": "2023-06-30T00:50:16.642Z"
   },
   {
    "duration": 5,
    "start_time": "2023-06-30T00:50:43.850Z"
   },
   {
    "duration": 4,
    "start_time": "2023-06-30T00:50:55.336Z"
   },
   {
    "duration": 74478,
    "start_time": "2023-06-30T00:51:12.902Z"
   },
   {
    "duration": 4,
    "start_time": "2023-06-30T00:55:29.220Z"
   },
   {
    "duration": 4,
    "start_time": "2023-06-30T00:55:37.690Z"
   },
   {
    "duration": 8,
    "start_time": "2023-06-30T00:58:16.012Z"
   },
   {
    "duration": 7,
    "start_time": "2023-06-30T00:58:45.598Z"
   },
   {
    "duration": 27,
    "start_time": "2023-06-30T00:58:52.878Z"
   },
   {
    "duration": 8,
    "start_time": "2023-06-30T01:01:08.215Z"
   },
   {
    "duration": 45728,
    "start_time": "2023-06-30T01:01:20.442Z"
   },
   {
    "duration": 163,
    "start_time": "2023-06-30T01:02:23.161Z"
   },
   {
    "duration": 2187,
    "start_time": "2023-06-30T01:02:32.642Z"
   },
   {
    "duration": 2029,
    "start_time": "2023-06-30T01:02:34.831Z"
   },
   {
    "duration": 5,
    "start_time": "2023-06-30T01:02:36.862Z"
   },
   {
    "duration": 8,
    "start_time": "2023-06-30T01:02:36.869Z"
   },
   {
    "duration": 8,
    "start_time": "2023-06-30T01:02:36.879Z"
   },
   {
    "duration": 95,
    "start_time": "2023-06-30T01:02:36.889Z"
   },
   {
    "duration": 6,
    "start_time": "2023-06-30T01:02:36.986Z"
   },
   {
    "duration": 15,
    "start_time": "2023-06-30T01:02:36.994Z"
   },
   {
    "duration": 2476,
    "start_time": "2023-06-30T01:02:37.011Z"
   },
   {
    "duration": 3,
    "start_time": "2023-06-30T01:02:39.489Z"
   },
   {
    "duration": 35,
    "start_time": "2023-06-30T01:02:39.493Z"
   },
   {
    "duration": 3,
    "start_time": "2023-06-30T01:02:39.530Z"
   },
   {
    "duration": 35,
    "start_time": "2023-06-30T01:02:39.535Z"
   },
   {
    "duration": 24,
    "start_time": "2023-06-30T01:02:39.572Z"
   },
   {
    "duration": 17,
    "start_time": "2023-06-30T01:02:39.598Z"
   },
   {
    "duration": 30,
    "start_time": "2023-06-30T01:02:39.616Z"
   },
   {
    "duration": 34,
    "start_time": "2023-06-30T01:02:39.647Z"
   },
   {
    "duration": 994,
    "start_time": "2023-06-30T01:02:39.683Z"
   },
   {
    "duration": 10261,
    "start_time": "2023-06-30T01:02:40.680Z"
   },
   {
    "duration": 338,
    "start_time": "2023-06-30T01:02:50.944Z"
   },
   {
    "duration": 470,
    "start_time": "2023-06-30T01:02:51.284Z"
   },
   {
    "duration": 19,
    "start_time": "2023-06-30T01:02:51.756Z"
   },
   {
    "duration": 3,
    "start_time": "2023-06-30T01:02:51.777Z"
   },
   {
    "duration": 31,
    "start_time": "2023-06-30T01:02:51.782Z"
   },
   {
    "duration": 6,
    "start_time": "2023-06-30T01:02:51.815Z"
   },
   {
    "duration": 7,
    "start_time": "2023-06-30T01:02:51.823Z"
   },
   {
    "duration": 21,
    "start_time": "2023-06-30T01:02:51.832Z"
   },
   {
    "duration": 4,
    "start_time": "2023-06-30T01:02:51.866Z"
   },
   {
    "duration": 15,
    "start_time": "2023-06-30T01:02:51.872Z"
   },
   {
    "duration": 30,
    "start_time": "2023-06-30T01:02:51.888Z"
   },
   {
    "duration": 40719,
    "start_time": "2023-06-30T01:02:51.920Z"
   },
   {
    "duration": 8,
    "start_time": "2023-06-30T01:03:32.642Z"
   },
   {
    "duration": 737,
    "start_time": "2023-06-30T01:03:32.653Z"
   },
   {
    "duration": 6,
    "start_time": "2023-06-30T01:03:33.392Z"
   },
   {
    "duration": 72472,
    "start_time": "2023-06-30T01:03:33.400Z"
   },
   {
    "duration": 9,
    "start_time": "2023-06-30T01:04:45.874Z"
   },
   {
    "duration": 62957,
    "start_time": "2023-06-30T01:04:45.885Z"
   },
   {
    "duration": 11,
    "start_time": "2023-06-30T01:05:48.844Z"
   },
   {
    "duration": 35109,
    "start_time": "2023-06-30T01:05:48.867Z"
   },
   {
    "duration": 43142,
    "start_time": "2023-06-30T01:06:23.978Z"
   },
   {
    "duration": 39443,
    "start_time": "2023-06-30T01:07:07.121Z"
   },
   {
    "duration": 6,
    "start_time": "2023-06-30T01:07:46.567Z"
   },
   {
    "duration": 200292,
    "start_time": "2023-06-30T01:07:46.575Z"
   },
   {
    "duration": 6,
    "start_time": "2023-06-30T01:11:06.869Z"
   },
   {
    "duration": 5,
    "start_time": "2023-06-30T01:11:06.877Z"
   },
   {
    "duration": 59983,
    "start_time": "2023-06-30T01:11:06.884Z"
   },
   {
    "duration": 165,
    "start_time": "2023-06-30T01:12:06.869Z"
   },
   {
    "duration": 654,
    "start_time": "2023-06-30T01:12:07.036Z"
   },
   {
    "duration": 48,
    "start_time": "2023-10-12T22:11:56.960Z"
   },
   {
    "duration": 3612,
    "start_time": "2023-10-12T22:12:03.950Z"
   },
   {
    "duration": 2330,
    "start_time": "2023-10-12T22:12:07.564Z"
   },
   {
    "duration": 5,
    "start_time": "2023-10-12T22:12:09.896Z"
   },
   {
    "duration": 32,
    "start_time": "2023-10-12T22:12:09.904Z"
   },
   {
    "duration": 36,
    "start_time": "2023-10-12T22:12:09.938Z"
   },
   {
    "duration": 150,
    "start_time": "2023-10-12T22:12:09.976Z"
   },
   {
    "duration": 7,
    "start_time": "2023-10-12T22:12:10.128Z"
   },
   {
    "duration": 130,
    "start_time": "2023-10-12T22:12:10.137Z"
   },
   {
    "duration": 2567,
    "start_time": "2023-10-12T22:12:10.269Z"
   },
   {
    "duration": 3,
    "start_time": "2023-10-12T22:12:12.839Z"
   },
   {
    "duration": 38,
    "start_time": "2023-10-12T22:12:12.843Z"
   },
   {
    "duration": 22,
    "start_time": "2023-10-12T22:12:12.883Z"
   },
   {
    "duration": 53,
    "start_time": "2023-10-12T22:12:12.907Z"
   },
   {
    "duration": 24,
    "start_time": "2023-10-12T22:12:12.962Z"
   },
   {
    "duration": 30,
    "start_time": "2023-10-12T22:12:12.988Z"
   },
   {
    "duration": 40,
    "start_time": "2023-10-12T22:12:13.020Z"
   },
   {
    "duration": 43,
    "start_time": "2023-10-12T22:12:13.062Z"
   },
   {
    "duration": 1064,
    "start_time": "2023-10-12T22:12:13.107Z"
   },
   {
    "duration": 10188,
    "start_time": "2023-10-12T22:12:14.173Z"
   },
   {
    "duration": 412,
    "start_time": "2023-10-12T22:12:24.362Z"
   },
   {
    "duration": 502,
    "start_time": "2023-10-12T22:12:24.776Z"
   },
   {
    "duration": 22,
    "start_time": "2023-10-12T22:12:25.279Z"
   },
   {
    "duration": 25,
    "start_time": "2023-10-12T22:12:25.303Z"
   },
   {
    "duration": 27,
    "start_time": "2023-10-12T22:12:25.330Z"
   },
   {
    "duration": 58,
    "start_time": "2023-10-12T22:12:25.360Z"
   },
   {
    "duration": 40,
    "start_time": "2023-10-12T22:12:25.419Z"
   },
   {
    "duration": 6,
    "start_time": "2023-10-12T22:12:38.390Z"
   },
   {
    "duration": 5,
    "start_time": "2023-10-12T22:12:54.081Z"
   },
   {
    "duration": 15,
    "start_time": "2023-10-12T22:12:59.061Z"
   },
   {
    "duration": 3,
    "start_time": "2023-10-12T22:12:59.733Z"
   },
   {
    "duration": 21,
    "start_time": "2023-10-12T22:13:00.249Z"
   },
   {
    "duration": 5,
    "start_time": "2023-10-12T22:13:01.981Z"
   },
   {
    "duration": 4,
    "start_time": "2023-10-12T22:13:06.123Z"
   },
   {
    "duration": 4,
    "start_time": "2023-10-12T22:13:10.619Z"
   },
   {
    "duration": 6,
    "start_time": "2023-10-12T22:13:10.853Z"
   }
  ],
  "kernelspec": {
   "display_name": "Python 3 (ipykernel)",
   "language": "python",
   "name": "python3"
  },
  "language_info": {
   "codemirror_mode": {
    "name": "ipython",
    "version": 3
   },
   "file_extension": ".py",
   "mimetype": "text/x-python",
   "name": "python",
   "nbconvert_exporter": "python",
   "pygments_lexer": "ipython3",
   "version": "3.9.5"
  },
  "toc": {
   "base_numbering": 1,
   "nav_menu": {},
   "number_sections": false,
   "sideBar": true,
   "skip_h1_title": false,
   "title_cell": "Table of Contents",
   "title_sidebar": "Contents",
   "toc_cell": false,
   "toc_position": {
    "height": "calc(100% - 180px)",
    "left": "10px",
    "top": "150px",
    "width": "371px"
   },
   "toc_section_display": true,
   "toc_window_display": false
  },
  "varInspector": {
   "cols": {
    "lenName": 16,
    "lenType": 16,
    "lenVar": 40
   },
   "kernels_config": {
    "python": {
     "delete_cmd_postfix": "",
     "delete_cmd_prefix": "del ",
     "library": "var_list.py",
     "varRefreshCmd": "print(var_dic_list())"
    },
    "r": {
     "delete_cmd_postfix": ") ",
     "delete_cmd_prefix": "rm(",
     "library": "var_list.r",
     "varRefreshCmd": "cat(var_dic_list()) "
    }
   },
   "types_to_exclude": [
    "module",
    "function",
    "builtin_function_or_method",
    "instance",
    "_Feature"
   ],
   "window_display": false
  }
 },
 "nbformat": 4,
 "nbformat_minor": 5
}
