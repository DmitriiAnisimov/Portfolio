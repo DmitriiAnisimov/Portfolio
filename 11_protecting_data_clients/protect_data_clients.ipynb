{
 "cells": [
  {
   "cell_type": "markdown",
   "metadata": {
    "toc": true
   },
   "source": [
    "<h1>Содержание<span class=\"tocSkip\"></span></h1>\n",
    "<div class=\"toc\"><ul class=\"toc-item\"><li><span><a href=\"#Загрузка-данных\" data-toc-modified-id=\"Загрузка-данных-1\"><span class=\"toc-item-num\">1&nbsp;&nbsp;</span>Загрузка данных</a></span><ul class=\"toc-item\"><li><span><a href=\"#Обзор-данных\" data-toc-modified-id=\"Обзор-данных-1.1\"><span class=\"toc-item-num\">1.1&nbsp;&nbsp;</span>Обзор данных</a></span></li><li><span><a href=\"#Проверка-на-пропуски-в-данных\" data-toc-modified-id=\"Проверка-на-пропуски-в-данных-1.2\"><span class=\"toc-item-num\">1.2&nbsp;&nbsp;</span>Проверка на пропуски в данных</a></span></li><li><span><a href=\"#Проверка-на-наличие-дубликатов-в-данных\" data-toc-modified-id=\"Проверка-на-наличие-дубликатов-в-данных-1.3\"><span class=\"toc-item-num\">1.3&nbsp;&nbsp;</span>Проверка на наличие дубликатов в данных</a></span></li><li><span><a href=\"#EDA\" data-toc-modified-id=\"EDA-1.4\"><span class=\"toc-item-num\">1.4&nbsp;&nbsp;</span>EDA</a></span></li><li><span><a href=\"#Вывод:\" data-toc-modified-id=\"Вывод:-1.5\"><span class=\"toc-item-num\">1.5&nbsp;&nbsp;</span>Вывод:</a></span></li></ul></li><li><span><a href=\"#Умножение-матриц\" data-toc-modified-id=\"Умножение-матриц-2\"><span class=\"toc-item-num\">2&nbsp;&nbsp;</span>Умножение матриц</a></span></li><li><span><a href=\"#Алгоритм-преобразования\" data-toc-modified-id=\"Алгоритм-преобразования-3\"><span class=\"toc-item-num\">3&nbsp;&nbsp;</span>Алгоритм преобразования</a></span></li><li><span><a href=\"#Проверка-алгоритма\" data-toc-modified-id=\"Проверка-алгоритма-4\"><span class=\"toc-item-num\">4&nbsp;&nbsp;</span>Проверка алгоритма</a></span><ul class=\"toc-item\"><li><span><a href=\"#Без-преобразования\" data-toc-modified-id=\"Без-преобразования-4.1\"><span class=\"toc-item-num\">4.1&nbsp;&nbsp;</span>Без преобразования</a></span></li><li><span><a href=\"#Преобразование-данных\" data-toc-modified-id=\"Преобразование-данных-4.2\"><span class=\"toc-item-num\">4.2&nbsp;&nbsp;</span>Преобразование данных</a></span></li></ul></li><li><span><a href=\"#Вывод\" data-toc-modified-id=\"Вывод-5\"><span class=\"toc-item-num\">5&nbsp;&nbsp;</span>Вывод</a></span></li><li><span><a href=\"#Чек-лист-проверки\" data-toc-modified-id=\"Чек-лист-проверки-6\"><span class=\"toc-item-num\">6&nbsp;&nbsp;</span>Чек-лист проверки</a></span></li></ul></div>"
   ]
  },
  {
   "cell_type": "markdown",
   "metadata": {},
   "source": [
    "# Защита персональных данных клиентов"
   ]
  },
  {
   "cell_type": "markdown",
   "metadata": {},
   "source": [
    "Вам нужно защитить данные клиентов страховой компании «Хоть потоп». Разработайте такой метод преобразования данных, чтобы по ним было сложно восстановить персональную информацию. Обоснуйте корректность его работы.\n",
    "\n",
    "Нужно защитить данные, чтобы при преобразовании качество моделей машинного обучения не ухудшилось. Подбирать наилучшую модель не требуется."
   ]
  },
  {
   "cell_type": "markdown",
   "metadata": {},
   "source": [
    "## Загрузка данных"
   ]
  },
  {
   "cell_type": "code",
   "execution_count": 1,
   "metadata": {},
   "outputs": [],
   "source": [
    "import pandas as pd\n",
    "import numpy as np\n",
    "import matplotlib.pyplot as plt\n",
    "import seaborn as sns\n",
    "\n",
    "from sklearn.model_selection import train_test_split\n",
    "from sklearn.preprocessing import StandardScaler\n",
    "from sklearn.pipeline import Pipeline\n",
    "from sklearn.linear_model import LinearRegression\n",
    "from sklearn.metrics import r2_score"
   ]
  },
  {
   "cell_type": "markdown",
   "metadata": {},
   "source": [
    "### Обзор данных"
   ]
  },
  {
   "cell_type": "code",
   "execution_count": 2,
   "metadata": {},
   "outputs": [],
   "source": [
    "df = pd.read_csv('/datasets/insurance.csv')"
   ]
  },
  {
   "cell_type": "code",
   "execution_count": 3,
   "metadata": {},
   "outputs": [
    {
     "data": {
      "text/html": [
       "<div>\n",
       "<style scoped>\n",
       "    .dataframe tbody tr th:only-of-type {\n",
       "        vertical-align: middle;\n",
       "    }\n",
       "\n",
       "    .dataframe tbody tr th {\n",
       "        vertical-align: top;\n",
       "    }\n",
       "\n",
       "    .dataframe thead th {\n",
       "        text-align: right;\n",
       "    }\n",
       "</style>\n",
       "<table border=\"1\" class=\"dataframe\">\n",
       "  <thead>\n",
       "    <tr style=\"text-align: right;\">\n",
       "      <th></th>\n",
       "      <th>Пол</th>\n",
       "      <th>Возраст</th>\n",
       "      <th>Зарплата</th>\n",
       "      <th>Члены семьи</th>\n",
       "      <th>Страховые выплаты</th>\n",
       "    </tr>\n",
       "  </thead>\n",
       "  <tbody>\n",
       "    <tr>\n",
       "      <th>674</th>\n",
       "      <td>1</td>\n",
       "      <td>43.0</td>\n",
       "      <td>40800.0</td>\n",
       "      <td>1</td>\n",
       "      <td>1</td>\n",
       "    </tr>\n",
       "    <tr>\n",
       "      <th>1741</th>\n",
       "      <td>1</td>\n",
       "      <td>28.0</td>\n",
       "      <td>21100.0</td>\n",
       "      <td>0</td>\n",
       "      <td>0</td>\n",
       "    </tr>\n",
       "    <tr>\n",
       "      <th>4652</th>\n",
       "      <td>1</td>\n",
       "      <td>22.0</td>\n",
       "      <td>45000.0</td>\n",
       "      <td>2</td>\n",
       "      <td>0</td>\n",
       "    </tr>\n",
       "    <tr>\n",
       "      <th>4449</th>\n",
       "      <td>1</td>\n",
       "      <td>34.0</td>\n",
       "      <td>28400.0</td>\n",
       "      <td>0</td>\n",
       "      <td>0</td>\n",
       "    </tr>\n",
       "    <tr>\n",
       "      <th>1379</th>\n",
       "      <td>1</td>\n",
       "      <td>23.0</td>\n",
       "      <td>50100.0</td>\n",
       "      <td>1</td>\n",
       "      <td>0</td>\n",
       "    </tr>\n",
       "    <tr>\n",
       "      <th>3781</th>\n",
       "      <td>0</td>\n",
       "      <td>32.0</td>\n",
       "      <td>42100.0</td>\n",
       "      <td>0</td>\n",
       "      <td>0</td>\n",
       "    </tr>\n",
       "    <tr>\n",
       "      <th>2084</th>\n",
       "      <td>0</td>\n",
       "      <td>29.0</td>\n",
       "      <td>34800.0</td>\n",
       "      <td>0</td>\n",
       "      <td>0</td>\n",
       "    </tr>\n",
       "    <tr>\n",
       "      <th>3516</th>\n",
       "      <td>1</td>\n",
       "      <td>43.0</td>\n",
       "      <td>38300.0</td>\n",
       "      <td>1</td>\n",
       "      <td>1</td>\n",
       "    </tr>\n",
       "    <tr>\n",
       "      <th>4696</th>\n",
       "      <td>1</td>\n",
       "      <td>38.0</td>\n",
       "      <td>46800.0</td>\n",
       "      <td>0</td>\n",
       "      <td>0</td>\n",
       "    </tr>\n",
       "    <tr>\n",
       "      <th>4713</th>\n",
       "      <td>0</td>\n",
       "      <td>31.0</td>\n",
       "      <td>33500.0</td>\n",
       "      <td>1</td>\n",
       "      <td>0</td>\n",
       "    </tr>\n",
       "  </tbody>\n",
       "</table>\n",
       "</div>"
      ],
      "text/plain": [
       "      Пол  Возраст  Зарплата  Члены семьи  Страховые выплаты\n",
       "674     1     43.0   40800.0            1                  1\n",
       "1741    1     28.0   21100.0            0                  0\n",
       "4652    1     22.0   45000.0            2                  0\n",
       "4449    1     34.0   28400.0            0                  0\n",
       "1379    1     23.0   50100.0            1                  0\n",
       "3781    0     32.0   42100.0            0                  0\n",
       "2084    0     29.0   34800.0            0                  0\n",
       "3516    1     43.0   38300.0            1                  1\n",
       "4696    1     38.0   46800.0            0                  0\n",
       "4713    0     31.0   33500.0            1                  0"
      ]
     },
     "execution_count": 3,
     "metadata": {},
     "output_type": "execute_result"
    }
   ],
   "source": [
    "df.sample(10)"
   ]
  },
  {
   "cell_type": "code",
   "execution_count": 4,
   "metadata": {},
   "outputs": [
    {
     "name": "stdout",
     "output_type": "stream",
     "text": [
      "<class 'pandas.core.frame.DataFrame'>\n",
      "RangeIndex: 5000 entries, 0 to 4999\n",
      "Data columns (total 5 columns):\n",
      " #   Column             Non-Null Count  Dtype  \n",
      "---  ------             --------------  -----  \n",
      " 0   Пол                5000 non-null   int64  \n",
      " 1   Возраст            5000 non-null   float64\n",
      " 2   Зарплата           5000 non-null   float64\n",
      " 3   Члены семьи        5000 non-null   int64  \n",
      " 4   Страховые выплаты  5000 non-null   int64  \n",
      "dtypes: float64(2), int64(3)\n",
      "memory usage: 195.4 KB\n"
     ]
    }
   ],
   "source": [
    "df.info()"
   ]
  },
  {
   "cell_type": "code",
   "execution_count": 5,
   "metadata": {},
   "outputs": [
    {
     "data": {
      "text/html": [
       "<div>\n",
       "<style scoped>\n",
       "    .dataframe tbody tr th:only-of-type {\n",
       "        vertical-align: middle;\n",
       "    }\n",
       "\n",
       "    .dataframe tbody tr th {\n",
       "        vertical-align: top;\n",
       "    }\n",
       "\n",
       "    .dataframe thead th {\n",
       "        text-align: right;\n",
       "    }\n",
       "</style>\n",
       "<table border=\"1\" class=\"dataframe\">\n",
       "  <thead>\n",
       "    <tr style=\"text-align: right;\">\n",
       "      <th></th>\n",
       "      <th>Пол</th>\n",
       "      <th>Возраст</th>\n",
       "      <th>Зарплата</th>\n",
       "      <th>Члены семьи</th>\n",
       "      <th>Страховые выплаты</th>\n",
       "    </tr>\n",
       "  </thead>\n",
       "  <tbody>\n",
       "    <tr>\n",
       "      <th>count</th>\n",
       "      <td>5000.000000</td>\n",
       "      <td>5000.000000</td>\n",
       "      <td>5000.000000</td>\n",
       "      <td>5000.000000</td>\n",
       "      <td>5000.000000</td>\n",
       "    </tr>\n",
       "    <tr>\n",
       "      <th>mean</th>\n",
       "      <td>0.499000</td>\n",
       "      <td>30.952800</td>\n",
       "      <td>39916.360000</td>\n",
       "      <td>1.194200</td>\n",
       "      <td>0.148000</td>\n",
       "    </tr>\n",
       "    <tr>\n",
       "      <th>std</th>\n",
       "      <td>0.500049</td>\n",
       "      <td>8.440807</td>\n",
       "      <td>9900.083569</td>\n",
       "      <td>1.091387</td>\n",
       "      <td>0.463183</td>\n",
       "    </tr>\n",
       "    <tr>\n",
       "      <th>min</th>\n",
       "      <td>0.000000</td>\n",
       "      <td>18.000000</td>\n",
       "      <td>5300.000000</td>\n",
       "      <td>0.000000</td>\n",
       "      <td>0.000000</td>\n",
       "    </tr>\n",
       "    <tr>\n",
       "      <th>25%</th>\n",
       "      <td>0.000000</td>\n",
       "      <td>24.000000</td>\n",
       "      <td>33300.000000</td>\n",
       "      <td>0.000000</td>\n",
       "      <td>0.000000</td>\n",
       "    </tr>\n",
       "    <tr>\n",
       "      <th>50%</th>\n",
       "      <td>0.000000</td>\n",
       "      <td>30.000000</td>\n",
       "      <td>40200.000000</td>\n",
       "      <td>1.000000</td>\n",
       "      <td>0.000000</td>\n",
       "    </tr>\n",
       "    <tr>\n",
       "      <th>75%</th>\n",
       "      <td>1.000000</td>\n",
       "      <td>37.000000</td>\n",
       "      <td>46600.000000</td>\n",
       "      <td>2.000000</td>\n",
       "      <td>0.000000</td>\n",
       "    </tr>\n",
       "    <tr>\n",
       "      <th>max</th>\n",
       "      <td>1.000000</td>\n",
       "      <td>65.000000</td>\n",
       "      <td>79000.000000</td>\n",
       "      <td>6.000000</td>\n",
       "      <td>5.000000</td>\n",
       "    </tr>\n",
       "  </tbody>\n",
       "</table>\n",
       "</div>"
      ],
      "text/plain": [
       "               Пол      Возраст      Зарплата  Члены семьи  Страховые выплаты\n",
       "count  5000.000000  5000.000000   5000.000000  5000.000000        5000.000000\n",
       "mean      0.499000    30.952800  39916.360000     1.194200           0.148000\n",
       "std       0.500049     8.440807   9900.083569     1.091387           0.463183\n",
       "min       0.000000    18.000000   5300.000000     0.000000           0.000000\n",
       "25%       0.000000    24.000000  33300.000000     0.000000           0.000000\n",
       "50%       0.000000    30.000000  40200.000000     1.000000           0.000000\n",
       "75%       1.000000    37.000000  46600.000000     2.000000           0.000000\n",
       "max       1.000000    65.000000  79000.000000     6.000000           5.000000"
      ]
     },
     "execution_count": 5,
     "metadata": {},
     "output_type": "execute_result"
    }
   ],
   "source": [
    "df.describe()"
   ]
  },
  {
   "cell_type": "markdown",
   "metadata": {},
   "source": [
    "### Проверка на пропуски в данных"
   ]
  },
  {
   "cell_type": "code",
   "execution_count": 6,
   "metadata": {},
   "outputs": [
    {
     "data": {
      "text/plain": [
       "Пол                  0.0\n",
       "Возраст              0.0\n",
       "Зарплата             0.0\n",
       "Члены семьи          0.0\n",
       "Страховые выплаты    0.0\n",
       "dtype: float64"
      ]
     },
     "execution_count": 6,
     "metadata": {},
     "output_type": "execute_result"
    }
   ],
   "source": [
    "df.isna().mean()"
   ]
  },
  {
   "cell_type": "markdown",
   "metadata": {},
   "source": [
    "### Проверка на наличие дубликатов в данных"
   ]
  },
  {
   "cell_type": "code",
   "execution_count": 7,
   "metadata": {},
   "outputs": [
    {
     "data": {
      "text/plain": [
       "153"
      ]
     },
     "execution_count": 7,
     "metadata": {},
     "output_type": "execute_result"
    }
   ],
   "source": [
    "df.duplicated().sum()"
   ]
  },
  {
   "cell_type": "code",
   "execution_count": 8,
   "metadata": {},
   "outputs": [],
   "source": [
    "df = df.drop_duplicates()"
   ]
  },
  {
   "cell_type": "markdown",
   "metadata": {},
   "source": [
    "### EDA"
   ]
  },
  {
   "cell_type": "code",
   "execution_count": 9,
   "metadata": {
    "scrolled": false
   },
   "outputs": [
    {
     "data": {
      "image/png": "[encoded data removed]",
      "text/plain": [
       "<Figure size 720x432 with 1 Axes>"
      ]
     },
     "metadata": {
      "needs_background": "light"
     },
     "output_type": "display_data"
    },
    {
     "data": {
      "image/png": "[encoded data removed]",
      "text/plain": [
       "<Figure size 720x432 with 1 Axes>"
      ]
     },
     "metadata": {
      "needs_background": "light"
     },
     "output_type": "display_data"
    },
    {
     "data": {
      "image/png": "[encoded data removed]",
      "text/plain": [
       "<Figure size 720x432 with 1 Axes>"
      ]
     },
     "metadata": {
      "needs_background": "light"
     },
     "output_type": "display_data"
    },
    {
     "data": {
      "image/png": "[encoded data removed]",
      "text/plain": [
       "<Figure size 720x432 with 1 Axes>"
      ]
     },
     "metadata": {
      "needs_background": "light"
     },
     "output_type": "display_data"
    }
   ],
   "source": [
    "columns = ['Возраст', 'Зарплата', 'Страховые выплаты', 'Члены семьи']\n",
    "for col in columns:\n",
    "    plt.figure(figsize=(10,6))\n",
    "    sns.histplot(df[col])\n",
    "    plt.show()"
   ]
  },
  {
   "cell_type": "code",
   "execution_count": 10,
   "metadata": {
    "scrolled": false
   },
   "outputs": [
    {
     "data": {
      "image/png": "[encoded data removed]",
      "text/plain": [
       "<Figure size 720x432 with 1 Axes>"
      ]
     },
     "metadata": {
      "needs_background": "light"
     },
     "output_type": "display_data"
    },
    {
     "data": {
      "image/png": "[encoded data removed]",
      "text/plain": [
       "<Figure size 720x432 with 1 Axes>"
      ]
     },
     "metadata": {
      "needs_background": "light"
     },
     "output_type": "display_data"
    },
    {
     "data": {
      "image/png": "[encoded data removed]",
      "text/plain": [
       "<Figure size 720x432 with 1 Axes>"
      ]
     },
     "metadata": {
      "needs_background": "light"
     },
     "output_type": "display_data"
    },
    {
     "data": {
      "image/png": "[encoded data removed]",
      "text/plain": [
       "<Figure size 720x432 with 1 Axes>"
      ]
     },
     "metadata": {
      "needs_background": "light"
     },
     "output_type": "display_data"
    }
   ],
   "source": [
    "columns = ['Возраст', 'Зарплата', 'Страховые выплаты', 'Члены семьи']\n",
    "for col in columns:\n",
    "    plt.figure(figsize=(10,6))\n",
    "    sns.boxplot(x=df[col])\n",
    "    plt.show()"
   ]
  },
  {
   "cell_type": "markdown",
   "metadata": {},
   "source": [
    "В данных есть выбросы. Значимые нарушения не выявлены."
   ]
  },
  {
   "cell_type": "markdown",
   "metadata": {},
   "source": [
    "### Вывод:\n",
    "\n",
    "Данные загружены и не имеют аномалий.<br>\n",
    "Пропусков в данных нет. <br>\n",
    "В данных было найдено и удалено 153 дубликата."
   ]
  },
  {
   "cell_type": "markdown",
   "metadata": {},
   "source": [
    "## Умножение матриц"
   ]
  },
  {
   "cell_type": "markdown",
   "metadata": {},
   "source": [
    "В этом задании вы можете записывать формулы в *Jupyter Notebook.*\n",
    "\n",
    "Чтобы записать формулу внутри текста, окружите её символами доллара \\\\$; если снаружи —  двойными символами \\\\$\\\\$. Эти формулы записываются на языке вёрстки *LaTeX.* \n",
    "\n",
    "Для примера мы записали формулы линейной регрессии. Можете их скопировать и отредактировать, чтобы решить задачу.\n",
    "\n",
    "Работать в *LaTeX* необязательно."
   ]
  },
  {
   "cell_type": "markdown",
   "metadata": {},
   "source": [
    "Обозначения:\n",
    "\n",
    "- $X$ — матрица признаков (нулевой столбец состоит из единиц)\n",
    "\n",
    "- $y$ — вектор целевого признака\n",
    "\n",
    "- $P$ — матрица, на которую умножаются признаки\n",
    "\n",
    "- $w$ — вектор весов линейной регрессии (нулевой элемент равен сдвигу)"
   ]
  },
  {
   "cell_type": "markdown",
   "metadata": {},
   "source": [
    "Предсказания:\n",
    "\n",
    "$$\n",
    "a = Xw\n",
    "$$\n",
    "\n",
    "Задача обучения:\n",
    "\n",
    "$$\n",
    "w = \\arg\\min_w MSE(Xw, y)\n",
    "$$\n",
    "\n",
    "Формула обучения:\n",
    "\n",
    "$$\n",
    "w = (X^T X)^{-1} X^T y\n",
    "$$"
   ]
  },
  {
   "cell_type": "markdown",
   "metadata": {},
   "source": [
    "x**Ответ:**  $R^2$ не изменится.<br>\n",
    "\n",
    "Заменим матрицу $X$ на матрицу $Z$:\n",
    "\n",
    "$$\n",
    "Z = XP \\qquad (2.1)\n",
    "$$\n",
    "\n",
    "где $P$ - обратимая матрица с некими значениями, на которую может быть умножена матрица $X$. \n",
    "\n",
    "**Обоснование:** <br>\n",
    "\n",
    "Заменим $X$ на $Z$ и вычислим, чему будет равено предсказание и вектор весов.\n",
    "\n",
    "$$\n",
    "a_1 = Zw_1 \\qquad (2.2)\n",
    "$$\n",
    "$$\n",
    "w_1 = (Z^T Z)^{-1} Z^T y \\qquad (2.3)\n",
    "$$\n",
    "\n",
    "Подставим уравнение 2.2 правую часть уравнения 2.3 и получим следущее:\n",
    "\n",
    "$$\n",
    "a_1 = Z (Z^T Z)^{-1} Z^T y \\qquad (2.4)\n",
    "$$\n",
    "\n",
    "Заменим все $Z$ правой частью уравнения 2.1:\n",
    "\n",
    "$$\n",
    "a_1 = XP ((XP)^T (XP))^{-1} (XP)^T y \\qquad (2.5)\n",
    "$$\n",
    "\n",
    "Для следующего шага понадобится следующее свойсво обратной матрицы:\n",
    "\n",
    "$$\n",
    "(AB)^{-1} = B^{-1} A^{-1}\n",
    "$$\n",
    "\n",
    "Раскроем $((XP)^T (XP))^{-1}$ в два шага:\n",
    "\n",
    "$$\n",
    "a_1 = XP ((XP)^T (XP))^{-1} (XP)^T y = XP(XP)^{-1}((XP)^T)^{-1} (XP)^T y = XPP^{-1}X^{-1}((XP)^T)^{-1} (XP)^T y  \\qquad (2.6)\n",
    "$$\n",
    "\n",
    "Умножение приведет к $PP^{-1} = E$. Для следуюзего этапа воспользуемся свойством транспорнированной матрицы:\n",
    "\n",
    "$$\n",
    "(AB)^T = B^T A^T\n",
    "$$\n",
    "\n",
    "Умножение на единичную матрицу ничего не меняет. Раскроем $((XP)^T)^{-1} (XP)^T$ в три шага:\n",
    "\n",
    "$$\n",
    "a_1 = XEX^{-1}((XP)^T)^{-1} (XP)^T y = XX^{-1}(P^T X^T)^{-1} P^T X^T y = XX^{-1} (X^T)^{-1} (P^T)^{-1}  P^T X^T y   \\qquad (2.7)\n",
    "$$\n",
    "\n",
    "Умножение приведет к $(P^T)^{-1}  P^T = E$. Посмотрим, что осталось от уравнения 2.7:\n",
    "\n",
    "$$\n",
    "a_1 = XX^{-1} (X^T)^{-1} E X^T y = X(X^T X)^{-1} X^T y = Xw = a  \\qquad (2.8)\n",
    "$$\n",
    "\n",
    "Как видно, значение предсказания $a$ не меняется, если умножать матрицу признаков на обратимую матрицу."
   ]
  },
  {
   "cell_type": "markdown",
   "metadata": {},
   "source": [
    "$$\n",
    "a = Xw = XEw = XPP^{-1}w = (XP)P^{-1}w = (XP)w'\n",
    "$$\n",
    "\n",
    "$$\n",
    "w' = ((XP)^T XP)^{-1} (XP)^T y\n",
    "$$\n",
    "$$\n",
    "w' = (P^T (X^T X) P)^{-1} (XP)^T y\n",
    "$$\n",
    "$$\n",
    ".....|\n",
    "$$"
   ]
  },
  {
   "cell_type": "markdown",
   "metadata": {},
   "source": [
    "По свойству обратной матрицы: при умножение матрицы на обратную ей получается единичная матрица $E$\n",
    "\n",
    "$$\n",
    "E = (P^T)^{-1}P^T\n",
    "$$\n",
    "\n",
    "$$\n",
    "w' = (X^T X)^{-1} (EP)^{-1} X^T y\n",
    "$$\n",
    "\n",
    "При умножении любой матрицы на единичную матрицу получается таже самая матрица, тогда:\n",
    "\n",
    "$$\n",
    "w' = (X^T X)^{-1} P^{-1} X^T y\n",
    "$$\n",
    "\n",
    "Тода $w'$ можно представить $w'= P^{-1}w$, где $w = (X^T X)^{-1} X^T y $\n",
    "\n",
    "$$\n",
    "A = Z (P^{-1}w) \n",
    "$$\n",
    "$$\n",
    "A = XP (P^{-1}w) \n",
    "$$\n",
    "По свойству обратной матрицы и еденичной матрицы сокращаем $P$ и $P^{-1}$\n",
    "\n",
    "$$\n",
    "A = Xw\n",
    "$$"
   ]
  },
  {
   "cell_type": "markdown",
   "metadata": {},
   "source": [
    "$$\n",
    "a = Xw = XEw = XPP^{-1}w = (XP)P^{-1}w = (XP)w'\n",
    "$$\n",
    "\n",
    "$$\n",
    "w' = ((XP)^T XP)^{-1} (XP)^T y\n",
    "$$\n",
    "$$\n",
    "w' = (P^T (X^T X) P)^{-1} (XP)^T y\n",
    "$$\n",
    "$$\n",
    ".......\n",
    "$$"
   ]
  },
  {
   "cell_type": "markdown",
   "metadata": {},
   "source": [
    "$$\n",
    "w' = (P^T (X^T X) P)^{-1} (XP)^T y\n",
    "$$\n",
    "$$\n",
    "w' = P^{-1} (X^T X)^{-1} (P^T)^{-1} P^T X^T y\n",
    "$$\n",
    "$$\n",
    "w' = P^{-1} (X^T X)^{-1} E X^T y \n",
    "$$\n",
    "$$\n",
    "w' = P^{-1} (X^T X)^{-1} X^T y \n",
    "$$\n",
    "$$\n",
    "w = (X^T X)^{-1} X^T y \n",
    "$$\n",
    "$$\n",
    "w' = P^{-1} w\n",
    "$$\n",
    "$$\n",
    "A = Z (P^{-1}w) \n",
    "$$\n",
    "$$\n",
    "A = XP (P^{-1}w)\n",
    "$$\n",
    "$$\n",
    "A = Xw\n",
    "$$"
   ]
  },
  {
   "cell_type": "markdown",
   "metadata": {},
   "source": [
    "## Алгоритм преобразования"
   ]
  },
  {
   "cell_type": "markdown",
   "metadata": {},
   "source": [
    "**Алгоритм**\n",
    "\n",
    "Для защиты информации на этапе поиска коэффициентов регрессии и предсказаний регрессии будем умножать матрицу $Y$ признаков на обратимую матрицу, сгенерированную случайным образом.\n",
    "\n",
    "Этапы алгоритма:\n",
    "1. Составление матрицы $Y$.\n",
    "2. Проверка матрицы на обратимость. Вычисление детерминанта матрицы $Y$.\n",
    "3. Получение матрицы преобразованных признаков $Z = XY$.\n",
    "4. Применение алгоритма на преобразованных признаках $Z$."
   ]
  },
  {
   "cell_type": "markdown",
   "metadata": {},
   "source": [
    "**Обоснование**\n",
    "\n",
    "Матрица $Y$ должна иметь необходимую размерность $(nxn)$, где n - количество признаков для регрессии.\n",
    "Таким образом матрица $Z$ будет иметь туже размерность, что и матрица $X$. Обратная матрица $Y$ существует только для квадратных невырожденных матриц (определитель которых не равен нулю).\n",
    "\n",
    "Пример:\n",
    "\n",
    "$\n",
    "X = \\begin{pmatrix}\n",
    "1 & 2 \\\\\n",
    "2 & 3 \\\\\n",
    "4 & 5  \n",
    "\\end{pmatrix}\n",
    "\\qquad \n",
    "Y = \\begin{pmatrix}\n",
    "1 & 0 \\\\\n",
    "2 & 3 \\\\  \n",
    "\\end{pmatrix}\n",
    "\\qquad det  Y = 3 $\n",
    "\n",
    "Найдем значние Z:\n",
    "\n",
    "$\n",
    "Z = \\begin{pmatrix}\n",
    "1 & 2 \\\\\n",
    "2 & 3 \\\\\n",
    "4 & 5  \n",
    "\\end{pmatrix} \\begin{pmatrix}\n",
    "1 & 0 \\\\\n",
    "2 & 3 \\\\  \n",
    "\\end{pmatrix} = \\begin{pmatrix}\n",
    "1*1+2*2 & 1*0+2*3  \\\\\n",
    "2*1+3*2 & 2*0+3*3  \\\\\n",
    "4*1+5*2 & 4*0+5*3   \n",
    "\\end{pmatrix} = \\begin{pmatrix}\n",
    "5 & 6 \\\\\n",
    "8 & 9 \\\\\n",
    "14 & 15  \n",
    "\\end{pmatrix}$\n",
    "\n",
    "После этого добавляем нулевой столбец и вводим данные в линейную регрессию."
   ]
  },
  {
   "cell_type": "markdown",
   "metadata": {},
   "source": [
    "## Проверка алгоритма"
   ]
  },
  {
   "cell_type": "markdown",
   "metadata": {},
   "source": [
    "### Без преобразования"
   ]
  },
  {
   "cell_type": "code",
   "execution_count": 11,
   "metadata": {},
   "outputs": [
    {
     "data": {
      "text/plain": [
       "((4847, 4), (4847,))"
      ]
     },
     "execution_count": 11,
     "metadata": {},
     "output_type": "execute_result"
    }
   ],
   "source": [
    "X = df.drop(\"Страховые выплаты\", axis=1)\n",
    "y = df[\"Страховые выплаты\"]\n",
    "\n",
    "X.shape, y.shape"
   ]
  },
  {
   "cell_type": "code",
   "execution_count": 12,
   "metadata": {},
   "outputs": [],
   "source": [
    "X_train, X_test, y_train, y_test = train_test_split(X, y,\n",
    "                                                   train_size=.8,\n",
    "                                                   random_state=42)"
   ]
  },
  {
   "cell_type": "code",
   "execution_count": 13,
   "metadata": {},
   "outputs": [],
   "source": [
    "lr = LinearRegression()"
   ]
  },
  {
   "cell_type": "code",
   "execution_count": 14,
   "metadata": {},
   "outputs": [
    {
     "data": {
      "text/plain": [
       "LinearRegression()"
      ]
     },
     "execution_count": 14,
     "metadata": {},
     "output_type": "execute_result"
    }
   ],
   "source": [
    "lr.fit(X_train, y_train)"
   ]
  },
  {
   "cell_type": "code",
   "execution_count": 15,
   "metadata": {},
   "outputs": [],
   "source": [
    "scaller = StandardScaler()"
   ]
  },
  {
   "cell_type": "code",
   "execution_count": 16,
   "metadata": {},
   "outputs": [],
   "source": [
    "pipeline = Pipeline([(\"standard_scaller\", scaller),(\"linear_regression\", lr)])"
   ]
  },
  {
   "cell_type": "code",
   "execution_count": 17,
   "metadata": {},
   "outputs": [
    {
     "data": {
      "text/plain": [
       "Pipeline(steps=[('standard_scaller', StandardScaler()),\n",
       "                ('linear_regression', LinearRegression())])"
      ]
     },
     "execution_count": 17,
     "metadata": {},
     "output_type": "execute_result"
    }
   ],
   "source": [
    "pipeline.fit(X_train, y_train)"
   ]
  },
  {
   "cell_type": "code",
   "execution_count": 18,
   "metadata": {},
   "outputs": [
    {
     "name": "stdout",
     "output_type": "stream",
     "text": [
      "R2 = 0.43926641677497846\n"
     ]
    }
   ],
   "source": [
    "R2 = r2_score(y_test, pipeline.predict(X_test))\n",
    "print(\"R2 =\", R2)"
   ]
  },
  {
   "cell_type": "markdown",
   "metadata": {},
   "source": [
    "### Преобразование данных"
   ]
  },
  {
   "cell_type": "markdown",
   "metadata": {},
   "source": [
    "Создадим функцию преобразования матрицы признаков."
   ]
  },
  {
   "cell_type": "code",
   "execution_count": 19,
   "metadata": {},
   "outputs": [],
   "source": [
    "def cipher_features(features):\n",
    "    crypted_features = features\n",
    "    n = features.shape[1]\n",
    "    np.random.seed(7072020)\n",
    "    cipher_matrix = np.random.randint(1, 10, (n,n))\n",
    "    det = np.linalg.det(cipher_matrix)\n",
    "    while det == 0:\n",
    "        np.random.seed(12345)\n",
    "        cipher_matrix = np.random.randint(1, 10, (n,n))\n",
    "        det = np.linalg.det(cipher_matrix)\n",
    "    crypted_features = crypted_features @ cipher_matrix\n",
    "    return crypted_features, cipher_matrix"
   ]
  },
  {
   "cell_type": "code",
   "execution_count": 20,
   "metadata": {},
   "outputs": [
    {
     "data": {
      "text/html": [
       "<div>\n",
       "<style scoped>\n",
       "    .dataframe tbody tr th:only-of-type {\n",
       "        vertical-align: middle;\n",
       "    }\n",
       "\n",
       "    .dataframe tbody tr th {\n",
       "        vertical-align: top;\n",
       "    }\n",
       "\n",
       "    .dataframe thead th {\n",
       "        text-align: right;\n",
       "    }\n",
       "</style>\n",
       "<table border=\"1\" class=\"dataframe\">\n",
       "  <thead>\n",
       "    <tr style=\"text-align: right;\">\n",
       "      <th></th>\n",
       "      <th>Пол</th>\n",
       "      <th>Возраст</th>\n",
       "      <th>Зарплата</th>\n",
       "      <th>Члены семьи</th>\n",
       "    </tr>\n",
       "  </thead>\n",
       "  <tbody>\n",
       "    <tr>\n",
       "      <th>0</th>\n",
       "      <td>1</td>\n",
       "      <td>41.0</td>\n",
       "      <td>49600.0</td>\n",
       "      <td>1</td>\n",
       "    </tr>\n",
       "    <tr>\n",
       "      <th>1</th>\n",
       "      <td>0</td>\n",
       "      <td>46.0</td>\n",
       "      <td>38000.0</td>\n",
       "      <td>1</td>\n",
       "    </tr>\n",
       "    <tr>\n",
       "      <th>2</th>\n",
       "      <td>0</td>\n",
       "      <td>29.0</td>\n",
       "      <td>21000.0</td>\n",
       "      <td>0</td>\n",
       "    </tr>\n",
       "    <tr>\n",
       "      <th>3</th>\n",
       "      <td>0</td>\n",
       "      <td>21.0</td>\n",
       "      <td>41700.0</td>\n",
       "      <td>2</td>\n",
       "    </tr>\n",
       "    <tr>\n",
       "      <th>4</th>\n",
       "      <td>1</td>\n",
       "      <td>28.0</td>\n",
       "      <td>26100.0</td>\n",
       "      <td>0</td>\n",
       "    </tr>\n",
       "  </tbody>\n",
       "</table>\n",
       "</div>"
      ],
      "text/plain": [
       "   Пол  Возраст  Зарплата  Члены семьи\n",
       "0    1     41.0   49600.0            1\n",
       "1    0     46.0   38000.0            1\n",
       "2    0     29.0   21000.0            0\n",
       "3    0     21.0   41700.0            2\n",
       "4    1     28.0   26100.0            0"
      ]
     },
     "metadata": {},
     "output_type": "display_data"
    },
    {
     "data": {
      "text/html": [
       "<div>\n",
       "<style scoped>\n",
       "    .dataframe tbody tr th:only-of-type {\n",
       "        vertical-align: middle;\n",
       "    }\n",
       "\n",
       "    .dataframe tbody tr th {\n",
       "        vertical-align: top;\n",
       "    }\n",
       "\n",
       "    .dataframe thead th {\n",
       "        text-align: right;\n",
       "    }\n",
       "</style>\n",
       "<table border=\"1\" class=\"dataframe\">\n",
       "  <thead>\n",
       "    <tr style=\"text-align: right;\">\n",
       "      <th></th>\n",
       "      <th>Пол</th>\n",
       "      <th>Возраст</th>\n",
       "      <th>Зарплата</th>\n",
       "      <th>Члены семьи</th>\n",
       "    </tr>\n",
       "  </thead>\n",
       "  <tbody>\n",
       "    <tr>\n",
       "      <th>0</th>\n",
       "      <td>397184.0</td>\n",
       "      <td>49981.0</td>\n",
       "      <td>99373.0</td>\n",
       "      <td>248097.0</td>\n",
       "    </tr>\n",
       "    <tr>\n",
       "      <th>1</th>\n",
       "      <td>304422.0</td>\n",
       "      <td>38421.0</td>\n",
       "      <td>76185.0</td>\n",
       "      <td>190101.0</td>\n",
       "    </tr>\n",
       "    <tr>\n",
       "      <th>2</th>\n",
       "      <td>168261.0</td>\n",
       "      <td>21261.0</td>\n",
       "      <td>42116.0</td>\n",
       "      <td>105058.0</td>\n",
       "    </tr>\n",
       "    <tr>\n",
       "      <th>3</th>\n",
       "      <td>333805.0</td>\n",
       "      <td>41903.0</td>\n",
       "      <td>83486.0</td>\n",
       "      <td>208560.0</td>\n",
       "    </tr>\n",
       "    <tr>\n",
       "      <th>4</th>\n",
       "      <td>209059.0</td>\n",
       "      <td>26357.0</td>\n",
       "      <td>52320.0</td>\n",
       "      <td>130562.0</td>\n",
       "    </tr>\n",
       "  </tbody>\n",
       "</table>\n",
       "</div>"
      ],
      "text/plain": [
       "        Пол  Возраст  Зарплата  Члены семьи\n",
       "0  397184.0  49981.0   99373.0     248097.0\n",
       "1  304422.0  38421.0   76185.0     190101.0\n",
       "2  168261.0  21261.0   42116.0     105058.0\n",
       "3  333805.0  41903.0   83486.0     208560.0\n",
       "4  209059.0  26357.0   52320.0     130562.0"
      ]
     },
     "metadata": {},
     "output_type": "display_data"
    }
   ],
   "source": [
    "display(X.head())\n",
    "X_new, cipher_matrix = cipher_features(X)\n",
    "X_new.columns = X.columns\n",
    "display(X_new.head())"
   ]
  },
  {
   "cell_type": "markdown",
   "metadata": {},
   "source": [
    "После преобразования, данные хранятся в зашифрованном виде. <br>Разобьем данные на тренировочную и обучающую выборку и проверим $R2$ значение."
   ]
  },
  {
   "cell_type": "code",
   "execution_count": 21,
   "metadata": {},
   "outputs": [],
   "source": [
    "X_train_new, X_test_new = train_test_split(X_new,\n",
    "                                           train_size=.8,\n",
    "                                           random_state=42)"
   ]
  },
  {
   "cell_type": "code",
   "execution_count": 22,
   "metadata": {},
   "outputs": [],
   "source": [
    "pipeline_new = Pipeline([(\"standard_scaller\", scaller),(\"linear_regression\", lr)])"
   ]
  },
  {
   "cell_type": "code",
   "execution_count": 23,
   "metadata": {},
   "outputs": [
    {
     "data": {
      "text/plain": [
       "Pipeline(steps=[('standard_scaller', StandardScaler()),\n",
       "                ('linear_regression', LinearRegression())])"
      ]
     },
     "execution_count": 23,
     "metadata": {},
     "output_type": "execute_result"
    }
   ],
   "source": [
    "pipeline.fit(X_train_new, y_train)"
   ]
  },
  {
   "cell_type": "code",
   "execution_count": 24,
   "metadata": {},
   "outputs": [
    {
     "name": "stdout",
     "output_type": "stream",
     "text": [
      "R2_new = 0.43926641677497846\n"
     ]
    }
   ],
   "source": [
    "R2_new = r2_score(y_test, pipeline.predict(X_test_new))\n",
    "print(\"R2_new =\", R2)"
   ]
  },
  {
   "cell_type": "code",
   "execution_count": 25,
   "metadata": {},
   "outputs": [
    {
     "name": "stdout",
     "output_type": "stream",
     "text": [
      "Линейная регрессия: 0.43926641677497846\n",
      "Линейная регрессия на преобразованных признаках: 0.43926641677499323\n"
     ]
    }
   ],
   "source": [
    "print(f'Линейная регрессия: {R2}')\n",
    "print(f'Линейная регрессия на преобразованных признаках: {R2_new}')"
   ]
  },
  {
   "cell_type": "markdown",
   "metadata": {},
   "source": [
    "## Вывод\n",
    "\n",
    "1. Загружены и изучены данные.\n",
    "2. Качество линейной регресии не изменилось от использования исодной матрици и исходной матрицы, умноженную на обратимую.\n",
    "3. Создан алгоритм преобразования данных.\n",
    "4. Исследован алгоритм преобразования данных и проверена метрика R2 для данных без преобразования и с ним.\n",
    "\n",
    "По результатам работы использования матричных операций можно увидеть, что данные очень просто зашифровать от распознования, имея правильную матрицу."
   ]
  },
  {
   "cell_type": "markdown",
   "metadata": {},
   "source": [
    "## Чек-лист проверки"
   ]
  },
  {
   "cell_type": "markdown",
   "metadata": {},
   "source": [
    "Поставьте 'x' в выполненных пунктах. Далее нажмите Shift+Enter."
   ]
  },
  {
   "cell_type": "markdown",
   "metadata": {},
   "source": [
    "- [x]  Jupyter Notebook открыт\n",
    "- [x]  Весь код выполняется без ошибок\n",
    "- [x]  Ячейки с кодом расположены в порядке исполнения\n",
    "- [x]  Выполнен шаг 1: данные загружены\n",
    "- [x]  Выполнен шаг 2: получен ответ на вопрос об умножении матриц\n",
    "    - [x]  Указан правильный вариант ответа\n",
    "    - [x]  Вариант обоснован\n",
    "- [x]  Выполнен шаг 3: предложен алгоритм преобразования\n",
    "    - [x]  Алгоритм описан\n",
    "    - [x]  Алгоритм обоснован\n",
    "- [x]  Выполнен шаг 4: алгоритм проверен\n",
    "    - [x]  Алгоритм реализован\n",
    "    - [x]  Проведено сравнение качества моделей до и после преобразования"
   ]
  }
 ],
 "metadata": {
  "ExecuteTimeLog": [
   {
    "duration": 465,
    "start_time": "2023-04-08T16:13:04.871Z"
   },
   {
    "duration": 83,
    "start_time": "2023-04-08T16:14:55.843Z"
   },
   {
    "duration": 19,
    "start_time": "2023-04-08T16:15:03.665Z"
   },
   {
    "duration": 49,
    "start_time": "2023-04-11T14:58:32.926Z"
   },
   {
    "duration": 394,
    "start_time": "2023-04-11T14:58:35.243Z"
   },
   {
    "duration": 81,
    "start_time": "2023-04-11T14:58:35.639Z"
   },
   {
    "duration": 17,
    "start_time": "2023-04-11T14:58:35.798Z"
   },
   {
    "duration": 10,
    "start_time": "2023-04-11T14:58:41.012Z"
   },
   {
    "duration": 12,
    "start_time": "2023-04-11T15:05:06.175Z"
   },
   {
    "duration": 23,
    "start_time": "2023-04-11T15:05:19.271Z"
   },
   {
    "duration": 8,
    "start_time": "2023-04-11T15:07:44.163Z"
   },
   {
    "duration": 6,
    "start_time": "2023-04-11T15:07:49.610Z"
   },
   {
    "duration": 8,
    "start_time": "2023-04-11T15:10:21.222Z"
   },
   {
    "duration": 7,
    "start_time": "2023-04-11T15:10:28.509Z"
   },
   {
    "duration": 7,
    "start_time": "2023-04-11T15:10:33.296Z"
   },
   {
    "duration": 7,
    "start_time": "2023-04-11T15:10:34.527Z"
   },
   {
    "duration": 15,
    "start_time": "2023-04-11T15:10:55.330Z"
   },
   {
    "duration": 5,
    "start_time": "2023-04-11T15:11:04.439Z"
   },
   {
    "duration": 6,
    "start_time": "2023-04-11T15:11:09.598Z"
   },
   {
    "duration": 7,
    "start_time": "2023-04-11T15:11:11.104Z"
   },
   {
    "duration": 5,
    "start_time": "2023-04-11T15:11:12.004Z"
   },
   {
    "duration": 6,
    "start_time": "2023-04-11T15:24:39.874Z"
   },
   {
    "duration": 30,
    "start_time": "2023-04-11T15:29:44.670Z"
   },
   {
    "duration": 2,
    "start_time": "2023-04-11T15:29:53.617Z"
   },
   {
    "duration": 1453,
    "start_time": "2023-04-11T15:30:04.609Z"
   },
   {
    "duration": 10,
    "start_time": "2023-04-11T15:32:13.954Z"
   },
   {
    "duration": 19,
    "start_time": "2023-04-11T15:32:40.702Z"
   },
   {
    "duration": 5,
    "start_time": "2023-04-11T15:34:28.518Z"
   },
   {
    "duration": 23,
    "start_time": "2023-04-11T15:37:59.708Z"
   },
   {
    "duration": 3,
    "start_time": "2023-04-11T15:38:21.612Z"
   },
   {
    "duration": 8,
    "start_time": "2023-04-11T15:39:01.454Z"
   },
   {
    "duration": 43,
    "start_time": "2023-04-11T15:39:18.565Z"
   },
   {
    "duration": 200,
    "start_time": "2023-04-11T15:39:28.357Z"
   },
   {
    "duration": 3,
    "start_time": "2023-04-11T15:41:10.171Z"
   },
   {
    "duration": 3,
    "start_time": "2023-04-11T15:41:49.453Z"
   },
   {
    "duration": 9,
    "start_time": "2023-04-11T15:44:02.803Z"
   },
   {
    "duration": 7,
    "start_time": "2023-04-11T15:44:08.965Z"
   },
   {
    "duration": 2,
    "start_time": "2023-04-11T15:45:20.540Z"
   },
   {
    "duration": 4,
    "start_time": "2023-04-11T15:48:03.153Z"
   },
   {
    "duration": 3,
    "start_time": "2023-04-11T15:48:41.742Z"
   },
   {
    "duration": 13,
    "start_time": "2023-04-11T15:49:20.032Z"
   },
   {
    "duration": 5,
    "start_time": "2023-04-11T15:50:17.881Z"
   },
   {
    "duration": 8,
    "start_time": "2023-04-11T15:50:31.521Z"
   },
   {
    "duration": 6,
    "start_time": "2023-04-11T15:52:25.150Z"
   },
   {
    "duration": 4,
    "start_time": "2023-04-11T15:52:41.333Z"
   },
   {
    "duration": 7,
    "start_time": "2023-04-11T15:52:56.261Z"
   },
   {
    "duration": 5,
    "start_time": "2023-04-11T15:52:56.752Z"
   },
   {
    "duration": 45,
    "start_time": "2023-04-24T12:58:25.091Z"
   },
   {
    "duration": 1001,
    "start_time": "2023-04-24T12:58:31.533Z"
   },
   {
    "duration": 95,
    "start_time": "2023-04-24T12:58:32.536Z"
   },
   {
    "duration": 16,
    "start_time": "2023-04-24T12:58:32.633Z"
   },
   {
    "duration": 24,
    "start_time": "2023-04-24T12:58:32.650Z"
   },
   {
    "duration": 25,
    "start_time": "2023-04-24T12:58:33.508Z"
   },
   {
    "duration": 5,
    "start_time": "2023-04-24T12:58:33.784Z"
   },
   {
    "duration": 5,
    "start_time": "2023-04-24T12:58:34.000Z"
   },
   {
    "duration": 4,
    "start_time": "2023-04-24T12:58:35.680Z"
   },
   {
    "duration": 46,
    "start_time": "2023-04-24T13:25:55.008Z"
   },
   {
    "duration": 60,
    "start_time": "2023-04-24T13:29:52.648Z"
   },
   {
    "duration": 2,
    "start_time": "2023-04-24T13:32:04.719Z"
   },
   {
    "duration": 61,
    "start_time": "2023-04-24T13:32:37.594Z"
   },
   {
    "duration": 4,
    "start_time": "2023-04-24T13:32:43.444Z"
   },
   {
    "duration": 34,
    "start_time": "2023-04-24T13:32:43.893Z"
   },
   {
    "duration": 9,
    "start_time": "2023-04-24T13:32:44.038Z"
   },
   {
    "duration": 11,
    "start_time": "2023-04-24T13:32:44.223Z"
   },
   {
    "duration": 23,
    "start_time": "2023-04-24T13:32:44.411Z"
   },
   {
    "duration": 7,
    "start_time": "2023-04-24T13:32:44.757Z"
   },
   {
    "duration": 6,
    "start_time": "2023-04-24T13:32:45.134Z"
   },
   {
    "duration": 6,
    "start_time": "2023-04-24T13:32:45.315Z"
   },
   {
    "duration": 6,
    "start_time": "2023-04-24T13:32:49.630Z"
   },
   {
    "duration": 5,
    "start_time": "2023-04-24T13:32:49.988Z"
   },
   {
    "duration": 3,
    "start_time": "2023-04-24T13:32:50.437Z"
   },
   {
    "duration": 8,
    "start_time": "2023-04-24T13:32:50.708Z"
   },
   {
    "duration": 12,
    "start_time": "2023-04-24T13:32:51.087Z"
   },
   {
    "duration": 6,
    "start_time": "2023-04-24T13:32:52.300Z"
   },
   {
    "duration": 6,
    "start_time": "2023-04-24T13:33:03.487Z"
   },
   {
    "duration": 3,
    "start_time": "2023-04-24T13:33:08.419Z"
   },
   {
    "duration": 3,
    "start_time": "2023-04-24T13:33:08.843Z"
   },
   {
    "duration": 9,
    "start_time": "2023-04-24T13:33:12.326Z"
   },
   {
    "duration": 6,
    "start_time": "2023-04-24T13:33:15.053Z"
   },
   {
    "duration": 6,
    "start_time": "2023-04-24T13:33:44.142Z"
   },
   {
    "duration": 1047,
    "start_time": "2023-04-24T13:34:18.598Z"
   },
   {
    "duration": 27,
    "start_time": "2023-04-24T13:34:19.647Z"
   },
   {
    "duration": 16,
    "start_time": "2023-04-24T13:34:19.676Z"
   },
   {
    "duration": 10,
    "start_time": "2023-04-24T13:34:19.694Z"
   },
   {
    "duration": 21,
    "start_time": "2023-04-24T13:34:19.706Z"
   },
   {
    "duration": 6,
    "start_time": "2023-04-24T13:34:19.728Z"
   },
   {
    "duration": 11,
    "start_time": "2023-04-24T13:34:19.736Z"
   },
   {
    "duration": 17,
    "start_time": "2023-04-24T13:34:19.749Z"
   },
   {
    "duration": 8,
    "start_time": "2023-04-24T13:34:19.768Z"
   },
   {
    "duration": 4,
    "start_time": "2023-04-24T13:34:19.778Z"
   },
   {
    "duration": 8,
    "start_time": "2023-04-24T13:34:19.783Z"
   },
   {
    "duration": 8,
    "start_time": "2023-04-24T13:34:19.793Z"
   },
   {
    "duration": 15,
    "start_time": "2023-04-24T13:34:19.802Z"
   },
   {
    "duration": 4,
    "start_time": "2023-04-24T13:34:19.819Z"
   },
   {
    "duration": 13,
    "start_time": "2023-04-24T13:34:19.824Z"
   },
   {
    "duration": 25,
    "start_time": "2023-04-24T13:34:19.838Z"
   },
   {
    "duration": 4,
    "start_time": "2023-04-24T13:34:19.865Z"
   },
   {
    "duration": 4,
    "start_time": "2023-04-24T13:36:08.185Z"
   },
   {
    "duration": 95,
    "start_time": "2023-04-24T13:36:18.890Z"
   },
   {
    "duration": 8,
    "start_time": "2023-04-24T13:36:32.756Z"
   },
   {
    "duration": 4,
    "start_time": "2023-04-24T13:36:37.410Z"
   },
   {
    "duration": 11,
    "start_time": "2023-04-24T13:36:37.889Z"
   },
   {
    "duration": 16,
    "start_time": "2023-04-24T13:36:48.748Z"
   },
   {
    "duration": 3,
    "start_time": "2023-04-24T13:36:51.945Z"
   },
   {
    "duration": 17,
    "start_time": "2023-04-24T13:36:53.137Z"
   },
   {
    "duration": 4,
    "start_time": "2023-04-24T13:37:27.215Z"
   },
   {
    "duration": 16,
    "start_time": "2023-04-24T13:37:27.353Z"
   },
   {
    "duration": 18,
    "start_time": "2023-04-24T13:38:03.353Z"
   },
   {
    "duration": 1094,
    "start_time": "2023-04-24T13:38:21.631Z"
   },
   {
    "duration": 28,
    "start_time": "2023-04-24T13:38:22.727Z"
   },
   {
    "duration": 17,
    "start_time": "2023-04-24T13:38:22.756Z"
   },
   {
    "duration": 12,
    "start_time": "2023-04-24T13:38:22.774Z"
   },
   {
    "duration": 21,
    "start_time": "2023-04-24T13:38:22.788Z"
   },
   {
    "duration": 6,
    "start_time": "2023-04-24T13:38:22.810Z"
   },
   {
    "duration": 6,
    "start_time": "2023-04-24T13:38:22.817Z"
   },
   {
    "duration": 9,
    "start_time": "2023-04-24T13:38:22.825Z"
   },
   {
    "duration": 30,
    "start_time": "2023-04-24T13:38:22.836Z"
   },
   {
    "duration": 7,
    "start_time": "2023-04-24T13:38:22.869Z"
   },
   {
    "duration": 4,
    "start_time": "2023-04-24T13:38:22.878Z"
   },
   {
    "duration": 8,
    "start_time": "2023-04-24T13:38:22.884Z"
   },
   {
    "duration": 2,
    "start_time": "2023-04-24T13:38:22.894Z"
   },
   {
    "duration": 4,
    "start_time": "2023-04-24T13:38:22.898Z"
   },
   {
    "duration": 11,
    "start_time": "2023-04-24T13:38:22.903Z"
   },
   {
    "duration": 5,
    "start_time": "2023-04-24T13:38:22.916Z"
   },
   {
    "duration": 42,
    "start_time": "2023-04-24T13:38:22.923Z"
   },
   {
    "duration": 100,
    "start_time": "2023-04-24T13:38:22.967Z"
   },
   {
    "duration": 0,
    "start_time": "2023-04-24T13:38:23.069Z"
   },
   {
    "duration": 14,
    "start_time": "2023-04-24T13:38:39.891Z"
   },
   {
    "duration": 18,
    "start_time": "2023-04-24T13:38:47.937Z"
   },
   {
    "duration": 20,
    "start_time": "2023-04-24T13:38:57.279Z"
   },
   {
    "duration": 17,
    "start_time": "2023-04-24T13:39:34.609Z"
   },
   {
    "duration": 16,
    "start_time": "2023-04-24T13:41:51.636Z"
   },
   {
    "duration": 15,
    "start_time": "2023-04-24T13:42:10.483Z"
   },
   {
    "duration": 16,
    "start_time": "2023-04-24T13:42:14.030Z"
   },
   {
    "duration": 4,
    "start_time": "2023-04-24T13:42:16.642Z"
   },
   {
    "duration": 16,
    "start_time": "2023-04-24T13:42:16.895Z"
   },
   {
    "duration": 17,
    "start_time": "2023-04-24T13:42:54.146Z"
   },
   {
    "duration": 3,
    "start_time": "2023-04-24T13:43:32.737Z"
   },
   {
    "duration": 16,
    "start_time": "2023-04-24T13:43:35.090Z"
   },
   {
    "duration": 14,
    "start_time": "2023-04-24T13:43:45.794Z"
   },
   {
    "duration": 3,
    "start_time": "2023-04-24T13:43:48.441Z"
   },
   {
    "duration": 13,
    "start_time": "2023-04-24T13:43:48.630Z"
   },
   {
    "duration": 6,
    "start_time": "2023-04-24T13:43:53.005Z"
   },
   {
    "duration": 22,
    "start_time": "2023-04-24T13:44:07.527Z"
   },
   {
    "duration": 1105,
    "start_time": "2023-04-24T13:44:24.589Z"
   },
   {
    "duration": 28,
    "start_time": "2023-04-24T13:44:25.696Z"
   },
   {
    "duration": 20,
    "start_time": "2023-04-24T13:44:25.725Z"
   },
   {
    "duration": 25,
    "start_time": "2023-04-24T13:44:25.747Z"
   },
   {
    "duration": 31,
    "start_time": "2023-04-24T13:44:25.775Z"
   },
   {
    "duration": 6,
    "start_time": "2023-04-24T13:44:25.807Z"
   },
   {
    "duration": 10,
    "start_time": "2023-04-24T13:44:25.814Z"
   },
   {
    "duration": 21,
    "start_time": "2023-04-24T13:44:25.826Z"
   },
   {
    "duration": 6,
    "start_time": "2023-04-24T13:44:25.848Z"
   },
   {
    "duration": 16,
    "start_time": "2023-04-24T13:44:25.855Z"
   },
   {
    "duration": 22,
    "start_time": "2023-04-24T13:44:25.872Z"
   },
   {
    "duration": 17,
    "start_time": "2023-04-24T13:44:25.897Z"
   },
   {
    "duration": 17,
    "start_time": "2023-04-24T13:44:25.916Z"
   },
   {
    "duration": 27,
    "start_time": "2023-04-24T13:44:25.936Z"
   },
   {
    "duration": 26,
    "start_time": "2023-04-24T13:44:25.965Z"
   },
   {
    "duration": 14,
    "start_time": "2023-04-24T13:44:25.994Z"
   },
   {
    "duration": 15,
    "start_time": "2023-04-24T13:44:26.010Z"
   },
   {
    "duration": 25,
    "start_time": "2023-04-24T13:44:26.027Z"
   },
   {
    "duration": 8,
    "start_time": "2023-04-24T13:44:26.054Z"
   },
   {
    "duration": 17,
    "start_time": "2023-04-24T13:44:26.064Z"
   },
   {
    "duration": 5,
    "start_time": "2023-04-24T13:44:49.522Z"
   },
   {
    "duration": 6,
    "start_time": "2023-04-24T13:45:12.863Z"
   },
   {
    "duration": 5,
    "start_time": "2023-04-24T13:45:13.713Z"
   },
   {
    "duration": 7,
    "start_time": "2023-04-24T13:45:45.095Z"
   },
   {
    "duration": 10,
    "start_time": "2023-04-24T13:46:01.499Z"
   },
   {
    "duration": 12,
    "start_time": "2023-04-24T13:46:37.997Z"
   },
   {
    "duration": 7,
    "start_time": "2023-04-24T13:46:47.235Z"
   },
   {
    "duration": 1220,
    "start_time": "2023-04-24T13:47:04.895Z"
   },
   {
    "duration": 27,
    "start_time": "2023-04-24T13:47:06.117Z"
   },
   {
    "duration": 15,
    "start_time": "2023-04-24T13:47:06.145Z"
   },
   {
    "duration": 10,
    "start_time": "2023-04-24T13:47:06.162Z"
   },
   {
    "duration": 21,
    "start_time": "2023-04-24T13:47:06.174Z"
   },
   {
    "duration": 5,
    "start_time": "2023-04-24T13:47:06.197Z"
   },
   {
    "duration": 22,
    "start_time": "2023-04-24T13:47:06.204Z"
   },
   {
    "duration": 7,
    "start_time": "2023-04-24T13:47:06.228Z"
   },
   {
    "duration": 5,
    "start_time": "2023-04-24T13:47:06.237Z"
   },
   {
    "duration": 20,
    "start_time": "2023-04-24T13:47:06.244Z"
   },
   {
    "duration": 2,
    "start_time": "2023-04-24T13:47:06.266Z"
   },
   {
    "duration": 13,
    "start_time": "2023-04-24T13:47:06.270Z"
   },
   {
    "duration": 3,
    "start_time": "2023-04-24T13:47:06.285Z"
   },
   {
    "duration": 14,
    "start_time": "2023-04-24T13:47:06.291Z"
   },
   {
    "duration": 36,
    "start_time": "2023-04-24T13:47:06.307Z"
   },
   {
    "duration": 6,
    "start_time": "2023-04-24T13:47:06.345Z"
   },
   {
    "duration": 10,
    "start_time": "2023-04-24T13:47:06.352Z"
   },
   {
    "duration": 22,
    "start_time": "2023-04-24T13:47:06.364Z"
   },
   {
    "duration": 5,
    "start_time": "2023-04-24T13:47:06.388Z"
   },
   {
    "duration": 9,
    "start_time": "2023-04-24T13:47:06.395Z"
   },
   {
    "duration": 20,
    "start_time": "2023-04-24T13:47:06.406Z"
   },
   {
    "duration": 11,
    "start_time": "2023-04-24T13:47:06.428Z"
   },
   {
    "duration": 7,
    "start_time": "2023-04-24T13:47:06.440Z"
   },
   {
    "duration": 6,
    "start_time": "2023-04-24T13:47:06.462Z"
   },
   {
    "duration": 6,
    "start_time": "2023-04-24T13:47:26.236Z"
   },
   {
    "duration": 6,
    "start_time": "2023-04-24T13:48:01.940Z"
   },
   {
    "duration": 96,
    "start_time": "2023-04-24T13:48:14.992Z"
   },
   {
    "duration": 2,
    "start_time": "2023-04-24T13:48:51.710Z"
   },
   {
    "duration": 7,
    "start_time": "2023-04-24T13:48:56.121Z"
   },
   {
    "duration": 9,
    "start_time": "2023-04-24T13:49:09.134Z"
   },
   {
    "duration": 6,
    "start_time": "2023-04-24T13:49:19.346Z"
   },
   {
    "duration": 5,
    "start_time": "2023-04-24T13:49:30.349Z"
   },
   {
    "duration": 6,
    "start_time": "2023-04-24T13:49:30.622Z"
   },
   {
    "duration": 3,
    "start_time": "2023-04-24T13:49:30.825Z"
   },
   {
    "duration": 8,
    "start_time": "2023-04-24T13:49:31.008Z"
   },
   {
    "duration": 12,
    "start_time": "2023-04-24T13:49:31.148Z"
   },
   {
    "duration": 7,
    "start_time": "2023-04-24T13:49:31.840Z"
   },
   {
    "duration": 4,
    "start_time": "2023-04-24T13:50:07.486Z"
   },
   {
    "duration": 10,
    "start_time": "2023-04-24T13:50:08.104Z"
   },
   {
    "duration": 6,
    "start_time": "2023-04-24T13:50:09.315Z"
   },
   {
    "duration": 1234,
    "start_time": "2023-04-24T13:50:17.093Z"
   },
   {
    "duration": 27,
    "start_time": "2023-04-24T13:50:18.329Z"
   },
   {
    "duration": 16,
    "start_time": "2023-04-24T13:50:18.358Z"
   },
   {
    "duration": 10,
    "start_time": "2023-04-24T13:50:18.376Z"
   },
   {
    "duration": 22,
    "start_time": "2023-04-24T13:50:18.388Z"
   },
   {
    "duration": 5,
    "start_time": "2023-04-24T13:50:18.412Z"
   },
   {
    "duration": 8,
    "start_time": "2023-04-24T13:50:18.418Z"
   },
   {
    "duration": 4,
    "start_time": "2023-04-24T13:50:18.427Z"
   },
   {
    "duration": 32,
    "start_time": "2023-04-24T13:50:18.432Z"
   },
   {
    "duration": 5,
    "start_time": "2023-04-24T13:50:18.466Z"
   },
   {
    "duration": 3,
    "start_time": "2023-04-24T13:50:18.473Z"
   },
   {
    "duration": 9,
    "start_time": "2023-04-24T13:50:18.477Z"
   },
   {
    "duration": 3,
    "start_time": "2023-04-24T13:50:18.488Z"
   },
   {
    "duration": 6,
    "start_time": "2023-04-24T13:50:18.493Z"
   },
   {
    "duration": 12,
    "start_time": "2023-04-24T13:50:18.500Z"
   },
   {
    "duration": 6,
    "start_time": "2023-04-24T13:50:18.513Z"
   },
   {
    "duration": 7,
    "start_time": "2023-04-24T13:50:18.521Z"
   },
   {
    "duration": 51,
    "start_time": "2023-04-24T13:50:18.529Z"
   },
   {
    "duration": 5,
    "start_time": "2023-04-24T13:50:18.581Z"
   },
   {
    "duration": 6,
    "start_time": "2023-04-24T13:50:18.588Z"
   },
   {
    "duration": 6,
    "start_time": "2023-04-24T13:50:18.595Z"
   },
   {
    "duration": 9,
    "start_time": "2023-04-24T13:50:18.602Z"
   },
   {
    "duration": 3,
    "start_time": "2023-04-24T13:50:18.613Z"
   },
   {
    "duration": 47,
    "start_time": "2023-04-24T13:50:18.617Z"
   },
   {
    "duration": 6,
    "start_time": "2023-04-24T13:50:18.666Z"
   },
   {
    "duration": 5,
    "start_time": "2023-04-24T13:50:18.673Z"
   },
   {
    "duration": 6,
    "start_time": "2023-04-24T14:55:18.004Z"
   },
   {
    "duration": 5,
    "start_time": "2023-04-24T14:55:18.582Z"
   },
   {
    "duration": 3,
    "start_time": "2023-04-24T14:55:20.955Z"
   },
   {
    "duration": 7,
    "start_time": "2023-04-24T14:55:23.227Z"
   },
   {
    "duration": 3,
    "start_time": "2023-04-24T14:55:27.310Z"
   },
   {
    "duration": 11,
    "start_time": "2023-04-24T14:55:33.797Z"
   },
   {
    "duration": 7,
    "start_time": "2023-04-24T14:55:34.534Z"
   },
   {
    "duration": 2,
    "start_time": "2023-04-24T14:56:18.232Z"
   },
   {
    "duration": 3,
    "start_time": "2023-04-24T14:56:18.789Z"
   },
   {
    "duration": 10,
    "start_time": "2023-04-24T14:56:19.811Z"
   },
   {
    "duration": 6,
    "start_time": "2023-04-24T14:56:20.205Z"
   },
   {
    "duration": 1137,
    "start_time": "2023-04-24T14:56:27.286Z"
   },
   {
    "duration": 28,
    "start_time": "2023-04-24T14:56:28.425Z"
   },
   {
    "duration": 16,
    "start_time": "2023-04-24T14:56:28.455Z"
   },
   {
    "duration": 12,
    "start_time": "2023-04-24T14:56:28.473Z"
   },
   {
    "duration": 29,
    "start_time": "2023-04-24T14:56:28.487Z"
   },
   {
    "duration": 6,
    "start_time": "2023-04-24T14:56:28.517Z"
   },
   {
    "duration": 6,
    "start_time": "2023-04-24T14:56:28.525Z"
   },
   {
    "duration": 34,
    "start_time": "2023-04-24T14:56:28.532Z"
   },
   {
    "duration": 5,
    "start_time": "2023-04-24T14:56:28.568Z"
   },
   {
    "duration": 4,
    "start_time": "2023-04-24T14:56:28.575Z"
   },
   {
    "duration": 3,
    "start_time": "2023-04-24T14:56:28.581Z"
   },
   {
    "duration": 10,
    "start_time": "2023-04-24T14:56:28.586Z"
   },
   {
    "duration": 2,
    "start_time": "2023-04-24T14:56:28.597Z"
   },
   {
    "duration": 3,
    "start_time": "2023-04-24T14:56:28.602Z"
   },
   {
    "duration": 12,
    "start_time": "2023-04-24T14:56:28.606Z"
   },
   {
    "duration": 6,
    "start_time": "2023-04-24T14:56:28.620Z"
   },
   {
    "duration": 4,
    "start_time": "2023-04-24T14:56:28.664Z"
   },
   {
    "duration": 25,
    "start_time": "2023-04-24T14:56:28.670Z"
   },
   {
    "duration": 6,
    "start_time": "2023-04-24T14:56:28.696Z"
   },
   {
    "duration": 7,
    "start_time": "2023-04-24T14:56:28.703Z"
   },
   {
    "duration": 3,
    "start_time": "2023-04-24T14:56:28.711Z"
   },
   {
    "duration": 7,
    "start_time": "2023-04-24T14:56:28.715Z"
   },
   {
    "duration": 2,
    "start_time": "2023-04-24T14:56:28.724Z"
   },
   {
    "duration": 38,
    "start_time": "2023-04-24T14:56:28.727Z"
   },
   {
    "duration": 25,
    "start_time": "2023-04-24T14:56:28.767Z"
   },
   {
    "duration": 18,
    "start_time": "2023-04-24T14:56:28.794Z"
   },
   {
    "duration": 11,
    "start_time": "2023-04-24T14:56:28.814Z"
   },
   {
    "duration": 17,
    "start_time": "2023-04-24T14:57:56.503Z"
   },
   {
    "duration": 6,
    "start_time": "2023-04-24T14:58:00.581Z"
   },
   {
    "duration": 17,
    "start_time": "2023-04-24T14:58:05.713Z"
   },
   {
    "duration": 5,
    "start_time": "2023-04-24T14:58:25.085Z"
   },
   {
    "duration": 2,
    "start_time": "2023-04-24T14:58:26.895Z"
   },
   {
    "duration": 8,
    "start_time": "2023-04-24T14:58:27.305Z"
   },
   {
    "duration": 5,
    "start_time": "2023-04-24T14:58:40.788Z"
   },
   {
    "duration": 2,
    "start_time": "2023-04-24T14:58:41.602Z"
   },
   {
    "duration": 8,
    "start_time": "2023-04-24T14:58:42.404Z"
   },
   {
    "duration": 4,
    "start_time": "2023-04-24T14:58:43.312Z"
   },
   {
    "duration": 3,
    "start_time": "2023-04-24T14:58:44.549Z"
   },
   {
    "duration": 11,
    "start_time": "2023-04-24T14:58:46.832Z"
   },
   {
    "duration": 10,
    "start_time": "2023-04-24T14:58:51.591Z"
   },
   {
    "duration": 6,
    "start_time": "2023-04-24T14:58:54.056Z"
   },
   {
    "duration": 5,
    "start_time": "2023-04-24T14:58:54.595Z"
   },
   {
    "duration": 1209,
    "start_time": "2023-04-24T14:59:03.441Z"
   },
   {
    "duration": 29,
    "start_time": "2023-04-24T14:59:04.652Z"
   },
   {
    "duration": 16,
    "start_time": "2023-04-24T14:59:04.683Z"
   },
   {
    "duration": 21,
    "start_time": "2023-04-24T14:59:04.701Z"
   },
   {
    "duration": 22,
    "start_time": "2023-04-24T14:59:04.724Z"
   },
   {
    "duration": 8,
    "start_time": "2023-04-24T14:59:04.748Z"
   },
   {
    "duration": 11,
    "start_time": "2023-04-24T14:59:04.757Z"
   },
   {
    "duration": 6,
    "start_time": "2023-04-24T14:59:04.770Z"
   },
   {
    "duration": 7,
    "start_time": "2023-04-24T14:59:04.777Z"
   },
   {
    "duration": 6,
    "start_time": "2023-04-24T14:59:04.785Z"
   },
   {
    "duration": 3,
    "start_time": "2023-04-24T14:59:04.793Z"
   },
   {
    "duration": 23,
    "start_time": "2023-04-24T14:59:04.798Z"
   },
   {
    "duration": 8,
    "start_time": "2023-04-24T14:59:04.823Z"
   },
   {
    "duration": 16,
    "start_time": "2023-04-24T14:59:04.833Z"
   },
   {
    "duration": 21,
    "start_time": "2023-04-24T14:59:04.851Z"
   },
   {
    "duration": 23,
    "start_time": "2023-04-24T14:59:04.874Z"
   },
   {
    "duration": 5,
    "start_time": "2023-04-24T14:59:04.899Z"
   },
   {
    "duration": 121,
    "start_time": "2023-04-24T14:59:04.906Z"
   },
   {
    "duration": 0,
    "start_time": "2023-04-24T14:59:05.029Z"
   },
   {
    "duration": 0,
    "start_time": "2023-04-24T14:59:05.031Z"
   },
   {
    "duration": 0,
    "start_time": "2023-04-24T14:59:05.032Z"
   },
   {
    "duration": 0,
    "start_time": "2023-04-24T14:59:05.033Z"
   },
   {
    "duration": 0,
    "start_time": "2023-04-24T14:59:05.034Z"
   },
   {
    "duration": 0,
    "start_time": "2023-04-24T14:59:05.036Z"
   },
   {
    "duration": 0,
    "start_time": "2023-04-24T14:59:05.038Z"
   },
   {
    "duration": 0,
    "start_time": "2023-04-24T14:59:05.040Z"
   },
   {
    "duration": 21,
    "start_time": "2023-04-24T14:59:13.696Z"
   },
   {
    "duration": 5,
    "start_time": "2023-04-24T14:59:26.234Z"
   },
   {
    "duration": 3,
    "start_time": "2023-04-24T14:59:29.006Z"
   },
   {
    "duration": 9,
    "start_time": "2023-04-24T14:59:29.719Z"
   },
   {
    "duration": 8,
    "start_time": "2023-04-24T14:59:34.336Z"
   },
   {
    "duration": 3,
    "start_time": "2023-04-24T14:59:36.788Z"
   },
   {
    "duration": 3,
    "start_time": "2023-04-24T14:59:37.405Z"
   },
   {
    "duration": 14,
    "start_time": "2023-04-24T14:59:40.147Z"
   },
   {
    "duration": 8,
    "start_time": "2023-04-24T14:59:42.514Z"
   },
   {
    "duration": 11,
    "start_time": "2023-04-24T14:59:54.642Z"
   },
   {
    "duration": 6,
    "start_time": "2023-04-24T14:59:55.636Z"
   },
   {
    "duration": 1181,
    "start_time": "2023-04-24T15:01:45.127Z"
   },
   {
    "duration": 29,
    "start_time": "2023-04-24T15:01:46.310Z"
   },
   {
    "duration": 21,
    "start_time": "2023-04-24T15:01:46.341Z"
   },
   {
    "duration": 22,
    "start_time": "2023-04-24T15:01:46.364Z"
   },
   {
    "duration": 42,
    "start_time": "2023-04-24T15:01:46.389Z"
   },
   {
    "duration": 6,
    "start_time": "2023-04-24T15:01:46.433Z"
   },
   {
    "duration": 27,
    "start_time": "2023-04-24T15:01:46.441Z"
   },
   {
    "duration": 26,
    "start_time": "2023-04-24T15:01:46.470Z"
   },
   {
    "duration": 28,
    "start_time": "2023-04-24T15:01:46.498Z"
   },
   {
    "duration": 17,
    "start_time": "2023-04-24T15:01:46.529Z"
   },
   {
    "duration": 26,
    "start_time": "2023-04-24T15:01:46.548Z"
   },
   {
    "duration": 16,
    "start_time": "2023-04-24T15:01:46.576Z"
   },
   {
    "duration": 13,
    "start_time": "2023-04-24T15:01:46.594Z"
   },
   {
    "duration": 6,
    "start_time": "2023-04-24T15:01:46.610Z"
   },
   {
    "duration": 16,
    "start_time": "2023-04-24T15:01:46.618Z"
   },
   {
    "duration": 7,
    "start_time": "2023-04-24T15:01:46.636Z"
   },
   {
    "duration": 19,
    "start_time": "2023-04-24T15:01:46.645Z"
   },
   {
    "duration": 36,
    "start_time": "2023-04-24T15:01:46.665Z"
   },
   {
    "duration": 14,
    "start_time": "2023-04-24T15:01:46.703Z"
   },
   {
    "duration": 111,
    "start_time": "2023-04-24T15:01:46.719Z"
   },
   {
    "duration": 0,
    "start_time": "2023-04-24T15:01:46.832Z"
   },
   {
    "duration": 0,
    "start_time": "2023-04-24T15:01:46.833Z"
   },
   {
    "duration": 0,
    "start_time": "2023-04-24T15:01:46.835Z"
   },
   {
    "duration": 2,
    "start_time": "2023-04-24T15:01:52.890Z"
   },
   {
    "duration": 13,
    "start_time": "2023-04-24T15:01:53.439Z"
   },
   {
    "duration": 6,
    "start_time": "2023-04-24T15:01:54.223Z"
   },
   {
    "duration": 9,
    "start_time": "2023-04-24T15:01:55.226Z"
   },
   {
    "duration": 6,
    "start_time": "2023-04-24T15:02:02.331Z"
   },
   {
    "duration": 7,
    "start_time": "2023-04-24T15:02:07.304Z"
   },
   {
    "duration": 9,
    "start_time": "2023-04-24T15:02:16.359Z"
   },
   {
    "duration": 6,
    "start_time": "2023-04-24T15:02:20.250Z"
   },
   {
    "duration": 5,
    "start_time": "2023-04-24T15:02:27.996Z"
   },
   {
    "duration": 3,
    "start_time": "2023-04-24T15:05:08.857Z"
   },
   {
    "duration": 3,
    "start_time": "2023-04-24T15:05:15.344Z"
   },
   {
    "duration": 3,
    "start_time": "2023-04-24T15:05:40.633Z"
   },
   {
    "duration": 1127,
    "start_time": "2023-04-24T15:05:54.550Z"
   },
   {
    "duration": 27,
    "start_time": "2023-04-24T15:05:55.679Z"
   },
   {
    "duration": 17,
    "start_time": "2023-04-24T15:05:55.708Z"
   },
   {
    "duration": 12,
    "start_time": "2023-04-24T15:05:55.727Z"
   },
   {
    "duration": 23,
    "start_time": "2023-04-24T15:05:55.741Z"
   },
   {
    "duration": 7,
    "start_time": "2023-04-24T15:05:55.766Z"
   },
   {
    "duration": 6,
    "start_time": "2023-04-24T15:05:55.775Z"
   },
   {
    "duration": 5,
    "start_time": "2023-04-24T15:05:55.782Z"
   },
   {
    "duration": 6,
    "start_time": "2023-04-24T15:05:55.789Z"
   },
   {
    "duration": 5,
    "start_time": "2023-04-24T15:05:55.797Z"
   },
   {
    "duration": 4,
    "start_time": "2023-04-24T15:05:55.804Z"
   },
   {
    "duration": 9,
    "start_time": "2023-04-24T15:05:55.809Z"
   },
   {
    "duration": 44,
    "start_time": "2023-04-24T15:05:55.820Z"
   },
   {
    "duration": 3,
    "start_time": "2023-04-24T15:05:55.867Z"
   },
   {
    "duration": 13,
    "start_time": "2023-04-24T15:05:55.871Z"
   },
   {
    "duration": 6,
    "start_time": "2023-04-24T15:05:55.885Z"
   },
   {
    "duration": 4,
    "start_time": "2023-04-24T15:05:55.893Z"
   },
   {
    "duration": 16,
    "start_time": "2023-04-24T15:05:55.898Z"
   },
   {
    "duration": 4,
    "start_time": "2023-04-24T15:05:55.916Z"
   },
   {
    "duration": 4,
    "start_time": "2023-04-24T15:05:55.921Z"
   },
   {
    "duration": 10,
    "start_time": "2023-04-24T15:05:55.964Z"
   },
   {
    "duration": 6,
    "start_time": "2023-04-24T15:05:55.976Z"
   },
   {
    "duration": 4,
    "start_time": "2023-04-24T15:05:55.984Z"
   },
   {
    "duration": 2443,
    "start_time": "2023-04-25T05:24:41.341Z"
   },
   {
    "duration": 28,
    "start_time": "2023-04-25T05:24:43.785Z"
   },
   {
    "duration": 16,
    "start_time": "2023-04-25T05:25:36.011Z"
   },
   {
    "duration": 11,
    "start_time": "2023-04-25T05:25:36.539Z"
   },
   {
    "duration": 25,
    "start_time": "2023-04-25T05:25:37.126Z"
   },
   {
    "duration": 8,
    "start_time": "2023-04-25T05:25:38.469Z"
   },
   {
    "duration": 7,
    "start_time": "2023-04-25T05:25:39.240Z"
   },
   {
    "duration": 5,
    "start_time": "2023-04-25T05:25:39.892Z"
   },
   {
    "duration": 5,
    "start_time": "2023-04-25T05:29:13.440Z"
   },
   {
    "duration": 5,
    "start_time": "2023-04-25T05:29:13.882Z"
   },
   {
    "duration": 3,
    "start_time": "2023-04-25T05:29:14.357Z"
   },
   {
    "duration": 8,
    "start_time": "2023-04-25T05:29:14.755Z"
   },
   {
    "duration": 3,
    "start_time": "2023-04-25T05:29:14.930Z"
   },
   {
    "duration": 2,
    "start_time": "2023-04-25T05:29:15.694Z"
   },
   {
    "duration": 10,
    "start_time": "2023-04-25T05:29:16.196Z"
   },
   {
    "duration": 7,
    "start_time": "2023-04-25T05:29:19.114Z"
   },
   {
    "duration": 4,
    "start_time": "2023-04-25T05:29:33.333Z"
   },
   {
    "duration": 16,
    "start_time": "2023-04-25T05:29:58.037Z"
   },
   {
    "duration": 4,
    "start_time": "2023-04-25T05:29:59.059Z"
   },
   {
    "duration": 3,
    "start_time": "2023-04-25T05:29:59.228Z"
   },
   {
    "duration": 10,
    "start_time": "2023-04-25T05:29:59.476Z"
   },
   {
    "duration": 6,
    "start_time": "2023-04-25T05:29:59.714Z"
   },
   {
    "duration": 3,
    "start_time": "2023-04-25T05:30:00.025Z"
   },
   {
    "duration": 1053,
    "start_time": "2023-04-27T10:36:10.843Z"
   },
   {
    "duration": 138,
    "start_time": "2023-04-27T10:36:12.871Z"
   },
   {
    "duration": 17,
    "start_time": "2023-04-27T10:36:13.011Z"
   },
   {
    "duration": 11,
    "start_time": "2023-04-27T10:36:13.030Z"
   },
   {
    "duration": 28,
    "start_time": "2023-04-27T10:36:13.042Z"
   },
   {
    "duration": 8,
    "start_time": "2023-04-27T10:36:13.970Z"
   },
   {
    "duration": 7,
    "start_time": "2023-04-27T10:36:14.351Z"
   },
   {
    "duration": 5,
    "start_time": "2023-04-27T10:36:15.301Z"
   },
   {
    "duration": 7,
    "start_time": "2023-04-27T10:36:39.773Z"
   },
   {
    "duration": 522,
    "start_time": "2023-04-27T10:36:48.598Z"
   },
   {
    "duration": 254,
    "start_time": "2023-04-27T10:36:56.700Z"
   },
   {
    "duration": 3,
    "start_time": "2023-04-27T10:37:00.601Z"
   },
   {
    "duration": 3,
    "start_time": "2023-04-27T10:37:04.915Z"
   },
   {
    "duration": 3,
    "start_time": "2023-04-27T10:37:07.244Z"
   },
   {
    "duration": 111,
    "start_time": "2023-04-27T10:37:10.170Z"
   },
   {
    "duration": 5,
    "start_time": "2023-04-27T10:38:49.173Z"
   },
   {
    "duration": 5,
    "start_time": "2023-04-27T10:38:53.376Z"
   },
   {
    "duration": 126,
    "start_time": "2023-04-27T10:38:55.671Z"
   },
   {
    "duration": 113,
    "start_time": "2023-04-27T10:39:06.084Z"
   },
   {
    "duration": 322,
    "start_time": "2023-04-27T10:39:11.117Z"
   },
   {
    "duration": 175,
    "start_time": "2023-04-27T10:39:15.945Z"
   },
   {
    "duration": 143,
    "start_time": "2023-04-27T10:39:20.524Z"
   },
   {
    "duration": 135,
    "start_time": "2023-04-27T10:39:24.647Z"
   },
   {
    "duration": 140,
    "start_time": "2023-04-27T10:39:31.272Z"
   },
   {
    "duration": 135,
    "start_time": "2023-04-27T10:39:37.213Z"
   },
   {
    "duration": 109,
    "start_time": "2023-04-27T10:39:41.152Z"
   },
   {
    "duration": 2,
    "start_time": "2023-04-27T10:40:02.701Z"
   },
   {
    "duration": 144,
    "start_time": "2023-04-27T10:40:34.724Z"
   },
   {
    "duration": 175,
    "start_time": "2023-04-27T10:40:42.310Z"
   },
   {
    "duration": 127,
    "start_time": "2023-04-27T10:40:46.221Z"
   },
   {
    "duration": 145,
    "start_time": "2023-04-27T10:40:50.476Z"
   },
   {
    "duration": 112,
    "start_time": "2023-04-27T10:41:19.506Z"
   },
   {
    "duration": 10,
    "start_time": "2023-04-27T10:41:24.354Z"
   },
   {
    "duration": 240,
    "start_time": "2023-04-27T10:41:34.255Z"
   },
   {
    "duration": 137,
    "start_time": "2023-04-27T10:41:59.244Z"
   },
   {
    "duration": 127,
    "start_time": "2023-04-27T10:42:12.043Z"
   },
   {
    "duration": 129,
    "start_time": "2023-04-27T10:42:37.601Z"
   },
   {
    "duration": 119,
    "start_time": "2023-04-27T10:42:43.846Z"
   },
   {
    "duration": 10,
    "start_time": "2023-04-27T11:03:10.336Z"
   },
   {
    "duration": 3,
    "start_time": "2023-04-27T11:03:50.308Z"
   },
   {
    "duration": 11,
    "start_time": "2023-04-27T11:03:55.216Z"
   },
   {
    "duration": 51,
    "start_time": "2023-04-27T11:04:15.290Z"
   },
   {
    "duration": 756,
    "start_time": "2023-04-27T11:04:19.502Z"
   },
   {
    "duration": 932,
    "start_time": "2023-04-27T11:04:23.436Z"
   },
   {
    "duration": 744,
    "start_time": "2023-04-27T11:04:31.965Z"
   },
   {
    "duration": 864,
    "start_time": "2023-04-27T11:04:34.888Z"
   },
   {
    "duration": 652,
    "start_time": "2023-04-27T11:04:52.863Z"
   },
   {
    "duration": 1335,
    "start_time": "2023-04-27T11:19:16.365Z"
   },
   {
    "duration": 27,
    "start_time": "2023-04-27T11:19:17.703Z"
   },
   {
    "duration": 13,
    "start_time": "2023-04-27T11:19:17.731Z"
   },
   {
    "duration": 10,
    "start_time": "2023-04-27T11:19:17.746Z"
   },
   {
    "duration": 19,
    "start_time": "2023-04-27T11:19:17.758Z"
   },
   {
    "duration": 16,
    "start_time": "2023-04-27T11:19:17.779Z"
   },
   {
    "duration": 5,
    "start_time": "2023-04-27T11:19:17.797Z"
   },
   {
    "duration": 19,
    "start_time": "2023-04-27T11:19:17.803Z"
   },
   {
    "duration": 686,
    "start_time": "2023-04-27T11:19:17.823Z"
   },
   {
    "duration": 5,
    "start_time": "2023-04-27T11:19:18.511Z"
   },
   {
    "duration": 11,
    "start_time": "2023-04-27T11:19:18.518Z"
   },
   {
    "duration": 4,
    "start_time": "2023-04-27T11:19:18.531Z"
   },
   {
    "duration": 10,
    "start_time": "2023-04-27T11:19:18.536Z"
   },
   {
    "duration": 3,
    "start_time": "2023-04-27T11:19:18.549Z"
   },
   {
    "duration": 5,
    "start_time": "2023-04-27T11:19:18.553Z"
   },
   {
    "duration": 12,
    "start_time": "2023-04-27T11:19:18.560Z"
   },
   {
    "duration": 25,
    "start_time": "2023-04-27T11:19:18.574Z"
   },
   {
    "duration": 80,
    "start_time": "2023-04-27T11:19:18.601Z"
   },
   {
    "duration": 15,
    "start_time": "2023-04-27T11:19:18.694Z"
   },
   {
    "duration": 3,
    "start_time": "2023-04-27T11:19:18.711Z"
   },
   {
    "duration": 11,
    "start_time": "2023-04-27T11:19:18.716Z"
   },
   {
    "duration": 10,
    "start_time": "2023-04-27T11:19:18.729Z"
   },
   {
    "duration": 6,
    "start_time": "2023-04-27T11:19:18.740Z"
   },
   {
    "duration": 4,
    "start_time": "2023-04-27T11:19:18.747Z"
   },
   {
    "duration": 262,
    "start_time": "2023-04-27T11:32:04.703Z"
   },
   {
    "duration": 591,
    "start_time": "2023-04-27T11:32:12.805Z"
   },
   {
    "duration": 363,
    "start_time": "2023-04-27T11:32:21.975Z"
   },
   {
    "duration": 455,
    "start_time": "2023-04-27T11:33:16.432Z"
   },
   {
    "duration": 668,
    "start_time": "2023-04-27T11:33:36.403Z"
   },
   {
    "duration": 1329,
    "start_time": "2023-04-27T13:59:31.560Z"
   },
   {
    "duration": 39,
    "start_time": "2023-04-27T13:59:32.892Z"
   },
   {
    "duration": 14,
    "start_time": "2023-04-27T13:59:32.933Z"
   },
   {
    "duration": 21,
    "start_time": "2023-04-27T13:59:32.949Z"
   },
   {
    "duration": 25,
    "start_time": "2023-04-27T13:59:32.972Z"
   },
   {
    "duration": 6,
    "start_time": "2023-04-27T13:59:32.999Z"
   },
   {
    "duration": 16,
    "start_time": "2023-04-27T13:59:33.006Z"
   },
   {
    "duration": 6,
    "start_time": "2023-04-27T13:59:33.023Z"
   },
   {
    "duration": 720,
    "start_time": "2023-04-27T13:59:33.031Z"
   },
   {
    "duration": 5,
    "start_time": "2023-04-27T13:59:33.754Z"
   },
   {
    "duration": 10,
    "start_time": "2023-04-27T13:59:33.761Z"
   },
   {
    "duration": 11,
    "start_time": "2023-04-27T13:59:33.773Z"
   },
   {
    "duration": 31,
    "start_time": "2023-04-27T13:59:33.786Z"
   },
   {
    "duration": 4,
    "start_time": "2023-04-27T13:59:33.819Z"
   },
   {
    "duration": 12,
    "start_time": "2023-04-27T13:59:33.824Z"
   },
   {
    "duration": 104,
    "start_time": "2023-04-27T13:59:33.837Z"
   },
   {
    "duration": 8,
    "start_time": "2023-04-27T13:59:33.942Z"
   },
   {
    "duration": 5,
    "start_time": "2023-04-27T13:59:33.952Z"
   },
   {
    "duration": 28,
    "start_time": "2023-04-27T13:59:33.958Z"
   },
   {
    "duration": 11,
    "start_time": "2023-04-27T13:59:33.987Z"
   },
   {
    "duration": 29,
    "start_time": "2023-04-27T13:59:33.999Z"
   },
   {
    "duration": 15,
    "start_time": "2023-04-27T13:59:34.030Z"
   },
   {
    "duration": 5,
    "start_time": "2023-04-27T13:59:34.046Z"
   },
   {
    "duration": 17,
    "start_time": "2023-04-27T13:59:34.053Z"
   },
   {
    "duration": 1368,
    "start_time": "2023-04-27T14:00:13.211Z"
   },
   {
    "duration": 28,
    "start_time": "2023-04-27T14:00:14.582Z"
   },
   {
    "duration": 13,
    "start_time": "2023-04-27T14:00:14.611Z"
   },
   {
    "duration": 10,
    "start_time": "2023-04-27T14:00:14.626Z"
   },
   {
    "duration": 27,
    "start_time": "2023-04-27T14:00:14.638Z"
   },
   {
    "duration": 6,
    "start_time": "2023-04-27T14:00:14.666Z"
   },
   {
    "duration": 11,
    "start_time": "2023-04-27T14:00:14.673Z"
   },
   {
    "duration": 8,
    "start_time": "2023-04-27T14:00:14.686Z"
   },
   {
    "duration": 676,
    "start_time": "2023-04-27T14:00:14.696Z"
   },
   {
    "duration": 4,
    "start_time": "2023-04-27T14:00:15.373Z"
   },
   {
    "duration": 16,
    "start_time": "2023-04-27T14:00:15.379Z"
   },
   {
    "duration": 10,
    "start_time": "2023-04-27T14:00:15.397Z"
   },
   {
    "duration": 9,
    "start_time": "2023-04-27T14:00:15.409Z"
   },
   {
    "duration": 7,
    "start_time": "2023-04-27T14:00:15.421Z"
   },
   {
    "duration": 10,
    "start_time": "2023-04-27T14:00:15.429Z"
   },
   {
    "duration": 29,
    "start_time": "2023-04-27T14:00:15.441Z"
   },
   {
    "duration": 5,
    "start_time": "2023-04-27T14:00:15.472Z"
   },
   {
    "duration": 74,
    "start_time": "2023-04-27T14:00:15.478Z"
   },
   {
    "duration": 28,
    "start_time": "2023-04-27T14:00:15.554Z"
   },
   {
    "duration": 6,
    "start_time": "2023-04-27T14:00:15.583Z"
   },
   {
    "duration": 6,
    "start_time": "2023-04-27T14:00:15.590Z"
   },
   {
    "duration": 13,
    "start_time": "2023-04-27T14:00:15.597Z"
   },
   {
    "duration": 6,
    "start_time": "2023-04-27T14:00:15.612Z"
   },
   {
    "duration": 9,
    "start_time": "2023-04-27T14:00:15.619Z"
   },
   {
    "duration": 377,
    "start_time": "2023-04-27T14:02:05.678Z"
   },
   {
    "duration": 286,
    "start_time": "2023-04-27T14:02:36.522Z"
   },
   {
    "duration": 106,
    "start_time": "2023-04-27T14:02:39.430Z"
   },
   {
    "duration": 408,
    "start_time": "2023-04-27T14:02:44.014Z"
   },
   {
    "duration": 429,
    "start_time": "2023-04-27T14:04:06.042Z"
   },
   {
    "duration": 1250,
    "start_time": "2023-04-27T14:05:37.227Z"
   },
   {
    "duration": 28,
    "start_time": "2023-04-27T14:05:38.481Z"
   },
   {
    "duration": 15,
    "start_time": "2023-04-27T14:05:38.511Z"
   },
   {
    "duration": 10,
    "start_time": "2023-04-27T14:05:38.528Z"
   },
   {
    "duration": 21,
    "start_time": "2023-04-27T14:05:38.540Z"
   },
   {
    "duration": 5,
    "start_time": "2023-04-27T14:05:38.563Z"
   },
   {
    "duration": 12,
    "start_time": "2023-04-27T14:05:38.569Z"
   },
   {
    "duration": 12,
    "start_time": "2023-04-27T14:05:38.582Z"
   },
   {
    "duration": 647,
    "start_time": "2023-04-27T14:05:38.595Z"
   },
   {
    "duration": 428,
    "start_time": "2023-04-27T14:05:39.244Z"
   },
   {
    "duration": 5,
    "start_time": "2023-04-27T14:05:39.673Z"
   },
   {
    "duration": 18,
    "start_time": "2023-04-27T14:05:39.679Z"
   },
   {
    "duration": 3,
    "start_time": "2023-04-27T14:05:39.698Z"
   },
   {
    "duration": 8,
    "start_time": "2023-04-27T14:05:39.703Z"
   },
   {
    "duration": 12,
    "start_time": "2023-04-27T14:05:39.712Z"
   },
   {
    "duration": 5,
    "start_time": "2023-04-27T14:05:39.725Z"
   },
   {
    "duration": 13,
    "start_time": "2023-04-27T14:05:39.731Z"
   },
   {
    "duration": 6,
    "start_time": "2023-04-27T14:05:39.745Z"
   },
   {
    "duration": 7,
    "start_time": "2023-04-27T14:05:39.752Z"
   },
   {
    "duration": 30,
    "start_time": "2023-04-27T14:05:39.760Z"
   },
   {
    "duration": 24,
    "start_time": "2023-04-27T14:05:39.794Z"
   },
   {
    "duration": 30,
    "start_time": "2023-04-27T14:05:39.820Z"
   },
   {
    "duration": 47,
    "start_time": "2023-04-27T14:05:39.852Z"
   },
   {
    "duration": 6,
    "start_time": "2023-04-27T14:05:39.901Z"
   },
   {
    "duration": 4,
    "start_time": "2023-04-27T14:05:39.909Z"
   },
   {
    "duration": 1247,
    "start_time": "2023-04-27T14:06:17.325Z"
   },
   {
    "duration": 27,
    "start_time": "2023-04-27T14:06:18.575Z"
   },
   {
    "duration": 13,
    "start_time": "2023-04-27T14:06:18.604Z"
   },
   {
    "duration": 11,
    "start_time": "2023-04-27T14:06:18.618Z"
   },
   {
    "duration": 25,
    "start_time": "2023-04-27T14:06:18.631Z"
   },
   {
    "duration": 5,
    "start_time": "2023-04-27T14:06:18.657Z"
   },
   {
    "duration": 6,
    "start_time": "2023-04-27T14:06:18.664Z"
   },
   {
    "duration": 24,
    "start_time": "2023-04-27T14:06:18.672Z"
   },
   {
    "duration": 665,
    "start_time": "2023-04-27T14:06:18.697Z"
   },
   {
    "duration": 442,
    "start_time": "2023-04-27T14:06:19.364Z"
   },
   {
    "duration": 5,
    "start_time": "2023-04-27T14:06:19.807Z"
   },
   {
    "duration": 5,
    "start_time": "2023-04-27T14:06:19.813Z"
   },
   {
    "duration": 3,
    "start_time": "2023-04-27T14:06:19.819Z"
   },
   {
    "duration": 7,
    "start_time": "2023-04-27T14:06:19.825Z"
   },
   {
    "duration": 4,
    "start_time": "2023-04-27T14:06:19.833Z"
   },
   {
    "duration": 7,
    "start_time": "2023-04-27T14:06:19.839Z"
   },
   {
    "duration": 14,
    "start_time": "2023-04-27T14:06:19.847Z"
   },
   {
    "duration": 5,
    "start_time": "2023-04-27T14:06:19.863Z"
   },
   {
    "duration": 5,
    "start_time": "2023-04-27T14:06:19.895Z"
   },
   {
    "duration": 23,
    "start_time": "2023-04-27T14:06:19.901Z"
   },
   {
    "duration": 4,
    "start_time": "2023-04-27T14:06:19.926Z"
   },
   {
    "duration": 4,
    "start_time": "2023-04-27T14:06:19.931Z"
   },
   {
    "duration": 10,
    "start_time": "2023-04-27T14:06:19.937Z"
   },
   {
    "duration": 6,
    "start_time": "2023-04-27T14:06:19.949Z"
   },
   {
    "duration": 38,
    "start_time": "2023-04-27T14:06:19.956Z"
   },
   {
    "duration": 1574,
    "start_time": "2023-05-06T14:05:37.666Z"
   },
   {
    "duration": 82,
    "start_time": "2023-05-06T14:05:39.244Z"
   },
   {
    "duration": 14,
    "start_time": "2023-05-06T14:05:39.328Z"
   },
   {
    "duration": 25,
    "start_time": "2023-05-06T14:05:39.344Z"
   },
   {
    "duration": 49,
    "start_time": "2023-05-06T14:05:39.370Z"
   },
   {
    "duration": 23,
    "start_time": "2023-05-06T14:05:39.422Z"
   },
   {
    "duration": 26,
    "start_time": "2023-05-06T14:05:39.447Z"
   },
   {
    "duration": 20,
    "start_time": "2023-05-06T14:05:39.475Z"
   },
   {
    "duration": 817,
    "start_time": "2023-05-06T14:05:39.497Z"
   },
   {
    "duration": 477,
    "start_time": "2023-05-06T14:05:40.318Z"
   },
   {
    "duration": 6,
    "start_time": "2023-05-06T14:05:40.797Z"
   },
   {
    "duration": 9,
    "start_time": "2023-05-06T14:05:40.804Z"
   },
   {
    "duration": 3,
    "start_time": "2023-05-06T14:05:40.815Z"
   },
   {
    "duration": 13,
    "start_time": "2023-05-06T14:05:40.819Z"
   },
   {
    "duration": 7,
    "start_time": "2023-05-06T14:05:40.833Z"
   },
   {
    "duration": 5,
    "start_time": "2023-05-06T14:05:40.841Z"
   },
   {
    "duration": 36,
    "start_time": "2023-05-06T14:05:40.848Z"
   },
   {
    "duration": 7,
    "start_time": "2023-05-06T14:05:40.886Z"
   },
   {
    "duration": 7,
    "start_time": "2023-05-06T14:05:40.895Z"
   },
   {
    "duration": 25,
    "start_time": "2023-05-06T14:05:40.904Z"
   },
   {
    "duration": 10,
    "start_time": "2023-05-06T14:05:40.931Z"
   },
   {
    "duration": 7,
    "start_time": "2023-05-06T14:05:40.943Z"
   },
   {
    "duration": 20,
    "start_time": "2023-05-06T14:05:40.952Z"
   },
   {
    "duration": 7,
    "start_time": "2023-05-06T14:05:40.982Z"
   },
   {
    "duration": 7,
    "start_time": "2023-05-06T14:05:40.991Z"
   }
  ],
  "kernelspec": {
   "display_name": "Python 3 (ipykernel)",
   "language": "python",
   "name": "python3"
  },
  "language_info": {
   "codemirror_mode": {
    "name": "ipython",
    "version": 3
   },
   "file_extension": ".py",
   "mimetype": "text/x-python",
   "name": "python",
   "nbconvert_exporter": "python",
   "pygments_lexer": "ipython3",
   "version": "3.9.5"
  },
  "toc": {
   "base_numbering": 1,
   "nav_menu": {},
   "number_sections": true,
   "sideBar": true,
   "skip_h1_title": true,
   "title_cell": "Содержание",
   "title_sidebar": "Contents",
   "toc_cell": true,
   "toc_position": {},
   "toc_section_display": true,
   "toc_window_display": true
  }
 },
 "nbformat": 4,
 "nbformat_minor": 2
}
