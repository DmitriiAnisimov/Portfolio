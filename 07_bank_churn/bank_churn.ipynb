{
 "cells": [
  {
   "cell_type": "markdown",
   "metadata": {
    "toc": true
   },
   "source": [
    "<h1>Содержание<span class=\"tocSkip\"></span></h1>\n",
    "<div class=\"toc\"><ul class=\"toc-item\"><li><span><a href=\"#Подготовка-данных\" data-toc-modified-id=\"Подготовка-данных-1\"><span class=\"toc-item-num\">1&nbsp;&nbsp;</span>Подготовка данных</a></span><ul class=\"toc-item\"><li><span><a href=\"#Чтение-данных\" data-toc-modified-id=\"Чтение-данных-1.1\"><span class=\"toc-item-num\">1.1&nbsp;&nbsp;</span>Чтение данных</a></span></li><li><span><a href=\"#Пропуски-в-данных\" data-toc-modified-id=\"Пропуски-в-данных-1.2\"><span class=\"toc-item-num\">1.2&nbsp;&nbsp;</span>Пропуски в данных</a></span></li><li><span><a href=\"#Дубликаты-в-данных\" data-toc-modified-id=\"Дубликаты-в-данных-1.3\"><span class=\"toc-item-num\">1.3&nbsp;&nbsp;</span>Дубликаты в данных</a></span></li><li><span><a href=\"#Корреляция-в-данных\" data-toc-modified-id=\"Корреляция-в-данных-1.4\"><span class=\"toc-item-num\">1.4&nbsp;&nbsp;</span>Корреляция в данных</a></span></li><li><span><a href=\"#Вывод:\" data-toc-modified-id=\"Вывод:-1.5\"><span class=\"toc-item-num\">1.5&nbsp;&nbsp;</span>Вывод:</a></span></li></ul></li><li><span><a href=\"#Исследование-задачи\" data-toc-modified-id=\"Исследование-задачи-2\"><span class=\"toc-item-num\">2&nbsp;&nbsp;</span>Исследование задачи</a></span><ul class=\"toc-item\"><li><span><a href=\"#Дисбаланс-классов\" data-toc-modified-id=\"Дисбаланс-классов-2.1\"><span class=\"toc-item-num\">2.1&nbsp;&nbsp;</span>Дисбаланс классов</a></span></li><li><span><a href=\"#Кодирование-TargetEncoder\" data-toc-modified-id=\"Кодирование-TargetEncoder-2.2\"><span class=\"toc-item-num\">2.2&nbsp;&nbsp;</span>Кодирование TargetEncoder</a></span></li><li><span><a href=\"#Разделение-на-тренировочную-и-тестовую-выборки\" data-toc-modified-id=\"Разделение-на-тренировочную-и-тестовую-выборки-2.3\"><span class=\"toc-item-num\">2.3&nbsp;&nbsp;</span>Разделение на тренировочную и тестовую выборки</a></span></li><li><span><a href=\"#Кодирование-One-Hot-Encoder\" data-toc-modified-id=\"Кодирование-One-Hot-Encoder-2.4\"><span class=\"toc-item-num\">2.4&nbsp;&nbsp;</span>Кодирование One-Hot Encoder</a></span></li><li><span><a href=\"#Масштабирование\" data-toc-modified-id=\"Масштабирование-2.5\"><span class=\"toc-item-num\">2.5&nbsp;&nbsp;</span>Масштабирование</a></span></li><li><span><a href=\"#Логитичкская-регрессия\" data-toc-modified-id=\"Логитичкская-регрессия-2.6\"><span class=\"toc-item-num\">2.6&nbsp;&nbsp;</span>Логитичкская регрессия</a></span></li><li><span><a href=\"#Случайный-лес\" data-toc-modified-id=\"Случайный-лес-2.7\"><span class=\"toc-item-num\">2.7&nbsp;&nbsp;</span>Случайный лес</a></span></li><li><span><a href=\"#Вывод:\" data-toc-modified-id=\"Вывод:-2.8\"><span class=\"toc-item-num\">2.8&nbsp;&nbsp;</span>Вывод:</a></span></li></ul></li><li><span><a href=\"#Борьба-с-дисбалансом\" data-toc-modified-id=\"Борьба-с-дисбалансом-3\"><span class=\"toc-item-num\">3&nbsp;&nbsp;</span>Борьба с дисбалансом</a></span><ul class=\"toc-item\"><li><span><a href=\"#Взвешивание-классов\" data-toc-modified-id=\"Взвешивание-классов-3.1\"><span class=\"toc-item-num\">3.1&nbsp;&nbsp;</span>Взвешивание классов</a></span><ul class=\"toc-item\"><li><span><a href=\"#Логистическая-регрессия\" data-toc-modified-id=\"Логистическая-регрессия-3.1.1\"><span class=\"toc-item-num\">3.1.1&nbsp;&nbsp;</span>Логистическая регрессия</a></span></li><li><span><a href=\"#Случайный-лес\" data-toc-modified-id=\"Случайный-лес-3.1.2\"><span class=\"toc-item-num\">3.1.2&nbsp;&nbsp;</span>Случайный лес</a></span></li></ul></li><li><span><a href=\"#Upsample\" data-toc-modified-id=\"Upsample-3.2\"><span class=\"toc-item-num\">3.2&nbsp;&nbsp;</span>Upsample</a></span><ul class=\"toc-item\"><li><span><a href=\"#Логистическая-регрессия\" data-toc-modified-id=\"Логистическая-регрессия-3.2.1\"><span class=\"toc-item-num\">3.2.1&nbsp;&nbsp;</span>Логистическая регрессия</a></span></li><li><span><a href=\"#Случайный-лес\" data-toc-modified-id=\"Случайный-лес-3.2.2\"><span class=\"toc-item-num\">3.2.2&nbsp;&nbsp;</span>Случайный лес</a></span></li></ul></li><li><span><a href=\"#Downsample\" data-toc-modified-id=\"Downsample-3.3\"><span class=\"toc-item-num\">3.3&nbsp;&nbsp;</span>Downsample</a></span><ul class=\"toc-item\"><li><span><a href=\"#Логистическая-регрессия\" data-toc-modified-id=\"Логистическая-регрессия-3.3.1\"><span class=\"toc-item-num\">3.3.1&nbsp;&nbsp;</span>Логистическая регрессия</a></span></li><li><span><a href=\"#Случайный-лес\" data-toc-modified-id=\"Случайный-лес-3.3.2\"><span class=\"toc-item-num\">3.3.2&nbsp;&nbsp;</span>Случайный лес</a></span></li></ul></li><li><span><a href=\"#Вывод:\" data-toc-modified-id=\"Вывод:-3.4\"><span class=\"toc-item-num\">3.4&nbsp;&nbsp;</span>Вывод:</a></span></li></ul></li><li><span><a href=\"#Тестирование-модели\" data-toc-modified-id=\"Тестирование-модели-4\"><span class=\"toc-item-num\">4&nbsp;&nbsp;</span>Тестирование модели</a></span><ul class=\"toc-item\"><li><ul class=\"toc-item\"><li><span><a href=\"#ROC-кривая\" data-toc-modified-id=\"ROC-кривая-4.0.1\"><span class=\"toc-item-num\">4.0.1&nbsp;&nbsp;</span>ROC-кривая</a></span></li></ul></li></ul></li><li><span><a href=\"#Вывод-:\" data-toc-modified-id=\"Вывод-:-5\"><span class=\"toc-item-num\">5&nbsp;&nbsp;</span>Вывод :</a></span></li><li><span><a href=\"#Чек-лист-готовности-проекта\" data-toc-modified-id=\"Чек-лист-готовности-проекта-6\"><span class=\"toc-item-num\">6&nbsp;&nbsp;</span>Чек-лист готовности проекта</a></span></li><li><span><a href=\"#Финальные-комментарии-ревьюера\" data-toc-modified-id=\"Финальные-комментарии-ревьюера-7\"><span class=\"toc-item-num\">7&nbsp;&nbsp;</span>Финальные комментарии ревьюера</a></span></li></ul></div>"
   ]
  },
  {
   "cell_type": "markdown",
   "metadata": {},
   "source": [
    "# Отток клиентов"
   ]
  },
  {
   "cell_type": "markdown",
   "metadata": {},
   "source": [
    "Из «Бета-Банка» стали уходить клиенты. Каждый месяц. Немного, но заметно. Банковские маркетологи посчитали: сохранять текущих клиентов дешевле, чем привлекать новых.\n",
    "\n",
    "Нужно спрогнозировать, уйдёт клиент из банка в ближайшее время или нет. Вам предоставлены исторические данные о поведении клиентов и расторжении договоров с банком. \n",
    "\n",
    "Постройте модель с предельно большим значением *F1*-меры. Чтобы сдать проект успешно, нужно довести метрику до 0.59. Проверьте *F1*-меру на тестовой выборке самостоятельно.\n",
    "\n",
    "Дополнительно измеряйте *AUC-ROC*, сравнивайте её значение с *F1*-мерой.\n",
    "\n",
    "Источник данных: [https://www.kaggle.com/barelydedicated/bank-customer-churn-modeling](https://www.kaggle.com/barelydedicated/bank-customer-churn-modeling)"
   ]
  },
  {
   "cell_type": "markdown",
   "metadata": {},
   "source": [
    "## Подготовка данных"
   ]
  },
  {
   "cell_type": "code",
   "execution_count": 1,
   "metadata": {},
   "outputs": [],
   "source": [
    "import pandas as pd\n",
    "import numpy as np\n",
    "import seaborn as sns\n",
    "import matplotlib.pyplot as plt\n",
    "from sklearn.model_selection import train_test_split, GridSearchCV, StratifiedKFold\n",
    "from sklearn.preprocessing import OrdinalEncoder, OneHotEncoder, StandardScaler\n",
    "from sklearn.linear_model import LogisticRegression\n",
    "from sklearn.ensemble import RandomForestClassifier\n",
    "from sklearn.metrics import f1_score, accuracy_score, precision_score, recall_score,\\\n",
    "                            roc_auc_score, precision_recall_curve, roc_curve, plot_confusion_matrix\n",
    "from sklearn.utils import shuffle"
   ]
  },
  {
   "cell_type": "code",
   "execution_count": 2,
   "metadata": {},
   "outputs": [],
   "source": [
    "import warnings\n",
    "warnings.filterwarnings('ignore')"
   ]
  },
  {
   "cell_type": "markdown",
   "metadata": {},
   "source": [
    "### Чтение данных"
   ]
  },
  {
   "cell_type": "code",
   "execution_count": 3,
   "metadata": {},
   "outputs": [],
   "source": [
    "# Запись данных в датафрейм\n",
    "df = pd.read_csv('/datasets/Churn.csv')"
   ]
  },
  {
   "cell_type": "code",
   "execution_count": 4,
   "metadata": {
    "scrolled": true
   },
   "outputs": [
    {
     "data": {
      "text/html": [
       "<div>\n",
       "<style scoped>\n",
       "    .dataframe tbody tr th:only-of-type {\n",
       "        vertical-align: middle;\n",
       "    }\n",
       "\n",
       "    .dataframe tbody tr th {\n",
       "        vertical-align: top;\n",
       "    }\n",
       "\n",
       "    .dataframe thead th {\n",
       "        text-align: right;\n",
       "    }\n",
       "</style>\n",
       "<table border=\"1\" class=\"dataframe\">\n",
       "  <thead>\n",
       "    <tr style=\"text-align: right;\">\n",
       "      <th></th>\n",
       "      <th>RowNumber</th>\n",
       "      <th>CustomerId</th>\n",
       "      <th>Surname</th>\n",
       "      <th>CreditScore</th>\n",
       "      <th>Geography</th>\n",
       "      <th>Gender</th>\n",
       "      <th>Age</th>\n",
       "      <th>Tenure</th>\n",
       "      <th>Balance</th>\n",
       "      <th>NumOfProducts</th>\n",
       "      <th>HasCrCard</th>\n",
       "      <th>IsActiveMember</th>\n",
       "      <th>EstimatedSalary</th>\n",
       "      <th>Exited</th>\n",
       "    </tr>\n",
       "  </thead>\n",
       "  <tbody>\n",
       "    <tr>\n",
       "      <th>0</th>\n",
       "      <td>1</td>\n",
       "      <td>15634602</td>\n",
       "      <td>Hargrave</td>\n",
       "      <td>619</td>\n",
       "      <td>France</td>\n",
       "      <td>Female</td>\n",
       "      <td>42</td>\n",
       "      <td>2.0</td>\n",
       "      <td>0.00</td>\n",
       "      <td>1</td>\n",
       "      <td>1</td>\n",
       "      <td>1</td>\n",
       "      <td>101348.88</td>\n",
       "      <td>1</td>\n",
       "    </tr>\n",
       "    <tr>\n",
       "      <th>1</th>\n",
       "      <td>2</td>\n",
       "      <td>15647311</td>\n",
       "      <td>Hill</td>\n",
       "      <td>608</td>\n",
       "      <td>Spain</td>\n",
       "      <td>Female</td>\n",
       "      <td>41</td>\n",
       "      <td>1.0</td>\n",
       "      <td>83807.86</td>\n",
       "      <td>1</td>\n",
       "      <td>0</td>\n",
       "      <td>1</td>\n",
       "      <td>112542.58</td>\n",
       "      <td>0</td>\n",
       "    </tr>\n",
       "    <tr>\n",
       "      <th>2</th>\n",
       "      <td>3</td>\n",
       "      <td>15619304</td>\n",
       "      <td>Onio</td>\n",
       "      <td>502</td>\n",
       "      <td>France</td>\n",
       "      <td>Female</td>\n",
       "      <td>42</td>\n",
       "      <td>8.0</td>\n",
       "      <td>159660.80</td>\n",
       "      <td>3</td>\n",
       "      <td>1</td>\n",
       "      <td>0</td>\n",
       "      <td>113931.57</td>\n",
       "      <td>1</td>\n",
       "    </tr>\n",
       "    <tr>\n",
       "      <th>3</th>\n",
       "      <td>4</td>\n",
       "      <td>15701354</td>\n",
       "      <td>Boni</td>\n",
       "      <td>699</td>\n",
       "      <td>France</td>\n",
       "      <td>Female</td>\n",
       "      <td>39</td>\n",
       "      <td>1.0</td>\n",
       "      <td>0.00</td>\n",
       "      <td>2</td>\n",
       "      <td>0</td>\n",
       "      <td>0</td>\n",
       "      <td>93826.63</td>\n",
       "      <td>0</td>\n",
       "    </tr>\n",
       "    <tr>\n",
       "      <th>4</th>\n",
       "      <td>5</td>\n",
       "      <td>15737888</td>\n",
       "      <td>Mitchell</td>\n",
       "      <td>850</td>\n",
       "      <td>Spain</td>\n",
       "      <td>Female</td>\n",
       "      <td>43</td>\n",
       "      <td>2.0</td>\n",
       "      <td>125510.82</td>\n",
       "      <td>1</td>\n",
       "      <td>1</td>\n",
       "      <td>1</td>\n",
       "      <td>79084.10</td>\n",
       "      <td>0</td>\n",
       "    </tr>\n",
       "    <tr>\n",
       "      <th>5</th>\n",
       "      <td>6</td>\n",
       "      <td>15574012</td>\n",
       "      <td>Chu</td>\n",
       "      <td>645</td>\n",
       "      <td>Spain</td>\n",
       "      <td>Male</td>\n",
       "      <td>44</td>\n",
       "      <td>8.0</td>\n",
       "      <td>113755.78</td>\n",
       "      <td>2</td>\n",
       "      <td>1</td>\n",
       "      <td>0</td>\n",
       "      <td>149756.71</td>\n",
       "      <td>1</td>\n",
       "    </tr>\n",
       "    <tr>\n",
       "      <th>6</th>\n",
       "      <td>7</td>\n",
       "      <td>15592531</td>\n",
       "      <td>Bartlett</td>\n",
       "      <td>822</td>\n",
       "      <td>France</td>\n",
       "      <td>Male</td>\n",
       "      <td>50</td>\n",
       "      <td>7.0</td>\n",
       "      <td>0.00</td>\n",
       "      <td>2</td>\n",
       "      <td>1</td>\n",
       "      <td>1</td>\n",
       "      <td>10062.80</td>\n",
       "      <td>0</td>\n",
       "    </tr>\n",
       "    <tr>\n",
       "      <th>7</th>\n",
       "      <td>8</td>\n",
       "      <td>15656148</td>\n",
       "      <td>Obinna</td>\n",
       "      <td>376</td>\n",
       "      <td>Germany</td>\n",
       "      <td>Female</td>\n",
       "      <td>29</td>\n",
       "      <td>4.0</td>\n",
       "      <td>115046.74</td>\n",
       "      <td>4</td>\n",
       "      <td>1</td>\n",
       "      <td>0</td>\n",
       "      <td>119346.88</td>\n",
       "      <td>1</td>\n",
       "    </tr>\n",
       "    <tr>\n",
       "      <th>8</th>\n",
       "      <td>9</td>\n",
       "      <td>15792365</td>\n",
       "      <td>He</td>\n",
       "      <td>501</td>\n",
       "      <td>France</td>\n",
       "      <td>Male</td>\n",
       "      <td>44</td>\n",
       "      <td>4.0</td>\n",
       "      <td>142051.07</td>\n",
       "      <td>2</td>\n",
       "      <td>0</td>\n",
       "      <td>1</td>\n",
       "      <td>74940.50</td>\n",
       "      <td>0</td>\n",
       "    </tr>\n",
       "    <tr>\n",
       "      <th>9</th>\n",
       "      <td>10</td>\n",
       "      <td>15592389</td>\n",
       "      <td>H?</td>\n",
       "      <td>684</td>\n",
       "      <td>France</td>\n",
       "      <td>Male</td>\n",
       "      <td>27</td>\n",
       "      <td>2.0</td>\n",
       "      <td>134603.88</td>\n",
       "      <td>1</td>\n",
       "      <td>1</td>\n",
       "      <td>1</td>\n",
       "      <td>71725.73</td>\n",
       "      <td>0</td>\n",
       "    </tr>\n",
       "  </tbody>\n",
       "</table>\n",
       "</div>"
      ],
      "text/plain": [
       "   RowNumber  CustomerId   Surname  CreditScore Geography  Gender  Age  \\\n",
       "0          1    15634602  Hargrave          619    France  Female   42   \n",
       "1          2    15647311      Hill          608     Spain  Female   41   \n",
       "2          3    15619304      Onio          502    France  Female   42   \n",
       "3          4    15701354      Boni          699    France  Female   39   \n",
       "4          5    15737888  Mitchell          850     Spain  Female   43   \n",
       "5          6    15574012       Chu          645     Spain    Male   44   \n",
       "6          7    15592531  Bartlett          822    France    Male   50   \n",
       "7          8    15656148    Obinna          376   Germany  Female   29   \n",
       "8          9    15792365        He          501    France    Male   44   \n",
       "9         10    15592389        H?          684    France    Male   27   \n",
       "\n",
       "   Tenure    Balance  NumOfProducts  HasCrCard  IsActiveMember  \\\n",
       "0     2.0       0.00              1          1               1   \n",
       "1     1.0   83807.86              1          0               1   \n",
       "2     8.0  159660.80              3          1               0   \n",
       "3     1.0       0.00              2          0               0   \n",
       "4     2.0  125510.82              1          1               1   \n",
       "5     8.0  113755.78              2          1               0   \n",
       "6     7.0       0.00              2          1               1   \n",
       "7     4.0  115046.74              4          1               0   \n",
       "8     4.0  142051.07              2          0               1   \n",
       "9     2.0  134603.88              1          1               1   \n",
       "\n",
       "   EstimatedSalary  Exited  \n",
       "0        101348.88       1  \n",
       "1        112542.58       0  \n",
       "2        113931.57       1  \n",
       "3         93826.63       0  \n",
       "4         79084.10       0  \n",
       "5        149756.71       1  \n",
       "6         10062.80       0  \n",
       "7        119346.88       1  \n",
       "8         74940.50       0  \n",
       "9         71725.73       0  "
      ]
     },
     "execution_count": 4,
     "metadata": {},
     "output_type": "execute_result"
    }
   ],
   "source": [
    "# Ознакосление с данными\n",
    "df[:10]"
   ]
  },
  {
   "cell_type": "code",
   "execution_count": 5,
   "metadata": {
    "scrolled": false
   },
   "outputs": [
    {
     "name": "stdout",
     "output_type": "stream",
     "text": [
      "<class 'pandas.core.frame.DataFrame'>\n",
      "RangeIndex: 10000 entries, 0 to 9999\n",
      "Data columns (total 14 columns):\n",
      " #   Column           Non-Null Count  Dtype  \n",
      "---  ------           --------------  -----  \n",
      " 0   RowNumber        10000 non-null  int64  \n",
      " 1   CustomerId       10000 non-null  int64  \n",
      " 2   Surname          10000 non-null  object \n",
      " 3   CreditScore      10000 non-null  int64  \n",
      " 4   Geography        10000 non-null  object \n",
      " 5   Gender           10000 non-null  object \n",
      " 6   Age              10000 non-null  int64  \n",
      " 7   Tenure           9091 non-null   float64\n",
      " 8   Balance          10000 non-null  float64\n",
      " 9   NumOfProducts    10000 non-null  int64  \n",
      " 10  HasCrCard        10000 non-null  int64  \n",
      " 11  IsActiveMember   10000 non-null  int64  \n",
      " 12  EstimatedSalary  10000 non-null  float64\n",
      " 13  Exited           10000 non-null  int64  \n",
      "dtypes: float64(3), int64(8), object(3)\n",
      "memory usage: 1.1+ MB\n"
     ]
    }
   ],
   "source": [
    "# Получение информации методом info\n",
    "df.info()"
   ]
  },
  {
   "cell_type": "code",
   "execution_count": 6,
   "metadata": {},
   "outputs": [
    {
     "data": {
      "text/html": [
       "<div>\n",
       "<style scoped>\n",
       "    .dataframe tbody tr th:only-of-type {\n",
       "        vertical-align: middle;\n",
       "    }\n",
       "\n",
       "    .dataframe tbody tr th {\n",
       "        vertical-align: top;\n",
       "    }\n",
       "\n",
       "    .dataframe thead th {\n",
       "        text-align: right;\n",
       "    }\n",
       "</style>\n",
       "<table border=\"1\" class=\"dataframe\">\n",
       "  <thead>\n",
       "    <tr style=\"text-align: right;\">\n",
       "      <th></th>\n",
       "      <th>RowNumber</th>\n",
       "      <th>CustomerId</th>\n",
       "      <th>CreditScore</th>\n",
       "      <th>Age</th>\n",
       "      <th>Tenure</th>\n",
       "      <th>Balance</th>\n",
       "      <th>NumOfProducts</th>\n",
       "      <th>HasCrCard</th>\n",
       "      <th>IsActiveMember</th>\n",
       "      <th>EstimatedSalary</th>\n",
       "      <th>Exited</th>\n",
       "    </tr>\n",
       "  </thead>\n",
       "  <tbody>\n",
       "    <tr>\n",
       "      <th>count</th>\n",
       "      <td>10000.00000</td>\n",
       "      <td>1.000000e+04</td>\n",
       "      <td>10000.000000</td>\n",
       "      <td>10000.000000</td>\n",
       "      <td>9091.000000</td>\n",
       "      <td>10000.000000</td>\n",
       "      <td>10000.000000</td>\n",
       "      <td>10000.00000</td>\n",
       "      <td>10000.000000</td>\n",
       "      <td>10000.000000</td>\n",
       "      <td>10000.000000</td>\n",
       "    </tr>\n",
       "    <tr>\n",
       "      <th>mean</th>\n",
       "      <td>5000.50000</td>\n",
       "      <td>1.569094e+07</td>\n",
       "      <td>650.528800</td>\n",
       "      <td>38.921800</td>\n",
       "      <td>4.997690</td>\n",
       "      <td>76485.889288</td>\n",
       "      <td>1.530200</td>\n",
       "      <td>0.70550</td>\n",
       "      <td>0.515100</td>\n",
       "      <td>100090.239881</td>\n",
       "      <td>0.203700</td>\n",
       "    </tr>\n",
       "    <tr>\n",
       "      <th>std</th>\n",
       "      <td>2886.89568</td>\n",
       "      <td>7.193619e+04</td>\n",
       "      <td>96.653299</td>\n",
       "      <td>10.487806</td>\n",
       "      <td>2.894723</td>\n",
       "      <td>62397.405202</td>\n",
       "      <td>0.581654</td>\n",
       "      <td>0.45584</td>\n",
       "      <td>0.499797</td>\n",
       "      <td>57510.492818</td>\n",
       "      <td>0.402769</td>\n",
       "    </tr>\n",
       "    <tr>\n",
       "      <th>min</th>\n",
       "      <td>1.00000</td>\n",
       "      <td>1.556570e+07</td>\n",
       "      <td>350.000000</td>\n",
       "      <td>18.000000</td>\n",
       "      <td>0.000000</td>\n",
       "      <td>0.000000</td>\n",
       "      <td>1.000000</td>\n",
       "      <td>0.00000</td>\n",
       "      <td>0.000000</td>\n",
       "      <td>11.580000</td>\n",
       "      <td>0.000000</td>\n",
       "    </tr>\n",
       "    <tr>\n",
       "      <th>25%</th>\n",
       "      <td>2500.75000</td>\n",
       "      <td>1.562853e+07</td>\n",
       "      <td>584.000000</td>\n",
       "      <td>32.000000</td>\n",
       "      <td>2.000000</td>\n",
       "      <td>0.000000</td>\n",
       "      <td>1.000000</td>\n",
       "      <td>0.00000</td>\n",
       "      <td>0.000000</td>\n",
       "      <td>51002.110000</td>\n",
       "      <td>0.000000</td>\n",
       "    </tr>\n",
       "    <tr>\n",
       "      <th>50%</th>\n",
       "      <td>5000.50000</td>\n",
       "      <td>1.569074e+07</td>\n",
       "      <td>652.000000</td>\n",
       "      <td>37.000000</td>\n",
       "      <td>5.000000</td>\n",
       "      <td>97198.540000</td>\n",
       "      <td>1.000000</td>\n",
       "      <td>1.00000</td>\n",
       "      <td>1.000000</td>\n",
       "      <td>100193.915000</td>\n",
       "      <td>0.000000</td>\n",
       "    </tr>\n",
       "    <tr>\n",
       "      <th>75%</th>\n",
       "      <td>7500.25000</td>\n",
       "      <td>1.575323e+07</td>\n",
       "      <td>718.000000</td>\n",
       "      <td>44.000000</td>\n",
       "      <td>7.000000</td>\n",
       "      <td>127644.240000</td>\n",
       "      <td>2.000000</td>\n",
       "      <td>1.00000</td>\n",
       "      <td>1.000000</td>\n",
       "      <td>149388.247500</td>\n",
       "      <td>0.000000</td>\n",
       "    </tr>\n",
       "    <tr>\n",
       "      <th>max</th>\n",
       "      <td>10000.00000</td>\n",
       "      <td>1.581569e+07</td>\n",
       "      <td>850.000000</td>\n",
       "      <td>92.000000</td>\n",
       "      <td>10.000000</td>\n",
       "      <td>250898.090000</td>\n",
       "      <td>4.000000</td>\n",
       "      <td>1.00000</td>\n",
       "      <td>1.000000</td>\n",
       "      <td>199992.480000</td>\n",
       "      <td>1.000000</td>\n",
       "    </tr>\n",
       "  </tbody>\n",
       "</table>\n",
       "</div>"
      ],
      "text/plain": [
       "         RowNumber    CustomerId   CreditScore           Age       Tenure  \\\n",
       "count  10000.00000  1.000000e+04  10000.000000  10000.000000  9091.000000   \n",
       "mean    5000.50000  1.569094e+07    650.528800     38.921800     4.997690   \n",
       "std     2886.89568  7.193619e+04     96.653299     10.487806     2.894723   \n",
       "min        1.00000  1.556570e+07    350.000000     18.000000     0.000000   \n",
       "25%     2500.75000  1.562853e+07    584.000000     32.000000     2.000000   \n",
       "50%     5000.50000  1.569074e+07    652.000000     37.000000     5.000000   \n",
       "75%     7500.25000  1.575323e+07    718.000000     44.000000     7.000000   \n",
       "max    10000.00000  1.581569e+07    850.000000     92.000000    10.000000   \n",
       "\n",
       "             Balance  NumOfProducts    HasCrCard  IsActiveMember  \\\n",
       "count   10000.000000   10000.000000  10000.00000    10000.000000   \n",
       "mean    76485.889288       1.530200      0.70550        0.515100   \n",
       "std     62397.405202       0.581654      0.45584        0.499797   \n",
       "min         0.000000       1.000000      0.00000        0.000000   \n",
       "25%         0.000000       1.000000      0.00000        0.000000   \n",
       "50%     97198.540000       1.000000      1.00000        1.000000   \n",
       "75%    127644.240000       2.000000      1.00000        1.000000   \n",
       "max    250898.090000       4.000000      1.00000        1.000000   \n",
       "\n",
       "       EstimatedSalary        Exited  \n",
       "count     10000.000000  10000.000000  \n",
       "mean     100090.239881      0.203700  \n",
       "std       57510.492818      0.402769  \n",
       "min          11.580000      0.000000  \n",
       "25%       51002.110000      0.000000  \n",
       "50%      100193.915000      0.000000  \n",
       "75%      149388.247500      0.000000  \n",
       "max      199992.480000      1.000000  "
      ]
     },
     "execution_count": 6,
     "metadata": {},
     "output_type": "execute_result"
    }
   ],
   "source": [
    "# Получение информации методом describe\n",
    "df.describe()"
   ]
  },
  {
   "cell_type": "code",
   "execution_count": 7,
   "metadata": {
    "scrolled": true
   },
   "outputs": [
    {
     "data": {
      "text/plain": [
       "RowNumber          10000\n",
       "CustomerId         10000\n",
       "EstimatedSalary     9999\n",
       "Balance             6382\n",
       "Surname             2932\n",
       "CreditScore          460\n",
       "Age                   70\n",
       "Tenure                11\n",
       "NumOfProducts          4\n",
       "Geography              3\n",
       "Gender                 2\n",
       "HasCrCard              2\n",
       "IsActiveMember         2\n",
       "Exited                 2\n",
       "dtype: int64"
      ]
     },
     "execution_count": 7,
     "metadata": {},
     "output_type": "execute_result"
    }
   ],
   "source": [
    "# Вывод количества уникальных значений в каждом стаолбце датафрейма\n",
    "df.nunique().sort_values(ascending=False)"
   ]
  },
  {
   "cell_type": "markdown",
   "metadata": {},
   "source": [
    "Столбцы `RowNumber`, `CustomerId`, `EstimatedSalary`, `Balance`, `CreditScore` -- количественные переменные. <br>\n",
    "Столбцы `Age`, `Tenure`, `NumOfProducts`, `Geography`, `Gender`, `HasCrCard`, `IsActiveMember`, `Exited`-- категориальные переменные."
   ]
  },
  {
   "cell_type": "markdown",
   "metadata": {},
   "source": [
    "### Пропуски в данных"
   ]
  },
  {
   "cell_type": "code",
   "execution_count": 8,
   "metadata": {},
   "outputs": [
    {
     "data": {
      "text/plain": [
       "RowNumber            0\n",
       "CustomerId           0\n",
       "Surname              0\n",
       "CreditScore          0\n",
       "Geography            0\n",
       "Gender               0\n",
       "Age                  0\n",
       "Tenure             909\n",
       "Balance              0\n",
       "NumOfProducts        0\n",
       "HasCrCard            0\n",
       "IsActiveMember       0\n",
       "EstimatedSalary      0\n",
       "Exited               0\n",
       "dtype: int64"
      ]
     },
     "execution_count": 8,
     "metadata": {},
     "output_type": "execute_result"
    }
   ],
   "source": [
    "# Подсчет количества пропусков в значениях\n",
    "df.isna().sum()"
   ]
  },
  {
   "cell_type": "markdown",
   "metadata": {},
   "source": [
    "В столбце `Tenure` 909 пропущенных значения"
   ]
  },
  {
   "cell_type": "code",
   "execution_count": 9,
   "metadata": {
    "scrolled": false
   },
   "outputs": [
    {
     "data": {
      "text/html": [
       "<div>\n",
       "<style scoped>\n",
       "    .dataframe tbody tr th:only-of-type {\n",
       "        vertical-align: middle;\n",
       "    }\n",
       "\n",
       "    .dataframe tbody tr th {\n",
       "        vertical-align: top;\n",
       "    }\n",
       "\n",
       "    .dataframe thead tr th {\n",
       "        text-align: left;\n",
       "    }\n",
       "</style>\n",
       "<table border=\"1\" class=\"dataframe\">\n",
       "  <thead>\n",
       "    <tr>\n",
       "      <th></th>\n",
       "      <th>Tenure</th>\n",
       "      <th colspan=\"3\" halign=\"left\">CustomerId</th>\n",
       "    </tr>\n",
       "    <tr>\n",
       "      <th></th>\n",
       "      <th></th>\n",
       "      <th>min</th>\n",
       "      <th>median</th>\n",
       "      <th>max</th>\n",
       "    </tr>\n",
       "  </thead>\n",
       "  <tbody>\n",
       "    <tr>\n",
       "      <th>0</th>\n",
       "      <td>0.0</td>\n",
       "      <td>15566467</td>\n",
       "      <td>15696410.0</td>\n",
       "      <td>15815534</td>\n",
       "    </tr>\n",
       "    <tr>\n",
       "      <th>1</th>\n",
       "      <td>1.0</td>\n",
       "      <td>15565706</td>\n",
       "      <td>15692461.0</td>\n",
       "      <td>15815660</td>\n",
       "    </tr>\n",
       "    <tr>\n",
       "      <th>2</th>\n",
       "      <td>2.0</td>\n",
       "      <td>15566494</td>\n",
       "      <td>15696847.0</td>\n",
       "      <td>15815626</td>\n",
       "    </tr>\n",
       "    <tr>\n",
       "      <th>3</th>\n",
       "      <td>3.0</td>\n",
       "      <td>15565878</td>\n",
       "      <td>15697350.5</td>\n",
       "      <td>15815428</td>\n",
       "    </tr>\n",
       "    <tr>\n",
       "      <th>4</th>\n",
       "      <td>4.0</td>\n",
       "      <td>15566091</td>\n",
       "      <td>15690164.0</td>\n",
       "      <td>15815125</td>\n",
       "    </tr>\n",
       "    <tr>\n",
       "      <th>5</th>\n",
       "      <td>5.0</td>\n",
       "      <td>15566030</td>\n",
       "      <td>15680683.0</td>\n",
       "      <td>15815236</td>\n",
       "    </tr>\n",
       "    <tr>\n",
       "      <th>6</th>\n",
       "      <td>6.0</td>\n",
       "      <td>15565779</td>\n",
       "      <td>15692291.0</td>\n",
       "      <td>15815552</td>\n",
       "    </tr>\n",
       "    <tr>\n",
       "      <th>7</th>\n",
       "      <td>7.0</td>\n",
       "      <td>15566958</td>\n",
       "      <td>15690939.0</td>\n",
       "      <td>15815560</td>\n",
       "    </tr>\n",
       "    <tr>\n",
       "      <th>8</th>\n",
       "      <td>8.0</td>\n",
       "      <td>15565891</td>\n",
       "      <td>15684921.0</td>\n",
       "      <td>15815645</td>\n",
       "    </tr>\n",
       "    <tr>\n",
       "      <th>9</th>\n",
       "      <td>9.0</td>\n",
       "      <td>15565701</td>\n",
       "      <td>15690642.0</td>\n",
       "      <td>15815656</td>\n",
       "    </tr>\n",
       "    <tr>\n",
       "      <th>10</th>\n",
       "      <td>10.0</td>\n",
       "      <td>15565796</td>\n",
       "      <td>15692923.5</td>\n",
       "      <td>15815530</td>\n",
       "    </tr>\n",
       "  </tbody>\n",
       "</table>\n",
       "</div>"
      ],
      "text/plain": [
       "   Tenure CustomerId                      \n",
       "                 min      median       max\n",
       "0     0.0   15566467  15696410.0  15815534\n",
       "1     1.0   15565706  15692461.0  15815660\n",
       "2     2.0   15566494  15696847.0  15815626\n",
       "3     3.0   15565878  15697350.5  15815428\n",
       "4     4.0   15566091  15690164.0  15815125\n",
       "5     5.0   15566030  15680683.0  15815236\n",
       "6     6.0   15565779  15692291.0  15815552\n",
       "7     7.0   15566958  15690939.0  15815560\n",
       "8     8.0   15565891  15684921.0  15815645\n",
       "9     9.0   15565701  15690642.0  15815656\n",
       "10   10.0   15565796  15692923.5  15815530"
      ]
     },
     "execution_count": 9,
     "metadata": {},
     "output_type": "execute_result"
    }
   ],
   "source": [
    "df.groupby('Tenure', as_index=False).agg({'CustomerId':['min', 'median', 'max']})"
   ]
  },
  {
   "cell_type": "markdown",
   "metadata": {},
   "source": [
    "Была идея, что `CustomerId` присваивался по порядку от момента становления клиентом банка. И можно было бы определить пропуски в значениях. Но к сожалению это не так."
   ]
  },
  {
   "cell_type": "code",
   "execution_count": 10,
   "metadata": {},
   "outputs": [],
   "source": [
    "# Заполнение пропусков медианой\n",
    "df.Tenure = df.Tenure.fillna(df.Tenure.median())"
   ]
  },
  {
   "cell_type": "code",
   "execution_count": 11,
   "metadata": {},
   "outputs": [
    {
     "data": {
      "text/plain": [
       "RowNumber          0\n",
       "CustomerId         0\n",
       "Surname            0\n",
       "CreditScore        0\n",
       "Geography          0\n",
       "Gender             0\n",
       "Age                0\n",
       "Tenure             0\n",
       "Balance            0\n",
       "NumOfProducts      0\n",
       "HasCrCard          0\n",
       "IsActiveMember     0\n",
       "EstimatedSalary    0\n",
       "Exited             0\n",
       "dtype: int64"
      ]
     },
     "execution_count": 11,
     "metadata": {},
     "output_type": "execute_result"
    }
   ],
   "source": [
    "# Проверка количества пропусков в значениях после удаления\n",
    "df.isna().sum()"
   ]
  },
  {
   "cell_type": "markdown",
   "metadata": {},
   "source": [
    "### Дубликаты в данных"
   ]
  },
  {
   "cell_type": "code",
   "execution_count": 12,
   "metadata": {
    "scrolled": true
   },
   "outputs": [
    {
     "data": {
      "text/plain": [
       "0"
      ]
     },
     "execution_count": 12,
     "metadata": {},
     "output_type": "execute_result"
    }
   ],
   "source": [
    "# Проверка налиичия дубликатов в данных\n",
    "df.duplicated().sum()"
   ]
  },
  {
   "cell_type": "markdown",
   "metadata": {},
   "source": [
    "### Корреляция в данных"
   ]
  },
  {
   "cell_type": "code",
   "execution_count": 13,
   "metadata": {
    "scrolled": false
   },
   "outputs": [
    {
     "data": {
      "image/png": "[encoded data removed]",
      "text/plain": [
       "<Figure size 406.6x360 with 1 Axes>"
      ]
     },
     "metadata": {},
     "output_type": "display_data"
    },
    {
     "data": {
      "image/png": "[encoded data removed]",
      "text/plain": [
       "<Figure size 406.6x360 with 1 Axes>"
      ]
     },
     "metadata": {},
     "output_type": "display_data"
    },
    {
     "data": {
      "image/png": "[encoded data removed]",
      "text/plain": [
       "<Figure size 406.6x360 with 1 Axes>"
      ]
     },
     "metadata": {},
     "output_type": "display_data"
    },
    {
     "data": {
      "image/png": "[encoded data removed]",
      "text/plain": [
       "<Figure size 406.6x360 with 1 Axes>"
      ]
     },
     "metadata": {},
     "output_type": "display_data"
    },
    {
     "data": {
      "image/png": "[encoded data removed]",
      "text/plain": [
       "<Figure size 406.6x360 with 1 Axes>"
      ]
     },
     "metadata": {},
     "output_type": "display_data"
    },
    {
     "data": {
      "image/png": "[encoded data removed]",
      "text/plain": [
       "<Figure size 406.6x360 with 1 Axes>"
      ]
     },
     "metadata": {},
     "output_type": "display_data"
    },
    {
     "data": {
      "image/png": "[encoded data removed]",
      "text/plain": [
       "<Figure size 406.6x360 with 1 Axes>"
      ]
     },
     "metadata": {},
     "output_type": "display_data"
    },
    {
     "data": {
      "image/png": "[encoded data removed]",
      "text/plain": [
       "<Figure size 406.6x360 with 1 Axes>"
      ]
     },
     "metadata": {},
     "output_type": "display_data"
    }
   ],
   "source": [
    "sns.set_theme(style='darkgrid')\n",
    "for _ in ['RowNumber', 'CustomerId', 'CreditScore', 'Age', 'Tenure',\n",
    "          'Balance', 'NumOfProducts', 'EstimatedSalary']:\n",
    "    sns.displot(df, x=_, hue='Exited', kind='kde')"
   ]
  },
  {
   "cell_type": "code",
   "execution_count": 14,
   "metadata": {
    "scrolled": false
   },
   "outputs": [
    {
     "data": {
      "image/png": "[encoded data removed]",
      "text/plain": [
       "<Figure size 720x576 with 2 Axes>"
      ]
     },
     "metadata": {},
     "output_type": "display_data"
    }
   ],
   "source": [
    "# Построение матрицы корреляции признаков\n",
    "plt.figure(figsize=(10, 8))\n",
    "sns.heatmap(df.corr(method='spearman'), annot=True, fmt='.1f');\n",
    "None"
   ]
  },
  {
   "cell_type": "markdown",
   "metadata": {},
   "source": [
    "Мультиколлинеарности в данных нет."
   ]
  },
  {
   "cell_type": "markdown",
   "metadata": {},
   "source": [
    "### Вывод:\n",
    "1. Размер выборки составляет 10000 строк и 14 столбцов.\n",
    "\n",
    "    Целевой признак:\n",
    "    * `Exited` — факт ухода клиента\n",
    "\n",
    "    Признаки:\n",
    "    * `RowNumber` — индекс строки в данных\n",
    "    * `CustomerId`— уникальный идентификатор клиента\n",
    "    * `Surname` — фамилия\n",
    "    * `CreditScore` — кредитный рейтинг\n",
    "    * `Geography` — страна проживания\n",
    "    * `Gender` — пол\n",
    "    * `Age` — возраст\n",
    "    * `Tenure` — сколько лет человек является клиентом банка\n",
    "    * `Balance` — баланс на счёте\n",
    "    * `NumOfProducts` — количество продуктов банка, используемых клиентом\n",
    "    * `HasCrCard` — наличие кредитной карты\n",
    "    * `IsActiveMember` — активность клиента\n",
    "    * `EstimatedSalary` — предполагаемая зарплата\n",
    "    \n",
    "2. В данных в столбце `Tenure` обозначаюшем сколько лет человек является клиентом банка `пропущено 909 значений`. Строки с пропусками были заполнены медианой.\n",
    "3. В данных нет дубликатов.\n",
    "4. Мультиколлинеарности в данных нет."
   ]
  },
  {
   "cell_type": "markdown",
   "metadata": {},
   "source": [
    "## Исследование задачи"
   ]
  },
  {
   "cell_type": "markdown",
   "metadata": {},
   "source": [
    "### Дисбаланс классов"
   ]
  },
  {
   "cell_type": "code",
   "execution_count": 15,
   "metadata": {
    "scrolled": true
   },
   "outputs": [
    {
     "data": {
      "image/png": "[encoded data removed]",
      "text/plain": [
       "<Figure size 432x288 with 1 Axes>"
      ]
     },
     "metadata": {},
     "output_type": "display_data"
    }
   ],
   "source": [
    "# Соотношение классов\n",
    "df.Exited.value_counts(normalize=True).plot(kind='barh',xlabel='Exited', title='Процентное соотношение классов')\n",
    "None"
   ]
  },
  {
   "cell_type": "code",
   "execution_count": 16,
   "metadata": {},
   "outputs": [
    {
     "data": {
      "text/plain": [
       "'Объектов класса 1: 20.4%'"
      ]
     },
     "execution_count": 16,
     "metadata": {},
     "output_type": "execute_result"
    }
   ],
   "source": [
    "f'Объектов класса 1: {round(df.Exited.value_counts(normalize=True)[1]*100,1)}%'"
   ]
  },
  {
   "cell_type": "markdown",
   "metadata": {},
   "source": [
    "### Кодирование TargetEncoder"
   ]
  },
  {
   "cell_type": "code",
   "execution_count": 17,
   "metadata": {},
   "outputs": [],
   "source": [
    "#from category_encoders import TargetEncoder\n",
    "#encoder = TargetEncoder()\n",
    "#df['Geography'] = encoder.fit_transform(df['Geography'], df['Exited'])\n",
    "#df['Gender'] = encoder.fit_transform(df['Gender'], df['Exited'])\n",
    "#df.head(35)"
   ]
  },
  {
   "cell_type": "markdown",
   "metadata": {},
   "source": [
    "### Разделение на тренировочную и тестовую выборки"
   ]
  },
  {
   "cell_type": "code",
   "execution_count": 18,
   "metadata": {},
   "outputs": [],
   "source": [
    "# Создание переменной с колонками фичей\n",
    "X_col = ['CreditScore', 'Geography', 'Gender', 'Age', 'Tenure', 'Balance',\n",
    "         'NumOfProducts', 'IsActiveMember', 'EstimatedSalary']"
   ]
  },
  {
   "cell_type": "code",
   "execution_count": 19,
   "metadata": {
    "scrolled": false
   },
   "outputs": [],
   "source": [
    "# Разделение на фичи и таргет\n",
    "X = df[X_col]\n",
    "y = df['Exited']"
   ]
  },
  {
   "cell_type": "code",
   "execution_count": 20,
   "metadata": {},
   "outputs": [],
   "source": [
    "# Разделение на тренировочно-валидационную и тестовую выборки\n",
    "X_train, X_test, y_train, y_test = train_test_split(X, y,\n",
    "                                              random_state=12345,\n",
    "                                              test_size=.2,\n",
    "                                              stratify=y)"
   ]
  },
  {
   "cell_type": "code",
   "execution_count": 21,
   "metadata": {
    "scrolled": true
   },
   "outputs": [
    {
     "data": {
      "text/plain": [
       "(10000, 10000)"
      ]
     },
     "execution_count": 21,
     "metadata": {},
     "output_type": "execute_result"
    }
   ],
   "source": [
    "# Проверка длинны получившихся выборок\n",
    "len(X_train) + len(X_test), len(y_train) + len(y_test)"
   ]
  },
  {
   "cell_type": "markdown",
   "metadata": {},
   "source": [
    "### Кодирование One-Hot Encoder"
   ]
  },
  {
   "cell_type": "code",
   "execution_count": 22,
   "metadata": {},
   "outputs": [],
   "source": [
    "X_train = X_train[X_col]"
   ]
  },
  {
   "cell_type": "code",
   "execution_count": 23,
   "metadata": {
    "scrolled": false
   },
   "outputs": [],
   "source": [
    "enc = OneHotEncoder(drop='if_binary')\n",
    "\n",
    "enc.fit(X_train[['Geography', 'Gender']])\n",
    "\n",
    "X_col_ohe = ['Geography_France', 'Geography_Germany',  'Geography_Spain',\n",
    "             'Gender_Male']\n",
    "\n",
    "X_train[X_col_ohe] = pd.DataFrame(enc.transform(X_train[['Geography', 'Gender']]).toarray(),\n",
    "                                  columns=[X_col_ohe],\n",
    "                                  index=X_train.index)\n",
    "X_train = X_train.drop(['Geography', 'Gender'], axis=1)"
   ]
  },
  {
   "cell_type": "code",
   "execution_count": 24,
   "metadata": {},
   "outputs": [],
   "source": [
    "X_test[X_col_ohe] = pd.DataFrame(enc.transform(X_test[['Geography', 'Gender']]).toarray(),\n",
    "                                 columns=[X_col_ohe],\n",
    "                                 index=X_test.index)\n",
    "X_test = X_test.drop(['Geography', 'Gender'], axis=1)"
   ]
  },
  {
   "cell_type": "code",
   "execution_count": 25,
   "metadata": {},
   "outputs": [
    {
     "data": {
      "text/html": [
       "<div>\n",
       "<style scoped>\n",
       "    .dataframe tbody tr th:only-of-type {\n",
       "        vertical-align: middle;\n",
       "    }\n",
       "\n",
       "    .dataframe tbody tr th {\n",
       "        vertical-align: top;\n",
       "    }\n",
       "\n",
       "    .dataframe thead th {\n",
       "        text-align: right;\n",
       "    }\n",
       "</style>\n",
       "<table border=\"1\" class=\"dataframe\">\n",
       "  <thead>\n",
       "    <tr style=\"text-align: right;\">\n",
       "      <th></th>\n",
       "      <th>CreditScore</th>\n",
       "      <th>Age</th>\n",
       "      <th>Tenure</th>\n",
       "      <th>Balance</th>\n",
       "      <th>NumOfProducts</th>\n",
       "      <th>IsActiveMember</th>\n",
       "      <th>EstimatedSalary</th>\n",
       "      <th>Geography_France</th>\n",
       "      <th>Geography_Germany</th>\n",
       "      <th>Geography_Spain</th>\n",
       "      <th>Gender_Male</th>\n",
       "    </tr>\n",
       "  </thead>\n",
       "  <tbody>\n",
       "    <tr>\n",
       "      <th>3376</th>\n",
       "      <td>644</td>\n",
       "      <td>40</td>\n",
       "      <td>4.0</td>\n",
       "      <td>77270.08</td>\n",
       "      <td>2</td>\n",
       "      <td>1</td>\n",
       "      <td>115800.10</td>\n",
       "      <td>0.0</td>\n",
       "      <td>1.0</td>\n",
       "      <td>0.0</td>\n",
       "      <td>0.0</td>\n",
       "    </tr>\n",
       "    <tr>\n",
       "      <th>1315</th>\n",
       "      <td>607</td>\n",
       "      <td>27</td>\n",
       "      <td>5.0</td>\n",
       "      <td>100912.19</td>\n",
       "      <td>1</td>\n",
       "      <td>0</td>\n",
       "      <td>7631.27</td>\n",
       "      <td>0.0</td>\n",
       "      <td>0.0</td>\n",
       "      <td>1.0</td>\n",
       "      <td>0.0</td>\n",
       "    </tr>\n",
       "    <tr>\n",
       "      <th>2552</th>\n",
       "      <td>599</td>\n",
       "      <td>46</td>\n",
       "      <td>7.0</td>\n",
       "      <td>81742.84</td>\n",
       "      <td>2</td>\n",
       "      <td>0</td>\n",
       "      <td>83282.21</td>\n",
       "      <td>0.0</td>\n",
       "      <td>0.0</td>\n",
       "      <td>1.0</td>\n",
       "      <td>0.0</td>\n",
       "    </tr>\n",
       "    <tr>\n",
       "      <th>511</th>\n",
       "      <td>632</td>\n",
       "      <td>38</td>\n",
       "      <td>6.0</td>\n",
       "      <td>86569.76</td>\n",
       "      <td>2</td>\n",
       "      <td>0</td>\n",
       "      <td>98090.91</td>\n",
       "      <td>0.0</td>\n",
       "      <td>1.0</td>\n",
       "      <td>0.0</td>\n",
       "      <td>0.0</td>\n",
       "    </tr>\n",
       "    <tr>\n",
       "      <th>1888</th>\n",
       "      <td>429</td>\n",
       "      <td>60</td>\n",
       "      <td>7.0</td>\n",
       "      <td>0.00</td>\n",
       "      <td>2</td>\n",
       "      <td>1</td>\n",
       "      <td>163691.48</td>\n",
       "      <td>1.0</td>\n",
       "      <td>0.0</td>\n",
       "      <td>0.0</td>\n",
       "      <td>1.0</td>\n",
       "    </tr>\n",
       "  </tbody>\n",
       "</table>\n",
       "</div>"
      ],
      "text/plain": [
       "      CreditScore  Age  Tenure    Balance  NumOfProducts  IsActiveMember  \\\n",
       "3376          644   40     4.0   77270.08              2               1   \n",
       "1315          607   27     5.0  100912.19              1               0   \n",
       "2552          599   46     7.0   81742.84              2               0   \n",
       "511           632   38     6.0   86569.76              2               0   \n",
       "1888          429   60     7.0       0.00              2               1   \n",
       "\n",
       "      EstimatedSalary  Geography_France  Geography_Germany  Geography_Spain  \\\n",
       "3376        115800.10               0.0                1.0              0.0   \n",
       "1315          7631.27               0.0                0.0              1.0   \n",
       "2552         83282.21               0.0                0.0              1.0   \n",
       "511          98090.91               0.0                1.0              0.0   \n",
       "1888        163691.48               1.0                0.0              0.0   \n",
       "\n",
       "      Gender_Male  \n",
       "3376          0.0  \n",
       "1315          0.0  \n",
       "2552          0.0  \n",
       "511           0.0  \n",
       "1888          1.0  "
      ]
     },
     "execution_count": 25,
     "metadata": {},
     "output_type": "execute_result"
    }
   ],
   "source": [
    "X_train.head()"
   ]
  },
  {
   "cell_type": "code",
   "execution_count": 26,
   "metadata": {
    "scrolled": false
   },
   "outputs": [
    {
     "data": {
      "text/html": [
       "<div>\n",
       "<style scoped>\n",
       "    .dataframe tbody tr th:only-of-type {\n",
       "        vertical-align: middle;\n",
       "    }\n",
       "\n",
       "    .dataframe tbody tr th {\n",
       "        vertical-align: top;\n",
       "    }\n",
       "\n",
       "    .dataframe thead th {\n",
       "        text-align: right;\n",
       "    }\n",
       "</style>\n",
       "<table border=\"1\" class=\"dataframe\">\n",
       "  <thead>\n",
       "    <tr style=\"text-align: right;\">\n",
       "      <th></th>\n",
       "      <th>CreditScore</th>\n",
       "      <th>Age</th>\n",
       "      <th>Tenure</th>\n",
       "      <th>Balance</th>\n",
       "      <th>NumOfProducts</th>\n",
       "      <th>IsActiveMember</th>\n",
       "      <th>EstimatedSalary</th>\n",
       "      <th>Geography_France</th>\n",
       "      <th>Geography_Germany</th>\n",
       "      <th>Geography_Spain</th>\n",
       "      <th>Gender_Male</th>\n",
       "    </tr>\n",
       "  </thead>\n",
       "  <tbody>\n",
       "    <tr>\n",
       "      <th>7837</th>\n",
       "      <td>850</td>\n",
       "      <td>48</td>\n",
       "      <td>2.0</td>\n",
       "      <td>0.00</td>\n",
       "      <td>1</td>\n",
       "      <td>0</td>\n",
       "      <td>169425.30</td>\n",
       "      <td>0.0</td>\n",
       "      <td>0.0</td>\n",
       "      <td>1.0</td>\n",
       "      <td>1.0</td>\n",
       "    </tr>\n",
       "    <tr>\n",
       "      <th>9505</th>\n",
       "      <td>651</td>\n",
       "      <td>28</td>\n",
       "      <td>10.0</td>\n",
       "      <td>79562.98</td>\n",
       "      <td>1</td>\n",
       "      <td>1</td>\n",
       "      <td>74687.37</td>\n",
       "      <td>1.0</td>\n",
       "      <td>0.0</td>\n",
       "      <td>0.0</td>\n",
       "      <td>1.0</td>\n",
       "    </tr>\n",
       "    <tr>\n",
       "      <th>6208</th>\n",
       "      <td>714</td>\n",
       "      <td>34</td>\n",
       "      <td>10.0</td>\n",
       "      <td>0.00</td>\n",
       "      <td>2</td>\n",
       "      <td>1</td>\n",
       "      <td>80234.14</td>\n",
       "      <td>1.0</td>\n",
       "      <td>0.0</td>\n",
       "      <td>0.0</td>\n",
       "      <td>1.0</td>\n",
       "    </tr>\n",
       "    <tr>\n",
       "      <th>5642</th>\n",
       "      <td>782</td>\n",
       "      <td>41</td>\n",
       "      <td>4.0</td>\n",
       "      <td>0.00</td>\n",
       "      <td>1</td>\n",
       "      <td>0</td>\n",
       "      <td>132943.88</td>\n",
       "      <td>0.0</td>\n",
       "      <td>0.0</td>\n",
       "      <td>1.0</td>\n",
       "      <td>0.0</td>\n",
       "    </tr>\n",
       "    <tr>\n",
       "      <th>9643</th>\n",
       "      <td>521</td>\n",
       "      <td>41</td>\n",
       "      <td>2.0</td>\n",
       "      <td>0.00</td>\n",
       "      <td>2</td>\n",
       "      <td>1</td>\n",
       "      <td>113089.43</td>\n",
       "      <td>1.0</td>\n",
       "      <td>0.0</td>\n",
       "      <td>0.0</td>\n",
       "      <td>0.0</td>\n",
       "    </tr>\n",
       "  </tbody>\n",
       "</table>\n",
       "</div>"
      ],
      "text/plain": [
       "      CreditScore  Age  Tenure   Balance  NumOfProducts  IsActiveMember  \\\n",
       "7837          850   48     2.0      0.00              1               0   \n",
       "9505          651   28    10.0  79562.98              1               1   \n",
       "6208          714   34    10.0      0.00              2               1   \n",
       "5642          782   41     4.0      0.00              1               0   \n",
       "9643          521   41     2.0      0.00              2               1   \n",
       "\n",
       "      EstimatedSalary  Geography_France  Geography_Germany  Geography_Spain  \\\n",
       "7837        169425.30               0.0                0.0              1.0   \n",
       "9505         74687.37               1.0                0.0              0.0   \n",
       "6208         80234.14               1.0                0.0              0.0   \n",
       "5642        132943.88               0.0                0.0              1.0   \n",
       "9643        113089.43               1.0                0.0              0.0   \n",
       "\n",
       "      Gender_Male  \n",
       "7837          1.0  \n",
       "9505          1.0  \n",
       "6208          1.0  \n",
       "5642          0.0  \n",
       "9643          0.0  "
      ]
     },
     "execution_count": 26,
     "metadata": {},
     "output_type": "execute_result"
    }
   ],
   "source": [
    "X_test.head()"
   ]
  },
  {
   "cell_type": "markdown",
   "metadata": {},
   "source": [
    "### Масштабирование"
   ]
  },
  {
   "cell_type": "code",
   "execution_count": 27,
   "metadata": {
    "scrolled": false
   },
   "outputs": [
    {
     "data": {
      "text/html": [
       "<div>\n",
       "<style scoped>\n",
       "    .dataframe tbody tr th:only-of-type {\n",
       "        vertical-align: middle;\n",
       "    }\n",
       "\n",
       "    .dataframe tbody tr th {\n",
       "        vertical-align: top;\n",
       "    }\n",
       "\n",
       "    .dataframe thead th {\n",
       "        text-align: right;\n",
       "    }\n",
       "</style>\n",
       "<table border=\"1\" class=\"dataframe\">\n",
       "  <thead>\n",
       "    <tr style=\"text-align: right;\">\n",
       "      <th></th>\n",
       "      <th>CreditScore</th>\n",
       "      <th>Age</th>\n",
       "      <th>Tenure</th>\n",
       "      <th>Balance</th>\n",
       "      <th>NumOfProducts</th>\n",
       "      <th>IsActiveMember</th>\n",
       "      <th>EstimatedSalary</th>\n",
       "      <th>Geography_France</th>\n",
       "      <th>Geography_Germany</th>\n",
       "      <th>Geography_Spain</th>\n",
       "      <th>Gender_Male</th>\n",
       "    </tr>\n",
       "  </thead>\n",
       "  <tbody>\n",
       "    <tr>\n",
       "      <th>3376</th>\n",
       "      <td>-0.061427</td>\n",
       "      <td>0.106098</td>\n",
       "      <td>-0.366474</td>\n",
       "      <td>0.010530</td>\n",
       "      <td>0.805878</td>\n",
       "      <td>1</td>\n",
       "      <td>0.267707</td>\n",
       "      <td>0.0</td>\n",
       "      <td>1.0</td>\n",
       "      <td>0.0</td>\n",
       "      <td>0.0</td>\n",
       "    </tr>\n",
       "    <tr>\n",
       "      <th>1315</th>\n",
       "      <td>-0.443298</td>\n",
       "      <td>-1.139433</td>\n",
       "      <td>-0.002321</td>\n",
       "      <td>0.388533</td>\n",
       "      <td>-0.911497</td>\n",
       "      <td>0</td>\n",
       "      <td>-1.612531</td>\n",
       "      <td>0.0</td>\n",
       "      <td>0.0</td>\n",
       "      <td>1.0</td>\n",
       "      <td>0.0</td>\n",
       "    </tr>\n",
       "    <tr>\n",
       "      <th>2552</th>\n",
       "      <td>-0.525865</td>\n",
       "      <td>0.680958</td>\n",
       "      <td>0.725983</td>\n",
       "      <td>0.082043</td>\n",
       "      <td>0.805878</td>\n",
       "      <td>0</td>\n",
       "      <td>-0.297533</td>\n",
       "      <td>0.0</td>\n",
       "      <td>0.0</td>\n",
       "      <td>1.0</td>\n",
       "      <td>0.0</td>\n",
       "    </tr>\n",
       "    <tr>\n",
       "      <th>511</th>\n",
       "      <td>-0.185277</td>\n",
       "      <td>-0.085522</td>\n",
       "      <td>0.361831</td>\n",
       "      <td>0.159218</td>\n",
       "      <td>0.805878</td>\n",
       "      <td>0</td>\n",
       "      <td>-0.040122</td>\n",
       "      <td>0.0</td>\n",
       "      <td>1.0</td>\n",
       "      <td>0.0</td>\n",
       "      <td>0.0</td>\n",
       "    </tr>\n",
       "    <tr>\n",
       "      <th>1888</th>\n",
       "      <td>-2.280406</td>\n",
       "      <td>2.022299</td>\n",
       "      <td>0.725983</td>\n",
       "      <td>-1.224906</td>\n",
       "      <td>0.805878</td>\n",
       "      <td>1</td>\n",
       "      <td>1.100176</td>\n",
       "      <td>1.0</td>\n",
       "      <td>0.0</td>\n",
       "      <td>0.0</td>\n",
       "      <td>1.0</td>\n",
       "    </tr>\n",
       "  </tbody>\n",
       "</table>\n",
       "</div>"
      ],
      "text/plain": [
       "      CreditScore       Age    Tenure   Balance  NumOfProducts  \\\n",
       "3376    -0.061427  0.106098 -0.366474  0.010530       0.805878   \n",
       "1315    -0.443298 -1.139433 -0.002321  0.388533      -0.911497   \n",
       "2552    -0.525865  0.680958  0.725983  0.082043       0.805878   \n",
       "511     -0.185277 -0.085522  0.361831  0.159218       0.805878   \n",
       "1888    -2.280406  2.022299  0.725983 -1.224906       0.805878   \n",
       "\n",
       "      IsActiveMember  EstimatedSalary  Geography_France  Geography_Germany  \\\n",
       "3376               1         0.267707               0.0                1.0   \n",
       "1315               0        -1.612531               0.0                0.0   \n",
       "2552               0        -0.297533               0.0                0.0   \n",
       "511                0        -0.040122               0.0                1.0   \n",
       "1888               1         1.100176               1.0                0.0   \n",
       "\n",
       "      Geography_Spain  Gender_Male  \n",
       "3376              0.0          0.0  \n",
       "1315              1.0          0.0  \n",
       "2552              1.0          0.0  \n",
       "511               0.0          0.0  \n",
       "1888              0.0          1.0  "
      ]
     },
     "execution_count": 27,
     "metadata": {},
     "output_type": "execute_result"
    }
   ],
   "source": [
    "# Масштабирование данных\n",
    "\n",
    "numeric = ['CreditScore', 'Age', 'Tenure', 'Balance', 'NumOfProducts', 'EstimatedSalary']\n",
    "\n",
    "scaler = StandardScaler()\n",
    "scaler.fit(X_train[numeric])\n",
    "X_train[numeric] = scaler.transform(X_train[numeric])\n",
    "X_test[numeric] = scaler.transform(X_test[numeric])\n",
    "\n",
    "X_train.head()"
   ]
  },
  {
   "cell_type": "markdown",
   "metadata": {},
   "source": [
    "### Логитичкская регрессия"
   ]
  },
  {
   "cell_type": "code",
   "execution_count": 28,
   "metadata": {
    "scrolled": true
   },
   "outputs": [
    {
     "data": {
      "text/plain": [
       "'Значение F1-меры: 0.3154801864480219'"
      ]
     },
     "metadata": {},
     "output_type": "display_data"
    },
    {
     "data": {
      "text/plain": [
       "\"Лучшие параметры: {'C': 1.0, 'l1_ratio': 0.25, 'max_iter': 100, 'penalty': 'l2', 'solver': 'sag'}\""
      ]
     },
     "metadata": {},
     "output_type": "display_data"
    },
    {
     "name": "stdout",
     "output_type": "stream",
     "text": [
      "CPU times: user 3min 10s, sys: 2min 58s, total: 6min 8s\n",
      "Wall time: 6min 9s\n"
     ]
    }
   ],
   "source": [
    "%%time\n",
    "parameters_grid = {\n",
    "    'penalty': ['l1', 'l2', 'elasticnet'],\n",
    "    'C': np.linspace(1, 1000, num=5),\n",
    "    'solver': ['sag', 'saga', 'lbfgs'],\n",
    "    'l1_ratio': [0.25, 0.5, 0.75],\n",
    "    'max_iter': np.arange(100, 500, 100)\n",
    "}\n",
    "\n",
    "model_lr = LogisticRegression(random_state=12345)\n",
    "grid_model = GridSearchCV(model_lr, parameters_grid, scoring='f1')\n",
    "grid_model.fit(X_train, y_train)\n",
    "\n",
    "display(f'Значение F1-меры: {grid_model.best_score_}')\n",
    "display(f'Лучшие параметры: {grid_model.best_params_}')"
   ]
  },
  {
   "cell_type": "markdown",
   "metadata": {},
   "source": [
    "### Случайный лес"
   ]
  },
  {
   "cell_type": "code",
   "execution_count": 29,
   "metadata": {
    "scrolled": true
   },
   "outputs": [
    {
     "data": {
      "text/plain": [
       "'Значение F1-меры: 0.57581198787523'"
      ]
     },
     "metadata": {},
     "output_type": "display_data"
    },
    {
     "data": {
      "text/plain": [
       "\"Лучшие параметры: {'max_depth': 15, 'min_samples_leaf': 1, 'n_estimators': 50}\""
      ]
     },
     "metadata": {},
     "output_type": "display_data"
    },
    {
     "name": "stdout",
     "output_type": "stream",
     "text": [
      "CPU times: user 11min 42s, sys: 8.49 s, total: 11min 50s\n",
      "Wall time: 11min 51s\n"
     ]
    }
   ],
   "source": [
    "%%time\n",
    "parameters = {\n",
    "    'n_estimators': range(50, 121, 10),\n",
    "    'max_depth': range(5, 16),\n",
    "    'min_samples_leaf': range(1, 4),\n",
    "}\n",
    "\n",
    "model = RandomForestClassifier(random_state=12345)\n",
    "grid_model = GridSearchCV(model, parameters, scoring='f1')\n",
    "grid_model.fit(X_train, y_train)\n",
    "\n",
    "# В строке ниже получаю лучшее среднее значение f1-меры на кросс-валидации и лучшие гиперпараметры\n",
    "display(f'Значение F1-меры: {grid_model.best_score_}')\n",
    "display(f'Лучшие параметры: {grid_model.best_params_}')"
   ]
  },
  {
   "cell_type": "code",
   "execution_count": 30,
   "metadata": {},
   "outputs": [
    {
     "data": {
      "text/plain": [
       "'roc_auc - 0.86'"
      ]
     },
     "metadata": {},
     "output_type": "display_data"
    }
   ],
   "source": [
    "rf_base = RandomForestClassifier(random_state=12345,\n",
    "                            n_estimators=70,\n",
    "                            max_depth=15,\n",
    "                            min_samples_leaf=1)\n",
    "\n",
    "rf_base.fit(X_train, y_train)\n",
    "y_score = rf_base.predict_proba(X_test)[:,1]\n",
    "\n",
    "display(f'roc_auc - {round(roc_auc_score(y_test, y_score),2)}')"
   ]
  },
  {
   "cell_type": "markdown",
   "metadata": {},
   "source": [
    "### Вывод:\n",
    "1. В данных дисбаланс классов, объектов класса 1 - 20%\n",
    "2. Строковые данные колонок `Geograpy` и `Gender` переведены к числовым значениям.\n",
    "3. При масштабировании данных модели решающего дерева продсказывали с хуже.\n",
    "4. Построены две модели без учета дисбаланса класса, метрика  f1 для логистической регрессии - `0.31`. Метрика f1 для случайного леса - `0.57`."
   ]
  },
  {
   "cell_type": "raw",
   "metadata": {},
   "source": [
    "# %%time\n",
    "# Код ревьюера\n",
    "parameters = {\n",
    "    'n_estimators': range(50, 121, 5),\n",
    "    'max_depth': range(2, 11),\n",
    "    'min_samples_leaf': range(1, 4),\n",
    "}\n",
    "\n",
    "model = RandomForestClassifier(random_state=96)\n",
    "# Обрати внимание я указал scoring='f1', теперь GridSearchCV будет оптимизировать эту метрику\n",
    "grid_model = GridSearchCV(model, parameters, scoring='f1')\n",
    "grid_model.fit(features_train, target_train)\n",
    "\n",
    "# В строке ниже получаю лучшее среднее значение f1-меры на кросс-валидации и лучшие гиперпараметры\n",
    "print(f'Значение F1-меры: {grid_model.best_score_}')\n",
    "print(f'Лучшие параметры: {grid_model.best_params_}')"
   ]
  },
  {
   "cell_type": "markdown",
   "metadata": {},
   "source": [
    "## Борьба с дисбалансом"
   ]
  },
  {
   "cell_type": "markdown",
   "metadata": {},
   "source": [
    "### Взвешивание классов"
   ]
  },
  {
   "cell_type": "markdown",
   "metadata": {},
   "source": [
    "#### Логистическая регрессия"
   ]
  },
  {
   "cell_type": "code",
   "execution_count": 31,
   "metadata": {},
   "outputs": [
    {
     "data": {
      "text/plain": [
       "'Значение F1-меры: 0.48262939299493846'"
      ]
     },
     "metadata": {},
     "output_type": "display_data"
    },
    {
     "data": {
      "text/plain": [
       "\"Лучшие параметры: {'C': 1.0, 'l1_ratio': 0.25, 'max_iter': 100, 'penalty': 'l1', 'solver': 'saga'}\""
      ]
     },
     "metadata": {},
     "output_type": "display_data"
    },
    {
     "name": "stdout",
     "output_type": "stream",
     "text": [
      "CPU times: user 3min 10s, sys: 2min 51s, total: 6min 2s\n",
      "Wall time: 6min 3s\n"
     ]
    }
   ],
   "source": [
    "%%time\n",
    "parameters_grid = {\n",
    "    'penalty': ['l1', 'l2', 'elasticnet'],\n",
    "    'C': np.linspace(1, 1000, num=5),\n",
    "    'solver': ['sag', 'saga', 'lbfgs'],\n",
    "    'l1_ratio': [0.25, 0.5, 0.75],\n",
    "    'max_iter': np.arange(100, 500, 100)\n",
    "}\n",
    "\n",
    "model_lr = LogisticRegression(random_state=12345, class_weight='balanced')\n",
    "grid_model = GridSearchCV(model_lr, parameters_grid, scoring='f1')\n",
    "grid_model.fit(X_train, y_train)\n",
    "\n",
    "display(f'Значение F1-меры: {grid_model.best_score_}')\n",
    "display(f'Лучшие параметры: {grid_model.best_params_}')"
   ]
  },
  {
   "cell_type": "markdown",
   "metadata": {},
   "source": [
    "#### Случайный лес"
   ]
  },
  {
   "cell_type": "code",
   "execution_count": 45,
   "metadata": {},
   "outputs": [
    {
     "data": {
      "text/plain": [
       "'Значение F1-меры: 0.6207523739535152'"
      ]
     },
     "metadata": {},
     "output_type": "display_data"
    },
    {
     "data": {
      "text/plain": [
       "\"Лучшие параметры: {'max_depth': 9, 'min_samples_leaf': 3, 'n_estimators': 70}\""
      ]
     },
     "metadata": {},
     "output_type": "display_data"
    },
    {
     "name": "stdout",
     "output_type": "stream",
     "text": [
      "CPU times: user 7min 28s, sys: 3.78 s, total: 7min 31s\n",
      "Wall time: 7min 32s\n"
     ]
    }
   ],
   "source": [
    "%%time\n",
    "\n",
    "parameters = {\n",
    "    'n_estimators': range(50, 121, 10),\n",
    "    'max_depth': range(2, 11),\n",
    "    'min_samples_leaf': range(1, 4)\n",
    "}\n",
    "\n",
    "model = RandomForestClassifier(random_state=12345, class_weight='balanced')\n",
    "grid_model = GridSearchCV(model, parameters, scoring='f1')\n",
    "grid_model.fit(X_train, y_train)\n",
    "\n",
    "# В строке ниже получаю лучшее среднее значение f1-меры на кросс-валидации и лучшие гиперпараметры\n",
    "display(f'Значение F1-меры: {grid_model.best_score_}')\n",
    "display(f'Лучшие параметры: {grid_model.best_params_}')"
   ]
  },
  {
   "cell_type": "code",
   "execution_count": 46,
   "metadata": {},
   "outputs": [
    {
     "data": {
      "text/plain": [
       "'roc_auc - 0.87'"
      ]
     },
     "metadata": {},
     "output_type": "display_data"
    }
   ],
   "source": [
    "rf_bal = RandomForestClassifier(random_state=12345,\n",
    "                            n_estimators=70,\n",
    "                            max_depth=9,\n",
    "                            min_samples_leaf=3,\n",
    "                            class_weight='balanced')\n",
    "\n",
    "rf_bal.fit(X_train, y_train)\n",
    "y_score = rf_bal.predict_proba(X_test)[:,1]\n",
    "\n",
    "display(f'roc_auc - {round(roc_auc_score(y_test, y_score),2)}')"
   ]
  },
  {
   "cell_type": "markdown",
   "metadata": {},
   "source": [
    "### Upsample"
   ]
  },
  {
   "cell_type": "code",
   "execution_count": 34,
   "metadata": {},
   "outputs": [],
   "source": [
    "def upsample(features, target, repeat):\n",
    "    features_zeros = features[target == 0]\n",
    "    features_ones = features[target == 1]\n",
    "    target_zeros = target[target == 0]\n",
    "    target_ones = target[target == 1]\n",
    "\n",
    "    features_upsampled = pd.concat([features_zeros] + [features_ones] * repeat)\n",
    "    target_upsampled = pd.concat([target_zeros] + [target_ones] * repeat)\n",
    "\n",
    "    features_upsampled, target_upsampled = shuffle(\n",
    "        features_upsampled, target_upsampled, random_state=12345)\n",
    "\n",
    "    return features_upsampled, target_upsampled\n",
    "\n",
    "X_upsampled, y_upsampled = upsample(X_train, y_train, 4)"
   ]
  },
  {
   "cell_type": "markdown",
   "metadata": {},
   "source": [
    "#### Логистическая регрессия"
   ]
  },
  {
   "cell_type": "code",
   "execution_count": 35,
   "metadata": {},
   "outputs": [
    {
     "data": {
      "text/plain": [
       "'Значение F1-меры: 0.6940079654022536'"
      ]
     },
     "metadata": {},
     "output_type": "display_data"
    },
    {
     "data": {
      "text/plain": [
       "\"Лучшие параметры: {'C': 1.0, 'l1_ratio': 0.25, 'max_iter': 100, 'penalty': 'elasticnet', 'solver': 'saga'}\""
      ]
     },
     "metadata": {},
     "output_type": "display_data"
    },
    {
     "name": "stdout",
     "output_type": "stream",
     "text": [
      "CPU times: user 3min 52s, sys: 3min 32s, total: 7min 24s\n",
      "Wall time: 7min 25s\n"
     ]
    }
   ],
   "source": [
    "%%time\n",
    "parameters_grid = {\n",
    "    'penalty': ['l1', 'l2', 'elasticnet'],\n",
    "    'C': np.linspace(1, 1000, num=5),\n",
    "    'solver': ['sag', 'saga', 'lbfgs'],\n",
    "    'l1_ratio': [0.25, 0.5, 0.75],\n",
    "    'max_iter': np.arange(100, 500, 100)\n",
    "}\n",
    "\n",
    "model_lr = LogisticRegression(random_state=12345, class_weight='balanced')\n",
    "grid_model = GridSearchCV(model_lr, parameters_grid, scoring='f1')\n",
    "grid_model.fit(X_upsampled, y_upsampled)\n",
    "\n",
    "display(f'Значение F1-меры: {grid_model.best_score_}')\n",
    "display(f'Лучшие параметры: {grid_model.best_params_}')"
   ]
  },
  {
   "cell_type": "markdown",
   "metadata": {},
   "source": [
    "#### Случайный лес"
   ]
  },
  {
   "cell_type": "code",
   "execution_count": 36,
   "metadata": {},
   "outputs": [
    {
     "data": {
      "text/plain": [
       "'Значение F1-меры: 0.9485117316357954'"
      ]
     },
     "metadata": {},
     "output_type": "display_data"
    },
    {
     "data": {
      "text/plain": [
       "\"Лучшие параметры: {'max_depth': 15, 'min_samples_leaf': 1, 'n_estimators': 100}\""
      ]
     },
     "metadata": {},
     "output_type": "display_data"
    },
    {
     "name": "stdout",
     "output_type": "stream",
     "text": [
      "CPU times: user 17min 7s, sys: 11.2 s, total: 17min 19s\n",
      "Wall time: 17min 20s\n"
     ]
    }
   ],
   "source": [
    "%%time\n",
    "\n",
    "parameters = {\n",
    "    'n_estimators': range(50, 121, 10),\n",
    "    'max_depth': range(5, 16),\n",
    "    'min_samples_leaf': range(1, 4)\n",
    "}\n",
    "\n",
    "model = RandomForestClassifier(random_state=12345)\n",
    "grid_model = GridSearchCV(model, parameters, scoring='f1')\n",
    "grid_model.fit(X_upsampled, y_upsampled)\n",
    "\n",
    "# В строке ниже получаю лучшее среднее значение f1-меры на кросс-валидации и лучшие гиперпараметры\n",
    "display(f'Значение F1-меры: {grid_model.best_score_}')\n",
    "display(f'Лучшие параметры: {grid_model.best_params_}')"
   ]
  },
  {
   "cell_type": "code",
   "execution_count": 37,
   "metadata": {},
   "outputs": [
    {
     "data": {
      "text/plain": [
       "'roc_auc - 0.86'"
      ]
     },
     "metadata": {},
     "output_type": "display_data"
    }
   ],
   "source": [
    "rf_ups = RandomForestClassifier(random_state=12345,\n",
    "                            n_estimators=90,\n",
    "                            max_depth=15,\n",
    "                            min_samples_leaf=1,\n",
    "                            class_weight='balanced')\n",
    "\n",
    "rf_ups.fit(X_upsampled, y_upsampled)\n",
    "y_score = rf_ups.predict_proba(X_test)[:,1]\n",
    "\n",
    "display(f'roc_auc - {round(roc_auc_score(y_test, y_score),2)}')"
   ]
  },
  {
   "cell_type": "markdown",
   "metadata": {},
   "source": [
    " Похоже на переобучение модели f1 - 0.95 , при roc-auc на тестовой выборке - 0.86."
   ]
  },
  {
   "cell_type": "markdown",
   "metadata": {},
   "source": [
    "### Downsample"
   ]
  },
  {
   "cell_type": "code",
   "execution_count": 38,
   "metadata": {},
   "outputs": [],
   "source": [
    "def downsample(features, target, fraction):\n",
    "    features_zeros = features[target == 0]\n",
    "    features_ones = features[target == 1]\n",
    "    target_zeros = target[target == 0]\n",
    "    target_ones = target[target == 1]\n",
    "\n",
    "    features_downsampled = pd.concat(\n",
    "        [features_zeros.sample(frac=fraction, random_state=12345)] + [features_ones])\n",
    "    target_downsampled = pd.concat(\n",
    "        [target_zeros.sample(frac=fraction, random_state=12345)] + [target_ones])\n",
    "\n",
    "    return features_downsampled, target_downsampled\n",
    "\n",
    "X_downsampled, y_downsampled = downsample(X_train, y_train, 0.25)"
   ]
  },
  {
   "cell_type": "markdown",
   "metadata": {},
   "source": [
    "####  Логистическая регрессия"
   ]
  },
  {
   "cell_type": "code",
   "execution_count": 39,
   "metadata": {},
   "outputs": [
    {
     "data": {
      "text/plain": [
       "'Значение F1-меры: 0.6957701159123532'"
      ]
     },
     "metadata": {},
     "output_type": "display_data"
    },
    {
     "data": {
      "text/plain": [
       "\"Лучшие параметры: {'C': 1.0, 'l1_ratio': 0.25, 'max_iter': 100, 'penalty': 'l1', 'solver': 'saga'}\""
      ]
     },
     "metadata": {},
     "output_type": "display_data"
    },
    {
     "name": "stdout",
     "output_type": "stream",
     "text": [
      "CPU times: user 1min 12s, sys: 1min 12s, total: 2min 24s\n",
      "Wall time: 2min 25s\n"
     ]
    }
   ],
   "source": [
    "%%time\n",
    "parameters_grid = {\n",
    "    'penalty': ['l1', 'l2', 'elasticnet'],\n",
    "    'C': np.linspace(1, 1000, num=5),\n",
    "    'solver': ['sag', 'saga', 'lbfgs'],\n",
    "    'l1_ratio': [0.25, 0.5, 0.75],\n",
    "    'max_iter': np.arange(100, 500, 100)\n",
    "}\n",
    "\n",
    "model_lr = LogisticRegression(random_state=12345, class_weight='balanced')\n",
    "grid_model = GridSearchCV(model_lr, parameters_grid, scoring='f1')\n",
    "grid_model.fit(X_downsampled, y_downsampled)\n",
    "\n",
    "display(f'Значение F1-меры: {grid_model.best_score_}')\n",
    "display(f'Лучшие параметры: {grid_model.best_params_}')"
   ]
  },
  {
   "cell_type": "markdown",
   "metadata": {},
   "source": [
    "#### Случайный лес"
   ]
  },
  {
   "cell_type": "code",
   "execution_count": 40,
   "metadata": {},
   "outputs": [
    {
     "data": {
      "text/plain": [
       "'Значение F1-меры: 0.7716103970620315'"
      ]
     },
     "metadata": {},
     "output_type": "display_data"
    },
    {
     "data": {
      "text/plain": [
       "\"Лучшие параметры: {'max_depth': 9, 'min_samples_leaf': 2, 'n_estimators': 100}\""
      ]
     },
     "metadata": {},
     "output_type": "display_data"
    },
    {
     "name": "stdout",
     "output_type": "stream",
     "text": [
      "CPU times: user 4min, sys: 2.67 s, total: 4min 2s\n",
      "Wall time: 4min 3s\n"
     ]
    }
   ],
   "source": [
    "%%time\n",
    "\n",
    "parameters = {\n",
    "    'n_estimators': range(50, 121, 10),\n",
    "    'max_depth': range(2, 11),\n",
    "    'min_samples_leaf': range(1, 4)\n",
    "}\n",
    "\n",
    "model = RandomForestClassifier(random_state=12345, class_weight='balanced')\n",
    "grid_model = GridSearchCV(model, parameters, scoring='f1')\n",
    "grid_model.fit(X_downsampled, y_downsampled)\n",
    "\n",
    "# В строке ниже получаю лучшее среднее значение f1-меры на кросс-валидации и лучшие гиперпараметры\n",
    "display(f'Значение F1-меры: {grid_model.best_score_}')\n",
    "display(f'Лучшие параметры: {grid_model.best_params_}')"
   ]
  },
  {
   "cell_type": "code",
   "execution_count": 41,
   "metadata": {},
   "outputs": [
    {
     "data": {
      "text/plain": [
       "'roc_auc - 0.87'"
      ]
     },
     "metadata": {},
     "output_type": "display_data"
    }
   ],
   "source": [
    "rf_dns = RandomForestClassifier(random_state=12345,\n",
    "                            n_estimators=60,\n",
    "                            max_depth=7,\n",
    "                            min_samples_leaf=3,\n",
    "                            class_weight='balanced')\n",
    "\n",
    "rf_dns.fit(X_downsampled, y_downsampled)\n",
    "y_score = rf_dns.predict_proba(X_test)[:,1]\n",
    "\n",
    "display(f'roc_auc - {round(roc_auc_score(y_test, y_score),2)}')"
   ]
  },
  {
   "cell_type": "markdown",
   "metadata": {},
   "source": [
    "### Вывод:\n",
    "Применены методы борьбы с дисбалансом классов:\n",
    "   1. Взвешивание классов\n",
    "   2. Увеличение выборки\n",
    "   3. Уменьшение выборки\n",
    "    \n",
    "Была выбрана лучшая модель случайного леса\n",
    "со значением f1 - `0.62`, и roc-auc - `0.87`. Полученная взвешиванием классов. Увеличение и уменьшение выборки показали значение метрики f1 хуже."
   ]
  },
  {
   "cell_type": "markdown",
   "metadata": {},
   "source": [
    "## Тестирование модели"
   ]
  },
  {
   "cell_type": "code",
   "execution_count": 47,
   "metadata": {
    "scrolled": true
   },
   "outputs": [
    {
     "data": {
      "text/plain": [
       "'f1 - 0.64'"
      ]
     },
     "metadata": {},
     "output_type": "display_data"
    },
    {
     "data": {
      "text/plain": [
       "'recall - 0.71'"
      ]
     },
     "metadata": {},
     "output_type": "display_data"
    },
    {
     "data": {
      "text/plain": [
       "'precision - 0.58'"
      ]
     },
     "metadata": {},
     "output_type": "display_data"
    },
    {
     "data": {
      "text/plain": [
       "'roc_auc - 0.87'"
      ]
     },
     "metadata": {},
     "output_type": "display_data"
    }
   ],
   "source": [
    "rf = RandomForestClassifier(random_state=12345,\n",
    "                            n_estimators=70,\n",
    "                            max_depth=9,\n",
    "                            min_samples_leaf=3,\n",
    "                            class_weight='balanced')\n",
    "\n",
    "rf.fit(X_train, y_train)\n",
    "y_pred = rf.predict(X_test)\n",
    "y_pred = rf.predict(X_test)\n",
    "y_score = rf.predict_proba(X_test)[:,1]\n",
    "\n",
    "display(f'f1 - {round(f1_score(y_test, y_pred),2)}')\n",
    "display(f'recall - {round(recall_score(y_test, y_pred),2)}')\n",
    "display(f'precision - {round(precision_score(y_test, y_pred),2)}')\n",
    "display(f'roc_auc - {round(roc_auc_score(y_test, y_score),2)}')"
   ]
  },
  {
   "cell_type": "markdown",
   "metadata": {},
   "source": [
    "#### ROC-кривая"
   ]
  },
  {
   "cell_type": "code",
   "execution_count": 48,
   "metadata": {
    "scrolled": false
   },
   "outputs": [
    {
     "data": {
      "image/png": "[encoded data removed]",
      "text/plain": [
       "<Figure size 576x576 with 1 Axes>"
      ]
     },
     "metadata": {},
     "output_type": "display_data"
    }
   ],
   "source": [
    "probabilities = rf.predict_proba(X_test)\n",
    "probabilities_one = probabilities[:, 1]\n",
    "fpr, tpr, thresholds = roc_curve(y_test, probabilities_one)\n",
    "\n",
    "plt.figure(figsize=(8, 8))\n",
    "\n",
    "plt.plot(fpr,tpr)\n",
    "# ROC-кривая случайной модели\n",
    "plt.plot([0, 1], [0, 1], linestyle='--')\n",
    "\n",
    "plt.xlim([0,1])\n",
    "plt.ylim([0,1.1])\n",
    "\n",
    "plt.xlabel('False Positive Rate')\n",
    "plt.ylabel('True Positive Rate')\n",
    "plt.title('ROC-кривая')\n",
    "plt.show()"
   ]
  },
  {
   "cell_type": "markdown",
   "metadata": {},
   "source": [
    "## Вывод :\n",
    "1. Проведена подготовка данных. попущенные значения были заполнены медианой, так как пропусков 9% и при удалении пропусков, модели на валидации показывалии худшее значение метрики f1.\n",
    "2. Исследован дисбаланс классов. Объектов класса 1 - 20% от выборки.\n",
    "3. Подготовлены признаки для обучения модели. Переведены из строковых к числовым.\n",
    "4. Применены методы борьбы с дисбалансом. Лучше всего себя паказал метод взвешивания классов.\n",
    "6. Результат тестирования выбранной модели: f1 - `0.64` и roc-auc - `0.87`."
   ]
  },
  {
   "cell_type": "markdown",
   "metadata": {},
   "source": [
    "## Чек-лист готовности проекта"
   ]
  },
  {
   "cell_type": "markdown",
   "metadata": {},
   "source": [
    "Поставьте 'x' в выполненных пунктах. Далее нажмите Shift+Enter."
   ]
  },
  {
   "cell_type": "markdown",
   "metadata": {},
   "source": [
    "- [x]  Jupyter Notebook открыт\n",
    "- [x]  Весь код выполняется без ошибок\n",
    "- [x]  Ячейки с кодом расположены в порядке исполнения\n",
    "- [x]  Выполнен шаг 1: данные подготовлены\n",
    "- [x]  Выполнен шаг 2: задача исследована\n",
    "    - [x]  Исследован баланс классов\n",
    "    - [x]  Изучены модели без учёта дисбаланса\n",
    "    - [x]  Написаны выводы по результатам исследования\n",
    "- [x]  Выполнен шаг 3: учтён дисбаланс\n",
    "    - [x]  Применено несколько способов борьбы с дисбалансом\n",
    "    - [x]  Написаны выводы по результатам исследования\n",
    "- [x]  Выполнен шаг 4: проведено тестирование\n",
    "- [x]  Удалось достичь *F1*-меры не менее 0.59\n",
    "- [x]  Исследована метрика *AUC-ROC*"
   ]
  }
 ],
 "metadata": {
  "ExecuteTimeLog": [
   {
    "duration": 421,
    "start_time": "2022-11-15T11:59:23.560Z"
   },
   {
    "duration": 79,
    "start_time": "2022-11-15T12:03:46.554Z"
   },
   {
    "duration": 14,
    "start_time": "2022-11-15T12:04:08.753Z"
   },
   {
    "duration": 17,
    "start_time": "2022-11-15T12:04:57.487Z"
   },
   {
    "duration": 5,
    "start_time": "2022-11-15T12:05:28.859Z"
   },
   {
    "duration": 9,
    "start_time": "2022-11-15T12:05:35.230Z"
   },
   {
    "duration": 7,
    "start_time": "2022-11-15T12:05:41.579Z"
   },
   {
    "duration": 5,
    "start_time": "2022-11-15T12:05:46.929Z"
   },
   {
    "duration": 12,
    "start_time": "2022-11-15T12:08:25.987Z"
   },
   {
    "duration": 7,
    "start_time": "2022-11-15T12:08:43.636Z"
   },
   {
    "duration": 23,
    "start_time": "2022-11-15T12:08:55.770Z"
   },
   {
    "duration": 7,
    "start_time": "2022-11-15T12:16:44.735Z"
   },
   {
    "duration": 79,
    "start_time": "2022-11-15T12:17:16.109Z"
   },
   {
    "duration": 15,
    "start_time": "2022-11-15T12:17:28.790Z"
   },
   {
    "duration": 52,
    "start_time": "2022-11-15T13:10:11.411Z"
   },
   {
    "duration": 429,
    "start_time": "2022-11-15T13:10:15.250Z"
   },
   {
    "duration": 80,
    "start_time": "2022-11-15T13:10:15.681Z"
   },
   {
    "duration": 13,
    "start_time": "2022-11-15T13:10:16.329Z"
   },
   {
    "duration": 30,
    "start_time": "2022-11-15T13:10:17.004Z"
   },
   {
    "duration": 15,
    "start_time": "2022-11-15T13:10:17.771Z"
   },
   {
    "duration": 7,
    "start_time": "2022-11-15T13:10:18.469Z"
   },
   {
    "duration": 8,
    "start_time": "2022-11-15T13:10:36.466Z"
   },
   {
    "duration": 28,
    "start_time": "2022-11-15T13:11:14.244Z"
   },
   {
    "duration": 9,
    "start_time": "2022-11-15T13:11:19.464Z"
   },
   {
    "duration": 7,
    "start_time": "2022-11-15T13:11:24.132Z"
   },
   {
    "duration": 5,
    "start_time": "2022-11-15T13:11:59.374Z"
   },
   {
    "duration": 3,
    "start_time": "2022-11-15T13:12:58.326Z"
   },
   {
    "duration": 4,
    "start_time": "2022-11-15T13:13:29.365Z"
   },
   {
    "duration": 4,
    "start_time": "2022-11-15T13:37:08.178Z"
   },
   {
    "duration": 7,
    "start_time": "2022-11-15T13:37:29.811Z"
   },
   {
    "duration": 3,
    "start_time": "2022-11-15T13:37:53.632Z"
   },
   {
    "duration": 5,
    "start_time": "2022-11-15T13:38:13.003Z"
   },
   {
    "duration": 4,
    "start_time": "2022-11-15T13:38:39.185Z"
   },
   {
    "duration": 6,
    "start_time": "2022-11-15T13:38:44.570Z"
   },
   {
    "duration": 5,
    "start_time": "2022-11-15T13:38:47.853Z"
   },
   {
    "duration": 5,
    "start_time": "2022-11-15T13:38:58.628Z"
   },
   {
    "duration": 13,
    "start_time": "2022-11-15T13:39:11.063Z"
   },
   {
    "duration": 634,
    "start_time": "2022-11-15T13:39:43.618Z"
   },
   {
    "duration": 5,
    "start_time": "2022-11-15T13:39:50.275Z"
   },
   {
    "duration": 3,
    "start_time": "2022-11-15T13:40:03.462Z"
   },
   {
    "duration": 3,
    "start_time": "2022-11-15T13:40:07.168Z"
   },
   {
    "duration": 8,
    "start_time": "2022-11-15T13:41:34.787Z"
   },
   {
    "duration": 12,
    "start_time": "2022-11-15T13:41:39.825Z"
   },
   {
    "duration": 21,
    "start_time": "2022-11-15T13:41:48.884Z"
   },
   {
    "duration": 78,
    "start_time": "2022-11-15T13:42:19.527Z"
   },
   {
    "duration": 10,
    "start_time": "2022-11-15T13:42:27.198Z"
   },
   {
    "duration": 23,
    "start_time": "2022-11-15T13:42:33.195Z"
   },
   {
    "duration": 10,
    "start_time": "2022-11-15T13:43:08.167Z"
   },
   {
    "duration": 79,
    "start_time": "2022-11-15T13:43:12.692Z"
   },
   {
    "duration": 6,
    "start_time": "2022-11-15T13:44:00.239Z"
   },
   {
    "duration": 21,
    "start_time": "2022-11-15T13:44:02.780Z"
   },
   {
    "duration": 9,
    "start_time": "2022-11-15T13:44:12.556Z"
   },
   {
    "duration": 9,
    "start_time": "2022-11-15T13:44:17.180Z"
   },
   {
    "duration": 16,
    "start_time": "2022-11-15T13:45:03.428Z"
   },
   {
    "duration": 15,
    "start_time": "2022-11-15T13:45:06.378Z"
   },
   {
    "duration": 1283,
    "start_time": "2022-11-15T13:45:17.491Z"
   },
   {
    "duration": 13,
    "start_time": "2022-11-15T13:45:56.954Z"
   },
   {
    "duration": 76,
    "start_time": "2022-11-15T13:46:03.059Z"
   },
   {
    "duration": 11,
    "start_time": "2022-11-15T13:46:06.028Z"
   },
   {
    "duration": 11,
    "start_time": "2022-11-15T13:46:09.052Z"
   },
   {
    "duration": 12,
    "start_time": "2022-11-15T13:46:11.825Z"
   },
   {
    "duration": 10,
    "start_time": "2022-11-15T13:46:15.656Z"
   },
   {
    "duration": 33,
    "start_time": "2022-11-15T13:46:20.342Z"
   },
   {
    "duration": 12,
    "start_time": "2022-11-15T13:46:35.526Z"
   },
   {
    "duration": 8,
    "start_time": "2022-11-15T13:46:43.839Z"
   },
   {
    "duration": 9,
    "start_time": "2022-11-15T13:46:50.525Z"
   },
   {
    "duration": 8,
    "start_time": "2022-11-15T13:48:30.244Z"
   },
   {
    "duration": 11,
    "start_time": "2022-11-15T13:48:38.190Z"
   },
   {
    "duration": 8,
    "start_time": "2022-11-15T13:48:56.631Z"
   },
   {
    "duration": 12,
    "start_time": "2022-11-15T13:49:16.730Z"
   },
   {
    "duration": 7,
    "start_time": "2022-11-15T13:49:22.416Z"
   },
   {
    "duration": 10,
    "start_time": "2022-11-15T13:49:26.367Z"
   },
   {
    "duration": 379,
    "start_time": "2022-11-15T13:49:56.965Z"
   },
   {
    "duration": 502,
    "start_time": "2022-11-15T13:50:10.335Z"
   },
   {
    "duration": 477,
    "start_time": "2022-11-15T13:50:15.487Z"
   },
   {
    "duration": 21,
    "start_time": "2022-11-15T13:50:39.882Z"
   },
   {
    "duration": 399,
    "start_time": "2022-11-15T13:51:48.189Z"
   },
   {
    "duration": 23,
    "start_time": "2022-11-15T13:52:03.196Z"
   },
   {
    "duration": 4,
    "start_time": "2022-11-15T13:52:16.577Z"
   },
   {
    "duration": 4,
    "start_time": "2022-11-15T13:52:25.926Z"
   },
   {
    "duration": 4,
    "start_time": "2022-11-15T13:58:29.397Z"
   },
   {
    "duration": 3,
    "start_time": "2022-11-15T13:58:33.226Z"
   },
   {
    "duration": 4,
    "start_time": "2022-11-15T13:58:36.578Z"
   },
   {
    "duration": 5,
    "start_time": "2022-11-15T13:58:40.241Z"
   },
   {
    "duration": 4,
    "start_time": "2022-11-15T13:58:44.801Z"
   },
   {
    "duration": 78,
    "start_time": "2022-11-15T13:59:28.610Z"
   },
   {
    "duration": 79,
    "start_time": "2022-11-15T13:59:34.474Z"
   },
   {
    "duration": 9,
    "start_time": "2022-11-15T13:59:51.775Z"
   },
   {
    "duration": 13,
    "start_time": "2022-11-15T14:00:00.496Z"
   },
   {
    "duration": 16,
    "start_time": "2022-11-15T14:00:18.911Z"
   },
   {
    "duration": 8,
    "start_time": "2022-11-15T14:00:29.655Z"
   },
   {
    "duration": 8,
    "start_time": "2022-11-15T14:00:41.367Z"
   },
   {
    "duration": 6,
    "start_time": "2022-11-15T14:00:45.626Z"
   },
   {
    "duration": 7,
    "start_time": "2022-11-15T14:00:58.170Z"
   },
   {
    "duration": 1146,
    "start_time": "2022-11-15T14:01:07.540Z"
   },
   {
    "duration": 6,
    "start_time": "2022-11-15T14:01:12.885Z"
   },
   {
    "duration": 5,
    "start_time": "2022-11-15T14:01:21.926Z"
   },
   {
    "duration": 7,
    "start_time": "2022-11-15T14:01:32.532Z"
   },
   {
    "duration": 5,
    "start_time": "2022-11-15T14:01:40.833Z"
   },
   {
    "duration": 6,
    "start_time": "2022-11-15T14:01:48.184Z"
   },
   {
    "duration": 7,
    "start_time": "2022-11-15T14:02:03.128Z"
   },
   {
    "duration": 7,
    "start_time": "2022-11-15T14:02:09.396Z"
   },
   {
    "duration": 6,
    "start_time": "2022-11-15T14:02:37.426Z"
   },
   {
    "duration": 7,
    "start_time": "2022-11-15T14:02:41.502Z"
   },
   {
    "duration": 7,
    "start_time": "2022-11-15T14:02:50.142Z"
   },
   {
    "duration": 8,
    "start_time": "2022-11-15T14:02:52.957Z"
   },
   {
    "duration": 7,
    "start_time": "2022-11-15T14:03:02.093Z"
   },
   {
    "duration": 6,
    "start_time": "2022-11-15T14:03:14.779Z"
   },
   {
    "duration": 7,
    "start_time": "2022-11-15T14:03:24.788Z"
   },
   {
    "duration": 6,
    "start_time": "2022-11-15T14:03:48.362Z"
   },
   {
    "duration": 74,
    "start_time": "2022-11-15T14:04:10.875Z"
   },
   {
    "duration": 8,
    "start_time": "2022-11-15T14:04:15.820Z"
   },
   {
    "duration": 7,
    "start_time": "2022-11-15T14:04:31.773Z"
   },
   {
    "duration": 7,
    "start_time": "2022-11-15T14:04:46.126Z"
   },
   {
    "duration": 23,
    "start_time": "2022-11-15T14:06:53.204Z"
   },
   {
    "duration": 27,
    "start_time": "2022-11-15T14:07:00.098Z"
   },
   {
    "duration": 26,
    "start_time": "2022-11-15T14:07:07.981Z"
   },
   {
    "duration": 27,
    "start_time": "2022-11-15T14:11:26.701Z"
   },
   {
    "duration": 1318,
    "start_time": "2022-11-15T14:11:35.126Z"
   },
   {
    "duration": 23,
    "start_time": "2022-11-15T14:11:39.680Z"
   },
   {
    "duration": 25,
    "start_time": "2022-11-15T14:12:04.526Z"
   },
   {
    "duration": 30,
    "start_time": "2022-11-15T14:13:12.606Z"
   },
   {
    "duration": 27,
    "start_time": "2022-11-15T14:13:16.868Z"
   },
   {
    "duration": 12,
    "start_time": "2022-11-15T14:13:58.228Z"
   },
   {
    "duration": 8,
    "start_time": "2022-11-15T14:14:01.850Z"
   },
   {
    "duration": 37,
    "start_time": "2022-11-15T14:14:04.748Z"
   },
   {
    "duration": 6,
    "start_time": "2022-11-15T14:16:37.665Z"
   },
   {
    "duration": 8,
    "start_time": "2022-11-15T14:17:32.026Z"
   },
   {
    "duration": 7,
    "start_time": "2022-11-15T14:18:11.550Z"
   },
   {
    "duration": 7,
    "start_time": "2022-11-15T14:18:14.691Z"
   },
   {
    "duration": 3,
    "start_time": "2022-11-15T14:18:19.792Z"
   },
   {
    "duration": 15,
    "start_time": "2022-11-15T14:18:24.666Z"
   },
   {
    "duration": 11,
    "start_time": "2022-11-15T14:18:27.567Z"
   },
   {
    "duration": 7,
    "start_time": "2022-11-15T14:18:37.680Z"
   },
   {
    "duration": 11,
    "start_time": "2022-11-15T14:18:39.102Z"
   },
   {
    "duration": 20,
    "start_time": "2022-11-15T14:18:52.810Z"
   },
   {
    "duration": 3,
    "start_time": "2022-11-15T14:19:10.589Z"
   },
   {
    "duration": 11,
    "start_time": "2022-11-15T14:19:16.367Z"
   },
   {
    "duration": 16,
    "start_time": "2022-11-15T14:19:21.226Z"
   },
   {
    "duration": 18,
    "start_time": "2022-11-15T14:19:23.691Z"
   },
   {
    "duration": 6,
    "start_time": "2022-11-15T14:19:43.737Z"
   },
   {
    "duration": 7,
    "start_time": "2022-11-15T14:19:56.253Z"
   },
   {
    "duration": 4,
    "start_time": "2022-11-15T14:20:05.656Z"
   },
   {
    "duration": 6,
    "start_time": "2022-11-15T14:21:08.149Z"
   },
   {
    "duration": 11,
    "start_time": "2022-11-15T14:21:21.443Z"
   },
   {
    "duration": 16,
    "start_time": "2022-11-15T14:21:31.929Z"
   },
   {
    "duration": 11,
    "start_time": "2022-11-15T14:23:10.153Z"
   },
   {
    "duration": 19,
    "start_time": "2022-11-15T14:23:33.466Z"
   },
   {
    "duration": 683,
    "start_time": "2022-11-15T14:24:36.158Z"
   },
   {
    "duration": 9119,
    "start_time": "2022-11-15T14:26:31.611Z"
   },
   {
    "duration": 53919,
    "start_time": "2022-11-15T14:26:45.058Z"
   },
   {
    "duration": 3,
    "start_time": "2022-11-15T14:29:47.649Z"
   },
   {
    "duration": 23,
    "start_time": "2022-11-15T14:40:06.982Z"
   },
   {
    "duration": 2,
    "start_time": "2022-11-15T14:40:16.226Z"
   },
   {
    "duration": 43,
    "start_time": "2022-11-15T14:40:16.594Z"
   },
   {
    "duration": 13,
    "start_time": "2022-11-15T14:40:17.031Z"
   },
   {
    "duration": 12,
    "start_time": "2022-11-15T14:40:17.366Z"
   },
   {
    "duration": 40,
    "start_time": "2022-11-15T14:40:18.086Z"
   },
   {
    "duration": 33,
    "start_time": "2022-11-15T14:40:18.693Z"
   },
   {
    "duration": 11,
    "start_time": "2022-11-15T14:40:30.694Z"
   },
   {
    "duration": 19,
    "start_time": "2022-11-15T14:40:32.026Z"
   },
   {
    "duration": 100,
    "start_time": "2022-11-15T14:40:34.905Z"
   },
   {
    "duration": 306,
    "start_time": "2022-11-15T14:40:35.826Z"
   },
   {
    "duration": 12,
    "start_time": "2022-11-15T14:40:53.239Z"
   },
   {
    "duration": 2,
    "start_time": "2022-11-15T14:41:33.309Z"
   },
   {
    "duration": 31,
    "start_time": "2022-11-15T14:41:33.626Z"
   },
   {
    "duration": 14,
    "start_time": "2022-11-15T14:41:34.270Z"
   },
   {
    "duration": 11,
    "start_time": "2022-11-15T14:41:34.894Z"
   },
   {
    "duration": 11,
    "start_time": "2022-11-15T14:42:17.883Z"
   },
   {
    "duration": 10,
    "start_time": "2022-11-15T14:42:21.165Z"
   },
   {
    "duration": 23,
    "start_time": "2022-11-15T14:42:35.167Z"
   },
   {
    "duration": 11,
    "start_time": "2022-11-15T14:42:38.756Z"
   },
   {
    "duration": 5,
    "start_time": "2022-11-15T14:42:48.126Z"
   },
   {
    "duration": 14,
    "start_time": "2022-11-15T14:42:49.136Z"
   },
   {
    "duration": 6,
    "start_time": "2022-11-15T14:43:03.262Z"
   },
   {
    "duration": 13,
    "start_time": "2022-11-15T14:43:03.487Z"
   },
   {
    "duration": 9,
    "start_time": "2022-11-15T14:45:22.044Z"
   },
   {
    "duration": 14,
    "start_time": "2022-11-15T14:45:26.351Z"
   },
   {
    "duration": 3,
    "start_time": "2022-11-15T14:55:01.906Z"
   },
   {
    "duration": 949,
    "start_time": "2022-11-15T14:55:49.206Z"
   },
   {
    "duration": 1002,
    "start_time": "2022-11-15T14:56:06.726Z"
   },
   {
    "duration": 944,
    "start_time": "2022-11-15T14:56:28.443Z"
   },
   {
    "duration": 14,
    "start_time": "2022-11-15T14:59:22.526Z"
   },
   {
    "duration": 531,
    "start_time": "2022-11-15T14:59:34.803Z"
   },
   {
    "duration": 585,
    "start_time": "2022-11-15T15:00:20.109Z"
   },
   {
    "duration": 46,
    "start_time": "2022-11-15T16:36:11.362Z"
   },
   {
    "duration": 1365,
    "start_time": "2022-11-15T16:36:17.010Z"
   },
   {
    "duration": 179,
    "start_time": "2022-11-15T16:36:18.376Z"
   },
   {
    "duration": 20,
    "start_time": "2022-11-15T16:36:18.559Z"
   },
   {
    "duration": 13,
    "start_time": "2022-11-15T16:36:18.581Z"
   },
   {
    "duration": 50,
    "start_time": "2022-11-15T16:36:18.596Z"
   },
   {
    "duration": 6,
    "start_time": "2022-11-15T16:36:18.648Z"
   },
   {
    "duration": 13,
    "start_time": "2022-11-15T16:36:19.130Z"
   },
   {
    "duration": 12,
    "start_time": "2022-11-15T16:36:20.457Z"
   },
   {
    "duration": 72,
    "start_time": "2022-11-15T16:36:21.731Z"
   },
   {
    "duration": 18,
    "start_time": "2022-11-15T16:36:22.985Z"
   },
   {
    "duration": 307,
    "start_time": "2022-11-15T16:36:24.634Z"
   },
   {
    "duration": 1030,
    "start_time": "2022-11-15T16:36:25.088Z"
   },
   {
    "duration": 586,
    "start_time": "2022-11-15T16:36:26.121Z"
   },
   {
    "duration": 26,
    "start_time": "2022-11-15T16:36:31.212Z"
   },
   {
    "duration": 14,
    "start_time": "2022-11-15T16:36:35.178Z"
   },
   {
    "duration": 39,
    "start_time": "2022-11-15T16:36:47.814Z"
   },
   {
    "duration": 14,
    "start_time": "2022-11-15T16:36:51.765Z"
   },
   {
    "duration": 3,
    "start_time": "2022-11-15T16:39:00.035Z"
   },
   {
    "duration": 11,
    "start_time": "2022-11-15T17:15:09.507Z"
   },
   {
    "duration": 6,
    "start_time": "2022-11-15T17:15:20.553Z"
   },
   {
    "duration": 14,
    "start_time": "2022-11-15T17:15:21.555Z"
   },
   {
    "duration": 3,
    "start_time": "2022-11-15T17:15:25.101Z"
   },
   {
    "duration": 42,
    "start_time": "2022-11-15T17:15:25.302Z"
   },
   {
    "duration": 19,
    "start_time": "2022-11-15T17:15:25.465Z"
   },
   {
    "duration": 12,
    "start_time": "2022-11-15T17:15:25.597Z"
   },
   {
    "duration": 41,
    "start_time": "2022-11-15T17:15:25.728Z"
   },
   {
    "duration": 5,
    "start_time": "2022-11-15T17:15:25.883Z"
   },
   {
    "duration": 13,
    "start_time": "2022-11-15T17:15:26.594Z"
   },
   {
    "duration": 12,
    "start_time": "2022-11-15T17:15:27.279Z"
   },
   {
    "duration": 14,
    "start_time": "2022-11-15T17:15:28.435Z"
   },
   {
    "duration": 18,
    "start_time": "2022-11-15T17:15:28.949Z"
   },
   {
    "duration": 294,
    "start_time": "2022-11-15T17:15:31.948Z"
   },
   {
    "duration": 1148,
    "start_time": "2022-11-15T17:15:35.930Z"
   },
   {
    "duration": 584,
    "start_time": "2022-11-15T17:15:39.704Z"
   },
   {
    "duration": 6,
    "start_time": "2022-11-15T17:17:27.358Z"
   },
   {
    "duration": 7,
    "start_time": "2022-11-15T17:17:35.417Z"
   },
   {
    "duration": 5,
    "start_time": "2022-11-15T17:17:37.995Z"
   },
   {
    "duration": 6,
    "start_time": "2022-11-15T17:17:56.776Z"
   },
   {
    "duration": 3,
    "start_time": "2022-11-15T17:19:47.071Z"
   },
   {
    "duration": 5,
    "start_time": "2022-11-15T17:20:35.145Z"
   },
   {
    "duration": 4,
    "start_time": "2022-11-15T17:20:47.626Z"
   },
   {
    "duration": 23,
    "start_time": "2022-11-15T17:20:58.465Z"
   },
   {
    "duration": 94,
    "start_time": "2022-11-15T17:28:07.604Z"
   },
   {
    "duration": 101,
    "start_time": "2022-11-15T17:28:21.955Z"
   },
   {
    "duration": 62,
    "start_time": "2022-11-15T17:28:59.267Z"
   },
   {
    "duration": 143,
    "start_time": "2022-11-15T17:29:05.527Z"
   },
   {
    "duration": 134,
    "start_time": "2022-11-15T17:29:33.789Z"
   },
   {
    "duration": 138,
    "start_time": "2022-11-15T17:29:54.497Z"
   },
   {
    "duration": 128,
    "start_time": "2022-11-15T17:30:21.075Z"
   },
   {
    "duration": 140,
    "start_time": "2022-11-15T17:30:48.056Z"
   },
   {
    "duration": 9,
    "start_time": "2022-11-15T17:30:59.928Z"
   },
   {
    "duration": 5,
    "start_time": "2022-11-15T17:31:05.411Z"
   },
   {
    "duration": 74,
    "start_time": "2022-11-15T17:31:19.891Z"
   },
   {
    "duration": 3,
    "start_time": "2022-11-15T17:31:26.835Z"
   },
   {
    "duration": 14,
    "start_time": "2022-11-15T17:31:33.416Z"
   },
   {
    "duration": 10,
    "start_time": "2022-11-15T17:31:35.985Z"
   },
   {
    "duration": 133,
    "start_time": "2022-11-15T17:31:54.051Z"
   },
   {
    "duration": 252,
    "start_time": "2022-11-15T17:32:18.339Z"
   },
   {
    "duration": 236,
    "start_time": "2022-11-15T17:32:33.029Z"
   },
   {
    "duration": 278,
    "start_time": "2022-11-15T17:32:36.379Z"
   },
   {
    "duration": 232,
    "start_time": "2022-11-15T17:32:56.161Z"
   },
   {
    "duration": 248,
    "start_time": "2022-11-15T17:33:00.173Z"
   },
   {
    "duration": 496,
    "start_time": "2022-11-15T17:33:05.052Z"
   },
   {
    "duration": 215,
    "start_time": "2022-11-15T17:33:12.237Z"
   },
   {
    "duration": 232,
    "start_time": "2022-11-15T17:33:17.160Z"
   },
   {
    "duration": 222,
    "start_time": "2022-11-15T17:33:34.659Z"
   },
   {
    "duration": 125,
    "start_time": "2022-11-15T17:36:41.003Z"
   },
   {
    "duration": 1979,
    "start_time": "2022-11-15T17:37:15.274Z"
   },
   {
    "duration": 294,
    "start_time": "2022-11-15T17:37:57.628Z"
   },
   {
    "duration": 609,
    "start_time": "2022-11-15T17:38:00.128Z"
   },
   {
    "duration": 14724,
    "start_time": "2022-11-15T17:38:14.510Z"
   },
   {
    "duration": 1893,
    "start_time": "2022-11-15T17:42:43.428Z"
   },
   {
    "duration": 92,
    "start_time": "2022-11-15T17:43:05.508Z"
   },
   {
    "duration": 231,
    "start_time": "2022-11-15T17:43:16.005Z"
   },
   {
    "duration": 223,
    "start_time": "2022-11-15T17:43:29.874Z"
   },
   {
    "duration": 335155,
    "start_time": "2022-11-15T17:44:00.100Z"
   },
   {
    "duration": 11,
    "start_time": "2022-11-15T18:12:43.992Z"
   },
   {
    "duration": 54,
    "start_time": "2022-11-15T18:28:10.088Z"
   },
   {
    "duration": 1421,
    "start_time": "2022-11-15T18:28:14.116Z"
   },
   {
    "duration": 173,
    "start_time": "2022-11-15T18:28:15.539Z"
   },
   {
    "duration": 23,
    "start_time": "2022-11-15T18:28:15.714Z"
   },
   {
    "duration": 12,
    "start_time": "2022-11-15T18:28:15.739Z"
   },
   {
    "duration": 38,
    "start_time": "2022-11-15T18:28:15.753Z"
   },
   {
    "duration": 33,
    "start_time": "2022-11-15T18:28:15.792Z"
   },
   {
    "duration": 11,
    "start_time": "2022-11-15T18:28:15.827Z"
   },
   {
    "duration": 12,
    "start_time": "2022-11-15T18:28:15.840Z"
   },
   {
    "duration": 13,
    "start_time": "2022-11-15T18:28:15.854Z"
   },
   {
    "duration": 14,
    "start_time": "2022-11-15T18:28:15.869Z"
   },
   {
    "duration": 53,
    "start_time": "2022-11-15T18:28:15.885Z"
   },
   {
    "duration": 1107,
    "start_time": "2022-11-15T18:28:15.939Z"
   },
   {
    "duration": 552,
    "start_time": "2022-11-15T18:28:17.047Z"
   },
   {
    "duration": 5,
    "start_time": "2022-11-15T18:28:17.600Z"
   },
   {
    "duration": 27,
    "start_time": "2022-11-15T18:28:17.606Z"
   },
   {
    "duration": 12,
    "start_time": "2022-11-15T18:28:38.442Z"
   },
   {
    "duration": 904,
    "start_time": "2022-11-15T18:42:27.992Z"
   },
   {
    "duration": 12,
    "start_time": "2022-11-15T18:42:44.841Z"
   },
   {
    "duration": 793,
    "start_time": "2022-11-15T18:42:48.741Z"
   },
   {
    "duration": 917,
    "start_time": "2022-11-15T18:42:59.938Z"
   },
   {
    "duration": 772,
    "start_time": "2022-11-15T18:43:02.799Z"
   },
   {
    "duration": 925,
    "start_time": "2022-11-15T18:43:27.867Z"
   },
   {
    "duration": 4,
    "start_time": "2022-11-15T18:44:14.889Z"
   },
   {
    "duration": 22,
    "start_time": "2022-11-15T18:44:20.770Z"
   },
   {
    "duration": 920,
    "start_time": "2022-11-15T18:44:37.730Z"
   },
   {
    "duration": 15,
    "start_time": "2022-11-15T18:44:45.889Z"
   },
   {
    "duration": 5,
    "start_time": "2022-11-15T18:44:55.836Z"
   },
   {
    "duration": 7,
    "start_time": "2022-11-15T18:44:58.952Z"
   },
   {
    "duration": 6,
    "start_time": "2022-11-15T18:45:17.028Z"
   },
   {
    "duration": 11,
    "start_time": "2022-11-15T18:45:21.300Z"
   },
   {
    "duration": 5,
    "start_time": "2022-11-15T18:45:43.581Z"
   },
   {
    "duration": 4,
    "start_time": "2022-11-15T18:46:03.172Z"
   },
   {
    "duration": 11,
    "start_time": "2022-11-15T18:48:31.290Z"
   },
   {
    "duration": 7,
    "start_time": "2022-11-15T18:48:48.955Z"
   },
   {
    "duration": 7,
    "start_time": "2022-11-15T18:50:53.827Z"
   },
   {
    "duration": 6,
    "start_time": "2022-11-15T18:51:58.131Z"
   },
   {
    "duration": 7,
    "start_time": "2022-11-15T18:52:01.646Z"
   },
   {
    "duration": 7,
    "start_time": "2022-11-15T18:53:39.831Z"
   },
   {
    "duration": 4,
    "start_time": "2022-11-15T18:54:08.645Z"
   },
   {
    "duration": 4,
    "start_time": "2022-11-15T18:54:18.137Z"
   },
   {
    "duration": 8,
    "start_time": "2022-11-15T18:54:50.837Z"
   },
   {
    "duration": 7,
    "start_time": "2022-11-15T18:55:00.648Z"
   },
   {
    "duration": 4,
    "start_time": "2022-11-15T18:55:01.371Z"
   },
   {
    "duration": 5,
    "start_time": "2022-11-15T18:55:36.191Z"
   },
   {
    "duration": 4,
    "start_time": "2022-11-15T18:56:04.659Z"
   },
   {
    "duration": 2,
    "start_time": "2022-11-15T18:57:11.934Z"
   },
   {
    "duration": 18,
    "start_time": "2022-11-15T18:57:17.912Z"
   },
   {
    "duration": 3,
    "start_time": "2022-11-15T18:57:21.182Z"
   },
   {
    "duration": 3,
    "start_time": "2022-11-15T18:57:29.510Z"
   },
   {
    "duration": 9,
    "start_time": "2022-11-15T18:57:47.737Z"
   },
   {
    "duration": 9,
    "start_time": "2022-11-15T18:58:07.568Z"
   },
   {
    "duration": 20,
    "start_time": "2022-11-15T18:58:18.442Z"
   },
   {
    "duration": 46,
    "start_time": "2022-11-15T18:59:15.161Z"
   },
   {
    "duration": 5,
    "start_time": "2022-11-15T18:59:19.748Z"
   },
   {
    "duration": 7,
    "start_time": "2022-11-15T18:59:21.647Z"
   },
   {
    "duration": 4,
    "start_time": "2022-11-15T18:59:21.930Z"
   },
   {
    "duration": 7,
    "start_time": "2022-11-15T18:59:22.268Z"
   },
   {
    "duration": 4,
    "start_time": "2022-11-15T18:59:22.482Z"
   },
   {
    "duration": 25,
    "start_time": "2022-11-15T18:59:22.715Z"
   },
   {
    "duration": 18,
    "start_time": "2022-11-15T18:59:26.251Z"
   },
   {
    "duration": 4,
    "start_time": "2022-11-15T18:59:47.656Z"
   },
   {
    "duration": 18,
    "start_time": "2022-11-15T18:59:53.772Z"
   },
   {
    "duration": 5,
    "start_time": "2022-11-15T19:00:07.306Z"
   },
   {
    "duration": 10,
    "start_time": "2022-11-15T19:00:07.466Z"
   },
   {
    "duration": 5,
    "start_time": "2022-11-15T19:00:07.628Z"
   },
   {
    "duration": 6,
    "start_time": "2022-11-15T19:00:07.742Z"
   },
   {
    "duration": 4,
    "start_time": "2022-11-15T19:00:07.871Z"
   },
   {
    "duration": 18,
    "start_time": "2022-11-15T19:00:08.089Z"
   },
   {
    "duration": 19,
    "start_time": "2022-11-15T19:00:08.452Z"
   },
   {
    "duration": 3,
    "start_time": "2022-11-15T19:00:17.088Z"
   },
   {
    "duration": 40,
    "start_time": "2022-11-15T19:00:17.239Z"
   },
   {
    "duration": 14,
    "start_time": "2022-11-15T19:00:17.376Z"
   },
   {
    "duration": 11,
    "start_time": "2022-11-15T19:00:17.496Z"
   },
   {
    "duration": 42,
    "start_time": "2022-11-15T19:00:17.627Z"
   },
   {
    "duration": 6,
    "start_time": "2022-11-15T19:00:17.767Z"
   },
   {
    "duration": 6,
    "start_time": "2022-11-15T19:00:17.888Z"
   },
   {
    "duration": 13,
    "start_time": "2022-11-15T19:00:19.082Z"
   },
   {
    "duration": 15,
    "start_time": "2022-11-15T19:00:19.097Z"
   },
   {
    "duration": 20,
    "start_time": "2022-11-15T19:00:19.114Z"
   },
   {
    "duration": 25,
    "start_time": "2022-11-15T19:00:19.141Z"
   },
   {
    "duration": 1119,
    "start_time": "2022-11-15T19:00:19.168Z"
   },
   {
    "duration": 594,
    "start_time": "2022-11-15T19:00:20.289Z"
   },
   {
    "duration": 4,
    "start_time": "2022-11-15T19:00:20.885Z"
   },
   {
    "duration": 12,
    "start_time": "2022-11-15T19:00:32.541Z"
   },
   {
    "duration": 29,
    "start_time": "2022-11-15T19:00:32.555Z"
   },
   {
    "duration": 19,
    "start_time": "2022-11-15T19:00:32.586Z"
   },
   {
    "duration": 28,
    "start_time": "2022-11-15T19:00:32.607Z"
   },
   {
    "duration": 12,
    "start_time": "2022-11-15T19:00:32.637Z"
   },
   {
    "duration": 27,
    "start_time": "2022-11-15T19:00:32.651Z"
   },
   {
    "duration": 74,
    "start_time": "2022-11-15T19:00:32.679Z"
   },
   {
    "duration": 31,
    "start_time": "2022-11-15T19:00:32.754Z"
   },
   {
    "duration": 1362,
    "start_time": "2022-11-15T19:01:02.027Z"
   },
   {
    "duration": 48,
    "start_time": "2022-11-15T19:01:03.391Z"
   },
   {
    "duration": 18,
    "start_time": "2022-11-15T19:01:03.441Z"
   },
   {
    "duration": 15,
    "start_time": "2022-11-15T19:01:03.461Z"
   },
   {
    "duration": 57,
    "start_time": "2022-11-15T19:01:03.478Z"
   },
   {
    "duration": 7,
    "start_time": "2022-11-15T19:01:03.536Z"
   },
   {
    "duration": 5,
    "start_time": "2022-11-15T19:01:03.544Z"
   },
   {
    "duration": 12,
    "start_time": "2022-11-15T19:01:03.551Z"
   },
   {
    "duration": 11,
    "start_time": "2022-11-15T19:01:03.565Z"
   },
   {
    "duration": 47,
    "start_time": "2022-11-15T19:01:03.578Z"
   },
   {
    "duration": 20,
    "start_time": "2022-11-15T19:01:03.627Z"
   },
   {
    "duration": 1029,
    "start_time": "2022-11-15T19:01:03.649Z"
   },
   {
    "duration": 584,
    "start_time": "2022-11-15T19:01:04.679Z"
   },
   {
    "duration": 4,
    "start_time": "2022-11-15T19:01:05.264Z"
   },
   {
    "duration": 13,
    "start_time": "2022-11-15T19:01:05.270Z"
   },
   {
    "duration": 7,
    "start_time": "2022-11-15T19:01:05.285Z"
   },
   {
    "duration": 25,
    "start_time": "2022-11-15T19:01:05.294Z"
   },
   {
    "duration": 16,
    "start_time": "2022-11-15T19:01:05.321Z"
   },
   {
    "duration": 7,
    "start_time": "2022-11-15T19:01:05.339Z"
   },
   {
    "duration": 12,
    "start_time": "2022-11-15T19:01:05.348Z"
   },
   {
    "duration": 18,
    "start_time": "2022-11-15T19:01:05.362Z"
   },
   {
    "duration": 139,
    "start_time": "2022-11-15T19:01:05.381Z"
   },
   {
    "duration": 5,
    "start_time": "2022-11-15T19:02:08.953Z"
   },
   {
    "duration": 6,
    "start_time": "2022-11-15T19:02:09.987Z"
   },
   {
    "duration": 4,
    "start_time": "2022-11-15T19:02:10.131Z"
   },
   {
    "duration": 5,
    "start_time": "2022-11-15T19:02:10.263Z"
   },
   {
    "duration": 4,
    "start_time": "2022-11-15T19:02:10.393Z"
   },
   {
    "duration": 17,
    "start_time": "2022-11-15T19:02:10.828Z"
   },
   {
    "duration": 388,
    "start_time": "2022-11-15T19:02:11.428Z"
   },
   {
    "duration": 290,
    "start_time": "2022-11-15T19:03:24.728Z"
   },
   {
    "duration": 235,
    "start_time": "2022-11-15T19:03:27.598Z"
   },
   {
    "duration": 3,
    "start_time": "2022-11-15T19:04:46.534Z"
   },
   {
    "duration": 391,
    "start_time": "2022-11-15T19:05:08.043Z"
   },
   {
    "duration": 440,
    "start_time": "2022-11-15T19:05:36.683Z"
   },
   {
    "duration": 329,
    "start_time": "2022-11-15T19:05:45.502Z"
   },
   {
    "duration": 3,
    "start_time": "2022-11-15T19:07:18.103Z"
   },
   {
    "duration": 137,
    "start_time": "2022-11-15T19:07:27.794Z"
   },
   {
    "duration": 3,
    "start_time": "2022-11-15T19:08:47.481Z"
   },
   {
    "duration": 704,
    "start_time": "2022-11-15T19:08:56.916Z"
   },
   {
    "duration": 438,
    "start_time": "2022-11-15T19:09:03.479Z"
   },
   {
    "duration": 291,
    "start_time": "2022-11-15T19:10:16.836Z"
   },
   {
    "duration": 166,
    "start_time": "2022-11-15T19:10:32.055Z"
   },
   {
    "duration": 217,
    "start_time": "2022-11-15T19:10:47.904Z"
   },
   {
    "duration": 96,
    "start_time": "2022-11-15T19:10:55.129Z"
   },
   {
    "duration": 4,
    "start_time": "2022-11-15T19:12:15.840Z"
   },
   {
    "duration": 2,
    "start_time": "2022-11-15T19:12:35.542Z"
   },
   {
    "duration": 126,
    "start_time": "2022-11-15T19:12:41.809Z"
   },
   {
    "duration": 157,
    "start_time": "2022-11-15T19:13:32.161Z"
   },
   {
    "duration": 210,
    "start_time": "2022-11-15T19:13:48.812Z"
   },
   {
    "duration": 2,
    "start_time": "2022-11-15T19:15:00.143Z"
   },
   {
    "duration": 182,
    "start_time": "2022-11-15T19:15:00.535Z"
   },
   {
    "duration": 22,
    "start_time": "2022-11-15T19:15:01.198Z"
   },
   {
    "duration": 550,
    "start_time": "2022-11-15T19:15:30.656Z"
   },
   {
    "duration": 6569,
    "start_time": "2022-11-15T19:15:37.050Z"
   },
   {
    "duration": 1117,
    "start_time": "2022-11-15T19:15:46.089Z"
   },
   {
    "duration": 10957,
    "start_time": "2022-11-15T19:15:51.848Z"
   },
   {
    "duration": 17474,
    "start_time": "2022-11-15T19:16:07.874Z"
   },
   {
    "duration": 912,
    "start_time": "2022-11-15T19:16:34.952Z"
   },
   {
    "duration": 888,
    "start_time": "2022-11-15T19:17:14.807Z"
   },
   {
    "duration": 16,
    "start_time": "2022-11-15T19:17:22.128Z"
   },
   {
    "duration": 13,
    "start_time": "2022-11-15T19:17:32.530Z"
   },
   {
    "duration": 18,
    "start_time": "2022-11-15T19:17:46.379Z"
   },
   {
    "duration": 24,
    "start_time": "2022-11-15T19:17:55.432Z"
   },
   {
    "duration": 12,
    "start_time": "2022-11-15T19:18:12.873Z"
   },
   {
    "duration": 14,
    "start_time": "2022-11-15T19:18:17.929Z"
   },
   {
    "duration": 21,
    "start_time": "2022-11-15T19:18:23.903Z"
   },
   {
    "duration": 16,
    "start_time": "2022-11-15T19:18:33.274Z"
   },
   {
    "duration": 21,
    "start_time": "2022-11-15T19:19:27.392Z"
   },
   {
    "duration": 16,
    "start_time": "2022-11-15T19:19:32.065Z"
   },
   {
    "duration": 18,
    "start_time": "2022-11-15T19:19:35.279Z"
   },
   {
    "duration": 21,
    "start_time": "2022-11-15T19:19:57.548Z"
   },
   {
    "duration": 22,
    "start_time": "2022-11-15T19:20:04.036Z"
   },
   {
    "duration": 19,
    "start_time": "2022-11-15T19:20:16.028Z"
   },
   {
    "duration": 13,
    "start_time": "2022-11-15T19:21:00.334Z"
   },
   {
    "duration": 17,
    "start_time": "2022-11-15T19:21:03.128Z"
   },
   {
    "duration": 20,
    "start_time": "2022-11-15T19:21:14.641Z"
   },
   {
    "duration": 18,
    "start_time": "2022-11-15T19:21:28.670Z"
   },
   {
    "duration": 30,
    "start_time": "2022-11-15T19:21:41.698Z"
   },
   {
    "duration": 21,
    "start_time": "2022-11-15T19:22:01.190Z"
   },
   {
    "duration": 45,
    "start_time": "2022-11-15T20:59:52.274Z"
   },
   {
    "duration": 1572,
    "start_time": "2022-11-15T20:59:56.594Z"
   },
   {
    "duration": 167,
    "start_time": "2022-11-15T20:59:58.168Z"
   },
   {
    "duration": 19,
    "start_time": "2022-11-15T20:59:58.336Z"
   },
   {
    "duration": 14,
    "start_time": "2022-11-15T20:59:58.358Z"
   },
   {
    "duration": 42,
    "start_time": "2022-11-15T20:59:58.373Z"
   },
   {
    "duration": 6,
    "start_time": "2022-11-15T20:59:58.417Z"
   },
   {
    "duration": 11,
    "start_time": "2022-11-15T20:59:58.425Z"
   },
   {
    "duration": 12,
    "start_time": "2022-11-15T20:59:58.437Z"
   },
   {
    "duration": 13,
    "start_time": "2022-11-15T20:59:58.491Z"
   },
   {
    "duration": 14,
    "start_time": "2022-11-15T20:59:58.802Z"
   },
   {
    "duration": 20,
    "start_time": "2022-11-15T20:59:59.402Z"
   },
   {
    "duration": 1081,
    "start_time": "2022-11-15T21:00:00.173Z"
   },
   {
    "duration": 558,
    "start_time": "2022-11-15T21:00:01.296Z"
   },
   {
    "duration": 100,
    "start_time": "2022-11-15T21:00:01.856Z"
   },
   {
    "duration": 9,
    "start_time": "2022-11-15T21:00:07.287Z"
   },
   {
    "duration": 7,
    "start_time": "2022-11-15T21:00:16.874Z"
   },
   {
    "duration": 9,
    "start_time": "2022-11-15T21:00:26.873Z"
   },
   {
    "duration": 6,
    "start_time": "2022-11-15T21:00:53.099Z"
   },
   {
    "duration": 7,
    "start_time": "2022-11-15T21:06:12.466Z"
   },
   {
    "duration": 226,
    "start_time": "2022-11-15T21:07:21.027Z"
   },
   {
    "duration": 3,
    "start_time": "2022-11-15T21:08:34.752Z"
   },
   {
    "duration": 37,
    "start_time": "2022-11-15T21:08:34.899Z"
   },
   {
    "duration": 15,
    "start_time": "2022-11-15T21:08:35.057Z"
   },
   {
    "duration": 12,
    "start_time": "2022-11-15T21:08:35.233Z"
   },
   {
    "duration": 38,
    "start_time": "2022-11-15T21:08:35.397Z"
   },
   {
    "duration": 6,
    "start_time": "2022-11-15T21:08:35.556Z"
   },
   {
    "duration": 5,
    "start_time": "2022-11-15T21:08:35.713Z"
   },
   {
    "duration": 13,
    "start_time": "2022-11-15T21:08:35.864Z"
   },
   {
    "duration": 16,
    "start_time": "2022-11-15T21:08:36.023Z"
   },
   {
    "duration": 13,
    "start_time": "2022-11-15T21:08:36.177Z"
   },
   {
    "duration": 20,
    "start_time": "2022-11-15T21:08:36.333Z"
   },
   {
    "duration": 927,
    "start_time": "2022-11-15T21:08:36.514Z"
   },
   {
    "duration": 668,
    "start_time": "2022-11-15T21:08:37.443Z"
   },
   {
    "duration": 6,
    "start_time": "2022-11-15T21:08:38.113Z"
   },
   {
    "duration": 5,
    "start_time": "2022-11-15T21:08:38.121Z"
   },
   {
    "duration": 263,
    "start_time": "2022-11-15T21:08:38.127Z"
   },
   {
    "duration": 13,
    "start_time": "2022-11-15T21:08:38.396Z"
   },
   {
    "duration": 5,
    "start_time": "2022-11-15T21:08:38.411Z"
   },
   {
    "duration": 10,
    "start_time": "2022-11-15T21:08:38.418Z"
   },
   {
    "duration": 5,
    "start_time": "2022-11-15T21:08:38.430Z"
   },
   {
    "duration": 6,
    "start_time": "2022-11-15T21:08:38.554Z"
   },
   {
    "duration": 5,
    "start_time": "2022-11-15T21:08:38.928Z"
   },
   {
    "duration": 19,
    "start_time": "2022-11-15T21:08:39.095Z"
   },
   {
    "duration": 3,
    "start_time": "2022-11-15T21:08:39.271Z"
   },
   {
    "duration": 99,
    "start_time": "2022-11-15T21:08:39.802Z"
   },
   {
    "duration": 880,
    "start_time": "2022-11-15T21:08:40.097Z"
   },
   {
    "duration": 32,
    "start_time": "2022-11-15T21:08:40.979Z"
   },
   {
    "duration": 20,
    "start_time": "2022-11-15T21:09:43.496Z"
   },
   {
    "duration": 25,
    "start_time": "2022-11-15T21:09:46.261Z"
   },
   {
    "duration": 230,
    "start_time": "2022-11-15T21:09:48.971Z"
   },
   {
    "duration": 3,
    "start_time": "2022-11-15T21:09:56.568Z"
   },
   {
    "duration": 35,
    "start_time": "2022-11-15T21:09:56.790Z"
   },
   {
    "duration": 15,
    "start_time": "2022-11-15T21:09:56.980Z"
   },
   {
    "duration": 12,
    "start_time": "2022-11-15T21:09:57.149Z"
   },
   {
    "duration": 43,
    "start_time": "2022-11-15T21:09:57.312Z"
   },
   {
    "duration": 6,
    "start_time": "2022-11-15T21:09:57.468Z"
   },
   {
    "duration": 6,
    "start_time": "2022-11-15T21:09:57.630Z"
   },
   {
    "duration": 12,
    "start_time": "2022-11-15T21:09:57.792Z"
   },
   {
    "duration": 13,
    "start_time": "2022-11-15T21:09:57.966Z"
   },
   {
    "duration": 16,
    "start_time": "2022-11-15T21:09:58.138Z"
   },
   {
    "duration": 18,
    "start_time": "2022-11-15T21:09:58.354Z"
   },
   {
    "duration": 920,
    "start_time": "2022-11-15T21:09:58.528Z"
   },
   {
    "duration": 521,
    "start_time": "2022-11-15T21:09:59.450Z"
   },
   {
    "duration": 28,
    "start_time": "2022-11-15T21:09:59.973Z"
   },
   {
    "duration": 16,
    "start_time": "2022-11-15T21:10:00.004Z"
   },
   {
    "duration": 30,
    "start_time": "2022-11-15T21:10:00.022Z"
   },
   {
    "duration": 221,
    "start_time": "2022-11-15T21:10:00.054Z"
   },
   {
    "duration": 19,
    "start_time": "2022-11-15T21:10:00.278Z"
   },
   {
    "duration": 6,
    "start_time": "2022-11-15T21:10:00.355Z"
   },
   {
    "duration": 6,
    "start_time": "2022-11-15T21:10:00.807Z"
   },
   {
    "duration": 6,
    "start_time": "2022-11-15T21:10:01.351Z"
   },
   {
    "duration": 36,
    "start_time": "2022-11-15T21:10:01.359Z"
   },
   {
    "duration": 5,
    "start_time": "2022-11-15T21:10:01.928Z"
   },
   {
    "duration": 17,
    "start_time": "2022-11-15T21:10:02.384Z"
   },
   {
    "duration": 3,
    "start_time": "2022-11-15T21:10:03.089Z"
   },
   {
    "duration": 204,
    "start_time": "2022-11-15T21:10:03.900Z"
   },
   {
    "duration": 812,
    "start_time": "2022-11-15T21:10:05.406Z"
   },
   {
    "duration": 19,
    "start_time": "2022-11-15T21:10:07.442Z"
   },
   {
    "duration": 1343,
    "start_time": "2022-11-15T21:10:33.220Z"
   },
   {
    "duration": 39,
    "start_time": "2022-11-15T21:10:34.565Z"
   },
   {
    "duration": 19,
    "start_time": "2022-11-15T21:10:34.606Z"
   },
   {
    "duration": 13,
    "start_time": "2022-11-15T21:10:34.627Z"
   },
   {
    "duration": 57,
    "start_time": "2022-11-15T21:10:34.642Z"
   },
   {
    "duration": 7,
    "start_time": "2022-11-15T21:10:34.701Z"
   },
   {
    "duration": 5,
    "start_time": "2022-11-15T21:10:34.709Z"
   },
   {
    "duration": 12,
    "start_time": "2022-11-15T21:10:34.716Z"
   },
   {
    "duration": 13,
    "start_time": "2022-11-15T21:10:34.729Z"
   },
   {
    "duration": 14,
    "start_time": "2022-11-15T21:10:34.744Z"
   },
   {
    "duration": 51,
    "start_time": "2022-11-15T21:10:34.760Z"
   },
   {
    "duration": 986,
    "start_time": "2022-11-15T21:10:34.813Z"
   },
   {
    "duration": 577,
    "start_time": "2022-11-15T21:10:35.801Z"
   },
   {
    "duration": 6,
    "start_time": "2022-11-15T21:10:36.379Z"
   },
   {
    "duration": 4,
    "start_time": "2022-11-15T21:10:36.396Z"
   },
   {
    "duration": 25,
    "start_time": "2022-11-15T21:10:36.402Z"
   },
   {
    "duration": 239,
    "start_time": "2022-11-15T21:10:36.428Z"
   },
   {
    "duration": 11,
    "start_time": "2022-11-15T21:10:36.669Z"
   },
   {
    "duration": 16,
    "start_time": "2022-11-15T21:10:36.682Z"
   },
   {
    "duration": 15,
    "start_time": "2022-11-15T21:10:36.700Z"
   },
   {
    "duration": 4,
    "start_time": "2022-11-15T21:10:36.716Z"
   },
   {
    "duration": 8,
    "start_time": "2022-11-15T21:10:36.722Z"
   },
   {
    "duration": 3,
    "start_time": "2022-11-15T21:10:36.732Z"
   },
   {
    "duration": 17,
    "start_time": "2022-11-15T21:10:36.737Z"
   },
   {
    "duration": 5,
    "start_time": "2022-11-15T21:10:36.756Z"
   },
   {
    "duration": 137,
    "start_time": "2022-11-15T21:10:36.764Z"
   },
   {
    "duration": 911,
    "start_time": "2022-11-15T21:10:36.903Z"
   },
   {
    "duration": 24,
    "start_time": "2022-11-15T21:10:37.817Z"
   },
   {
    "duration": 5,
    "start_time": "2022-11-15T21:11:30.278Z"
   },
   {
    "duration": 30,
    "start_time": "2022-11-15T21:11:31.014Z"
   },
   {
    "duration": 25,
    "start_time": "2022-11-15T21:11:41.166Z"
   },
   {
    "duration": 113,
    "start_time": "2022-11-15T21:12:53.139Z"
   },
   {
    "duration": 4,
    "start_time": "2022-11-15T21:13:01.247Z"
   },
   {
    "duration": 17,
    "start_time": "2022-11-15T21:13:01.416Z"
   },
   {
    "duration": 36,
    "start_time": "2022-11-15T21:13:01.570Z"
   },
   {
    "duration": 13,
    "start_time": "2022-11-15T21:13:01.711Z"
   },
   {
    "duration": 13,
    "start_time": "2022-11-15T21:13:01.858Z"
   },
   {
    "duration": 5,
    "start_time": "2022-11-15T21:13:02.009Z"
   },
   {
    "duration": 13,
    "start_time": "2022-11-15T21:14:56.863Z"
   },
   {
    "duration": 13,
    "start_time": "2022-11-15T21:15:49.173Z"
   },
   {
    "duration": 13,
    "start_time": "2022-11-15T21:17:31.511Z"
   },
   {
    "duration": 6,
    "start_time": "2022-11-15T21:18:51.668Z"
   },
   {
    "duration": 21,
    "start_time": "2022-11-15T21:18:55.660Z"
   },
   {
    "duration": 675,
    "start_time": "2022-11-15T21:21:48.531Z"
   },
   {
    "duration": 868,
    "start_time": "2022-11-15T21:21:59.713Z"
   },
   {
    "duration": 3,
    "start_time": "2022-11-15T21:22:08.934Z"
   },
   {
    "duration": 40,
    "start_time": "2022-11-15T21:22:09.093Z"
   },
   {
    "duration": 16,
    "start_time": "2022-11-15T21:22:09.229Z"
   },
   {
    "duration": 13,
    "start_time": "2022-11-15T21:22:09.394Z"
   },
   {
    "duration": 41,
    "start_time": "2022-11-15T21:22:09.555Z"
   },
   {
    "duration": 6,
    "start_time": "2022-11-15T21:22:10.482Z"
   },
   {
    "duration": 12,
    "start_time": "2022-11-15T21:22:10.490Z"
   },
   {
    "duration": 11,
    "start_time": "2022-11-15T21:22:10.506Z"
   },
   {
    "duration": 11,
    "start_time": "2022-11-15T21:22:10.523Z"
   },
   {
    "duration": 13,
    "start_time": "2022-11-15T21:22:10.535Z"
   },
   {
    "duration": 19,
    "start_time": "2022-11-15T21:22:10.868Z"
   },
   {
    "duration": 982,
    "start_time": "2022-11-15T21:22:11.971Z"
   },
   {
    "duration": 560,
    "start_time": "2022-11-15T21:22:12.955Z"
   },
   {
    "duration": 7,
    "start_time": "2022-11-15T21:22:13.517Z"
   },
   {
    "duration": 4,
    "start_time": "2022-11-15T21:22:14.916Z"
   },
   {
    "duration": 5,
    "start_time": "2022-11-15T21:22:15.518Z"
   },
   {
    "duration": 763,
    "start_time": "2022-11-15T21:22:35.085Z"
   },
   {
    "duration": 1338,
    "start_time": "2022-11-15T21:22:41.810Z"
   },
   {
    "duration": 39,
    "start_time": "2022-11-15T21:22:43.150Z"
   },
   {
    "duration": 17,
    "start_time": "2022-11-15T21:22:43.191Z"
   },
   {
    "duration": 12,
    "start_time": "2022-11-15T21:22:43.210Z"
   },
   {
    "duration": 37,
    "start_time": "2022-11-15T21:22:43.223Z"
   },
   {
    "duration": 7,
    "start_time": "2022-11-15T21:22:43.261Z"
   },
   {
    "duration": 28,
    "start_time": "2022-11-15T21:22:43.269Z"
   },
   {
    "duration": 14,
    "start_time": "2022-11-15T21:22:43.298Z"
   },
   {
    "duration": 12,
    "start_time": "2022-11-15T21:22:43.313Z"
   },
   {
    "duration": 13,
    "start_time": "2022-11-15T21:22:43.327Z"
   },
   {
    "duration": 18,
    "start_time": "2022-11-15T21:22:43.342Z"
   },
   {
    "duration": 967,
    "start_time": "2022-11-15T21:22:43.362Z"
   },
   {
    "duration": 520,
    "start_time": "2022-11-15T21:22:44.331Z"
   },
   {
    "duration": 5,
    "start_time": "2022-11-15T21:22:44.853Z"
   },
   {
    "duration": 5,
    "start_time": "2022-11-15T21:22:44.860Z"
   },
   {
    "duration": 7,
    "start_time": "2022-11-15T21:22:44.867Z"
   },
   {
    "duration": 911,
    "start_time": "2022-11-15T21:22:44.875Z"
   },
   {
    "duration": 0,
    "start_time": "2022-11-15T21:22:45.788Z"
   },
   {
    "duration": 0,
    "start_time": "2022-11-15T21:22:45.789Z"
   },
   {
    "duration": 0,
    "start_time": "2022-11-15T21:22:45.790Z"
   },
   {
    "duration": 0,
    "start_time": "2022-11-15T21:22:45.791Z"
   },
   {
    "duration": 0,
    "start_time": "2022-11-15T21:22:45.792Z"
   },
   {
    "duration": 0,
    "start_time": "2022-11-15T21:22:45.793Z"
   },
   {
    "duration": 0,
    "start_time": "2022-11-15T21:22:45.794Z"
   },
   {
    "duration": 0,
    "start_time": "2022-11-15T21:22:45.795Z"
   },
   {
    "duration": 0,
    "start_time": "2022-11-15T21:22:45.796Z"
   },
   {
    "duration": 0,
    "start_time": "2022-11-15T21:22:45.797Z"
   },
   {
    "duration": 0,
    "start_time": "2022-11-15T21:22:45.798Z"
   },
   {
    "duration": 22,
    "start_time": "2022-11-15T21:23:08.319Z"
   },
   {
    "duration": 11,
    "start_time": "2022-11-15T21:23:23.799Z"
   },
   {
    "duration": 10,
    "start_time": "2022-11-15T21:23:51.671Z"
   },
   {
    "duration": 9,
    "start_time": "2022-11-15T21:23:52.276Z"
   },
   {
    "duration": 14,
    "start_time": "2022-11-15T21:23:54.250Z"
   },
   {
    "duration": 3,
    "start_time": "2022-11-15T21:23:58.598Z"
   },
   {
    "duration": 37,
    "start_time": "2022-11-15T21:23:58.918Z"
   },
   {
    "duration": 15,
    "start_time": "2022-11-15T21:23:59.251Z"
   },
   {
    "duration": 12,
    "start_time": "2022-11-15T21:23:59.589Z"
   },
   {
    "duration": 46,
    "start_time": "2022-11-15T21:23:59.887Z"
   },
   {
    "duration": 6,
    "start_time": "2022-11-15T21:24:00.219Z"
   },
   {
    "duration": 5,
    "start_time": "2022-11-15T21:24:00.521Z"
   },
   {
    "duration": 11,
    "start_time": "2022-11-15T21:24:00.803Z"
   },
   {
    "duration": 13,
    "start_time": "2022-11-15T21:24:01.111Z"
   },
   {
    "duration": 13,
    "start_time": "2022-11-15T21:24:01.576Z"
   },
   {
    "duration": 20,
    "start_time": "2022-11-15T21:24:03.073Z"
   },
   {
    "duration": 1025,
    "start_time": "2022-11-15T21:24:03.291Z"
   },
   {
    "duration": 547,
    "start_time": "2022-11-15T21:24:04.318Z"
   },
   {
    "duration": 8,
    "start_time": "2022-11-15T21:24:04.867Z"
   },
   {
    "duration": 4,
    "start_time": "2022-11-15T21:24:12.093Z"
   },
   {
    "duration": 5,
    "start_time": "2022-11-15T21:24:12.638Z"
   },
   {
    "duration": 1354,
    "start_time": "2022-11-15T21:24:27.299Z"
   },
   {
    "duration": 40,
    "start_time": "2022-11-15T21:24:28.655Z"
   },
   {
    "duration": 17,
    "start_time": "2022-11-15T21:24:28.697Z"
   },
   {
    "duration": 13,
    "start_time": "2022-11-15T21:24:28.716Z"
   },
   {
    "duration": 40,
    "start_time": "2022-11-15T21:24:28.731Z"
   },
   {
    "duration": 28,
    "start_time": "2022-11-15T21:24:28.773Z"
   },
   {
    "duration": 7,
    "start_time": "2022-11-15T21:24:28.802Z"
   },
   {
    "duration": 15,
    "start_time": "2022-11-15T21:24:28.810Z"
   },
   {
    "duration": 11,
    "start_time": "2022-11-15T21:24:28.827Z"
   },
   {
    "duration": 13,
    "start_time": "2022-11-15T21:24:28.840Z"
   },
   {
    "duration": 42,
    "start_time": "2022-11-15T21:24:28.854Z"
   },
   {
    "duration": 960,
    "start_time": "2022-11-15T21:24:28.898Z"
   },
   {
    "duration": 578,
    "start_time": "2022-11-15T21:24:29.860Z"
   },
   {
    "duration": 7,
    "start_time": "2022-11-15T21:24:30.442Z"
   },
   {
    "duration": 23,
    "start_time": "2022-11-15T21:24:30.450Z"
   },
   {
    "duration": 27,
    "start_time": "2022-11-15T21:24:30.475Z"
   },
   {
    "duration": 58,
    "start_time": "2022-11-15T21:24:30.504Z"
   },
   {
    "duration": 11,
    "start_time": "2022-11-15T21:24:30.564Z"
   },
   {
    "duration": 126,
    "start_time": "2022-11-15T21:24:30.577Z"
   },
   {
    "duration": 0,
    "start_time": "2022-11-15T21:24:30.705Z"
   },
   {
    "duration": 0,
    "start_time": "2022-11-15T21:24:30.706Z"
   },
   {
    "duration": 0,
    "start_time": "2022-11-15T21:24:30.707Z"
   },
   {
    "duration": 0,
    "start_time": "2022-11-15T21:24:30.708Z"
   },
   {
    "duration": 0,
    "start_time": "2022-11-15T21:24:30.709Z"
   },
   {
    "duration": 0,
    "start_time": "2022-11-15T21:24:30.711Z"
   },
   {
    "duration": 0,
    "start_time": "2022-11-15T21:24:30.712Z"
   },
   {
    "duration": 0,
    "start_time": "2022-11-15T21:24:30.713Z"
   },
   {
    "duration": 0,
    "start_time": "2022-11-15T21:24:30.715Z"
   },
   {
    "duration": 6,
    "start_time": "2022-11-15T21:28:20.016Z"
   },
   {
    "duration": 6,
    "start_time": "2022-11-15T21:28:21.214Z"
   },
   {
    "duration": 4,
    "start_time": "2022-11-15T21:28:21.445Z"
   },
   {
    "duration": 7,
    "start_time": "2022-11-15T21:28:21.770Z"
   },
   {
    "duration": 5,
    "start_time": "2022-11-15T21:28:23.760Z"
   },
   {
    "duration": 16,
    "start_time": "2022-11-15T21:28:23.963Z"
   },
   {
    "duration": 3,
    "start_time": "2022-11-15T21:28:28.147Z"
   },
   {
    "duration": 53,
    "start_time": "2022-11-15T21:28:28.152Z"
   },
   {
    "duration": 756,
    "start_time": "2022-11-15T21:28:28.703Z"
   },
   {
    "duration": 22,
    "start_time": "2022-11-15T21:28:31.383Z"
   },
   {
    "duration": 18,
    "start_time": "2022-11-15T21:28:52.459Z"
   },
   {
    "duration": 25,
    "start_time": "2022-11-15T21:32:40.882Z"
   },
   {
    "duration": 12,
    "start_time": "2022-11-15T21:32:42.406Z"
   },
   {
    "duration": 13,
    "start_time": "2022-11-15T21:33:08.487Z"
   },
   {
    "duration": 6,
    "start_time": "2022-11-15T21:33:24.170Z"
   },
   {
    "duration": 5,
    "start_time": "2022-11-15T21:33:44.137Z"
   },
   {
    "duration": 6,
    "start_time": "2022-11-15T21:33:44.905Z"
   },
   {
    "duration": 4,
    "start_time": "2022-11-15T21:33:45.471Z"
   },
   {
    "duration": 6,
    "start_time": "2022-11-15T21:33:45.914Z"
   },
   {
    "duration": 4,
    "start_time": "2022-11-15T21:33:46.443Z"
   },
   {
    "duration": 19,
    "start_time": "2022-11-15T21:33:47.902Z"
   },
   {
    "duration": 3,
    "start_time": "2022-11-15T21:33:52.590Z"
   },
   {
    "duration": 92,
    "start_time": "2022-11-15T21:33:54.109Z"
   },
   {
    "duration": 733,
    "start_time": "2022-11-15T21:33:56.043Z"
   },
   {
    "duration": 22,
    "start_time": "2022-11-15T21:33:58.728Z"
   },
   {
    "duration": 20,
    "start_time": "2022-11-15T21:34:09.943Z"
   },
   {
    "duration": 146,
    "start_time": "2022-11-15T21:34:34.397Z"
   },
   {
    "duration": 15,
    "start_time": "2022-11-15T21:34:37.914Z"
   },
   {
    "duration": 96,
    "start_time": "2022-11-15T21:34:44.210Z"
   },
   {
    "duration": 112,
    "start_time": "2022-11-15T21:34:49.889Z"
   },
   {
    "duration": 102,
    "start_time": "2022-11-15T21:34:50.149Z"
   },
   {
    "duration": 142,
    "start_time": "2022-11-15T21:34:55.468Z"
   },
   {
    "duration": 143,
    "start_time": "2022-11-15T21:34:58.915Z"
   },
   {
    "duration": 1401,
    "start_time": "2022-11-15T21:35:02.113Z"
   },
   {
    "duration": 223,
    "start_time": "2022-11-15T21:35:07.929Z"
   },
   {
    "duration": 140,
    "start_time": "2022-11-15T21:35:14.445Z"
   },
   {
    "duration": 264,
    "start_time": "2022-11-15T21:35:19.738Z"
   },
   {
    "duration": 104,
    "start_time": "2022-11-15T21:35:25.793Z"
   },
   {
    "duration": 844,
    "start_time": "2022-11-15T21:35:49.559Z"
   },
   {
    "duration": 932,
    "start_time": "2022-11-15T21:36:27.192Z"
   },
   {
    "duration": 1017,
    "start_time": "2022-11-15T21:36:40.457Z"
   },
   {
    "duration": 934,
    "start_time": "2022-11-15T21:36:51.171Z"
   },
   {
    "duration": 1024,
    "start_time": "2022-11-15T21:36:59.559Z"
   },
   {
    "duration": 109,
    "start_time": "2022-11-15T21:37:11.781Z"
   },
   {
    "duration": 109,
    "start_time": "2022-11-15T21:37:16.804Z"
   },
   {
    "duration": 67,
    "start_time": "2022-11-15T21:37:23.019Z"
   },
   {
    "duration": 496,
    "start_time": "2022-11-15T21:37:27.415Z"
   },
   {
    "duration": 771,
    "start_time": "2022-11-15T21:37:32.842Z"
   },
   {
    "duration": 935,
    "start_time": "2022-11-15T21:37:39.526Z"
   },
   {
    "duration": 948,
    "start_time": "2022-11-15T21:37:45.445Z"
   },
   {
    "duration": 6,
    "start_time": "2022-11-15T21:40:38.725Z"
   },
   {
    "duration": 6,
    "start_time": "2022-11-15T21:40:39.663Z"
   },
   {
    "duration": 5,
    "start_time": "2022-11-15T21:40:40.035Z"
   },
   {
    "duration": 7,
    "start_time": "2022-11-15T21:40:40.287Z"
   },
   {
    "duration": 4,
    "start_time": "2022-11-15T21:40:40.568Z"
   },
   {
    "duration": 19,
    "start_time": "2022-11-15T21:40:40.899Z"
   },
   {
    "duration": 3,
    "start_time": "2022-11-15T21:40:48.915Z"
   },
   {
    "duration": 67,
    "start_time": "2022-11-15T21:40:49.335Z"
   },
   {
    "duration": 910,
    "start_time": "2022-11-15T21:40:50.266Z"
   },
   {
    "duration": 27,
    "start_time": "2022-11-15T21:40:51.178Z"
   },
   {
    "duration": 285,
    "start_time": "2022-11-15T21:41:02.496Z"
   },
   {
    "duration": 878,
    "start_time": "2022-11-15T21:41:08.894Z"
   },
   {
    "duration": 833,
    "start_time": "2022-11-15T21:41:22.073Z"
   },
   {
    "duration": 810,
    "start_time": "2022-11-15T21:41:30.202Z"
   },
   {
    "duration": 825,
    "start_time": "2022-11-15T21:41:36.018Z"
   },
   {
    "duration": 21,
    "start_time": "2022-11-15T21:41:43.880Z"
   },
   {
    "duration": 671,
    "start_time": "2022-11-15T21:41:48.251Z"
   },
   {
    "duration": 649,
    "start_time": "2022-11-15T21:41:54.774Z"
   },
   {
    "duration": 626,
    "start_time": "2022-11-15T21:45:03.260Z"
   },
   {
    "duration": 730,
    "start_time": "2022-11-15T21:45:12.188Z"
   },
   {
    "duration": 708,
    "start_time": "2022-11-15T21:45:18.151Z"
   },
   {
    "duration": 89,
    "start_time": "2022-11-15T21:45:25.528Z"
   },
   {
    "duration": 1402,
    "start_time": "2022-11-15T21:45:31.240Z"
   },
   {
    "duration": 2093,
    "start_time": "2022-11-15T21:45:42.099Z"
   },
   {
    "duration": 2117,
    "start_time": "2022-11-15T21:45:50.333Z"
   },
   {
    "duration": 2389,
    "start_time": "2022-11-15T21:45:56.576Z"
   },
   {
    "duration": 1081,
    "start_time": "2022-11-15T21:46:04.788Z"
   },
   {
    "duration": 14,
    "start_time": "2022-11-15T21:49:12.335Z"
   },
   {
    "duration": 712,
    "start_time": "2022-11-15T21:49:26.853Z"
   },
   {
    "duration": 28,
    "start_time": "2022-11-15T21:49:45.195Z"
   },
   {
    "duration": 25,
    "start_time": "2022-11-15T21:50:07.706Z"
   },
   {
    "duration": 26,
    "start_time": "2022-11-15T21:50:37.770Z"
   },
   {
    "duration": 6,
    "start_time": "2022-11-15T21:50:58.542Z"
   },
   {
    "duration": 6,
    "start_time": "2022-11-15T21:50:59.776Z"
   },
   {
    "duration": 4,
    "start_time": "2022-11-15T21:51:00.111Z"
   },
   {
    "duration": 6,
    "start_time": "2022-11-15T21:51:01.033Z"
   },
   {
    "duration": 4,
    "start_time": "2022-11-15T21:51:01.312Z"
   },
   {
    "duration": 19,
    "start_time": "2022-11-15T21:51:03.169Z"
   },
   {
    "duration": 3,
    "start_time": "2022-11-15T21:51:09.535Z"
   },
   {
    "duration": 41,
    "start_time": "2022-11-15T21:51:10.862Z"
   },
   {
    "duration": 1102,
    "start_time": "2022-11-15T21:51:12.516Z"
   },
   {
    "duration": 24,
    "start_time": "2022-11-15T21:51:27.989Z"
   },
   {
    "duration": 1225,
    "start_time": "2022-11-15T21:51:33.864Z"
   },
   {
    "duration": 117,
    "start_time": "2022-11-15T21:51:46.145Z"
   },
   {
    "duration": 25,
    "start_time": "2022-11-15T21:51:51.637Z"
   },
   {
    "duration": 116,
    "start_time": "2022-11-15T21:51:54.249Z"
   },
   {
    "duration": 130,
    "start_time": "2022-11-15T21:52:00.286Z"
   },
   {
    "duration": 113,
    "start_time": "2022-11-15T21:52:04.032Z"
   },
   {
    "duration": 97,
    "start_time": "2022-11-15T21:52:07.666Z"
   },
   {
    "duration": 89,
    "start_time": "2022-11-15T21:52:12.522Z"
   },
   {
    "duration": 88,
    "start_time": "2022-11-15T21:52:17.506Z"
   },
   {
    "duration": 13433,
    "start_time": "2022-11-15T21:53:05.843Z"
   },
   {
    "duration": 13679,
    "start_time": "2022-11-15T21:54:27.726Z"
   },
   {
    "duration": 272363,
    "start_time": "2022-11-15T22:05:18.961Z"
   },
   {
    "duration": 1725,
    "start_time": "2022-11-16T08:45:11.507Z"
   },
   {
    "duration": 80,
    "start_time": "2022-11-16T08:45:16.968Z"
   },
   {
    "duration": 28,
    "start_time": "2022-11-16T08:45:17.767Z"
   },
   {
    "duration": 21,
    "start_time": "2022-11-16T08:45:19.287Z"
   },
   {
    "duration": 43,
    "start_time": "2022-11-16T08:45:20.767Z"
   },
   {
    "duration": 3,
    "start_time": "2022-11-16T08:46:19.201Z"
   },
   {
    "duration": 37,
    "start_time": "2022-11-16T08:46:19.759Z"
   },
   {
    "duration": 15,
    "start_time": "2022-11-16T08:46:19.798Z"
   },
   {
    "duration": 14,
    "start_time": "2022-11-16T08:46:19.814Z"
   },
   {
    "duration": 47,
    "start_time": "2022-11-16T08:46:19.860Z"
   },
   {
    "duration": 10,
    "start_time": "2022-11-16T08:46:20.068Z"
   },
   {
    "duration": 6,
    "start_time": "2022-11-16T08:46:20.228Z"
   },
   {
    "duration": 18,
    "start_time": "2022-11-16T08:46:20.379Z"
   },
   {
    "duration": 20,
    "start_time": "2022-11-16T08:46:20.568Z"
   },
   {
    "duration": 20,
    "start_time": "2022-11-16T08:46:20.740Z"
   },
   {
    "duration": 28,
    "start_time": "2022-11-16T08:46:20.928Z"
   },
   {
    "duration": 1099,
    "start_time": "2022-11-16T08:46:21.100Z"
   },
   {
    "duration": 539,
    "start_time": "2022-11-16T08:46:22.201Z"
   },
   {
    "duration": 6,
    "start_time": "2022-11-16T08:46:22.742Z"
   },
   {
    "duration": 8,
    "start_time": "2022-11-16T08:46:22.750Z"
   },
   {
    "duration": 21,
    "start_time": "2022-11-16T08:46:22.759Z"
   },
   {
    "duration": 43,
    "start_time": "2022-11-16T08:46:22.782Z"
   },
   {
    "duration": 9,
    "start_time": "2022-11-16T08:46:22.826Z"
   },
   {
    "duration": 7,
    "start_time": "2022-11-16T08:46:23.047Z"
   },
   {
    "duration": 5,
    "start_time": "2022-11-16T08:46:23.648Z"
   },
   {
    "duration": 7,
    "start_time": "2022-11-16T08:46:25.667Z"
   },
   {
    "duration": 4,
    "start_time": "2022-11-16T08:46:26.448Z"
   },
   {
    "duration": 22,
    "start_time": "2022-11-16T08:46:28.239Z"
   },
   {
    "duration": 3,
    "start_time": "2022-11-16T08:47:07.127Z"
   },
   {
    "duration": 212,
    "start_time": "2022-11-16T08:47:07.467Z"
   },
   {
    "duration": 293218,
    "start_time": "2022-11-16T08:47:07.779Z"
   },
   {
    "duration": 31,
    "start_time": "2022-11-16T08:52:00.999Z"
   },
   {
    "duration": 4,
    "start_time": "2022-11-16T09:08:30.821Z"
   },
   {
    "duration": 35,
    "start_time": "2022-11-16T09:08:31.125Z"
   },
   {
    "duration": 14,
    "start_time": "2022-11-16T09:08:31.490Z"
   },
   {
    "duration": 13,
    "start_time": "2022-11-16T09:08:31.824Z"
   },
   {
    "duration": 41,
    "start_time": "2022-11-16T09:08:32.135Z"
   },
   {
    "duration": 6,
    "start_time": "2022-11-16T09:08:32.430Z"
   },
   {
    "duration": 5,
    "start_time": "2022-11-16T09:08:32.681Z"
   },
   {
    "duration": 13,
    "start_time": "2022-11-16T09:08:32.999Z"
   },
   {
    "duration": 13,
    "start_time": "2022-11-16T09:08:33.261Z"
   },
   {
    "duration": 14,
    "start_time": "2022-11-16T09:08:33.549Z"
   },
   {
    "duration": 21,
    "start_time": "2022-11-16T09:08:33.869Z"
   },
   {
    "duration": 1049,
    "start_time": "2022-11-16T09:08:34.350Z"
   },
   {
    "duration": 578,
    "start_time": "2022-11-16T09:08:35.402Z"
   },
   {
    "duration": 7,
    "start_time": "2022-11-16T09:08:35.982Z"
   },
   {
    "duration": 4,
    "start_time": "2022-11-16T09:08:36.453Z"
   },
   {
    "duration": 6,
    "start_time": "2022-11-16T09:08:36.943Z"
   },
   {
    "duration": 27,
    "start_time": "2022-11-16T09:08:39.202Z"
   },
   {
    "duration": 5,
    "start_time": "2022-11-16T09:08:39.858Z"
   },
   {
    "duration": 7,
    "start_time": "2022-11-16T09:08:40.318Z"
   },
   {
    "duration": 4,
    "start_time": "2022-11-16T09:08:40.913Z"
   },
   {
    "duration": 6,
    "start_time": "2022-11-16T09:08:41.337Z"
   },
   {
    "duration": 4,
    "start_time": "2022-11-16T09:08:41.691Z"
   },
   {
    "duration": 19,
    "start_time": "2022-11-16T09:08:42.135Z"
   },
   {
    "duration": 3,
    "start_time": "2022-11-16T09:08:42.551Z"
   },
   {
    "duration": 111,
    "start_time": "2022-11-16T09:08:43.072Z"
   },
   {
    "duration": 913,
    "start_time": "2022-11-16T13:44:41.597Z"
   },
   {
    "duration": 81,
    "start_time": "2022-11-16T13:45:23.346Z"
   },
   {
    "duration": 22,
    "start_time": "2022-11-16T13:45:23.855Z"
   },
   {
    "duration": 15,
    "start_time": "2022-11-16T13:45:24.505Z"
   },
   {
    "duration": 42,
    "start_time": "2022-11-16T13:45:25.065Z"
   },
   {
    "duration": 8,
    "start_time": "2022-11-16T13:45:25.404Z"
   },
   {
    "duration": 7,
    "start_time": "2022-11-16T13:45:25.826Z"
   },
   {
    "duration": 14,
    "start_time": "2022-11-16T13:45:26.415Z"
   },
   {
    "duration": 15,
    "start_time": "2022-11-16T13:45:26.676Z"
   },
   {
    "duration": 16,
    "start_time": "2022-11-16T13:45:26.981Z"
   },
   {
    "duration": 21,
    "start_time": "2022-11-16T13:45:27.240Z"
   },
   {
    "duration": 1159,
    "start_time": "2022-11-16T13:45:27.813Z"
   },
   {
    "duration": 545,
    "start_time": "2022-11-16T13:45:29.971Z"
   },
   {
    "duration": 7,
    "start_time": "2022-11-16T13:45:31.841Z"
   },
   {
    "duration": 5,
    "start_time": "2022-11-16T13:45:34.827Z"
   },
   {
    "duration": 5,
    "start_time": "2022-11-16T13:45:39.384Z"
   },
   {
    "duration": 77,
    "start_time": "2022-11-16T13:46:34.421Z"
   },
   {
    "duration": 39,
    "start_time": "2022-11-16T13:46:39.089Z"
   },
   {
    "duration": 25,
    "start_time": "2022-11-16T13:46:56.748Z"
   },
   {
    "duration": 127,
    "start_time": "2022-11-16T13:47:01.674Z"
   },
   {
    "duration": 24,
    "start_time": "2022-11-16T13:47:01.982Z"
   },
   {
    "duration": 4,
    "start_time": "2022-11-16T13:47:07.591Z"
   },
   {
    "duration": 36,
    "start_time": "2022-11-16T13:47:07.682Z"
   },
   {
    "duration": 17,
    "start_time": "2022-11-16T13:47:07.833Z"
   },
   {
    "duration": 14,
    "start_time": "2022-11-16T13:47:07.949Z"
   },
   {
    "duration": 44,
    "start_time": "2022-11-16T13:47:08.077Z"
   },
   {
    "duration": 8,
    "start_time": "2022-11-16T13:47:11.816Z"
   },
   {
    "duration": 9,
    "start_time": "2022-11-16T13:47:11.826Z"
   },
   {
    "duration": 14,
    "start_time": "2022-11-16T13:47:11.837Z"
   },
   {
    "duration": 17,
    "start_time": "2022-11-16T13:47:11.853Z"
   },
   {
    "duration": 15,
    "start_time": "2022-11-16T13:47:12.122Z"
   },
   {
    "duration": 20,
    "start_time": "2022-11-16T13:47:12.139Z"
   },
   {
    "duration": 1072,
    "start_time": "2022-11-16T13:47:12.161Z"
   },
   {
    "duration": 568,
    "start_time": "2022-11-16T13:47:13.234Z"
   },
   {
    "duration": 6,
    "start_time": "2022-11-16T13:47:13.805Z"
   },
   {
    "duration": 24,
    "start_time": "2022-11-16T13:47:13.813Z"
   },
   {
    "duration": 19,
    "start_time": "2022-11-16T13:47:13.839Z"
   },
   {
    "duration": 22,
    "start_time": "2022-11-16T13:47:14.504Z"
   },
   {
    "duration": 5,
    "start_time": "2022-11-16T13:47:36.543Z"
   },
   {
    "duration": 3,
    "start_time": "2022-11-16T13:48:28.543Z"
   },
   {
    "duration": 14,
    "start_time": "2022-11-16T13:48:39.448Z"
   },
   {
    "duration": 20,
    "start_time": "2022-11-16T13:50:16.289Z"
   },
   {
    "duration": 19,
    "start_time": "2022-11-16T13:50:24.922Z"
   },
   {
    "duration": 29,
    "start_time": "2022-11-16T13:50:28.635Z"
   },
   {
    "duration": 29,
    "start_time": "2022-11-16T13:51:38.282Z"
   },
   {
    "duration": 53,
    "start_time": "2022-11-16T13:51:57.452Z"
   },
   {
    "duration": 55,
    "start_time": "2022-11-16T13:53:30.347Z"
   },
   {
    "duration": 6,
    "start_time": "2022-11-16T13:54:52.055Z"
   },
   {
    "duration": 53,
    "start_time": "2022-11-16T13:54:52.719Z"
   },
   {
    "duration": 13,
    "start_time": "2022-11-16T13:55:48.418Z"
   },
   {
    "duration": 11,
    "start_time": "2022-11-16T13:55:51.295Z"
   },
   {
    "duration": 12,
    "start_time": "2022-11-16T13:56:15.760Z"
   },
   {
    "duration": 1508,
    "start_time": "2022-11-16T13:56:23.152Z"
   },
   {
    "duration": 39,
    "start_time": "2022-11-16T13:56:24.662Z"
   },
   {
    "duration": 20,
    "start_time": "2022-11-16T13:56:24.703Z"
   },
   {
    "duration": 14,
    "start_time": "2022-11-16T13:56:24.725Z"
   },
   {
    "duration": 48,
    "start_time": "2022-11-16T13:56:24.741Z"
   },
   {
    "duration": 9,
    "start_time": "2022-11-16T13:56:24.790Z"
   },
   {
    "duration": 8,
    "start_time": "2022-11-16T13:56:24.801Z"
   },
   {
    "duration": 37,
    "start_time": "2022-11-16T13:56:24.810Z"
   },
   {
    "duration": 14,
    "start_time": "2022-11-16T13:56:24.849Z"
   },
   {
    "duration": 16,
    "start_time": "2022-11-16T13:56:24.864Z"
   },
   {
    "duration": 21,
    "start_time": "2022-11-16T13:56:24.882Z"
   },
   {
    "duration": 1133,
    "start_time": "2022-11-16T13:56:24.904Z"
   },
   {
    "duration": 571,
    "start_time": "2022-11-16T13:56:26.039Z"
   },
   {
    "duration": 7,
    "start_time": "2022-11-16T13:56:26.613Z"
   },
   {
    "duration": 17,
    "start_time": "2022-11-16T13:56:26.621Z"
   },
   {
    "duration": 5,
    "start_time": "2022-11-16T13:56:26.640Z"
   },
   {
    "duration": 12,
    "start_time": "2022-11-16T13:56:26.647Z"
   },
   {
    "duration": 51,
    "start_time": "2022-11-16T13:56:26.661Z"
   },
   {
    "duration": 139,
    "start_time": "2022-11-16T13:56:26.737Z"
   },
   {
    "duration": 0,
    "start_time": "2022-11-16T13:56:26.878Z"
   },
   {
    "duration": 0,
    "start_time": "2022-11-16T13:56:26.879Z"
   },
   {
    "duration": 0,
    "start_time": "2022-11-16T13:56:26.880Z"
   },
   {
    "duration": 0,
    "start_time": "2022-11-16T13:56:26.881Z"
   },
   {
    "duration": 0,
    "start_time": "2022-11-16T13:56:26.882Z"
   },
   {
    "duration": 0,
    "start_time": "2022-11-16T13:56:26.884Z"
   },
   {
    "duration": 0,
    "start_time": "2022-11-16T13:56:26.885Z"
   },
   {
    "duration": 0,
    "start_time": "2022-11-16T13:56:26.887Z"
   },
   {
    "duration": 0,
    "start_time": "2022-11-16T13:56:26.888Z"
   },
   {
    "duration": 21,
    "start_time": "2022-11-16T13:57:08.958Z"
   },
   {
    "duration": 28,
    "start_time": "2022-11-16T13:57:09.547Z"
   },
   {
    "duration": 5,
    "start_time": "2022-11-16T13:58:22.976Z"
   },
   {
    "duration": 3,
    "start_time": "2022-11-16T13:58:51.173Z"
   },
   {
    "duration": 3,
    "start_time": "2022-11-16T13:58:53.855Z"
   },
   {
    "duration": 74,
    "start_time": "2022-11-16T13:59:11.058Z"
   },
   {
    "duration": 65,
    "start_time": "2022-11-16T13:59:13.979Z"
   },
   {
    "duration": 12,
    "start_time": "2022-11-16T13:59:55.606Z"
   },
   {
    "duration": 5,
    "start_time": "2022-11-16T14:00:01.887Z"
   },
   {
    "duration": 3,
    "start_time": "2022-11-16T14:00:20.671Z"
   },
   {
    "duration": 13,
    "start_time": "2022-11-16T14:00:38.785Z"
   },
   {
    "duration": 6,
    "start_time": "2022-11-16T14:00:46.417Z"
   },
   {
    "duration": 6,
    "start_time": "2022-11-16T14:00:52.729Z"
   },
   {
    "duration": 4,
    "start_time": "2022-11-16T14:00:52.793Z"
   },
   {
    "duration": 6,
    "start_time": "2022-11-16T14:00:53.591Z"
   },
   {
    "duration": 6,
    "start_time": "2022-11-16T14:00:54.009Z"
   },
   {
    "duration": 19,
    "start_time": "2022-11-16T14:00:54.775Z"
   },
   {
    "duration": 3,
    "start_time": "2022-11-16T14:00:58.536Z"
   },
   {
    "duration": 168,
    "start_time": "2022-11-16T14:00:58.874Z"
   },
   {
    "duration": 13,
    "start_time": "2022-11-16T14:01:18.421Z"
   },
   {
    "duration": 214,
    "start_time": "2022-11-16T14:01:30.422Z"
   },
   {
    "duration": 4,
    "start_time": "2022-11-16T14:01:52.479Z"
   },
   {
    "duration": 41,
    "start_time": "2022-11-16T14:01:52.485Z"
   },
   {
    "duration": 15,
    "start_time": "2022-11-16T14:01:52.528Z"
   },
   {
    "duration": 17,
    "start_time": "2022-11-16T14:01:52.546Z"
   },
   {
    "duration": 42,
    "start_time": "2022-11-16T14:01:52.565Z"
   },
   {
    "duration": 6,
    "start_time": "2022-11-16T14:01:52.609Z"
   },
   {
    "duration": 5,
    "start_time": "2022-11-16T14:01:52.638Z"
   },
   {
    "duration": 17,
    "start_time": "2022-11-16T14:01:52.645Z"
   },
   {
    "duration": 12,
    "start_time": "2022-11-16T14:01:52.664Z"
   },
   {
    "duration": 15,
    "start_time": "2022-11-16T14:01:52.679Z"
   },
   {
    "duration": 50,
    "start_time": "2022-11-16T14:01:52.696Z"
   },
   {
    "duration": 1277,
    "start_time": "2022-11-16T14:01:52.747Z"
   },
   {
    "duration": 579,
    "start_time": "2022-11-16T14:01:54.026Z"
   },
   {
    "duration": 7,
    "start_time": "2022-11-16T14:01:54.607Z"
   },
   {
    "duration": 22,
    "start_time": "2022-11-16T14:01:54.617Z"
   },
   {
    "duration": 6,
    "start_time": "2022-11-16T14:01:54.641Z"
   },
   {
    "duration": 29,
    "start_time": "2022-11-16T14:01:54.648Z"
   },
   {
    "duration": 70,
    "start_time": "2022-11-16T14:01:54.679Z"
   },
   {
    "duration": 5,
    "start_time": "2022-11-16T14:01:54.750Z"
   },
   {
    "duration": 7,
    "start_time": "2022-11-16T14:01:54.756Z"
   },
   {
    "duration": 7,
    "start_time": "2022-11-16T14:01:54.764Z"
   },
   {
    "duration": 5,
    "start_time": "2022-11-16T14:01:54.773Z"
   },
   {
    "duration": 9,
    "start_time": "2022-11-16T14:01:54.779Z"
   },
   {
    "duration": 8,
    "start_time": "2022-11-16T14:01:54.790Z"
   },
   {
    "duration": 7,
    "start_time": "2022-11-16T14:01:54.800Z"
   },
   {
    "duration": 29,
    "start_time": "2022-11-16T14:01:54.808Z"
   },
   {
    "duration": 5,
    "start_time": "2022-11-16T14:01:54.840Z"
   },
   {
    "duration": 19,
    "start_time": "2022-11-16T14:01:54.848Z"
   },
   {
    "duration": 6,
    "start_time": "2022-11-16T14:01:54.869Z"
   },
   {
    "duration": 168,
    "start_time": "2022-11-16T14:01:54.876Z"
   },
   {
    "duration": 176790,
    "start_time": "2022-11-16T14:01:55.047Z"
   },
   {
    "duration": 40,
    "start_time": "2022-11-16T14:04:51.839Z"
   },
   {
    "duration": 3,
    "start_time": "2022-11-16T14:06:01.620Z"
   },
   {
    "duration": 4,
    "start_time": "2022-11-16T14:06:02.227Z"
   },
   {
    "duration": 4,
    "start_time": "2022-11-16T14:06:02.883Z"
   },
   {
    "duration": 6,
    "start_time": "2022-11-16T14:06:03.376Z"
   },
   {
    "duration": 8,
    "start_time": "2022-11-16T14:06:03.779Z"
   },
   {
    "duration": 5,
    "start_time": "2022-11-16T14:06:04.026Z"
   },
   {
    "duration": 6,
    "start_time": "2022-11-16T14:06:04.551Z"
   },
   {
    "duration": 4,
    "start_time": "2022-11-16T14:06:05.991Z"
   },
   {
    "duration": 21,
    "start_time": "2022-11-16T14:06:06.451Z"
   },
   {
    "duration": 3,
    "start_time": "2022-11-16T14:06:08.229Z"
   },
   {
    "duration": 96,
    "start_time": "2022-11-16T14:06:08.956Z"
   },
   {
    "duration": 305835,
    "start_time": "2022-11-16T14:06:17.702Z"
   },
   {
    "duration": 31,
    "start_time": "2022-11-16T14:11:23.539Z"
   },
   {
    "duration": 78,
    "start_time": "2022-11-16T14:13:26.679Z"
   },
   {
    "duration": 10,
    "start_time": "2022-11-16T14:14:16.523Z"
   },
   {
    "duration": 6,
    "start_time": "2022-11-16T14:14:37.086Z"
   },
   {
    "duration": 7,
    "start_time": "2022-11-16T14:14:38.184Z"
   },
   {
    "duration": 5,
    "start_time": "2022-11-16T14:14:38.601Z"
   },
   {
    "duration": 9,
    "start_time": "2022-11-16T14:14:38.957Z"
   },
   {
    "duration": 5,
    "start_time": "2022-11-16T14:14:39.329Z"
   },
   {
    "duration": 24,
    "start_time": "2022-11-16T14:14:39.788Z"
   },
   {
    "duration": 3,
    "start_time": "2022-11-16T14:14:40.309Z"
   },
   {
    "duration": 90,
    "start_time": "2022-11-16T14:14:40.751Z"
   },
   {
    "duration": 317614,
    "start_time": "2022-11-16T14:14:43.923Z"
   },
   {
    "duration": 34,
    "start_time": "2022-11-16T14:21:20.851Z"
   },
   {
    "duration": 30,
    "start_time": "2022-11-16T14:21:27.414Z"
   },
   {
    "duration": 3,
    "start_time": "2022-11-16T14:24:06.956Z"
   },
   {
    "duration": 5,
    "start_time": "2022-11-16T14:24:07.586Z"
   },
   {
    "duration": 6,
    "start_time": "2022-11-16T14:24:07.940Z"
   },
   {
    "duration": 5,
    "start_time": "2022-11-16T14:24:08.185Z"
   },
   {
    "duration": 6,
    "start_time": "2022-11-16T14:24:08.420Z"
   },
   {
    "duration": 7,
    "start_time": "2022-11-16T14:24:08.854Z"
   },
   {
    "duration": 17,
    "start_time": "2022-11-16T14:24:09.775Z"
   },
   {
    "duration": 5,
    "start_time": "2022-11-16T14:24:11.995Z"
   },
   {
    "duration": 55,
    "start_time": "2022-11-16T14:24:14.084Z"
   },
   {
    "duration": 321762,
    "start_time": "2022-11-16T14:24:18.084Z"
   },
   {
    "duration": 1493,
    "start_time": "2022-11-16T14:34:25.920Z"
   },
   {
    "duration": 40,
    "start_time": "2022-11-16T14:34:27.415Z"
   },
   {
    "duration": 20,
    "start_time": "2022-11-16T14:34:27.457Z"
   },
   {
    "duration": 15,
    "start_time": "2022-11-16T14:34:27.479Z"
   },
   {
    "duration": 64,
    "start_time": "2022-11-16T14:34:27.495Z"
   },
   {
    "duration": 8,
    "start_time": "2022-11-16T14:34:27.562Z"
   },
   {
    "duration": 13,
    "start_time": "2022-11-16T14:34:27.571Z"
   },
   {
    "duration": 13,
    "start_time": "2022-11-16T14:34:27.586Z"
   },
   {
    "duration": 37,
    "start_time": "2022-11-16T14:34:27.601Z"
   },
   {
    "duration": 15,
    "start_time": "2022-11-16T14:34:27.641Z"
   },
   {
    "duration": 1068,
    "start_time": "2022-11-16T14:34:27.658Z"
   },
   {
    "duration": 594,
    "start_time": "2022-11-16T14:34:28.728Z"
   },
   {
    "duration": 18,
    "start_time": "2022-11-16T14:34:29.324Z"
   },
   {
    "duration": 7,
    "start_time": "2022-11-16T14:34:29.344Z"
   },
   {
    "duration": 6,
    "start_time": "2022-11-16T14:34:29.353Z"
   },
   {
    "duration": 29,
    "start_time": "2022-11-16T14:34:29.361Z"
   },
   {
    "duration": 69,
    "start_time": "2022-11-16T14:34:29.391Z"
   },
   {
    "duration": 4,
    "start_time": "2022-11-16T14:34:29.462Z"
   },
   {
    "duration": 5,
    "start_time": "2022-11-16T14:34:29.468Z"
   },
   {
    "duration": 16,
    "start_time": "2022-11-16T14:34:29.475Z"
   },
   {
    "duration": 73,
    "start_time": "2022-11-16T14:34:29.493Z"
   },
   {
    "duration": 0,
    "start_time": "2022-11-16T14:34:29.569Z"
   },
   {
    "duration": 0,
    "start_time": "2022-11-16T14:34:29.570Z"
   },
   {
    "duration": 0,
    "start_time": "2022-11-16T14:34:29.572Z"
   },
   {
    "duration": 0,
    "start_time": "2022-11-16T14:34:29.573Z"
   },
   {
    "duration": 0,
    "start_time": "2022-11-16T14:34:29.575Z"
   },
   {
    "duration": 0,
    "start_time": "2022-11-16T14:34:29.576Z"
   },
   {
    "duration": 0,
    "start_time": "2022-11-16T14:34:29.578Z"
   },
   {
    "duration": 0,
    "start_time": "2022-11-16T14:34:29.579Z"
   },
   {
    "duration": 0,
    "start_time": "2022-11-16T14:34:29.580Z"
   },
   {
    "duration": 0,
    "start_time": "2022-11-16T14:34:29.582Z"
   },
   {
    "duration": 0,
    "start_time": "2022-11-16T14:34:29.584Z"
   },
   {
    "duration": 3,
    "start_time": "2022-11-16T14:34:50.237Z"
   },
   {
    "duration": 4,
    "start_time": "2022-11-16T14:34:51.017Z"
   },
   {
    "duration": 7,
    "start_time": "2022-11-16T14:34:51.584Z"
   },
   {
    "duration": 5,
    "start_time": "2022-11-16T14:34:51.994Z"
   },
   {
    "duration": 7,
    "start_time": "2022-11-16T14:34:52.507Z"
   },
   {
    "duration": 5,
    "start_time": "2022-11-16T14:34:52.836Z"
   },
   {
    "duration": 24,
    "start_time": "2022-11-16T14:34:53.110Z"
   },
   {
    "duration": 6,
    "start_time": "2022-11-16T14:34:53.833Z"
   },
   {
    "duration": 151,
    "start_time": "2022-11-16T14:34:54.187Z"
   },
   {
    "duration": 290754,
    "start_time": "2022-11-16T14:35:03.014Z"
   },
   {
    "duration": 41,
    "start_time": "2022-11-16T14:40:23.845Z"
   },
   {
    "duration": 79,
    "start_time": "2022-11-16T14:42:59.418Z"
   },
   {
    "duration": 76,
    "start_time": "2022-11-16T14:43:11.347Z"
   },
   {
    "duration": 102,
    "start_time": "2022-11-16T14:43:47.437Z"
   },
   {
    "duration": 137,
    "start_time": "2022-11-16T14:43:52.101Z"
   },
   {
    "duration": 117,
    "start_time": "2022-11-16T14:44:12.021Z"
   },
   {
    "duration": 114,
    "start_time": "2022-11-16T14:44:17.528Z"
   },
   {
    "duration": 101,
    "start_time": "2022-11-16T14:44:21.338Z"
   },
   {
    "duration": 75,
    "start_time": "2022-11-16T14:44:25.089Z"
   },
   {
    "duration": 62,
    "start_time": "2022-11-16T14:45:10.088Z"
   },
   {
    "duration": 59,
    "start_time": "2022-11-16T14:45:14.600Z"
   },
   {
    "duration": 63,
    "start_time": "2022-11-16T14:45:18.084Z"
   },
   {
    "duration": 100,
    "start_time": "2022-11-16T14:45:21.038Z"
   },
   {
    "duration": 152,
    "start_time": "2022-11-16T14:45:26.388Z"
   },
   {
    "duration": 60,
    "start_time": "2022-11-16T14:45:30.882Z"
   },
   {
    "duration": 62,
    "start_time": "2022-11-16T14:45:39.108Z"
   },
   {
    "duration": 60,
    "start_time": "2022-11-16T14:45:44.591Z"
   },
   {
    "duration": 62,
    "start_time": "2022-11-16T14:45:49.887Z"
   },
   {
    "duration": 127,
    "start_time": "2022-11-16T14:46:31.784Z"
   },
   {
    "duration": 63,
    "start_time": "2022-11-16T14:46:38.582Z"
   },
   {
    "duration": 14,
    "start_time": "2022-11-16T14:46:50.107Z"
   },
   {
    "duration": 15,
    "start_time": "2022-11-16T14:52:04.869Z"
   },
   {
    "duration": 62,
    "start_time": "2022-11-16T14:52:12.107Z"
   },
   {
    "duration": 10,
    "start_time": "2022-11-16T14:57:36.935Z"
   },
   {
    "duration": 11,
    "start_time": "2022-11-16T14:57:43.451Z"
   },
   {
    "duration": 4,
    "start_time": "2022-11-16T14:58:55.421Z"
   },
   {
    "duration": 3,
    "start_time": "2022-11-16T15:00:07.228Z"
   },
   {
    "duration": 10,
    "start_time": "2022-11-16T15:01:37.429Z"
   },
   {
    "duration": 10,
    "start_time": "2022-11-16T15:03:01.791Z"
   },
   {
    "duration": 9,
    "start_time": "2022-11-16T15:03:08.119Z"
   },
   {
    "duration": 21,
    "start_time": "2022-11-16T15:03:39.964Z"
   },
   {
    "duration": 24,
    "start_time": "2022-11-16T15:04:03.905Z"
   },
   {
    "duration": 23,
    "start_time": "2022-11-16T15:04:40.208Z"
   },
   {
    "duration": 21,
    "start_time": "2022-11-16T15:04:51.837Z"
   },
   {
    "duration": 5,
    "start_time": "2022-11-16T15:04:56.497Z"
   },
   {
    "duration": 5,
    "start_time": "2022-11-16T15:04:56.719Z"
   },
   {
    "duration": 5,
    "start_time": "2022-11-16T15:04:56.885Z"
   },
   {
    "duration": 8,
    "start_time": "2022-11-16T15:04:57.603Z"
   },
   {
    "duration": 6,
    "start_time": "2022-11-16T15:04:57.989Z"
   },
   {
    "duration": 25,
    "start_time": "2022-11-16T15:04:59.806Z"
   },
   {
    "duration": 25,
    "start_time": "2022-11-16T15:05:00.826Z"
   },
   {
    "duration": 3,
    "start_time": "2022-11-16T15:05:20.687Z"
   },
   {
    "duration": 5,
    "start_time": "2022-11-16T15:05:20.912Z"
   },
   {
    "duration": 6,
    "start_time": "2022-11-16T15:05:21.087Z"
   },
   {
    "duration": 4,
    "start_time": "2022-11-16T15:05:21.230Z"
   },
   {
    "duration": 6,
    "start_time": "2022-11-16T15:05:21.388Z"
   },
   {
    "duration": 5,
    "start_time": "2022-11-16T15:05:21.729Z"
   },
   {
    "duration": 24,
    "start_time": "2022-11-16T15:05:21.987Z"
   },
   {
    "duration": 35,
    "start_time": "2022-11-16T15:05:25.132Z"
   },
   {
    "duration": 3,
    "start_time": "2022-11-16T15:05:29.881Z"
   },
   {
    "duration": 23,
    "start_time": "2022-11-16T15:05:31.987Z"
   },
   {
    "duration": 275586,
    "start_time": "2022-11-16T15:05:42.986Z"
   },
   {
    "duration": 27,
    "start_time": "2022-11-16T15:11:34.955Z"
   },
   {
    "duration": 32,
    "start_time": "2022-11-16T15:11:46.711Z"
   },
   {
    "duration": 34,
    "start_time": "2022-11-16T15:11:51.743Z"
   },
   {
    "duration": 4,
    "start_time": "2022-11-16T15:11:57.835Z"
   },
   {
    "duration": 43,
    "start_time": "2022-11-16T15:11:57.898Z"
   },
   {
    "duration": 274867,
    "start_time": "2022-11-16T15:12:03.819Z"
   },
   {
    "duration": 26,
    "start_time": "2022-11-16T15:16:38.688Z"
   },
   {
    "duration": 20,
    "start_time": "2022-11-16T15:30:03.537Z"
   },
   {
    "duration": 25,
    "start_time": "2022-11-16T15:30:39.515Z"
   },
   {
    "duration": 52,
    "start_time": "2022-11-16T15:31:29.791Z"
   },
   {
    "duration": 52,
    "start_time": "2022-11-16T15:31:41.291Z"
   },
   {
    "duration": 273596,
    "start_time": "2022-11-16T15:34:16.292Z"
   },
   {
    "duration": 1594,
    "start_time": "2022-11-16T17:19:10.476Z"
   },
   {
    "duration": 88,
    "start_time": "2022-11-16T17:19:12.072Z"
   },
   {
    "duration": 20,
    "start_time": "2022-11-16T17:19:12.163Z"
   },
   {
    "duration": 16,
    "start_time": "2022-11-16T17:19:12.185Z"
   },
   {
    "duration": 41,
    "start_time": "2022-11-16T17:19:12.202Z"
   },
   {
    "duration": 7,
    "start_time": "2022-11-16T17:19:12.244Z"
   },
   {
    "duration": 7,
    "start_time": "2022-11-16T17:19:12.403Z"
   },
   {
    "duration": 13,
    "start_time": "2022-11-16T17:19:13.300Z"
   },
   {
    "duration": 12,
    "start_time": "2022-11-16T17:19:13.750Z"
   },
   {
    "duration": 14,
    "start_time": "2022-11-16T17:19:13.821Z"
   },
   {
    "duration": 1015,
    "start_time": "2022-11-16T17:19:15.381Z"
   },
   {
    "duration": 518,
    "start_time": "2022-11-16T17:19:17.125Z"
   },
   {
    "duration": 6,
    "start_time": "2022-11-16T17:19:18.444Z"
   },
   {
    "duration": 116,
    "start_time": "2022-11-16T17:20:18.112Z"
   },
   {
    "duration": 6,
    "start_time": "2022-11-16T17:20:28.702Z"
   },
   {
    "duration": 2528,
    "start_time": "2022-11-16T17:24:41.934Z"
   },
   {
    "duration": 37,
    "start_time": "2022-11-16T17:24:44.464Z"
   },
   {
    "duration": 17,
    "start_time": "2022-11-16T17:24:44.503Z"
   },
   {
    "duration": 12,
    "start_time": "2022-11-16T17:24:44.522Z"
   },
   {
    "duration": 37,
    "start_time": "2022-11-16T17:24:44.536Z"
   },
   {
    "duration": 31,
    "start_time": "2022-11-16T17:24:44.575Z"
   },
   {
    "duration": 8,
    "start_time": "2022-11-16T17:24:44.608Z"
   },
   {
    "duration": 13,
    "start_time": "2022-11-16T17:24:44.617Z"
   },
   {
    "duration": 11,
    "start_time": "2022-11-16T17:24:44.632Z"
   },
   {
    "duration": 21,
    "start_time": "2022-11-16T17:24:44.645Z"
   },
   {
    "duration": 1004,
    "start_time": "2022-11-16T17:24:44.667Z"
   },
   {
    "duration": 537,
    "start_time": "2022-11-16T17:24:45.673Z"
   },
   {
    "duration": 6,
    "start_time": "2022-11-16T17:24:46.212Z"
   },
   {
    "duration": 4,
    "start_time": "2022-11-16T17:30:50.571Z"
   },
   {
    "duration": 43,
    "start_time": "2022-11-16T17:30:50.576Z"
   },
   {
    "duration": 14,
    "start_time": "2022-11-16T17:30:50.621Z"
   },
   {
    "duration": 17,
    "start_time": "2022-11-16T17:30:50.636Z"
   },
   {
    "duration": 53,
    "start_time": "2022-11-16T17:30:50.654Z"
   },
   {
    "duration": 3,
    "start_time": "2022-11-16T17:31:18.967Z"
   },
   {
    "duration": 38,
    "start_time": "2022-11-16T17:31:20.250Z"
   },
   {
    "duration": 17,
    "start_time": "2022-11-16T17:31:26.281Z"
   },
   {
    "duration": 13,
    "start_time": "2022-11-16T17:31:30.909Z"
   },
   {
    "duration": 40,
    "start_time": "2022-11-16T17:31:38.303Z"
   },
   {
    "duration": 223,
    "start_time": "2022-11-16T17:31:39.906Z"
   },
   {
    "duration": 158,
    "start_time": "2022-11-16T17:35:56.064Z"
   },
   {
    "duration": 135,
    "start_time": "2022-11-16T17:37:01.605Z"
   },
   {
    "duration": 6,
    "start_time": "2022-11-16T17:37:05.489Z"
   },
   {
    "duration": 160,
    "start_time": "2022-11-16T17:37:08.152Z"
   },
   {
    "duration": 135,
    "start_time": "2022-11-16T17:37:15.771Z"
   },
   {
    "duration": 6,
    "start_time": "2022-11-16T17:37:25.532Z"
   },
   {
    "duration": 5,
    "start_time": "2022-11-16T17:40:45.975Z"
   },
   {
    "duration": 26,
    "start_time": "2022-11-16T17:40:46.170Z"
   },
   {
    "duration": 119,
    "start_time": "2022-11-16T17:40:46.416Z"
   },
   {
    "duration": 17,
    "start_time": "2022-11-16T17:40:55.976Z"
   },
   {
    "duration": 5,
    "start_time": "2022-11-16T17:40:56.155Z"
   },
   {
    "duration": 3,
    "start_time": "2022-11-16T17:40:56.835Z"
   },
   {
    "duration": 4,
    "start_time": "2022-11-16T17:40:57.298Z"
   },
   {
    "duration": 4,
    "start_time": "2022-11-16T17:40:57.492Z"
   },
   {
    "duration": 5,
    "start_time": "2022-11-16T17:40:57.715Z"
   },
   {
    "duration": 13,
    "start_time": "2022-11-16T17:40:57.897Z"
   },
   {
    "duration": 4,
    "start_time": "2022-11-16T17:40:58.069Z"
   },
   {
    "duration": 6,
    "start_time": "2022-11-16T17:40:58.211Z"
   },
   {
    "duration": 4,
    "start_time": "2022-11-16T17:40:58.373Z"
   },
   {
    "duration": 22,
    "start_time": "2022-11-16T17:40:58.551Z"
   },
   {
    "duration": 23,
    "start_time": "2022-11-16T17:40:58.797Z"
   },
   {
    "duration": 3,
    "start_time": "2022-11-16T17:40:59.881Z"
   },
   {
    "duration": 81,
    "start_time": "2022-11-16T17:41:00.226Z"
   },
   {
    "duration": 19,
    "start_time": "2022-11-16T17:43:47.526Z"
   },
   {
    "duration": 527,
    "start_time": "2022-11-16T17:44:24.341Z"
   },
   {
    "duration": 6,
    "start_time": "2022-11-16T17:44:50.948Z"
   },
   {
    "duration": 150,
    "start_time": "2022-11-16T17:44:51.975Z"
   },
   {
    "duration": 4,
    "start_time": "2022-11-16T17:44:54.760Z"
   },
   {
    "duration": 17,
    "start_time": "2022-11-16T17:45:06.651Z"
   },
   {
    "duration": 1432,
    "start_time": "2022-11-16T17:45:17.805Z"
   },
   {
    "duration": 38,
    "start_time": "2022-11-16T17:45:19.239Z"
   },
   {
    "duration": 19,
    "start_time": "2022-11-16T17:45:19.278Z"
   },
   {
    "duration": 13,
    "start_time": "2022-11-16T17:45:19.298Z"
   },
   {
    "duration": 36,
    "start_time": "2022-11-16T17:45:19.314Z"
   },
   {
    "duration": 7,
    "start_time": "2022-11-16T17:45:19.351Z"
   },
   {
    "duration": 11,
    "start_time": "2022-11-16T17:45:19.359Z"
   },
   {
    "duration": 36,
    "start_time": "2022-11-16T17:45:19.371Z"
   },
   {
    "duration": 13,
    "start_time": "2022-11-16T17:45:19.408Z"
   },
   {
    "duration": 932,
    "start_time": "2022-11-16T17:45:19.423Z"
   },
   {
    "duration": 562,
    "start_time": "2022-11-16T17:45:20.358Z"
   },
   {
    "duration": 6,
    "start_time": "2022-11-16T17:45:20.921Z"
   },
   {
    "duration": 153,
    "start_time": "2022-11-16T17:45:20.929Z"
   },
   {
    "duration": 4,
    "start_time": "2022-11-16T17:45:21.086Z"
   },
   {
    "duration": 13,
    "start_time": "2022-11-16T17:45:21.092Z"
   },
   {
    "duration": 32,
    "start_time": "2022-11-16T17:45:21.107Z"
   },
   {
    "duration": 43,
    "start_time": "2022-11-16T17:45:21.141Z"
   },
   {
    "duration": 18,
    "start_time": "2022-11-16T17:45:21.186Z"
   },
   {
    "duration": 3,
    "start_time": "2022-11-16T17:45:21.206Z"
   },
   {
    "duration": 6,
    "start_time": "2022-11-16T17:45:21.211Z"
   },
   {
    "duration": 5,
    "start_time": "2022-11-16T17:45:21.218Z"
   },
   {
    "duration": 100,
    "start_time": "2022-11-16T17:45:21.224Z"
   },
   {
    "duration": 9,
    "start_time": "2022-11-16T17:45:21.326Z"
   },
   {
    "duration": 7,
    "start_time": "2022-11-16T17:45:21.336Z"
   },
   {
    "duration": 7,
    "start_time": "2022-11-16T17:45:21.344Z"
   },
   {
    "duration": 6,
    "start_time": "2022-11-16T17:45:21.352Z"
   },
   {
    "duration": 27,
    "start_time": "2022-11-16T17:45:21.360Z"
   },
   {
    "duration": 37,
    "start_time": "2022-11-16T17:45:21.389Z"
   },
   {
    "duration": 2,
    "start_time": "2022-11-16T17:45:21.428Z"
   },
   {
    "duration": 174,
    "start_time": "2022-11-16T17:45:21.432Z"
   },
   {
    "duration": 253773,
    "start_time": "2022-11-16T17:45:21.607Z"
   },
   {
    "duration": 35,
    "start_time": "2022-11-16T17:49:35.382Z"
   },
   {
    "duration": 107,
    "start_time": "2022-11-16T17:53:43.816Z"
   },
   {
    "duration": 116,
    "start_time": "2022-11-16T17:54:48.602Z"
   },
   {
    "duration": 109,
    "start_time": "2022-11-16T17:54:52.538Z"
   },
   {
    "duration": 97,
    "start_time": "2022-11-16T17:54:57.079Z"
   },
   {
    "duration": 114,
    "start_time": "2022-11-16T17:54:59.838Z"
   },
   {
    "duration": 46,
    "start_time": "2022-11-16T17:55:05.388Z"
   },
   {
    "duration": 37,
    "start_time": "2022-11-16T17:55:08.780Z"
   },
   {
    "duration": 123,
    "start_time": "2022-11-16T17:55:14.469Z"
   },
   {
    "duration": 98,
    "start_time": "2022-11-16T17:55:26.947Z"
   },
   {
    "duration": 28,
    "start_time": "2022-11-16T17:55:39.442Z"
   },
   {
    "duration": 110,
    "start_time": "2022-11-16T17:55:42.681Z"
   },
   {
    "duration": 113,
    "start_time": "2022-11-16T17:55:46.026Z"
   },
   {
    "duration": 114,
    "start_time": "2022-11-16T17:55:49.497Z"
   },
   {
    "duration": 121,
    "start_time": "2022-11-16T17:55:52.804Z"
   },
   {
    "duration": 101,
    "start_time": "2022-11-16T17:56:17.265Z"
   },
   {
    "duration": 248,
    "start_time": "2022-11-16T17:56:51.753Z"
   },
   {
    "duration": 76,
    "start_time": "2022-11-16T17:56:54.623Z"
   },
   {
    "duration": 89,
    "start_time": "2022-11-16T17:56:57.831Z"
   },
   {
    "duration": 113,
    "start_time": "2022-11-16T17:57:02.148Z"
   },
   {
    "duration": 122,
    "start_time": "2022-11-16T17:57:09.231Z"
   },
   {
    "duration": 150,
    "start_time": "2022-11-16T17:57:14.564Z"
   },
   {
    "duration": 169,
    "start_time": "2022-11-16T17:57:18.849Z"
   },
   {
    "duration": 189,
    "start_time": "2022-11-16T17:57:23.615Z"
   },
   {
    "duration": 209,
    "start_time": "2022-11-16T17:57:26.913Z"
   },
   {
    "duration": 27,
    "start_time": "2022-11-16T17:57:32.399Z"
   },
   {
    "duration": 27,
    "start_time": "2022-11-16T17:57:35.080Z"
   },
   {
    "duration": 294,
    "start_time": "2022-11-16T17:57:37.665Z"
   },
   {
    "duration": 268,
    "start_time": "2022-11-16T17:57:41.016Z"
   },
   {
    "duration": 110,
    "start_time": "2022-11-16T17:58:03.082Z"
   },
   {
    "duration": 111,
    "start_time": "2022-11-16T17:58:16.815Z"
   },
   {
    "duration": 27,
    "start_time": "2022-11-16T17:58:53.733Z"
   },
   {
    "duration": 52,
    "start_time": "2022-11-16T17:59:06.258Z"
   },
   {
    "duration": 67,
    "start_time": "2022-11-16T17:59:10.831Z"
   },
   {
    "duration": 72,
    "start_time": "2022-11-16T17:59:15.121Z"
   },
   {
    "duration": 82,
    "start_time": "2022-11-16T17:59:19.285Z"
   },
   {
    "duration": 126,
    "start_time": "2022-11-16T17:59:26.112Z"
   },
   {
    "duration": 74,
    "start_time": "2022-11-16T17:59:30.682Z"
   },
   {
    "duration": 89,
    "start_time": "2022-11-16T17:59:35.830Z"
   },
   {
    "duration": 84,
    "start_time": "2022-11-16T17:59:44.341Z"
   },
   {
    "duration": 84,
    "start_time": "2022-11-16T17:59:48.479Z"
   },
   {
    "duration": 88,
    "start_time": "2022-11-16T17:59:52.471Z"
   },
   {
    "duration": 91,
    "start_time": "2022-11-16T17:59:56.816Z"
   },
   {
    "duration": 95,
    "start_time": "2022-11-16T18:00:01.966Z"
   },
   {
    "duration": 99,
    "start_time": "2022-11-16T18:00:07.580Z"
   },
   {
    "duration": 99,
    "start_time": "2022-11-16T18:00:17.360Z"
   },
   {
    "duration": 149,
    "start_time": "2022-11-16T18:02:00.562Z"
   },
   {
    "duration": 120,
    "start_time": "2022-11-16T18:02:05.027Z"
   },
   {
    "duration": 113,
    "start_time": "2022-11-16T18:02:47.772Z"
   },
   {
    "duration": 109,
    "start_time": "2022-11-16T18:03:40.187Z"
   },
   {
    "duration": 140,
    "start_time": "2022-11-16T18:03:56.242Z"
   },
   {
    "duration": 43,
    "start_time": "2022-11-16T18:04:40.004Z"
   },
   {
    "duration": 39,
    "start_time": "2022-11-16T18:04:43.062Z"
   },
   {
    "duration": 16,
    "start_time": "2022-11-16T18:04:47.784Z"
   },
   {
    "duration": 15,
    "start_time": "2022-11-16T18:04:51.221Z"
   },
   {
    "duration": 109,
    "start_time": "2022-11-16T18:04:56.039Z"
   },
   {
    "duration": 111,
    "start_time": "2022-11-16T18:05:03.871Z"
   },
   {
    "duration": 200,
    "start_time": "2022-11-16T18:13:40.506Z"
   },
   {
    "duration": 100,
    "start_time": "2022-11-16T18:14:33.597Z"
   },
   {
    "duration": 115,
    "start_time": "2022-11-16T18:14:39.395Z"
   },
   {
    "duration": 26,
    "start_time": "2022-11-16T18:16:09.686Z"
   },
   {
    "duration": 113,
    "start_time": "2022-11-16T18:16:16.244Z"
   },
   {
    "duration": 117,
    "start_time": "2022-11-16T18:16:45.851Z"
   },
   {
    "duration": 111,
    "start_time": "2022-11-16T18:16:51.052Z"
   },
   {
    "duration": 112,
    "start_time": "2022-11-16T18:16:53.898Z"
   },
   {
    "duration": 129,
    "start_time": "2022-11-16T18:17:00.478Z"
   },
   {
    "duration": 72,
    "start_time": "2022-11-16T18:23:21.016Z"
   },
   {
    "duration": 3,
    "start_time": "2022-11-16T18:23:58.559Z"
   },
   {
    "duration": 72,
    "start_time": "2022-11-16T18:24:03.431Z"
   },
   {
    "duration": 80,
    "start_time": "2022-11-16T18:24:09.681Z"
   },
   {
    "duration": 16,
    "start_time": "2022-11-16T18:24:15.594Z"
   },
   {
    "duration": 9,
    "start_time": "2022-11-16T18:24:24.652Z"
   },
   {
    "duration": 17,
    "start_time": "2022-11-16T18:24:53.543Z"
   },
   {
    "duration": 9,
    "start_time": "2022-11-16T18:25:02.380Z"
   },
   {
    "duration": 70,
    "start_time": "2022-11-16T18:26:35.302Z"
   },
   {
    "duration": 72,
    "start_time": "2022-11-16T18:26:39.022Z"
   },
   {
    "duration": 16,
    "start_time": "2022-11-16T18:26:48.977Z"
   },
   {
    "duration": 9,
    "start_time": "2022-11-16T18:26:54.694Z"
   },
   {
    "duration": 11,
    "start_time": "2022-11-16T18:26:58.179Z"
   },
   {
    "duration": 9,
    "start_time": "2022-11-16T18:27:08.889Z"
   },
   {
    "duration": 74,
    "start_time": "2022-11-16T18:27:20.561Z"
   },
   {
    "duration": 93,
    "start_time": "2022-11-16T18:27:24.871Z"
   },
   {
    "duration": 15,
    "start_time": "2022-11-16T18:27:39.702Z"
   },
   {
    "duration": 9,
    "start_time": "2022-11-16T18:27:53.602Z"
   },
   {
    "duration": 18,
    "start_time": "2022-11-16T18:27:58.810Z"
   },
   {
    "duration": 81,
    "start_time": "2022-11-16T18:28:08.919Z"
   },
   {
    "duration": 35,
    "start_time": "2022-11-16T18:28:45.278Z"
   },
   {
    "duration": 46,
    "start_time": "2022-11-16T18:28:50.348Z"
   },
   {
    "duration": 52,
    "start_time": "2022-11-16T18:29:24.682Z"
   },
   {
    "duration": 67,
    "start_time": "2022-11-16T18:29:27.513Z"
   },
   {
    "duration": 46,
    "start_time": "2022-11-16T18:29:34.267Z"
   },
   {
    "duration": 2,
    "start_time": "2022-11-16T18:31:50.789Z"
   },
   {
    "duration": 1428,
    "start_time": "2022-11-16T18:32:00.923Z"
   },
   {
    "duration": 37,
    "start_time": "2022-11-16T18:32:02.353Z"
   },
   {
    "duration": 19,
    "start_time": "2022-11-16T18:32:02.391Z"
   },
   {
    "duration": 17,
    "start_time": "2022-11-16T18:32:02.412Z"
   },
   {
    "duration": 43,
    "start_time": "2022-11-16T18:32:02.431Z"
   },
   {
    "duration": 9,
    "start_time": "2022-11-16T18:32:02.476Z"
   },
   {
    "duration": 15,
    "start_time": "2022-11-16T18:32:02.504Z"
   },
   {
    "duration": 12,
    "start_time": "2022-11-16T18:32:02.521Z"
   },
   {
    "duration": 14,
    "start_time": "2022-11-16T18:32:02.534Z"
   },
   {
    "duration": 1014,
    "start_time": "2022-11-16T18:32:02.550Z"
   },
   {
    "duration": 615,
    "start_time": "2022-11-16T18:32:03.566Z"
   },
   {
    "duration": 7,
    "start_time": "2022-11-16T18:32:04.182Z"
   },
   {
    "duration": 139,
    "start_time": "2022-11-16T18:32:04.204Z"
   },
   {
    "duration": 5,
    "start_time": "2022-11-16T18:32:04.344Z"
   },
   {
    "duration": 10,
    "start_time": "2022-11-16T18:32:04.350Z"
   },
   {
    "duration": 26,
    "start_time": "2022-11-16T18:32:04.361Z"
   },
   {
    "duration": 54,
    "start_time": "2022-11-16T18:32:04.389Z"
   },
   {
    "duration": 4,
    "start_time": "2022-11-16T18:32:04.445Z"
   },
   {
    "duration": 6,
    "start_time": "2022-11-16T18:32:04.450Z"
   },
   {
    "duration": 7,
    "start_time": "2022-11-16T18:32:04.457Z"
   },
   {
    "duration": 11,
    "start_time": "2022-11-16T18:32:04.465Z"
   },
   {
    "duration": 11,
    "start_time": "2022-11-16T18:32:04.477Z"
   },
   {
    "duration": 85,
    "start_time": "2022-11-16T18:32:04.504Z"
   },
   {
    "duration": 5,
    "start_time": "2022-11-16T18:32:04.590Z"
   },
   {
    "duration": 6,
    "start_time": "2022-11-16T18:32:04.604Z"
   },
   {
    "duration": 5,
    "start_time": "2022-11-16T18:32:04.612Z"
   },
   {
    "duration": 21,
    "start_time": "2022-11-16T18:32:04.618Z"
   },
   {
    "duration": 22,
    "start_time": "2022-11-16T18:32:04.643Z"
   },
   {
    "duration": 2,
    "start_time": "2022-11-16T18:32:04.667Z"
   },
   {
    "duration": 135,
    "start_time": "2022-11-16T18:32:04.671Z"
   },
   {
    "duration": 5,
    "start_time": "2022-11-16T18:32:04.809Z"
   },
   {
    "duration": 130,
    "start_time": "2022-11-16T18:32:04.904Z"
   },
   {
    "duration": 12,
    "start_time": "2022-11-16T18:32:05.036Z"
   },
   {
    "duration": 157,
    "start_time": "2022-11-16T18:32:05.050Z"
   },
   {
    "duration": 27,
    "start_time": "2022-11-16T18:32:05.209Z"
   },
   {
    "duration": 17,
    "start_time": "2022-11-16T18:32:05.238Z"
   },
   {
    "duration": 96,
    "start_time": "2022-11-16T18:32:05.257Z"
   },
   {
    "duration": 112,
    "start_time": "2022-11-16T18:32:05.355Z"
   },
   {
    "duration": 11,
    "start_time": "2022-11-16T18:32:05.468Z"
   },
   {
    "duration": 15,
    "start_time": "2022-11-16T18:37:57.833Z"
   },
   {
    "duration": 19,
    "start_time": "2022-11-16T18:44:29.701Z"
   },
   {
    "duration": 45,
    "start_time": "2022-11-16T18:44:57.692Z"
   },
   {
    "duration": 10,
    "start_time": "2022-11-16T18:45:17.958Z"
   },
   {
    "duration": 8,
    "start_time": "2022-11-16T18:45:24.042Z"
   },
   {
    "duration": 44,
    "start_time": "2022-11-16T18:45:46.240Z"
   },
   {
    "duration": 113,
    "start_time": "2022-11-16T18:45:53.348Z"
   },
   {
    "duration": 5,
    "start_time": "2022-11-16T18:46:37.353Z"
   },
   {
    "duration": 9,
    "start_time": "2022-11-16T18:46:39.827Z"
   },
   {
    "duration": 4,
    "start_time": "2022-11-16T18:46:42.123Z"
   },
   {
    "duration": 5,
    "start_time": "2022-11-16T18:46:48.466Z"
   },
   {
    "duration": 4,
    "start_time": "2022-11-16T18:46:57.977Z"
   },
   {
    "duration": 4,
    "start_time": "2022-11-16T18:47:45.632Z"
   },
   {
    "duration": 5,
    "start_time": "2022-11-16T18:47:57.636Z"
   },
   {
    "duration": 4,
    "start_time": "2022-11-16T18:48:25.502Z"
   },
   {
    "duration": 4,
    "start_time": "2022-11-16T18:48:41.704Z"
   },
   {
    "duration": 7,
    "start_time": "2022-11-16T18:48:54.896Z"
   },
   {
    "duration": 4,
    "start_time": "2022-11-16T18:48:55.409Z"
   },
   {
    "duration": 4,
    "start_time": "2022-11-16T18:48:56.438Z"
   },
   {
    "duration": 4,
    "start_time": "2022-11-16T18:49:20.876Z"
   },
   {
    "duration": 4,
    "start_time": "2022-11-16T18:49:33.066Z"
   },
   {
    "duration": 4,
    "start_time": "2022-11-16T18:49:33.597Z"
   },
   {
    "duration": 76,
    "start_time": "2022-11-16T18:49:35.013Z"
   },
   {
    "duration": 15,
    "start_time": "2022-11-16T18:49:36.537Z"
   },
   {
    "duration": 75,
    "start_time": "2022-11-16T18:49:45.602Z"
   },
   {
    "duration": 15,
    "start_time": "2022-11-16T18:49:45.797Z"
   },
   {
    "duration": 4,
    "start_time": "2022-11-16T18:49:49.229Z"
   },
   {
    "duration": 4,
    "start_time": "2022-11-16T18:49:49.583Z"
   },
   {
    "duration": 71,
    "start_time": "2022-11-16T18:49:51.027Z"
   },
   {
    "duration": 22,
    "start_time": "2022-11-16T18:49:57.827Z"
   },
   {
    "duration": 47,
    "start_time": "2022-11-16T18:50:07.977Z"
   },
   {
    "duration": 24,
    "start_time": "2022-11-16T18:50:46.814Z"
   },
   {
    "duration": 1390,
    "start_time": "2022-11-16T18:51:18.824Z"
   },
   {
    "duration": 37,
    "start_time": "2022-11-16T18:51:20.216Z"
   },
   {
    "duration": 17,
    "start_time": "2022-11-16T18:51:20.254Z"
   },
   {
    "duration": 13,
    "start_time": "2022-11-16T18:51:20.272Z"
   },
   {
    "duration": 36,
    "start_time": "2022-11-16T18:51:20.286Z"
   },
   {
    "duration": 8,
    "start_time": "2022-11-16T18:51:20.324Z"
   },
   {
    "duration": 44,
    "start_time": "2022-11-16T18:51:20.333Z"
   },
   {
    "duration": 12,
    "start_time": "2022-11-16T18:51:20.379Z"
   },
   {
    "duration": 11,
    "start_time": "2022-11-16T18:51:20.392Z"
   },
   {
    "duration": 884,
    "start_time": "2022-11-16T18:51:20.406Z"
   },
   {
    "duration": 480,
    "start_time": "2022-11-16T18:51:21.291Z"
   },
   {
    "duration": 6,
    "start_time": "2022-11-16T18:51:21.773Z"
   },
   {
    "duration": 169,
    "start_time": "2022-11-16T18:51:21.781Z"
   },
   {
    "duration": 4,
    "start_time": "2022-11-16T18:51:21.952Z"
   },
   {
    "duration": 8,
    "start_time": "2022-11-16T18:51:21.957Z"
   },
   {
    "duration": 28,
    "start_time": "2022-11-16T18:51:21.967Z"
   },
   {
    "duration": 49,
    "start_time": "2022-11-16T18:51:21.997Z"
   },
   {
    "duration": 4,
    "start_time": "2022-11-16T18:51:22.049Z"
   },
   {
    "duration": 7,
    "start_time": "2022-11-16T18:51:22.054Z"
   },
   {
    "duration": 13,
    "start_time": "2022-11-16T18:51:22.063Z"
   },
   {
    "duration": 6,
    "start_time": "2022-11-16T18:51:22.077Z"
   },
   {
    "duration": 20,
    "start_time": "2022-11-16T18:51:22.084Z"
   },
   {
    "duration": 100,
    "start_time": "2022-11-16T18:51:22.106Z"
   },
   {
    "duration": 4,
    "start_time": "2022-11-16T18:51:22.207Z"
   },
   {
    "duration": 5,
    "start_time": "2022-11-16T18:51:22.212Z"
   },
   {
    "duration": 8,
    "start_time": "2022-11-16T18:51:22.219Z"
   },
   {
    "duration": 9,
    "start_time": "2022-11-16T18:51:22.228Z"
   },
   {
    "duration": 4,
    "start_time": "2022-11-16T18:51:22.241Z"
   },
   {
    "duration": 8,
    "start_time": "2022-11-16T18:51:22.246Z"
   },
   {
    "duration": 7,
    "start_time": "2022-11-16T18:51:22.258Z"
   },
   {
    "duration": 40,
    "start_time": "2022-11-16T18:51:22.267Z"
   },
   {
    "duration": 4,
    "start_time": "2022-11-16T18:51:22.309Z"
   },
   {
    "duration": 7,
    "start_time": "2022-11-16T18:51:22.315Z"
   },
   {
    "duration": 182,
    "start_time": "2022-11-16T18:51:22.323Z"
   },
   {
    "duration": 4,
    "start_time": "2022-11-16T18:51:22.507Z"
   },
   {
    "duration": 195,
    "start_time": "2022-11-16T18:51:22.513Z"
   },
   {
    "duration": 10,
    "start_time": "2022-11-16T18:51:22.710Z"
   },
   {
    "duration": 187,
    "start_time": "2022-11-16T18:51:22.722Z"
   },
   {
    "duration": 19,
    "start_time": "2022-11-16T18:51:22.911Z"
   },
   {
    "duration": 48,
    "start_time": "2022-11-16T18:51:22.931Z"
   },
   {
    "duration": 4,
    "start_time": "2022-11-16T18:51:22.981Z"
   },
   {
    "duration": 5,
    "start_time": "2022-11-16T18:51:23.004Z"
   },
   {
    "duration": 71,
    "start_time": "2022-11-16T18:51:23.011Z"
   },
   {
    "duration": 28,
    "start_time": "2022-11-16T18:51:23.084Z"
   },
   {
    "duration": 120,
    "start_time": "2022-11-16T18:51:23.114Z"
   },
   {
    "duration": 10,
    "start_time": "2022-11-16T18:51:23.235Z"
   },
   {
    "duration": 10,
    "start_time": "2022-11-16T18:51:54.041Z"
   },
   {
    "duration": 116,
    "start_time": "2022-11-16T18:52:13.304Z"
   },
   {
    "duration": 51,
    "start_time": "2022-11-16T18:52:20.618Z"
   },
   {
    "duration": 81,
    "start_time": "2022-11-16T18:53:21.532Z"
   },
   {
    "duration": 20,
    "start_time": "2022-11-16T18:53:48.165Z"
   },
   {
    "duration": 17,
    "start_time": "2022-11-16T18:54:43.341Z"
   },
   {
    "duration": 4,
    "start_time": "2022-11-16T18:54:54.748Z"
   },
   {
    "duration": 4,
    "start_time": "2022-11-16T18:55:10.684Z"
   },
   {
    "duration": 13,
    "start_time": "2022-11-16T18:56:01.881Z"
   },
   {
    "duration": 7,
    "start_time": "2022-11-16T18:56:15.286Z"
   },
   {
    "duration": 24,
    "start_time": "2022-11-16T18:56:37.405Z"
   },
   {
    "duration": 14,
    "start_time": "2022-11-16T18:57:38.320Z"
   },
   {
    "duration": 21,
    "start_time": "2022-11-16T18:57:40.407Z"
   },
   {
    "duration": 25,
    "start_time": "2022-11-16T18:57:54.802Z"
   },
   {
    "duration": 13,
    "start_time": "2022-11-16T18:58:58.083Z"
   },
   {
    "duration": 19,
    "start_time": "2022-11-16T18:58:58.260Z"
   },
   {
    "duration": 9,
    "start_time": "2022-11-16T19:00:32.846Z"
   },
   {
    "duration": 19,
    "start_time": "2022-11-16T19:00:41.620Z"
   },
   {
    "duration": 20,
    "start_time": "2022-11-16T19:00:48.164Z"
   },
   {
    "duration": 18,
    "start_time": "2022-11-16T19:00:50.712Z"
   },
   {
    "duration": 13,
    "start_time": "2022-11-16T19:01:00.898Z"
   },
   {
    "duration": 18,
    "start_time": "2022-11-16T19:01:02.284Z"
   },
   {
    "duration": 9,
    "start_time": "2022-11-16T19:01:31.326Z"
   },
   {
    "duration": 3,
    "start_time": "2022-11-16T19:01:47.207Z"
   },
   {
    "duration": 9,
    "start_time": "2022-11-16T19:01:53.928Z"
   },
   {
    "duration": 3,
    "start_time": "2022-11-16T19:01:56.058Z"
   },
   {
    "duration": 3,
    "start_time": "2022-11-16T19:02:28.080Z"
   },
   {
    "duration": 2,
    "start_time": "2022-11-16T19:02:41.401Z"
   },
   {
    "duration": 12,
    "start_time": "2022-11-16T19:03:08.786Z"
   },
   {
    "duration": 10,
    "start_time": "2022-11-16T19:03:27.822Z"
   },
   {
    "duration": 20,
    "start_time": "2022-11-16T19:04:16.369Z"
   },
   {
    "duration": 14,
    "start_time": "2022-11-16T19:06:24.120Z"
   },
   {
    "duration": 16,
    "start_time": "2022-11-16T19:06:37.026Z"
   },
   {
    "duration": 19,
    "start_time": "2022-11-16T19:06:42.215Z"
   },
   {
    "duration": 17,
    "start_time": "2022-11-16T19:06:58.005Z"
   },
   {
    "duration": 19,
    "start_time": "2022-11-16T19:06:58.601Z"
   },
   {
    "duration": 8,
    "start_time": "2022-11-16T19:07:12.001Z"
   },
   {
    "duration": 24,
    "start_time": "2022-11-16T19:07:12.461Z"
   },
   {
    "duration": 14,
    "start_time": "2022-11-16T19:07:12.759Z"
   },
   {
    "duration": 17,
    "start_time": "2022-11-16T19:07:13.002Z"
   },
   {
    "duration": 20,
    "start_time": "2022-11-16T19:07:13.226Z"
   },
   {
    "duration": 4,
    "start_time": "2022-11-16T19:07:29.259Z"
   },
   {
    "duration": 61,
    "start_time": "2022-11-16T19:07:31.198Z"
   },
   {
    "duration": 75,
    "start_time": "2022-11-16T19:08:09.974Z"
   },
   {
    "duration": 74,
    "start_time": "2022-11-16T19:08:35.538Z"
   },
   {
    "duration": 6,
    "start_time": "2022-11-16T19:09:16.593Z"
   },
   {
    "duration": 106,
    "start_time": "2022-11-16T19:09:18.805Z"
   },
   {
    "duration": 76,
    "start_time": "2022-11-16T19:10:01.832Z"
   },
   {
    "duration": 101,
    "start_time": "2022-11-16T19:10:19.405Z"
   },
   {
    "duration": 116,
    "start_time": "2022-11-16T19:10:39.292Z"
   },
   {
    "duration": 46,
    "start_time": "2022-11-16T20:00:50.667Z"
   },
   {
    "duration": 5,
    "start_time": "2022-11-16T20:01:10.974Z"
   },
   {
    "duration": 42,
    "start_time": "2022-11-16T20:01:13.087Z"
   },
   {
    "duration": 6,
    "start_time": "2022-11-16T20:01:16.859Z"
   },
   {
    "duration": 55,
    "start_time": "2022-11-16T20:01:17.707Z"
   },
   {
    "duration": 2,
    "start_time": "2022-11-16T20:01:42.317Z"
   },
   {
    "duration": 3,
    "start_time": "2022-11-16T20:01:45.413Z"
   },
   {
    "duration": 9,
    "start_time": "2022-11-16T20:02:04.315Z"
   },
   {
    "duration": 7,
    "start_time": "2022-11-16T20:02:18.308Z"
   },
   {
    "duration": 44,
    "start_time": "2022-11-16T20:02:30.978Z"
   },
   {
    "duration": 1474,
    "start_time": "2022-11-16T20:02:46.905Z"
   },
   {
    "duration": 39,
    "start_time": "2022-11-16T20:02:48.381Z"
   },
   {
    "duration": 19,
    "start_time": "2022-11-16T20:02:48.422Z"
   },
   {
    "duration": 13,
    "start_time": "2022-11-16T20:02:48.443Z"
   },
   {
    "duration": 61,
    "start_time": "2022-11-16T20:02:48.458Z"
   },
   {
    "duration": 9,
    "start_time": "2022-11-16T20:02:48.521Z"
   },
   {
    "duration": 14,
    "start_time": "2022-11-16T20:02:48.531Z"
   },
   {
    "duration": 12,
    "start_time": "2022-11-16T20:02:48.546Z"
   },
   {
    "duration": 14,
    "start_time": "2022-11-16T20:02:48.559Z"
   },
   {
    "duration": 961,
    "start_time": "2022-11-16T20:02:48.605Z"
   },
   {
    "duration": 537,
    "start_time": "2022-11-16T20:02:49.568Z"
   },
   {
    "duration": 7,
    "start_time": "2022-11-16T20:02:50.106Z"
   },
   {
    "duration": 147,
    "start_time": "2022-11-16T20:02:50.115Z"
   },
   {
    "duration": 4,
    "start_time": "2022-11-16T20:02:50.264Z"
   },
   {
    "duration": 9,
    "start_time": "2022-11-16T20:02:50.270Z"
   },
   {
    "duration": 38,
    "start_time": "2022-11-16T20:02:50.280Z"
   },
   {
    "duration": 42,
    "start_time": "2022-11-16T20:02:50.320Z"
   },
   {
    "duration": 4,
    "start_time": "2022-11-16T20:02:50.364Z"
   },
   {
    "duration": 7,
    "start_time": "2022-11-16T20:02:50.370Z"
   },
   {
    "duration": 7,
    "start_time": "2022-11-16T20:02:50.378Z"
   },
   {
    "duration": 3,
    "start_time": "2022-11-16T20:02:50.405Z"
   },
   {
    "duration": 7,
    "start_time": "2022-11-16T20:02:50.410Z"
   },
   {
    "duration": 104,
    "start_time": "2022-11-16T20:02:50.419Z"
   },
   {
    "duration": 8,
    "start_time": "2022-11-16T20:02:50.525Z"
   },
   {
    "duration": 20,
    "start_time": "2022-11-16T20:02:50.535Z"
   },
   {
    "duration": 17,
    "start_time": "2022-11-16T20:02:50.557Z"
   },
   {
    "duration": 12,
    "start_time": "2022-11-16T20:02:50.576Z"
   },
   {
    "duration": 60,
    "start_time": "2022-11-16T20:02:50.591Z"
   },
   {
    "duration": 3,
    "start_time": "2022-11-16T20:02:50.653Z"
   },
   {
    "duration": 13,
    "start_time": "2022-11-16T20:02:50.658Z"
   },
   {
    "duration": 3,
    "start_time": "2022-11-16T20:02:50.673Z"
   },
   {
    "duration": 35,
    "start_time": "2022-11-16T20:02:50.677Z"
   },
   {
    "duration": 5,
    "start_time": "2022-11-16T20:02:50.713Z"
   },
   {
    "duration": 5,
    "start_time": "2022-11-16T20:02:50.719Z"
   },
   {
    "duration": 89,
    "start_time": "2022-11-16T20:02:50.725Z"
   },
   {
    "duration": 91,
    "start_time": "2022-11-16T20:02:50.815Z"
   },
   {
    "duration": 197,
    "start_time": "2022-11-16T20:02:50.908Z"
   },
   {
    "duration": 12,
    "start_time": "2022-11-16T20:02:51.107Z"
   },
   {
    "duration": 92,
    "start_time": "2022-11-16T20:02:51.121Z"
   },
   {
    "duration": 109,
    "start_time": "2022-11-16T20:02:51.217Z"
   },
   {
    "duration": 55,
    "start_time": "2022-11-16T20:02:51.328Z"
   },
   {
    "duration": 21,
    "start_time": "2022-11-16T20:02:51.385Z"
   },
   {
    "duration": 7,
    "start_time": "2022-11-16T20:02:51.408Z"
   },
   {
    "duration": 11,
    "start_time": "2022-11-16T20:02:51.417Z"
   },
   {
    "duration": 49,
    "start_time": "2022-11-16T20:02:51.430Z"
   },
   {
    "duration": 14,
    "start_time": "2022-11-16T20:02:51.504Z"
   },
   {
    "duration": 3,
    "start_time": "2022-11-16T20:02:51.520Z"
   },
   {
    "duration": 9,
    "start_time": "2022-11-16T20:02:51.525Z"
   },
   {
    "duration": 82,
    "start_time": "2022-11-16T20:02:51.536Z"
   },
   {
    "duration": 292,
    "start_time": "2022-11-16T20:02:51.619Z"
   },
   {
    "duration": 10,
    "start_time": "2022-11-16T20:02:51.913Z"
   },
   {
    "duration": 55,
    "start_time": "2022-11-16T20:03:44.506Z"
   },
   {
    "duration": 22,
    "start_time": "2022-11-16T20:07:28.969Z"
   },
   {
    "duration": 9,
    "start_time": "2022-11-16T20:07:42.486Z"
   },
   {
    "duration": 10,
    "start_time": "2022-11-16T20:07:52.497Z"
   },
   {
    "duration": 4,
    "start_time": "2022-11-16T20:08:04.861Z"
   },
   {
    "duration": 49,
    "start_time": "2022-11-16T20:08:15.974Z"
   },
   {
    "duration": 5,
    "start_time": "2022-11-16T20:12:21.635Z"
   },
   {
    "duration": 27,
    "start_time": "2022-11-16T20:12:28.473Z"
   },
   {
    "duration": 1398,
    "start_time": "2022-11-16T20:17:13.886Z"
   },
   {
    "duration": 37,
    "start_time": "2022-11-16T20:17:17.139Z"
   },
   {
    "duration": 17,
    "start_time": "2022-11-16T20:17:17.359Z"
   },
   {
    "duration": 15,
    "start_time": "2022-11-16T20:17:17.799Z"
   },
   {
    "duration": 45,
    "start_time": "2022-11-16T20:17:18.116Z"
   },
   {
    "duration": 8,
    "start_time": "2022-11-16T20:17:18.738Z"
   },
   {
    "duration": 12,
    "start_time": "2022-11-16T20:17:19.063Z"
   },
   {
    "duration": 12,
    "start_time": "2022-11-16T20:17:19.378Z"
   },
   {
    "duration": 12,
    "start_time": "2022-11-16T20:17:19.850Z"
   },
   {
    "duration": 922,
    "start_time": "2022-11-16T20:17:20.192Z"
   },
   {
    "duration": 500,
    "start_time": "2022-11-16T20:17:21.116Z"
   },
   {
    "duration": 6,
    "start_time": "2022-11-16T20:17:28.708Z"
   },
   {
    "duration": 128,
    "start_time": "2022-11-16T20:17:29.639Z"
   },
   {
    "duration": 4,
    "start_time": "2022-11-16T20:17:31.559Z"
   },
   {
    "duration": 3,
    "start_time": "2022-11-16T20:17:32.405Z"
   },
   {
    "duration": 26,
    "start_time": "2022-11-16T20:17:45.776Z"
   },
   {
    "duration": 43,
    "start_time": "2022-11-16T20:17:53.490Z"
   },
   {
    "duration": 5,
    "start_time": "2022-11-16T20:17:57.020Z"
   },
   {
    "duration": 3,
    "start_time": "2022-11-16T20:17:57.897Z"
   },
   {
    "duration": 4,
    "start_time": "2022-11-16T20:17:58.425Z"
   },
   {
    "duration": 3,
    "start_time": "2022-11-16T20:17:59.664Z"
   },
   {
    "duration": 5,
    "start_time": "2022-11-16T20:17:59.921Z"
   },
   {
    "duration": 22,
    "start_time": "2022-11-16T20:18:01.809Z"
   },
   {
    "duration": 6,
    "start_time": "2022-11-16T20:18:03.746Z"
   },
   {
    "duration": 4,
    "start_time": "2022-11-16T20:18:04.658Z"
   },
   {
    "duration": 4,
    "start_time": "2022-11-16T20:18:05.456Z"
   },
   {
    "duration": 4,
    "start_time": "2022-11-16T20:18:06.161Z"
   },
   {
    "duration": 134,
    "start_time": "2022-11-16T20:18:07.591Z"
   },
   {
    "duration": 5,
    "start_time": "2022-11-16T20:18:10.116Z"
   },
   {
    "duration": 45,
    "start_time": "2022-11-16T20:18:17.191Z"
   },
   {
    "duration": 1233,
    "start_time": "2022-11-16T20:21:45.433Z"
   },
   {
    "duration": 552,
    "start_time": "2022-11-16T20:21:53.984Z"
   },
   {
    "duration": 1182,
    "start_time": "2022-11-16T20:22:01.732Z"
   },
   {
    "duration": 20,
    "start_time": "2022-11-16T20:22:09.234Z"
   },
   {
    "duration": 2,
    "start_time": "2022-11-16T20:23:05.536Z"
   },
   {
    "duration": 3,
    "start_time": "2022-11-16T20:23:09.933Z"
   },
   {
    "duration": 50,
    "start_time": "2022-11-16T20:23:25.817Z"
   },
   {
    "duration": 47,
    "start_time": "2022-11-16T20:23:33.865Z"
   },
   {
    "duration": 1307,
    "start_time": "2022-11-16T20:23:49.956Z"
   },
   {
    "duration": 37,
    "start_time": "2022-11-16T20:23:51.265Z"
   },
   {
    "duration": 18,
    "start_time": "2022-11-16T20:23:51.303Z"
   },
   {
    "duration": 13,
    "start_time": "2022-11-16T20:23:51.323Z"
   },
   {
    "duration": 38,
    "start_time": "2022-11-16T20:23:51.338Z"
   },
   {
    "duration": 30,
    "start_time": "2022-11-16T20:23:51.377Z"
   },
   {
    "duration": 12,
    "start_time": "2022-11-16T20:23:51.409Z"
   },
   {
    "duration": 12,
    "start_time": "2022-11-16T20:23:51.422Z"
   },
   {
    "duration": 14,
    "start_time": "2022-11-16T20:23:51.436Z"
   },
   {
    "duration": 998,
    "start_time": "2022-11-16T20:23:51.453Z"
   },
   {
    "duration": 500,
    "start_time": "2022-11-16T20:23:52.453Z"
   },
   {
    "duration": 5,
    "start_time": "2022-11-16T20:23:52.955Z"
   },
   {
    "duration": 146,
    "start_time": "2022-11-16T20:23:52.962Z"
   },
   {
    "duration": 4,
    "start_time": "2022-11-16T20:23:53.110Z"
   },
   {
    "duration": 8,
    "start_time": "2022-11-16T20:23:53.116Z"
   },
   {
    "duration": 29,
    "start_time": "2022-11-16T20:23:53.126Z"
   },
   {
    "duration": 42,
    "start_time": "2022-11-16T20:23:53.206Z"
   },
   {
    "duration": 4,
    "start_time": "2022-11-16T20:23:53.472Z"
   },
   {
    "duration": 3,
    "start_time": "2022-11-16T20:23:55.118Z"
   },
   {
    "duration": 5,
    "start_time": "2022-11-16T20:23:55.515Z"
   },
   {
    "duration": 3,
    "start_time": "2022-11-16T20:23:55.998Z"
   },
   {
    "duration": 7,
    "start_time": "2022-11-16T20:23:56.298Z"
   },
   {
    "duration": 20,
    "start_time": "2022-11-16T20:23:56.550Z"
   },
   {
    "duration": 7,
    "start_time": "2022-11-16T20:23:57.553Z"
   },
   {
    "duration": 5,
    "start_time": "2022-11-16T20:23:57.927Z"
   },
   {
    "duration": 4,
    "start_time": "2022-11-16T20:23:58.515Z"
   },
   {
    "duration": 4,
    "start_time": "2022-11-16T20:23:58.725Z"
   },
   {
    "duration": 3,
    "start_time": "2022-11-16T20:23:58.966Z"
   },
   {
    "duration": 144,
    "start_time": "2022-11-16T20:23:59.176Z"
   },
   {
    "duration": 3,
    "start_time": "2022-11-16T20:25:41.966Z"
   },
   {
    "duration": 6,
    "start_time": "2022-11-16T20:25:45.409Z"
   },
   {
    "duration": 113,
    "start_time": "2022-11-16T20:26:11.387Z"
   },
   {
    "duration": 12,
    "start_time": "2022-11-16T20:26:39.736Z"
   },
   {
    "duration": 8,
    "start_time": "2022-11-16T20:26:47.253Z"
   },
   {
    "duration": 4,
    "start_time": "2022-11-16T20:27:02.238Z"
   },
   {
    "duration": 8,
    "start_time": "2022-11-16T20:27:06.389Z"
   },
   {
    "duration": 6,
    "start_time": "2022-11-16T20:27:23.871Z"
   },
   {
    "duration": 4,
    "start_time": "2022-11-16T20:27:33.173Z"
   },
   {
    "duration": 8,
    "start_time": "2022-11-16T20:27:35.251Z"
   },
   {
    "duration": 13,
    "start_time": "2022-11-16T20:27:44.921Z"
   },
   {
    "duration": 81,
    "start_time": "2022-11-16T20:28:05.951Z"
   },
   {
    "duration": 9,
    "start_time": "2022-11-16T20:28:09.854Z"
   },
   {
    "duration": 10,
    "start_time": "2022-11-16T20:28:14.154Z"
   },
   {
    "duration": 40,
    "start_time": "2022-11-16T20:29:02.116Z"
   },
   {
    "duration": 3,
    "start_time": "2022-11-16T20:29:34.014Z"
   },
   {
    "duration": 4,
    "start_time": "2022-11-16T20:30:02.603Z"
   },
   {
    "duration": 21,
    "start_time": "2022-11-16T20:30:16.810Z"
   },
   {
    "duration": 21,
    "start_time": "2022-11-16T20:33:39.004Z"
   },
   {
    "duration": 10,
    "start_time": "2022-11-16T20:35:33.497Z"
   },
   {
    "duration": 22,
    "start_time": "2022-11-16T20:37:24.269Z"
   },
   {
    "duration": 8,
    "start_time": "2022-11-16T20:37:27.854Z"
   },
   {
    "duration": 21,
    "start_time": "2022-11-16T20:38:18.324Z"
   },
   {
    "duration": 9,
    "start_time": "2022-11-16T20:38:33.778Z"
   },
   {
    "duration": 53,
    "start_time": "2022-11-16T20:38:36.864Z"
   },
   {
    "duration": 4,
    "start_time": "2022-11-16T20:40:14.540Z"
   },
   {
    "duration": 10,
    "start_time": "2022-11-16T20:40:17.042Z"
   },
   {
    "duration": 5,
    "start_time": "2022-11-16T20:40:18.887Z"
   },
   {
    "duration": 4,
    "start_time": "2022-11-16T20:40:19.259Z"
   },
   {
    "duration": 22,
    "start_time": "2022-11-16T20:40:21.349Z"
   },
   {
    "duration": 6,
    "start_time": "2022-11-16T20:40:23.957Z"
   },
   {
    "duration": 23,
    "start_time": "2022-11-16T20:40:25.629Z"
   },
   {
    "duration": 11,
    "start_time": "2022-11-16T20:40:52.857Z"
   },
   {
    "duration": 10,
    "start_time": "2022-11-16T20:41:19.403Z"
   },
   {
    "duration": 10,
    "start_time": "2022-11-16T20:41:28.882Z"
   },
   {
    "duration": 8,
    "start_time": "2022-11-16T20:41:34.227Z"
   },
   {
    "duration": 1420,
    "start_time": "2022-11-16T20:41:42.502Z"
   },
   {
    "duration": 36,
    "start_time": "2022-11-16T20:41:43.924Z"
   },
   {
    "duration": 18,
    "start_time": "2022-11-16T20:41:43.962Z"
   },
   {
    "duration": 16,
    "start_time": "2022-11-16T20:41:43.982Z"
   },
   {
    "duration": 39,
    "start_time": "2022-11-16T20:41:43.999Z"
   },
   {
    "duration": 51,
    "start_time": "2022-11-16T20:41:44.039Z"
   },
   {
    "duration": 10,
    "start_time": "2022-11-16T20:41:44.092Z"
   },
   {
    "duration": 15,
    "start_time": "2022-11-16T20:41:44.104Z"
   },
   {
    "duration": 15,
    "start_time": "2022-11-16T20:41:44.121Z"
   },
   {
    "duration": 978,
    "start_time": "2022-11-16T20:41:44.139Z"
   },
   {
    "duration": 561,
    "start_time": "2022-11-16T20:41:45.118Z"
   },
   {
    "duration": 6,
    "start_time": "2022-11-16T20:41:45.681Z"
   },
   {
    "duration": 151,
    "start_time": "2022-11-16T20:41:45.688Z"
   },
   {
    "duration": 4,
    "start_time": "2022-11-16T20:41:45.841Z"
   },
   {
    "duration": 7,
    "start_time": "2022-11-16T20:41:45.846Z"
   },
   {
    "duration": 31,
    "start_time": "2022-11-16T20:41:45.854Z"
   },
   {
    "duration": 60,
    "start_time": "2022-11-16T20:41:45.887Z"
   },
   {
    "duration": 4,
    "start_time": "2022-11-16T20:41:45.949Z"
   },
   {
    "duration": 9,
    "start_time": "2022-11-16T20:41:45.954Z"
   },
   {
    "duration": 8,
    "start_time": "2022-11-16T20:41:45.965Z"
   },
   {
    "duration": 5,
    "start_time": "2022-11-16T20:41:45.975Z"
   },
   {
    "duration": 25,
    "start_time": "2022-11-16T20:41:45.982Z"
   },
   {
    "duration": 96,
    "start_time": "2022-11-16T20:41:46.009Z"
   },
   {
    "duration": 7,
    "start_time": "2022-11-16T20:41:46.107Z"
   },
   {
    "duration": 23,
    "start_time": "2022-11-16T20:41:46.115Z"
   },
   {
    "duration": 30,
    "start_time": "2022-11-16T20:41:46.139Z"
   },
   {
    "duration": 6,
    "start_time": "2022-11-16T20:41:46.171Z"
   },
   {
    "duration": 27,
    "start_time": "2022-11-16T20:41:46.179Z"
   },
   {
    "duration": 5,
    "start_time": "2022-11-16T20:41:46.208Z"
   },
   {
    "duration": 25,
    "start_time": "2022-11-16T20:41:46.215Z"
   },
   {
    "duration": 4,
    "start_time": "2022-11-16T20:41:46.241Z"
   },
   {
    "duration": 7,
    "start_time": "2022-11-16T20:41:46.247Z"
   },
   {
    "duration": 4,
    "start_time": "2022-11-16T20:41:46.256Z"
   },
   {
    "duration": 51,
    "start_time": "2022-11-16T20:41:46.261Z"
   },
   {
    "duration": 4,
    "start_time": "2022-11-16T20:41:46.314Z"
   },
   {
    "duration": 4,
    "start_time": "2022-11-16T20:41:46.320Z"
   },
   {
    "duration": 180,
    "start_time": "2022-11-16T20:41:46.325Z"
   },
   {
    "duration": 4,
    "start_time": "2022-11-16T20:41:46.508Z"
   },
   {
    "duration": 195,
    "start_time": "2022-11-16T20:41:46.514Z"
   },
   {
    "duration": 11,
    "start_time": "2022-11-16T20:41:46.711Z"
   },
   {
    "duration": 183,
    "start_time": "2022-11-16T20:41:46.723Z"
   },
   {
    "duration": 10,
    "start_time": "2022-11-16T20:41:46.907Z"
   },
   {
    "duration": 22,
    "start_time": "2022-11-16T20:41:46.919Z"
   },
   {
    "duration": 8,
    "start_time": "2022-11-16T20:41:46.943Z"
   },
   {
    "duration": 132,
    "start_time": "2022-11-16T20:41:46.952Z"
   },
   {
    "duration": 19,
    "start_time": "2022-11-16T20:41:47.086Z"
   },
   {
    "duration": 11,
    "start_time": "2022-11-16T20:42:43.354Z"
   },
   {
    "duration": 217,
    "start_time": "2022-11-16T20:43:17.089Z"
   },
   {
    "duration": 142,
    "start_time": "2022-11-16T20:44:21.690Z"
   },
   {
    "duration": 141,
    "start_time": "2022-11-16T20:44:42.384Z"
   },
   {
    "duration": 146,
    "start_time": "2022-11-16T20:44:56.283Z"
   },
   {
    "duration": 115,
    "start_time": "2022-11-16T20:45:36.827Z"
   },
   {
    "duration": 331893,
    "start_time": "2022-11-16T20:47:28.343Z"
   },
   {
    "duration": 117,
    "start_time": "2022-11-16T20:54:15.918Z"
   },
   {
    "duration": 10,
    "start_time": "2022-11-16T20:54:31.101Z"
   },
   {
    "duration": 10,
    "start_time": "2022-11-16T20:54:38.414Z"
   },
   {
    "duration": 11,
    "start_time": "2022-11-16T20:54:42.478Z"
   },
   {
    "duration": 10,
    "start_time": "2022-11-16T20:54:44.680Z"
   },
   {
    "duration": 127,
    "start_time": "2022-11-16T20:55:11.179Z"
   },
   {
    "duration": 140778,
    "start_time": "2022-11-16T20:55:57.514Z"
   },
   {
    "duration": 36,
    "start_time": "2022-11-16T21:03:29.573Z"
   },
   {
    "duration": 10,
    "start_time": "2022-11-16T21:04:11.977Z"
   },
   {
    "duration": 4,
    "start_time": "2022-11-16T21:04:44.013Z"
   },
   {
    "duration": 97,
    "start_time": "2022-11-16T21:04:50.508Z"
   },
   {
    "duration": 39,
    "start_time": "2022-11-16T21:05:12.371Z"
   },
   {
    "duration": 972,
    "start_time": "2022-11-16T21:05:19.439Z"
   },
   {
    "duration": 519,
    "start_time": "2022-11-16T21:05:32.296Z"
   },
   {
    "duration": 3786,
    "start_time": "2022-11-16T21:05:42.926Z"
   },
   {
    "duration": 3650,
    "start_time": "2022-11-16T21:07:03.756Z"
   },
   {
    "duration": 12,
    "start_time": "2022-11-16T21:14:20.383Z"
   },
   {
    "duration": 5076,
    "start_time": "2022-11-16T21:14:45.749Z"
   },
   {
    "duration": 771,
    "start_time": "2022-11-16T21:15:33.568Z"
   },
   {
    "duration": 737,
    "start_time": "2022-11-19T07:55:08.757Z"
   },
   {
    "duration": 49,
    "start_time": "2022-11-19T09:55:38.112Z"
   },
   {
    "duration": 1572,
    "start_time": "2022-11-19T09:55:47.535Z"
   },
   {
    "duration": 78,
    "start_time": "2022-11-19T09:55:49.109Z"
   },
   {
    "duration": 17,
    "start_time": "2022-11-19T09:55:49.189Z"
   },
   {
    "duration": 13,
    "start_time": "2022-11-19T09:55:49.208Z"
   },
   {
    "duration": 36,
    "start_time": "2022-11-19T09:55:49.223Z"
   },
   {
    "duration": 16,
    "start_time": "2022-11-19T09:55:49.260Z"
   },
   {
    "duration": 11,
    "start_time": "2022-11-19T09:55:49.277Z"
   },
   {
    "duration": 13,
    "start_time": "2022-11-19T09:55:49.290Z"
   },
   {
    "duration": 11,
    "start_time": "2022-11-19T09:55:49.305Z"
   },
   {
    "duration": 970,
    "start_time": "2022-11-19T09:55:49.319Z"
   },
   {
    "duration": 484,
    "start_time": "2022-11-19T09:55:50.291Z"
   },
   {
    "duration": 6,
    "start_time": "2022-11-19T09:55:50.777Z"
   },
   {
    "duration": 130,
    "start_time": "2022-11-19T09:55:50.784Z"
   },
   {
    "duration": 3,
    "start_time": "2022-11-19T09:55:50.916Z"
   },
   {
    "duration": 9,
    "start_time": "2022-11-19T09:55:50.921Z"
   },
   {
    "duration": 35,
    "start_time": "2022-11-19T09:55:50.931Z"
   },
   {
    "duration": 38,
    "start_time": "2022-11-19T09:55:50.968Z"
   },
   {
    "duration": 4,
    "start_time": "2022-11-19T09:55:51.008Z"
   },
   {
    "duration": 21,
    "start_time": "2022-11-19T09:55:51.013Z"
   },
   {
    "duration": 29,
    "start_time": "2022-11-19T09:55:51.036Z"
   },
   {
    "duration": 10,
    "start_time": "2022-11-19T09:55:51.067Z"
   },
   {
    "duration": 15,
    "start_time": "2022-11-19T09:55:51.079Z"
   },
   {
    "duration": 79,
    "start_time": "2022-11-19T09:55:51.095Z"
   },
   {
    "duration": 19,
    "start_time": "2022-11-19T09:55:51.176Z"
   },
   {
    "duration": 15,
    "start_time": "2022-11-19T09:55:51.197Z"
   },
   {
    "duration": 22,
    "start_time": "2022-11-19T09:55:51.214Z"
   },
   {
    "duration": 5,
    "start_time": "2022-11-19T09:55:51.237Z"
   },
   {
    "duration": 105,
    "start_time": "2022-11-19T09:55:51.245Z"
   },
   {
    "duration": 0,
    "start_time": "2022-11-19T09:55:51.352Z"
   },
   {
    "duration": 0,
    "start_time": "2022-11-19T09:55:51.353Z"
   },
   {
    "duration": 0,
    "start_time": "2022-11-19T09:55:51.354Z"
   },
   {
    "duration": 0,
    "start_time": "2022-11-19T09:55:51.355Z"
   },
   {
    "duration": 0,
    "start_time": "2022-11-19T09:55:51.355Z"
   },
   {
    "duration": 0,
    "start_time": "2022-11-19T09:55:51.356Z"
   },
   {
    "duration": 0,
    "start_time": "2022-11-19T09:55:51.357Z"
   },
   {
    "duration": 0,
    "start_time": "2022-11-19T09:55:51.358Z"
   },
   {
    "duration": 0,
    "start_time": "2022-11-19T09:55:51.359Z"
   },
   {
    "duration": 0,
    "start_time": "2022-11-19T09:55:51.360Z"
   },
   {
    "duration": 0,
    "start_time": "2022-11-19T09:55:51.361Z"
   },
   {
    "duration": 0,
    "start_time": "2022-11-19T09:55:51.376Z"
   },
   {
    "duration": 0,
    "start_time": "2022-11-19T09:55:51.377Z"
   },
   {
    "duration": 0,
    "start_time": "2022-11-19T09:55:51.378Z"
   },
   {
    "duration": 0,
    "start_time": "2022-11-19T09:55:51.379Z"
   },
   {
    "duration": 0,
    "start_time": "2022-11-19T09:55:51.380Z"
   },
   {
    "duration": 0,
    "start_time": "2022-11-19T09:55:51.381Z"
   },
   {
    "duration": 1,
    "start_time": "2022-11-19T09:55:51.381Z"
   },
   {
    "duration": 0,
    "start_time": "2022-11-19T09:55:51.383Z"
   },
   {
    "duration": 0,
    "start_time": "2022-11-19T09:55:51.383Z"
   },
   {
    "duration": 0,
    "start_time": "2022-11-19T09:55:51.385Z"
   },
   {
    "duration": 0,
    "start_time": "2022-11-19T09:55:51.386Z"
   },
   {
    "duration": 0,
    "start_time": "2022-11-19T09:55:51.387Z"
   },
   {
    "duration": 6,
    "start_time": "2022-11-19T09:56:14.367Z"
   },
   {
    "duration": 12,
    "start_time": "2022-11-19T09:56:15.357Z"
   },
   {
    "duration": 4,
    "start_time": "2022-11-19T09:56:15.821Z"
   },
   {
    "duration": 8,
    "start_time": "2022-11-19T09:56:17.810Z"
   },
   {
    "duration": 4,
    "start_time": "2022-11-19T09:56:25.942Z"
   },
   {
    "duration": 14,
    "start_time": "2022-11-19T09:56:26.176Z"
   },
   {
    "duration": 3,
    "start_time": "2022-11-19T09:56:28.508Z"
   },
   {
    "duration": 23,
    "start_time": "2022-11-19T09:56:43.765Z"
   },
   {
    "duration": 2,
    "start_time": "2022-11-19T09:56:46.359Z"
   },
   {
    "duration": 63,
    "start_time": "2022-11-19T09:56:46.918Z"
   },
   {
    "duration": 108,
    "start_time": "2022-11-19T09:57:00.803Z"
   },
   {
    "duration": 13,
    "start_time": "2022-11-19T09:57:05.816Z"
   },
   {
    "duration": 12,
    "start_time": "2022-11-19T09:57:20.505Z"
   },
   {
    "duration": 78,
    "start_time": "2022-11-19T09:57:35.000Z"
   },
   {
    "duration": 17,
    "start_time": "2022-11-19T09:57:38.250Z"
   },
   {
    "duration": 1386,
    "start_time": "2022-11-19T09:59:44.861Z"
   },
   {
    "duration": 41,
    "start_time": "2022-11-19T09:59:46.249Z"
   },
   {
    "duration": 19,
    "start_time": "2022-11-19T09:59:46.291Z"
   },
   {
    "duration": 14,
    "start_time": "2022-11-19T09:59:46.312Z"
   },
   {
    "duration": 59,
    "start_time": "2022-11-19T09:59:46.327Z"
   },
   {
    "duration": 9,
    "start_time": "2022-11-19T09:59:46.388Z"
   },
   {
    "duration": 17,
    "start_time": "2022-11-19T09:59:46.398Z"
   },
   {
    "duration": 13,
    "start_time": "2022-11-19T09:59:46.417Z"
   },
   {
    "duration": 20,
    "start_time": "2022-11-19T09:59:46.432Z"
   },
   {
    "duration": 976,
    "start_time": "2022-11-19T09:59:46.456Z"
   },
   {
    "duration": 574,
    "start_time": "2022-11-19T09:59:47.434Z"
   },
   {
    "duration": 6,
    "start_time": "2022-11-19T09:59:48.010Z"
   },
   {
    "duration": 146,
    "start_time": "2022-11-19T09:59:48.018Z"
   },
   {
    "duration": 12,
    "start_time": "2022-11-19T09:59:48.166Z"
   },
   {
    "duration": 5,
    "start_time": "2022-11-19T09:59:48.180Z"
   },
   {
    "duration": 32,
    "start_time": "2022-11-19T09:59:48.186Z"
   },
   {
    "duration": 38,
    "start_time": "2022-11-19T09:59:48.219Z"
   },
   {
    "duration": 3,
    "start_time": "2022-11-19T09:59:48.259Z"
   },
   {
    "duration": 15,
    "start_time": "2022-11-19T09:59:48.263Z"
   },
   {
    "duration": 12,
    "start_time": "2022-11-19T09:59:48.280Z"
   },
   {
    "duration": 5,
    "start_time": "2022-11-19T09:59:48.294Z"
   },
   {
    "duration": 10,
    "start_time": "2022-11-19T09:59:48.301Z"
   },
   {
    "duration": 89,
    "start_time": "2022-11-19T09:59:48.313Z"
   },
   {
    "duration": 11,
    "start_time": "2022-11-19T09:59:48.403Z"
   },
   {
    "duration": 11,
    "start_time": "2022-11-19T09:59:48.415Z"
   },
   {
    "duration": 17,
    "start_time": "2022-11-19T09:59:48.428Z"
   },
   {
    "duration": 24,
    "start_time": "2022-11-19T09:59:48.447Z"
   },
   {
    "duration": 2,
    "start_time": "2022-11-19T09:59:48.474Z"
   },
   {
    "duration": 105,
    "start_time": "2022-11-19T09:59:48.477Z"
   },
   {
    "duration": 93,
    "start_time": "2022-11-19T09:59:48.584Z"
   },
   {
    "duration": 109,
    "start_time": "2022-11-19T09:59:48.679Z"
   },
   {
    "duration": 10,
    "start_time": "2022-11-19T09:59:48.789Z"
   },
   {
    "duration": 176,
    "start_time": "2022-11-19T09:59:48.800Z"
   },
   {
    "duration": 123,
    "start_time": "2022-11-19T09:59:48.978Z"
   },
   {
    "duration": 0,
    "start_time": "2022-11-19T09:59:49.102Z"
   },
   {
    "duration": 0,
    "start_time": "2022-11-19T09:59:49.103Z"
   },
   {
    "duration": 0,
    "start_time": "2022-11-19T09:59:49.104Z"
   },
   {
    "duration": 0,
    "start_time": "2022-11-19T09:59:49.105Z"
   },
   {
    "duration": 0,
    "start_time": "2022-11-19T09:59:49.106Z"
   },
   {
    "duration": 0,
    "start_time": "2022-11-19T09:59:49.107Z"
   },
   {
    "duration": 0,
    "start_time": "2022-11-19T09:59:49.108Z"
   },
   {
    "duration": 0,
    "start_time": "2022-11-19T09:59:49.109Z"
   },
   {
    "duration": 0,
    "start_time": "2022-11-19T09:59:49.110Z"
   },
   {
    "duration": 129,
    "start_time": "2022-11-19T10:01:37.847Z"
   },
   {
    "duration": 44,
    "start_time": "2022-11-19T10:01:43.241Z"
   },
   {
    "duration": 35,
    "start_time": "2022-11-19T10:02:10.347Z"
   },
   {
    "duration": 34,
    "start_time": "2022-11-19T10:02:32.045Z"
   },
   {
    "duration": 42,
    "start_time": "2022-11-19T10:03:51.156Z"
   },
   {
    "duration": 41,
    "start_time": "2022-11-19T10:03:59.005Z"
   },
   {
    "duration": 44,
    "start_time": "2022-11-19T10:04:21.337Z"
   },
   {
    "duration": 40,
    "start_time": "2022-11-19T10:04:42.639Z"
   },
   {
    "duration": 69,
    "start_time": "2022-11-19T10:04:47.709Z"
   },
   {
    "duration": 5,
    "start_time": "2022-11-19T10:04:50.831Z"
   },
   {
    "duration": 43,
    "start_time": "2022-11-19T10:04:57.060Z"
   },
   {
    "duration": 29,
    "start_time": "2022-11-19T10:05:06.449Z"
   },
   {
    "duration": 120,
    "start_time": "2022-11-19T10:05:15.658Z"
   },
   {
    "duration": 83,
    "start_time": "2022-11-19T10:06:50.495Z"
   },
   {
    "duration": 115,
    "start_time": "2022-11-19T10:07:00.668Z"
   },
   {
    "duration": 49,
    "start_time": "2022-11-19T10:07:27.433Z"
   },
   {
    "duration": 112,
    "start_time": "2022-11-19T10:08:25.474Z"
   },
   {
    "duration": 173,
    "start_time": "2022-11-19T10:08:30.213Z"
   },
   {
    "duration": 108,
    "start_time": "2022-11-19T10:09:35.476Z"
   },
   {
    "duration": 168,
    "start_time": "2022-11-19T10:09:48.510Z"
   },
   {
    "duration": 161,
    "start_time": "2022-11-19T10:10:20.425Z"
   },
   {
    "duration": 125,
    "start_time": "2022-11-19T10:11:20.554Z"
   },
   {
    "duration": 94,
    "start_time": "2022-11-19T10:11:29.389Z"
   },
   {
    "duration": 191,
    "start_time": "2022-11-19T10:11:38.790Z"
   },
   {
    "duration": 76,
    "start_time": "2022-11-19T10:11:42.106Z"
   },
   {
    "duration": 102,
    "start_time": "2022-11-19T10:11:46.181Z"
   },
   {
    "duration": 49,
    "start_time": "2022-11-19T10:11:50.934Z"
   },
   {
    "duration": 79,
    "start_time": "2022-11-19T10:12:07.798Z"
   },
   {
    "duration": 63,
    "start_time": "2022-11-19T10:12:24.315Z"
   },
   {
    "duration": 38,
    "start_time": "2022-11-19T10:12:29.247Z"
   },
   {
    "duration": 104,
    "start_time": "2022-11-19T10:14:03.874Z"
   },
   {
    "duration": 106,
    "start_time": "2022-11-19T10:16:36.972Z"
   },
   {
    "duration": 110,
    "start_time": "2022-11-19T10:17:11.766Z"
   },
   {
    "duration": 93,
    "start_time": "2022-11-19T10:17:14.885Z"
   },
   {
    "duration": 81,
    "start_time": "2022-11-19T10:17:25.404Z"
   },
   {
    "duration": 33,
    "start_time": "2022-11-19T10:17:49.755Z"
   },
   {
    "duration": 54,
    "start_time": "2022-11-19T10:18:21.324Z"
   },
   {
    "duration": 199,
    "start_time": "2022-11-19T10:18:25.879Z"
   },
   {
    "duration": 43,
    "start_time": "2022-11-19T10:18:31.740Z"
   },
   {
    "duration": 170,
    "start_time": "2022-11-19T10:19:56.405Z"
   },
   {
    "duration": 201,
    "start_time": "2022-11-19T10:20:12.175Z"
   },
   {
    "duration": 40,
    "start_time": "2022-11-19T10:20:19.742Z"
   },
   {
    "duration": 121,
    "start_time": "2022-11-19T10:20:46.777Z"
   },
   {
    "duration": 53,
    "start_time": "2022-11-19T10:21:15.532Z"
   },
   {
    "duration": 22,
    "start_time": "2022-11-19T10:21:55.974Z"
   },
   {
    "duration": 1374,
    "start_time": "2022-11-19T10:22:07.347Z"
   },
   {
    "duration": 41,
    "start_time": "2022-11-19T10:22:08.723Z"
   },
   {
    "duration": 17,
    "start_time": "2022-11-19T10:22:08.766Z"
   },
   {
    "duration": 13,
    "start_time": "2022-11-19T10:22:08.785Z"
   },
   {
    "duration": 37,
    "start_time": "2022-11-19T10:22:08.800Z"
   },
   {
    "duration": 8,
    "start_time": "2022-11-19T10:22:08.839Z"
   },
   {
    "duration": 32,
    "start_time": "2022-11-19T10:22:08.848Z"
   },
   {
    "duration": 19,
    "start_time": "2022-11-19T10:22:08.882Z"
   },
   {
    "duration": 20,
    "start_time": "2022-11-19T10:22:08.903Z"
   },
   {
    "duration": 923,
    "start_time": "2022-11-19T10:22:08.925Z"
   },
   {
    "duration": 537,
    "start_time": "2022-11-19T10:22:09.850Z"
   },
   {
    "duration": 7,
    "start_time": "2022-11-19T10:22:10.389Z"
   },
   {
    "duration": 146,
    "start_time": "2022-11-19T10:22:10.398Z"
   },
   {
    "duration": 4,
    "start_time": "2022-11-19T10:22:10.545Z"
   },
   {
    "duration": 6,
    "start_time": "2022-11-19T10:22:10.552Z"
   },
   {
    "duration": 48,
    "start_time": "2022-11-19T10:22:10.560Z"
   },
   {
    "duration": 41,
    "start_time": "2022-11-19T10:22:10.610Z"
   },
   {
    "duration": 5,
    "start_time": "2022-11-19T10:22:10.652Z"
   },
   {
    "duration": 23,
    "start_time": "2022-11-19T10:22:10.658Z"
   },
   {
    "duration": 15,
    "start_time": "2022-11-19T10:22:10.683Z"
   },
   {
    "duration": 13,
    "start_time": "2022-11-19T10:22:10.700Z"
   },
   {
    "duration": 16,
    "start_time": "2022-11-19T10:22:10.714Z"
   },
   {
    "duration": 94,
    "start_time": "2022-11-19T10:22:10.731Z"
   },
   {
    "duration": 9,
    "start_time": "2022-11-19T10:22:10.826Z"
   },
   {
    "duration": 8,
    "start_time": "2022-11-19T10:22:10.837Z"
   },
   {
    "duration": 9,
    "start_time": "2022-11-19T10:22:10.846Z"
   },
   {
    "duration": 32,
    "start_time": "2022-11-19T10:22:10.856Z"
   },
   {
    "duration": 2,
    "start_time": "2022-11-19T10:22:10.892Z"
   },
   {
    "duration": 190,
    "start_time": "2022-11-19T10:22:10.897Z"
   },
   {
    "duration": 111,
    "start_time": "2022-11-19T10:22:11.089Z"
   },
   {
    "duration": 143,
    "start_time": "2022-11-19T10:22:11.202Z"
   },
   {
    "duration": 12,
    "start_time": "2022-11-19T10:22:11.347Z"
   },
   {
    "duration": 127,
    "start_time": "2022-11-19T10:22:11.360Z"
   },
   {
    "duration": 207,
    "start_time": "2022-11-19T10:22:11.489Z"
   },
   {
    "duration": 0,
    "start_time": "2022-11-19T10:22:11.698Z"
   },
   {
    "duration": 0,
    "start_time": "2022-11-19T10:22:11.699Z"
   },
   {
    "duration": 0,
    "start_time": "2022-11-19T10:22:11.700Z"
   },
   {
    "duration": 0,
    "start_time": "2022-11-19T10:22:11.701Z"
   },
   {
    "duration": 0,
    "start_time": "2022-11-19T10:22:11.702Z"
   },
   {
    "duration": 0,
    "start_time": "2022-11-19T10:22:11.703Z"
   },
   {
    "duration": 0,
    "start_time": "2022-11-19T10:22:11.704Z"
   },
   {
    "duration": 0,
    "start_time": "2022-11-19T10:22:11.705Z"
   },
   {
    "duration": 0,
    "start_time": "2022-11-19T10:22:11.706Z"
   },
   {
    "duration": 3,
    "start_time": "2022-11-19T10:22:45.000Z"
   },
   {
    "duration": 4,
    "start_time": "2022-11-19T10:22:53.388Z"
   },
   {
    "duration": 4,
    "start_time": "2022-11-19T10:23:01.893Z"
   },
   {
    "duration": 11,
    "start_time": "2022-11-19T10:23:41.154Z"
   },
   {
    "duration": 4,
    "start_time": "2022-11-19T10:23:45.800Z"
   },
   {
    "duration": 5,
    "start_time": "2022-11-19T10:24:25.480Z"
   },
   {
    "duration": 10,
    "start_time": "2022-11-19T10:24:43.097Z"
   },
   {
    "duration": 9,
    "start_time": "2022-11-19T10:24:46.412Z"
   },
   {
    "duration": 4,
    "start_time": "2022-11-19T10:24:56.731Z"
   },
   {
    "duration": 3,
    "start_time": "2022-11-19T10:25:29.142Z"
   },
   {
    "duration": 1423,
    "start_time": "2022-11-19T10:25:37.246Z"
   },
   {
    "duration": 42,
    "start_time": "2022-11-19T10:25:38.671Z"
   },
   {
    "duration": 19,
    "start_time": "2022-11-19T10:25:38.714Z"
   },
   {
    "duration": 46,
    "start_time": "2022-11-19T10:25:38.735Z"
   },
   {
    "duration": 68,
    "start_time": "2022-11-19T10:25:38.783Z"
   },
   {
    "duration": 9,
    "start_time": "2022-11-19T10:25:38.852Z"
   },
   {
    "duration": 34,
    "start_time": "2022-11-19T10:25:38.862Z"
   },
   {
    "duration": 53,
    "start_time": "2022-11-19T10:25:38.897Z"
   },
   {
    "duration": 23,
    "start_time": "2022-11-19T10:25:38.952Z"
   },
   {
    "duration": 942,
    "start_time": "2022-11-19T10:25:38.982Z"
   },
   {
    "duration": 591,
    "start_time": "2022-11-19T10:25:39.926Z"
   },
   {
    "duration": 6,
    "start_time": "2022-11-19T10:25:40.520Z"
   },
   {
    "duration": 163,
    "start_time": "2022-11-19T10:25:40.528Z"
   },
   {
    "duration": 4,
    "start_time": "2022-11-19T10:25:40.692Z"
   },
   {
    "duration": 10,
    "start_time": "2022-11-19T10:25:40.698Z"
   },
   {
    "duration": 26,
    "start_time": "2022-11-19T10:25:40.710Z"
   },
   {
    "duration": 56,
    "start_time": "2022-11-19T10:25:40.737Z"
   },
   {
    "duration": 4,
    "start_time": "2022-11-19T10:25:40.795Z"
   },
   {
    "duration": 19,
    "start_time": "2022-11-19T10:25:40.800Z"
   },
   {
    "duration": 12,
    "start_time": "2022-11-19T10:25:40.821Z"
   },
   {
    "duration": 10,
    "start_time": "2022-11-19T10:25:40.834Z"
   },
   {
    "duration": 9,
    "start_time": "2022-11-19T10:25:40.846Z"
   },
   {
    "duration": 81,
    "start_time": "2022-11-19T10:25:40.857Z"
   },
   {
    "duration": 15,
    "start_time": "2022-11-19T10:25:40.940Z"
   },
   {
    "duration": 9,
    "start_time": "2022-11-19T10:25:40.957Z"
   },
   {
    "duration": 4,
    "start_time": "2022-11-19T10:25:40.967Z"
   },
   {
    "duration": 4,
    "start_time": "2022-11-19T10:25:40.972Z"
   },
   {
    "duration": 7,
    "start_time": "2022-11-19T10:25:40.979Z"
   },
   {
    "duration": 101,
    "start_time": "2022-11-19T10:25:40.987Z"
   },
   {
    "duration": 3,
    "start_time": "2022-11-19T10:25:41.175Z"
   },
   {
    "duration": 138,
    "start_time": "2022-11-19T10:25:41.180Z"
   },
   {
    "duration": 14,
    "start_time": "2022-11-19T10:25:41.320Z"
   },
   {
    "duration": 241,
    "start_time": "2022-11-19T10:25:41.336Z"
   },
   {
    "duration": 4,
    "start_time": "2022-11-19T10:25:41.579Z"
   },
   {
    "duration": 7,
    "start_time": "2022-11-19T10:25:41.585Z"
   },
   {
    "duration": 138,
    "start_time": "2022-11-19T10:25:41.594Z"
   },
   {
    "duration": 0,
    "start_time": "2022-11-19T10:25:41.733Z"
   },
   {
    "duration": 1,
    "start_time": "2022-11-19T10:25:41.734Z"
   },
   {
    "duration": 0,
    "start_time": "2022-11-19T10:25:41.736Z"
   },
   {
    "duration": 0,
    "start_time": "2022-11-19T10:25:41.737Z"
   },
   {
    "duration": 0,
    "start_time": "2022-11-19T10:25:41.738Z"
   },
   {
    "duration": 0,
    "start_time": "2022-11-19T10:25:41.739Z"
   },
   {
    "duration": 0,
    "start_time": "2022-11-19T10:25:41.740Z"
   },
   {
    "duration": 0,
    "start_time": "2022-11-19T10:25:41.741Z"
   },
   {
    "duration": 0,
    "start_time": "2022-11-19T10:25:41.742Z"
   },
   {
    "duration": 24,
    "start_time": "2022-11-19T10:26:44.096Z"
   },
   {
    "duration": 1423,
    "start_time": "2022-11-19T10:26:54.103Z"
   },
   {
    "duration": 47,
    "start_time": "2022-11-19T10:26:55.528Z"
   },
   {
    "duration": 18,
    "start_time": "2022-11-19T10:26:55.577Z"
   },
   {
    "duration": 13,
    "start_time": "2022-11-19T10:26:55.597Z"
   },
   {
    "duration": 41,
    "start_time": "2022-11-19T10:26:55.613Z"
   },
   {
    "duration": 28,
    "start_time": "2022-11-19T10:26:55.656Z"
   },
   {
    "duration": 21,
    "start_time": "2022-11-19T10:26:55.685Z"
   },
   {
    "duration": 11,
    "start_time": "2022-11-19T10:26:55.708Z"
   },
   {
    "duration": 12,
    "start_time": "2022-11-19T10:26:55.722Z"
   },
   {
    "duration": 1005,
    "start_time": "2022-11-19T10:26:55.736Z"
   },
   {
    "duration": 533,
    "start_time": "2022-11-19T10:26:56.743Z"
   },
   {
    "duration": 5,
    "start_time": "2022-11-19T10:26:57.279Z"
   },
   {
    "duration": 152,
    "start_time": "2022-11-19T10:26:57.286Z"
   },
   {
    "duration": 4,
    "start_time": "2022-11-19T10:26:57.441Z"
   },
   {
    "duration": 7,
    "start_time": "2022-11-19T10:26:57.447Z"
   },
   {
    "duration": 42,
    "start_time": "2022-11-19T10:26:57.456Z"
   },
   {
    "duration": 129,
    "start_time": "2022-11-19T10:26:57.500Z"
   },
   {
    "duration": 4,
    "start_time": "2022-11-19T10:26:57.630Z"
   },
   {
    "duration": 5,
    "start_time": "2022-11-19T10:26:57.636Z"
   },
   {
    "duration": 25,
    "start_time": "2022-11-19T10:26:57.642Z"
   },
   {
    "duration": 24,
    "start_time": "2022-11-19T10:26:57.669Z"
   },
   {
    "duration": 34,
    "start_time": "2022-11-19T10:26:57.695Z"
   },
   {
    "duration": 19,
    "start_time": "2022-11-19T10:26:57.731Z"
   },
   {
    "duration": 36,
    "start_time": "2022-11-19T10:26:57.751Z"
   },
   {
    "duration": 12,
    "start_time": "2022-11-19T10:26:57.788Z"
   },
   {
    "duration": 12,
    "start_time": "2022-11-19T10:26:57.801Z"
   },
   {
    "duration": 40,
    "start_time": "2022-11-19T10:26:57.814Z"
   },
   {
    "duration": 2,
    "start_time": "2022-11-19T10:26:57.856Z"
   },
   {
    "duration": 218,
    "start_time": "2022-11-19T10:26:57.859Z"
   },
   {
    "duration": 4,
    "start_time": "2022-11-19T10:26:58.078Z"
   },
   {
    "duration": 144,
    "start_time": "2022-11-19T10:26:58.083Z"
   },
   {
    "duration": 12,
    "start_time": "2022-11-19T10:26:58.228Z"
   },
   {
    "duration": 143,
    "start_time": "2022-11-19T10:26:58.241Z"
   },
   {
    "duration": 92,
    "start_time": "2022-11-19T10:26:58.386Z"
   },
   {
    "duration": 36,
    "start_time": "2022-11-19T10:26:58.480Z"
   },
   {
    "duration": 139,
    "start_time": "2022-11-19T10:26:58.518Z"
   },
   {
    "duration": 0,
    "start_time": "2022-11-19T10:26:58.659Z"
   },
   {
    "duration": 0,
    "start_time": "2022-11-19T10:26:58.660Z"
   },
   {
    "duration": 0,
    "start_time": "2022-11-19T10:26:58.661Z"
   },
   {
    "duration": 0,
    "start_time": "2022-11-19T10:26:58.662Z"
   },
   {
    "duration": 0,
    "start_time": "2022-11-19T10:26:58.664Z"
   },
   {
    "duration": 0,
    "start_time": "2022-11-19T10:26:58.676Z"
   },
   {
    "duration": 0,
    "start_time": "2022-11-19T10:26:58.677Z"
   },
   {
    "duration": 0,
    "start_time": "2022-11-19T10:26:58.678Z"
   },
   {
    "duration": 0,
    "start_time": "2022-11-19T10:26:58.679Z"
   },
   {
    "duration": 485,
    "start_time": "2022-11-19T10:28:24.841Z"
   },
   {
    "duration": 13,
    "start_time": "2022-11-19T10:30:25.189Z"
   },
   {
    "duration": 5,
    "start_time": "2022-11-19T10:30:37.851Z"
   },
   {
    "duration": 4,
    "start_time": "2022-11-19T10:30:49.879Z"
   },
   {
    "duration": 5,
    "start_time": "2022-11-19T10:30:53.822Z"
   },
   {
    "duration": 5,
    "start_time": "2022-11-19T10:31:03.002Z"
   },
   {
    "duration": 4,
    "start_time": "2022-11-19T10:31:03.222Z"
   },
   {
    "duration": 5,
    "start_time": "2022-11-19T10:31:03.426Z"
   },
   {
    "duration": 4,
    "start_time": "2022-11-19T10:31:03.812Z"
   },
   {
    "duration": 22,
    "start_time": "2022-11-19T10:31:04.514Z"
   },
   {
    "duration": 68694,
    "start_time": "2022-11-19T10:31:11.897Z"
   },
   {
    "duration": 0,
    "start_time": "2022-11-19T10:32:20.593Z"
   },
   {
    "duration": 6,
    "start_time": "2022-11-19T10:32:26.238Z"
   },
   {
    "duration": 8,
    "start_time": "2022-11-19T10:32:39.712Z"
   },
   {
    "duration": 6,
    "start_time": "2022-11-19T10:32:48.617Z"
   },
   {
    "duration": 5,
    "start_time": "2022-11-19T10:32:54.398Z"
   },
   {
    "duration": 4,
    "start_time": "2022-11-19T10:33:13.318Z"
   },
   {
    "duration": 3,
    "start_time": "2022-11-19T10:33:47.946Z"
   },
   {
    "duration": 8,
    "start_time": "2022-11-19T10:33:53.774Z"
   },
   {
    "duration": 4,
    "start_time": "2022-11-19T10:34:22.954Z"
   },
   {
    "duration": 8,
    "start_time": "2022-11-19T10:34:26.476Z"
   },
   {
    "duration": 7,
    "start_time": "2022-11-19T10:36:45.821Z"
   },
   {
    "duration": 6,
    "start_time": "2022-11-19T10:36:47.293Z"
   },
   {
    "duration": 4,
    "start_time": "2022-11-19T10:36:47.716Z"
   },
   {
    "duration": 4,
    "start_time": "2022-11-19T10:36:52.217Z"
   },
   {
    "duration": 6,
    "start_time": "2022-11-19T10:36:52.497Z"
   },
   {
    "duration": 5,
    "start_time": "2022-11-19T10:36:52.941Z"
   },
   {
    "duration": 1347,
    "start_time": "2022-11-19T10:37:00.380Z"
   },
   {
    "duration": 42,
    "start_time": "2022-11-19T10:37:01.729Z"
   },
   {
    "duration": 19,
    "start_time": "2022-11-19T10:37:01.773Z"
   },
   {
    "duration": 36,
    "start_time": "2022-11-19T10:37:01.793Z"
   },
   {
    "duration": 61,
    "start_time": "2022-11-19T10:37:01.831Z"
   },
   {
    "duration": 10,
    "start_time": "2022-11-19T10:37:01.893Z"
   },
   {
    "duration": 13,
    "start_time": "2022-11-19T10:37:01.905Z"
   },
   {
    "duration": 21,
    "start_time": "2022-11-19T10:37:01.920Z"
   },
   {
    "duration": 36,
    "start_time": "2022-11-19T10:37:01.943Z"
   },
   {
    "duration": 961,
    "start_time": "2022-11-19T10:37:01.981Z"
   },
   {
    "duration": 551,
    "start_time": "2022-11-19T10:37:02.944Z"
   },
   {
    "duration": 6,
    "start_time": "2022-11-19T10:37:03.497Z"
   },
   {
    "duration": 145,
    "start_time": "2022-11-19T10:37:03.505Z"
   },
   {
    "duration": 4,
    "start_time": "2022-11-19T10:37:03.653Z"
   },
   {
    "duration": 17,
    "start_time": "2022-11-19T10:37:03.659Z"
   },
   {
    "duration": 25,
    "start_time": "2022-11-19T10:37:03.678Z"
   },
   {
    "duration": 127,
    "start_time": "2022-11-19T10:37:03.705Z"
   },
   {
    "duration": 4,
    "start_time": "2022-11-19T10:37:03.834Z"
   },
   {
    "duration": 5,
    "start_time": "2022-11-19T10:37:03.840Z"
   },
   {
    "duration": 5,
    "start_time": "2022-11-19T10:37:03.846Z"
   },
   {
    "duration": 4,
    "start_time": "2022-11-19T10:37:03.853Z"
   },
   {
    "duration": 22,
    "start_time": "2022-11-19T10:37:03.858Z"
   },
   {
    "duration": 5,
    "start_time": "2022-11-19T10:37:03.881Z"
   },
   {
    "duration": 4,
    "start_time": "2022-11-19T10:37:03.888Z"
   },
   {
    "duration": 6,
    "start_time": "2022-11-19T10:37:03.893Z"
   },
   {
    "duration": 7,
    "start_time": "2022-11-19T10:37:03.900Z"
   },
   {
    "duration": 4,
    "start_time": "2022-11-19T10:37:03.908Z"
   },
   {
    "duration": 4,
    "start_time": "2022-11-19T10:37:03.914Z"
   },
   {
    "duration": 58,
    "start_time": "2022-11-19T10:37:03.920Z"
   },
   {
    "duration": 2,
    "start_time": "2022-11-19T10:37:03.980Z"
   },
   {
    "duration": 193,
    "start_time": "2022-11-19T10:37:03.984Z"
   },
   {
    "duration": 3,
    "start_time": "2022-11-19T10:37:04.178Z"
   },
   {
    "duration": 521,
    "start_time": "2022-11-19T10:37:04.182Z"
   },
   {
    "duration": 17,
    "start_time": "2022-11-19T10:37:04.705Z"
   },
   {
    "duration": 154,
    "start_time": "2022-11-19T10:37:04.724Z"
   },
   {
    "duration": 6,
    "start_time": "2022-11-19T10:37:04.882Z"
   },
   {
    "duration": 88,
    "start_time": "2022-11-19T10:37:04.890Z"
   },
   {
    "duration": 122,
    "start_time": "2022-11-19T10:37:04.980Z"
   },
   {
    "duration": 132,
    "start_time": "2022-11-19T10:37:05.104Z"
   },
   {
    "duration": 0,
    "start_time": "2022-11-19T10:37:05.238Z"
   },
   {
    "duration": 0,
    "start_time": "2022-11-19T10:37:05.240Z"
   },
   {
    "duration": 0,
    "start_time": "2022-11-19T10:37:05.241Z"
   },
   {
    "duration": 0,
    "start_time": "2022-11-19T10:37:05.242Z"
   },
   {
    "duration": 0,
    "start_time": "2022-11-19T10:37:05.243Z"
   },
   {
    "duration": 0,
    "start_time": "2022-11-19T10:37:05.244Z"
   },
   {
    "duration": 0,
    "start_time": "2022-11-19T10:37:05.246Z"
   },
   {
    "duration": 0,
    "start_time": "2022-11-19T10:37:05.248Z"
   },
   {
    "duration": 94,
    "start_time": "2022-11-19T10:38:17.839Z"
   },
   {
    "duration": 86,
    "start_time": "2022-11-19T10:38:24.444Z"
   },
   {
    "duration": 93,
    "start_time": "2022-11-19T10:38:38.377Z"
   },
   {
    "duration": 4,
    "start_time": "2022-11-19T10:39:22.837Z"
   },
   {
    "duration": 4,
    "start_time": "2022-11-19T10:39:25.541Z"
   },
   {
    "duration": 3,
    "start_time": "2022-11-19T10:41:27.274Z"
   },
   {
    "duration": 4,
    "start_time": "2022-11-19T10:41:32.726Z"
   },
   {
    "duration": 6,
    "start_time": "2022-11-19T10:41:36.091Z"
   },
   {
    "duration": 7,
    "start_time": "2022-11-19T10:41:47.635Z"
   },
   {
    "duration": 3,
    "start_time": "2022-11-19T10:42:12.582Z"
   },
   {
    "duration": 3,
    "start_time": "2022-11-19T10:42:16.386Z"
   },
   {
    "duration": 1353,
    "start_time": "2022-11-19T10:42:29.407Z"
   },
   {
    "duration": 41,
    "start_time": "2022-11-19T10:42:30.762Z"
   },
   {
    "duration": 22,
    "start_time": "2022-11-19T10:42:30.805Z"
   },
   {
    "duration": 46,
    "start_time": "2022-11-19T10:42:30.829Z"
   },
   {
    "duration": 79,
    "start_time": "2022-11-19T10:42:30.877Z"
   },
   {
    "duration": 24,
    "start_time": "2022-11-19T10:42:30.958Z"
   },
   {
    "duration": 24,
    "start_time": "2022-11-19T10:42:30.983Z"
   },
   {
    "duration": 31,
    "start_time": "2022-11-19T10:42:31.008Z"
   },
   {
    "duration": 36,
    "start_time": "2022-11-19T10:42:31.041Z"
   },
   {
    "duration": 905,
    "start_time": "2022-11-19T10:42:36.949Z"
   },
   {
    "duration": 543,
    "start_time": "2022-11-19T10:42:37.857Z"
   },
   {
    "duration": 6,
    "start_time": "2022-11-19T10:42:38.402Z"
   },
   {
    "duration": 145,
    "start_time": "2022-11-19T10:42:38.410Z"
   },
   {
    "duration": 4,
    "start_time": "2022-11-19T10:42:38.557Z"
   },
   {
    "duration": 14,
    "start_time": "2022-11-19T10:42:38.562Z"
   },
   {
    "duration": 29,
    "start_time": "2022-11-19T10:42:38.577Z"
   },
   {
    "duration": 39,
    "start_time": "2022-11-19T10:42:38.608Z"
   },
   {
    "duration": 4,
    "start_time": "2022-11-19T10:42:40.246Z"
   },
   {
    "duration": 7,
    "start_time": "2022-11-19T10:42:40.252Z"
   },
   {
    "duration": 7,
    "start_time": "2022-11-19T10:42:40.382Z"
   },
   {
    "duration": 8,
    "start_time": "2022-11-19T10:42:40.390Z"
   },
   {
    "duration": 12,
    "start_time": "2022-11-19T10:42:40.399Z"
   },
   {
    "duration": 4,
    "start_time": "2022-11-19T10:42:40.412Z"
   },
   {
    "duration": 4,
    "start_time": "2022-11-19T10:42:40.418Z"
   },
   {
    "duration": 6,
    "start_time": "2022-11-19T10:42:40.423Z"
   },
   {
    "duration": 4,
    "start_time": "2022-11-19T10:43:16.782Z"
   },
   {
    "duration": 7,
    "start_time": "2022-11-19T10:43:16.787Z"
   },
   {
    "duration": 91,
    "start_time": "2022-11-19T10:43:16.795Z"
   },
   {
    "duration": 2,
    "start_time": "2022-11-19T10:43:16.888Z"
   },
   {
    "duration": 191,
    "start_time": "2022-11-19T10:43:16.892Z"
   },
   {
    "duration": 3,
    "start_time": "2022-11-19T10:43:17.084Z"
   },
   {
    "duration": 475,
    "start_time": "2022-11-19T10:43:17.089Z"
   },
   {
    "duration": 21,
    "start_time": "2022-11-19T10:43:17.566Z"
   },
   {
    "duration": 188,
    "start_time": "2022-11-19T10:43:17.589Z"
   },
   {
    "duration": 4,
    "start_time": "2022-11-19T10:43:17.779Z"
   },
   {
    "duration": 6,
    "start_time": "2022-11-19T10:43:17.785Z"
   },
   {
    "duration": 128,
    "start_time": "2022-11-19T10:43:17.794Z"
   },
   {
    "duration": 0,
    "start_time": "2022-11-19T10:43:17.924Z"
   },
   {
    "duration": 0,
    "start_time": "2022-11-19T10:43:17.925Z"
   },
   {
    "duration": 0,
    "start_time": "2022-11-19T10:43:17.927Z"
   },
   {
    "duration": 0,
    "start_time": "2022-11-19T10:43:17.928Z"
   },
   {
    "duration": 0,
    "start_time": "2022-11-19T10:43:17.929Z"
   },
   {
    "duration": 0,
    "start_time": "2022-11-19T10:43:17.930Z"
   },
   {
    "duration": 0,
    "start_time": "2022-11-19T10:43:17.932Z"
   },
   {
    "duration": 0,
    "start_time": "2022-11-19T10:43:17.933Z"
   },
   {
    "duration": 0,
    "start_time": "2022-11-19T10:43:17.934Z"
   },
   {
    "duration": 0,
    "start_time": "2022-11-19T10:43:17.936Z"
   },
   {
    "duration": 4,
    "start_time": "2022-11-19T10:43:49.719Z"
   },
   {
    "duration": 4,
    "start_time": "2022-11-19T10:44:10.402Z"
   },
   {
    "duration": 12,
    "start_time": "2022-11-19T10:45:12.375Z"
   },
   {
    "duration": 5,
    "start_time": "2022-11-19T10:45:17.551Z"
   },
   {
    "duration": 5,
    "start_time": "2022-11-19T10:45:32.107Z"
   },
   {
    "duration": 3,
    "start_time": "2022-11-19T10:46:02.720Z"
   },
   {
    "duration": 71,
    "start_time": "2022-11-19T10:46:02.725Z"
   },
   {
    "duration": 27,
    "start_time": "2022-11-19T10:46:02.797Z"
   },
   {
    "duration": 26,
    "start_time": "2022-11-19T10:46:02.826Z"
   },
   {
    "duration": 59,
    "start_time": "2022-11-19T10:46:02.854Z"
   },
   {
    "duration": 7,
    "start_time": "2022-11-19T10:46:02.915Z"
   },
   {
    "duration": 28,
    "start_time": "2022-11-19T10:46:02.923Z"
   },
   {
    "duration": 30,
    "start_time": "2022-11-19T10:46:02.952Z"
   },
   {
    "duration": 24,
    "start_time": "2022-11-19T10:46:02.984Z"
   },
   {
    "duration": 1024,
    "start_time": "2022-11-19T10:46:03.009Z"
   },
   {
    "duration": 577,
    "start_time": "2022-11-19T10:46:04.034Z"
   },
   {
    "duration": 6,
    "start_time": "2022-11-19T10:46:04.613Z"
   },
   {
    "duration": 161,
    "start_time": "2022-11-19T10:46:04.620Z"
   },
   {
    "duration": 10,
    "start_time": "2022-11-19T10:46:04.783Z"
   },
   {
    "duration": 18,
    "start_time": "2022-11-19T10:46:04.795Z"
   },
   {
    "duration": 36,
    "start_time": "2022-11-19T10:46:04.814Z"
   },
   {
    "duration": 57,
    "start_time": "2022-11-19T10:46:04.852Z"
   },
   {
    "duration": 5,
    "start_time": "2022-11-19T10:46:04.913Z"
   },
   {
    "duration": 6,
    "start_time": "2022-11-19T10:46:04.920Z"
   },
   {
    "duration": 13,
    "start_time": "2022-11-19T10:46:04.928Z"
   },
   {
    "duration": 6,
    "start_time": "2022-11-19T10:46:04.943Z"
   },
   {
    "duration": 32,
    "start_time": "2022-11-19T10:46:04.950Z"
   },
   {
    "duration": 4,
    "start_time": "2022-11-19T10:46:04.984Z"
   },
   {
    "duration": 9,
    "start_time": "2022-11-19T10:46:04.991Z"
   },
   {
    "duration": 8,
    "start_time": "2022-11-19T10:46:05.001Z"
   },
   {
    "duration": 18,
    "start_time": "2022-11-19T10:46:05.010Z"
   },
   {
    "duration": 9,
    "start_time": "2022-11-19T10:46:05.029Z"
   },
   {
    "duration": 21,
    "start_time": "2022-11-19T10:46:05.039Z"
   },
   {
    "duration": 30,
    "start_time": "2022-11-19T10:46:05.062Z"
   },
   {
    "duration": 6,
    "start_time": "2022-11-19T10:46:05.094Z"
   },
   {
    "duration": 176,
    "start_time": "2022-11-19T10:46:05.102Z"
   },
   {
    "duration": 3,
    "start_time": "2022-11-19T10:46:05.279Z"
   },
   {
    "duration": 542,
    "start_time": "2022-11-19T10:46:05.283Z"
   },
   {
    "duration": 19,
    "start_time": "2022-11-19T10:46:05.827Z"
   },
   {
    "duration": 233,
    "start_time": "2022-11-19T10:46:05.848Z"
   },
   {
    "duration": 4,
    "start_time": "2022-11-19T10:46:06.083Z"
   },
   {
    "duration": 6,
    "start_time": "2022-11-19T10:46:06.088Z"
   },
   {
    "duration": 33,
    "start_time": "2022-11-19T10:46:06.095Z"
   },
   {
    "duration": 152,
    "start_time": "2022-11-19T10:46:06.130Z"
   },
   {
    "duration": 196,
    "start_time": "2022-11-19T10:46:06.285Z"
   },
   {
    "duration": 158,
    "start_time": "2022-11-19T10:46:06.483Z"
   },
   {
    "duration": 1322,
    "start_time": "2022-11-19T10:46:17.322Z"
   },
   {
    "duration": 41,
    "start_time": "2022-11-19T10:46:18.646Z"
   },
   {
    "duration": 18,
    "start_time": "2022-11-19T10:46:18.689Z"
   },
   {
    "duration": 13,
    "start_time": "2022-11-19T10:46:18.708Z"
   },
   {
    "duration": 54,
    "start_time": "2022-11-19T10:46:18.723Z"
   },
   {
    "duration": 8,
    "start_time": "2022-11-19T10:46:18.779Z"
   },
   {
    "duration": 15,
    "start_time": "2022-11-19T10:46:18.788Z"
   },
   {
    "duration": 11,
    "start_time": "2022-11-19T10:46:18.805Z"
   },
   {
    "duration": 12,
    "start_time": "2022-11-19T10:46:18.817Z"
   },
   {
    "duration": 1018,
    "start_time": "2022-11-19T10:46:18.831Z"
   },
   {
    "duration": 536,
    "start_time": "2022-11-19T10:46:19.850Z"
   },
   {
    "duration": 6,
    "start_time": "2022-11-19T10:46:20.387Z"
   },
   {
    "duration": 142,
    "start_time": "2022-11-19T10:46:20.394Z"
   },
   {
    "duration": 4,
    "start_time": "2022-11-19T10:46:20.539Z"
   },
   {
    "duration": 9,
    "start_time": "2022-11-19T10:46:20.545Z"
   },
   {
    "duration": 34,
    "start_time": "2022-11-19T10:46:20.556Z"
   },
   {
    "duration": 128,
    "start_time": "2022-11-19T10:46:20.592Z"
   },
   {
    "duration": 4,
    "start_time": "2022-11-19T10:46:20.721Z"
   },
   {
    "duration": 10,
    "start_time": "2022-11-19T10:46:20.726Z"
   },
   {
    "duration": 15,
    "start_time": "2022-11-19T10:46:20.737Z"
   },
   {
    "duration": 6,
    "start_time": "2022-11-19T10:46:20.753Z"
   },
   {
    "duration": 12,
    "start_time": "2022-11-19T10:46:20.761Z"
   },
   {
    "duration": 11,
    "start_time": "2022-11-19T10:46:20.774Z"
   },
   {
    "duration": 11,
    "start_time": "2022-11-19T10:46:20.786Z"
   },
   {
    "duration": 13,
    "start_time": "2022-11-19T10:46:20.798Z"
   },
   {
    "duration": 14,
    "start_time": "2022-11-19T10:46:20.813Z"
   },
   {
    "duration": 10,
    "start_time": "2022-11-19T10:46:20.829Z"
   },
   {
    "duration": 12,
    "start_time": "2022-11-19T10:46:20.840Z"
   },
   {
    "duration": 28,
    "start_time": "2022-11-19T10:46:20.853Z"
   },
   {
    "duration": 3,
    "start_time": "2022-11-19T10:46:20.883Z"
   },
   {
    "duration": 194,
    "start_time": "2022-11-19T10:46:20.887Z"
   },
   {
    "duration": 3,
    "start_time": "2022-11-19T10:46:21.082Z"
   },
   {
    "duration": 512,
    "start_time": "2022-11-19T10:46:21.087Z"
   },
   {
    "duration": 15,
    "start_time": "2022-11-19T10:46:21.600Z"
   },
   {
    "duration": 263,
    "start_time": "2022-11-19T10:46:21.616Z"
   },
   {
    "duration": 4,
    "start_time": "2022-11-19T10:46:21.880Z"
   },
   {
    "duration": 8,
    "start_time": "2022-11-19T10:46:21.886Z"
   },
   {
    "duration": 31,
    "start_time": "2022-11-19T10:46:21.896Z"
   },
   {
    "duration": 150,
    "start_time": "2022-11-19T10:46:21.929Z"
   },
   {
    "duration": 200,
    "start_time": "2022-11-19T10:46:22.082Z"
   },
   {
    "duration": 157,
    "start_time": "2022-11-19T10:46:22.285Z"
   },
   {
    "duration": 334694,
    "start_time": "2022-11-19T10:46:22.444Z"
   },
   {
    "duration": 11,
    "start_time": "2022-11-19T10:51:57.139Z"
   },
   {
    "duration": 49,
    "start_time": "2022-11-19T10:51:57.152Z"
   },
   {
    "duration": 0,
    "start_time": "2022-11-19T10:51:57.202Z"
   },
   {
    "duration": 0,
    "start_time": "2022-11-19T10:51:57.203Z"
   },
   {
    "duration": 0,
    "start_time": "2022-11-19T10:51:57.204Z"
   },
   {
    "duration": 28,
    "start_time": "2022-11-19T10:53:45.327Z"
   },
   {
    "duration": 26,
    "start_time": "2022-11-19T10:54:01.181Z"
   },
   {
    "duration": 44,
    "start_time": "2022-11-19T10:54:27.030Z"
   },
   {
    "duration": 27,
    "start_time": "2022-11-19T10:54:32.526Z"
   },
   {
    "duration": 27,
    "start_time": "2022-11-19T10:54:50.527Z"
   },
   {
    "duration": 43,
    "start_time": "2022-11-19T10:55:31.277Z"
   },
   {
    "duration": 29,
    "start_time": "2022-11-19T10:55:46.151Z"
   },
   {
    "duration": 18,
    "start_time": "2022-11-19T10:55:49.870Z"
   },
   {
    "duration": 12,
    "start_time": "2022-11-19T10:55:58.909Z"
   },
   {
    "duration": 11,
    "start_time": "2022-11-19T10:56:04.443Z"
   },
   {
    "duration": 76,
    "start_time": "2022-11-19T10:56:35.202Z"
   },
   {
    "duration": 40,
    "start_time": "2022-11-19T10:57:02.542Z"
   },
   {
    "duration": 1324,
    "start_time": "2022-11-19T10:58:12.830Z"
   },
   {
    "duration": 43,
    "start_time": "2022-11-19T10:58:14.156Z"
   },
   {
    "duration": 19,
    "start_time": "2022-11-19T10:58:14.201Z"
   },
   {
    "duration": 13,
    "start_time": "2022-11-19T10:58:14.221Z"
   },
   {
    "duration": 46,
    "start_time": "2022-11-19T10:58:14.235Z"
   },
   {
    "duration": 7,
    "start_time": "2022-11-19T10:58:14.283Z"
   },
   {
    "duration": 10,
    "start_time": "2022-11-19T10:58:14.292Z"
   },
   {
    "duration": 12,
    "start_time": "2022-11-19T10:58:14.303Z"
   },
   {
    "duration": 13,
    "start_time": "2022-11-19T10:58:14.316Z"
   },
   {
    "duration": 1123,
    "start_time": "2022-11-19T10:58:14.330Z"
   },
   {
    "duration": 574,
    "start_time": "2022-11-19T10:58:15.455Z"
   },
   {
    "duration": 6,
    "start_time": "2022-11-19T10:58:16.031Z"
   },
   {
    "duration": 159,
    "start_time": "2022-11-19T10:58:16.039Z"
   },
   {
    "duration": 4,
    "start_time": "2022-11-19T10:58:16.201Z"
   },
   {
    "duration": 21,
    "start_time": "2022-11-19T10:58:16.206Z"
   },
   {
    "duration": 44,
    "start_time": "2022-11-19T10:58:16.229Z"
   },
   {
    "duration": 128,
    "start_time": "2022-11-19T10:58:16.275Z"
   },
   {
    "duration": 3,
    "start_time": "2022-11-19T10:58:16.405Z"
   },
   {
    "duration": 8,
    "start_time": "2022-11-19T10:58:16.410Z"
   },
   {
    "duration": 11,
    "start_time": "2022-11-19T10:58:16.419Z"
   },
   {
    "duration": 22,
    "start_time": "2022-11-19T10:58:16.431Z"
   },
   {
    "duration": 8,
    "start_time": "2022-11-19T10:58:16.454Z"
   },
   {
    "duration": 8,
    "start_time": "2022-11-19T10:58:16.463Z"
   },
   {
    "duration": 7,
    "start_time": "2022-11-19T10:58:16.473Z"
   },
   {
    "duration": 8,
    "start_time": "2022-11-19T10:58:16.482Z"
   },
   {
    "duration": 15,
    "start_time": "2022-11-19T10:58:16.492Z"
   },
   {
    "duration": 15,
    "start_time": "2022-11-19T10:58:16.509Z"
   },
   {
    "duration": 6,
    "start_time": "2022-11-19T10:58:16.525Z"
   },
   {
    "duration": 15,
    "start_time": "2022-11-19T10:58:16.532Z"
   },
   {
    "duration": 2,
    "start_time": "2022-11-19T10:58:16.549Z"
   },
   {
    "duration": 135,
    "start_time": "2022-11-19T10:58:16.553Z"
   },
   {
    "duration": 2,
    "start_time": "2022-11-19T10:58:16.777Z"
   },
   {
    "duration": 532,
    "start_time": "2022-11-19T10:58:16.781Z"
   },
   {
    "duration": 16,
    "start_time": "2022-11-19T10:58:17.314Z"
   },
   {
    "duration": 246,
    "start_time": "2022-11-19T10:58:17.332Z"
   },
   {
    "duration": 5,
    "start_time": "2022-11-19T10:58:17.579Z"
   },
   {
    "duration": 9,
    "start_time": "2022-11-19T10:58:17.585Z"
   },
   {
    "duration": 37,
    "start_time": "2022-11-19T10:58:17.596Z"
   },
   {
    "duration": 144,
    "start_time": "2022-11-19T10:58:17.634Z"
   },
   {
    "duration": 156,
    "start_time": "2022-11-19T10:58:17.781Z"
   },
   {
    "duration": 154,
    "start_time": "2022-11-19T10:58:17.940Z"
   },
   {
    "duration": 342342,
    "start_time": "2022-11-19T10:58:18.096Z"
   },
   {
    "duration": 10,
    "start_time": "2022-11-19T11:04:00.439Z"
   },
   {
    "duration": 129,
    "start_time": "2022-11-19T11:04:00.451Z"
   },
   {
    "duration": 3301,
    "start_time": "2022-11-19T11:04:00.582Z"
   },
   {
    "duration": 150533,
    "start_time": "2022-11-19T11:04:03.886Z"
   },
   {
    "duration": 6179,
    "start_time": "2022-11-19T11:06:34.420Z"
   },
   {
    "duration": 347434,
    "start_time": "2022-11-19T11:13:40.253Z"
   },
   {
    "duration": 113,
    "start_time": "2022-11-19T11:20:20.098Z"
   },
   {
    "duration": 141,
    "start_time": "2022-11-19T11:22:05.329Z"
   },
   {
    "duration": 4,
    "start_time": "2022-11-19T11:22:07.841Z"
   },
   {
    "duration": 4,
    "start_time": "2022-11-19T11:22:13.842Z"
   },
   {
    "duration": 3111,
    "start_time": "2022-11-19T11:23:34.174Z"
   },
   {
    "duration": 53,
    "start_time": "2022-11-19T11:24:13.337Z"
   },
   {
    "duration": 44,
    "start_time": "2022-11-19T11:24:20.335Z"
   },
   {
    "duration": 49,
    "start_time": "2022-11-19T11:24:26.291Z"
   },
   {
    "duration": 45,
    "start_time": "2022-11-19T11:24:30.390Z"
   },
   {
    "duration": 40,
    "start_time": "2022-11-19T11:24:38.322Z"
   },
   {
    "duration": 3,
    "start_time": "2022-11-19T11:24:45.788Z"
   },
   {
    "duration": 61,
    "start_time": "2022-11-19T11:24:55.593Z"
   },
   {
    "duration": 47,
    "start_time": "2022-11-19T11:25:01.326Z"
   },
   {
    "duration": 54,
    "start_time": "2022-11-19T11:25:04.345Z"
   },
   {
    "duration": 3,
    "start_time": "2022-11-19T11:25:07.105Z"
   },
   {
    "duration": 2740,
    "start_time": "2022-11-19T11:25:13.247Z"
   },
   {
    "duration": 35,
    "start_time": "2022-11-19T11:25:34.448Z"
   },
   {
    "duration": 3077,
    "start_time": "2022-11-19T11:26:55.105Z"
   },
   {
    "duration": 126,
    "start_time": "2022-11-19T11:28:42.564Z"
   },
   {
    "duration": 4,
    "start_time": "2022-11-19T11:40:39.153Z"
   },
   {
    "duration": 93,
    "start_time": "2022-11-19T11:40:45.624Z"
   },
   {
    "duration": 63,
    "start_time": "2022-11-19T11:40:51.853Z"
   },
   {
    "duration": 59,
    "start_time": "2022-11-19T11:40:54.692Z"
   },
   {
    "duration": 54,
    "start_time": "2022-11-19T11:40:59.371Z"
   },
   {
    "duration": 4,
    "start_time": "2022-11-19T11:41:05.824Z"
   },
   {
    "duration": 40,
    "start_time": "2022-11-19T11:41:06.012Z"
   },
   {
    "duration": 4,
    "start_time": "2022-11-19T11:41:22.801Z"
   },
   {
    "duration": 268,
    "start_time": "2022-11-19T11:44:10.115Z"
   },
   {
    "duration": 203,
    "start_time": "2022-11-19T11:44:23.492Z"
   },
   {
    "duration": 131,
    "start_time": "2022-11-19T11:45:08.502Z"
   },
   {
    "duration": 106,
    "start_time": "2022-11-19T11:45:34.013Z"
   },
   {
    "duration": 162204,
    "start_time": "2022-11-19T11:45:44.800Z"
   },
   {
    "duration": 225,
    "start_time": "2022-11-19T11:48:27.006Z"
   },
   {
    "duration": 190,
    "start_time": "2022-11-19T11:50:36.780Z"
   },
   {
    "duration": 82,
    "start_time": "2022-11-19T11:51:05.857Z"
   },
   {
    "duration": 238,
    "start_time": "2022-11-19T11:51:42.598Z"
   },
   {
    "duration": 176,
    "start_time": "2022-11-19T11:52:17.493Z"
   },
   {
    "duration": 228,
    "start_time": "2022-11-19T11:52:50.401Z"
   },
   {
    "duration": 230,
    "start_time": "2022-11-19T11:53:41.148Z"
   },
   {
    "duration": 39,
    "start_time": "2022-11-19T11:54:23.184Z"
   },
   {
    "duration": 3,
    "start_time": "2022-11-19T11:58:33.263Z"
   },
   {
    "duration": 560,
    "start_time": "2022-11-19T11:59:02.620Z"
   },
   {
    "duration": 272472,
    "start_time": "2022-11-19T11:59:26.416Z"
   },
   {
    "duration": 27,
    "start_time": "2022-11-19T12:03:58.891Z"
   },
   {
    "duration": 11,
    "start_time": "2022-11-19T12:03:58.920Z"
   },
   {
    "duration": 17,
    "start_time": "2022-11-19T12:06:37.393Z"
   },
   {
    "duration": 5,
    "start_time": "2022-11-19T12:07:01.276Z"
   },
   {
    "duration": 2986,
    "start_time": "2022-11-19T12:08:16.093Z"
   },
   {
    "duration": 2295,
    "start_time": "2022-11-19T12:08:29.575Z"
   },
   {
    "duration": 81,
    "start_time": "2022-11-19T12:08:43.224Z"
   },
   {
    "duration": 30,
    "start_time": "2022-11-19T12:11:35.913Z"
   },
   {
    "duration": 25,
    "start_time": "2022-11-19T12:11:42.320Z"
   },
   {
    "duration": 7,
    "start_time": "2022-11-19T12:12:01.378Z"
   },
   {
    "duration": 24,
    "start_time": "2022-11-19T12:12:02.090Z"
   },
   {
    "duration": 3,
    "start_time": "2022-11-19T12:12:18.201Z"
   },
   {
    "duration": 12,
    "start_time": "2022-11-19T12:12:18.896Z"
   },
   {
    "duration": 3,
    "start_time": "2022-11-19T12:12:36.488Z"
   },
   {
    "duration": 14,
    "start_time": "2022-11-19T12:12:37.982Z"
   },
   {
    "duration": 24,
    "start_time": "2022-11-19T12:15:27.598Z"
   },
   {
    "duration": 10,
    "start_time": "2022-11-19T12:15:30.694Z"
   },
   {
    "duration": 23,
    "start_time": "2022-11-19T12:15:48.442Z"
   },
   {
    "duration": 14,
    "start_time": "2022-11-19T12:16:07.189Z"
   },
   {
    "duration": 48,
    "start_time": "2022-11-19T12:16:08.431Z"
   },
   {
    "duration": 13,
    "start_time": "2022-11-19T12:16:09.417Z"
   },
   {
    "duration": 5,
    "start_time": "2022-11-19T12:16:13.697Z"
   },
   {
    "duration": 5,
    "start_time": "2022-11-19T12:16:14.826Z"
   },
   {
    "duration": 19,
    "start_time": "2022-11-19T12:16:18.491Z"
   },
   {
    "duration": 40,
    "start_time": "2022-11-19T12:16:36.091Z"
   },
   {
    "duration": 4,
    "start_time": "2022-11-19T12:16:39.339Z"
   },
   {
    "duration": 4,
    "start_time": "2022-11-19T12:17:02.010Z"
   },
   {
    "duration": 2,
    "start_time": "2022-11-19T12:17:25.407Z"
   },
   {
    "duration": 13,
    "start_time": "2022-11-19T12:17:26.752Z"
   },
   {
    "duration": 5,
    "start_time": "2022-11-19T12:17:41.425Z"
   },
   {
    "duration": 6,
    "start_time": "2022-11-19T12:17:42.912Z"
   },
   {
    "duration": 5,
    "start_time": "2022-11-19T12:17:43.294Z"
   },
   {
    "duration": 6,
    "start_time": "2022-11-19T12:17:43.937Z"
   },
   {
    "duration": 12,
    "start_time": "2022-11-19T12:18:00.611Z"
   },
   {
    "duration": 3,
    "start_time": "2022-11-19T12:18:02.430Z"
   },
   {
    "duration": 24,
    "start_time": "2022-11-19T12:18:04.934Z"
   },
   {
    "duration": 7,
    "start_time": "2022-11-19T12:18:30.547Z"
   },
   {
    "duration": 11,
    "start_time": "2022-11-19T12:19:31.310Z"
   },
   {
    "duration": 17,
    "start_time": "2022-11-19T12:19:31.323Z"
   },
   {
    "duration": 12,
    "start_time": "2022-11-19T12:19:31.341Z"
   },
   {
    "duration": 1136,
    "start_time": "2022-11-19T12:19:31.390Z"
   },
   {
    "duration": 569,
    "start_time": "2022-11-19T12:19:32.528Z"
   },
   {
    "duration": 6,
    "start_time": "2022-11-19T12:19:33.098Z"
   },
   {
    "duration": 146,
    "start_time": "2022-11-19T12:19:33.106Z"
   },
   {
    "duration": 3,
    "start_time": "2022-11-19T12:19:33.254Z"
   },
   {
    "duration": 30,
    "start_time": "2022-11-19T12:19:33.258Z"
   },
   {
    "duration": 0,
    "start_time": "2022-11-19T12:19:33.290Z"
   },
   {
    "duration": 0,
    "start_time": "2022-11-19T12:19:33.291Z"
   },
   {
    "duration": 17,
    "start_time": "2022-11-19T12:19:42.489Z"
   },
   {
    "duration": 22,
    "start_time": "2022-11-19T12:19:47.519Z"
   },
   {
    "duration": 4,
    "start_time": "2022-11-19T12:19:50.906Z"
   },
   {
    "duration": 5,
    "start_time": "2022-11-19T12:19:52.516Z"
   },
   {
    "duration": 5,
    "start_time": "2022-11-19T12:19:52.894Z"
   },
   {
    "duration": 6,
    "start_time": "2022-11-19T12:19:53.335Z"
   },
   {
    "duration": 4,
    "start_time": "2022-11-19T12:19:53.727Z"
   },
   {
    "duration": 6,
    "start_time": "2022-11-19T12:19:55.095Z"
   },
   {
    "duration": 6,
    "start_time": "2022-11-19T12:19:55.290Z"
   },
   {
    "duration": 7,
    "start_time": "2022-11-19T12:20:00.442Z"
   },
   {
    "duration": 15,
    "start_time": "2022-11-19T12:20:07.007Z"
   },
   {
    "duration": 3,
    "start_time": "2022-11-19T12:20:09.194Z"
   },
   {
    "duration": 162,
    "start_time": "2022-11-19T12:20:09.715Z"
   },
   {
    "duration": 1375,
    "start_time": "2022-11-19T12:21:02.025Z"
   },
   {
    "duration": 254919,
    "start_time": "2022-11-19T12:21:48.986Z"
   },
   {
    "duration": 26,
    "start_time": "2022-11-19T12:32:06.878Z"
   },
   {
    "duration": 45,
    "start_time": "2022-11-19T12:32:24.799Z"
   },
   {
    "duration": 5,
    "start_time": "2022-11-19T12:32:35.377Z"
   },
   {
    "duration": 71,
    "start_time": "2022-11-19T12:32:41.329Z"
   },
   {
    "duration": 4,
    "start_time": "2022-11-19T12:32:59.757Z"
   },
   {
    "duration": 3,
    "start_time": "2022-11-19T12:33:00.283Z"
   },
   {
    "duration": 5,
    "start_time": "2022-11-19T12:33:00.796Z"
   },
   {
    "duration": 6,
    "start_time": "2022-11-19T12:33:01.326Z"
   },
   {
    "duration": 4,
    "start_time": "2022-11-19T12:33:01.774Z"
   },
   {
    "duration": 6,
    "start_time": "2022-11-19T12:33:02.287Z"
   },
   {
    "duration": 4,
    "start_time": "2022-11-19T12:33:02.901Z"
   },
   {
    "duration": 13,
    "start_time": "2022-11-19T12:33:12.078Z"
   },
   {
    "duration": 6,
    "start_time": "2022-11-19T12:33:45.672Z"
   },
   {
    "duration": 23,
    "start_time": "2022-11-19T12:33:50.191Z"
   },
   {
    "duration": 5,
    "start_time": "2022-11-19T12:33:58.616Z"
   },
   {
    "duration": 38,
    "start_time": "2022-11-19T12:33:58.753Z"
   },
   {
    "duration": 16,
    "start_time": "2022-11-19T12:33:58.925Z"
   },
   {
    "duration": 13,
    "start_time": "2022-11-19T12:33:59.099Z"
   },
   {
    "duration": 41,
    "start_time": "2022-11-19T12:33:59.272Z"
   },
   {
    "duration": 44,
    "start_time": "2022-11-19T12:33:59.570Z"
   },
   {
    "duration": 9,
    "start_time": "2022-11-19T12:33:59.748Z"
   },
   {
    "duration": 15,
    "start_time": "2022-11-19T12:33:59.924Z"
   },
   {
    "duration": 16,
    "start_time": "2022-11-19T12:34:00.114Z"
   },
   {
    "duration": 19,
    "start_time": "2022-11-19T12:34:00.426Z"
   },
   {
    "duration": 1023,
    "start_time": "2022-11-19T12:34:00.940Z"
   },
   {
    "duration": 633,
    "start_time": "2022-11-19T12:34:01.965Z"
   },
   {
    "duration": 6,
    "start_time": "2022-11-19T12:34:03.255Z"
   },
   {
    "duration": 191,
    "start_time": "2022-11-19T12:34:04.409Z"
   },
   {
    "duration": 6,
    "start_time": "2022-11-19T12:34:07.888Z"
   },
   {
    "duration": 4,
    "start_time": "2022-11-19T12:34:08.751Z"
   },
   {
    "duration": 2,
    "start_time": "2022-11-19T12:34:11.294Z"
   },
   {
    "duration": 75,
    "start_time": "2022-11-19T12:34:14.521Z"
   },
   {
    "duration": 5,
    "start_time": "2022-11-19T12:34:18.994Z"
   },
   {
    "duration": 3,
    "start_time": "2022-11-19T12:34:19.283Z"
   },
   {
    "duration": 5,
    "start_time": "2022-11-19T12:34:20.415Z"
   },
   {
    "duration": 8,
    "start_time": "2022-11-19T12:34:20.816Z"
   },
   {
    "duration": 6,
    "start_time": "2022-11-19T12:34:21.296Z"
   },
   {
    "duration": 7,
    "start_time": "2022-11-19T12:34:22.148Z"
   },
   {
    "duration": 5,
    "start_time": "2022-11-19T12:34:22.536Z"
   },
   {
    "duration": 14,
    "start_time": "2022-11-19T12:34:25.590Z"
   },
   {
    "duration": 4,
    "start_time": "2022-11-19T12:34:27.300Z"
   },
   {
    "duration": 94,
    "start_time": "2022-11-19T12:34:39.990Z"
   },
   {
    "duration": 251829,
    "start_time": "2022-11-19T12:35:09.183Z"
   },
   {
    "duration": 26,
    "start_time": "2022-11-19T12:42:39.897Z"
   },
   {
    "duration": 3,
    "start_time": "2022-11-19T12:43:02.772Z"
   },
   {
    "duration": 38,
    "start_time": "2022-11-19T12:43:02.979Z"
   },
   {
    "duration": 15,
    "start_time": "2022-11-19T12:43:03.108Z"
   },
   {
    "duration": 13,
    "start_time": "2022-11-19T12:43:03.247Z"
   },
   {
    "duration": 40,
    "start_time": "2022-11-19T12:43:03.434Z"
   },
   {
    "duration": 49,
    "start_time": "2022-11-19T12:43:03.740Z"
   },
   {
    "duration": 8,
    "start_time": "2022-11-19T12:43:03.893Z"
   },
   {
    "duration": 14,
    "start_time": "2022-11-19T12:43:04.076Z"
   },
   {
    "duration": 12,
    "start_time": "2022-11-19T12:43:04.375Z"
   },
   {
    "duration": 18,
    "start_time": "2022-11-19T12:43:04.817Z"
   },
   {
    "duration": 940,
    "start_time": "2022-11-19T12:43:05.363Z"
   },
   {
    "duration": 545,
    "start_time": "2022-11-19T12:43:06.305Z"
   },
   {
    "duration": 6,
    "start_time": "2022-11-19T12:43:07.350Z"
   },
   {
    "duration": 148,
    "start_time": "2022-11-19T12:43:08.044Z"
   },
   {
    "duration": 4,
    "start_time": "2022-11-19T12:43:10.204Z"
   },
   {
    "duration": 5,
    "start_time": "2022-11-19T12:43:10.887Z"
   },
   {
    "duration": 18,
    "start_time": "2022-11-19T12:43:11.280Z"
   },
   {
    "duration": 39,
    "start_time": "2022-11-19T12:43:19.275Z"
   },
   {
    "duration": 4,
    "start_time": "2022-11-19T12:43:27.373Z"
   },
   {
    "duration": 35,
    "start_time": "2022-11-19T12:43:27.379Z"
   },
   {
    "duration": 46,
    "start_time": "2022-11-19T12:43:27.416Z"
   },
   {
    "duration": 18,
    "start_time": "2022-11-19T12:43:27.464Z"
   },
   {
    "duration": 6,
    "start_time": "2022-11-19T12:43:27.485Z"
   },
   {
    "duration": 7,
    "start_time": "2022-11-19T12:43:27.906Z"
   },
   {
    "duration": 4,
    "start_time": "2022-11-19T12:43:30.991Z"
   },
   {
    "duration": 11,
    "start_time": "2022-11-19T12:43:34.434Z"
   },
   {
    "duration": 3,
    "start_time": "2022-11-19T12:43:40.334Z"
   },
   {
    "duration": 137,
    "start_time": "2022-11-19T12:43:42.241Z"
   },
   {
    "duration": 1261,
    "start_time": "2022-11-19T12:43:50.399Z"
   },
   {
    "duration": 920,
    "start_time": "2022-11-19T12:43:59.539Z"
   },
   {
    "duration": 164,
    "start_time": "2022-11-19T12:44:14.715Z"
   },
   {
    "duration": 25,
    "start_time": "2022-11-19T12:44:30.593Z"
   },
   {
    "duration": 66,
    "start_time": "2022-11-19T12:44:34.020Z"
   },
   {
    "duration": 268,
    "start_time": "2022-11-19T12:44:47.610Z"
   },
   {
    "duration": 890,
    "start_time": "2022-11-19T12:44:59.297Z"
   },
   {
    "duration": 1292,
    "start_time": "2022-11-19T12:45:28.785Z"
   },
   {
    "duration": 865,
    "start_time": "2022-11-19T12:45:49.119Z"
   },
   {
    "duration": 341583,
    "start_time": "2022-11-19T12:45:56.498Z"
   },
   {
    "duration": 12,
    "start_time": "2022-11-19T12:52:13.922Z"
   },
   {
    "duration": 72,
    "start_time": "2022-11-19T12:52:18.310Z"
   },
   {
    "duration": 232,
    "start_time": "2022-11-19T12:52:35.046Z"
   },
   {
    "duration": 140834,
    "start_time": "2022-11-19T12:53:06.040Z"
   },
   {
    "duration": 1681,
    "start_time": "2022-11-19T12:57:05.996Z"
   },
   {
    "duration": 1516,
    "start_time": "2022-11-19T12:57:21.272Z"
   },
   {
    "duration": 9,
    "start_time": "2022-11-19T12:58:26.912Z"
   },
   {
    "duration": 17,
    "start_time": "2022-11-19T12:58:34.668Z"
   },
   {
    "duration": 13,
    "start_time": "2022-11-19T12:58:43.694Z"
   },
   {
    "duration": 1719,
    "start_time": "2022-11-19T12:59:16.474Z"
   },
   {
    "duration": 37,
    "start_time": "2022-11-19T12:59:23.433Z"
   },
   {
    "duration": 106,
    "start_time": "2022-11-19T12:59:56.549Z"
   },
   {
    "duration": 343,
    "start_time": "2022-11-19T13:00:19.372Z"
   },
   {
    "duration": 88,
    "start_time": "2022-11-19T13:00:37.614Z"
   },
   {
    "duration": 1438,
    "start_time": "2022-11-19T13:08:44.123Z"
   },
   {
    "duration": 65,
    "start_time": "2022-11-19T13:08:45.563Z"
   },
   {
    "duration": 17,
    "start_time": "2022-11-19T13:08:45.630Z"
   },
   {
    "duration": 13,
    "start_time": "2022-11-19T13:08:45.648Z"
   },
   {
    "duration": 53,
    "start_time": "2022-11-19T13:08:45.663Z"
   },
   {
    "duration": 40,
    "start_time": "2022-11-19T13:08:45.717Z"
   },
   {
    "duration": 0,
    "start_time": "2022-11-19T13:08:45.759Z"
   },
   {
    "duration": 1,
    "start_time": "2022-11-19T13:08:45.760Z"
   },
   {
    "duration": 0,
    "start_time": "2022-11-19T13:08:45.761Z"
   },
   {
    "duration": 0,
    "start_time": "2022-11-19T13:08:45.762Z"
   },
   {
    "duration": 0,
    "start_time": "2022-11-19T13:08:45.763Z"
   },
   {
    "duration": 0,
    "start_time": "2022-11-19T13:08:45.764Z"
   },
   {
    "duration": 0,
    "start_time": "2022-11-19T13:08:45.765Z"
   },
   {
    "duration": 0,
    "start_time": "2022-11-19T13:08:45.766Z"
   },
   {
    "duration": 0,
    "start_time": "2022-11-19T13:08:45.767Z"
   },
   {
    "duration": 0,
    "start_time": "2022-11-19T13:08:45.768Z"
   },
   {
    "duration": 0,
    "start_time": "2022-11-19T13:08:45.770Z"
   },
   {
    "duration": 0,
    "start_time": "2022-11-19T13:08:45.770Z"
   },
   {
    "duration": 0,
    "start_time": "2022-11-19T13:08:45.771Z"
   },
   {
    "duration": 0,
    "start_time": "2022-11-19T13:08:45.772Z"
   },
   {
    "duration": 0,
    "start_time": "2022-11-19T13:08:45.773Z"
   },
   {
    "duration": 0,
    "start_time": "2022-11-19T13:08:45.774Z"
   },
   {
    "duration": 0,
    "start_time": "2022-11-19T13:08:45.775Z"
   },
   {
    "duration": 0,
    "start_time": "2022-11-19T13:08:45.778Z"
   },
   {
    "duration": 0,
    "start_time": "2022-11-19T13:08:45.779Z"
   },
   {
    "duration": 0,
    "start_time": "2022-11-19T13:08:45.779Z"
   },
   {
    "duration": 0,
    "start_time": "2022-11-19T13:08:45.783Z"
   },
   {
    "duration": 0,
    "start_time": "2022-11-19T13:08:45.784Z"
   },
   {
    "duration": 0,
    "start_time": "2022-11-19T13:08:45.785Z"
   },
   {
    "duration": 0,
    "start_time": "2022-11-19T13:08:45.786Z"
   },
   {
    "duration": 0,
    "start_time": "2022-11-19T13:08:45.787Z"
   },
   {
    "duration": 0,
    "start_time": "2022-11-19T13:08:45.788Z"
   },
   {
    "duration": 0,
    "start_time": "2022-11-19T13:08:45.789Z"
   },
   {
    "duration": 0,
    "start_time": "2022-11-19T13:08:45.790Z"
   },
   {
    "duration": 1,
    "start_time": "2022-11-19T13:08:45.791Z"
   },
   {
    "duration": 0,
    "start_time": "2022-11-19T13:08:45.793Z"
   },
   {
    "duration": 0,
    "start_time": "2022-11-19T13:08:45.794Z"
   },
   {
    "duration": 0,
    "start_time": "2022-11-19T13:08:45.796Z"
   },
   {
    "duration": 0,
    "start_time": "2022-11-19T13:08:45.797Z"
   },
   {
    "duration": 0,
    "start_time": "2022-11-19T13:08:45.801Z"
   },
   {
    "duration": 0,
    "start_time": "2022-11-19T13:08:45.802Z"
   },
   {
    "duration": 0,
    "start_time": "2022-11-19T13:08:45.803Z"
   },
   {
    "duration": 0,
    "start_time": "2022-11-19T13:08:45.807Z"
   },
   {
    "duration": 0,
    "start_time": "2022-11-19T13:08:45.808Z"
   },
   {
    "duration": 0,
    "start_time": "2022-11-19T13:08:45.809Z"
   },
   {
    "duration": 0,
    "start_time": "2022-11-19T13:08:45.810Z"
   },
   {
    "duration": 0,
    "start_time": "2022-11-19T13:08:45.811Z"
   },
   {
    "duration": 42,
    "start_time": "2022-11-19T13:14:53.010Z"
   },
   {
    "duration": 27,
    "start_time": "2022-11-19T13:15:19.889Z"
   },
   {
    "duration": 14,
    "start_time": "2022-11-19T13:15:27.669Z"
   },
   {
    "duration": 25,
    "start_time": "2022-11-19T13:15:43.677Z"
   },
   {
    "duration": 15,
    "start_time": "2022-11-19T13:16:03.637Z"
   },
   {
    "duration": 12,
    "start_time": "2022-11-19T13:16:11.789Z"
   },
   {
    "duration": 15,
    "start_time": "2022-11-19T13:17:39.037Z"
   },
   {
    "duration": 7,
    "start_time": "2022-11-19T13:18:11.800Z"
   },
   {
    "duration": 8,
    "start_time": "2022-11-19T13:18:30.119Z"
   },
   {
    "duration": 13,
    "start_time": "2022-11-19T13:18:30.789Z"
   },
   {
    "duration": 12,
    "start_time": "2022-11-19T13:20:48.141Z"
   },
   {
    "duration": 14,
    "start_time": "2022-11-19T13:20:48.263Z"
   },
   {
    "duration": 1119,
    "start_time": "2022-11-19T13:20:48.455Z"
   },
   {
    "duration": 561,
    "start_time": "2022-11-19T13:20:49.577Z"
   },
   {
    "duration": 6,
    "start_time": "2022-11-19T13:20:50.140Z"
   },
   {
    "duration": 176,
    "start_time": "2022-11-19T13:20:50.149Z"
   },
   {
    "duration": 4,
    "start_time": "2022-11-19T13:20:50.328Z"
   },
   {
    "duration": 4,
    "start_time": "2022-11-19T13:20:52.101Z"
   },
   {
    "duration": 25,
    "start_time": "2022-11-19T13:20:52.773Z"
   },
   {
    "duration": 2226,
    "start_time": "2022-11-19T13:20:53.157Z"
   },
   {
    "duration": 213,
    "start_time": "2022-11-19T13:20:55.387Z"
   },
   {
    "duration": 4,
    "start_time": "2022-11-19T13:21:07.245Z"
   },
   {
    "duration": 3,
    "start_time": "2022-11-19T13:21:07.590Z"
   },
   {
    "duration": 5,
    "start_time": "2022-11-19T13:21:08.312Z"
   },
   {
    "duration": 7,
    "start_time": "2022-11-19T13:21:08.545Z"
   },
   {
    "duration": 4,
    "start_time": "2022-11-19T13:21:08.725Z"
   },
   {
    "duration": 7,
    "start_time": "2022-11-19T13:21:08.888Z"
   },
   {
    "duration": 4,
    "start_time": "2022-11-19T13:21:09.311Z"
   },
   {
    "duration": 13,
    "start_time": "2022-11-19T13:21:10.741Z"
   },
   {
    "duration": 3,
    "start_time": "2022-11-19T13:21:11.921Z"
   },
   {
    "duration": 101,
    "start_time": "2022-11-19T13:21:13.891Z"
   },
   {
    "duration": 87256,
    "start_time": "2022-11-19T13:23:22.631Z"
   },
   {
    "duration": 1013,
    "start_time": "2022-11-19T13:24:49.889Z"
   },
   {
    "duration": 19,
    "start_time": "2022-11-19T13:24:50.903Z"
   },
   {
    "duration": 267,
    "start_time": "2022-11-19T13:24:50.923Z"
   },
   {
    "duration": 24,
    "start_time": "2022-11-19T13:24:51.193Z"
   },
   {
    "duration": 77,
    "start_time": "2022-11-19T13:24:51.218Z"
   },
   {
    "duration": 1006,
    "start_time": "2022-11-19T13:24:51.376Z"
   },
   {
    "duration": 1712,
    "start_time": "2022-11-19T13:24:52.384Z"
   },
   {
    "duration": 363479,
    "start_time": "2022-11-19T13:24:54.098Z"
   },
   {
    "duration": 18,
    "start_time": "2022-11-19T13:30:57.581Z"
   },
   {
    "duration": 177,
    "start_time": "2022-11-19T13:30:57.601Z"
   },
   {
    "duration": 2309,
    "start_time": "2022-11-19T13:30:57.784Z"
   },
   {
    "duration": 325,
    "start_time": "2022-11-19T13:31:00.096Z"
   },
   {
    "duration": 239,
    "start_time": "2022-11-19T13:31:00.423Z"
   },
   {
    "duration": 149186,
    "start_time": "2022-11-19T13:31:00.664Z"
   },
   {
    "duration": 5656,
    "start_time": "2022-11-19T13:33:29.852Z"
   },
   {
    "duration": 4,
    "start_time": "2022-11-19T13:33:35.510Z"
   },
   {
    "duration": 135,
    "start_time": "2022-11-19T13:33:35.516Z"
   },
   {
    "duration": 138,
    "start_time": "2022-11-19T13:34:04.875Z"
   },
   {
    "duration": 108,
    "start_time": "2022-11-19T13:57:25.909Z"
   },
   {
    "duration": 763,
    "start_time": "2022-11-19T13:57:34.230Z"
   },
   {
    "duration": 261,
    "start_time": "2022-11-19T13:57:49.527Z"
   },
   {
    "duration": 478,
    "start_time": "2022-11-19T13:58:49.800Z"
   },
   {
    "duration": 547,
    "start_time": "2022-11-19T13:59:09.234Z"
   },
   {
    "duration": 1547,
    "start_time": "2022-11-19T14:00:53.970Z"
   },
   {
    "duration": 3,
    "start_time": "2022-11-19T14:00:55.520Z"
   },
   {
    "duration": 2275,
    "start_time": "2022-11-19T14:00:55.525Z"
   },
   {
    "duration": 45,
    "start_time": "2022-11-19T14:00:57.803Z"
   },
   {
    "duration": 21,
    "start_time": "2022-11-19T14:00:57.849Z"
   },
   {
    "duration": 18,
    "start_time": "2022-11-19T14:00:57.872Z"
   },
   {
    "duration": 47,
    "start_time": "2022-11-19T14:00:57.891Z"
   },
   {
    "duration": 7,
    "start_time": "2022-11-19T14:00:57.939Z"
   },
   {
    "duration": 9,
    "start_time": "2022-11-19T14:00:57.948Z"
   },
   {
    "duration": 30,
    "start_time": "2022-11-19T14:00:57.959Z"
   },
   {
    "duration": 19,
    "start_time": "2022-11-19T14:00:57.991Z"
   },
   {
    "duration": 15,
    "start_time": "2022-11-19T14:00:58.012Z"
   },
   {
    "duration": 1101,
    "start_time": "2022-11-19T14:00:58.029Z"
   },
   {
    "duration": 615,
    "start_time": "2022-11-19T14:00:59.131Z"
   },
   {
    "duration": 6,
    "start_time": "2022-11-19T14:00:59.748Z"
   },
   {
    "duration": 167,
    "start_time": "2022-11-19T14:00:59.756Z"
   },
   {
    "duration": 4,
    "start_time": "2022-11-19T14:00:59.925Z"
   },
   {
    "duration": 4,
    "start_time": "2022-11-19T14:01:00.055Z"
   },
   {
    "duration": 30,
    "start_time": "2022-11-19T14:01:00.273Z"
   },
   {
    "duration": 195,
    "start_time": "2022-11-19T14:01:00.511Z"
   },
   {
    "duration": 4,
    "start_time": "2022-11-19T14:01:01.119Z"
   },
   {
    "duration": 2,
    "start_time": "2022-11-19T14:01:01.461Z"
   },
   {
    "duration": 5,
    "start_time": "2022-11-19T14:01:01.790Z"
   },
   {
    "duration": 6,
    "start_time": "2022-11-19T14:01:02.121Z"
   },
   {
    "duration": 9,
    "start_time": "2022-11-19T14:01:02.375Z"
   },
   {
    "duration": 6,
    "start_time": "2022-11-19T14:01:02.669Z"
   },
   {
    "duration": 5,
    "start_time": "2022-11-19T14:01:03.094Z"
   },
   {
    "duration": 16,
    "start_time": "2022-11-19T14:01:03.996Z"
   },
   {
    "duration": 72,
    "start_time": "2022-11-19T14:01:05.512Z"
   },
   {
    "duration": 481,
    "start_time": "2022-11-19T14:01:07.314Z"
   },
   {
    "duration": 390,
    "start_time": "2022-11-19T14:01:15.902Z"
   },
   {
    "duration": 381,
    "start_time": "2022-11-19T14:01:22.001Z"
   },
   {
    "duration": 347,
    "start_time": "2022-11-19T14:01:29.534Z"
   },
   {
    "duration": 1069,
    "start_time": "2022-11-19T14:01:49.746Z"
   },
   {
    "duration": 3432,
    "start_time": "2022-11-19T14:02:05.921Z"
   },
   {
    "duration": 353,
    "start_time": "2022-11-19T14:03:15.739Z"
   },
   {
    "duration": 3679,
    "start_time": "2022-11-19T14:03:36.887Z"
   },
   {
    "duration": 116,
    "start_time": "2022-11-19T14:11:19.513Z"
   },
   {
    "duration": 5,
    "start_time": "2022-11-19T14:11:55.012Z"
   },
   {
    "duration": 5,
    "start_time": "2022-11-19T14:12:03.122Z"
   },
   {
    "duration": 181044,
    "start_time": "2022-11-19T14:12:35.582Z"
   },
   {
    "duration": 9,
    "start_time": "2022-11-19T14:20:26.782Z"
   },
   {
    "duration": 2884,
    "start_time": "2022-11-19T14:22:42.752Z"
   },
   {
    "duration": 8,
    "start_time": "2022-11-19T14:22:49.087Z"
   },
   {
    "duration": 13,
    "start_time": "2022-11-19T14:23:00.797Z"
   },
   {
    "duration": 6,
    "start_time": "2022-11-19T14:23:12.213Z"
   },
   {
    "duration": 4,
    "start_time": "2022-11-19T14:24:37.268Z"
   },
   {
    "duration": 2537,
    "start_time": "2022-11-19T14:24:37.917Z"
   },
   {
    "duration": 5,
    "start_time": "2022-11-19T14:24:57.102Z"
   },
   {
    "duration": 2056,
    "start_time": "2022-11-19T14:24:57.274Z"
   },
   {
    "duration": 2311,
    "start_time": "2022-11-19T14:25:50.670Z"
   },
   {
    "duration": 5,
    "start_time": "2022-11-19T14:25:59.867Z"
   },
   {
    "duration": 12,
    "start_time": "2022-11-19T14:27:02.611Z"
   },
   {
    "duration": 135,
    "start_time": "2022-11-19T14:27:13.655Z"
   },
   {
    "duration": 2323,
    "start_time": "2022-11-19T14:27:33.023Z"
   },
   {
    "duration": 5,
    "start_time": "2022-11-19T14:27:37.899Z"
   },
   {
    "duration": 189,
    "start_time": "2022-11-19T14:27:39.404Z"
   },
   {
    "duration": 3,
    "start_time": "2022-11-19T14:28:06.090Z"
   },
   {
    "duration": 2,
    "start_time": "2022-11-19T14:28:06.529Z"
   },
   {
    "duration": 2062,
    "start_time": "2022-11-19T14:28:06.948Z"
   },
   {
    "duration": 43,
    "start_time": "2022-11-19T14:28:09.013Z"
   },
   {
    "duration": 14,
    "start_time": "2022-11-19T14:28:09.313Z"
   },
   {
    "duration": 14,
    "start_time": "2022-11-19T14:28:09.843Z"
   },
   {
    "duration": 37,
    "start_time": "2022-11-19T14:28:11.530Z"
   },
   {
    "duration": 7,
    "start_time": "2022-11-19T14:28:11.890Z"
   },
   {
    "duration": 9,
    "start_time": "2022-11-19T14:28:12.011Z"
   },
   {
    "duration": 12,
    "start_time": "2022-11-19T14:28:12.189Z"
   },
   {
    "duration": 16,
    "start_time": "2022-11-19T14:28:12.346Z"
   },
   {
    "duration": 19,
    "start_time": "2022-11-19T14:28:12.507Z"
   },
   {
    "duration": 1085,
    "start_time": "2022-11-19T14:28:12.655Z"
   },
   {
    "duration": 702,
    "start_time": "2022-11-19T14:28:13.742Z"
   },
   {
    "duration": 6,
    "start_time": "2022-11-19T14:28:14.445Z"
   },
   {
    "duration": 158,
    "start_time": "2022-11-19T14:28:14.453Z"
   },
   {
    "duration": 4,
    "start_time": "2022-11-19T14:28:14.613Z"
   },
   {
    "duration": 7,
    "start_time": "2022-11-19T14:28:14.618Z"
   },
   {
    "duration": 22,
    "start_time": "2022-11-19T14:28:14.627Z"
   },
   {
    "duration": 73,
    "start_time": "2022-11-19T14:28:14.805Z"
   },
   {
    "duration": 5,
    "start_time": "2022-11-19T14:28:16.323Z"
   },
   {
    "duration": 4,
    "start_time": "2022-11-19T14:28:16.589Z"
   },
   {
    "duration": 4,
    "start_time": "2022-11-19T14:28:16.912Z"
   },
   {
    "duration": 7,
    "start_time": "2022-11-19T14:28:17.137Z"
   },
   {
    "duration": 4,
    "start_time": "2022-11-19T14:28:17.567Z"
   },
   {
    "duration": 10,
    "start_time": "2022-11-19T14:28:17.995Z"
   },
   {
    "duration": 5,
    "start_time": "2022-11-19T14:28:21.092Z"
   },
   {
    "duration": 12,
    "start_time": "2022-11-19T14:28:22.121Z"
   },
   {
    "duration": 6,
    "start_time": "2022-11-19T14:28:23.685Z"
   },
   {
    "duration": 2465,
    "start_time": "2022-11-19T14:28:24.901Z"
   },
   {
    "duration": 5,
    "start_time": "2022-11-19T14:28:32.267Z"
   },
   {
    "duration": 1057,
    "start_time": "2022-11-19T14:44:32.250Z"
   },
   {
    "duration": 1195,
    "start_time": "2022-11-19T14:44:42.838Z"
   },
   {
    "duration": 70,
    "start_time": "2022-11-19T14:45:00.950Z"
   },
   {
    "duration": 1027,
    "start_time": "2022-11-19T14:45:19.447Z"
   },
   {
    "duration": 67,
    "start_time": "2022-11-19T14:45:25.858Z"
   },
   {
    "duration": 125,
    "start_time": "2022-11-19T14:46:58.032Z"
   },
   {
    "duration": 23,
    "start_time": "2022-11-19T14:47:03.002Z"
   },
   {
    "duration": 25,
    "start_time": "2022-11-19T14:47:40.013Z"
   },
   {
    "duration": 105,
    "start_time": "2022-11-19T14:48:05.500Z"
   },
   {
    "duration": 405,
    "start_time": "2022-11-19T14:48:11.772Z"
   },
   {
    "duration": 49,
    "start_time": "2022-11-19T14:48:22.238Z"
   },
   {
    "duration": 276,
    "start_time": "2022-11-19T14:48:37.206Z"
   },
   {
    "duration": 253,
    "start_time": "2022-11-19T14:48:44.726Z"
   },
   {
    "duration": 222,
    "start_time": "2022-11-19T14:48:49.078Z"
   },
   {
    "duration": 376,
    "start_time": "2022-11-19T14:48:53.742Z"
   },
   {
    "duration": 724,
    "start_time": "2022-11-19T14:48:59.570Z"
   },
   {
    "duration": 97,
    "start_time": "2022-11-19T14:49:04.780Z"
   },
   {
    "duration": 170,
    "start_time": "2022-11-19T14:49:30.145Z"
   },
   {
    "duration": 36,
    "start_time": "2022-11-19T14:49:35.671Z"
   },
   {
    "duration": 9962,
    "start_time": "2022-11-19T14:50:03.268Z"
   },
   {
    "duration": 105,
    "start_time": "2022-11-19T14:51:49.763Z"
   },
   {
    "duration": 23,
    "start_time": "2022-11-19T14:51:55.626Z"
   },
   {
    "duration": 12,
    "start_time": "2022-11-19T15:01:21.653Z"
   },
   {
    "duration": 32,
    "start_time": "2022-11-19T15:01:36.141Z"
   },
   {
    "duration": 897,
    "start_time": "2022-11-19T15:02:26.873Z"
   },
   {
    "duration": 11584,
    "start_time": "2022-11-19T15:02:39.644Z"
   },
   {
    "duration": 18,
    "start_time": "2022-11-19T15:03:07.893Z"
   },
   {
    "duration": 8997,
    "start_time": "2022-11-19T15:08:34.739Z"
   },
   {
    "duration": 1516,
    "start_time": "2022-11-19T17:17:06.534Z"
   },
   {
    "duration": 4,
    "start_time": "2022-11-19T17:17:08.052Z"
   },
   {
    "duration": 2984,
    "start_time": "2022-11-19T17:17:10.614Z"
   },
   {
    "duration": 87,
    "start_time": "2022-11-19T17:17:13.600Z"
   },
   {
    "duration": 19,
    "start_time": "2022-11-19T17:17:13.689Z"
   },
   {
    "duration": 14,
    "start_time": "2022-11-19T17:17:13.710Z"
   },
   {
    "duration": 40,
    "start_time": "2022-11-19T17:17:14.517Z"
   },
   {
    "duration": 8,
    "start_time": "2022-11-19T17:17:15.262Z"
   },
   {
    "duration": 12,
    "start_time": "2022-11-19T17:17:15.539Z"
   },
   {
    "duration": 14,
    "start_time": "2022-11-19T17:17:15.728Z"
   },
   {
    "duration": 16,
    "start_time": "2022-11-19T17:17:15.925Z"
   },
   {
    "duration": 18,
    "start_time": "2022-11-19T17:17:16.117Z"
   },
   {
    "duration": 1044,
    "start_time": "2022-11-19T17:17:16.303Z"
   },
   {
    "duration": 512,
    "start_time": "2022-11-19T17:17:17.350Z"
   },
   {
    "duration": 6,
    "start_time": "2022-11-19T17:17:17.864Z"
   },
   {
    "duration": 136,
    "start_time": "2022-11-19T17:17:18.310Z"
   },
   {
    "duration": 4,
    "start_time": "2022-11-19T17:17:19.626Z"
   },
   {
    "duration": 4,
    "start_time": "2022-11-19T17:17:19.923Z"
   },
   {
    "duration": 21,
    "start_time": "2022-11-19T17:17:20.172Z"
   },
   {
    "duration": 183,
    "start_time": "2022-11-19T17:17:20.408Z"
   },
   {
    "duration": 4,
    "start_time": "2022-11-19T17:17:21.843Z"
   },
   {
    "duration": 3,
    "start_time": "2022-11-19T17:17:22.180Z"
   },
   {
    "duration": 5,
    "start_time": "2022-11-19T17:17:22.452Z"
   },
   {
    "duration": 7,
    "start_time": "2022-11-19T17:17:22.741Z"
   },
   {
    "duration": 5,
    "start_time": "2022-11-19T17:17:23.120Z"
   },
   {
    "duration": 8,
    "start_time": "2022-11-19T17:17:24.066Z"
   },
   {
    "duration": 4,
    "start_time": "2022-11-19T17:17:25.328Z"
   },
   {
    "duration": 118,
    "start_time": "2022-11-19T17:17:45.692Z"
   },
   {
    "duration": 149,
    "start_time": "2022-11-19T17:17:55.968Z"
   },
   {
    "duration": 138,
    "start_time": "2022-11-19T17:20:19.131Z"
   },
   {
    "duration": 12,
    "start_time": "2022-11-19T17:20:39.061Z"
   },
   {
    "duration": 4,
    "start_time": "2022-11-19T17:20:41.188Z"
   },
   {
    "duration": 2185,
    "start_time": "2022-11-19T17:20:42.393Z"
   },
   {
    "duration": 4,
    "start_time": "2022-11-19T17:20:51.895Z"
   },
   {
    "duration": 4,
    "start_time": "2022-11-19T17:20:55.920Z"
   },
   {
    "duration": 14,
    "start_time": "2022-11-19T17:21:05.568Z"
   },
   {
    "duration": 167,
    "start_time": "2022-11-19T17:21:19.952Z"
   },
   {
    "duration": 451,
    "start_time": "2022-11-19T17:21:29.170Z"
   },
   {
    "duration": 97,
    "start_time": "2022-11-19T17:21:56.762Z"
   },
   {
    "duration": 22,
    "start_time": "2022-11-19T17:22:32.262Z"
   },
   {
    "duration": 91,
    "start_time": "2022-11-19T17:22:40.286Z"
   },
   {
    "duration": 23,
    "start_time": "2022-11-19T17:22:43.268Z"
   },
   {
    "duration": 102,
    "start_time": "2022-11-19T17:23:24.630Z"
   },
   {
    "duration": 91,
    "start_time": "2022-11-19T17:24:31.551Z"
   },
   {
    "duration": 118,
    "start_time": "2022-11-19T17:25:12.383Z"
   },
   {
    "duration": 100,
    "start_time": "2022-11-19T17:25:24.967Z"
   },
   {
    "duration": 59,
    "start_time": "2022-11-19T17:25:32.266Z"
   },
   {
    "duration": 49,
    "start_time": "2022-11-19T17:25:36.466Z"
   },
   {
    "duration": 44,
    "start_time": "2022-11-19T17:25:39.060Z"
   },
   {
    "duration": 37,
    "start_time": "2022-11-19T17:25:42.668Z"
   },
   {
    "duration": 27,
    "start_time": "2022-11-19T17:25:45.568Z"
   },
   {
    "duration": 32,
    "start_time": "2022-11-19T17:25:48.662Z"
   },
   {
    "duration": 29,
    "start_time": "2022-11-19T17:26:17.805Z"
   },
   {
    "duration": 19,
    "start_time": "2022-11-19T17:26:19.395Z"
   },
   {
    "duration": 40,
    "start_time": "2022-11-19T17:26:27.540Z"
   },
   {
    "duration": 22,
    "start_time": "2022-11-19T17:26:30.485Z"
   },
   {
    "duration": 47,
    "start_time": "2022-11-19T17:26:38.746Z"
   },
   {
    "duration": 1102,
    "start_time": "2022-11-19T17:26:45.397Z"
   },
   {
    "duration": 101,
    "start_time": "2022-11-19T17:26:49.395Z"
   },
   {
    "duration": 1269,
    "start_time": "2022-11-19T17:26:56.495Z"
   },
   {
    "duration": 116,
    "start_time": "2022-11-19T17:27:03.027Z"
   },
   {
    "duration": 1205,
    "start_time": "2022-11-19T17:27:12.143Z"
   },
   {
    "duration": 110,
    "start_time": "2022-11-19T17:27:15.564Z"
   },
   {
    "duration": 1721,
    "start_time": "2022-11-19T17:28:39.042Z"
   },
   {
    "duration": 131,
    "start_time": "2022-11-19T17:28:43.761Z"
   },
   {
    "duration": 2490,
    "start_time": "2022-11-19T17:28:50.658Z"
   },
   {
    "duration": 136,
    "start_time": "2022-11-19T17:28:55.921Z"
   },
   {
    "duration": 125,
    "start_time": "2022-11-19T17:28:59.032Z"
   },
   {
    "duration": 2438,
    "start_time": "2022-11-19T17:29:22.141Z"
   },
   {
    "duration": 130,
    "start_time": "2022-11-19T17:29:28.059Z"
   },
   {
    "duration": 2484,
    "start_time": "2022-11-19T17:29:35.346Z"
   },
   {
    "duration": 125,
    "start_time": "2022-11-19T17:29:40.992Z"
   },
   {
    "duration": 1371,
    "start_time": "2022-11-19T17:33:34.528Z"
   },
   {
    "duration": 2,
    "start_time": "2022-11-19T17:33:35.902Z"
   },
   {
    "duration": 2165,
    "start_time": "2022-11-19T17:33:35.905Z"
   },
   {
    "duration": 42,
    "start_time": "2022-11-19T17:33:38.073Z"
   },
   {
    "duration": 19,
    "start_time": "2022-11-19T17:33:38.117Z"
   },
   {
    "duration": 19,
    "start_time": "2022-11-19T17:33:38.137Z"
   },
   {
    "duration": 42,
    "start_time": "2022-11-19T17:33:38.158Z"
   },
   {
    "duration": 7,
    "start_time": "2022-11-19T17:33:38.216Z"
   },
   {
    "duration": 13,
    "start_time": "2022-11-19T17:33:38.225Z"
   },
   {
    "duration": 12,
    "start_time": "2022-11-19T17:33:38.240Z"
   },
   {
    "duration": 12,
    "start_time": "2022-11-19T17:33:38.253Z"
   },
   {
    "duration": 14,
    "start_time": "2022-11-19T17:33:38.266Z"
   },
   {
    "duration": 1042,
    "start_time": "2022-11-19T17:33:38.281Z"
   },
   {
    "duration": 507,
    "start_time": "2022-11-19T17:33:39.324Z"
   },
   {
    "duration": 6,
    "start_time": "2022-11-19T17:33:39.832Z"
   },
   {
    "duration": 170,
    "start_time": "2022-11-19T17:33:39.840Z"
   },
   {
    "duration": 4,
    "start_time": "2022-11-19T17:33:40.015Z"
   },
   {
    "duration": 7,
    "start_time": "2022-11-19T17:33:40.021Z"
   },
   {
    "duration": 23,
    "start_time": "2022-11-19T17:33:40.032Z"
   },
   {
    "duration": 202,
    "start_time": "2022-11-19T17:33:40.057Z"
   },
   {
    "duration": 4,
    "start_time": "2022-11-19T17:33:40.261Z"
   },
   {
    "duration": 5,
    "start_time": "2022-11-19T17:33:40.267Z"
   },
   {
    "duration": 6,
    "start_time": "2022-11-19T17:33:40.273Z"
   },
   {
    "duration": 10,
    "start_time": "2022-11-19T17:33:40.280Z"
   },
   {
    "duration": 26,
    "start_time": "2022-11-19T17:33:40.291Z"
   },
   {
    "duration": 10,
    "start_time": "2022-11-19T17:33:40.319Z"
   },
   {
    "duration": 6,
    "start_time": "2022-11-19T17:33:40.331Z"
   },
   {
    "duration": 141,
    "start_time": "2022-11-19T17:33:40.339Z"
   },
   {
    "duration": 12,
    "start_time": "2022-11-19T17:33:41.766Z"
   },
   {
    "duration": 4,
    "start_time": "2022-11-19T17:33:42.361Z"
   },
   {
    "duration": 2353,
    "start_time": "2022-11-19T17:33:42.565Z"
   },
   {
    "duration": 0,
    "start_time": "2022-11-19T17:33:44.920Z"
   },
   {
    "duration": 0,
    "start_time": "2022-11-19T17:33:44.921Z"
   },
   {
    "duration": 0,
    "start_time": "2022-11-19T17:33:44.923Z"
   },
   {
    "duration": 3,
    "start_time": "2022-11-19T17:33:46.931Z"
   },
   {
    "duration": 3,
    "start_time": "2022-11-19T17:33:47.307Z"
   },
   {
    "duration": 2047,
    "start_time": "2022-11-19T17:33:48.713Z"
   },
   {
    "duration": 2485,
    "start_time": "2022-11-19T17:34:04.096Z"
   },
   {
    "duration": 122,
    "start_time": "2022-11-19T17:34:08.874Z"
   },
   {
    "duration": 2516,
    "start_time": "2022-11-19T17:34:49.309Z"
   },
   {
    "duration": 125,
    "start_time": "2022-11-19T17:34:55.612Z"
   },
   {
    "duration": 1402,
    "start_time": "2022-11-19T17:35:01.553Z"
   },
   {
    "duration": 683,
    "start_time": "2022-11-19T17:35:12.934Z"
   },
   {
    "duration": 1069,
    "start_time": "2022-11-19T17:35:23.765Z"
   },
   {
    "duration": 110,
    "start_time": "2022-11-19T17:35:27.250Z"
   },
   {
    "duration": 1059,
    "start_time": "2022-11-19T17:35:58.782Z"
   },
   {
    "duration": 92,
    "start_time": "2022-11-19T17:36:02.283Z"
   },
   {
    "duration": 816,
    "start_time": "2022-11-19T17:36:17.403Z"
   },
   {
    "duration": 90,
    "start_time": "2022-11-19T17:36:20.240Z"
   },
   {
    "duration": 1297,
    "start_time": "2022-11-19T17:36:25.895Z"
   },
   {
    "duration": 129,
    "start_time": "2022-11-19T17:36:27.729Z"
   },
   {
    "duration": 1030,
    "start_time": "2022-11-19T17:36:33.509Z"
   },
   {
    "duration": 117,
    "start_time": "2022-11-19T17:36:35.267Z"
   },
   {
    "duration": 706,
    "start_time": "2022-11-19T17:36:44.112Z"
   },
   {
    "duration": 87,
    "start_time": "2022-11-19T17:36:46.713Z"
   },
   {
    "duration": 1888,
    "start_time": "2022-11-19T17:39:41.458Z"
   },
   {
    "duration": 145,
    "start_time": "2022-11-19T17:39:46.507Z"
   },
   {
    "duration": 1942,
    "start_time": "2022-11-19T17:39:58.177Z"
   },
   {
    "duration": 105,
    "start_time": "2022-11-19T17:40:00.955Z"
   },
   {
    "duration": 1871,
    "start_time": "2022-11-19T17:40:07.245Z"
   },
   {
    "duration": 103,
    "start_time": "2022-11-19T17:40:10.225Z"
   },
   {
    "duration": 1877,
    "start_time": "2022-11-19T17:40:14.860Z"
   },
   {
    "duration": 116,
    "start_time": "2022-11-19T17:40:16.739Z"
   },
   {
    "duration": 1630,
    "start_time": "2022-11-19T17:40:24.937Z"
   },
   {
    "duration": 105,
    "start_time": "2022-11-19T17:40:26.568Z"
   },
   {
    "duration": 718,
    "start_time": "2022-11-19T17:40:29.718Z"
   },
   {
    "duration": 102,
    "start_time": "2022-11-19T17:40:30.846Z"
   },
   {
    "duration": 1442,
    "start_time": "2022-11-19T17:40:35.564Z"
   },
   {
    "duration": 99,
    "start_time": "2022-11-19T17:40:38.097Z"
   },
   {
    "duration": 1086,
    "start_time": "2022-11-19T17:40:45.475Z"
   },
   {
    "duration": 105,
    "start_time": "2022-11-19T17:40:46.563Z"
   },
   {
    "duration": 542,
    "start_time": "2022-11-19T17:40:52.974Z"
   },
   {
    "duration": 67,
    "start_time": "2022-11-19T17:40:53.518Z"
   },
   {
    "duration": 827,
    "start_time": "2022-11-19T17:40:57.233Z"
   },
   {
    "duration": 879,
    "start_time": "2022-11-19T17:41:13.058Z"
   },
   {
    "duration": 971,
    "start_time": "2022-11-19T17:41:17.821Z"
   },
   {
    "duration": 60,
    "start_time": "2022-11-19T17:41:20.828Z"
   },
   {
    "duration": 798,
    "start_time": "2022-11-19T17:41:24.821Z"
   },
   {
    "duration": 63,
    "start_time": "2022-11-19T17:41:26.827Z"
   },
   {
    "duration": 7914,
    "start_time": "2022-11-19T17:41:41.281Z"
   },
   {
    "duration": 479,
    "start_time": "2022-11-19T17:41:52.165Z"
   },
   {
    "duration": 987,
    "start_time": "2022-11-19T17:42:02.452Z"
   },
   {
    "duration": 995,
    "start_time": "2022-11-19T17:42:13.469Z"
   },
   {
    "duration": 68,
    "start_time": "2022-11-19T17:42:19.421Z"
   },
   {
    "duration": 987,
    "start_time": "2022-11-19T17:42:53.022Z"
   },
   {
    "duration": 805,
    "start_time": "2022-11-19T17:42:58.024Z"
   },
   {
    "duration": 795,
    "start_time": "2022-11-19T17:43:08.414Z"
   },
   {
    "duration": 61,
    "start_time": "2022-11-19T17:43:13.490Z"
   },
   {
    "duration": 11,
    "start_time": "2022-11-19T17:44:30.651Z"
   },
   {
    "duration": 4,
    "start_time": "2022-11-19T17:44:56.039Z"
   },
   {
    "duration": 13,
    "start_time": "2022-11-19T17:46:11.452Z"
   },
   {
    "duration": 13,
    "start_time": "2022-11-19T17:46:31.924Z"
   },
   {
    "duration": 12,
    "start_time": "2022-11-19T17:47:03.930Z"
   },
   {
    "duration": 22168,
    "start_time": "2022-11-19T17:47:30.570Z"
   },
   {
    "duration": 13,
    "start_time": "2022-11-19T17:48:43.466Z"
   },
   {
    "duration": 39,
    "start_time": "2022-11-19T17:48:51.520Z"
   },
   {
    "duration": 46,
    "start_time": "2022-11-19T17:49:30.619Z"
   },
   {
    "duration": 9,
    "start_time": "2022-11-19T17:49:34.329Z"
   },
   {
    "duration": 4,
    "start_time": "2022-11-19T17:49:57.650Z"
   },
   {
    "duration": 172,
    "start_time": "2022-11-19T17:50:03.705Z"
   },
   {
    "duration": 164,
    "start_time": "2022-11-19T17:50:16.570Z"
   },
   {
    "duration": 167,
    "start_time": "2022-11-19T17:50:35.107Z"
   },
   {
    "duration": 506,
    "start_time": "2022-11-19T17:53:02.051Z"
   },
   {
    "duration": 171,
    "start_time": "2022-11-19T17:53:08.102Z"
   },
   {
    "duration": 239,
    "start_time": "2022-11-19T17:53:12.414Z"
   },
   {
    "duration": 198,
    "start_time": "2022-11-19T17:55:02.031Z"
   },
   {
    "duration": 174,
    "start_time": "2022-11-19T17:55:09.925Z"
   },
   {
    "duration": 6,
    "start_time": "2022-11-19T17:58:55.151Z"
   },
   {
    "duration": 72,
    "start_time": "2022-11-19T17:59:12.028Z"
   },
   {
    "duration": 17,
    "start_time": "2022-11-19T17:59:13.432Z"
   },
   {
    "duration": 6,
    "start_time": "2022-11-19T17:59:29.844Z"
   },
   {
    "duration": 99,
    "start_time": "2022-11-19T18:01:01.193Z"
   },
   {
    "duration": 100,
    "start_time": "2022-11-19T18:01:14.451Z"
   },
   {
    "duration": 798,
    "start_time": "2022-11-19T18:01:52.663Z"
   },
   {
    "duration": 159,
    "start_time": "2022-11-19T18:02:04.650Z"
   },
   {
    "duration": 59,
    "start_time": "2022-11-19T18:02:08.463Z"
   },
   {
    "duration": 157,
    "start_time": "2022-11-19T18:02:09.777Z"
   },
   {
    "duration": 4,
    "start_time": "2022-11-19T18:02:51.026Z"
   },
   {
    "duration": 9,
    "start_time": "2022-11-19T18:03:13.698Z"
   },
   {
    "duration": 7,
    "start_time": "2022-11-19T18:03:29.071Z"
   },
   {
    "duration": 12,
    "start_time": "2022-11-19T18:03:53.681Z"
   },
   {
    "duration": 141,
    "start_time": "2022-11-19T18:04:01.874Z"
   },
   {
    "duration": 83,
    "start_time": "2022-11-19T18:04:05.939Z"
   },
   {
    "duration": 7,
    "start_time": "2022-11-19T18:04:08.233Z"
   },
   {
    "duration": 162,
    "start_time": "2022-11-19T18:04:09.044Z"
   },
   {
    "duration": 76,
    "start_time": "2022-11-19T18:04:26.349Z"
   },
   {
    "duration": 32,
    "start_time": "2022-11-19T18:04:44.185Z"
   },
   {
    "duration": 6,
    "start_time": "2022-11-19T18:04:58.133Z"
   },
   {
    "duration": 167,
    "start_time": "2022-11-19T18:04:58.319Z"
   },
   {
    "duration": 952,
    "start_time": "2022-11-19T18:05:22.753Z"
   },
   {
    "duration": 181,
    "start_time": "2022-11-19T18:05:26.571Z"
   },
   {
    "duration": 66,
    "start_time": "2022-11-19T18:05:39.772Z"
   },
   {
    "duration": 7,
    "start_time": "2022-11-19T18:05:41.615Z"
   },
   {
    "duration": 158,
    "start_time": "2022-11-19T18:05:43.384Z"
   },
   {
    "duration": 953,
    "start_time": "2022-11-19T18:05:48.753Z"
   },
   {
    "duration": 189,
    "start_time": "2022-11-19T18:05:52.003Z"
   },
   {
    "duration": 58,
    "start_time": "2022-11-19T18:05:52.715Z"
   },
   {
    "duration": 7,
    "start_time": "2022-11-19T18:05:54.671Z"
   },
   {
    "duration": 2862,
    "start_time": "2022-11-19T18:06:00.242Z"
   },
   {
    "duration": 238,
    "start_time": "2022-11-19T18:06:03.697Z"
   },
   {
    "duration": 134,
    "start_time": "2022-11-19T18:06:04.497Z"
   },
   {
    "duration": 7,
    "start_time": "2022-11-19T18:06:05.872Z"
   },
   {
    "duration": 211,
    "start_time": "2022-11-19T18:06:06.879Z"
   },
   {
    "duration": 1519,
    "start_time": "2022-11-19T18:06:12.910Z"
   },
   {
    "duration": 213,
    "start_time": "2022-11-19T18:06:14.430Z"
   },
   {
    "duration": 130,
    "start_time": "2022-11-19T18:06:17.400Z"
   },
   {
    "duration": 8,
    "start_time": "2022-11-19T18:06:19.446Z"
   },
   {
    "duration": 199,
    "start_time": "2022-11-19T18:06:20.838Z"
   },
   {
    "duration": 1008,
    "start_time": "2022-11-19T18:06:24.491Z"
   },
   {
    "duration": 196,
    "start_time": "2022-11-19T18:06:25.501Z"
   },
   {
    "duration": 117,
    "start_time": "2022-11-19T18:06:25.735Z"
   },
   {
    "duration": 7,
    "start_time": "2022-11-19T18:06:29.308Z"
   },
   {
    "duration": 203,
    "start_time": "2022-11-19T18:06:29.993Z"
   },
   {
    "duration": 13,
    "start_time": "2022-11-19T18:06:30.817Z"
   },
   {
    "duration": 1203,
    "start_time": "2022-11-19T18:06:47.025Z"
   },
   {
    "duration": 372,
    "start_time": "2022-11-19T18:06:48.229Z"
   },
   {
    "duration": 129,
    "start_time": "2022-11-19T18:06:50.647Z"
   },
   {
    "duration": 7,
    "start_time": "2022-11-19T18:06:52.901Z"
   },
   {
    "duration": 183,
    "start_time": "2022-11-19T18:06:54.138Z"
   },
   {
    "duration": 6,
    "start_time": "2022-11-19T18:07:03.692Z"
   },
   {
    "duration": 1904,
    "start_time": "2022-11-19T18:07:34.697Z"
   },
   {
    "duration": 198,
    "start_time": "2022-11-19T18:07:36.603Z"
   },
   {
    "duration": 133,
    "start_time": "2022-11-19T18:07:36.802Z"
   },
   {
    "duration": 7,
    "start_time": "2022-11-19T18:07:36.937Z"
   },
   {
    "duration": 196,
    "start_time": "2022-11-19T18:07:37.879Z"
   },
   {
    "duration": 1570,
    "start_time": "2022-11-19T18:07:44.533Z"
   },
   {
    "duration": 222,
    "start_time": "2022-11-19T18:07:46.105Z"
   },
   {
    "duration": 163,
    "start_time": "2022-11-19T18:07:46.328Z"
   },
   {
    "duration": 21,
    "start_time": "2022-11-19T18:07:46.494Z"
   },
   {
    "duration": 229,
    "start_time": "2022-11-19T18:07:46.518Z"
   },
   {
    "duration": 200,
    "start_time": "2022-11-19T18:07:53.900Z"
   },
   {
    "duration": 7,
    "start_time": "2022-11-19T18:07:55.695Z"
   },
   {
    "duration": 42,
    "start_time": "2022-11-19T18:08:00.920Z"
   },
   {
    "duration": 211,
    "start_time": "2022-11-19T18:08:01.108Z"
   },
   {
    "duration": 1356,
    "start_time": "2022-11-19T18:08:04.566Z"
   },
   {
    "duration": 209,
    "start_time": "2022-11-19T18:08:05.924Z"
   },
   {
    "duration": 150,
    "start_time": "2022-11-19T18:08:06.135Z"
   },
   {
    "duration": 9,
    "start_time": "2022-11-19T18:08:06.287Z"
   },
   {
    "duration": 182,
    "start_time": "2022-11-19T18:08:08.342Z"
   },
   {
    "duration": 22,
    "start_time": "2022-11-19T18:09:53.994Z"
   },
   {
    "duration": 1642,
    "start_time": "2022-11-19T18:10:29.909Z"
   },
   {
    "duration": 209,
    "start_time": "2022-11-19T18:10:33.996Z"
   },
   {
    "duration": 203,
    "start_time": "2022-11-19T18:10:37.965Z"
   },
   {
    "duration": 123,
    "start_time": "2022-11-19T18:10:38.934Z"
   },
   {
    "duration": 6,
    "start_time": "2022-11-19T18:10:41.177Z"
   },
   {
    "duration": 196,
    "start_time": "2022-11-19T18:10:42.384Z"
   },
   {
    "duration": 2563,
    "start_time": "2022-11-19T18:10:55.157Z"
   },
   {
    "duration": 215,
    "start_time": "2022-11-19T18:10:57.722Z"
   },
   {
    "duration": 134,
    "start_time": "2022-11-19T18:10:58.849Z"
   },
   {
    "duration": 6,
    "start_time": "2022-11-19T18:10:59.720Z"
   },
   {
    "duration": 204,
    "start_time": "2022-11-19T18:11:00.586Z"
   },
   {
    "duration": 3157,
    "start_time": "2022-11-19T18:11:11.945Z"
   },
   {
    "duration": 244,
    "start_time": "2022-11-19T18:11:15.104Z"
   },
   {
    "duration": 146,
    "start_time": "2022-11-19T18:11:15.350Z"
   },
   {
    "duration": 6,
    "start_time": "2022-11-19T18:11:15.498Z"
   },
   {
    "duration": 212,
    "start_time": "2022-11-19T18:11:15.515Z"
   },
   {
    "duration": 2841,
    "start_time": "2022-11-19T18:11:28.343Z"
   },
   {
    "duration": 225,
    "start_time": "2022-11-19T18:11:31.186Z"
   },
   {
    "duration": 138,
    "start_time": "2022-11-19T18:11:33.073Z"
   },
   {
    "duration": 7,
    "start_time": "2022-11-19T18:11:33.770Z"
   },
   {
    "duration": 199,
    "start_time": "2022-11-19T18:11:35.315Z"
   },
   {
    "duration": 2625,
    "start_time": "2022-11-19T18:11:52.696Z"
   },
   {
    "duration": 208,
    "start_time": "2022-11-19T18:11:55.323Z"
   },
   {
    "duration": 141,
    "start_time": "2022-11-19T18:11:55.533Z"
   },
   {
    "duration": 6,
    "start_time": "2022-11-19T18:11:55.676Z"
   },
   {
    "duration": 178,
    "start_time": "2022-11-19T18:11:55.834Z"
   },
   {
    "duration": 144,
    "start_time": "2022-11-19T18:12:08.824Z"
   },
   {
    "duration": 1246,
    "start_time": "2022-11-19T18:12:38.572Z"
   },
   {
    "duration": 177,
    "start_time": "2022-11-19T18:12:39.820Z"
   },
   {
    "duration": 75,
    "start_time": "2022-11-19T18:12:40.664Z"
   },
   {
    "duration": 6,
    "start_time": "2022-11-19T18:12:41.542Z"
   },
   {
    "duration": 166,
    "start_time": "2022-11-19T18:12:45.772Z"
   },
   {
    "duration": 858,
    "start_time": "2022-11-19T18:12:52.203Z"
   },
   {
    "duration": 168,
    "start_time": "2022-11-19T18:12:53.063Z"
   },
   {
    "duration": 63,
    "start_time": "2022-11-19T18:12:53.233Z"
   },
   {
    "duration": 22,
    "start_time": "2022-11-19T18:12:53.298Z"
   },
   {
    "duration": 157,
    "start_time": "2022-11-19T18:12:53.759Z"
   },
   {
    "duration": 7,
    "start_time": "2022-11-19T18:13:00.236Z"
   },
   {
    "duration": 10,
    "start_time": "2022-11-19T18:13:24.078Z"
   },
   {
    "duration": 11,
    "start_time": "2022-11-19T18:13:37.703Z"
   },
   {
    "duration": 6,
    "start_time": "2022-11-19T18:13:44.135Z"
   },
   {
    "duration": 7,
    "start_time": "2022-11-19T18:14:02.121Z"
   },
   {
    "duration": 2,
    "start_time": "2022-11-19T18:16:47.248Z"
   },
   {
    "duration": 5,
    "start_time": "2022-11-19T18:16:47.743Z"
   },
   {
    "duration": 5,
    "start_time": "2022-11-19T18:16:48.254Z"
   },
   {
    "duration": 4,
    "start_time": "2022-11-19T18:16:48.543Z"
   },
   {
    "duration": 5,
    "start_time": "2022-11-19T18:16:48.833Z"
   },
   {
    "duration": 3,
    "start_time": "2022-11-19T18:16:54.352Z"
   },
   {
    "duration": 3,
    "start_time": "2022-11-19T18:16:54.517Z"
   },
   {
    "duration": 2127,
    "start_time": "2022-11-19T18:16:54.687Z"
   },
   {
    "duration": 43,
    "start_time": "2022-11-19T18:16:56.817Z"
   },
   {
    "duration": 14,
    "start_time": "2022-11-19T18:16:56.862Z"
   },
   {
    "duration": 18,
    "start_time": "2022-11-19T18:16:56.878Z"
   },
   {
    "duration": 37,
    "start_time": "2022-11-19T18:16:56.897Z"
   },
   {
    "duration": 7,
    "start_time": "2022-11-19T18:16:56.936Z"
   },
   {
    "duration": 7,
    "start_time": "2022-11-19T18:16:56.945Z"
   },
   {
    "duration": 18,
    "start_time": "2022-11-19T18:16:56.953Z"
   },
   {
    "duration": 11,
    "start_time": "2022-11-19T18:16:56.973Z"
   },
   {
    "duration": 17,
    "start_time": "2022-11-19T18:16:56.985Z"
   },
   {
    "duration": 1017,
    "start_time": "2022-11-19T18:16:57.004Z"
   },
   {
    "duration": 541,
    "start_time": "2022-11-19T18:16:58.023Z"
   },
   {
    "duration": 6,
    "start_time": "2022-11-19T18:16:59.607Z"
   },
   {
    "duration": 128,
    "start_time": "2022-11-19T18:17:00.148Z"
   },
   {
    "duration": 5,
    "start_time": "2022-11-19T18:17:01.360Z"
   },
   {
    "duration": 4,
    "start_time": "2022-11-19T18:17:01.624Z"
   },
   {
    "duration": 20,
    "start_time": "2022-11-19T18:17:01.983Z"
   },
   {
    "duration": 43,
    "start_time": "2022-11-19T18:17:02.223Z"
   },
   {
    "duration": 4,
    "start_time": "2022-11-19T18:17:02.663Z"
   },
   {
    "duration": 3,
    "start_time": "2022-11-19T18:17:03.096Z"
   },
   {
    "duration": 4,
    "start_time": "2022-11-19T18:17:03.297Z"
   },
   {
    "duration": 6,
    "start_time": "2022-11-19T18:17:03.486Z"
   },
   {
    "duration": 5,
    "start_time": "2022-11-19T18:17:03.868Z"
   },
   {
    "duration": 8,
    "start_time": "2022-11-19T18:17:04.351Z"
   },
   {
    "duration": 4,
    "start_time": "2022-11-19T18:17:05.477Z"
   },
   {
    "duration": 102,
    "start_time": "2022-11-19T18:17:05.646Z"
   },
   {
    "duration": 12,
    "start_time": "2022-11-19T18:17:08.449Z"
   },
   {
    "duration": 808,
    "start_time": "2022-11-19T18:17:20.769Z"
   },
   {
    "duration": 1332,
    "start_time": "2022-11-19T18:17:46.444Z"
   },
   {
    "duration": 2,
    "start_time": "2022-11-19T18:17:47.778Z"
   },
   {
    "duration": 2091,
    "start_time": "2022-11-19T18:17:47.781Z"
   },
   {
    "duration": 43,
    "start_time": "2022-11-19T18:17:49.874Z"
   },
   {
    "duration": 19,
    "start_time": "2022-11-19T18:17:49.919Z"
   },
   {
    "duration": 17,
    "start_time": "2022-11-19T18:17:49.939Z"
   },
   {
    "duration": 40,
    "start_time": "2022-11-19T18:17:49.958Z"
   },
   {
    "duration": 7,
    "start_time": "2022-11-19T18:17:50.016Z"
   },
   {
    "duration": 11,
    "start_time": "2022-11-19T18:17:50.025Z"
   },
   {
    "duration": 13,
    "start_time": "2022-11-19T18:17:50.038Z"
   },
   {
    "duration": 23,
    "start_time": "2022-11-19T18:17:50.053Z"
   },
   {
    "duration": 13,
    "start_time": "2022-11-19T18:17:50.078Z"
   },
   {
    "duration": 987,
    "start_time": "2022-11-19T18:17:50.093Z"
   },
   {
    "duration": 502,
    "start_time": "2022-11-19T18:17:51.082Z"
   },
   {
    "duration": 32,
    "start_time": "2022-11-19T18:17:51.585Z"
   },
   {
    "duration": 143,
    "start_time": "2022-11-19T18:17:51.619Z"
   },
   {
    "duration": 5,
    "start_time": "2022-11-19T18:17:51.763Z"
   },
   {
    "duration": 13,
    "start_time": "2022-11-19T18:17:51.771Z"
   },
   {
    "duration": 30,
    "start_time": "2022-11-19T18:17:51.786Z"
   },
   {
    "duration": 180,
    "start_time": "2022-11-19T18:17:51.818Z"
   },
   {
    "duration": 4,
    "start_time": "2022-11-19T18:17:52.000Z"
   },
   {
    "duration": 9,
    "start_time": "2022-11-19T18:17:52.016Z"
   },
   {
    "duration": 20,
    "start_time": "2022-11-19T18:17:52.026Z"
   },
   {
    "duration": 21,
    "start_time": "2022-11-19T18:17:52.049Z"
   },
   {
    "duration": 15,
    "start_time": "2022-11-19T18:17:52.072Z"
   },
   {
    "duration": 10,
    "start_time": "2022-11-19T18:17:52.099Z"
   },
   {
    "duration": 4,
    "start_time": "2022-11-19T18:17:52.261Z"
   },
   {
    "duration": 105,
    "start_time": "2022-11-19T18:17:52.470Z"
   },
   {
    "duration": 12,
    "start_time": "2022-11-19T18:17:54.090Z"
   },
   {
    "duration": 21,
    "start_time": "2022-11-19T18:18:02.923Z"
   },
   {
    "duration": 1417,
    "start_time": "2022-11-19T18:18:18.983Z"
   },
   {
    "duration": 211,
    "start_time": "2022-11-19T18:18:22.841Z"
   },
   {
    "duration": 135,
    "start_time": "2022-11-19T18:18:25.082Z"
   },
   {
    "duration": 6,
    "start_time": "2022-11-19T18:18:26.607Z"
   },
   {
    "duration": 187,
    "start_time": "2022-11-19T18:18:28.532Z"
   },
   {
    "duration": 2487,
    "start_time": "2022-11-19T18:18:38.663Z"
   },
   {
    "duration": 246,
    "start_time": "2022-11-19T18:18:41.152Z"
   },
   {
    "duration": 158,
    "start_time": "2022-11-19T18:18:41.400Z"
   },
   {
    "duration": 7,
    "start_time": "2022-11-19T18:18:41.559Z"
   },
   {
    "duration": 196,
    "start_time": "2022-11-19T18:18:41.785Z"
   },
   {
    "duration": 138,
    "start_time": "2022-11-19T18:20:28.989Z"
   },
   {
    "duration": 7,
    "start_time": "2022-11-19T18:20:29.390Z"
   },
   {
    "duration": 204,
    "start_time": "2022-11-19T18:20:29.854Z"
   },
   {
    "duration": 116,
    "start_time": "2022-11-19T18:20:30.287Z"
   },
   {
    "duration": 250,
    "start_time": "2022-11-19T18:21:22.930Z"
   },
   {
    "duration": 798,
    "start_time": "2022-11-19T18:21:54.917Z"
   },
   {
    "duration": 168,
    "start_time": "2022-11-19T18:21:56.607Z"
   },
   {
    "duration": 59,
    "start_time": "2022-11-19T18:22:01.571Z"
   },
   {
    "duration": 8,
    "start_time": "2022-11-19T18:22:03.319Z"
   },
   {
    "duration": 242,
    "start_time": "2022-11-19T18:22:04.411Z"
   },
   {
    "duration": 864,
    "start_time": "2022-11-19T18:23:47.188Z"
   },
   {
    "duration": 192,
    "start_time": "2022-11-19T18:23:48.054Z"
   },
   {
    "duration": 75,
    "start_time": "2022-11-19T18:23:48.248Z"
   },
   {
    "duration": 7,
    "start_time": "2022-11-19T18:23:48.489Z"
   },
   {
    "duration": 168,
    "start_time": "2022-11-19T18:23:50.303Z"
   },
   {
    "duration": 1722,
    "start_time": "2022-11-19T18:24:02.313Z"
   },
   {
    "duration": 197,
    "start_time": "2022-11-19T18:24:04.847Z"
   },
   {
    "duration": 118,
    "start_time": "2022-11-19T18:24:05.152Z"
   },
   {
    "duration": 7,
    "start_time": "2022-11-19T18:24:07.050Z"
   },
   {
    "duration": 198,
    "start_time": "2022-11-19T18:24:09.985Z"
   },
   {
    "duration": 2184,
    "start_time": "2022-11-19T18:25:05.139Z"
   },
   {
    "duration": 227,
    "start_time": "2022-11-19T18:25:07.325Z"
   },
   {
    "duration": 111,
    "start_time": "2022-11-19T18:25:07.553Z"
   },
   {
    "duration": 6,
    "start_time": "2022-11-19T18:25:07.666Z"
   },
   {
    "duration": 193,
    "start_time": "2022-11-19T18:25:07.674Z"
   },
   {
    "duration": 9,
    "start_time": "2022-11-19T18:25:16.115Z"
   },
   {
    "duration": 2708,
    "start_time": "2022-11-19T18:25:35.539Z"
   },
   {
    "duration": 245,
    "start_time": "2022-11-19T18:25:38.249Z"
   },
   {
    "duration": 125,
    "start_time": "2022-11-19T18:25:43.791Z"
   },
   {
    "duration": 8,
    "start_time": "2022-11-19T18:25:44.673Z"
   },
   {
    "duration": 225,
    "start_time": "2022-11-19T18:25:45.336Z"
   },
   {
    "duration": 3281,
    "start_time": "2022-11-19T18:25:55.085Z"
   },
   {
    "duration": 279,
    "start_time": "2022-11-19T18:25:58.368Z"
   },
   {
    "duration": 244,
    "start_time": "2022-11-19T18:25:58.648Z"
   },
   {
    "duration": 147,
    "start_time": "2022-11-19T18:26:03.154Z"
   },
   {
    "duration": 3992,
    "start_time": "2022-11-19T18:26:19.245Z"
   },
   {
    "duration": 278,
    "start_time": "2022-11-19T18:26:23.239Z"
   },
   {
    "duration": 167,
    "start_time": "2022-11-19T18:26:23.519Z"
   },
   {
    "duration": 8,
    "start_time": "2022-11-19T18:26:23.689Z"
   },
   {
    "duration": 234,
    "start_time": "2022-11-19T18:26:23.698Z"
   },
   {
    "duration": 7,
    "start_time": "2022-11-19T18:26:29.484Z"
   },
   {
    "duration": 199,
    "start_time": "2022-11-19T18:26:29.795Z"
   },
   {
    "duration": 12,
    "start_time": "2022-11-19T18:27:17.040Z"
   },
   {
    "duration": 11,
    "start_time": "2022-11-19T18:27:27.775Z"
   },
   {
    "duration": 1352,
    "start_time": "2022-11-19T18:27:39.788Z"
   },
   {
    "duration": 402,
    "start_time": "2022-11-19T18:27:43.560Z"
   },
   {
    "duration": 149,
    "start_time": "2022-11-19T18:27:44.902Z"
   },
   {
    "duration": 8,
    "start_time": "2022-11-19T18:27:45.314Z"
   },
   {
    "duration": 204,
    "start_time": "2022-11-19T18:27:47.416Z"
   },
   {
    "duration": 860,
    "start_time": "2022-11-19T18:28:01.520Z"
   },
   {
    "duration": 230,
    "start_time": "2022-11-19T18:28:02.382Z"
   },
   {
    "duration": 145,
    "start_time": "2022-11-19T18:28:02.613Z"
   },
   {
    "duration": 146,
    "start_time": "2022-11-19T18:28:08.722Z"
   },
   {
    "duration": 173,
    "start_time": "2022-11-19T18:28:42.343Z"
   },
   {
    "duration": 249,
    "start_time": "2022-11-19T18:28:53.784Z"
   },
   {
    "duration": 154,
    "start_time": "2022-11-19T18:29:06.462Z"
   },
   {
    "duration": 7,
    "start_time": "2022-11-19T18:29:10.137Z"
   },
   {
    "duration": 188,
    "start_time": "2022-11-19T18:29:11.148Z"
   },
   {
    "duration": 842,
    "start_time": "2022-11-19T18:35:07.580Z"
   },
   {
    "duration": 187,
    "start_time": "2022-11-19T18:35:24.830Z"
   },
   {
    "duration": 293,
    "start_time": "2022-11-19T18:35:25.595Z"
   },
   {
    "duration": 198,
    "start_time": "2022-11-19T18:35:26.319Z"
   },
   {
    "duration": 8,
    "start_time": "2022-11-19T18:35:27.235Z"
   },
   {
    "duration": 184,
    "start_time": "2022-11-19T18:35:28.610Z"
   },
   {
    "duration": 1386,
    "start_time": "2022-11-19T18:44:18.517Z"
   },
   {
    "duration": 3,
    "start_time": "2022-11-19T18:44:19.905Z"
   },
   {
    "duration": 2089,
    "start_time": "2022-11-19T18:44:19.909Z"
   },
   {
    "duration": 44,
    "start_time": "2022-11-19T18:44:22.000Z"
   },
   {
    "duration": 21,
    "start_time": "2022-11-19T18:44:22.047Z"
   },
   {
    "duration": 22,
    "start_time": "2022-11-19T18:44:22.069Z"
   },
   {
    "duration": 53,
    "start_time": "2022-11-19T18:44:22.093Z"
   },
   {
    "duration": 9,
    "start_time": "2022-11-19T18:44:22.148Z"
   },
   {
    "duration": 29,
    "start_time": "2022-11-19T18:44:22.159Z"
   },
   {
    "duration": 27,
    "start_time": "2022-11-19T18:44:22.189Z"
   },
   {
    "duration": 16,
    "start_time": "2022-11-19T18:44:22.217Z"
   },
   {
    "duration": 36,
    "start_time": "2022-11-19T18:44:22.235Z"
   },
   {
    "duration": 1020,
    "start_time": "2022-11-19T18:44:22.272Z"
   },
   {
    "duration": 558,
    "start_time": "2022-11-19T18:44:23.295Z"
   },
   {
    "duration": 6,
    "start_time": "2022-11-19T18:44:23.854Z"
   },
   {
    "duration": 159,
    "start_time": "2022-11-19T18:44:23.861Z"
   },
   {
    "duration": 4,
    "start_time": "2022-11-19T18:44:24.022Z"
   },
   {
    "duration": 9,
    "start_time": "2022-11-19T18:44:24.028Z"
   },
   {
    "duration": 40,
    "start_time": "2022-11-19T18:44:24.039Z"
   },
   {
    "duration": 176,
    "start_time": "2022-11-19T18:44:24.083Z"
   },
   {
    "duration": 4,
    "start_time": "2022-11-19T18:44:24.262Z"
   },
   {
    "duration": 10,
    "start_time": "2022-11-19T18:44:24.268Z"
   },
   {
    "duration": 20,
    "start_time": "2022-11-19T18:44:24.280Z"
   },
   {
    "duration": 9,
    "start_time": "2022-11-19T18:44:24.302Z"
   },
   {
    "duration": 7,
    "start_time": "2022-11-19T18:44:24.313Z"
   },
   {
    "duration": 17,
    "start_time": "2022-11-19T18:44:24.321Z"
   },
   {
    "duration": 7,
    "start_time": "2022-11-19T18:44:24.340Z"
   },
   {
    "duration": 104,
    "start_time": "2022-11-19T18:44:24.348Z"
   },
   {
    "duration": 13,
    "start_time": "2022-11-19T18:44:24.454Z"
   },
   {
    "duration": 118,
    "start_time": "2022-11-19T18:45:03.871Z"
   },
   {
    "duration": 24,
    "start_time": "2022-11-19T18:45:12.771Z"
   },
   {
    "duration": 169,
    "start_time": "2022-11-19T18:45:16.652Z"
   },
   {
    "duration": 268,
    "start_time": "2022-11-19T18:45:17.453Z"
   },
   {
    "duration": 94,
    "start_time": "2022-11-19T18:45:18.031Z"
   },
   {
    "duration": 6,
    "start_time": "2022-11-19T18:45:18.782Z"
   },
   {
    "duration": 9,
    "start_time": "2022-11-19T18:45:20.875Z"
   },
   {
    "duration": 9,
    "start_time": "2022-11-19T18:45:24.072Z"
   },
   {
    "duration": 341,
    "start_time": "2022-11-19T18:45:33.005Z"
   },
   {
    "duration": 3,
    "start_time": "2022-11-19T18:46:47.666Z"
   },
   {
    "duration": 3,
    "start_time": "2022-11-19T18:46:48.395Z"
   },
   {
    "duration": 7,
    "start_time": "2022-11-19T18:46:49.145Z"
   },
   {
    "duration": 5,
    "start_time": "2022-11-19T18:46:49.687Z"
   },
   {
    "duration": 10,
    "start_time": "2022-11-19T18:46:49.694Z"
   },
   {
    "duration": 4,
    "start_time": "2022-11-19T18:46:49.753Z"
   },
   {
    "duration": 121,
    "start_time": "2022-11-19T18:46:49.759Z"
   },
   {
    "duration": 12,
    "start_time": "2022-11-19T18:46:49.919Z"
   },
   {
    "duration": 4,
    "start_time": "2022-11-19T18:46:53.654Z"
   },
   {
    "duration": 5,
    "start_time": "2022-11-19T18:46:54.673Z"
   },
   {
    "duration": 6,
    "start_time": "2022-11-19T18:46:54.680Z"
   },
   {
    "duration": 5,
    "start_time": "2022-11-19T18:46:55.529Z"
   },
   {
    "duration": 18,
    "start_time": "2022-11-19T18:46:55.535Z"
   },
   {
    "duration": 100,
    "start_time": "2022-11-19T18:46:55.555Z"
   },
   {
    "duration": 11,
    "start_time": "2022-11-19T18:46:55.685Z"
   },
   {
    "duration": 4,
    "start_time": "2022-11-19T18:46:58.533Z"
   },
   {
    "duration": 2263,
    "start_time": "2022-11-19T18:46:58.539Z"
   },
   {
    "duration": 0,
    "start_time": "2022-11-19T18:47:00.817Z"
   },
   {
    "duration": 0,
    "start_time": "2022-11-19T18:47:00.819Z"
   },
   {
    "duration": 0,
    "start_time": "2022-11-19T18:47:00.821Z"
   },
   {
    "duration": 4,
    "start_time": "2022-11-19T18:47:05.630Z"
   },
   {
    "duration": 206,
    "start_time": "2022-11-19T18:47:11.210Z"
   },
   {
    "duration": 10,
    "start_time": "2022-11-19T18:47:20.689Z"
   },
   {
    "duration": 9,
    "start_time": "2022-11-19T18:47:29.334Z"
   },
   {
    "duration": 780,
    "start_time": "2022-11-19T18:47:34.358Z"
   },
   {
    "duration": 1202,
    "start_time": "2022-11-19T18:47:45.318Z"
   },
   {
    "duration": 762,
    "start_time": "2022-11-19T18:47:50.541Z"
   },
   {
    "duration": 371,
    "start_time": "2022-11-19T18:47:56.539Z"
   },
   {
    "duration": 344,
    "start_time": "2022-11-19T18:48:00.814Z"
   },
   {
    "duration": 28,
    "start_time": "2022-11-19T18:48:03.231Z"
   },
   {
    "duration": 31,
    "start_time": "2022-11-19T18:48:18.037Z"
   },
   {
    "duration": 329,
    "start_time": "2022-11-19T18:48:24.251Z"
   },
   {
    "duration": 207,
    "start_time": "2022-11-19T18:48:25.010Z"
   },
   {
    "duration": 314,
    "start_time": "2022-11-19T18:48:28.894Z"
   },
   {
    "duration": 160,
    "start_time": "2022-11-19T18:49:17.015Z"
   },
   {
    "duration": 328,
    "start_time": "2022-11-19T18:49:25.230Z"
   },
   {
    "duration": 160,
    "start_time": "2022-11-19T18:49:26.584Z"
   },
   {
    "duration": 67,
    "start_time": "2022-11-19T18:49:27.959Z"
   },
   {
    "duration": 8512,
    "start_time": "2022-11-19T18:54:11.279Z"
   },
   {
    "duration": 101321,
    "start_time": "2022-11-19T18:54:45.948Z"
   },
   {
    "duration": 6,
    "start_time": "2022-11-19T18:56:31.254Z"
   },
   {
    "duration": 4,
    "start_time": "2022-11-19T18:56:31.708Z"
   },
   {
    "duration": 127,
    "start_time": "2022-11-19T18:56:36.329Z"
   },
   {
    "duration": 13,
    "start_time": "2022-11-19T18:56:37.591Z"
   },
   {
    "duration": 4,
    "start_time": "2022-11-19T18:56:37.992Z"
   },
   {
    "duration": 2117,
    "start_time": "2022-11-19T18:56:38.164Z"
   },
   {
    "duration": 0,
    "start_time": "2022-11-19T18:56:40.282Z"
   },
   {
    "duration": 0,
    "start_time": "2022-11-19T18:56:40.283Z"
   },
   {
    "duration": 0,
    "start_time": "2022-11-19T18:56:40.284Z"
   },
   {
    "duration": 0,
    "start_time": "2022-11-19T18:56:40.285Z"
   },
   {
    "duration": 0,
    "start_time": "2022-11-19T18:56:40.286Z"
   },
   {
    "duration": 0,
    "start_time": "2022-11-19T18:56:40.287Z"
   },
   {
    "duration": 195,
    "start_time": "2022-11-19T18:56:40.344Z"
   },
   {
    "duration": 74,
    "start_time": "2022-11-19T18:56:40.757Z"
   },
   {
    "duration": 7,
    "start_time": "2022-11-19T18:56:41.353Z"
   },
   {
    "duration": 165,
    "start_time": "2022-11-19T18:56:43.009Z"
   },
   {
    "duration": 9,
    "start_time": "2022-11-19T18:56:44.268Z"
   },
   {
    "duration": 26,
    "start_time": "2022-11-19T18:56:56.324Z"
   },
   {
    "duration": 9,
    "start_time": "2022-11-19T18:57:00.282Z"
   },
   {
    "duration": 109205,
    "start_time": "2022-11-19T18:57:03.889Z"
   },
   {
    "duration": 4934,
    "start_time": "2022-11-19T18:58:53.096Z"
   },
   {
    "duration": 360,
    "start_time": "2022-11-19T18:58:58.032Z"
   },
   {
    "duration": 194,
    "start_time": "2022-11-19T18:58:58.394Z"
   },
   {
    "duration": 76,
    "start_time": "2022-11-19T18:58:58.590Z"
   },
   {
    "duration": 22,
    "start_time": "2022-11-19T19:01:29.198Z"
   },
   {
    "duration": 23,
    "start_time": "2022-11-19T19:01:34.992Z"
   },
   {
    "duration": 4,
    "start_time": "2022-11-19T19:02:47.844Z"
   },
   {
    "duration": 6,
    "start_time": "2022-11-19T19:02:48.203Z"
   },
   {
    "duration": 4,
    "start_time": "2022-11-19T19:02:48.430Z"
   },
   {
    "duration": 6,
    "start_time": "2022-11-19T19:02:48.651Z"
   },
   {
    "duration": 4,
    "start_time": "2022-11-19T19:02:49.081Z"
   },
   {
    "duration": 112,
    "start_time": "2022-11-19T19:02:52.128Z"
   },
   {
    "duration": 14,
    "start_time": "2022-11-19T19:02:52.242Z"
   },
   {
    "duration": 11,
    "start_time": "2022-11-19T19:02:52.266Z"
   },
   {
    "duration": 24,
    "start_time": "2022-11-19T19:03:59.357Z"
   },
   {
    "duration": 287872,
    "start_time": "2022-11-19T19:05:08.552Z"
   },
   {
    "duration": 3,
    "start_time": "2022-11-19T20:00:27.491Z"
   },
   {
    "duration": 4,
    "start_time": "2022-11-19T20:00:36.461Z"
   },
   {
    "duration": 250,
    "start_time": "2022-11-19T20:02:11.291Z"
   },
   {
    "duration": 158,
    "start_time": "2022-11-19T20:02:18.731Z"
   },
   {
    "duration": 160,
    "start_time": "2022-11-19T20:02:23.743Z"
   },
   {
    "duration": 55,
    "start_time": "2022-11-19T20:02:27.026Z"
   },
   {
    "duration": 1241,
    "start_time": "2022-11-19T20:02:56.337Z"
   },
   {
    "duration": 1199,
    "start_time": "2022-11-19T20:03:01.152Z"
   },
   {
    "duration": 2356,
    "start_time": "2022-11-19T20:04:26.851Z"
   },
   {
    "duration": 38,
    "start_time": "2022-11-19T20:04:33.662Z"
   },
   {
    "duration": 3,
    "start_time": "2022-11-19T20:04:50.723Z"
   },
   {
    "duration": 3631,
    "start_time": "2022-11-19T20:05:10.252Z"
   },
   {
    "duration": 506,
    "start_time": "2022-11-19T20:09:37.443Z"
   },
   {
    "duration": 483,
    "start_time": "2022-11-19T20:09:46.102Z"
   },
   {
    "duration": 503,
    "start_time": "2022-11-19T20:10:06.191Z"
   },
   {
    "duration": 3121,
    "start_time": "2022-11-19T20:10:25.092Z"
   },
   {
    "duration": 380,
    "start_time": "2022-11-19T20:10:41.434Z"
   },
   {
    "duration": 427,
    "start_time": "2022-11-19T20:13:06.338Z"
   },
   {
    "duration": 3207,
    "start_time": "2022-11-19T20:13:16.873Z"
   },
   {
    "duration": 2946,
    "start_time": "2022-11-19T20:16:24.349Z"
   },
   {
    "duration": 5,
    "start_time": "2022-11-19T20:16:33.467Z"
   },
   {
    "duration": 7,
    "start_time": "2022-11-19T20:17:46.911Z"
   },
   {
    "duration": 17,
    "start_time": "2022-11-19T20:19:09.945Z"
   },
   {
    "duration": 1423,
    "start_time": "2022-11-19T20:20:35.594Z"
   },
   {
    "duration": 3,
    "start_time": "2022-11-19T20:20:37.019Z"
   },
   {
    "duration": 2078,
    "start_time": "2022-11-19T20:20:37.023Z"
   },
   {
    "duration": 43,
    "start_time": "2022-11-19T20:20:39.104Z"
   },
   {
    "duration": 21,
    "start_time": "2022-11-19T20:20:39.149Z"
   },
   {
    "duration": 17,
    "start_time": "2022-11-19T20:20:39.173Z"
   },
   {
    "duration": 93,
    "start_time": "2022-11-19T20:20:39.193Z"
   },
   {
    "duration": 8,
    "start_time": "2022-11-19T20:20:39.288Z"
   },
   {
    "duration": 25,
    "start_time": "2022-11-19T20:20:39.298Z"
   },
   {
    "duration": 48,
    "start_time": "2022-11-19T20:20:39.325Z"
   },
   {
    "duration": 30,
    "start_time": "2022-11-19T20:20:39.375Z"
   },
   {
    "duration": 14,
    "start_time": "2022-11-19T20:20:40.116Z"
   },
   {
    "duration": 1016,
    "start_time": "2022-11-19T20:20:40.745Z"
   },
   {
    "duration": 524,
    "start_time": "2022-11-19T20:20:41.763Z"
   },
   {
    "duration": 118,
    "start_time": "2022-11-19T20:21:45.298Z"
   },
   {
    "duration": 14,
    "start_time": "2022-11-19T20:22:02.268Z"
   },
   {
    "duration": 4,
    "start_time": "2022-11-19T20:22:12.693Z"
   },
   {
    "duration": 113,
    "start_time": "2022-11-19T20:22:28.808Z"
   },
   {
    "duration": 29,
    "start_time": "2022-11-19T20:23:58.170Z"
   },
   {
    "duration": 13,
    "start_time": "2022-11-19T20:25:01.636Z"
   },
   {
    "duration": 13,
    "start_time": "2022-11-19T20:25:38.589Z"
   },
   {
    "duration": 113,
    "start_time": "2022-11-19T20:30:01.997Z"
   },
   {
    "duration": 109,
    "start_time": "2022-11-19T20:33:29.571Z"
   },
   {
    "duration": 4,
    "start_time": "2022-11-19T20:35:30.664Z"
   },
   {
    "duration": 45,
    "start_time": "2022-11-19T20:35:42.471Z"
   },
   {
    "duration": 104,
    "start_time": "2022-11-19T20:36:22.849Z"
   },
   {
    "duration": 2130,
    "start_time": "2022-11-19T20:36:24.484Z"
   },
   {
    "duration": 32,
    "start_time": "2022-11-19T20:36:26.616Z"
   },
   {
    "duration": 1,
    "start_time": "2022-11-19T20:36:26.649Z"
   },
   {
    "duration": 9,
    "start_time": "2022-11-19T20:36:59.903Z"
   },
   {
    "duration": 18,
    "start_time": "2022-11-19T20:37:34.668Z"
   },
   {
    "duration": 59,
    "start_time": "2022-11-19T20:37:58.827Z"
   },
   {
    "duration": 111,
    "start_time": "2022-11-19T20:38:04.319Z"
   },
   {
    "duration": 11,
    "start_time": "2022-11-19T20:38:08.431Z"
   },
   {
    "duration": 11,
    "start_time": "2022-11-19T20:38:09.928Z"
   },
   {
    "duration": 25,
    "start_time": "2022-11-19T20:38:15.409Z"
   },
   {
    "duration": 1552,
    "start_time": "2022-11-19T20:38:28.313Z"
   },
   {
    "duration": 2,
    "start_time": "2022-11-19T20:39:02.193Z"
   },
   {
    "duration": 11,
    "start_time": "2022-11-19T20:39:04.225Z"
   },
   {
    "duration": 1303,
    "start_time": "2022-11-19T20:40:18.655Z"
   },
   {
    "duration": 3,
    "start_time": "2022-11-19T20:40:19.960Z"
   },
   {
    "duration": 2082,
    "start_time": "2022-11-19T20:40:19.964Z"
   },
   {
    "duration": 45,
    "start_time": "2022-11-19T20:40:22.048Z"
   },
   {
    "duration": 19,
    "start_time": "2022-11-19T20:40:22.095Z"
   },
   {
    "duration": 16,
    "start_time": "2022-11-19T20:40:22.116Z"
   },
   {
    "duration": 46,
    "start_time": "2022-11-19T20:40:22.134Z"
   },
   {
    "duration": 7,
    "start_time": "2022-11-19T20:40:30.124Z"
   },
   {
    "duration": 9,
    "start_time": "2022-11-19T20:40:32.360Z"
   },
   {
    "duration": 12,
    "start_time": "2022-11-19T20:40:33.268Z"
   },
   {
    "duration": 12,
    "start_time": "2022-11-19T20:40:38.276Z"
   },
   {
    "duration": 13,
    "start_time": "2022-11-19T20:40:40.622Z"
   },
   {
    "duration": 1024,
    "start_time": "2022-11-19T20:40:54.471Z"
   },
   {
    "duration": 511,
    "start_time": "2022-11-19T20:40:58.452Z"
   },
   {
    "duration": 6,
    "start_time": "2022-11-19T20:41:32.322Z"
   },
   {
    "duration": 138,
    "start_time": "2022-11-19T20:41:32.555Z"
   },
   {
    "duration": 3,
    "start_time": "2022-11-19T20:41:38.740Z"
   },
   {
    "duration": 4,
    "start_time": "2022-11-19T20:41:43.077Z"
   },
   {
    "duration": 22,
    "start_time": "2022-11-19T20:41:51.051Z"
   },
   {
    "duration": 11,
    "start_time": "2022-11-19T20:42:01.619Z"
   },
   {
    "duration": 195,
    "start_time": "2022-11-19T20:43:01.128Z"
   },
   {
    "duration": 129,
    "start_time": "2022-11-19T20:48:33.709Z"
   },
   {
    "duration": 26,
    "start_time": "2022-11-19T20:48:44.159Z"
   },
   {
    "duration": 1342,
    "start_time": "2022-11-19T20:48:55.379Z"
   },
   {
    "duration": 3,
    "start_time": "2022-11-19T20:48:56.722Z"
   },
   {
    "duration": 2092,
    "start_time": "2022-11-19T20:48:56.726Z"
   },
   {
    "duration": 42,
    "start_time": "2022-11-19T20:48:58.821Z"
   },
   {
    "duration": 20,
    "start_time": "2022-11-19T20:48:58.865Z"
   },
   {
    "duration": 14,
    "start_time": "2022-11-19T20:48:58.887Z"
   },
   {
    "duration": 37,
    "start_time": "2022-11-19T20:48:58.903Z"
   },
   {
    "duration": 8,
    "start_time": "2022-11-19T20:48:58.942Z"
   },
   {
    "duration": 9,
    "start_time": "2022-11-19T20:48:58.952Z"
   },
   {
    "duration": 15,
    "start_time": "2022-11-19T20:48:58.963Z"
   },
   {
    "duration": 12,
    "start_time": "2022-11-19T20:48:58.980Z"
   },
   {
    "duration": 34,
    "start_time": "2022-11-19T20:48:58.993Z"
   },
   {
    "duration": 963,
    "start_time": "2022-11-19T20:48:59.029Z"
   },
   {
    "duration": 488,
    "start_time": "2022-11-19T20:48:59.994Z"
   },
   {
    "duration": 33,
    "start_time": "2022-11-19T20:49:00.484Z"
   },
   {
    "duration": 151,
    "start_time": "2022-11-19T20:49:00.518Z"
   },
   {
    "duration": 4,
    "start_time": "2022-11-19T20:49:00.671Z"
   },
   {
    "duration": 28,
    "start_time": "2022-11-19T20:49:00.676Z"
   },
   {
    "duration": 44,
    "start_time": "2022-11-19T20:49:00.705Z"
   },
   {
    "duration": 12,
    "start_time": "2022-11-19T20:49:00.751Z"
   },
   {
    "duration": 1381,
    "start_time": "2022-11-19T20:49:14.608Z"
   },
   {
    "duration": 3,
    "start_time": "2022-11-19T20:49:17.062Z"
   },
   {
    "duration": 2085,
    "start_time": "2022-11-19T20:49:17.454Z"
   },
   {
    "duration": 42,
    "start_time": "2022-11-19T20:49:19.542Z"
   },
   {
    "duration": 18,
    "start_time": "2022-11-19T20:49:19.586Z"
   },
   {
    "duration": 13,
    "start_time": "2022-11-19T20:49:19.606Z"
   },
   {
    "duration": 38,
    "start_time": "2022-11-19T20:49:19.621Z"
   },
   {
    "duration": 7,
    "start_time": "2022-11-19T20:49:19.660Z"
   },
   {
    "duration": 9,
    "start_time": "2022-11-19T20:49:20.200Z"
   },
   {
    "duration": 12,
    "start_time": "2022-11-19T20:49:21.543Z"
   },
   {
    "duration": 12,
    "start_time": "2022-11-19T20:49:23.363Z"
   },
   {
    "duration": 13,
    "start_time": "2022-11-19T20:49:24.365Z"
   },
   {
    "duration": 1048,
    "start_time": "2022-11-19T20:49:25.264Z"
   },
   {
    "duration": 550,
    "start_time": "2022-11-19T20:49:26.314Z"
   },
   {
    "duration": 7,
    "start_time": "2022-11-19T20:49:27.694Z"
   },
   {
    "duration": 23,
    "start_time": "2022-11-19T20:49:34.189Z"
   },
   {
    "duration": 12,
    "start_time": "2022-11-19T20:49:37.490Z"
   },
   {
    "duration": 182,
    "start_time": "2022-11-19T20:49:41.570Z"
   },
   {
    "duration": 4,
    "start_time": "2022-11-19T21:02:47.579Z"
   },
   {
    "duration": 127,
    "start_time": "2022-11-19T21:04:47.670Z"
   },
   {
    "duration": 9,
    "start_time": "2022-11-19T21:04:50.288Z"
   },
   {
    "duration": 9,
    "start_time": "2022-11-19T21:04:50.532Z"
   },
   {
    "duration": 9,
    "start_time": "2022-11-19T21:04:50.656Z"
   },
   {
    "duration": 9,
    "start_time": "2022-11-19T21:04:50.968Z"
   },
   {
    "duration": 14,
    "start_time": "2022-11-19T21:04:57.856Z"
   },
   {
    "duration": 11,
    "start_time": "2022-11-19T21:04:58.028Z"
   },
   {
    "duration": 47,
    "start_time": "2022-11-19T21:04:58.161Z"
   },
   {
    "duration": 7,
    "start_time": "2022-11-19T21:04:58.422Z"
   },
   {
    "duration": 6,
    "start_time": "2022-11-19T21:04:58.541Z"
   },
   {
    "duration": 10,
    "start_time": "2022-11-19T21:04:58.697Z"
   },
   {
    "duration": 10,
    "start_time": "2022-11-19T21:04:58.823Z"
   },
   {
    "duration": 11,
    "start_time": "2022-11-19T21:04:59.057Z"
   },
   {
    "duration": 1199,
    "start_time": "2022-11-19T21:04:59.164Z"
   },
   {
    "duration": 552,
    "start_time": "2022-11-19T21:05:00.366Z"
   },
   {
    "duration": 6,
    "start_time": "2022-11-19T21:05:00.919Z"
   },
   {
    "duration": 128,
    "start_time": "2022-11-19T21:05:01.096Z"
   },
   {
    "duration": 5,
    "start_time": "2022-11-19T21:05:02.292Z"
   },
   {
    "duration": 4,
    "start_time": "2022-11-19T21:05:02.859Z"
   },
   {
    "duration": 19,
    "start_time": "2022-11-19T21:05:03.421Z"
   },
   {
    "duration": 9,
    "start_time": "2022-11-19T21:05:04.372Z"
   },
   {
    "duration": 24,
    "start_time": "2022-11-19T21:05:06.899Z"
   },
   {
    "duration": 5,
    "start_time": "2022-11-19T21:05:08.513Z"
   },
   {
    "duration": 3,
    "start_time": "2022-11-19T21:05:09.046Z"
   },
   {
    "duration": 4,
    "start_time": "2022-11-19T21:05:09.602Z"
   },
   {
    "duration": 8,
    "start_time": "2022-11-19T21:05:11.289Z"
   },
   {
    "duration": 5,
    "start_time": "2022-11-19T21:05:12.469Z"
   },
   {
    "duration": 6,
    "start_time": "2022-11-19T21:05:12.907Z"
   },
   {
    "duration": 4,
    "start_time": "2022-11-19T21:05:13.374Z"
   },
   {
    "duration": 102,
    "start_time": "2022-11-19T21:05:14.967Z"
   },
   {
    "duration": 14,
    "start_time": "2022-11-19T21:05:19.773Z"
   },
   {
    "duration": 12,
    "start_time": "2022-11-19T21:05:36.580Z"
   },
   {
    "duration": 23,
    "start_time": "2022-11-19T21:05:40.677Z"
   },
   {
    "duration": 1314,
    "start_time": "2022-11-19T21:05:43.150Z"
   },
   {
    "duration": 1454,
    "start_time": "2022-11-19T21:09:36.816Z"
   },
   {
    "duration": 11,
    "start_time": "2022-11-19T21:15:59.786Z"
   },
   {
    "duration": 82,
    "start_time": "2022-11-19T21:16:12.244Z"
   },
   {
    "duration": 10,
    "start_time": "2022-11-19T21:18:59.689Z"
   },
   {
    "duration": 3,
    "start_time": "2022-11-19T21:19:06.748Z"
   },
   {
    "duration": 4,
    "start_time": "2022-11-19T21:19:07.728Z"
   },
   {
    "duration": 6,
    "start_time": "2022-11-19T21:19:08.139Z"
   },
   {
    "duration": 4,
    "start_time": "2022-11-19T21:19:08.611Z"
   },
   {
    "duration": 6,
    "start_time": "2022-11-19T21:19:09.172Z"
   },
   {
    "duration": 4,
    "start_time": "2022-11-19T21:19:09.828Z"
   },
   {
    "duration": 118,
    "start_time": "2022-11-19T21:19:10.075Z"
   },
   {
    "duration": 15,
    "start_time": "2022-11-19T21:19:12.477Z"
   },
   {
    "duration": 23,
    "start_time": "2022-11-19T21:19:21.658Z"
   },
   {
    "duration": 1396,
    "start_time": "2022-11-19T21:19:27.929Z"
   },
   {
    "duration": 85,
    "start_time": "2022-11-19T21:19:51.701Z"
   },
   {
    "duration": 3,
    "start_time": "2022-11-19T21:20:04.459Z"
   },
   {
    "duration": 4,
    "start_time": "2022-11-19T21:20:05.726Z"
   },
   {
    "duration": 5,
    "start_time": "2022-11-19T21:20:06.117Z"
   },
   {
    "duration": 5,
    "start_time": "2022-11-19T21:20:06.539Z"
   },
   {
    "duration": 5,
    "start_time": "2022-11-19T21:20:06.870Z"
   },
   {
    "duration": 4,
    "start_time": "2022-11-19T21:20:07.421Z"
   },
   {
    "duration": 96,
    "start_time": "2022-11-19T21:20:07.899Z"
   },
   {
    "duration": 12,
    "start_time": "2022-11-19T21:20:09.541Z"
   },
   {
    "duration": 22,
    "start_time": "2022-11-19T21:20:22.177Z"
   },
   {
    "duration": 1230,
    "start_time": "2022-11-19T21:20:29.406Z"
   },
   {
    "duration": 87,
    "start_time": "2022-11-19T21:20:34.520Z"
   },
   {
    "duration": 10,
    "start_time": "2022-11-19T21:20:59.049Z"
   },
   {
    "duration": 3,
    "start_time": "2022-11-19T21:21:28.645Z"
   },
   {
    "duration": 4,
    "start_time": "2022-11-19T21:21:28.928Z"
   },
   {
    "duration": 6,
    "start_time": "2022-11-19T21:21:29.175Z"
   },
   {
    "duration": 4,
    "start_time": "2022-11-19T21:21:29.343Z"
   },
   {
    "duration": 5,
    "start_time": "2022-11-19T21:21:29.536Z"
   },
   {
    "duration": 5,
    "start_time": "2022-11-19T21:21:30.396Z"
   },
   {
    "duration": 114,
    "start_time": "2022-11-19T21:21:30.875Z"
   },
   {
    "duration": 12,
    "start_time": "2022-11-19T21:21:33.011Z"
   },
   {
    "duration": 19,
    "start_time": "2022-11-19T21:21:40.780Z"
   },
   {
    "duration": 762,
    "start_time": "2022-11-19T21:21:46.621Z"
   },
   {
    "duration": 88,
    "start_time": "2022-11-19T21:21:49.997Z"
   },
   {
    "duration": 140154,
    "start_time": "2022-11-19T21:22:58.897Z"
   },
   {
    "duration": 638,
    "start_time": "2022-11-19T21:26:37.181Z"
   },
   {
    "duration": 84,
    "start_time": "2022-11-19T21:26:38.815Z"
   },
   {
    "duration": 32,
    "start_time": "2022-11-19T21:36:20.075Z"
   },
   {
    "duration": 402,
    "start_time": "2022-11-19T21:36:41.960Z"
   },
   {
    "duration": 445,
    "start_time": "2022-11-19T21:36:50.536Z"
   },
   {
    "duration": 69,
    "start_time": "2022-11-19T21:37:00.259Z"
   },
   {
    "duration": 23,
    "start_time": "2022-11-19T21:37:24.463Z"
   },
   {
    "duration": 145,
    "start_time": "2022-11-19T21:37:32.772Z"
   },
   {
    "duration": 648,
    "start_time": "2022-11-19T21:38:28.007Z"
   },
   {
    "duration": 104,
    "start_time": "2022-11-19T21:39:19.326Z"
   },
   {
    "duration": 51,
    "start_time": "2022-11-19T21:39:34.377Z"
   },
   {
    "duration": 49,
    "start_time": "2022-11-19T21:39:51.777Z"
   },
   {
    "duration": 54,
    "start_time": "2022-11-19T21:39:53.263Z"
   },
   {
    "duration": 41,
    "start_time": "2022-11-19T21:40:04.984Z"
   },
   {
    "duration": 9,
    "start_time": "2022-11-19T21:52:19.542Z"
   },
   {
    "duration": 3426,
    "start_time": "2022-11-19T21:52:49.650Z"
   },
   {
    "duration": 768,
    "start_time": "2022-11-19T21:52:55.002Z"
   },
   {
    "duration": 317,
    "start_time": "2022-11-19T21:53:16.757Z"
   },
   {
    "duration": 795,
    "start_time": "2022-11-19T21:53:28.741Z"
   },
   {
    "duration": 3,
    "start_time": "2022-11-19T21:53:59.945Z"
   },
   {
    "duration": 5,
    "start_time": "2022-11-19T21:54:01.317Z"
   },
   {
    "duration": 6,
    "start_time": "2022-11-19T21:54:01.489Z"
   },
   {
    "duration": 4,
    "start_time": "2022-11-19T21:54:01.658Z"
   },
   {
    "duration": 5,
    "start_time": "2022-11-19T21:54:01.808Z"
   },
   {
    "duration": 4,
    "start_time": "2022-11-19T21:54:01.966Z"
   },
   {
    "duration": 108,
    "start_time": "2022-11-19T21:54:02.707Z"
   },
   {
    "duration": 11,
    "start_time": "2022-11-19T21:54:06.102Z"
   },
   {
    "duration": 20,
    "start_time": "2022-11-19T21:54:27.151Z"
   },
   {
    "duration": 194,
    "start_time": "2022-11-19T21:54:30.422Z"
   },
   {
    "duration": 138,
    "start_time": "2022-11-19T21:54:38.777Z"
   },
   {
    "duration": 63,
    "start_time": "2022-11-19T21:54:49.493Z"
   },
   {
    "duration": 554,
    "start_time": "2022-11-19T21:54:49.977Z"
   },
   {
    "duration": 3,
    "start_time": "2022-11-19T21:56:18.694Z"
   },
   {
    "duration": 5,
    "start_time": "2022-11-19T21:56:19.137Z"
   },
   {
    "duration": 6,
    "start_time": "2022-11-19T21:56:19.375Z"
   },
   {
    "duration": 5,
    "start_time": "2022-11-19T21:56:19.588Z"
   },
   {
    "duration": 6,
    "start_time": "2022-11-19T21:56:19.760Z"
   },
   {
    "duration": 4,
    "start_time": "2022-11-19T21:56:19.946Z"
   },
   {
    "duration": 99,
    "start_time": "2022-11-19T21:56:20.207Z"
   },
   {
    "duration": 12,
    "start_time": "2022-11-19T21:56:21.759Z"
   },
   {
    "duration": 103,
    "start_time": "2022-11-19T21:56:31.222Z"
   },
   {
    "duration": 14,
    "start_time": "2022-11-19T21:56:39.186Z"
   },
   {
    "duration": 25,
    "start_time": "2022-11-19T21:57:00.878Z"
   },
   {
    "duration": 18,
    "start_time": "2022-11-19T21:57:01.094Z"
   },
   {
    "duration": 11,
    "start_time": "2022-11-19T21:57:04.764Z"
   },
   {
    "duration": 24,
    "start_time": "2022-11-19T21:57:05.239Z"
   },
   {
    "duration": 25,
    "start_time": "2022-11-19T21:57:10.463Z"
   },
   {
    "duration": 4,
    "start_time": "2022-11-19T21:57:10.954Z"
   },
   {
    "duration": 10,
    "start_time": "2022-11-19T21:57:11.101Z"
   },
   {
    "duration": 3,
    "start_time": "2022-11-19T21:57:12.120Z"
   },
   {
    "duration": 10,
    "start_time": "2022-11-19T21:57:12.126Z"
   },
   {
    "duration": 13,
    "start_time": "2022-11-19T21:57:12.138Z"
   },
   {
    "duration": 4,
    "start_time": "2022-11-19T21:57:12.152Z"
   },
   {
    "duration": 6,
    "start_time": "2022-11-19T21:57:12.294Z"
   },
   {
    "duration": 4,
    "start_time": "2022-11-19T21:57:12.459Z"
   },
   {
    "duration": 99,
    "start_time": "2022-11-19T21:57:13.351Z"
   },
   {
    "duration": 13,
    "start_time": "2022-11-19T21:57:15.060Z"
   },
   {
    "duration": 25,
    "start_time": "2022-11-19T21:57:22.716Z"
   },
   {
    "duration": 1190,
    "start_time": "2022-11-19T21:57:29.838Z"
   },
   {
    "duration": 87,
    "start_time": "2022-11-19T21:57:32.869Z"
   },
   {
    "duration": 25,
    "start_time": "2022-11-19T21:57:34.668Z"
   },
   {
    "duration": 78,
    "start_time": "2022-11-19T21:57:47.657Z"
   },
   {
    "duration": 1715,
    "start_time": "2022-11-24T10:27:59.450Z"
   },
   {
    "duration": 3,
    "start_time": "2022-11-24T10:28:01.167Z"
   },
   {
    "duration": 3024,
    "start_time": "2022-11-24T10:28:01.171Z"
   },
   {
    "duration": 87,
    "start_time": "2022-11-24T10:28:04.197Z"
   },
   {
    "duration": 87,
    "start_time": "2022-11-24T10:28:04.286Z"
   },
   {
    "duration": 18,
    "start_time": "2022-11-24T10:28:04.374Z"
   },
   {
    "duration": 64,
    "start_time": "2022-11-24T10:28:04.393Z"
   },
   {
    "duration": 48,
    "start_time": "2022-11-24T10:28:04.458Z"
   },
   {
    "duration": 7,
    "start_time": "2022-11-24T10:28:04.507Z"
   },
   {
    "duration": 21,
    "start_time": "2022-11-24T10:28:04.516Z"
   },
   {
    "duration": 20,
    "start_time": "2022-11-24T10:28:04.539Z"
   },
   {
    "duration": 14,
    "start_time": "2022-11-24T10:28:04.561Z"
   },
   {
    "duration": 16,
    "start_time": "2022-11-24T10:28:04.576Z"
   },
   {
    "duration": 1087,
    "start_time": "2022-11-24T10:28:04.593Z"
   },
   {
    "duration": 726,
    "start_time": "2022-11-24T10:28:05.682Z"
   },
   {
    "duration": 170,
    "start_time": "2022-11-24T10:28:06.421Z"
   },
   {
    "duration": 173,
    "start_time": "2022-11-24T10:28:06.593Z"
   },
   {
    "duration": 5,
    "start_time": "2022-11-24T10:28:06.768Z"
   },
   {
    "duration": 20,
    "start_time": "2022-11-24T10:28:06.774Z"
   },
   {
    "duration": 53,
    "start_time": "2022-11-24T10:28:06.795Z"
   },
   {
    "duration": 14,
    "start_time": "2022-11-24T10:28:06.850Z"
   },
   {
    "duration": 58,
    "start_time": "2022-11-24T10:28:06.866Z"
   },
   {
    "duration": 5,
    "start_time": "2022-11-24T10:28:06.926Z"
   },
   {
    "duration": 23,
    "start_time": "2022-11-24T10:28:06.933Z"
   },
   {
    "duration": 3,
    "start_time": "2022-11-24T10:28:06.957Z"
   },
   {
    "duration": 10,
    "start_time": "2022-11-24T10:28:06.962Z"
   },
   {
    "duration": 9,
    "start_time": "2022-11-24T10:28:06.973Z"
   },
   {
    "duration": 4,
    "start_time": "2022-11-24T10:28:06.986Z"
   },
   {
    "duration": 23,
    "start_time": "2022-11-24T10:28:06.992Z"
   },
   {
    "duration": 5,
    "start_time": "2022-11-24T10:28:07.017Z"
   },
   {
    "duration": 121,
    "start_time": "2022-11-24T10:28:07.023Z"
   },
   {
    "duration": 12,
    "start_time": "2022-11-24T10:28:07.145Z"
   },
   {
    "duration": 4,
    "start_time": "2022-11-24T10:28:07.159Z"
   },
   {
    "duration": 2587,
    "start_time": "2022-11-24T10:28:07.165Z"
   },
   {
    "duration": 1,
    "start_time": "2022-11-24T10:28:09.753Z"
   },
   {
    "duration": 0,
    "start_time": "2022-11-24T10:28:09.755Z"
   },
   {
    "duration": 0,
    "start_time": "2022-11-24T10:28:09.756Z"
   },
   {
    "duration": 0,
    "start_time": "2022-11-24T10:28:09.757Z"
   },
   {
    "duration": 0,
    "start_time": "2022-11-24T10:28:09.758Z"
   },
   {
    "duration": 0,
    "start_time": "2022-11-24T10:28:09.759Z"
   },
   {
    "duration": 0,
    "start_time": "2022-11-24T10:28:09.760Z"
   },
   {
    "duration": 0,
    "start_time": "2022-11-24T10:28:09.761Z"
   },
   {
    "duration": 0,
    "start_time": "2022-11-24T10:28:09.762Z"
   },
   {
    "duration": 0,
    "start_time": "2022-11-24T10:28:09.763Z"
   },
   {
    "duration": 0,
    "start_time": "2022-11-24T10:28:09.764Z"
   },
   {
    "duration": 0,
    "start_time": "2022-11-24T10:28:09.765Z"
   },
   {
    "duration": 0,
    "start_time": "2022-11-24T10:28:09.766Z"
   },
   {
    "duration": 0,
    "start_time": "2022-11-24T10:28:09.767Z"
   },
   {
    "duration": 0,
    "start_time": "2022-11-24T10:28:09.768Z"
   },
   {
    "duration": 0,
    "start_time": "2022-11-24T10:28:09.769Z"
   },
   {
    "duration": 0,
    "start_time": "2022-11-24T10:28:09.770Z"
   },
   {
    "duration": 0,
    "start_time": "2022-11-24T10:28:09.772Z"
   },
   {
    "duration": 0,
    "start_time": "2022-11-24T10:28:09.773Z"
   },
   {
    "duration": 0,
    "start_time": "2022-11-24T10:28:09.774Z"
   },
   {
    "duration": 0,
    "start_time": "2022-11-24T10:28:09.774Z"
   },
   {
    "duration": 0,
    "start_time": "2022-11-24T10:28:09.775Z"
   },
   {
    "duration": 0,
    "start_time": "2022-11-24T10:28:09.777Z"
   },
   {
    "duration": 0,
    "start_time": "2022-11-24T10:28:09.778Z"
   },
   {
    "duration": 0,
    "start_time": "2022-11-24T10:28:09.820Z"
   },
   {
    "duration": 0,
    "start_time": "2022-11-24T10:28:09.822Z"
   },
   {
    "duration": 0,
    "start_time": "2022-11-24T10:28:09.824Z"
   },
   {
    "duration": 0,
    "start_time": "2022-11-24T10:28:09.826Z"
   },
   {
    "duration": 0,
    "start_time": "2022-11-24T10:28:09.827Z"
   },
   {
    "duration": 0,
    "start_time": "2022-11-24T10:28:09.829Z"
   },
   {
    "duration": 0,
    "start_time": "2022-11-24T10:28:09.830Z"
   },
   {
    "duration": 0,
    "start_time": "2022-11-24T10:28:09.832Z"
   },
   {
    "duration": 0,
    "start_time": "2022-11-24T10:28:09.835Z"
   },
   {
    "duration": 0,
    "start_time": "2022-11-24T10:28:09.836Z"
   },
   {
    "duration": 0,
    "start_time": "2022-11-24T10:28:09.838Z"
   },
   {
    "duration": 0,
    "start_time": "2022-11-24T10:28:09.840Z"
   },
   {
    "duration": 0,
    "start_time": "2022-11-24T10:28:09.842Z"
   },
   {
    "duration": 0,
    "start_time": "2022-11-24T10:28:09.843Z"
   },
   {
    "duration": 0,
    "start_time": "2022-11-24T10:28:09.844Z"
   },
   {
    "duration": 0,
    "start_time": "2022-11-24T10:28:09.845Z"
   },
   {
    "duration": 0,
    "start_time": "2022-11-24T10:28:09.846Z"
   },
   {
    "duration": 0,
    "start_time": "2022-11-24T10:28:09.847Z"
   },
   {
    "duration": 0,
    "start_time": "2022-11-24T10:28:09.848Z"
   },
   {
    "duration": 0,
    "start_time": "2022-11-24T10:28:09.849Z"
   },
   {
    "duration": 0,
    "start_time": "2022-11-24T10:28:09.850Z"
   },
   {
    "duration": 20,
    "start_time": "2022-11-24T10:54:51.711Z"
   },
   {
    "duration": 136,
    "start_time": "2022-11-24T10:54:57.237Z"
   },
   {
    "duration": 4,
    "start_time": "2022-11-24T10:55:12.457Z"
   },
   {
    "duration": 7,
    "start_time": "2022-11-24T10:55:19.353Z"
   },
   {
    "duration": 152,
    "start_time": "2022-11-24T10:55:26.439Z"
   },
   {
    "duration": 154,
    "start_time": "2022-11-24T10:55:42.034Z"
   },
   {
    "duration": 161,
    "start_time": "2022-11-24T10:56:23.205Z"
   },
   {
    "duration": 9,
    "start_time": "2022-11-24T10:57:29.747Z"
   },
   {
    "duration": 8,
    "start_time": "2022-11-24T10:57:57.383Z"
   },
   {
    "duration": 6,
    "start_time": "2022-11-24T10:58:03.251Z"
   },
   {
    "duration": 12,
    "start_time": "2022-11-24T10:58:07.412Z"
   },
   {
    "duration": 8,
    "start_time": "2022-11-24T10:58:14.594Z"
   },
   {
    "duration": 6,
    "start_time": "2022-11-24T10:58:25.600Z"
   },
   {
    "duration": 242,
    "start_time": "2022-11-24T10:58:42.572Z"
   },
   {
    "duration": 231,
    "start_time": "2022-11-24T10:58:47.125Z"
   },
   {
    "duration": 184,
    "start_time": "2022-11-24T10:58:52.203Z"
   },
   {
    "duration": 6,
    "start_time": "2022-11-24T10:59:14.270Z"
   },
   {
    "duration": 12,
    "start_time": "2022-11-24T10:59:46.099Z"
   },
   {
    "duration": 15,
    "start_time": "2022-11-24T10:59:52.468Z"
   },
   {
    "duration": 162,
    "start_time": "2022-11-24T11:00:02.429Z"
   },
   {
    "duration": 146,
    "start_time": "2022-11-24T11:00:26.851Z"
   },
   {
    "duration": 7,
    "start_time": "2022-11-24T11:00:41.099Z"
   },
   {
    "duration": 210,
    "start_time": "2022-11-24T11:01:03.075Z"
   },
   {
    "duration": 281,
    "start_time": "2022-11-24T11:01:24.810Z"
   },
   {
    "duration": 233,
    "start_time": "2022-11-24T11:01:33.163Z"
   },
   {
    "duration": 280,
    "start_time": "2022-11-24T11:01:47.424Z"
   },
   {
    "duration": 6,
    "start_time": "2022-11-24T11:02:07.181Z"
   },
   {
    "duration": 8,
    "start_time": "2022-11-24T11:02:12.728Z"
   },
   {
    "duration": 10,
    "start_time": "2022-11-24T11:02:18.827Z"
   },
   {
    "duration": 8,
    "start_time": "2022-11-24T11:02:26.906Z"
   },
   {
    "duration": 7,
    "start_time": "2022-11-24T11:02:32.267Z"
   },
   {
    "duration": 10,
    "start_time": "2022-11-24T11:02:39.227Z"
   },
   {
    "duration": 1522,
    "start_time": "2022-11-25T14:37:56.216Z"
   },
   {
    "duration": 3,
    "start_time": "2022-11-25T14:37:57.740Z"
   },
   {
    "duration": 2739,
    "start_time": "2022-11-25T14:37:57.745Z"
   },
   {
    "duration": 66,
    "start_time": "2022-11-25T14:38:00.486Z"
   },
   {
    "duration": 148,
    "start_time": "2022-11-25T14:38:00.553Z"
   },
   {
    "duration": 19,
    "start_time": "2022-11-25T14:38:00.703Z"
   },
   {
    "duration": 25,
    "start_time": "2022-11-25T14:38:00.724Z"
   },
   {
    "duration": 56,
    "start_time": "2022-11-25T14:38:00.750Z"
   },
   {
    "duration": 7,
    "start_time": "2022-11-25T14:38:00.807Z"
   },
   {
    "duration": 31,
    "start_time": "2022-11-25T14:38:00.817Z"
   },
   {
    "duration": 18,
    "start_time": "2022-11-25T14:38:00.849Z"
   },
   {
    "duration": 34,
    "start_time": "2022-11-25T14:38:00.869Z"
   },
   {
    "duration": 33,
    "start_time": "2022-11-25T14:38:00.905Z"
   },
   {
    "duration": 1001,
    "start_time": "2022-11-25T14:38:03.048Z"
   },
   {
    "duration": 50357,
    "start_time": "2022-11-25T14:43:00.548Z"
   },
   {
    "duration": 52,
    "start_time": "2022-11-25T17:15:56.451Z"
   },
   {
    "duration": 1854,
    "start_time": "2022-11-25T17:16:00.427Z"
   },
   {
    "duration": 3,
    "start_time": "2022-11-25T17:16:02.283Z"
   },
   {
    "duration": 3228,
    "start_time": "2022-11-25T17:16:02.287Z"
   },
   {
    "duration": 73,
    "start_time": "2022-11-25T17:16:05.517Z"
   },
   {
    "duration": 169,
    "start_time": "2022-11-25T17:16:05.592Z"
   },
   {
    "duration": 21,
    "start_time": "2022-11-25T17:16:05.763Z"
   },
   {
    "duration": 14,
    "start_time": "2022-11-25T17:16:05.786Z"
   },
   {
    "duration": 59,
    "start_time": "2022-11-25T17:16:05.801Z"
   },
   {
    "duration": 8,
    "start_time": "2022-11-25T17:16:05.862Z"
   },
   {
    "duration": 17,
    "start_time": "2022-11-25T17:16:05.872Z"
   },
   {
    "duration": 32,
    "start_time": "2022-11-25T17:16:05.890Z"
   },
   {
    "duration": 30,
    "start_time": "2022-11-25T17:16:05.924Z"
   },
   {
    "duration": 24,
    "start_time": "2022-11-25T17:16:05.956Z"
   },
   {
    "duration": 56310,
    "start_time": "2022-11-25T17:16:05.982Z"
   },
   {
    "duration": 104,
    "start_time": "2022-11-25T17:17:02.295Z"
   },
   {
    "duration": 0,
    "start_time": "2022-11-25T17:17:02.401Z"
   },
   {
    "duration": 20,
    "start_time": "2022-11-25T17:30:38.986Z"
   },
   {
    "duration": 1231,
    "start_time": "2022-11-25T17:30:49.301Z"
   },
   {
    "duration": 126,
    "start_time": "2022-11-25T17:31:21.567Z"
   },
   {
    "duration": 5,
    "start_time": "2022-11-25T17:31:24.105Z"
   },
   {
    "duration": 6,
    "start_time": "2022-11-25T17:31:59.068Z"
   },
   {
    "duration": 28,
    "start_time": "2022-11-25T17:31:59.751Z"
   },
   {
    "duration": 13,
    "start_time": "2022-11-25T17:33:01.700Z"
   },
   {
    "duration": 30,
    "start_time": "2022-11-25T17:33:03.311Z"
   },
   {
    "duration": 1612,
    "start_time": "2022-11-25T18:40:27.121Z"
   },
   {
    "duration": 2,
    "start_time": "2022-11-25T18:40:28.736Z"
   },
   {
    "duration": 2448,
    "start_time": "2022-11-25T18:40:28.740Z"
   },
   {
    "duration": 73,
    "start_time": "2022-11-25T18:40:31.190Z"
   },
   {
    "duration": 45,
    "start_time": "2022-11-25T18:40:31.265Z"
   },
   {
    "duration": 21,
    "start_time": "2022-11-25T18:40:31.312Z"
   },
   {
    "duration": 14,
    "start_time": "2022-11-25T18:40:31.335Z"
   },
   {
    "duration": 48,
    "start_time": "2022-11-25T18:40:31.351Z"
   },
   {
    "duration": 10,
    "start_time": "2022-11-25T18:40:31.401Z"
   },
   {
    "duration": 13,
    "start_time": "2022-11-25T18:40:31.414Z"
   },
   {
    "duration": 14,
    "start_time": "2022-11-25T18:40:31.451Z"
   },
   {
    "duration": 19,
    "start_time": "2022-11-25T18:40:31.467Z"
   },
   {
    "duration": 15,
    "start_time": "2022-11-25T18:40:31.489Z"
   },
   {
    "duration": 57307,
    "start_time": "2022-11-25T18:40:31.506Z"
   },
   {
    "duration": 1165,
    "start_time": "2022-11-25T18:41:28.814Z"
   },
   {
    "duration": 135,
    "start_time": "2022-11-25T18:41:29.983Z"
   },
   {
    "duration": 4,
    "start_time": "2022-11-25T18:41:30.120Z"
   },
   {
    "duration": 15,
    "start_time": "2022-11-25T18:41:30.126Z"
   },
   {
    "duration": 48,
    "start_time": "2022-11-25T18:41:30.143Z"
   },
   {
    "duration": 12,
    "start_time": "2022-11-25T18:41:30.193Z"
   },
   {
    "duration": 47,
    "start_time": "2022-11-25T18:41:30.208Z"
   },
   {
    "duration": 5,
    "start_time": "2022-11-25T18:41:30.257Z"
   },
   {
    "duration": 24,
    "start_time": "2022-11-25T18:41:30.263Z"
   },
   {
    "duration": 3,
    "start_time": "2022-11-25T18:41:30.289Z"
   },
   {
    "duration": 17,
    "start_time": "2022-11-25T18:41:30.294Z"
   },
   {
    "duration": 10,
    "start_time": "2022-11-25T18:41:30.313Z"
   },
   {
    "duration": 11,
    "start_time": "2022-11-25T18:41:30.325Z"
   },
   {
    "duration": 13,
    "start_time": "2022-11-25T18:41:30.340Z"
   },
   {
    "duration": 10,
    "start_time": "2022-11-25T18:41:30.355Z"
   },
   {
    "duration": 120,
    "start_time": "2022-11-25T18:41:30.367Z"
   },
   {
    "duration": 13,
    "start_time": "2022-11-25T18:41:30.489Z"
   },
   {
    "duration": 8,
    "start_time": "2022-11-25T18:41:30.505Z"
   },
   {
    "duration": 2746,
    "start_time": "2022-11-25T18:41:30.514Z"
   },
   {
    "duration": 0,
    "start_time": "2022-11-25T18:41:33.262Z"
   },
   {
    "duration": 0,
    "start_time": "2022-11-25T18:41:33.263Z"
   },
   {
    "duration": 0,
    "start_time": "2022-11-25T18:41:33.264Z"
   },
   {
    "duration": 0,
    "start_time": "2022-11-25T18:41:33.265Z"
   },
   {
    "duration": 0,
    "start_time": "2022-11-25T18:41:33.266Z"
   },
   {
    "duration": 0,
    "start_time": "2022-11-25T18:41:33.267Z"
   },
   {
    "duration": 0,
    "start_time": "2022-11-25T18:41:33.268Z"
   },
   {
    "duration": 0,
    "start_time": "2022-11-25T18:41:33.269Z"
   },
   {
    "duration": 0,
    "start_time": "2022-11-25T18:41:33.270Z"
   },
   {
    "duration": 0,
    "start_time": "2022-11-25T18:41:33.271Z"
   },
   {
    "duration": 0,
    "start_time": "2022-11-25T18:41:33.272Z"
   },
   {
    "duration": 0,
    "start_time": "2022-11-25T18:41:33.273Z"
   },
   {
    "duration": 0,
    "start_time": "2022-11-25T18:41:33.274Z"
   },
   {
    "duration": 0,
    "start_time": "2022-11-25T18:41:33.275Z"
   },
   {
    "duration": 0,
    "start_time": "2022-11-25T18:41:33.276Z"
   },
   {
    "duration": 1,
    "start_time": "2022-11-25T18:41:33.277Z"
   },
   {
    "duration": 0,
    "start_time": "2022-11-25T18:41:33.279Z"
   },
   {
    "duration": 0,
    "start_time": "2022-11-25T18:41:33.280Z"
   },
   {
    "duration": 0,
    "start_time": "2022-11-25T18:41:33.281Z"
   },
   {
    "duration": 0,
    "start_time": "2022-11-25T18:41:33.282Z"
   },
   {
    "duration": 0,
    "start_time": "2022-11-25T18:41:33.283Z"
   },
   {
    "duration": 0,
    "start_time": "2022-11-25T18:41:33.284Z"
   },
   {
    "duration": 0,
    "start_time": "2022-11-25T18:41:33.286Z"
   },
   {
    "duration": 0,
    "start_time": "2022-11-25T18:41:33.287Z"
   },
   {
    "duration": 0,
    "start_time": "2022-11-25T18:41:33.288Z"
   },
   {
    "duration": 0,
    "start_time": "2022-11-25T18:41:33.289Z"
   },
   {
    "duration": 0,
    "start_time": "2022-11-25T18:41:33.291Z"
   },
   {
    "duration": 0,
    "start_time": "2022-11-25T18:41:33.292Z"
   },
   {
    "duration": 0,
    "start_time": "2022-11-25T18:41:33.294Z"
   },
   {
    "duration": 0,
    "start_time": "2022-11-25T18:41:33.295Z"
   },
   {
    "duration": 0,
    "start_time": "2022-11-25T18:41:33.350Z"
   },
   {
    "duration": 0,
    "start_time": "2022-11-25T18:41:33.352Z"
   },
   {
    "duration": 0,
    "start_time": "2022-11-25T18:41:33.353Z"
   },
   {
    "duration": 0,
    "start_time": "2022-11-25T18:41:33.355Z"
   },
   {
    "duration": 0,
    "start_time": "2022-11-25T18:41:33.357Z"
   },
   {
    "duration": 0,
    "start_time": "2022-11-25T18:41:33.358Z"
   },
   {
    "duration": 0,
    "start_time": "2022-11-25T18:41:33.360Z"
   },
   {
    "duration": 0,
    "start_time": "2022-11-25T18:41:33.361Z"
   },
   {
    "duration": 1,
    "start_time": "2022-11-25T18:41:33.362Z"
   },
   {
    "duration": 0,
    "start_time": "2022-11-25T18:41:33.364Z"
   },
   {
    "duration": 0,
    "start_time": "2022-11-25T18:41:33.366Z"
   },
   {
    "duration": 0,
    "start_time": "2022-11-25T18:41:33.367Z"
   },
   {
    "duration": 0,
    "start_time": "2022-11-25T18:41:33.369Z"
   },
   {
    "duration": 0,
    "start_time": "2022-11-25T18:41:33.370Z"
   },
   {
    "duration": 0,
    "start_time": "2022-11-25T18:41:33.371Z"
   },
   {
    "duration": 6,
    "start_time": "2022-11-25T18:42:29.126Z"
   },
   {
    "duration": 188,
    "start_time": "2022-11-25T18:42:30.065Z"
   },
   {
    "duration": 465,
    "start_time": "2022-11-25T18:42:30.898Z"
   },
   {
    "duration": 2,
    "start_time": "2022-11-25T18:42:32.409Z"
   },
   {
    "duration": 4,
    "start_time": "2022-11-25T18:42:32.901Z"
   },
   {
    "duration": 877,
    "start_time": "2022-11-25T18:42:33.829Z"
   },
   {
    "duration": 252,
    "start_time": "2022-11-25T18:42:34.709Z"
   },
   {
    "duration": 96,
    "start_time": "2022-11-25T18:42:34.964Z"
   },
   {
    "duration": 10,
    "start_time": "2022-11-25T18:42:35.063Z"
   },
   {
    "duration": 238,
    "start_time": "2022-11-25T18:42:35.075Z"
   },
   {
    "duration": 12,
    "start_time": "2022-11-25T18:42:35.315Z"
   },
   {
    "duration": 11,
    "start_time": "2022-11-25T18:42:35.615Z"
   },
   {
    "duration": 11,
    "start_time": "2022-11-25T18:42:35.969Z"
   },
   {
    "duration": 3,
    "start_time": "2022-11-25T18:42:36.405Z"
   },
   {
    "duration": 110,
    "start_time": "2022-11-25T18:42:36.753Z"
   },
   {
    "duration": 25,
    "start_time": "2022-11-25T18:42:37.037Z"
   },
   {
    "duration": 41,
    "start_time": "2022-11-25T18:42:37.822Z"
   },
   {
    "duration": 79,
    "start_time": "2022-11-25T18:42:38.075Z"
   },
   {
    "duration": 856,
    "start_time": "2022-11-25T18:42:38.502Z"
   },
   {
    "duration": 1421,
    "start_time": "2022-11-25T18:42:39.360Z"
   },
   {
    "duration": 98,
    "start_time": "2022-11-25T18:42:40.783Z"
   },
   {
    "duration": 22,
    "start_time": "2022-11-25T18:42:40.883Z"
   },
   {
    "duration": 3,
    "start_time": "2022-11-25T18:42:40.908Z"
   },
   {
    "duration": 41,
    "start_time": "2022-11-25T18:42:40.913Z"
   },
   {
    "duration": 198,
    "start_time": "2022-11-25T18:42:40.955Z"
   },
   {
    "duration": 163,
    "start_time": "2022-11-25T18:42:41.156Z"
   },
   {
    "duration": 0,
    "start_time": "2022-11-25T18:42:41.320Z"
   },
   {
    "duration": 0,
    "start_time": "2022-11-25T18:42:41.322Z"
   },
   {
    "duration": 0,
    "start_time": "2022-11-25T18:42:41.323Z"
   },
   {
    "duration": 367,
    "start_time": "2022-11-25T18:42:42.041Z"
   },
   {
    "duration": 203,
    "start_time": "2022-11-25T18:42:42.410Z"
   },
   {
    "duration": 76,
    "start_time": "2022-11-25T18:42:42.615Z"
   },
   {
    "duration": 7,
    "start_time": "2022-11-25T18:42:42.693Z"
   },
   {
    "duration": 169,
    "start_time": "2022-11-25T18:42:42.933Z"
   },
   {
    "duration": 3,
    "start_time": "2022-11-25T18:42:43.616Z"
   },
   {
    "duration": 12,
    "start_time": "2022-11-25T18:42:43.888Z"
   },
   {
    "duration": 3,
    "start_time": "2022-11-25T18:42:44.161Z"
   },
   {
    "duration": 2396,
    "start_time": "2022-11-25T18:42:44.404Z"
   },
   {
    "duration": 3,
    "start_time": "2022-11-25T18:42:46.802Z"
   },
   {
    "duration": 12,
    "start_time": "2022-11-25T18:42:46.807Z"
   },
   {
    "duration": 3906,
    "start_time": "2022-11-25T18:42:46.821Z"
   },
   {
    "duration": 1495,
    "start_time": "2022-11-25T18:42:50.729Z"
   },
   {
    "duration": 82,
    "start_time": "2022-11-25T18:42:52.226Z"
   },
   {
    "duration": 1099,
    "start_time": "2022-11-25T18:42:52.310Z"
   },
   {
    "duration": 146,
    "start_time": "2022-11-25T18:42:53.410Z"
   },
   {
    "duration": 11,
    "start_time": "2022-11-25T18:44:56.606Z"
   },
   {
    "duration": 67,
    "start_time": "2022-11-25T18:46:14.768Z"
   },
   {
    "duration": 1279,
    "start_time": "2022-11-25T18:46:20.956Z"
   },
   {
    "duration": 18,
    "start_time": "2022-11-25T18:46:34.118Z"
   },
   {
    "duration": 25,
    "start_time": "2022-11-25T18:46:52.602Z"
   },
   {
    "duration": 17,
    "start_time": "2022-11-25T18:47:02.167Z"
   },
   {
    "duration": 31,
    "start_time": "2022-11-25T18:47:07.806Z"
   },
   {
    "duration": 30,
    "start_time": "2022-11-25T18:47:16.208Z"
   },
   {
    "duration": 11,
    "start_time": "2022-11-25T18:48:10.072Z"
   },
   {
    "duration": 11,
    "start_time": "2022-11-25T18:48:25.393Z"
   },
   {
    "duration": 12,
    "start_time": "2022-11-25T18:48:32.834Z"
   },
   {
    "duration": 77,
    "start_time": "2022-11-25T18:54:26.081Z"
   },
   {
    "duration": 98,
    "start_time": "2022-11-25T18:54:36.260Z"
   },
   {
    "duration": 122,
    "start_time": "2022-11-25T18:55:01.605Z"
   },
   {
    "duration": 188,
    "start_time": "2022-11-25T18:56:09.475Z"
   },
   {
    "duration": 106,
    "start_time": "2022-11-25T18:56:33.595Z"
   },
   {
    "duration": 111,
    "start_time": "2022-11-25T18:56:45.931Z"
   },
   {
    "duration": 124,
    "start_time": "2022-11-25T18:57:07.721Z"
   },
   {
    "duration": 115,
    "start_time": "2022-11-25T18:57:11.972Z"
   },
   {
    "duration": 117,
    "start_time": "2022-11-25T18:57:20.762Z"
   },
   {
    "duration": 135,
    "start_time": "2022-11-25T18:57:40.581Z"
   },
   {
    "duration": 129,
    "start_time": "2022-11-25T18:58:07.950Z"
   },
   {
    "duration": 122,
    "start_time": "2022-11-25T18:58:13.305Z"
   },
   {
    "duration": 148,
    "start_time": "2022-11-25T18:58:29.506Z"
   },
   {
    "duration": 129,
    "start_time": "2022-11-25T18:58:43.551Z"
   },
   {
    "duration": 11,
    "start_time": "2022-11-25T19:01:28.277Z"
   },
   {
    "duration": 8,
    "start_time": "2022-11-25T19:03:48.373Z"
   },
   {
    "duration": 9,
    "start_time": "2022-11-25T19:04:43.051Z"
   },
   {
    "duration": 4,
    "start_time": "2022-11-25T19:05:01.201Z"
   },
   {
    "duration": 12,
    "start_time": "2022-11-25T19:05:45.375Z"
   },
   {
    "duration": 10,
    "start_time": "2022-11-25T19:05:47.342Z"
   },
   {
    "duration": 89554,
    "start_time": "2022-11-25T19:08:07.674Z"
   },
   {
    "duration": 0,
    "start_time": "2022-11-25T19:11:55.050Z"
   },
   {
    "duration": 3,
    "start_time": "2022-11-25T19:14:04.001Z"
   },
   {
    "duration": 71,
    "start_time": "2022-11-25T19:15:53.174Z"
   },
   {
    "duration": 72,
    "start_time": "2022-11-25T19:16:14.311Z"
   },
   {
    "duration": 89,
    "start_time": "2022-11-25T19:16:28.889Z"
   },
   {
    "duration": 99340,
    "start_time": "2022-11-25T19:17:25.219Z"
   },
   {
    "duration": 25,
    "start_time": "2022-11-25T20:18:37.249Z"
   },
   {
    "duration": 4,
    "start_time": "2022-11-25T20:18:42.323Z"
   },
   {
    "duration": 22,
    "start_time": "2022-11-25T20:27:28.444Z"
   },
   {
    "duration": 2,
    "start_time": "2022-11-25T20:31:28.537Z"
   },
   {
    "duration": 70,
    "start_time": "2022-11-25T20:32:31.738Z"
   },
   {
    "duration": 5,
    "start_time": "2022-11-25T20:32:38.777Z"
   },
   {
    "duration": 22,
    "start_time": "2022-11-25T20:32:43.012Z"
   },
   {
    "duration": 20,
    "start_time": "2022-11-25T20:33:20.045Z"
   },
   {
    "duration": 18,
    "start_time": "2022-11-25T20:33:25.764Z"
   },
   {
    "duration": 43,
    "start_time": "2022-11-25T20:33:50.372Z"
   },
   {
    "duration": 21,
    "start_time": "2022-11-25T20:33:50.417Z"
   },
   {
    "duration": 18,
    "start_time": "2022-11-25T20:33:51.384Z"
   },
   {
    "duration": 46,
    "start_time": "2022-11-25T20:33:58.428Z"
   },
   {
    "duration": 20,
    "start_time": "2022-11-25T20:33:58.477Z"
   },
   {
    "duration": 10,
    "start_time": "2022-11-25T20:33:58.498Z"
   },
   {
    "duration": 11,
    "start_time": "2022-11-25T20:33:58.604Z"
   },
   {
    "duration": 10,
    "start_time": "2022-11-25T20:33:58.618Z"
   },
   {
    "duration": 13,
    "start_time": "2022-11-25T20:33:58.630Z"
   },
   {
    "duration": 16,
    "start_time": "2022-11-25T20:41:40.488Z"
   },
   {
    "duration": 33,
    "start_time": "2022-11-25T20:42:08.905Z"
   },
   {
    "duration": 3,
    "start_time": "2022-11-25T20:42:09.645Z"
   },
   {
    "duration": 10,
    "start_time": "2022-11-25T20:42:09.884Z"
   },
   {
    "duration": 16,
    "start_time": "2022-11-25T20:42:10.244Z"
   },
   {
    "duration": 5,
    "start_time": "2022-11-25T20:42:10.425Z"
   },
   {
    "duration": 8,
    "start_time": "2022-11-25T20:42:10.705Z"
   },
   {
    "duration": 6,
    "start_time": "2022-11-25T20:42:11.038Z"
   },
   {
    "duration": 23,
    "start_time": "2022-11-25T20:42:11.299Z"
   },
   {
    "duration": 10,
    "start_time": "2022-11-25T20:42:33.188Z"
   },
   {
    "duration": 24,
    "start_time": "2022-11-25T20:42:33.916Z"
   },
   {
    "duration": 17,
    "start_time": "2022-11-25T20:42:37.773Z"
   },
   {
    "duration": 4,
    "start_time": "2022-11-25T20:42:38.780Z"
   },
   {
    "duration": 31,
    "start_time": "2022-11-25T20:46:06.797Z"
   },
   {
    "duration": 6,
    "start_time": "2022-11-25T20:46:20.883Z"
   },
   {
    "duration": 2992,
    "start_time": "2022-11-25T20:56:28.150Z"
   },
   {
    "duration": 5,
    "start_time": "2022-11-25T20:56:32.724Z"
   },
   {
    "duration": 7,
    "start_time": "2022-11-25T20:57:30.448Z"
   },
   {
    "duration": 2782,
    "start_time": "2022-11-25T20:57:31.425Z"
   },
   {
    "duration": 8,
    "start_time": "2022-11-25T20:58:57.856Z"
   },
   {
    "duration": 5,
    "start_time": "2022-11-25T20:59:01.118Z"
   },
   {
    "duration": 5035,
    "start_time": "2022-11-25T20:59:05.977Z"
   },
   {
    "duration": 5,
    "start_time": "2022-11-25T20:59:36.278Z"
   },
   {
    "duration": 33,
    "start_time": "2022-11-25T21:00:16.933Z"
   },
   {
    "duration": 1634,
    "start_time": "2022-11-25T21:00:36.098Z"
   },
   {
    "duration": 2,
    "start_time": "2022-11-25T21:00:37.734Z"
   },
   {
    "duration": 2783,
    "start_time": "2022-11-25T21:00:37.738Z"
   },
   {
    "duration": 83,
    "start_time": "2022-11-25T21:00:40.524Z"
   },
   {
    "duration": 62,
    "start_time": "2022-11-25T21:00:40.610Z"
   },
   {
    "duration": 26,
    "start_time": "2022-11-25T21:00:40.676Z"
   },
   {
    "duration": 13,
    "start_time": "2022-11-25T21:00:40.703Z"
   },
   {
    "duration": 52,
    "start_time": "2022-11-25T21:00:40.718Z"
   },
   {
    "duration": 21,
    "start_time": "2022-11-25T21:00:40.772Z"
   },
   {
    "duration": 8,
    "start_time": "2022-11-25T21:00:40.796Z"
   },
   {
    "duration": 15,
    "start_time": "2022-11-25T21:00:40.805Z"
   },
   {
    "duration": 31,
    "start_time": "2022-11-25T21:00:40.822Z"
   },
   {
    "duration": 22,
    "start_time": "2022-11-25T21:00:40.855Z"
   },
   {
    "duration": 36404,
    "start_time": "2022-11-25T21:00:40.880Z"
   },
   {
    "duration": 1124,
    "start_time": "2022-11-25T21:01:17.322Z"
   },
   {
    "duration": 169,
    "start_time": "2022-11-25T21:01:18.448Z"
   },
   {
    "duration": 4,
    "start_time": "2022-11-25T21:01:18.619Z"
   },
   {
    "duration": 8,
    "start_time": "2022-11-25T21:01:18.625Z"
   },
   {
    "duration": 41,
    "start_time": "2022-11-25T21:01:18.635Z"
   },
   {
    "duration": 37,
    "start_time": "2022-11-25T21:01:18.678Z"
   },
   {
    "duration": 3,
    "start_time": "2022-11-25T21:01:18.717Z"
   },
   {
    "duration": 7,
    "start_time": "2022-11-25T21:01:18.722Z"
   },
   {
    "duration": 26,
    "start_time": "2022-11-25T21:01:18.731Z"
   },
   {
    "duration": 9,
    "start_time": "2022-11-25T21:01:18.761Z"
   },
   {
    "duration": 17,
    "start_time": "2022-11-25T21:01:18.772Z"
   },
   {
    "duration": 5,
    "start_time": "2022-11-25T21:01:18.791Z"
   },
   {
    "duration": 16,
    "start_time": "2022-11-25T21:01:18.798Z"
   },
   {
    "duration": 5,
    "start_time": "2022-11-25T21:01:18.818Z"
   },
   {
    "duration": 367138,
    "start_time": "2022-11-25T21:01:18.825Z"
   },
   {
    "duration": 85,
    "start_time": "2022-11-25T21:07:25.970Z"
   },
   {
    "duration": 111,
    "start_time": "2022-11-25T21:07:26.057Z"
   },
   {
    "duration": 497,
    "start_time": "2022-11-25T21:07:26.170Z"
   },
   {
    "duration": 5,
    "start_time": "2022-11-25T21:07:26.755Z"
   },
   {
    "duration": 89,
    "start_time": "2022-11-25T21:07:26.763Z"
   },
   {
    "duration": 711,
    "start_time": "2022-11-25T21:07:26.854Z"
   },
   {
    "duration": 218,
    "start_time": "2022-11-25T21:07:27.567Z"
   },
   {
    "duration": 80,
    "start_time": "2022-11-25T21:07:27.787Z"
   },
   {
    "duration": 7,
    "start_time": "2022-11-25T21:07:27.868Z"
   },
   {
    "duration": 166,
    "start_time": "2022-11-25T21:07:27.877Z"
   },
   {
    "duration": 135,
    "start_time": "2022-11-25T21:07:28.045Z"
   },
   {
    "duration": 0,
    "start_time": "2022-11-25T21:07:28.182Z"
   },
   {
    "duration": 0,
    "start_time": "2022-11-25T21:07:28.183Z"
   },
   {
    "duration": 0,
    "start_time": "2022-11-25T21:07:28.185Z"
   },
   {
    "duration": 0,
    "start_time": "2022-11-25T21:07:28.186Z"
   },
   {
    "duration": 0,
    "start_time": "2022-11-25T21:07:28.187Z"
   },
   {
    "duration": 0,
    "start_time": "2022-11-25T21:07:28.188Z"
   },
   {
    "duration": 0,
    "start_time": "2022-11-25T21:07:28.189Z"
   },
   {
    "duration": 0,
    "start_time": "2022-11-25T21:07:28.190Z"
   },
   {
    "duration": 0,
    "start_time": "2022-11-25T21:07:28.191Z"
   },
   {
    "duration": 0,
    "start_time": "2022-11-25T21:07:28.192Z"
   },
   {
    "duration": 0,
    "start_time": "2022-11-25T21:07:28.193Z"
   },
   {
    "duration": 0,
    "start_time": "2022-11-25T21:07:28.195Z"
   },
   {
    "duration": 0,
    "start_time": "2022-11-25T21:07:28.195Z"
   },
   {
    "duration": 0,
    "start_time": "2022-11-25T21:07:28.196Z"
   },
   {
    "duration": 0,
    "start_time": "2022-11-25T21:07:28.197Z"
   },
   {
    "duration": 0,
    "start_time": "2022-11-25T21:07:28.198Z"
   },
   {
    "duration": 0,
    "start_time": "2022-11-25T21:07:28.199Z"
   },
   {
    "duration": 0,
    "start_time": "2022-11-25T21:07:28.200Z"
   },
   {
    "duration": 0,
    "start_time": "2022-11-25T21:07:28.201Z"
   },
   {
    "duration": 0,
    "start_time": "2022-11-25T21:07:28.202Z"
   },
   {
    "duration": 0,
    "start_time": "2022-11-25T21:07:28.203Z"
   },
   {
    "duration": 0,
    "start_time": "2022-11-25T21:07:28.204Z"
   },
   {
    "duration": 0,
    "start_time": "2022-11-25T21:07:28.205Z"
   },
   {
    "duration": 0,
    "start_time": "2022-11-25T21:07:28.206Z"
   },
   {
    "duration": 0,
    "start_time": "2022-11-25T21:07:28.207Z"
   },
   {
    "duration": 0,
    "start_time": "2022-11-25T21:07:28.251Z"
   },
   {
    "duration": 0,
    "start_time": "2022-11-25T21:07:28.252Z"
   },
   {
    "duration": 0,
    "start_time": "2022-11-25T21:07:28.253Z"
   },
   {
    "duration": 0,
    "start_time": "2022-11-25T21:07:28.254Z"
   },
   {
    "duration": 0,
    "start_time": "2022-11-25T21:07:28.259Z"
   },
   {
    "duration": 0,
    "start_time": "2022-11-25T21:07:28.263Z"
   },
   {
    "duration": 0,
    "start_time": "2022-11-25T21:07:28.265Z"
   },
   {
    "duration": 0,
    "start_time": "2022-11-25T21:07:28.266Z"
   },
   {
    "duration": 0,
    "start_time": "2022-11-25T21:07:28.268Z"
   },
   {
    "duration": 295,
    "start_time": "2022-11-25T21:07:52.272Z"
   },
   {
    "duration": 98,
    "start_time": "2022-11-25T21:08:05.265Z"
   },
   {
    "duration": 165,
    "start_time": "2022-11-25T21:08:09.286Z"
   },
   {
    "duration": 473,
    "start_time": "2022-11-25T21:08:17.594Z"
   },
   {
    "duration": 3,
    "start_time": "2022-11-25T22:11:29.828Z"
   },
   {
    "duration": 126,
    "start_time": "2022-11-25T22:13:23.573Z"
   },
   {
    "duration": 33,
    "start_time": "2022-11-25T22:13:32.209Z"
   },
   {
    "duration": 152,
    "start_time": "2022-11-25T22:13:39.205Z"
   },
   {
    "duration": 102,
    "start_time": "2022-11-25T22:13:41.173Z"
   },
   {
    "duration": 67,
    "start_time": "2022-11-25T22:14:02.411Z"
   },
   {
    "duration": 906,
    "start_time": "2022-11-25T22:14:18.499Z"
   },
   {
    "duration": 1333,
    "start_time": "2022-11-25T22:14:44.521Z"
   },
   {
    "duration": 123,
    "start_time": "2022-11-25T22:15:34.455Z"
   },
   {
    "duration": 3,
    "start_time": "2022-11-25T22:16:12.928Z"
   },
   {
    "duration": 14,
    "start_time": "2022-11-25T22:16:52.311Z"
   },
   {
    "duration": 13,
    "start_time": "2022-11-25T22:16:57.598Z"
   },
   {
    "duration": 230,
    "start_time": "2022-11-25T22:17:12.641Z"
   },
   {
    "duration": 185,
    "start_time": "2022-11-25T22:17:26.397Z"
   },
   {
    "duration": 231,
    "start_time": "2022-11-25T22:17:32.898Z"
   },
   {
    "duration": 6963,
    "start_time": "2022-11-25T22:17:41.144Z"
   },
   {
    "duration": 471,
    "start_time": "2022-11-25T22:18:09.585Z"
   },
   {
    "duration": 416,
    "start_time": "2022-11-25T22:18:29.884Z"
   },
   {
    "duration": 237,
    "start_time": "2022-11-25T22:18:35.320Z"
   },
   {
    "duration": 297,
    "start_time": "2022-11-25T22:19:07.800Z"
   },
   {
    "duration": 106,
    "start_time": "2022-11-25T22:19:19.279Z"
   },
   {
    "duration": 101,
    "start_time": "2022-11-25T22:19:49.909Z"
   },
   {
    "duration": 71,
    "start_time": "2022-11-25T22:20:01.810Z"
   },
   {
    "duration": 92,
    "start_time": "2022-11-25T22:20:12.393Z"
   },
   {
    "duration": 1131,
    "start_time": "2022-11-25T22:27:46.688Z"
   },
   {
    "duration": 1560,
    "start_time": "2022-11-26T11:41:20.279Z"
   },
   {
    "duration": 2,
    "start_time": "2022-11-26T11:41:24.308Z"
   },
   {
    "duration": 3377,
    "start_time": "2022-11-26T11:41:25.088Z"
   },
   {
    "duration": 248,
    "start_time": "2022-11-26T11:41:28.945Z"
   },
   {
    "duration": 89,
    "start_time": "2022-11-26T11:41:29.915Z"
   },
   {
    "duration": 20,
    "start_time": "2022-11-26T11:41:30.603Z"
   },
   {
    "duration": 17,
    "start_time": "2022-11-26T11:41:31.235Z"
   },
   {
    "duration": 53,
    "start_time": "2022-11-26T11:41:31.476Z"
   },
   {
    "duration": 20,
    "start_time": "2022-11-26T11:41:32.102Z"
   },
   {
    "duration": 9,
    "start_time": "2022-11-26T11:41:32.577Z"
   },
   {
    "duration": 12,
    "start_time": "2022-11-26T11:41:32.956Z"
   },
   {
    "duration": 8,
    "start_time": "2022-11-26T11:41:33.370Z"
   },
   {
    "duration": 12,
    "start_time": "2022-11-26T11:41:34.076Z"
   },
   {
    "duration": 27171,
    "start_time": "2022-11-26T11:41:34.895Z"
   },
   {
    "duration": 949,
    "start_time": "2022-11-26T11:42:02.068Z"
   },
   {
    "duration": 120,
    "start_time": "2022-11-26T11:42:03.019Z"
   },
   {
    "duration": 4,
    "start_time": "2022-11-26T11:42:03.141Z"
   },
   {
    "duration": 24,
    "start_time": "2022-11-26T11:42:03.146Z"
   },
   {
    "duration": 33,
    "start_time": "2022-11-26T11:42:03.172Z"
   },
   {
    "duration": 2,
    "start_time": "2022-11-26T11:42:03.207Z"
   },
   {
    "duration": 7,
    "start_time": "2022-11-26T11:42:03.211Z"
   },
   {
    "duration": 14,
    "start_time": "2022-11-26T11:42:03.220Z"
   },
   {
    "duration": 6,
    "start_time": "2022-11-26T11:42:03.236Z"
   },
   {
    "duration": 7,
    "start_time": "2022-11-26T11:42:03.244Z"
   },
   {
    "duration": 6,
    "start_time": "2022-11-26T11:42:03.253Z"
   },
   {
    "duration": 42,
    "start_time": "2022-11-26T11:42:03.260Z"
   },
   {
    "duration": 5,
    "start_time": "2022-11-26T11:42:03.303Z"
   },
   {
    "duration": 255202,
    "start_time": "2022-11-26T11:42:03.310Z"
   },
   {
    "duration": 10,
    "start_time": "2022-11-26T11:46:18.600Z"
   },
   {
    "duration": 190,
    "start_time": "2022-11-26T11:46:18.613Z"
   },
   {
    "duration": 1566,
    "start_time": "2022-11-26T20:04:20.668Z"
   },
   {
    "duration": 3,
    "start_time": "2022-11-26T20:04:22.238Z"
   },
   {
    "duration": 3013,
    "start_time": "2022-11-26T20:04:22.242Z"
   },
   {
    "duration": 65,
    "start_time": "2022-11-26T20:04:25.258Z"
   },
   {
    "duration": 159,
    "start_time": "2022-11-26T20:04:25.325Z"
   },
   {
    "duration": 18,
    "start_time": "2022-11-26T20:04:25.486Z"
   },
   {
    "duration": 12,
    "start_time": "2022-11-26T20:04:25.506Z"
   },
   {
    "duration": 43,
    "start_time": "2022-11-26T20:04:25.520Z"
   },
   {
    "duration": 15,
    "start_time": "2022-11-26T20:04:25.564Z"
   },
   {
    "duration": 8,
    "start_time": "2022-11-26T20:04:25.582Z"
   },
   {
    "duration": 12,
    "start_time": "2022-11-26T20:04:25.592Z"
   },
   {
    "duration": 9,
    "start_time": "2022-11-26T20:04:25.606Z"
   },
   {
    "duration": 13,
    "start_time": "2022-11-26T20:04:25.637Z"
   },
   {
    "duration": 27486,
    "start_time": "2022-11-26T20:04:25.652Z"
   },
   {
    "duration": 959,
    "start_time": "2022-11-26T20:04:53.140Z"
   },
   {
    "duration": 136,
    "start_time": "2022-11-26T20:04:54.101Z"
   },
   {
    "duration": 1208,
    "start_time": "2022-11-26T20:05:20.977Z"
   },
   {
    "duration": 108,
    "start_time": "2022-11-26T20:05:29.533Z"
   },
   {
    "duration": 5,
    "start_time": "2022-11-26T20:05:32.342Z"
   },
   {
    "duration": 16,
    "start_time": "2022-11-26T20:05:52.974Z"
   },
   {
    "duration": 28,
    "start_time": "2022-11-26T20:06:13.341Z"
   },
   {
    "duration": 2,
    "start_time": "2022-11-26T20:06:16.105Z"
   },
   {
    "duration": 5,
    "start_time": "2022-11-26T20:06:17.263Z"
   },
   {
    "duration": 6,
    "start_time": "2022-11-26T20:06:19.809Z"
   },
   {
    "duration": 4,
    "start_time": "2022-11-26T20:06:20.365Z"
   },
   {
    "duration": 6,
    "start_time": "2022-11-26T20:06:21.361Z"
   },
   {
    "duration": 4,
    "start_time": "2022-11-26T20:06:21.811Z"
   },
   {
    "duration": 12,
    "start_time": "2022-11-26T20:06:26.266Z"
   },
   {
    "duration": 12,
    "start_time": "2022-11-26T20:06:42.448Z"
   },
   {
    "duration": 35,
    "start_time": "2022-11-26T20:06:56.217Z"
   },
   {
    "duration": 658,
    "start_time": "2022-11-26T20:07:41.948Z"
   },
   {
    "duration": 7842,
    "start_time": "2022-11-26T20:13:33.518Z"
   },
   {
    "duration": 152474,
    "start_time": "2022-11-26T20:14:24.798Z"
   },
   {
    "duration": 650,
    "start_time": "2022-11-26T20:21:37.518Z"
   },
   {
    "duration": 20,
    "start_time": "2022-11-26T20:21:49.578Z"
   },
   {
    "duration": 12,
    "start_time": "2022-11-26T20:31:22.281Z"
   },
   {
    "duration": 9,
    "start_time": "2022-11-26T20:32:28.397Z"
   },
   {
    "duration": 10,
    "start_time": "2022-11-26T20:33:03.237Z"
   },
   {
    "duration": 9,
    "start_time": "2022-11-26T20:33:13.297Z"
   },
   {
    "duration": 3,
    "start_time": "2022-11-26T20:35:50.273Z"
   },
   {
    "duration": 4,
    "start_time": "2022-11-26T20:35:50.976Z"
   },
   {
    "duration": 6,
    "start_time": "2022-11-26T20:35:51.457Z"
   },
   {
    "duration": 6,
    "start_time": "2022-11-26T20:35:51.737Z"
   },
   {
    "duration": 6,
    "start_time": "2022-11-26T20:35:52.073Z"
   },
   {
    "duration": 4,
    "start_time": "2022-11-26T20:35:52.289Z"
   },
   {
    "duration": 11,
    "start_time": "2022-11-26T20:35:53.477Z"
   },
   {
    "duration": 226,
    "start_time": "2022-11-26T20:35:55.117Z"
   },
   {
    "duration": 9,
    "start_time": "2022-11-26T20:35:56.329Z"
   },
   {
    "duration": 151814,
    "start_time": "2022-11-26T20:36:15.778Z"
   },
   {
    "duration": 3,
    "start_time": "2022-11-26T20:41:45.296Z"
   },
   {
    "duration": 5,
    "start_time": "2022-11-26T20:41:45.781Z"
   },
   {
    "duration": 7,
    "start_time": "2022-11-26T20:41:46.024Z"
   },
   {
    "duration": 4,
    "start_time": "2022-11-26T20:41:46.209Z"
   },
   {
    "duration": 6,
    "start_time": "2022-11-26T20:41:46.605Z"
   },
   {
    "duration": 4,
    "start_time": "2022-11-26T20:41:46.789Z"
   },
   {
    "duration": 12,
    "start_time": "2022-11-26T20:41:47.037Z"
   },
   {
    "duration": 171,
    "start_time": "2022-11-26T20:41:47.669Z"
   },
   {
    "duration": 10,
    "start_time": "2022-11-26T20:41:47.849Z"
   },
   {
    "duration": 153013,
    "start_time": "2022-11-26T20:41:48.656Z"
   },
   {
    "duration": 670,
    "start_time": "2022-11-26T20:44:21.671Z"
   },
   {
    "duration": 18,
    "start_time": "2022-11-26T20:44:22.342Z"
   },
   {
    "duration": 183,
    "start_time": "2022-11-26T20:44:22.362Z"
   },
   {
    "duration": 311,
    "start_time": "2022-11-26T20:44:22.547Z"
   },
   {
    "duration": 0,
    "start_time": "2022-11-26T20:44:22.860Z"
   },
   {
    "duration": 162,
    "start_time": "2022-11-26T20:44:50.477Z"
   },
   {
    "duration": 130,
    "start_time": "2022-11-26T20:44:53.910Z"
   },
   {
    "duration": 152,
    "start_time": "2022-11-26T20:45:05.720Z"
   },
   {
    "duration": 153,
    "start_time": "2022-11-26T20:45:19.397Z"
   },
   {
    "duration": 10,
    "start_time": "2022-11-26T20:45:51.517Z"
   },
   {
    "duration": 12,
    "start_time": "2022-11-26T20:46:26.086Z"
   },
   {
    "duration": 10,
    "start_time": "2022-11-26T20:46:40.337Z"
   },
   {
    "duration": 10,
    "start_time": "2022-11-26T20:48:49.256Z"
   },
   {
    "duration": 420,
    "start_time": "2022-11-26T20:50:44.668Z"
   },
   {
    "duration": 18,
    "start_time": "2022-11-26T20:50:57.876Z"
   },
   {
    "duration": 103,
    "start_time": "2022-11-26T20:51:04.541Z"
   },
   {
    "duration": 673,
    "start_time": "2022-11-26T20:51:13.297Z"
   },
   {
    "duration": 377,
    "start_time": "2022-11-26T20:51:21.617Z"
   },
   {
    "duration": 21,
    "start_time": "2022-11-26T20:51:37.318Z"
   },
   {
    "duration": 142,
    "start_time": "2022-11-26T20:53:29.997Z"
   },
   {
    "duration": 404,
    "start_time": "2022-11-26T20:54:08.977Z"
   },
   {
    "duration": 16,
    "start_time": "2022-11-26T20:54:16.668Z"
   },
   {
    "duration": 10,
    "start_time": "2022-11-26T20:54:25.336Z"
   },
   {
    "duration": 182,
    "start_time": "2022-11-26T20:54:29.557Z"
   },
   {
    "duration": 20,
    "start_time": "2022-11-26T20:54:54.696Z"
   },
   {
    "duration": 49,
    "start_time": "2022-11-26T20:55:30.698Z"
   },
   {
    "duration": 134,
    "start_time": "2022-11-26T20:55:41.518Z"
   },
   {
    "duration": 178,
    "start_time": "2022-11-26T20:55:51.357Z"
   },
   {
    "duration": 5072,
    "start_time": "2022-11-26T20:56:28.397Z"
   },
   {
    "duration": 258,
    "start_time": "2022-11-26T20:57:39.417Z"
   },
   {
    "duration": 50,
    "start_time": "2022-11-26T20:59:23.309Z"
   },
   {
    "duration": 185,
    "start_time": "2022-11-26T21:00:16.157Z"
   },
   {
    "duration": 377,
    "start_time": "2022-11-26T21:01:13.237Z"
   },
   {
    "duration": 259965,
    "start_time": "2022-11-26T21:02:02.693Z"
   },
   {
    "duration": 401473,
    "start_time": "2022-11-26T21:08:59.070Z"
   },
   {
    "duration": 1194,
    "start_time": "2022-11-26T21:15:40.544Z"
   },
   {
    "duration": 1722463,
    "start_time": "2022-11-26T21:16:40.525Z"
   },
   {
    "duration": 1427,
    "start_time": "2022-11-26T21:52:10.520Z"
   },
   {
    "duration": 3,
    "start_time": "2022-11-26T21:52:11.948Z"
   },
   {
    "duration": 2121,
    "start_time": "2022-11-26T21:52:11.952Z"
   },
   {
    "duration": 65,
    "start_time": "2022-11-26T21:52:14.076Z"
   },
   {
    "duration": 45,
    "start_time": "2022-11-26T21:52:14.143Z"
   },
   {
    "duration": 21,
    "start_time": "2022-11-26T21:52:14.191Z"
   },
   {
    "duration": 14,
    "start_time": "2022-11-26T21:52:14.214Z"
   },
   {
    "duration": 49,
    "start_time": "2022-11-26T21:52:14.230Z"
   },
   {
    "duration": 14,
    "start_time": "2022-11-26T21:52:14.281Z"
   },
   {
    "duration": 7,
    "start_time": "2022-11-26T21:52:14.297Z"
   },
   {
    "duration": 12,
    "start_time": "2022-11-26T21:52:14.305Z"
   },
   {
    "duration": 7,
    "start_time": "2022-11-26T21:52:14.398Z"
   },
   {
    "duration": 11,
    "start_time": "2022-11-26T21:52:15.099Z"
   },
   {
    "duration": 28652,
    "start_time": "2022-11-26T21:52:15.418Z"
   },
   {
    "duration": 951,
    "start_time": "2022-11-26T21:52:44.072Z"
   },
   {
    "duration": 126,
    "start_time": "2022-11-26T21:52:45.025Z"
   },
   {
    "duration": 3,
    "start_time": "2022-11-26T21:52:45.153Z"
   },
   {
    "duration": 19,
    "start_time": "2022-11-26T21:52:45.158Z"
   },
   {
    "duration": 29,
    "start_time": "2022-11-26T21:52:45.178Z"
   },
   {
    "duration": 2,
    "start_time": "2022-11-26T21:52:45.209Z"
   },
   {
    "duration": 28,
    "start_time": "2022-11-26T21:52:45.212Z"
   },
   {
    "duration": 5,
    "start_time": "2022-11-26T21:52:45.242Z"
   },
   {
    "duration": 4,
    "start_time": "2022-11-26T21:52:45.249Z"
   },
   {
    "duration": 6,
    "start_time": "2022-11-26T21:52:45.254Z"
   },
   {
    "duration": 3,
    "start_time": "2022-11-26T21:52:45.262Z"
   },
   {
    "duration": 11,
    "start_time": "2022-11-26T21:52:45.267Z"
   },
   {
    "duration": 211,
    "start_time": "2022-11-26T21:52:45.279Z"
   },
   {
    "duration": 1504,
    "start_time": "2022-11-27T18:59:03.652Z"
   },
   {
    "duration": 3,
    "start_time": "2022-11-27T18:59:05.158Z"
   },
   {
    "duration": 2969,
    "start_time": "2022-11-27T18:59:05.163Z"
   },
   {
    "duration": 96,
    "start_time": "2022-11-27T18:59:08.135Z"
   },
   {
    "duration": 157,
    "start_time": "2022-11-27T18:59:08.362Z"
   },
   {
    "duration": 26,
    "start_time": "2022-11-27T18:59:08.776Z"
   },
   {
    "duration": 29,
    "start_time": "2022-11-27T18:59:09.459Z"
   },
   {
    "duration": 39,
    "start_time": "2022-11-27T18:59:09.913Z"
   },
   {
    "duration": 20,
    "start_time": "2022-11-27T18:59:11.858Z"
   },
   {
    "duration": 7,
    "start_time": "2022-11-27T18:59:18.762Z"
   },
   {
    "duration": 8,
    "start_time": "2022-11-27T18:59:23.770Z"
   },
   {
    "duration": 7,
    "start_time": "2022-11-27T18:59:26.142Z"
   },
   {
    "duration": 11,
    "start_time": "2022-11-27T18:59:31.211Z"
   },
   {
    "duration": 27137,
    "start_time": "2022-11-27T18:59:33.620Z"
   },
   {
    "duration": 954,
    "start_time": "2022-11-27T19:00:00.759Z"
   },
   {
    "duration": 117,
    "start_time": "2022-11-27T19:00:58.947Z"
   },
   {
    "duration": 2,
    "start_time": "2022-11-27T19:01:03.283Z"
   },
   {
    "duration": 17,
    "start_time": "2022-11-27T19:01:04.492Z"
   },
   {
    "duration": 27,
    "start_time": "2022-11-27T19:02:51.550Z"
   },
   {
    "duration": 17,
    "start_time": "2022-11-27T19:04:17.078Z"
   },
   {
    "duration": 8,
    "start_time": "2022-11-27T19:04:19.030Z"
   },
   {
    "duration": 2,
    "start_time": "2022-11-27T19:04:21.081Z"
   },
   {
    "duration": 3,
    "start_time": "2022-11-27T19:04:25.233Z"
   },
   {
    "duration": 4,
    "start_time": "2022-11-27T19:04:25.836Z"
   },
   {
    "duration": 6,
    "start_time": "2022-11-27T19:04:27.333Z"
   },
   {
    "duration": 4,
    "start_time": "2022-11-27T19:04:28.472Z"
   },
   {
    "duration": 6,
    "start_time": "2022-11-27T19:04:28.902Z"
   },
   {
    "duration": 4,
    "start_time": "2022-11-27T19:04:30.320Z"
   },
   {
    "duration": 13,
    "start_time": "2022-11-27T19:04:31.792Z"
   },
   {
    "duration": 10,
    "start_time": "2022-11-27T19:12:56.571Z"
   },
   {
    "duration": 4,
    "start_time": "2022-11-27T19:12:58.871Z"
   },
   {
    "duration": 7,
    "start_time": "2022-11-27T19:13:28.652Z"
   },
   {
    "duration": 5,
    "start_time": "2022-11-27T19:13:30.151Z"
   },
   {
    "duration": 12,
    "start_time": "2022-11-27T19:13:32.411Z"
   },
   {
    "duration": 113,
    "start_time": "2022-11-27T19:13:37.903Z"
   },
   {
    "duration": 9,
    "start_time": "2022-11-27T19:13:45.307Z"
   },
   {
    "duration": 1493,
    "start_time": "2022-11-27T19:15:43.011Z"
   },
   {
    "duration": 78442,
    "start_time": "2022-11-27T19:15:51.682Z"
   },
   {
    "duration": 61036,
    "start_time": "2022-11-27T19:21:05.083Z"
   },
   {
    "duration": 67,
    "start_time": "2022-11-27T19:22:27.712Z"
   },
   {
    "duration": 74,
    "start_time": "2022-11-27T19:22:37.244Z"
   },
   {
    "duration": 1142,
    "start_time": "2022-11-27T19:23:12.763Z"
   },
   {
    "duration": 27,
    "start_time": "2022-11-27T19:23:27.112Z"
   },
   {
    "duration": 102,
    "start_time": "2022-11-27T19:28:21.111Z"
   },
   {
    "duration": 60424,
    "start_time": "2022-11-27T19:30:28.180Z"
   },
   {
    "duration": 96,
    "start_time": "2022-11-27T19:32:12.390Z"
   },
   {
    "duration": 22,
    "start_time": "2022-11-27T19:34:26.795Z"
   },
   {
    "duration": 163,
    "start_time": "2022-11-27T19:35:36.443Z"
   },
   {
    "duration": 60177,
    "start_time": "2022-11-27T19:35:48.483Z"
   },
   {
    "duration": 82449,
    "start_time": "2022-11-27T19:36:55.065Z"
   },
   {
    "duration": 8,
    "start_time": "2022-11-27T19:39:10.345Z"
   },
   {
    "duration": 80,
    "start_time": "2022-11-27T19:39:12.433Z"
   },
   {
    "duration": 41333,
    "start_time": "2022-11-27T19:39:52.511Z"
   },
   {
    "duration": 41500,
    "start_time": "2022-11-27T19:42:06.012Z"
   },
   {
    "duration": 1126,
    "start_time": "2022-11-27T19:44:41.312Z"
   },
   {
    "duration": 98,
    "start_time": "2022-11-27T19:45:00.952Z"
   },
   {
    "duration": 4,
    "start_time": "2022-11-27T20:42:21.779Z"
   },
   {
    "duration": 2,
    "start_time": "2022-11-27T20:42:23.527Z"
   },
   {
    "duration": 2096,
    "start_time": "2022-11-27T20:42:24.127Z"
   },
   {
    "duration": 2,
    "start_time": "2022-11-27T20:42:26.225Z"
   },
   {
    "duration": 45,
    "start_time": "2022-11-27T20:42:26.229Z"
   },
   {
    "duration": 14,
    "start_time": "2022-11-27T20:42:26.276Z"
   },
   {
    "duration": 14,
    "start_time": "2022-11-27T20:42:26.291Z"
   },
   {
    "duration": 40,
    "start_time": "2022-11-27T20:42:26.399Z"
   },
   {
    "duration": 13,
    "start_time": "2022-11-27T20:42:27.089Z"
   },
   {
    "duration": 7,
    "start_time": "2022-11-27T20:42:27.427Z"
   },
   {
    "duration": 7,
    "start_time": "2022-11-27T20:42:27.747Z"
   },
   {
    "duration": 8,
    "start_time": "2022-11-27T20:42:27.951Z"
   },
   {
    "duration": 11,
    "start_time": "2022-11-27T20:42:28.507Z"
   },
   {
    "duration": 26755,
    "start_time": "2022-11-27T20:42:29.287Z"
   },
   {
    "duration": 1019,
    "start_time": "2022-11-27T20:42:56.045Z"
   },
   {
    "duration": 121,
    "start_time": "2022-11-27T20:42:57.065Z"
   },
   {
    "duration": 2,
    "start_time": "2022-11-27T20:42:57.188Z"
   },
   {
    "duration": 28,
    "start_time": "2022-11-27T20:42:57.191Z"
   },
   {
    "duration": 25,
    "start_time": "2022-11-27T20:42:57.220Z"
   },
   {
    "duration": 3,
    "start_time": "2022-11-27T20:42:57.246Z"
   },
   {
    "duration": 7,
    "start_time": "2022-11-27T20:42:57.250Z"
   },
   {
    "duration": 8,
    "start_time": "2022-11-27T20:42:57.258Z"
   },
   {
    "duration": 4,
    "start_time": "2022-11-27T20:43:10.879Z"
   },
   {
    "duration": 6,
    "start_time": "2022-11-27T20:43:11.347Z"
   },
   {
    "duration": 4,
    "start_time": "2022-11-27T20:43:12.167Z"
   },
   {
    "duration": 14,
    "start_time": "2022-11-27T20:43:13.567Z"
   },
   {
    "duration": 44,
    "start_time": "2022-11-27T20:43:16.867Z"
   },
   {
    "duration": 9,
    "start_time": "2022-11-27T20:43:42.555Z"
   },
   {
    "duration": 60374,
    "start_time": "2022-11-27T20:43:47.947Z"
   },
   {
    "duration": 1139,
    "start_time": "2022-11-27T20:44:55.675Z"
   },
   {
    "duration": 27,
    "start_time": "2022-11-27T20:44:59.647Z"
   },
   {
    "duration": 211,
    "start_time": "2022-11-27T20:45:06.595Z"
   },
   {
    "duration": 60091,
    "start_time": "2022-11-27T20:45:10.187Z"
   },
   {
    "duration": 1121,
    "start_time": "2022-11-27T20:46:17.475Z"
   },
   {
    "duration": 21,
    "start_time": "2022-11-27T20:46:24.247Z"
   },
   {
    "duration": 239,
    "start_time": "2022-11-27T20:46:27.267Z"
   },
   {
    "duration": 82079,
    "start_time": "2022-11-27T20:46:51.979Z"
   },
   {
    "duration": 1206,
    "start_time": "2022-11-27T20:48:41.528Z"
   },
   {
    "duration": 27,
    "start_time": "2022-11-27T20:48:46.327Z"
   },
   {
    "duration": 8,
    "start_time": "2022-11-27T20:48:49.867Z"
   },
   {
    "duration": 43,
    "start_time": "2022-11-27T20:48:51.667Z"
   },
   {
    "duration": 41022,
    "start_time": "2022-11-27T20:49:11.087Z"
   },
   {
    "duration": 257,
    "start_time": "2022-11-27T20:50:08.067Z"
   },
   {
    "duration": 42,
    "start_time": "2022-11-27T20:50:23.835Z"
   },
   {
    "duration": 4,
    "start_time": "2022-11-27T21:06:16.400Z"
   },
   {
    "duration": 2,
    "start_time": "2022-11-27T21:06:16.879Z"
   },
   {
    "duration": 2138,
    "start_time": "2022-11-27T21:06:17.439Z"
   },
   {
    "duration": 3,
    "start_time": "2022-11-27T21:06:19.579Z"
   },
   {
    "duration": 60,
    "start_time": "2022-11-27T21:06:19.583Z"
   },
   {
    "duration": 16,
    "start_time": "2022-11-27T21:06:19.646Z"
   },
   {
    "duration": 50,
    "start_time": "2022-11-27T21:06:19.663Z"
   },
   {
    "duration": 60,
    "start_time": "2022-11-27T21:06:19.714Z"
   },
   {
    "duration": 13,
    "start_time": "2022-11-27T21:06:19.776Z"
   },
   {
    "duration": 7,
    "start_time": "2022-11-27T21:06:20.102Z"
   },
   {
    "duration": 8,
    "start_time": "2022-11-27T21:06:21.034Z"
   },
   {
    "duration": 7,
    "start_time": "2022-11-27T21:06:21.227Z"
   },
   {
    "duration": 11,
    "start_time": "2022-11-27T21:06:21.607Z"
   },
   {
    "duration": 27346,
    "start_time": "2022-11-27T21:06:21.902Z"
   },
   {
    "duration": 1290,
    "start_time": "2022-11-27T21:06:49.250Z"
   },
   {
    "duration": 142,
    "start_time": "2022-11-27T21:06:50.542Z"
   },
   {
    "duration": 3,
    "start_time": "2022-11-27T21:06:50.687Z"
   },
   {
    "duration": 31,
    "start_time": "2022-11-27T21:06:50.692Z"
   },
   {
    "duration": 27,
    "start_time": "2022-11-27T21:06:50.725Z"
   },
   {
    "duration": 2,
    "start_time": "2022-11-27T21:06:50.754Z"
   },
   {
    "duration": 14,
    "start_time": "2022-11-27T21:06:50.758Z"
   },
   {
    "duration": 44,
    "start_time": "2022-11-27T21:06:50.773Z"
   },
   {
    "duration": 4,
    "start_time": "2022-11-27T21:06:50.819Z"
   },
   {
    "duration": 14,
    "start_time": "2022-11-27T21:06:50.824Z"
   },
   {
    "duration": 43,
    "start_time": "2022-11-27T21:06:50.840Z"
   },
   {
    "duration": 22,
    "start_time": "2022-11-27T21:06:50.885Z"
   },
   {
    "duration": 201,
    "start_time": "2022-11-27T21:06:50.909Z"
   },
   {
    "duration": 11,
    "start_time": "2022-11-27T21:06:51.112Z"
   },
   {
    "duration": 293,
    "start_time": "2022-11-27T21:09:43.937Z"
   },
   {
    "duration": 70,
    "start_time": "2022-11-27T21:10:36.666Z"
   },
   {
    "duration": 51154,
    "start_time": "2022-11-27T21:13:00.306Z"
   },
   {
    "duration": 26049,
    "start_time": "2022-11-27T21:14:07.579Z"
   },
   {
    "duration": 3081,
    "start_time": "2022-11-27T21:14:42.175Z"
   },
   {
    "duration": 789,
    "start_time": "2022-11-27T21:14:54.767Z"
   },
   {
    "duration": 20,
    "start_time": "2022-11-27T21:15:21.966Z"
   },
   {
    "duration": 916,
    "start_time": "2022-11-27T21:15:42.948Z"
   },
   {
    "duration": 37184,
    "start_time": "2022-11-27T21:15:50.847Z"
   },
   {
    "duration": 1374,
    "start_time": "2022-11-27T21:22:51.106Z"
   },
   {
    "duration": 3,
    "start_time": "2022-11-27T21:22:55.965Z"
   },
   {
    "duration": 2129,
    "start_time": "2022-11-27T21:22:56.218Z"
   },
   {
    "duration": 64,
    "start_time": "2022-11-27T21:22:58.349Z"
   },
   {
    "duration": 44,
    "start_time": "2022-11-27T21:22:58.415Z"
   },
   {
    "duration": 20,
    "start_time": "2022-11-27T21:22:58.461Z"
   },
   {
    "duration": 26,
    "start_time": "2022-11-27T21:22:58.483Z"
   },
   {
    "duration": 39,
    "start_time": "2022-11-27T21:22:58.510Z"
   },
   {
    "duration": 14,
    "start_time": "2022-11-27T21:22:58.551Z"
   },
   {
    "duration": 7,
    "start_time": "2022-11-27T21:22:59.126Z"
   },
   {
    "duration": 8,
    "start_time": "2022-11-27T21:22:59.846Z"
   },
   {
    "duration": 8,
    "start_time": "2022-11-27T21:23:00.284Z"
   },
   {
    "duration": 11,
    "start_time": "2022-11-27T21:23:01.086Z"
   },
   {
    "duration": 26304,
    "start_time": "2022-11-27T21:23:01.926Z"
   },
   {
    "duration": 978,
    "start_time": "2022-11-27T21:23:28.232Z"
   },
   {
    "duration": 119,
    "start_time": "2022-11-27T21:23:29.212Z"
   },
   {
    "duration": 2,
    "start_time": "2022-11-27T21:23:29.333Z"
   },
   {
    "duration": 18,
    "start_time": "2022-11-27T21:23:29.336Z"
   },
   {
    "duration": 52,
    "start_time": "2022-11-27T21:23:29.355Z"
   },
   {
    "duration": 2,
    "start_time": "2022-11-27T21:23:29.408Z"
   },
   {
    "duration": 6,
    "start_time": "2022-11-27T21:23:29.412Z"
   },
   {
    "duration": 16,
    "start_time": "2022-11-27T21:23:29.419Z"
   },
   {
    "duration": 7,
    "start_time": "2022-11-27T21:23:29.438Z"
   },
   {
    "duration": 8,
    "start_time": "2022-11-27T21:23:29.446Z"
   },
   {
    "duration": 5,
    "start_time": "2022-11-27T21:23:29.455Z"
   },
   {
    "duration": 162,
    "start_time": "2022-11-27T21:23:43.945Z"
   },
   {
    "duration": 10,
    "start_time": "2022-11-27T21:23:49.077Z"
   },
   {
    "duration": 58794,
    "start_time": "2022-11-27T21:23:52.426Z"
   },
   {
    "duration": 113,
    "start_time": "2022-11-27T21:25:06.246Z"
   },
   {
    "duration": 25851,
    "start_time": "2022-11-27T21:25:18.104Z"
   },
   {
    "duration": 51822,
    "start_time": "2022-11-27T21:25:57.345Z"
   },
   {
    "duration": 14,
    "start_time": "2022-11-27T21:28:11.658Z"
   },
   {
    "duration": 20,
    "start_time": "2022-11-27T21:28:53.286Z"
   },
   {
    "duration": 59461,
    "start_time": "2022-11-27T21:29:10.445Z"
   },
   {
    "duration": 51508,
    "start_time": "2022-11-27T21:30:25.185Z"
   },
   {
    "duration": 23,
    "start_time": "2022-11-27T21:32:25.105Z"
   },
   {
    "duration": 72059,
    "start_time": "2022-11-27T21:32:55.526Z"
   },
   {
    "duration": 7,
    "start_time": "2022-11-27T21:34:42.253Z"
   },
   {
    "duration": 3,
    "start_time": "2022-11-27T21:34:42.853Z"
   },
   {
    "duration": 5,
    "start_time": "2022-11-27T21:34:43.379Z"
   },
   {
    "duration": 11,
    "start_time": "2022-11-27T21:34:43.657Z"
   },
   {
    "duration": 4,
    "start_time": "2022-11-27T21:34:44.237Z"
   },
   {
    "duration": 6,
    "start_time": "2022-11-27T21:34:44.664Z"
   },
   {
    "duration": 5,
    "start_time": "2022-11-27T21:34:46.645Z"
   },
   {
    "duration": 20,
    "start_time": "2022-11-27T21:34:47.818Z"
   },
   {
    "duration": 24,
    "start_time": "2022-11-27T21:34:58.846Z"
   },
   {
    "duration": 72513,
    "start_time": "2022-11-27T21:35:03.446Z"
   },
   {
    "duration": 417332,
    "start_time": "2022-11-27T21:36:35.425Z"
   },
   {
    "duration": 3,
    "start_time": "2022-11-27T21:44:15.945Z"
   },
   {
    "duration": 4,
    "start_time": "2022-11-27T21:44:16.173Z"
   },
   {
    "duration": 8,
    "start_time": "2022-11-27T21:44:16.405Z"
   },
   {
    "duration": 4,
    "start_time": "2022-11-27T21:44:16.645Z"
   },
   {
    "duration": 7,
    "start_time": "2022-11-27T21:44:16.885Z"
   },
   {
    "duration": 4,
    "start_time": "2022-11-27T21:44:17.265Z"
   },
   {
    "duration": 17,
    "start_time": "2022-11-27T21:44:18.046Z"
   },
   {
    "duration": 73287,
    "start_time": "2022-11-27T21:44:27.825Z"
   },
   {
    "duration": 24,
    "start_time": "2022-11-27T21:46:02.265Z"
   },
   {
    "duration": 72319,
    "start_time": "2022-11-27T21:46:07.157Z"
   },
   {
    "duration": 247,
    "start_time": "2022-11-27T21:47:42.765Z"
   },
   {
    "duration": 3,
    "start_time": "2022-11-27T21:48:33.465Z"
   },
   {
    "duration": 4,
    "start_time": "2022-11-27T21:48:34.245Z"
   },
   {
    "duration": 7,
    "start_time": "2022-11-27T21:48:36.364Z"
   },
   {
    "duration": 5,
    "start_time": "2022-11-27T21:48:37.264Z"
   },
   {
    "duration": 7,
    "start_time": "2022-11-27T21:48:37.825Z"
   },
   {
    "duration": 5,
    "start_time": "2022-11-27T21:48:38.425Z"
   },
   {
    "duration": 22,
    "start_time": "2022-11-27T21:49:03.365Z"
   },
   {
    "duration": 221,
    "start_time": "2022-11-27T21:49:05.485Z"
   },
   {
    "duration": 9,
    "start_time": "2022-11-27T21:49:08.825Z"
   },
   {
    "duration": 504,
    "start_time": "2022-11-27T21:49:19.025Z"
   },
   {
    "duration": 26,
    "start_time": "2022-11-27T21:49:35.766Z"
   },
   {
    "duration": 84118,
    "start_time": "2022-11-27T21:49:40.297Z"
   },
   {
    "duration": 185,
    "start_time": "2022-11-27T21:51:46.325Z"
   },
   {
    "duration": 10,
    "start_time": "2022-11-27T21:51:48.137Z"
   },
   {
    "duration": 66786,
    "start_time": "2022-11-27T21:51:56.365Z"
   },
   {
    "duration": 1228,
    "start_time": "2022-11-27T21:53:14.405Z"
   },
   {
    "duration": 1228,
    "start_time": "2022-11-27T21:53:25.505Z"
   },
   {
    "duration": 128,
    "start_time": "2022-11-27T21:53:32.985Z"
   },
   {
    "duration": 67142,
    "start_time": "2022-11-27T21:53:43.634Z"
   },
   {
    "duration": 1199,
    "start_time": "2022-11-27T21:54:59.986Z"
   },
   {
    "duration": 26,
    "start_time": "2022-11-27T21:55:07.585Z"
   },
   {
    "duration": 346,
    "start_time": "2022-11-27T21:55:11.565Z"
   },
   {
    "duration": 92219,
    "start_time": "2022-11-27T21:55:25.486Z"
   },
   {
    "duration": 70,
    "start_time": "2022-11-27T21:58:08.060Z"
   },
   {
    "duration": 1040,
    "start_time": "2022-11-27T21:58:18.125Z"
   },
   {
    "duration": 27,
    "start_time": "2022-11-27T21:58:41.205Z"
   },
   {
    "duration": 14,
    "start_time": "2022-11-27T21:58:44.553Z"
   },
   {
    "duration": 148,
    "start_time": "2022-11-27T21:58:48.365Z"
   },
   {
    "duration": 44021,
    "start_time": "2022-11-27T21:58:55.086Z"
   },
   {
    "duration": 120,
    "start_time": "2022-11-27T22:00:11.325Z"
   },
   {
    "duration": 1194,
    "start_time": "2022-11-27T22:01:05.186Z"
   },
   {
    "duration": 114,
    "start_time": "2022-11-27T22:01:10.217Z"
   },
   {
    "duration": 1826,
    "start_time": "2022-11-27T22:01:36.385Z"
   },
   {
    "duration": 1766,
    "start_time": "2022-11-27T22:01:44.386Z"
   },
   {
    "duration": 171,
    "start_time": "2022-11-27T22:01:57.045Z"
   },
   {
    "duration": 20,
    "start_time": "2022-11-27T22:02:32.805Z"
   },
   {
    "duration": 1085,
    "start_time": "2022-11-27T22:03:18.845Z"
   },
   {
    "duration": 37,
    "start_time": "2022-11-27T22:03:40.165Z"
   },
   {
    "duration": 13,
    "start_time": "2022-11-27T22:03:40.465Z"
   },
   {
    "duration": 11,
    "start_time": "2022-11-27T22:03:41.225Z"
   },
   {
    "duration": 39,
    "start_time": "2022-11-27T22:03:41.578Z"
   },
   {
    "duration": 14,
    "start_time": "2022-11-27T22:03:42.328Z"
   },
   {
    "duration": 8,
    "start_time": "2022-11-27T22:03:43.165Z"
   },
   {
    "duration": 7,
    "start_time": "2022-11-27T22:03:43.865Z"
   },
   {
    "duration": 7,
    "start_time": "2022-11-27T22:03:44.106Z"
   },
   {
    "duration": 11,
    "start_time": "2022-11-27T22:03:44.565Z"
   },
   {
    "duration": 26788,
    "start_time": "2022-11-27T22:03:45.045Z"
   },
   {
    "duration": 970,
    "start_time": "2022-11-27T22:04:11.835Z"
   },
   {
    "duration": 122,
    "start_time": "2022-11-27T22:04:12.806Z"
   },
   {
    "duration": 1120,
    "start_time": "2022-11-27T22:04:12.930Z"
   },
   {
    "duration": 0,
    "start_time": "2022-11-27T22:04:14.052Z"
   },
   {
    "duration": 0,
    "start_time": "2022-11-27T22:04:14.053Z"
   },
   {
    "duration": 0,
    "start_time": "2022-11-27T22:04:14.054Z"
   },
   {
    "duration": 0,
    "start_time": "2022-11-27T22:04:14.055Z"
   },
   {
    "duration": 0,
    "start_time": "2022-11-27T22:04:14.056Z"
   },
   {
    "duration": 0,
    "start_time": "2022-11-27T22:04:14.057Z"
   },
   {
    "duration": 44,
    "start_time": "2022-11-27T22:04:41.757Z"
   },
   {
    "duration": 3,
    "start_time": "2022-11-27T22:04:55.417Z"
   },
   {
    "duration": 4,
    "start_time": "2022-11-27T22:04:55.866Z"
   },
   {
    "duration": 7,
    "start_time": "2022-11-27T22:04:56.378Z"
   },
   {
    "duration": 3,
    "start_time": "2022-11-27T22:04:56.766Z"
   },
   {
    "duration": 8,
    "start_time": "2022-11-27T22:04:57.077Z"
   },
   {
    "duration": 5,
    "start_time": "2022-11-27T22:04:58.105Z"
   },
   {
    "duration": 19,
    "start_time": "2022-11-27T22:05:01.346Z"
   },
   {
    "duration": 140,
    "start_time": "2022-11-27T22:05:07.666Z"
   },
   {
    "duration": 9,
    "start_time": "2022-11-27T22:05:09.778Z"
   },
   {
    "duration": 66479,
    "start_time": "2022-11-27T22:05:12.105Z"
   },
   {
    "duration": 1306,
    "start_time": "2022-11-27T22:06:44.626Z"
   },
   {
    "duration": 1260,
    "start_time": "2022-11-27T22:06:49.525Z"
   },
   {
    "duration": 25,
    "start_time": "2022-11-27T22:06:51.206Z"
   },
   {
    "duration": 221,
    "start_time": "2022-11-27T22:07:02.585Z"
   },
   {
    "duration": 67747,
    "start_time": "2022-11-27T22:07:09.265Z"
   },
   {
    "duration": 1240,
    "start_time": "2022-11-27T22:08:45.414Z"
   },
   {
    "duration": 29,
    "start_time": "2022-11-27T22:08:52.085Z"
   },
   {
    "duration": 2504,
    "start_time": "2022-11-27T22:08:53.705Z"
   },
   {
    "duration": 3,
    "start_time": "2022-11-27T22:09:00.517Z"
   },
   {
    "duration": 3,
    "start_time": "2022-11-27T22:09:10.970Z"
   },
   {
    "duration": 92043,
    "start_time": "2022-11-27T22:09:24.765Z"
   },
   {
    "duration": 1087,
    "start_time": "2022-11-27T22:11:10.526Z"
   },
   {
    "duration": 30,
    "start_time": "2022-11-27T22:11:20.177Z"
   },
   {
    "duration": 11,
    "start_time": "2022-11-27T22:11:23.705Z"
   },
   {
    "duration": 161,
    "start_time": "2022-11-27T22:11:24.945Z"
   },
   {
    "duration": 43569,
    "start_time": "2022-11-27T22:11:31.113Z"
   },
   {
    "duration": 605,
    "start_time": "2022-11-27T22:12:57.204Z"
   },
   {
    "duration": 1861,
    "start_time": "2022-11-27T22:13:16.984Z"
   },
   {
    "duration": 187,
    "start_time": "2022-11-27T22:13:30.224Z"
   },
   {
    "duration": 1252,
    "start_time": "2022-11-27T22:14:14.087Z"
   },
   {
    "duration": 1840,
    "start_time": "2022-11-27T22:14:20.564Z"
   },
   {
    "duration": 922,
    "start_time": "2022-11-27T22:14:27.664Z"
   },
   {
    "duration": 650,
    "start_time": "2022-11-27T22:14:36.394Z"
   },
   {
    "duration": 1062,
    "start_time": "2022-11-27T22:14:42.164Z"
   },
   {
    "duration": 934,
    "start_time": "2022-11-27T22:14:48.344Z"
   },
   {
    "duration": 97,
    "start_time": "2022-11-27T22:14:51.724Z"
   },
   {
    "duration": 815,
    "start_time": "2022-11-27T22:15:12.964Z"
   },
   {
    "duration": 891,
    "start_time": "2022-11-27T22:15:20.672Z"
   },
   {
    "duration": 921,
    "start_time": "2022-11-27T22:15:25.404Z"
   },
   {
    "duration": 926,
    "start_time": "2022-11-27T22:15:31.985Z"
   },
   {
    "duration": 917,
    "start_time": "2022-11-27T22:15:37.404Z"
   },
   {
    "duration": 108,
    "start_time": "2022-11-27T22:15:42.744Z"
   },
   {
    "duration": 5088,
    "start_time": "2022-11-27T22:16:43.929Z"
   },
   {
    "duration": 3,
    "start_time": "2022-11-27T22:18:12.936Z"
   },
   {
    "duration": 5,
    "start_time": "2022-11-27T22:18:13.216Z"
   },
   {
    "duration": 11,
    "start_time": "2022-11-27T22:18:13.965Z"
   },
   {
    "duration": 4,
    "start_time": "2022-11-27T22:18:14.605Z"
   },
   {
    "duration": 9,
    "start_time": "2022-11-27T22:18:14.979Z"
   },
   {
    "duration": 4,
    "start_time": "2022-11-27T22:18:15.465Z"
   },
   {
    "duration": 19,
    "start_time": "2022-11-27T22:18:19.337Z"
   },
   {
    "duration": 207,
    "start_time": "2022-11-27T22:18:26.505Z"
   },
   {
    "duration": 831,
    "start_time": "2022-11-27T22:18:32.784Z"
   },
   {
    "duration": 1651,
    "start_time": "2022-11-27T22:18:38.064Z"
   },
   {
    "duration": 203,
    "start_time": "2022-11-27T22:18:42.664Z"
   },
   {
    "duration": 1385,
    "start_time": "2022-11-27T22:18:58.296Z"
   },
   {
    "duration": 4,
    "start_time": "2022-11-27T22:18:59.682Z"
   },
   {
    "duration": 2078,
    "start_time": "2022-11-27T22:18:59.687Z"
   },
   {
    "duration": 63,
    "start_time": "2022-11-27T22:19:01.767Z"
   },
   {
    "duration": 43,
    "start_time": "2022-11-27T22:19:01.832Z"
   },
   {
    "duration": 17,
    "start_time": "2022-11-27T22:19:01.877Z"
   },
   {
    "duration": 12,
    "start_time": "2022-11-27T22:19:01.896Z"
   },
   {
    "duration": 41,
    "start_time": "2022-11-27T22:19:01.909Z"
   },
   {
    "duration": 18,
    "start_time": "2022-11-27T22:19:01.952Z"
   },
   {
    "duration": 10,
    "start_time": "2022-11-27T22:19:02.006Z"
   },
   {
    "duration": 8,
    "start_time": "2022-11-27T22:19:02.017Z"
   },
   {
    "duration": 8,
    "start_time": "2022-11-27T22:19:02.026Z"
   },
   {
    "duration": 12,
    "start_time": "2022-11-27T22:19:02.036Z"
   },
   {
    "duration": 26066,
    "start_time": "2022-11-27T22:19:02.049Z"
   },
   {
    "duration": 1034,
    "start_time": "2022-11-27T22:19:28.117Z"
   },
   {
    "duration": 131,
    "start_time": "2022-11-27T22:19:29.153Z"
   },
   {
    "duration": 2,
    "start_time": "2022-11-27T22:19:29.285Z"
   },
   {
    "duration": 5,
    "start_time": "2022-11-27T22:19:29.289Z"
   },
   {
    "duration": 57,
    "start_time": "2022-11-27T22:19:29.305Z"
   },
   {
    "duration": 2,
    "start_time": "2022-11-27T22:19:29.364Z"
   },
   {
    "duration": 39,
    "start_time": "2022-11-27T22:19:29.367Z"
   },
   {
    "duration": 8,
    "start_time": "2022-11-27T22:19:29.408Z"
   },
   {
    "duration": 4,
    "start_time": "2022-11-27T22:19:29.418Z"
   },
   {
    "duration": 12,
    "start_time": "2022-11-27T22:19:29.424Z"
   },
   {
    "duration": 7,
    "start_time": "2022-11-27T22:19:29.438Z"
   },
   {
    "duration": 63,
    "start_time": "2022-11-27T22:19:29.447Z"
   },
   {
    "duration": 200,
    "start_time": "2022-11-27T22:19:29.512Z"
   },
   {
    "duration": 94,
    "start_time": "2022-11-27T22:19:29.717Z"
   },
   {
    "duration": 59640,
    "start_time": "2022-11-27T22:19:29.813Z"
   },
   {
    "duration": 1123,
    "start_time": "2022-11-27T22:20:29.454Z"
   },
   {
    "duration": 42,
    "start_time": "2022-11-27T22:20:30.579Z"
   },
   {
    "duration": 186,
    "start_time": "2022-11-27T22:20:30.623Z"
   },
   {
    "duration": 59157,
    "start_time": "2022-11-27T22:20:30.811Z"
   },
   {
    "duration": 1115,
    "start_time": "2022-11-27T22:21:29.969Z"
   },
   {
    "duration": 39,
    "start_time": "2022-11-27T22:21:31.085Z"
   },
   {
    "duration": 380,
    "start_time": "2022-11-27T22:21:31.126Z"
   },
   {
    "duration": 80897,
    "start_time": "2022-11-27T22:21:31.508Z"
   },
   {
    "duration": 1015,
    "start_time": "2022-11-27T22:22:52.407Z"
   },
   {
    "duration": 29,
    "start_time": "2022-11-27T22:22:53.424Z"
   },
   {
    "duration": 55,
    "start_time": "2022-11-27T22:22:53.454Z"
   },
   {
    "duration": 195,
    "start_time": "2022-11-27T22:22:53.511Z"
   },
   {
    "duration": 41148,
    "start_time": "2022-11-27T22:22:53.707Z"
   },
   {
    "duration": 529,
    "start_time": "2022-11-27T22:23:34.857Z"
   },
   {
    "duration": 203,
    "start_time": "2022-11-27T22:23:35.388Z"
   },
   {
    "duration": 123,
    "start_time": "2022-11-27T22:23:35.592Z"
   },
   {
    "duration": 0,
    "start_time": "2022-11-27T22:23:35.717Z"
   },
   {
    "duration": 0,
    "start_time": "2022-11-27T22:23:35.718Z"
   },
   {
    "duration": 0,
    "start_time": "2022-11-27T22:23:35.719Z"
   },
   {
    "duration": 0,
    "start_time": "2022-11-27T22:23:35.720Z"
   },
   {
    "duration": 0,
    "start_time": "2022-11-27T22:23:35.722Z"
   },
   {
    "duration": 0,
    "start_time": "2022-11-27T22:23:35.723Z"
   },
   {
    "duration": 0,
    "start_time": "2022-11-27T22:23:35.724Z"
   },
   {
    "duration": 0,
    "start_time": "2022-11-27T22:23:35.725Z"
   },
   {
    "duration": 73420,
    "start_time": "2022-11-27T22:24:18.967Z"
   },
   {
    "duration": 1566,
    "start_time": "2022-11-27T22:25:38.444Z"
   },
   {
    "duration": 177,
    "start_time": "2022-11-27T22:25:44.645Z"
   },
   {
    "duration": 45325,
    "start_time": "2022-11-27T22:26:27.084Z"
   },
   {
    "duration": 92,
    "start_time": "2022-11-27T22:28:58.553Z"
   },
   {
    "duration": 64,
    "start_time": "2022-11-27T22:29:12.632Z"
   },
   {
    "duration": 68,
    "start_time": "2022-11-27T22:29:41.647Z"
   },
   {
    "duration": 1112,
    "start_time": "2022-11-27T22:30:34.664Z"
   },
   {
    "duration": 75,
    "start_time": "2022-11-27T22:30:46.724Z"
   },
   {
    "duration": 1035,
    "start_time": "2022-11-27T22:30:54.604Z"
   },
   {
    "duration": 1340,
    "start_time": "2022-11-27T22:42:31.823Z"
   },
   {
    "duration": 2,
    "start_time": "2022-11-27T22:42:35.361Z"
   },
   {
    "duration": 2050,
    "start_time": "2022-11-27T22:42:35.985Z"
   },
   {
    "duration": 60,
    "start_time": "2022-11-27T22:42:38.968Z"
   },
   {
    "duration": 42,
    "start_time": "2022-11-27T22:42:40.452Z"
   },
   {
    "duration": 19,
    "start_time": "2022-11-27T22:42:40.976Z"
   },
   {
    "duration": 13,
    "start_time": "2022-11-27T22:42:41.684Z"
   },
   {
    "duration": 40,
    "start_time": "2022-11-27T22:42:42.736Z"
   },
   {
    "duration": 14,
    "start_time": "2022-11-27T22:42:43.466Z"
   },
   {
    "duration": 7,
    "start_time": "2022-11-27T22:42:44.732Z"
   },
   {
    "duration": 9,
    "start_time": "2022-11-27T22:42:45.349Z"
   },
   {
    "duration": 8,
    "start_time": "2022-11-27T22:42:45.713Z"
   },
   {
    "duration": 11,
    "start_time": "2022-11-27T22:42:46.384Z"
   },
   {
    "duration": 26006,
    "start_time": "2022-11-27T22:42:47.731Z"
   },
   {
    "duration": 874,
    "start_time": "2022-11-27T22:43:13.739Z"
   },
   {
    "duration": 114,
    "start_time": "2022-11-27T22:43:14.614Z"
   },
   {
    "duration": 2,
    "start_time": "2022-11-27T22:43:14.730Z"
   },
   {
    "duration": 57,
    "start_time": "2022-11-27T22:43:14.733Z"
   },
   {
    "duration": 2,
    "start_time": "2022-11-27T22:43:14.791Z"
   },
   {
    "duration": 11,
    "start_time": "2022-11-27T22:43:14.795Z"
   },
   {
    "duration": 17,
    "start_time": "2022-11-27T22:43:14.808Z"
   },
   {
    "duration": 32,
    "start_time": "2022-11-27T22:43:14.827Z"
   },
   {
    "duration": 22,
    "start_time": "2022-11-27T22:43:14.861Z"
   },
   {
    "duration": 35,
    "start_time": "2022-11-27T22:43:14.885Z"
   },
   {
    "duration": 1251,
    "start_time": "2022-11-27T22:43:14.922Z"
   },
   {
    "duration": 14,
    "start_time": "2022-11-27T22:44:05.306Z"
   },
   {
    "duration": 13,
    "start_time": "2022-11-27T22:44:31.761Z"
   },
   {
    "duration": 16,
    "start_time": "2022-11-27T22:44:42.142Z"
   },
   {
    "duration": 19,
    "start_time": "2022-11-27T22:45:48.913Z"
   },
   {
    "duration": 17,
    "start_time": "2022-11-27T22:46:15.985Z"
   },
   {
    "duration": 3,
    "start_time": "2022-11-27T22:46:16.777Z"
   },
   {
    "duration": 4,
    "start_time": "2022-11-27T22:46:17.005Z"
   },
   {
    "duration": 7,
    "start_time": "2022-11-27T22:46:17.465Z"
   },
   {
    "duration": 3,
    "start_time": "2022-11-27T22:46:18.145Z"
   },
   {
    "duration": 7,
    "start_time": "2022-11-27T22:46:18.386Z"
   },
   {
    "duration": 4,
    "start_time": "2022-11-27T22:46:18.579Z"
   },
   {
    "duration": 75,
    "start_time": "2022-11-27T22:46:37.593Z"
   },
   {
    "duration": 12,
    "start_time": "2022-11-27T22:47:02.453Z"
   },
   {
    "duration": 342,
    "start_time": "2022-11-27T22:47:13.185Z"
   },
   {
    "duration": 44474,
    "start_time": "2022-11-27T22:47:21.645Z"
   },
   {
    "duration": 1213,
    "start_time": "2022-11-27T22:48:25.633Z"
   },
   {
    "duration": 540,
    "start_time": "2022-11-27T22:48:34.965Z"
   },
   {
    "duration": 607,
    "start_time": "2022-11-27T22:48:46.881Z"
   },
   {
    "duration": 1591,
    "start_time": "2022-11-27T22:48:52.306Z"
   },
   {
    "duration": 1347,
    "start_time": "2022-11-27T22:48:57.745Z"
   },
   {
    "duration": 1342,
    "start_time": "2022-11-27T22:49:16.625Z"
   },
   {
    "duration": 4,
    "start_time": "2022-11-27T22:51:19.046Z"
   },
   {
    "duration": 3,
    "start_time": "2022-11-27T22:51:23.493Z"
   },
   {
    "duration": 3,
    "start_time": "2022-11-27T22:51:40.634Z"
   },
   {
    "duration": 3,
    "start_time": "2022-11-27T22:51:47.685Z"
   },
   {
    "duration": 4,
    "start_time": "2022-11-27T22:51:52.853Z"
   },
   {
    "duration": 3748,
    "start_time": "2022-11-27T22:52:14.674Z"
   },
   {
    "duration": 3695,
    "start_time": "2022-11-27T22:52:32.936Z"
   },
   {
    "duration": 3825,
    "start_time": "2022-11-27T22:52:37.681Z"
   },
   {
    "duration": 1342,
    "start_time": "2022-11-27T22:53:00.833Z"
   },
   {
    "duration": 25,
    "start_time": "2022-11-27T22:53:11.813Z"
   },
   {
    "duration": 337,
    "start_time": "2022-11-27T22:53:15.273Z"
   },
   {
    "duration": 81157,
    "start_time": "2022-11-27T22:53:25.452Z"
   },
   {
    "duration": 929,
    "start_time": "2022-11-27T22:55:04.634Z"
   },
   {
    "duration": 1361,
    "start_time": "2022-11-27T22:55:37.532Z"
   },
   {
    "duration": 1686,
    "start_time": "2022-11-27T22:56:04.845Z"
   },
   {
    "duration": 29,
    "start_time": "2022-11-27T22:56:13.545Z"
   },
   {
    "duration": 11,
    "start_time": "2022-11-27T22:56:16.782Z"
   },
   {
    "duration": 192,
    "start_time": "2022-11-27T22:56:19.614Z"
   },
   {
    "duration": 51368,
    "start_time": "2022-11-27T22:56:34.774Z"
   },
   {
    "duration": 622,
    "start_time": "2022-11-27T22:57:51.104Z"
   },
   {
    "duration": 202,
    "start_time": "2022-11-27T22:57:59.566Z"
   },
   {
    "duration": 1598,
    "start_time": "2022-11-27T22:58:07.633Z"
   },
   {
    "duration": 1577,
    "start_time": "2022-11-27T22:58:14.904Z"
   },
   {
    "duration": 1376,
    "start_time": "2022-11-27T22:58:25.665Z"
   },
   {
    "duration": 1329,
    "start_time": "2022-11-27T22:58:32.133Z"
   },
   {
    "duration": 179,
    "start_time": "2022-11-27T22:58:36.265Z"
   },
   {
    "duration": 169,
    "start_time": "2022-11-27T23:00:01.586Z"
   },
   {
    "duration": 37,
    "start_time": "2022-11-27T23:00:31.485Z"
   },
   {
    "duration": 8,
    "start_time": "2022-11-27T23:02:08.755Z"
   },
   {
    "duration": 7,
    "start_time": "2022-11-27T23:02:34.886Z"
   },
   {
    "duration": 4,
    "start_time": "2022-11-27T23:02:46.393Z"
   },
   {
    "duration": 20,
    "start_time": "2022-11-27T23:02:49.806Z"
   },
   {
    "duration": 7,
    "start_time": "2022-11-27T23:03:01.245Z"
   },
   {
    "duration": 11,
    "start_time": "2022-11-27T23:03:05.245Z"
   },
   {
    "duration": 27939,
    "start_time": "2022-11-27T23:03:06.354Z"
   },
   {
    "duration": 912,
    "start_time": "2022-11-27T23:03:34.295Z"
   },
   {
    "duration": 112,
    "start_time": "2022-11-27T23:03:35.209Z"
   },
   {
    "duration": 57,
    "start_time": "2022-11-27T23:03:51.425Z"
   },
   {
    "duration": 3,
    "start_time": "2022-11-27T23:03:54.383Z"
   },
   {
    "duration": 5,
    "start_time": "2022-11-27T23:03:55.017Z"
   },
   {
    "duration": 7,
    "start_time": "2022-11-27T23:03:55.493Z"
   },
   {
    "duration": 4,
    "start_time": "2022-11-27T23:03:55.925Z"
   },
   {
    "duration": 7,
    "start_time": "2022-11-27T23:03:57.083Z"
   },
   {
    "duration": 4,
    "start_time": "2022-11-27T23:03:58.125Z"
   },
   {
    "duration": 3,
    "start_time": "2022-11-27T23:04:03.445Z"
   },
   {
    "duration": 227,
    "start_time": "2022-11-27T23:04:06.379Z"
   },
   {
    "duration": 9,
    "start_time": "2022-11-27T23:04:08.045Z"
   },
   {
    "duration": 1415,
    "start_time": "2022-11-27T23:04:22.725Z"
   },
   {
    "duration": 190,
    "start_time": "2022-11-27T23:04:31.866Z"
   },
   {
    "duration": 63129,
    "start_time": "2022-11-27T23:06:14.318Z"
   },
   {
    "duration": 4258,
    "start_time": "2022-11-27T23:07:52.305Z"
   },
   {
    "duration": 7701,
    "start_time": "2022-11-27T23:08:06.153Z"
   },
   {
    "duration": 1481,
    "start_time": "2022-11-27T23:09:00.905Z"
   },
   {
    "duration": 190,
    "start_time": "2022-11-27T23:09:05.444Z"
   },
   {
    "duration": 187,
    "start_time": "2022-11-27T23:09:11.305Z"
   },
   {
    "duration": 1497,
    "start_time": "2022-11-27T23:09:23.965Z"
   },
   {
    "duration": 1537,
    "start_time": "2022-11-27T23:09:31.641Z"
   },
   {
    "duration": 1484,
    "start_time": "2022-11-27T23:09:40.625Z"
   },
   {
    "duration": 186,
    "start_time": "2022-11-27T23:09:49.385Z"
   },
   {
    "duration": 13249,
    "start_time": "2022-11-27T23:10:26.833Z"
   },
   {
    "duration": 27167,
    "start_time": "2022-11-27T23:10:54.254Z"
   },
   {
    "duration": 1386,
    "start_time": "2022-11-27T23:11:33.887Z"
   },
   {
    "duration": 173,
    "start_time": "2022-11-27T23:11:37.833Z"
   },
   {
    "duration": 25,
    "start_time": "2022-11-27T23:12:34.867Z"
   },
   {
    "duration": 340,
    "start_time": "2022-11-27T23:12:38.065Z"
   },
   {
    "duration": 86912,
    "start_time": "2022-11-27T23:12:41.928Z"
   },
   {
    "duration": 1822,
    "start_time": "2022-11-27T23:14:19.129Z"
   },
   {
    "duration": 27,
    "start_time": "2022-11-27T23:14:26.767Z"
   },
   {
    "duration": 11,
    "start_time": "2022-11-27T23:14:33.825Z"
   },
   {
    "duration": 129,
    "start_time": "2022-11-27T23:14:36.177Z"
   },
   {
    "duration": 51673,
    "start_time": "2022-11-27T23:14:42.705Z"
   },
   {
    "duration": 725,
    "start_time": "2022-11-27T23:15:48.626Z"
   },
   {
    "duration": 68029,
    "start_time": "2022-11-27T23:16:20.125Z"
   },
   {
    "duration": 1288,
    "start_time": "2022-11-27T23:17:49.946Z"
   },
   {
    "duration": 169,
    "start_time": "2022-11-27T23:17:59.385Z"
   },
   {
    "duration": 139829,
    "start_time": "2022-11-27T23:19:11.545Z"
   },
   {
    "duration": 29330,
    "start_time": "2022-11-27T23:21:51.225Z"
   },
   {
    "duration": 1428,
    "start_time": "2022-11-27T23:22:20.558Z"
   },
   {
    "duration": 1379,
    "start_time": "2022-11-27T23:22:40.985Z"
   },
   {
    "duration": 1491,
    "start_time": "2022-11-27T23:22:50.225Z"
   },
   {
    "duration": 1489,
    "start_time": "2022-11-27T23:23:10.205Z"
   },
   {
    "duration": 204,
    "start_time": "2022-11-27T23:23:14.906Z"
   },
   {
    "duration": 1282,
    "start_time": "2022-11-27T23:23:42.506Z"
   },
   {
    "duration": 163,
    "start_time": "2022-11-27T23:23:43.789Z"
   },
   {
    "duration": 69,
    "start_time": "2022-11-27T23:23:53.466Z"
   },
   {
    "duration": 175,
    "start_time": "2022-11-27T23:24:01.006Z"
   },
   {
    "duration": 1364,
    "start_time": "2022-11-27T23:24:06.146Z"
   },
   {
    "duration": 17825,
    "start_time": "2022-11-27T23:24:38.765Z"
   },
   {
    "duration": 1534,
    "start_time": "2022-11-27T23:25:01.926Z"
   },
   {
    "duration": 41199,
    "start_time": "2022-11-27T23:25:14.586Z"
   },
   {
    "duration": 1509,
    "start_time": "2022-11-27T23:26:06.816Z"
   },
   {
    "duration": 2118,
    "start_time": "2022-11-27T23:26:19.065Z"
   },
   {
    "duration": 259,
    "start_time": "2022-11-27T23:26:32.666Z"
   },
   {
    "duration": 194954,
    "start_time": "2022-11-27T23:26:50.385Z"
   },
   {
    "duration": 41296,
    "start_time": "2022-11-27T23:30:33.125Z"
   },
   {
    "duration": 2098,
    "start_time": "2022-11-27T23:31:38.826Z"
   },
   {
    "duration": 243,
    "start_time": "2022-11-27T23:31:44.606Z"
   },
   {
    "duration": 141,
    "start_time": "2022-11-27T23:32:37.795Z"
   },
   {
    "duration": 38,
    "start_time": "2022-11-27T23:33:05.225Z"
   },
   {
    "duration": 6,
    "start_time": "2022-11-27T23:33:17.913Z"
   },
   {
    "duration": 13,
    "start_time": "2022-11-27T23:33:56.345Z"
   },
   {
    "duration": 4,
    "start_time": "2022-11-27T23:34:06.026Z"
   },
   {
    "duration": 11,
    "start_time": "2022-11-27T23:34:38.665Z"
   },
   {
    "duration": 79,
    "start_time": "2022-11-27T23:34:52.685Z"
   },
   {
    "duration": 9,
    "start_time": "2022-11-27T23:34:56.066Z"
   },
   {
    "duration": 19,
    "start_time": "2022-11-27T23:35:04.050Z"
   },
   {
    "duration": 9,
    "start_time": "2022-11-27T23:36:31.485Z"
   },
   {
    "duration": 69,
    "start_time": "2022-11-27T23:36:42.506Z"
   },
   {
    "duration": 11,
    "start_time": "2022-11-27T23:36:50.218Z"
   },
   {
    "duration": 11,
    "start_time": "2022-11-27T23:37:08.306Z"
   },
   {
    "duration": 12,
    "start_time": "2022-11-27T23:37:38.409Z"
   },
   {
    "duration": 9,
    "start_time": "2022-11-27T23:38:16.498Z"
   },
   {
    "duration": 12,
    "start_time": "2022-11-27T23:40:28.945Z"
   },
   {
    "duration": 7,
    "start_time": "2022-11-27T23:41:29.885Z"
   },
   {
    "duration": 6,
    "start_time": "2022-11-27T23:41:41.485Z"
   },
   {
    "duration": 17,
    "start_time": "2022-11-27T23:42:28.885Z"
   },
   {
    "duration": 1122,
    "start_time": "2022-11-27T23:43:43.705Z"
   },
   {
    "duration": 16,
    "start_time": "2022-11-27T23:43:48.006Z"
   },
   {
    "duration": 9,
    "start_time": "2022-11-27T23:44:18.385Z"
   },
   {
    "duration": 7,
    "start_time": "2022-11-27T23:44:31.906Z"
   },
   {
    "duration": 10,
    "start_time": "2022-11-27T23:44:37.486Z"
   },
   {
    "duration": 6,
    "start_time": "2022-11-27T23:44:51.969Z"
   },
   {
    "duration": 10,
    "start_time": "2022-11-27T23:45:11.585Z"
   },
   {
    "duration": 10,
    "start_time": "2022-11-27T23:45:15.345Z"
   },
   {
    "duration": 14,
    "start_time": "2022-11-27T23:45:29.585Z"
   },
   {
    "duration": 67,
    "start_time": "2022-11-27T23:46:33.486Z"
   },
   {
    "duration": 9,
    "start_time": "2022-11-27T23:46:47.666Z"
   },
   {
    "duration": 1116,
    "start_time": "2022-11-27T23:46:56.205Z"
   },
   {
    "duration": 9,
    "start_time": "2022-11-27T23:47:03.065Z"
   },
   {
    "duration": 12,
    "start_time": "2022-11-27T23:47:11.625Z"
   },
   {
    "duration": 1081,
    "start_time": "2022-11-27T23:47:16.946Z"
   },
   {
    "duration": 11,
    "start_time": "2022-11-27T23:47:27.366Z"
   },
   {
    "duration": 17,
    "start_time": "2022-11-27T23:47:52.466Z"
   },
   {
    "duration": 72,
    "start_time": "2022-11-27T23:48:13.065Z"
   },
   {
    "duration": 14,
    "start_time": "2022-11-27T23:48:17.945Z"
   },
   {
    "duration": 20,
    "start_time": "2022-11-27T23:48:24.346Z"
   },
   {
    "duration": 5,
    "start_time": "2022-11-27T23:48:58.386Z"
   },
   {
    "duration": 5,
    "start_time": "2022-11-27T23:49:10.406Z"
   },
   {
    "duration": 6,
    "start_time": "2022-11-27T23:49:19.167Z"
   },
   {
    "duration": 6,
    "start_time": "2022-11-27T23:49:30.125Z"
   },
   {
    "duration": 70,
    "start_time": "2022-11-27T23:49:40.585Z"
   },
   {
    "duration": 10,
    "start_time": "2022-11-27T23:49:44.787Z"
   },
   {
    "duration": 4,
    "start_time": "2022-11-27T23:52:33.814Z"
   },
   {
    "duration": 120,
    "start_time": "2022-11-27T23:52:35.966Z"
   },
   {
    "duration": 7,
    "start_time": "2022-11-27T23:52:36.765Z"
   },
   {
    "duration": 10,
    "start_time": "2022-11-27T23:53:21.265Z"
   },
   {
    "duration": 11,
    "start_time": "2022-11-27T23:53:55.365Z"
   },
   {
    "duration": 10,
    "start_time": "2022-11-27T23:54:17.506Z"
   },
   {
    "duration": 9,
    "start_time": "2022-11-27T23:54:25.765Z"
   },
   {
    "duration": 17,
    "start_time": "2022-11-27T23:54:46.145Z"
   },
   {
    "duration": 16,
    "start_time": "2022-11-27T23:54:55.491Z"
   },
   {
    "duration": 18,
    "start_time": "2022-11-27T23:54:59.117Z"
   },
   {
    "duration": 16,
    "start_time": "2022-11-27T23:55:13.326Z"
   },
   {
    "duration": 14,
    "start_time": "2022-11-27T23:55:16.925Z"
   },
   {
    "duration": 17,
    "start_time": "2022-11-27T23:55:23.626Z"
   },
   {
    "duration": 16,
    "start_time": "2022-11-27T23:55:28.887Z"
   },
   {
    "duration": 17,
    "start_time": "2022-11-27T23:55:39.765Z"
   },
   {
    "duration": 7,
    "start_time": "2022-11-27T23:57:23.738Z"
   },
   {
    "duration": 7,
    "start_time": "2022-11-27T23:57:25.850Z"
   },
   {
    "duration": 68,
    "start_time": "2022-11-27T23:58:19.546Z"
   },
   {
    "duration": 31,
    "start_time": "2022-11-27T23:58:24.123Z"
   },
   {
    "duration": 10,
    "start_time": "2022-11-27T23:58:31.885Z"
   },
   {
    "duration": 12,
    "start_time": "2022-11-27T23:58:38.253Z"
   },
   {
    "duration": 10,
    "start_time": "2022-11-27T23:58:40.838Z"
   },
   {
    "duration": 9,
    "start_time": "2022-11-27T23:58:47.607Z"
   },
   {
    "duration": 20,
    "start_time": "2022-11-27T23:58:51.438Z"
   },
   {
    "duration": 26,
    "start_time": "2022-11-27T23:59:04.135Z"
   },
   {
    "duration": 68,
    "start_time": "2022-11-28T00:00:08.949Z"
   },
   {
    "duration": 20,
    "start_time": "2022-11-28T00:00:13.631Z"
   },
   {
    "duration": 21,
    "start_time": "2022-11-28T00:00:23.545Z"
   },
   {
    "duration": 26,
    "start_time": "2022-11-28T00:00:36.975Z"
   },
   {
    "duration": 23,
    "start_time": "2022-11-28T00:00:43.506Z"
   },
   {
    "duration": 11,
    "start_time": "2022-11-28T00:00:52.405Z"
   },
   {
    "duration": 10,
    "start_time": "2022-11-28T00:00:55.866Z"
   },
   {
    "duration": 10,
    "start_time": "2022-11-28T00:01:01.113Z"
   },
   {
    "duration": 23,
    "start_time": "2022-11-28T00:01:31.686Z"
   },
   {
    "duration": 9,
    "start_time": "2022-11-28T00:01:35.346Z"
   },
   {
    "duration": 10,
    "start_time": "2022-11-28T00:01:41.785Z"
   },
   {
    "duration": 27,
    "start_time": "2022-11-28T00:01:49.297Z"
   },
   {
    "duration": 36,
    "start_time": "2022-11-28T00:01:51.557Z"
   },
   {
    "duration": 24,
    "start_time": "2022-11-28T00:01:52.354Z"
   },
   {
    "duration": 10,
    "start_time": "2022-11-28T00:02:04.866Z"
   },
   {
    "duration": 38,
    "start_time": "2022-11-28T00:02:15.786Z"
   },
   {
    "duration": 26,
    "start_time": "2022-11-28T00:02:16.378Z"
   },
   {
    "duration": 10,
    "start_time": "2022-11-28T00:02:23.536Z"
   },
   {
    "duration": 11,
    "start_time": "2022-11-28T00:02:27.412Z"
   },
   {
    "duration": 23,
    "start_time": "2022-11-28T00:02:36.145Z"
   },
   {
    "duration": 36,
    "start_time": "2022-11-28T00:02:37.798Z"
   },
   {
    "duration": 21,
    "start_time": "2022-11-28T00:02:38.097Z"
   },
   {
    "duration": 4,
    "start_time": "2022-11-28T00:02:44.967Z"
   },
   {
    "duration": 8,
    "start_time": "2022-11-28T00:02:46.617Z"
   },
   {
    "duration": 11,
    "start_time": "2022-11-28T00:02:47.625Z"
   },
   {
    "duration": 22,
    "start_time": "2022-11-28T00:02:51.678Z"
   },
   {
    "duration": 10,
    "start_time": "2022-11-28T00:02:55.305Z"
   },
   {
    "duration": 16,
    "start_time": "2022-11-28T00:06:13.026Z"
   },
   {
    "duration": 18,
    "start_time": "2022-11-28T00:06:19.626Z"
   },
   {
    "duration": 4,
    "start_time": "2022-11-28T00:06:44.506Z"
   },
   {
    "duration": 9,
    "start_time": "2022-11-28T00:08:25.245Z"
   },
   {
    "duration": 3,
    "start_time": "2022-11-28T00:08:30.653Z"
   },
   {
    "duration": 4,
    "start_time": "2022-11-28T00:08:31.305Z"
   },
   {
    "duration": 4,
    "start_time": "2022-11-28T00:08:34.541Z"
   },
   {
    "duration": 3,
    "start_time": "2022-11-28T00:09:13.066Z"
   },
   {
    "duration": 4,
    "start_time": "2022-11-28T00:09:23.065Z"
   },
   {
    "duration": 2,
    "start_time": "2022-11-28T00:09:38.165Z"
   },
   {
    "duration": 2,
    "start_time": "2022-11-28T00:09:39.973Z"
   },
   {
    "duration": 75,
    "start_time": "2022-11-28T00:11:01.566Z"
   },
   {
    "duration": 8,
    "start_time": "2022-11-28T00:11:12.430Z"
   },
   {
    "duration": 11,
    "start_time": "2022-11-28T00:11:20.133Z"
   },
   {
    "duration": 9,
    "start_time": "2022-11-28T00:11:24.633Z"
   },
   {
    "duration": 3,
    "start_time": "2022-11-28T00:11:28.906Z"
   },
   {
    "duration": 77,
    "start_time": "2022-11-28T00:12:07.097Z"
   },
   {
    "duration": 3,
    "start_time": "2022-11-28T00:12:24.240Z"
   },
   {
    "duration": 13,
    "start_time": "2022-11-28T00:12:37.306Z"
   },
   {
    "duration": 2,
    "start_time": "2022-11-28T00:13:11.246Z"
   },
   {
    "duration": 9,
    "start_time": "2022-11-28T00:13:26.899Z"
   },
   {
    "duration": 9,
    "start_time": "2022-11-28T00:13:59.249Z"
   },
   {
    "duration": 4,
    "start_time": "2022-11-28T00:14:36.607Z"
   },
   {
    "duration": 28,
    "start_time": "2022-11-28T00:14:43.145Z"
   },
   {
    "duration": 5,
    "start_time": "2022-11-28T00:15:43.577Z"
   },
   {
    "duration": 5,
    "start_time": "2022-11-28T00:15:57.772Z"
   },
   {
    "duration": 1147,
    "start_time": "2022-11-28T00:16:58.886Z"
   },
   {
    "duration": 1069,
    "start_time": "2022-11-28T00:17:06.766Z"
   },
   {
    "duration": 10,
    "start_time": "2022-11-28T00:17:09.926Z"
   },
   {
    "duration": 1112,
    "start_time": "2022-11-28T00:17:17.746Z"
   },
   {
    "duration": 10,
    "start_time": "2022-11-28T00:17:24.860Z"
   },
   {
    "duration": 9,
    "start_time": "2022-11-28T00:17:30.054Z"
   },
   {
    "duration": 7,
    "start_time": "2022-11-28T00:19:15.388Z"
   },
   {
    "duration": 10,
    "start_time": "2022-11-28T00:19:26.886Z"
   },
   {
    "duration": 19,
    "start_time": "2022-11-28T00:19:45.447Z"
   },
   {
    "duration": 16,
    "start_time": "2022-11-28T00:20:38.367Z"
   },
   {
    "duration": 12,
    "start_time": "2022-11-28T00:20:57.507Z"
   },
   {
    "duration": 14,
    "start_time": "2022-11-28T00:21:51.227Z"
   },
   {
    "duration": 75,
    "start_time": "2022-11-28T00:21:55.855Z"
   },
   {
    "duration": 13,
    "start_time": "2022-11-28T00:22:16.539Z"
   },
   {
    "duration": 7,
    "start_time": "2022-11-28T00:22:35.469Z"
   },
   {
    "duration": 4,
    "start_time": "2022-11-28T00:22:44.727Z"
   },
   {
    "duration": 4,
    "start_time": "2022-11-28T00:22:48.907Z"
   },
   {
    "duration": 1166,
    "start_time": "2022-11-28T00:22:56.779Z"
   },
   {
    "duration": 5,
    "start_time": "2022-11-28T00:23:15.567Z"
   },
   {
    "duration": 1135,
    "start_time": "2022-11-28T00:23:20.326Z"
   },
   {
    "duration": 5,
    "start_time": "2022-11-28T00:23:24.827Z"
   },
   {
    "duration": 5,
    "start_time": "2022-11-28T00:23:36.537Z"
   },
   {
    "duration": 5,
    "start_time": "2022-11-28T00:23:40.298Z"
   },
   {
    "duration": 20,
    "start_time": "2022-11-28T00:23:44.846Z"
   },
   {
    "duration": 5,
    "start_time": "2022-11-28T00:24:00.460Z"
   },
   {
    "duration": 1157,
    "start_time": "2022-11-28T00:24:43.406Z"
   },
   {
    "duration": 11,
    "start_time": "2022-11-28T00:24:53.520Z"
   },
   {
    "duration": 5,
    "start_time": "2022-11-28T00:24:57.086Z"
   },
   {
    "duration": 5,
    "start_time": "2022-11-28T00:25:00.966Z"
   },
   {
    "duration": 3,
    "start_time": "2022-11-28T00:25:19.742Z"
   },
   {
    "duration": 5,
    "start_time": "2022-11-28T00:25:24.726Z"
   },
   {
    "duration": 2,
    "start_time": "2022-11-28T00:25:31.248Z"
   },
   {
    "duration": 5,
    "start_time": "2022-11-28T00:25:32.782Z"
   },
   {
    "duration": 8,
    "start_time": "2022-11-28T00:26:01.887Z"
   },
   {
    "duration": 1136,
    "start_time": "2022-11-28T00:26:06.957Z"
   },
   {
    "duration": 5,
    "start_time": "2022-11-28T00:26:20.607Z"
   },
   {
    "duration": 5,
    "start_time": "2022-11-28T00:26:39.348Z"
   },
   {
    "duration": 5,
    "start_time": "2022-11-28T00:28:26.739Z"
   },
   {
    "duration": 6,
    "start_time": "2022-11-28T00:28:36.226Z"
   },
   {
    "duration": 13,
    "start_time": "2022-11-28T00:29:09.366Z"
   },
   {
    "duration": 12,
    "start_time": "2022-11-28T00:29:30.667Z"
   },
   {
    "duration": 5,
    "start_time": "2022-11-28T00:29:40.166Z"
   },
   {
    "duration": 12,
    "start_time": "2022-11-28T00:30:11.786Z"
   },
   {
    "duration": 6,
    "start_time": "2022-11-28T00:30:16.441Z"
   },
   {
    "duration": 11,
    "start_time": "2022-11-28T00:38:28.366Z"
   },
   {
    "duration": 72,
    "start_time": "2022-11-28T00:39:56.607Z"
   },
   {
    "duration": 4,
    "start_time": "2022-11-28T00:40:05.386Z"
   },
   {
    "duration": 19,
    "start_time": "2022-11-28T00:40:08.579Z"
   },
   {
    "duration": 10,
    "start_time": "2022-11-28T00:41:07.546Z"
   },
   {
    "duration": 37,
    "start_time": "2022-11-28T00:41:15.966Z"
   },
   {
    "duration": 9,
    "start_time": "2022-11-28T00:41:19.850Z"
   },
   {
    "duration": 4,
    "start_time": "2022-11-28T00:41:26.714Z"
   },
   {
    "duration": 16,
    "start_time": "2022-11-28T00:41:31.695Z"
   },
   {
    "duration": 57,
    "start_time": "2022-11-28T00:42:15.994Z"
   },
   {
    "duration": 4,
    "start_time": "2022-11-28T00:42:16.119Z"
   },
   {
    "duration": 16,
    "start_time": "2022-11-28T00:42:22.337Z"
   },
   {
    "duration": 38,
    "start_time": "2022-11-28T00:44:20.046Z"
   },
   {
    "duration": 22,
    "start_time": "2022-11-28T00:44:43.706Z"
   },
   {
    "duration": 20,
    "start_time": "2022-11-28T00:45:04.222Z"
   },
   {
    "duration": 20,
    "start_time": "2022-11-28T00:45:55.646Z"
   },
   {
    "duration": 64,
    "start_time": "2022-11-28T00:46:24.066Z"
   },
   {
    "duration": 5,
    "start_time": "2022-11-28T00:46:27.646Z"
   },
   {
    "duration": 23,
    "start_time": "2022-11-28T00:46:29.522Z"
   },
   {
    "duration": 73,
    "start_time": "2022-11-28T00:46:48.506Z"
   },
   {
    "duration": 5,
    "start_time": "2022-11-28T00:46:54.606Z"
   },
   {
    "duration": 81,
    "start_time": "2022-11-28T00:46:55.138Z"
   },
   {
    "duration": 10,
    "start_time": "2022-11-28T00:46:58.406Z"
   },
   {
    "duration": 19,
    "start_time": "2022-11-28T00:47:08.323Z"
   },
   {
    "duration": 19,
    "start_time": "2022-11-28T00:47:49.446Z"
   },
   {
    "duration": 17,
    "start_time": "2022-11-28T00:48:56.440Z"
   },
   {
    "duration": 4,
    "start_time": "2022-11-28T00:49:40.094Z"
   },
   {
    "duration": 15,
    "start_time": "2022-11-28T00:49:42.886Z"
   },
   {
    "duration": 5,
    "start_time": "2022-11-28T00:49:54.473Z"
   },
   {
    "duration": 15,
    "start_time": "2022-11-28T00:49:55.980Z"
   },
   {
    "duration": 16,
    "start_time": "2022-11-28T00:50:02.566Z"
   },
   {
    "duration": 5,
    "start_time": "2022-11-28T00:50:06.022Z"
   },
   {
    "duration": 10,
    "start_time": "2022-11-28T00:50:06.257Z"
   },
   {
    "duration": 16,
    "start_time": "2022-11-28T00:50:06.626Z"
   },
   {
    "duration": 4,
    "start_time": "2022-11-28T00:50:08.066Z"
   },
   {
    "duration": 13,
    "start_time": "2022-11-28T00:50:09.114Z"
   },
   {
    "duration": 5,
    "start_time": "2022-11-28T00:50:13.906Z"
   },
   {
    "duration": 8,
    "start_time": "2022-11-28T00:52:08.215Z"
   },
   {
    "duration": 679,
    "start_time": "2022-11-28T00:53:15.807Z"
   },
   {
    "duration": 898,
    "start_time": "2022-11-28T00:59:00.095Z"
   },
   {
    "duration": 4052,
    "start_time": "2022-11-28T01:03:44.440Z"
   },
   {
    "duration": 3,
    "start_time": "2022-11-28T01:05:25.222Z"
   },
   {
    "duration": 707,
    "start_time": "2022-11-28T01:05:46.979Z"
   },
   {
    "duration": 11,
    "start_time": "2022-11-28T01:07:22.627Z"
   },
   {
    "duration": 330,
    "start_time": "2022-11-28T01:07:43.842Z"
   },
   {
    "duration": 3,
    "start_time": "2022-11-28T01:08:03.720Z"
   },
   {
    "duration": 4,
    "start_time": "2022-11-28T01:08:10.283Z"
   },
   {
    "duration": 344,
    "start_time": "2022-11-28T01:08:16.843Z"
   },
   {
    "duration": 191148,
    "start_time": "2022-11-28T01:08:28.638Z"
   },
   {
    "duration": 4,
    "start_time": "2022-11-28T01:12:21.407Z"
   },
   {
    "duration": 121,
    "start_time": "2022-11-28T01:12:22.278Z"
   },
   {
    "duration": 4,
    "start_time": "2022-11-28T01:13:43.154Z"
   },
   {
    "duration": 124,
    "start_time": "2022-11-28T01:13:44.298Z"
   },
   {
    "duration": 4,
    "start_time": "2022-11-28T01:14:07.966Z"
   },
   {
    "duration": 2,
    "start_time": "2022-11-28T01:14:15.377Z"
   },
   {
    "duration": 2129,
    "start_time": "2022-11-28T01:14:16.647Z"
   },
   {
    "duration": 3,
    "start_time": "2022-11-28T01:14:18.778Z"
   },
   {
    "duration": 45,
    "start_time": "2022-11-28T01:14:18.782Z"
   },
   {
    "duration": 14,
    "start_time": "2022-11-28T01:14:18.829Z"
   },
   {
    "duration": 12,
    "start_time": "2022-11-28T01:14:19.419Z"
   },
   {
    "duration": 38,
    "start_time": "2022-11-28T01:14:20.698Z"
   },
   {
    "duration": 13,
    "start_time": "2022-11-28T01:14:21.806Z"
   },
   {
    "duration": 8,
    "start_time": "2022-11-28T01:14:23.526Z"
   },
   {
    "duration": 3,
    "start_time": "2022-11-28T01:14:25.009Z"
   },
   {
    "duration": 128,
    "start_time": "2022-11-28T01:14:25.578Z"
   },
   {
    "duration": 7,
    "start_time": "2022-11-28T01:14:27.835Z"
   },
   {
    "duration": 11,
    "start_time": "2022-11-28T01:14:31.166Z"
   },
   {
    "duration": 104,
    "start_time": "2022-11-28T01:14:38.626Z"
   },
   {
    "duration": 3,
    "start_time": "2022-11-28T01:14:39.337Z"
   },
   {
    "duration": 56,
    "start_time": "2022-11-28T01:14:40.746Z"
   },
   {
    "duration": 3,
    "start_time": "2022-11-28T01:14:42.162Z"
   },
   {
    "duration": 5,
    "start_time": "2022-11-28T01:14:42.598Z"
   },
   {
    "duration": 7,
    "start_time": "2022-11-28T01:14:43.046Z"
   },
   {
    "duration": 4,
    "start_time": "2022-11-28T01:14:43.475Z"
   },
   {
    "duration": 7,
    "start_time": "2022-11-28T01:14:44.194Z"
   },
   {
    "duration": 4,
    "start_time": "2022-11-28T01:14:45.038Z"
   },
   {
    "duration": 2345,
    "start_time": "2022-11-28T01:14:55.547Z"
   },
   {
    "duration": 261,
    "start_time": "2022-11-28T01:15:15.095Z"
   },
   {
    "duration": 5,
    "start_time": "2022-11-28T01:16:02.147Z"
   },
   {
    "duration": 120,
    "start_time": "2022-11-28T01:16:03.708Z"
   },
   {
    "duration": 40,
    "start_time": "2022-11-28T01:16:09.821Z"
   },
   {
    "duration": 8,
    "start_time": "2022-11-28T01:16:13.948Z"
   },
   {
    "duration": 5,
    "start_time": "2022-11-28T01:16:16.734Z"
   },
   {
    "duration": 135,
    "start_time": "2022-11-28T01:16:18.098Z"
   },
   {
    "duration": 7,
    "start_time": "2022-11-28T01:16:24.282Z"
   },
   {
    "duration": 6,
    "start_time": "2022-11-28T01:16:46.146Z"
   },
   {
    "duration": 5,
    "start_time": "2022-11-28T01:16:53.134Z"
   },
   {
    "duration": 3,
    "start_time": "2022-11-28T01:16:58.674Z"
   },
   {
    "duration": 6,
    "start_time": "2022-11-28T01:17:02.647Z"
   },
   {
    "duration": 121,
    "start_time": "2022-11-28T01:17:03.328Z"
   },
   {
    "duration": 7,
    "start_time": "2022-11-28T01:17:08.994Z"
   },
   {
    "duration": 5,
    "start_time": "2022-11-28T01:17:14.466Z"
   },
   {
    "duration": 116,
    "start_time": "2022-11-28T01:17:14.878Z"
   },
   {
    "duration": 8,
    "start_time": "2022-11-28T01:17:19.066Z"
   },
   {
    "duration": 4,
    "start_time": "2022-11-28T01:17:24.819Z"
   },
   {
    "duration": 2,
    "start_time": "2022-11-28T01:17:25.259Z"
   },
   {
    "duration": 2172,
    "start_time": "2022-11-28T01:17:25.618Z"
   },
   {
    "duration": 3,
    "start_time": "2022-11-28T01:17:27.792Z"
   },
   {
    "duration": 45,
    "start_time": "2022-11-28T01:17:27.797Z"
   },
   {
    "duration": 15,
    "start_time": "2022-11-28T01:17:27.843Z"
   },
   {
    "duration": 15,
    "start_time": "2022-11-28T01:17:27.859Z"
   },
   {
    "duration": 40,
    "start_time": "2022-11-28T01:17:27.876Z"
   },
   {
    "duration": 13,
    "start_time": "2022-11-28T01:17:28.518Z"
   },
   {
    "duration": 9,
    "start_time": "2022-11-28T01:17:32.838Z"
   },
   {
    "duration": 5,
    "start_time": "2022-11-28T01:17:35.270Z"
   },
   {
    "duration": 5,
    "start_time": "2022-11-28T01:17:35.950Z"
   },
   {
    "duration": 130,
    "start_time": "2022-11-28T01:17:36.777Z"
   },
   {
    "duration": 8,
    "start_time": "2022-11-28T01:17:38.034Z"
   },
   {
    "duration": 4,
    "start_time": "2022-11-28T01:17:45.850Z"
   },
   {
    "duration": 6,
    "start_time": "2022-11-28T01:17:46.890Z"
   },
   {
    "duration": 139,
    "start_time": "2022-11-28T01:17:46.899Z"
   },
   {
    "duration": 8,
    "start_time": "2022-11-28T01:17:47.994Z"
   },
   {
    "duration": 13,
    "start_time": "2022-11-28T01:18:44.587Z"
   },
   {
    "duration": 31743,
    "start_time": "2022-11-28T01:18:57.506Z"
   },
   {
    "duration": 141,
    "start_time": "2022-11-28T01:19:29.251Z"
   },
   {
    "duration": 2,
    "start_time": "2022-11-28T01:19:29.393Z"
   },
   {
    "duration": 58,
    "start_time": "2022-11-28T01:19:29.405Z"
   },
   {
    "duration": 3,
    "start_time": "2022-11-28T01:19:29.464Z"
   },
   {
    "duration": 9,
    "start_time": "2022-11-28T01:19:29.468Z"
   },
   {
    "duration": 8,
    "start_time": "2022-11-28T01:19:29.479Z"
   },
   {
    "duration": 4,
    "start_time": "2022-11-28T01:19:29.504Z"
   },
   {
    "duration": 8,
    "start_time": "2022-11-28T01:19:29.509Z"
   },
   {
    "duration": 4,
    "start_time": "2022-11-28T01:19:29.519Z"
   },
   {
    "duration": 4,
    "start_time": "2022-11-28T01:19:29.524Z"
   },
   {
    "duration": 2381,
    "start_time": "2022-11-28T01:19:29.529Z"
   },
   {
    "duration": 265,
    "start_time": "2022-11-28T01:19:48.408Z"
   },
   {
    "duration": 5,
    "start_time": "2022-11-28T01:21:09.875Z"
   },
   {
    "duration": 74,
    "start_time": "2022-11-28T01:21:16.566Z"
   },
   {
    "duration": 4,
    "start_time": "2022-11-28T01:21:19.347Z"
   },
   {
    "duration": 5,
    "start_time": "2022-11-28T01:21:37.592Z"
   },
   {
    "duration": 4,
    "start_time": "2022-11-28T01:21:44.870Z"
   },
   {
    "duration": 5,
    "start_time": "2022-11-28T01:21:46.006Z"
   },
   {
    "duration": 136,
    "start_time": "2022-11-28T01:21:46.681Z"
   },
   {
    "duration": 6,
    "start_time": "2022-11-28T01:22:02.687Z"
   },
   {
    "duration": 5,
    "start_time": "2022-11-28T01:22:03.766Z"
   },
   {
    "duration": 128,
    "start_time": "2022-11-28T01:22:08.620Z"
   },
   {
    "duration": 38,
    "start_time": "2022-11-28T01:22:13.967Z"
   },
   {
    "duration": 13,
    "start_time": "2022-11-28T01:22:14.237Z"
   },
   {
    "duration": 12,
    "start_time": "2022-11-28T01:22:14.899Z"
   },
   {
    "duration": 37,
    "start_time": "2022-11-28T01:22:15.339Z"
   },
   {
    "duration": 14,
    "start_time": "2022-11-28T01:22:15.735Z"
   },
   {
    "duration": 7,
    "start_time": "2022-11-28T01:22:17.142Z"
   },
   {
    "duration": 7,
    "start_time": "2022-11-28T01:22:18.704Z"
   },
   {
    "duration": 123,
    "start_time": "2022-11-28T01:22:19.293Z"
   },
   {
    "duration": 6,
    "start_time": "2022-11-28T01:22:23.907Z"
   },
   {
    "duration": 12,
    "start_time": "2022-11-28T01:22:25.926Z"
   },
   {
    "duration": 108,
    "start_time": "2022-11-28T01:22:34.838Z"
   },
   {
    "duration": 2,
    "start_time": "2022-11-28T01:22:35.938Z"
   },
   {
    "duration": 59,
    "start_time": "2022-11-28T01:22:36.745Z"
   },
   {
    "duration": 3,
    "start_time": "2022-11-28T01:22:37.918Z"
   },
   {
    "duration": 5,
    "start_time": "2022-11-28T01:22:38.207Z"
   },
   {
    "duration": 8,
    "start_time": "2022-11-28T01:22:38.402Z"
   },
   {
    "duration": 4,
    "start_time": "2022-11-28T01:22:38.601Z"
   },
   {
    "duration": 7,
    "start_time": "2022-11-28T01:22:38.898Z"
   },
   {
    "duration": 4,
    "start_time": "2022-11-28T01:22:39.526Z"
   },
   {
    "duration": 2,
    "start_time": "2022-11-28T01:22:41.307Z"
   },
   {
    "duration": 259,
    "start_time": "2022-11-28T01:23:11.847Z"
   },
   {
    "duration": 753,
    "start_time": "2022-11-28T01:23:21.055Z"
   },
   {
    "duration": 2217,
    "start_time": "2022-11-28T01:23:30.148Z"
   },
   {
    "duration": 229,
    "start_time": "2022-11-28T01:23:39.128Z"
   },
   {
    "duration": 4,
    "start_time": "2022-11-28T01:25:40.726Z"
   },
   {
    "duration": 38,
    "start_time": "2022-11-28T01:25:45.367Z"
   },
   {
    "duration": 13,
    "start_time": "2022-11-28T01:25:46.735Z"
   },
   {
    "duration": 12,
    "start_time": "2022-11-28T01:25:47.847Z"
   },
   {
    "duration": 39,
    "start_time": "2022-11-28T01:25:48.379Z"
   },
   {
    "duration": 13,
    "start_time": "2022-11-28T01:25:49.047Z"
   },
   {
    "duration": 7,
    "start_time": "2022-11-28T01:25:50.678Z"
   },
   {
    "duration": 5,
    "start_time": "2022-11-28T01:25:52.265Z"
   },
   {
    "duration": 129,
    "start_time": "2022-11-28T01:25:53.558Z"
   },
   {
    "duration": 8,
    "start_time": "2022-11-28T01:25:57.106Z"
   },
   {
    "duration": 11,
    "start_time": "2022-11-28T01:25:59.466Z"
   },
   {
    "duration": 110,
    "start_time": "2022-11-28T01:27:09.025Z"
   },
   {
    "duration": 2,
    "start_time": "2022-11-28T01:27:12.026Z"
   },
   {
    "duration": 57,
    "start_time": "2022-11-28T01:27:13.554Z"
   },
   {
    "duration": 2,
    "start_time": "2022-11-28T01:27:18.110Z"
   },
   {
    "duration": 4,
    "start_time": "2022-11-28T01:27:18.694Z"
   },
   {
    "duration": 7,
    "start_time": "2022-11-28T01:27:19.387Z"
   },
   {
    "duration": 4,
    "start_time": "2022-11-28T01:27:20.730Z"
   },
   {
    "duration": 8,
    "start_time": "2022-11-28T01:27:21.426Z"
   },
   {
    "duration": 4,
    "start_time": "2022-11-28T01:27:22.606Z"
   },
   {
    "duration": 3,
    "start_time": "2022-11-28T01:27:25.173Z"
   },
   {
    "duration": 213,
    "start_time": "2022-11-28T01:27:27.494Z"
   },
   {
    "duration": 9,
    "start_time": "2022-11-28T01:27:29.266Z"
   },
   {
    "duration": 2331,
    "start_time": "2022-11-28T01:27:47.182Z"
   },
   {
    "duration": 311,
    "start_time": "2022-11-28T01:27:52.446Z"
   },
   {
    "duration": 289,
    "start_time": "2022-11-28T01:29:42.218Z"
   },
   {
    "duration": 289,
    "start_time": "2022-11-28T01:30:58.775Z"
   },
   {
    "duration": 2100,
    "start_time": "2022-11-28T01:32:04.573Z"
   },
   {
    "duration": 253,
    "start_time": "2022-11-28T01:32:09.974Z"
   },
   {
    "duration": 255,
    "start_time": "2022-11-28T01:32:15.134Z"
   },
   {
    "duration": 2035,
    "start_time": "2022-11-28T01:32:21.314Z"
   },
   {
    "duration": 2089,
    "start_time": "2022-11-28T01:32:38.387Z"
   },
   {
    "duration": 255,
    "start_time": "2022-11-28T01:32:41.407Z"
   },
   {
    "duration": 34,
    "start_time": "2022-11-28T01:35:04.199Z"
   },
   {
    "duration": 2,
    "start_time": "2022-11-28T01:35:28.734Z"
   },
   {
    "duration": 4,
    "start_time": "2022-11-28T01:35:29.277Z"
   },
   {
    "duration": 8,
    "start_time": "2022-11-28T01:35:29.581Z"
   },
   {
    "duration": 4,
    "start_time": "2022-11-28T01:35:29.772Z"
   },
   {
    "duration": 6,
    "start_time": "2022-11-28T01:35:30.058Z"
   },
   {
    "duration": 4,
    "start_time": "2022-11-28T01:35:30.586Z"
   },
   {
    "duration": 3,
    "start_time": "2022-11-28T01:35:32.462Z"
   },
   {
    "duration": 205108,
    "start_time": "2022-11-28T01:35:58.374Z"
   },
   {
    "duration": 42479,
    "start_time": "2022-11-28T01:40:14.636Z"
   },
   {
    "duration": 2598,
    "start_time": "2022-11-28T01:43:16.616Z"
   },
   {
    "duration": 304,
    "start_time": "2022-11-28T01:43:21.846Z"
   },
   {
    "duration": 342,
    "start_time": "2022-11-28T01:43:26.066Z"
   },
   {
    "duration": 317,
    "start_time": "2022-11-28T01:43:29.894Z"
   },
   {
    "duration": 44211,
    "start_time": "2022-11-28T01:46:39.767Z"
   },
   {
    "duration": 2228,
    "start_time": "2022-11-28T01:47:23.980Z"
   },
   {
    "duration": 34,
    "start_time": "2022-11-28T01:48:51.825Z"
   },
   {
    "duration": 3,
    "start_time": "2022-11-28T01:49:42.598Z"
   },
   {
    "duration": 4,
    "start_time": "2022-11-28T01:49:43.217Z"
   },
   {
    "duration": 9,
    "start_time": "2022-11-28T01:49:43.778Z"
   },
   {
    "duration": 4,
    "start_time": "2022-11-28T01:49:44.926Z"
   },
   {
    "duration": 7,
    "start_time": "2022-11-28T01:49:45.566Z"
   },
   {
    "duration": 4,
    "start_time": "2022-11-28T01:49:45.998Z"
   },
   {
    "duration": 37,
    "start_time": "2022-11-28T01:50:48.646Z"
   },
   {
    "duration": 13,
    "start_time": "2022-11-28T01:50:48.907Z"
   },
   {
    "duration": 11,
    "start_time": "2022-11-28T01:50:49.559Z"
   },
   {
    "duration": 39,
    "start_time": "2022-11-28T01:50:49.980Z"
   },
   {
    "duration": 13,
    "start_time": "2022-11-28T01:50:50.753Z"
   },
   {
    "duration": 8,
    "start_time": "2022-11-28T01:50:52.566Z"
   },
   {
    "duration": 4,
    "start_time": "2022-11-28T01:50:53.846Z"
   },
   {
    "duration": 8,
    "start_time": "2022-11-28T01:50:54.726Z"
   },
   {
    "duration": 11,
    "start_time": "2022-11-28T01:50:57.247Z"
   },
   {
    "duration": 109,
    "start_time": "2022-11-28T01:51:04.227Z"
   },
   {
    "duration": 3,
    "start_time": "2022-11-28T01:51:05.007Z"
   },
   {
    "duration": 59,
    "start_time": "2022-11-28T01:51:06.191Z"
   },
   {
    "duration": 3,
    "start_time": "2022-11-28T01:51:08.986Z"
   },
   {
    "duration": 5,
    "start_time": "2022-11-28T01:51:09.666Z"
   },
   {
    "duration": 9,
    "start_time": "2022-11-28T01:51:15.030Z"
   },
   {
    "duration": 4,
    "start_time": "2022-11-28T01:51:15.647Z"
   },
   {
    "duration": 7,
    "start_time": "2022-11-28T01:51:16.310Z"
   },
   {
    "duration": 4,
    "start_time": "2022-11-28T01:51:17.066Z"
   },
   {
    "duration": 3,
    "start_time": "2022-11-28T01:51:18.906Z"
   },
   {
    "duration": 173537,
    "start_time": "2022-11-28T01:51:23.425Z"
   },
   {
    "duration": 36807,
    "start_time": "2022-11-28T01:54:16.964Z"
   },
   {
    "duration": 37622,
    "start_time": "2022-11-28T01:55:07.986Z"
   },
   {
    "duration": 3,
    "start_time": "2022-11-28T01:57:40.574Z"
   },
   {
    "duration": 37,
    "start_time": "2022-11-28T01:57:44.706Z"
   },
   {
    "duration": 14,
    "start_time": "2022-11-28T01:57:45.139Z"
   },
   {
    "duration": 13,
    "start_time": "2022-11-28T01:57:46.039Z"
   },
   {
    "duration": 38,
    "start_time": "2022-11-28T01:57:46.355Z"
   },
   {
    "duration": 14,
    "start_time": "2022-11-28T01:57:47.059Z"
   },
   {
    "duration": 8,
    "start_time": "2022-11-28T01:57:48.303Z"
   },
   {
    "duration": 5,
    "start_time": "2022-11-28T01:57:49.502Z"
   },
   {
    "duration": 9,
    "start_time": "2022-11-28T01:57:49.989Z"
   },
   {
    "duration": 11,
    "start_time": "2022-11-28T01:57:51.184Z"
   },
   {
    "duration": 113,
    "start_time": "2022-11-28T01:57:56.767Z"
   },
   {
    "duration": 2,
    "start_time": "2022-11-28T01:57:58.037Z"
   },
   {
    "duration": 58,
    "start_time": "2022-11-28T01:57:59.147Z"
   },
   {
    "duration": 2,
    "start_time": "2022-11-28T01:58:07.887Z"
   },
   {
    "duration": 4,
    "start_time": "2022-11-28T01:58:08.878Z"
   },
   {
    "duration": 7,
    "start_time": "2022-11-28T01:58:09.323Z"
   },
   {
    "duration": 4,
    "start_time": "2022-11-28T01:58:09.899Z"
   },
   {
    "duration": 7,
    "start_time": "2022-11-28T01:58:16.049Z"
   },
   {
    "duration": 3,
    "start_time": "2022-11-28T01:58:17.188Z"
   },
   {
    "duration": 258,
    "start_time": "2022-11-28T01:58:38.947Z"
   },
   {
    "duration": 10,
    "start_time": "2022-11-28T01:58:41.026Z"
   },
   {
    "duration": 200508,
    "start_time": "2022-11-28T01:59:11.903Z"
   },
   {
    "duration": 42391,
    "start_time": "2022-11-28T02:03:28.429Z"
   },
   {
    "duration": 30482,
    "start_time": "2022-11-28T02:04:23.910Z"
   },
   {
    "duration": 326658,
    "start_time": "2022-11-28T02:05:18.602Z"
   },
   {
    "duration": 2574,
    "start_time": "2022-11-28T02:11:13.079Z"
   },
   {
    "duration": 320,
    "start_time": "2022-11-28T02:11:17.226Z"
   },
   {
    "duration": 365389,
    "start_time": "2022-11-28T02:13:04.349Z"
   },
   {
    "duration": 76,
    "start_time": "2022-11-28T02:27:55.008Z"
   },
   {
    "duration": 70,
    "start_time": "2022-11-28T02:28:12.401Z"
   },
   {
    "duration": 75,
    "start_time": "2022-11-28T02:28:42.987Z"
   },
   {
    "duration": 29007,
    "start_time": "2022-11-28T02:29:03.621Z"
   },
   {
    "duration": 23827,
    "start_time": "2022-11-28T02:30:18.010Z"
   },
   {
    "duration": 22113,
    "start_time": "2022-11-28T02:32:04.469Z"
   },
   {
    "duration": 22391,
    "start_time": "2022-11-28T02:34:52.488Z"
   },
   {
    "duration": 31987,
    "start_time": "2022-11-28T02:35:58.120Z"
   },
   {
    "duration": 1809815,
    "start_time": "2022-11-28T02:38:40.389Z"
   },
   {
    "duration": 3453,
    "start_time": "2022-11-28T03:10:15.769Z"
   },
   {
    "duration": 313,
    "start_time": "2022-11-28T03:10:24.616Z"
   },
   {
    "duration": 4,
    "start_time": "2022-11-28T03:17:20.630Z"
   },
   {
    "duration": 2,
    "start_time": "2022-11-28T03:17:21.132Z"
   },
   {
    "duration": 2139,
    "start_time": "2022-11-28T03:17:21.794Z"
   },
   {
    "duration": 4,
    "start_time": "2022-11-28T03:17:23.935Z"
   },
   {
    "duration": 41,
    "start_time": "2022-11-28T03:17:36.340Z"
   },
   {
    "duration": 15,
    "start_time": "2022-11-28T03:17:37.012Z"
   },
   {
    "duration": 13,
    "start_time": "2022-11-28T03:17:38.032Z"
   },
   {
    "duration": 38,
    "start_time": "2022-11-28T03:17:38.672Z"
   },
   {
    "duration": 15,
    "start_time": "2022-11-28T03:17:39.840Z"
   },
   {
    "duration": 7,
    "start_time": "2022-11-28T03:17:41.309Z"
   },
   {
    "duration": 5,
    "start_time": "2022-11-28T03:17:41.894Z"
   },
   {
    "duration": 7,
    "start_time": "2022-11-28T03:17:42.180Z"
   },
   {
    "duration": 12,
    "start_time": "2022-11-28T03:17:42.724Z"
   },
   {
    "duration": 4,
    "start_time": "2022-11-28T03:19:01.176Z"
   },
   {
    "duration": 5,
    "start_time": "2022-11-28T03:19:45.889Z"
   },
   {
    "duration": 5,
    "start_time": "2022-11-28T03:20:02.620Z"
   },
   {
    "duration": 5,
    "start_time": "2022-11-28T03:20:23.332Z"
   },
   {
    "duration": 6,
    "start_time": "2022-11-28T03:20:36.801Z"
   },
   {
    "duration": 5,
    "start_time": "2022-11-28T03:20:50.240Z"
   },
   {
    "duration": 5,
    "start_time": "2022-11-28T03:21:11.080Z"
   },
   {
    "duration": 6,
    "start_time": "2022-11-28T03:21:23.020Z"
   },
   {
    "duration": 6,
    "start_time": "2022-11-28T03:21:40.100Z"
   },
   {
    "duration": 6,
    "start_time": "2022-11-28T03:21:50.792Z"
   },
   {
    "duration": 6,
    "start_time": "2022-11-28T03:21:57.440Z"
   },
   {
    "duration": 5,
    "start_time": "2022-11-28T03:22:05.660Z"
   },
   {
    "duration": 5,
    "start_time": "2022-11-28T03:22:10.227Z"
   },
   {
    "duration": 4,
    "start_time": "2022-11-28T03:22:22.249Z"
   },
   {
    "duration": 5,
    "start_time": "2022-11-28T03:22:43.140Z"
   },
   {
    "duration": 4,
    "start_time": "2022-11-28T04:33:27.714Z"
   },
   {
    "duration": 3,
    "start_time": "2022-11-28T04:33:28.487Z"
   },
   {
    "duration": 2151,
    "start_time": "2022-11-28T04:33:29.287Z"
   },
   {
    "duration": 2,
    "start_time": "2022-11-28T04:33:31.441Z"
   },
   {
    "duration": 62,
    "start_time": "2022-11-28T04:33:31.445Z"
   },
   {
    "duration": 14,
    "start_time": "2022-11-28T04:33:31.510Z"
   },
   {
    "duration": 13,
    "start_time": "2022-11-28T04:33:31.810Z"
   },
   {
    "duration": 38,
    "start_time": "2022-11-28T04:33:32.247Z"
   },
   {
    "duration": 13,
    "start_time": "2022-11-28T04:33:32.929Z"
   },
   {
    "duration": 7,
    "start_time": "2022-11-28T04:33:33.479Z"
   },
   {
    "duration": 4,
    "start_time": "2022-11-28T04:33:34.867Z"
   },
   {
    "duration": 7,
    "start_time": "2022-11-28T04:33:35.119Z"
   },
   {
    "duration": 13,
    "start_time": "2022-11-28T04:33:35.839Z"
   },
   {
    "duration": 28267,
    "start_time": "2022-11-28T04:33:36.548Z"
   },
   {
    "duration": 934,
    "start_time": "2022-11-28T04:34:04.817Z"
   },
   {
    "duration": 118,
    "start_time": "2022-11-28T04:34:05.753Z"
   },
   {
    "duration": 5,
    "start_time": "2022-11-28T04:34:05.873Z"
   },
   {
    "duration": 1161,
    "start_time": "2022-11-28T04:39:50.326Z"
   },
   {
    "duration": 3,
    "start_time": "2022-11-28T04:39:53.605Z"
   },
   {
    "duration": 2090,
    "start_time": "2022-11-28T04:39:54.117Z"
   },
   {
    "duration": 82,
    "start_time": "2022-11-28T04:39:56.209Z"
   },
   {
    "duration": 42,
    "start_time": "2022-11-28T04:39:56.293Z"
   },
   {
    "duration": 19,
    "start_time": "2022-11-28T04:39:56.336Z"
   },
   {
    "duration": 12,
    "start_time": "2022-11-28T04:39:56.357Z"
   },
   {
    "duration": 43,
    "start_time": "2022-11-28T04:39:56.370Z"
   },
   {
    "duration": 14,
    "start_time": "2022-11-28T04:39:56.414Z"
   },
   {
    "duration": 9,
    "start_time": "2022-11-28T04:39:57.306Z"
   },
   {
    "duration": 4,
    "start_time": "2022-11-28T04:39:57.606Z"
   },
   {
    "duration": 7,
    "start_time": "2022-11-28T04:39:57.838Z"
   },
   {
    "duration": 13,
    "start_time": "2022-11-28T04:39:58.427Z"
   },
   {
    "duration": 27715,
    "start_time": "2022-11-28T04:39:59.066Z"
   },
   {
    "duration": 959,
    "start_time": "2022-11-28T04:40:26.783Z"
   },
   {
    "duration": 126,
    "start_time": "2022-11-28T04:40:27.744Z"
   },
   {
    "duration": 5,
    "start_time": "2022-11-28T04:40:27.872Z"
   },
   {
    "duration": 62,
    "start_time": "2022-11-28T04:40:27.878Z"
   },
   {
    "duration": 2,
    "start_time": "2022-11-28T04:40:27.942Z"
   },
   {
    "duration": 7,
    "start_time": "2022-11-28T04:40:27.946Z"
   },
   {
    "duration": 8,
    "start_time": "2022-11-28T04:40:27.954Z"
   },
   {
    "duration": 3,
    "start_time": "2022-11-28T04:40:27.964Z"
   },
   {
    "duration": 12,
    "start_time": "2022-11-28T04:40:27.969Z"
   },
   {
    "duration": 23,
    "start_time": "2022-11-28T04:40:27.982Z"
   },
   {
    "duration": 2,
    "start_time": "2022-11-28T04:40:28.007Z"
   },
   {
    "duration": 65534,
    "start_time": "2022-11-28T04:40:28.011Z"
   },
   {
    "duration": 145911,
    "start_time": "2022-11-28T04:42:15.506Z"
   },
   {
    "duration": 2808,
    "start_time": "2022-11-28T04:49:12.346Z"
   },
   {
    "duration": 41,
    "start_time": "2022-11-28T04:49:20.177Z"
   },
   {
    "duration": 162,
    "start_time": "2022-11-28T04:49:48.046Z"
   },
   {
    "duration": 165940,
    "start_time": "2022-11-28T04:53:53.974Z"
   },
   {
    "duration": 4,
    "start_time": "2022-11-28T04:57:13.546Z"
   },
   {
    "duration": 198,
    "start_time": "2022-11-28T04:58:40.411Z"
   },
   {
    "duration": 81,
    "start_time": "2022-11-28T04:59:20.527Z"
   },
   {
    "duration": 116,
    "start_time": "2022-11-28T04:59:32.699Z"
   },
   {
    "duration": 195379,
    "start_time": "2022-11-28T05:00:02.776Z"
   },
   {
    "duration": 30431,
    "start_time": "2022-11-28T05:05:10.349Z"
   },
   {
    "duration": 57919,
    "start_time": "2022-11-28T05:06:07.329Z"
   },
   {
    "duration": 2556,
    "start_time": "2022-11-28T05:07:33.249Z"
   },
   {
    "duration": 2657,
    "start_time": "2022-11-28T05:07:41.821Z"
   },
   {
    "duration": 39,
    "start_time": "2022-11-28T05:07:49.530Z"
   },
   {
    "duration": 94,
    "start_time": "2022-11-28T05:09:55.047Z"
   },
   {
    "duration": 24,
    "start_time": "2022-11-28T05:10:17.445Z"
   },
   {
    "duration": 360,
    "start_time": "2022-11-28T05:11:19.946Z"
   },
   {
    "duration": 210656,
    "start_time": "2022-11-28T05:12:07.386Z"
   },
   {
    "duration": 45479,
    "start_time": "2022-11-28T05:18:28.958Z"
   },
   {
    "duration": 217578,
    "start_time": "2022-11-28T05:19:38.875Z"
   },
   {
    "duration": 44254,
    "start_time": "2022-11-28T05:24:17.787Z"
   },
   {
    "duration": 43445,
    "start_time": "2022-11-28T05:25:44.429Z"
   },
   {
    "duration": 99650,
    "start_time": "2022-11-28T05:26:49.706Z"
   },
   {
    "duration": 3502,
    "start_time": "2022-11-28T05:29:48.050Z"
   },
   {
    "duration": 41,
    "start_time": "2022-11-28T05:30:04.469Z"
   },
   {
    "duration": 13,
    "start_time": "2022-11-28T05:31:44.030Z"
   },
   {
    "duration": 23,
    "start_time": "2022-11-28T05:32:55.429Z"
   },
   {
    "duration": 169,
    "start_time": "2022-11-28T05:33:00.337Z"
   },
   {
    "duration": 43107,
    "start_time": "2022-11-28T05:34:15.234Z"
   },
   {
    "duration": 85898,
    "start_time": "2022-11-28T05:35:49.154Z"
   },
   {
    "duration": 52295,
    "start_time": "2022-11-28T05:37:51.687Z"
   },
   {
    "duration": 66531,
    "start_time": "2022-11-28T05:38:59.320Z"
   },
   {
    "duration": 52566,
    "start_time": "2022-11-28T05:40:17.346Z"
   },
   {
    "duration": 53412,
    "start_time": "2022-11-28T05:41:26.568Z"
   },
   {
    "duration": 1007,
    "start_time": "2022-11-28T05:42:33.635Z"
   },
   {
    "duration": 2705,
    "start_time": "2022-11-28T05:43:36.207Z"
   },
   {
    "duration": 2711,
    "start_time": "2022-11-28T05:43:46.367Z"
   },
   {
    "duration": 2703,
    "start_time": "2022-11-28T05:43:56.657Z"
   },
   {
    "duration": 315,
    "start_time": "2022-11-28T05:44:57.618Z"
   },
   {
    "duration": 312,
    "start_time": "2022-11-28T05:45:05.847Z"
   },
   {
    "duration": 2838,
    "start_time": "2022-11-28T05:49:25.646Z"
   },
   {
    "duration": 2778,
    "start_time": "2022-11-28T05:49:38.666Z"
   },
   {
    "duration": 2587,
    "start_time": "2022-11-28T05:49:51.366Z"
   },
   {
    "duration": 303,
    "start_time": "2022-11-28T05:50:00.186Z"
   },
   {
    "duration": 49079,
    "start_time": "2022-11-28T05:50:46.626Z"
   },
   {
    "duration": 47440,
    "start_time": "2022-11-28T05:52:07.449Z"
   },
   {
    "duration": 170087,
    "start_time": "2022-11-28T05:53:25.117Z"
   },
   {
    "duration": 108968,
    "start_time": "2022-11-28T05:59:48.997Z"
   },
   {
    "duration": 2244,
    "start_time": "2022-11-28T06:01:51.609Z"
   },
   {
    "duration": 277,
    "start_time": "2022-11-28T06:01:57.829Z"
   },
   {
    "duration": 248,
    "start_time": "2022-11-28T06:02:02.891Z"
   },
   {
    "duration": 269,
    "start_time": "2022-11-28T06:02:30.589Z"
   },
   {
    "duration": 276,
    "start_time": "2022-11-28T06:07:23.129Z"
   },
   {
    "duration": 220,
    "start_time": "2022-11-28T06:07:29.489Z"
   },
   {
    "duration": 299,
    "start_time": "2022-11-28T06:08:39.608Z"
   },
   {
    "duration": 257,
    "start_time": "2022-11-28T06:08:49.849Z"
   },
   {
    "duration": 1232,
    "start_time": "2022-11-28T06:14:56.189Z"
   },
   {
    "duration": 3,
    "start_time": "2022-11-28T06:14:57.423Z"
   },
   {
    "duration": 2094,
    "start_time": "2022-11-28T06:14:57.427Z"
   },
   {
    "duration": 58,
    "start_time": "2022-11-28T06:14:59.524Z"
   },
   {
    "duration": 42,
    "start_time": "2022-11-28T06:14:59.584Z"
   },
   {
    "duration": 19,
    "start_time": "2022-11-28T06:14:59.627Z"
   },
   {
    "duration": 22,
    "start_time": "2022-11-28T06:14:59.647Z"
   },
   {
    "duration": 41,
    "start_time": "2022-11-28T06:14:59.671Z"
   },
   {
    "duration": 13,
    "start_time": "2022-11-28T06:14:59.713Z"
   },
   {
    "duration": 9,
    "start_time": "2022-11-28T06:14:59.729Z"
   },
   {
    "duration": 29,
    "start_time": "2022-11-28T06:14:59.739Z"
   },
   {
    "duration": 27,
    "start_time": "2022-11-28T06:14:59.769Z"
   },
   {
    "duration": 32,
    "start_time": "2022-11-28T06:14:59.798Z"
   },
   {
    "duration": 28422,
    "start_time": "2022-11-28T06:14:59.831Z"
   },
   {
    "duration": 961,
    "start_time": "2022-11-28T06:15:28.256Z"
   },
   {
    "duration": 123,
    "start_time": "2022-11-28T06:15:29.219Z"
   },
   {
    "duration": 6,
    "start_time": "2022-11-28T06:15:29.344Z"
   },
   {
    "duration": 68,
    "start_time": "2022-11-28T06:15:29.351Z"
   },
   {
    "duration": 3,
    "start_time": "2022-11-28T06:15:29.421Z"
   },
   {
    "duration": 9,
    "start_time": "2022-11-28T06:15:29.425Z"
   },
   {
    "duration": 10,
    "start_time": "2022-11-28T06:15:29.436Z"
   },
   {
    "duration": 4,
    "start_time": "2022-11-28T06:15:29.447Z"
   },
   {
    "duration": 8,
    "start_time": "2022-11-28T06:15:29.452Z"
   },
   {
    "duration": 4,
    "start_time": "2022-11-28T06:15:29.461Z"
   },
   {
    "duration": 7,
    "start_time": "2022-11-28T06:15:29.466Z"
   },
   {
    "duration": 235,
    "start_time": "2022-11-28T06:15:29.474Z"
   },
   {
    "duration": 9,
    "start_time": "2022-11-28T06:15:29.711Z"
   },
   {
    "duration": 169065,
    "start_time": "2022-11-28T06:15:29.723Z"
   },
   {
    "duration": 2898,
    "start_time": "2022-11-28T06:18:18.790Z"
   },
   {
    "duration": 49,
    "start_time": "2022-11-28T06:18:21.689Z"
   },
   {
    "duration": 170,
    "start_time": "2022-11-28T06:18:21.740Z"
   },
   {
    "duration": 109137,
    "start_time": "2022-11-28T06:18:21.913Z"
   },
   {
    "duration": 47897,
    "start_time": "2022-11-28T06:20:11.052Z"
   },
   {
    "duration": 2679,
    "start_time": "2022-11-28T06:20:58.951Z"
   },
   {
    "duration": 39,
    "start_time": "2022-11-28T06:21:01.632Z"
   },
   {
    "duration": 50,
    "start_time": "2022-11-28T06:21:01.673Z"
   },
   {
    "duration": 290,
    "start_time": "2022-11-28T06:21:01.724Z"
   },
   {
    "duration": 224003,
    "start_time": "2022-11-28T06:21:02.105Z"
   },
   {
    "duration": 8,
    "start_time": "2022-11-28T06:24:46.110Z"
   },
   {
    "duration": 3639,
    "start_time": "2022-11-28T06:24:46.119Z"
   },
   {
    "duration": 49,
    "start_time": "2022-11-28T06:24:49.760Z"
   },
   {
    "duration": 27,
    "start_time": "2022-11-28T06:24:49.811Z"
   },
   {
    "duration": 173,
    "start_time": "2022-11-28T06:24:49.839Z"
   },
   {
    "duration": 67239,
    "start_time": "2022-11-28T06:24:50.014Z"
   },
   {
    "duration": 52606,
    "start_time": "2022-11-28T06:25:57.254Z"
   },
   {
    "duration": 955,
    "start_time": "2022-11-28T06:26:49.862Z"
   },
   {
    "duration": 2216,
    "start_time": "2022-11-28T06:26:50.819Z"
   },
   {
    "duration": 287,
    "start_time": "2022-11-28T06:26:53.037Z"
   },
   {
    "duration": 375,
    "start_time": "2022-11-28T06:26:53.325Z"
   },
   {
    "duration": 266,
    "start_time": "2022-11-28T06:28:08.969Z"
   },
   {
    "duration": 79,
    "start_time": "2022-11-28T13:15:47.435Z"
   },
   {
    "duration": 1632,
    "start_time": "2022-11-28T13:26:28.830Z"
   },
   {
    "duration": 3,
    "start_time": "2022-11-28T13:26:30.464Z"
   },
   {
    "duration": 3188,
    "start_time": "2022-11-28T13:26:30.468Z"
   },
   {
    "duration": 97,
    "start_time": "2022-11-28T13:26:33.659Z"
   },
   {
    "duration": 192,
    "start_time": "2022-11-28T13:26:33.758Z"
   },
   {
    "duration": 26,
    "start_time": "2022-11-28T13:26:33.953Z"
   },
   {
    "duration": 48,
    "start_time": "2022-11-28T13:26:33.981Z"
   },
   {
    "duration": 83,
    "start_time": "2022-11-28T13:26:34.034Z"
   },
   {
    "duration": 19,
    "start_time": "2022-11-28T13:26:34.120Z"
   },
   {
    "duration": 32,
    "start_time": "2022-11-28T13:26:34.142Z"
   },
   {
    "duration": 35,
    "start_time": "2022-11-28T13:26:34.176Z"
   },
   {
    "duration": 40,
    "start_time": "2022-11-28T13:26:34.213Z"
   },
   {
    "duration": 35,
    "start_time": "2022-11-28T13:26:34.255Z"
   },
   {
    "duration": 30791,
    "start_time": "2022-11-28T13:26:34.293Z"
   },
   {
    "duration": 1142,
    "start_time": "2022-11-28T13:27:05.086Z"
   },
   {
    "duration": 154,
    "start_time": "2022-11-28T13:27:06.231Z"
   },
   {
    "duration": 7,
    "start_time": "2022-11-28T13:27:06.388Z"
   },
   {
    "duration": 96,
    "start_time": "2022-11-28T13:27:06.397Z"
   },
   {
    "duration": 3,
    "start_time": "2022-11-28T13:27:06.494Z"
   },
   {
    "duration": 15,
    "start_time": "2022-11-28T13:27:06.499Z"
   },
   {
    "duration": 16,
    "start_time": "2022-11-28T13:27:06.517Z"
   },
   {
    "duration": 6,
    "start_time": "2022-11-28T13:27:06.535Z"
   },
   {
    "duration": 18,
    "start_time": "2022-11-28T13:27:06.543Z"
   },
   {
    "duration": 19,
    "start_time": "2022-11-28T13:27:06.562Z"
   },
   {
    "duration": 7,
    "start_time": "2022-11-28T13:27:06.582Z"
   },
   {
    "duration": 188,
    "start_time": "2022-11-28T13:27:06.591Z"
   },
   {
    "duration": 99,
    "start_time": "2022-11-28T13:27:06.781Z"
   },
   {
    "duration": 182808,
    "start_time": "2022-11-28T13:27:06.885Z"
   },
   {
    "duration": 2996,
    "start_time": "2022-11-28T13:30:09.695Z"
   },
   {
    "duration": 84,
    "start_time": "2022-11-28T13:30:12.693Z"
   },
   {
    "duration": 197,
    "start_time": "2022-11-28T13:30:12.780Z"
   },
   {
    "duration": 116724,
    "start_time": "2022-11-28T13:30:12.979Z"
   },
   {
    "duration": 50792,
    "start_time": "2022-11-28T13:32:09.705Z"
   },
   {
    "duration": 2986,
    "start_time": "2022-11-28T13:33:00.499Z"
   },
   {
    "duration": 48,
    "start_time": "2022-11-28T13:33:03.487Z"
   },
   {
    "duration": 50,
    "start_time": "2022-11-28T13:33:03.537Z"
   },
   {
    "duration": 397,
    "start_time": "2022-11-28T13:33:03.589Z"
   },
   {
    "duration": 240241,
    "start_time": "2022-11-28T13:33:03.989Z"
   },
   {
    "duration": 15,
    "start_time": "2022-11-28T13:37:04.232Z"
   },
   {
    "duration": 4242,
    "start_time": "2022-11-28T13:37:04.249Z"
   },
   {
    "duration": 49,
    "start_time": "2022-11-28T13:37:08.492Z"
   },
   {
    "duration": 56,
    "start_time": "2022-11-28T13:37:08.543Z"
   },
   {
    "duration": 183,
    "start_time": "2022-11-28T13:37:08.600Z"
   },
   {
    "duration": 72094,
    "start_time": "2022-11-28T13:37:08.785Z"
   },
   {
    "duration": 56709,
    "start_time": "2022-11-28T13:38:20.880Z"
   },
   {
    "duration": 982,
    "start_time": "2022-11-28T13:39:17.590Z"
   },
   {
    "duration": 2448,
    "start_time": "2022-11-28T13:39:18.579Z"
   },
   {
    "duration": 143,
    "start_time": "2022-11-28T13:39:21.028Z"
   },
   {
    "duration": 0,
    "start_time": "2022-11-28T13:39:21.172Z"
   },
   {
    "duration": 0,
    "start_time": "2022-11-28T13:39:21.178Z"
   },
   {
    "duration": 13,
    "start_time": "2022-11-28T13:42:24.970Z"
   },
   {
    "duration": 5,
    "start_time": "2022-11-28T13:42:33.970Z"
   },
   {
    "duration": 14,
    "start_time": "2022-11-28T13:43:34.070Z"
   },
   {
    "duration": 685621,
    "start_time": "2022-11-28T13:44:12.769Z"
   },
   {
    "duration": 318,
    "start_time": "2022-11-28T13:57:00.950Z"
   },
   {
    "duration": 330,
    "start_time": "2022-11-28T13:57:04.122Z"
   },
   {
    "duration": 230334,
    "start_time": "2022-11-28T13:57:39.378Z"
   },
   {
    "duration": 21395,
    "start_time": "2022-11-28T14:04:11.050Z"
   },
   {
    "duration": 100,
    "start_time": "2022-11-28T14:06:27.890Z"
   },
   {
    "duration": 68707,
    "start_time": "2022-11-28T14:06:41.698Z"
   },
   {
    "duration": 39,
    "start_time": "2022-11-28T14:13:08.160Z"
   },
   {
    "duration": 13,
    "start_time": "2022-11-28T14:13:14.586Z"
   },
   {
    "duration": 16,
    "start_time": "2022-11-28T14:13:21.480Z"
   },
   {
    "duration": 16,
    "start_time": "2022-11-28T14:13:37.958Z"
   },
   {
    "duration": 1421,
    "start_time": "2022-11-28T14:16:38.252Z"
   },
   {
    "duration": 3,
    "start_time": "2022-11-28T14:16:39.674Z"
   },
   {
    "duration": 2064,
    "start_time": "2022-11-28T14:16:39.679Z"
   },
   {
    "duration": 73,
    "start_time": "2022-11-28T14:16:41.747Z"
   },
   {
    "duration": 41,
    "start_time": "2022-11-28T14:16:41.823Z"
   },
   {
    "duration": 19,
    "start_time": "2022-11-28T14:16:41.866Z"
   },
   {
    "duration": 14,
    "start_time": "2022-11-28T14:16:41.887Z"
   },
   {
    "duration": 45,
    "start_time": "2022-11-28T14:16:41.903Z"
   },
   {
    "duration": 37,
    "start_time": "2022-11-28T14:16:41.950Z"
   },
   {
    "duration": 7,
    "start_time": "2022-11-28T14:16:41.990Z"
   },
   {
    "duration": 20,
    "start_time": "2022-11-28T14:16:41.999Z"
   },
   {
    "duration": 5,
    "start_time": "2022-11-28T14:16:42.021Z"
   },
   {
    "duration": 16,
    "start_time": "2022-11-28T14:16:42.029Z"
   },
   {
    "duration": 43,
    "start_time": "2022-11-28T14:16:42.047Z"
   },
   {
    "duration": 30212,
    "start_time": "2022-11-28T14:16:42.092Z"
   },
   {
    "duration": 953,
    "start_time": "2022-11-28T14:17:12.306Z"
   },
   {
    "duration": 117,
    "start_time": "2022-11-28T14:17:13.262Z"
   },
   {
    "duration": 5,
    "start_time": "2022-11-28T14:17:13.381Z"
   },
   {
    "duration": 86,
    "start_time": "2022-11-28T14:17:13.387Z"
   },
   {
    "duration": 2,
    "start_time": "2022-11-28T14:17:13.475Z"
   },
   {
    "duration": 47,
    "start_time": "2022-11-28T14:17:13.478Z"
   },
   {
    "duration": 49,
    "start_time": "2022-11-28T14:17:13.526Z"
   },
   {
    "duration": 27,
    "start_time": "2022-11-28T14:17:13.577Z"
   },
   {
    "duration": 37,
    "start_time": "2022-11-28T14:17:13.605Z"
   },
   {
    "duration": 27,
    "start_time": "2022-11-28T14:17:13.644Z"
   },
   {
    "duration": 38,
    "start_time": "2022-11-28T14:17:13.673Z"
   },
   {
    "duration": 32,
    "start_time": "2022-11-28T14:17:13.712Z"
   },
   {
    "duration": 720131,
    "start_time": "2022-11-28T14:17:13.748Z"
   },
   {
    "duration": 398,
    "start_time": "2022-11-28T14:29:13.881Z"
   },
   {
    "duration": 14,
    "start_time": "2022-11-28T14:29:14.282Z"
   },
   {
    "duration": 177744,
    "start_time": "2022-11-28T14:29:14.297Z"
   },
   {
    "duration": 3098,
    "start_time": "2022-11-28T14:32:12.043Z"
   },
   {
    "duration": 56,
    "start_time": "2022-11-28T14:32:15.143Z"
   },
   {
    "duration": 178,
    "start_time": "2022-11-28T14:32:15.201Z"
   },
   {
    "duration": 114017,
    "start_time": "2022-11-28T14:32:15.382Z"
   },
   {
    "duration": 49724,
    "start_time": "2022-11-28T14:34:09.402Z"
   },
   {
    "duration": 2888,
    "start_time": "2022-11-28T14:34:59.128Z"
   },
   {
    "duration": 46,
    "start_time": "2022-11-28T14:35:02.018Z"
   },
   {
    "duration": 40,
    "start_time": "2022-11-28T14:35:02.066Z"
   },
   {
    "duration": 280,
    "start_time": "2022-11-28T14:35:02.108Z"
   },
   {
    "duration": 236181,
    "start_time": "2022-11-28T14:35:02.390Z"
   },
   {
    "duration": 23348,
    "start_time": "2022-11-28T14:38:58.578Z"
   },
   {
    "duration": 3873,
    "start_time": "2022-11-28T14:39:21.928Z"
   },
   {
    "duration": 77,
    "start_time": "2022-11-28T14:39:25.803Z"
   },
   {
    "duration": 34,
    "start_time": "2022-11-28T14:39:25.883Z"
   },
   {
    "duration": 159,
    "start_time": "2022-11-28T14:39:25.919Z"
   },
   {
    "duration": 74925,
    "start_time": "2022-11-28T14:39:26.080Z"
   },
   {
    "duration": 57677,
    "start_time": "2022-11-28T14:40:41.007Z"
   },
   {
    "duration": 1018,
    "start_time": "2022-11-28T14:41:38.686Z"
   },
   {
    "duration": 2453,
    "start_time": "2022-11-28T14:41:39.706Z"
   },
   {
    "duration": 323,
    "start_time": "2022-11-28T14:41:42.162Z"
   },
   {
    "duration": 300,
    "start_time": "2022-11-28T14:41:42.487Z"
   },
   {
    "duration": 5,
    "start_time": "2022-11-28T14:41:42.792Z"
   },
   {
    "duration": 2338,
    "start_time": "2022-11-28T14:43:11.587Z"
   },
   {
    "duration": 2482,
    "start_time": "2022-11-28T14:43:21.547Z"
   },
   {
    "duration": 52541,
    "start_time": "2022-11-28T14:43:41.208Z"
   },
   {
    "duration": 2900,
    "start_time": "2022-11-28T14:44:58.927Z"
   },
   {
    "duration": 56,
    "start_time": "2022-11-28T14:45:05.634Z"
   },
   {
    "duration": 2252,
    "start_time": "2022-11-28T14:46:08.487Z"
   },
   {
    "duration": 35335,
    "start_time": "2022-11-28T14:46:28.747Z"
   },
   {
    "duration": 56322,
    "start_time": "2022-11-28T14:48:30.727Z"
   },
   {
    "duration": 54545,
    "start_time": "2022-11-28T14:49:53.148Z"
   },
   {
    "duration": 4027,
    "start_time": "2022-11-28T14:52:33.567Z"
   },
   {
    "duration": 4128,
    "start_time": "2022-11-28T14:53:00.628Z"
   },
   {
    "duration": 369,
    "start_time": "2022-11-28T14:53:12.467Z"
   },
   {
    "duration": 2028,
    "start_time": "2022-11-28T15:05:29.966Z"
   },
   {
    "duration": 6,
    "start_time": "2022-11-28T15:05:32.001Z"
   },
   {
    "duration": 2251,
    "start_time": "2022-11-28T15:05:32.009Z"
   },
   {
    "duration": 70,
    "start_time": "2022-11-28T15:05:34.262Z"
   },
   {
    "duration": 41,
    "start_time": "2022-11-28T15:05:34.335Z"
   },
   {
    "duration": 23,
    "start_time": "2022-11-28T15:05:34.381Z"
   },
   {
    "duration": 27,
    "start_time": "2022-11-28T15:05:34.405Z"
   },
   {
    "duration": 77,
    "start_time": "2022-11-28T15:05:34.434Z"
   },
   {
    "duration": 14,
    "start_time": "2022-11-28T15:05:34.512Z"
   },
   {
    "duration": 15,
    "start_time": "2022-11-28T15:05:34.528Z"
   },
   {
    "duration": 23,
    "start_time": "2022-11-28T15:05:34.545Z"
   },
   {
    "duration": 9,
    "start_time": "2022-11-28T15:05:34.570Z"
   },
   {
    "duration": 30,
    "start_time": "2022-11-28T15:05:34.582Z"
   },
   {
    "duration": 26,
    "start_time": "2022-11-28T15:05:34.615Z"
   },
   {
    "duration": 34797,
    "start_time": "2022-11-28T15:05:34.643Z"
   },
   {
    "duration": 1147,
    "start_time": "2022-11-28T15:06:09.444Z"
   },
   {
    "duration": 140,
    "start_time": "2022-11-28T15:06:10.593Z"
   },
   {
    "duration": 8,
    "start_time": "2022-11-28T15:06:10.735Z"
   },
   {
    "duration": 91,
    "start_time": "2022-11-28T15:06:10.745Z"
   },
   {
    "duration": 3,
    "start_time": "2022-11-28T15:06:10.838Z"
   },
   {
    "duration": 8,
    "start_time": "2022-11-28T15:06:10.843Z"
   },
   {
    "duration": 27,
    "start_time": "2022-11-28T15:06:10.853Z"
   },
   {
    "duration": 7,
    "start_time": "2022-11-28T15:06:10.883Z"
   },
   {
    "duration": 22,
    "start_time": "2022-11-28T15:06:10.892Z"
   },
   {
    "duration": 8,
    "start_time": "2022-11-28T15:06:10.916Z"
   },
   {
    "duration": 15,
    "start_time": "2022-11-28T15:06:10.926Z"
   },
   {
    "duration": 56,
    "start_time": "2022-11-28T15:06:10.943Z"
   },
   {
    "duration": 11,
    "start_time": "2022-11-28T15:06:11.003Z"
   },
   {
    "duration": 171,
    "start_time": "2022-11-28T15:06:11.016Z"
   },
   {
    "duration": 0,
    "start_time": "2022-11-28T15:06:11.190Z"
   },
   {
    "duration": 0,
    "start_time": "2022-11-28T15:06:11.191Z"
   },
   {
    "duration": 0,
    "start_time": "2022-11-28T15:06:11.192Z"
   },
   {
    "duration": 0,
    "start_time": "2022-11-28T15:06:11.194Z"
   },
   {
    "duration": 0,
    "start_time": "2022-11-28T15:06:11.195Z"
   },
   {
    "duration": 0,
    "start_time": "2022-11-28T15:06:11.196Z"
   },
   {
    "duration": 0,
    "start_time": "2022-11-28T15:06:11.198Z"
   },
   {
    "duration": 0,
    "start_time": "2022-11-28T15:06:11.200Z"
   },
   {
    "duration": 0,
    "start_time": "2022-11-28T15:06:11.202Z"
   },
   {
    "duration": 0,
    "start_time": "2022-11-28T15:06:11.203Z"
   },
   {
    "duration": 0,
    "start_time": "2022-11-28T15:06:11.205Z"
   },
   {
    "duration": 0,
    "start_time": "2022-11-28T15:06:11.206Z"
   },
   {
    "duration": 0,
    "start_time": "2022-11-28T15:06:11.208Z"
   },
   {
    "duration": 0,
    "start_time": "2022-11-28T15:06:11.209Z"
   },
   {
    "duration": 0,
    "start_time": "2022-11-28T15:06:11.210Z"
   },
   {
    "duration": 0,
    "start_time": "2022-11-28T15:06:11.211Z"
   },
   {
    "duration": 0,
    "start_time": "2022-11-28T15:06:11.212Z"
   },
   {
    "duration": 0,
    "start_time": "2022-11-28T15:06:11.213Z"
   },
   {
    "duration": 0,
    "start_time": "2022-11-28T15:06:11.215Z"
   },
   {
    "duration": 0,
    "start_time": "2022-11-28T15:06:11.216Z"
   },
   {
    "duration": 0,
    "start_time": "2022-11-28T15:06:11.217Z"
   },
   {
    "duration": 0,
    "start_time": "2022-11-28T15:06:11.218Z"
   },
   {
    "duration": 0,
    "start_time": "2022-11-28T15:06:11.220Z"
   },
   {
    "duration": 0,
    "start_time": "2022-11-28T15:06:11.222Z"
   },
   {
    "duration": 1598,
    "start_time": "2022-11-28T15:10:57.056Z"
   },
   {
    "duration": 3,
    "start_time": "2022-11-28T15:10:58.656Z"
   },
   {
    "duration": 2315,
    "start_time": "2022-11-28T15:10:58.661Z"
   },
   {
    "duration": 85,
    "start_time": "2022-11-28T15:11:00.980Z"
   },
   {
    "duration": 51,
    "start_time": "2022-11-28T15:11:01.078Z"
   },
   {
    "duration": 23,
    "start_time": "2022-11-28T15:11:01.132Z"
   },
   {
    "duration": 23,
    "start_time": "2022-11-28T15:11:01.156Z"
   },
   {
    "duration": 57,
    "start_time": "2022-11-28T15:11:01.183Z"
   },
   {
    "duration": 15,
    "start_time": "2022-11-28T15:11:01.241Z"
   },
   {
    "duration": 12,
    "start_time": "2022-11-28T15:11:01.258Z"
   },
   {
    "duration": 21,
    "start_time": "2022-11-28T15:11:01.280Z"
   },
   {
    "duration": 11,
    "start_time": "2022-11-28T15:11:01.304Z"
   },
   {
    "duration": 24,
    "start_time": "2022-11-28T15:11:01.316Z"
   },
   {
    "duration": 23,
    "start_time": "2022-11-28T15:11:01.342Z"
   },
   {
    "duration": 33618,
    "start_time": "2022-11-28T15:11:01.367Z"
   },
   {
    "duration": 1221,
    "start_time": "2022-11-28T15:11:34.988Z"
   },
   {
    "duration": 208,
    "start_time": "2022-11-28T15:11:36.210Z"
   },
   {
    "duration": 6,
    "start_time": "2022-11-28T15:11:36.420Z"
   },
   {
    "duration": 88,
    "start_time": "2022-11-28T15:11:36.428Z"
   },
   {
    "duration": 3,
    "start_time": "2022-11-28T15:11:36.517Z"
   },
   {
    "duration": 12,
    "start_time": "2022-11-28T15:11:36.522Z"
   },
   {
    "duration": 14,
    "start_time": "2022-11-28T15:11:36.536Z"
   },
   {
    "duration": 9,
    "start_time": "2022-11-28T15:11:36.562Z"
   },
   {
    "duration": 11,
    "start_time": "2022-11-28T15:11:36.580Z"
   },
   {
    "duration": 26,
    "start_time": "2022-11-28T15:11:36.594Z"
   },
   {
    "duration": 13,
    "start_time": "2022-11-28T15:11:36.622Z"
   },
   {
    "duration": 17,
    "start_time": "2022-11-28T15:11:36.637Z"
   },
   {
    "duration": 1113241,
    "start_time": "2022-11-28T15:11:36.660Z"
   },
   {
    "duration": 65,
    "start_time": "2022-11-28T15:30:09.915Z"
   },
   {
    "duration": 403,
    "start_time": "2022-11-28T15:30:09.983Z"
   },
   {
    "duration": 18,
    "start_time": "2022-11-28T15:30:10.388Z"
   },
   {
    "duration": 182926,
    "start_time": "2022-11-28T15:30:10.408Z"
   },
   {
    "duration": 3177,
    "start_time": "2022-11-28T15:33:13.335Z"
   },
   {
    "duration": 38,
    "start_time": "2022-11-28T15:33:16.514Z"
   },
   {
    "duration": 136,
    "start_time": "2022-11-28T15:33:16.554Z"
   },
   {
    "duration": 114227,
    "start_time": "2022-11-28T15:33:16.692Z"
   },
   {
    "duration": 50641,
    "start_time": "2022-11-28T15:35:10.920Z"
   },
   {
    "duration": 2994,
    "start_time": "2022-11-28T15:36:01.563Z"
   },
   {
    "duration": 64,
    "start_time": "2022-11-28T15:36:04.559Z"
   },
   {
    "duration": 38,
    "start_time": "2022-11-28T15:36:04.625Z"
   },
   {
    "duration": 405,
    "start_time": "2022-11-28T15:36:04.679Z"
   },
   {
    "duration": 231891,
    "start_time": "2022-11-28T15:36:05.087Z"
   },
   {
    "duration": 53151,
    "start_time": "2022-11-28T15:39:56.980Z"
   },
   {
    "duration": 3946,
    "start_time": "2022-11-28T15:40:50.133Z"
   },
   {
    "duration": 62,
    "start_time": "2022-11-28T15:40:54.081Z"
   },
   {
    "duration": 56,
    "start_time": "2022-11-28T15:40:54.145Z"
   },
   {
    "duration": 283,
    "start_time": "2022-11-28T15:40:54.203Z"
   },
   {
    "duration": 69570,
    "start_time": "2022-11-28T15:40:54.487Z"
   },
   {
    "duration": 54367,
    "start_time": "2022-11-28T15:42:04.059Z"
   },
   {
    "duration": 978,
    "start_time": "2022-11-28T15:42:58.427Z"
   },
   {
    "duration": 2303,
    "start_time": "2022-11-28T15:42:59.407Z"
   },
   {
    "duration": 305,
    "start_time": "2022-11-28T15:43:01.712Z"
   },
   {
    "duration": 294,
    "start_time": "2022-11-28T15:43:02.019Z"
   },
   {
    "duration": 3261,
    "start_time": "2022-11-29T03:36:02.283Z"
   },
   {
    "duration": 3,
    "start_time": "2022-11-29T03:36:05.546Z"
   },
   {
    "duration": 2986,
    "start_time": "2022-11-29T03:36:05.551Z"
   },
   {
    "duration": 147,
    "start_time": "2022-11-29T03:36:08.540Z"
   },
   {
    "duration": 81,
    "start_time": "2022-11-29T03:36:08.688Z"
   },
   {
    "duration": 20,
    "start_time": "2022-11-29T03:36:08.770Z"
   },
   {
    "duration": 14,
    "start_time": "2022-11-29T03:36:08.792Z"
   },
   {
    "duration": 47,
    "start_time": "2022-11-29T03:36:08.807Z"
   },
   {
    "duration": 15,
    "start_time": "2022-11-29T03:36:08.856Z"
   },
   {
    "duration": 8,
    "start_time": "2022-11-29T03:36:08.873Z"
   },
   {
    "duration": 22,
    "start_time": "2022-11-29T03:36:08.883Z"
   },
   {
    "duration": 31,
    "start_time": "2022-11-29T03:36:08.907Z"
   },
   {
    "duration": 12,
    "start_time": "2022-11-29T03:36:08.939Z"
   },
   {
    "duration": 16,
    "start_time": "2022-11-29T03:36:08.952Z"
   },
   {
    "duration": 30356,
    "start_time": "2022-11-29T03:36:08.969Z"
   },
   {
    "duration": 986,
    "start_time": "2022-11-29T03:36:39.327Z"
   },
   {
    "duration": 128,
    "start_time": "2022-11-29T03:36:40.315Z"
   },
   {
    "duration": 6,
    "start_time": "2022-11-29T03:36:40.445Z"
   },
   {
    "duration": 67,
    "start_time": "2022-11-29T03:36:40.453Z"
   },
   {
    "duration": 13,
    "start_time": "2022-11-29T03:36:40.522Z"
   },
   {
    "duration": 17,
    "start_time": "2022-11-29T03:36:40.537Z"
   },
   {
    "duration": 14,
    "start_time": "2022-11-29T03:36:40.556Z"
   },
   {
    "duration": 19,
    "start_time": "2022-11-29T03:36:40.571Z"
   },
   {
    "duration": 37,
    "start_time": "2022-11-29T03:36:40.591Z"
   },
   {
    "duration": 15,
    "start_time": "2022-11-29T03:36:40.629Z"
   },
   {
    "duration": 29,
    "start_time": "2022-11-29T03:36:40.646Z"
   },
   {
    "duration": 17,
    "start_time": "2022-11-29T03:36:40.676Z"
   },
   {
    "duration": 746848,
    "start_time": "2022-11-29T03:36:40.698Z"
   },
   {
    "duration": 90,
    "start_time": "2022-11-29T03:49:07.548Z"
   },
   {
    "duration": 303,
    "start_time": "2022-11-29T03:49:07.640Z"
   },
   {
    "duration": 10,
    "start_time": "2022-11-29T03:49:07.945Z"
   },
   {
    "duration": 180840,
    "start_time": "2022-11-29T03:49:08.035Z"
   },
   {
    "duration": 3083,
    "start_time": "2022-11-29T03:52:08.876Z"
   },
   {
    "duration": 41,
    "start_time": "2022-11-29T03:52:11.961Z"
   },
   {
    "duration": 233,
    "start_time": "2022-11-29T03:52:12.004Z"
   },
   {
    "duration": 117036,
    "start_time": "2022-11-29T03:52:12.239Z"
   },
   {
    "duration": 51830,
    "start_time": "2022-11-29T03:54:09.277Z"
   },
   {
    "duration": 2939,
    "start_time": "2022-11-29T03:55:01.109Z"
   },
   {
    "duration": 38,
    "start_time": "2022-11-29T03:55:04.050Z"
   },
   {
    "duration": 25,
    "start_time": "2022-11-29T03:55:04.090Z"
   },
   {
    "duration": 307,
    "start_time": "2022-11-29T03:55:04.135Z"
   },
   {
    "duration": 242072,
    "start_time": "2022-11-29T03:55:04.444Z"
   },
   {
    "duration": 54579,
    "start_time": "2022-11-29T03:59:06.518Z"
   },
   {
    "duration": 3938,
    "start_time": "2022-11-29T04:00:01.098Z"
   },
   {
    "duration": 43,
    "start_time": "2022-11-29T04:00:05.038Z"
   },
   {
    "duration": 26,
    "start_time": "2022-11-29T04:00:05.083Z"
   },
   {
    "duration": 233,
    "start_time": "2022-11-29T04:00:05.110Z"
   },
   {
    "duration": 71571,
    "start_time": "2022-11-29T04:00:05.345Z"
   },
   {
    "duration": 55373,
    "start_time": "2022-11-29T04:01:16.917Z"
   },
   {
    "duration": 1073,
    "start_time": "2022-11-29T04:02:12.291Z"
   },
   {
    "duration": 2300,
    "start_time": "2022-11-29T04:02:13.366Z"
   },
   {
    "duration": 294,
    "start_time": "2022-11-29T04:02:15.668Z"
   },
   {
    "duration": 282,
    "start_time": "2022-11-29T04:02:15.964Z"
   },
   {
    "duration": 5,
    "start_time": "2022-11-29T06:41:32.615Z"
   },
   {
    "duration": 23,
    "start_time": "2022-11-29T06:41:32.622Z"
   },
   {
    "duration": 2149,
    "start_time": "2022-11-29T06:41:32.648Z"
   },
   {
    "duration": 3,
    "start_time": "2022-11-29T06:41:34.800Z"
   },
   {
    "duration": 54,
    "start_time": "2022-11-29T06:41:34.805Z"
   },
   {
    "duration": 15,
    "start_time": "2022-11-29T06:41:34.861Z"
   },
   {
    "duration": 23,
    "start_time": "2022-11-29T06:41:34.877Z"
   },
   {
    "duration": 42,
    "start_time": "2022-11-29T06:41:34.901Z"
   },
   {
    "duration": 16,
    "start_time": "2022-11-29T06:41:34.945Z"
   },
   {
    "duration": 11,
    "start_time": "2022-11-29T06:41:34.963Z"
   },
   {
    "duration": 17,
    "start_time": "2022-11-29T06:41:34.977Z"
   },
   {
    "duration": 5,
    "start_time": "2022-11-29T06:41:34.996Z"
   },
   {
    "duration": 37,
    "start_time": "2022-11-29T06:41:35.002Z"
   },
   {
    "duration": 17,
    "start_time": "2022-11-29T06:41:35.041Z"
   },
   {
    "duration": 30691,
    "start_time": "2022-11-29T06:41:35.060Z"
   },
   {
    "duration": 1076,
    "start_time": "2022-11-29T06:42:05.753Z"
   },
   {
    "duration": 137,
    "start_time": "2022-11-29T06:42:06.830Z"
   },
   {
    "duration": 6,
    "start_time": "2022-11-29T06:42:06.969Z"
   },
   {
    "duration": 84,
    "start_time": "2022-11-29T06:42:06.977Z"
   },
   {
    "duration": 1595,
    "start_time": "2022-11-30T07:33:54.626Z"
   },
   {
    "duration": 4,
    "start_time": "2022-11-30T07:33:56.223Z"
   },
   {
    "duration": 2758,
    "start_time": "2022-11-30T07:33:56.229Z"
   },
   {
    "duration": 67,
    "start_time": "2022-11-30T07:33:58.990Z"
   },
   {
    "duration": 78,
    "start_time": "2022-11-30T07:33:59.059Z"
   },
   {
    "duration": 19,
    "start_time": "2022-11-30T07:33:59.139Z"
   },
   {
    "duration": 13,
    "start_time": "2022-11-30T07:33:59.159Z"
   },
   {
    "duration": 39,
    "start_time": "2022-11-30T07:33:59.173Z"
   },
   {
    "duration": 14,
    "start_time": "2022-11-30T07:34:00.238Z"
   },
   {
    "duration": 8,
    "start_time": "2022-11-30T07:34:01.006Z"
   },
   {
    "duration": 17,
    "start_time": "2022-11-30T07:34:02.205Z"
   },
   {
    "duration": 5,
    "start_time": "2022-11-30T07:34:03.288Z"
   },
   {
    "duration": 9,
    "start_time": "2022-11-30T07:34:04.526Z"
   },
   {
    "duration": 13,
    "start_time": "2022-11-30T07:34:06.982Z"
   },
   {
    "duration": 31222,
    "start_time": "2022-11-30T07:34:11.179Z"
   },
   {
    "duration": 970,
    "start_time": "2022-11-30T07:34:42.404Z"
   },
   {
    "duration": 131,
    "start_time": "2022-11-30T07:34:43.376Z"
   },
   {
    "duration": 6,
    "start_time": "2022-11-30T07:34:43.509Z"
   },
   {
    "duration": 7,
    "start_time": "2022-11-30T07:34:43.516Z"
   },
   {
    "duration": 10,
    "start_time": "2022-11-30T07:34:43.525Z"
   },
   {
    "duration": 8,
    "start_time": "2022-11-30T07:34:43.537Z"
   },
   {
    "duration": 14,
    "start_time": "2022-11-30T07:34:43.546Z"
   },
   {
    "duration": 9,
    "start_time": "2022-11-30T07:34:43.561Z"
   },
   {
    "duration": 18,
    "start_time": "2022-11-30T07:37:20.358Z"
   },
   {
    "duration": 4,
    "start_time": "2022-11-30T07:37:22.799Z"
   },
   {
    "duration": 7,
    "start_time": "2022-11-30T07:37:25.499Z"
   },
   {
    "duration": 9,
    "start_time": "2022-11-30T07:37:33.547Z"
   },
   {
    "duration": 15,
    "start_time": "2022-11-30T07:37:37.530Z"
   },
   {
    "duration": 44,
    "start_time": "2022-11-30T07:37:41.388Z"
   },
   {
    "duration": 4,
    "start_time": "2022-11-30T07:41:32.297Z"
   },
   {
    "duration": 3,
    "start_time": "2022-11-30T07:41:33.015Z"
   },
   {
    "duration": 2143,
    "start_time": "2022-11-30T07:41:33.517Z"
   },
   {
    "duration": 4,
    "start_time": "2022-11-30T07:41:35.663Z"
   },
   {
    "duration": 45,
    "start_time": "2022-11-30T07:41:35.669Z"
   },
   {
    "duration": 18,
    "start_time": "2022-11-30T07:41:35.716Z"
   },
   {
    "duration": 20,
    "start_time": "2022-11-30T07:41:36.617Z"
   },
   {
    "duration": 62,
    "start_time": "2022-11-30T07:41:36.866Z"
   },
   {
    "duration": 21,
    "start_time": "2022-11-30T07:41:37.935Z"
   },
   {
    "duration": 10,
    "start_time": "2022-11-30T07:41:39.082Z"
   },
   {
    "duration": 25,
    "start_time": "2022-11-30T07:41:40.456Z"
   },
   {
    "duration": 6,
    "start_time": "2022-11-30T07:41:47.746Z"
   },
   {
    "duration": 10,
    "start_time": "2022-11-30T07:41:49.033Z"
   },
   {
    "duration": 11,
    "start_time": "2022-11-30T07:41:50.787Z"
   },
   {
    "duration": 31931,
    "start_time": "2022-11-30T07:41:52.470Z"
   },
   {
    "duration": 1229,
    "start_time": "2022-11-30T07:42:24.403Z"
   },
   {
    "duration": 3,
    "start_time": "2022-11-30T07:43:58.801Z"
   },
   {
    "duration": 5,
    "start_time": "2022-11-30T07:43:59.290Z"
   },
   {
    "duration": 13,
    "start_time": "2022-11-30T07:43:59.701Z"
   },
   {
    "duration": 6,
    "start_time": "2022-11-30T07:44:00.155Z"
   },
   {
    "duration": 6,
    "start_time": "2022-11-30T07:44:00.903Z"
   },
   {
    "duration": 9,
    "start_time": "2022-11-30T07:44:07.502Z"
   },
   {
    "duration": 9,
    "start_time": "2022-11-30T07:44:20.211Z"
   },
   {
    "duration": 15,
    "start_time": "2022-11-30T07:44:21.708Z"
   },
   {
    "duration": 135,
    "start_time": "2022-11-30T07:45:18.002Z"
   },
   {
    "duration": 16,
    "start_time": "2022-11-30T07:45:30.584Z"
   },
   {
    "duration": 38,
    "start_time": "2022-11-30T07:45:36.084Z"
   },
   {
    "duration": 19,
    "start_time": "2022-11-30T07:49:38.488Z"
   },
   {
    "duration": 24,
    "start_time": "2022-11-30T07:49:48.194Z"
   },
   {
    "duration": 37,
    "start_time": "2022-11-30T07:50:06.302Z"
   },
   {
    "duration": 20,
    "start_time": "2022-11-30T07:50:13.439Z"
   },
   {
    "duration": 23,
    "start_time": "2022-11-30T07:50:33.793Z"
   },
   {
    "duration": 23,
    "start_time": "2022-11-30T07:51:18.260Z"
   },
   {
    "duration": 21,
    "start_time": "2022-11-30T07:51:47.637Z"
   },
   {
    "duration": 3,
    "start_time": "2022-11-30T07:51:55.238Z"
   },
   {
    "duration": 4,
    "start_time": "2022-11-30T07:51:55.653Z"
   },
   {
    "duration": 10,
    "start_time": "2022-11-30T07:51:56.223Z"
   },
   {
    "duration": 5,
    "start_time": "2022-11-30T07:51:56.895Z"
   },
   {
    "duration": 4,
    "start_time": "2022-11-30T07:51:57.633Z"
   },
   {
    "duration": 7,
    "start_time": "2022-11-30T07:52:04.336Z"
   },
   {
    "duration": 9,
    "start_time": "2022-11-30T07:52:06.384Z"
   },
   {
    "duration": 23,
    "start_time": "2022-11-30T07:52:14.690Z"
   },
   {
    "duration": 33,
    "start_time": "2022-11-30T07:52:21.631Z"
   },
   {
    "duration": 2,
    "start_time": "2022-11-30T07:52:36.627Z"
   },
   {
    "duration": 4,
    "start_time": "2022-11-30T07:52:36.928Z"
   },
   {
    "duration": 9,
    "start_time": "2022-11-30T07:52:37.401Z"
   },
   {
    "duration": 4,
    "start_time": "2022-11-30T07:52:39.517Z"
   },
   {
    "duration": 19,
    "start_time": "2022-11-30T07:52:57.929Z"
   },
   {
    "duration": 54,
    "start_time": "2022-11-30T07:53:50.345Z"
   },
   {
    "duration": 29,
    "start_time": "2022-11-30T07:54:15.944Z"
   },
   {
    "duration": 21,
    "start_time": "2022-11-30T07:54:42.236Z"
   },
   {
    "duration": 30,
    "start_time": "2022-11-30T07:54:46.122Z"
   },
   {
    "duration": 23,
    "start_time": "2022-11-30T07:56:14.018Z"
   },
   {
    "duration": 24,
    "start_time": "2022-11-30T07:56:21.482Z"
   },
   {
    "duration": 28,
    "start_time": "2022-11-30T07:56:25.949Z"
   },
   {
    "duration": 15,
    "start_time": "2022-11-30T07:57:42.824Z"
   },
   {
    "duration": 21,
    "start_time": "2022-11-30T07:57:49.439Z"
   },
   {
    "duration": 15,
    "start_time": "2022-11-30T08:02:18.846Z"
   },
   {
    "duration": 28,
    "start_time": "2022-11-30T08:02:28.685Z"
   },
   {
    "duration": 3,
    "start_time": "2022-11-30T08:06:39.736Z"
   },
   {
    "duration": 4,
    "start_time": "2022-11-30T08:06:40.331Z"
   },
   {
    "duration": 8,
    "start_time": "2022-11-30T08:06:40.955Z"
   },
   {
    "duration": 5,
    "start_time": "2022-11-30T08:06:41.741Z"
   },
   {
    "duration": 13,
    "start_time": "2022-11-30T08:06:44.636Z"
   },
   {
    "duration": 22,
    "start_time": "2022-11-30T08:07:35.197Z"
   },
   {
    "duration": 21,
    "start_time": "2022-11-30T08:07:47.215Z"
   },
   {
    "duration": 13,
    "start_time": "2022-11-30T08:08:10.394Z"
   },
   {
    "duration": 15,
    "start_time": "2022-11-30T08:08:57.872Z"
   },
   {
    "duration": 3,
    "start_time": "2022-11-30T08:09:13.003Z"
   },
   {
    "duration": 4,
    "start_time": "2022-11-30T08:09:13.343Z"
   },
   {
    "duration": 11,
    "start_time": "2022-11-30T08:09:13.607Z"
   },
   {
    "duration": 5,
    "start_time": "2022-11-30T08:09:13.982Z"
   },
   {
    "duration": 15,
    "start_time": "2022-11-30T08:09:14.838Z"
   },
   {
    "duration": 12,
    "start_time": "2022-11-30T08:09:15.841Z"
   },
   {
    "duration": 21,
    "start_time": "2022-11-30T08:09:16.853Z"
   },
   {
    "duration": 27,
    "start_time": "2022-11-30T08:09:19.767Z"
   },
   {
    "duration": 1489,
    "start_time": "2022-11-30T09:37:18.660Z"
   },
   {
    "duration": 2,
    "start_time": "2022-11-30T09:37:22.277Z"
   },
   {
    "duration": 2045,
    "start_time": "2022-11-30T09:37:22.875Z"
   },
   {
    "duration": 67,
    "start_time": "2022-11-30T09:37:24.922Z"
   },
   {
    "duration": 42,
    "start_time": "2022-11-30T09:37:24.991Z"
   },
   {
    "duration": 19,
    "start_time": "2022-11-30T09:37:25.036Z"
   },
   {
    "duration": 15,
    "start_time": "2022-11-30T09:37:25.057Z"
   },
   {
    "duration": 39,
    "start_time": "2022-11-30T09:37:25.549Z"
   },
   {
    "duration": 18,
    "start_time": "2022-11-30T09:37:26.148Z"
   },
   {
    "duration": 8,
    "start_time": "2022-11-30T09:37:26.768Z"
   },
   {
    "duration": 18,
    "start_time": "2022-11-30T09:37:27.886Z"
   },
   {
    "duration": 5,
    "start_time": "2022-11-30T09:37:28.570Z"
   },
   {
    "duration": 7,
    "start_time": "2022-11-30T09:37:29.082Z"
   },
   {
    "duration": 12,
    "start_time": "2022-11-30T09:37:30.544Z"
   },
   {
    "duration": 31778,
    "start_time": "2022-11-30T09:37:31.476Z"
   },
   {
    "duration": 1056,
    "start_time": "2022-11-30T09:38:03.256Z"
   },
   {
    "duration": 121,
    "start_time": "2022-11-30T09:38:35.575Z"
   },
   {
    "duration": 5,
    "start_time": "2022-11-30T09:38:36.409Z"
   },
   {
    "duration": 3,
    "start_time": "2022-11-30T09:38:44.575Z"
   },
   {
    "duration": 4,
    "start_time": "2022-11-30T09:38:47.935Z"
   },
   {
    "duration": 4,
    "start_time": "2022-11-30T09:38:48.155Z"
   },
   {
    "duration": 10,
    "start_time": "2022-11-30T09:38:48.741Z"
   },
   {
    "duration": 5,
    "start_time": "2022-11-30T09:38:49.241Z"
   },
   {
    "duration": 16,
    "start_time": "2022-11-30T09:38:52.649Z"
   },
   {
    "duration": 11,
    "start_time": "2022-11-30T09:38:53.499Z"
   },
   {
    "duration": 21,
    "start_time": "2022-11-30T09:38:56.826Z"
   },
   {
    "duration": 20,
    "start_time": "2022-11-30T09:38:57.383Z"
   },
   {
    "duration": 122,
    "start_time": "2022-11-30T09:39:29.171Z"
   },
   {
    "duration": 4,
    "start_time": "2022-11-30T09:40:54.243Z"
   },
   {
    "duration": 14,
    "start_time": "2022-11-30T09:42:19.646Z"
   },
   {
    "duration": 31,
    "start_time": "2022-11-30T09:42:27.023Z"
   },
   {
    "duration": 30,
    "start_time": "2022-11-30T09:43:17.769Z"
   },
   {
    "duration": 3,
    "start_time": "2022-11-30T09:43:27.103Z"
   },
   {
    "duration": 4,
    "start_time": "2022-11-30T09:43:28.728Z"
   },
   {
    "duration": 8,
    "start_time": "2022-11-30T09:43:29.220Z"
   },
   {
    "duration": 4,
    "start_time": "2022-11-30T09:43:30.384Z"
   },
   {
    "duration": 15,
    "start_time": "2022-11-30T09:45:18.978Z"
   },
   {
    "duration": 11,
    "start_time": "2022-11-30T09:45:41.535Z"
   },
   {
    "duration": 22,
    "start_time": "2022-11-30T09:45:43.057Z"
   },
   {
    "duration": 22,
    "start_time": "2022-11-30T09:45:47.745Z"
   },
   {
    "duration": 46,
    "start_time": "2022-11-30T09:46:19.216Z"
   },
   {
    "duration": 736512,
    "start_time": "2022-11-30T09:49:21.498Z"
   },
   {
    "duration": 758605,
    "start_time": "2022-11-30T10:09:51.376Z"
   },
   {
    "duration": 1978583,
    "start_time": "2022-11-30T10:25:50.835Z"
   },
   {
    "duration": 16,
    "start_time": "2022-11-30T11:05:19.653Z"
   },
   {
    "duration": 1135,
    "start_time": "2022-11-30T11:07:30.459Z"
   },
   {
    "duration": 1355,
    "start_time": "2022-11-30T11:08:00.821Z"
   },
   {
    "duration": 1532425,
    "start_time": "2022-11-30T11:12:34.057Z"
   },
   {
    "duration": 4,
    "start_time": "2022-11-30T11:41:50.349Z"
   },
   {
    "duration": 26,
    "start_time": "2022-11-30T11:42:18.560Z"
   },
   {
    "duration": 5,
    "start_time": "2022-11-30T11:44:20.508Z"
   },
   {
    "duration": 23,
    "start_time": "2022-11-30T11:44:31.285Z"
   },
   {
    "duration": 3,
    "start_time": "2022-11-30T11:44:49.621Z"
   },
   {
    "duration": 9,
    "start_time": "2022-11-30T11:44:49.968Z"
   },
   {
    "duration": 11,
    "start_time": "2022-11-30T11:44:50.407Z"
   },
   {
    "duration": 4,
    "start_time": "2022-11-30T11:44:50.722Z"
   },
   {
    "duration": 15,
    "start_time": "2022-11-30T11:44:51.157Z"
   },
   {
    "duration": 13,
    "start_time": "2022-11-30T11:44:53.566Z"
   },
   {
    "duration": 22,
    "start_time": "2022-11-30T11:44:55.559Z"
   },
   {
    "duration": 33,
    "start_time": "2022-11-30T11:44:56.484Z"
   },
   {
    "duration": 45,
    "start_time": "2022-11-30T11:45:03.383Z"
   },
   {
    "duration": 21,
    "start_time": "2022-11-30T11:45:18.786Z"
   },
   {
    "duration": 40,
    "start_time": "2022-11-30T11:45:42.282Z"
   },
   {
    "duration": 25,
    "start_time": "2022-11-30T11:45:53.334Z"
   },
   {
    "duration": 28,
    "start_time": "2022-11-30T11:46:00.352Z"
   },
   {
    "duration": 30,
    "start_time": "2022-11-30T11:46:26.774Z"
   },
   {
    "duration": 35,
    "start_time": "2022-11-30T11:46:34.192Z"
   },
   {
    "duration": 39,
    "start_time": "2022-11-30T11:46:40.579Z"
   },
   {
    "duration": 42,
    "start_time": "2022-11-30T11:47:28.237Z"
   },
   {
    "duration": 947869,
    "start_time": "2022-11-30T11:47:43.017Z"
   },
   {
    "duration": 2177,
    "start_time": "2022-11-30T12:05:03.133Z"
   },
   {
    "duration": 26,
    "start_time": "2022-11-30T12:05:55.704Z"
   },
   {
    "duration": 343467,
    "start_time": "2022-11-30T12:07:20.811Z"
   },
   {
    "duration": 813,
    "start_time": "2022-11-30T12:19:05.631Z"
   },
   {
    "duration": 12,
    "start_time": "2022-11-30T12:20:12.097Z"
   },
   {
    "duration": 2155,
    "start_time": "2022-11-30T12:20:16.733Z"
   },
   {
    "duration": 6,
    "start_time": "2022-11-30T12:23:11.273Z"
   },
   {
    "duration": 9,
    "start_time": "2022-11-30T12:23:13.139Z"
   },
   {
    "duration": 4,
    "start_time": "2022-11-30T12:23:13.821Z"
   },
   {
    "duration": 5,
    "start_time": "2022-11-30T12:24:06.188Z"
   },
   {
    "duration": 4,
    "start_time": "2022-11-30T12:24:07.522Z"
   },
   {
    "duration": 19,
    "start_time": "2022-11-30T12:24:08.449Z"
   },
   {
    "duration": 14,
    "start_time": "2022-11-30T12:24:29.346Z"
   },
   {
    "duration": 15,
    "start_time": "2022-11-30T12:24:29.912Z"
   },
   {
    "duration": 5,
    "start_time": "2022-11-30T12:24:41.173Z"
   },
   {
    "duration": 14,
    "start_time": "2022-11-30T12:24:42.194Z"
   },
   {
    "duration": 4,
    "start_time": "2022-11-30T12:24:42.645Z"
   },
   {
    "duration": 5,
    "start_time": "2022-11-30T12:24:42.989Z"
   },
   {
    "duration": 16,
    "start_time": "2022-11-30T12:24:43.356Z"
   },
   {
    "duration": 41,
    "start_time": "2022-11-30T12:25:43.283Z"
   },
   {
    "duration": 15,
    "start_time": "2022-11-30T12:25:44.270Z"
   },
   {
    "duration": 3,
    "start_time": "2022-11-30T12:25:51.865Z"
   },
   {
    "duration": 5,
    "start_time": "2022-11-30T12:25:53.307Z"
   },
   {
    "duration": 9,
    "start_time": "2022-11-30T12:25:54.180Z"
   },
   {
    "duration": 5,
    "start_time": "2022-11-30T12:25:54.702Z"
   },
   {
    "duration": 5,
    "start_time": "2022-11-30T12:25:56.090Z"
   },
   {
    "duration": 16,
    "start_time": "2022-11-30T12:25:56.883Z"
   },
   {
    "duration": 11,
    "start_time": "2022-11-30T12:25:59.887Z"
   },
   {
    "duration": 20,
    "start_time": "2022-11-30T12:26:04.013Z"
   },
   {
    "duration": 25,
    "start_time": "2022-11-30T12:26:04.966Z"
   },
   {
    "duration": 54,
    "start_time": "2022-11-30T12:27:05.265Z"
   },
   {
    "duration": 2001,
    "start_time": "2022-11-30T12:27:12.713Z"
   },
   {
    "duration": 29,
    "start_time": "2022-11-30T12:27:47.619Z"
   },
   {
    "duration": 21,
    "start_time": "2022-11-30T12:27:52.875Z"
   },
   {
    "duration": 20,
    "start_time": "2022-11-30T12:28:23.886Z"
   },
   {
    "duration": 28,
    "start_time": "2022-11-30T12:40:17.255Z"
   },
   {
    "duration": 4,
    "start_time": "2022-11-30T12:41:23.418Z"
   },
   {
    "duration": 39,
    "start_time": "2022-11-30T12:41:34.482Z"
   },
   {
    "duration": 16,
    "start_time": "2022-11-30T12:41:35.243Z"
   },
   {
    "duration": 3,
    "start_time": "2022-11-30T12:41:41.293Z"
   },
   {
    "duration": 5,
    "start_time": "2022-11-30T12:41:41.744Z"
   },
   {
    "duration": 8,
    "start_time": "2022-11-30T12:41:42.347Z"
   },
   {
    "duration": 5,
    "start_time": "2022-11-30T12:41:43.112Z"
   },
   {
    "duration": 16,
    "start_time": "2022-11-30T12:41:44.579Z"
   },
   {
    "duration": 12,
    "start_time": "2022-11-30T12:41:45.082Z"
   },
   {
    "duration": 27,
    "start_time": "2022-11-30T12:41:46.363Z"
   },
   {
    "duration": 22,
    "start_time": "2022-11-30T12:41:47.712Z"
   },
   {
    "duration": 40,
    "start_time": "2022-11-30T12:41:51.681Z"
   },
   {
    "duration": 19,
    "start_time": "2022-11-30T12:42:01.121Z"
   },
   {
    "duration": 28,
    "start_time": "2022-11-30T12:42:08.791Z"
   },
   {
    "duration": 20,
    "start_time": "2022-11-30T12:42:19.741Z"
   },
   {
    "duration": 5,
    "start_time": "2022-11-30T12:43:52.469Z"
   },
   {
    "duration": 44,
    "start_time": "2022-11-30T12:43:56.213Z"
   },
   {
    "duration": 15,
    "start_time": "2022-11-30T12:43:56.675Z"
   },
   {
    "duration": 13,
    "start_time": "2022-11-30T12:43:58.334Z"
   },
   {
    "duration": 41,
    "start_time": "2022-11-30T12:43:58.626Z"
   },
   {
    "duration": 15,
    "start_time": "2022-11-30T12:43:59.687Z"
   },
   {
    "duration": 8,
    "start_time": "2022-11-30T12:44:00.772Z"
   },
   {
    "duration": 17,
    "start_time": "2022-11-30T12:44:01.606Z"
   },
   {
    "duration": 4,
    "start_time": "2022-11-30T12:44:02.909Z"
   },
   {
    "duration": 8,
    "start_time": "2022-11-30T12:44:03.352Z"
   },
   {
    "duration": 13,
    "start_time": "2022-11-30T12:44:06.523Z"
   },
   {
    "duration": 124,
    "start_time": "2022-11-30T12:44:13.218Z"
   },
   {
    "duration": 6,
    "start_time": "2022-11-30T12:44:15.634Z"
   },
   {
    "duration": 2,
    "start_time": "2022-11-30T12:44:17.019Z"
   },
   {
    "duration": 2,
    "start_time": "2022-11-30T12:44:20.713Z"
   },
   {
    "duration": 5,
    "start_time": "2022-11-30T12:44:21.344Z"
   },
   {
    "duration": 10,
    "start_time": "2022-11-30T12:44:21.901Z"
   },
   {
    "duration": 4,
    "start_time": "2022-11-30T12:44:22.716Z"
   },
   {
    "duration": 5,
    "start_time": "2022-11-30T12:44:58.944Z"
   },
   {
    "duration": 17,
    "start_time": "2022-11-30T12:44:59.799Z"
   },
   {
    "duration": 12,
    "start_time": "2022-11-30T12:45:00.413Z"
   },
   {
    "duration": 23,
    "start_time": "2022-11-30T12:45:02.092Z"
   },
   {
    "duration": 25,
    "start_time": "2022-11-30T12:45:03.166Z"
   },
   {
    "duration": 36,
    "start_time": "2022-11-30T12:45:07.942Z"
   },
   {
    "duration": 26,
    "start_time": "2022-11-30T12:45:22.396Z"
   },
   {
    "duration": 2315,
    "start_time": "2022-11-30T12:45:32.084Z"
   },
   {
    "duration": 15,
    "start_time": "2022-11-30T12:46:13.391Z"
   },
   {
    "duration": 25,
    "start_time": "2022-11-30T12:46:36.807Z"
   },
   {
    "duration": 1747,
    "start_time": "2022-11-30T12:46:40.457Z"
   },
   {
    "duration": 15,
    "start_time": "2022-11-30T12:47:06.578Z"
   },
   {
    "duration": 1871,
    "start_time": "2022-11-30T12:48:32.434Z"
   },
   {
    "duration": 3,
    "start_time": "2022-12-01T11:55:06.824Z"
   },
   {
    "duration": 2360,
    "start_time": "2022-12-01T11:56:17.945Z"
   },
   {
    "duration": 3,
    "start_time": "2022-12-01T11:56:20.308Z"
   },
   {
    "duration": 50,
    "start_time": "2022-12-01T11:56:20.313Z"
   },
   {
    "duration": 16,
    "start_time": "2022-12-01T11:56:20.474Z"
   },
   {
    "duration": 14,
    "start_time": "2022-12-01T11:56:21.097Z"
   },
   {
    "duration": 39,
    "start_time": "2022-12-01T11:56:21.289Z"
   },
   {
    "duration": 15,
    "start_time": "2022-12-01T11:56:21.921Z"
   },
   {
    "duration": 7,
    "start_time": "2022-12-01T11:56:23.297Z"
   },
   {
    "duration": 15,
    "start_time": "2022-12-01T11:56:24.143Z"
   },
   {
    "duration": 4,
    "start_time": "2022-12-01T11:56:24.840Z"
   },
   {
    "duration": 9,
    "start_time": "2022-12-01T11:56:25.065Z"
   },
   {
    "duration": 10,
    "start_time": "2022-12-01T11:56:25.677Z"
   },
   {
    "duration": 1599,
    "start_time": "2022-12-01T12:01:31.641Z"
   },
   {
    "duration": 2,
    "start_time": "2022-12-01T12:01:35.977Z"
   },
   {
    "duration": 2087,
    "start_time": "2022-12-01T12:01:37.131Z"
   },
   {
    "duration": 126,
    "start_time": "2022-12-01T12:01:39.220Z"
   },
   {
    "duration": 40,
    "start_time": "2022-12-01T12:01:39.463Z"
   },
   {
    "duration": 19,
    "start_time": "2022-12-01T12:01:39.741Z"
   },
   {
    "duration": 13,
    "start_time": "2022-12-01T12:01:40.317Z"
   },
   {
    "duration": 40,
    "start_time": "2022-12-01T12:01:40.579Z"
   },
   {
    "duration": 18,
    "start_time": "2022-12-01T12:01:41.080Z"
   },
   {
    "duration": 8,
    "start_time": "2022-12-01T12:01:41.498Z"
   },
   {
    "duration": 17,
    "start_time": "2022-12-01T12:01:41.790Z"
   },
   {
    "duration": 6,
    "start_time": "2022-12-01T12:01:42.491Z"
   },
   {
    "duration": 7,
    "start_time": "2022-12-01T12:01:42.783Z"
   },
   {
    "duration": 12,
    "start_time": "2022-12-01T12:01:44.289Z"
   },
   {
    "duration": 101670,
    "start_time": "2022-12-01T12:01:45.156Z"
   },
   {
    "duration": 30830,
    "start_time": "2022-12-01T12:03:26.835Z"
   },
   {
    "duration": 997,
    "start_time": "2022-12-01T12:03:57.667Z"
   },
   {
    "duration": 129,
    "start_time": "2022-12-01T12:03:58.666Z"
   },
   {
    "duration": 5,
    "start_time": "2022-12-01T12:03:58.797Z"
   },
   {
    "duration": 15,
    "start_time": "2022-12-01T12:03:58.803Z"
   },
   {
    "duration": 26,
    "start_time": "2022-12-01T12:03:58.820Z"
   },
   {
    "duration": 20,
    "start_time": "2022-12-01T12:03:58.847Z"
   },
   {
    "duration": 23,
    "start_time": "2022-12-01T12:03:58.869Z"
   },
   {
    "duration": 24,
    "start_time": "2022-12-01T12:03:58.894Z"
   },
   {
    "duration": 31,
    "start_time": "2022-12-01T12:03:58.919Z"
   },
   {
    "duration": 31,
    "start_time": "2022-12-01T12:03:58.952Z"
   },
   {
    "duration": 17,
    "start_time": "2022-12-01T12:03:58.985Z"
   },
   {
    "duration": 15,
    "start_time": "2022-12-01T12:03:59.004Z"
   },
   {
    "duration": 21,
    "start_time": "2022-12-01T12:03:59.020Z"
   },
   {
    "duration": 54,
    "start_time": "2022-12-01T12:03:59.043Z"
   },
   {
    "duration": 31,
    "start_time": "2022-12-01T12:03:59.099Z"
   },
   {
    "duration": 431575,
    "start_time": "2022-12-01T12:03:59.132Z"
   },
   {
    "duration": 30,
    "start_time": "2022-12-01T12:12:51.253Z"
   },
   {
    "duration": 323033,
    "start_time": "2022-12-01T12:13:39.944Z"
   },
   {
    "duration": 216870,
    "start_time": "2022-12-01T12:19:17.881Z"
   },
   {
    "duration": 1549,
    "start_time": "2022-12-01T15:48:55.500Z"
   },
   {
    "duration": 3,
    "start_time": "2022-12-01T15:48:57.051Z"
   },
   {
    "duration": 2608,
    "start_time": "2022-12-01T15:48:57.055Z"
   },
   {
    "duration": 61,
    "start_time": "2022-12-01T15:48:59.665Z"
   },
   {
    "duration": 86,
    "start_time": "2022-12-01T15:49:02.294Z"
   },
   {
    "duration": 18,
    "start_time": "2022-12-01T15:49:02.569Z"
   },
   {
    "duration": 14,
    "start_time": "2022-12-01T15:49:03.844Z"
   },
   {
    "duration": 54,
    "start_time": "2022-12-01T15:49:05.810Z"
   },
   {
    "duration": 16,
    "start_time": "2022-12-01T15:49:07.689Z"
   },
   {
    "duration": 11,
    "start_time": "2022-12-01T15:49:09.745Z"
   },
   {
    "duration": 22,
    "start_time": "2022-12-01T15:49:12.518Z"
   },
   {
    "duration": 6,
    "start_time": "2022-12-01T15:49:14.501Z"
   },
   {
    "duration": 9,
    "start_time": "2022-12-01T15:49:14.866Z"
   },
   {
    "duration": 11,
    "start_time": "2022-12-01T15:49:17.393Z"
   },
   {
    "duration": 90578,
    "start_time": "2022-12-01T15:49:20.309Z"
   },
   {
    "duration": 135,
    "start_time": "2022-12-01T15:50:50.889Z"
   },
   {
    "duration": 5,
    "start_time": "2022-12-01T15:50:51.025Z"
   },
   {
    "duration": 3,
    "start_time": "2022-12-01T15:50:57.162Z"
   },
   {
    "duration": 5,
    "start_time": "2022-12-01T15:50:57.566Z"
   },
   {
    "duration": 9,
    "start_time": "2022-12-01T15:50:57.989Z"
   },
   {
    "duration": 5,
    "start_time": "2022-12-01T15:50:58.549Z"
   },
   {
    "duration": 4,
    "start_time": "2022-12-01T15:50:59.177Z"
   },
   {
    "duration": 15,
    "start_time": "2022-12-01T15:50:59.697Z"
   },
   {
    "duration": 11,
    "start_time": "2022-12-01T15:51:01.307Z"
   },
   {
    "duration": 15,
    "start_time": "2022-12-01T15:51:01.611Z"
   },
   {
    "duration": 15,
    "start_time": "2022-12-01T15:51:03.087Z"
   },
   {
    "duration": 53,
    "start_time": "2022-12-01T15:51:06.731Z"
   },
   {
    "duration": 42,
    "start_time": "2022-12-01T15:51:22.749Z"
   },
   {
    "duration": 25,
    "start_time": "2022-12-01T15:51:49.679Z"
   },
   {
    "duration": 423049,
    "start_time": "2022-12-01T15:51:57.241Z"
   },
   {
    "duration": 701,
    "start_time": "2022-12-01T16:00:10.595Z"
   },
   {
    "duration": 60,
    "start_time": "2022-12-01T16:00:36.248Z"
   },
   {
    "duration": 618,
    "start_time": "2022-12-01T16:00:44.622Z"
   },
   {
    "duration": 573,
    "start_time": "2022-12-01T16:00:56.533Z"
   },
   {
    "duration": 23,
    "start_time": "2022-12-01T16:01:19.355Z"
   },
   {
    "duration": 26,
    "start_time": "2022-12-01T16:01:30.083Z"
   },
   {
    "duration": 710,
    "start_time": "2022-12-01T16:01:40.543Z"
   },
   {
    "duration": 15,
    "start_time": "2022-12-01T16:05:18.188Z"
   },
   {
    "duration": 22,
    "start_time": "2022-12-01T16:05:29.304Z"
   },
   {
    "duration": 4,
    "start_time": "2022-12-01T16:05:47.023Z"
   },
   {
    "duration": 581,
    "start_time": "2022-12-01T16:05:50.404Z"
   },
   {
    "duration": 21,
    "start_time": "2022-12-01T16:07:03.185Z"
   },
   {
    "duration": 4,
    "start_time": "2022-12-01T16:07:20.733Z"
   },
   {
    "duration": 603,
    "start_time": "2022-12-01T16:07:23.764Z"
   },
   {
    "duration": 682,
    "start_time": "2022-12-01T16:07:31.325Z"
   },
   {
    "duration": 516,
    "start_time": "2022-12-01T16:08:10.566Z"
   },
   {
    "duration": 22,
    "start_time": "2022-12-01T16:11:11.084Z"
   },
   {
    "duration": 579489,
    "start_time": "2022-12-01T16:15:08.014Z"
   },
   {
    "duration": 11,
    "start_time": "2022-12-01T16:25:33.597Z"
   },
   {
    "duration": 13,
    "start_time": "2022-12-01T16:29:17.720Z"
   },
   {
    "duration": 9,
    "start_time": "2022-12-01T16:29:24.192Z"
   },
   {
    "duration": 213054,
    "start_time": "2022-12-01T16:29:38.703Z"
   },
   {
    "duration": 472,
    "start_time": "2022-12-01T16:37:19.906Z"
   },
   {
    "duration": 890,
    "start_time": "2022-12-01T16:38:35.584Z"
   },
   {
    "duration": 580900,
    "start_time": "2022-12-01T16:43:49.191Z"
   },
   {
    "duration": 1403915,
    "start_time": "2022-12-01T16:54:33.146Z"
   },
   {
    "duration": 974,
    "start_time": "2022-12-01T17:18:51.531Z"
   },
   {
    "duration": 13,
    "start_time": "2022-12-01T17:19:01.815Z"
   },
   {
    "duration": 78,
    "start_time": "2022-12-01T17:19:41.661Z"
   },
   {
    "duration": 198,
    "start_time": "2022-12-01T17:19:46.767Z"
   },
   {
    "duration": 912046,
    "start_time": "2022-12-01T17:22:08.476Z"
   },
   {
    "duration": 20,
    "start_time": "2022-12-01T17:37:20.524Z"
   },
   {
    "duration": 47,
    "start_time": "2022-12-02T07:57:26.522Z"
   },
   {
    "duration": 1615,
    "start_time": "2022-12-02T07:57:33.467Z"
   },
   {
    "duration": 2,
    "start_time": "2022-12-02T07:57:35.084Z"
   },
   {
    "duration": 90,
    "start_time": "2022-12-02T07:57:38.268Z"
   },
   {
    "duration": 19,
    "start_time": "2022-12-02T07:57:39.091Z"
   },
   {
    "duration": 16,
    "start_time": "2022-12-02T07:57:39.698Z"
   },
   {
    "duration": 50,
    "start_time": "2022-12-02T07:57:40.292Z"
   },
   {
    "duration": 15,
    "start_time": "2022-12-02T07:57:40.882Z"
   },
   {
    "duration": 8,
    "start_time": "2022-12-02T07:57:41.224Z"
   },
   {
    "duration": 21,
    "start_time": "2022-12-02T07:57:41.547Z"
   },
   {
    "duration": 5,
    "start_time": "2022-12-02T07:57:42.885Z"
   },
   {
    "duration": 8,
    "start_time": "2022-12-02T07:57:43.554Z"
   },
   {
    "duration": 12,
    "start_time": "2022-12-02T07:57:45.518Z"
   },
   {
    "duration": 135,
    "start_time": "2022-12-02T07:57:51.974Z"
   },
   {
    "duration": 6,
    "start_time": "2022-12-02T07:57:52.529Z"
   },
   {
    "duration": 2,
    "start_time": "2022-12-02T07:57:54.590Z"
   },
   {
    "duration": 3,
    "start_time": "2022-12-02T07:57:55.700Z"
   },
   {
    "duration": 5,
    "start_time": "2022-12-02T07:57:56.343Z"
   },
   {
    "duration": 10,
    "start_time": "2022-12-02T07:57:57.794Z"
   },
   {
    "duration": 4,
    "start_time": "2022-12-02T07:57:58.082Z"
   },
   {
    "duration": 5,
    "start_time": "2022-12-02T07:57:59.072Z"
   },
   {
    "duration": 18,
    "start_time": "2022-12-02T07:57:59.602Z"
   },
   {
    "duration": 13,
    "start_time": "2022-12-02T07:58:01.590Z"
   },
   {
    "duration": 17,
    "start_time": "2022-12-02T07:58:02.057Z"
   },
   {
    "duration": 19,
    "start_time": "2022-12-02T07:58:07.097Z"
   },
   {
    "duration": 47,
    "start_time": "2022-12-02T07:58:10.184Z"
   },
   {
    "duration": 79,
    "start_time": "2022-12-02T07:58:18.024Z"
   },
   {
    "duration": 433403,
    "start_time": "2022-12-02T07:59:19.186Z"
   },
   {
    "duration": 422284,
    "start_time": "2022-12-02T08:07:08.718Z"
   },
   {
    "duration": 410119,
    "start_time": "2022-12-02T08:14:16.790Z"
   },
   {
    "duration": 3,
    "start_time": "2022-12-02T08:21:32.014Z"
   },
   {
    "duration": 4,
    "start_time": "2022-12-02T08:21:32.367Z"
   },
   {
    "duration": 9,
    "start_time": "2022-12-02T08:21:32.697Z"
   },
   {
    "duration": 4,
    "start_time": "2022-12-02T08:21:32.997Z"
   },
   {
    "duration": 4,
    "start_time": "2022-12-02T08:21:33.523Z"
   },
   {
    "duration": 15,
    "start_time": "2022-12-02T08:21:33.856Z"
   },
   {
    "duration": 11,
    "start_time": "2022-12-02T08:21:34.153Z"
   },
   {
    "duration": 15,
    "start_time": "2022-12-02T08:21:34.447Z"
   },
   {
    "duration": 16,
    "start_time": "2022-12-02T08:21:35.167Z"
   },
   {
    "duration": 56,
    "start_time": "2022-12-02T08:21:36.065Z"
   },
   {
    "duration": 637999,
    "start_time": "2022-12-02T08:21:44.848Z"
   },
   {
    "duration": 571,
    "start_time": "2022-12-02T08:33:10.330Z"
   },
   {
    "duration": 4,
    "start_time": "2022-12-02T08:33:17.061Z"
   },
   {
    "duration": 23,
    "start_time": "2022-12-02T08:33:17.556Z"
   },
   {
    "duration": 558,
    "start_time": "2022-12-02T08:33:22.409Z"
   },
   {
    "duration": 124,
    "start_time": "2022-12-02T08:36:15.580Z"
   },
   {
    "duration": 8,
    "start_time": "2022-12-02T08:36:16.114Z"
   },
   {
    "duration": 2,
    "start_time": "2022-12-02T08:36:19.829Z"
   },
   {
    "duration": 3,
    "start_time": "2022-12-02T08:36:21.497Z"
   },
   {
    "duration": 4,
    "start_time": "2022-12-02T08:36:22.234Z"
   },
   {
    "duration": 9,
    "start_time": "2022-12-02T08:36:22.509Z"
   },
   {
    "duration": 4,
    "start_time": "2022-12-02T08:36:22.953Z"
   },
   {
    "duration": 4,
    "start_time": "2022-12-02T08:36:23.738Z"
   },
   {
    "duration": 22,
    "start_time": "2022-12-02T08:36:23.995Z"
   },
   {
    "duration": 12,
    "start_time": "2022-12-02T08:36:24.270Z"
   },
   {
    "duration": 16,
    "start_time": "2022-12-02T08:36:24.582Z"
   },
   {
    "duration": 17,
    "start_time": "2022-12-02T08:36:25.406Z"
   },
   {
    "duration": 36,
    "start_time": "2022-12-02T08:36:27.165Z"
   },
   {
    "duration": 31,
    "start_time": "2022-12-02T08:36:35.347Z"
   },
   {
    "duration": 5,
    "start_time": "2022-12-02T08:36:48.270Z"
   },
   {
    "duration": 21,
    "start_time": "2022-12-02T08:36:49.626Z"
   },
   {
    "duration": 667,
    "start_time": "2022-12-02T08:36:51.205Z"
   },
   {
    "duration": 327401,
    "start_time": "2022-12-02T08:38:00.140Z"
   },
   {
    "duration": 944944,
    "start_time": "2022-12-02T08:51:04.354Z"
   },
   {
    "duration": 836,
    "start_time": "2022-12-02T09:07:24.141Z"
   },
   {
    "duration": 17,
    "start_time": "2022-12-02T09:07:38.706Z"
   },
   {
    "duration": 11,
    "start_time": "2022-12-02T09:07:56.344Z"
   },
   {
    "duration": 502375,
    "start_time": "2022-12-02T09:08:04.521Z"
   },
   {
    "duration": 30,
    "start_time": "2022-12-02T09:18:44.629Z"
   },
   {
    "duration": 1302512,
    "start_time": "2022-12-02T09:19:08.464Z"
   },
   {
    "duration": 1971,
    "start_time": "2022-12-02T09:41:48.777Z"
   },
   {
    "duration": 9,
    "start_time": "2022-12-02T09:42:52.029Z"
   },
   {
    "duration": 88861,
    "start_time": "2022-12-02T09:42:57.509Z"
   },
   {
    "duration": 219999,
    "start_time": "2022-12-02T09:45:21.317Z"
   },
   {
    "duration": 1692,
    "start_time": "2022-12-02T09:53:11.119Z"
   },
   {
    "duration": 11,
    "start_time": "2022-12-02T09:54:03.850Z"
   },
   {
    "duration": 379800,
    "start_time": "2022-12-02T09:54:06.996Z"
   },
   {
    "duration": 972408,
    "start_time": "2022-12-02T10:01:47.054Z"
   },
   {
    "duration": 196,
    "start_time": "2022-12-02T10:23:32.405Z"
   },
   {
    "duration": 4,
    "start_time": "2022-12-02T11:30:24.172Z"
   },
   {
    "duration": 3,
    "start_time": "2022-12-02T11:30:24.457Z"
   },
   {
    "duration": 45,
    "start_time": "2022-12-02T11:30:25.683Z"
   },
   {
    "duration": 22,
    "start_time": "2022-12-02T11:30:26.246Z"
   },
   {
    "duration": 14,
    "start_time": "2022-12-02T11:30:27.211Z"
   },
   {
    "duration": 41,
    "start_time": "2022-12-02T11:30:27.540Z"
   },
   {
    "duration": 18,
    "start_time": "2022-12-02T11:30:30.527Z"
   },
   {
    "duration": 8,
    "start_time": "2022-12-02T11:30:32.314Z"
   },
   {
    "duration": 23,
    "start_time": "2022-12-02T11:30:34.825Z"
   },
   {
    "duration": 5,
    "start_time": "2022-12-02T11:30:36.670Z"
   },
   {
    "duration": 7,
    "start_time": "2022-12-02T11:30:37.517Z"
   },
   {
    "duration": 12,
    "start_time": "2022-12-02T11:30:39.698Z"
   },
   {
    "duration": 114,
    "start_time": "2022-12-02T11:30:53.984Z"
   },
   {
    "duration": 6,
    "start_time": "2022-12-02T11:30:54.474Z"
   },
   {
    "duration": 2,
    "start_time": "2022-12-02T11:30:56.494Z"
   },
   {
    "duration": 3,
    "start_time": "2022-12-02T11:30:58.288Z"
   },
   {
    "duration": 5,
    "start_time": "2022-12-02T11:30:58.846Z"
   },
   {
    "duration": 9,
    "start_time": "2022-12-02T11:30:59.299Z"
   },
   {
    "duration": 4,
    "start_time": "2022-12-02T11:30:59.664Z"
   },
   {
    "duration": 4,
    "start_time": "2022-12-02T11:31:00.162Z"
   },
   {
    "duration": 14,
    "start_time": "2022-12-02T11:31:00.410Z"
   },
   {
    "duration": 10,
    "start_time": "2022-12-02T11:31:00.714Z"
   },
   {
    "duration": 15,
    "start_time": "2022-12-02T11:31:01.265Z"
   },
   {
    "duration": 18,
    "start_time": "2022-12-02T11:31:02.102Z"
   },
   {
    "duration": 59,
    "start_time": "2022-12-02T11:31:10.697Z"
   },
   {
    "duration": 632435,
    "start_time": "2022-12-02T11:31:22.056Z"
   },
   {
    "duration": 367806,
    "start_time": "2022-12-02T11:44:31.693Z"
   },
   {
    "duration": 46,
    "start_time": "2022-12-02T12:22:02.679Z"
   },
   {
    "duration": 176,
    "start_time": "2022-12-02T12:22:56.360Z"
   },
   {
    "duration": 169,
    "start_time": "2022-12-02T12:23:21.819Z"
   },
   {
    "duration": 5,
    "start_time": "2022-12-02T12:23:58.347Z"
   },
   {
    "duration": 21,
    "start_time": "2022-12-02T12:23:59.567Z"
   },
   {
    "duration": 272,
    "start_time": "2022-12-02T12:24:06.701Z"
   },
   {
    "duration": 10,
    "start_time": "2022-12-02T12:31:10.630Z"
   },
   {
    "duration": 232,
    "start_time": "2022-12-02T12:33:10.728Z"
   },
   {
    "duration": 11,
    "start_time": "2022-12-02T12:35:23.575Z"
   },
   {
    "duration": 30,
    "start_time": "2022-12-02T12:37:16.766Z"
   },
   {
    "duration": 34,
    "start_time": "2022-12-02T12:37:26.225Z"
   },
   {
    "duration": 42051,
    "start_time": "2022-12-02T12:37:39.355Z"
   },
   {
    "duration": 58327,
    "start_time": "2022-12-02T12:38:36.344Z"
   },
   {
    "duration": 52,
    "start_time": "2022-12-02T12:41:46.756Z"
   },
   {
    "duration": 1714,
    "start_time": "2022-12-02T12:41:52.682Z"
   },
   {
    "duration": 3,
    "start_time": "2022-12-02T12:41:54.398Z"
   },
   {
    "duration": 46,
    "start_time": "2022-12-02T12:41:55.152Z"
   },
   {
    "duration": 23,
    "start_time": "2022-12-02T12:41:55.200Z"
   },
   {
    "duration": 27,
    "start_time": "2022-12-02T12:41:55.225Z"
   },
   {
    "duration": 60,
    "start_time": "2022-12-02T12:41:55.255Z"
   },
   {
    "duration": 20,
    "start_time": "2022-12-02T12:41:56.063Z"
   },
   {
    "duration": 8,
    "start_time": "2022-12-02T12:41:56.675Z"
   },
   {
    "duration": 18,
    "start_time": "2022-12-02T12:41:56.992Z"
   },
   {
    "duration": 5,
    "start_time": "2022-12-02T12:41:57.738Z"
   },
   {
    "duration": 8,
    "start_time": "2022-12-02T12:41:57.965Z"
   },
   {
    "duration": 14,
    "start_time": "2022-12-02T12:41:59.046Z"
   },
   {
    "duration": 1382,
    "start_time": "2022-12-02T12:42:43.411Z"
   },
   {
    "duration": 2,
    "start_time": "2022-12-02T12:42:44.795Z"
   },
   {
    "duration": 88,
    "start_time": "2022-12-02T12:42:44.940Z"
   },
   {
    "duration": 23,
    "start_time": "2022-12-02T12:42:45.602Z"
   },
   {
    "duration": 13,
    "start_time": "2022-12-02T12:42:46.327Z"
   },
   {
    "duration": 44,
    "start_time": "2022-12-02T12:42:46.551Z"
   },
   {
    "duration": 20,
    "start_time": "2022-12-02T12:42:47.207Z"
   },
   {
    "duration": 11,
    "start_time": "2022-12-02T12:42:48.416Z"
   },
   {
    "duration": 20,
    "start_time": "2022-12-02T12:42:49.692Z"
   },
   {
    "duration": 4,
    "start_time": "2022-12-02T12:42:51.327Z"
   },
   {
    "duration": 9,
    "start_time": "2022-12-02T12:42:52.149Z"
   },
   {
    "duration": 13,
    "start_time": "2022-12-02T12:42:53.582Z"
   },
   {
    "duration": 1474,
    "start_time": "2022-12-02T12:43:37.965Z"
   },
   {
    "duration": 3,
    "start_time": "2022-12-02T12:43:39.441Z"
   },
   {
    "duration": 102,
    "start_time": "2022-12-02T12:43:39.446Z"
   },
   {
    "duration": 18,
    "start_time": "2022-12-02T12:43:39.549Z"
   },
   {
    "duration": 14,
    "start_time": "2022-12-02T12:43:39.569Z"
   },
   {
    "duration": 43,
    "start_time": "2022-12-02T12:43:39.585Z"
   },
   {
    "duration": 14,
    "start_time": "2022-12-02T12:43:40.347Z"
   },
   {
    "duration": 7,
    "start_time": "2022-12-02T12:43:40.689Z"
   },
   {
    "duration": 19,
    "start_time": "2022-12-02T12:43:41.051Z"
   },
   {
    "duration": 5,
    "start_time": "2022-12-02T12:43:42.300Z"
   },
   {
    "duration": 7,
    "start_time": "2022-12-02T12:43:43.246Z"
   },
   {
    "duration": 13,
    "start_time": "2022-12-02T12:43:44.791Z"
   },
   {
    "duration": 57811,
    "start_time": "2022-12-02T12:43:47.479Z"
   },
   {
    "duration": 31003,
    "start_time": "2022-12-02T12:45:18.803Z"
   },
   {
    "duration": 30725,
    "start_time": "2022-12-02T12:46:03.041Z"
   },
   {
    "duration": 33006,
    "start_time": "2022-12-02T12:46:50.394Z"
   },
   {
    "duration": 236024,
    "start_time": "2022-12-02T12:51:47.358Z"
   },
   {
    "duration": 235332,
    "start_time": "2022-12-02T12:56:32.875Z"
   },
   {
    "duration": 235277,
    "start_time": "2022-12-02T13:00:48.442Z"
   },
   {
    "duration": 231918,
    "start_time": "2022-12-02T13:05:06.684Z"
   },
   {
    "duration": 121,
    "start_time": "2022-12-02T13:09:16.785Z"
   },
   {
    "duration": 136,
    "start_time": "2022-12-02T13:09:26.865Z"
   },
   {
    "duration": 6,
    "start_time": "2022-12-02T13:09:27.764Z"
   },
   {
    "duration": 2,
    "start_time": "2022-12-02T13:09:28.560Z"
   },
   {
    "duration": 3,
    "start_time": "2022-12-02T13:09:29.315Z"
   },
   {
    "duration": 5,
    "start_time": "2022-12-02T13:09:29.850Z"
   },
   {
    "duration": 8,
    "start_time": "2022-12-02T13:09:30.124Z"
   },
   {
    "duration": 5,
    "start_time": "2022-12-02T13:09:30.438Z"
   },
   {
    "duration": 4,
    "start_time": "2022-12-02T13:09:31.053Z"
   },
   {
    "duration": 18,
    "start_time": "2022-12-02T13:09:31.454Z"
   },
   {
    "duration": 13,
    "start_time": "2022-12-02T13:09:31.881Z"
   },
   {
    "duration": 16,
    "start_time": "2022-12-02T13:09:32.310Z"
   },
   {
    "duration": 18,
    "start_time": "2022-12-02T13:09:33.259Z"
   },
   {
    "duration": 37,
    "start_time": "2022-12-02T13:09:35.250Z"
   },
   {
    "duration": 5,
    "start_time": "2022-12-02T13:09:49.576Z"
   },
   {
    "duration": 29,
    "start_time": "2022-12-02T13:09:50.224Z"
   },
   {
    "duration": 14,
    "start_time": "2022-12-02T13:09:53.333Z"
   },
   {
    "duration": 12,
    "start_time": "2022-12-02T13:10:00.318Z"
   },
   {
    "duration": 187,
    "start_time": "2022-12-02T13:10:05.218Z"
   },
   {
    "duration": 10,
    "start_time": "2022-12-02T13:10:56.462Z"
   },
   {
    "duration": 1302,
    "start_time": "2022-12-02T13:11:06.053Z"
   },
   {
    "duration": 238229,
    "start_time": "2022-12-02T13:11:18.102Z"
   },
   {
    "duration": 236621,
    "start_time": "2022-12-02T13:15:29.198Z"
   },
   {
    "duration": 1400,
    "start_time": "2022-12-02T14:09:54.553Z"
   },
   {
    "duration": 3,
    "start_time": "2022-12-02T14:09:55.956Z"
   },
   {
    "duration": 82,
    "start_time": "2022-12-02T14:09:55.961Z"
   },
   {
    "duration": 25,
    "start_time": "2022-12-02T14:09:56.046Z"
   },
   {
    "duration": 18,
    "start_time": "2022-12-02T14:09:56.073Z"
   },
   {
    "duration": 56,
    "start_time": "2022-12-02T14:09:56.093Z"
   },
   {
    "duration": 21,
    "start_time": "2022-12-02T14:09:56.151Z"
   },
   {
    "duration": 26,
    "start_time": "2022-12-02T14:09:56.174Z"
   },
   {
    "duration": 25,
    "start_time": "2022-12-02T14:09:56.202Z"
   },
   {
    "duration": 5,
    "start_time": "2022-12-02T14:09:56.231Z"
   },
   {
    "duration": 15,
    "start_time": "2022-12-02T14:09:56.238Z"
   },
   {
    "duration": 27,
    "start_time": "2022-12-02T14:09:56.255Z"
   },
   {
    "duration": 235562,
    "start_time": "2022-12-02T14:09:56.284Z"
   },
   {
    "duration": 1195,
    "start_time": "2022-12-02T14:13:51.847Z"
   },
   {
    "duration": 143,
    "start_time": "2022-12-02T14:13:53.044Z"
   },
   {
    "duration": 5,
    "start_time": "2022-12-02T14:13:53.196Z"
   },
   {
    "duration": 10,
    "start_time": "2022-12-02T14:13:53.202Z"
   },
   {
    "duration": 11,
    "start_time": "2022-12-02T14:13:53.213Z"
   },
   {
    "duration": 8,
    "start_time": "2022-12-02T14:13:53.225Z"
   },
   {
    "duration": 19,
    "start_time": "2022-12-02T14:13:53.234Z"
   },
   {
    "duration": 18,
    "start_time": "2022-12-02T14:13:53.254Z"
   },
   {
    "duration": 12,
    "start_time": "2022-12-02T14:13:53.274Z"
   },
   {
    "duration": 18,
    "start_time": "2022-12-02T14:13:53.288Z"
   },
   {
    "duration": 11,
    "start_time": "2022-12-02T14:13:53.307Z"
   },
   {
    "duration": 15,
    "start_time": "2022-12-02T14:13:53.320Z"
   },
   {
    "duration": 17,
    "start_time": "2022-12-02T14:13:53.336Z"
   },
   {
    "duration": 55,
    "start_time": "2022-12-02T14:13:53.354Z"
   },
   {
    "duration": 395868,
    "start_time": "2022-12-02T14:13:53.412Z"
   },
   {
    "duration": 618428,
    "start_time": "2022-12-02T14:20:29.281Z"
   },
   {
    "duration": 194,
    "start_time": "2022-12-02T14:30:47.711Z"
   },
   {
    "duration": 1476,
    "start_time": "2022-12-02T15:58:15.486Z"
   },
   {
    "duration": 3,
    "start_time": "2022-12-02T15:58:16.964Z"
   },
   {
    "duration": 47,
    "start_time": "2022-12-02T15:58:16.968Z"
   },
   {
    "duration": 18,
    "start_time": "2022-12-02T15:58:17.017Z"
   },
   {
    "duration": 14,
    "start_time": "2022-12-02T15:58:17.037Z"
   },
   {
    "duration": 66,
    "start_time": "2022-12-02T15:58:17.052Z"
   },
   {
    "duration": 17,
    "start_time": "2022-12-02T15:58:17.120Z"
   },
   {
    "duration": 8,
    "start_time": "2022-12-02T15:58:17.140Z"
   },
   {
    "duration": 18,
    "start_time": "2022-12-02T15:58:17.150Z"
   },
   {
    "duration": 7,
    "start_time": "2022-12-02T15:58:17.198Z"
   },
   {
    "duration": 16,
    "start_time": "2022-12-02T15:58:17.207Z"
   },
   {
    "duration": 14,
    "start_time": "2022-12-02T15:58:17.225Z"
   },
   {
    "duration": 230880,
    "start_time": "2022-12-02T15:58:17.241Z"
   },
   {
    "duration": 1167,
    "start_time": "2022-12-02T16:02:08.123Z"
   },
   {
    "duration": 137,
    "start_time": "2022-12-02T16:02:09.291Z"
   },
   {
    "duration": 6,
    "start_time": "2022-12-02T16:02:09.430Z"
   },
   {
    "duration": 6,
    "start_time": "2022-12-02T16:02:09.437Z"
   },
   {
    "duration": 6,
    "start_time": "2022-12-02T16:02:09.445Z"
   },
   {
    "duration": 7,
    "start_time": "2022-12-02T16:02:09.452Z"
   },
   {
    "duration": 12,
    "start_time": "2022-12-02T16:02:09.460Z"
   },
   {
    "duration": 3,
    "start_time": "2022-12-02T16:02:09.474Z"
   },
   {
    "duration": 20,
    "start_time": "2022-12-02T16:02:09.479Z"
   },
   {
    "duration": 17,
    "start_time": "2022-12-02T16:02:09.502Z"
   },
   {
    "duration": 11,
    "start_time": "2022-12-02T16:02:09.522Z"
   },
   {
    "duration": 16,
    "start_time": "2022-12-02T16:02:09.535Z"
   },
   {
    "duration": 44,
    "start_time": "2022-12-02T16:02:09.553Z"
   },
   {
    "duration": 38,
    "start_time": "2022-12-02T16:02:09.599Z"
   },
   {
    "duration": 392035,
    "start_time": "2022-12-02T16:02:09.641Z"
   },
   {
    "duration": 602088,
    "start_time": "2022-12-02T16:08:41.678Z"
   },
   {
    "duration": 326479,
    "start_time": "2022-12-02T16:18:43.768Z"
   },
   {
    "duration": 921251,
    "start_time": "2022-12-02T16:36:35.596Z"
   },
   {
    "duration": 9,
    "start_time": "2022-12-02T16:51:56.848Z"
   },
   {
    "duration": 77800,
    "start_time": "2022-12-02T16:51:56.859Z"
   },
   {
    "duration": 213196,
    "start_time": "2022-12-02T16:53:14.661Z"
   },
   {
    "duration": 2,
    "start_time": "2022-12-02T16:56:47.859Z"
   },
   {
    "duration": 27,
    "start_time": "2022-12-02T16:56:47.863Z"
   },
   {
    "duration": 204,
    "start_time": "2022-12-02T16:56:47.897Z"
   },
   {
    "duration": 1275,
    "start_time": "2022-12-02T16:56:48.103Z"
   },
   {
    "duration": 187,
    "start_time": "2022-12-02T16:56:49.379Z"
   },
   {
    "duration": 111,
    "start_time": "2022-12-02T16:56:49.567Z"
   },
   {
    "duration": 10,
    "start_time": "2022-12-02T17:22:52.397Z"
   },
   {
    "duration": 1398,
    "start_time": "2022-12-02T17:23:32.311Z"
   },
   {
    "duration": 3,
    "start_time": "2022-12-02T17:23:33.710Z"
   },
   {
    "duration": 51,
    "start_time": "2022-12-02T17:23:33.715Z"
   },
   {
    "duration": 23,
    "start_time": "2022-12-02T17:23:33.769Z"
   },
   {
    "duration": 12,
    "start_time": "2022-12-02T17:23:33.794Z"
   },
   {
    "duration": 39,
    "start_time": "2022-12-02T17:23:33.808Z"
   },
   {
    "duration": 15,
    "start_time": "2022-12-02T17:23:33.849Z"
   },
   {
    "duration": 6,
    "start_time": "2022-12-02T17:23:33.866Z"
   },
   {
    "duration": 18,
    "start_time": "2022-12-02T17:23:33.896Z"
   },
   {
    "duration": 5,
    "start_time": "2022-12-02T17:23:33.916Z"
   },
   {
    "duration": 11,
    "start_time": "2022-12-02T17:23:33.922Z"
   },
   {
    "duration": 14,
    "start_time": "2022-12-02T17:23:33.935Z"
   },
   {
    "duration": 226675,
    "start_time": "2022-12-02T17:23:33.951Z"
   },
   {
    "duration": 1156,
    "start_time": "2022-12-02T17:27:20.627Z"
   },
   {
    "duration": 133,
    "start_time": "2022-12-02T17:27:21.786Z"
   },
   {
    "duration": 6,
    "start_time": "2022-12-02T17:27:21.922Z"
   },
   {
    "duration": 16,
    "start_time": "2022-12-02T17:27:21.930Z"
   },
   {
    "duration": 6,
    "start_time": "2022-12-02T17:27:21.948Z"
   },
   {
    "duration": 19,
    "start_time": "2022-12-02T17:27:21.955Z"
   },
   {
    "duration": 12,
    "start_time": "2022-12-02T17:27:21.976Z"
   },
   {
    "duration": 4,
    "start_time": "2022-12-02T17:27:21.990Z"
   },
   {
    "duration": 6,
    "start_time": "2022-12-02T17:27:21.995Z"
   },
   {
    "duration": 24,
    "start_time": "2022-12-02T17:27:22.003Z"
   },
   {
    "duration": 10,
    "start_time": "2022-12-02T17:27:22.029Z"
   },
   {
    "duration": 18,
    "start_time": "2022-12-02T17:27:22.040Z"
   },
   {
    "duration": 18,
    "start_time": "2022-12-02T17:27:22.059Z"
   },
   {
    "duration": 42,
    "start_time": "2022-12-02T17:27:22.079Z"
   },
   {
    "duration": 379552,
    "start_time": "2022-12-02T17:27:22.125Z"
   },
   {
    "duration": 594190,
    "start_time": "2022-12-02T17:33:41.679Z"
   },
   {
    "duration": 333678,
    "start_time": "2022-12-02T17:43:35.870Z"
   },
   {
    "duration": 3,
    "start_time": "2022-12-02T17:49:09.550Z"
   },
   {
    "duration": 14,
    "start_time": "2022-12-02T17:49:09.554Z"
   },
   {
    "duration": 367912,
    "start_time": "2022-12-02T17:49:09.570Z"
   },
   {
    "duration": 923313,
    "start_time": "2022-12-02T18:30:01.172Z"
   },
   {
    "duration": 15,
    "start_time": "2022-12-02T18:45:24.487Z"
   },
   {
    "duration": 84170,
    "start_time": "2022-12-02T18:45:24.504Z"
   },
   {
    "duration": 221705,
    "start_time": "2022-12-02T18:46:48.677Z"
   },
   {
    "duration": 179,
    "start_time": "2022-12-02T18:53:04.321Z"
   },
   {
    "duration": 1155,
    "start_time": "2022-12-02T18:53:06.812Z"
   },
   {
    "duration": 190,
    "start_time": "2022-12-02T18:53:14.471Z"
   },
   {
    "duration": 115,
    "start_time": "2022-12-02T18:53:19.991Z"
   },
   {
    "duration": 374832,
    "start_time": "2022-12-02T18:54:15.025Z"
   },
   {
    "duration": 54,
    "start_time": "2022-12-02T19:32:41.234Z"
   },
   {
    "duration": 109,
    "start_time": "2022-12-02T19:33:06.456Z"
   },
   {
    "duration": 1438,
    "start_time": "2022-12-02T19:35:13.714Z"
   },
   {
    "duration": 1190,
    "start_time": "2022-12-02T19:36:16.339Z"
   },
   {
    "duration": 10,
    "start_time": "2022-12-02T19:37:22.650Z"
   },
   {
    "duration": 366227,
    "start_time": "2022-12-02T19:37:25.955Z"
   },
   {
    "duration": 881196,
    "start_time": "2022-12-02T19:43:32.184Z"
   },
   {
    "duration": 24,
    "start_time": "2022-12-02T19:58:13.382Z"
   },
   {
    "duration": 127370,
    "start_time": "2022-12-02T19:58:13.409Z"
   },
   {
    "duration": 229606,
    "start_time": "2022-12-02T20:00:20.781Z"
   },
   {
    "duration": 188,
    "start_time": "2022-12-02T20:06:14.203Z"
   },
   {
    "duration": 984,
    "start_time": "2022-12-02T20:06:43.341Z"
   },
   {
    "duration": 375,
    "start_time": "2022-12-02T20:07:23.582Z"
   },
   {
    "duration": 588,
    "start_time": "2022-12-02T20:07:50.773Z"
   },
   {
    "duration": 457,
    "start_time": "2022-12-02T20:08:09.081Z"
   },
   {
    "duration": 109,
    "start_time": "2022-12-02T20:11:27.631Z"
   },
   {
    "duration": 457,
    "start_time": "2022-12-02T20:20:29.899Z"
   },
   {
    "duration": 45,
    "start_time": "2022-12-02T20:29:25.510Z"
   },
   {
    "duration": 1741,
    "start_time": "2022-12-03T07:29:40.554Z"
   },
   {
    "duration": 3,
    "start_time": "2022-12-03T07:29:42.297Z"
   },
   {
    "duration": 165,
    "start_time": "2022-12-03T07:29:42.301Z"
   },
   {
    "duration": 19,
    "start_time": "2022-12-03T07:29:42.468Z"
   },
   {
    "duration": 18,
    "start_time": "2022-12-03T07:29:42.488Z"
   },
   {
    "duration": 42,
    "start_time": "2022-12-03T07:29:42.507Z"
   },
   {
    "duration": 29,
    "start_time": "2022-12-03T07:29:42.551Z"
   },
   {
    "duration": 7,
    "start_time": "2022-12-03T07:29:42.582Z"
   },
   {
    "duration": 17,
    "start_time": "2022-12-03T07:29:42.591Z"
   },
   {
    "duration": 4,
    "start_time": "2022-12-03T07:29:42.610Z"
   },
   {
    "duration": 11,
    "start_time": "2022-12-03T07:29:42.617Z"
   },
   {
    "duration": 16,
    "start_time": "2022-12-03T07:29:42.629Z"
   },
   {
    "duration": 226701,
    "start_time": "2022-12-03T07:29:42.647Z"
   },
   {
    "duration": 1115,
    "start_time": "2022-12-03T07:33:29.350Z"
   },
   {
    "duration": 129,
    "start_time": "2022-12-03T07:33:30.466Z"
   },
   {
    "duration": 7,
    "start_time": "2022-12-03T07:33:30.597Z"
   },
   {
    "duration": 31,
    "start_time": "2022-12-03T07:33:30.606Z"
   },
   {
    "duration": 35,
    "start_time": "2022-12-03T07:33:30.639Z"
   },
   {
    "duration": 25,
    "start_time": "2022-12-03T07:33:30.676Z"
   },
   {
    "duration": 54,
    "start_time": "2022-12-03T07:33:30.703Z"
   },
   {
    "duration": 38,
    "start_time": "2022-12-03T07:33:30.760Z"
   },
   {
    "duration": 27,
    "start_time": "2022-12-03T07:33:30.800Z"
   },
   {
    "duration": 43,
    "start_time": "2022-12-03T07:33:30.829Z"
   },
   {
    "duration": 27,
    "start_time": "2022-12-03T07:33:30.873Z"
   },
   {
    "duration": 33,
    "start_time": "2022-12-03T07:33:30.902Z"
   },
   {
    "duration": 40,
    "start_time": "2022-12-03T07:33:30.936Z"
   },
   {
    "duration": 63,
    "start_time": "2022-12-03T07:33:30.978Z"
   },
   {
    "duration": 386126,
    "start_time": "2022-12-03T07:33:31.045Z"
   },
   {
    "duration": 582415,
    "start_time": "2022-12-03T07:39:57.178Z"
   },
   {
    "duration": 541,
    "start_time": "2022-12-03T07:49:39.595Z"
   },
   {
    "duration": 318595,
    "start_time": "2022-12-03T07:49:40.137Z"
   },
   {
    "duration": 363686,
    "start_time": "2022-12-03T07:54:58.735Z"
   },
   {
    "duration": 365,
    "start_time": "2022-12-03T08:01:02.422Z"
   },
   {
    "duration": 9,
    "start_time": "2022-12-03T08:01:02.789Z"
   },
   {
    "duration": 350045,
    "start_time": "2022-12-03T08:01:02.799Z"
   },
   {
    "duration": 827912,
    "start_time": "2022-12-03T08:06:52.845Z"
   },
   {
    "duration": 996,
    "start_time": "2022-12-03T08:20:40.758Z"
   },
   {
    "duration": 9,
    "start_time": "2022-12-03T08:20:41.756Z"
   },
   {
    "duration": 76128,
    "start_time": "2022-12-03T08:20:41.767Z"
   },
   {
    "duration": 214842,
    "start_time": "2022-12-03T08:21:57.897Z"
   },
   {
    "duration": 211,
    "start_time": "2022-12-03T08:25:32.741Z"
   },
   {
    "duration": 482,
    "start_time": "2022-12-03T08:25:32.953Z"
   },
   {
    "duration": 180,
    "start_time": "2022-12-03T08:25:33.437Z"
   },
   {
    "duration": 47,
    "start_time": "2022-12-03T13:36:41.788Z"
   },
   {
    "duration": 1579,
    "start_time": "2022-12-03T13:36:44.947Z"
   },
   {
    "duration": 3,
    "start_time": "2022-12-03T13:36:46.528Z"
   },
   {
    "duration": 163,
    "start_time": "2022-12-03T13:36:46.939Z"
   },
   {
    "duration": 20,
    "start_time": "2022-12-03T13:36:49.781Z"
   },
   {
    "duration": 1365,
    "start_time": "2022-12-03T13:37:04.527Z"
   },
   {
    "duration": 1280,
    "start_time": "2022-12-03T13:37:20.348Z"
   },
   {
    "duration": 1119,
    "start_time": "2022-12-03T13:39:11.206Z"
   },
   {
    "duration": 2655,
    "start_time": "2022-12-03T13:39:22.022Z"
   },
   {
    "duration": 70,
    "start_time": "2022-12-03T13:39:39.985Z"
   },
   {
    "duration": 17,
    "start_time": "2022-12-03T13:39:48.575Z"
   },
   {
    "duration": 3408,
    "start_time": "2022-12-03T13:40:16.363Z"
   },
   {
    "duration": 74012,
    "start_time": "2022-12-03T13:40:38.567Z"
   },
   {
    "duration": 11163,
    "start_time": "2022-12-03T13:42:06.189Z"
   },
   {
    "duration": 20258,
    "start_time": "2022-12-03T13:43:45.452Z"
   },
   {
    "duration": 76,
    "start_time": "2022-12-03T13:45:39.796Z"
   },
   {
    "duration": 19060,
    "start_time": "2022-12-03T13:47:23.409Z"
   },
   {
    "duration": 20223,
    "start_time": "2022-12-03T13:47:53.063Z"
   },
   {
    "duration": 28288,
    "start_time": "2022-12-03T13:51:03.100Z"
   },
   {
    "duration": 20684,
    "start_time": "2022-12-03T13:52:38.331Z"
   },
   {
    "duration": 15,
    "start_time": "2022-12-03T14:01:04.409Z"
   },
   {
    "duration": 513,
    "start_time": "2022-12-03T14:11:52.832Z"
   },
   {
    "duration": 10,
    "start_time": "2022-12-03T14:12:58.969Z"
   },
   {
    "duration": 3251,
    "start_time": "2022-12-03T14:13:06.864Z"
   },
   {
    "duration": 3610,
    "start_time": "2022-12-03T14:13:39.613Z"
   },
   {
    "duration": 3125,
    "start_time": "2022-12-03T14:15:48.133Z"
   },
   {
    "duration": 10,
    "start_time": "2022-12-03T14:16:49.824Z"
   },
   {
    "duration": 89,
    "start_time": "2022-12-03T14:16:54.659Z"
   },
   {
    "duration": 10,
    "start_time": "2022-12-03T14:16:58.604Z"
   },
   {
    "duration": 3913,
    "start_time": "2022-12-03T14:17:24.140Z"
   },
   {
    "duration": 22,
    "start_time": "2022-12-03T14:17:34.972Z"
   },
   {
    "duration": 3852,
    "start_time": "2022-12-03T14:18:36.728Z"
   },
   {
    "duration": 5395,
    "start_time": "2022-12-03T14:20:27.722Z"
   },
   {
    "duration": 1029,
    "start_time": "2022-12-03T14:21:16.861Z"
   },
   {
    "duration": 69,
    "start_time": "2022-12-03T14:29:09.388Z"
   },
   {
    "duration": 11,
    "start_time": "2022-12-03T14:29:32.167Z"
   },
   {
    "duration": 4,
    "start_time": "2022-12-03T14:29:37.160Z"
   },
   {
    "duration": 4,
    "start_time": "2022-12-03T14:29:37.336Z"
   },
   {
    "duration": 8,
    "start_time": "2022-12-03T14:29:37.532Z"
   },
   {
    "duration": 4,
    "start_time": "2022-12-03T14:29:37.756Z"
   },
   {
    "duration": 4,
    "start_time": "2022-12-03T14:29:38.525Z"
   },
   {
    "duration": 7,
    "start_time": "2022-12-03T14:29:39.712Z"
   },
   {
    "duration": 73,
    "start_time": "2022-12-03T14:29:43.263Z"
   },
   {
    "duration": 20,
    "start_time": "2022-12-03T14:29:56.455Z"
   },
   {
    "duration": 12,
    "start_time": "2022-12-03T14:30:42.064Z"
   },
   {
    "duration": 15,
    "start_time": "2022-12-03T14:31:25.892Z"
   },
   {
    "duration": 12,
    "start_time": "2022-12-03T14:33:14.593Z"
   },
   {
    "duration": 5,
    "start_time": "2022-12-03T14:33:24.183Z"
   },
   {
    "duration": 3,
    "start_time": "2022-12-03T14:33:27.184Z"
   },
   {
    "duration": 4,
    "start_time": "2022-12-03T14:33:27.516Z"
   },
   {
    "duration": 10,
    "start_time": "2022-12-03T14:33:27.909Z"
   },
   {
    "duration": 5,
    "start_time": "2022-12-03T14:33:28.263Z"
   },
   {
    "duration": 5,
    "start_time": "2022-12-03T14:33:30.756Z"
   },
   {
    "duration": 12,
    "start_time": "2022-12-03T14:33:33.520Z"
   },
   {
    "duration": 14,
    "start_time": "2022-12-03T15:23:13.657Z"
   },
   {
    "duration": 13,
    "start_time": "2022-12-03T15:23:16.970Z"
   },
   {
    "duration": 13,
    "start_time": "2022-12-03T15:23:33.670Z"
   },
   {
    "duration": 7,
    "start_time": "2022-12-03T15:23:45.984Z"
   },
   {
    "duration": 13,
    "start_time": "2022-12-03T15:23:54.493Z"
   },
   {
    "duration": 6,
    "start_time": "2022-12-03T15:24:05.625Z"
   },
   {
    "duration": 11,
    "start_time": "2022-12-03T15:24:07.966Z"
   },
   {
    "duration": 11,
    "start_time": "2022-12-03T15:24:36.958Z"
   },
   {
    "duration": 20,
    "start_time": "2022-12-03T15:24:43.972Z"
   },
   {
    "duration": 7,
    "start_time": "2022-12-03T15:25:27.655Z"
   },
   {
    "duration": 20,
    "start_time": "2022-12-03T15:25:30.547Z"
   },
   {
    "duration": 15,
    "start_time": "2022-12-03T15:26:18.456Z"
   },
   {
    "duration": 13,
    "start_time": "2022-12-03T15:26:19.344Z"
   },
   {
    "duration": 14,
    "start_time": "2022-12-03T15:26:21.404Z"
   },
   {
    "duration": 13,
    "start_time": "2022-12-03T15:26:43.680Z"
   },
   {
    "duration": 15,
    "start_time": "2022-12-03T15:26:44.892Z"
   },
   {
    "duration": 1478,
    "start_time": "2022-12-03T15:30:36.840Z"
   },
   {
    "duration": 2,
    "start_time": "2022-12-03T15:30:38.320Z"
   },
   {
    "duration": 43,
    "start_time": "2022-12-03T15:30:38.324Z"
   },
   {
    "duration": 19,
    "start_time": "2022-12-03T15:30:38.369Z"
   },
   {
    "duration": 15,
    "start_time": "2022-12-03T15:30:38.389Z"
   },
   {
    "duration": 56,
    "start_time": "2022-12-03T15:30:38.406Z"
   },
   {
    "duration": 15,
    "start_time": "2022-12-03T15:30:38.464Z"
   },
   {
    "duration": 7,
    "start_time": "2022-12-03T15:30:38.481Z"
   },
   {
    "duration": 41,
    "start_time": "2022-12-03T15:30:38.491Z"
   },
   {
    "duration": 5,
    "start_time": "2022-12-03T15:30:38.536Z"
   },
   {
    "duration": 10,
    "start_time": "2022-12-03T15:30:38.543Z"
   },
   {
    "duration": 13,
    "start_time": "2022-12-03T15:30:38.554Z"
   },
   {
    "duration": 5240,
    "start_time": "2022-12-03T15:30:38.568Z"
   },
   {
    "duration": 1209,
    "start_time": "2022-12-03T15:30:43.810Z"
   },
   {
    "duration": 166,
    "start_time": "2022-12-03T15:30:45.022Z"
   },
   {
    "duration": 6,
    "start_time": "2022-12-03T15:30:45.189Z"
   },
   {
    "duration": 9,
    "start_time": "2022-12-03T15:30:45.197Z"
   },
   {
    "duration": 16,
    "start_time": "2022-12-03T15:30:45.207Z"
   },
   {
    "duration": 8,
    "start_time": "2022-12-03T15:30:45.225Z"
   },
   {
    "duration": 14,
    "start_time": "2022-12-03T15:30:45.234Z"
   },
   {
    "duration": 8,
    "start_time": "2022-12-03T15:30:45.249Z"
   },
   {
    "duration": 7,
    "start_time": "2022-12-03T15:30:45.259Z"
   },
   {
    "duration": 11,
    "start_time": "2022-12-03T15:30:45.267Z"
   },
   {
    "duration": 14,
    "start_time": "2022-12-03T15:30:45.282Z"
   },
   {
    "duration": 40,
    "start_time": "2022-12-03T15:30:45.298Z"
   },
   {
    "duration": 14,
    "start_time": "2022-12-03T15:30:45.339Z"
   },
   {
    "duration": 11,
    "start_time": "2022-12-03T15:30:45.354Z"
   },
   {
    "duration": 18,
    "start_time": "2022-12-03T15:30:45.368Z"
   },
   {
    "duration": 41,
    "start_time": "2022-12-03T15:30:45.387Z"
   },
   {
    "duration": 35,
    "start_time": "2022-12-03T15:30:45.431Z"
   },
   {
    "duration": 324842,
    "start_time": "2022-12-03T15:30:45.468Z"
   },
   {
    "duration": 627605,
    "start_time": "2022-12-03T15:36:10.311Z"
   },
   {
    "duration": 593,
    "start_time": "2022-12-03T15:46:37.921Z"
   },
   {
    "duration": 318857,
    "start_time": "2022-12-03T15:46:38.515Z"
   },
   {
    "duration": 397537,
    "start_time": "2022-12-03T15:51:57.374Z"
   },
   {
    "duration": 422,
    "start_time": "2022-12-03T15:58:34.912Z"
   },
   {
    "duration": 12,
    "start_time": "2022-12-03T15:58:35.336Z"
   },
   {
    "duration": 351495,
    "start_time": "2022-12-03T15:58:35.350Z"
   },
   {
    "duration": 895091,
    "start_time": "2022-12-03T16:04:26.847Z"
   },
   {
    "duration": 1067,
    "start_time": "2022-12-03T16:19:21.939Z"
   },
   {
    "duration": 14,
    "start_time": "2022-12-03T16:19:23.008Z"
   },
   {
    "duration": 95312,
    "start_time": "2022-12-03T16:19:23.024Z"
   },
   {
    "duration": 225272,
    "start_time": "2022-12-03T16:20:58.337Z"
   },
   {
    "duration": 191,
    "start_time": "2022-12-03T16:24:43.612Z"
   },
   {
    "duration": 498,
    "start_time": "2022-12-03T16:24:43.804Z"
   },
   {
    "duration": 186,
    "start_time": "2022-12-03T16:24:44.303Z"
   },
   {
    "duration": 112,
    "start_time": "2022-12-03T16:36:16.336Z"
   },
   {
    "duration": 37,
    "start_time": "2022-12-03T16:36:49.882Z"
   },
   {
    "duration": 15,
    "start_time": "2022-12-03T16:36:50.514Z"
   },
   {
    "duration": 13,
    "start_time": "2022-12-03T16:36:51.144Z"
   },
   {
    "duration": 131,
    "start_time": "2022-12-03T16:36:51.379Z"
   },
   {
    "duration": 14,
    "start_time": "2022-12-03T16:36:52.141Z"
   },
   {
    "duration": 7,
    "start_time": "2022-12-03T16:36:52.505Z"
   },
   {
    "duration": 16,
    "start_time": "2022-12-03T16:36:52.939Z"
   },
   {
    "duration": 5,
    "start_time": "2022-12-03T16:36:53.572Z"
   },
   {
    "duration": 9,
    "start_time": "2022-12-03T16:36:53.755Z"
   },
   {
    "duration": 11,
    "start_time": "2022-12-03T16:36:54.436Z"
   },
   {
    "duration": 5088,
    "start_time": "2022-12-03T16:36:55.209Z"
   },
   {
    "duration": 967,
    "start_time": "2022-12-03T16:37:00.299Z"
   },
   {
    "duration": 162,
    "start_time": "2022-12-03T16:37:01.268Z"
   },
   {
    "duration": 5,
    "start_time": "2022-12-03T16:37:01.432Z"
   },
   {
    "duration": 18,
    "start_time": "2022-12-03T16:37:01.439Z"
   },
   {
    "duration": 13,
    "start_time": "2022-12-03T16:37:01.458Z"
   },
   {
    "duration": 5,
    "start_time": "2022-12-03T16:37:01.633Z"
   },
   {
    "duration": 9,
    "start_time": "2022-12-03T16:37:01.887Z"
   },
   {
    "duration": 5,
    "start_time": "2022-12-03T16:37:02.146Z"
   },
   {
    "duration": 5,
    "start_time": "2022-12-03T16:37:02.756Z"
   },
   {
    "duration": 17,
    "start_time": "2022-12-03T16:37:03.029Z"
   },
   {
    "duration": 11,
    "start_time": "2022-12-03T16:37:03.808Z"
   },
   {
    "duration": 17,
    "start_time": "2022-12-03T16:37:04.107Z"
   },
   {
    "duration": 13,
    "start_time": "2022-12-03T16:37:04.533Z"
   },
   {
    "duration": 32,
    "start_time": "2022-12-03T16:37:07.009Z"
   },
   {
    "duration": 1391,
    "start_time": "2022-12-03T16:39:54.245Z"
   },
   {
    "duration": 3,
    "start_time": "2022-12-03T16:39:56.232Z"
   },
   {
    "duration": 40,
    "start_time": "2022-12-03T16:39:57.580Z"
   },
   {
    "duration": 18,
    "start_time": "2022-12-03T16:39:58.023Z"
   },
   {
    "duration": 19,
    "start_time": "2022-12-03T16:39:58.400Z"
   },
   {
    "duration": 43,
    "start_time": "2022-12-03T16:39:58.944Z"
   },
   {
    "duration": 15,
    "start_time": "2022-12-03T16:39:59.565Z"
   },
   {
    "duration": 8,
    "start_time": "2022-12-03T16:40:00.152Z"
   },
   {
    "duration": 18,
    "start_time": "2022-12-03T16:40:00.586Z"
   },
   {
    "duration": 5,
    "start_time": "2022-12-03T16:40:01.067Z"
   },
   {
    "duration": 8,
    "start_time": "2022-12-03T16:40:01.311Z"
   },
   {
    "duration": 14,
    "start_time": "2022-12-03T16:40:02.379Z"
   },
   {
    "duration": 5084,
    "start_time": "2022-12-03T16:40:03.696Z"
   },
   {
    "duration": 1116,
    "start_time": "2022-12-03T16:41:45.923Z"
   },
   {
    "duration": 157,
    "start_time": "2022-12-03T16:41:57.782Z"
   },
   {
    "duration": 6,
    "start_time": "2022-12-03T16:41:58.156Z"
   },
   {
    "duration": 3,
    "start_time": "2022-12-03T16:41:59.755Z"
   },
   {
    "duration": 3,
    "start_time": "2022-12-03T16:42:02.313Z"
   },
   {
    "duration": 4,
    "start_time": "2022-12-03T16:42:02.883Z"
   },
   {
    "duration": 8,
    "start_time": "2022-12-03T16:42:03.338Z"
   },
   {
    "duration": 6,
    "start_time": "2022-12-03T16:42:03.748Z"
   },
   {
    "duration": 4,
    "start_time": "2022-12-03T16:42:04.490Z"
   },
   {
    "duration": 20,
    "start_time": "2022-12-03T16:42:05.144Z"
   },
   {
    "duration": 13,
    "start_time": "2022-12-03T16:42:05.843Z"
   },
   {
    "duration": 14,
    "start_time": "2022-12-03T16:42:06.556Z"
   },
   {
    "duration": 15,
    "start_time": "2022-12-03T16:42:07.555Z"
   },
   {
    "duration": 33,
    "start_time": "2022-12-03T16:42:16.020Z"
   },
   {
    "duration": 317356,
    "start_time": "2022-12-03T16:42:18.646Z"
   },
   {
    "duration": 613698,
    "start_time": "2022-12-03T16:47:36.004Z"
   },
   {
    "duration": 604,
    "start_time": "2022-12-03T16:57:49.704Z"
   },
   {
    "duration": 316856,
    "start_time": "2022-12-03T16:57:50.310Z"
   },
   {
    "duration": 391134,
    "start_time": "2022-12-03T17:03:07.168Z"
   },
   {
    "duration": 403,
    "start_time": "2022-12-03T17:09:38.303Z"
   },
   {
    "duration": 21,
    "start_time": "2022-12-03T17:09:38.708Z"
   },
   {
    "duration": 354010,
    "start_time": "2022-12-03T17:09:38.731Z"
   },
   {
    "duration": 1108,
    "start_time": "2022-12-03T17:17:05.820Z"
   },
   {
    "duration": 14,
    "start_time": "2022-12-03T17:17:08.465Z"
   },
   {
    "duration": 85862,
    "start_time": "2022-12-03T17:17:11.281Z"
   },
   {
    "duration": 263756,
    "start_time": "2022-12-03T17:27:37.315Z"
   },
   {
    "duration": 217,
    "start_time": "2022-12-03T17:32:01.073Z"
   },
   {
    "duration": 488,
    "start_time": "2022-12-03T17:32:01.292Z"
   },
   {
    "duration": 201,
    "start_time": "2022-12-03T17:32:01.782Z"
   },
   {
    "duration": 72,
    "start_time": "2022-12-03T18:19:58.414Z"
   },
   {
    "duration": 1516,
    "start_time": "2022-12-03T18:20:09.106Z"
   },
   {
    "duration": 3,
    "start_time": "2022-12-03T18:20:10.624Z"
   },
   {
    "duration": 60,
    "start_time": "2022-12-03T18:20:10.628Z"
   },
   {
    "duration": 19,
    "start_time": "2022-12-03T18:20:10.690Z"
   },
   {
    "duration": 16,
    "start_time": "2022-12-03T18:20:10.710Z"
   },
   {
    "duration": 45,
    "start_time": "2022-12-03T18:20:10.728Z"
   },
   {
    "duration": 16,
    "start_time": "2022-12-03T18:20:10.775Z"
   },
   {
    "duration": 31,
    "start_time": "2022-12-03T18:20:10.793Z"
   },
   {
    "duration": 22,
    "start_time": "2022-12-03T18:20:10.826Z"
   },
   {
    "duration": 9,
    "start_time": "2022-12-03T18:20:10.852Z"
   },
   {
    "duration": 12,
    "start_time": "2022-12-03T18:20:10.863Z"
   },
   {
    "duration": 28,
    "start_time": "2022-12-03T18:20:10.876Z"
   },
   {
    "duration": 5374,
    "start_time": "2022-12-03T18:20:10.906Z"
   },
   {
    "duration": 1098,
    "start_time": "2022-12-03T18:20:16.282Z"
   },
   {
    "duration": 154,
    "start_time": "2022-12-03T18:20:17.382Z"
   },
   {
    "duration": 6,
    "start_time": "2022-12-03T18:20:17.537Z"
   },
   {
    "duration": 15,
    "start_time": "2022-12-03T18:20:17.545Z"
   },
   {
    "duration": 7,
    "start_time": "2022-12-03T18:20:17.561Z"
   },
   {
    "duration": 8,
    "start_time": "2022-12-03T18:20:17.570Z"
   },
   {
    "duration": 14,
    "start_time": "2022-12-03T18:20:17.580Z"
   },
   {
    "duration": 7,
    "start_time": "2022-12-03T18:20:17.596Z"
   },
   {
    "duration": 20,
    "start_time": "2022-12-03T18:20:17.605Z"
   },
   {
    "duration": 21,
    "start_time": "2022-12-03T18:20:17.628Z"
   },
   {
    "duration": 11,
    "start_time": "2022-12-03T18:20:17.651Z"
   },
   {
    "duration": 14,
    "start_time": "2022-12-03T18:20:17.664Z"
   },
   {
    "duration": 44,
    "start_time": "2022-12-03T18:20:17.680Z"
   },
   {
    "duration": 50,
    "start_time": "2022-12-03T18:20:17.727Z"
   },
   {
    "duration": 320220,
    "start_time": "2022-12-03T18:20:17.783Z"
   },
   {
    "duration": 629403,
    "start_time": "2022-12-03T18:25:38.005Z"
   },
   {
    "duration": 614,
    "start_time": "2022-12-03T18:36:07.410Z"
   },
   {
    "duration": 317236,
    "start_time": "2022-12-03T18:36:08.026Z"
   },
   {
    "duration": 384096,
    "start_time": "2022-12-03T18:41:25.264Z"
   },
   {
    "duration": 400,
    "start_time": "2022-12-03T18:47:49.361Z"
   },
   {
    "duration": 12,
    "start_time": "2022-12-03T18:47:49.763Z"
   },
   {
    "duration": 361980,
    "start_time": "2022-12-03T18:47:49.777Z"
   },
   {
    "duration": 915191,
    "start_time": "2022-12-03T18:53:51.759Z"
   },
   {
    "duration": 10,
    "start_time": "2022-12-03T19:09:08.046Z"
   },
   {
    "duration": 120702,
    "start_time": "2022-12-03T19:09:08.057Z"
   },
   {
    "duration": 229543,
    "start_time": "2022-12-03T19:11:08.761Z"
   },
   {
    "duration": 228,
    "start_time": "2022-12-03T19:14:58.306Z"
   },
   {
    "duration": 468,
    "start_time": "2022-12-03T19:14:58.536Z"
   },
   {
    "duration": 276,
    "start_time": "2022-12-03T19:14:59.005Z"
   },
   {
    "duration": 1099,
    "start_time": "2022-12-03T19:34:18.014Z"
   },
   {
    "duration": 2039,
    "start_time": "2022-12-04T08:29:34.949Z"
   },
   {
    "duration": 4,
    "start_time": "2022-12-04T08:29:36.990Z"
   },
   {
    "duration": 190,
    "start_time": "2022-12-04T08:29:36.996Z"
   },
   {
    "duration": 21,
    "start_time": "2022-12-04T08:29:37.189Z"
   },
   {
    "duration": 16,
    "start_time": "2022-12-04T08:29:37.212Z"
   },
   {
    "duration": 58,
    "start_time": "2022-12-04T08:29:37.229Z"
   },
   {
    "duration": 16,
    "start_time": "2022-12-04T08:29:37.288Z"
   },
   {
    "duration": 9,
    "start_time": "2022-12-04T08:29:37.307Z"
   },
   {
    "duration": 41,
    "start_time": "2022-12-04T08:29:37.317Z"
   },
   {
    "duration": 4,
    "start_time": "2022-12-04T08:29:37.361Z"
   },
   {
    "duration": 11,
    "start_time": "2022-12-04T08:29:37.367Z"
   },
   {
    "duration": 13,
    "start_time": "2022-12-04T08:29:37.380Z"
   },
   {
    "duration": 5720,
    "start_time": "2022-12-04T08:29:37.395Z"
   },
   {
    "duration": 1276,
    "start_time": "2022-12-04T08:29:43.117Z"
   },
   {
    "duration": 181,
    "start_time": "2022-12-04T08:29:44.396Z"
   },
   {
    "duration": 12,
    "start_time": "2022-12-04T08:29:44.580Z"
   },
   {
    "duration": 6,
    "start_time": "2022-12-04T08:29:44.594Z"
   },
   {
    "duration": 7,
    "start_time": "2022-12-04T08:29:44.603Z"
   },
   {
    "duration": 7,
    "start_time": "2022-12-04T08:29:44.614Z"
   },
   {
    "duration": 18,
    "start_time": "2022-12-04T08:29:44.623Z"
   },
   {
    "duration": 11,
    "start_time": "2022-12-04T08:29:44.643Z"
   },
   {
    "duration": 9,
    "start_time": "2022-12-04T08:29:44.656Z"
   },
   {
    "duration": 26,
    "start_time": "2022-12-04T08:29:44.668Z"
   },
   {
    "duration": 15,
    "start_time": "2022-12-04T08:29:44.697Z"
   },
   {
    "duration": 20,
    "start_time": "2022-12-04T08:29:44.714Z"
   },
   {
    "duration": 29,
    "start_time": "2022-12-04T08:29:44.736Z"
   },
   {
    "duration": 45,
    "start_time": "2022-12-04T08:29:44.767Z"
   },
   {
    "duration": 369117,
    "start_time": "2022-12-04T08:29:44.816Z"
   },
   {
    "duration": 711328,
    "start_time": "2022-12-04T08:35:53.934Z"
   },
   {
    "duration": 665,
    "start_time": "2022-12-04T08:47:45.265Z"
   },
   {
    "duration": 363085,
    "start_time": "2022-12-04T08:47:45.932Z"
   },
   {
    "duration": 444003,
    "start_time": "2022-12-04T08:53:49.019Z"
   },
   {
    "duration": 438,
    "start_time": "2022-12-04T09:01:13.023Z"
   },
   {
    "duration": 13,
    "start_time": "2022-12-04T09:01:13.462Z"
   },
   {
    "duration": 445630,
    "start_time": "2022-12-04T09:01:13.476Z"
   },
   {
    "duration": 1040378,
    "start_time": "2022-12-04T09:08:39.108Z"
   },
   {
    "duration": 1339,
    "start_time": "2022-12-04T09:25:59.488Z"
   },
   {
    "duration": 23,
    "start_time": "2022-12-04T09:26:00.829Z"
   },
   {
    "duration": 145329,
    "start_time": "2022-12-04T09:26:00.856Z"
   },
   {
    "duration": 243126,
    "start_time": "2022-12-04T09:28:26.187Z"
   },
   {
    "duration": 203,
    "start_time": "2022-12-04T09:32:29.315Z"
   },
   {
    "duration": 519,
    "start_time": "2022-12-04T09:32:29.520Z"
   },
   {
    "duration": 287,
    "start_time": "2022-12-04T09:32:30.051Z"
   },
   {
    "duration": 443295,
    "start_time": "2022-12-04T11:36:41.221Z"
   },
   {
    "duration": 452613,
    "start_time": "2022-12-04T11:53:11.265Z"
   },
   {
    "duration": 526,
    "start_time": "2022-12-04T12:03:32.883Z"
   },
   {
    "duration": 643,
    "start_time": "2022-12-04T12:03:48.833Z"
   },
   {
    "duration": 220,
    "start_time": "2022-12-04T12:03:54.117Z"
   }
  ],
  "kernelspec": {
   "display_name": "Python 3 (ipykernel)",
   "language": "python",
   "name": "python3"
  },
  "language_info": {
   "codemirror_mode": {
    "name": "ipython",
    "version": 3
   },
   "file_extension": ".py",
   "mimetype": "text/x-python",
   "name": "python",
   "nbconvert_exporter": "python",
   "pygments_lexer": "ipython3",
   "version": "3.9.5"
  },
  "toc": {
   "base_numbering": 1,
   "nav_menu": {},
   "number_sections": true,
   "sideBar": true,
   "skip_h1_title": true,
   "title_cell": "Содержание",
   "title_sidebar": "Contents",
   "toc_cell": true,
   "toc_position": {
    "height": "704px",
    "left": "171px",
    "top": "134.125px",
    "width": "356.797px"
   },
   "toc_section_display": true,
   "toc_window_display": false
  }
 },
 "nbformat": 4,
 "nbformat_minor": 2
}
