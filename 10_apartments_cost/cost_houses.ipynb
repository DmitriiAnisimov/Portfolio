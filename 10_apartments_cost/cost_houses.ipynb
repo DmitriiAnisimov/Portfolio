{
 "cells": [
  {
   "cell_type": "markdown",
   "id": "GEqQaHzsZ_bA",
   "metadata": {
    "id": "GEqQaHzsZ_bA"
   },
   "source": [
    "# Предсказание стоимости жилья"
   ]
  },
  {
   "cell_type": "markdown",
   "id": "ca6674a4",
   "metadata": {},
   "source": [
    "В проекте обучается две модели линейной регрессии на данных о жилье в Калифорнии в 1990 году. \n",
    "\n",
    "Ссылка на датасет на kaggle: https://www.kaggle.com/datasets/camnugent/california-housing-prices?datasetId=5227&searchQuery=spar\n",
    "\n",
    "В колонках датасета содержатся следующие данные:\n",
    "\n",
    "   * `longitude` — широта;\n",
    "   * `latitude` — долгота;\n",
    "   * `housing_median_age` — медианный возраст жителей жилого массива;\n",
    "   * `total_rooms` — общее количество комнат в домах жилого массива;\n",
    "   * `total_bedrooms` — общее количество спален в домах жилого массива;\n",
    "   * `population` — количество человек, которые проживают в жилом массиве;\n",
    "   * `households` — количество домовладений в жилом массиве;\n",
    "   * `median_income` — медианный доход жителей жилого массива;\n",
    "   * `median_house_value` — медианная стоимость дома в жилом массиве;\n",
    "   * `ocean_proximity` — близость к океану.\n",
    "\n",
    "На основе данных предсказана медианная стоимость дома в жилом массиве — `median_house_value`. <br>\n",
    "Для оценки качества моделей используются метрики RMSE, MAE и R2."
   ]
  },
  {
   "cell_type": "code",
   "execution_count": 1,
   "id": "790b3a82",
   "metadata": {},
   "outputs": [],
   "source": [
    "import pandas as pd\n",
    "import numpy as np\n",
    "import matplotlib.pyplot as plt\n",
    "\n",
    "import pyspark\n",
    "\n",
    "from pyspark.sql import SparkSession\n",
    "from pyspark.sql.types import *\n",
    "import pyspark.sql.functions as F\n",
    "import pyspark.sql as sparksql\n",
    "\n",
    "from pyspark.ml import Pipeline\n",
    "from pyspark.ml.feature import OneHotEncoder\n",
    "from pyspark.ml.feature import StringIndexer, VectorAssembler, StandardScaler\n",
    "from pyspark.ml.regression import LinearRegression\n",
    "from pyspark.ml.evaluation import RegressionEvaluator\n",
    "from pyspark.ml.tuning import ParamGridBuilder, CrossValidator"
   ]
  },
  {
   "cell_type": "code",
   "execution_count": 2,
   "id": "ac0a948f",
   "metadata": {},
   "outputs": [],
   "source": [
    "RANDOM_SEED = 42"
   ]
  },
  {
   "cell_type": "markdown",
   "id": "8d0f47c2",
   "metadata": {},
   "source": [
    "## Обзор данных"
   ]
  },
  {
   "cell_type": "code",
   "execution_count": 3,
   "id": "f9f18bc3",
   "metadata": {},
   "outputs": [],
   "source": [
    "spark = SparkSession.builder \\\n",
    "                    .master(\"local\") \\\n",
    "                    .appName(\"California_Housing\") \\\n",
    "                    .getOrCreate()"
   ]
  },
  {
   "cell_type": "code",
   "execution_count": 4,
   "id": "788c2a45",
   "metadata": {},
   "outputs": [
    {
     "name": "stderr",
     "output_type": "stream",
     "text": [
      "[Stage 1:>                                                          (0 + 1) / 1]\r"
     ]
    },
    {
     "name": "stdout",
     "output_type": "stream",
     "text": [
      "root\n",
      " |-- longitude: double (nullable = true)\n",
      " |-- latitude: double (nullable = true)\n",
      " |-- housing_median_age: double (nullable = true)\n",
      " |-- total_rooms: double (nullable = true)\n",
      " |-- total_bedrooms: double (nullable = true)\n",
      " |-- population: double (nullable = true)\n",
      " |-- households: double (nullable = true)\n",
      " |-- median_income: double (nullable = true)\n",
      " |-- median_house_value: double (nullable = true)\n",
      " |-- ocean_proximity: string (nullable = true)\n",
      "\n"
     ]
    },
    {
     "name": "stderr",
     "output_type": "stream",
     "text": [
      "                                                                                \r"
     ]
    }
   ],
   "source": [
    "df = spark.read.csv('/datasets/housing.csv', inferSchema=True, header='true')\n",
    "df.printSchema()"
   ]
  },
  {
   "cell_type": "code",
   "execution_count": 5,
   "id": "3e4e1bf8",
   "metadata": {
    "scrolled": true
   },
   "outputs": [
    {
     "name": "stdout",
     "output_type": "stream",
     "text": [
      "+---------+--------+------------------+-----------+--------------+----------+----------+-------------+------------------+---------------+\n",
      "|longitude|latitude|housing_median_age|total_rooms|total_bedrooms|population|households|median_income|median_house_value|ocean_proximity|\n",
      "+---------+--------+------------------+-----------+--------------+----------+----------+-------------+------------------+---------------+\n",
      "|  -122.23|   37.88|              41.0|      880.0|         129.0|     322.0|     126.0|       8.3252|          452600.0|       NEAR BAY|\n",
      "|  -122.22|   37.86|              21.0|     7099.0|        1106.0|    2401.0|    1138.0|       8.3014|          358500.0|       NEAR BAY|\n",
      "|  -122.24|   37.85|              52.0|     1467.0|         190.0|     496.0|     177.0|       7.2574|          352100.0|       NEAR BAY|\n",
      "|  -122.25|   37.85|              52.0|     1274.0|         235.0|     558.0|     219.0|       5.6431|          341300.0|       NEAR BAY|\n",
      "|  -122.25|   37.85|              52.0|     1627.0|         280.0|     565.0|     259.0|       3.8462|          342200.0|       NEAR BAY|\n",
      "|  -122.25|   37.85|              52.0|      919.0|         213.0|     413.0|     193.0|       4.0368|          269700.0|       NEAR BAY|\n",
      "|  -122.25|   37.84|              52.0|     2535.0|         489.0|    1094.0|     514.0|       3.6591|          299200.0|       NEAR BAY|\n",
      "|  -122.25|   37.84|              52.0|     3104.0|         687.0|    1157.0|     647.0|         3.12|          241400.0|       NEAR BAY|\n",
      "|  -122.26|   37.84|              42.0|     2555.0|         665.0|    1206.0|     595.0|       2.0804|          226700.0|       NEAR BAY|\n",
      "|  -122.25|   37.84|              52.0|     3549.0|         707.0|    1551.0|     714.0|       3.6912|          261100.0|       NEAR BAY|\n",
      "+---------+--------+------------------+-----------+--------------+----------+----------+-------------+------------------+---------------+\n",
      "only showing top 10 rows\n",
      "\n"
     ]
    }
   ],
   "source": [
    "df.show(10)"
   ]
  },
  {
   "cell_type": "code",
   "execution_count": 6,
   "id": "cb86d993",
   "metadata": {},
   "outputs": [
    {
     "name": "stderr",
     "output_type": "stream",
     "text": [
      "                                                                                \r"
     ]
    },
    {
     "name": "stdout",
     "output_type": "stream",
     "text": [
      "longitude 0\n",
      "latitude 0\n",
      "housing_median_age 0\n",
      "total_rooms 0\n",
      "total_bedrooms 207\n",
      "population 0\n",
      "households 0\n",
      "median_income 0\n",
      "median_house_value 0\n",
      "ocean_proximity 0\n"
     ]
    }
   ],
   "source": [
    "# проверка на пропуски\n",
    "columns = df.columns\n",
    "\n",
    "for column in columns:\n",
    "    check_columns = F.col(column).isNull()\n",
    "    print(column, df.filter(check_columns).count())"
   ]
  },
  {
   "cell_type": "code",
   "execution_count": 7,
   "id": "041b303c",
   "metadata": {},
   "outputs": [
    {
     "name": "stdout",
     "output_type": "stream",
     "text": [
      "+-------+------------------+------------+--------------+------------+------------+-------------+------------------+\n",
      "|summary|housing_median_age| total_rooms|total_bedrooms|  population|  households|median_income|median_house_value|\n",
      "+-------+------------------+------------+--------------+------------+------------+-------------+------------------+\n",
      "|  count|             20640|       20640|         20433|       20640|       20640|        20640|             20640|\n",
      "|   mean|      28.639486...|2635.7630...|  537.87055...|1425.4767...|499.53968...| 3.8706710...|      206855.81...|\n",
      "| stddev|      12.585557...|2181.6152...|  421.38507...|1132.4621...|382.32975...| 1.8998217...|      115395.61...|\n",
      "|    min|               1.0|         2.0|           1.0|         3.0|         1.0|       0.4999|           14999.0|\n",
      "|    max|              52.0|     39320.0|        6445.0|     35682.0|      6082.0|      15.0001|          500001.0|\n",
      "+-------+------------------+------------+--------------+------------+------------+-------------+------------------+\n",
      "\n"
     ]
    }
   ],
   "source": [
    "numeric_columns = ['housing_median_age', 'total_rooms',\n",
    "                   'total_bedrooms','population', 'households',\n",
    "                   'median_income', 'median_house_value']\n",
    "\n",
    "df.describe(numeric_columns).show(truncate=12)"
   ]
  },
  {
   "cell_type": "code",
   "execution_count": 8,
   "id": "c532a007",
   "metadata": {
    "scrolled": true
   },
   "outputs": [
    {
     "data": {
      "text/html": [
       "<div>\n",
       "<style scoped>\n",
       "    .dataframe tbody tr th:only-of-type {\n",
       "        vertical-align: middle;\n",
       "    }\n",
       "\n",
       "    .dataframe tbody tr th {\n",
       "        vertical-align: top;\n",
       "    }\n",
       "\n",
       "    .dataframe thead th {\n",
       "        text-align: right;\n",
       "    }\n",
       "</style>\n",
       "<table border=\"1\" class=\"dataframe\">\n",
       "  <thead>\n",
       "    <tr style=\"text-align: right;\">\n",
       "      <th></th>\n",
       "      <th>summary</th>\n",
       "      <th>housing_median_age</th>\n",
       "      <th>total_rooms</th>\n",
       "      <th>total_bedrooms</th>\n",
       "      <th>population</th>\n",
       "      <th>households</th>\n",
       "      <th>median_income</th>\n",
       "      <th>median_house_value</th>\n",
       "    </tr>\n",
       "  </thead>\n",
       "  <tbody>\n",
       "    <tr>\n",
       "      <th>0</th>\n",
       "      <td>count</td>\n",
       "      <td>20640</td>\n",
       "      <td>20640</td>\n",
       "      <td>20433</td>\n",
       "      <td>20640</td>\n",
       "      <td>20640</td>\n",
       "      <td>20640</td>\n",
       "      <td>20640</td>\n",
       "    </tr>\n",
       "    <tr>\n",
       "      <th>1</th>\n",
       "      <td>mean</td>\n",
       "      <td>28.639486434108527</td>\n",
       "      <td>2635.7630813953488</td>\n",
       "      <td>537.8705525375618</td>\n",
       "      <td>1425.4767441860465</td>\n",
       "      <td>499.5396802325581</td>\n",
       "      <td>3.8706710029070246</td>\n",
       "      <td>206855.81690891474</td>\n",
       "    </tr>\n",
       "    <tr>\n",
       "      <th>2</th>\n",
       "      <td>stddev</td>\n",
       "      <td>12.58555761211163</td>\n",
       "      <td>2181.6152515827944</td>\n",
       "      <td>421.38507007403115</td>\n",
       "      <td>1132.46212176534</td>\n",
       "      <td>382.3297528316098</td>\n",
       "      <td>1.899821717945263</td>\n",
       "      <td>115395.61587441359</td>\n",
       "    </tr>\n",
       "    <tr>\n",
       "      <th>3</th>\n",
       "      <td>min</td>\n",
       "      <td>1.0</td>\n",
       "      <td>2.0</td>\n",
       "      <td>1.0</td>\n",
       "      <td>3.0</td>\n",
       "      <td>1.0</td>\n",
       "      <td>0.4999</td>\n",
       "      <td>14999.0</td>\n",
       "    </tr>\n",
       "    <tr>\n",
       "      <th>4</th>\n",
       "      <td>max</td>\n",
       "      <td>52.0</td>\n",
       "      <td>39320.0</td>\n",
       "      <td>6445.0</td>\n",
       "      <td>35682.0</td>\n",
       "      <td>6082.0</td>\n",
       "      <td>15.0001</td>\n",
       "      <td>500001.0</td>\n",
       "    </tr>\n",
       "  </tbody>\n",
       "</table>\n",
       "</div>"
      ],
      "text/plain": [
       "  summary  housing_median_age         total_rooms      total_bedrooms  \\\n",
       "0   count               20640               20640               20433   \n",
       "1    mean  28.639486434108527  2635.7630813953488   537.8705525375618   \n",
       "2  stddev   12.58555761211163  2181.6152515827944  421.38507007403115   \n",
       "3     min                 1.0                 2.0                 1.0   \n",
       "4     max                52.0             39320.0              6445.0   \n",
       "\n",
       "           population         households       median_income  \\\n",
       "0               20640              20640               20640   \n",
       "1  1425.4767441860465  499.5396802325581  3.8706710029070246   \n",
       "2    1132.46212176534  382.3297528316098   1.899821717945263   \n",
       "3                 3.0                1.0              0.4999   \n",
       "4             35682.0             6082.0             15.0001   \n",
       "\n",
       "   median_house_value  \n",
       "0               20640  \n",
       "1  206855.81690891474  \n",
       "2  115395.61587441359  \n",
       "3             14999.0  \n",
       "4            500001.0  "
      ]
     },
     "execution_count": 8,
     "metadata": {},
     "output_type": "execute_result"
    }
   ],
   "source": [
    "df.describe(numeric_columns).toPandas()"
   ]
  },
  {
   "cell_type": "code",
   "execution_count": 9,
   "id": "f139b647",
   "metadata": {},
   "outputs": [
    {
     "data": {
      "text/plain": [
       "[('longitude', 'double'),\n",
       " ('latitude', 'double'),\n",
       " ('housing_median_age', 'double'),\n",
       " ('total_rooms', 'double'),\n",
       " ('total_bedrooms', 'double'),\n",
       " ('population', 'double'),\n",
       " ('households', 'double'),\n",
       " ('median_income', 'double'),\n",
       " ('median_house_value', 'double'),\n",
       " ('ocean_proximity', 'string')]"
      ]
     },
     "execution_count": 9,
     "metadata": {},
     "output_type": "execute_result"
    }
   ],
   "source": [
    "df.dtypes"
   ]
  },
  {
   "cell_type": "code",
   "execution_count": 10,
   "id": "2d4c5680",
   "metadata": {},
   "outputs": [
    {
     "name": "stdout",
     "output_type": "stream",
     "text": [
      "               column    type\n",
      "0           longitude  double\n",
      "1            latitude  double\n",
      "2  housing_median_age  double\n",
      "3         total_rooms  double\n",
      "4      total_bedrooms  double\n",
      "5          population  double\n",
      "6          households  double\n",
      "7       median_income  double\n",
      "8  median_house_value  double\n",
      "9     ocean_proximity  string\n"
     ]
    }
   ],
   "source": [
    "print(pd.DataFrame(df.dtypes, columns=['column', 'type']).head(10))"
   ]
  },
  {
   "cell_type": "markdown",
   "id": "c66f60f1",
   "metadata": {},
   "source": [
    "### Вывод:\n",
    "\n",
    "1. Датасет состоит из 10 столбцов и 20 640 строк;\n",
    "2. В столбце `total_bedrooms` обнаружено 207 пропущенных значений, которые необходимо обработать;\n",
    "3. Столбец `ocean_proximity` категориальный и имеет тип данных string, остальные количественные и тип double;\n",
    "4. Целевой признак - `median_house_value`."
   ]
  },
  {
   "cell_type": "markdown",
   "id": "53871372",
   "metadata": {
    "id": "53871372"
   },
   "source": [
    "## Подготовка данных"
   ]
  },
  {
   "cell_type": "markdown",
   "id": "23580901",
   "metadata": {},
   "source": [
    "### Исследовательский анализ данных"
   ]
  },
  {
   "cell_type": "code",
   "execution_count": 11,
   "id": "10283170",
   "metadata": {},
   "outputs": [],
   "source": [
    "#pandas_df = df.toPandas()"
   ]
  },
  {
   "cell_type": "code",
   "execution_count": 12,
   "id": "b133398c",
   "metadata": {},
   "outputs": [
    {
     "name": "stderr",
     "output_type": "stream",
     "text": [
      "                                                                                \r"
     ]
    },
    {
     "data": {
      "image/png": "[encoded data removed]",
      "text/plain": [
       "<Figure size 720x504 with 1 Axes>"
      ]
     },
     "metadata": {
      "needs_background": "light"
     },
     "output_type": "display_data"
    }
   ],
   "source": [
    "median_age_unique = df.groupBy('housing_median_age').count().collect()\n",
    "\n",
    "# Creating dataset\n",
    "median_age_label = [item[0] for item in median_age_unique]\n",
    "median_age_count = [item[1] for item in median_age_unique]\n",
    "\n",
    "# Creating plot\n",
    "fig = plt.figure(figsize =(10, 7))\n",
    "plt.title('Медианный возраст жителей жилого массива')\n",
    "plt.xlabel('Возраст')\n",
    "plt.ylabel('Количество')\n",
    "plt.bar(median_age_label, median_age_count);"
   ]
  },
  {
   "cell_type": "code",
   "execution_count": 13,
   "id": "62a0c0c4",
   "metadata": {},
   "outputs": [
    {
     "data": {
      "image/png": "[encoded data removed]",
      "text/plain": [
       "<Figure size 1440x504 with 1 Axes>"
      ]
     },
     "metadata": {
      "needs_background": "light"
     },
     "output_type": "display_data"
    }
   ],
   "source": [
    "total_rooms_y = list(df.select('total_rooms').collect())\n",
    "total_rooms_x = np.arange(0, len(total_rooms_y), 1, dtype=int)\n",
    "\n",
    "# Creating plot\n",
    "fig = plt.figure(figsize =(20, 7))\n",
    "\n",
    "plt.title('Общее количество комнат в домах жилого массива')\n",
    "plt.xlabel('Домовладения')\n",
    "plt.ylabel('Общая площадь домов')\n",
    "plt.scatter(x=total_rooms_x, y=total_rooms_y);"
   ]
  },
  {
   "cell_type": "code",
   "execution_count": 14,
   "id": "6a35636f",
   "metadata": {},
   "outputs": [
    {
     "data": {
      "image/png": "[encoded data removed]",
      "text/plain": [
       "<Figure size 1440x504 with 1 Axes>"
      ]
     },
     "metadata": {
      "needs_background": "light"
     },
     "output_type": "display_data"
    }
   ],
   "source": [
    "total_bedrooms_y = list(df.select('total_bedrooms').collect())\n",
    "total_bedrooms_x = np.arange(0, len(total_bedrooms_y), 1, dtype=int)\n",
    "\n",
    "# Creating plot\n",
    "fig = plt.figure(figsize =(20, 7))\n",
    "\n",
    "plt.title('Общее количество спален в домах жилого массива')\n",
    "plt.xlabel(\"Домовладения\")\n",
    "plt.ylabel('Общая площадь спален')\n",
    "plt.scatter(x=total_bedrooms_x, y=total_bedrooms_y);\n",
    "\n",
    "#plt.show()"
   ]
  },
  {
   "cell_type": "code",
   "execution_count": 15,
   "id": "d05bcc71",
   "metadata": {
    "scrolled": false
   },
   "outputs": [
    {
     "data": {
      "image/png": "[encoded data removed]",
      "text/plain": [
       "<Figure size 1440x504 with 1 Axes>"
      ]
     },
     "metadata": {
      "needs_background": "light"
     },
     "output_type": "display_data"
    }
   ],
   "source": [
    "population_y = list(df.select('population').collect())\n",
    "population_x = np.arange(0, len(population_y), 1, dtype=int)\n",
    "\n",
    "# Creating plot\n",
    "fig = plt.figure(figsize =(20, 7))\n",
    "\n",
    "plt.title('Количество человек проживающих в жилом массиве')\n",
    "plt.xlabel(\"Домовладения\")\n",
    "plt.ylabel('Количство человек')\n",
    "plt.scatter(x=population_x, y=population_y);"
   ]
  },
  {
   "cell_type": "code",
   "execution_count": 16,
   "id": "fd6f97e4",
   "metadata": {},
   "outputs": [
    {
     "data": {
      "image/png": "[encoded data removed]",
      "text/plain": [
       "<Figure size 1440x504 with 1 Axes>"
      ]
     },
     "metadata": {
      "needs_background": "light"
     },
     "output_type": "display_data"
    }
   ],
   "source": [
    "households_y = list(df.select('households').collect())\n",
    "households_x = np.arange(0, len(households_y), 1, dtype=int)\n",
    "\n",
    "# Creating plot\n",
    "fig = plt.figure(figsize =(20, 7))\n",
    "\n",
    "plt.title('Количество домовладений в жилом массиве')\n",
    "plt.xlabel(\"Домовладения\")\n",
    "plt.ylabel('Количество домов')\n",
    "plt.scatter(x=households_x, y=households_y);"
   ]
  },
  {
   "cell_type": "code",
   "execution_count": 17,
   "id": "f381a3b9",
   "metadata": {},
   "outputs": [
    {
     "data": {
      "image/png": "[encoded data removed]",
      "text/plain": [
       "<Figure size 1440x504 with 1 Axes>"
      ]
     },
     "metadata": {
      "needs_background": "light"
     },
     "output_type": "display_data"
    }
   ],
   "source": [
    "median_income_y = list(df.select('median_income').collect())\n",
    "median_income_x = np.arange(0, len(median_income_y), 1, dtype=int)\n",
    "\n",
    "# Creating plot\n",
    "fig = plt.figure(figsize =(20, 7))\n",
    "\n",
    "plt.title('Медианная стоимость дома в жилом массиве')\n",
    "plt.xlabel(\"Домовладения\")\n",
    "plt.ylabel('Медианная стоимость')\n",
    "plt.scatter(x=median_income_x, y=median_income_y);"
   ]
  },
  {
   "cell_type": "markdown",
   "id": "30090011",
   "metadata": {},
   "source": [
    "1. Значения в столбце `housing_median_age` распределены нормально, присутствуют пиковые значения.\n",
    "2. В колонках `total_rooms`, `total_bedrooms`, `population`,`households`, `median_income` данные распределены нормально, скошены вправо и имеют аномальные значения."
   ]
  },
  {
   "cell_type": "markdown",
   "id": "00553229",
   "metadata": {},
   "source": [
    "### Замена пропусков на среднее значение"
   ]
  },
  {
   "cell_type": "code",
   "execution_count": 18,
   "id": "91d5f457",
   "metadata": {},
   "outputs": [],
   "source": [
    "mean = df.select(F.mean('total_bedrooms')).collect()[0][0]"
   ]
  },
  {
   "cell_type": "code",
   "execution_count": 19,
   "id": "8b245ab1",
   "metadata": {},
   "outputs": [],
   "source": [
    "df = df.na.fill({'total_bedrooms': mean})"
   ]
  },
  {
   "cell_type": "markdown",
   "id": "ce6a9c72",
   "metadata": {},
   "source": [
    "### Создание новых признаков"
   ]
  },
  {
   "cell_type": "markdown",
   "id": "83917f9e",
   "metadata": {},
   "source": [
    "\n",
    "* Отношение количества комнат `total_rooms` к количеству домовладений `households`.\n",
    "* Отношение количества жителей `population` к количеству домовладений `households`.\n",
    "* Отношение количества спален `total_bedrooms` к общему количеству комнат `total_rooms`."
   ]
  },
  {
   "cell_type": "code",
   "execution_count": 20,
   "id": "851c3a9b",
   "metadata": {},
   "outputs": [],
   "source": [
    "df = df.withColumn('rooms_per_household',\n",
    "                   F.col('total_rooms') / F.col('households'))\n",
    "df = df.withColumn('population_in_household',\n",
    "                   F.col('population') / F.col('households'))\n",
    "df = df.withColumn('bedroom_index',\n",
    "                   F.col('total_bedrooms') / F.col('total_rooms'))"
   ]
  },
  {
   "cell_type": "markdown",
   "id": "5473d438",
   "metadata": {},
   "source": [
    "### Преобразование данных"
   ]
  },
  {
   "cell_type": "code",
   "execution_count": 21,
   "id": "01b00e8f",
   "metadata": {},
   "outputs": [],
   "source": [
    "categorical_cols = ['ocean_proximity']\n",
    "\n",
    "numerical_cols  = ['longitude','latitude','housing_median_age', \\\n",
    "                   'total_rooms','total_bedrooms', 'population', \\\n",
    "                   'households','median_income','rooms_per_household',\\\n",
    "                   'population_in_household', 'bedroom_index']\n",
    "\n",
    "target = \"median_house_value\""
   ]
  },
  {
   "cell_type": "code",
   "execution_count": 22,
   "id": "b290dc95",
   "metadata": {},
   "outputs": [],
   "source": [
    "stages = []\n",
    "\n",
    "for categoricalCol in categorical_cols:\n",
    "    #преобразование категориальных колонок в бинарные вектора благодаря строковому преобразователю\n",
    "    indexer = StringIndexer(inputCols=categorical_cols,\n",
    "                        outputCols=[c+'_idx' for c in categorical_cols])\n",
    "\n",
    "    encoder = OneHotEncoder(inputCols=[c+'_idx' for c in categorical_cols],\n",
    "                        outputCols=[c+'_ohe' for c in categorical_cols])\n",
    "\n",
    "    categorical_assembler = \\\n",
    "        VectorAssembler(inputCols=[c+'_ohe' for c in categorical_cols],\n",
    "                                        outputCol=\"categorical_features\")\n",
    "\n",
    "numeric_assembler = VectorAssembler(inputCols=numerical_cols, outputCol='numeric_features')\n",
    "\n",
    "standardScaler = StandardScaler(inputCol='numeric_features', outputCol='numeric_features_scaler')\n",
    "\n",
    "features = ['categorical_features', 'numeric_features_scaler']\n",
    "\n",
    "final_assembler = VectorAssembler(inputCols = features, outputCol='features')\n",
    "\n",
    "stages += [indexer, encoder, categorical_assembler, numeric_assembler, standardScaler, final_assembler]"
   ]
  },
  {
   "cell_type": "code",
   "execution_count": 23,
   "id": "64516f98",
   "metadata": {},
   "outputs": [],
   "source": [
    "#indexer = StringIndexer(inputCols=categorical_cols,\n",
    "#                        outputCols=[c+'_idx' for c in categorical_cols])\n",
    "#\n",
    "#train = indexer.fit(train).transform(train)\n",
    "#\n",
    "#cols = [c for c in train.columns for i in categorical_cols if (c.startswith(i))]"
   ]
  },
  {
   "cell_type": "code",
   "execution_count": 24,
   "id": "cbe9605c",
   "metadata": {
    "scrolled": true
   },
   "outputs": [],
   "source": [
    "#df.select(cols).show(5)"
   ]
  },
  {
   "cell_type": "code",
   "execution_count": 25,
   "id": "63758c47",
   "metadata": {},
   "outputs": [],
   "source": [
    "#encoder = OneHotEncoder(inputCols=[c+'_idx' for c in categorical_cols],\n",
    "#                        outputCols=[c+'_ohe' for c in categorical_cols])\n",
    "#df = encoder.fit(df).transform(df)\n",
    "#\n",
    "#cols = [c for c in df.columns for i in categorical_cols if (c.startswith(i))]"
   ]
  },
  {
   "cell_type": "code",
   "execution_count": 26,
   "id": "badce01d",
   "metadata": {},
   "outputs": [],
   "source": [
    "#df.select(cols).show(5)"
   ]
  },
  {
   "cell_type": "code",
   "execution_count": 27,
   "id": "d1f37cd9",
   "metadata": {},
   "outputs": [],
   "source": [
    "#categorical_assembler = \\\n",
    "#        VectorAssembler(inputCols=[c+'_ohe' for c in categorical_cols],\n",
    "#                                        outputCol=\"categorical_features\")\n",
    "#df = categorical_assembler.transform(df)"
   ]
  },
  {
   "cell_type": "code",
   "execution_count": 28,
   "id": "8ec3e382",
   "metadata": {},
   "outputs": [],
   "source": [
    "#numeric_assembler = VectorAssembler(inputCols=numerical_cols, outputCol='numeric_features')\n",
    "#df = numeric_assembler.transform(df)"
   ]
  },
  {
   "cell_type": "code",
   "execution_count": 29,
   "id": "72897e31",
   "metadata": {},
   "outputs": [],
   "source": [
    "#df.select(['numeric_features']).show(5)"
   ]
  },
  {
   "cell_type": "code",
   "execution_count": 30,
   "id": "e3cf0d01",
   "metadata": {
    "scrolled": true
   },
   "outputs": [],
   "source": [
    "#standardScaler = StandardScaler(inputCol='numeric_features', outputCol='numeric_features_scaler')\n",
    "#df = standardScaler.fit(df).transform(df)"
   ]
  },
  {
   "cell_type": "code",
   "execution_count": 31,
   "id": "1c5b3038",
   "metadata": {},
   "outputs": [],
   "source": [
    "#df.select(['numeric_features_scaler']).show(5)"
   ]
  },
  {
   "cell_type": "code",
   "execution_count": 32,
   "id": "e4d2c900",
   "metadata": {},
   "outputs": [],
   "source": [
    "#features = ['categorical_features', 'numeric_features_scaler']\n",
    "#\n",
    "#final_assembler = VectorAssembler(inputCols = features, outputCol='features')\n",
    "#df = final_assembler.transform(df)"
   ]
  },
  {
   "cell_type": "code",
   "execution_count": 33,
   "id": "b2829e28",
   "metadata": {},
   "outputs": [],
   "source": [
    "#df.select('features').show(5)"
   ]
  },
  {
   "cell_type": "markdown",
   "id": "9f0a82f3",
   "metadata": {
    "id": "9f0a82f3"
   },
   "source": [
    "## Обучение моделей"
   ]
  },
  {
   "cell_type": "markdown",
   "id": "4d3ddf19",
   "metadata": {},
   "source": [
    "### Разделение данных на обучающую и тестовую выборки"
   ]
  },
  {
   "cell_type": "code",
   "execution_count": 34,
   "id": "bddb08c4",
   "metadata": {
    "id": "bddb08c4",
    "scrolled": true
   },
   "outputs": [
    {
     "name": "stderr",
     "output_type": "stream",
     "text": [
      "                                                                                \r"
     ]
    },
    {
     "name": "stdout",
     "output_type": "stream",
     "text": [
      "Training Dataset Count: 14509\n",
      "Test Dataset Count: 6131\n"
     ]
    }
   ],
   "source": [
    "train, test = df.randomSplit([0.7, 0.3], seed = 42)\n",
    "print(\"Training Dataset Count: \" + str(train.count()))\n",
    "print(\"Test Dataset Count: \" + str(test.count()))"
   ]
  },
  {
   "cell_type": "markdown",
   "id": "2289a40c",
   "metadata": {},
   "source": [
    "### Модель обученная на всех признаках"
   ]
  },
  {
   "cell_type": "code",
   "execution_count": 35,
   "id": "e530dd83",
   "metadata": {},
   "outputs": [],
   "source": [
    "lr = LinearRegression(labelCol=target,\n",
    "                      featuresCol='features')"
   ]
  },
  {
   "cell_type": "code",
   "execution_count": 36,
   "id": "b7550212",
   "metadata": {},
   "outputs": [],
   "source": [
    "grid_search = ParamGridBuilder().addGrid(\n",
    "    lr.regParam, [0.0, 0.05, 0.2, 1.0]\n",
    ").addGrid(\n",
    "    lr.elasticNetParam, [0.5, 1.0]\n",
    ").build()"
   ]
  },
  {
   "cell_type": "code",
   "execution_count": 37,
   "id": "3ab82c81",
   "metadata": {},
   "outputs": [],
   "source": [
    "evaluator = RegressionEvaluator(predictionCol='prediction',\n",
    "                                labelCol=target)"
   ]
  },
  {
   "cell_type": "code",
   "execution_count": 38,
   "id": "8dda4a82",
   "metadata": {},
   "outputs": [],
   "source": [
    "cv = CrossValidator(estimator=lr,\n",
    "                    estimatorParamMaps=grid_search,\n",
    "                    evaluator=evaluator,\n",
    "                    numFolds=5,\n",
    "                    seed=RANDOM_SEED\n",
    "                   )"
   ]
  },
  {
   "cell_type": "code",
   "execution_count": 39,
   "id": "d8eeb6ba",
   "metadata": {},
   "outputs": [
    {
     "name": "stderr",
     "output_type": "stream",
     "text": [
      "23/03/21 13:59:06 WARN Instrumentation: [258b86eb] regParam is zero, which might cause numerical instability and overfitting.\n",
      "23/03/21 13:59:08 WARN BLAS: Failed to load implementation from: com.github.fommil.netlib.NativeSystemBLAS\n",
      "23/03/21 13:59:08 WARN BLAS: Failed to load implementation from: com.github.fommil.netlib.NativeRefBLAS\n",
      "23/03/21 13:59:09 WARN LAPACK: Failed to load implementation from: com.github.fommil.netlib.NativeSystemLAPACK\n",
      "23/03/21 13:59:09 WARN LAPACK: Failed to load implementation from: com.github.fommil.netlib.NativeRefLAPACK\n",
      "23/03/21 13:59:11 WARN Instrumentation: [b7498a33] regParam is zero, which might cause numerical instability and overfitting.\n",
      "23/03/21 13:59:20 WARN Instrumentation: [87310a79] regParam is zero, which might cause numerical instability and overfitting.\n",
      "23/03/21 13:59:23 WARN Instrumentation: [a5a1b8c8] regParam is zero, which might cause numerical instability and overfitting.\n",
      "23/03/21 13:59:30 WARN Instrumentation: [f5947793] regParam is zero, which might cause numerical instability and overfitting.\n",
      "23/03/21 13:59:32 WARN Instrumentation: [4785e344] regParam is zero, which might cause numerical instability and overfitting.\n",
      "23/03/21 13:59:38 WARN Instrumentation: [36a00433] regParam is zero, which might cause numerical instability and overfitting.\n",
      "23/03/21 13:59:40 WARN Instrumentation: [933b6f73] regParam is zero, which might cause numerical instability and overfitting.\n",
      "23/03/21 13:59:46 WARN Instrumentation: [c1273701] regParam is zero, which might cause numerical instability and overfitting.\n",
      "23/03/21 13:59:48 WARN Instrumentation: [d782bef1] regParam is zero, which might cause numerical instability and overfitting.\n",
      "23/03/21 13:59:53 WARN Instrumentation: [3b3b020f] regParam is zero, which might cause numerical instability and overfitting.\n"
     ]
    }
   ],
   "source": [
    "pipeline = Pipeline(stages=stages + [cv])\n",
    "\n",
    "model = pipeline.fit(train)"
   ]
  },
  {
   "cell_type": "code",
   "execution_count": 40,
   "id": "80965773",
   "metadata": {},
   "outputs": [],
   "source": [
    "predictions = model.transform(test)"
   ]
  },
  {
   "cell_type": "code",
   "execution_count": 41,
   "id": "e84cb57a",
   "metadata": {},
   "outputs": [
    {
     "name": "stdout",
     "output_type": "stream",
     "text": [
      "+------------------+------------------+\n",
      "|median_house_value|        prediction|\n",
      "+------------------+------------------+\n",
      "|          103600.0| 144122.2281921506|\n",
      "|          106700.0|213237.63321337616|\n",
      "|           73200.0|117995.74136511702|\n",
      "|           78300.0|121935.80880644731|\n",
      "|           90100.0| 190955.5203064778|\n",
      "|           69000.0| 173837.8330523083|\n",
      "|           70000.0|146545.86641537026|\n",
      "|           67000.0|148320.30382671347|\n",
      "|           70500.0|139154.29858598718|\n",
      "|           86400.0|181371.30572219938|\n",
      "|          128900.0|202106.40727368277|\n",
      "|           68300.0|141187.80449047685|\n",
      "|           70500.0| 160210.7637608843|\n",
      "|           60000.0| 166866.0432735528|\n",
      "|           75500.0|157290.03009593813|\n",
      "|          109400.0|162455.35946113616|\n",
      "|           85100.0| 176295.8058063849|\n",
      "|           85400.0|186829.13253200566|\n",
      "|           92700.0| 180702.9327521855|\n",
      "|           74100.0|150613.65664452454|\n",
      "+------------------+------------------+\n",
      "only showing top 20 rows\n",
      "\n"
     ]
    }
   ],
   "source": [
    "predictions.select(target, 'prediction').show()"
   ]
  },
  {
   "cell_type": "markdown",
   "id": "f375418d",
   "metadata": {},
   "source": [
    "### Модель обученная на числовых признаках"
   ]
  },
  {
   "cell_type": "code",
   "execution_count": 42,
   "id": "cbf25cd9",
   "metadata": {},
   "outputs": [],
   "source": [
    "lr_num = LinearRegression(labelCol=target,\n",
    "                          featuresCol='numeric_features_scaler')"
   ]
  },
  {
   "cell_type": "code",
   "execution_count": 43,
   "id": "f5ca9656",
   "metadata": {},
   "outputs": [],
   "source": [
    "grid_search = ParamGridBuilder().addGrid(\n",
    "    lr_num.regParam, [0.0, 0.05, 0.2, 1.0]\n",
    ").addGrid(\n",
    "    lr_num.elasticNetParam, [0.5, 1.0]\n",
    ").build()"
   ]
  },
  {
   "cell_type": "code",
   "execution_count": 44,
   "id": "7be3bf99",
   "metadata": {},
   "outputs": [],
   "source": [
    "cv_num = CrossValidator(estimator=lr_num,\n",
    "                    estimatorParamMaps=grid_search,\n",
    "                    evaluator=evaluator,\n",
    "                    numFolds=5,\n",
    "                    seed=RANDOM_SEED\n",
    "                   )"
   ]
  },
  {
   "cell_type": "code",
   "execution_count": 45,
   "id": "86925262",
   "metadata": {},
   "outputs": [
    {
     "name": "stderr",
     "output_type": "stream",
     "text": [
      "23/03/21 13:59:56 WARN Instrumentation: [f104e227] regParam is zero, which might cause numerical instability and overfitting.\n",
      "23/03/21 13:59:59 WARN Instrumentation: [59f82a3a] regParam is zero, which might cause numerical instability and overfitting.\n",
      "23/03/21 14:00:03 WARN Instrumentation: [21b9a731] regParam is zero, which might cause numerical instability and overfitting.\n",
      "23/03/21 14:00:05 WARN Instrumentation: [5b396aa7] regParam is zero, which might cause numerical instability and overfitting.\n",
      "23/03/21 14:00:09 WARN Instrumentation: [6ab74e85] regParam is zero, which might cause numerical instability and overfitting.\n",
      "23/03/21 14:00:11 WARN Instrumentation: [0b69547f] regParam is zero, which might cause numerical instability and overfitting.\n",
      "23/03/21 14:00:15 WARN Instrumentation: [3b40bd8f] regParam is zero, which might cause numerical instability and overfitting.\n",
      "23/03/21 14:00:17 WARN Instrumentation: [de2d7aa2] regParam is zero, which might cause numerical instability and overfitting.\n",
      "23/03/21 14:00:21 WARN Instrumentation: [d92176d0] regParam is zero, which might cause numerical instability and overfitting.\n",
      "23/03/21 14:00:22 WARN Instrumentation: [8ef4ef7e] regParam is zero, which might cause numerical instability and overfitting.\n"
     ]
    }
   ],
   "source": [
    "pipeline = Pipeline(stages=stages + [cv_num])\n",
    "\n",
    "model_num = pipeline.fit(train)"
   ]
  },
  {
   "cell_type": "code",
   "execution_count": 46,
   "id": "6c0aff06",
   "metadata": {},
   "outputs": [
    {
     "name": "stdout",
     "output_type": "stream",
     "text": [
      "+------------------+------------------+\n",
      "|median_house_value|        prediction|\n",
      "+------------------+------------------+\n",
      "|          103600.0| 96492.32213169709|\n",
      "|          106700.0|187464.31753674196|\n",
      "|           73200.0| 69845.37665912835|\n",
      "|           78300.0| 75552.92053767992|\n",
      "|           90100.0| 159800.4552827063|\n",
      "|           69000.0|142921.34391881572|\n",
      "|           70000.0| 115577.6611476834|\n",
      "|           67000.0|117033.63599337498|\n",
      "|           70500.0|106869.99479725258|\n",
      "|           86400.0|152448.08212758927|\n",
      "|          128900.0|170541.18528219825|\n",
      "|           68300.0| 109179.6385242478|\n",
      "|           70500.0|128790.93855701992|\n",
      "|           60000.0|140569.06727345427|\n",
      "|           75500.0| 127230.7785480367|\n",
      "|          109400.0|113390.31511818292|\n",
      "|           85100.0|147964.69083393458|\n",
      "|           85400.0| 155865.6094263345|\n",
      "|           92700.0|149763.46534936596|\n",
      "|           74100.0|120936.99932990596|\n",
      "+------------------+------------------+\n",
      "only showing top 20 rows\n",
      "\n"
     ]
    }
   ],
   "source": [
    "# модель обучена на всех признаках\n",
    "predictions_num = model_num.transform(test)\n",
    "\n",
    "predictions_num.select(target, 'prediction').show()"
   ]
  },
  {
   "cell_type": "markdown",
   "id": "1944e124",
   "metadata": {},
   "source": [
    "### Метрики обученных моделей"
   ]
  },
  {
   "cell_type": "code",
   "execution_count": 47,
   "id": "f68b1e4a",
   "metadata": {},
   "outputs": [
    {
     "name": "stdout",
     "output_type": "stream",
     "text": [
      "R2 модели, обученной на всех признаках:  0.64\n",
      "MAE модели, обученной на всех признаках:  50089.95\n",
      "RMSE модели, обученной на всех признаках:  70022.78\n"
     ]
    }
   ],
   "source": [
    "r2 = RegressionEvaluator(labelCol=target, metricName='r2').evaluate(predictions)\n",
    "\n",
    "mae = RegressionEvaluator(labelCol=target, metricName='mae').evaluate(predictions)\n",
    "\n",
    "rmse = RegressionEvaluator(labelCol=target, metricName='rmse').evaluate(predictions)\n",
    "\n",
    "print('R2 модели, обученной на всех признаках: ', round(r2, 2))\n",
    "print('MAE модели, обученной на всех признаках: ', round(mae, 2))\n",
    "print('RMSE модели, обученной на всех признаках: ', round(rmse, 2))"
   ]
  },
  {
   "cell_type": "code",
   "execution_count": 48,
   "id": "febcf3a1",
   "metadata": {},
   "outputs": [
    {
     "name": "stdout",
     "output_type": "stream",
     "text": [
      "R2 модели, обученной только на числовых признаках:  0.63\n",
      "MAE модели, обученной только на числовых признаках:  50842.87\n",
      "RMSE модели, обученной только на числовых признаках:  71026.19\n"
     ]
    }
   ],
   "source": [
    "r2 = RegressionEvaluator(labelCol=target, metricName='r2').evaluate(predictions_num)\n",
    "\n",
    "mae = RegressionEvaluator(labelCol=target, metricName='mae').evaluate(predictions_num)\n",
    "\n",
    "rmse = RegressionEvaluator(labelCol=target, metricName='rmse').evaluate(predictions_num)\n",
    "\n",
    "print('R2 модели, обученной только на числовых признаках: ', round(r2, 2))\n",
    "print('MAE модели, обученной только на числовых признаках: ', round(mae, 2))\n",
    "print('RMSE модели, обученной только на числовых признаках: ', round(rmse, 2))"
   ]
  },
  {
   "cell_type": "code",
   "execution_count": 49,
   "id": "7fd2573f",
   "metadata": {},
   "outputs": [],
   "source": [
    "spark.stop()"
   ]
  },
  {
   "cell_type": "markdown",
   "id": "757fd103",
   "metadata": {
    "id": "757fd103"
   },
   "source": [
    "# Анализ результатов"
   ]
  },
  {
   "cell_type": "markdown",
   "id": "c187c321",
   "metadata": {},
   "source": [
    "1. Инициализирована локальная Spark-сессия.\n",
    "2. Прочитано содержимое файла /datasets/housing.csv.\n",
    "3. Выведены типы данных колонок датасета и проведен обзор данных:\n",
    "    1. Датасет состоит из 10 столбцов и 20 640 строк;\n",
    "    2. В столбце `total_bedrooms` обнаружено 207 пропущенных значений, которые необходимо обработать;\n",
    "    3. Столбец `ocean_proximity` категориальный и имеет тип данных string, остальные количественные и тип double;\n",
    "    4. Целевой признак - `median_house_value`.\n",
    "4. Выполнена предобработка данных:\n",
    "    1. Данные исследованы на наличие пропусков и заполнены средним занчением.\n",
    "    2. Преобразована колонка с категориальным значенем `ocean_proximity` техникой One hot encoding.\n",
    "5.  Обучены модели линейной регрессии на различных наборах данных показало следующие результаты:\n",
    "    1. модель, обученная на всех признаках:\n",
    "        * R2 - 0.64\n",
    "        * MAE - 50089.95\n",
    "        * RMSE - 70022.78\n",
    "    \n",
    "    2. модель, обученная только на числовых признаках\n",
    "        * R2 - 0.63\n",
    "        * MAE - 50842.87\n",
    "        * RMSE - 71026.19\n",
    "\n",
    "Значения метрик (коэффициент детерминации R2, средняя абсолютная ошибка MAE и корень среднего квадрата ошибок RMSE) получились лучше у модели, обученной на всех признаках - категориальных и числовых."
   ]
  }
 ],
 "metadata": {
  "ExecuteTimeLog": [
   {
    "duration": 709,
    "start_time": "2023-03-14T18:23:55.565Z"
   },
   {
    "duration": 77,
    "start_time": "2023-03-14T18:26:20.711Z"
   },
   {
    "duration": 14523,
    "start_time": "2023-03-14T18:26:48.700Z"
   },
   {
    "duration": 6,
    "start_time": "2023-03-14T18:27:04.576Z"
   },
   {
    "duration": 8080,
    "start_time": "2023-03-14T18:27:07.233Z"
   },
   {
    "duration": 33,
    "start_time": "2023-03-14T18:36:22.744Z"
   },
   {
    "duration": 8,
    "start_time": "2023-03-14T18:39:09.102Z"
   },
   {
    "duration": 8,
    "start_time": "2023-03-14T18:55:13.726Z"
   },
   {
    "duration": 5,
    "start_time": "2023-03-14T18:55:18.797Z"
   },
   {
    "duration": 10,
    "start_time": "2023-03-14T18:55:27.473Z"
   },
   {
    "duration": 696,
    "start_time": "2023-03-15T16:22:31.497Z"
   },
   {
    "duration": 16129,
    "start_time": "2023-03-15T16:22:32.326Z"
   },
   {
    "duration": 8732,
    "start_time": "2023-03-15T16:23:00.254Z"
   },
   {
    "duration": 37,
    "start_time": "2023-03-15T16:23:13.306Z"
   },
   {
    "duration": 11,
    "start_time": "2023-03-15T16:23:20.156Z"
   },
   {
    "duration": 1586,
    "start_time": "2023-03-15T16:23:33.485Z"
   },
   {
    "duration": 73,
    "start_time": "2023-03-15T16:24:29.518Z"
   },
   {
    "duration": 47,
    "start_time": "2023-03-15T16:24:49.133Z"
   },
   {
    "duration": 3744,
    "start_time": "2023-03-15T16:36:01.612Z"
   },
   {
    "duration": 1448,
    "start_time": "2023-03-15T16:36:09.816Z"
   },
   {
    "duration": 1566,
    "start_time": "2023-03-15T16:38:37.187Z"
   },
   {
    "duration": 3,
    "start_time": "2023-03-15T16:43:55.561Z"
   },
   {
    "duration": 1917,
    "start_time": "2023-03-15T16:46:07.749Z"
   },
   {
    "duration": 99,
    "start_time": "2023-03-15T16:46:41.936Z"
   },
   {
    "duration": 190,
    "start_time": "2023-03-15T16:46:55.270Z"
   },
   {
    "duration": 10,
    "start_time": "2023-03-15T16:47:55.663Z"
   },
   {
    "duration": 4,
    "start_time": "2023-03-15T16:47:59.762Z"
   },
   {
    "duration": 4,
    "start_time": "2023-03-15T16:48:00.078Z"
   },
   {
    "duration": 680,
    "start_time": "2023-03-15T16:48:00.407Z"
   },
   {
    "duration": 2004,
    "start_time": "2023-03-15T16:48:05.866Z"
   },
   {
    "duration": 6,
    "start_time": "2023-03-15T16:48:07.872Z"
   },
   {
    "duration": 9,
    "start_time": "2023-03-15T16:48:07.879Z"
   },
   {
    "duration": 288,
    "start_time": "2023-03-15T16:48:10.768Z"
   },
   {
    "duration": 23,
    "start_time": "2023-03-15T16:48:11.173Z"
   },
   {
    "duration": 3,
    "start_time": "2023-03-15T16:48:11.837Z"
   },
   {
    "duration": 12,
    "start_time": "2023-03-15T16:48:17.042Z"
   },
   {
    "duration": 5,
    "start_time": "2023-03-15T16:49:04.020Z"
   },
   {
    "duration": 90,
    "start_time": "2023-03-15T16:49:07.920Z"
   },
   {
    "duration": 636,
    "start_time": "2023-03-15T16:49:18.121Z"
   },
   {
    "duration": 578,
    "start_time": "2023-03-15T16:49:21.000Z"
   },
   {
    "duration": 95,
    "start_time": "2023-03-15T17:05:01.501Z"
   },
   {
    "duration": 52,
    "start_time": "2023-03-15T17:05:59.951Z"
   },
   {
    "duration": 80,
    "start_time": "2023-03-15T17:06:04.220Z"
   },
   {
    "duration": 82,
    "start_time": "2023-03-15T17:09:01.941Z"
   },
   {
    "duration": 729,
    "start_time": "2023-03-15T17:10:34.566Z"
   },
   {
    "duration": 15275,
    "start_time": "2023-03-15T17:10:35.297Z"
   },
   {
    "duration": 8993,
    "start_time": "2023-03-15T17:10:50.575Z"
   },
   {
    "duration": 4619,
    "start_time": "2023-03-15T17:10:59.570Z"
   },
   {
    "duration": 8,
    "start_time": "2023-03-15T17:11:04.192Z"
   },
   {
    "duration": 12,
    "start_time": "2023-03-15T17:11:04.202Z"
   },
   {
    "duration": 837,
    "start_time": "2023-03-15T17:11:04.217Z"
   },
   {
    "duration": 99,
    "start_time": "2023-03-15T17:11:05.055Z"
   },
   {
    "duration": 3,
    "start_time": "2023-03-15T17:11:05.156Z"
   },
   {
    "duration": 1803,
    "start_time": "2023-03-15T17:11:05.160Z"
   },
   {
    "duration": 394,
    "start_time": "2023-03-15T17:11:06.966Z"
   },
   {
    "duration": 891,
    "start_time": "2023-03-15T17:11:07.362Z"
   },
   {
    "duration": 104,
    "start_time": "2023-03-15T17:11:08.255Z"
   },
   {
    "duration": 186,
    "start_time": "2023-03-15T17:11:08.361Z"
   },
   {
    "duration": 3,
    "start_time": "2023-03-15T17:13:31.798Z"
   },
   {
    "duration": 83,
    "start_time": "2023-03-15T17:13:34.930Z"
   },
   {
    "duration": 3,
    "start_time": "2023-03-15T17:13:53.205Z"
   },
   {
    "duration": 94,
    "start_time": "2023-03-15T17:13:56.534Z"
   },
   {
    "duration": 3,
    "start_time": "2023-03-15T17:14:34.781Z"
   },
   {
    "duration": 35,
    "start_time": "2023-03-15T17:14:38.248Z"
   },
   {
    "duration": 8,
    "start_time": "2023-03-15T17:15:56.475Z"
   },
   {
    "duration": 3,
    "start_time": "2023-03-15T17:16:28.954Z"
   },
   {
    "duration": 3268,
    "start_time": "2023-03-15T17:16:34.402Z"
   },
   {
    "duration": 279,
    "start_time": "2023-03-15T17:17:31.571Z"
   },
   {
    "duration": 11,
    "start_time": "2023-03-15T17:21:09.770Z"
   },
   {
    "duration": 80,
    "start_time": "2023-03-15T17:21:28.623Z"
   },
   {
    "duration": 8,
    "start_time": "2023-03-15T17:22:52.391Z"
   },
   {
    "duration": 89,
    "start_time": "2023-03-15T17:22:53.655Z"
   },
   {
    "duration": 8,
    "start_time": "2023-03-15T17:24:58.711Z"
   },
   {
    "duration": 86,
    "start_time": "2023-03-15T17:25:13.879Z"
   },
   {
    "duration": 1710,
    "start_time": "2023-03-15T17:26:03.243Z"
   },
   {
    "duration": 8,
    "start_time": "2023-03-15T17:26:05.857Z"
   },
   {
    "duration": 85,
    "start_time": "2023-03-15T17:26:09.515Z"
   },
   {
    "duration": 7,
    "start_time": "2023-03-15T17:26:17.050Z"
   },
   {
    "duration": 79,
    "start_time": "2023-03-15T17:26:19.337Z"
   },
   {
    "duration": 40,
    "start_time": "2023-03-15T17:28:48.655Z"
   },
   {
    "duration": 25,
    "start_time": "2023-03-15T17:33:31.660Z"
   },
   {
    "duration": 4,
    "start_time": "2023-03-15T17:34:38.746Z"
   },
   {
    "duration": 3,
    "start_time": "2023-03-15T17:34:39.124Z"
   },
   {
    "duration": 4,
    "start_time": "2023-03-15T17:34:39.935Z"
   },
   {
    "duration": 790,
    "start_time": "2023-03-15T17:34:41.193Z"
   },
   {
    "duration": 1332,
    "start_time": "2023-03-15T17:34:46.239Z"
   },
   {
    "duration": 28,
    "start_time": "2023-03-15T17:34:51.540Z"
   },
   {
    "duration": 1442,
    "start_time": "2023-03-15T17:34:57.348Z"
   },
   {
    "duration": 3,
    "start_time": "2023-03-15T17:35:57.190Z"
   },
   {
    "duration": 67,
    "start_time": "2023-03-15T17:36:02.065Z"
   },
   {
    "duration": 510,
    "start_time": "2023-03-15T17:36:21.884Z"
   },
   {
    "duration": 580,
    "start_time": "2023-03-15T17:39:41.064Z"
   },
   {
    "duration": 498,
    "start_time": "2023-03-15T17:40:10.868Z"
   },
   {
    "duration": 80,
    "start_time": "2023-03-15T17:40:28.283Z"
   },
   {
    "duration": 25,
    "start_time": "2023-03-15T17:41:28.333Z"
   },
   {
    "duration": 1038,
    "start_time": "2023-03-15T17:44:56.018Z"
   },
   {
    "duration": 717,
    "start_time": "2023-03-16T10:19:27.549Z"
   },
   {
    "duration": 3,
    "start_time": "2023-03-16T10:19:29.556Z"
   },
   {
    "duration": 16221,
    "start_time": "2023-03-16T10:19:30.516Z"
   },
   {
    "duration": 9605,
    "start_time": "2023-03-16T10:19:46.739Z"
   },
   {
    "duration": 5220,
    "start_time": "2023-03-16T10:19:56.346Z"
   },
   {
    "duration": 73,
    "start_time": "2023-03-16T10:20:01.568Z"
   },
   {
    "duration": 47,
    "start_time": "2023-03-16T10:20:01.643Z"
   },
   {
    "duration": 744,
    "start_time": "2023-03-16T10:20:09.989Z"
   },
   {
    "duration": 101,
    "start_time": "2023-03-16T10:20:10.735Z"
   },
   {
    "duration": 4,
    "start_time": "2023-03-16T10:20:14.012Z"
   },
   {
    "duration": 2274,
    "start_time": "2023-03-16T10:37:26.780Z"
   },
   {
    "duration": 497,
    "start_time": "2023-03-16T10:37:33.960Z"
   },
   {
    "duration": 863,
    "start_time": "2023-03-16T10:38:09.424Z"
   },
   {
    "duration": 276,
    "start_time": "2023-03-16T10:38:22.942Z"
   },
   {
    "duration": 230,
    "start_time": "2023-03-16T10:38:30.085Z"
   },
   {
    "duration": 14,
    "start_time": "2023-03-16T10:40:02.362Z"
   },
   {
    "duration": 10,
    "start_time": "2023-03-16T10:40:45.158Z"
   },
   {
    "duration": 526,
    "start_time": "2023-03-16T10:40:52.580Z"
   },
   {
    "duration": 9,
    "start_time": "2023-03-16T10:42:04.700Z"
   },
   {
    "duration": 27,
    "start_time": "2023-03-16T10:42:35.692Z"
   },
   {
    "duration": 442,
    "start_time": "2023-03-16T10:42:51.962Z"
   },
   {
    "duration": 1432,
    "start_time": "2023-03-16T10:43:37.549Z"
   },
   {
    "duration": 797,
    "start_time": "2023-03-16T10:45:04.095Z"
   },
   {
    "duration": 3,
    "start_time": "2023-03-16T10:45:04.894Z"
   },
   {
    "duration": 21094,
    "start_time": "2023-03-16T10:45:04.898Z"
   },
   {
    "duration": 11082,
    "start_time": "2023-03-16T10:45:25.998Z"
   },
   {
    "duration": 6594,
    "start_time": "2023-03-16T10:45:37.081Z"
   },
   {
    "duration": 8,
    "start_time": "2023-03-16T10:45:43.676Z"
   },
   {
    "duration": 13,
    "start_time": "2023-03-16T10:45:43.686Z"
   },
   {
    "duration": 856,
    "start_time": "2023-03-16T10:45:43.702Z"
   },
   {
    "duration": 134,
    "start_time": "2023-03-16T10:45:44.559Z"
   },
   {
    "duration": 3,
    "start_time": "2023-03-16T10:45:44.695Z"
   },
   {
    "duration": 1697,
    "start_time": "2023-03-16T10:46:01.165Z"
   },
   {
    "duration": 353,
    "start_time": "2023-03-16T10:46:04.592Z"
   },
   {
    "duration": 351,
    "start_time": "2023-03-16T10:46:10.088Z"
   },
   {
    "duration": 242,
    "start_time": "2023-03-16T10:46:12.278Z"
   },
   {
    "duration": 795,
    "start_time": "2023-03-16T10:46:15.228Z"
   },
   {
    "duration": 304,
    "start_time": "2023-03-16T10:46:27.752Z"
   },
   {
    "duration": 86,
    "start_time": "2023-03-16T10:46:37.626Z"
   },
   {
    "duration": 66,
    "start_time": "2023-03-16T10:46:39.420Z"
   },
   {
    "duration": 409,
    "start_time": "2023-03-16T10:46:46.384Z"
   },
   {
    "duration": 2013,
    "start_time": "2023-03-16T10:46:53.733Z"
   },
   {
    "duration": 316,
    "start_time": "2023-03-16T10:47:10.284Z"
   },
   {
    "duration": 323,
    "start_time": "2023-03-16T10:47:16.163Z"
   },
   {
    "duration": 231,
    "start_time": "2023-03-16T10:47:55.354Z"
   },
   {
    "duration": 6,
    "start_time": "2023-03-16T10:47:59.417Z"
   },
   {
    "duration": 215,
    "start_time": "2023-03-16T10:48:51.315Z"
   },
   {
    "duration": 40,
    "start_time": "2023-03-16T10:49:31.987Z"
   },
   {
    "duration": 555,
    "start_time": "2023-03-16T10:49:38.505Z"
   },
   {
    "duration": 4694,
    "start_time": "2023-03-16T10:51:50.908Z"
   },
   {
    "duration": 2186,
    "start_time": "2023-03-16T10:52:18.313Z"
   },
   {
    "duration": 11,
    "start_time": "2023-03-16T10:52:28.624Z"
   },
   {
    "duration": 4,
    "start_time": "2023-03-16T10:53:13.923Z"
   },
   {
    "duration": 8,
    "start_time": "2023-03-16T10:53:34.890Z"
   },
   {
    "duration": 8,
    "start_time": "2023-03-16T10:54:17.716Z"
   },
   {
    "duration": 8,
    "start_time": "2023-03-16T10:54:59.975Z"
   },
   {
    "duration": 65,
    "start_time": "2023-03-16T10:55:06.964Z"
   },
   {
    "duration": 20,
    "start_time": "2023-03-16T10:55:08.565Z"
   },
   {
    "duration": 13,
    "start_time": "2023-03-16T10:55:21.228Z"
   },
   {
    "duration": 21,
    "start_time": "2023-03-16T10:55:46.978Z"
   },
   {
    "duration": 4,
    "start_time": "2023-03-16T10:56:23.884Z"
   },
   {
    "duration": 16,
    "start_time": "2023-03-16T10:56:28.259Z"
   },
   {
    "duration": 13,
    "start_time": "2023-03-16T10:56:43.360Z"
   },
   {
    "duration": 15,
    "start_time": "2023-03-16T10:56:49.525Z"
   },
   {
    "duration": 10,
    "start_time": "2023-03-16T10:57:04.795Z"
   },
   {
    "duration": 50169,
    "start_time": "2023-03-16T10:57:30.519Z"
   },
   {
    "duration": 6,
    "start_time": "2023-03-16T11:00:26.604Z"
   },
   {
    "duration": 9,
    "start_time": "2023-03-16T11:00:57.315Z"
   },
   {
    "duration": 10,
    "start_time": "2023-03-16T11:01:07.560Z"
   },
   {
    "duration": 6,
    "start_time": "2023-03-16T11:01:24.148Z"
   },
   {
    "duration": 12,
    "start_time": "2023-03-16T11:02:16.796Z"
   },
   {
    "duration": 29317,
    "start_time": "2023-03-16T11:02:23.174Z"
   },
   {
    "duration": 4,
    "start_time": "2023-03-16T11:03:02.513Z"
   },
   {
    "duration": 20,
    "start_time": "2023-03-16T11:03:16.631Z"
   },
   {
    "duration": 899,
    "start_time": "2023-03-16T11:04:37.623Z"
   },
   {
    "duration": 767,
    "start_time": "2023-03-16T11:08:04.039Z"
   },
   {
    "duration": 2073,
    "start_time": "2023-03-16T11:25:45.985Z"
   },
   {
    "duration": 2127,
    "start_time": "2023-03-16T11:26:04.799Z"
   },
   {
    "duration": 12,
    "start_time": "2023-03-16T11:35:25.203Z"
   },
   {
    "duration": 565,
    "start_time": "2023-03-16T11:35:52.751Z"
   },
   {
    "duration": 442,
    "start_time": "2023-03-16T11:36:04.573Z"
   },
   {
    "duration": 460,
    "start_time": "2023-03-16T11:36:05.017Z"
   },
   {
    "duration": 1718,
    "start_time": "2023-03-16T11:36:07.741Z"
   },
   {
    "duration": 959,
    "start_time": "2023-03-16T11:36:09.460Z"
   },
   {
    "duration": 579,
    "start_time": "2023-03-16T12:19:16.791Z"
   },
   {
    "duration": 501,
    "start_time": "2023-03-16T12:19:34.682Z"
   },
   {
    "duration": 679,
    "start_time": "2023-03-16T12:19:47.915Z"
   },
   {
    "duration": 3,
    "start_time": "2023-03-16T12:19:49.783Z"
   },
   {
    "duration": 17748,
    "start_time": "2023-03-16T12:19:50.021Z"
   },
   {
    "duration": 11417,
    "start_time": "2023-03-16T12:20:07.771Z"
   },
   {
    "duration": 5816,
    "start_time": "2023-03-16T12:20:19.190Z"
   },
   {
    "duration": 14,
    "start_time": "2023-03-16T12:20:25.045Z"
   },
   {
    "duration": 93,
    "start_time": "2023-03-16T12:20:25.062Z"
   },
   {
    "duration": 1027,
    "start_time": "2023-03-16T12:20:25.157Z"
   },
   {
    "duration": 118,
    "start_time": "2023-03-16T12:20:26.240Z"
   },
   {
    "duration": 35,
    "start_time": "2023-03-16T12:20:26.359Z"
   },
   {
    "duration": 2153,
    "start_time": "2023-03-16T12:20:26.395Z"
   },
   {
    "duration": 506,
    "start_time": "2023-03-16T12:20:28.551Z"
   },
   {
    "duration": 408,
    "start_time": "2023-03-16T12:20:29.058Z"
   },
   {
    "duration": 374,
    "start_time": "2023-03-16T12:20:29.467Z"
   },
   {
    "duration": 104,
    "start_time": "2023-03-16T12:20:29.843Z"
   },
   {
    "duration": 43,
    "start_time": "2023-03-16T12:20:29.948Z"
   },
   {
    "duration": 645,
    "start_time": "2023-03-16T12:20:30.031Z"
   },
   {
    "duration": 1706,
    "start_time": "2023-03-16T12:20:30.678Z"
   },
   {
    "duration": 348,
    "start_time": "2023-03-16T12:20:32.388Z"
   },
   {
    "duration": 21,
    "start_time": "2023-03-16T12:20:32.738Z"
   },
   {
    "duration": 51,
    "start_time": "2023-03-16T12:20:32.760Z"
   },
   {
    "duration": 526,
    "start_time": "2023-03-16T12:20:32.812Z"
   },
   {
    "duration": 3746,
    "start_time": "2023-03-16T12:20:33.339Z"
   },
   {
    "duration": 93,
    "start_time": "2023-03-16T12:20:37.086Z"
   },
   {
    "duration": 51,
    "start_time": "2023-03-16T12:20:37.181Z"
   },
   {
    "duration": 70,
    "start_time": "2023-03-16T12:20:37.234Z"
   },
   {
    "duration": 54274,
    "start_time": "2023-03-16T12:20:37.306Z"
   },
   {
    "duration": 6,
    "start_time": "2023-03-16T12:21:31.583Z"
   },
   {
    "duration": 35,
    "start_time": "2023-03-16T12:21:31.591Z"
   },
   {
    "duration": 85,
    "start_time": "2023-03-16T12:21:31.629Z"
   },
   {
    "duration": 29272,
    "start_time": "2023-03-16T12:21:31.716Z"
   },
   {
    "duration": 5,
    "start_time": "2023-03-16T12:22:00.989Z"
   },
   {
    "duration": 780,
    "start_time": "2023-03-16T12:22:00.995Z"
   },
   {
    "duration": 837,
    "start_time": "2023-03-16T12:22:01.777Z"
   },
   {
    "duration": 2375,
    "start_time": "2023-03-16T12:22:02.616Z"
   },
   {
    "duration": 1884,
    "start_time": "2023-03-16T12:22:04.995Z"
   },
   {
    "duration": 2044,
    "start_time": "2023-03-16T12:29:56.798Z"
   },
   {
    "duration": 2070,
    "start_time": "2023-03-16T12:30:35.428Z"
   },
   {
    "duration": 989,
    "start_time": "2023-03-17T08:57:19.466Z"
   },
   {
    "duration": 3,
    "start_time": "2023-03-17T08:57:20.458Z"
   },
   {
    "duration": 23101,
    "start_time": "2023-03-17T08:57:20.611Z"
   },
   {
    "duration": 12101,
    "start_time": "2023-03-17T08:57:43.718Z"
   },
   {
    "duration": 6972,
    "start_time": "2023-03-17T08:57:55.821Z"
   },
   {
    "duration": 24,
    "start_time": "2023-03-17T08:58:02.801Z"
   },
   {
    "duration": 11,
    "start_time": "2023-03-17T08:58:02.827Z"
   },
   {
    "duration": 279,
    "start_time": "2023-03-17T08:58:02.840Z"
   },
   {
    "duration": 68,
    "start_time": "2023-03-17T17:35:53.684Z"
   },
   {
    "duration": 749,
    "start_time": "2023-03-17T17:35:57.631Z"
   },
   {
    "duration": 4,
    "start_time": "2023-03-17T17:35:58.382Z"
   },
   {
    "duration": 16748,
    "start_time": "2023-03-17T17:35:59.095Z"
   },
   {
    "duration": 10215,
    "start_time": "2023-03-17T17:36:15.847Z"
   },
   {
    "duration": 112,
    "start_time": "2023-03-17T17:36:26.064Z"
   },
   {
    "duration": 8,
    "start_time": "2023-03-17T17:37:39.904Z"
   },
   {
    "duration": 775,
    "start_time": "2023-03-17T17:37:49.770Z"
   },
   {
    "duration": 5952,
    "start_time": "2023-03-17T17:37:57.510Z"
   },
   {
    "duration": 3580,
    "start_time": "2023-03-17T17:40:46.793Z"
   },
   {
    "duration": 1433,
    "start_time": "2023-03-17T17:42:50.038Z"
   },
   {
    "duration": 1139,
    "start_time": "2023-03-17T17:43:02.321Z"
   },
   {
    "duration": 1259,
    "start_time": "2023-03-17T17:43:45.627Z"
   },
   {
    "duration": 727,
    "start_time": "2023-03-17T17:44:02.526Z"
   },
   {
    "duration": 608,
    "start_time": "2023-03-17T17:44:17.355Z"
   },
   {
    "duration": 553,
    "start_time": "2023-03-17T17:44:50.202Z"
   },
   {
    "duration": 80,
    "start_time": "2023-03-17T19:05:31.318Z"
   },
   {
    "duration": 55,
    "start_time": "2023-03-17T19:05:38.214Z"
   },
   {
    "duration": 45,
    "start_time": "2023-03-17T19:05:54.954Z"
   },
   {
    "duration": 53,
    "start_time": "2023-03-17T19:06:00.218Z"
   },
   {
    "duration": 7,
    "start_time": "2023-03-17T19:06:04.320Z"
   },
   {
    "duration": 547,
    "start_time": "2023-03-17T19:08:10.925Z"
   },
   {
    "duration": 33,
    "start_time": "2023-03-17T19:08:11.818Z"
   },
   {
    "duration": 3,
    "start_time": "2023-03-17T19:13:44.708Z"
   },
   {
    "duration": 1647,
    "start_time": "2023-03-17T19:13:54.010Z"
   },
   {
    "duration": 354,
    "start_time": "2023-03-17T19:13:55.660Z"
   },
   {
    "duration": 260,
    "start_time": "2023-03-17T19:13:56.016Z"
   },
   {
    "duration": 250,
    "start_time": "2023-03-17T19:13:58.007Z"
   },
   {
    "duration": 101,
    "start_time": "2023-03-17T19:13:58.259Z"
   },
   {
    "duration": 95,
    "start_time": "2023-03-17T19:13:58.362Z"
   },
   {
    "duration": 393,
    "start_time": "2023-03-17T19:13:58.458Z"
   },
   {
    "duration": 1229,
    "start_time": "2023-03-17T19:13:58.853Z"
   },
   {
    "duration": 373,
    "start_time": "2023-03-17T19:14:00.083Z"
   },
   {
    "duration": 6,
    "start_time": "2023-03-17T19:14:00.458Z"
   },
   {
    "duration": 89,
    "start_time": "2023-03-17T19:14:00.466Z"
   },
   {
    "duration": 391,
    "start_time": "2023-03-17T19:14:00.563Z"
   },
   {
    "duration": 3175,
    "start_time": "2023-03-17T19:14:24.197Z"
   },
   {
    "duration": 43,
    "start_time": "2023-03-17T19:14:33.193Z"
   },
   {
    "duration": 4,
    "start_time": "2023-03-17T19:14:33.517Z"
   },
   {
    "duration": 11,
    "start_time": "2023-03-17T19:14:36.157Z"
   },
   {
    "duration": 44140,
    "start_time": "2023-03-17T19:14:36.169Z"
   },
   {
    "duration": 44,
    "start_time": "2023-03-17T19:15:20.311Z"
   },
   {
    "duration": 6414,
    "start_time": "2023-03-17T19:20:03.164Z"
   },
   {
    "duration": 626,
    "start_time": "2023-03-17T19:21:38.166Z"
   },
   {
    "duration": 5,
    "start_time": "2023-03-17T19:22:14.781Z"
   },
   {
    "duration": 227,
    "start_time": "2023-03-17T19:22:19.962Z"
   },
   {
    "duration": 188,
    "start_time": "2023-03-17T19:22:24.285Z"
   },
   {
    "duration": 198,
    "start_time": "2023-03-17T19:23:05.410Z"
   },
   {
    "duration": 170,
    "start_time": "2023-03-17T19:23:14.855Z"
   },
   {
    "duration": 462,
    "start_time": "2023-03-17T19:23:18.866Z"
   },
   {
    "duration": 260,
    "start_time": "2023-03-17T19:23:28.113Z"
   },
   {
    "duration": 12,
    "start_time": "2023-03-17T19:23:45.537Z"
   },
   {
    "duration": 161,
    "start_time": "2023-03-17T19:23:53.062Z"
   },
   {
    "duration": 225,
    "start_time": "2023-03-17T19:24:00.560Z"
   },
   {
    "duration": 187,
    "start_time": "2023-03-17T19:24:24.392Z"
   },
   {
    "duration": 273,
    "start_time": "2023-03-17T19:24:29.025Z"
   },
   {
    "duration": 164,
    "start_time": "2023-03-17T19:24:49.882Z"
   },
   {
    "duration": 216,
    "start_time": "2023-03-17T19:24:54.065Z"
   },
   {
    "duration": 169,
    "start_time": "2023-03-17T19:25:22.237Z"
   },
   {
    "duration": 228,
    "start_time": "2023-03-17T19:25:27.837Z"
   },
   {
    "duration": 200,
    "start_time": "2023-03-17T19:25:32.337Z"
   },
   {
    "duration": 217,
    "start_time": "2023-03-17T19:25:40.074Z"
   },
   {
    "duration": 592,
    "start_time": "2023-03-17T19:28:01.158Z"
   },
   {
    "duration": 298,
    "start_time": "2023-03-17T19:28:40.558Z"
   },
   {
    "duration": 1971,
    "start_time": "2023-03-17T19:28:49.301Z"
   },
   {
    "duration": 4597,
    "start_time": "2023-03-17T19:29:27.077Z"
   },
   {
    "duration": 208,
    "start_time": "2023-03-17T19:29:40.175Z"
   },
   {
    "duration": 3112,
    "start_time": "2023-03-17T19:29:52.939Z"
   },
   {
    "duration": 4668,
    "start_time": "2023-03-17T19:29:56.053Z"
   },
   {
    "duration": 238,
    "start_time": "2023-03-17T19:30:00.723Z"
   },
   {
    "duration": 169,
    "start_time": "2023-03-17T19:30:10.760Z"
   },
   {
    "duration": 2652,
    "start_time": "2023-03-17T19:30:21.160Z"
   },
   {
    "duration": 4470,
    "start_time": "2023-03-17T19:30:23.814Z"
   },
   {
    "duration": 190,
    "start_time": "2023-03-17T19:30:28.286Z"
   },
   {
    "duration": 4,
    "start_time": "2023-03-17T19:30:37.489Z"
   },
   {
    "duration": 3,
    "start_time": "2023-03-17T19:30:37.726Z"
   },
   {
    "duration": 4,
    "start_time": "2023-03-17T19:30:38.182Z"
   },
   {
    "duration": 557,
    "start_time": "2023-03-17T19:30:38.416Z"
   },
   {
    "duration": 116,
    "start_time": "2023-03-17T19:30:39.571Z"
   },
   {
    "duration": 2159,
    "start_time": "2023-03-17T19:30:39.689Z"
   },
   {
    "duration": 461,
    "start_time": "2023-03-17T19:30:41.849Z"
   },
   {
    "duration": 405,
    "start_time": "2023-03-17T19:30:42.342Z"
   },
   {
    "duration": 7,
    "start_time": "2023-03-17T19:30:42.749Z"
   },
   {
    "duration": 7,
    "start_time": "2023-03-17T19:30:42.758Z"
   },
   {
    "duration": 448,
    "start_time": "2023-03-17T19:30:42.767Z"
   },
   {
    "duration": 187,
    "start_time": "2023-03-17T19:30:43.217Z"
   },
   {
    "duration": 224,
    "start_time": "2023-03-17T19:30:43.406Z"
   },
   {
    "duration": 236,
    "start_time": "2023-03-17T19:30:43.632Z"
   },
   {
    "duration": 246,
    "start_time": "2023-03-17T19:30:43.870Z"
   },
   {
    "duration": 217,
    "start_time": "2023-03-17T19:30:44.118Z"
   },
   {
    "duration": 214,
    "start_time": "2023-03-17T19:30:44.346Z"
   },
   {
    "duration": 1654,
    "start_time": "2023-03-17T19:32:12.659Z"
   },
   {
    "duration": 554,
    "start_time": "2023-03-17T19:32:28.666Z"
   },
   {
    "duration": 192,
    "start_time": "2023-03-17T19:32:29.222Z"
   },
   {
    "duration": 12,
    "start_time": "2023-03-17T19:36:39.413Z"
   },
   {
    "duration": 44,
    "start_time": "2023-03-17T19:36:46.929Z"
   },
   {
    "duration": 1301,
    "start_time": "2023-03-17T19:37:17.880Z"
   },
   {
    "duration": 4,
    "start_time": "2023-03-17T19:38:59.454Z"
   },
   {
    "duration": 271,
    "start_time": "2023-03-17T19:39:15.965Z"
   },
   {
    "duration": 9,
    "start_time": "2023-03-17T19:39:30.014Z"
   },
   {
    "duration": 3,
    "start_time": "2023-03-17T19:40:03.002Z"
   },
   {
    "duration": 214,
    "start_time": "2023-03-17T19:40:03.654Z"
   },
   {
    "duration": 430,
    "start_time": "2023-03-17T19:41:31.834Z"
   },
   {
    "duration": 175,
    "start_time": "2023-03-17T19:48:39.901Z"
   },
   {
    "duration": 218,
    "start_time": "2023-03-17T19:48:43.697Z"
   },
   {
    "duration": 174,
    "start_time": "2023-03-17T19:49:06.556Z"
   },
   {
    "duration": 158,
    "start_time": "2023-03-17T19:49:13.542Z"
   },
   {
    "duration": 146,
    "start_time": "2023-03-17T19:49:18.361Z"
   },
   {
    "duration": 169,
    "start_time": "2023-03-17T19:49:23.725Z"
   },
   {
    "duration": 189,
    "start_time": "2023-03-17T19:49:29.396Z"
   },
   {
    "duration": 185,
    "start_time": "2023-03-17T19:49:39.602Z"
   },
   {
    "duration": 202,
    "start_time": "2023-03-17T19:49:45.291Z"
   },
   {
    "duration": 178,
    "start_time": "2023-03-17T19:49:56.706Z"
   },
   {
    "duration": 267,
    "start_time": "2023-03-17T19:50:01.730Z"
   },
   {
    "duration": 229,
    "start_time": "2023-03-17T19:50:06.298Z"
   },
   {
    "duration": 187,
    "start_time": "2023-03-17T19:50:10.583Z"
   },
   {
    "duration": 236,
    "start_time": "2023-03-17T19:50:17.159Z"
   },
   {
    "duration": 8,
    "start_time": "2023-03-17T20:07:36.105Z"
   },
   {
    "duration": 30,
    "start_time": "2023-03-17T20:12:03.887Z"
   },
   {
    "duration": 28,
    "start_time": "2023-03-17T20:12:12.910Z"
   },
   {
    "duration": 24,
    "start_time": "2023-03-17T20:15:06.010Z"
   },
   {
    "duration": 4,
    "start_time": "2023-03-17T20:16:04.290Z"
   },
   {
    "duration": 582,
    "start_time": "2023-03-17T20:16:05.306Z"
   },
   {
    "duration": 156,
    "start_time": "2023-03-17T20:16:07.345Z"
   },
   {
    "duration": 31,
    "start_time": "2023-03-17T20:16:09.704Z"
   },
   {
    "duration": 126,
    "start_time": "2023-03-17T20:16:10.094Z"
   },
   {
    "duration": 21,
    "start_time": "2023-03-17T20:16:10.774Z"
   },
   {
    "duration": 25,
    "start_time": "2023-03-17T20:16:11.232Z"
   },
   {
    "duration": 220,
    "start_time": "2023-03-17T20:16:11.596Z"
   },
   {
    "duration": 573,
    "start_time": "2023-03-17T20:16:11.882Z"
   },
   {
    "duration": 0,
    "start_time": "2023-03-17T20:16:12.458Z"
   },
   {
    "duration": 0,
    "start_time": "2023-03-17T20:16:12.462Z"
   },
   {
    "duration": 117,
    "start_time": "2023-03-17T20:16:12.691Z"
   },
   {
    "duration": 210,
    "start_time": "2023-03-17T20:16:13.113Z"
   },
   {
    "duration": 696,
    "start_time": "2023-03-17T20:16:14.065Z"
   },
   {
    "duration": 8,
    "start_time": "2023-03-17T20:16:16.158Z"
   },
   {
    "duration": 4,
    "start_time": "2023-03-17T20:16:16.168Z"
   },
   {
    "duration": 8,
    "start_time": "2023-03-17T20:16:16.201Z"
   },
   {
    "duration": 360,
    "start_time": "2023-03-17T20:16:16.212Z"
   },
   {
    "duration": 20,
    "start_time": "2023-03-17T20:16:16.843Z"
   },
   {
    "duration": 12,
    "start_time": "2023-03-17T20:16:16.869Z"
   },
   {
    "duration": 5,
    "start_time": "2023-03-17T20:16:16.883Z"
   },
   {
    "duration": 320,
    "start_time": "2023-03-17T20:16:16.962Z"
   },
   {
    "duration": 0,
    "start_time": "2023-03-17T20:16:17.284Z"
   },
   {
    "duration": 107,
    "start_time": "2023-03-17T20:16:20.570Z"
   },
   {
    "duration": 9,
    "start_time": "2023-03-17T20:16:24.201Z"
   },
   {
    "duration": 14,
    "start_time": "2023-03-17T20:16:27.499Z"
   },
   {
    "duration": 0,
    "start_time": "2023-03-17T20:16:27.515Z"
   },
   {
    "duration": 1012,
    "start_time": "2023-03-17T20:18:42.340Z"
   },
   {
    "duration": 6,
    "start_time": "2023-03-17T20:18:43.354Z"
   },
   {
    "duration": 4,
    "start_time": "2023-03-17T20:18:50.910Z"
   },
   {
    "duration": 3,
    "start_time": "2023-03-17T20:18:51.284Z"
   },
   {
    "duration": 17492,
    "start_time": "2023-03-17T20:18:52.496Z"
   },
   {
    "duration": 11180,
    "start_time": "2023-03-17T20:19:09.992Z"
   },
   {
    "duration": 976,
    "start_time": "2023-03-17T20:19:21.173Z"
   },
   {
    "duration": 6231,
    "start_time": "2023-03-17T20:19:22.151Z"
   },
   {
    "duration": 2365,
    "start_time": "2023-03-17T20:19:28.384Z"
   },
   {
    "duration": 1117,
    "start_time": "2023-03-17T20:19:30.751Z"
   },
   {
    "duration": 4,
    "start_time": "2023-03-17T20:19:31.870Z"
   },
   {
    "duration": 69,
    "start_time": "2023-03-17T20:19:31.876Z"
   },
   {
    "duration": 1113,
    "start_time": "2023-03-17T20:19:31.947Z"
   },
   {
    "duration": 200,
    "start_time": "2023-03-17T20:19:33.063Z"
   },
   {
    "duration": 197,
    "start_time": "2023-03-17T20:19:33.265Z"
   },
   {
    "duration": 181,
    "start_time": "2023-03-17T20:19:33.464Z"
   },
   {
    "duration": 181,
    "start_time": "2023-03-17T20:19:33.647Z"
   },
   {
    "duration": 185,
    "start_time": "2023-03-17T20:19:33.829Z"
   },
   {
    "duration": 203,
    "start_time": "2023-03-17T20:19:34.016Z"
   },
   {
    "duration": 8,
    "start_time": "2023-03-17T20:19:34.221Z"
   },
   {
    "duration": 439,
    "start_time": "2023-03-17T20:19:34.230Z"
   },
   {
    "duration": 175,
    "start_time": "2023-03-17T20:19:34.671Z"
   },
   {
    "duration": 49,
    "start_time": "2023-03-17T20:19:45.906Z"
   },
   {
    "duration": 4,
    "start_time": "2023-03-17T20:19:49.063Z"
   },
   {
    "duration": 1691,
    "start_time": "2023-03-17T20:19:52.486Z"
   },
   {
    "duration": 335,
    "start_time": "2023-03-17T20:19:56.807Z"
   },
   {
    "duration": 377,
    "start_time": "2023-03-17T20:20:01.395Z"
   },
   {
    "duration": 316,
    "start_time": "2023-03-17T20:20:04.370Z"
   },
   {
    "duration": 51,
    "start_time": "2023-03-17T20:20:07.586Z"
   },
   {
    "duration": 40,
    "start_time": "2023-03-17T20:20:09.811Z"
   },
   {
    "duration": 557,
    "start_time": "2023-03-17T20:20:16.252Z"
   },
   {
    "duration": 1543,
    "start_time": "2023-03-17T20:20:19.534Z"
   },
   {
    "duration": 311,
    "start_time": "2023-03-17T20:20:24.999Z"
   },
   {
    "duration": 7,
    "start_time": "2023-03-17T20:20:28.383Z"
   },
   {
    "duration": 38,
    "start_time": "2023-03-17T20:20:32.834Z"
   },
   {
    "duration": 410,
    "start_time": "2023-03-17T20:20:34.013Z"
   },
   {
    "duration": 3829,
    "start_time": "2023-03-17T20:20:48.249Z"
   },
   {
    "duration": 51,
    "start_time": "2023-03-17T20:20:53.492Z"
   },
   {
    "duration": 9,
    "start_time": "2023-03-17T20:20:56.458Z"
   },
   {
    "duration": 11,
    "start_time": "2023-03-17T20:20:59.889Z"
   },
   {
    "duration": 51448,
    "start_time": "2023-03-17T20:21:01.812Z"
   },
   {
    "duration": 7,
    "start_time": "2023-03-17T20:21:59.523Z"
   },
   {
    "duration": 19,
    "start_time": "2023-03-17T20:22:04.334Z"
   },
   {
    "duration": 3,
    "start_time": "2023-03-17T20:22:06.360Z"
   },
   {
    "duration": 31950,
    "start_time": "2023-03-17T20:22:10.233Z"
   },
   {
    "duration": 5,
    "start_time": "2023-03-17T20:22:46.358Z"
   },
   {
    "duration": 757,
    "start_time": "2023-03-17T20:22:48.499Z"
   },
   {
    "duration": 829,
    "start_time": "2023-03-17T20:22:57.624Z"
   },
   {
    "duration": 1834,
    "start_time": "2023-03-17T20:23:02.646Z"
   },
   {
    "duration": 1708,
    "start_time": "2023-03-17T20:23:04.482Z"
   },
   {
    "duration": 1123,
    "start_time": "2023-03-19T16:34:16.397Z"
   },
   {
    "duration": 3,
    "start_time": "2023-03-19T16:34:17.523Z"
   },
   {
    "duration": 16082,
    "start_time": "2023-03-19T16:34:17.528Z"
   },
   {
    "duration": 9962,
    "start_time": "2023-03-19T16:34:33.612Z"
   },
   {
    "duration": 827,
    "start_time": "2023-03-19T16:34:43.576Z"
   },
   {
    "duration": 5686,
    "start_time": "2023-03-19T16:34:44.405Z"
   },
   {
    "duration": 2181,
    "start_time": "2023-03-19T16:34:50.093Z"
   },
   {
    "duration": 1021,
    "start_time": "2023-03-19T16:34:52.277Z"
   },
   {
    "duration": 5,
    "start_time": "2023-03-19T16:34:53.299Z"
   },
   {
    "duration": 15,
    "start_time": "2023-03-19T16:34:53.306Z"
   },
   {
    "duration": 1580,
    "start_time": "2023-03-19T16:34:53.323Z"
   },
   {
    "duration": 599,
    "start_time": "2023-03-19T16:34:54.974Z"
   },
   {
    "duration": 714,
    "start_time": "2023-03-19T16:34:55.575Z"
   },
   {
    "duration": 505,
    "start_time": "2023-03-19T16:34:56.294Z"
   },
   {
    "duration": 237,
    "start_time": "2023-03-19T16:34:56.801Z"
   },
   {
    "duration": 196,
    "start_time": "2023-03-19T16:34:57.040Z"
   },
   {
    "duration": 204,
    "start_time": "2023-03-19T16:34:57.238Z"
   },
   {
    "duration": 8,
    "start_time": "2023-03-19T16:34:57.444Z"
   },
   {
    "duration": 419,
    "start_time": "2023-03-19T16:34:57.455Z"
   },
   {
    "duration": 104,
    "start_time": "2023-03-19T16:34:57.876Z"
   },
   {
    "duration": 110,
    "start_time": "2023-03-19T16:34:57.982Z"
   },
   {
    "duration": 4,
    "start_time": "2023-03-19T16:34:58.094Z"
   },
   {
    "duration": 1672,
    "start_time": "2023-03-19T16:34:58.101Z"
   },
   {
    "duration": 406,
    "start_time": "2023-03-19T16:34:59.775Z"
   },
   {
    "duration": 502,
    "start_time": "2023-03-19T16:35:00.183Z"
   },
   {
    "duration": 308,
    "start_time": "2023-03-19T16:35:00.688Z"
   },
   {
    "duration": 100,
    "start_time": "2023-03-19T16:35:00.998Z"
   },
   {
    "duration": 92,
    "start_time": "2023-03-19T16:35:01.101Z"
   },
   {
    "duration": 410,
    "start_time": "2023-03-19T16:35:01.195Z"
   },
   {
    "duration": 1670,
    "start_time": "2023-03-19T16:35:01.608Z"
   },
   {
    "duration": 393,
    "start_time": "2023-03-19T16:35:03.280Z"
   },
   {
    "duration": 97,
    "start_time": "2023-03-19T16:35:03.676Z"
   },
   {
    "duration": 436,
    "start_time": "2023-03-19T16:35:03.775Z"
   },
   {
    "duration": 3679,
    "start_time": "2023-03-19T16:35:04.213Z"
   },
   {
    "duration": 113,
    "start_time": "2023-03-19T16:35:07.894Z"
   },
   {
    "duration": 4,
    "start_time": "2023-03-19T16:35:08.008Z"
   },
   {
    "duration": 14,
    "start_time": "2023-03-19T16:35:08.013Z"
   },
   {
    "duration": 47709,
    "start_time": "2023-03-19T16:35:08.029Z"
   },
   {
    "duration": 12,
    "start_time": "2023-03-19T16:35:55.740Z"
   },
   {
    "duration": 7,
    "start_time": "2023-03-19T16:35:55.774Z"
   },
   {
    "duration": 3,
    "start_time": "2023-03-19T16:35:55.787Z"
   },
   {
    "duration": 31029,
    "start_time": "2023-03-19T16:35:55.792Z"
   },
   {
    "duration": 5,
    "start_time": "2023-03-19T16:36:26.823Z"
   },
   {
    "duration": 789,
    "start_time": "2023-03-19T16:36:26.829Z"
   },
   {
    "duration": 727,
    "start_time": "2023-03-19T16:36:27.620Z"
   },
   {
    "duration": 1867,
    "start_time": "2023-03-19T16:36:28.348Z"
   },
   {
    "duration": 1717,
    "start_time": "2023-03-19T16:36:30.217Z"
   },
   {
    "duration": 51,
    "start_time": "2023-03-21T08:04:45.270Z"
   },
   {
    "duration": 1094,
    "start_time": "2023-03-21T08:04:59.786Z"
   },
   {
    "duration": 5,
    "start_time": "2023-03-21T08:05:00.882Z"
   },
   {
    "duration": 16774,
    "start_time": "2023-03-21T08:05:02.004Z"
   },
   {
    "duration": 10086,
    "start_time": "2023-03-21T08:05:18.782Z"
   },
   {
    "duration": 970,
    "start_time": "2023-03-21T08:05:28.873Z"
   },
   {
    "duration": 6445,
    "start_time": "2023-03-21T08:05:29.845Z"
   },
   {
    "duration": 2257,
    "start_time": "2023-03-21T08:05:36.292Z"
   },
   {
    "duration": 1242,
    "start_time": "2023-03-21T08:05:38.551Z"
   },
   {
    "duration": 5,
    "start_time": "2023-03-21T08:05:39.794Z"
   },
   {
    "duration": 7,
    "start_time": "2023-03-21T08:05:39.801Z"
   },
   {
    "duration": 6304,
    "start_time": "2023-03-21T08:05:39.809Z"
   },
   {
    "duration": 3891,
    "start_time": "2023-03-21T08:07:07.823Z"
   },
   {
    "duration": 2877,
    "start_time": "2023-03-21T08:08:06.209Z"
   },
   {
    "duration": 11320,
    "start_time": "2023-03-21T08:08:45.821Z"
   },
   {
    "duration": 12564,
    "start_time": "2023-03-21T08:09:48.463Z"
   },
   {
    "duration": 2721,
    "start_time": "2023-03-21T08:10:40.759Z"
   },
   {
    "duration": 2202,
    "start_time": "2023-03-21T08:10:47.641Z"
   },
   {
    "duration": 11026,
    "start_time": "2023-03-21T08:12:00.627Z"
   },
   {
    "duration": 1836,
    "start_time": "2023-03-21T08:12:37.528Z"
   },
   {
    "duration": 144,
    "start_time": "2023-03-21T08:19:22.832Z"
   },
   {
    "duration": 3297,
    "start_time": "2023-03-21T08:19:31.238Z"
   },
   {
    "duration": 12369,
    "start_time": "2023-03-21T08:19:51.119Z"
   },
   {
    "duration": 265,
    "start_time": "2023-03-21T08:26:18.999Z"
   },
   {
    "duration": 664,
    "start_time": "2023-03-21T08:26:34.237Z"
   },
   {
    "duration": 333,
    "start_time": "2023-03-21T08:26:47.883Z"
   },
   {
    "duration": 74,
    "start_time": "2023-03-21T08:28:09.009Z"
   },
   {
    "duration": 980,
    "start_time": "2023-03-21T08:28:23.901Z"
   },
   {
    "duration": 2,
    "start_time": "2023-03-21T08:28:24.884Z"
   },
   {
    "duration": 16624,
    "start_time": "2023-03-21T08:28:25.242Z"
   },
   {
    "duration": 9910,
    "start_time": "2023-03-21T08:28:41.869Z"
   },
   {
    "duration": 1545,
    "start_time": "2023-03-21T08:29:01.286Z"
   },
   {
    "duration": 676,
    "start_time": "2023-03-21T08:29:13.397Z"
   },
   {
    "duration": 1208,
    "start_time": "2023-03-21T08:29:19.737Z"
   },
   {
    "duration": 832,
    "start_time": "2023-03-21T08:29:52.350Z"
   },
   {
    "duration": 588,
    "start_time": "2023-03-21T08:30:03.532Z"
   },
   {
    "duration": 975,
    "start_time": "2023-03-21T08:30:19.627Z"
   },
   {
    "duration": 6163,
    "start_time": "2023-03-21T08:33:17.553Z"
   },
   {
    "duration": 3509,
    "start_time": "2023-03-21T08:33:26.998Z"
   },
   {
    "duration": 78,
    "start_time": "2023-03-21T08:34:48.935Z"
   },
   {
    "duration": 1017,
    "start_time": "2023-03-21T08:35:06.784Z"
   },
   {
    "duration": 3,
    "start_time": "2023-03-21T08:35:07.804Z"
   },
   {
    "duration": 16065,
    "start_time": "2023-03-21T08:35:07.809Z"
   },
   {
    "duration": 52,
    "start_time": "2023-03-21T08:35:43.731Z"
   },
   {
    "duration": 10,
    "start_time": "2023-03-21T08:35:55.190Z"
   },
   {
    "duration": 1061,
    "start_time": "2023-03-21T08:36:09.523Z"
   },
   {
    "duration": 3,
    "start_time": "2023-03-21T08:36:11.446Z"
   },
   {
    "duration": 15778,
    "start_time": "2023-03-21T08:36:13.304Z"
   },
   {
    "duration": 9759,
    "start_time": "2023-03-21T08:36:29.085Z"
   },
   {
    "duration": 1641,
    "start_time": "2023-03-21T08:36:45.455Z"
   },
   {
    "duration": 931,
    "start_time": "2023-03-21T08:37:02.716Z"
   },
   {
    "duration": 882,
    "start_time": "2023-03-21T08:37:07.635Z"
   },
   {
    "duration": 1075,
    "start_time": "2023-03-21T08:37:47.412Z"
   },
   {
    "duration": 893,
    "start_time": "2023-03-21T08:37:48.490Z"
   },
   {
    "duration": 858,
    "start_time": "2023-03-21T08:37:54.027Z"
   },
   {
    "duration": 733,
    "start_time": "2023-03-21T08:38:51.293Z"
   },
   {
    "duration": 699,
    "start_time": "2023-03-21T08:40:05.075Z"
   },
   {
    "duration": 1016,
    "start_time": "2023-03-21T08:40:41.450Z"
   },
   {
    "duration": 778,
    "start_time": "2023-03-21T08:43:27.841Z"
   },
   {
    "duration": 644,
    "start_time": "2023-03-21T08:44:20.047Z"
   },
   {
    "duration": 791,
    "start_time": "2023-03-21T08:47:20.741Z"
   },
   {
    "duration": 11822,
    "start_time": "2023-03-21T08:48:16.481Z"
   },
   {
    "duration": 83,
    "start_time": "2023-03-21T08:52:46.587Z"
   },
   {
    "duration": 607,
    "start_time": "2023-03-21T08:53:17.828Z"
   },
   {
    "duration": 1185,
    "start_time": "2023-03-21T08:54:04.958Z"
   },
   {
    "duration": 170,
    "start_time": "2023-03-21T08:56:20.468Z"
   },
   {
    "duration": 4,
    "start_time": "2023-03-21T08:56:25.675Z"
   },
   {
    "duration": 3,
    "start_time": "2023-03-21T08:56:26.366Z"
   },
   {
    "duration": 294,
    "start_time": "2023-03-21T08:56:27.177Z"
   },
   {
    "duration": 659,
    "start_time": "2023-03-21T08:56:30.010Z"
   },
   {
    "duration": 439,
    "start_time": "2023-03-21T08:56:38.728Z"
   },
   {
    "duration": 3108,
    "start_time": "2023-03-21T08:56:45.168Z"
   },
   {
    "duration": 1434,
    "start_time": "2023-03-21T09:01:08.432Z"
   },
   {
    "duration": 3,
    "start_time": "2023-03-21T09:01:28.989Z"
   },
   {
    "duration": 1475,
    "start_time": "2023-03-21T09:02:09.191Z"
   },
   {
    "duration": 130,
    "start_time": "2023-03-21T09:02:31.496Z"
   },
   {
    "duration": 910,
    "start_time": "2023-03-21T09:03:53.179Z"
   },
   {
    "duration": 2,
    "start_time": "2023-03-21T09:03:54.091Z"
   },
   {
    "duration": 16148,
    "start_time": "2023-03-21T09:03:54.333Z"
   },
   {
    "duration": 9790,
    "start_time": "2023-03-21T09:04:10.484Z"
   },
   {
    "duration": 783,
    "start_time": "2023-03-21T09:04:20.276Z"
   },
   {
    "duration": 5198,
    "start_time": "2023-03-21T09:04:21.062Z"
   },
   {
    "duration": 1696,
    "start_time": "2023-03-21T09:04:26.262Z"
   },
   {
    "duration": 1083,
    "start_time": "2023-03-21T09:04:27.959Z"
   },
   {
    "duration": 6,
    "start_time": "2023-03-21T09:04:29.044Z"
   },
   {
    "duration": 19,
    "start_time": "2023-03-21T09:04:29.052Z"
   },
   {
    "duration": 4,
    "start_time": "2023-03-21T09:04:29.073Z"
   },
   {
    "duration": 4795,
    "start_time": "2023-03-21T09:04:29.140Z"
   },
   {
    "duration": 966,
    "start_time": "2023-03-21T09:04:33.937Z"
   },
   {
    "duration": 822,
    "start_time": "2023-03-21T09:04:34.904Z"
   },
   {
    "duration": 841,
    "start_time": "2023-03-21T09:04:35.728Z"
   },
   {
    "duration": 691,
    "start_time": "2023-03-21T09:04:36.571Z"
   },
   {
    "duration": 913,
    "start_time": "2023-03-21T09:04:37.264Z"
   },
   {
    "duration": 301,
    "start_time": "2023-03-21T09:04:38.178Z"
   },
   {
    "duration": 36,
    "start_time": "2023-03-21T09:04:38.540Z"
   },
   {
    "duration": 31,
    "start_time": "2023-03-21T09:04:38.641Z"
   },
   {
    "duration": 1375,
    "start_time": "2023-03-21T09:04:38.674Z"
   },
   {
    "duration": 3,
    "start_time": "2023-03-21T09:04:40.051Z"
   },
   {
    "duration": 1694,
    "start_time": "2023-03-21T09:05:35.502Z"
   },
   {
    "duration": 101,
    "start_time": "2023-03-21T09:05:59.021Z"
   },
   {
    "duration": 177,
    "start_time": "2023-03-21T09:06:11.702Z"
   },
   {
    "duration": 65,
    "start_time": "2023-03-21T09:54:55.835Z"
   },
   {
    "duration": 12,
    "start_time": "2023-03-21T09:55:00.786Z"
   },
   {
    "duration": 4,
    "start_time": "2023-03-21T10:00:23.587Z"
   },
   {
    "duration": 3,
    "start_time": "2023-03-21T10:00:24.318Z"
   },
   {
    "duration": 5,
    "start_time": "2023-03-21T10:00:25.240Z"
   },
   {
    "duration": 526,
    "start_time": "2023-03-21T10:00:26.038Z"
   },
   {
    "duration": 104,
    "start_time": "2023-03-21T10:00:39.023Z"
   },
   {
    "duration": 3,
    "start_time": "2023-03-21T10:00:49.891Z"
   },
   {
    "duration": 87,
    "start_time": "2023-03-21T10:00:51.189Z"
   },
   {
    "duration": 828,
    "start_time": "2023-03-21T10:00:56.318Z"
   },
   {
    "duration": 4,
    "start_time": "2023-03-21T10:00:57.148Z"
   },
   {
    "duration": 606,
    "start_time": "2023-03-21T10:00:57.958Z"
   },
   {
    "duration": 145,
    "start_time": "2023-03-21T10:01:01.684Z"
   },
   {
    "duration": 89,
    "start_time": "2023-03-21T10:01:16.051Z"
   },
   {
    "duration": 8,
    "start_time": "2023-03-21T10:01:26.982Z"
   },
   {
    "duration": 98,
    "start_time": "2023-03-21T10:05:09.618Z"
   },
   {
    "duration": 406,
    "start_time": "2023-03-21T10:06:12.555Z"
   },
   {
    "duration": 452,
    "start_time": "2023-03-21T10:06:22.709Z"
   },
   {
    "duration": 3,
    "start_time": "2023-03-21T10:06:28.022Z"
   },
   {
    "duration": 430,
    "start_time": "2023-03-21T10:06:30.310Z"
   },
   {
    "duration": 36,
    "start_time": "2023-03-21T10:06:44.233Z"
   },
   {
    "duration": 864,
    "start_time": "2023-03-21T10:06:45.112Z"
   },
   {
    "duration": 3,
    "start_time": "2023-03-21T10:06:46.301Z"
   },
   {
    "duration": 447,
    "start_time": "2023-03-21T10:06:49.631Z"
   },
   {
    "duration": 30,
    "start_time": "2023-03-21T10:06:59.946Z"
   },
   {
    "duration": 76,
    "start_time": "2023-03-21T10:07:05.771Z"
   },
   {
    "duration": 575,
    "start_time": "2023-03-21T10:07:06.512Z"
   },
   {
    "duration": 4,
    "start_time": "2023-03-21T10:07:07.155Z"
   },
   {
    "duration": 487,
    "start_time": "2023-03-21T10:07:11.062Z"
   },
   {
    "duration": 86,
    "start_time": "2023-03-21T10:07:48.418Z"
   },
   {
    "duration": 13,
    "start_time": "2023-03-21T11:00:15.025Z"
   },
   {
    "duration": 13,
    "start_time": "2023-03-21T11:00:33.242Z"
   },
   {
    "duration": 96,
    "start_time": "2023-03-21T11:00:46.116Z"
   },
   {
    "duration": 5,
    "start_time": "2023-03-21T12:11:30.317Z"
   },
   {
    "duration": 4,
    "start_time": "2023-03-21T12:12:30.939Z"
   },
   {
    "duration": 3,
    "start_time": "2023-03-21T12:12:33.035Z"
   },
   {
    "duration": 4,
    "start_time": "2023-03-21T12:12:33.627Z"
   },
   {
    "duration": 538,
    "start_time": "2023-03-21T12:12:33.906Z"
   },
   {
    "duration": 201,
    "start_time": "2023-03-21T12:12:34.447Z"
   },
   {
    "duration": 2014,
    "start_time": "2023-03-21T12:12:35.565Z"
   },
   {
    "duration": 683,
    "start_time": "2023-03-21T12:12:37.581Z"
   },
   {
    "duration": 484,
    "start_time": "2023-03-21T12:12:38.266Z"
   },
   {
    "duration": 4,
    "start_time": "2023-03-21T12:12:38.753Z"
   },
   {
    "duration": 25,
    "start_time": "2023-03-21T12:12:38.759Z"
   },
   {
    "duration": 56,
    "start_time": "2023-03-21T12:12:38.787Z"
   },
   {
    "duration": 3135,
    "start_time": "2023-03-21T12:12:38.846Z"
   },
   {
    "duration": 950,
    "start_time": "2023-03-21T12:12:41.983Z"
   },
   {
    "duration": 535,
    "start_time": "2023-03-21T12:12:42.940Z"
   },
   {
    "duration": 625,
    "start_time": "2023-03-21T12:12:43.477Z"
   },
   {
    "duration": 496,
    "start_time": "2023-03-21T12:12:44.103Z"
   },
   {
    "duration": 666,
    "start_time": "2023-03-21T12:12:44.601Z"
   },
   {
    "duration": 150,
    "start_time": "2023-03-21T12:12:52.786Z"
   },
   {
    "duration": 16,
    "start_time": "2023-03-21T12:12:52.990Z"
   },
   {
    "duration": 36,
    "start_time": "2023-03-21T12:12:55.613Z"
   },
   {
    "duration": 618,
    "start_time": "2023-03-21T12:12:57.958Z"
   },
   {
    "duration": 3,
    "start_time": "2023-03-21T12:13:01.569Z"
   },
   {
    "duration": 5,
    "start_time": "2023-03-21T12:16:57.401Z"
   },
   {
    "duration": 3,
    "start_time": "2023-03-21T12:16:58.077Z"
   },
   {
    "duration": 4,
    "start_time": "2023-03-21T12:16:58.720Z"
   },
   {
    "duration": 366,
    "start_time": "2023-03-21T12:16:59.031Z"
   },
   {
    "duration": 109,
    "start_time": "2023-03-21T12:16:59.438Z"
   },
   {
    "duration": 1640,
    "start_time": "2023-03-21T12:16:59.802Z"
   },
   {
    "duration": 421,
    "start_time": "2023-03-21T12:17:01.444Z"
   },
   {
    "duration": 446,
    "start_time": "2023-03-21T12:17:01.867Z"
   },
   {
    "duration": 4,
    "start_time": "2023-03-21T12:17:02.930Z"
   },
   {
    "duration": 8,
    "start_time": "2023-03-21T12:17:03.235Z"
   },
   {
    "duration": 2,
    "start_time": "2023-03-21T12:17:04.612Z"
   },
   {
    "duration": 2042,
    "start_time": "2023-03-21T12:17:05.701Z"
   },
   {
    "duration": 663,
    "start_time": "2023-03-21T12:17:07.745Z"
   },
   {
    "duration": 703,
    "start_time": "2023-03-21T12:17:08.411Z"
   },
   {
    "duration": 637,
    "start_time": "2023-03-21T12:17:09.115Z"
   },
   {
    "duration": 519,
    "start_time": "2023-03-21T12:17:09.755Z"
   },
   {
    "duration": 622,
    "start_time": "2023-03-21T12:17:10.275Z"
   },
   {
    "duration": 206,
    "start_time": "2023-03-21T12:17:16.831Z"
   },
   {
    "duration": 15,
    "start_time": "2023-03-21T12:17:17.296Z"
   },
   {
    "duration": 28,
    "start_time": "2023-03-21T12:17:19.167Z"
   },
   {
    "duration": 71,
    "start_time": "2023-03-21T12:25:34.790Z"
   },
   {
    "duration": 33,
    "start_time": "2023-03-21T12:25:56.893Z"
   },
   {
    "duration": 41,
    "start_time": "2023-03-21T12:25:59.792Z"
   },
   {
    "duration": 400,
    "start_time": "2023-03-21T12:28:40.248Z"
   },
   {
    "duration": 30,
    "start_time": "2023-03-21T12:30:12.420Z"
   },
   {
    "duration": 39,
    "start_time": "2023-03-21T12:30:18.590Z"
   },
   {
    "duration": 26,
    "start_time": "2023-03-21T12:30:45.722Z"
   },
   {
    "duration": 25,
    "start_time": "2023-03-21T12:30:56.416Z"
   },
   {
    "duration": 37,
    "start_time": "2023-03-21T12:31:17.585Z"
   },
   {
    "duration": 2,
    "start_time": "2023-03-21T12:32:32.913Z"
   },
   {
    "duration": 9,
    "start_time": "2023-03-21T12:32:36.864Z"
   },
   {
    "duration": 85,
    "start_time": "2023-03-21T12:32:47.519Z"
   },
   {
    "duration": 5,
    "start_time": "2023-03-21T12:32:59.161Z"
   },
   {
    "duration": 2,
    "start_time": "2023-03-21T12:32:59.604Z"
   },
   {
    "duration": 5,
    "start_time": "2023-03-21T12:33:00.216Z"
   },
   {
    "duration": 300,
    "start_time": "2023-03-21T12:33:00.644Z"
   },
   {
    "duration": 135,
    "start_time": "2023-03-21T12:33:00.949Z"
   },
   {
    "duration": 1449,
    "start_time": "2023-03-21T12:33:01.218Z"
   },
   {
    "duration": 328,
    "start_time": "2023-03-21T12:33:03.920Z"
   },
   {
    "duration": 348,
    "start_time": "2023-03-21T12:33:04.250Z"
   },
   {
    "duration": 4,
    "start_time": "2023-03-21T12:33:04.826Z"
   },
   {
    "duration": 6,
    "start_time": "2023-03-21T12:33:05.056Z"
   },
   {
    "duration": 3,
    "start_time": "2023-03-21T12:33:06.078Z"
   },
   {
    "duration": 1815,
    "start_time": "2023-03-21T12:33:06.555Z"
   },
   {
    "duration": 681,
    "start_time": "2023-03-21T12:33:08.372Z"
   },
   {
    "duration": 543,
    "start_time": "2023-03-21T12:33:09.056Z"
   },
   {
    "duration": 629,
    "start_time": "2023-03-21T12:33:09.601Z"
   },
   {
    "duration": 508,
    "start_time": "2023-03-21T12:33:10.231Z"
   },
   {
    "duration": 614,
    "start_time": "2023-03-21T12:33:10.741Z"
   },
   {
    "duration": 147,
    "start_time": "2023-03-21T12:33:11.357Z"
   },
   {
    "duration": 15,
    "start_time": "2023-03-21T12:33:11.506Z"
   },
   {
    "duration": 35,
    "start_time": "2023-03-21T12:33:13.656Z"
   },
   {
    "duration": 530,
    "start_time": "2023-03-21T12:33:15.231Z"
   },
   {
    "duration": 3,
    "start_time": "2023-03-21T12:33:18.186Z"
   },
   {
    "duration": 30,
    "start_time": "2023-03-21T12:33:19.876Z"
   },
   {
    "duration": 8,
    "start_time": "2023-03-21T12:33:20.957Z"
   },
   {
    "duration": 2,
    "start_time": "2023-03-21T12:33:21.280Z"
   },
   {
    "duration": 4958,
    "start_time": "2023-03-21T12:33:21.810Z"
   },
   {
    "duration": 2565,
    "start_time": "2023-03-21T12:34:17.715Z"
   },
   {
    "duration": 155,
    "start_time": "2023-03-21T12:34:52.015Z"
   },
   {
    "duration": 531,
    "start_time": "2023-03-21T12:35:03.646Z"
   },
   {
    "duration": 23,
    "start_time": "2023-03-21T12:37:46.310Z"
   },
   {
    "duration": 9,
    "start_time": "2023-03-21T12:37:46.935Z"
   },
   {
    "duration": 3,
    "start_time": "2023-03-21T12:37:47.571Z"
   },
   {
    "duration": 515,
    "start_time": "2023-03-21T12:37:49.445Z"
   },
   {
    "duration": 444,
    "start_time": "2023-03-21T12:38:03.710Z"
   },
   {
    "duration": 3,
    "start_time": "2023-03-21T12:38:05.016Z"
   },
   {
    "duration": 28,
    "start_time": "2023-03-21T12:38:05.980Z"
   },
   {
    "duration": 7,
    "start_time": "2023-03-21T12:38:06.356Z"
   },
   {
    "duration": 2,
    "start_time": "2023-03-21T12:38:06.872Z"
   },
   {
    "duration": 415,
    "start_time": "2023-03-21T12:38:07.744Z"
   },
   {
    "duration": 33,
    "start_time": "2023-03-21T12:39:22.010Z"
   },
   {
    "duration": 8,
    "start_time": "2023-03-21T12:39:22.820Z"
   },
   {
    "duration": 3,
    "start_time": "2023-03-21T12:39:23.079Z"
   },
   {
    "duration": 580,
    "start_time": "2023-03-21T12:39:23.433Z"
   },
   {
    "duration": 94,
    "start_time": "2023-03-21T12:39:25.479Z"
   },
   {
    "duration": 329,
    "start_time": "2023-03-21T12:39:27.712Z"
   },
   {
    "duration": 509,
    "start_time": "2023-03-21T12:39:45.017Z"
   },
   {
    "duration": 33,
    "start_time": "2023-03-21T12:39:51.571Z"
   },
   {
    "duration": 8,
    "start_time": "2023-03-21T12:39:51.948Z"
   },
   {
    "duration": 3,
    "start_time": "2023-03-21T12:39:52.127Z"
   },
   {
    "duration": 2033,
    "start_time": "2023-03-21T12:39:52.424Z"
   },
   {
    "duration": 25,
    "start_time": "2023-03-21T12:41:16.857Z"
   },
   {
    "duration": 14,
    "start_time": "2023-03-21T12:41:17.517Z"
   },
   {
    "duration": 2,
    "start_time": "2023-03-21T12:41:18.010Z"
   },
   {
    "duration": 1934,
    "start_time": "2023-03-21T12:41:20.115Z"
   },
   {
    "duration": 127,
    "start_time": "2023-03-21T12:41:23.426Z"
   },
   {
    "duration": 407,
    "start_time": "2023-03-21T12:41:24.287Z"
   },
   {
    "duration": 14,
    "start_time": "2023-03-21T12:41:50.416Z"
   },
   {
    "duration": 9,
    "start_time": "2023-03-21T12:41:55.210Z"
   },
   {
    "duration": 13,
    "start_time": "2023-03-21T12:42:22.591Z"
   },
   {
    "duration": 3609,
    "start_time": "2023-03-21T12:42:34.742Z"
   },
   {
    "duration": 329,
    "start_time": "2023-03-21T12:43:48.111Z"
   },
   {
    "duration": 4,
    "start_time": "2023-03-21T12:47:36.049Z"
   },
   {
    "duration": 11,
    "start_time": "2023-03-21T12:47:39.134Z"
   },
   {
    "duration": 3,
    "start_time": "2023-03-21T12:47:41.811Z"
   },
   {
    "duration": 499,
    "start_time": "2023-03-21T12:47:57.541Z"
   },
   {
    "duration": 4,
    "start_time": "2023-03-21T12:48:12.731Z"
   },
   {
    "duration": 3,
    "start_time": "2023-03-21T12:48:18.692Z"
   },
   {
    "duration": 1975,
    "start_time": "2023-03-21T12:48:22.681Z"
   },
   {
    "duration": 942,
    "start_time": "2023-03-21T12:48:58.642Z"
   },
   {
    "duration": 3,
    "start_time": "2023-03-21T12:49:00.962Z"
   },
   {
    "duration": 15202,
    "start_time": "2023-03-21T12:49:02.044Z"
   },
   {
    "duration": 8994,
    "start_time": "2023-03-21T12:49:17.248Z"
   },
   {
    "duration": 705,
    "start_time": "2023-03-21T12:49:26.244Z"
   },
   {
    "duration": 5032,
    "start_time": "2023-03-21T12:49:26.951Z"
   },
   {
    "duration": 1786,
    "start_time": "2023-03-21T12:49:31.984Z"
   },
   {
    "duration": 892,
    "start_time": "2023-03-21T12:49:33.772Z"
   },
   {
    "duration": 4,
    "start_time": "2023-03-21T12:49:34.665Z"
   },
   {
    "duration": 7,
    "start_time": "2023-03-21T12:49:34.671Z"
   },
   {
    "duration": 10,
    "start_time": "2023-03-21T12:49:34.680Z"
   },
   {
    "duration": 5010,
    "start_time": "2023-03-21T12:49:34.740Z"
   },
   {
    "duration": 1025,
    "start_time": "2023-03-21T12:49:39.751Z"
   },
   {
    "duration": 764,
    "start_time": "2023-03-21T12:49:40.777Z"
   },
   {
    "duration": 707,
    "start_time": "2023-03-21T12:49:41.544Z"
   },
   {
    "duration": 662,
    "start_time": "2023-03-21T12:49:42.253Z"
   },
   {
    "duration": 787,
    "start_time": "2023-03-21T12:49:42.916Z"
   },
   {
    "duration": 291,
    "start_time": "2023-03-21T12:49:43.704Z"
   },
   {
    "duration": 76,
    "start_time": "2023-03-21T12:49:43.997Z"
   },
   {
    "duration": 91,
    "start_time": "2023-03-21T12:49:44.074Z"
   },
   {
    "duration": 1500,
    "start_time": "2023-03-21T12:49:44.168Z"
   },
   {
    "duration": 4,
    "start_time": "2023-03-21T12:49:45.671Z"
   },
   {
    "duration": 56,
    "start_time": "2023-03-21T12:49:49.310Z"
   },
   {
    "duration": 48,
    "start_time": "2023-03-21T12:50:58.288Z"
   },
   {
    "duration": 4,
    "start_time": "2023-03-21T12:50:59.684Z"
   },
   {
    "duration": 11,
    "start_time": "2023-03-21T12:51:02.646Z"
   },
   {
    "duration": 4,
    "start_time": "2023-03-21T12:51:05.117Z"
   },
   {
    "duration": 2,
    "start_time": "2023-03-21T12:51:07.899Z"
   },
   {
    "duration": 44815,
    "start_time": "2023-03-21T12:51:13.680Z"
   },
   {
    "duration": 81,
    "start_time": "2023-03-21T12:52:19.618Z"
   },
   {
    "duration": 7,
    "start_time": "2023-03-21T12:52:23.614Z"
   },
   {
    "duration": 199,
    "start_time": "2023-03-21T12:53:32.750Z"
   },
   {
    "duration": 498,
    "start_time": "2023-03-21T12:53:51.055Z"
   },
   {
    "duration": 1180,
    "start_time": "2023-03-21T12:54:00.462Z"
   },
   {
    "duration": 3,
    "start_time": "2023-03-21T12:58:40.134Z"
   },
   {
    "duration": 84,
    "start_time": "2023-03-21T12:59:07.000Z"
   },
   {
    "duration": 285,
    "start_time": "2023-03-21T12:59:09.234Z"
   },
   {
    "duration": 7,
    "start_time": "2023-03-21T13:00:57.724Z"
   },
   {
    "duration": 4,
    "start_time": "2023-03-21T13:00:59.031Z"
   },
   {
    "duration": 246,
    "start_time": "2023-03-21T13:00:59.420Z"
   },
   {
    "duration": 4,
    "start_time": "2023-03-21T13:01:26.174Z"
   },
   {
    "duration": 4,
    "start_time": "2023-03-21T13:02:07.261Z"
   },
   {
    "duration": 4,
    "start_time": "2023-03-21T13:02:28.286Z"
   },
   {
    "duration": 8,
    "start_time": "2023-03-21T13:02:36.010Z"
   },
   {
    "duration": 8,
    "start_time": "2023-03-21T13:03:57.958Z"
   },
   {
    "duration": 9,
    "start_time": "2023-03-21T13:04:07.425Z"
   },
   {
    "duration": 4,
    "start_time": "2023-03-21T13:04:17.768Z"
   },
   {
    "duration": 10,
    "start_time": "2023-03-21T13:04:59.493Z"
   },
   {
    "duration": 13,
    "start_time": "2023-03-21T13:05:13.410Z"
   },
   {
    "duration": 3,
    "start_time": "2023-03-21T13:05:28.850Z"
   },
   {
    "duration": 4,
    "start_time": "2023-03-21T13:05:35.918Z"
   },
   {
    "duration": 10,
    "start_time": "2023-03-21T13:05:47.070Z"
   },
   {
    "duration": 48,
    "start_time": "2023-03-21T13:05:56.872Z"
   },
   {
    "duration": 24,
    "start_time": "2023-03-21T13:06:18.325Z"
   },
   {
    "duration": 5,
    "start_time": "2023-03-21T13:06:27.377Z"
   },
   {
    "duration": 56,
    "start_time": "2023-03-21T13:06:34.267Z"
   },
   {
    "duration": 5,
    "start_time": "2023-03-21T13:06:37.767Z"
   },
   {
    "duration": 31,
    "start_time": "2023-03-21T13:06:46.746Z"
   },
   {
    "duration": 5,
    "start_time": "2023-03-21T13:06:52.437Z"
   },
   {
    "duration": 5,
    "start_time": "2023-03-21T13:06:56.179Z"
   },
   {
    "duration": 12,
    "start_time": "2023-03-21T13:07:02.287Z"
   },
   {
    "duration": 3,
    "start_time": "2023-03-21T13:07:07.857Z"
   },
   {
    "duration": 3,
    "start_time": "2023-03-21T13:07:13.544Z"
   },
   {
    "duration": 4,
    "start_time": "2023-03-21T13:07:17.585Z"
   },
   {
    "duration": 8,
    "start_time": "2023-03-21T13:07:23.666Z"
   },
   {
    "duration": 5,
    "start_time": "2023-03-21T13:07:24.138Z"
   },
   {
    "duration": 4,
    "start_time": "2023-03-21T13:08:20.135Z"
   },
   {
    "duration": 29,
    "start_time": "2023-03-21T13:08:22.238Z"
   },
   {
    "duration": 5,
    "start_time": "2023-03-21T13:08:31.560Z"
   },
   {
    "duration": 3,
    "start_time": "2023-03-21T13:08:47.499Z"
   },
   {
    "duration": 4,
    "start_time": "2023-03-21T13:08:49.690Z"
   },
   {
    "duration": 3,
    "start_time": "2023-03-21T13:09:32.774Z"
   },
   {
    "duration": 4,
    "start_time": "2023-03-21T13:09:43.777Z"
   },
   {
    "duration": 27,
    "start_time": "2023-03-21T13:09:50.575Z"
   },
   {
    "duration": 3,
    "start_time": "2023-03-21T13:09:58.915Z"
   },
   {
    "duration": 5,
    "start_time": "2023-03-21T13:09:59.196Z"
   },
   {
    "duration": 12,
    "start_time": "2023-03-21T13:10:07.721Z"
   },
   {
    "duration": 32757,
    "start_time": "2023-03-21T13:11:01.990Z"
   },
   {
    "duration": 105,
    "start_time": "2023-03-21T13:11:39.382Z"
   },
   {
    "duration": 366,
    "start_time": "2023-03-21T13:11:43.710Z"
   },
   {
    "duration": 7,
    "start_time": "2023-03-21T13:11:54.211Z"
   },
   {
    "duration": 4,
    "start_time": "2023-03-21T13:11:54.839Z"
   },
   {
    "duration": 4,
    "start_time": "2023-03-21T13:11:55.916Z"
   },
   {
    "duration": 25488,
    "start_time": "2023-03-21T13:12:18.494Z"
   },
   {
    "duration": 22003,
    "start_time": "2023-03-21T13:12:51.638Z"
   },
   {
    "duration": 20405,
    "start_time": "2023-03-21T13:13:50.136Z"
   },
   {
    "duration": 483,
    "start_time": "2023-03-21T13:14:10.544Z"
   },
   {
    "duration": 948,
    "start_time": "2023-03-21T13:14:11.810Z"
   },
   {
    "duration": 636,
    "start_time": "2023-03-21T13:14:13.538Z"
   },
   {
    "duration": 3,
    "start_time": "2023-03-21T13:14:53.226Z"
   },
   {
    "duration": 944,
    "start_time": "2023-03-21T13:15:05.650Z"
   },
   {
    "duration": 3,
    "start_time": "2023-03-21T13:15:06.595Z"
   },
   {
    "duration": 17185,
    "start_time": "2023-03-21T13:15:06.600Z"
   },
   {
    "duration": 11219,
    "start_time": "2023-03-21T13:15:23.840Z"
   },
   {
    "duration": 985,
    "start_time": "2023-03-21T13:15:35.061Z"
   },
   {
    "duration": 6011,
    "start_time": "2023-03-21T13:15:36.048Z"
   },
   {
    "duration": 2294,
    "start_time": "2023-03-21T13:15:42.061Z"
   },
   {
    "duration": 1100,
    "start_time": "2023-03-21T13:15:44.358Z"
   },
   {
    "duration": 5,
    "start_time": "2023-03-21T13:15:45.460Z"
   },
   {
    "duration": 23,
    "start_time": "2023-03-21T13:15:45.468Z"
   },
   {
    "duration": 8,
    "start_time": "2023-03-21T13:15:45.493Z"
   },
   {
    "duration": 6279,
    "start_time": "2023-03-21T13:15:45.503Z"
   },
   {
    "duration": 902,
    "start_time": "2023-03-21T13:15:51.784Z"
   },
   {
    "duration": 1145,
    "start_time": "2023-03-21T13:15:52.688Z"
   },
   {
    "duration": 799,
    "start_time": "2023-03-21T13:15:53.835Z"
   },
   {
    "duration": 755,
    "start_time": "2023-03-21T13:15:54.636Z"
   },
   {
    "duration": 1101,
    "start_time": "2023-03-21T13:15:55.393Z"
   },
   {
    "duration": 301,
    "start_time": "2023-03-21T13:15:56.496Z"
   },
   {
    "duration": 154,
    "start_time": "2023-03-21T13:15:56.799Z"
   },
   {
    "duration": 104,
    "start_time": "2023-03-21T13:15:56.955Z"
   },
   {
    "duration": 4,
    "start_time": "2023-03-21T13:15:57.061Z"
   },
   {
    "duration": 218,
    "start_time": "2023-03-21T13:15:57.067Z"
   },
   {
    "duration": 0,
    "start_time": "2023-03-21T13:15:57.288Z"
   },
   {
    "duration": 0,
    "start_time": "2023-03-21T13:15:57.289Z"
   },
   {
    "duration": 0,
    "start_time": "2023-03-21T13:15:57.289Z"
   },
   {
    "duration": 0,
    "start_time": "2023-03-21T13:15:57.290Z"
   },
   {
    "duration": 0,
    "start_time": "2023-03-21T13:15:57.291Z"
   },
   {
    "duration": 0,
    "start_time": "2023-03-21T13:15:57.293Z"
   },
   {
    "duration": 0,
    "start_time": "2023-03-21T13:15:57.294Z"
   },
   {
    "duration": 0,
    "start_time": "2023-03-21T13:15:57.295Z"
   },
   {
    "duration": 0,
    "start_time": "2023-03-21T13:15:57.296Z"
   },
   {
    "duration": 0,
    "start_time": "2023-03-21T13:15:57.298Z"
   },
   {
    "duration": 0,
    "start_time": "2023-03-21T13:15:57.299Z"
   },
   {
    "duration": 0,
    "start_time": "2023-03-21T13:15:57.300Z"
   },
   {
    "duration": 0,
    "start_time": "2023-03-21T13:15:57.301Z"
   },
   {
    "duration": 0,
    "start_time": "2023-03-21T13:15:57.303Z"
   },
   {
    "duration": 0,
    "start_time": "2023-03-21T13:15:57.341Z"
   },
   {
    "duration": 0,
    "start_time": "2023-03-21T13:15:57.345Z"
   },
   {
    "duration": 0,
    "start_time": "2023-03-21T13:15:57.346Z"
   },
   {
    "duration": 0,
    "start_time": "2023-03-21T13:15:57.348Z"
   },
   {
    "duration": 0,
    "start_time": "2023-03-21T13:15:57.350Z"
   },
   {
    "duration": 0,
    "start_time": "2023-03-21T13:15:57.352Z"
   },
   {
    "duration": 0,
    "start_time": "2023-03-21T13:15:57.353Z"
   },
   {
    "duration": 0,
    "start_time": "2023-03-21T13:15:57.355Z"
   },
   {
    "duration": 0,
    "start_time": "2023-03-21T13:15:57.356Z"
   },
   {
    "duration": 0,
    "start_time": "2023-03-21T13:15:57.359Z"
   },
   {
    "duration": 0,
    "start_time": "2023-03-21T13:15:57.361Z"
   },
   {
    "duration": 0,
    "start_time": "2023-03-21T13:15:57.363Z"
   },
   {
    "duration": 0,
    "start_time": "2023-03-21T13:15:57.365Z"
   },
   {
    "duration": 42,
    "start_time": "2023-03-21T13:16:44.564Z"
   },
   {
    "duration": 2,
    "start_time": "2023-03-21T13:16:45.632Z"
   },
   {
    "duration": 5,
    "start_time": "2023-03-21T13:16:46.648Z"
   },
   {
    "duration": 3,
    "start_time": "2023-03-21T13:16:47.074Z"
   },
   {
    "duration": 3,
    "start_time": "2023-03-21T13:16:51.275Z"
   },
   {
    "duration": 5,
    "start_time": "2023-03-21T13:16:51.280Z"
   },
   {
    "duration": 19,
    "start_time": "2023-03-21T13:16:51.286Z"
   },
   {
    "duration": 8,
    "start_time": "2023-03-21T13:16:51.307Z"
   },
   {
    "duration": 7,
    "start_time": "2023-03-21T13:16:51.318Z"
   },
   {
    "duration": 7,
    "start_time": "2023-03-21T13:16:51.326Z"
   },
   {
    "duration": 8,
    "start_time": "2023-03-21T13:16:51.335Z"
   },
   {
    "duration": 19,
    "start_time": "2023-03-21T13:16:51.346Z"
   },
   {
    "duration": 1992,
    "start_time": "2023-03-21T13:16:51.367Z"
   },
   {
    "duration": 42,
    "start_time": "2023-03-21T13:16:56.197Z"
   },
   {
    "duration": 4,
    "start_time": "2023-03-21T13:16:56.616Z"
   },
   {
    "duration": 11,
    "start_time": "2023-03-21T13:16:57.037Z"
   },
   {
    "duration": 4,
    "start_time": "2023-03-21T13:16:57.510Z"
   },
   {
    "duration": 49738,
    "start_time": "2023-03-21T13:16:58.568Z"
   },
   {
    "duration": 217,
    "start_time": "2023-03-21T13:17:49.547Z"
   },
   {
    "duration": 456,
    "start_time": "2023-03-21T13:17:50.224Z"
   },
   {
    "duration": 1357,
    "start_time": "2023-03-21T13:18:00.533Z"
   },
   {
    "duration": 7,
    "start_time": "2023-03-21T13:18:19.654Z"
   },
   {
    "duration": 2,
    "start_time": "2023-03-21T13:18:19.939Z"
   },
   {
    "duration": 3,
    "start_time": "2023-03-21T13:18:20.222Z"
   },
   {
    "duration": 29002,
    "start_time": "2023-03-21T13:18:20.516Z"
   },
   {
    "duration": 387,
    "start_time": "2023-03-21T13:18:49.521Z"
   },
   {
    "duration": 1133,
    "start_time": "2023-03-21T13:18:49.910Z"
   },
   {
    "duration": 972,
    "start_time": "2023-03-21T13:18:51.045Z"
   },
   {
    "duration": 51,
    "start_time": "2023-03-21T13:20:52.819Z"
   },
   {
    "duration": 56,
    "start_time": "2023-03-21T13:20:55.913Z"
   },
   {
    "duration": 987,
    "start_time": "2023-03-21T13:26:58.020Z"
   },
   {
    "duration": 3,
    "start_time": "2023-03-21T13:26:59.010Z"
   },
   {
    "duration": 16350,
    "start_time": "2023-03-21T13:26:59.015Z"
   },
   {
    "duration": 9515,
    "start_time": "2023-03-21T13:27:15.368Z"
   },
   {
    "duration": 626,
    "start_time": "2023-03-21T13:27:24.941Z"
   },
   {
    "duration": 5589,
    "start_time": "2023-03-21T13:27:25.569Z"
   },
   {
    "duration": 1915,
    "start_time": "2023-03-21T13:27:31.160Z"
   },
   {
    "duration": 900,
    "start_time": "2023-03-21T13:27:33.077Z"
   },
   {
    "duration": 6,
    "start_time": "2023-03-21T13:27:33.979Z"
   },
   {
    "duration": 7,
    "start_time": "2023-03-21T13:27:33.987Z"
   },
   {
    "duration": 2,
    "start_time": "2023-03-21T13:27:34.041Z"
   },
   {
    "duration": 5772,
    "start_time": "2023-03-21T13:27:34.045Z"
   },
   {
    "duration": 901,
    "start_time": "2023-03-21T13:27:39.819Z"
   },
   {
    "duration": 852,
    "start_time": "2023-03-21T13:27:40.722Z"
   },
   {
    "duration": 870,
    "start_time": "2023-03-21T13:27:41.576Z"
   },
   {
    "duration": 762,
    "start_time": "2023-03-21T13:27:42.448Z"
   },
   {
    "duration": 729,
    "start_time": "2023-03-21T13:27:43.212Z"
   },
   {
    "duration": 305,
    "start_time": "2023-03-21T13:27:43.942Z"
   },
   {
    "duration": 101,
    "start_time": "2023-03-21T13:27:44.250Z"
   },
   {
    "duration": 96,
    "start_time": "2023-03-21T13:27:44.354Z"
   },
   {
    "duration": 4,
    "start_time": "2023-03-21T13:27:44.452Z"
   },
   {
    "duration": 105,
    "start_time": "2023-03-21T13:27:44.458Z"
   },
   {
    "duration": 2,
    "start_time": "2023-03-21T13:27:44.565Z"
   },
   {
    "duration": 4,
    "start_time": "2023-03-21T13:27:44.569Z"
   },
   {
    "duration": 4,
    "start_time": "2023-03-21T13:27:44.574Z"
   },
   {
    "duration": 4,
    "start_time": "2023-03-21T13:27:44.580Z"
   },
   {
    "duration": 4,
    "start_time": "2023-03-21T13:27:44.586Z"
   },
   {
    "duration": 3,
    "start_time": "2023-03-21T13:27:44.593Z"
   },
   {
    "duration": 5,
    "start_time": "2023-03-21T13:27:44.597Z"
   },
   {
    "duration": 5,
    "start_time": "2023-03-21T13:27:44.604Z"
   },
   {
    "duration": 5,
    "start_time": "2023-03-21T13:27:44.641Z"
   },
   {
    "duration": 7,
    "start_time": "2023-03-21T13:27:44.647Z"
   },
   {
    "duration": 7,
    "start_time": "2023-03-21T13:27:44.655Z"
   },
   {
    "duration": 1592,
    "start_time": "2023-03-21T13:27:44.664Z"
   },
   {
    "duration": 91,
    "start_time": "2023-03-21T13:27:46.258Z"
   },
   {
    "duration": 3,
    "start_time": "2023-03-21T13:27:46.351Z"
   },
   {
    "duration": 11,
    "start_time": "2023-03-21T13:27:46.356Z"
   },
   {
    "duration": 4,
    "start_time": "2023-03-21T13:27:46.369Z"
   },
   {
    "duration": 44374,
    "start_time": "2023-03-21T13:27:46.374Z"
   },
   {
    "duration": 217,
    "start_time": "2023-03-21T13:28:30.750Z"
   },
   {
    "duration": 480,
    "start_time": "2023-03-21T13:28:30.969Z"
   },
   {
    "duration": 9,
    "start_time": "2023-03-21T13:28:31.452Z"
   },
   {
    "duration": 78,
    "start_time": "2023-03-21T13:28:31.463Z"
   },
   {
    "duration": 5,
    "start_time": "2023-03-21T13:28:31.543Z"
   },
   {
    "duration": 31857,
    "start_time": "2023-03-21T13:28:31.550Z"
   },
   {
    "duration": 573,
    "start_time": "2023-03-21T13:29:03.409Z"
   },
   {
    "duration": 1163,
    "start_time": "2023-03-21T13:29:03.984Z"
   },
   {
    "duration": 998,
    "start_time": "2023-03-21T13:29:05.150Z"
   },
   {
    "duration": 611,
    "start_time": "2023-03-21T13:29:06.150Z"
   },
   {
    "duration": 109,
    "start_time": "2023-03-21T13:42:00.220Z"
   },
   {
    "duration": 12,
    "start_time": "2023-03-21T13:42:22.358Z"
   },
   {
    "duration": 8,
    "start_time": "2023-03-21T13:45:00.119Z"
   },
   {
    "duration": 4,
    "start_time": "2023-03-21T13:45:24.939Z"
   },
   {
    "duration": 10,
    "start_time": "2023-03-21T13:45:37.318Z"
   },
   {
    "duration": 10,
    "start_time": "2023-03-21T13:45:40.699Z"
   },
   {
    "duration": 7,
    "start_time": "2023-03-21T13:45:50.556Z"
   },
   {
    "duration": 10,
    "start_time": "2023-03-21T13:46:00.658Z"
   },
   {
    "duration": 8,
    "start_time": "2023-03-21T13:46:14.323Z"
   },
   {
    "duration": 9,
    "start_time": "2023-03-21T13:46:59.387Z"
   },
   {
    "duration": 15,
    "start_time": "2023-03-21T13:47:03.714Z"
   },
   {
    "duration": 9,
    "start_time": "2023-03-21T13:47:24.509Z"
   },
   {
    "duration": 11,
    "start_time": "2023-03-21T13:50:42.635Z"
   },
   {
    "duration": 9,
    "start_time": "2023-03-21T13:56:54.191Z"
   },
   {
    "duration": 12,
    "start_time": "2023-03-21T13:57:04.799Z"
   },
   {
    "duration": 890,
    "start_time": "2023-03-21T13:58:09.693Z"
   },
   {
    "duration": 3,
    "start_time": "2023-03-21T13:58:10.585Z"
   },
   {
    "duration": 16158,
    "start_time": "2023-03-21T13:58:10.590Z"
   },
   {
    "duration": 11097,
    "start_time": "2023-03-21T13:58:26.751Z"
   },
   {
    "duration": 897,
    "start_time": "2023-03-21T13:58:37.850Z"
   },
   {
    "duration": 5829,
    "start_time": "2023-03-21T13:58:38.749Z"
   },
   {
    "duration": 2463,
    "start_time": "2023-03-21T13:58:44.580Z"
   },
   {
    "duration": 1126,
    "start_time": "2023-03-21T13:58:47.045Z"
   },
   {
    "duration": 4,
    "start_time": "2023-03-21T13:58:48.173Z"
   },
   {
    "duration": 7,
    "start_time": "2023-03-21T13:58:48.179Z"
   },
   {
    "duration": 8,
    "start_time": "2023-03-21T13:58:48.188Z"
   },
   {
    "duration": 6092,
    "start_time": "2023-03-21T13:58:48.198Z"
   },
   {
    "duration": 924,
    "start_time": "2023-03-21T13:58:54.292Z"
   },
   {
    "duration": 870,
    "start_time": "2023-03-21T13:58:55.218Z"
   },
   {
    "duration": 980,
    "start_time": "2023-03-21T13:58:56.090Z"
   },
   {
    "duration": 921,
    "start_time": "2023-03-21T13:58:57.072Z"
   },
   {
    "duration": 1015,
    "start_time": "2023-03-21T13:58:57.995Z"
   },
   {
    "duration": 290,
    "start_time": "2023-03-21T13:58:59.012Z"
   },
   {
    "duration": 79,
    "start_time": "2023-03-21T13:58:59.304Z"
   },
   {
    "duration": 132,
    "start_time": "2023-03-21T13:58:59.441Z"
   },
   {
    "duration": 3,
    "start_time": "2023-03-21T13:58:59.575Z"
   },
   {
    "duration": 120,
    "start_time": "2023-03-21T13:58:59.580Z"
   },
   {
    "duration": 3,
    "start_time": "2023-03-21T13:58:59.702Z"
   },
   {
    "duration": 5,
    "start_time": "2023-03-21T13:58:59.706Z"
   },
   {
    "duration": 4,
    "start_time": "2023-03-21T13:58:59.712Z"
   },
   {
    "duration": 27,
    "start_time": "2023-03-21T13:58:59.717Z"
   },
   {
    "duration": 3,
    "start_time": "2023-03-21T13:58:59.746Z"
   },
   {
    "duration": 7,
    "start_time": "2023-03-21T13:58:59.755Z"
   },
   {
    "duration": 3,
    "start_time": "2023-03-21T13:58:59.764Z"
   },
   {
    "duration": 9,
    "start_time": "2023-03-21T13:58:59.769Z"
   },
   {
    "duration": 9,
    "start_time": "2023-03-21T13:58:59.780Z"
   },
   {
    "duration": 12,
    "start_time": "2023-03-21T13:58:59.790Z"
   },
   {
    "duration": 3,
    "start_time": "2023-03-21T13:58:59.804Z"
   },
   {
    "duration": 1843,
    "start_time": "2023-03-21T13:58:59.809Z"
   },
   {
    "duration": 111,
    "start_time": "2023-03-21T13:59:01.654Z"
   },
   {
    "duration": 4,
    "start_time": "2023-03-21T13:59:01.768Z"
   },
   {
    "duration": 79,
    "start_time": "2023-03-21T13:59:01.775Z"
   },
   {
    "duration": 4,
    "start_time": "2023-03-21T13:59:01.857Z"
   },
   {
    "duration": 52656,
    "start_time": "2023-03-21T13:59:01.863Z"
   },
   {
    "duration": 262,
    "start_time": "2023-03-21T13:59:54.521Z"
   },
   {
    "duration": 472,
    "start_time": "2023-03-21T13:59:54.785Z"
   },
   {
    "duration": 13,
    "start_time": "2023-03-21T13:59:55.260Z"
   },
   {
    "duration": 29,
    "start_time": "2023-03-21T13:59:55.275Z"
   },
   {
    "duration": 9,
    "start_time": "2023-03-21T13:59:55.344Z"
   },
   {
    "duration": 32552,
    "start_time": "2023-03-21T13:59:55.355Z"
   },
   {
    "duration": 560,
    "start_time": "2023-03-21T14:00:27.908Z"
   },
   {
    "duration": 1133,
    "start_time": "2023-03-21T14:00:28.470Z"
   },
   {
    "duration": 1071,
    "start_time": "2023-03-21T14:00:29.605Z"
   },
   {
    "duration": 523,
    "start_time": "2023-03-21T14:00:30.679Z"
   }
  ],
  "colab": {
   "name": "PySparkSprint.ipynb",
   "provenance": []
  },
  "kernelspec": {
   "display_name": "Python 3 (ipykernel)",
   "language": "python",
   "name": "python3"
  },
  "language_info": {
   "codemirror_mode": {
    "name": "ipython",
    "version": 3
   },
   "file_extension": ".py",
   "mimetype": "text/x-python",
   "name": "python",
   "nbconvert_exporter": "python",
   "pygments_lexer": "ipython3",
   "version": "3.9.5"
  },
  "toc": {
   "base_numbering": 1,
   "nav_menu": {},
   "number_sections": true,
   "sideBar": true,
   "skip_h1_title": true,
   "title_cell": "Table of Contents",
   "title_sidebar": "Contents",
   "toc_cell": false,
   "toc_position": {
    "height": "calc(100% - 180px)",
    "left": "10px",
    "top": "150px",
    "width": "366.2px"
   },
   "toc_section_display": true,
   "toc_window_display": true
  }
 },
 "nbformat": 4,
 "nbformat_minor": 5
}
