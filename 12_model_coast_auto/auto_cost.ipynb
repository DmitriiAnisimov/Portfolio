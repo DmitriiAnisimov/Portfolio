{
 "cells": [
  {
   "cell_type": "markdown",
   "metadata": {},
   "source": [
    "# Определение стоимости автомобилей"
   ]
  },
  {
   "cell_type": "markdown",
   "metadata": {},
   "source": [
    "Сервис по продаже автомобилей с пробегом «Не бит, не крашен» разрабатывает приложение для привлечения новых клиентов. В нём можно быстро узнать рыночную стоимость своего автомобиля. В вашем распоряжении исторические данные: технические характеристики, комплектации и цены автомобилей. Вам нужно построить модель для определения стоимости. \n",
    "\n",
    "Заказчику важны:\n",
    "\n",
    "- качество предсказания;\n",
    "- скорость предсказания;\n",
    "- время обучения."
   ]
  },
  {
   "cell_type": "markdown",
   "metadata": {},
   "source": [
    "## Подготовка данных"
   ]
  },
  {
   "cell_type": "code",
   "execution_count": 1,
   "metadata": {},
   "outputs": [],
   "source": [
    "import pandas as pd\n",
    "import numpy as np\n",
    "from matplotlib import pyplot as plt\n",
    "import seaborn as sns\n",
    "from sklearn.linear_model import LinearRegression\n",
    "from sklearn.ensemble import RandomForestRegressor\n",
    "from sklearn.dummy import DummyRegressor\n",
    "from sklearn.model_selection import train_test_split\n",
    "from sklearn.preprocessing import StandardScaler\n",
    "from sklearn.metrics import mean_squared_error\n",
    "from sklearn.preprocessing import OrdinalEncoder\n",
    "import lightgbm as lgb\n",
    "from sklearn.model_selection import GridSearchCV\n",
    "from catboost import CatBoostRegressor\n",
    "import time"
   ]
  },
  {
   "cell_type": "code",
   "execution_count": 2,
   "metadata": {},
   "outputs": [],
   "source": [
    "df = pd.read_csv('/datasets/autos.csv')"
   ]
  },
  {
   "cell_type": "code",
   "execution_count": 3,
   "metadata": {
    "scrolled": false
   },
   "outputs": [
    {
     "data": {
      "text/html": [
       "<div>\n",
       "<style scoped>\n",
       "    .dataframe tbody tr th:only-of-type {\n",
       "        vertical-align: middle;\n",
       "    }\n",
       "\n",
       "    .dataframe tbody tr th {\n",
       "        vertical-align: top;\n",
       "    }\n",
       "\n",
       "    .dataframe thead th {\n",
       "        text-align: right;\n",
       "    }\n",
       "</style>\n",
       "<table border=\"1\" class=\"dataframe\">\n",
       "  <thead>\n",
       "    <tr style=\"text-align: right;\">\n",
       "      <th></th>\n",
       "      <th>DateCrawled</th>\n",
       "      <th>Price</th>\n",
       "      <th>VehicleType</th>\n",
       "      <th>RegistrationYear</th>\n",
       "      <th>Gearbox</th>\n",
       "      <th>Power</th>\n",
       "      <th>Model</th>\n",
       "      <th>Kilometer</th>\n",
       "      <th>RegistrationMonth</th>\n",
       "      <th>FuelType</th>\n",
       "      <th>Brand</th>\n",
       "      <th>Repaired</th>\n",
       "      <th>DateCreated</th>\n",
       "      <th>NumberOfPictures</th>\n",
       "      <th>PostalCode</th>\n",
       "      <th>LastSeen</th>\n",
       "    </tr>\n",
       "  </thead>\n",
       "  <tbody>\n",
       "    <tr>\n",
       "      <th>40238</th>\n",
       "      <td>2016-03-31 20:45:41</td>\n",
       "      <td>6790</td>\n",
       "      <td>bus</td>\n",
       "      <td>2009</td>\n",
       "      <td>manual</td>\n",
       "      <td>125</td>\n",
       "      <td>zafira</td>\n",
       "      <td>125000</td>\n",
       "      <td>2</td>\n",
       "      <td>gasoline</td>\n",
       "      <td>opel</td>\n",
       "      <td>no</td>\n",
       "      <td>2016-03-31 00:00:00</td>\n",
       "      <td>0</td>\n",
       "      <td>40723</td>\n",
       "      <td>2016-03-31 20:45:41</td>\n",
       "    </tr>\n",
       "    <tr>\n",
       "      <th>96501</th>\n",
       "      <td>2016-03-27 18:45:27</td>\n",
       "      <td>3700</td>\n",
       "      <td>convertible</td>\n",
       "      <td>2003</td>\n",
       "      <td>auto</td>\n",
       "      <td>61</td>\n",
       "      <td>fortwo</td>\n",
       "      <td>60000</td>\n",
       "      <td>4</td>\n",
       "      <td>petrol</td>\n",
       "      <td>smart</td>\n",
       "      <td>no</td>\n",
       "      <td>2016-03-27 00:00:00</td>\n",
       "      <td>0</td>\n",
       "      <td>72393</td>\n",
       "      <td>2016-04-03 16:15:47</td>\n",
       "    </tr>\n",
       "    <tr>\n",
       "      <th>28762</th>\n",
       "      <td>2016-04-01 13:56:04</td>\n",
       "      <td>9500</td>\n",
       "      <td>sedan</td>\n",
       "      <td>2005</td>\n",
       "      <td>auto</td>\n",
       "      <td>218</td>\n",
       "      <td>5er</td>\n",
       "      <td>150000</td>\n",
       "      <td>2</td>\n",
       "      <td>gasoline</td>\n",
       "      <td>bmw</td>\n",
       "      <td>no</td>\n",
       "      <td>2016-04-01 00:00:00</td>\n",
       "      <td>0</td>\n",
       "      <td>50674</td>\n",
       "      <td>2016-04-07 11:17:52</td>\n",
       "    </tr>\n",
       "    <tr>\n",
       "      <th>82128</th>\n",
       "      <td>2016-03-08 10:40:53</td>\n",
       "      <td>14444</td>\n",
       "      <td>sedan</td>\n",
       "      <td>2008</td>\n",
       "      <td>manual</td>\n",
       "      <td>150</td>\n",
       "      <td>x_reihe</td>\n",
       "      <td>90000</td>\n",
       "      <td>2</td>\n",
       "      <td>petrol</td>\n",
       "      <td>bmw</td>\n",
       "      <td>no</td>\n",
       "      <td>2016-03-08 00:00:00</td>\n",
       "      <td>0</td>\n",
       "      <td>66386</td>\n",
       "      <td>2016-03-17 16:45:06</td>\n",
       "    </tr>\n",
       "    <tr>\n",
       "      <th>310509</th>\n",
       "      <td>2016-03-07 19:43:24</td>\n",
       "      <td>1300</td>\n",
       "      <td>small</td>\n",
       "      <td>2002</td>\n",
       "      <td>auto</td>\n",
       "      <td>55</td>\n",
       "      <td>other</td>\n",
       "      <td>125000</td>\n",
       "      <td>2</td>\n",
       "      <td>petrol</td>\n",
       "      <td>smart</td>\n",
       "      <td>no</td>\n",
       "      <td>2016-03-07 00:00:00</td>\n",
       "      <td>0</td>\n",
       "      <td>19309</td>\n",
       "      <td>2016-03-10 13:47:14</td>\n",
       "    </tr>\n",
       "    <tr>\n",
       "      <th>139596</th>\n",
       "      <td>2016-03-16 09:47:30</td>\n",
       "      <td>18500</td>\n",
       "      <td>wagon</td>\n",
       "      <td>2014</td>\n",
       "      <td>manual</td>\n",
       "      <td>150</td>\n",
       "      <td>leon</td>\n",
       "      <td>30000</td>\n",
       "      <td>5</td>\n",
       "      <td>gasoline</td>\n",
       "      <td>seat</td>\n",
       "      <td>no</td>\n",
       "      <td>2016-03-16 00:00:00</td>\n",
       "      <td>0</td>\n",
       "      <td>12209</td>\n",
       "      <td>2016-04-06 02:44:27</td>\n",
       "    </tr>\n",
       "    <tr>\n",
       "      <th>19086</th>\n",
       "      <td>2016-04-04 01:58:37</td>\n",
       "      <td>900</td>\n",
       "      <td>small</td>\n",
       "      <td>2003</td>\n",
       "      <td>manual</td>\n",
       "      <td>55</td>\n",
       "      <td>NaN</td>\n",
       "      <td>150000</td>\n",
       "      <td>3</td>\n",
       "      <td>petrol</td>\n",
       "      <td>suzuki</td>\n",
       "      <td>yes</td>\n",
       "      <td>2016-04-04 00:00:00</td>\n",
       "      <td>0</td>\n",
       "      <td>37176</td>\n",
       "      <td>2016-04-06 09:17:50</td>\n",
       "    </tr>\n",
       "    <tr>\n",
       "      <th>341284</th>\n",
       "      <td>2016-03-29 09:25:24</td>\n",
       "      <td>16300</td>\n",
       "      <td>bus</td>\n",
       "      <td>2004</td>\n",
       "      <td>manual</td>\n",
       "      <td>174</td>\n",
       "      <td>transporter</td>\n",
       "      <td>150000</td>\n",
       "      <td>12</td>\n",
       "      <td>gasoline</td>\n",
       "      <td>volkswagen</td>\n",
       "      <td>no</td>\n",
       "      <td>2016-03-29 00:00:00</td>\n",
       "      <td>0</td>\n",
       "      <td>60314</td>\n",
       "      <td>2016-04-07 09:17:43</td>\n",
       "    </tr>\n",
       "    <tr>\n",
       "      <th>40879</th>\n",
       "      <td>2016-03-22 18:38:02</td>\n",
       "      <td>1700</td>\n",
       "      <td>bus</td>\n",
       "      <td>2000</td>\n",
       "      <td>manual</td>\n",
       "      <td>116</td>\n",
       "      <td>zafira</td>\n",
       "      <td>150000</td>\n",
       "      <td>4</td>\n",
       "      <td>petrol</td>\n",
       "      <td>opel</td>\n",
       "      <td>no</td>\n",
       "      <td>2016-03-22 00:00:00</td>\n",
       "      <td>0</td>\n",
       "      <td>63633</td>\n",
       "      <td>2016-03-29 23:16:20</td>\n",
       "    </tr>\n",
       "    <tr>\n",
       "      <th>336189</th>\n",
       "      <td>2016-03-13 16:49:00</td>\n",
       "      <td>2690</td>\n",
       "      <td>small</td>\n",
       "      <td>2006</td>\n",
       "      <td>manual</td>\n",
       "      <td>60</td>\n",
       "      <td>fiesta</td>\n",
       "      <td>125000</td>\n",
       "      <td>12</td>\n",
       "      <td>petrol</td>\n",
       "      <td>ford</td>\n",
       "      <td>no</td>\n",
       "      <td>2016-03-13 00:00:00</td>\n",
       "      <td>0</td>\n",
       "      <td>65201</td>\n",
       "      <td>2016-03-23 12:19:06</td>\n",
       "    </tr>\n",
       "  </tbody>\n",
       "</table>\n",
       "</div>"
      ],
      "text/plain": [
       "                DateCrawled  Price  VehicleType  RegistrationYear Gearbox  \\\n",
       "40238   2016-03-31 20:45:41   6790          bus              2009  manual   \n",
       "96501   2016-03-27 18:45:27   3700  convertible              2003    auto   \n",
       "28762   2016-04-01 13:56:04   9500        sedan              2005    auto   \n",
       "82128   2016-03-08 10:40:53  14444        sedan              2008  manual   \n",
       "310509  2016-03-07 19:43:24   1300        small              2002    auto   \n",
       "139596  2016-03-16 09:47:30  18500        wagon              2014  manual   \n",
       "19086   2016-04-04 01:58:37    900        small              2003  manual   \n",
       "341284  2016-03-29 09:25:24  16300          bus              2004  manual   \n",
       "40879   2016-03-22 18:38:02   1700          bus              2000  manual   \n",
       "336189  2016-03-13 16:49:00   2690        small              2006  manual   \n",
       "\n",
       "        Power        Model  Kilometer  RegistrationMonth  FuelType  \\\n",
       "40238     125       zafira     125000                  2  gasoline   \n",
       "96501      61       fortwo      60000                  4    petrol   \n",
       "28762     218          5er     150000                  2  gasoline   \n",
       "82128     150      x_reihe      90000                  2    petrol   \n",
       "310509     55        other     125000                  2    petrol   \n",
       "139596    150         leon      30000                  5  gasoline   \n",
       "19086      55          NaN     150000                  3    petrol   \n",
       "341284    174  transporter     150000                 12  gasoline   \n",
       "40879     116       zafira     150000                  4    petrol   \n",
       "336189     60       fiesta     125000                 12    petrol   \n",
       "\n",
       "             Brand Repaired          DateCreated  NumberOfPictures  \\\n",
       "40238         opel       no  2016-03-31 00:00:00                 0   \n",
       "96501        smart       no  2016-03-27 00:00:00                 0   \n",
       "28762          bmw       no  2016-04-01 00:00:00                 0   \n",
       "82128          bmw       no  2016-03-08 00:00:00                 0   \n",
       "310509       smart       no  2016-03-07 00:00:00                 0   \n",
       "139596        seat       no  2016-03-16 00:00:00                 0   \n",
       "19086       suzuki      yes  2016-04-04 00:00:00                 0   \n",
       "341284  volkswagen       no  2016-03-29 00:00:00                 0   \n",
       "40879         opel       no  2016-03-22 00:00:00                 0   \n",
       "336189        ford       no  2016-03-13 00:00:00                 0   \n",
       "\n",
       "        PostalCode             LastSeen  \n",
       "40238        40723  2016-03-31 20:45:41  \n",
       "96501        72393  2016-04-03 16:15:47  \n",
       "28762        50674  2016-04-07 11:17:52  \n",
       "82128        66386  2016-03-17 16:45:06  \n",
       "310509       19309  2016-03-10 13:47:14  \n",
       "139596       12209  2016-04-06 02:44:27  \n",
       "19086        37176  2016-04-06 09:17:50  \n",
       "341284       60314  2016-04-07 09:17:43  \n",
       "40879        63633  2016-03-29 23:16:20  \n",
       "336189       65201  2016-03-23 12:19:06  "
      ]
     },
     "execution_count": 3,
     "metadata": {},
     "output_type": "execute_result"
    }
   ],
   "source": [
    "df.sample(10)"
   ]
  },
  {
   "cell_type": "code",
   "execution_count": 4,
   "metadata": {},
   "outputs": [
    {
     "name": "stdout",
     "output_type": "stream",
     "text": [
      "<class 'pandas.core.frame.DataFrame'>\n",
      "RangeIndex: 354369 entries, 0 to 354368\n",
      "Data columns (total 16 columns):\n",
      " #   Column             Non-Null Count   Dtype \n",
      "---  ------             --------------   ----- \n",
      " 0   DateCrawled        354369 non-null  object\n",
      " 1   Price              354369 non-null  int64 \n",
      " 2   VehicleType        316879 non-null  object\n",
      " 3   RegistrationYear   354369 non-null  int64 \n",
      " 4   Gearbox            334536 non-null  object\n",
      " 5   Power              354369 non-null  int64 \n",
      " 6   Model              334664 non-null  object\n",
      " 7   Kilometer          354369 non-null  int64 \n",
      " 8   RegistrationMonth  354369 non-null  int64 \n",
      " 9   FuelType           321474 non-null  object\n",
      " 10  Brand              354369 non-null  object\n",
      " 11  Repaired           283215 non-null  object\n",
      " 12  DateCreated        354369 non-null  object\n",
      " 13  NumberOfPictures   354369 non-null  int64 \n",
      " 14  PostalCode         354369 non-null  int64 \n",
      " 15  LastSeen           354369 non-null  object\n",
      "dtypes: int64(7), object(9)\n",
      "memory usage: 43.3+ MB\n"
     ]
    }
   ],
   "source": [
    "df.info()"
   ]
  },
  {
   "cell_type": "code",
   "execution_count": 5,
   "metadata": {},
   "outputs": [
    {
     "name": "stderr",
     "output_type": "stream",
     "text": [
      "/tmp/ipykernel_151/58810685.py:2: FutureWarning: The default value of regex will change from True to False in a future version.\n",
      "  df.columns = df.columns.str.replace(r\"([A-Z])\", r\" \\1\").str.lower().str.replace(' ', '_').str[1:]\n"
     ]
    }
   ],
   "source": [
    "# приведение названий признаков к единому виду\n",
    "df.columns = df.columns.str.replace(r\"([A-Z])\", r\" \\1\").str.lower().str.replace(' ', '_').str[1:]"
   ]
  },
  {
   "cell_type": "code",
   "execution_count": 6,
   "metadata": {},
   "outputs": [
    {
     "name": "stdout",
     "output_type": "stream",
     "text": [
      "<class 'pandas.core.frame.DataFrame'>\n",
      "RangeIndex: 354369 entries, 0 to 354368\n",
      "Data columns (total 16 columns):\n",
      " #   Column              Non-Null Count   Dtype \n",
      "---  ------              --------------   ----- \n",
      " 0   date_crawled        354369 non-null  object\n",
      " 1   price               354369 non-null  int64 \n",
      " 2   vehicle_type        316879 non-null  object\n",
      " 3   registration_year   354369 non-null  int64 \n",
      " 4   gearbox             334536 non-null  object\n",
      " 5   power               354369 non-null  int64 \n",
      " 6   model               334664 non-null  object\n",
      " 7   kilometer           354369 non-null  int64 \n",
      " 8   registration_month  354369 non-null  int64 \n",
      " 9   fuel_type           321474 non-null  object\n",
      " 10  brand               354369 non-null  object\n",
      " 11  repaired            283215 non-null  object\n",
      " 12  date_created        354369 non-null  object\n",
      " 13  number_of_pictures  354369 non-null  int64 \n",
      " 14  postal_code         354369 non-null  int64 \n",
      " 15  last_seen           354369 non-null  object\n",
      "dtypes: int64(7), object(9)\n",
      "memory usage: 43.3+ MB\n"
     ]
    }
   ],
   "source": [
    "df.info()"
   ]
  },
  {
   "cell_type": "code",
   "execution_count": 7,
   "metadata": {},
   "outputs": [
    {
     "data": {
      "text/html": [
       "<div>\n",
       "<style scoped>\n",
       "    .dataframe tbody tr th:only-of-type {\n",
       "        vertical-align: middle;\n",
       "    }\n",
       "\n",
       "    .dataframe tbody tr th {\n",
       "        vertical-align: top;\n",
       "    }\n",
       "\n",
       "    .dataframe thead th {\n",
       "        text-align: right;\n",
       "    }\n",
       "</style>\n",
       "<table border=\"1\" class=\"dataframe\">\n",
       "  <thead>\n",
       "    <tr style=\"text-align: right;\">\n",
       "      <th></th>\n",
       "      <th>date_crawled</th>\n",
       "      <th>price</th>\n",
       "      <th>vehicle_type</th>\n",
       "      <th>registration_year</th>\n",
       "      <th>gearbox</th>\n",
       "      <th>power</th>\n",
       "      <th>model</th>\n",
       "      <th>kilometer</th>\n",
       "      <th>registration_month</th>\n",
       "      <th>fuel_type</th>\n",
       "      <th>brand</th>\n",
       "      <th>repaired</th>\n",
       "      <th>date_created</th>\n",
       "      <th>number_of_pictures</th>\n",
       "      <th>postal_code</th>\n",
       "      <th>last_seen</th>\n",
       "    </tr>\n",
       "  </thead>\n",
       "  <tbody>\n",
       "    <tr>\n",
       "      <th>0</th>\n",
       "      <td>2016-03-24 11:52:17</td>\n",
       "      <td>480</td>\n",
       "      <td>NaN</td>\n",
       "      <td>1993</td>\n",
       "      <td>manual</td>\n",
       "      <td>0</td>\n",
       "      <td>golf</td>\n",
       "      <td>150000</td>\n",
       "      <td>0</td>\n",
       "      <td>petrol</td>\n",
       "      <td>volkswagen</td>\n",
       "      <td>NaN</td>\n",
       "      <td>2016-03-24 00:00:00</td>\n",
       "      <td>0</td>\n",
       "      <td>70435</td>\n",
       "      <td>2016-04-07 03:16:57</td>\n",
       "    </tr>\n",
       "    <tr>\n",
       "      <th>1</th>\n",
       "      <td>2016-03-24 10:58:45</td>\n",
       "      <td>18300</td>\n",
       "      <td>coupe</td>\n",
       "      <td>2011</td>\n",
       "      <td>manual</td>\n",
       "      <td>190</td>\n",
       "      <td>NaN</td>\n",
       "      <td>125000</td>\n",
       "      <td>5</td>\n",
       "      <td>gasoline</td>\n",
       "      <td>audi</td>\n",
       "      <td>yes</td>\n",
       "      <td>2016-03-24 00:00:00</td>\n",
       "      <td>0</td>\n",
       "      <td>66954</td>\n",
       "      <td>2016-04-07 01:46:50</td>\n",
       "    </tr>\n",
       "    <tr>\n",
       "      <th>2</th>\n",
       "      <td>2016-03-14 12:52:21</td>\n",
       "      <td>9800</td>\n",
       "      <td>suv</td>\n",
       "      <td>2004</td>\n",
       "      <td>auto</td>\n",
       "      <td>163</td>\n",
       "      <td>grand</td>\n",
       "      <td>125000</td>\n",
       "      <td>8</td>\n",
       "      <td>gasoline</td>\n",
       "      <td>jeep</td>\n",
       "      <td>NaN</td>\n",
       "      <td>2016-03-14 00:00:00</td>\n",
       "      <td>0</td>\n",
       "      <td>90480</td>\n",
       "      <td>2016-04-05 12:47:46</td>\n",
       "    </tr>\n",
       "    <tr>\n",
       "      <th>3</th>\n",
       "      <td>2016-03-17 16:54:04</td>\n",
       "      <td>1500</td>\n",
       "      <td>small</td>\n",
       "      <td>2001</td>\n",
       "      <td>manual</td>\n",
       "      <td>75</td>\n",
       "      <td>golf</td>\n",
       "      <td>150000</td>\n",
       "      <td>6</td>\n",
       "      <td>petrol</td>\n",
       "      <td>volkswagen</td>\n",
       "      <td>no</td>\n",
       "      <td>2016-03-17 00:00:00</td>\n",
       "      <td>0</td>\n",
       "      <td>91074</td>\n",
       "      <td>2016-03-17 17:40:17</td>\n",
       "    </tr>\n",
       "    <tr>\n",
       "      <th>4</th>\n",
       "      <td>2016-03-31 17:25:20</td>\n",
       "      <td>3600</td>\n",
       "      <td>small</td>\n",
       "      <td>2008</td>\n",
       "      <td>manual</td>\n",
       "      <td>69</td>\n",
       "      <td>fabia</td>\n",
       "      <td>90000</td>\n",
       "      <td>7</td>\n",
       "      <td>gasoline</td>\n",
       "      <td>skoda</td>\n",
       "      <td>no</td>\n",
       "      <td>2016-03-31 00:00:00</td>\n",
       "      <td>0</td>\n",
       "      <td>60437</td>\n",
       "      <td>2016-04-06 10:17:21</td>\n",
       "    </tr>\n",
       "  </tbody>\n",
       "</table>\n",
       "</div>"
      ],
      "text/plain": [
       "          date_crawled  price vehicle_type  registration_year gearbox  power  \\\n",
       "0  2016-03-24 11:52:17    480          NaN               1993  manual      0   \n",
       "1  2016-03-24 10:58:45  18300        coupe               2011  manual    190   \n",
       "2  2016-03-14 12:52:21   9800          suv               2004    auto    163   \n",
       "3  2016-03-17 16:54:04   1500        small               2001  manual     75   \n",
       "4  2016-03-31 17:25:20   3600        small               2008  manual     69   \n",
       "\n",
       "   model  kilometer  registration_month fuel_type       brand repaired  \\\n",
       "0   golf     150000                   0    petrol  volkswagen      NaN   \n",
       "1    NaN     125000                   5  gasoline        audi      yes   \n",
       "2  grand     125000                   8  gasoline        jeep      NaN   \n",
       "3   golf     150000                   6    petrol  volkswagen       no   \n",
       "4  fabia      90000                   7  gasoline       skoda       no   \n",
       "\n",
       "          date_created  number_of_pictures  postal_code            last_seen  \n",
       "0  2016-03-24 00:00:00                   0        70435  2016-04-07 03:16:57  \n",
       "1  2016-03-24 00:00:00                   0        66954  2016-04-07 01:46:50  \n",
       "2  2016-03-14 00:00:00                   0        90480  2016-04-05 12:47:46  \n",
       "3  2016-03-17 00:00:00                   0        91074  2016-03-17 17:40:17  \n",
       "4  2016-03-31 00:00:00                   0        60437  2016-04-06 10:17:21  "
      ]
     },
     "execution_count": 7,
     "metadata": {},
     "output_type": "execute_result"
    }
   ],
   "source": [
    "df.head()"
   ]
  },
  {
   "cell_type": "markdown",
   "metadata": {},
   "source": [
    "### Дубликаты в данных"
   ]
  },
  {
   "cell_type": "code",
   "execution_count": 8,
   "metadata": {},
   "outputs": [
    {
     "data": {
      "text/plain": [
       "4"
      ]
     },
     "execution_count": 8,
     "metadata": {},
     "output_type": "execute_result"
    }
   ],
   "source": [
    "df.duplicated().sum()"
   ]
  },
  {
   "cell_type": "code",
   "execution_count": 9,
   "metadata": {},
   "outputs": [],
   "source": [
    "df.drop_duplicates(inplace=True)"
   ]
  },
  {
   "cell_type": "code",
   "execution_count": 10,
   "metadata": {},
   "outputs": [
    {
     "data": {
      "text/plain": [
       "0"
      ]
     },
     "execution_count": 10,
     "metadata": {},
     "output_type": "execute_result"
    }
   ],
   "source": [
    "df.duplicated().sum()"
   ]
  },
  {
   "cell_type": "markdown",
   "metadata": {},
   "source": [
    "#### Вывод:\n",
    "В данных было удалено 4 строки с повторяющимися значениями"
   ]
  },
  {
   "cell_type": "code",
   "execution_count": 11,
   "metadata": {},
   "outputs": [],
   "source": [
    "# удаление ненужных столбов\n",
    "df = df.drop(['number_of_pictures', 'postal_code', 'date_created',\n",
    "              'last_seen', 'registration_month', 'date_crawled'],\n",
    "              axis=1)"
   ]
  },
  {
   "cell_type": "markdown",
   "metadata": {},
   "source": [
    "### Пропуски в данных"
   ]
  },
  {
   "cell_type": "code",
   "execution_count": 12,
   "metadata": {},
   "outputs": [
    {
     "data": {
      "text/plain": [
       "price                0.000000\n",
       "vehicle_type         0.105795\n",
       "registration_year    0.000000\n",
       "gearbox              0.055968\n",
       "power                0.000000\n",
       "model                0.055607\n",
       "kilometer            0.000000\n",
       "fuel_type            0.092828\n",
       "brand                0.000000\n",
       "repaired             0.200793\n",
       "dtype: float64"
      ]
     },
     "execution_count": 12,
     "metadata": {},
     "output_type": "execute_result"
    }
   ],
   "source": [
    "df.isna().mean()"
   ]
  },
  {
   "cell_type": "markdown",
   "metadata": {},
   "source": [
    "Пропуски есть в столбцах:\n",
    "* `vehicle_type` -  тип автомобильного кузова;\n",
    "* `gearbox` -  тип коробки передач;\n",
    "* `model` - модель автомобиля;\n",
    "* `fuel_type` - тип топлива;\n",
    "* `repaired` - была машина в ремонте или нет."
   ]
  },
  {
   "cell_type": "markdown",
   "metadata": {},
   "source": [
    "#### Тип топлива"
   ]
  },
  {
   "cell_type": "code",
   "execution_count": 13,
   "metadata": {},
   "outputs": [
    {
     "data": {
      "text/plain": [
       "petrol      216349\n",
       "gasoline     98719\n",
       "lpg           5310\n",
       "cng            565\n",
       "hybrid         233\n",
       "other          204\n",
       "electric        90\n",
       "Name: fuel_type, dtype: int64"
      ]
     },
     "execution_count": 13,
     "metadata": {},
     "output_type": "execute_result"
    }
   ],
   "source": [
    "# уникальные значения столбца \"тип топлива\"\n",
    "df.fuel_type.value_counts()"
   ]
  },
  {
   "cell_type": "code",
   "execution_count": 14,
   "metadata": {},
   "outputs": [],
   "source": [
    "# объединение gasoline в petrol, поскольку оба означают \"бензин\"\n",
    "df['fuel_type'] = df['fuel_type'].replace(['gasoline'],'petrol')"
   ]
  },
  {
   "cell_type": "code",
   "execution_count": 15,
   "metadata": {
    "scrolled": false
   },
   "outputs": [],
   "source": [
    "# заполним пропуски значением other.\n",
    "df.fuel_type.fillna('other', inplace=True)"
   ]
  },
  {
   "cell_type": "markdown",
   "metadata": {},
   "source": [
    "#### Тип кузова"
   ]
  },
  {
   "cell_type": "code",
   "execution_count": 16,
   "metadata": {
    "scrolled": true
   },
   "outputs": [
    {
     "data": {
      "text/plain": [
       "sedan          91457\n",
       "small          79830\n",
       "wagon          65165\n",
       "bus            28775\n",
       "convertible    20203\n",
       "coupe          16161\n",
       "suv            11996\n",
       "other           3288\n",
       "Name: vehicle_type, dtype: int64"
      ]
     },
     "execution_count": 16,
     "metadata": {},
     "output_type": "execute_result"
    }
   ],
   "source": [
    "# уникальные значения в столбце \"тип кузова\"\n",
    "df.vehicle_type.value_counts()"
   ]
  },
  {
   "cell_type": "code",
   "execution_count": 17,
   "metadata": {},
   "outputs": [],
   "source": [
    "# замена пропусков в столбце \"тип кузова\" на other\n",
    "df.vehicle_type.fillna('other', inplace=True)"
   ]
  },
  {
   "cell_type": "markdown",
   "metadata": {},
   "source": [
    "#### Коробка передач"
   ]
  },
  {
   "cell_type": "code",
   "execution_count": 18,
   "metadata": {},
   "outputs": [
    {
     "data": {
      "text/plain": [
       "manual    268249\n",
       "auto       66283\n",
       "Name: gearbox, dtype: int64"
      ]
     },
     "execution_count": 18,
     "metadata": {},
     "output_type": "execute_result"
    }
   ],
   "source": [
    "# уникальные значения стобца \"коробка передач\"\n",
    "df.gearbox.value_counts()"
   ]
  },
  {
   "cell_type": "code",
   "execution_count": 19,
   "metadata": {},
   "outputs": [],
   "source": [
    "# заполнение пропусков значением \"unknown\"\n",
    "df.gearbox.fillna('unknown', inplace=True)"
   ]
  },
  {
   "cell_type": "markdown",
   "metadata": {},
   "source": [
    "#### Модель автомобиля"
   ]
  },
  {
   "cell_type": "code",
   "execution_count": 20,
   "metadata": {},
   "outputs": [],
   "source": [
    "# в столбце \"модель\" и \"была в ремонте\" тоже заполним пропуски на unknown\n",
    "df.model.fillna('unknown', inplace=True)\n",
    "df.repaired.fillna('unknown', inplace=True)"
   ]
  },
  {
   "cell_type": "code",
   "execution_count": 21,
   "metadata": {},
   "outputs": [
    {
     "data": {
      "text/plain": [
       "price                0.0\n",
       "vehicle_type         0.0\n",
       "registration_year    0.0\n",
       "gearbox              0.0\n",
       "power                0.0\n",
       "model                0.0\n",
       "kilometer            0.0\n",
       "fuel_type            0.0\n",
       "brand                0.0\n",
       "repaired             0.0\n",
       "dtype: float64"
      ]
     },
     "execution_count": 21,
     "metadata": {},
     "output_type": "execute_result"
    }
   ],
   "source": [
    "df.isna().mean()"
   ]
  },
  {
   "cell_type": "markdown",
   "metadata": {},
   "source": [
    "#### Вывод:\n",
    "В данных были заполнены проруски"
   ]
  },
  {
   "cell_type": "markdown",
   "metadata": {},
   "source": [
    "### EDA"
   ]
  },
  {
   "cell_type": "markdown",
   "metadata": {},
   "source": [
    "#### Год регистрации автомобиля"
   ]
  },
  {
   "cell_type": "code",
   "execution_count": 22,
   "metadata": {},
   "outputs": [
    {
     "data": {
      "text/plain": [
       "array([1000, 1001, 1039, 1111, 1200, 1234, 1253, 1255, 1300, 1400, 1500,\n",
       "       1600, 1602, 1688, 1800, 1910, 1915, 1919, 1920, 1923, 1925, 1927,\n",
       "       1928, 1929, 1930, 1931, 1932, 1933, 1934, 1935, 1936, 1937, 1938,\n",
       "       1940, 1941, 1942, 1943, 1944, 1945, 1946, 1947, 1948, 1949, 1950,\n",
       "       1951, 1952, 1953, 1954, 1955, 1956, 1957, 1958, 1959, 1960, 1961,\n",
       "       1962, 1963, 1964, 1965, 1966, 1967, 1968, 1969, 1970, 1971, 1972,\n",
       "       1973, 1974, 1975, 1976, 1977, 1978, 1979, 1980, 1981, 1982, 1983,\n",
       "       1984, 1985, 1986, 1987, 1988, 1989, 1990, 1991, 1992, 1993, 1994,\n",
       "       1995, 1996, 1997, 1998, 1999, 2000, 2001, 2002, 2003, 2004, 2005,\n",
       "       2006, 2007, 2008, 2009, 2010, 2011, 2012, 2013, 2014, 2015, 2016,\n",
       "       2017, 2018, 2019, 2066, 2200, 2222, 2290, 2500, 2800, 2900, 3000,\n",
       "       3200, 3500, 3700, 3800, 4000, 4100, 4500, 4800, 5000, 5300, 5555,\n",
       "       5600, 5900, 5911, 6000, 6500, 7000, 7100, 7500, 7800, 8000, 8200,\n",
       "       8455, 8500, 8888, 9000, 9229, 9450, 9996, 9999])"
      ]
     },
     "execution_count": 22,
     "metadata": {},
     "output_type": "execute_result"
    }
   ],
   "source": [
    "np.sort(df.registration_year.unique())"
   ]
  },
  {
   "cell_type": "code",
   "execution_count": 23,
   "metadata": {},
   "outputs": [
    {
     "data": {
      "image/png": "[encoded data removed]",
      "text/plain": [
       "<Figure size 1080x432 with 1 Axes>"
      ]
     },
     "metadata": {
      "needs_background": "light"
     },
     "output_type": "display_data"
    }
   ],
   "source": [
    "df.registration_year.hist(figsize = (15,6), bins=100);"
   ]
  },
  {
   "cell_type": "code",
   "execution_count": 24,
   "metadata": {},
   "outputs": [],
   "source": [
    "df = df.loc[(df['registration_year'] <= 2019) & (df['registration_year'] >= 1910)]"
   ]
  },
  {
   "cell_type": "code",
   "execution_count": 25,
   "metadata": {
    "scrolled": true
   },
   "outputs": [
    {
     "data": {
      "text/plain": [
       "array([1910, 1915, 1919, 1920, 1923, 1925, 1927, 1928, 1929, 1930, 1931,\n",
       "       1932, 1933, 1934, 1935, 1936, 1937, 1938, 1940, 1941, 1942, 1943,\n",
       "       1944, 1945, 1946, 1947, 1948, 1949, 1950, 1951, 1952, 1953, 1954,\n",
       "       1955, 1956, 1957, 1958, 1959, 1960, 1961, 1962, 1963, 1964, 1965,\n",
       "       1966, 1967, 1968, 1969, 1970, 1971, 1972, 1973, 1974, 1975, 1976,\n",
       "       1977, 1978, 1979, 1980, 1981, 1982, 1983, 1984, 1985, 1986, 1987,\n",
       "       1988, 1989, 1990, 1991, 1992, 1993, 1994, 1995, 1996, 1997, 1998,\n",
       "       1999, 2000, 2001, 2002, 2003, 2004, 2005, 2006, 2007, 2008, 2009,\n",
       "       2010, 2011, 2012, 2013, 2014, 2015, 2016, 2017, 2018, 2019])"
      ]
     },
     "execution_count": 25,
     "metadata": {},
     "output_type": "execute_result"
    }
   ],
   "source": [
    "np.sort(df.registration_year.unique())"
   ]
  },
  {
   "cell_type": "code",
   "execution_count": 26,
   "metadata": {},
   "outputs": [
    {
     "data": {
      "image/png": "[encoded data removed]",
      "text/plain": [
       "<Figure size 1080x432 with 1 Axes>"
      ]
     },
     "metadata": {
      "needs_background": "light"
     },
     "output_type": "display_data"
    }
   ],
   "source": [
    "df.registration_year.hist(figsize = (15,6), bins=100);"
   ]
  },
  {
   "cell_type": "markdown",
   "metadata": {},
   "source": [
    "#### Мощность"
   ]
  },
  {
   "cell_type": "code",
   "execution_count": 27,
   "metadata": {
    "scrolled": true
   },
   "outputs": [
    {
     "data": {
      "text/plain": [
       "0       40098\n",
       "75      24020\n",
       "60      15897\n",
       "150     14590\n",
       "101     13298\n",
       "        ...  \n",
       "9013        1\n",
       "4400        1\n",
       "1689        1\n",
       "1433        1\n",
       "6006        1\n",
       "Name: power, Length: 711, dtype: int64"
      ]
     },
     "execution_count": 27,
     "metadata": {},
     "output_type": "execute_result"
    }
   ],
   "source": [
    "# уникальные значения в столбце \"мощность\"\n",
    "df.power.value_counts()"
   ]
  },
  {
   "cell_type": "code",
   "execution_count": 28,
   "metadata": {
    "scrolled": false
   },
   "outputs": [
    {
     "data": {
      "image/png": "[encoded data removed]",
      "text/plain": [
       "<Figure size 1080x432 with 1 Axes>"
      ]
     },
     "metadata": {
      "needs_background": "light"
     },
     "output_type": "display_data"
    }
   ],
   "source": [
    "df.power.hist(figsize = (15,6),\n",
    "             bins=100);"
   ]
  },
  {
   "cell_type": "code",
   "execution_count": 29,
   "metadata": {
    "scrolled": true
   },
   "outputs": [],
   "source": [
    "#df.loc[df.power >= 3500, 'power'] = df.power / 100"
   ]
  },
  {
   "cell_type": "code",
   "execution_count": 30,
   "metadata": {},
   "outputs": [],
   "source": [
    "#df.loc[df.power >= 500, 'power'] = df.power / 10"
   ]
  },
  {
   "cell_type": "code",
   "execution_count": 31,
   "metadata": {},
   "outputs": [
    {
     "data": {
      "text/html": [
       "<div>\n",
       "<style scoped>\n",
       "    .dataframe tbody tr th:only-of-type {\n",
       "        vertical-align: middle;\n",
       "    }\n",
       "\n",
       "    .dataframe tbody tr th {\n",
       "        vertical-align: top;\n",
       "    }\n",
       "\n",
       "    .dataframe thead th {\n",
       "        text-align: right;\n",
       "    }\n",
       "</style>\n",
       "<table border=\"1\" class=\"dataframe\">\n",
       "  <thead>\n",
       "    <tr style=\"text-align: right;\">\n",
       "      <th></th>\n",
       "      <th>price</th>\n",
       "      <th>vehicle_type</th>\n",
       "      <th>registration_year</th>\n",
       "      <th>gearbox</th>\n",
       "      <th>power</th>\n",
       "      <th>model</th>\n",
       "      <th>kilometer</th>\n",
       "      <th>fuel_type</th>\n",
       "      <th>brand</th>\n",
       "      <th>repaired</th>\n",
       "    </tr>\n",
       "  </thead>\n",
       "  <tbody>\n",
       "    <tr>\n",
       "      <th>0</th>\n",
       "      <td>480</td>\n",
       "      <td>other</td>\n",
       "      <td>1993</td>\n",
       "      <td>manual</td>\n",
       "      <td>0</td>\n",
       "      <td>golf</td>\n",
       "      <td>150000</td>\n",
       "      <td>petrol</td>\n",
       "      <td>volkswagen</td>\n",
       "      <td>unknown</td>\n",
       "    </tr>\n",
       "    <tr>\n",
       "      <th>15</th>\n",
       "      <td>450</td>\n",
       "      <td>small</td>\n",
       "      <td>1910</td>\n",
       "      <td>unknown</td>\n",
       "      <td>0</td>\n",
       "      <td>ka</td>\n",
       "      <td>5000</td>\n",
       "      <td>petrol</td>\n",
       "      <td>ford</td>\n",
       "      <td>unknown</td>\n",
       "    </tr>\n",
       "    <tr>\n",
       "      <th>32</th>\n",
       "      <td>245</td>\n",
       "      <td>sedan</td>\n",
       "      <td>1994</td>\n",
       "      <td>unknown</td>\n",
       "      <td>0</td>\n",
       "      <td>golf</td>\n",
       "      <td>150000</td>\n",
       "      <td>petrol</td>\n",
       "      <td>volkswagen</td>\n",
       "      <td>no</td>\n",
       "    </tr>\n",
       "    <tr>\n",
       "      <th>37</th>\n",
       "      <td>1500</td>\n",
       "      <td>other</td>\n",
       "      <td>2016</td>\n",
       "      <td>unknown</td>\n",
       "      <td>0</td>\n",
       "      <td>kangoo</td>\n",
       "      <td>150000</td>\n",
       "      <td>petrol</td>\n",
       "      <td>renault</td>\n",
       "      <td>no</td>\n",
       "    </tr>\n",
       "    <tr>\n",
       "      <th>40</th>\n",
       "      <td>0</td>\n",
       "      <td>other</td>\n",
       "      <td>1990</td>\n",
       "      <td>unknown</td>\n",
       "      <td>0</td>\n",
       "      <td>corsa</td>\n",
       "      <td>150000</td>\n",
       "      <td>petrol</td>\n",
       "      <td>opel</td>\n",
       "      <td>unknown</td>\n",
       "    </tr>\n",
       "    <tr>\n",
       "      <th>...</th>\n",
       "      <td>...</td>\n",
       "      <td>...</td>\n",
       "      <td>...</td>\n",
       "      <td>...</td>\n",
       "      <td>...</td>\n",
       "      <td>...</td>\n",
       "      <td>...</td>\n",
       "      <td>...</td>\n",
       "      <td>...</td>\n",
       "      <td>...</td>\n",
       "    </tr>\n",
       "    <tr>\n",
       "      <th>354338</th>\n",
       "      <td>180</td>\n",
       "      <td>other</td>\n",
       "      <td>1995</td>\n",
       "      <td>unknown</td>\n",
       "      <td>0</td>\n",
       "      <td>unknown</td>\n",
       "      <td>125000</td>\n",
       "      <td>petrol</td>\n",
       "      <td>opel</td>\n",
       "      <td>unknown</td>\n",
       "    </tr>\n",
       "    <tr>\n",
       "      <th>354346</th>\n",
       "      <td>2600</td>\n",
       "      <td>other</td>\n",
       "      <td>2005</td>\n",
       "      <td>auto</td>\n",
       "      <td>0</td>\n",
       "      <td>c_klasse</td>\n",
       "      <td>150000</td>\n",
       "      <td>other</td>\n",
       "      <td>mercedes_benz</td>\n",
       "      <td>unknown</td>\n",
       "    </tr>\n",
       "    <tr>\n",
       "      <th>354363</th>\n",
       "      <td>1150</td>\n",
       "      <td>bus</td>\n",
       "      <td>2000</td>\n",
       "      <td>manual</td>\n",
       "      <td>0</td>\n",
       "      <td>zafira</td>\n",
       "      <td>150000</td>\n",
       "      <td>petrol</td>\n",
       "      <td>opel</td>\n",
       "      <td>no</td>\n",
       "    </tr>\n",
       "    <tr>\n",
       "      <th>354364</th>\n",
       "      <td>0</td>\n",
       "      <td>other</td>\n",
       "      <td>2005</td>\n",
       "      <td>manual</td>\n",
       "      <td>0</td>\n",
       "      <td>colt</td>\n",
       "      <td>150000</td>\n",
       "      <td>petrol</td>\n",
       "      <td>mitsubishi</td>\n",
       "      <td>yes</td>\n",
       "    </tr>\n",
       "    <tr>\n",
       "      <th>354365</th>\n",
       "      <td>2200</td>\n",
       "      <td>other</td>\n",
       "      <td>2005</td>\n",
       "      <td>unknown</td>\n",
       "      <td>0</td>\n",
       "      <td>unknown</td>\n",
       "      <td>20000</td>\n",
       "      <td>other</td>\n",
       "      <td>sonstige_autos</td>\n",
       "      <td>unknown</td>\n",
       "    </tr>\n",
       "  </tbody>\n",
       "</table>\n",
       "<p>40098 rows × 10 columns</p>\n",
       "</div>"
      ],
      "text/plain": [
       "        price vehicle_type  registration_year  gearbox  power     model  \\\n",
       "0         480        other               1993   manual      0      golf   \n",
       "15        450        small               1910  unknown      0        ka   \n",
       "32        245        sedan               1994  unknown      0      golf   \n",
       "37       1500        other               2016  unknown      0    kangoo   \n",
       "40          0        other               1990  unknown      0     corsa   \n",
       "...       ...          ...                ...      ...    ...       ...   \n",
       "354338    180        other               1995  unknown      0   unknown   \n",
       "354346   2600        other               2005     auto      0  c_klasse   \n",
       "354363   1150          bus               2000   manual      0    zafira   \n",
       "354364      0        other               2005   manual      0      colt   \n",
       "354365   2200        other               2005  unknown      0   unknown   \n",
       "\n",
       "        kilometer fuel_type           brand repaired  \n",
       "0          150000    petrol      volkswagen  unknown  \n",
       "15           5000    petrol            ford  unknown  \n",
       "32         150000    petrol      volkswagen       no  \n",
       "37         150000    petrol         renault       no  \n",
       "40         150000    petrol            opel  unknown  \n",
       "...           ...       ...             ...      ...  \n",
       "354338     125000    petrol            opel  unknown  \n",
       "354346     150000     other   mercedes_benz  unknown  \n",
       "354363     150000    petrol            opel       no  \n",
       "354364     150000    petrol      mitsubishi      yes  \n",
       "354365      20000     other  sonstige_autos  unknown  \n",
       "\n",
       "[40098 rows x 10 columns]"
      ]
     },
     "execution_count": 31,
     "metadata": {},
     "output_type": "execute_result"
    }
   ],
   "source": [
    "df.loc[df.power == 0]"
   ]
  },
  {
   "cell_type": "code",
   "execution_count": 32,
   "metadata": {},
   "outputs": [
    {
     "data": {
      "text/html": [
       "<div>\n",
       "<style scoped>\n",
       "    .dataframe tbody tr th:only-of-type {\n",
       "        vertical-align: middle;\n",
       "    }\n",
       "\n",
       "    .dataframe tbody tr th {\n",
       "        vertical-align: top;\n",
       "    }\n",
       "\n",
       "    .dataframe thead th {\n",
       "        text-align: right;\n",
       "    }\n",
       "</style>\n",
       "<table border=\"1\" class=\"dataframe\">\n",
       "  <thead>\n",
       "    <tr style=\"text-align: right;\">\n",
       "      <th></th>\n",
       "      <th>price</th>\n",
       "      <th>vehicle_type</th>\n",
       "      <th>registration_year</th>\n",
       "      <th>gearbox</th>\n",
       "      <th>power</th>\n",
       "      <th>model</th>\n",
       "      <th>kilometer</th>\n",
       "      <th>fuel_type</th>\n",
       "      <th>brand</th>\n",
       "      <th>repaired</th>\n",
       "    </tr>\n",
       "  </thead>\n",
       "  <tbody>\n",
       "    <tr>\n",
       "      <th>1816</th>\n",
       "      <td>3200</td>\n",
       "      <td>small</td>\n",
       "      <td>2004</td>\n",
       "      <td>manual</td>\n",
       "      <td>1398</td>\n",
       "      <td>corolla</td>\n",
       "      <td>5000</td>\n",
       "      <td>petrol</td>\n",
       "      <td>toyota</td>\n",
       "      <td>no</td>\n",
       "    </tr>\n",
       "    <tr>\n",
       "      <th>2102</th>\n",
       "      <td>0</td>\n",
       "      <td>sedan</td>\n",
       "      <td>1999</td>\n",
       "      <td>unknown</td>\n",
       "      <td>1799</td>\n",
       "      <td>vectra</td>\n",
       "      <td>150000</td>\n",
       "      <td>petrol</td>\n",
       "      <td>opel</td>\n",
       "      <td>yes</td>\n",
       "    </tr>\n",
       "    <tr>\n",
       "      <th>3746</th>\n",
       "      <td>0</td>\n",
       "      <td>other</td>\n",
       "      <td>2017</td>\n",
       "      <td>manual</td>\n",
       "      <td>750</td>\n",
       "      <td>unknown</td>\n",
       "      <td>150000</td>\n",
       "      <td>petrol</td>\n",
       "      <td>smart</td>\n",
       "      <td>no</td>\n",
       "    </tr>\n",
       "    <tr>\n",
       "      <th>4060</th>\n",
       "      <td>3100</td>\n",
       "      <td>sedan</td>\n",
       "      <td>2005</td>\n",
       "      <td>manual</td>\n",
       "      <td>953</td>\n",
       "      <td>colt</td>\n",
       "      <td>150000</td>\n",
       "      <td>petrol</td>\n",
       "      <td>mitsubishi</td>\n",
       "      <td>no</td>\n",
       "    </tr>\n",
       "    <tr>\n",
       "      <th>5328</th>\n",
       "      <td>500</td>\n",
       "      <td>wagon</td>\n",
       "      <td>1999</td>\n",
       "      <td>manual</td>\n",
       "      <td>1001</td>\n",
       "      <td>astra</td>\n",
       "      <td>150000</td>\n",
       "      <td>petrol</td>\n",
       "      <td>opel</td>\n",
       "      <td>unknown</td>\n",
       "    </tr>\n",
       "    <tr>\n",
       "      <th>...</th>\n",
       "      <td>...</td>\n",
       "      <td>...</td>\n",
       "      <td>...</td>\n",
       "      <td>...</td>\n",
       "      <td>...</td>\n",
       "      <td>...</td>\n",
       "      <td>...</td>\n",
       "      <td>...</td>\n",
       "      <td>...</td>\n",
       "      <td>...</td>\n",
       "    </tr>\n",
       "    <tr>\n",
       "      <th>348968</th>\n",
       "      <td>250</td>\n",
       "      <td>small</td>\n",
       "      <td>1999</td>\n",
       "      <td>manual</td>\n",
       "      <td>1241</td>\n",
       "      <td>ypsilon</td>\n",
       "      <td>150000</td>\n",
       "      <td>petrol</td>\n",
       "      <td>lancia</td>\n",
       "      <td>yes</td>\n",
       "    </tr>\n",
       "    <tr>\n",
       "      <th>351947</th>\n",
       "      <td>1500</td>\n",
       "      <td>bus</td>\n",
       "      <td>2001</td>\n",
       "      <td>manual</td>\n",
       "      <td>1001</td>\n",
       "      <td>zafira</td>\n",
       "      <td>5000</td>\n",
       "      <td>petrol</td>\n",
       "      <td>opel</td>\n",
       "      <td>no</td>\n",
       "    </tr>\n",
       "    <tr>\n",
       "      <th>353493</th>\n",
       "      <td>12500</td>\n",
       "      <td>other</td>\n",
       "      <td>2017</td>\n",
       "      <td>manual</td>\n",
       "      <td>2000</td>\n",
       "      <td>other</td>\n",
       "      <td>60000</td>\n",
       "      <td>petrol</td>\n",
       "      <td>chrysler</td>\n",
       "      <td>no</td>\n",
       "    </tr>\n",
       "    <tr>\n",
       "      <th>353633</th>\n",
       "      <td>2400</td>\n",
       "      <td>sedan</td>\n",
       "      <td>2007</td>\n",
       "      <td>manual</td>\n",
       "      <td>650</td>\n",
       "      <td>c2</td>\n",
       "      <td>150000</td>\n",
       "      <td>petrol</td>\n",
       "      <td>citroen</td>\n",
       "      <td>unknown</td>\n",
       "    </tr>\n",
       "    <tr>\n",
       "      <th>354260</th>\n",
       "      <td>399</td>\n",
       "      <td>other</td>\n",
       "      <td>1994</td>\n",
       "      <td>unknown</td>\n",
       "      <td>1103</td>\n",
       "      <td>3er</td>\n",
       "      <td>150000</td>\n",
       "      <td>other</td>\n",
       "      <td>bmw</td>\n",
       "      <td>unknown</td>\n",
       "    </tr>\n",
       "  </tbody>\n",
       "</table>\n",
       "<p>448 rows × 10 columns</p>\n",
       "</div>"
      ],
      "text/plain": [
       "        price vehicle_type  registration_year  gearbox  power    model  \\\n",
       "1816     3200        small               2004   manual   1398  corolla   \n",
       "2102        0        sedan               1999  unknown   1799   vectra   \n",
       "3746        0        other               2017   manual    750  unknown   \n",
       "4060     3100        sedan               2005   manual    953     colt   \n",
       "5328      500        wagon               1999   manual   1001    astra   \n",
       "...       ...          ...                ...      ...    ...      ...   \n",
       "348968    250        small               1999   manual   1241  ypsilon   \n",
       "351947   1500          bus               2001   manual   1001   zafira   \n",
       "353493  12500        other               2017   manual   2000    other   \n",
       "353633   2400        sedan               2007   manual    650       c2   \n",
       "354260    399        other               1994  unknown   1103      3er   \n",
       "\n",
       "        kilometer fuel_type       brand repaired  \n",
       "1816         5000    petrol      toyota       no  \n",
       "2102       150000    petrol        opel      yes  \n",
       "3746       150000    petrol       smart       no  \n",
       "4060       150000    petrol  mitsubishi       no  \n",
       "5328       150000    petrol        opel  unknown  \n",
       "...           ...       ...         ...      ...  \n",
       "348968     150000    petrol      lancia      yes  \n",
       "351947       5000    petrol        opel       no  \n",
       "353493      60000    petrol    chrysler       no  \n",
       "353633     150000    petrol     citroen  unknown  \n",
       "354260     150000     other         bmw  unknown  \n",
       "\n",
       "[448 rows x 10 columns]"
      ]
     },
     "execution_count": 32,
     "metadata": {},
     "output_type": "execute_result"
    }
   ],
   "source": [
    "df.loc[df.power > 500]"
   ]
  },
  {
   "cell_type": "code",
   "execution_count": 33,
   "metadata": {},
   "outputs": [],
   "source": [
    "df = df.query('1 <= power < 500')"
   ]
  },
  {
   "cell_type": "code",
   "execution_count": 34,
   "metadata": {
    "scrolled": false
   },
   "outputs": [
    {
     "data": {
      "image/png": "[encoded data removed]",
      "text/plain": [
       "<Figure size 1080x432 with 1 Axes>"
      ]
     },
     "metadata": {
      "needs_background": "light"
     },
     "output_type": "display_data"
    }
   ],
   "source": [
    "df.power.hist(figsize = (15,6),\n",
    "             bins=100);"
   ]
  },
  {
   "cell_type": "markdown",
   "metadata": {},
   "source": [
    "#### Цена"
   ]
  },
  {
   "cell_type": "code",
   "execution_count": 35,
   "metadata": {},
   "outputs": [],
   "source": [
    "# Удаление строк с нулевым значением цены\n",
    "df = df.loc[df.price > 0]"
   ]
  },
  {
   "cell_type": "code",
   "execution_count": 36,
   "metadata": {},
   "outputs": [
    {
     "data": {
      "image/png": "[encoded data removed]",
      "text/plain": [
       "<Figure size 1440x360 with 1 Axes>"
      ]
     },
     "metadata": {
      "needs_background": "light"
     },
     "output_type": "display_data"
    }
   ],
   "source": [
    "# гистограмма целевого признака:\n",
    "df.price.hist(bins=100, figsize=(20,5));"
   ]
  },
  {
   "cell_type": "code",
   "execution_count": 37,
   "metadata": {},
   "outputs": [
    {
     "data": {
      "text/plain": [
       "0.025      290.0\n",
       "0.975    17000.0\n",
       "Name: price, dtype: float64"
      ]
     },
     "execution_count": 37,
     "metadata": {},
     "output_type": "execute_result"
    }
   ],
   "source": [
    "# квантили:\n",
    "df.price.quantile([.025, 0.975])"
   ]
  },
  {
   "cell_type": "code",
   "execution_count": 38,
   "metadata": {},
   "outputs": [],
   "source": [
    "# удаление 2.5% строк, где цена превышает 17000:\n",
    "df = df.query('price <= 17000')"
   ]
  },
  {
   "cell_type": "code",
   "execution_count": 39,
   "metadata": {
    "scrolled": false
   },
   "outputs": [
    {
     "data": {
      "image/png": "[encoded data removed]",
      "text/plain": [
       "<Figure size 1440x360 with 1 Axes>"
      ]
     },
     "metadata": {
      "needs_background": "light"
     },
     "output_type": "display_data"
    }
   ],
   "source": [
    "# гистограмма\n",
    "df.price.hist(bins=100, figsize=(20,5));"
   ]
  },
  {
   "cell_type": "markdown",
   "metadata": {},
   "source": [
    "#### Пробег"
   ]
  },
  {
   "cell_type": "code",
   "execution_count": 40,
   "metadata": {},
   "outputs": [
    {
     "data": {
      "image/png": "[encoded data removed]",
      "text/plain": [
       "<Figure size 1080x432 with 1 Axes>"
      ]
     },
     "metadata": {
      "needs_background": "light"
     },
     "output_type": "display_data"
    }
   ],
   "source": [
    "df.kilometer.hist(figsize = (15,6));"
   ]
  },
  {
   "cell_type": "code",
   "execution_count": 41,
   "metadata": {},
   "outputs": [
    {
     "data": {
      "text/plain": [
       "150000    202220\n",
       "125000     32052\n",
       "100000     12732\n",
       "90000      10127\n",
       "80000       8766\n",
       "70000       7420\n",
       "60000       6399\n",
       "50000       5214\n",
       "40000       4086\n",
       "30000       3532\n",
       "5000        2983\n",
       "20000       2951\n",
       "10000        796\n",
       "Name: kilometer, dtype: int64"
      ]
     },
     "execution_count": 41,
     "metadata": {},
     "output_type": "execute_result"
    }
   ],
   "source": [
    "df.kilometer.value_counts()"
   ]
  },
  {
   "cell_type": "markdown",
   "metadata": {},
   "source": [
    "В признаке пробег выбросов и аномалий нет."
   ]
  },
  {
   "cell_type": "markdown",
   "metadata": {},
   "source": [
    "#### Марка автомобиля"
   ]
  },
  {
   "cell_type": "code",
   "execution_count": 42,
   "metadata": {},
   "outputs": [
    {
     "data": {
      "text/plain": [
       "volkswagen        65392\n",
       "opel              33685\n",
       "bmw               31731\n",
       "mercedes_benz     26684\n",
       "audi              25150\n",
       "ford              21141\n",
       "renault           14536\n",
       "peugeot            9605\n",
       "fiat               7952\n",
       "seat               6044\n",
       "skoda              4924\n",
       "mazda              4834\n",
       "smart              4605\n",
       "citroen            4390\n",
       "nissan             4094\n",
       "toyota             4056\n",
       "hyundai            3130\n",
       "mini               2836\n",
       "volvo              2799\n",
       "mitsubishi         2551\n",
       "honda              2445\n",
       "kia                2089\n",
       "alfa_romeo         2015\n",
       "suzuki             2006\n",
       "sonstige_autos     1762\n",
       "chevrolet          1464\n",
       "chrysler           1183\n",
       "dacia               822\n",
       "subaru              644\n",
       "daihatsu            636\n",
       "jeep                569\n",
       "porsche             525\n",
       "saab                479\n",
       "land_rover          429\n",
       "daewoo              428\n",
       "jaguar              407\n",
       "lancia              394\n",
       "rover               386\n",
       "trabant             297\n",
       "lada                159\n",
       "Name: brand, dtype: int64"
      ]
     },
     "execution_count": 42,
     "metadata": {},
     "output_type": "execute_result"
    }
   ],
   "source": [
    "df.brand.value_counts()"
   ]
  },
  {
   "cell_type": "markdown",
   "metadata": {},
   "source": [
    "В признаке марка автомобиля дубликатов нет"
   ]
  },
  {
   "cell_type": "code",
   "execution_count": 43,
   "metadata": {},
   "outputs": [
    {
     "data": {
      "text/plain": [
       "(299278, 10)"
      ]
     },
     "execution_count": 43,
     "metadata": {},
     "output_type": "execute_result"
    }
   ],
   "source": [
    "df.shape"
   ]
  },
  {
   "cell_type": "markdown",
   "metadata": {},
   "source": [
    "### Вывод:\n",
    "\n",
    "1. Загружены данные, в данных 354369 строк и 16 признаков:\n",
    "\n",
    "   * `DateCrawled` — дата скачивания анкеты из базы\n",
    "   * `VehicleType` — тип автомобильного кузова\n",
    "   * `RegistrationYear` — год регистрации автомобиля\n",
    "   * `Gearbox` — тип коробки передач\n",
    "   * `Power` — мощность (л. с.)\n",
    "   * `Model` — модель автомобиля\n",
    "   * `Kilometer` — пробег (км)\n",
    "   * `RegistrationMonth` — месяц регистрации автомобиля\n",
    "   * `FuelType` — тип топлива\n",
    "   * `Brand` — марка автомобиля\n",
    "   * `Repaired` — была машина в ремонте или нет\n",
    "   * `DateCreated` — дата создания анкеты\n",
    "   * `NumberOfPictures` — количество фотографий автомобиля\n",
    "   * `PostalCode` — почтовый индекс владельца анкеты (пользователя)\n",
    "   * `LastSeen` — дата последней активности пользователя\n",
    "\n",
    "    Целевой признак:\n",
    "\n",
    "       * `Price` — цена (евро)\n",
    "   \n",
    "   \n",
    "   \n",
    "\n",
    "2. Названия признаков приведены к единому виду.\n",
    "3. Заполнены пропуски\n",
    "4. Удалены признаки не влияющие на целевой признак.\n",
    "5. Удалены дублирующиеся данные.\n",
    "6. Проведен исследовательский анализ данных:\n",
    "    1. Признак `Год регистрации` удалены значения с годом меньше 1910 и больше 2019\n",
    "    2. Признак `Мощность` аномальные приведены значения к нормальным.\n",
    "    3. Признак `Цена` удалены 5% значений\n",
    "\n",
    "\n",
    "В результате обработки данных датафрейм сократился на 15.5%, данных (299 278 строк) достаточно для обучения моделей."
   ]
  },
  {
   "cell_type": "markdown",
   "metadata": {},
   "source": [
    "## Обучение моделей"
   ]
  },
  {
   "cell_type": "code",
   "execution_count": 44,
   "metadata": {},
   "outputs": [],
   "source": [
    "df_train = df"
   ]
  },
  {
   "cell_type": "code",
   "execution_count": 45,
   "metadata": {},
   "outputs": [],
   "source": [
    "df = df_train.sample(frac=0.7,random_state=12345)"
   ]
  },
  {
   "cell_type": "code",
   "execution_count": 46,
   "metadata": {},
   "outputs": [],
   "source": [
    "val = df_train[~df_train.index.isin(df.index)]"
   ]
  },
  {
   "cell_type": "code",
   "execution_count": 47,
   "metadata": {},
   "outputs": [
    {
     "data": {
      "text/html": [
       "<div>\n",
       "<style scoped>\n",
       "    .dataframe tbody tr th:only-of-type {\n",
       "        vertical-align: middle;\n",
       "    }\n",
       "\n",
       "    .dataframe tbody tr th {\n",
       "        vertical-align: top;\n",
       "    }\n",
       "\n",
       "    .dataframe thead th {\n",
       "        text-align: right;\n",
       "    }\n",
       "</style>\n",
       "<table border=\"1\" class=\"dataframe\">\n",
       "  <thead>\n",
       "    <tr style=\"text-align: right;\">\n",
       "      <th></th>\n",
       "      <th>price</th>\n",
       "      <th>registration_year</th>\n",
       "      <th>power</th>\n",
       "      <th>kilometer</th>\n",
       "      <th>vehicle_type_convertible</th>\n",
       "      <th>vehicle_type_coupe</th>\n",
       "      <th>vehicle_type_other</th>\n",
       "      <th>vehicle_type_sedan</th>\n",
       "      <th>vehicle_type_small</th>\n",
       "      <th>vehicle_type_suv</th>\n",
       "      <th>...</th>\n",
       "      <th>brand_smart</th>\n",
       "      <th>brand_sonstige_autos</th>\n",
       "      <th>brand_subaru</th>\n",
       "      <th>brand_suzuki</th>\n",
       "      <th>brand_toyota</th>\n",
       "      <th>brand_trabant</th>\n",
       "      <th>brand_volkswagen</th>\n",
       "      <th>brand_volvo</th>\n",
       "      <th>repaired_unknown</th>\n",
       "      <th>repaired_yes</th>\n",
       "    </tr>\n",
       "  </thead>\n",
       "  <tbody>\n",
       "    <tr>\n",
       "      <th>200032</th>\n",
       "      <td>13900</td>\n",
       "      <td>2005</td>\n",
       "      <td>190</td>\n",
       "      <td>150000</td>\n",
       "      <td>0</td>\n",
       "      <td>0</td>\n",
       "      <td>0</td>\n",
       "      <td>0</td>\n",
       "      <td>0</td>\n",
       "      <td>1</td>\n",
       "      <td>...</td>\n",
       "      <td>0</td>\n",
       "      <td>0</td>\n",
       "      <td>0</td>\n",
       "      <td>0</td>\n",
       "      <td>0</td>\n",
       "      <td>0</td>\n",
       "      <td>0</td>\n",
       "      <td>0</td>\n",
       "      <td>0</td>\n",
       "      <td>0</td>\n",
       "    </tr>\n",
       "    <tr>\n",
       "      <th>316285</th>\n",
       "      <td>1300</td>\n",
       "      <td>1995</td>\n",
       "      <td>90</td>\n",
       "      <td>150000</td>\n",
       "      <td>1</td>\n",
       "      <td>0</td>\n",
       "      <td>0</td>\n",
       "      <td>0</td>\n",
       "      <td>0</td>\n",
       "      <td>0</td>\n",
       "      <td>...</td>\n",
       "      <td>0</td>\n",
       "      <td>0</td>\n",
       "      <td>0</td>\n",
       "      <td>0</td>\n",
       "      <td>0</td>\n",
       "      <td>0</td>\n",
       "      <td>0</td>\n",
       "      <td>0</td>\n",
       "      <td>0</td>\n",
       "      <td>0</td>\n",
       "    </tr>\n",
       "    <tr>\n",
       "      <th>181541</th>\n",
       "      <td>4800</td>\n",
       "      <td>2012</td>\n",
       "      <td>88</td>\n",
       "      <td>150000</td>\n",
       "      <td>0</td>\n",
       "      <td>0</td>\n",
       "      <td>0</td>\n",
       "      <td>0</td>\n",
       "      <td>0</td>\n",
       "      <td>0</td>\n",
       "      <td>...</td>\n",
       "      <td>0</td>\n",
       "      <td>0</td>\n",
       "      <td>0</td>\n",
       "      <td>0</td>\n",
       "      <td>0</td>\n",
       "      <td>0</td>\n",
       "      <td>0</td>\n",
       "      <td>0</td>\n",
       "      <td>0</td>\n",
       "      <td>0</td>\n",
       "    </tr>\n",
       "    <tr>\n",
       "      <th>264441</th>\n",
       "      <td>3300</td>\n",
       "      <td>2016</td>\n",
       "      <td>77</td>\n",
       "      <td>70000</td>\n",
       "      <td>0</td>\n",
       "      <td>0</td>\n",
       "      <td>1</td>\n",
       "      <td>0</td>\n",
       "      <td>0</td>\n",
       "      <td>0</td>\n",
       "      <td>...</td>\n",
       "      <td>0</td>\n",
       "      <td>0</td>\n",
       "      <td>0</td>\n",
       "      <td>0</td>\n",
       "      <td>0</td>\n",
       "      <td>0</td>\n",
       "      <td>0</td>\n",
       "      <td>0</td>\n",
       "      <td>1</td>\n",
       "      <td>0</td>\n",
       "    </tr>\n",
       "    <tr>\n",
       "      <th>125608</th>\n",
       "      <td>999</td>\n",
       "      <td>1990</td>\n",
       "      <td>75</td>\n",
       "      <td>90000</td>\n",
       "      <td>0</td>\n",
       "      <td>0</td>\n",
       "      <td>0</td>\n",
       "      <td>0</td>\n",
       "      <td>1</td>\n",
       "      <td>0</td>\n",
       "      <td>...</td>\n",
       "      <td>0</td>\n",
       "      <td>0</td>\n",
       "      <td>0</td>\n",
       "      <td>0</td>\n",
       "      <td>1</td>\n",
       "      <td>0</td>\n",
       "      <td>0</td>\n",
       "      <td>0</td>\n",
       "      <td>0</td>\n",
       "      <td>0</td>\n",
       "    </tr>\n",
       "    <tr>\n",
       "      <th>93293</th>\n",
       "      <td>1000</td>\n",
       "      <td>1998</td>\n",
       "      <td>101</td>\n",
       "      <td>150000</td>\n",
       "      <td>0</td>\n",
       "      <td>0</td>\n",
       "      <td>0</td>\n",
       "      <td>0</td>\n",
       "      <td>0</td>\n",
       "      <td>0</td>\n",
       "      <td>...</td>\n",
       "      <td>0</td>\n",
       "      <td>0</td>\n",
       "      <td>0</td>\n",
       "      <td>0</td>\n",
       "      <td>0</td>\n",
       "      <td>0</td>\n",
       "      <td>0</td>\n",
       "      <td>0</td>\n",
       "      <td>1</td>\n",
       "      <td>0</td>\n",
       "    </tr>\n",
       "    <tr>\n",
       "      <th>129796</th>\n",
       "      <td>2000</td>\n",
       "      <td>2002</td>\n",
       "      <td>110</td>\n",
       "      <td>150000</td>\n",
       "      <td>0</td>\n",
       "      <td>0</td>\n",
       "      <td>0</td>\n",
       "      <td>1</td>\n",
       "      <td>0</td>\n",
       "      <td>0</td>\n",
       "      <td>...</td>\n",
       "      <td>0</td>\n",
       "      <td>0</td>\n",
       "      <td>0</td>\n",
       "      <td>0</td>\n",
       "      <td>0</td>\n",
       "      <td>0</td>\n",
       "      <td>0</td>\n",
       "      <td>0</td>\n",
       "      <td>0</td>\n",
       "      <td>0</td>\n",
       "    </tr>\n",
       "    <tr>\n",
       "      <th>209492</th>\n",
       "      <td>17000</td>\n",
       "      <td>2011</td>\n",
       "      <td>156</td>\n",
       "      <td>60000</td>\n",
       "      <td>0</td>\n",
       "      <td>0</td>\n",
       "      <td>0</td>\n",
       "      <td>0</td>\n",
       "      <td>0</td>\n",
       "      <td>0</td>\n",
       "      <td>...</td>\n",
       "      <td>0</td>\n",
       "      <td>0</td>\n",
       "      <td>0</td>\n",
       "      <td>0</td>\n",
       "      <td>0</td>\n",
       "      <td>0</td>\n",
       "      <td>0</td>\n",
       "      <td>0</td>\n",
       "      <td>0</td>\n",
       "      <td>0</td>\n",
       "    </tr>\n",
       "    <tr>\n",
       "      <th>11610</th>\n",
       "      <td>11900</td>\n",
       "      <td>2012</td>\n",
       "      <td>86</td>\n",
       "      <td>40000</td>\n",
       "      <td>1</td>\n",
       "      <td>0</td>\n",
       "      <td>0</td>\n",
       "      <td>0</td>\n",
       "      <td>0</td>\n",
       "      <td>0</td>\n",
       "      <td>...</td>\n",
       "      <td>0</td>\n",
       "      <td>0</td>\n",
       "      <td>0</td>\n",
       "      <td>0</td>\n",
       "      <td>0</td>\n",
       "      <td>0</td>\n",
       "      <td>0</td>\n",
       "      <td>0</td>\n",
       "      <td>0</td>\n",
       "      <td>0</td>\n",
       "    </tr>\n",
       "    <tr>\n",
       "      <th>297602</th>\n",
       "      <td>7200</td>\n",
       "      <td>2009</td>\n",
       "      <td>120</td>\n",
       "      <td>10000</td>\n",
       "      <td>0</td>\n",
       "      <td>0</td>\n",
       "      <td>0</td>\n",
       "      <td>0</td>\n",
       "      <td>1</td>\n",
       "      <td>0</td>\n",
       "      <td>...</td>\n",
       "      <td>0</td>\n",
       "      <td>0</td>\n",
       "      <td>0</td>\n",
       "      <td>0</td>\n",
       "      <td>0</td>\n",
       "      <td>0</td>\n",
       "      <td>0</td>\n",
       "      <td>0</td>\n",
       "      <td>0</td>\n",
       "      <td>0</td>\n",
       "    </tr>\n",
       "  </tbody>\n",
       "</table>\n",
       "<p>10 rows × 307 columns</p>\n",
       "</div>"
      ],
      "text/plain": [
       "        price  registration_year  power  kilometer  vehicle_type_convertible  \\\n",
       "200032  13900               2005    190     150000                         0   \n",
       "316285   1300               1995     90     150000                         1   \n",
       "181541   4800               2012     88     150000                         0   \n",
       "264441   3300               2016     77      70000                         0   \n",
       "125608    999               1990     75      90000                         0   \n",
       "93293    1000               1998    101     150000                         0   \n",
       "129796   2000               2002    110     150000                         0   \n",
       "209492  17000               2011    156      60000                         0   \n",
       "11610   11900               2012     86      40000                         1   \n",
       "297602   7200               2009    120      10000                         0   \n",
       "\n",
       "        vehicle_type_coupe  vehicle_type_other  vehicle_type_sedan  \\\n",
       "200032                   0                   0                   0   \n",
       "316285                   0                   0                   0   \n",
       "181541                   0                   0                   0   \n",
       "264441                   0                   1                   0   \n",
       "125608                   0                   0                   0   \n",
       "93293                    0                   0                   0   \n",
       "129796                   0                   0                   1   \n",
       "209492                   0                   0                   0   \n",
       "11610                    0                   0                   0   \n",
       "297602                   0                   0                   0   \n",
       "\n",
       "        vehicle_type_small  vehicle_type_suv  ...  brand_smart  \\\n",
       "200032                   0                 1  ...            0   \n",
       "316285                   0                 0  ...            0   \n",
       "181541                   0                 0  ...            0   \n",
       "264441                   0                 0  ...            0   \n",
       "125608                   1                 0  ...            0   \n",
       "93293                    0                 0  ...            0   \n",
       "129796                   0                 0  ...            0   \n",
       "209492                   0                 0  ...            0   \n",
       "11610                    0                 0  ...            0   \n",
       "297602                   1                 0  ...            0   \n",
       "\n",
       "        brand_sonstige_autos  brand_subaru  brand_suzuki  brand_toyota  \\\n",
       "200032                     0             0             0             0   \n",
       "316285                     0             0             0             0   \n",
       "181541                     0             0             0             0   \n",
       "264441                     0             0             0             0   \n",
       "125608                     0             0             0             1   \n",
       "93293                      0             0             0             0   \n",
       "129796                     0             0             0             0   \n",
       "209492                     0             0             0             0   \n",
       "11610                      0             0             0             0   \n",
       "297602                     0             0             0             0   \n",
       "\n",
       "        brand_trabant  brand_volkswagen  brand_volvo  repaired_unknown  \\\n",
       "200032              0                 0            0                 0   \n",
       "316285              0                 0            0                 0   \n",
       "181541              0                 0            0                 0   \n",
       "264441              0                 0            0                 1   \n",
       "125608              0                 0            0                 0   \n",
       "93293               0                 0            0                 1   \n",
       "129796              0                 0            0                 0   \n",
       "209492              0                 0            0                 0   \n",
       "11610               0                 0            0                 0   \n",
       "297602              0                 0            0                 0   \n",
       "\n",
       "        repaired_yes  \n",
       "200032             0  \n",
       "316285             0  \n",
       "181541             0  \n",
       "264441             0  \n",
       "125608             0  \n",
       "93293              0  \n",
       "129796             0  \n",
       "209492             0  \n",
       "11610              0  \n",
       "297602             0  \n",
       "\n",
       "[10 rows x 307 columns]"
      ]
     },
     "execution_count": 47,
     "metadata": {},
     "output_type": "execute_result"
    }
   ],
   "source": [
    "# приведение категориальныч значений признаков к количественным\n",
    "df_ohe = pd.get_dummies(df, drop_first=True)\n",
    "df_ohe.sample(10)"
   ]
  },
  {
   "cell_type": "code",
   "execution_count": 48,
   "metadata": {},
   "outputs": [
    {
     "data": {
      "text/plain": [
       "True"
      ]
     },
     "execution_count": 48,
     "metadata": {},
     "output_type": "execute_result"
    }
   ],
   "source": [
    "# разделение выборки на обучающую и тестовую\n",
    "X_ohe = df_ohe.drop('price', axis=1)\n",
    "y_ohe = df_ohe['price']\n",
    "\n",
    "\n",
    "X_train_ohe, X_test_ohe, \\\n",
    "y_train_ohe, y_test_ohe = train_test_split(X_ohe,\n",
    "                                   y_ohe,\n",
    "                                   test_size=0.25,\n",
    "                                   random_state=12345)\n",
    "\n",
    "\n",
    "len(X_train_ohe) + len(X_test_ohe) == len(X_ohe)"
   ]
  },
  {
   "cell_type": "code",
   "execution_count": 49,
   "metadata": {},
   "outputs": [],
   "source": [
    "# масштабирование признаков\n",
    "scaler = StandardScaler()\n",
    "X_train_ohe = scaler.fit_transform(X_train_ohe)\n",
    "X_test_ohe = scaler.transform(X_test_ohe)"
   ]
  },
  {
   "cell_type": "markdown",
   "metadata": {},
   "source": [
    "### Линейная регрессия"
   ]
  },
  {
   "cell_type": "code",
   "execution_count": 50,
   "metadata": {},
   "outputs": [],
   "source": [
    "lr = LinearRegression()\n",
    "parameters = {'fit_intercept':[True,False], 'normalize':[True,False], 'copy_X':[True, False]}\n",
    "grid = GridSearchCV(estimator=lr, param_grid = parameters, cv = 2, n_jobs=-1)\n",
    "lr_grid = grid.fit(X_train_ohe, y_train_ohe)"
   ]
  },
  {
   "cell_type": "code",
   "execution_count": 51,
   "metadata": {},
   "outputs": [
    {
     "data": {
      "text/plain": [
       "\"Оптимальные параметры: {'copy_X': True, 'fit_intercept': False, 'normalize': True}\""
      ]
     },
     "execution_count": 51,
     "metadata": {},
     "output_type": "execute_result"
    }
   ],
   "source": [
    "f'Оптимальные параметры: {lr_grid.best_params_}'"
   ]
  },
  {
   "cell_type": "code",
   "execution_count": 52,
   "metadata": {},
   "outputs": [
    {
     "data": {
      "text/plain": [
       "'Время обучения модели Линейная регрессия 23.01 с'"
      ]
     },
     "metadata": {},
     "output_type": "display_data"
    }
   ],
   "source": [
    "start = time.time()\n",
    "\n",
    "# обучение модели линейной регрессии\n",
    "lr = LinearRegression(copy_X=True,\n",
    "                      fit_intercept=False,\n",
    "                      normalize=True)\n",
    "lr.fit(X_train_ohe, y_train_ohe)\n",
    "\n",
    "time_lr_fit = time.time() - start\n",
    "\n",
    "display(f'Время обучения модели Линейная регрессия {round(time_lr_fit, 2)} с')"
   ]
  },
  {
   "cell_type": "code",
   "execution_count": 53,
   "metadata": {},
   "outputs": [
    {
     "data": {
      "text/plain": [
       "'Время предсказания модели Линейная регрессия 0.02 с'"
      ]
     },
     "metadata": {},
     "output_type": "display_data"
    }
   ],
   "source": [
    "start = time.time()\n",
    "\n",
    "# предсказание на тестовой выборке\n",
    "y_pred = lr.predict(X_test_ohe)\n",
    "\n",
    "time_lr_pred = time.time() - start\n",
    "\n",
    "display(f'Время предсказания модели Линейная регрессия {round(time_lr_pred, 2)} с')"
   ]
  },
  {
   "cell_type": "code",
   "execution_count": 54,
   "metadata": {},
   "outputs": [
    {
     "data": {
      "text/plain": [
       "'RMSE модели Линейная регрессия: 5075'"
      ]
     },
     "metadata": {},
     "output_type": "display_data"
    }
   ],
   "source": [
    "rmse_lr = mean_squared_error(y_test_ohe, y_pred)**0.5\n",
    "\n",
    "display(f'RMSE модели Линейная регрессия: {round(rmse_lr)}')"
   ]
  },
  {
   "cell_type": "markdown",
   "metadata": {},
   "source": [
    "### LGBMRegressor"
   ]
  },
  {
   "cell_type": "code",
   "execution_count": 55,
   "metadata": {},
   "outputs": [],
   "source": [
    "X = df.drop('price', axis=1)\n",
    "y = df['price']"
   ]
  },
  {
   "cell_type": "code",
   "execution_count": 56,
   "metadata": {},
   "outputs": [],
   "source": [
    "# переведение категориальных признаков к типу category, который требуется для LightGBM\n",
    "for c in X.columns:\n",
    "    col_type = X[c].dtype\n",
    "    if col_type == 'object':\n",
    "        X[c] = X[c].astype('category')"
   ]
  },
  {
   "cell_type": "code",
   "execution_count": 57,
   "metadata": {},
   "outputs": [],
   "source": [
    "#разделение выборки на обучающую и тестовую\n",
    "X_train, X_test, \\\n",
    "y_train, y_test = train_test_split(X, y,\n",
    "                                   test_size=0.25,\n",
    "                                   random_state=12345)"
   ]
  },
  {
   "cell_type": "code",
   "execution_count": 58,
   "metadata": {},
   "outputs": [
    {
     "data": {
      "text/plain": [
       "'Время обучения модели LGBMRegressor 33.74 с'"
      ]
     },
     "metadata": {},
     "output_type": "display_data"
    }
   ],
   "source": [
    "start = time.time()\n",
    "\n",
    "# обучение модели LGBMRegressor\n",
    "lgbmr = lgb.LGBMRegressor(random_state=12345)\n",
    "lgbmr.fit(X_train, y_train)\n",
    "\n",
    "time_lgbmr_fit = time.time() - start\n",
    "\n",
    "display(f'Время обучения модели LGBMRegressor {round(time_lgbmr_fit, 2)} с')"
   ]
  },
  {
   "cell_type": "code",
   "execution_count": 59,
   "metadata": {
    "scrolled": true
   },
   "outputs": [
    {
     "data": {
      "text/plain": [
       "'Время предсказания модели LGBMRegressor 0.5 с'"
      ]
     },
     "metadata": {},
     "output_type": "display_data"
    }
   ],
   "source": [
    "start = time.time()\n",
    "\n",
    "# предсказание на тестовой выборке\n",
    "y_pred = lgbmr.predict(X_test)\n",
    "\n",
    "time_lgbmr_pred = time.time() - start\n",
    "\n",
    "display(f'Время предсказания модели LGBMRegressor {round(time_lgbmr_pred, 2)} с')"
   ]
  },
  {
   "cell_type": "code",
   "execution_count": 60,
   "metadata": {},
   "outputs": [
    {
     "data": {
      "text/plain": [
       "'RMSE модели LGBMRegressor: 1550'"
      ]
     },
     "metadata": {},
     "output_type": "display_data"
    }
   ],
   "source": [
    "rmse_lgbmr = mean_squared_error(y_test, y_pred)**0.5\n",
    "display(f'RMSE модели LGBMRegressor: {round(rmse_lgbmr)}')"
   ]
  },
  {
   "cell_type": "markdown",
   "metadata": {},
   "source": [
    "### CatBoostRegressor"
   ]
  },
  {
   "cell_type": "code",
   "execution_count": 61,
   "metadata": {},
   "outputs": [],
   "source": [
    "X = df.drop('price', axis=1)\n",
    "y = df['price']"
   ]
  },
  {
   "cell_type": "code",
   "execution_count": 62,
   "metadata": {},
   "outputs": [],
   "source": [
    "#разделение выборки на обучающую и тестовую\n",
    "X_train, X_test, \\\n",
    "y_train, y_test = train_test_split(X, y,\n",
    "                                   test_size=0.25,\n",
    "                                   random_state=12345)"
   ]
  },
  {
   "cell_type": "code",
   "execution_count": 63,
   "metadata": {},
   "outputs": [],
   "source": [
    "cat_features = ['vehicle_type','fuel_type','brand','model', 'gearbox', 'repaired']"
   ]
  },
  {
   "cell_type": "code",
   "execution_count": 64,
   "metadata": {},
   "outputs": [],
   "source": [
    "parameters = {'depth': [6,8,10],\n",
    "              'learning_rate' : [0.01, 0.05, 0.1],\n",
    "              'iterations': [30, 50, 100]\n",
    "             }"
   ]
  },
  {
   "cell_type": "code",
   "execution_count": 65,
   "metadata": {},
   "outputs": [],
   "source": [
    "cbr = CatBoostRegressor(cat_features=cat_features)"
   ]
  },
  {
   "cell_type": "code",
   "execution_count": 66,
   "metadata": {},
   "outputs": [
    {
     "name": "stdout",
     "output_type": "stream",
     "text": [
      "0:\tlearn: 4051.7698552\ttotal: 87.9ms\tremaining: 2.55s\n",
      "1:\tlearn: 4026.1341282\ttotal: 123ms\tremaining: 1.73s\n",
      "2:\tlearn: 4001.9026388\ttotal: 155ms\tremaining: 1.39s\n",
      "3:\tlearn: 3977.0394908\ttotal: 182ms\tremaining: 1.18s\n",
      "4:\tlearn: 3953.4329307\ttotal: 219ms\tremaining: 1.09s\n",
      "5:\tlearn: 3929.8429288\ttotal: 252ms\tremaining: 1.01s\n",
      "6:\tlearn: 3905.3379145\ttotal: 283ms\tremaining: 929ms\n",
      "7:\tlearn: 3881.4324750\ttotal: 314ms\tremaining: 863ms\n",
      "8:\tlearn: 3857.7761087\ttotal: 348ms\tremaining: 813ms\n",
      "9:\tlearn: 3834.8422651\ttotal: 377ms\tremaining: 754ms\n",
      "10:\tlearn: 3811.2922324\ttotal: 406ms\tremaining: 702ms\n",
      "11:\tlearn: 3788.1255486\ttotal: 439ms\tremaining: 658ms\n",
      "12:\tlearn: 3765.2014278\ttotal: 467ms\tremaining: 610ms\n",
      "13:\tlearn: 3742.8622802\ttotal: 496ms\tremaining: 567ms\n",
      "14:\tlearn: 3720.5418671\ttotal: 532ms\tremaining: 532ms\n",
      "15:\tlearn: 3698.3941718\ttotal: 560ms\tremaining: 490ms\n",
      "16:\tlearn: 3676.5946651\ttotal: 591ms\tremaining: 452ms\n",
      "17:\tlearn: 3655.8314239\ttotal: 619ms\tremaining: 413ms\n",
      "18:\tlearn: 3635.4113532\ttotal: 650ms\tremaining: 376ms\n",
      "19:\tlearn: 3614.9624357\ttotal: 679ms\tremaining: 340ms\n",
      "20:\tlearn: 3594.5059456\ttotal: 708ms\tremaining: 303ms\n",
      "21:\tlearn: 3573.9248001\ttotal: 741ms\tremaining: 269ms\n",
      "22:\tlearn: 3553.5660836\ttotal: 772ms\tremaining: 235ms\n",
      "23:\tlearn: 3533.7022063\ttotal: 804ms\tremaining: 201ms\n",
      "24:\tlearn: 3513.7189613\ttotal: 840ms\tremaining: 168ms\n",
      "25:\tlearn: 3494.9180045\ttotal: 869ms\tremaining: 134ms\n",
      "26:\tlearn: 3476.1273385\ttotal: 898ms\tremaining: 99.8ms\n",
      "27:\tlearn: 3457.9201834\ttotal: 933ms\tremaining: 66.6ms\n",
      "28:\tlearn: 3438.7397660\ttotal: 963ms\tremaining: 33.2ms\n",
      "29:\tlearn: 3419.9169899\ttotal: 1s\tremaining: 0us\n",
      "0:\tlearn: 4050.3014561\ttotal: 33.1ms\tremaining: 961ms\n",
      "1:\tlearn: 4024.1333460\ttotal: 73.4ms\tremaining: 1.03s\n",
      "2:\tlearn: 3998.5368872\ttotal: 106ms\tremaining: 955ms\n",
      "3:\tlearn: 3973.8358502\ttotal: 136ms\tremaining: 886ms\n",
      "4:\tlearn: 3948.8465007\ttotal: 169ms\tremaining: 847ms\n",
      "5:\tlearn: 3924.0302836\ttotal: 198ms\tremaining: 790ms\n",
      "6:\tlearn: 3899.6379393\ttotal: 228ms\tremaining: 748ms\n",
      "7:\tlearn: 3875.4596057\ttotal: 262ms\tremaining: 722ms\n",
      "8:\tlearn: 3852.1749538\ttotal: 290ms\tremaining: 677ms\n",
      "9:\tlearn: 3828.8493832\ttotal: 317ms\tremaining: 635ms\n",
      "10:\tlearn: 3805.6893157\ttotal: 352ms\tremaining: 608ms\n",
      "11:\tlearn: 3782.7435565\ttotal: 379ms\tremaining: 569ms\n",
      "12:\tlearn: 3760.2650291\ttotal: 406ms\tremaining: 531ms\n",
      "13:\tlearn: 3738.1365107\ttotal: 433ms\tremaining: 495ms\n",
      "14:\tlearn: 3716.5926985\ttotal: 464ms\tremaining: 464ms\n",
      "15:\tlearn: 3695.0008125\ttotal: 495ms\tremaining: 433ms\n",
      "16:\tlearn: 3673.0232829\ttotal: 521ms\tremaining: 399ms\n",
      "17:\tlearn: 3651.7456058\ttotal: 556ms\tremaining: 371ms\n",
      "18:\tlearn: 3631.5013343\ttotal: 583ms\tremaining: 337ms\n",
      "19:\tlearn: 3610.5800666\ttotal: 610ms\tremaining: 305ms\n",
      "20:\tlearn: 3589.9855661\ttotal: 639ms\tremaining: 274ms\n",
      "21:\tlearn: 3570.2336404\ttotal: 667ms\tremaining: 242ms\n",
      "22:\tlearn: 3550.3285077\ttotal: 693ms\tremaining: 211ms\n",
      "23:\tlearn: 3530.4368384\ttotal: 725ms\tremaining: 181ms\n",
      "24:\tlearn: 3510.8104012\ttotal: 754ms\tremaining: 151ms\n",
      "25:\tlearn: 3491.4969055\ttotal: 782ms\tremaining: 120ms\n",
      "26:\tlearn: 3472.0145874\ttotal: 810ms\tremaining: 90ms\n",
      "27:\tlearn: 3453.1513539\ttotal: 847ms\tremaining: 60.5ms\n",
      "28:\tlearn: 3434.7473826\ttotal: 886ms\tremaining: 30.6ms\n",
      "29:\tlearn: 3416.8564537\ttotal: 925ms\tremaining: 0us\n",
      "0:\tlearn: 3948.6449731\ttotal: 37.8ms\tremaining: 1.09s\n",
      "1:\tlearn: 3827.5305295\ttotal: 70.5ms\tremaining: 987ms\n",
      "2:\tlearn: 3715.3684591\ttotal: 98.5ms\tremaining: 886ms\n",
      "3:\tlearn: 3608.5267100\ttotal: 130ms\tremaining: 844ms\n",
      "4:\tlearn: 3511.1243266\ttotal: 165ms\tremaining: 826ms\n",
      "5:\tlearn: 3414.9526486\ttotal: 198ms\tremaining: 792ms\n",
      "6:\tlearn: 3322.7603489\ttotal: 229ms\tremaining: 752ms\n",
      "7:\tlearn: 3236.6626797\ttotal: 259ms\tremaining: 713ms\n",
      "8:\tlearn: 3155.3791707\ttotal: 287ms\tremaining: 670ms\n",
      "9:\tlearn: 3081.2987028\ttotal: 324ms\tremaining: 648ms\n",
      "10:\tlearn: 3010.9439321\ttotal: 360ms\tremaining: 622ms\n",
      "11:\tlearn: 2945.8617631\ttotal: 393ms\tremaining: 589ms\n",
      "12:\tlearn: 2884.3019674\ttotal: 428ms\tremaining: 559ms\n",
      "13:\tlearn: 2826.4289601\ttotal: 459ms\tremaining: 525ms\n",
      "14:\tlearn: 2773.1929015\ttotal: 489ms\tremaining: 489ms\n",
      "15:\tlearn: 2719.9489712\ttotal: 521ms\tremaining: 456ms\n",
      "16:\tlearn: 2671.9668961\ttotal: 549ms\tremaining: 420ms\n",
      "17:\tlearn: 2625.8196252\ttotal: 579ms\tremaining: 386ms\n",
      "18:\tlearn: 2585.2841767\ttotal: 614ms\tremaining: 356ms\n",
      "19:\tlearn: 2545.3141917\ttotal: 642ms\tremaining: 321ms\n",
      "20:\tlearn: 2506.3627912\ttotal: 670ms\tremaining: 287ms\n",
      "21:\tlearn: 2469.3792472\ttotal: 704ms\tremaining: 256ms\n",
      "22:\tlearn: 2430.1697039\ttotal: 732ms\tremaining: 223ms\n",
      "23:\tlearn: 2396.3654417\ttotal: 760ms\tremaining: 190ms\n",
      "24:\tlearn: 2364.4785994\ttotal: 787ms\tremaining: 157ms\n",
      "25:\tlearn: 2333.9091602\ttotal: 817ms\tremaining: 126ms\n",
      "26:\tlearn: 2305.1514988\ttotal: 845ms\tremaining: 93.9ms\n",
      "27:\tlearn: 2277.3670938\ttotal: 875ms\tremaining: 62.5ms\n",
      "28:\tlearn: 2250.9993772\ttotal: 914ms\tremaining: 31.5ms\n",
      "29:\tlearn: 2227.9438888\ttotal: 950ms\tremaining: 0us\n",
      "0:\tlearn: 3947.1874446\ttotal: 32.4ms\tremaining: 940ms\n",
      "1:\tlearn: 3826.5577286\ttotal: 65ms\tremaining: 909ms\n",
      "2:\tlearn: 3711.4691604\ttotal: 102ms\tremaining: 922ms\n",
      "3:\tlearn: 3603.1784632\ttotal: 131ms\tremaining: 849ms\n",
      "4:\tlearn: 3499.3832370\ttotal: 158ms\tremaining: 788ms\n",
      "5:\tlearn: 3403.7754071\ttotal: 186ms\tremaining: 742ms\n",
      "6:\tlearn: 3313.5777700\ttotal: 218ms\tremaining: 718ms\n",
      "7:\tlearn: 3230.8022227\ttotal: 247ms\tremaining: 679ms\n",
      "8:\tlearn: 3152.9394440\ttotal: 273ms\tremaining: 638ms\n",
      "9:\tlearn: 3077.8339103\ttotal: 308ms\tremaining: 616ms\n",
      "10:\tlearn: 3006.1941256\ttotal: 335ms\tremaining: 579ms\n",
      "11:\tlearn: 2941.2063134\ttotal: 362ms\tremaining: 543ms\n",
      "12:\tlearn: 2879.7108091\ttotal: 392ms\tremaining: 513ms\n",
      "13:\tlearn: 2820.2437652\ttotal: 419ms\tremaining: 479ms\n",
      "14:\tlearn: 2765.8192013\ttotal: 447ms\tremaining: 447ms\n",
      "15:\tlearn: 2715.9965418\ttotal: 481ms\tremaining: 421ms\n",
      "16:\tlearn: 2669.2167451\ttotal: 511ms\tremaining: 391ms\n",
      "17:\tlearn: 2624.0172004\ttotal: 539ms\tremaining: 359ms\n",
      "18:\tlearn: 2584.2620567\ttotal: 565ms\tremaining: 327ms\n",
      "19:\tlearn: 2545.4513753\ttotal: 596ms\tremaining: 298ms\n",
      "20:\tlearn: 2502.1609177\ttotal: 628ms\tremaining: 269ms\n",
      "21:\tlearn: 2461.2120422\ttotal: 656ms\tremaining: 239ms\n",
      "22:\tlearn: 2423.6972885\ttotal: 691ms\tremaining: 210ms\n",
      "23:\tlearn: 2389.3855382\ttotal: 717ms\tremaining: 179ms\n",
      "24:\tlearn: 2357.5775449\ttotal: 744ms\tremaining: 149ms\n",
      "25:\tlearn: 2326.7854997\ttotal: 770ms\tremaining: 119ms\n",
      "26:\tlearn: 2298.6139235\ttotal: 798ms\tremaining: 88.7ms\n",
      "27:\tlearn: 2271.9970574\ttotal: 825ms\tremaining: 58.9ms\n",
      "28:\tlearn: 2246.5730004\ttotal: 852ms\tremaining: 29.4ms\n",
      "29:\tlearn: 2221.3605195\ttotal: 883ms\tremaining: 0us\n",
      "0:\tlearn: 3822.0759202\ttotal: 33.5ms\tremaining: 971ms\n",
      "1:\tlearn: 3596.3123919\ttotal: 71.6ms\tremaining: 1s\n",
      "2:\tlearn: 3394.5360394\ttotal: 102ms\tremaining: 916ms\n",
      "3:\tlearn: 3223.5546019\ttotal: 137ms\tremaining: 891ms\n",
      "4:\tlearn: 3073.1149457\ttotal: 170ms\tremaining: 848ms\n",
      "5:\tlearn: 2932.0186411\ttotal: 197ms\tremaining: 789ms\n",
      "6:\tlearn: 2810.2688632\ttotal: 224ms\tremaining: 738ms\n",
      "7:\tlearn: 2700.1327498\ttotal: 258ms\tremaining: 709ms\n",
      "8:\tlearn: 2608.1544887\ttotal: 286ms\tremaining: 667ms\n",
      "9:\tlearn: 2526.2041954\ttotal: 314ms\tremaining: 627ms\n",
      "10:\tlearn: 2449.6623259\ttotal: 341ms\tremaining: 590ms\n",
      "11:\tlearn: 2376.5977894\ttotal: 375ms\tremaining: 562ms\n",
      "12:\tlearn: 2313.0150879\ttotal: 405ms\tremaining: 529ms\n",
      "13:\tlearn: 2261.7976794\ttotal: 432ms\tremaining: 494ms\n",
      "14:\tlearn: 2212.8294029\ttotal: 464ms\tremaining: 464ms\n",
      "15:\tlearn: 2169.8735519\ttotal: 490ms\tremaining: 429ms\n",
      "16:\tlearn: 2133.2206274\ttotal: 517ms\tremaining: 396ms\n",
      "17:\tlearn: 2100.2088577\ttotal: 550ms\tremaining: 367ms\n",
      "18:\tlearn: 2073.5898281\ttotal: 578ms\tremaining: 335ms\n",
      "19:\tlearn: 2049.6877337\ttotal: 605ms\tremaining: 303ms\n",
      "20:\tlearn: 2023.2332036\ttotal: 634ms\tremaining: 272ms\n",
      "21:\tlearn: 2000.0686709\ttotal: 667ms\tremaining: 243ms\n",
      "22:\tlearn: 1977.2325184\ttotal: 696ms\tremaining: 212ms\n",
      "23:\tlearn: 1953.3787829\ttotal: 723ms\tremaining: 181ms\n",
      "24:\tlearn: 1930.8343374\ttotal: 756ms\tremaining: 151ms\n",
      "25:\tlearn: 1915.4902372\ttotal: 783ms\tremaining: 120ms\n",
      "26:\tlearn: 1900.2425795\ttotal: 811ms\tremaining: 90.1ms\n",
      "27:\tlearn: 1886.7559680\ttotal: 841ms\tremaining: 60.1ms\n",
      "28:\tlearn: 1875.3116784\ttotal: 870ms\tremaining: 30ms\n",
      "29:\tlearn: 1865.4978154\ttotal: 898ms\tremaining: 0us\n",
      "0:\tlearn: 3820.6343023\ttotal: 36.4ms\tremaining: 1.05s\n",
      "1:\tlearn: 3596.5768100\ttotal: 69.8ms\tremaining: 978ms\n",
      "2:\tlearn: 3394.6143671\ttotal: 105ms\tremaining: 948ms\n",
      "3:\tlearn: 3218.9299195\ttotal: 134ms\tremaining: 872ms\n",
      "4:\tlearn: 3061.4393151\ttotal: 161ms\tremaining: 807ms\n",
      "5:\tlearn: 2929.4097229\ttotal: 189ms\tremaining: 758ms\n",
      "6:\tlearn: 2809.7866225\ttotal: 221ms\tremaining: 728ms\n",
      "7:\tlearn: 2709.0173017\ttotal: 249ms\tremaining: 686ms\n",
      "8:\tlearn: 2608.2838239\ttotal: 277ms\tremaining: 646ms\n",
      "9:\tlearn: 2529.4934134\ttotal: 311ms\tremaining: 623ms\n",
      "10:\tlearn: 2446.9849819\ttotal: 339ms\tremaining: 586ms\n",
      "11:\tlearn: 2371.5013956\ttotal: 367ms\tremaining: 551ms\n",
      "12:\tlearn: 2310.8758594\ttotal: 395ms\tremaining: 517ms\n",
      "13:\tlearn: 2252.1093996\ttotal: 427ms\tremaining: 488ms\n",
      "14:\tlearn: 2202.1631793\ttotal: 455ms\tremaining: 455ms\n",
      "15:\tlearn: 2159.9125672\ttotal: 482ms\tremaining: 422ms\n",
      "16:\tlearn: 2124.2582642\ttotal: 516ms\tremaining: 394ms\n",
      "17:\tlearn: 2090.7456299\ttotal: 543ms\tremaining: 362ms\n",
      "18:\tlearn: 2062.8560289\ttotal: 571ms\tremaining: 331ms\n",
      "19:\tlearn: 2036.4665230\ttotal: 605ms\tremaining: 303ms\n",
      "20:\tlearn: 2013.4388924\ttotal: 632ms\tremaining: 271ms\n",
      "21:\tlearn: 1990.1516011\ttotal: 661ms\tremaining: 240ms\n",
      "22:\tlearn: 1970.1659488\ttotal: 690ms\tremaining: 210ms\n",
      "23:\tlearn: 1944.8581146\ttotal: 717ms\tremaining: 179ms\n",
      "24:\tlearn: 1923.3870415\ttotal: 744ms\tremaining: 149ms\n",
      "25:\tlearn: 1904.9991982\ttotal: 771ms\tremaining: 119ms\n",
      "26:\tlearn: 1889.5981164\ttotal: 804ms\tremaining: 89.3ms\n",
      "27:\tlearn: 1878.7438602\ttotal: 831ms\tremaining: 59.4ms\n",
      "28:\tlearn: 1867.5914993\ttotal: 860ms\tremaining: 29.7ms\n",
      "29:\tlearn: 1857.1164216\ttotal: 892ms\tremaining: 0us\n",
      "0:\tlearn: 4051.7698552\ttotal: 40.4ms\tremaining: 1.98s\n",
      "1:\tlearn: 4026.1341282\ttotal: 75.1ms\tremaining: 1.8s\n",
      "2:\tlearn: 4001.9026388\ttotal: 102ms\tremaining: 1.6s\n",
      "3:\tlearn: 3977.0394908\ttotal: 130ms\tremaining: 1.5s\n",
      "4:\tlearn: 3953.4329307\ttotal: 164ms\tremaining: 1.48s\n",
      "5:\tlearn: 3929.8429288\ttotal: 191ms\tremaining: 1.4s\n",
      "6:\tlearn: 3905.3379145\ttotal: 221ms\tremaining: 1.36s\n",
      "7:\tlearn: 3881.4324750\ttotal: 248ms\tremaining: 1.3s\n",
      "8:\tlearn: 3857.7761087\ttotal: 278ms\tremaining: 1.27s\n",
      "9:\tlearn: 3834.8422651\ttotal: 308ms\tremaining: 1.23s\n",
      "10:\tlearn: 3811.2922324\ttotal: 338ms\tremaining: 1.2s\n",
      "11:\tlearn: 3788.1255486\ttotal: 367ms\tremaining: 1.16s\n",
      "12:\tlearn: 3765.2014278\ttotal: 400ms\tremaining: 1.14s\n",
      "13:\tlearn: 3742.8622802\ttotal: 439ms\tremaining: 1.13s\n",
      "14:\tlearn: 3720.5418671\ttotal: 477ms\tremaining: 1.11s\n",
      "15:\tlearn: 3698.3941718\ttotal: 516ms\tremaining: 1.1s\n",
      "16:\tlearn: 3676.5946651\ttotal: 557ms\tremaining: 1.08s\n",
      "17:\tlearn: 3655.8314239\ttotal: 597ms\tremaining: 1.06s\n",
      "18:\tlearn: 3635.4113532\ttotal: 638ms\tremaining: 1.04s\n",
      "19:\tlearn: 3614.9624357\ttotal: 681ms\tremaining: 1.02s\n",
      "20:\tlearn: 3594.5059456\ttotal: 715ms\tremaining: 987ms\n",
      "21:\tlearn: 3573.9248001\ttotal: 745ms\tremaining: 948ms\n",
      "22:\tlearn: 3553.5660836\ttotal: 775ms\tremaining: 910ms\n",
      "23:\tlearn: 3533.7022063\ttotal: 803ms\tremaining: 870ms\n",
      "24:\tlearn: 3513.7189613\ttotal: 830ms\tremaining: 830ms\n",
      "25:\tlearn: 3494.9180045\ttotal: 856ms\tremaining: 790ms\n",
      "26:\tlearn: 3476.1273385\ttotal: 889ms\tremaining: 757ms\n",
      "27:\tlearn: 3457.9201834\ttotal: 919ms\tremaining: 722ms\n",
      "28:\tlearn: 3438.7397660\ttotal: 947ms\tremaining: 685ms\n",
      "29:\tlearn: 3419.9169899\ttotal: 978ms\tremaining: 652ms\n",
      "30:\tlearn: 3401.4156631\ttotal: 1s\tremaining: 616ms\n",
      "31:\tlearn: 3383.6737410\ttotal: 1.03s\tremaining: 581ms\n",
      "32:\tlearn: 3366.0492495\ttotal: 1.06s\tremaining: 547ms\n",
      "33:\tlearn: 3348.1175454\ttotal: 1.1s\tremaining: 516ms\n",
      "34:\tlearn: 3330.9030683\ttotal: 1.13s\tremaining: 483ms\n",
      "35:\tlearn: 3313.5634943\ttotal: 1.16s\tremaining: 450ms\n",
      "36:\tlearn: 3296.1011466\ttotal: 1.19s\tremaining: 417ms\n",
      "37:\tlearn: 3279.2366374\ttotal: 1.22s\tremaining: 384ms\n",
      "38:\tlearn: 3262.8903141\ttotal: 1.24s\tremaining: 351ms\n",
      "39:\tlearn: 3246.3240025\ttotal: 1.28s\tremaining: 319ms\n",
      "40:\tlearn: 3229.7483599\ttotal: 1.3s\tremaining: 286ms\n",
      "41:\tlearn: 3214.2113624\ttotal: 1.33s\tremaining: 253ms\n",
      "42:\tlearn: 3198.0820870\ttotal: 1.36s\tremaining: 222ms\n",
      "43:\tlearn: 3182.0113901\ttotal: 1.39s\tremaining: 190ms\n",
      "44:\tlearn: 3166.4228729\ttotal: 1.42s\tremaining: 158ms\n",
      "45:\tlearn: 3151.6114161\ttotal: 1.45s\tremaining: 126ms\n",
      "46:\tlearn: 3136.8838873\ttotal: 1.48s\tremaining: 94.4ms\n",
      "47:\tlearn: 3122.1133613\ttotal: 1.51s\tremaining: 62.8ms\n",
      "48:\tlearn: 3107.2535296\ttotal: 1.53s\tremaining: 31.3ms\n",
      "49:\tlearn: 3092.6114512\ttotal: 1.57s\tremaining: 0us\n",
      "0:\tlearn: 4050.3014561\ttotal: 32.4ms\tremaining: 1.58s\n",
      "1:\tlearn: 4024.1333460\ttotal: 72.5ms\tremaining: 1.74s\n",
      "2:\tlearn: 3998.5368872\ttotal: 105ms\tremaining: 1.64s\n",
      "3:\tlearn: 3973.8358502\ttotal: 133ms\tremaining: 1.52s\n",
      "4:\tlearn: 3948.8465007\ttotal: 165ms\tremaining: 1.49s\n",
      "5:\tlearn: 3924.0302836\ttotal: 193ms\tremaining: 1.41s\n",
      "6:\tlearn: 3899.6379393\ttotal: 220ms\tremaining: 1.35s\n",
      "7:\tlearn: 3875.4596057\ttotal: 250ms\tremaining: 1.31s\n",
      "8:\tlearn: 3852.1749538\ttotal: 280ms\tremaining: 1.27s\n",
      "9:\tlearn: 3828.8493832\ttotal: 306ms\tremaining: 1.23s\n",
      "10:\tlearn: 3805.6893157\ttotal: 333ms\tremaining: 1.18s\n",
      "11:\tlearn: 3782.7435565\ttotal: 369ms\tremaining: 1.17s\n",
      "12:\tlearn: 3760.2650291\ttotal: 396ms\tremaining: 1.13s\n",
      "13:\tlearn: 3738.1365107\ttotal: 424ms\tremaining: 1.09s\n",
      "14:\tlearn: 3716.5926985\ttotal: 455ms\tremaining: 1.06s\n",
      "15:\tlearn: 3695.0008125\ttotal: 498ms\tremaining: 1.06s\n",
      "16:\tlearn: 3673.0232829\ttotal: 531ms\tremaining: 1.03s\n",
      "17:\tlearn: 3651.7456058\ttotal: 567ms\tremaining: 1.01s\n",
      "18:\tlearn: 3631.5013343\ttotal: 601ms\tremaining: 981ms\n",
      "19:\tlearn: 3610.5800666\ttotal: 629ms\tremaining: 944ms\n",
      "20:\tlearn: 3589.9855661\ttotal: 661ms\tremaining: 913ms\n",
      "21:\tlearn: 3570.2336404\ttotal: 688ms\tremaining: 876ms\n",
      "22:\tlearn: 3550.3285077\ttotal: 719ms\tremaining: 844ms\n",
      "23:\tlearn: 3530.4368384\ttotal: 750ms\tremaining: 813ms\n",
      "24:\tlearn: 3510.8104012\ttotal: 777ms\tremaining: 777ms\n",
      "25:\tlearn: 3491.4969055\ttotal: 804ms\tremaining: 743ms\n",
      "26:\tlearn: 3472.0145874\ttotal: 835ms\tremaining: 711ms\n",
      "27:\tlearn: 3453.1513539\ttotal: 863ms\tremaining: 678ms\n",
      "28:\tlearn: 3434.7473826\ttotal: 890ms\tremaining: 645ms\n",
      "29:\tlearn: 3416.8564537\ttotal: 917ms\tremaining: 612ms\n",
      "30:\tlearn: 3398.6258184\ttotal: 953ms\tremaining: 584ms\n",
      "31:\tlearn: 3379.7921490\ttotal: 980ms\tremaining: 551ms\n",
      "32:\tlearn: 3362.4701075\ttotal: 1.01s\tremaining: 519ms\n",
      "33:\tlearn: 3344.2644019\ttotal: 1.04s\tremaining: 489ms\n",
      "34:\tlearn: 3326.8971174\ttotal: 1.06s\tremaining: 457ms\n",
      "35:\tlearn: 3310.3331992\ttotal: 1.09s\tremaining: 425ms\n",
      "36:\tlearn: 3294.0448689\ttotal: 1.12s\tremaining: 393ms\n",
      "37:\tlearn: 3277.6901309\ttotal: 1.15s\tremaining: 363ms\n",
      "38:\tlearn: 3261.1330556\ttotal: 1.18s\tremaining: 332ms\n",
      "39:\tlearn: 3244.8740827\ttotal: 1.21s\tremaining: 301ms\n",
      "40:\tlearn: 3228.6998862\ttotal: 1.24s\tremaining: 272ms\n",
      "41:\tlearn: 3213.3736731\ttotal: 1.26s\tremaining: 241ms\n",
      "42:\tlearn: 3198.0410029\ttotal: 1.29s\tremaining: 210ms\n",
      "43:\tlearn: 3182.7377604\ttotal: 1.32s\tremaining: 180ms\n",
      "44:\tlearn: 3167.4999695\ttotal: 1.35s\tremaining: 150ms\n",
      "45:\tlearn: 3151.7426264\ttotal: 1.38s\tremaining: 120ms\n",
      "46:\tlearn: 3136.4846133\ttotal: 1.41s\tremaining: 89.8ms\n",
      "47:\tlearn: 3122.3349458\ttotal: 1.44s\tremaining: 59.9ms\n",
      "48:\tlearn: 3107.4767203\ttotal: 1.47s\tremaining: 29.9ms\n",
      "49:\tlearn: 3092.9160765\ttotal: 1.49s\tremaining: 0us\n",
      "0:\tlearn: 3948.6449731\ttotal: 34.1ms\tremaining: 1.67s\n",
      "1:\tlearn: 3827.5305295\ttotal: 66.3ms\tremaining: 1.59s\n",
      "2:\tlearn: 3715.3684591\ttotal: 95.2ms\tremaining: 1.49s\n",
      "3:\tlearn: 3608.5267100\ttotal: 123ms\tremaining: 1.42s\n",
      "4:\tlearn: 3511.1243266\ttotal: 158ms\tremaining: 1.42s\n",
      "5:\tlearn: 3414.9526486\ttotal: 187ms\tremaining: 1.37s\n",
      "6:\tlearn: 3322.7603489\ttotal: 218ms\tremaining: 1.34s\n",
      "7:\tlearn: 3236.6626797\ttotal: 247ms\tremaining: 1.3s\n",
      "8:\tlearn: 3155.3791707\ttotal: 275ms\tremaining: 1.25s\n",
      "9:\tlearn: 3081.2987028\ttotal: 307ms\tremaining: 1.23s\n",
      "10:\tlearn: 3010.9439321\ttotal: 334ms\tremaining: 1.18s\n",
      "11:\tlearn: 2945.8617631\ttotal: 361ms\tremaining: 1.14s\n",
      "12:\tlearn: 2884.3019674\ttotal: 389ms\tremaining: 1.11s\n",
      "13:\tlearn: 2826.4289601\ttotal: 418ms\tremaining: 1.07s\n",
      "14:\tlearn: 2773.1929015\ttotal: 446ms\tremaining: 1.04s\n",
      "15:\tlearn: 2719.9489712\ttotal: 473ms\tremaining: 1s\n",
      "16:\tlearn: 2671.9668961\ttotal: 509ms\tremaining: 989ms\n",
      "17:\tlearn: 2625.8196252\ttotal: 536ms\tremaining: 954ms\n",
      "18:\tlearn: 2585.2841767\ttotal: 567ms\tremaining: 925ms\n",
      "19:\tlearn: 2545.3141917\ttotal: 598ms\tremaining: 897ms\n",
      "20:\tlearn: 2506.3627912\ttotal: 624ms\tremaining: 862ms\n",
      "21:\tlearn: 2469.3792472\ttotal: 653ms\tremaining: 831ms\n",
      "22:\tlearn: 2430.1697039\ttotal: 686ms\tremaining: 805ms\n",
      "23:\tlearn: 2396.3654417\ttotal: 712ms\tremaining: 772ms\n",
      "24:\tlearn: 2364.4785994\ttotal: 740ms\tremaining: 740ms\n",
      "25:\tlearn: 2333.9091602\ttotal: 767ms\tremaining: 708ms\n",
      "26:\tlearn: 2305.1514988\ttotal: 802ms\tremaining: 683ms\n",
      "27:\tlearn: 2277.3670938\ttotal: 829ms\tremaining: 652ms\n",
      "28:\tlearn: 2250.9993772\ttotal: 858ms\tremaining: 621ms\n",
      "29:\tlearn: 2227.9438888\ttotal: 889ms\tremaining: 593ms\n",
      "30:\tlearn: 2205.6331327\ttotal: 917ms\tremaining: 562ms\n",
      "31:\tlearn: 2183.6784728\ttotal: 944ms\tremaining: 531ms\n",
      "32:\tlearn: 2163.2555769\ttotal: 975ms\tremaining: 502ms\n",
      "33:\tlearn: 2144.3374222\ttotal: 1s\tremaining: 472ms\n",
      "34:\tlearn: 2126.2415937\ttotal: 1.03s\tremaining: 442ms\n",
      "35:\tlearn: 2108.6043265\ttotal: 1.06s\tremaining: 411ms\n",
      "36:\tlearn: 2092.4942710\ttotal: 1.09s\tremaining: 383ms\n",
      "37:\tlearn: 2077.0833537\ttotal: 1.12s\tremaining: 353ms\n",
      "38:\tlearn: 2064.1092204\ttotal: 1.15s\tremaining: 325ms\n",
      "39:\tlearn: 2051.5313506\ttotal: 1.19s\tremaining: 296ms\n",
      "40:\tlearn: 2037.8673645\ttotal: 1.21s\tremaining: 266ms\n",
      "41:\tlearn: 2023.9982653\ttotal: 1.24s\tremaining: 236ms\n",
      "42:\tlearn: 2011.3225129\ttotal: 1.27s\tremaining: 208ms\n",
      "43:\tlearn: 1996.6151392\ttotal: 1.3s\tremaining: 178ms\n",
      "44:\tlearn: 1984.0284195\ttotal: 1.33s\tremaining: 148ms\n",
      "45:\tlearn: 1972.3220904\ttotal: 1.36s\tremaining: 118ms\n",
      "46:\tlearn: 1960.4000218\ttotal: 1.39s\tremaining: 88.9ms\n",
      "47:\tlearn: 1950.1374070\ttotal: 1.42s\tremaining: 59.2ms\n",
      "48:\tlearn: 1940.4537203\ttotal: 1.45s\tremaining: 29.5ms\n",
      "49:\tlearn: 1930.3919475\ttotal: 1.48s\tremaining: 0us\n",
      "0:\tlearn: 3947.1874446\ttotal: 33.4ms\tremaining: 1.64s\n",
      "1:\tlearn: 3826.5577286\ttotal: 71ms\tremaining: 1.7s\n",
      "2:\tlearn: 3711.4691604\ttotal: 105ms\tremaining: 1.65s\n",
      "3:\tlearn: 3603.1784632\ttotal: 138ms\tremaining: 1.58s\n",
      "4:\tlearn: 3499.3832370\ttotal: 168ms\tremaining: 1.51s\n",
      "5:\tlearn: 3403.7754071\ttotal: 196ms\tremaining: 1.44s\n",
      "6:\tlearn: 3313.5777700\ttotal: 225ms\tremaining: 1.39s\n",
      "7:\tlearn: 3230.8022227\ttotal: 255ms\tremaining: 1.34s\n",
      "8:\tlearn: 3152.9394440\ttotal: 282ms\tremaining: 1.28s\n",
      "9:\tlearn: 3077.8339103\ttotal: 310ms\tremaining: 1.24s\n",
      "10:\tlearn: 3006.1941256\ttotal: 345ms\tremaining: 1.22s\n",
      "11:\tlearn: 2941.2063134\ttotal: 375ms\tremaining: 1.19s\n",
      "12:\tlearn: 2879.7108091\ttotal: 406ms\tremaining: 1.15s\n",
      "13:\tlearn: 2820.2437652\ttotal: 439ms\tremaining: 1.13s\n",
      "14:\tlearn: 2765.8192013\ttotal: 467ms\tremaining: 1.09s\n",
      "15:\tlearn: 2715.9965418\ttotal: 495ms\tremaining: 1.05s\n",
      "16:\tlearn: 2669.2167451\ttotal: 528ms\tremaining: 1.02s\n",
      "17:\tlearn: 2624.0172004\ttotal: 556ms\tremaining: 989ms\n",
      "18:\tlearn: 2584.2620567\ttotal: 583ms\tremaining: 951ms\n",
      "19:\tlearn: 2545.4513753\ttotal: 611ms\tremaining: 917ms\n",
      "20:\tlearn: 2502.1609177\ttotal: 644ms\tremaining: 889ms\n",
      "21:\tlearn: 2461.2120422\ttotal: 672ms\tremaining: 855ms\n",
      "22:\tlearn: 2423.6972885\ttotal: 700ms\tremaining: 822ms\n",
      "23:\tlearn: 2389.3855382\ttotal: 733ms\tremaining: 795ms\n",
      "24:\tlearn: 2357.5775449\ttotal: 762ms\tremaining: 762ms\n",
      "25:\tlearn: 2326.7854997\ttotal: 790ms\tremaining: 729ms\n",
      "26:\tlearn: 2298.6139235\ttotal: 820ms\tremaining: 699ms\n",
      "27:\tlearn: 2271.9970574\ttotal: 848ms\tremaining: 666ms\n",
      "28:\tlearn: 2246.5730004\ttotal: 875ms\tremaining: 634ms\n",
      "29:\tlearn: 2221.3605195\ttotal: 903ms\tremaining: 602ms\n",
      "30:\tlearn: 2198.9399960\ttotal: 934ms\tremaining: 573ms\n",
      "31:\tlearn: 2178.7120451\ttotal: 962ms\tremaining: 541ms\n",
      "32:\tlearn: 2159.9131071\ttotal: 997ms\tremaining: 514ms\n",
      "33:\tlearn: 2140.1130792\ttotal: 1.03s\tremaining: 485ms\n",
      "34:\tlearn: 2122.7467045\ttotal: 1.06s\tremaining: 453ms\n",
      "35:\tlearn: 2107.0319606\ttotal: 1.08s\tremaining: 422ms\n",
      "36:\tlearn: 2091.4812020\ttotal: 1.13s\tremaining: 395ms\n",
      "37:\tlearn: 2077.6215674\ttotal: 1.15s\tremaining: 364ms\n",
      "38:\tlearn: 2064.7868285\ttotal: 1.19s\tremaining: 334ms\n",
      "39:\tlearn: 2050.7782658\ttotal: 1.22s\tremaining: 305ms\n",
      "40:\tlearn: 2038.0267008\ttotal: 1.25s\tremaining: 274ms\n",
      "41:\tlearn: 2024.0582743\ttotal: 1.27s\tremaining: 243ms\n",
      "42:\tlearn: 2011.3809616\ttotal: 1.3s\tremaining: 212ms\n",
      "43:\tlearn: 1996.7631333\ttotal: 1.33s\tremaining: 182ms\n",
      "44:\tlearn: 1983.7396864\ttotal: 1.36s\tremaining: 151ms\n",
      "45:\tlearn: 1972.2101911\ttotal: 1.39s\tremaining: 121ms\n",
      "46:\tlearn: 1959.5672521\ttotal: 1.42s\tremaining: 90.8ms\n",
      "47:\tlearn: 1948.9754633\ttotal: 1.45s\tremaining: 60.4ms\n",
      "48:\tlearn: 1938.9252308\ttotal: 1.48s\tremaining: 30.1ms\n",
      "49:\tlearn: 1928.4406615\ttotal: 1.51s\tremaining: 0us\n",
      "0:\tlearn: 3822.0759202\ttotal: 43.8ms\tremaining: 2.15s\n",
      "1:\tlearn: 3596.3123919\ttotal: 77.2ms\tremaining: 1.85s\n",
      "2:\tlearn: 3394.5360394\ttotal: 109ms\tremaining: 1.7s\n",
      "3:\tlearn: 3223.5546019\ttotal: 148ms\tremaining: 1.7s\n",
      "4:\tlearn: 3073.1149457\ttotal: 176ms\tremaining: 1.58s\n",
      "5:\tlearn: 2932.0186411\ttotal: 207ms\tremaining: 1.52s\n",
      "6:\tlearn: 2810.2688632\ttotal: 236ms\tremaining: 1.45s\n",
      "7:\tlearn: 2700.1327498\ttotal: 263ms\tremaining: 1.38s\n",
      "8:\tlearn: 2608.1544887\ttotal: 291ms\tremaining: 1.32s\n",
      "9:\tlearn: 2526.2041954\ttotal: 319ms\tremaining: 1.28s\n",
      "10:\tlearn: 2449.6623259\ttotal: 348ms\tremaining: 1.23s\n",
      "11:\tlearn: 2376.5977894\ttotal: 379ms\tremaining: 1.2s\n",
      "12:\tlearn: 2313.0150879\ttotal: 407ms\tremaining: 1.16s\n",
      "13:\tlearn: 2261.7976794\ttotal: 437ms\tremaining: 1.12s\n",
      "14:\tlearn: 2212.8294029\ttotal: 471ms\tremaining: 1.1s\n",
      "15:\tlearn: 2169.8735519\ttotal: 505ms\tremaining: 1.07s\n",
      "16:\tlearn: 2133.2206274\ttotal: 533ms\tremaining: 1.03s\n",
      "17:\tlearn: 2100.2088577\ttotal: 561ms\tremaining: 997ms\n",
      "18:\tlearn: 2073.5898281\ttotal: 590ms\tremaining: 962ms\n",
      "19:\tlearn: 2049.6877337\ttotal: 622ms\tremaining: 933ms\n",
      "20:\tlearn: 2023.2332036\ttotal: 650ms\tremaining: 898ms\n",
      "21:\tlearn: 2000.0686709\ttotal: 679ms\tremaining: 864ms\n",
      "22:\tlearn: 1977.2325184\ttotal: 713ms\tremaining: 837ms\n",
      "23:\tlearn: 1953.3787829\ttotal: 741ms\tremaining: 803ms\n",
      "24:\tlearn: 1930.8343374\ttotal: 770ms\tremaining: 770ms\n",
      "25:\tlearn: 1915.4902372\ttotal: 809ms\tremaining: 747ms\n",
      "26:\tlearn: 1900.2425795\ttotal: 837ms\tremaining: 713ms\n",
      "27:\tlearn: 1886.7559680\ttotal: 867ms\tremaining: 681ms\n",
      "28:\tlearn: 1875.3116784\ttotal: 906ms\tremaining: 656ms\n",
      "29:\tlearn: 1865.4978154\ttotal: 934ms\tremaining: 622ms\n",
      "30:\tlearn: 1855.2430280\ttotal: 961ms\tremaining: 589ms\n",
      "31:\tlearn: 1846.5298800\ttotal: 997ms\tremaining: 561ms\n",
      "32:\tlearn: 1836.6069497\ttotal: 1.03s\tremaining: 530ms\n",
      "33:\tlearn: 1828.3925449\ttotal: 1.06s\tremaining: 498ms\n",
      "34:\tlearn: 1821.6422304\ttotal: 1.09s\tremaining: 468ms\n",
      "35:\tlearn: 1815.9569122\ttotal: 1.12s\tremaining: 436ms\n",
      "36:\tlearn: 1811.0018016\ttotal: 1.15s\tremaining: 406ms\n",
      "37:\tlearn: 1804.7125937\ttotal: 1.19s\tremaining: 375ms\n",
      "38:\tlearn: 1799.6797953\ttotal: 1.22s\tremaining: 344ms\n",
      "39:\tlearn: 1792.5087296\ttotal: 1.25s\tremaining: 313ms\n",
      "40:\tlearn: 1788.4138289\ttotal: 1.28s\tremaining: 282ms\n",
      "41:\tlearn: 1783.3111958\ttotal: 1.31s\tremaining: 250ms\n",
      "42:\tlearn: 1778.9882653\ttotal: 1.34s\tremaining: 219ms\n",
      "43:\tlearn: 1774.9244973\ttotal: 1.38s\tremaining: 188ms\n",
      "44:\tlearn: 1770.4237234\ttotal: 1.41s\tremaining: 156ms\n",
      "45:\tlearn: 1765.5540531\ttotal: 1.43s\tremaining: 125ms\n",
      "46:\tlearn: 1761.0770997\ttotal: 1.47s\tremaining: 93.6ms\n",
      "47:\tlearn: 1758.2023663\ttotal: 1.5s\tremaining: 62.4ms\n",
      "48:\tlearn: 1755.6322140\ttotal: 1.53s\tremaining: 31.2ms\n",
      "49:\tlearn: 1753.2479795\ttotal: 1.56s\tremaining: 0us\n",
      "0:\tlearn: 3820.6343023\ttotal: 40ms\tremaining: 1.96s\n",
      "1:\tlearn: 3596.5768100\ttotal: 78.3ms\tremaining: 1.88s\n",
      "2:\tlearn: 3394.6143671\ttotal: 117ms\tremaining: 1.84s\n",
      "3:\tlearn: 3218.9299195\ttotal: 154ms\tremaining: 1.77s\n",
      "4:\tlearn: 3061.4393151\ttotal: 187ms\tremaining: 1.68s\n",
      "5:\tlearn: 2929.4097229\ttotal: 216ms\tremaining: 1.58s\n",
      "6:\tlearn: 2809.7866225\ttotal: 248ms\tremaining: 1.53s\n",
      "7:\tlearn: 2709.0173017\ttotal: 276ms\tremaining: 1.45s\n",
      "8:\tlearn: 2608.2838239\ttotal: 306ms\tremaining: 1.39s\n",
      "9:\tlearn: 2529.4934134\ttotal: 337ms\tremaining: 1.35s\n",
      "10:\tlearn: 2446.9849819\ttotal: 366ms\tremaining: 1.3s\n",
      "11:\tlearn: 2371.5013956\ttotal: 393ms\tremaining: 1.25s\n",
      "12:\tlearn: 2310.8758594\ttotal: 427ms\tremaining: 1.21s\n",
      "13:\tlearn: 2252.1093996\ttotal: 456ms\tremaining: 1.17s\n",
      "14:\tlearn: 2202.1631793\ttotal: 485ms\tremaining: 1.13s\n",
      "15:\tlearn: 2159.9125672\ttotal: 519ms\tremaining: 1.1s\n",
      "16:\tlearn: 2124.2582642\ttotal: 548ms\tremaining: 1.06s\n",
      "17:\tlearn: 2090.7456299\ttotal: 576ms\tremaining: 1.02s\n",
      "18:\tlearn: 2062.8560289\ttotal: 603ms\tremaining: 983ms\n",
      "19:\tlearn: 2036.4665230\ttotal: 635ms\tremaining: 952ms\n",
      "20:\tlearn: 2013.4388924\ttotal: 663ms\tremaining: 915ms\n",
      "21:\tlearn: 1990.1516011\ttotal: 691ms\tremaining: 879ms\n",
      "22:\tlearn: 1970.1659488\ttotal: 723ms\tremaining: 849ms\n",
      "23:\tlearn: 1944.8581146\ttotal: 751ms\tremaining: 814ms\n",
      "24:\tlearn: 1923.3870415\ttotal: 779ms\tremaining: 779ms\n",
      "25:\tlearn: 1904.9991982\ttotal: 812ms\tremaining: 749ms\n",
      "26:\tlearn: 1889.5981164\ttotal: 844ms\tremaining: 719ms\n",
      "27:\tlearn: 1878.7438602\ttotal: 874ms\tremaining: 686ms\n",
      "28:\tlearn: 1867.5914993\ttotal: 911ms\tremaining: 660ms\n",
      "29:\tlearn: 1857.1164216\ttotal: 939ms\tremaining: 626ms\n",
      "30:\tlearn: 1846.4334432\ttotal: 970ms\tremaining: 595ms\n",
      "31:\tlearn: 1838.0184057\ttotal: 999ms\tremaining: 562ms\n",
      "32:\tlearn: 1829.5869637\ttotal: 1.03s\tremaining: 530ms\n",
      "33:\tlearn: 1822.0191379\ttotal: 1.05s\tremaining: 496ms\n",
      "34:\tlearn: 1811.9366964\ttotal: 1.08s\tremaining: 465ms\n",
      "35:\tlearn: 1806.2228243\ttotal: 1.12s\tremaining: 435ms\n",
      "36:\tlearn: 1801.6595784\ttotal: 1.15s\tremaining: 403ms\n",
      "37:\tlearn: 1796.5602927\ttotal: 1.18s\tremaining: 372ms\n",
      "38:\tlearn: 1791.6485388\ttotal: 1.21s\tremaining: 342ms\n",
      "39:\tlearn: 1785.2837489\ttotal: 1.24s\tremaining: 311ms\n",
      "40:\tlearn: 1778.7154157\ttotal: 1.27s\tremaining: 279ms\n",
      "41:\tlearn: 1774.9582767\ttotal: 1.3s\tremaining: 248ms\n",
      "42:\tlearn: 1770.4228166\ttotal: 1.34s\tremaining: 218ms\n",
      "43:\tlearn: 1766.5738045\ttotal: 1.37s\tremaining: 186ms\n",
      "44:\tlearn: 1762.9203966\ttotal: 1.4s\tremaining: 156ms\n",
      "45:\tlearn: 1759.9666454\ttotal: 1.43s\tremaining: 124ms\n",
      "46:\tlearn: 1756.2188130\ttotal: 1.46s\tremaining: 93.1ms\n",
      "47:\tlearn: 1752.2685146\ttotal: 1.49s\tremaining: 62ms\n",
      "48:\tlearn: 1749.4487134\ttotal: 1.53s\tremaining: 31.2ms\n",
      "49:\tlearn: 1745.2733943\ttotal: 1.56s\tremaining: 0us\n",
      "0:\tlearn: 4051.7698552\ttotal: 34.3ms\tremaining: 3.4s\n",
      "1:\tlearn: 4026.1341282\ttotal: 69.6ms\tremaining: 3.41s\n",
      "2:\tlearn: 4001.9026388\ttotal: 98.5ms\tremaining: 3.19s\n",
      "3:\tlearn: 3977.0394908\ttotal: 126ms\tremaining: 3.03s\n",
      "4:\tlearn: 3953.4329307\ttotal: 164ms\tremaining: 3.13s\n",
      "5:\tlearn: 3929.8429288\ttotal: 194ms\tremaining: 3.03s\n",
      "6:\tlearn: 3905.3379145\ttotal: 222ms\tremaining: 2.95s\n",
      "7:\tlearn: 3881.4324750\ttotal: 254ms\tremaining: 2.92s\n",
      "8:\tlearn: 3857.7761087\ttotal: 291ms\tremaining: 2.94s\n",
      "9:\tlearn: 3834.8422651\ttotal: 319ms\tremaining: 2.87s\n",
      "10:\tlearn: 3811.2922324\ttotal: 347ms\tremaining: 2.8s\n",
      "11:\tlearn: 3788.1255486\ttotal: 379ms\tremaining: 2.78s\n",
      "12:\tlearn: 3765.2014278\ttotal: 407ms\tremaining: 2.72s\n",
      "13:\tlearn: 3742.8622802\ttotal: 434ms\tremaining: 2.67s\n",
      "14:\tlearn: 3720.5418671\ttotal: 466ms\tremaining: 2.64s\n",
      "15:\tlearn: 3698.3941718\ttotal: 494ms\tremaining: 2.59s\n",
      "16:\tlearn: 3676.5946651\ttotal: 523ms\tremaining: 2.55s\n",
      "17:\tlearn: 3655.8314239\ttotal: 554ms\tremaining: 2.52s\n",
      "18:\tlearn: 3635.4113532\ttotal: 583ms\tremaining: 2.49s\n",
      "19:\tlearn: 3614.9624357\ttotal: 611ms\tremaining: 2.44s\n",
      "20:\tlearn: 3594.5059456\ttotal: 640ms\tremaining: 2.41s\n",
      "21:\tlearn: 3573.9248001\ttotal: 673ms\tremaining: 2.39s\n",
      "22:\tlearn: 3553.5660836\ttotal: 702ms\tremaining: 2.35s\n",
      "23:\tlearn: 3533.7022063\ttotal: 731ms\tremaining: 2.31s\n",
      "24:\tlearn: 3513.7189613\ttotal: 766ms\tremaining: 2.3s\n",
      "25:\tlearn: 3494.9180045\ttotal: 794ms\tremaining: 2.26s\n",
      "26:\tlearn: 3476.1273385\ttotal: 821ms\tremaining: 2.22s\n",
      "27:\tlearn: 3457.9201834\ttotal: 854ms\tremaining: 2.2s\n",
      "28:\tlearn: 3438.7397660\ttotal: 885ms\tremaining: 2.17s\n",
      "29:\tlearn: 3419.9169899\ttotal: 917ms\tremaining: 2.14s\n",
      "30:\tlearn: 3401.4156631\ttotal: 951ms\tremaining: 2.12s\n",
      "31:\tlearn: 3383.6737410\ttotal: 979ms\tremaining: 2.08s\n",
      "32:\tlearn: 3366.0492495\ttotal: 1.01s\tremaining: 2.04s\n",
      "33:\tlearn: 3348.1175454\ttotal: 1.03s\tremaining: 2.01s\n",
      "34:\tlearn: 3330.9030683\ttotal: 1.07s\tremaining: 1.98s\n",
      "35:\tlearn: 3313.5634943\ttotal: 1.1s\tremaining: 1.95s\n",
      "36:\tlearn: 3296.1011466\ttotal: 1.13s\tremaining: 1.92s\n",
      "37:\tlearn: 3279.2366374\ttotal: 1.16s\tremaining: 1.9s\n",
      "38:\tlearn: 3262.8903141\ttotal: 1.19s\tremaining: 1.86s\n",
      "39:\tlearn: 3246.3240025\ttotal: 1.22s\tremaining: 1.83s\n",
      "40:\tlearn: 3229.7483599\ttotal: 1.26s\tremaining: 1.81s\n",
      "41:\tlearn: 3214.2113624\ttotal: 1.29s\tremaining: 1.78s\n",
      "42:\tlearn: 3198.0820870\ttotal: 1.32s\tremaining: 1.75s\n",
      "43:\tlearn: 3182.0113901\ttotal: 1.35s\tremaining: 1.72s\n",
      "44:\tlearn: 3166.4228729\ttotal: 1.38s\tremaining: 1.69s\n",
      "45:\tlearn: 3151.6114161\ttotal: 1.41s\tremaining: 1.66s\n",
      "46:\tlearn: 3136.8838873\ttotal: 1.45s\tremaining: 1.63s\n",
      "47:\tlearn: 3122.1133613\ttotal: 1.48s\tremaining: 1.6s\n",
      "48:\tlearn: 3107.2535296\ttotal: 1.51s\tremaining: 1.57s\n",
      "49:\tlearn: 3092.6114512\ttotal: 1.54s\tremaining: 1.54s\n",
      "50:\tlearn: 3078.3049279\ttotal: 1.57s\tremaining: 1.51s\n",
      "51:\tlearn: 3063.8221503\ttotal: 1.6s\tremaining: 1.48s\n",
      "52:\tlearn: 3050.0382545\ttotal: 1.64s\tremaining: 1.45s\n",
      "53:\tlearn: 3036.0254214\ttotal: 1.67s\tremaining: 1.42s\n",
      "54:\tlearn: 3022.8046121\ttotal: 1.7s\tremaining: 1.39s\n",
      "55:\tlearn: 3009.0542775\ttotal: 1.73s\tremaining: 1.36s\n",
      "56:\tlearn: 2996.0008603\ttotal: 1.76s\tremaining: 1.33s\n",
      "57:\tlearn: 2983.2221937\ttotal: 1.79s\tremaining: 1.3s\n",
      "58:\tlearn: 2970.1383647\ttotal: 1.83s\tremaining: 1.27s\n",
      "59:\tlearn: 2957.2096077\ttotal: 1.86s\tremaining: 1.24s\n",
      "60:\tlearn: 2944.6440010\ttotal: 1.89s\tremaining: 1.21s\n",
      "61:\tlearn: 2931.6628638\ttotal: 1.92s\tremaining: 1.17s\n",
      "62:\tlearn: 2919.8657058\ttotal: 1.95s\tremaining: 1.14s\n",
      "63:\tlearn: 2908.1694344\ttotal: 1.98s\tremaining: 1.11s\n",
      "64:\tlearn: 2896.0495843\ttotal: 2.01s\tremaining: 1.08s\n",
      "65:\tlearn: 2884.6927123\ttotal: 2.04s\tremaining: 1.05s\n",
      "66:\tlearn: 2873.0086709\ttotal: 2.07s\tremaining: 1.02s\n",
      "67:\tlearn: 2861.1586868\ttotal: 2.1s\tremaining: 989ms\n",
      "68:\tlearn: 2849.2735242\ttotal: 2.13s\tremaining: 959ms\n",
      "69:\tlearn: 2838.2593892\ttotal: 2.16s\tremaining: 927ms\n",
      "70:\tlearn: 2827.4245765\ttotal: 2.19s\tremaining: 896ms\n",
      "71:\tlearn: 2816.5161005\ttotal: 2.23s\tremaining: 869ms\n",
      "72:\tlearn: 2805.6361040\ttotal: 2.27s\tremaining: 838ms\n",
      "73:\tlearn: 2794.9172607\ttotal: 2.29s\tremaining: 806ms\n",
      "74:\tlearn: 2784.3799472\ttotal: 2.33s\tremaining: 776ms\n",
      "75:\tlearn: 2774.0503156\ttotal: 2.36s\tremaining: 744ms\n",
      "76:\tlearn: 2763.9281437\ttotal: 2.39s\tremaining: 713ms\n",
      "77:\tlearn: 2754.1805048\ttotal: 2.42s\tremaining: 682ms\n",
      "78:\tlearn: 2743.7209838\ttotal: 2.45s\tremaining: 651ms\n",
      "79:\tlearn: 2733.3420573\ttotal: 2.48s\tremaining: 620ms\n",
      "80:\tlearn: 2723.6541666\ttotal: 2.51s\tremaining: 589ms\n",
      "81:\tlearn: 2713.4483778\ttotal: 2.54s\tremaining: 558ms\n",
      "82:\tlearn: 2704.3877054\ttotal: 2.57s\tremaining: 526ms\n",
      "83:\tlearn: 2695.0350104\ttotal: 2.6s\tremaining: 495ms\n",
      "84:\tlearn: 2686.2462446\ttotal: 2.63s\tremaining: 465ms\n",
      "85:\tlearn: 2676.4710365\ttotal: 2.66s\tremaining: 433ms\n",
      "86:\tlearn: 2667.1264886\ttotal: 2.69s\tremaining: 402ms\n",
      "87:\tlearn: 2658.2578931\ttotal: 2.73s\tremaining: 372ms\n",
      "88:\tlearn: 2648.9749467\ttotal: 2.76s\tremaining: 341ms\n",
      "89:\tlearn: 2640.4888317\ttotal: 2.79s\tremaining: 310ms\n",
      "90:\tlearn: 2632.3015013\ttotal: 2.83s\tremaining: 279ms\n",
      "91:\tlearn: 2623.6128278\ttotal: 2.85s\tremaining: 248ms\n",
      "92:\tlearn: 2614.7362960\ttotal: 2.88s\tremaining: 217ms\n",
      "93:\tlearn: 2606.1201332\ttotal: 2.92s\tremaining: 186ms\n",
      "94:\tlearn: 2598.0404909\ttotal: 2.95s\tremaining: 155ms\n",
      "95:\tlearn: 2590.1651216\ttotal: 2.98s\tremaining: 124ms\n",
      "96:\tlearn: 2581.7377369\ttotal: 3.02s\tremaining: 93.3ms\n",
      "97:\tlearn: 2573.4438923\ttotal: 3.04s\tremaining: 62.1ms\n",
      "98:\tlearn: 2564.8388116\ttotal: 3.07s\tremaining: 31.1ms\n",
      "99:\tlearn: 2556.8138352\ttotal: 3.1s\tremaining: 0us\n",
      "0:\tlearn: 4050.3014561\ttotal: 33.9ms\tremaining: 3.35s\n",
      "1:\tlearn: 4024.1333460\ttotal: 68.6ms\tremaining: 3.36s\n",
      "2:\tlearn: 3998.5368872\ttotal: 101ms\tremaining: 3.26s\n",
      "3:\tlearn: 3973.8358502\ttotal: 133ms\tremaining: 3.19s\n",
      "4:\tlearn: 3948.8465007\ttotal: 162ms\tremaining: 3.07s\n",
      "5:\tlearn: 3924.0302836\ttotal: 190ms\tremaining: 2.97s\n",
      "6:\tlearn: 3899.6379393\ttotal: 217ms\tremaining: 2.89s\n",
      "7:\tlearn: 3875.4596057\ttotal: 246ms\tremaining: 2.83s\n",
      "8:\tlearn: 3852.1749538\ttotal: 273ms\tremaining: 2.76s\n",
      "9:\tlearn: 3828.8493832\ttotal: 300ms\tremaining: 2.7s\n",
      "10:\tlearn: 3805.6893157\ttotal: 331ms\tremaining: 2.68s\n",
      "11:\tlearn: 3782.7435565\ttotal: 358ms\tremaining: 2.63s\n",
      "12:\tlearn: 3760.2650291\ttotal: 390ms\tremaining: 2.61s\n",
      "13:\tlearn: 3738.1365107\ttotal: 425ms\tremaining: 2.61s\n",
      "14:\tlearn: 3716.5926985\ttotal: 453ms\tremaining: 2.57s\n",
      "15:\tlearn: 3695.0008125\ttotal: 481ms\tremaining: 2.52s\n",
      "16:\tlearn: 3673.0232829\ttotal: 515ms\tremaining: 2.52s\n",
      "17:\tlearn: 3651.7456058\ttotal: 543ms\tremaining: 2.47s\n",
      "18:\tlearn: 3631.5013343\ttotal: 571ms\tremaining: 2.44s\n",
      "19:\tlearn: 3610.5800666\ttotal: 600ms\tremaining: 2.4s\n",
      "20:\tlearn: 3589.9855661\ttotal: 631ms\tremaining: 2.37s\n",
      "21:\tlearn: 3570.2336404\ttotal: 658ms\tremaining: 2.33s\n",
      "22:\tlearn: 3550.3285077\ttotal: 686ms\tremaining: 2.3s\n",
      "23:\tlearn: 3530.4368384\ttotal: 720ms\tremaining: 2.28s\n",
      "24:\tlearn: 3510.8104012\ttotal: 749ms\tremaining: 2.25s\n",
      "25:\tlearn: 3491.4969055\ttotal: 778ms\tremaining: 2.21s\n",
      "26:\tlearn: 3472.0145874\ttotal: 812ms\tremaining: 2.19s\n",
      "27:\tlearn: 3453.1513539\ttotal: 842ms\tremaining: 2.17s\n",
      "28:\tlearn: 3434.7473826\ttotal: 872ms\tremaining: 2.13s\n",
      "29:\tlearn: 3416.8564537\ttotal: 904ms\tremaining: 2.11s\n",
      "30:\tlearn: 3398.6258184\ttotal: 934ms\tremaining: 2.08s\n",
      "31:\tlearn: 3379.7921490\ttotal: 966ms\tremaining: 2.05s\n",
      "32:\tlearn: 3362.4701075\ttotal: 999ms\tremaining: 2.03s\n",
      "33:\tlearn: 3344.2644019\ttotal: 1.03s\tremaining: 1.99s\n",
      "34:\tlearn: 3326.8971174\ttotal: 1.06s\tremaining: 1.96s\n",
      "35:\tlearn: 3310.3331992\ttotal: 1.09s\tremaining: 1.94s\n",
      "36:\tlearn: 3294.0448689\ttotal: 1.12s\tremaining: 1.91s\n",
      "37:\tlearn: 3277.6901309\ttotal: 1.15s\tremaining: 1.88s\n",
      "38:\tlearn: 3261.1330556\ttotal: 1.18s\tremaining: 1.85s\n",
      "39:\tlearn: 3244.8740827\ttotal: 1.21s\tremaining: 1.82s\n",
      "40:\tlearn: 3228.6998862\ttotal: 1.24s\tremaining: 1.79s\n",
      "41:\tlearn: 3213.3736731\ttotal: 1.27s\tremaining: 1.76s\n",
      "42:\tlearn: 3198.0410029\ttotal: 1.31s\tremaining: 1.73s\n",
      "43:\tlearn: 3182.7377604\ttotal: 1.33s\tremaining: 1.7s\n",
      "44:\tlearn: 3167.4999695\ttotal: 1.36s\tremaining: 1.67s\n",
      "45:\tlearn: 3151.7426264\ttotal: 1.4s\tremaining: 1.64s\n",
      "46:\tlearn: 3136.4846133\ttotal: 1.43s\tremaining: 1.61s\n",
      "47:\tlearn: 3122.3349458\ttotal: 1.46s\tremaining: 1.58s\n",
      "48:\tlearn: 3107.4767203\ttotal: 1.49s\tremaining: 1.55s\n",
      "49:\tlearn: 3092.9160765\ttotal: 1.52s\tremaining: 1.52s\n",
      "50:\tlearn: 3078.3556802\ttotal: 1.55s\tremaining: 1.49s\n",
      "51:\tlearn: 3064.0775816\ttotal: 1.58s\tremaining: 1.46s\n",
      "52:\tlearn: 3050.5248314\ttotal: 1.6s\tremaining: 1.42s\n",
      "53:\tlearn: 3037.1874602\ttotal: 1.63s\tremaining: 1.39s\n",
      "54:\tlearn: 3023.3176712\ttotal: 1.66s\tremaining: 1.36s\n",
      "55:\tlearn: 3010.4120533\ttotal: 1.69s\tremaining: 1.33s\n",
      "56:\tlearn: 2997.1222780\ttotal: 1.72s\tremaining: 1.3s\n",
      "57:\tlearn: 2984.0437374\ttotal: 1.75s\tremaining: 1.26s\n",
      "58:\tlearn: 2971.2556807\ttotal: 1.78s\tremaining: 1.24s\n",
      "59:\tlearn: 2958.3566500\ttotal: 1.81s\tremaining: 1.21s\n",
      "60:\tlearn: 2945.4737382\ttotal: 1.84s\tremaining: 1.17s\n",
      "61:\tlearn: 2933.2569109\ttotal: 1.86s\tremaining: 1.14s\n",
      "62:\tlearn: 2921.4628435\ttotal: 1.89s\tremaining: 1.11s\n",
      "63:\tlearn: 2909.5233671\ttotal: 1.92s\tremaining: 1.08s\n",
      "64:\tlearn: 2898.1523673\ttotal: 1.95s\tremaining: 1.05s\n",
      "65:\tlearn: 2886.4140718\ttotal: 1.99s\tremaining: 1.02s\n",
      "66:\tlearn: 2874.6048119\ttotal: 2.01s\tremaining: 991ms\n",
      "67:\tlearn: 2862.9461719\ttotal: 2.04s\tremaining: 960ms\n",
      "68:\tlearn: 2851.4741668\ttotal: 2.07s\tremaining: 930ms\n",
      "69:\tlearn: 2839.8472893\ttotal: 2.1s\tremaining: 899ms\n",
      "70:\tlearn: 2828.6795210\ttotal: 2.13s\tremaining: 868ms\n",
      "71:\tlearn: 2817.7421816\ttotal: 2.15s\tremaining: 837ms\n",
      "72:\tlearn: 2806.8547543\ttotal: 2.18s\tremaining: 808ms\n",
      "73:\tlearn: 2796.3361372\ttotal: 2.21s\tremaining: 777ms\n",
      "74:\tlearn: 2786.2667105\ttotal: 2.24s\tremaining: 746ms\n",
      "75:\tlearn: 2775.8695979\ttotal: 2.27s\tremaining: 716ms\n",
      "76:\tlearn: 2765.9151327\ttotal: 2.29s\tremaining: 686ms\n",
      "77:\tlearn: 2756.0291496\ttotal: 2.32s\tremaining: 656ms\n",
      "78:\tlearn: 2745.7547911\ttotal: 2.36s\tremaining: 628ms\n",
      "79:\tlearn: 2735.7023662\ttotal: 2.39s\tremaining: 598ms\n",
      "80:\tlearn: 2725.9293472\ttotal: 2.42s\tremaining: 567ms\n",
      "81:\tlearn: 2715.7444318\ttotal: 2.45s\tremaining: 537ms\n",
      "82:\tlearn: 2706.2536850\ttotal: 2.48s\tremaining: 507ms\n",
      "83:\tlearn: 2696.4744092\ttotal: 2.5s\tremaining: 477ms\n",
      "84:\tlearn: 2686.8924119\ttotal: 2.53s\tremaining: 447ms\n",
      "85:\tlearn: 2677.4224029\ttotal: 2.56s\tremaining: 418ms\n",
      "86:\tlearn: 2668.0567433\ttotal: 2.59s\tremaining: 387ms\n",
      "87:\tlearn: 2659.3258386\ttotal: 2.62s\tremaining: 357ms\n",
      "88:\tlearn: 2650.6810540\ttotal: 2.65s\tremaining: 327ms\n",
      "89:\tlearn: 2642.3064307\ttotal: 2.68s\tremaining: 297ms\n",
      "90:\tlearn: 2633.9661487\ttotal: 2.7s\tremaining: 267ms\n",
      "91:\tlearn: 2625.5255531\ttotal: 2.73s\tremaining: 237ms\n",
      "92:\tlearn: 2617.2430294\ttotal: 2.77s\tremaining: 208ms\n",
      "93:\tlearn: 2608.8335492\ttotal: 2.8s\tremaining: 179ms\n",
      "94:\tlearn: 2601.0682728\ttotal: 2.83s\tremaining: 149ms\n",
      "95:\tlearn: 2593.0509759\ttotal: 2.86s\tremaining: 119ms\n",
      "96:\tlearn: 2585.5876520\ttotal: 2.88s\tremaining: 89.2ms\n",
      "97:\tlearn: 2577.3183348\ttotal: 2.91s\tremaining: 59.4ms\n",
      "98:\tlearn: 2569.3297395\ttotal: 2.94s\tremaining: 29.7ms\n",
      "99:\tlearn: 2561.8717382\ttotal: 2.97s\tremaining: 0us\n",
      "0:\tlearn: 3948.6449731\ttotal: 39.2ms\tremaining: 3.88s\n",
      "1:\tlearn: 3827.5305295\ttotal: 73ms\tremaining: 3.58s\n",
      "2:\tlearn: 3715.3684591\ttotal: 101ms\tremaining: 3.27s\n",
      "3:\tlearn: 3608.5267100\ttotal: 134ms\tremaining: 3.22s\n",
      "4:\tlearn: 3511.1243266\ttotal: 172ms\tremaining: 3.28s\n",
      "5:\tlearn: 3414.9526486\ttotal: 209ms\tremaining: 3.27s\n",
      "6:\tlearn: 3322.7603489\ttotal: 242ms\tremaining: 3.21s\n",
      "7:\tlearn: 3236.6626797\ttotal: 270ms\tremaining: 3.1s\n",
      "8:\tlearn: 3155.3791707\ttotal: 298ms\tremaining: 3.01s\n",
      "9:\tlearn: 3081.2987028\ttotal: 332ms\tremaining: 2.98s\n",
      "10:\tlearn: 3010.9439321\ttotal: 360ms\tremaining: 2.92s\n",
      "11:\tlearn: 2945.8617631\ttotal: 387ms\tremaining: 2.84s\n",
      "12:\tlearn: 2884.3019674\ttotal: 415ms\tremaining: 2.78s\n",
      "13:\tlearn: 2826.4289601\ttotal: 448ms\tremaining: 2.75s\n",
      "14:\tlearn: 2773.1929015\ttotal: 476ms\tremaining: 2.7s\n",
      "15:\tlearn: 2719.9489712\ttotal: 508ms\tremaining: 2.67s\n",
      "16:\tlearn: 2671.9668961\ttotal: 542ms\tremaining: 2.65s\n",
      "17:\tlearn: 2625.8196252\ttotal: 569ms\tremaining: 2.59s\n",
      "18:\tlearn: 2585.2841767\ttotal: 596ms\tremaining: 2.54s\n",
      "19:\tlearn: 2545.3141917\ttotal: 628ms\tremaining: 2.51s\n",
      "20:\tlearn: 2506.3627912\ttotal: 656ms\tremaining: 2.47s\n",
      "21:\tlearn: 2469.3792472\ttotal: 686ms\tremaining: 2.43s\n",
      "22:\tlearn: 2430.1697039\ttotal: 725ms\tremaining: 2.43s\n",
      "23:\tlearn: 2396.3654417\ttotal: 756ms\tremaining: 2.39s\n",
      "24:\tlearn: 2364.4785994\ttotal: 788ms\tremaining: 2.36s\n",
      "25:\tlearn: 2333.9091602\ttotal: 819ms\tremaining: 2.33s\n",
      "26:\tlearn: 2305.1514988\ttotal: 847ms\tremaining: 2.29s\n",
      "27:\tlearn: 2277.3670938\ttotal: 875ms\tremaining: 2.25s\n",
      "28:\tlearn: 2250.9993772\ttotal: 905ms\tremaining: 2.22s\n",
      "29:\tlearn: 2227.9438888\ttotal: 937ms\tremaining: 2.19s\n",
      "30:\tlearn: 2205.6331327\ttotal: 964ms\tremaining: 2.15s\n",
      "31:\tlearn: 2183.6784728\ttotal: 993ms\tremaining: 2.11s\n",
      "32:\tlearn: 2163.2555769\ttotal: 1.03s\tremaining: 2.09s\n",
      "33:\tlearn: 2144.3374222\ttotal: 1.06s\tremaining: 2.06s\n",
      "34:\tlearn: 2126.2415937\ttotal: 1.09s\tremaining: 2.03s\n",
      "35:\tlearn: 2108.6043265\ttotal: 1.13s\tremaining: 2s\n",
      "36:\tlearn: 2092.4942710\ttotal: 1.16s\tremaining: 1.97s\n",
      "37:\tlearn: 2077.0833537\ttotal: 1.19s\tremaining: 1.94s\n",
      "38:\tlearn: 2064.1092204\ttotal: 1.22s\tremaining: 1.91s\n",
      "39:\tlearn: 2051.5313506\ttotal: 1.25s\tremaining: 1.87s\n",
      "40:\tlearn: 2037.8673645\ttotal: 1.27s\tremaining: 1.83s\n",
      "41:\tlearn: 2023.9982653\ttotal: 1.3s\tremaining: 1.8s\n",
      "42:\tlearn: 2011.3225129\ttotal: 1.33s\tremaining: 1.77s\n",
      "43:\tlearn: 1996.6151392\ttotal: 1.36s\tremaining: 1.74s\n",
      "44:\tlearn: 1984.0284195\ttotal: 1.39s\tremaining: 1.7s\n",
      "45:\tlearn: 1972.3220904\ttotal: 1.42s\tremaining: 1.67s\n",
      "46:\tlearn: 1960.4000218\ttotal: 1.45s\tremaining: 1.63s\n",
      "47:\tlearn: 1950.1374070\ttotal: 1.47s\tremaining: 1.6s\n",
      "48:\tlearn: 1940.4537203\ttotal: 1.51s\tremaining: 1.57s\n",
      "49:\tlearn: 1930.3919475\ttotal: 1.53s\tremaining: 1.53s\n",
      "50:\tlearn: 1921.7747006\ttotal: 1.56s\tremaining: 1.5s\n",
      "51:\tlearn: 1913.6941076\ttotal: 1.59s\tremaining: 1.47s\n",
      "52:\tlearn: 1905.5471474\ttotal: 1.62s\tremaining: 1.44s\n",
      "53:\tlearn: 1898.5516702\ttotal: 1.65s\tremaining: 1.41s\n",
      "54:\tlearn: 1890.9775575\ttotal: 1.68s\tremaining: 1.37s\n",
      "55:\tlearn: 1884.1864077\ttotal: 1.71s\tremaining: 1.34s\n",
      "56:\tlearn: 1877.8441041\ttotal: 1.74s\tremaining: 1.31s\n",
      "57:\tlearn: 1872.2924061\ttotal: 1.78s\tremaining: 1.29s\n",
      "58:\tlearn: 1866.7349622\ttotal: 1.81s\tremaining: 1.26s\n",
      "59:\tlearn: 1861.6657631\ttotal: 1.84s\tremaining: 1.23s\n",
      "60:\tlearn: 1856.7832329\ttotal: 1.88s\tremaining: 1.2s\n",
      "61:\tlearn: 1851.6358312\ttotal: 1.91s\tremaining: 1.17s\n",
      "62:\tlearn: 1847.1832171\ttotal: 1.94s\tremaining: 1.14s\n",
      "63:\tlearn: 1842.9331241\ttotal: 1.97s\tremaining: 1.1s\n",
      "64:\tlearn: 1839.1428371\ttotal: 2s\tremaining: 1.07s\n",
      "65:\tlearn: 1835.4245789\ttotal: 2.02s\tremaining: 1.04s\n",
      "66:\tlearn: 1831.2129650\ttotal: 2.06s\tremaining: 1.01s\n",
      "67:\tlearn: 1827.9554549\ttotal: 2.09s\tremaining: 983ms\n",
      "68:\tlearn: 1824.3676244\ttotal: 2.12s\tremaining: 951ms\n",
      "69:\tlearn: 1821.8312327\ttotal: 2.14s\tremaining: 918ms\n",
      "70:\tlearn: 1818.2410426\ttotal: 2.18s\tremaining: 889ms\n",
      "71:\tlearn: 1814.8341809\ttotal: 2.2s\tremaining: 857ms\n",
      "72:\tlearn: 1811.6892011\ttotal: 2.23s\tremaining: 826ms\n",
      "73:\tlearn: 1808.3000402\ttotal: 2.26s\tremaining: 795ms\n",
      "74:\tlearn: 1805.4691501\ttotal: 2.29s\tremaining: 765ms\n",
      "75:\tlearn: 1802.8160604\ttotal: 2.32s\tremaining: 734ms\n",
      "76:\tlearn: 1799.8594359\ttotal: 2.35s\tremaining: 703ms\n",
      "77:\tlearn: 1796.7951464\ttotal: 2.38s\tremaining: 672ms\n",
      "78:\tlearn: 1794.4072748\ttotal: 2.41s\tremaining: 641ms\n",
      "79:\tlearn: 1792.0235115\ttotal: 2.44s\tremaining: 610ms\n",
      "80:\tlearn: 1789.2883165\ttotal: 2.47s\tremaining: 580ms\n",
      "81:\tlearn: 1786.3867075\ttotal: 2.5s\tremaining: 549ms\n",
      "82:\tlearn: 1783.9380858\ttotal: 2.53s\tremaining: 518ms\n",
      "83:\tlearn: 1781.9553803\ttotal: 2.56s\tremaining: 489ms\n",
      "84:\tlearn: 1779.5417480\ttotal: 2.59s\tremaining: 458ms\n",
      "85:\tlearn: 1777.4845359\ttotal: 2.62s\tremaining: 427ms\n",
      "86:\tlearn: 1775.6836630\ttotal: 2.66s\tremaining: 397ms\n",
      "87:\tlearn: 1774.1715957\ttotal: 2.69s\tremaining: 367ms\n",
      "88:\tlearn: 1771.5917442\ttotal: 2.72s\tremaining: 336ms\n",
      "89:\tlearn: 1770.4205759\ttotal: 2.75s\tremaining: 306ms\n",
      "90:\tlearn: 1768.9319508\ttotal: 2.78s\tremaining: 275ms\n",
      "91:\tlearn: 1766.6746195\ttotal: 2.81s\tremaining: 244ms\n",
      "92:\tlearn: 1764.7895827\ttotal: 2.84s\tremaining: 214ms\n",
      "93:\tlearn: 1762.8436690\ttotal: 2.87s\tremaining: 183ms\n",
      "94:\tlearn: 1761.3386321\ttotal: 2.9s\tremaining: 153ms\n",
      "95:\tlearn: 1759.5803573\ttotal: 2.93s\tremaining: 122ms\n",
      "96:\tlearn: 1757.5372568\ttotal: 2.96s\tremaining: 91.6ms\n",
      "97:\tlearn: 1755.9748059\ttotal: 2.99s\tremaining: 61.1ms\n",
      "98:\tlearn: 1754.4357960\ttotal: 3.02s\tremaining: 30.5ms\n",
      "99:\tlearn: 1752.6459777\ttotal: 3.06s\tremaining: 0us\n",
      "0:\tlearn: 3947.1874446\ttotal: 39.7ms\tremaining: 3.93s\n",
      "1:\tlearn: 3826.5577286\ttotal: 73.4ms\tremaining: 3.6s\n",
      "2:\tlearn: 3711.4691604\ttotal: 107ms\tremaining: 3.46s\n",
      "3:\tlearn: 3603.1784632\ttotal: 139ms\tremaining: 3.34s\n",
      "4:\tlearn: 3499.3832370\ttotal: 168ms\tremaining: 3.19s\n",
      "5:\tlearn: 3403.7754071\ttotal: 196ms\tremaining: 3.06s\n",
      "6:\tlearn: 3313.5777700\ttotal: 229ms\tremaining: 3.04s\n",
      "7:\tlearn: 3230.8022227\ttotal: 256ms\tremaining: 2.94s\n",
      "8:\tlearn: 3152.9394440\ttotal: 282ms\tremaining: 2.85s\n",
      "9:\tlearn: 3077.8339103\ttotal: 314ms\tremaining: 2.83s\n",
      "10:\tlearn: 3006.1941256\ttotal: 342ms\tremaining: 2.76s\n",
      "11:\tlearn: 2941.2063134\ttotal: 370ms\tremaining: 2.72s\n",
      "12:\tlearn: 2879.7108091\ttotal: 398ms\tremaining: 2.66s\n",
      "13:\tlearn: 2820.2437652\ttotal: 432ms\tremaining: 2.66s\n",
      "14:\tlearn: 2765.8192013\ttotal: 460ms\tremaining: 2.61s\n",
      "15:\tlearn: 2715.9965418\ttotal: 488ms\tremaining: 2.56s\n",
      "16:\tlearn: 2669.2167451\ttotal: 520ms\tremaining: 2.54s\n",
      "17:\tlearn: 2624.0172004\ttotal: 548ms\tremaining: 2.5s\n",
      "18:\tlearn: 2584.2620567\ttotal: 575ms\tremaining: 2.45s\n",
      "19:\tlearn: 2545.4513753\ttotal: 609ms\tremaining: 2.44s\n",
      "20:\tlearn: 2502.1609177\ttotal: 639ms\tremaining: 2.4s\n",
      "21:\tlearn: 2461.2120422\ttotal: 666ms\tremaining: 2.36s\n",
      "22:\tlearn: 2423.6972885\ttotal: 697ms\tremaining: 2.33s\n",
      "23:\tlearn: 2389.3855382\ttotal: 724ms\tremaining: 2.29s\n",
      "24:\tlearn: 2357.5775449\ttotal: 752ms\tremaining: 2.25s\n",
      "25:\tlearn: 2326.7854997\ttotal: 778ms\tremaining: 2.21s\n",
      "26:\tlearn: 2298.6139235\ttotal: 808ms\tremaining: 2.18s\n",
      "27:\tlearn: 2271.9970574\ttotal: 834ms\tremaining: 2.15s\n",
      "28:\tlearn: 2246.5730004\ttotal: 863ms\tremaining: 2.11s\n",
      "29:\tlearn: 2221.3605195\ttotal: 901ms\tremaining: 2.1s\n",
      "30:\tlearn: 2198.9399960\ttotal: 928ms\tremaining: 2.06s\n",
      "31:\tlearn: 2178.7120451\ttotal: 954ms\tremaining: 2.03s\n",
      "32:\tlearn: 2159.9131071\ttotal: 981ms\tremaining: 1.99s\n",
      "33:\tlearn: 2140.1130792\ttotal: 1.01s\tremaining: 1.96s\n",
      "34:\tlearn: 2122.7467045\ttotal: 1.04s\tremaining: 1.93s\n",
      "35:\tlearn: 2107.0319606\ttotal: 1.06s\tremaining: 1.9s\n",
      "36:\tlearn: 2091.4812020\ttotal: 1.1s\tremaining: 1.87s\n",
      "37:\tlearn: 2077.6215674\ttotal: 1.12s\tremaining: 1.83s\n",
      "38:\tlearn: 2064.7868285\ttotal: 1.15s\tremaining: 1.8s\n",
      "39:\tlearn: 2050.7782658\ttotal: 1.18s\tremaining: 1.77s\n",
      "40:\tlearn: 2038.0267008\ttotal: 1.21s\tremaining: 1.74s\n",
      "41:\tlearn: 2024.0582743\ttotal: 1.24s\tremaining: 1.71s\n",
      "42:\tlearn: 2011.3809616\ttotal: 1.27s\tremaining: 1.68s\n",
      "43:\tlearn: 1996.7631333\ttotal: 1.3s\tremaining: 1.65s\n",
      "44:\tlearn: 1983.7396864\ttotal: 1.32s\tremaining: 1.62s\n",
      "45:\tlearn: 1972.2101911\ttotal: 1.35s\tremaining: 1.59s\n",
      "46:\tlearn: 1959.5672521\ttotal: 1.39s\tremaining: 1.56s\n",
      "47:\tlearn: 1948.9754633\ttotal: 1.41s\tremaining: 1.53s\n",
      "48:\tlearn: 1938.9252308\ttotal: 1.44s\tremaining: 1.5s\n",
      "49:\tlearn: 1928.4406615\ttotal: 1.48s\tremaining: 1.48s\n",
      "50:\tlearn: 1919.6290040\ttotal: 1.5s\tremaining: 1.45s\n",
      "51:\tlearn: 1911.6917458\ttotal: 1.53s\tremaining: 1.41s\n",
      "52:\tlearn: 1904.4390421\ttotal: 1.56s\tremaining: 1.39s\n",
      "53:\tlearn: 1896.9401757\ttotal: 1.6s\tremaining: 1.36s\n",
      "54:\tlearn: 1890.7330141\ttotal: 1.62s\tremaining: 1.33s\n",
      "55:\tlearn: 1884.5822464\ttotal: 1.65s\tremaining: 1.3s\n",
      "56:\tlearn: 1878.5131522\ttotal: 1.69s\tremaining: 1.27s\n",
      "57:\tlearn: 1872.6675297\ttotal: 1.71s\tremaining: 1.24s\n",
      "58:\tlearn: 1866.9279555\ttotal: 1.74s\tremaining: 1.21s\n",
      "59:\tlearn: 1861.8704523\ttotal: 1.77s\tremaining: 1.18s\n",
      "60:\tlearn: 1856.4850630\ttotal: 1.8s\tremaining: 1.15s\n",
      "61:\tlearn: 1851.1182556\ttotal: 1.83s\tremaining: 1.12s\n",
      "62:\tlearn: 1846.2111022\ttotal: 1.86s\tremaining: 1.09s\n",
      "63:\tlearn: 1842.1465210\ttotal: 1.89s\tremaining: 1.06s\n",
      "64:\tlearn: 1838.1336479\ttotal: 1.92s\tremaining: 1.03s\n",
      "65:\tlearn: 1833.8477283\ttotal: 1.95s\tremaining: 1s\n",
      "66:\tlearn: 1829.5914425\ttotal: 1.98s\tremaining: 975ms\n",
      "67:\tlearn: 1825.8526885\ttotal: 2.01s\tremaining: 944ms\n",
      "68:\tlearn: 1821.4228537\ttotal: 2.03s\tremaining: 914ms\n",
      "69:\tlearn: 1817.8401967\ttotal: 2.07s\tremaining: 886ms\n",
      "70:\tlearn: 1814.5708637\ttotal: 2.1s\tremaining: 856ms\n",
      "71:\tlearn: 1810.8297421\ttotal: 2.12s\tremaining: 826ms\n",
      "72:\tlearn: 1807.8798648\ttotal: 2.15s\tremaining: 797ms\n",
      "73:\tlearn: 1805.3264698\ttotal: 2.19s\tremaining: 768ms\n",
      "74:\tlearn: 1802.5604146\ttotal: 2.21s\tremaining: 738ms\n",
      "75:\tlearn: 1799.4913067\ttotal: 2.24s\tremaining: 708ms\n",
      "76:\tlearn: 1796.1844917\ttotal: 2.27s\tremaining: 679ms\n",
      "77:\tlearn: 1792.4227449\ttotal: 2.3s\tremaining: 649ms\n",
      "78:\tlearn: 1790.2605760\ttotal: 2.33s\tremaining: 619ms\n",
      "79:\tlearn: 1787.6468363\ttotal: 2.36s\tremaining: 591ms\n",
      "80:\tlearn: 1785.1548186\ttotal: 2.39s\tremaining: 561ms\n",
      "81:\tlearn: 1782.7527259\ttotal: 2.42s\tremaining: 531ms\n",
      "82:\tlearn: 1780.2661925\ttotal: 2.45s\tremaining: 502ms\n",
      "83:\tlearn: 1777.7796995\ttotal: 2.48s\tremaining: 472ms\n",
      "84:\tlearn: 1775.9218365\ttotal: 2.51s\tremaining: 443ms\n",
      "85:\tlearn: 1773.9454818\ttotal: 2.54s\tremaining: 414ms\n",
      "86:\tlearn: 1771.3473402\ttotal: 2.58s\tremaining: 385ms\n",
      "87:\tlearn: 1769.2026501\ttotal: 2.6s\tremaining: 355ms\n",
      "88:\tlearn: 1766.5300822\ttotal: 2.63s\tremaining: 326ms\n",
      "89:\tlearn: 1764.4137489\ttotal: 2.67s\tremaining: 297ms\n",
      "90:\tlearn: 1760.9168772\ttotal: 2.7s\tremaining: 267ms\n",
      "91:\tlearn: 1758.7176147\ttotal: 2.73s\tremaining: 237ms\n",
      "92:\tlearn: 1755.9359582\ttotal: 2.76s\tremaining: 208ms\n",
      "93:\tlearn: 1754.2598136\ttotal: 2.79s\tremaining: 178ms\n",
      "94:\tlearn: 1751.6523919\ttotal: 2.83s\tremaining: 149ms\n",
      "95:\tlearn: 1748.7192525\ttotal: 2.86s\tremaining: 119ms\n",
      "96:\tlearn: 1747.1944360\ttotal: 2.89s\tremaining: 89.4ms\n",
      "97:\tlearn: 1744.4110904\ttotal: 2.93s\tremaining: 59.8ms\n",
      "98:\tlearn: 1742.7725673\ttotal: 2.96s\tremaining: 29.9ms\n",
      "99:\tlearn: 1740.6865171\ttotal: 2.99s\tremaining: 0us\n",
      "0:\tlearn: 3822.0759202\ttotal: 40.6ms\tremaining: 4.02s\n",
      "1:\tlearn: 3596.3123919\ttotal: 74.1ms\tremaining: 3.63s\n",
      "2:\tlearn: 3394.5360394\ttotal: 106ms\tremaining: 3.42s\n",
      "3:\tlearn: 3223.5546019\ttotal: 140ms\tremaining: 3.37s\n",
      "4:\tlearn: 3073.1149457\ttotal: 168ms\tremaining: 3.19s\n",
      "5:\tlearn: 2932.0186411\ttotal: 197ms\tremaining: 3.08s\n",
      "6:\tlearn: 2810.2688632\ttotal: 227ms\tremaining: 3.02s\n",
      "7:\tlearn: 2700.1327498\ttotal: 259ms\tremaining: 2.98s\n",
      "8:\tlearn: 2608.1544887\ttotal: 288ms\tremaining: 2.91s\n",
      "9:\tlearn: 2526.2041954\ttotal: 320ms\tremaining: 2.88s\n",
      "10:\tlearn: 2449.6623259\ttotal: 348ms\tremaining: 2.81s\n",
      "11:\tlearn: 2376.5977894\ttotal: 377ms\tremaining: 2.76s\n",
      "12:\tlearn: 2313.0150879\ttotal: 408ms\tremaining: 2.73s\n",
      "13:\tlearn: 2261.7976794\ttotal: 434ms\tremaining: 2.67s\n",
      "14:\tlearn: 2212.8294029\ttotal: 461ms\tremaining: 2.61s\n",
      "15:\tlearn: 2169.8735519\ttotal: 488ms\tremaining: 2.56s\n",
      "16:\tlearn: 2133.2206274\ttotal: 519ms\tremaining: 2.54s\n",
      "17:\tlearn: 2100.2088577\ttotal: 546ms\tremaining: 2.49s\n",
      "18:\tlearn: 2073.5898281\ttotal: 572ms\tremaining: 2.44s\n",
      "19:\tlearn: 2049.6877337\ttotal: 604ms\tremaining: 2.42s\n",
      "20:\tlearn: 2023.2332036\ttotal: 631ms\tremaining: 2.37s\n",
      "21:\tlearn: 2000.0686709\ttotal: 659ms\tremaining: 2.34s\n",
      "22:\tlearn: 1977.2325184\ttotal: 692ms\tremaining: 2.32s\n",
      "23:\tlearn: 1953.3787829\ttotal: 720ms\tremaining: 2.28s\n",
      "24:\tlearn: 1930.8343374\ttotal: 746ms\tremaining: 2.24s\n",
      "25:\tlearn: 1915.4902372\ttotal: 773ms\tremaining: 2.2s\n",
      "26:\tlearn: 1900.2425795\ttotal: 808ms\tremaining: 2.18s\n",
      "27:\tlearn: 1886.7559680\ttotal: 835ms\tremaining: 2.15s\n",
      "28:\tlearn: 1875.3116784\ttotal: 865ms\tremaining: 2.12s\n",
      "29:\tlearn: 1865.4978154\ttotal: 897ms\tremaining: 2.09s\n",
      "30:\tlearn: 1855.2430280\ttotal: 926ms\tremaining: 2.06s\n",
      "31:\tlearn: 1846.5298800\ttotal: 955ms\tremaining: 2.03s\n",
      "32:\tlearn: 1836.6069497\ttotal: 985ms\tremaining: 2s\n",
      "33:\tlearn: 1828.3925449\ttotal: 1.01s\tremaining: 1.97s\n",
      "34:\tlearn: 1821.6422304\ttotal: 1.04s\tremaining: 1.94s\n",
      "35:\tlearn: 1815.9569122\ttotal: 1.08s\tremaining: 1.92s\n",
      "36:\tlearn: 1811.0018016\ttotal: 1.11s\tremaining: 1.89s\n",
      "37:\tlearn: 1804.7125937\ttotal: 1.14s\tremaining: 1.86s\n",
      "38:\tlearn: 1799.6797953\ttotal: 1.17s\tremaining: 1.83s\n",
      "39:\tlearn: 1792.5087296\ttotal: 1.2s\tremaining: 1.8s\n",
      "40:\tlearn: 1788.4138289\ttotal: 1.23s\tremaining: 1.77s\n",
      "41:\tlearn: 1783.3111958\ttotal: 1.26s\tremaining: 1.74s\n",
      "42:\tlearn: 1778.9882653\ttotal: 1.29s\tremaining: 1.71s\n",
      "43:\tlearn: 1774.9244973\ttotal: 1.32s\tremaining: 1.68s\n",
      "44:\tlearn: 1770.4237234\ttotal: 1.35s\tremaining: 1.65s\n",
      "45:\tlearn: 1765.5540531\ttotal: 1.38s\tremaining: 1.62s\n",
      "46:\tlearn: 1761.0770997\ttotal: 1.41s\tremaining: 1.59s\n",
      "47:\tlearn: 1758.2023663\ttotal: 1.44s\tremaining: 1.56s\n",
      "48:\tlearn: 1755.6322140\ttotal: 1.48s\tremaining: 1.54s\n",
      "49:\tlearn: 1753.2479795\ttotal: 1.5s\tremaining: 1.5s\n",
      "50:\tlearn: 1750.7682862\ttotal: 1.53s\tremaining: 1.48s\n",
      "51:\tlearn: 1748.5653919\ttotal: 1.57s\tremaining: 1.45s\n",
      "52:\tlearn: 1745.5508914\ttotal: 1.6s\tremaining: 1.42s\n",
      "53:\tlearn: 1742.3792585\ttotal: 1.63s\tremaining: 1.39s\n",
      "54:\tlearn: 1740.0321978\ttotal: 1.66s\tremaining: 1.36s\n",
      "55:\tlearn: 1737.6905388\ttotal: 1.69s\tremaining: 1.33s\n",
      "56:\tlearn: 1735.8945043\ttotal: 1.72s\tremaining: 1.3s\n",
      "57:\tlearn: 1733.7758126\ttotal: 1.75s\tremaining: 1.27s\n",
      "58:\tlearn: 1732.0985061\ttotal: 1.78s\tremaining: 1.24s\n",
      "59:\tlearn: 1730.0101192\ttotal: 1.81s\tremaining: 1.21s\n",
      "60:\tlearn: 1727.3543654\ttotal: 1.84s\tremaining: 1.18s\n",
      "61:\tlearn: 1725.8887783\ttotal: 1.87s\tremaining: 1.15s\n",
      "62:\tlearn: 1722.3936553\ttotal: 1.9s\tremaining: 1.12s\n",
      "63:\tlearn: 1720.9294998\ttotal: 1.93s\tremaining: 1.09s\n",
      "64:\tlearn: 1717.8502935\ttotal: 1.97s\tremaining: 1.06s\n",
      "65:\tlearn: 1713.7348482\ttotal: 1.99s\tremaining: 1.03s\n",
      "66:\tlearn: 1709.6577678\ttotal: 2.02s\tremaining: 998ms\n",
      "67:\tlearn: 1706.1358177\ttotal: 2.06s\tremaining: 969ms\n",
      "68:\tlearn: 1704.3545635\ttotal: 2.09s\tremaining: 939ms\n",
      "69:\tlearn: 1702.8871740\ttotal: 2.12s\tremaining: 910ms\n",
      "70:\tlearn: 1700.0722332\ttotal: 2.16s\tremaining: 883ms\n",
      "71:\tlearn: 1697.7817761\ttotal: 2.19s\tremaining: 853ms\n",
      "72:\tlearn: 1695.6106027\ttotal: 2.23s\tremaining: 823ms\n",
      "73:\tlearn: 1694.5585539\ttotal: 2.26s\tremaining: 795ms\n",
      "74:\tlearn: 1693.2412387\ttotal: 2.29s\tremaining: 765ms\n",
      "75:\tlearn: 1690.4664455\ttotal: 2.32s\tremaining: 734ms\n",
      "76:\tlearn: 1688.1302040\ttotal: 2.36s\tremaining: 705ms\n",
      "77:\tlearn: 1686.1593474\ttotal: 2.39s\tremaining: 675ms\n",
      "78:\tlearn: 1685.8200033\ttotal: 2.42s\tremaining: 644ms\n",
      "79:\tlearn: 1683.4749413\ttotal: 2.46s\tremaining: 616ms\n",
      "80:\tlearn: 1681.4596893\ttotal: 2.49s\tremaining: 585ms\n",
      "81:\tlearn: 1680.3485050\ttotal: 2.53s\tremaining: 555ms\n",
      "82:\tlearn: 1677.6356564\ttotal: 2.56s\tremaining: 525ms\n",
      "83:\tlearn: 1676.3596220\ttotal: 2.59s\tremaining: 494ms\n",
      "84:\tlearn: 1674.7226769\ttotal: 2.63s\tremaining: 464ms\n",
      "85:\tlearn: 1673.3067595\ttotal: 2.66s\tremaining: 433ms\n",
      "86:\tlearn: 1671.0598130\ttotal: 2.69s\tremaining: 402ms\n",
      "87:\tlearn: 1669.4908565\ttotal: 2.72s\tremaining: 371ms\n",
      "88:\tlearn: 1668.5623445\ttotal: 2.76s\tremaining: 341ms\n",
      "89:\tlearn: 1667.9028071\ttotal: 2.79s\tremaining: 310ms\n",
      "90:\tlearn: 1666.8225227\ttotal: 2.83s\tremaining: 280ms\n",
      "91:\tlearn: 1665.1106109\ttotal: 2.86s\tremaining: 249ms\n",
      "92:\tlearn: 1663.3614950\ttotal: 2.89s\tremaining: 218ms\n",
      "93:\tlearn: 1661.9442580\ttotal: 2.93s\tremaining: 187ms\n",
      "94:\tlearn: 1661.0726974\ttotal: 2.96s\tremaining: 156ms\n",
      "95:\tlearn: 1659.5773756\ttotal: 3s\tremaining: 125ms\n",
      "96:\tlearn: 1658.1986025\ttotal: 3.04s\tremaining: 94.2ms\n",
      "97:\tlearn: 1656.4399944\ttotal: 3.08s\tremaining: 62.8ms\n",
      "98:\tlearn: 1655.2730419\ttotal: 3.11s\tremaining: 31.4ms\n",
      "99:\tlearn: 1654.7605191\ttotal: 3.15s\tremaining: 0us\n",
      "0:\tlearn: 3820.6343023\ttotal: 38.9ms\tremaining: 3.85s\n",
      "1:\tlearn: 3596.5768100\ttotal: 77.2ms\tremaining: 3.78s\n",
      "2:\tlearn: 3394.6143671\ttotal: 115ms\tremaining: 3.72s\n",
      "3:\tlearn: 3218.9299195\ttotal: 146ms\tremaining: 3.51s\n",
      "4:\tlearn: 3061.4393151\ttotal: 178ms\tremaining: 3.38s\n",
      "5:\tlearn: 2929.4097229\ttotal: 216ms\tremaining: 3.38s\n",
      "6:\tlearn: 2809.7866225\ttotal: 254ms\tremaining: 3.38s\n",
      "7:\tlearn: 2709.0173017\ttotal: 301ms\tremaining: 3.46s\n",
      "8:\tlearn: 2608.2838239\ttotal: 334ms\tremaining: 3.38s\n",
      "9:\tlearn: 2529.4934134\ttotal: 369ms\tremaining: 3.32s\n",
      "10:\tlearn: 2446.9849819\ttotal: 402ms\tremaining: 3.25s\n",
      "11:\tlearn: 2371.5013956\ttotal: 431ms\tremaining: 3.16s\n",
      "12:\tlearn: 2310.8758594\ttotal: 461ms\tremaining: 3.08s\n",
      "13:\tlearn: 2252.1093996\ttotal: 494ms\tremaining: 3.04s\n",
      "14:\tlearn: 2202.1631793\ttotal: 524ms\tremaining: 2.97s\n",
      "15:\tlearn: 2159.9125672\ttotal: 553ms\tremaining: 2.9s\n",
      "16:\tlearn: 2124.2582642\ttotal: 587ms\tremaining: 2.87s\n",
      "17:\tlearn: 2090.7456299\ttotal: 617ms\tremaining: 2.81s\n",
      "18:\tlearn: 2062.8560289\ttotal: 647ms\tremaining: 2.76s\n",
      "19:\tlearn: 2036.4665230\ttotal: 682ms\tremaining: 2.73s\n",
      "20:\tlearn: 2013.4388924\ttotal: 712ms\tremaining: 2.68s\n",
      "21:\tlearn: 1990.1516011\ttotal: 742ms\tremaining: 2.63s\n",
      "22:\tlearn: 1970.1659488\ttotal: 776ms\tremaining: 2.6s\n",
      "23:\tlearn: 1944.8581146\ttotal: 807ms\tremaining: 2.55s\n",
      "24:\tlearn: 1923.3870415\ttotal: 837ms\tremaining: 2.51s\n",
      "25:\tlearn: 1904.9991982\ttotal: 870ms\tremaining: 2.48s\n",
      "26:\tlearn: 1889.5981164\ttotal: 900ms\tremaining: 2.43s\n",
      "27:\tlearn: 1878.7438602\ttotal: 930ms\tremaining: 2.39s\n",
      "28:\tlearn: 1867.5914993\ttotal: 967ms\tremaining: 2.37s\n",
      "29:\tlearn: 1857.1164216\ttotal: 998ms\tremaining: 2.33s\n",
      "30:\tlearn: 1846.4334432\ttotal: 1.03s\tremaining: 2.29s\n",
      "31:\tlearn: 1838.0184057\ttotal: 1.07s\tremaining: 2.27s\n",
      "32:\tlearn: 1829.5869637\ttotal: 1.1s\tremaining: 2.23s\n",
      "33:\tlearn: 1822.0191379\ttotal: 1.14s\tremaining: 2.21s\n",
      "34:\tlearn: 1811.9366964\ttotal: 1.17s\tremaining: 2.18s\n",
      "35:\tlearn: 1806.2228243\ttotal: 1.2s\tremaining: 2.14s\n",
      "36:\tlearn: 1801.6595784\ttotal: 1.23s\tremaining: 2.1s\n",
      "37:\tlearn: 1796.5602927\ttotal: 1.27s\tremaining: 2.07s\n",
      "38:\tlearn: 1791.6485388\ttotal: 1.3s\tremaining: 2.03s\n",
      "39:\tlearn: 1785.2837489\ttotal: 1.33s\tremaining: 2s\n",
      "40:\tlearn: 1778.7154157\ttotal: 1.37s\tremaining: 1.97s\n",
      "41:\tlearn: 1774.9582767\ttotal: 1.4s\tremaining: 1.93s\n",
      "42:\tlearn: 1770.4228166\ttotal: 1.43s\tremaining: 1.9s\n",
      "43:\tlearn: 1766.5738045\ttotal: 1.47s\tremaining: 1.87s\n",
      "44:\tlearn: 1762.9203966\ttotal: 1.5s\tremaining: 1.83s\n",
      "45:\tlearn: 1759.9666454\ttotal: 1.53s\tremaining: 1.8s\n",
      "46:\tlearn: 1756.2188130\ttotal: 1.57s\tremaining: 1.77s\n",
      "47:\tlearn: 1752.2685146\ttotal: 1.6s\tremaining: 1.73s\n",
      "48:\tlearn: 1749.4487134\ttotal: 1.63s\tremaining: 1.7s\n",
      "49:\tlearn: 1745.2733943\ttotal: 1.66s\tremaining: 1.66s\n",
      "50:\tlearn: 1742.3396202\ttotal: 1.7s\tremaining: 1.63s\n",
      "51:\tlearn: 1739.5823206\ttotal: 1.73s\tremaining: 1.59s\n",
      "52:\tlearn: 1735.8099541\ttotal: 1.76s\tremaining: 1.56s\n",
      "53:\tlearn: 1733.7903890\ttotal: 1.79s\tremaining: 1.53s\n",
      "54:\tlearn: 1730.7833822\ttotal: 1.82s\tremaining: 1.49s\n",
      "55:\tlearn: 1728.6132003\ttotal: 1.86s\tremaining: 1.46s\n",
      "56:\tlearn: 1723.0061776\ttotal: 1.89s\tremaining: 1.43s\n",
      "57:\tlearn: 1718.1559679\ttotal: 1.92s\tremaining: 1.39s\n",
      "58:\tlearn: 1714.5137147\ttotal: 1.96s\tremaining: 1.36s\n",
      "59:\tlearn: 1712.5615658\ttotal: 1.99s\tremaining: 1.33s\n",
      "60:\tlearn: 1710.8445723\ttotal: 2.02s\tremaining: 1.29s\n",
      "61:\tlearn: 1709.0990049\ttotal: 2.06s\tremaining: 1.26s\n",
      "62:\tlearn: 1706.5154161\ttotal: 2.09s\tremaining: 1.23s\n",
      "63:\tlearn: 1705.3402125\ttotal: 2.12s\tremaining: 1.19s\n",
      "64:\tlearn: 1702.3965686\ttotal: 2.16s\tremaining: 1.16s\n",
      "65:\tlearn: 1699.1113017\ttotal: 2.19s\tremaining: 1.13s\n",
      "66:\tlearn: 1696.8778973\ttotal: 2.23s\tremaining: 1.1s\n",
      "67:\tlearn: 1695.6325807\ttotal: 2.26s\tremaining: 1.06s\n",
      "68:\tlearn: 1694.0614245\ttotal: 2.29s\tremaining: 1.03s\n",
      "69:\tlearn: 1692.4430062\ttotal: 2.33s\tremaining: 1000ms\n",
      "70:\tlearn: 1690.9373894\ttotal: 2.37s\tremaining: 966ms\n",
      "71:\tlearn: 1688.1079370\ttotal: 2.4s\tremaining: 932ms\n",
      "72:\tlearn: 1687.0279964\ttotal: 2.43s\tremaining: 898ms\n",
      "73:\tlearn: 1685.9047774\ttotal: 2.46s\tremaining: 865ms\n",
      "74:\tlearn: 1684.2164730\ttotal: 2.49s\tremaining: 831ms\n",
      "75:\tlearn: 1682.8010917\ttotal: 2.52s\tremaining: 797ms\n",
      "76:\tlearn: 1680.1564549\ttotal: 2.56s\tremaining: 764ms\n",
      "77:\tlearn: 1677.8764248\ttotal: 2.59s\tremaining: 730ms\n",
      "78:\tlearn: 1676.1690184\ttotal: 2.62s\tremaining: 697ms\n",
      "79:\tlearn: 1675.0511831\ttotal: 2.66s\tremaining: 664ms\n",
      "80:\tlearn: 1672.9721448\ttotal: 2.69s\tremaining: 630ms\n",
      "81:\tlearn: 1671.4846394\ttotal: 2.72s\tremaining: 598ms\n",
      "82:\tlearn: 1670.3322320\ttotal: 2.75s\tremaining: 564ms\n",
      "83:\tlearn: 1668.8840413\ttotal: 2.79s\tremaining: 531ms\n",
      "84:\tlearn: 1666.3024211\ttotal: 2.83s\tremaining: 499ms\n",
      "85:\tlearn: 1665.3431099\ttotal: 2.86s\tremaining: 466ms\n",
      "86:\tlearn: 1663.8292559\ttotal: 2.89s\tremaining: 432ms\n",
      "87:\tlearn: 1661.5940679\ttotal: 2.93s\tremaining: 399ms\n",
      "88:\tlearn: 1660.9586790\ttotal: 2.96s\tremaining: 366ms\n",
      "89:\tlearn: 1658.7727936\ttotal: 2.99s\tremaining: 332ms\n",
      "90:\tlearn: 1657.1225808\ttotal: 3.03s\tremaining: 300ms\n",
      "91:\tlearn: 1655.4714622\ttotal: 3.06s\tremaining: 266ms\n",
      "92:\tlearn: 1654.2549735\ttotal: 3.1s\tremaining: 233ms\n",
      "93:\tlearn: 1653.1443988\ttotal: 3.14s\tremaining: 200ms\n",
      "94:\tlearn: 1651.9638696\ttotal: 3.17s\tremaining: 167ms\n",
      "95:\tlearn: 1650.8593711\ttotal: 3.2s\tremaining: 133ms\n",
      "96:\tlearn: 1649.5631897\ttotal: 3.23s\tremaining: 100ms\n",
      "97:\tlearn: 1647.9862910\ttotal: 3.27s\tremaining: 66.6ms\n",
      "98:\tlearn: 1647.4186848\ttotal: 3.3s\tremaining: 33.3ms\n",
      "99:\tlearn: 1646.2009446\ttotal: 3.33s\tremaining: 0us\n",
      "0:\tlearn: 4050.2921729\ttotal: 54.2ms\tremaining: 1.57s\n",
      "1:\tlearn: 4023.1036054\ttotal: 102ms\tremaining: 1.43s\n",
      "2:\tlearn: 3997.3130866\ttotal: 143ms\tremaining: 1.28s\n",
      "3:\tlearn: 3970.6186151\ttotal: 193ms\tremaining: 1.25s\n",
      "4:\tlearn: 3944.5420537\ttotal: 233ms\tremaining: 1.16s\n",
      "5:\tlearn: 3919.0461534\ttotal: 282ms\tremaining: 1.13s\n",
      "6:\tlearn: 3893.3105245\ttotal: 322ms\tremaining: 1.06s\n",
      "7:\tlearn: 3868.0092787\ttotal: 363ms\tremaining: 999ms\n",
      "8:\tlearn: 3842.6076479\ttotal: 405ms\tremaining: 944ms\n",
      "9:\tlearn: 3818.0512180\ttotal: 445ms\tremaining: 890ms\n",
      "10:\tlearn: 3793.5842563\ttotal: 489ms\tremaining: 845ms\n",
      "11:\tlearn: 3769.4592741\ttotal: 532ms\tremaining: 798ms\n",
      "12:\tlearn: 3745.3602687\ttotal: 580ms\tremaining: 759ms\n",
      "13:\tlearn: 3721.6848956\ttotal: 620ms\tremaining: 709ms\n",
      "14:\tlearn: 3698.3872733\ttotal: 660ms\tremaining: 660ms\n",
      "15:\tlearn: 3675.2731646\ttotal: 701ms\tremaining: 613ms\n",
      "16:\tlearn: 3652.4162397\ttotal: 741ms\tremaining: 567ms\n",
      "17:\tlearn: 3630.2597898\ttotal: 789ms\tremaining: 526ms\n",
      "18:\tlearn: 3607.7412155\ttotal: 830ms\tremaining: 480ms\n",
      "19:\tlearn: 3585.7820903\ttotal: 873ms\tremaining: 436ms\n",
      "20:\tlearn: 3564.2344334\ttotal: 913ms\tremaining: 391ms\n",
      "21:\tlearn: 3542.5962729\ttotal: 953ms\tremaining: 347ms\n",
      "22:\tlearn: 3521.2053500\ttotal: 994ms\tremaining: 303ms\n",
      "23:\tlearn: 3500.0167430\ttotal: 1.03s\tremaining: 258ms\n",
      "24:\tlearn: 3479.3110511\ttotal: 1.08s\tremaining: 215ms\n",
      "25:\tlearn: 3458.7047995\ttotal: 1.11s\tremaining: 171ms\n",
      "26:\tlearn: 3438.6825176\ttotal: 1.15s\tremaining: 128ms\n",
      "27:\tlearn: 3418.7236921\ttotal: 1.19s\tremaining: 85ms\n",
      "28:\tlearn: 3399.0693504\ttotal: 1.23s\tremaining: 42.3ms\n",
      "29:\tlearn: 3379.7420820\ttotal: 1.27s\tremaining: 0us\n",
      "0:\tlearn: 4048.8064661\ttotal: 41ms\tremaining: 1.19s\n",
      "1:\tlearn: 4021.6458406\ttotal: 88.4ms\tremaining: 1.24s\n",
      "2:\tlearn: 3994.6902244\ttotal: 132ms\tremaining: 1.19s\n",
      "3:\tlearn: 3968.0522026\ttotal: 173ms\tremaining: 1.12s\n",
      "4:\tlearn: 3941.6104807\ttotal: 209ms\tremaining: 1.04s\n",
      "5:\tlearn: 3915.8248778\ttotal: 244ms\tremaining: 977ms\n",
      "6:\tlearn: 3890.0121578\ttotal: 285ms\tremaining: 937ms\n",
      "7:\tlearn: 3864.8544136\ttotal: 323ms\tremaining: 887ms\n",
      "8:\tlearn: 3839.9594938\ttotal: 370ms\tremaining: 864ms\n",
      "9:\tlearn: 3815.6142965\ttotal: 410ms\tremaining: 821ms\n",
      "10:\tlearn: 3791.0250286\ttotal: 449ms\tremaining: 776ms\n",
      "11:\tlearn: 3767.1933067\ttotal: 488ms\tremaining: 732ms\n",
      "12:\tlearn: 3743.4580538\ttotal: 528ms\tremaining: 691ms\n",
      "13:\tlearn: 3720.1193367\ttotal: 569ms\tremaining: 650ms\n",
      "14:\tlearn: 3696.6437672\ttotal: 607ms\tremaining: 607ms\n",
      "15:\tlearn: 3673.7191059\ttotal: 643ms\tremaining: 563ms\n",
      "16:\tlearn: 3651.0565410\ttotal: 680ms\tremaining: 520ms\n",
      "17:\tlearn: 3628.8260746\ttotal: 718ms\tremaining: 478ms\n",
      "18:\tlearn: 3606.2041307\ttotal: 760ms\tremaining: 440ms\n",
      "19:\tlearn: 3584.2276540\ttotal: 796ms\tremaining: 398ms\n",
      "20:\tlearn: 3562.4429074\ttotal: 834ms\tremaining: 358ms\n",
      "21:\tlearn: 3540.9677196\ttotal: 872ms\tremaining: 317ms\n",
      "22:\tlearn: 3519.8003748\ttotal: 909ms\tremaining: 277ms\n",
      "23:\tlearn: 3498.9127223\ttotal: 950ms\tremaining: 238ms\n",
      "24:\tlearn: 3478.4458429\ttotal: 989ms\tremaining: 198ms\n",
      "25:\tlearn: 3458.1325784\ttotal: 1.03s\tremaining: 158ms\n",
      "26:\tlearn: 3437.9507111\ttotal: 1.06s\tremaining: 118ms\n",
      "27:\tlearn: 3418.2247652\ttotal: 1.1s\tremaining: 78.9ms\n",
      "28:\tlearn: 3398.2194292\ttotal: 1.15s\tremaining: 39.7ms\n",
      "29:\tlearn: 3378.8258880\ttotal: 1.19s\tremaining: 0us\n",
      "0:\tlearn: 3941.2065718\ttotal: 50.2ms\tremaining: 1.45s\n",
      "1:\tlearn: 3812.2283387\ttotal: 87.1ms\tremaining: 1.22s\n",
      "2:\tlearn: 3692.3900677\ttotal: 140ms\tremaining: 1.26s\n",
      "3:\tlearn: 3577.8547551\ttotal: 180ms\tremaining: 1.17s\n",
      "4:\tlearn: 3470.1326588\ttotal: 222ms\tremaining: 1.11s\n",
      "5:\tlearn: 3368.8062349\ttotal: 261ms\tremaining: 1.04s\n",
      "6:\tlearn: 3271.1103593\ttotal: 298ms\tremaining: 979ms\n",
      "7:\tlearn: 3182.0880061\ttotal: 341ms\tremaining: 939ms\n",
      "8:\tlearn: 3097.9919745\ttotal: 378ms\tremaining: 881ms\n",
      "9:\tlearn: 3020.1743506\ttotal: 419ms\tremaining: 838ms\n",
      "10:\tlearn: 2946.8071121\ttotal: 457ms\tremaining: 789ms\n",
      "11:\tlearn: 2877.0533667\ttotal: 494ms\tremaining: 741ms\n",
      "12:\tlearn: 2811.1432712\ttotal: 544ms\tremaining: 711ms\n",
      "13:\tlearn: 2752.3123167\ttotal: 596ms\tremaining: 681ms\n",
      "14:\tlearn: 2698.3138245\ttotal: 638ms\tremaining: 638ms\n",
      "15:\tlearn: 2641.4339733\ttotal: 677ms\tremaining: 592ms\n",
      "16:\tlearn: 2592.3268743\ttotal: 725ms\tremaining: 554ms\n",
      "17:\tlearn: 2545.9955727\ttotal: 764ms\tremaining: 509ms\n",
      "18:\tlearn: 2503.4364754\ttotal: 805ms\tremaining: 466ms\n",
      "19:\tlearn: 2463.1082139\ttotal: 843ms\tremaining: 421ms\n",
      "20:\tlearn: 2424.7603754\ttotal: 882ms\tremaining: 378ms\n",
      "21:\tlearn: 2386.9981444\ttotal: 925ms\tremaining: 336ms\n",
      "22:\tlearn: 2354.0548556\ttotal: 962ms\tremaining: 293ms\n",
      "23:\tlearn: 2316.8087032\ttotal: 1s\tremaining: 251ms\n",
      "24:\tlearn: 2281.9724541\ttotal: 1.04s\tremaining: 208ms\n",
      "25:\tlearn: 2250.6813079\ttotal: 1.08s\tremaining: 166ms\n",
      "26:\tlearn: 2221.8595914\ttotal: 1.13s\tremaining: 126ms\n",
      "27:\tlearn: 2193.6580906\ttotal: 1.17s\tremaining: 83.6ms\n",
      "28:\tlearn: 2167.2272187\ttotal: 1.22s\tremaining: 42ms\n",
      "29:\tlearn: 2141.7757101\ttotal: 1.26s\tremaining: 0us\n",
      "0:\tlearn: 3939.6599609\ttotal: 42.2ms\tremaining: 1.22s\n",
      "1:\tlearn: 3811.8289048\ttotal: 90.5ms\tremaining: 1.27s\n",
      "2:\tlearn: 3689.3904254\ttotal: 128ms\tremaining: 1.15s\n",
      "3:\tlearn: 3576.7188585\ttotal: 170ms\tremaining: 1.1s\n",
      "4:\tlearn: 3470.3679370\ttotal: 226ms\tremaining: 1.13s\n",
      "5:\tlearn: 3371.8014437\ttotal: 281ms\tremaining: 1.12s\n",
      "6:\tlearn: 3276.3082953\ttotal: 325ms\tremaining: 1.07s\n",
      "7:\tlearn: 3186.5095145\ttotal: 379ms\tremaining: 1.04s\n",
      "8:\tlearn: 3101.3018744\ttotal: 418ms\tremaining: 975ms\n",
      "9:\tlearn: 3021.3061331\ttotal: 455ms\tremaining: 910ms\n",
      "10:\tlearn: 2947.0056221\ttotal: 497ms\tremaining: 859ms\n",
      "11:\tlearn: 2876.4815691\ttotal: 535ms\tremaining: 802ms\n",
      "12:\tlearn: 2810.3787320\ttotal: 579ms\tremaining: 758ms\n",
      "13:\tlearn: 2750.7683753\ttotal: 619ms\tremaining: 707ms\n",
      "14:\tlearn: 2693.9192632\ttotal: 658ms\tremaining: 658ms\n",
      "15:\tlearn: 2640.8388069\ttotal: 701ms\tremaining: 614ms\n",
      "16:\tlearn: 2589.4007134\ttotal: 740ms\tremaining: 566ms\n",
      "17:\tlearn: 2543.7804747\ttotal: 787ms\tremaining: 524ms\n",
      "18:\tlearn: 2498.1845669\ttotal: 826ms\tremaining: 478ms\n",
      "19:\tlearn: 2452.1618928\ttotal: 870ms\tremaining: 435ms\n",
      "20:\tlearn: 2410.4738677\ttotal: 911ms\tremaining: 391ms\n",
      "21:\tlearn: 2367.7827709\ttotal: 956ms\tremaining: 348ms\n",
      "22:\tlearn: 2328.2461419\ttotal: 999ms\tremaining: 304ms\n",
      "23:\tlearn: 2293.9481427\ttotal: 1.04s\tremaining: 260ms\n",
      "24:\tlearn: 2261.2587379\ttotal: 1.08s\tremaining: 217ms\n",
      "25:\tlearn: 2230.4513360\ttotal: 1.12s\tremaining: 173ms\n",
      "26:\tlearn: 2203.1004984\ttotal: 1.17s\tremaining: 130ms\n",
      "27:\tlearn: 2174.6551773\ttotal: 1.21s\tremaining: 86.4ms\n",
      "28:\tlearn: 2149.3002826\ttotal: 1.25s\tremaining: 43.3ms\n",
      "29:\tlearn: 2125.2067141\ttotal: 1.29s\tremaining: 0us\n",
      "0:\tlearn: 3807.0752944\ttotal: 51.4ms\tremaining: 1.49s\n",
      "1:\tlearn: 3566.4581449\ttotal: 93.3ms\tremaining: 1.31s\n",
      "2:\tlearn: 3350.0779505\ttotal: 141ms\tremaining: 1.27s\n",
      "3:\tlearn: 3166.7638214\ttotal: 190ms\tremaining: 1.24s\n",
      "4:\tlearn: 3000.1688671\ttotal: 232ms\tremaining: 1.16s\n",
      "5:\tlearn: 2855.7934894\ttotal: 277ms\tremaining: 1.11s\n",
      "6:\tlearn: 2733.2050694\ttotal: 316ms\tremaining: 1.04s\n",
      "7:\tlearn: 2619.5087715\ttotal: 357ms\tremaining: 981ms\n",
      "8:\tlearn: 2521.6164426\ttotal: 396ms\tremaining: 924ms\n",
      "9:\tlearn: 2440.1778971\ttotal: 437ms\tremaining: 873ms\n",
      "10:\tlearn: 2366.9992243\ttotal: 485ms\tremaining: 837ms\n",
      "11:\tlearn: 2295.0009012\ttotal: 532ms\tremaining: 798ms\n",
      "12:\tlearn: 2227.9628833\ttotal: 578ms\tremaining: 755ms\n",
      "13:\tlearn: 2169.6832927\ttotal: 616ms\tremaining: 705ms\n",
      "14:\tlearn: 2118.3414066\ttotal: 660ms\tremaining: 660ms\n",
      "15:\tlearn: 2075.7495897\ttotal: 700ms\tremaining: 612ms\n",
      "16:\tlearn: 2039.5666101\ttotal: 742ms\tremaining: 567ms\n",
      "17:\tlearn: 2008.2476462\ttotal: 784ms\tremaining: 523ms\n",
      "18:\tlearn: 1980.1424101\ttotal: 823ms\tremaining: 476ms\n",
      "19:\tlearn: 1950.3074901\ttotal: 866ms\tremaining: 433ms\n",
      "20:\tlearn: 1926.2231053\ttotal: 909ms\tremaining: 390ms\n",
      "21:\tlearn: 1903.2215497\ttotal: 956ms\tremaining: 348ms\n",
      "22:\tlearn: 1881.2507667\ttotal: 997ms\tremaining: 303ms\n",
      "23:\tlearn: 1860.7116746\ttotal: 1.03s\tremaining: 259ms\n",
      "24:\tlearn: 1840.9107794\ttotal: 1.07s\tremaining: 215ms\n",
      "25:\tlearn: 1824.3474626\ttotal: 1.12s\tremaining: 172ms\n",
      "26:\tlearn: 1811.0337295\ttotal: 1.16s\tremaining: 129ms\n",
      "27:\tlearn: 1798.1318428\ttotal: 1.2s\tremaining: 85.8ms\n",
      "28:\tlearn: 1785.7811967\ttotal: 1.25s\tremaining: 43ms\n",
      "29:\tlearn: 1776.5863542\ttotal: 1.28s\tremaining: 0us\n",
      "0:\tlearn: 3805.4488608\ttotal: 43.4ms\tremaining: 1.26s\n",
      "1:\tlearn: 3569.8385819\ttotal: 90.5ms\tremaining: 1.27s\n",
      "2:\tlearn: 3354.9360754\ttotal: 133ms\tremaining: 1.2s\n",
      "3:\tlearn: 3166.9419821\ttotal: 174ms\tremaining: 1.13s\n",
      "4:\tlearn: 3002.7874909\ttotal: 217ms\tremaining: 1.08s\n",
      "5:\tlearn: 2856.2114602\ttotal: 260ms\tremaining: 1.04s\n",
      "6:\tlearn: 2732.9470748\ttotal: 308ms\tremaining: 1.01s\n",
      "7:\tlearn: 2623.9504743\ttotal: 346ms\tremaining: 951ms\n",
      "8:\tlearn: 2526.4855878\ttotal: 388ms\tremaining: 906ms\n",
      "9:\tlearn: 2447.8127131\ttotal: 427ms\tremaining: 855ms\n",
      "10:\tlearn: 2363.8127728\ttotal: 468ms\tremaining: 808ms\n",
      "11:\tlearn: 2287.3254891\ttotal: 513ms\tremaining: 770ms\n",
      "12:\tlearn: 2221.9845679\ttotal: 551ms\tremaining: 721ms\n",
      "13:\tlearn: 2163.5451641\ttotal: 598ms\tremaining: 683ms\n",
      "14:\tlearn: 2116.2122924\ttotal: 636ms\tremaining: 636ms\n",
      "15:\tlearn: 2072.9443541\ttotal: 674ms\tremaining: 590ms\n",
      "16:\tlearn: 2035.2282672\ttotal: 713ms\tremaining: 545ms\n",
      "17:\tlearn: 2002.5568394\ttotal: 751ms\tremaining: 500ms\n",
      "18:\tlearn: 1974.3118569\ttotal: 791ms\tremaining: 458ms\n",
      "19:\tlearn: 1949.0256678\ttotal: 827ms\tremaining: 414ms\n",
      "20:\tlearn: 1922.7953828\ttotal: 864ms\tremaining: 370ms\n",
      "21:\tlearn: 1899.8506285\ttotal: 905ms\tremaining: 329ms\n",
      "22:\tlearn: 1874.7563400\ttotal: 943ms\tremaining: 287ms\n",
      "23:\tlearn: 1852.2885813\ttotal: 985ms\tremaining: 246ms\n",
      "24:\tlearn: 1833.0033758\ttotal: 1.02s\tremaining: 205ms\n",
      "25:\tlearn: 1817.0922151\ttotal: 1.06s\tremaining: 164ms\n",
      "26:\tlearn: 1803.1150816\ttotal: 1.1s\tremaining: 123ms\n",
      "27:\tlearn: 1790.3380424\ttotal: 1.15s\tremaining: 81.8ms\n",
      "28:\tlearn: 1779.3885850\ttotal: 1.19s\tremaining: 41.1ms\n",
      "29:\tlearn: 1769.4073677\ttotal: 1.23s\tremaining: 0us\n",
      "0:\tlearn: 4050.2921729\ttotal: 53.4ms\tremaining: 2.62s\n",
      "1:\tlearn: 4023.1036054\ttotal: 90.6ms\tremaining: 2.17s\n",
      "2:\tlearn: 3997.3130866\ttotal: 131ms\tremaining: 2.05s\n",
      "3:\tlearn: 3970.6186151\ttotal: 173ms\tremaining: 1.99s\n",
      "4:\tlearn: 3944.5420537\ttotal: 208ms\tremaining: 1.87s\n",
      "5:\tlearn: 3919.0461534\ttotal: 253ms\tremaining: 1.85s\n",
      "6:\tlearn: 3893.3105245\ttotal: 290ms\tremaining: 1.78s\n",
      "7:\tlearn: 3868.0092787\ttotal: 334ms\tremaining: 1.75s\n",
      "8:\tlearn: 3842.6076479\ttotal: 371ms\tremaining: 1.69s\n",
      "9:\tlearn: 3818.0512180\ttotal: 407ms\tremaining: 1.63s\n",
      "10:\tlearn: 3793.5842563\ttotal: 449ms\tremaining: 1.59s\n",
      "11:\tlearn: 3769.4592741\ttotal: 487ms\tremaining: 1.54s\n",
      "12:\tlearn: 3745.3602687\ttotal: 535ms\tremaining: 1.52s\n",
      "13:\tlearn: 3721.6848956\ttotal: 573ms\tremaining: 1.47s\n",
      "14:\tlearn: 3698.3872733\ttotal: 616ms\tremaining: 1.44s\n",
      "15:\tlearn: 3675.2731646\ttotal: 655ms\tremaining: 1.39s\n",
      "16:\tlearn: 3652.4162397\ttotal: 695ms\tremaining: 1.35s\n",
      "17:\tlearn: 3630.2597898\ttotal: 738ms\tremaining: 1.31s\n",
      "18:\tlearn: 3607.7412155\ttotal: 777ms\tremaining: 1.27s\n",
      "19:\tlearn: 3585.7820903\ttotal: 820ms\tremaining: 1.23s\n",
      "20:\tlearn: 3564.2344334\ttotal: 858ms\tremaining: 1.19s\n",
      "21:\tlearn: 3542.5962729\ttotal: 898ms\tremaining: 1.14s\n",
      "22:\tlearn: 3521.2053500\ttotal: 937ms\tremaining: 1.1s\n",
      "23:\tlearn: 3500.0167430\ttotal: 975ms\tremaining: 1.05s\n",
      "24:\tlearn: 3479.3110511\ttotal: 1.02s\tremaining: 1.02s\n",
      "25:\tlearn: 3458.7047995\ttotal: 1.05s\tremaining: 973ms\n",
      "26:\tlearn: 3438.6825176\ttotal: 1.09s\tremaining: 932ms\n",
      "27:\tlearn: 3418.7236921\ttotal: 1.13s\tremaining: 889ms\n",
      "28:\tlearn: 3399.0693504\ttotal: 1.17s\tremaining: 847ms\n",
      "29:\tlearn: 3379.7420820\ttotal: 1.21s\tremaining: 807ms\n",
      "30:\tlearn: 3360.8635761\ttotal: 1.25s\tremaining: 764ms\n",
      "31:\tlearn: 3341.5522943\ttotal: 1.29s\tremaining: 724ms\n",
      "32:\tlearn: 3322.8889568\ttotal: 1.32s\tremaining: 683ms\n",
      "33:\tlearn: 3304.0821430\ttotal: 1.36s\tremaining: 641ms\n",
      "34:\tlearn: 3285.7048788\ttotal: 1.41s\tremaining: 603ms\n",
      "35:\tlearn: 3267.8230756\ttotal: 1.44s\tremaining: 562ms\n",
      "36:\tlearn: 3250.2829260\ttotal: 1.48s\tremaining: 521ms\n",
      "37:\tlearn: 3233.0500011\ttotal: 1.52s\tremaining: 481ms\n",
      "38:\tlearn: 3215.6935410\ttotal: 1.56s\tremaining: 440ms\n",
      "39:\tlearn: 3198.5024371\ttotal: 1.6s\tremaining: 400ms\n",
      "40:\tlearn: 3181.1919703\ttotal: 1.64s\tremaining: 360ms\n",
      "41:\tlearn: 3164.0256805\ttotal: 1.67s\tremaining: 319ms\n",
      "42:\tlearn: 3147.4455448\ttotal: 1.71s\tremaining: 279ms\n",
      "43:\tlearn: 3130.9434401\ttotal: 1.75s\tremaining: 239ms\n",
      "44:\tlearn: 3114.6106311\ttotal: 1.79s\tremaining: 199ms\n",
      "45:\tlearn: 3098.9254078\ttotal: 1.83s\tremaining: 159ms\n",
      "46:\tlearn: 3082.9270042\ttotal: 1.87s\tremaining: 119ms\n",
      "47:\tlearn: 3067.5539666\ttotal: 1.91s\tremaining: 79.5ms\n",
      "48:\tlearn: 3052.0537730\ttotal: 1.95s\tremaining: 39.7ms\n",
      "49:\tlearn: 3036.6655431\ttotal: 1.99s\tremaining: 0us\n",
      "0:\tlearn: 4048.8064661\ttotal: 42.4ms\tremaining: 2.08s\n",
      "1:\tlearn: 4021.6458406\ttotal: 95.6ms\tremaining: 2.29s\n",
      "2:\tlearn: 3994.6902244\ttotal: 146ms\tremaining: 2.29s\n",
      "3:\tlearn: 3968.0522026\ttotal: 185ms\tremaining: 2.13s\n",
      "4:\tlearn: 3941.6104807\ttotal: 222ms\tremaining: 1.99s\n",
      "5:\tlearn: 3915.8248778\ttotal: 263ms\tremaining: 1.93s\n",
      "6:\tlearn: 3890.0121578\ttotal: 300ms\tremaining: 1.84s\n",
      "7:\tlearn: 3864.8544136\ttotal: 336ms\tremaining: 1.76s\n",
      "8:\tlearn: 3839.9594938\ttotal: 382ms\tremaining: 1.74s\n",
      "9:\tlearn: 3815.6142965\ttotal: 418ms\tremaining: 1.67s\n",
      "10:\tlearn: 3791.0250286\ttotal: 459ms\tremaining: 1.63s\n",
      "11:\tlearn: 3767.1933067\ttotal: 496ms\tremaining: 1.57s\n",
      "12:\tlearn: 3743.4580538\ttotal: 533ms\tremaining: 1.52s\n",
      "13:\tlearn: 3720.1193367\ttotal: 572ms\tremaining: 1.47s\n",
      "14:\tlearn: 3696.6437672\ttotal: 608ms\tremaining: 1.42s\n",
      "15:\tlearn: 3673.7191059\ttotal: 651ms\tremaining: 1.38s\n",
      "16:\tlearn: 3651.0565410\ttotal: 686ms\tremaining: 1.33s\n",
      "17:\tlearn: 3628.8260746\ttotal: 723ms\tremaining: 1.28s\n",
      "18:\tlearn: 3606.2041307\ttotal: 764ms\tremaining: 1.25s\n",
      "19:\tlearn: 3584.2276540\ttotal: 800ms\tremaining: 1.2s\n",
      "20:\tlearn: 3562.4429074\ttotal: 840ms\tremaining: 1.16s\n",
      "21:\tlearn: 3540.9677196\ttotal: 877ms\tremaining: 1.12s\n",
      "22:\tlearn: 3519.8003748\ttotal: 915ms\tremaining: 1.07s\n",
      "23:\tlearn: 3498.9127223\ttotal: 959ms\tremaining: 1.04s\n",
      "24:\tlearn: 3478.4458429\ttotal: 1s\tremaining: 1s\n",
      "25:\tlearn: 3458.1325784\ttotal: 1.04s\tremaining: 965ms\n",
      "26:\tlearn: 3437.9507111\ttotal: 1.08s\tremaining: 921ms\n",
      "27:\tlearn: 3418.2247652\ttotal: 1.12s\tremaining: 877ms\n",
      "28:\tlearn: 3398.2194292\ttotal: 1.16s\tremaining: 838ms\n",
      "29:\tlearn: 3378.8258880\ttotal: 1.19s\tremaining: 796ms\n",
      "30:\tlearn: 3359.9466354\ttotal: 1.23s\tremaining: 755ms\n",
      "31:\tlearn: 3341.3355462\ttotal: 1.27s\tremaining: 713ms\n",
      "32:\tlearn: 3323.6360772\ttotal: 1.31s\tremaining: 673ms\n",
      "33:\tlearn: 3305.1211901\ttotal: 1.35s\tremaining: 634ms\n",
      "34:\tlearn: 3287.0287063\ttotal: 1.38s\tremaining: 593ms\n",
      "35:\tlearn: 3268.8000014\ttotal: 1.42s\tremaining: 554ms\n",
      "36:\tlearn: 3250.7572478\ttotal: 1.46s\tremaining: 514ms\n",
      "37:\tlearn: 3233.0919689\ttotal: 1.5s\tremaining: 473ms\n",
      "38:\tlearn: 3215.8338000\ttotal: 1.54s\tremaining: 434ms\n",
      "39:\tlearn: 3198.2164447\ttotal: 1.57s\tremaining: 394ms\n",
      "40:\tlearn: 3180.5235334\ttotal: 1.61s\tremaining: 354ms\n",
      "41:\tlearn: 3163.8857235\ttotal: 1.66s\tremaining: 316ms\n",
      "42:\tlearn: 3147.1612809\ttotal: 1.7s\tremaining: 277ms\n",
      "43:\tlearn: 3130.5359829\ttotal: 1.75s\tremaining: 239ms\n",
      "44:\tlearn: 3114.0198639\ttotal: 1.8s\tremaining: 200ms\n",
      "45:\tlearn: 3097.9353561\ttotal: 1.84s\tremaining: 160ms\n",
      "46:\tlearn: 3081.6822973\ttotal: 1.88s\tremaining: 120ms\n",
      "47:\tlearn: 3065.8915054\ttotal: 1.91s\tremaining: 79.7ms\n",
      "48:\tlearn: 3050.5402591\ttotal: 1.95s\tremaining: 39.8ms\n",
      "49:\tlearn: 3035.1551176\ttotal: 1.99s\tremaining: 0us\n",
      "0:\tlearn: 3941.2065718\ttotal: 49ms\tremaining: 2.4s\n",
      "1:\tlearn: 3812.2283387\ttotal: 87.4ms\tremaining: 2.1s\n",
      "2:\tlearn: 3692.3900677\ttotal: 138ms\tremaining: 2.16s\n",
      "3:\tlearn: 3577.8547551\ttotal: 183ms\tremaining: 2.1s\n",
      "4:\tlearn: 3470.1326588\ttotal: 222ms\tremaining: 2s\n",
      "5:\tlearn: 3368.8062349\ttotal: 260ms\tremaining: 1.91s\n",
      "6:\tlearn: 3271.1103593\ttotal: 296ms\tremaining: 1.82s\n",
      "7:\tlearn: 3182.0880061\ttotal: 340ms\tremaining: 1.78s\n",
      "8:\tlearn: 3097.9919745\ttotal: 375ms\tremaining: 1.71s\n",
      "9:\tlearn: 3020.1743506\ttotal: 411ms\tremaining: 1.64s\n",
      "10:\tlearn: 2946.8071121\ttotal: 451ms\tremaining: 1.6s\n",
      "11:\tlearn: 2877.0533667\ttotal: 487ms\tremaining: 1.54s\n",
      "12:\tlearn: 2811.1432712\ttotal: 531ms\tremaining: 1.51s\n",
      "13:\tlearn: 2752.3123167\ttotal: 566ms\tremaining: 1.46s\n",
      "14:\tlearn: 2698.3138245\ttotal: 602ms\tremaining: 1.41s\n",
      "15:\tlearn: 2641.4339733\ttotal: 642ms\tremaining: 1.36s\n",
      "16:\tlearn: 2592.3268743\ttotal: 677ms\tremaining: 1.31s\n",
      "17:\tlearn: 2545.9955727\ttotal: 717ms\tremaining: 1.27s\n",
      "18:\tlearn: 2503.4364754\ttotal: 753ms\tremaining: 1.23s\n",
      "19:\tlearn: 2463.1082139\ttotal: 790ms\tremaining: 1.18s\n",
      "20:\tlearn: 2424.7603754\ttotal: 831ms\tremaining: 1.15s\n",
      "21:\tlearn: 2386.9981444\ttotal: 866ms\tremaining: 1.1s\n",
      "22:\tlearn: 2354.0548556\ttotal: 902ms\tremaining: 1.06s\n",
      "23:\tlearn: 2316.8087032\ttotal: 943ms\tremaining: 1.02s\n",
      "24:\tlearn: 2281.9724541\ttotal: 978ms\tremaining: 978ms\n",
      "25:\tlearn: 2250.6813079\ttotal: 1.02s\tremaining: 944ms\n",
      "26:\tlearn: 2221.8595914\ttotal: 1.06s\tremaining: 902ms\n",
      "27:\tlearn: 2193.6580906\ttotal: 1.09s\tremaining: 859ms\n",
      "28:\tlearn: 2167.2272187\ttotal: 1.13s\tremaining: 821ms\n",
      "29:\tlearn: 2141.7757101\ttotal: 1.17s\tremaining: 781ms\n",
      "30:\tlearn: 2119.0928510\ttotal: 1.21s\tremaining: 743ms\n",
      "31:\tlearn: 2096.5260764\ttotal: 1.25s\tremaining: 702ms\n",
      "32:\tlearn: 2077.6442621\ttotal: 1.28s\tremaining: 661ms\n",
      "33:\tlearn: 2058.0244811\ttotal: 1.32s\tremaining: 623ms\n",
      "34:\tlearn: 2042.4763268\ttotal: 1.36s\tremaining: 583ms\n",
      "35:\tlearn: 2026.5126175\ttotal: 1.4s\tremaining: 545ms\n",
      "36:\tlearn: 2008.3893091\ttotal: 1.45s\tremaining: 509ms\n",
      "37:\tlearn: 1992.3746650\ttotal: 1.5s\tremaining: 474ms\n",
      "38:\tlearn: 1976.2408289\ttotal: 1.54s\tremaining: 434ms\n",
      "39:\tlearn: 1961.8886707\ttotal: 1.57s\tremaining: 393ms\n",
      "40:\tlearn: 1947.9373686\ttotal: 1.62s\tremaining: 355ms\n",
      "41:\tlearn: 1934.3554831\ttotal: 1.65s\tremaining: 315ms\n",
      "42:\tlearn: 1922.1379238\ttotal: 1.7s\tremaining: 276ms\n",
      "43:\tlearn: 1909.7282908\ttotal: 1.73s\tremaining: 236ms\n",
      "44:\tlearn: 1899.6013209\ttotal: 1.77s\tremaining: 197ms\n",
      "45:\tlearn: 1888.1222325\ttotal: 1.81s\tremaining: 157ms\n",
      "46:\tlearn: 1877.3523521\ttotal: 1.84s\tremaining: 118ms\n",
      "47:\tlearn: 1866.8506036\ttotal: 1.89s\tremaining: 78.9ms\n",
      "48:\tlearn: 1857.6724806\ttotal: 1.93s\tremaining: 39.4ms\n",
      "49:\tlearn: 1847.9057465\ttotal: 1.97s\tremaining: 0us\n",
      "0:\tlearn: 3939.6599609\ttotal: 41.2ms\tremaining: 2.02s\n",
      "1:\tlearn: 3811.8289048\ttotal: 90.8ms\tremaining: 2.18s\n",
      "2:\tlearn: 3689.3904254\ttotal: 126ms\tremaining: 1.97s\n",
      "3:\tlearn: 3576.7188585\ttotal: 164ms\tremaining: 1.88s\n",
      "4:\tlearn: 3470.3679370\ttotal: 203ms\tremaining: 1.82s\n",
      "5:\tlearn: 3371.8014437\ttotal: 240ms\tremaining: 1.76s\n",
      "6:\tlearn: 3276.3082953\ttotal: 283ms\tremaining: 1.74s\n",
      "7:\tlearn: 3186.5095145\ttotal: 324ms\tremaining: 1.7s\n",
      "8:\tlearn: 3101.3018744\ttotal: 362ms\tremaining: 1.65s\n",
      "9:\tlearn: 3021.3061331\ttotal: 401ms\tremaining: 1.6s\n",
      "10:\tlearn: 2947.0056221\ttotal: 437ms\tremaining: 1.55s\n",
      "11:\tlearn: 2876.4815691\ttotal: 478ms\tremaining: 1.51s\n",
      "12:\tlearn: 2810.3787320\ttotal: 514ms\tremaining: 1.46s\n",
      "13:\tlearn: 2750.7683753\ttotal: 550ms\tremaining: 1.41s\n",
      "14:\tlearn: 2693.9192632\ttotal: 591ms\tremaining: 1.38s\n",
      "15:\tlearn: 2640.8388069\ttotal: 626ms\tremaining: 1.33s\n",
      "16:\tlearn: 2589.4007134\ttotal: 665ms\tremaining: 1.29s\n",
      "17:\tlearn: 2543.7804747\ttotal: 702ms\tremaining: 1.25s\n",
      "18:\tlearn: 2498.1845669\ttotal: 737ms\tremaining: 1.2s\n",
      "19:\tlearn: 2452.1618928\ttotal: 782ms\tremaining: 1.17s\n",
      "20:\tlearn: 2410.4738677\ttotal: 817ms\tremaining: 1.13s\n",
      "21:\tlearn: 2367.7827709\ttotal: 853ms\tremaining: 1.08s\n",
      "22:\tlearn: 2328.2461419\ttotal: 892ms\tremaining: 1.05s\n",
      "23:\tlearn: 2293.9481427\ttotal: 929ms\tremaining: 1.01s\n",
      "24:\tlearn: 2261.2587379\ttotal: 972ms\tremaining: 972ms\n",
      "25:\tlearn: 2230.4513360\ttotal: 1.01s\tremaining: 931ms\n",
      "26:\tlearn: 2203.1004984\ttotal: 1.04s\tremaining: 890ms\n",
      "27:\tlearn: 2174.6551773\ttotal: 1.08s\tremaining: 851ms\n",
      "28:\tlearn: 2149.3002826\ttotal: 1.12s\tremaining: 810ms\n",
      "29:\tlearn: 2125.2067141\ttotal: 1.16s\tremaining: 773ms\n",
      "30:\tlearn: 2103.7027278\ttotal: 1.2s\tremaining: 733ms\n",
      "31:\tlearn: 2083.8204754\ttotal: 1.24s\tremaining: 696ms\n",
      "32:\tlearn: 2064.2329540\ttotal: 1.27s\tremaining: 657ms\n",
      "33:\tlearn: 2045.6965780\ttotal: 1.31s\tremaining: 617ms\n",
      "34:\tlearn: 2027.3726355\ttotal: 1.35s\tremaining: 579ms\n",
      "35:\tlearn: 2012.6047719\ttotal: 1.39s\tremaining: 540ms\n",
      "36:\tlearn: 1996.6935283\ttotal: 1.42s\tremaining: 500ms\n",
      "37:\tlearn: 1983.2777890\ttotal: 1.46s\tremaining: 462ms\n",
      "38:\tlearn: 1969.0373490\ttotal: 1.5s\tremaining: 423ms\n",
      "39:\tlearn: 1954.5852580\ttotal: 1.53s\tremaining: 384ms\n",
      "40:\tlearn: 1940.4103999\ttotal: 1.57s\tremaining: 345ms\n",
      "41:\tlearn: 1927.8504577\ttotal: 1.61s\tremaining: 307ms\n",
      "42:\tlearn: 1912.5620524\ttotal: 1.65s\tremaining: 269ms\n",
      "43:\tlearn: 1899.3570585\ttotal: 1.69s\tremaining: 230ms\n",
      "44:\tlearn: 1886.5921415\ttotal: 1.73s\tremaining: 192ms\n",
      "45:\tlearn: 1874.0091529\ttotal: 1.76s\tremaining: 153ms\n",
      "46:\tlearn: 1862.8364345\ttotal: 1.8s\tremaining: 115ms\n",
      "47:\tlearn: 1852.6512038\ttotal: 1.84s\tremaining: 76.8ms\n",
      "48:\tlearn: 1842.8773236\ttotal: 1.88s\tremaining: 38.3ms\n",
      "49:\tlearn: 1834.7810930\ttotal: 1.91s\tremaining: 0us\n",
      "0:\tlearn: 3807.0752944\ttotal: 47.2ms\tremaining: 2.31s\n",
      "1:\tlearn: 3566.4581449\ttotal: 90.6ms\tremaining: 2.17s\n",
      "2:\tlearn: 3350.0779505\ttotal: 135ms\tremaining: 2.11s\n",
      "3:\tlearn: 3166.7638214\ttotal: 178ms\tremaining: 2.05s\n",
      "4:\tlearn: 3000.1688671\ttotal: 215ms\tremaining: 1.94s\n",
      "5:\tlearn: 2855.7934894\ttotal: 257ms\tremaining: 1.88s\n",
      "6:\tlearn: 2733.2050694\ttotal: 294ms\tremaining: 1.8s\n",
      "7:\tlearn: 2619.5087715\ttotal: 336ms\tremaining: 1.76s\n",
      "8:\tlearn: 2521.6164426\ttotal: 374ms\tremaining: 1.7s\n",
      "9:\tlearn: 2440.1778971\ttotal: 410ms\tremaining: 1.64s\n",
      "10:\tlearn: 2366.9992243\ttotal: 453ms\tremaining: 1.61s\n",
      "11:\tlearn: 2295.0009012\ttotal: 492ms\tremaining: 1.56s\n",
      "12:\tlearn: 2227.9628833\ttotal: 534ms\tremaining: 1.52s\n",
      "13:\tlearn: 2169.6832927\ttotal: 570ms\tremaining: 1.47s\n",
      "14:\tlearn: 2118.3414066\ttotal: 607ms\tremaining: 1.42s\n",
      "15:\tlearn: 2075.7495897\ttotal: 651ms\tremaining: 1.38s\n",
      "16:\tlearn: 2039.5666101\ttotal: 687ms\tremaining: 1.33s\n",
      "17:\tlearn: 2008.2476462\ttotal: 726ms\tremaining: 1.29s\n",
      "18:\tlearn: 1980.1424101\ttotal: 763ms\tremaining: 1.24s\n",
      "19:\tlearn: 1950.3074901\ttotal: 799ms\tremaining: 1.2s\n",
      "20:\tlearn: 1926.2231053\ttotal: 840ms\tremaining: 1.16s\n",
      "21:\tlearn: 1903.2215497\ttotal: 881ms\tremaining: 1.12s\n",
      "22:\tlearn: 1881.2507667\ttotal: 924ms\tremaining: 1.08s\n",
      "23:\tlearn: 1860.7116746\ttotal: 961ms\tremaining: 1.04s\n",
      "24:\tlearn: 1840.9107794\ttotal: 999ms\tremaining: 999ms\n",
      "25:\tlearn: 1824.3474626\ttotal: 1.04s\tremaining: 959ms\n",
      "26:\tlearn: 1811.0337295\ttotal: 1.07s\tremaining: 915ms\n",
      "27:\tlearn: 1798.1318428\ttotal: 1.12s\tremaining: 877ms\n",
      "28:\tlearn: 1785.7811967\ttotal: 1.16s\tremaining: 837ms\n",
      "29:\tlearn: 1776.5863542\ttotal: 1.19s\tremaining: 794ms\n",
      "30:\tlearn: 1767.5430890\ttotal: 1.23s\tremaining: 757ms\n",
      "31:\tlearn: 1760.2905579\ttotal: 1.27s\tremaining: 714ms\n",
      "32:\tlearn: 1753.4514270\ttotal: 1.31s\tremaining: 675ms\n",
      "33:\tlearn: 1748.0778403\ttotal: 1.35s\tremaining: 634ms\n",
      "34:\tlearn: 1741.8450837\ttotal: 1.39s\tremaining: 594ms\n",
      "35:\tlearn: 1736.1509807\ttotal: 1.43s\tremaining: 556ms\n",
      "36:\tlearn: 1729.3841385\ttotal: 1.47s\tremaining: 516ms\n",
      "37:\tlearn: 1724.0967880\ttotal: 1.51s\tremaining: 477ms\n",
      "38:\tlearn: 1720.7531118\ttotal: 1.55s\tremaining: 437ms\n",
      "39:\tlearn: 1716.6916706\ttotal: 1.59s\tremaining: 397ms\n",
      "40:\tlearn: 1712.4070040\ttotal: 1.63s\tremaining: 357ms\n",
      "41:\tlearn: 1708.3113425\ttotal: 1.67s\tremaining: 317ms\n",
      "42:\tlearn: 1704.9708487\ttotal: 1.71s\tremaining: 278ms\n",
      "43:\tlearn: 1700.3733268\ttotal: 1.75s\tremaining: 238ms\n",
      "44:\tlearn: 1696.8424137\ttotal: 1.78s\tremaining: 198ms\n",
      "45:\tlearn: 1693.3481678\ttotal: 1.82s\tremaining: 159ms\n",
      "46:\tlearn: 1690.1950261\ttotal: 1.86s\tremaining: 119ms\n",
      "47:\tlearn: 1687.7572805\ttotal: 1.91s\tremaining: 79.6ms\n",
      "48:\tlearn: 1684.7397240\ttotal: 1.95s\tremaining: 39.9ms\n",
      "49:\tlearn: 1683.0279365\ttotal: 2s\tremaining: 0us\n",
      "0:\tlearn: 3805.4488608\ttotal: 45.3ms\tremaining: 2.22s\n",
      "1:\tlearn: 3569.8385819\ttotal: 94.1ms\tremaining: 2.26s\n",
      "2:\tlearn: 3354.9360754\ttotal: 137ms\tremaining: 2.15s\n",
      "3:\tlearn: 3166.9419821\ttotal: 179ms\tremaining: 2.06s\n",
      "4:\tlearn: 3002.7874909\ttotal: 214ms\tremaining: 1.93s\n",
      "5:\tlearn: 2856.2114602\ttotal: 258ms\tremaining: 1.89s\n",
      "6:\tlearn: 2732.9470748\ttotal: 294ms\tremaining: 1.81s\n",
      "7:\tlearn: 2623.9504743\ttotal: 330ms\tremaining: 1.73s\n",
      "8:\tlearn: 2526.4855878\ttotal: 369ms\tremaining: 1.68s\n",
      "9:\tlearn: 2447.8127131\ttotal: 405ms\tremaining: 1.62s\n",
      "10:\tlearn: 2363.8127728\ttotal: 446ms\tremaining: 1.58s\n",
      "11:\tlearn: 2287.3254891\ttotal: 482ms\tremaining: 1.53s\n",
      "12:\tlearn: 2221.9845679\ttotal: 518ms\tremaining: 1.47s\n",
      "13:\tlearn: 2163.5451641\ttotal: 558ms\tremaining: 1.43s\n",
      "14:\tlearn: 2116.2122924\ttotal: 593ms\tremaining: 1.38s\n",
      "15:\tlearn: 2072.9443541\ttotal: 631ms\tremaining: 1.34s\n",
      "16:\tlearn: 2035.2282672\ttotal: 669ms\tremaining: 1.3s\n",
      "17:\tlearn: 2002.5568394\ttotal: 707ms\tremaining: 1.26s\n",
      "18:\tlearn: 1974.3118569\ttotal: 755ms\tremaining: 1.23s\n",
      "19:\tlearn: 1949.0256678\ttotal: 800ms\tremaining: 1.2s\n",
      "20:\tlearn: 1922.7953828\ttotal: 847ms\tremaining: 1.17s\n",
      "21:\tlearn: 1899.8506285\ttotal: 902ms\tremaining: 1.15s\n",
      "22:\tlearn: 1874.7563400\ttotal: 947ms\tremaining: 1.11s\n",
      "23:\tlearn: 1852.2885813\ttotal: 985ms\tremaining: 1.07s\n",
      "24:\tlearn: 1833.0033758\ttotal: 1.02s\tremaining: 1.02s\n",
      "25:\tlearn: 1817.0922151\ttotal: 1.06s\tremaining: 979ms\n",
      "26:\tlearn: 1803.1150816\ttotal: 1.1s\tremaining: 934ms\n",
      "27:\tlearn: 1790.3380424\ttotal: 1.14s\tremaining: 895ms\n",
      "28:\tlearn: 1779.3885850\ttotal: 1.18s\tremaining: 852ms\n",
      "29:\tlearn: 1769.4073677\ttotal: 1.21s\tremaining: 808ms\n",
      "30:\tlearn: 1759.7018973\ttotal: 1.25s\tremaining: 768ms\n",
      "31:\tlearn: 1750.8324711\ttotal: 1.29s\tremaining: 726ms\n",
      "32:\tlearn: 1744.0597626\ttotal: 1.33s\tremaining: 687ms\n",
      "33:\tlearn: 1737.5439123\ttotal: 1.37s\tremaining: 645ms\n",
      "34:\tlearn: 1731.5259875\ttotal: 1.41s\tremaining: 605ms\n",
      "35:\tlearn: 1726.0554870\ttotal: 1.45s\tremaining: 564ms\n",
      "36:\tlearn: 1720.0609127\ttotal: 1.49s\tremaining: 523ms\n",
      "37:\tlearn: 1715.7696126\ttotal: 1.53s\tremaining: 483ms\n",
      "38:\tlearn: 1708.9659039\ttotal: 1.57s\tremaining: 442ms\n",
      "39:\tlearn: 1703.3907239\ttotal: 1.6s\tremaining: 401ms\n",
      "40:\tlearn: 1699.7661702\ttotal: 1.65s\tremaining: 361ms\n",
      "41:\tlearn: 1695.6988080\ttotal: 1.69s\tremaining: 321ms\n",
      "42:\tlearn: 1691.9314145\ttotal: 1.73s\tremaining: 282ms\n",
      "43:\tlearn: 1687.3422971\ttotal: 1.77s\tremaining: 241ms\n",
      "44:\tlearn: 1683.8229063\ttotal: 1.81s\tremaining: 201ms\n",
      "45:\tlearn: 1681.0568583\ttotal: 1.85s\tremaining: 161ms\n",
      "46:\tlearn: 1678.4581219\ttotal: 1.89s\tremaining: 121ms\n",
      "47:\tlearn: 1675.1528839\ttotal: 1.93s\tremaining: 80.6ms\n",
      "48:\tlearn: 1672.7285267\ttotal: 1.97s\tremaining: 40.3ms\n",
      "49:\tlearn: 1670.6566987\ttotal: 2.02s\tremaining: 0us\n",
      "0:\tlearn: 4050.2921729\ttotal: 52ms\tremaining: 5.14s\n",
      "1:\tlearn: 4023.1036054\ttotal: 89.6ms\tremaining: 4.39s\n",
      "2:\tlearn: 3997.3130866\ttotal: 130ms\tremaining: 4.21s\n",
      "3:\tlearn: 3970.6186151\ttotal: 172ms\tremaining: 4.13s\n",
      "4:\tlearn: 3944.5420537\ttotal: 208ms\tremaining: 3.95s\n",
      "5:\tlearn: 3919.0461534\ttotal: 253ms\tremaining: 3.96s\n",
      "6:\tlearn: 3893.3105245\ttotal: 291ms\tremaining: 3.86s\n",
      "7:\tlearn: 3868.0092787\ttotal: 333ms\tremaining: 3.83s\n",
      "8:\tlearn: 3842.6076479\ttotal: 368ms\tremaining: 3.72s\n",
      "9:\tlearn: 3818.0512180\ttotal: 405ms\tremaining: 3.64s\n",
      "10:\tlearn: 3793.5842563\ttotal: 446ms\tremaining: 3.61s\n",
      "11:\tlearn: 3769.4592741\ttotal: 485ms\tremaining: 3.56s\n",
      "12:\tlearn: 3745.3602687\ttotal: 528ms\tremaining: 3.53s\n",
      "13:\tlearn: 3721.6848956\ttotal: 564ms\tremaining: 3.46s\n",
      "14:\tlearn: 3698.3872733\ttotal: 600ms\tremaining: 3.4s\n",
      "15:\tlearn: 3675.2731646\ttotal: 640ms\tremaining: 3.36s\n",
      "16:\tlearn: 3652.4162397\ttotal: 678ms\tremaining: 3.31s\n",
      "17:\tlearn: 3630.2597898\ttotal: 720ms\tremaining: 3.28s\n",
      "18:\tlearn: 3607.7412155\ttotal: 760ms\tremaining: 3.24s\n",
      "19:\tlearn: 3585.7820903\ttotal: 801ms\tremaining: 3.21s\n",
      "20:\tlearn: 3564.2344334\ttotal: 845ms\tremaining: 3.18s\n",
      "21:\tlearn: 3542.5962729\ttotal: 881ms\tremaining: 3.12s\n",
      "22:\tlearn: 3521.2053500\ttotal: 921ms\tremaining: 3.08s\n",
      "23:\tlearn: 3500.0167430\ttotal: 958ms\tremaining: 3.03s\n",
      "24:\tlearn: 3479.3110511\ttotal: 1s\tremaining: 3s\n",
      "25:\tlearn: 3458.7047995\ttotal: 1.04s\tremaining: 2.96s\n",
      "26:\tlearn: 3438.6825176\ttotal: 1.07s\tremaining: 2.9s\n",
      "27:\tlearn: 3418.7236921\ttotal: 1.11s\tremaining: 2.87s\n",
      "28:\tlearn: 3399.0693504\ttotal: 1.15s\tremaining: 2.82s\n",
      "29:\tlearn: 3379.7420820\ttotal: 1.19s\tremaining: 2.77s\n",
      "30:\tlearn: 3360.8635761\ttotal: 1.23s\tremaining: 2.74s\n",
      "31:\tlearn: 3341.5522943\ttotal: 1.27s\tremaining: 2.69s\n",
      "32:\tlearn: 3322.8889568\ttotal: 1.31s\tremaining: 2.65s\n",
      "33:\tlearn: 3304.0821430\ttotal: 1.34s\tremaining: 2.61s\n",
      "34:\tlearn: 3285.7048788\ttotal: 1.38s\tremaining: 2.56s\n",
      "35:\tlearn: 3267.8230756\ttotal: 1.42s\tremaining: 2.53s\n",
      "36:\tlearn: 3250.2829260\ttotal: 1.46s\tremaining: 2.49s\n",
      "37:\tlearn: 3233.0500011\ttotal: 1.5s\tremaining: 2.45s\n",
      "38:\tlearn: 3215.6935410\ttotal: 1.54s\tremaining: 2.4s\n",
      "39:\tlearn: 3198.5024371\ttotal: 1.57s\tremaining: 2.36s\n",
      "40:\tlearn: 3181.1919703\ttotal: 1.61s\tremaining: 2.32s\n",
      "41:\tlearn: 3164.0256805\ttotal: 1.65s\tremaining: 2.28s\n",
      "42:\tlearn: 3147.4455448\ttotal: 1.69s\tremaining: 2.24s\n",
      "43:\tlearn: 3130.9434401\ttotal: 1.73s\tremaining: 2.2s\n",
      "44:\tlearn: 3114.6106311\ttotal: 1.76s\tremaining: 2.15s\n",
      "45:\tlearn: 3098.9254078\ttotal: 1.81s\tremaining: 2.12s\n",
      "46:\tlearn: 3082.9270042\ttotal: 1.84s\tremaining: 2.08s\n",
      "47:\tlearn: 3067.5539666\ttotal: 1.88s\tremaining: 2.04s\n",
      "48:\tlearn: 3052.0537730\ttotal: 1.92s\tremaining: 2s\n",
      "49:\tlearn: 3036.6655431\ttotal: 1.96s\tremaining: 1.96s\n",
      "50:\tlearn: 3021.7630872\ttotal: 2s\tremaining: 1.92s\n",
      "51:\tlearn: 3006.8593215\ttotal: 2.04s\tremaining: 1.88s\n",
      "52:\tlearn: 2992.0741620\ttotal: 2.08s\tremaining: 1.84s\n",
      "53:\tlearn: 2977.6868491\ttotal: 2.12s\tremaining: 1.8s\n",
      "54:\tlearn: 2963.5398385\ttotal: 2.15s\tremaining: 1.76s\n",
      "55:\tlearn: 2949.1569071\ttotal: 2.19s\tremaining: 1.72s\n",
      "56:\tlearn: 2935.3518599\ttotal: 2.23s\tremaining: 1.68s\n",
      "57:\tlearn: 2921.5808424\ttotal: 2.27s\tremaining: 1.64s\n",
      "58:\tlearn: 2908.7408018\ttotal: 2.3s\tremaining: 1.6s\n",
      "59:\tlearn: 2895.3336897\ttotal: 2.34s\tremaining: 1.56s\n",
      "60:\tlearn: 2882.4034833\ttotal: 2.38s\tremaining: 1.52s\n",
      "61:\tlearn: 2869.3513723\ttotal: 2.42s\tremaining: 1.48s\n",
      "62:\tlearn: 2856.3347175\ttotal: 2.46s\tremaining: 1.44s\n",
      "63:\tlearn: 2843.6455159\ttotal: 2.5s\tremaining: 1.4s\n",
      "64:\tlearn: 2831.3715127\ttotal: 2.53s\tremaining: 1.36s\n",
      "65:\tlearn: 2818.7115756\ttotal: 2.58s\tremaining: 1.33s\n",
      "66:\tlearn: 2806.5218816\ttotal: 2.61s\tremaining: 1.29s\n",
      "67:\tlearn: 2794.4951488\ttotal: 2.65s\tremaining: 1.25s\n",
      "68:\tlearn: 2782.1893378\ttotal: 2.69s\tremaining: 1.21s\n",
      "69:\tlearn: 2770.3568286\ttotal: 2.73s\tremaining: 1.17s\n",
      "70:\tlearn: 2758.9271579\ttotal: 2.77s\tremaining: 1.13s\n",
      "71:\tlearn: 2747.5325785\ttotal: 2.81s\tremaining: 1.09s\n",
      "72:\tlearn: 2735.8292034\ttotal: 2.84s\tremaining: 1.05s\n",
      "73:\tlearn: 2724.7230897\ttotal: 2.88s\tremaining: 1.01s\n",
      "74:\tlearn: 2713.8417043\ttotal: 2.92s\tremaining: 974ms\n",
      "75:\tlearn: 2702.7944600\ttotal: 2.97s\tremaining: 938ms\n",
      "76:\tlearn: 2692.3109872\ttotal: 3s\tremaining: 898ms\n",
      "77:\tlearn: 2682.0280632\ttotal: 3.04s\tremaining: 858ms\n",
      "78:\tlearn: 2671.8699923\ttotal: 3.08s\tremaining: 820ms\n",
      "79:\tlearn: 2661.5562252\ttotal: 3.12s\tremaining: 780ms\n",
      "80:\tlearn: 2651.5074237\ttotal: 3.17s\tremaining: 743ms\n",
      "81:\tlearn: 2641.2180690\ttotal: 3.2s\tremaining: 703ms\n",
      "82:\tlearn: 2631.4845027\ttotal: 3.24s\tremaining: 663ms\n",
      "83:\tlearn: 2621.6428958\ttotal: 3.28s\tremaining: 625ms\n",
      "84:\tlearn: 2612.4066801\ttotal: 3.31s\tremaining: 585ms\n",
      "85:\tlearn: 2602.1283281\ttotal: 3.36s\tremaining: 546ms\n",
      "86:\tlearn: 2592.5359391\ttotal: 3.39s\tremaining: 507ms\n",
      "87:\tlearn: 2582.7469513\ttotal: 3.43s\tremaining: 468ms\n",
      "88:\tlearn: 2573.1417694\ttotal: 3.48s\tremaining: 430ms\n",
      "89:\tlearn: 2563.9667184\ttotal: 3.51s\tremaining: 390ms\n",
      "90:\tlearn: 2554.3661634\ttotal: 3.55s\tremaining: 351ms\n",
      "91:\tlearn: 2544.9130485\ttotal: 3.58s\tremaining: 312ms\n",
      "92:\tlearn: 2536.5982654\ttotal: 3.62s\tremaining: 273ms\n",
      "93:\tlearn: 2528.3062693\ttotal: 3.66s\tremaining: 234ms\n",
      "94:\tlearn: 2519.7242786\ttotal: 3.7s\tremaining: 195ms\n",
      "95:\tlearn: 2511.3808730\ttotal: 3.73s\tremaining: 156ms\n",
      "96:\tlearn: 2502.4598285\ttotal: 3.77s\tremaining: 117ms\n",
      "97:\tlearn: 2492.8106289\ttotal: 3.81s\tremaining: 77.7ms\n",
      "98:\tlearn: 2483.2954391\ttotal: 3.85s\tremaining: 38.9ms\n",
      "99:\tlearn: 2474.4317941\ttotal: 3.89s\tremaining: 0us\n",
      "0:\tlearn: 4048.8064661\ttotal: 41.6ms\tremaining: 4.12s\n",
      "1:\tlearn: 4021.6458406\ttotal: 84.5ms\tremaining: 4.14s\n",
      "2:\tlearn: 3994.6902244\ttotal: 137ms\tremaining: 4.44s\n",
      "3:\tlearn: 3968.0522026\ttotal: 174ms\tremaining: 4.16s\n",
      "4:\tlearn: 3941.6104807\ttotal: 222ms\tremaining: 4.22s\n",
      "5:\tlearn: 3915.8248778\ttotal: 261ms\tremaining: 4.08s\n",
      "6:\tlearn: 3890.0121578\ttotal: 315ms\tremaining: 4.18s\n",
      "7:\tlearn: 3864.8544136\ttotal: 359ms\tremaining: 4.13s\n",
      "8:\tlearn: 3839.9594938\ttotal: 409ms\tremaining: 4.14s\n",
      "9:\tlearn: 3815.6142965\ttotal: 447ms\tremaining: 4.02s\n",
      "10:\tlearn: 3791.0250286\ttotal: 489ms\tremaining: 3.95s\n",
      "11:\tlearn: 3767.1933067\ttotal: 529ms\tremaining: 3.88s\n",
      "12:\tlearn: 3743.4580538\ttotal: 568ms\tremaining: 3.8s\n",
      "13:\tlearn: 3720.1193367\ttotal: 607ms\tremaining: 3.73s\n",
      "14:\tlearn: 3696.6437672\ttotal: 648ms\tremaining: 3.67s\n",
      "15:\tlearn: 3673.7191059\ttotal: 688ms\tremaining: 3.61s\n",
      "16:\tlearn: 3651.0565410\ttotal: 728ms\tremaining: 3.55s\n",
      "17:\tlearn: 3628.8260746\ttotal: 767ms\tremaining: 3.5s\n",
      "18:\tlearn: 3606.2041307\ttotal: 812ms\tremaining: 3.46s\n",
      "19:\tlearn: 3584.2276540\ttotal: 852ms\tremaining: 3.41s\n",
      "20:\tlearn: 3562.4429074\ttotal: 891ms\tremaining: 3.35s\n",
      "21:\tlearn: 3540.9677196\ttotal: 931ms\tremaining: 3.3s\n",
      "22:\tlearn: 3519.8003748\ttotal: 969ms\tremaining: 3.24s\n",
      "23:\tlearn: 3498.9127223\ttotal: 1.01s\tremaining: 3.2s\n",
      "24:\tlearn: 3478.4458429\ttotal: 1.05s\tremaining: 3.16s\n",
      "25:\tlearn: 3458.1325784\ttotal: 1.09s\tremaining: 3.11s\n",
      "26:\tlearn: 3437.9507111\ttotal: 1.13s\tremaining: 3.06s\n",
      "27:\tlearn: 3418.2247652\ttotal: 1.19s\tremaining: 3.06s\n",
      "28:\tlearn: 3398.2194292\ttotal: 1.23s\tremaining: 3.01s\n",
      "29:\tlearn: 3378.8258880\ttotal: 1.27s\tremaining: 2.96s\n",
      "30:\tlearn: 3359.9466354\ttotal: 1.31s\tremaining: 2.92s\n",
      "31:\tlearn: 3341.3355462\ttotal: 1.35s\tremaining: 2.86s\n",
      "32:\tlearn: 3323.6360772\ttotal: 1.39s\tremaining: 2.82s\n",
      "33:\tlearn: 3305.1211901\ttotal: 1.43s\tremaining: 2.77s\n",
      "34:\tlearn: 3287.0287063\ttotal: 1.47s\tremaining: 2.72s\n",
      "35:\tlearn: 3268.8000014\ttotal: 1.5s\tremaining: 2.67s\n",
      "36:\tlearn: 3250.7572478\ttotal: 1.54s\tremaining: 2.63s\n",
      "37:\tlearn: 3233.0919689\ttotal: 1.58s\tremaining: 2.58s\n",
      "38:\tlearn: 3215.8338000\ttotal: 1.62s\tremaining: 2.54s\n",
      "39:\tlearn: 3198.2164447\ttotal: 1.67s\tremaining: 2.5s\n",
      "40:\tlearn: 3180.5235334\ttotal: 1.71s\tremaining: 2.46s\n",
      "41:\tlearn: 3163.8857235\ttotal: 1.75s\tremaining: 2.42s\n",
      "42:\tlearn: 3147.1612809\ttotal: 1.8s\tremaining: 2.39s\n",
      "43:\tlearn: 3130.5359829\ttotal: 1.84s\tremaining: 2.35s\n",
      "44:\tlearn: 3114.0198639\ttotal: 1.89s\tremaining: 2.31s\n",
      "45:\tlearn: 3097.9353561\ttotal: 1.93s\tremaining: 2.26s\n",
      "46:\tlearn: 3081.6822973\ttotal: 1.97s\tremaining: 2.22s\n",
      "47:\tlearn: 3065.8915054\ttotal: 2.01s\tremaining: 2.17s\n",
      "48:\tlearn: 3050.5402591\ttotal: 2.04s\tremaining: 2.13s\n",
      "49:\tlearn: 3035.1551176\ttotal: 2.09s\tremaining: 2.09s\n",
      "50:\tlearn: 3019.7910644\ttotal: 2.12s\tremaining: 2.04s\n",
      "51:\tlearn: 3004.9222833\ttotal: 2.17s\tremaining: 2s\n",
      "52:\tlearn: 2990.4593101\ttotal: 2.2s\tremaining: 1.95s\n",
      "53:\tlearn: 2975.3795795\ttotal: 2.24s\tremaining: 1.91s\n",
      "54:\tlearn: 2960.9030244\ttotal: 2.29s\tremaining: 1.88s\n",
      "55:\tlearn: 2946.5036130\ttotal: 2.33s\tremaining: 1.83s\n",
      "56:\tlearn: 2932.1654477\ttotal: 2.38s\tremaining: 1.79s\n",
      "57:\tlearn: 2918.0508088\ttotal: 2.41s\tremaining: 1.75s\n",
      "58:\tlearn: 2904.2505308\ttotal: 2.45s\tremaining: 1.7s\n",
      "59:\tlearn: 2890.7517194\ttotal: 2.49s\tremaining: 1.66s\n",
      "60:\tlearn: 2877.7680547\ttotal: 2.53s\tremaining: 1.61s\n",
      "61:\tlearn: 2864.2665883\ttotal: 2.58s\tremaining: 1.58s\n",
      "62:\tlearn: 2850.6918314\ttotal: 2.62s\tremaining: 1.54s\n",
      "63:\tlearn: 2837.6728482\ttotal: 2.66s\tremaining: 1.5s\n",
      "64:\tlearn: 2824.7371750\ttotal: 2.7s\tremaining: 1.45s\n",
      "65:\tlearn: 2812.1821701\ttotal: 2.74s\tremaining: 1.41s\n",
      "66:\tlearn: 2799.9029318\ttotal: 2.78s\tremaining: 1.37s\n",
      "67:\tlearn: 2787.8207181\ttotal: 2.82s\tremaining: 1.32s\n",
      "68:\tlearn: 2776.2505191\ttotal: 2.86s\tremaining: 1.28s\n",
      "69:\tlearn: 2764.2851981\ttotal: 2.9s\tremaining: 1.24s\n",
      "70:\tlearn: 2752.2599895\ttotal: 2.93s\tremaining: 1.2s\n",
      "71:\tlearn: 2741.2242950\ttotal: 2.97s\tremaining: 1.16s\n",
      "72:\tlearn: 2729.8253349\ttotal: 3.01s\tremaining: 1.11s\n",
      "73:\tlearn: 2718.6087722\ttotal: 3.05s\tremaining: 1.07s\n",
      "74:\tlearn: 2707.6337699\ttotal: 3.09s\tremaining: 1.03s\n",
      "75:\tlearn: 2696.6734484\ttotal: 3.13s\tremaining: 988ms\n",
      "76:\tlearn: 2686.1229473\ttotal: 3.17s\tremaining: 947ms\n",
      "77:\tlearn: 2675.5387423\ttotal: 3.21s\tremaining: 905ms\n",
      "78:\tlearn: 2665.1827242\ttotal: 3.25s\tremaining: 865ms\n",
      "79:\tlearn: 2654.6919803\ttotal: 3.3s\tremaining: 824ms\n",
      "80:\tlearn: 2644.6656029\ttotal: 3.35s\tremaining: 785ms\n",
      "81:\tlearn: 2634.5491519\ttotal: 3.39s\tremaining: 744ms\n",
      "82:\tlearn: 2624.2584653\ttotal: 3.43s\tremaining: 702ms\n",
      "83:\tlearn: 2614.4927817\ttotal: 3.47s\tremaining: 661ms\n",
      "84:\tlearn: 2604.8680716\ttotal: 3.51s\tremaining: 619ms\n",
      "85:\tlearn: 2595.2148935\ttotal: 3.55s\tremaining: 578ms\n",
      "86:\tlearn: 2585.7318160\ttotal: 3.59s\tremaining: 536ms\n",
      "87:\tlearn: 2576.5540747\ttotal: 3.62s\tremaining: 494ms\n",
      "88:\tlearn: 2567.1499229\ttotal: 3.67s\tremaining: 453ms\n",
      "89:\tlearn: 2557.7947575\ttotal: 3.7s\tremaining: 411ms\n",
      "90:\tlearn: 2548.4943790\ttotal: 3.74s\tremaining: 370ms\n",
      "91:\tlearn: 2539.6220215\ttotal: 3.78s\tremaining: 328ms\n",
      "92:\tlearn: 2530.9397301\ttotal: 3.81s\tremaining: 287ms\n",
      "93:\tlearn: 2522.4288225\ttotal: 3.86s\tremaining: 246ms\n",
      "94:\tlearn: 2512.9287942\ttotal: 3.89s\tremaining: 205ms\n",
      "95:\tlearn: 2503.2080541\ttotal: 3.94s\tremaining: 164ms\n",
      "96:\tlearn: 2493.4748213\ttotal: 3.97s\tremaining: 123ms\n",
      "97:\tlearn: 2483.9216825\ttotal: 4.01s\tremaining: 81.9ms\n",
      "98:\tlearn: 2474.4973344\ttotal: 4.05s\tremaining: 41ms\n",
      "99:\tlearn: 2465.2006694\ttotal: 4.09s\tremaining: 0us\n",
      "0:\tlearn: 3941.2065718\ttotal: 50.8ms\tremaining: 5.03s\n",
      "1:\tlearn: 3812.2283387\ttotal: 97ms\tremaining: 4.75s\n",
      "2:\tlearn: 3692.3900677\ttotal: 142ms\tremaining: 4.59s\n",
      "3:\tlearn: 3577.8547551\ttotal: 191ms\tremaining: 4.57s\n",
      "4:\tlearn: 3470.1326588\ttotal: 231ms\tremaining: 4.39s\n",
      "5:\tlearn: 3368.8062349\ttotal: 274ms\tremaining: 4.29s\n",
      "6:\tlearn: 3271.1103593\ttotal: 315ms\tremaining: 4.19s\n",
      "7:\tlearn: 3182.0880061\ttotal: 354ms\tremaining: 4.07s\n",
      "8:\tlearn: 3097.9919745\ttotal: 398ms\tremaining: 4.03s\n",
      "9:\tlearn: 3020.1743506\ttotal: 438ms\tremaining: 3.95s\n",
      "10:\tlearn: 2946.8071121\ttotal: 482ms\tremaining: 3.9s\n",
      "11:\tlearn: 2877.0533667\ttotal: 521ms\tremaining: 3.82s\n",
      "12:\tlearn: 2811.1432712\ttotal: 561ms\tremaining: 3.76s\n",
      "13:\tlearn: 2752.3123167\ttotal: 602ms\tremaining: 3.7s\n",
      "14:\tlearn: 2698.3138245\ttotal: 641ms\tremaining: 3.63s\n",
      "15:\tlearn: 2641.4339733\ttotal: 687ms\tremaining: 3.61s\n",
      "16:\tlearn: 2592.3268743\ttotal: 728ms\tremaining: 3.55s\n",
      "17:\tlearn: 2545.9955727\ttotal: 774ms\tremaining: 3.53s\n",
      "18:\tlearn: 2503.4364754\ttotal: 813ms\tremaining: 3.46s\n",
      "19:\tlearn: 2463.1082139\ttotal: 853ms\tremaining: 3.41s\n",
      "20:\tlearn: 2424.7603754\ttotal: 894ms\tremaining: 3.36s\n",
      "21:\tlearn: 2386.9981444\ttotal: 933ms\tremaining: 3.31s\n",
      "22:\tlearn: 2354.0548556\ttotal: 979ms\tremaining: 3.28s\n",
      "23:\tlearn: 2316.8087032\ttotal: 1.02s\tremaining: 3.23s\n",
      "24:\tlearn: 2281.9724541\ttotal: 1.06s\tremaining: 3.2s\n",
      "25:\tlearn: 2250.6813079\ttotal: 1.11s\tremaining: 3.16s\n",
      "26:\tlearn: 2221.8595914\ttotal: 1.16s\tremaining: 3.13s\n",
      "27:\tlearn: 2193.6580906\ttotal: 1.2s\tremaining: 3.08s\n",
      "28:\tlearn: 2167.2272187\ttotal: 1.24s\tremaining: 3.04s\n",
      "29:\tlearn: 2141.7757101\ttotal: 1.28s\tremaining: 3s\n",
      "30:\tlearn: 2119.0928510\ttotal: 1.33s\tremaining: 2.95s\n",
      "31:\tlearn: 2096.5260764\ttotal: 1.37s\tremaining: 2.92s\n",
      "32:\tlearn: 2077.6442621\ttotal: 1.42s\tremaining: 2.88s\n",
      "33:\tlearn: 2058.0244811\ttotal: 1.47s\tremaining: 2.86s\n",
      "34:\tlearn: 2042.4763268\ttotal: 1.52s\tremaining: 2.82s\n",
      "35:\tlearn: 2026.5126175\ttotal: 1.56s\tremaining: 2.78s\n",
      "36:\tlearn: 2008.3893091\ttotal: 1.6s\tremaining: 2.73s\n",
      "37:\tlearn: 1992.3746650\ttotal: 1.65s\tremaining: 2.68s\n",
      "38:\tlearn: 1976.2408289\ttotal: 1.69s\tremaining: 2.64s\n",
      "39:\tlearn: 1961.8886707\ttotal: 1.73s\tremaining: 2.6s\n",
      "40:\tlearn: 1947.9373686\ttotal: 1.78s\tremaining: 2.56s\n",
      "41:\tlearn: 1934.3554831\ttotal: 1.82s\tremaining: 2.51s\n",
      "42:\tlearn: 1922.1379238\ttotal: 1.86s\tremaining: 2.47s\n",
      "43:\tlearn: 1909.7282908\ttotal: 1.9s\tremaining: 2.42s\n",
      "44:\tlearn: 1899.6013209\ttotal: 1.95s\tremaining: 2.38s\n",
      "45:\tlearn: 1888.1222325\ttotal: 1.99s\tremaining: 2.33s\n",
      "46:\tlearn: 1877.3523521\ttotal: 2.03s\tremaining: 2.29s\n",
      "47:\tlearn: 1866.8506036\ttotal: 2.07s\tremaining: 2.24s\n",
      "48:\tlearn: 1857.6724806\ttotal: 2.11s\tremaining: 2.2s\n",
      "49:\tlearn: 1847.9057465\ttotal: 2.16s\tremaining: 2.16s\n",
      "50:\tlearn: 1838.6259437\ttotal: 2.2s\tremaining: 2.11s\n",
      "51:\tlearn: 1829.9099618\ttotal: 2.24s\tremaining: 2.07s\n",
      "52:\tlearn: 1823.1487070\ttotal: 2.28s\tremaining: 2.02s\n",
      "53:\tlearn: 1816.8693542\ttotal: 2.32s\tremaining: 1.98s\n",
      "54:\tlearn: 1810.3401678\ttotal: 2.37s\tremaining: 1.94s\n",
      "55:\tlearn: 1804.0803611\ttotal: 2.41s\tremaining: 1.89s\n",
      "56:\tlearn: 1798.5445643\ttotal: 2.45s\tremaining: 1.85s\n",
      "57:\tlearn: 1793.3047031\ttotal: 2.49s\tremaining: 1.8s\n",
      "58:\tlearn: 1788.8480952\ttotal: 2.53s\tremaining: 1.76s\n",
      "59:\tlearn: 1783.4789186\ttotal: 2.57s\tremaining: 1.71s\n",
      "60:\tlearn: 1778.7311644\ttotal: 2.61s\tremaining: 1.67s\n",
      "61:\tlearn: 1774.0384085\ttotal: 2.66s\tremaining: 1.63s\n",
      "62:\tlearn: 1770.2480131\ttotal: 2.71s\tremaining: 1.59s\n",
      "63:\tlearn: 1766.4133109\ttotal: 2.75s\tremaining: 1.55s\n",
      "64:\tlearn: 1762.8157542\ttotal: 2.79s\tremaining: 1.5s\n",
      "65:\tlearn: 1759.0975332\ttotal: 2.84s\tremaining: 1.46s\n",
      "66:\tlearn: 1755.8051969\ttotal: 2.88s\tremaining: 1.42s\n",
      "67:\tlearn: 1751.6615731\ttotal: 2.92s\tremaining: 1.38s\n",
      "68:\tlearn: 1748.3889902\ttotal: 2.97s\tremaining: 1.33s\n",
      "69:\tlearn: 1745.5931509\ttotal: 3.01s\tremaining: 1.29s\n",
      "70:\tlearn: 1742.4841669\ttotal: 3.06s\tremaining: 1.25s\n",
      "71:\tlearn: 1739.3173800\ttotal: 3.1s\tremaining: 1.21s\n",
      "72:\tlearn: 1736.2376427\ttotal: 3.14s\tremaining: 1.16s\n",
      "73:\tlearn: 1733.7775292\ttotal: 3.19s\tremaining: 1.12s\n",
      "74:\tlearn: 1731.0780951\ttotal: 3.23s\tremaining: 1.08s\n",
      "75:\tlearn: 1728.1277310\ttotal: 3.27s\tremaining: 1.03s\n",
      "76:\tlearn: 1726.0797642\ttotal: 3.32s\tremaining: 992ms\n",
      "77:\tlearn: 1723.7668289\ttotal: 3.36s\tremaining: 948ms\n",
      "78:\tlearn: 1721.2829130\ttotal: 3.41s\tremaining: 906ms\n",
      "79:\tlearn: 1719.3860765\ttotal: 3.45s\tremaining: 862ms\n",
      "80:\tlearn: 1717.1542375\ttotal: 3.5s\tremaining: 820ms\n",
      "81:\tlearn: 1714.7475574\ttotal: 3.54s\tremaining: 776ms\n",
      "82:\tlearn: 1712.6692651\ttotal: 3.58s\tremaining: 733ms\n",
      "83:\tlearn: 1710.3667432\ttotal: 3.62s\tremaining: 690ms\n",
      "84:\tlearn: 1707.9792363\ttotal: 3.66s\tremaining: 646ms\n",
      "85:\tlearn: 1706.5577037\ttotal: 3.71s\tremaining: 604ms\n",
      "86:\tlearn: 1703.8266272\ttotal: 3.75s\tremaining: 560ms\n",
      "87:\tlearn: 1701.9090640\ttotal: 3.79s\tremaining: 517ms\n",
      "88:\tlearn: 1699.9617279\ttotal: 3.84s\tremaining: 474ms\n",
      "89:\tlearn: 1697.7311225\ttotal: 3.89s\tremaining: 432ms\n",
      "90:\tlearn: 1696.0187847\ttotal: 3.93s\tremaining: 388ms\n",
      "91:\tlearn: 1693.1942008\ttotal: 3.97s\tremaining: 345ms\n",
      "92:\tlearn: 1691.7779538\ttotal: 4.01s\tremaining: 302ms\n",
      "93:\tlearn: 1690.3334018\ttotal: 4.05s\tremaining: 259ms\n",
      "94:\tlearn: 1688.2801075\ttotal: 4.1s\tremaining: 216ms\n",
      "95:\tlearn: 1686.5136043\ttotal: 4.15s\tremaining: 173ms\n",
      "96:\tlearn: 1685.1203777\ttotal: 4.2s\tremaining: 130ms\n",
      "97:\tlearn: 1683.5130163\ttotal: 4.24s\tremaining: 86.5ms\n",
      "98:\tlearn: 1681.9888579\ttotal: 4.28s\tremaining: 43.3ms\n",
      "99:\tlearn: 1680.8428100\ttotal: 4.33s\tremaining: 0us\n",
      "0:\tlearn: 3939.6599609\ttotal: 51.2ms\tremaining: 5.07s\n",
      "1:\tlearn: 3811.8289048\ttotal: 102ms\tremaining: 4.98s\n",
      "2:\tlearn: 3689.3904254\ttotal: 146ms\tremaining: 4.72s\n",
      "3:\tlearn: 3576.7188585\ttotal: 191ms\tremaining: 4.58s\n",
      "4:\tlearn: 3470.3679370\ttotal: 232ms\tremaining: 4.4s\n",
      "5:\tlearn: 3371.8014437\ttotal: 281ms\tremaining: 4.39s\n",
      "6:\tlearn: 3276.3082953\ttotal: 322ms\tremaining: 4.28s\n",
      "7:\tlearn: 3186.5095145\ttotal: 374ms\tremaining: 4.31s\n",
      "8:\tlearn: 3101.3018744\ttotal: 416ms\tremaining: 4.21s\n",
      "9:\tlearn: 3021.3061331\ttotal: 463ms\tremaining: 4.17s\n",
      "10:\tlearn: 2947.0056221\ttotal: 503ms\tremaining: 4.07s\n",
      "11:\tlearn: 2876.4815691\ttotal: 543ms\tremaining: 3.98s\n",
      "12:\tlearn: 2810.3787320\ttotal: 585ms\tremaining: 3.92s\n",
      "13:\tlearn: 2750.7683753\ttotal: 626ms\tremaining: 3.84s\n",
      "14:\tlearn: 2693.9192632\ttotal: 670ms\tremaining: 3.8s\n",
      "15:\tlearn: 2640.8388069\ttotal: 711ms\tremaining: 3.73s\n",
      "16:\tlearn: 2589.4007134\ttotal: 760ms\tremaining: 3.71s\n",
      "17:\tlearn: 2543.7804747\ttotal: 811ms\tremaining: 3.69s\n",
      "18:\tlearn: 2498.1845669\ttotal: 853ms\tremaining: 3.64s\n",
      "19:\tlearn: 2452.1618928\ttotal: 896ms\tremaining: 3.58s\n",
      "20:\tlearn: 2410.4738677\ttotal: 942ms\tremaining: 3.54s\n",
      "21:\tlearn: 2367.7827709\ttotal: 984ms\tremaining: 3.49s\n",
      "22:\tlearn: 2328.2461419\ttotal: 1.02s\tremaining: 3.43s\n",
      "23:\tlearn: 2293.9481427\ttotal: 1.07s\tremaining: 3.39s\n",
      "24:\tlearn: 2261.2587379\ttotal: 1.11s\tremaining: 3.33s\n",
      "25:\tlearn: 2230.4513360\ttotal: 1.15s\tremaining: 3.29s\n",
      "26:\tlearn: 2203.1004984\ttotal: 1.19s\tremaining: 3.23s\n",
      "27:\tlearn: 2174.6551773\ttotal: 1.24s\tremaining: 3.19s\n",
      "28:\tlearn: 2149.3002826\ttotal: 1.28s\tremaining: 3.15s\n",
      "29:\tlearn: 2125.2067141\ttotal: 1.33s\tremaining: 3.1s\n",
      "30:\tlearn: 2103.7027278\ttotal: 1.37s\tremaining: 3.05s\n",
      "31:\tlearn: 2083.8204754\ttotal: 1.41s\tremaining: 3s\n",
      "32:\tlearn: 2064.2329540\ttotal: 1.47s\tremaining: 2.98s\n",
      "33:\tlearn: 2045.6965780\ttotal: 1.51s\tremaining: 2.94s\n",
      "34:\tlearn: 2027.3726355\ttotal: 1.56s\tremaining: 2.9s\n",
      "35:\tlearn: 2012.6047719\ttotal: 1.6s\tremaining: 2.85s\n",
      "36:\tlearn: 1996.6935283\ttotal: 1.65s\tremaining: 2.81s\n",
      "37:\tlearn: 1983.2777890\ttotal: 1.69s\tremaining: 2.76s\n",
      "38:\tlearn: 1969.0373490\ttotal: 1.74s\tremaining: 2.72s\n",
      "39:\tlearn: 1954.5852580\ttotal: 1.78s\tremaining: 2.67s\n",
      "40:\tlearn: 1940.4103999\ttotal: 1.82s\tremaining: 2.62s\n",
      "41:\tlearn: 1927.8504577\ttotal: 1.86s\tremaining: 2.57s\n",
      "42:\tlearn: 1912.5620524\ttotal: 1.91s\tremaining: 2.53s\n",
      "43:\tlearn: 1899.3570585\ttotal: 1.95s\tremaining: 2.48s\n",
      "44:\tlearn: 1886.5921415\ttotal: 1.99s\tremaining: 2.44s\n",
      "45:\tlearn: 1874.0091529\ttotal: 2.04s\tremaining: 2.39s\n",
      "46:\tlearn: 1862.8364345\ttotal: 2.08s\tremaining: 2.34s\n",
      "47:\tlearn: 1852.6512038\ttotal: 2.12s\tremaining: 2.3s\n",
      "48:\tlearn: 1842.8773236\ttotal: 2.16s\tremaining: 2.25s\n",
      "49:\tlearn: 1834.7810930\ttotal: 2.21s\tremaining: 2.21s\n",
      "50:\tlearn: 1826.3927767\ttotal: 2.25s\tremaining: 2.16s\n",
      "51:\tlearn: 1819.1301534\ttotal: 2.29s\tremaining: 2.11s\n",
      "52:\tlearn: 1811.4213737\ttotal: 2.34s\tremaining: 2.07s\n",
      "53:\tlearn: 1803.5173863\ttotal: 2.39s\tremaining: 2.04s\n",
      "54:\tlearn: 1797.4155790\ttotal: 2.44s\tremaining: 1.99s\n",
      "55:\tlearn: 1791.9855387\ttotal: 2.48s\tremaining: 1.95s\n",
      "56:\tlearn: 1786.4215773\ttotal: 2.52s\tremaining: 1.9s\n",
      "57:\tlearn: 1781.0678071\ttotal: 2.56s\tremaining: 1.85s\n",
      "58:\tlearn: 1775.7860921\ttotal: 2.6s\tremaining: 1.81s\n",
      "59:\tlearn: 1770.5805150\ttotal: 2.64s\tremaining: 1.76s\n",
      "60:\tlearn: 1765.6368247\ttotal: 2.68s\tremaining: 1.71s\n",
      "61:\tlearn: 1761.1841158\ttotal: 2.73s\tremaining: 1.67s\n",
      "62:\tlearn: 1757.5095008\ttotal: 2.77s\tremaining: 1.63s\n",
      "63:\tlearn: 1753.4751356\ttotal: 2.81s\tremaining: 1.58s\n",
      "64:\tlearn: 1749.8680230\ttotal: 2.85s\tremaining: 1.54s\n",
      "65:\tlearn: 1746.0596731\ttotal: 2.9s\tremaining: 1.5s\n",
      "66:\tlearn: 1741.8447181\ttotal: 2.94s\tremaining: 1.45s\n",
      "67:\tlearn: 1737.8004889\ttotal: 2.98s\tremaining: 1.4s\n",
      "68:\tlearn: 1734.3576169\ttotal: 3.03s\tremaining: 1.36s\n",
      "69:\tlearn: 1730.4597541\ttotal: 3.08s\tremaining: 1.32s\n",
      "70:\tlearn: 1727.8723052\ttotal: 3.14s\tremaining: 1.28s\n",
      "71:\tlearn: 1724.6251848\ttotal: 3.19s\tremaining: 1.24s\n",
      "72:\tlearn: 1722.0373872\ttotal: 3.23s\tremaining: 1.2s\n",
      "73:\tlearn: 1719.5414499\ttotal: 3.27s\tremaining: 1.15s\n",
      "74:\tlearn: 1716.7140621\ttotal: 3.32s\tremaining: 1.11s\n",
      "75:\tlearn: 1714.1236585\ttotal: 3.36s\tremaining: 1.06s\n",
      "76:\tlearn: 1712.3657489\ttotal: 3.4s\tremaining: 1.02s\n",
      "77:\tlearn: 1710.1865890\ttotal: 3.44s\tremaining: 972ms\n",
      "78:\tlearn: 1707.4988370\ttotal: 3.49s\tremaining: 927ms\n",
      "79:\tlearn: 1705.1855491\ttotal: 3.53s\tremaining: 882ms\n",
      "80:\tlearn: 1702.3902108\ttotal: 3.57s\tremaining: 837ms\n",
      "81:\tlearn: 1700.1595857\ttotal: 3.62s\tremaining: 794ms\n",
      "82:\tlearn: 1698.0575462\ttotal: 3.65s\tremaining: 749ms\n",
      "83:\tlearn: 1696.0051564\ttotal: 3.7s\tremaining: 705ms\n",
      "84:\tlearn: 1694.3617037\ttotal: 3.74s\tremaining: 660ms\n",
      "85:\tlearn: 1692.4372110\ttotal: 3.78s\tremaining: 616ms\n",
      "86:\tlearn: 1690.7194296\ttotal: 3.83s\tremaining: 572ms\n",
      "87:\tlearn: 1689.0153172\ttotal: 3.86s\tremaining: 527ms\n",
      "88:\tlearn: 1687.5560614\ttotal: 3.91s\tremaining: 483ms\n",
      "89:\tlearn: 1685.9641913\ttotal: 3.95s\tremaining: 439ms\n",
      "90:\tlearn: 1684.5892039\ttotal: 4s\tremaining: 395ms\n",
      "91:\tlearn: 1683.0751695\ttotal: 4.03s\tremaining: 351ms\n",
      "92:\tlearn: 1681.4962975\ttotal: 4.08s\tremaining: 307ms\n",
      "93:\tlearn: 1679.5189014\ttotal: 4.12s\tremaining: 263ms\n",
      "94:\tlearn: 1677.7025665\ttotal: 4.15s\tremaining: 219ms\n",
      "95:\tlearn: 1676.4199160\ttotal: 4.2s\tremaining: 175ms\n",
      "96:\tlearn: 1675.0296982\ttotal: 4.23s\tremaining: 131ms\n",
      "97:\tlearn: 1673.8186119\ttotal: 4.28s\tremaining: 87.3ms\n",
      "98:\tlearn: 1672.5060498\ttotal: 4.32s\tremaining: 43.6ms\n",
      "99:\tlearn: 1670.8806173\ttotal: 4.36s\tremaining: 0us\n",
      "0:\tlearn: 3807.0752944\ttotal: 51.7ms\tremaining: 5.12s\n",
      "1:\tlearn: 3566.4581449\ttotal: 87.9ms\tremaining: 4.3s\n",
      "2:\tlearn: 3350.0779505\ttotal: 134ms\tremaining: 4.35s\n",
      "3:\tlearn: 3166.7638214\ttotal: 174ms\tremaining: 4.17s\n",
      "4:\tlearn: 3000.1688671\ttotal: 211ms\tremaining: 4.01s\n",
      "5:\tlearn: 2855.7934894\ttotal: 252ms\tremaining: 3.94s\n",
      "6:\tlearn: 2733.2050694\ttotal: 289ms\tremaining: 3.84s\n",
      "7:\tlearn: 2619.5087715\ttotal: 333ms\tremaining: 3.83s\n",
      "8:\tlearn: 2521.6164426\ttotal: 370ms\tremaining: 3.74s\n",
      "9:\tlearn: 2440.1778971\ttotal: 408ms\tremaining: 3.67s\n",
      "10:\tlearn: 2366.9992243\ttotal: 449ms\tremaining: 3.63s\n",
      "11:\tlearn: 2295.0009012\ttotal: 487ms\tremaining: 3.57s\n",
      "12:\tlearn: 2227.9628833\ttotal: 529ms\tremaining: 3.54s\n",
      "13:\tlearn: 2169.6832927\ttotal: 567ms\tremaining: 3.48s\n",
      "14:\tlearn: 2118.3414066\ttotal: 604ms\tremaining: 3.42s\n",
      "15:\tlearn: 2075.7495897\ttotal: 646ms\tremaining: 3.39s\n",
      "16:\tlearn: 2039.5666101\ttotal: 684ms\tremaining: 3.34s\n",
      "17:\tlearn: 2008.2476462\ttotal: 728ms\tremaining: 3.31s\n",
      "18:\tlearn: 1980.1424101\ttotal: 769ms\tremaining: 3.28s\n",
      "19:\tlearn: 1950.3074901\ttotal: 808ms\tremaining: 3.23s\n",
      "20:\tlearn: 1926.2231053\ttotal: 846ms\tremaining: 3.18s\n",
      "21:\tlearn: 1903.2215497\ttotal: 889ms\tremaining: 3.15s\n",
      "22:\tlearn: 1881.2507667\ttotal: 928ms\tremaining: 3.11s\n",
      "23:\tlearn: 1860.7116746\ttotal: 965ms\tremaining: 3.06s\n",
      "24:\tlearn: 1840.9107794\ttotal: 1.01s\tremaining: 3.02s\n",
      "25:\tlearn: 1824.3474626\ttotal: 1.04s\tremaining: 2.97s\n",
      "26:\tlearn: 1811.0337295\ttotal: 1.09s\tremaining: 2.94s\n",
      "27:\tlearn: 1798.1318428\ttotal: 1.13s\tremaining: 2.91s\n",
      "28:\tlearn: 1785.7811967\ttotal: 1.17s\tremaining: 2.87s\n",
      "29:\tlearn: 1776.5863542\ttotal: 1.22s\tremaining: 2.85s\n",
      "30:\tlearn: 1767.5430890\ttotal: 1.26s\tremaining: 2.8s\n",
      "31:\tlearn: 1760.2905579\ttotal: 1.3s\tremaining: 2.76s\n",
      "32:\tlearn: 1753.4514270\ttotal: 1.34s\tremaining: 2.72s\n",
      "33:\tlearn: 1748.0778403\ttotal: 1.38s\tremaining: 2.68s\n",
      "34:\tlearn: 1741.8450837\ttotal: 1.42s\tremaining: 2.63s\n",
      "35:\tlearn: 1736.1509807\ttotal: 1.46s\tremaining: 2.59s\n",
      "36:\tlearn: 1729.3841385\ttotal: 1.5s\tremaining: 2.55s\n",
      "37:\tlearn: 1724.0967880\ttotal: 1.54s\tremaining: 2.51s\n",
      "38:\tlearn: 1720.7531118\ttotal: 1.58s\tremaining: 2.48s\n",
      "39:\tlearn: 1716.6916706\ttotal: 1.62s\tremaining: 2.43s\n",
      "40:\tlearn: 1712.4070040\ttotal: 1.66s\tremaining: 2.39s\n",
      "41:\tlearn: 1708.3113425\ttotal: 1.7s\tremaining: 2.35s\n",
      "42:\tlearn: 1704.9708487\ttotal: 1.74s\tremaining: 2.31s\n",
      "43:\tlearn: 1700.3733268\ttotal: 1.78s\tremaining: 2.27s\n",
      "44:\tlearn: 1696.8424137\ttotal: 1.82s\tremaining: 2.23s\n",
      "45:\tlearn: 1693.3481678\ttotal: 1.86s\tremaining: 2.18s\n",
      "46:\tlearn: 1690.1950261\ttotal: 1.9s\tremaining: 2.15s\n",
      "47:\tlearn: 1687.7572805\ttotal: 1.94s\tremaining: 2.1s\n",
      "48:\tlearn: 1684.7397240\ttotal: 1.99s\tremaining: 2.07s\n",
      "49:\tlearn: 1683.0279365\ttotal: 2.02s\tremaining: 2.02s\n",
      "50:\tlearn: 1679.4030318\ttotal: 2.06s\tremaining: 1.98s\n",
      "51:\tlearn: 1676.0145270\ttotal: 2.11s\tremaining: 1.95s\n",
      "52:\tlearn: 1674.3646724\ttotal: 2.15s\tremaining: 1.9s\n",
      "53:\tlearn: 1672.8448753\ttotal: 2.19s\tremaining: 1.86s\n",
      "54:\tlearn: 1670.1727773\ttotal: 2.23s\tremaining: 1.82s\n",
      "55:\tlearn: 1666.6909090\ttotal: 2.26s\tremaining: 1.78s\n",
      "56:\tlearn: 1662.5572838\ttotal: 2.3s\tremaining: 1.74s\n",
      "57:\tlearn: 1660.0933871\ttotal: 2.34s\tremaining: 1.69s\n",
      "58:\tlearn: 1658.8935216\ttotal: 2.38s\tremaining: 1.66s\n",
      "59:\tlearn: 1656.1489477\ttotal: 2.42s\tremaining: 1.61s\n",
      "60:\tlearn: 1653.3549648\ttotal: 2.46s\tremaining: 1.57s\n",
      "61:\tlearn: 1652.0263596\ttotal: 2.5s\tremaining: 1.53s\n",
      "62:\tlearn: 1649.8351446\ttotal: 2.54s\tremaining: 1.49s\n",
      "63:\tlearn: 1646.7544499\ttotal: 2.58s\tremaining: 1.45s\n",
      "64:\tlearn: 1645.3538550\ttotal: 2.62s\tremaining: 1.41s\n",
      "65:\tlearn: 1643.6938845\ttotal: 2.66s\tremaining: 1.37s\n",
      "66:\tlearn: 1642.5614550\ttotal: 2.7s\tremaining: 1.33s\n",
      "67:\tlearn: 1641.6820342\ttotal: 2.74s\tremaining: 1.29s\n",
      "68:\tlearn: 1639.0629244\ttotal: 2.78s\tremaining: 1.25s\n",
      "69:\tlearn: 1636.5352291\ttotal: 2.82s\tremaining: 1.21s\n",
      "70:\tlearn: 1635.3360079\ttotal: 2.87s\tremaining: 1.17s\n",
      "71:\tlearn: 1633.9123905\ttotal: 2.9s\tremaining: 1.13s\n",
      "72:\tlearn: 1632.0463610\ttotal: 2.94s\tremaining: 1.09s\n",
      "73:\tlearn: 1630.9466610\ttotal: 2.99s\tremaining: 1.05s\n",
      "74:\tlearn: 1629.4662926\ttotal: 3.02s\tremaining: 1.01s\n",
      "75:\tlearn: 1626.6655811\ttotal: 3.07s\tremaining: 969ms\n",
      "76:\tlearn: 1624.8970370\ttotal: 3.1s\tremaining: 928ms\n",
      "77:\tlearn: 1623.5554354\ttotal: 3.14s\tremaining: 887ms\n",
      "78:\tlearn: 1621.9206040\ttotal: 3.18s\tremaining: 846ms\n",
      "79:\tlearn: 1620.8034732\ttotal: 3.22s\tremaining: 805ms\n",
      "80:\tlearn: 1618.7635349\ttotal: 3.27s\tremaining: 766ms\n",
      "81:\tlearn: 1615.5050382\ttotal: 3.3s\tremaining: 725ms\n",
      "82:\tlearn: 1612.7716238\ttotal: 3.34s\tremaining: 684ms\n",
      "83:\tlearn: 1609.6496820\ttotal: 3.38s\tremaining: 644ms\n",
      "84:\tlearn: 1607.7178389\ttotal: 3.42s\tremaining: 603ms\n",
      "85:\tlearn: 1605.6183414\ttotal: 3.46s\tremaining: 564ms\n",
      "86:\tlearn: 1603.8545466\ttotal: 3.5s\tremaining: 523ms\n",
      "87:\tlearn: 1602.4994280\ttotal: 3.54s\tremaining: 483ms\n",
      "88:\tlearn: 1600.6486369\ttotal: 3.58s\tremaining: 442ms\n",
      "89:\tlearn: 1599.1751824\ttotal: 3.62s\tremaining: 402ms\n",
      "90:\tlearn: 1597.7598475\ttotal: 3.66s\tremaining: 362ms\n",
      "91:\tlearn: 1596.8212015\ttotal: 3.7s\tremaining: 322ms\n",
      "92:\tlearn: 1595.3888712\ttotal: 3.75s\tremaining: 282ms\n",
      "93:\tlearn: 1593.8817846\ttotal: 3.79s\tremaining: 242ms\n",
      "94:\tlearn: 1592.8276908\ttotal: 3.83s\tremaining: 202ms\n",
      "95:\tlearn: 1590.8223674\ttotal: 3.87s\tremaining: 161ms\n",
      "96:\tlearn: 1590.2607807\ttotal: 3.91s\tremaining: 121ms\n",
      "97:\tlearn: 1588.9866284\ttotal: 3.96s\tremaining: 80.8ms\n",
      "98:\tlearn: 1587.3823478\ttotal: 4s\tremaining: 40.4ms\n",
      "99:\tlearn: 1586.0873783\ttotal: 4.04s\tremaining: 0us\n",
      "0:\tlearn: 3805.4488608\ttotal: 44.2ms\tremaining: 4.38s\n",
      "1:\tlearn: 3569.8385819\ttotal: 88.8ms\tremaining: 4.35s\n",
      "2:\tlearn: 3354.9360754\ttotal: 130ms\tremaining: 4.19s\n",
      "3:\tlearn: 3166.9419821\ttotal: 167ms\tremaining: 4s\n",
      "4:\tlearn: 3002.7874909\ttotal: 207ms\tremaining: 3.93s\n",
      "5:\tlearn: 2856.2114602\ttotal: 246ms\tremaining: 3.85s\n",
      "6:\tlearn: 2732.9470748\ttotal: 281ms\tremaining: 3.73s\n",
      "7:\tlearn: 2623.9504743\ttotal: 321ms\tremaining: 3.69s\n",
      "8:\tlearn: 2526.4855878\ttotal: 357ms\tremaining: 3.6s\n",
      "9:\tlearn: 2447.8127131\ttotal: 396ms\tremaining: 3.56s\n",
      "10:\tlearn: 2363.8127728\ttotal: 433ms\tremaining: 3.5s\n",
      "11:\tlearn: 2287.3254891\ttotal: 469ms\tremaining: 3.44s\n",
      "12:\tlearn: 2221.9845679\ttotal: 513ms\tremaining: 3.43s\n",
      "13:\tlearn: 2163.5451641\ttotal: 549ms\tremaining: 3.37s\n",
      "14:\tlearn: 2116.2122924\ttotal: 585ms\tremaining: 3.32s\n",
      "15:\tlearn: 2072.9443541\ttotal: 623ms\tremaining: 3.27s\n",
      "16:\tlearn: 2035.2282672\ttotal: 659ms\tremaining: 3.22s\n",
      "17:\tlearn: 2002.5568394\ttotal: 703ms\tremaining: 3.2s\n",
      "18:\tlearn: 1974.3118569\ttotal: 739ms\tremaining: 3.15s\n",
      "19:\tlearn: 1949.0256678\ttotal: 777ms\tremaining: 3.11s\n",
      "20:\tlearn: 1922.7953828\ttotal: 827ms\tremaining: 3.11s\n",
      "21:\tlearn: 1899.8506285\ttotal: 863ms\tremaining: 3.06s\n",
      "22:\tlearn: 1874.7563400\ttotal: 905ms\tremaining: 3.03s\n",
      "23:\tlearn: 1852.2885813\ttotal: 943ms\tremaining: 2.99s\n",
      "24:\tlearn: 1833.0033758\ttotal: 984ms\tremaining: 2.95s\n",
      "25:\tlearn: 1817.0922151\ttotal: 1.02s\tremaining: 2.91s\n",
      "26:\tlearn: 1803.1150816\ttotal: 1.06s\tremaining: 2.87s\n",
      "27:\tlearn: 1790.3380424\ttotal: 1.11s\tremaining: 2.85s\n",
      "28:\tlearn: 1779.3885850\ttotal: 1.15s\tremaining: 2.81s\n",
      "29:\tlearn: 1769.4073677\ttotal: 1.19s\tremaining: 2.78s\n",
      "30:\tlearn: 1759.7018973\ttotal: 1.23s\tremaining: 2.74s\n",
      "31:\tlearn: 1750.8324711\ttotal: 1.28s\tremaining: 2.72s\n",
      "32:\tlearn: 1744.0597626\ttotal: 1.32s\tremaining: 2.68s\n",
      "33:\tlearn: 1737.5439123\ttotal: 1.36s\tremaining: 2.64s\n",
      "34:\tlearn: 1731.5259875\ttotal: 1.4s\tremaining: 2.6s\n",
      "35:\tlearn: 1726.0554870\ttotal: 1.44s\tremaining: 2.56s\n",
      "36:\tlearn: 1720.0609127\ttotal: 1.49s\tremaining: 2.54s\n",
      "37:\tlearn: 1715.7696126\ttotal: 1.54s\tremaining: 2.51s\n",
      "38:\tlearn: 1708.9659039\ttotal: 1.58s\tremaining: 2.48s\n",
      "39:\tlearn: 1703.3907239\ttotal: 1.63s\tremaining: 2.44s\n",
      "40:\tlearn: 1699.7661702\ttotal: 1.67s\tremaining: 2.4s\n",
      "41:\tlearn: 1695.6988080\ttotal: 1.71s\tremaining: 2.36s\n",
      "42:\tlearn: 1691.9314145\ttotal: 1.75s\tremaining: 2.33s\n",
      "43:\tlearn: 1687.3422971\ttotal: 1.8s\tremaining: 2.29s\n",
      "44:\tlearn: 1683.8229063\ttotal: 1.85s\tremaining: 2.26s\n",
      "45:\tlearn: 1681.0568583\ttotal: 1.89s\tremaining: 2.22s\n",
      "46:\tlearn: 1678.4581219\ttotal: 1.93s\tremaining: 2.17s\n",
      "47:\tlearn: 1675.1528839\ttotal: 1.98s\tremaining: 2.14s\n",
      "48:\tlearn: 1672.7285267\ttotal: 2.02s\tremaining: 2.11s\n",
      "49:\tlearn: 1670.6566987\ttotal: 2.07s\tremaining: 2.07s\n",
      "50:\tlearn: 1667.9052563\ttotal: 2.1s\tremaining: 2.02s\n",
      "51:\tlearn: 1665.7840976\ttotal: 2.15s\tremaining: 1.98s\n",
      "52:\tlearn: 1663.8081575\ttotal: 2.19s\tremaining: 1.94s\n",
      "53:\tlearn: 1661.3634771\ttotal: 2.23s\tremaining: 1.9s\n",
      "54:\tlearn: 1659.6924868\ttotal: 2.27s\tremaining: 1.86s\n",
      "55:\tlearn: 1657.5421029\ttotal: 2.31s\tremaining: 1.81s\n",
      "56:\tlearn: 1655.8069553\ttotal: 2.35s\tremaining: 1.77s\n",
      "57:\tlearn: 1650.9489209\ttotal: 2.39s\tremaining: 1.73s\n",
      "58:\tlearn: 1646.6501429\ttotal: 2.44s\tremaining: 1.7s\n",
      "59:\tlearn: 1642.9589030\ttotal: 2.48s\tremaining: 1.65s\n",
      "60:\tlearn: 1639.7964395\ttotal: 2.51s\tremaining: 1.61s\n",
      "61:\tlearn: 1635.9909196\ttotal: 2.55s\tremaining: 1.56s\n",
      "62:\tlearn: 1633.2538260\ttotal: 2.59s\tremaining: 1.52s\n",
      "63:\tlearn: 1631.4282313\ttotal: 2.63s\tremaining: 1.48s\n",
      "64:\tlearn: 1627.6799483\ttotal: 2.67s\tremaining: 1.44s\n",
      "65:\tlearn: 1626.0123549\ttotal: 2.7s\tremaining: 1.39s\n",
      "66:\tlearn: 1624.7618388\ttotal: 2.75s\tremaining: 1.35s\n",
      "67:\tlearn: 1623.0478554\ttotal: 2.78s\tremaining: 1.31s\n",
      "68:\tlearn: 1622.3196919\ttotal: 2.82s\tremaining: 1.27s\n",
      "69:\tlearn: 1621.5229073\ttotal: 2.86s\tremaining: 1.23s\n",
      "70:\tlearn: 1619.0906258\ttotal: 2.9s\tremaining: 1.18s\n",
      "71:\tlearn: 1617.9462857\ttotal: 2.94s\tremaining: 1.14s\n",
      "72:\tlearn: 1615.6431724\ttotal: 2.98s\tremaining: 1.1s\n",
      "73:\tlearn: 1613.7729897\ttotal: 3.02s\tremaining: 1.06s\n",
      "74:\tlearn: 1612.5220126\ttotal: 3.07s\tremaining: 1.02s\n",
      "75:\tlearn: 1610.2613944\ttotal: 3.13s\tremaining: 987ms\n",
      "76:\tlearn: 1608.9606684\ttotal: 3.18s\tremaining: 949ms\n",
      "77:\tlearn: 1607.6228782\ttotal: 3.22s\tremaining: 909ms\n",
      "78:\tlearn: 1606.3938318\ttotal: 3.26s\tremaining: 867ms\n",
      "79:\tlearn: 1604.7568462\ttotal: 3.3s\tremaining: 825ms\n",
      "80:\tlearn: 1602.9074149\ttotal: 3.34s\tremaining: 784ms\n",
      "81:\tlearn: 1601.3593583\ttotal: 3.38s\tremaining: 741ms\n",
      "82:\tlearn: 1599.3868260\ttotal: 3.42s\tremaining: 700ms\n",
      "83:\tlearn: 1597.9062319\ttotal: 3.46s\tremaining: 658ms\n",
      "84:\tlearn: 1597.1452074\ttotal: 3.5s\tremaining: 617ms\n",
      "85:\tlearn: 1595.0833271\ttotal: 3.54s\tremaining: 576ms\n",
      "86:\tlearn: 1593.8587861\ttotal: 3.57s\tremaining: 534ms\n",
      "87:\tlearn: 1592.6512829\ttotal: 3.61s\tremaining: 493ms\n",
      "88:\tlearn: 1591.5722965\ttotal: 3.65s\tremaining: 451ms\n",
      "89:\tlearn: 1589.7331622\ttotal: 3.69s\tremaining: 410ms\n",
      "90:\tlearn: 1588.4966128\ttotal: 3.73s\tremaining: 369ms\n",
      "91:\tlearn: 1587.4181477\ttotal: 3.77s\tremaining: 328ms\n",
      "92:\tlearn: 1585.8448916\ttotal: 3.81s\tremaining: 287ms\n",
      "93:\tlearn: 1584.5601250\ttotal: 3.85s\tremaining: 246ms\n",
      "94:\tlearn: 1583.2705986\ttotal: 3.88s\tremaining: 204ms\n",
      "95:\tlearn: 1581.9387206\ttotal: 3.93s\tremaining: 164ms\n",
      "96:\tlearn: 1580.7407364\ttotal: 3.96s\tremaining: 123ms\n",
      "97:\tlearn: 1580.0413717\ttotal: 4.01s\tremaining: 81.8ms\n",
      "98:\tlearn: 1578.7943815\ttotal: 4.05s\tremaining: 40.9ms\n",
      "99:\tlearn: 1577.5372287\ttotal: 4.09s\tremaining: 0us\n",
      "0:\tlearn: 4049.2881440\ttotal: 64.3ms\tremaining: 1.86s\n",
      "1:\tlearn: 4020.9041091\ttotal: 126ms\tremaining: 1.76s\n",
      "2:\tlearn: 3993.0848228\ttotal: 177ms\tremaining: 1.59s\n",
      "3:\tlearn: 3965.5480075\ttotal: 234ms\tremaining: 1.52s\n",
      "4:\tlearn: 3938.0750604\ttotal: 288ms\tremaining: 1.44s\n",
      "5:\tlearn: 3910.9463414\ttotal: 343ms\tremaining: 1.37s\n",
      "6:\tlearn: 3884.5372392\ttotal: 392ms\tremaining: 1.29s\n",
      "7:\tlearn: 3858.6005187\ttotal: 445ms\tremaining: 1.22s\n",
      "8:\tlearn: 3832.8737030\ttotal: 493ms\tremaining: 1.15s\n",
      "9:\tlearn: 3807.3075126\ttotal: 548ms\tremaining: 1.1s\n",
      "10:\tlearn: 3782.4175511\ttotal: 597ms\tremaining: 1.03s\n",
      "11:\tlearn: 3757.4820116\ttotal: 647ms\tremaining: 970ms\n",
      "12:\tlearn: 3733.1209039\ttotal: 697ms\tremaining: 911ms\n",
      "13:\tlearn: 3708.4488716\ttotal: 748ms\tremaining: 854ms\n",
      "14:\tlearn: 3684.4099111\ttotal: 799ms\tremaining: 799ms\n",
      "15:\tlearn: 3660.4458656\ttotal: 850ms\tremaining: 743ms\n",
      "16:\tlearn: 3636.9665663\ttotal: 903ms\tremaining: 691ms\n",
      "17:\tlearn: 3613.5812708\ttotal: 953ms\tremaining: 635ms\n",
      "18:\tlearn: 3590.7827113\ttotal: 1.01s\tremaining: 588ms\n",
      "19:\tlearn: 3567.7710331\ttotal: 1.06s\tremaining: 532ms\n",
      "20:\tlearn: 3545.5618893\ttotal: 1.12s\tremaining: 479ms\n",
      "21:\tlearn: 3523.5909045\ttotal: 1.17s\tremaining: 426ms\n",
      "22:\tlearn: 3501.7593705\ttotal: 1.23s\tremaining: 375ms\n",
      "23:\tlearn: 3480.2730340\ttotal: 1.28s\tremaining: 320ms\n",
      "24:\tlearn: 3459.2001841\ttotal: 1.33s\tremaining: 267ms\n",
      "25:\tlearn: 3437.7139800\ttotal: 1.39s\tremaining: 214ms\n",
      "26:\tlearn: 3417.2846580\ttotal: 1.44s\tremaining: 160ms\n",
      "27:\tlearn: 3397.1009656\ttotal: 1.5s\tremaining: 107ms\n",
      "28:\tlearn: 3376.7839262\ttotal: 1.55s\tremaining: 53.3ms\n",
      "29:\tlearn: 3356.5424192\ttotal: 1.6s\tremaining: 0us\n",
      "0:\tlearn: 4048.0505120\ttotal: 54.6ms\tremaining: 1.58s\n",
      "1:\tlearn: 4020.1310525\ttotal: 112ms\tremaining: 1.56s\n",
      "2:\tlearn: 3992.4555682\ttotal: 161ms\tremaining: 1.44s\n",
      "3:\tlearn: 3965.4524924\ttotal: 217ms\tremaining: 1.41s\n",
      "4:\tlearn: 3938.6833175\ttotal: 271ms\tremaining: 1.35s\n",
      "5:\tlearn: 3911.9881372\ttotal: 325ms\tremaining: 1.3s\n",
      "6:\tlearn: 3885.7634442\ttotal: 387ms\tremaining: 1.27s\n",
      "7:\tlearn: 3859.7481459\ttotal: 437ms\tremaining: 1.2s\n",
      "8:\tlearn: 3833.8547935\ttotal: 491ms\tremaining: 1.15s\n",
      "9:\tlearn: 3808.5752227\ttotal: 541ms\tremaining: 1.08s\n",
      "10:\tlearn: 3782.9537193\ttotal: 599ms\tremaining: 1.03s\n",
      "11:\tlearn: 3757.5556938\ttotal: 649ms\tremaining: 974ms\n",
      "12:\tlearn: 3732.7634859\ttotal: 705ms\tremaining: 922ms\n",
      "13:\tlearn: 3708.4773395\ttotal: 758ms\tremaining: 866ms\n",
      "14:\tlearn: 3684.3346235\ttotal: 810ms\tremaining: 810ms\n",
      "15:\tlearn: 3660.3550087\ttotal: 870ms\tremaining: 761ms\n",
      "16:\tlearn: 3637.0394792\ttotal: 920ms\tremaining: 703ms\n",
      "17:\tlearn: 3613.5635036\ttotal: 980ms\tremaining: 653ms\n",
      "18:\tlearn: 3590.7876521\ttotal: 1.03s\tremaining: 596ms\n",
      "19:\tlearn: 3569.1616933\ttotal: 1.07s\tremaining: 537ms\n",
      "20:\tlearn: 3546.6846643\ttotal: 1.12s\tremaining: 482ms\n",
      "21:\tlearn: 3523.7941665\ttotal: 1.18s\tremaining: 429ms\n",
      "22:\tlearn: 3501.8959142\ttotal: 1.23s\tremaining: 374ms\n",
      "23:\tlearn: 3480.4586907\ttotal: 1.28s\tremaining: 321ms\n",
      "24:\tlearn: 3458.9660367\ttotal: 1.33s\tremaining: 266ms\n",
      "25:\tlearn: 3437.6153182\ttotal: 1.39s\tremaining: 214ms\n",
      "26:\tlearn: 3416.7782594\ttotal: 1.44s\tremaining: 160ms\n",
      "27:\tlearn: 3396.5807164\ttotal: 1.49s\tremaining: 107ms\n",
      "28:\tlearn: 3376.3906102\ttotal: 1.55s\tremaining: 53.3ms\n",
      "29:\tlearn: 3356.3483401\ttotal: 1.6s\tremaining: 0us\n",
      "0:\tlearn: 3936.1433148\ttotal: 65.1ms\tremaining: 1.89s\n",
      "1:\tlearn: 3804.7176924\ttotal: 121ms\tremaining: 1.69s\n",
      "2:\tlearn: 3679.0746470\ttotal: 179ms\tremaining: 1.61s\n",
      "3:\tlearn: 3560.4350178\ttotal: 236ms\tremaining: 1.54s\n",
      "4:\tlearn: 3448.0386100\ttotal: 288ms\tremaining: 1.44s\n",
      "5:\tlearn: 3341.6236217\ttotal: 345ms\tremaining: 1.38s\n",
      "6:\tlearn: 3243.1271512\ttotal: 398ms\tremaining: 1.31s\n",
      "7:\tlearn: 3152.3881990\ttotal: 454ms\tremaining: 1.25s\n",
      "8:\tlearn: 3064.2941357\ttotal: 511ms\tremaining: 1.19s\n",
      "9:\tlearn: 2983.4160396\ttotal: 564ms\tremaining: 1.13s\n",
      "10:\tlearn: 2905.1408359\ttotal: 620ms\tremaining: 1.07s\n",
      "11:\tlearn: 2831.3319216\ttotal: 671ms\tremaining: 1.01s\n",
      "12:\tlearn: 2764.6537139\ttotal: 728ms\tremaining: 953ms\n",
      "13:\tlearn: 2703.3538366\ttotal: 782ms\tremaining: 894ms\n",
      "14:\tlearn: 2643.1939485\ttotal: 840ms\tremaining: 840ms\n",
      "15:\tlearn: 2588.0383346\ttotal: 892ms\tremaining: 780ms\n",
      "16:\tlearn: 2535.9349296\ttotal: 950ms\tremaining: 726ms\n",
      "17:\tlearn: 2486.8427042\ttotal: 1.01s\tremaining: 671ms\n",
      "18:\tlearn: 2442.3915331\ttotal: 1.06s\tremaining: 613ms\n",
      "19:\tlearn: 2401.1808775\ttotal: 1.11s\tremaining: 558ms\n",
      "20:\tlearn: 2356.9282668\ttotal: 1.17s\tremaining: 500ms\n",
      "21:\tlearn: 2314.9642971\ttotal: 1.23s\tremaining: 446ms\n",
      "22:\tlearn: 2276.2114321\ttotal: 1.28s\tremaining: 389ms\n",
      "23:\tlearn: 2239.3885434\ttotal: 1.33s\tremaining: 334ms\n",
      "24:\tlearn: 2205.7745784\ttotal: 1.39s\tremaining: 278ms\n",
      "25:\tlearn: 2174.6730500\ttotal: 1.44s\tremaining: 222ms\n",
      "26:\tlearn: 2145.4312271\ttotal: 1.5s\tremaining: 166ms\n",
      "27:\tlearn: 2118.3142743\ttotal: 1.55s\tremaining: 110ms\n",
      "28:\tlearn: 2092.3193392\ttotal: 1.6s\tremaining: 55.2ms\n",
      "29:\tlearn: 2068.7432049\ttotal: 1.66s\tremaining: 0us\n",
      "0:\tlearn: 3935.8506864\ttotal: 59.5ms\tremaining: 1.73s\n",
      "1:\tlearn: 3803.1294130\ttotal: 115ms\tremaining: 1.61s\n",
      "2:\tlearn: 3678.1294476\ttotal: 168ms\tremaining: 1.51s\n",
      "3:\tlearn: 3562.9138534\ttotal: 231ms\tremaining: 1.5s\n",
      "4:\tlearn: 3449.4627448\ttotal: 289ms\tremaining: 1.45s\n",
      "5:\tlearn: 3344.0108744\ttotal: 350ms\tremaining: 1.4s\n",
      "6:\tlearn: 3245.3759737\ttotal: 410ms\tremaining: 1.35s\n",
      "7:\tlearn: 3153.2883011\ttotal: 468ms\tremaining: 1.28s\n",
      "8:\tlearn: 3065.3815533\ttotal: 535ms\tremaining: 1.25s\n",
      "9:\tlearn: 2984.1625086\ttotal: 594ms\tremaining: 1.19s\n",
      "10:\tlearn: 2908.7555862\ttotal: 652ms\tremaining: 1.13s\n",
      "11:\tlearn: 2836.7535958\ttotal: 717ms\tremaining: 1.08s\n",
      "12:\tlearn: 2769.9539115\ttotal: 775ms\tremaining: 1.01s\n",
      "13:\tlearn: 2707.7971477\ttotal: 839ms\tremaining: 958ms\n",
      "14:\tlearn: 2649.1647303\ttotal: 894ms\tremaining: 894ms\n",
      "15:\tlearn: 2592.7615633\ttotal: 955ms\tremaining: 835ms\n",
      "16:\tlearn: 2540.7756321\ttotal: 1.02s\tremaining: 778ms\n",
      "17:\tlearn: 2493.6828340\ttotal: 1.07s\tremaining: 716ms\n",
      "18:\tlearn: 2448.2598664\ttotal: 1.14s\tremaining: 660ms\n",
      "19:\tlearn: 2401.5372190\ttotal: 1.21s\tremaining: 607ms\n",
      "20:\tlearn: 2355.8019367\ttotal: 1.27s\tremaining: 547ms\n",
      "21:\tlearn: 2312.8935187\ttotal: 1.34s\tremaining: 487ms\n",
      "22:\tlearn: 2273.1217094\ttotal: 1.4s\tremaining: 425ms\n",
      "23:\tlearn: 2237.0149317\ttotal: 1.45s\tremaining: 363ms\n",
      "24:\tlearn: 2203.6511315\ttotal: 1.51s\tremaining: 303ms\n",
      "25:\tlearn: 2171.8388848\ttotal: 1.57s\tremaining: 241ms\n",
      "26:\tlearn: 2141.9442321\ttotal: 1.63s\tremaining: 181ms\n",
      "27:\tlearn: 2114.7715391\ttotal: 1.68s\tremaining: 120ms\n",
      "28:\tlearn: 2088.7461813\ttotal: 1.74s\tremaining: 60.1ms\n",
      "29:\tlearn: 2065.8845304\ttotal: 1.8s\tremaining: 0us\n",
      "0:\tlearn: 3796.8397709\ttotal: 69.2ms\tremaining: 2.01s\n",
      "1:\tlearn: 3545.4554744\ttotal: 131ms\tremaining: 1.83s\n",
      "2:\tlearn: 3327.5420638\ttotal: 191ms\tremaining: 1.72s\n",
      "3:\tlearn: 3131.0622191\ttotal: 244ms\tremaining: 1.58s\n",
      "4:\tlearn: 2960.9375582\ttotal: 300ms\tremaining: 1.5s\n",
      "5:\tlearn: 2810.7199023\ttotal: 365ms\tremaining: 1.46s\n",
      "6:\tlearn: 2682.7875680\ttotal: 419ms\tremaining: 1.38s\n",
      "7:\tlearn: 2568.7549294\ttotal: 477ms\tremaining: 1.31s\n",
      "8:\tlearn: 2471.5112460\ttotal: 533ms\tremaining: 1.24s\n",
      "9:\tlearn: 2385.9445879\ttotal: 589ms\tremaining: 1.18s\n",
      "10:\tlearn: 2301.0206137\ttotal: 646ms\tremaining: 1.11s\n",
      "11:\tlearn: 2229.3372059\ttotal: 700ms\tremaining: 1.05s\n",
      "12:\tlearn: 2167.2898276\ttotal: 760ms\tremaining: 993ms\n",
      "13:\tlearn: 2111.3938261\ttotal: 814ms\tremaining: 931ms\n",
      "14:\tlearn: 2057.5752155\ttotal: 875ms\tremaining: 875ms\n",
      "15:\tlearn: 2010.5192210\ttotal: 928ms\tremaining: 812ms\n",
      "16:\tlearn: 1967.3522030\ttotal: 984ms\tremaining: 753ms\n",
      "17:\tlearn: 1932.0086018\ttotal: 1.04s\tremaining: 697ms\n",
      "18:\tlearn: 1901.0476676\ttotal: 1.1s\tremaining: 636ms\n",
      "19:\tlearn: 1874.5376880\ttotal: 1.16s\tremaining: 578ms\n",
      "20:\tlearn: 1851.7457353\ttotal: 1.21s\tremaining: 519ms\n",
      "21:\tlearn: 1830.1509663\ttotal: 1.27s\tremaining: 463ms\n",
      "22:\tlearn: 1811.7503485\ttotal: 1.32s\tremaining: 403ms\n",
      "23:\tlearn: 1796.8576436\ttotal: 1.38s\tremaining: 345ms\n",
      "24:\tlearn: 1778.7835181\ttotal: 1.44s\tremaining: 288ms\n",
      "25:\tlearn: 1760.1194352\ttotal: 1.49s\tremaining: 230ms\n",
      "26:\tlearn: 1745.5966993\ttotal: 1.55s\tremaining: 173ms\n",
      "27:\tlearn: 1733.6905115\ttotal: 1.6s\tremaining: 115ms\n",
      "28:\tlearn: 1722.8074676\ttotal: 1.66s\tremaining: 57.3ms\n",
      "29:\tlearn: 1712.7216567\ttotal: 1.71s\tremaining: 0us\n",
      "0:\tlearn: 3797.7561485\ttotal: 53.1ms\tremaining: 1.54s\n",
      "1:\tlearn: 3546.1552859\ttotal: 110ms\tremaining: 1.54s\n",
      "2:\tlearn: 3330.8298967\ttotal: 159ms\tremaining: 1.43s\n",
      "3:\tlearn: 3143.0844066\ttotal: 217ms\tremaining: 1.41s\n",
      "4:\tlearn: 2975.7694540\ttotal: 275ms\tremaining: 1.37s\n",
      "5:\tlearn: 2822.3020898\ttotal: 324ms\tremaining: 1.3s\n",
      "6:\tlearn: 2695.3822276\ttotal: 377ms\tremaining: 1.24s\n",
      "7:\tlearn: 2579.5574145\ttotal: 433ms\tremaining: 1.19s\n",
      "8:\tlearn: 2480.5283224\ttotal: 488ms\tremaining: 1.14s\n",
      "9:\tlearn: 2392.0929987\ttotal: 539ms\tremaining: 1.08s\n",
      "10:\tlearn: 2301.9904211\ttotal: 596ms\tremaining: 1.03s\n",
      "11:\tlearn: 2226.4082204\ttotal: 644ms\tremaining: 966ms\n",
      "12:\tlearn: 2159.3106350\ttotal: 700ms\tremaining: 915ms\n",
      "13:\tlearn: 2101.1016049\ttotal: 751ms\tremaining: 858ms\n",
      "14:\tlearn: 2050.7475484\ttotal: 810ms\tremaining: 810ms\n",
      "15:\tlearn: 2010.8475884\ttotal: 863ms\tremaining: 755ms\n",
      "16:\tlearn: 1972.2126539\ttotal: 916ms\tremaining: 700ms\n",
      "17:\tlearn: 1932.6688635\ttotal: 974ms\tremaining: 649ms\n",
      "18:\tlearn: 1899.1482057\ttotal: 1.02s\tremaining: 593ms\n",
      "19:\tlearn: 1869.5220039\ttotal: 1.08s\tremaining: 539ms\n",
      "20:\tlearn: 1844.7534905\ttotal: 1.13s\tremaining: 484ms\n",
      "21:\tlearn: 1823.2435462\ttotal: 1.19s\tremaining: 433ms\n",
      "22:\tlearn: 1799.8570121\ttotal: 1.24s\tremaining: 378ms\n",
      "23:\tlearn: 1777.3706280\ttotal: 1.3s\tremaining: 324ms\n",
      "24:\tlearn: 1761.3868291\ttotal: 1.35s\tremaining: 269ms\n",
      "25:\tlearn: 1744.0907650\ttotal: 1.4s\tremaining: 215ms\n",
      "26:\tlearn: 1729.4517423\ttotal: 1.46s\tremaining: 162ms\n",
      "27:\tlearn: 1717.9227470\ttotal: 1.51s\tremaining: 108ms\n",
      "28:\tlearn: 1707.5252936\ttotal: 1.56s\tremaining: 54ms\n",
      "29:\tlearn: 1697.9540995\ttotal: 1.62s\tremaining: 0us\n",
      "0:\tlearn: 4049.2881440\ttotal: 63.3ms\tremaining: 3.1s\n",
      "1:\tlearn: 4020.9041091\ttotal: 120ms\tremaining: 2.89s\n",
      "2:\tlearn: 3993.0848228\ttotal: 181ms\tremaining: 2.83s\n",
      "3:\tlearn: 3965.5480075\ttotal: 230ms\tremaining: 2.64s\n",
      "4:\tlearn: 3938.0750604\ttotal: 287ms\tremaining: 2.58s\n",
      "5:\tlearn: 3910.9463414\ttotal: 338ms\tremaining: 2.48s\n",
      "6:\tlearn: 3884.5372392\ttotal: 392ms\tremaining: 2.41s\n",
      "7:\tlearn: 3858.6005187\ttotal: 443ms\tremaining: 2.33s\n",
      "8:\tlearn: 3832.8737030\ttotal: 495ms\tremaining: 2.26s\n",
      "9:\tlearn: 3807.3075126\ttotal: 549ms\tremaining: 2.19s\n",
      "10:\tlearn: 3782.4175511\ttotal: 603ms\tremaining: 2.14s\n",
      "11:\tlearn: 3757.4820116\ttotal: 659ms\tremaining: 2.08s\n",
      "12:\tlearn: 3733.1209039\ttotal: 711ms\tremaining: 2.02s\n",
      "13:\tlearn: 3708.4488716\ttotal: 770ms\tremaining: 1.98s\n",
      "14:\tlearn: 3684.4099111\ttotal: 825ms\tremaining: 1.92s\n",
      "15:\tlearn: 3660.4458656\ttotal: 880ms\tremaining: 1.87s\n",
      "16:\tlearn: 3636.9665663\ttotal: 935ms\tremaining: 1.81s\n",
      "17:\tlearn: 3613.5812708\ttotal: 988ms\tremaining: 1.75s\n",
      "18:\tlearn: 3590.7827113\ttotal: 1.04s\tremaining: 1.7s\n",
      "19:\tlearn: 3567.7710331\ttotal: 1.09s\tremaining: 1.64s\n",
      "20:\tlearn: 3545.5618893\ttotal: 1.15s\tremaining: 1.59s\n",
      "21:\tlearn: 3523.5909045\ttotal: 1.21s\tremaining: 1.53s\n",
      "22:\tlearn: 3501.7593705\ttotal: 1.26s\tremaining: 1.48s\n",
      "23:\tlearn: 3480.2730340\ttotal: 1.31s\tremaining: 1.42s\n",
      "24:\tlearn: 3459.2001841\ttotal: 1.37s\tremaining: 1.37s\n",
      "25:\tlearn: 3437.7139800\ttotal: 1.42s\tremaining: 1.31s\n",
      "26:\tlearn: 3417.2846580\ttotal: 1.47s\tremaining: 1.25s\n",
      "27:\tlearn: 3397.1009656\ttotal: 1.53s\tremaining: 1.2s\n",
      "28:\tlearn: 3376.7839262\ttotal: 1.58s\tremaining: 1.14s\n",
      "29:\tlearn: 3356.5424192\ttotal: 1.64s\tremaining: 1.09s\n",
      "30:\tlearn: 3336.3027300\ttotal: 1.69s\tremaining: 1.03s\n",
      "31:\tlearn: 3316.7934247\ttotal: 1.74s\tremaining: 980ms\n",
      "32:\tlearn: 3297.6810951\ttotal: 1.79s\tremaining: 924ms\n",
      "33:\tlearn: 3278.4040326\ttotal: 1.85s\tremaining: 872ms\n",
      "34:\tlearn: 3259.4931409\ttotal: 1.91s\tremaining: 818ms\n",
      "35:\tlearn: 3240.4451830\ttotal: 1.96s\tremaining: 763ms\n",
      "36:\tlearn: 3222.2500411\ttotal: 2.02s\tremaining: 709ms\n",
      "37:\tlearn: 3203.9643019\ttotal: 2.07s\tremaining: 653ms\n",
      "38:\tlearn: 3185.6655344\ttotal: 2.12s\tremaining: 599ms\n",
      "39:\tlearn: 3168.2413456\ttotal: 2.17s\tremaining: 544ms\n",
      "40:\tlearn: 3151.3681345\ttotal: 2.24s\tremaining: 491ms\n",
      "41:\tlearn: 3133.9361532\ttotal: 2.29s\tremaining: 437ms\n",
      "42:\tlearn: 3116.7593614\ttotal: 2.35s\tremaining: 382ms\n",
      "43:\tlearn: 3100.2014928\ttotal: 2.4s\tremaining: 328ms\n",
      "44:\tlearn: 3083.7667433\ttotal: 2.45s\tremaining: 272ms\n",
      "45:\tlearn: 3066.7907655\ttotal: 2.51s\tremaining: 218ms\n",
      "46:\tlearn: 3050.5779843\ttotal: 2.57s\tremaining: 164ms\n",
      "47:\tlearn: 3034.6771149\ttotal: 2.63s\tremaining: 110ms\n",
      "48:\tlearn: 3019.0222620\ttotal: 2.68s\tremaining: 54.7ms\n",
      "49:\tlearn: 3002.8287340\ttotal: 2.74s\tremaining: 0us\n",
      "0:\tlearn: 4048.0505120\ttotal: 55.7ms\tremaining: 2.73s\n",
      "1:\tlearn: 4020.1310525\ttotal: 113ms\tremaining: 2.71s\n",
      "2:\tlearn: 3992.4555682\ttotal: 162ms\tremaining: 2.54s\n",
      "3:\tlearn: 3965.4524924\ttotal: 222ms\tremaining: 2.56s\n",
      "4:\tlearn: 3938.6833175\ttotal: 273ms\tremaining: 2.46s\n",
      "5:\tlearn: 3911.9881372\ttotal: 333ms\tremaining: 2.44s\n",
      "6:\tlearn: 3885.7634442\ttotal: 386ms\tremaining: 2.37s\n",
      "7:\tlearn: 3859.7481459\ttotal: 456ms\tremaining: 2.4s\n",
      "8:\tlearn: 3833.8547935\ttotal: 529ms\tremaining: 2.41s\n",
      "9:\tlearn: 3808.5752227\ttotal: 597ms\tremaining: 2.39s\n",
      "10:\tlearn: 3782.9537193\ttotal: 647ms\tremaining: 2.29s\n",
      "11:\tlearn: 3757.5556938\ttotal: 702ms\tremaining: 2.22s\n",
      "12:\tlearn: 3732.7634859\ttotal: 757ms\tremaining: 2.15s\n",
      "13:\tlearn: 3708.4773395\ttotal: 815ms\tremaining: 2.1s\n",
      "14:\tlearn: 3684.3346235\ttotal: 868ms\tremaining: 2.02s\n",
      "15:\tlearn: 3660.3550087\ttotal: 919ms\tremaining: 1.95s\n",
      "16:\tlearn: 3637.0394792\ttotal: 970ms\tremaining: 1.88s\n",
      "17:\tlearn: 3613.5635036\ttotal: 1.02s\tremaining: 1.82s\n",
      "18:\tlearn: 3590.7876521\ttotal: 1.08s\tremaining: 1.76s\n",
      "19:\tlearn: 3569.1616933\ttotal: 1.12s\tremaining: 1.67s\n",
      "20:\tlearn: 3546.6846643\ttotal: 1.17s\tremaining: 1.61s\n",
      "21:\tlearn: 3523.7941665\ttotal: 1.22s\tremaining: 1.55s\n",
      "22:\tlearn: 3501.8959142\ttotal: 1.28s\tremaining: 1.5s\n",
      "23:\tlearn: 3480.4586907\ttotal: 1.33s\tremaining: 1.44s\n",
      "24:\tlearn: 3458.9660367\ttotal: 1.4s\tremaining: 1.4s\n",
      "25:\tlearn: 3437.6153182\ttotal: 1.45s\tremaining: 1.34s\n",
      "26:\tlearn: 3416.7782594\ttotal: 1.51s\tremaining: 1.29s\n",
      "27:\tlearn: 3396.5807164\ttotal: 1.56s\tremaining: 1.23s\n",
      "28:\tlearn: 3376.3906102\ttotal: 1.61s\tremaining: 1.17s\n",
      "29:\tlearn: 3356.3483401\ttotal: 1.67s\tremaining: 1.11s\n",
      "30:\tlearn: 3336.2375984\ttotal: 1.72s\tremaining: 1.05s\n",
      "31:\tlearn: 3316.4497009\ttotal: 1.78s\tremaining: 1s\n",
      "32:\tlearn: 3297.2546475\ttotal: 1.84s\tremaining: 947ms\n",
      "33:\tlearn: 3277.8115833\ttotal: 1.89s\tremaining: 891ms\n",
      "34:\tlearn: 3259.0396445\ttotal: 1.95s\tremaining: 834ms\n",
      "35:\tlearn: 3240.4095939\ttotal: 2s\tremaining: 777ms\n",
      "36:\tlearn: 3222.1206218\ttotal: 2.05s\tremaining: 720ms\n",
      "37:\tlearn: 3203.9563109\ttotal: 2.1s\tremaining: 664ms\n",
      "38:\tlearn: 3186.2818031\ttotal: 2.16s\tremaining: 610ms\n",
      "39:\tlearn: 3168.4124493\ttotal: 2.21s\tremaining: 554ms\n",
      "40:\tlearn: 3151.0221184\ttotal: 2.27s\tremaining: 499ms\n",
      "41:\tlearn: 3133.4940708\ttotal: 2.33s\tremaining: 443ms\n",
      "42:\tlearn: 3116.3431503\ttotal: 2.39s\tremaining: 388ms\n",
      "43:\tlearn: 3099.4523317\ttotal: 2.44s\tremaining: 332ms\n",
      "44:\tlearn: 3083.0599432\ttotal: 2.49s\tremaining: 277ms\n",
      "45:\tlearn: 3066.5151482\ttotal: 2.54s\tremaining: 221ms\n",
      "46:\tlearn: 3050.3148164\ttotal: 2.59s\tremaining: 165ms\n",
      "47:\tlearn: 3034.2323123\ttotal: 2.65s\tremaining: 110ms\n",
      "48:\tlearn: 3017.9638441\ttotal: 2.7s\tremaining: 55.1ms\n",
      "49:\tlearn: 3002.4320372\ttotal: 2.76s\tremaining: 0us\n",
      "0:\tlearn: 3936.1433148\ttotal: 67.7ms\tremaining: 3.31s\n",
      "1:\tlearn: 3804.7176924\ttotal: 124ms\tremaining: 2.97s\n",
      "2:\tlearn: 3679.0746470\ttotal: 182ms\tremaining: 2.85s\n",
      "3:\tlearn: 3560.4350178\ttotal: 236ms\tremaining: 2.72s\n",
      "4:\tlearn: 3448.0386100\ttotal: 287ms\tremaining: 2.58s\n",
      "5:\tlearn: 3341.6236217\ttotal: 344ms\tremaining: 2.52s\n",
      "6:\tlearn: 3243.1271512\ttotal: 400ms\tremaining: 2.46s\n",
      "7:\tlearn: 3152.3881990\ttotal: 454ms\tremaining: 2.38s\n",
      "8:\tlearn: 3064.2941357\ttotal: 503ms\tremaining: 2.29s\n",
      "9:\tlearn: 2983.4160396\ttotal: 560ms\tremaining: 2.24s\n",
      "10:\tlearn: 2905.1408359\ttotal: 610ms\tremaining: 2.16s\n",
      "11:\tlearn: 2831.3319216\ttotal: 665ms\tremaining: 2.11s\n",
      "12:\tlearn: 2764.6537139\ttotal: 720ms\tremaining: 2.05s\n",
      "13:\tlearn: 2703.3538366\ttotal: 771ms\tremaining: 1.98s\n",
      "14:\tlearn: 2643.1939485\ttotal: 835ms\tremaining: 1.95s\n",
      "15:\tlearn: 2588.0383346\ttotal: 892ms\tremaining: 1.9s\n",
      "16:\tlearn: 2535.9349296\ttotal: 949ms\tremaining: 1.84s\n",
      "17:\tlearn: 2486.8427042\ttotal: 999ms\tremaining: 1.78s\n",
      "18:\tlearn: 2442.3915331\ttotal: 1.06s\tremaining: 1.72s\n",
      "19:\tlearn: 2401.1808775\ttotal: 1.1s\tremaining: 1.66s\n",
      "20:\tlearn: 2356.9282668\ttotal: 1.16s\tremaining: 1.6s\n",
      "21:\tlearn: 2314.9642971\ttotal: 1.21s\tremaining: 1.54s\n",
      "22:\tlearn: 2276.2114321\ttotal: 1.27s\tremaining: 1.49s\n",
      "23:\tlearn: 2239.3885434\ttotal: 1.32s\tremaining: 1.43s\n",
      "24:\tlearn: 2205.7745784\ttotal: 1.37s\tremaining: 1.37s\n",
      "25:\tlearn: 2174.6730500\ttotal: 1.43s\tremaining: 1.32s\n",
      "26:\tlearn: 2145.4312271\ttotal: 1.48s\tremaining: 1.26s\n",
      "27:\tlearn: 2118.3142743\ttotal: 1.53s\tremaining: 1.2s\n",
      "28:\tlearn: 2092.3193392\ttotal: 1.58s\tremaining: 1.15s\n",
      "29:\tlearn: 2068.7432049\ttotal: 1.64s\tremaining: 1.1s\n",
      "30:\tlearn: 2046.6643398\ttotal: 1.69s\tremaining: 1.04s\n",
      "31:\tlearn: 2026.0028750\ttotal: 1.75s\tremaining: 982ms\n",
      "32:\tlearn: 2006.1794824\ttotal: 1.79s\tremaining: 925ms\n",
      "33:\tlearn: 1987.7722076\ttotal: 1.84s\tremaining: 869ms\n",
      "34:\tlearn: 1967.4072412\ttotal: 1.91s\tremaining: 817ms\n",
      "35:\tlearn: 1948.1181294\ttotal: 1.96s\tremaining: 760ms\n",
      "36:\tlearn: 1930.6323111\ttotal: 2.01s\tremaining: 706ms\n",
      "37:\tlearn: 1914.2331537\ttotal: 2.06s\tremaining: 650ms\n",
      "38:\tlearn: 1898.6750744\ttotal: 2.11s\tremaining: 596ms\n",
      "39:\tlearn: 1884.3723064\ttotal: 2.16s\tremaining: 540ms\n",
      "40:\tlearn: 1871.0975911\ttotal: 2.22s\tremaining: 487ms\n",
      "41:\tlearn: 1859.0041930\ttotal: 2.26s\tremaining: 431ms\n",
      "42:\tlearn: 1847.3103756\ttotal: 2.32s\tremaining: 378ms\n",
      "43:\tlearn: 1837.0253918\ttotal: 2.37s\tremaining: 324ms\n",
      "44:\tlearn: 1827.6034141\ttotal: 2.43s\tremaining: 270ms\n",
      "45:\tlearn: 1816.2466351\ttotal: 2.48s\tremaining: 216ms\n",
      "46:\tlearn: 1805.0106147\ttotal: 2.53s\tremaining: 162ms\n",
      "47:\tlearn: 1795.2226646\ttotal: 2.58s\tremaining: 108ms\n",
      "48:\tlearn: 1786.1762573\ttotal: 2.63s\tremaining: 53.7ms\n",
      "49:\tlearn: 1776.8566159\ttotal: 2.68s\tremaining: 0us\n",
      "0:\tlearn: 3935.8506864\ttotal: 57.8ms\tremaining: 2.83s\n",
      "1:\tlearn: 3803.1294130\ttotal: 109ms\tremaining: 2.62s\n",
      "2:\tlearn: 3678.1294476\ttotal: 162ms\tremaining: 2.54s\n",
      "3:\tlearn: 3562.9138534\ttotal: 215ms\tremaining: 2.47s\n",
      "4:\tlearn: 3449.4627448\ttotal: 268ms\tremaining: 2.41s\n",
      "5:\tlearn: 3344.0108744\ttotal: 321ms\tremaining: 2.35s\n",
      "6:\tlearn: 3245.3759737\ttotal: 375ms\tremaining: 2.3s\n",
      "7:\tlearn: 3153.2883011\ttotal: 425ms\tremaining: 2.23s\n",
      "8:\tlearn: 3065.3815533\ttotal: 475ms\tremaining: 2.17s\n",
      "9:\tlearn: 2984.1625086\ttotal: 538ms\tremaining: 2.15s\n",
      "10:\tlearn: 2908.7555862\ttotal: 589ms\tremaining: 2.09s\n",
      "11:\tlearn: 2836.7535958\ttotal: 643ms\tremaining: 2.04s\n",
      "12:\tlearn: 2769.9539115\ttotal: 691ms\tremaining: 1.97s\n",
      "13:\tlearn: 2707.7971477\ttotal: 749ms\tremaining: 1.93s\n",
      "14:\tlearn: 2649.1647303\ttotal: 797ms\tremaining: 1.86s\n",
      "15:\tlearn: 2592.7615633\ttotal: 851ms\tremaining: 1.81s\n",
      "16:\tlearn: 2540.7756321\ttotal: 900ms\tremaining: 1.75s\n",
      "17:\tlearn: 2493.6828340\ttotal: 955ms\tremaining: 1.7s\n",
      "18:\tlearn: 2448.2598664\ttotal: 1s\tremaining: 1.64s\n",
      "19:\tlearn: 2401.5372190\ttotal: 1.06s\tremaining: 1.58s\n",
      "20:\tlearn: 2355.8019367\ttotal: 1.1s\tremaining: 1.53s\n",
      "21:\tlearn: 2312.8935187\ttotal: 1.16s\tremaining: 1.48s\n",
      "22:\tlearn: 2273.1217094\ttotal: 1.22s\tremaining: 1.43s\n",
      "23:\tlearn: 2237.0149317\ttotal: 1.27s\tremaining: 1.37s\n",
      "24:\tlearn: 2203.6511315\ttotal: 1.32s\tremaining: 1.32s\n",
      "25:\tlearn: 2171.8388848\ttotal: 1.37s\tremaining: 1.27s\n",
      "26:\tlearn: 2141.9442321\ttotal: 1.43s\tremaining: 1.22s\n",
      "27:\tlearn: 2114.7715391\ttotal: 1.48s\tremaining: 1.16s\n",
      "28:\tlearn: 2088.7461813\ttotal: 1.53s\tremaining: 1.11s\n",
      "29:\tlearn: 2065.8845304\ttotal: 1.58s\tremaining: 1.05s\n",
      "30:\tlearn: 2040.3957292\ttotal: 1.64s\tremaining: 1s\n",
      "31:\tlearn: 2016.8008370\ttotal: 1.69s\tremaining: 950ms\n",
      "32:\tlearn: 1995.4406800\ttotal: 1.74s\tremaining: 897ms\n",
      "33:\tlearn: 1975.0298693\ttotal: 1.79s\tremaining: 844ms\n",
      "34:\tlearn: 1957.0123661\ttotal: 1.84s\tremaining: 789ms\n",
      "35:\tlearn: 1940.2159444\ttotal: 1.9s\tremaining: 737ms\n",
      "36:\tlearn: 1922.8310808\ttotal: 1.95s\tremaining: 684ms\n",
      "37:\tlearn: 1907.1255504\ttotal: 2s\tremaining: 633ms\n",
      "38:\tlearn: 1892.7330970\ttotal: 2.06s\tremaining: 580ms\n",
      "39:\tlearn: 1879.2345776\ttotal: 2.11s\tremaining: 527ms\n",
      "40:\tlearn: 1866.1432563\ttotal: 2.16s\tremaining: 474ms\n",
      "41:\tlearn: 1854.2733544\ttotal: 2.22s\tremaining: 422ms\n",
      "42:\tlearn: 1843.5812591\ttotal: 2.27s\tremaining: 369ms\n",
      "43:\tlearn: 1833.2316038\ttotal: 2.32s\tremaining: 317ms\n",
      "44:\tlearn: 1823.1391266\ttotal: 2.38s\tremaining: 264ms\n",
      "45:\tlearn: 1811.5893162\ttotal: 2.43s\tremaining: 211ms\n",
      "46:\tlearn: 1798.8334053\ttotal: 2.49s\tremaining: 159ms\n",
      "47:\tlearn: 1787.9685257\ttotal: 2.54s\tremaining: 106ms\n",
      "48:\tlearn: 1777.9999600\ttotal: 2.59s\tremaining: 53ms\n",
      "49:\tlearn: 1769.5246105\ttotal: 2.64s\tremaining: 0us\n",
      "0:\tlearn: 3796.8397709\ttotal: 65.4ms\tremaining: 3.21s\n",
      "1:\tlearn: 3545.4554744\ttotal: 121ms\tremaining: 2.9s\n",
      "2:\tlearn: 3327.5420638\ttotal: 180ms\tremaining: 2.83s\n",
      "3:\tlearn: 3131.0622191\ttotal: 242ms\tremaining: 2.79s\n",
      "4:\tlearn: 2960.9375582\ttotal: 300ms\tremaining: 2.7s\n",
      "5:\tlearn: 2810.7199023\ttotal: 367ms\tremaining: 2.69s\n",
      "6:\tlearn: 2682.7875680\ttotal: 415ms\tremaining: 2.55s\n",
      "7:\tlearn: 2568.7549294\ttotal: 471ms\tremaining: 2.47s\n",
      "8:\tlearn: 2471.5112460\ttotal: 523ms\tremaining: 2.38s\n",
      "9:\tlearn: 2385.9445879\ttotal: 579ms\tremaining: 2.32s\n",
      "10:\tlearn: 2301.0206137\ttotal: 632ms\tremaining: 2.24s\n",
      "11:\tlearn: 2229.3372059\ttotal: 685ms\tremaining: 2.17s\n",
      "12:\tlearn: 2167.2898276\ttotal: 746ms\tremaining: 2.12s\n",
      "13:\tlearn: 2111.3938261\ttotal: 801ms\tremaining: 2.06s\n",
      "14:\tlearn: 2057.5752155\ttotal: 858ms\tremaining: 2s\n",
      "15:\tlearn: 2010.5192210\ttotal: 913ms\tremaining: 1.94s\n",
      "16:\tlearn: 1967.3522030\ttotal: 971ms\tremaining: 1.88s\n",
      "17:\tlearn: 1932.0086018\ttotal: 1.03s\tremaining: 1.83s\n",
      "18:\tlearn: 1901.0476676\ttotal: 1.08s\tremaining: 1.77s\n",
      "19:\tlearn: 1874.5376880\ttotal: 1.14s\tremaining: 1.71s\n",
      "20:\tlearn: 1851.7457353\ttotal: 1.19s\tremaining: 1.64s\n",
      "21:\tlearn: 1830.1509663\ttotal: 1.25s\tremaining: 1.59s\n",
      "22:\tlearn: 1811.7503485\ttotal: 1.3s\tremaining: 1.53s\n",
      "23:\tlearn: 1796.8576436\ttotal: 1.36s\tremaining: 1.47s\n",
      "24:\tlearn: 1778.7835181\ttotal: 1.42s\tremaining: 1.42s\n",
      "25:\tlearn: 1760.1194352\ttotal: 1.47s\tremaining: 1.36s\n",
      "26:\tlearn: 1745.5966993\ttotal: 1.53s\tremaining: 1.3s\n",
      "27:\tlearn: 1733.6905115\ttotal: 1.58s\tremaining: 1.24s\n",
      "28:\tlearn: 1722.8074676\ttotal: 1.64s\tremaining: 1.19s\n",
      "29:\tlearn: 1712.7216567\ttotal: 1.69s\tremaining: 1.12s\n",
      "30:\tlearn: 1703.7850043\ttotal: 1.74s\tremaining: 1.07s\n",
      "31:\tlearn: 1695.4146909\ttotal: 1.79s\tremaining: 1.01s\n",
      "32:\tlearn: 1689.0799498\ttotal: 1.85s\tremaining: 952ms\n",
      "33:\tlearn: 1682.1958846\ttotal: 1.92s\tremaining: 905ms\n",
      "34:\tlearn: 1676.7032789\ttotal: 1.97s\tremaining: 846ms\n",
      "35:\tlearn: 1670.8105710\ttotal: 2.03s\tremaining: 790ms\n",
      "36:\tlearn: 1663.1996688\ttotal: 2.08s\tremaining: 732ms\n",
      "37:\tlearn: 1658.3884325\ttotal: 2.15s\tremaining: 678ms\n",
      "38:\tlearn: 1652.6044250\ttotal: 2.2s\tremaining: 620ms\n",
      "39:\tlearn: 1648.3247692\ttotal: 2.25s\tremaining: 563ms\n",
      "40:\tlearn: 1644.2303033\ttotal: 2.31s\tremaining: 507ms\n",
      "41:\tlearn: 1639.2503096\ttotal: 2.36s\tremaining: 450ms\n",
      "42:\tlearn: 1634.8165760\ttotal: 2.42s\tremaining: 394ms\n",
      "43:\tlearn: 1631.6502641\ttotal: 2.47s\tremaining: 337ms\n",
      "44:\tlearn: 1628.5133501\ttotal: 2.53s\tremaining: 281ms\n",
      "45:\tlearn: 1625.0496875\ttotal: 2.58s\tremaining: 225ms\n",
      "46:\tlearn: 1622.0502317\ttotal: 2.64s\tremaining: 169ms\n",
      "47:\tlearn: 1619.5487029\ttotal: 2.7s\tremaining: 113ms\n",
      "48:\tlearn: 1617.1623854\ttotal: 2.75s\tremaining: 56.2ms\n",
      "49:\tlearn: 1614.5339623\ttotal: 2.81s\tremaining: 0us\n",
      "0:\tlearn: 3797.7561485\ttotal: 60.5ms\tremaining: 2.96s\n",
      "1:\tlearn: 3546.1552859\ttotal: 114ms\tremaining: 2.73s\n",
      "2:\tlearn: 3330.8298967\ttotal: 168ms\tremaining: 2.63s\n",
      "3:\tlearn: 3143.0844066\ttotal: 222ms\tremaining: 2.56s\n",
      "4:\tlearn: 2975.7694540\ttotal: 284ms\tremaining: 2.55s\n",
      "5:\tlearn: 2822.3020898\ttotal: 334ms\tremaining: 2.45s\n",
      "6:\tlearn: 2695.3822276\ttotal: 390ms\tremaining: 2.4s\n",
      "7:\tlearn: 2579.5574145\ttotal: 442ms\tremaining: 2.32s\n",
      "8:\tlearn: 2480.5283224\ttotal: 503ms\tremaining: 2.29s\n",
      "9:\tlearn: 2392.0929987\ttotal: 566ms\tremaining: 2.26s\n",
      "10:\tlearn: 2301.9904211\ttotal: 621ms\tremaining: 2.2s\n",
      "11:\tlearn: 2226.4082204\ttotal: 676ms\tremaining: 2.14s\n",
      "12:\tlearn: 2159.3106350\ttotal: 726ms\tremaining: 2.06s\n",
      "13:\tlearn: 2101.1016049\ttotal: 781ms\tremaining: 2.01s\n",
      "14:\tlearn: 2050.7475484\ttotal: 831ms\tremaining: 1.94s\n",
      "15:\tlearn: 2010.8475884\ttotal: 886ms\tremaining: 1.88s\n",
      "16:\tlearn: 1972.2126539\ttotal: 939ms\tremaining: 1.82s\n",
      "17:\tlearn: 1932.6688635\ttotal: 994ms\tremaining: 1.77s\n",
      "18:\tlearn: 1899.1482057\ttotal: 1.05s\tremaining: 1.72s\n",
      "19:\tlearn: 1869.5220039\ttotal: 1.1s\tremaining: 1.65s\n",
      "20:\tlearn: 1844.7534905\ttotal: 1.16s\tremaining: 1.6s\n",
      "21:\tlearn: 1823.2435462\ttotal: 1.21s\tremaining: 1.54s\n",
      "22:\tlearn: 1799.8570121\ttotal: 1.27s\tremaining: 1.49s\n",
      "23:\tlearn: 1777.3706280\ttotal: 1.32s\tremaining: 1.43s\n",
      "24:\tlearn: 1761.3868291\ttotal: 1.37s\tremaining: 1.37s\n",
      "25:\tlearn: 1744.0907650\ttotal: 1.43s\tremaining: 1.32s\n",
      "26:\tlearn: 1729.4517423\ttotal: 1.48s\tremaining: 1.26s\n",
      "27:\tlearn: 1717.9227470\ttotal: 1.54s\tremaining: 1.21s\n",
      "28:\tlearn: 1707.5252936\ttotal: 1.59s\tremaining: 1.15s\n",
      "29:\tlearn: 1697.9540995\ttotal: 1.64s\tremaining: 1.1s\n",
      "30:\tlearn: 1689.5436175\ttotal: 1.69s\tremaining: 1.04s\n",
      "31:\tlearn: 1682.1431223\ttotal: 1.75s\tremaining: 984ms\n",
      "32:\tlearn: 1674.1683122\ttotal: 1.8s\tremaining: 927ms\n",
      "33:\tlearn: 1667.0145705\ttotal: 1.86s\tremaining: 874ms\n",
      "34:\tlearn: 1661.6757287\ttotal: 1.91s\tremaining: 817ms\n",
      "35:\tlearn: 1655.2003210\ttotal: 1.96s\tremaining: 762ms\n",
      "36:\tlearn: 1648.6097722\ttotal: 2.02s\tremaining: 708ms\n",
      "37:\tlearn: 1643.8072353\ttotal: 2.07s\tremaining: 652ms\n",
      "38:\tlearn: 1639.0419223\ttotal: 2.12s\tremaining: 599ms\n",
      "39:\tlearn: 1634.8017602\ttotal: 2.17s\tremaining: 543ms\n",
      "40:\tlearn: 1630.2934816\ttotal: 2.23s\tremaining: 489ms\n",
      "41:\tlearn: 1627.3560130\ttotal: 2.28s\tremaining: 434ms\n",
      "42:\tlearn: 1622.6900609\ttotal: 2.33s\tremaining: 380ms\n",
      "43:\tlearn: 1618.4301132\ttotal: 2.38s\tremaining: 325ms\n",
      "44:\tlearn: 1615.4889705\ttotal: 2.44s\tremaining: 271ms\n",
      "45:\tlearn: 1612.1736102\ttotal: 2.5s\tremaining: 217ms\n",
      "46:\tlearn: 1608.6406726\ttotal: 2.55s\tremaining: 163ms\n",
      "47:\tlearn: 1606.0899352\ttotal: 2.61s\tremaining: 109ms\n",
      "48:\tlearn: 1603.7936517\ttotal: 2.66s\tremaining: 54.3ms\n",
      "49:\tlearn: 1601.3922547\ttotal: 2.72s\tremaining: 0us\n",
      "0:\tlearn: 4049.2881440\ttotal: 65.6ms\tremaining: 6.49s\n",
      "1:\tlearn: 4020.9041091\ttotal: 123ms\tremaining: 6.04s\n",
      "2:\tlearn: 3993.0848228\ttotal: 176ms\tremaining: 5.69s\n",
      "3:\tlearn: 3965.5480075\ttotal: 233ms\tremaining: 5.59s\n",
      "4:\tlearn: 3938.0750604\ttotal: 292ms\tremaining: 5.54s\n",
      "5:\tlearn: 3910.9463414\ttotal: 351ms\tremaining: 5.5s\n",
      "6:\tlearn: 3884.5372392\ttotal: 407ms\tremaining: 5.41s\n",
      "7:\tlearn: 3858.6005187\ttotal: 464ms\tremaining: 5.33s\n",
      "8:\tlearn: 3832.8737030\ttotal: 519ms\tremaining: 5.25s\n",
      "9:\tlearn: 3807.3075126\ttotal: 582ms\tremaining: 5.24s\n",
      "10:\tlearn: 3782.4175511\ttotal: 640ms\tremaining: 5.18s\n",
      "11:\tlearn: 3757.4820116\ttotal: 693ms\tremaining: 5.08s\n",
      "12:\tlearn: 3733.1209039\ttotal: 749ms\tremaining: 5.01s\n",
      "13:\tlearn: 3708.4488716\ttotal: 799ms\tremaining: 4.91s\n",
      "14:\tlearn: 3684.4099111\ttotal: 853ms\tremaining: 4.84s\n",
      "15:\tlearn: 3660.4458656\ttotal: 903ms\tremaining: 4.74s\n",
      "16:\tlearn: 3636.9665663\ttotal: 956ms\tremaining: 4.67s\n",
      "17:\tlearn: 3613.5812708\ttotal: 1.01s\tremaining: 4.6s\n",
      "18:\tlearn: 3590.7827113\ttotal: 1.06s\tremaining: 4.52s\n",
      "19:\tlearn: 3567.7710331\ttotal: 1.11s\tremaining: 4.46s\n",
      "20:\tlearn: 3545.5618893\ttotal: 1.17s\tremaining: 4.42s\n",
      "21:\tlearn: 3523.5909045\ttotal: 1.24s\tremaining: 4.4s\n",
      "22:\tlearn: 3501.7593705\ttotal: 1.3s\tremaining: 4.34s\n",
      "23:\tlearn: 3480.2730340\ttotal: 1.35s\tremaining: 4.27s\n",
      "24:\tlearn: 3459.2001841\ttotal: 1.4s\tremaining: 4.21s\n",
      "25:\tlearn: 3437.7139800\ttotal: 1.46s\tremaining: 4.14s\n",
      "26:\tlearn: 3417.2846580\ttotal: 1.51s\tremaining: 4.08s\n",
      "27:\tlearn: 3397.1009656\ttotal: 1.56s\tremaining: 4.01s\n",
      "28:\tlearn: 3376.7839262\ttotal: 1.61s\tremaining: 3.95s\n",
      "29:\tlearn: 3356.5424192\ttotal: 1.66s\tremaining: 3.88s\n",
      "30:\tlearn: 3336.3027300\ttotal: 1.72s\tremaining: 3.84s\n",
      "31:\tlearn: 3316.7934247\ttotal: 1.77s\tremaining: 3.77s\n",
      "32:\tlearn: 3297.6810951\ttotal: 1.83s\tremaining: 3.71s\n",
      "33:\tlearn: 3278.4040326\ttotal: 1.87s\tremaining: 3.64s\n",
      "34:\tlearn: 3259.4931409\ttotal: 1.93s\tremaining: 3.59s\n",
      "35:\tlearn: 3240.4451830\ttotal: 1.98s\tremaining: 3.52s\n",
      "36:\tlearn: 3222.2500411\ttotal: 2.04s\tremaining: 3.48s\n",
      "37:\tlearn: 3203.9643019\ttotal: 2.1s\tremaining: 3.43s\n",
      "38:\tlearn: 3185.6655344\ttotal: 2.15s\tremaining: 3.36s\n",
      "39:\tlearn: 3168.2413456\ttotal: 2.2s\tremaining: 3.3s\n",
      "40:\tlearn: 3151.3681345\ttotal: 2.25s\tremaining: 3.23s\n",
      "41:\tlearn: 3133.9361532\ttotal: 2.3s\tremaining: 3.18s\n",
      "42:\tlearn: 3116.7593614\ttotal: 2.35s\tremaining: 3.12s\n",
      "43:\tlearn: 3100.2014928\ttotal: 2.41s\tremaining: 3.07s\n",
      "44:\tlearn: 3083.7667433\ttotal: 2.46s\tremaining: 3.01s\n",
      "45:\tlearn: 3066.7907655\ttotal: 2.51s\tremaining: 2.95s\n",
      "46:\tlearn: 3050.5779843\ttotal: 2.56s\tremaining: 2.89s\n",
      "47:\tlearn: 3034.6771149\ttotal: 2.62s\tremaining: 2.83s\n",
      "48:\tlearn: 3019.0222620\ttotal: 2.67s\tremaining: 2.77s\n",
      "49:\tlearn: 3002.8287340\ttotal: 2.73s\tremaining: 2.73s\n",
      "50:\tlearn: 2987.1387759\ttotal: 2.79s\tremaining: 2.69s\n",
      "51:\tlearn: 2971.5130353\ttotal: 2.85s\tremaining: 2.63s\n",
      "52:\tlearn: 2956.6029214\ttotal: 2.9s\tremaining: 2.58s\n",
      "53:\tlearn: 2941.2765714\ttotal: 2.95s\tremaining: 2.52s\n",
      "54:\tlearn: 2926.4706301\ttotal: 3.01s\tremaining: 2.46s\n",
      "55:\tlearn: 2911.7846796\ttotal: 3.06s\tremaining: 2.4s\n",
      "56:\tlearn: 2897.2205366\ttotal: 3.12s\tremaining: 2.35s\n",
      "57:\tlearn: 2883.3015956\ttotal: 3.18s\tremaining: 2.3s\n",
      "58:\tlearn: 2868.9877528\ttotal: 3.23s\tremaining: 2.24s\n",
      "59:\tlearn: 2855.7050393\ttotal: 3.28s\tremaining: 2.19s\n",
      "60:\tlearn: 2841.8444052\ttotal: 3.33s\tremaining: 2.13s\n",
      "61:\tlearn: 2828.5544885\ttotal: 3.39s\tremaining: 2.08s\n",
      "62:\tlearn: 2814.8785050\ttotal: 3.45s\tremaining: 2.03s\n",
      "63:\tlearn: 2802.0967990\ttotal: 3.51s\tremaining: 1.97s\n",
      "64:\tlearn: 2788.9010212\ttotal: 3.56s\tremaining: 1.92s\n",
      "65:\tlearn: 2775.4937628\ttotal: 3.62s\tremaining: 1.86s\n",
      "66:\tlearn: 2762.7244367\ttotal: 3.68s\tremaining: 1.81s\n",
      "67:\tlearn: 2750.0304157\ttotal: 3.73s\tremaining: 1.76s\n",
      "68:\tlearn: 2737.8213040\ttotal: 3.79s\tremaining: 1.7s\n",
      "69:\tlearn: 2725.8837007\ttotal: 3.84s\tremaining: 1.65s\n",
      "70:\tlearn: 2713.3772686\ttotal: 3.9s\tremaining: 1.59s\n",
      "71:\tlearn: 2701.5058034\ttotal: 3.96s\tremaining: 1.54s\n",
      "72:\tlearn: 2689.2892685\ttotal: 4.01s\tremaining: 1.48s\n",
      "73:\tlearn: 2677.5987544\ttotal: 4.07s\tremaining: 1.43s\n",
      "74:\tlearn: 2666.2108701\ttotal: 4.13s\tremaining: 1.38s\n",
      "75:\tlearn: 2654.5154694\ttotal: 4.19s\tremaining: 1.32s\n",
      "76:\tlearn: 2643.0676148\ttotal: 4.25s\tremaining: 1.27s\n",
      "77:\tlearn: 2632.2878766\ttotal: 4.3s\tremaining: 1.21s\n",
      "78:\tlearn: 2621.3677334\ttotal: 4.36s\tremaining: 1.16s\n",
      "79:\tlearn: 2610.5514349\ttotal: 4.41s\tremaining: 1.1s\n",
      "80:\tlearn: 2599.8963692\ttotal: 4.47s\tremaining: 1.05s\n",
      "81:\tlearn: 2589.2370326\ttotal: 4.53s\tremaining: 994ms\n",
      "82:\tlearn: 2579.1803403\ttotal: 4.59s\tremaining: 940ms\n",
      "83:\tlearn: 2568.6216641\ttotal: 4.64s\tremaining: 884ms\n",
      "84:\tlearn: 2558.4576098\ttotal: 4.7s\tremaining: 829ms\n",
      "85:\tlearn: 2548.3566690\ttotal: 4.76s\tremaining: 776ms\n",
      "86:\tlearn: 2538.8914154\ttotal: 4.82s\tremaining: 720ms\n",
      "87:\tlearn: 2529.1012650\ttotal: 4.88s\tremaining: 665ms\n",
      "88:\tlearn: 2519.4919526\ttotal: 4.93s\tremaining: 610ms\n",
      "89:\tlearn: 2510.3325531\ttotal: 4.99s\tremaining: 554ms\n",
      "90:\tlearn: 2501.1000709\ttotal: 5.04s\tremaining: 499ms\n",
      "91:\tlearn: 2490.8460525\ttotal: 5.1s\tremaining: 443ms\n",
      "92:\tlearn: 2480.5116500\ttotal: 5.16s\tremaining: 388ms\n",
      "93:\tlearn: 2470.0357632\ttotal: 5.21s\tremaining: 333ms\n",
      "94:\tlearn: 2460.2727765\ttotal: 5.27s\tremaining: 277ms\n",
      "95:\tlearn: 2450.5588490\ttotal: 5.32s\tremaining: 222ms\n",
      "96:\tlearn: 2440.9610682\ttotal: 5.38s\tremaining: 166ms\n",
      "97:\tlearn: 2431.3966793\ttotal: 5.44s\tremaining: 111ms\n",
      "98:\tlearn: 2422.5481245\ttotal: 5.5s\tremaining: 55.5ms\n",
      "99:\tlearn: 2413.3522157\ttotal: 5.56s\tremaining: 0us\n",
      "0:\tlearn: 4048.0505120\ttotal: 59ms\tremaining: 5.84s\n",
      "1:\tlearn: 4020.1310525\ttotal: 111ms\tremaining: 5.43s\n",
      "2:\tlearn: 3992.4555682\ttotal: 167ms\tremaining: 5.39s\n",
      "3:\tlearn: 3965.4524924\ttotal: 221ms\tremaining: 5.31s\n",
      "4:\tlearn: 3938.6833175\ttotal: 276ms\tremaining: 5.24s\n",
      "5:\tlearn: 3911.9881372\ttotal: 330ms\tremaining: 5.17s\n",
      "6:\tlearn: 3885.7634442\ttotal: 385ms\tremaining: 5.12s\n",
      "7:\tlearn: 3859.7481459\ttotal: 434ms\tremaining: 4.99s\n",
      "8:\tlearn: 3833.8547935\ttotal: 488ms\tremaining: 4.93s\n",
      "9:\tlearn: 3808.5752227\ttotal: 540ms\tremaining: 4.86s\n",
      "10:\tlearn: 3782.9537193\ttotal: 592ms\tremaining: 4.79s\n",
      "11:\tlearn: 3757.5556938\ttotal: 642ms\tremaining: 4.71s\n",
      "12:\tlearn: 3732.7634859\ttotal: 694ms\tremaining: 4.64s\n",
      "13:\tlearn: 3708.4773395\ttotal: 755ms\tremaining: 4.64s\n",
      "14:\tlearn: 3684.3346235\ttotal: 811ms\tremaining: 4.6s\n",
      "15:\tlearn: 3660.3550087\ttotal: 867ms\tremaining: 4.55s\n",
      "16:\tlearn: 3637.0394792\ttotal: 917ms\tremaining: 4.47s\n",
      "17:\tlearn: 3613.5635036\ttotal: 973ms\tremaining: 4.43s\n",
      "18:\tlearn: 3590.7876521\ttotal: 1.02s\tremaining: 4.36s\n",
      "19:\tlearn: 3569.1616933\ttotal: 1.07s\tremaining: 4.29s\n",
      "20:\tlearn: 3546.6846643\ttotal: 1.13s\tremaining: 4.25s\n",
      "21:\tlearn: 3523.7941665\ttotal: 1.19s\tremaining: 4.22s\n",
      "22:\tlearn: 3501.8959142\ttotal: 1.25s\tremaining: 4.17s\n",
      "23:\tlearn: 3480.4586907\ttotal: 1.3s\tremaining: 4.12s\n",
      "24:\tlearn: 3458.9660367\ttotal: 1.36s\tremaining: 4.09s\n",
      "25:\tlearn: 3437.6153182\ttotal: 1.42s\tremaining: 4.04s\n",
      "26:\tlearn: 3416.7782594\ttotal: 1.48s\tremaining: 4s\n",
      "27:\tlearn: 3396.5807164\ttotal: 1.53s\tremaining: 3.94s\n",
      "28:\tlearn: 3376.3906102\ttotal: 1.58s\tremaining: 3.88s\n",
      "29:\tlearn: 3356.3483401\ttotal: 1.65s\tremaining: 3.84s\n",
      "30:\tlearn: 3336.2375984\ttotal: 1.7s\tremaining: 3.78s\n",
      "31:\tlearn: 3316.4497009\ttotal: 1.76s\tremaining: 3.74s\n",
      "32:\tlearn: 3297.2546475\ttotal: 1.81s\tremaining: 3.68s\n",
      "33:\tlearn: 3277.8115833\ttotal: 1.88s\tremaining: 3.64s\n",
      "34:\tlearn: 3259.0396445\ttotal: 1.93s\tremaining: 3.58s\n",
      "35:\tlearn: 3240.4095939\ttotal: 1.99s\tremaining: 3.53s\n",
      "36:\tlearn: 3222.1206218\ttotal: 2.05s\tremaining: 3.49s\n",
      "37:\tlearn: 3203.9563109\ttotal: 2.1s\tremaining: 3.43s\n",
      "38:\tlearn: 3186.2818031\ttotal: 2.16s\tremaining: 3.38s\n",
      "39:\tlearn: 3168.4124493\ttotal: 2.22s\tremaining: 3.33s\n",
      "40:\tlearn: 3151.0221184\ttotal: 2.27s\tremaining: 3.27s\n",
      "41:\tlearn: 3133.4940708\ttotal: 2.34s\tremaining: 3.23s\n",
      "42:\tlearn: 3116.3431503\ttotal: 2.39s\tremaining: 3.17s\n",
      "43:\tlearn: 3099.4523317\ttotal: 2.44s\tremaining: 3.11s\n",
      "44:\tlearn: 3083.0599432\ttotal: 2.5s\tremaining: 3.05s\n",
      "45:\tlearn: 3066.5151482\ttotal: 2.56s\tremaining: 3s\n",
      "46:\tlearn: 3050.3148164\ttotal: 2.61s\tremaining: 2.94s\n",
      "47:\tlearn: 3034.2323123\ttotal: 2.67s\tremaining: 2.89s\n",
      "48:\tlearn: 3017.9638441\ttotal: 2.72s\tremaining: 2.83s\n",
      "49:\tlearn: 3002.4320372\ttotal: 2.78s\tremaining: 2.78s\n",
      "50:\tlearn: 2986.5031924\ttotal: 2.83s\tremaining: 2.72s\n",
      "51:\tlearn: 2971.2885431\ttotal: 2.89s\tremaining: 2.67s\n",
      "52:\tlearn: 2956.0182480\ttotal: 2.95s\tremaining: 2.61s\n",
      "53:\tlearn: 2940.9353123\ttotal: 3s\tremaining: 2.56s\n",
      "54:\tlearn: 2926.0307596\ttotal: 3.06s\tremaining: 2.5s\n",
      "55:\tlearn: 2911.8090896\ttotal: 3.12s\tremaining: 2.45s\n",
      "56:\tlearn: 2897.9903564\ttotal: 3.17s\tremaining: 2.39s\n",
      "57:\tlearn: 2883.4366798\ttotal: 3.24s\tremaining: 2.35s\n",
      "58:\tlearn: 2869.4364772\ttotal: 3.3s\tremaining: 2.29s\n",
      "59:\tlearn: 2855.9474179\ttotal: 3.35s\tremaining: 2.23s\n",
      "60:\tlearn: 2842.5153688\ttotal: 3.41s\tremaining: 2.18s\n",
      "61:\tlearn: 2828.8729156\ttotal: 3.47s\tremaining: 2.12s\n",
      "62:\tlearn: 2815.6662187\ttotal: 3.53s\tremaining: 2.07s\n",
      "63:\tlearn: 2802.8905706\ttotal: 3.58s\tremaining: 2.02s\n",
      "64:\tlearn: 2789.6818627\ttotal: 3.64s\tremaining: 1.96s\n",
      "65:\tlearn: 2776.9003703\ttotal: 3.71s\tremaining: 1.91s\n",
      "66:\tlearn: 2764.6705660\ttotal: 3.76s\tremaining: 1.85s\n",
      "67:\tlearn: 2752.3334668\ttotal: 3.82s\tremaining: 1.79s\n",
      "68:\tlearn: 2739.6824381\ttotal: 3.87s\tremaining: 1.74s\n",
      "69:\tlearn: 2727.4860825\ttotal: 3.94s\tremaining: 1.69s\n",
      "70:\tlearn: 2715.1276530\ttotal: 3.99s\tremaining: 1.63s\n",
      "71:\tlearn: 2702.8765720\ttotal: 4.05s\tremaining: 1.57s\n",
      "72:\tlearn: 2691.3286760\ttotal: 4.11s\tremaining: 1.52s\n",
      "73:\tlearn: 2679.6636405\ttotal: 4.17s\tremaining: 1.46s\n",
      "74:\tlearn: 2668.0410034\ttotal: 4.23s\tremaining: 1.41s\n",
      "75:\tlearn: 2656.3187036\ttotal: 4.29s\tremaining: 1.35s\n",
      "76:\tlearn: 2645.0517049\ttotal: 4.35s\tremaining: 1.3s\n",
      "77:\tlearn: 2634.1133369\ttotal: 4.42s\tremaining: 1.25s\n",
      "78:\tlearn: 2623.0612512\ttotal: 4.47s\tremaining: 1.19s\n",
      "79:\tlearn: 2612.5034278\ttotal: 4.53s\tremaining: 1.13s\n",
      "80:\tlearn: 2601.8900426\ttotal: 4.59s\tremaining: 1.08s\n",
      "81:\tlearn: 2591.3159332\ttotal: 4.64s\tremaining: 1.02s\n",
      "82:\tlearn: 2581.0321235\ttotal: 4.7s\tremaining: 963ms\n",
      "83:\tlearn: 2570.8072417\ttotal: 4.76s\tremaining: 907ms\n",
      "84:\tlearn: 2560.7555013\ttotal: 4.82s\tremaining: 851ms\n",
      "85:\tlearn: 2550.8029963\ttotal: 4.88s\tremaining: 794ms\n",
      "86:\tlearn: 2540.6791509\ttotal: 4.93s\tremaining: 737ms\n",
      "87:\tlearn: 2531.0996817\ttotal: 4.99s\tremaining: 681ms\n",
      "88:\tlearn: 2521.7222764\ttotal: 5.05s\tremaining: 624ms\n",
      "89:\tlearn: 2512.7865766\ttotal: 5.11s\tremaining: 568ms\n",
      "90:\tlearn: 2503.2136824\ttotal: 5.16s\tremaining: 511ms\n",
      "91:\tlearn: 2494.1823725\ttotal: 5.22s\tremaining: 454ms\n",
      "92:\tlearn: 2485.1041390\ttotal: 5.29s\tremaining: 398ms\n",
      "93:\tlearn: 2476.1964619\ttotal: 5.34s\tremaining: 341ms\n",
      "94:\tlearn: 2467.3202266\ttotal: 5.4s\tremaining: 284ms\n",
      "95:\tlearn: 2457.4932011\ttotal: 5.46s\tremaining: 227ms\n",
      "96:\tlearn: 2448.1305033\ttotal: 5.51s\tremaining: 171ms\n",
      "97:\tlearn: 2438.6527886\ttotal: 5.57s\tremaining: 114ms\n",
      "98:\tlearn: 2428.9165713\ttotal: 5.64s\tremaining: 57ms\n",
      "99:\tlearn: 2419.6404423\ttotal: 5.7s\tremaining: 0us\n",
      "0:\tlearn: 3936.1433148\ttotal: 84.6ms\tremaining: 8.38s\n",
      "1:\tlearn: 3804.7176924\ttotal: 143ms\tremaining: 7s\n",
      "2:\tlearn: 3679.0746470\ttotal: 206ms\tremaining: 6.68s\n",
      "3:\tlearn: 3560.4350178\ttotal: 263ms\tremaining: 6.31s\n",
      "4:\tlearn: 3448.0386100\ttotal: 320ms\tremaining: 6.08s\n",
      "5:\tlearn: 3341.6236217\ttotal: 382ms\tremaining: 5.99s\n",
      "6:\tlearn: 3243.1271512\ttotal: 435ms\tremaining: 5.78s\n",
      "7:\tlearn: 3152.3881990\ttotal: 491ms\tremaining: 5.65s\n",
      "8:\tlearn: 3064.2941357\ttotal: 540ms\tremaining: 5.46s\n",
      "9:\tlearn: 2983.4160396\ttotal: 593ms\tremaining: 5.34s\n",
      "10:\tlearn: 2905.1408359\ttotal: 642ms\tremaining: 5.19s\n",
      "11:\tlearn: 2831.3319216\ttotal: 694ms\tremaining: 5.09s\n",
      "12:\tlearn: 2764.6537139\ttotal: 746ms\tremaining: 4.99s\n",
      "13:\tlearn: 2703.3538366\ttotal: 804ms\tremaining: 4.94s\n",
      "14:\tlearn: 2643.1939485\ttotal: 863ms\tremaining: 4.89s\n",
      "15:\tlearn: 2588.0383346\ttotal: 915ms\tremaining: 4.8s\n",
      "16:\tlearn: 2535.9349296\ttotal: 965ms\tremaining: 4.71s\n",
      "17:\tlearn: 2486.8427042\ttotal: 1.02s\tremaining: 4.64s\n",
      "18:\tlearn: 2442.3915331\ttotal: 1.07s\tremaining: 4.57s\n",
      "19:\tlearn: 2401.1808775\ttotal: 1.12s\tremaining: 4.49s\n",
      "20:\tlearn: 2356.9282668\ttotal: 1.18s\tremaining: 4.43s\n",
      "21:\tlearn: 2314.9642971\ttotal: 1.23s\tremaining: 4.37s\n",
      "22:\tlearn: 2276.2114321\ttotal: 1.29s\tremaining: 4.31s\n",
      "23:\tlearn: 2239.3885434\ttotal: 1.34s\tremaining: 4.24s\n",
      "24:\tlearn: 2205.7745784\ttotal: 1.39s\tremaining: 4.17s\n",
      "25:\tlearn: 2174.6730500\ttotal: 1.44s\tremaining: 4.11s\n",
      "26:\tlearn: 2145.4312271\ttotal: 1.5s\tremaining: 4.04s\n",
      "27:\tlearn: 2118.3142743\ttotal: 1.55s\tremaining: 3.98s\n",
      "28:\tlearn: 2092.3193392\ttotal: 1.6s\tremaining: 3.91s\n",
      "29:\tlearn: 2068.7432049\ttotal: 1.66s\tremaining: 3.86s\n",
      "30:\tlearn: 2046.6643398\ttotal: 1.71s\tremaining: 3.8s\n",
      "31:\tlearn: 2026.0028750\ttotal: 1.76s\tremaining: 3.74s\n",
      "32:\tlearn: 2006.1794824\ttotal: 1.81s\tremaining: 3.68s\n",
      "33:\tlearn: 1987.7722076\ttotal: 1.87s\tremaining: 3.63s\n",
      "34:\tlearn: 1967.4072412\ttotal: 1.92s\tremaining: 3.57s\n",
      "35:\tlearn: 1948.1181294\ttotal: 1.98s\tremaining: 3.52s\n",
      "36:\tlearn: 1930.6323111\ttotal: 2.03s\tremaining: 3.45s\n",
      "37:\tlearn: 1914.2331537\ttotal: 2.08s\tremaining: 3.4s\n",
      "38:\tlearn: 1898.6750744\ttotal: 2.13s\tremaining: 3.33s\n",
      "39:\tlearn: 1884.3723064\ttotal: 2.18s\tremaining: 3.27s\n",
      "40:\tlearn: 1871.0975911\ttotal: 2.23s\tremaining: 3.21s\n",
      "41:\tlearn: 1859.0041930\ttotal: 2.29s\tremaining: 3.16s\n",
      "42:\tlearn: 1847.3103756\ttotal: 2.33s\tremaining: 3.1s\n",
      "43:\tlearn: 1837.0253918\ttotal: 2.39s\tremaining: 3.04s\n",
      "44:\tlearn: 1827.6034141\ttotal: 2.44s\tremaining: 2.99s\n",
      "45:\tlearn: 1816.2466351\ttotal: 2.49s\tremaining: 2.93s\n",
      "46:\tlearn: 1805.0106147\ttotal: 2.55s\tremaining: 2.88s\n",
      "47:\tlearn: 1795.2226646\ttotal: 2.6s\tremaining: 2.82s\n",
      "48:\tlearn: 1786.1762573\ttotal: 2.65s\tremaining: 2.76s\n",
      "49:\tlearn: 1776.8566159\ttotal: 2.7s\tremaining: 2.7s\n",
      "50:\tlearn: 1768.3084151\ttotal: 2.76s\tremaining: 2.65s\n",
      "51:\tlearn: 1760.7895744\ttotal: 2.81s\tremaining: 2.6s\n",
      "52:\tlearn: 1753.1563292\ttotal: 2.87s\tremaining: 2.54s\n",
      "53:\tlearn: 1746.6669217\ttotal: 2.92s\tremaining: 2.49s\n",
      "54:\tlearn: 1739.6325741\ttotal: 2.98s\tremaining: 2.44s\n",
      "55:\tlearn: 1733.3454264\ttotal: 3.03s\tremaining: 2.38s\n",
      "56:\tlearn: 1727.8966921\ttotal: 3.09s\tremaining: 2.33s\n",
      "57:\tlearn: 1722.6410523\ttotal: 3.16s\tremaining: 2.29s\n",
      "58:\tlearn: 1717.3831338\ttotal: 3.21s\tremaining: 2.23s\n",
      "59:\tlearn: 1712.5600495\ttotal: 3.26s\tremaining: 2.17s\n",
      "60:\tlearn: 1707.4055426\ttotal: 3.31s\tremaining: 2.12s\n",
      "61:\tlearn: 1702.9266594\ttotal: 3.37s\tremaining: 2.06s\n",
      "62:\tlearn: 1698.6711944\ttotal: 3.42s\tremaining: 2.01s\n",
      "63:\tlearn: 1695.3615401\ttotal: 3.47s\tremaining: 1.95s\n",
      "64:\tlearn: 1691.4591481\ttotal: 3.53s\tremaining: 1.9s\n",
      "65:\tlearn: 1687.6107207\ttotal: 3.58s\tremaining: 1.84s\n",
      "66:\tlearn: 1684.3222561\ttotal: 3.64s\tremaining: 1.79s\n",
      "67:\tlearn: 1681.0831145\ttotal: 3.69s\tremaining: 1.74s\n",
      "68:\tlearn: 1677.8133771\ttotal: 3.75s\tremaining: 1.68s\n",
      "69:\tlearn: 1674.8422474\ttotal: 3.79s\tremaining: 1.63s\n",
      "70:\tlearn: 1671.0240673\ttotal: 3.85s\tremaining: 1.57s\n",
      "71:\tlearn: 1668.4100432\ttotal: 3.9s\tremaining: 1.52s\n",
      "72:\tlearn: 1666.0464260\ttotal: 3.96s\tremaining: 1.46s\n",
      "73:\tlearn: 1663.4207552\ttotal: 4.01s\tremaining: 1.41s\n",
      "74:\tlearn: 1660.3806339\ttotal: 4.07s\tremaining: 1.35s\n",
      "75:\tlearn: 1657.3689022\ttotal: 4.12s\tremaining: 1.3s\n",
      "76:\tlearn: 1654.5909816\ttotal: 4.17s\tremaining: 1.25s\n",
      "77:\tlearn: 1651.9130455\ttotal: 4.23s\tremaining: 1.19s\n",
      "78:\tlearn: 1649.8182634\ttotal: 4.28s\tremaining: 1.14s\n",
      "79:\tlearn: 1647.6416220\ttotal: 4.33s\tremaining: 1.08s\n",
      "80:\tlearn: 1645.3189854\ttotal: 4.38s\tremaining: 1.03s\n",
      "81:\tlearn: 1642.7833024\ttotal: 4.44s\tremaining: 975ms\n",
      "82:\tlearn: 1640.4297016\ttotal: 4.49s\tremaining: 920ms\n",
      "83:\tlearn: 1638.0153191\ttotal: 4.55s\tremaining: 867ms\n",
      "84:\tlearn: 1635.9750516\ttotal: 4.61s\tremaining: 813ms\n",
      "85:\tlearn: 1634.3866864\ttotal: 4.66s\tremaining: 759ms\n",
      "86:\tlearn: 1632.7804185\ttotal: 4.72s\tremaining: 705ms\n",
      "87:\tlearn: 1631.0535273\ttotal: 4.77s\tremaining: 650ms\n",
      "88:\tlearn: 1629.8294811\ttotal: 4.83s\tremaining: 597ms\n",
      "89:\tlearn: 1628.1019057\ttotal: 4.88s\tremaining: 543ms\n",
      "90:\tlearn: 1625.9901127\ttotal: 4.95s\tremaining: 489ms\n",
      "91:\tlearn: 1624.1295397\ttotal: 5s\tremaining: 435ms\n",
      "92:\tlearn: 1622.5065426\ttotal: 5.05s\tremaining: 380ms\n",
      "93:\tlearn: 1620.9081313\ttotal: 5.11s\tremaining: 326ms\n",
      "94:\tlearn: 1619.2487884\ttotal: 5.16s\tremaining: 271ms\n",
      "95:\tlearn: 1617.6935164\ttotal: 5.21s\tremaining: 217ms\n",
      "96:\tlearn: 1615.9431742\ttotal: 5.27s\tremaining: 163ms\n",
      "97:\tlearn: 1614.0615978\ttotal: 5.33s\tremaining: 109ms\n",
      "98:\tlearn: 1612.2615729\ttotal: 5.39s\tremaining: 54.5ms\n",
      "99:\tlearn: 1610.8296139\ttotal: 5.44s\tremaining: 0us\n",
      "0:\tlearn: 3935.8506864\ttotal: 58ms\tremaining: 5.74s\n",
      "1:\tlearn: 3803.1294130\ttotal: 108ms\tremaining: 5.29s\n",
      "2:\tlearn: 3678.1294476\ttotal: 161ms\tremaining: 5.19s\n",
      "3:\tlearn: 3562.9138534\ttotal: 213ms\tremaining: 5.12s\n",
      "4:\tlearn: 3449.4627448\ttotal: 267ms\tremaining: 5.07s\n",
      "5:\tlearn: 3344.0108744\ttotal: 317ms\tremaining: 4.96s\n",
      "6:\tlearn: 3245.3759737\ttotal: 371ms\tremaining: 4.93s\n",
      "7:\tlearn: 3153.2883011\ttotal: 421ms\tremaining: 4.84s\n",
      "8:\tlearn: 3065.3815533\ttotal: 471ms\tremaining: 4.76s\n",
      "9:\tlearn: 2984.1625086\ttotal: 537ms\tremaining: 4.83s\n",
      "10:\tlearn: 2908.7555862\ttotal: 589ms\tremaining: 4.77s\n",
      "11:\tlearn: 2836.7535958\ttotal: 649ms\tremaining: 4.76s\n",
      "12:\tlearn: 2769.9539115\ttotal: 697ms\tremaining: 4.66s\n",
      "13:\tlearn: 2707.7971477\ttotal: 752ms\tremaining: 4.62s\n",
      "14:\tlearn: 2649.1647303\ttotal: 799ms\tremaining: 4.53s\n",
      "15:\tlearn: 2592.7615633\ttotal: 855ms\tremaining: 4.49s\n",
      "16:\tlearn: 2540.7756321\ttotal: 904ms\tremaining: 4.41s\n",
      "17:\tlearn: 2493.6828340\ttotal: 959ms\tremaining: 4.37s\n",
      "18:\tlearn: 2448.2598664\ttotal: 1.01s\tremaining: 4.3s\n",
      "19:\tlearn: 2401.5372190\ttotal: 1.06s\tremaining: 4.24s\n",
      "20:\tlearn: 2355.8019367\ttotal: 1.11s\tremaining: 4.17s\n",
      "21:\tlearn: 2312.8935187\ttotal: 1.16s\tremaining: 4.11s\n",
      "22:\tlearn: 2273.1217094\ttotal: 1.22s\tremaining: 4.07s\n",
      "23:\tlearn: 2237.0149317\ttotal: 1.26s\tremaining: 4s\n",
      "24:\tlearn: 2203.6511315\ttotal: 1.32s\tremaining: 3.95s\n",
      "25:\tlearn: 2171.8388848\ttotal: 1.37s\tremaining: 3.89s\n",
      "26:\tlearn: 2141.9442321\ttotal: 1.42s\tremaining: 3.85s\n",
      "27:\tlearn: 2114.7715391\ttotal: 1.47s\tremaining: 3.79s\n",
      "28:\tlearn: 2088.7461813\ttotal: 1.53s\tremaining: 3.76s\n",
      "29:\tlearn: 2065.8845304\ttotal: 1.59s\tremaining: 3.7s\n",
      "30:\tlearn: 2040.3957292\ttotal: 1.65s\tremaining: 3.67s\n",
      "31:\tlearn: 2016.8008370\ttotal: 1.7s\tremaining: 3.62s\n",
      "32:\tlearn: 1995.4406800\ttotal: 1.76s\tremaining: 3.57s\n",
      "33:\tlearn: 1975.0298693\ttotal: 1.82s\tremaining: 3.54s\n",
      "34:\tlearn: 1957.0123661\ttotal: 1.88s\tremaining: 3.48s\n",
      "35:\tlearn: 1940.2159444\ttotal: 1.94s\tremaining: 3.44s\n",
      "36:\tlearn: 1922.8310808\ttotal: 2.01s\tremaining: 3.42s\n",
      "37:\tlearn: 1907.1255504\ttotal: 2.06s\tremaining: 3.36s\n",
      "38:\tlearn: 1892.7330970\ttotal: 2.12s\tremaining: 3.31s\n",
      "39:\tlearn: 1879.2345776\ttotal: 2.17s\tremaining: 3.26s\n",
      "40:\tlearn: 1866.1432563\ttotal: 2.23s\tremaining: 3.21s\n",
      "41:\tlearn: 1854.2733544\ttotal: 2.29s\tremaining: 3.16s\n",
      "42:\tlearn: 1843.5812591\ttotal: 2.35s\tremaining: 3.11s\n",
      "43:\tlearn: 1833.2316038\ttotal: 2.4s\tremaining: 3.06s\n",
      "44:\tlearn: 1823.1391266\ttotal: 2.46s\tremaining: 3s\n",
      "45:\tlearn: 1811.5893162\ttotal: 2.52s\tremaining: 2.96s\n",
      "46:\tlearn: 1798.8334053\ttotal: 2.58s\tremaining: 2.91s\n",
      "47:\tlearn: 1787.9685257\ttotal: 2.64s\tremaining: 2.86s\n",
      "48:\tlearn: 1777.9999600\ttotal: 2.7s\tremaining: 2.81s\n",
      "49:\tlearn: 1769.5246105\ttotal: 2.75s\tremaining: 2.75s\n",
      "50:\tlearn: 1760.8273986\ttotal: 2.81s\tremaining: 2.7s\n",
      "51:\tlearn: 1751.7493519\ttotal: 2.88s\tremaining: 2.65s\n",
      "52:\tlearn: 1743.4734290\ttotal: 2.94s\tremaining: 2.6s\n",
      "53:\tlearn: 1735.5419921\ttotal: 2.99s\tremaining: 2.55s\n",
      "54:\tlearn: 1728.4054021\ttotal: 3.04s\tremaining: 2.49s\n",
      "55:\tlearn: 1721.2060890\ttotal: 3.1s\tremaining: 2.44s\n",
      "56:\tlearn: 1716.0365139\ttotal: 3.16s\tremaining: 2.38s\n",
      "57:\tlearn: 1710.5477434\ttotal: 3.22s\tremaining: 2.33s\n",
      "58:\tlearn: 1704.8193515\ttotal: 3.27s\tremaining: 2.27s\n",
      "59:\tlearn: 1699.6622427\ttotal: 3.33s\tremaining: 2.22s\n",
      "60:\tlearn: 1694.8862051\ttotal: 3.39s\tremaining: 2.17s\n",
      "61:\tlearn: 1690.6097802\ttotal: 3.44s\tremaining: 2.11s\n",
      "62:\tlearn: 1686.6805400\ttotal: 3.51s\tremaining: 2.06s\n",
      "63:\tlearn: 1682.1405058\ttotal: 3.58s\tremaining: 2.01s\n",
      "64:\tlearn: 1678.0618610\ttotal: 3.65s\tremaining: 1.97s\n",
      "65:\tlearn: 1674.2996487\ttotal: 3.72s\tremaining: 1.92s\n",
      "66:\tlearn: 1670.7965573\ttotal: 3.78s\tremaining: 1.86s\n",
      "67:\tlearn: 1667.7588228\ttotal: 3.83s\tremaining: 1.8s\n",
      "68:\tlearn: 1664.2798626\ttotal: 3.89s\tremaining: 1.75s\n",
      "69:\tlearn: 1661.2380289\ttotal: 3.95s\tremaining: 1.69s\n",
      "70:\tlearn: 1658.1787299\ttotal: 4.01s\tremaining: 1.64s\n",
      "71:\tlearn: 1655.2213777\ttotal: 4.06s\tremaining: 1.58s\n",
      "72:\tlearn: 1652.1733974\ttotal: 4.12s\tremaining: 1.52s\n",
      "73:\tlearn: 1649.1382405\ttotal: 4.18s\tremaining: 1.47s\n",
      "74:\tlearn: 1646.7259735\ttotal: 4.24s\tremaining: 1.41s\n",
      "75:\tlearn: 1644.1316444\ttotal: 4.3s\tremaining: 1.36s\n",
      "76:\tlearn: 1641.3479952\ttotal: 4.35s\tremaining: 1.3s\n",
      "77:\tlearn: 1638.9624714\ttotal: 4.41s\tremaining: 1.24s\n",
      "78:\tlearn: 1636.2912858\ttotal: 4.47s\tremaining: 1.19s\n",
      "79:\tlearn: 1634.5795854\ttotal: 4.53s\tremaining: 1.13s\n",
      "80:\tlearn: 1632.6499641\ttotal: 4.59s\tremaining: 1.08s\n",
      "81:\tlearn: 1630.4838367\ttotal: 4.65s\tremaining: 1.02s\n",
      "82:\tlearn: 1628.5039595\ttotal: 4.71s\tremaining: 965ms\n",
      "83:\tlearn: 1626.2793019\ttotal: 4.77s\tremaining: 908ms\n",
      "84:\tlearn: 1624.4942184\ttotal: 4.83s\tremaining: 852ms\n",
      "85:\tlearn: 1622.7154610\ttotal: 4.89s\tremaining: 796ms\n",
      "86:\tlearn: 1620.6394537\ttotal: 4.95s\tremaining: 739ms\n",
      "87:\tlearn: 1618.4067224\ttotal: 5.01s\tremaining: 684ms\n",
      "88:\tlearn: 1616.2629550\ttotal: 5.07s\tremaining: 627ms\n",
      "89:\tlearn: 1614.0989001\ttotal: 5.13s\tremaining: 570ms\n",
      "90:\tlearn: 1612.7024063\ttotal: 5.19s\tremaining: 513ms\n",
      "91:\tlearn: 1611.1360723\ttotal: 5.24s\tremaining: 456ms\n",
      "92:\tlearn: 1608.0943677\ttotal: 5.3s\tremaining: 399ms\n",
      "93:\tlearn: 1606.2985524\ttotal: 5.37s\tremaining: 343ms\n",
      "94:\tlearn: 1604.9667428\ttotal: 5.42s\tremaining: 286ms\n",
      "95:\tlearn: 1603.8132306\ttotal: 5.49s\tremaining: 229ms\n",
      "96:\tlearn: 1602.4910245\ttotal: 5.55s\tremaining: 172ms\n",
      "97:\tlearn: 1601.4632397\ttotal: 5.61s\tremaining: 114ms\n",
      "98:\tlearn: 1599.5805249\ttotal: 5.67s\tremaining: 57.3ms\n",
      "99:\tlearn: 1598.4815867\ttotal: 5.73s\tremaining: 0us\n",
      "0:\tlearn: 3796.8397709\ttotal: 69.8ms\tremaining: 6.91s\n",
      "1:\tlearn: 3545.4554744\ttotal: 135ms\tremaining: 6.63s\n",
      "2:\tlearn: 3327.5420638\ttotal: 193ms\tremaining: 6.25s\n",
      "3:\tlearn: 3131.0622191\ttotal: 271ms\tremaining: 6.51s\n",
      "4:\tlearn: 2960.9375582\ttotal: 328ms\tremaining: 6.23s\n",
      "5:\tlearn: 2810.7199023\ttotal: 393ms\tremaining: 6.15s\n",
      "6:\tlearn: 2682.7875680\ttotal: 447ms\tremaining: 5.94s\n",
      "7:\tlearn: 2568.7549294\ttotal: 508ms\tremaining: 5.84s\n",
      "8:\tlearn: 2471.5112460\ttotal: 569ms\tremaining: 5.75s\n",
      "9:\tlearn: 2385.9445879\ttotal: 624ms\tremaining: 5.62s\n",
      "10:\tlearn: 2301.0206137\ttotal: 688ms\tremaining: 5.57s\n",
      "11:\tlearn: 2229.3372059\ttotal: 746ms\tremaining: 5.47s\n",
      "12:\tlearn: 2167.2898276\ttotal: 809ms\tremaining: 5.41s\n",
      "13:\tlearn: 2111.3938261\ttotal: 865ms\tremaining: 5.32s\n",
      "14:\tlearn: 2057.5752155\ttotal: 932ms\tremaining: 5.28s\n",
      "15:\tlearn: 2010.5192210\ttotal: 990ms\tremaining: 5.2s\n",
      "16:\tlearn: 1967.3522030\ttotal: 1.05s\tremaining: 5.12s\n",
      "17:\tlearn: 1932.0086018\ttotal: 1.1s\tremaining: 5.04s\n",
      "18:\tlearn: 1901.0476676\ttotal: 1.16s\tremaining: 4.96s\n",
      "19:\tlearn: 1874.5376880\ttotal: 1.22s\tremaining: 4.87s\n",
      "20:\tlearn: 1851.7457353\ttotal: 1.28s\tremaining: 4.82s\n",
      "21:\tlearn: 1830.1509663\ttotal: 1.33s\tremaining: 4.73s\n",
      "22:\tlearn: 1811.7503485\ttotal: 1.39s\tremaining: 4.66s\n",
      "23:\tlearn: 1796.8576436\ttotal: 1.45s\tremaining: 4.58s\n",
      "24:\tlearn: 1778.7835181\ttotal: 1.5s\tremaining: 4.51s\n",
      "25:\tlearn: 1760.1194352\ttotal: 1.56s\tremaining: 4.46s\n",
      "26:\tlearn: 1745.5966993\ttotal: 1.62s\tremaining: 4.38s\n",
      "27:\tlearn: 1733.6905115\ttotal: 1.69s\tremaining: 4.34s\n",
      "28:\tlearn: 1722.8074676\ttotal: 1.74s\tremaining: 4.27s\n",
      "29:\tlearn: 1712.7216567\ttotal: 1.8s\tremaining: 4.21s\n",
      "30:\tlearn: 1703.7850043\ttotal: 1.87s\tremaining: 4.17s\n",
      "31:\tlearn: 1695.4146909\ttotal: 1.93s\tremaining: 4.1s\n",
      "32:\tlearn: 1689.0799498\ttotal: 1.99s\tremaining: 4.03s\n",
      "33:\tlearn: 1682.1958846\ttotal: 2.05s\tremaining: 3.98s\n",
      "34:\tlearn: 1676.7032789\ttotal: 2.11s\tremaining: 3.92s\n",
      "35:\tlearn: 1670.8105710\ttotal: 2.17s\tremaining: 3.86s\n",
      "36:\tlearn: 1663.1996688\ttotal: 2.22s\tremaining: 3.79s\n",
      "37:\tlearn: 1658.3884325\ttotal: 2.28s\tremaining: 3.72s\n",
      "38:\tlearn: 1652.6044250\ttotal: 2.34s\tremaining: 3.67s\n",
      "39:\tlearn: 1648.3247692\ttotal: 2.4s\tremaining: 3.6s\n",
      "40:\tlearn: 1644.2303033\ttotal: 2.46s\tremaining: 3.54s\n",
      "41:\tlearn: 1639.2503096\ttotal: 2.51s\tremaining: 3.47s\n",
      "42:\tlearn: 1634.8165760\ttotal: 2.56s\tremaining: 3.4s\n",
      "43:\tlearn: 1631.6502641\ttotal: 2.62s\tremaining: 3.33s\n",
      "44:\tlearn: 1628.5133501\ttotal: 2.67s\tremaining: 3.27s\n",
      "45:\tlearn: 1625.0496875\ttotal: 2.73s\tremaining: 3.2s\n",
      "46:\tlearn: 1622.0502317\ttotal: 2.79s\tremaining: 3.15s\n",
      "47:\tlearn: 1619.5487029\ttotal: 2.85s\tremaining: 3.08s\n",
      "48:\tlearn: 1617.1623854\ttotal: 2.9s\tremaining: 3.02s\n",
      "49:\tlearn: 1614.5339623\ttotal: 2.96s\tremaining: 2.96s\n",
      "50:\tlearn: 1612.0486391\ttotal: 3.01s\tremaining: 2.89s\n",
      "51:\tlearn: 1609.0005293\ttotal: 3.07s\tremaining: 2.84s\n",
      "52:\tlearn: 1606.4559169\ttotal: 3.13s\tremaining: 2.77s\n",
      "53:\tlearn: 1603.3385224\ttotal: 3.18s\tremaining: 2.71s\n",
      "54:\tlearn: 1600.7421234\ttotal: 3.25s\tremaining: 2.66s\n",
      "55:\tlearn: 1598.0216816\ttotal: 3.3s\tremaining: 2.59s\n",
      "56:\tlearn: 1595.7588568\ttotal: 3.36s\tremaining: 2.53s\n",
      "57:\tlearn: 1593.4968702\ttotal: 3.41s\tremaining: 2.47s\n",
      "58:\tlearn: 1592.3762991\ttotal: 3.46s\tremaining: 2.41s\n",
      "59:\tlearn: 1591.0355112\ttotal: 3.52s\tremaining: 2.35s\n",
      "60:\tlearn: 1588.4242270\ttotal: 3.58s\tremaining: 2.29s\n",
      "61:\tlearn: 1585.6386309\ttotal: 3.64s\tremaining: 2.23s\n",
      "62:\tlearn: 1584.8191982\ttotal: 3.7s\tremaining: 2.17s\n",
      "63:\tlearn: 1583.5283769\ttotal: 3.75s\tremaining: 2.11s\n",
      "64:\tlearn: 1581.2358608\ttotal: 3.82s\tremaining: 2.06s\n",
      "65:\tlearn: 1578.5556347\ttotal: 3.88s\tremaining: 2s\n",
      "66:\tlearn: 1577.6551808\ttotal: 3.93s\tremaining: 1.94s\n",
      "67:\tlearn: 1576.2016079\ttotal: 3.99s\tremaining: 1.88s\n",
      "68:\tlearn: 1573.9112124\ttotal: 4.05s\tremaining: 1.82s\n",
      "69:\tlearn: 1572.8774586\ttotal: 4.11s\tremaining: 1.76s\n",
      "70:\tlearn: 1571.6199051\ttotal: 4.16s\tremaining: 1.7s\n",
      "71:\tlearn: 1569.4624551\ttotal: 4.22s\tremaining: 1.64s\n",
      "72:\tlearn: 1567.1327480\ttotal: 4.28s\tremaining: 1.58s\n",
      "73:\tlearn: 1564.5457011\ttotal: 4.33s\tremaining: 1.52s\n",
      "74:\tlearn: 1562.1543853\ttotal: 4.38s\tremaining: 1.46s\n",
      "75:\tlearn: 1559.6932380\ttotal: 4.44s\tremaining: 1.4s\n",
      "76:\tlearn: 1557.4941859\ttotal: 4.5s\tremaining: 1.34s\n",
      "77:\tlearn: 1556.0104278\ttotal: 4.55s\tremaining: 1.28s\n",
      "78:\tlearn: 1552.0503043\ttotal: 4.6s\tremaining: 1.22s\n",
      "79:\tlearn: 1549.1612906\ttotal: 4.66s\tremaining: 1.16s\n",
      "80:\tlearn: 1547.0464982\ttotal: 4.71s\tremaining: 1.1s\n",
      "81:\tlearn: 1544.9176600\ttotal: 4.77s\tremaining: 1.05s\n",
      "82:\tlearn: 1541.7558713\ttotal: 4.82s\tremaining: 988ms\n",
      "83:\tlearn: 1540.5667949\ttotal: 4.88s\tremaining: 930ms\n",
      "84:\tlearn: 1538.9399968\ttotal: 4.94s\tremaining: 871ms\n",
      "85:\tlearn: 1536.6621558\ttotal: 5s\tremaining: 814ms\n",
      "86:\tlearn: 1534.8581146\ttotal: 5.08s\tremaining: 759ms\n",
      "87:\tlearn: 1532.8682717\ttotal: 5.15s\tremaining: 702ms\n",
      "88:\tlearn: 1531.9730081\ttotal: 5.21s\tremaining: 644ms\n",
      "89:\tlearn: 1530.4752405\ttotal: 5.27s\tremaining: 585ms\n",
      "90:\tlearn: 1527.5109733\ttotal: 5.32s\tremaining: 526ms\n",
      "91:\tlearn: 1526.3676070\ttotal: 5.38s\tremaining: 468ms\n",
      "92:\tlearn: 1524.0565119\ttotal: 5.43s\tremaining: 409ms\n",
      "93:\tlearn: 1522.7757173\ttotal: 5.49s\tremaining: 350ms\n",
      "94:\tlearn: 1521.8021846\ttotal: 5.54s\tremaining: 291ms\n",
      "95:\tlearn: 1518.9791673\ttotal: 5.59s\tremaining: 233ms\n",
      "96:\tlearn: 1517.5222729\ttotal: 5.65s\tremaining: 175ms\n",
      "97:\tlearn: 1515.6291184\ttotal: 5.71s\tremaining: 116ms\n",
      "98:\tlearn: 1514.6652684\ttotal: 5.77s\tremaining: 58.3ms\n",
      "99:\tlearn: 1513.0998865\ttotal: 5.83s\tremaining: 0us\n",
      "0:\tlearn: 3797.7561485\ttotal: 73.1ms\tremaining: 7.24s\n",
      "1:\tlearn: 3546.1552859\ttotal: 134ms\tremaining: 6.55s\n",
      "2:\tlearn: 3330.8298967\ttotal: 193ms\tremaining: 6.25s\n",
      "3:\tlearn: 3143.0844066\ttotal: 255ms\tremaining: 6.13s\n",
      "4:\tlearn: 2975.7694540\ttotal: 316ms\tremaining: 6.01s\n",
      "5:\tlearn: 2822.3020898\ttotal: 376ms\tremaining: 5.89s\n",
      "6:\tlearn: 2695.3822276\ttotal: 428ms\tremaining: 5.69s\n",
      "7:\tlearn: 2579.5574145\ttotal: 491ms\tremaining: 5.65s\n",
      "8:\tlearn: 2480.5283224\ttotal: 561ms\tremaining: 5.67s\n",
      "9:\tlearn: 2392.0929987\ttotal: 616ms\tremaining: 5.54s\n",
      "10:\tlearn: 2301.9904211\ttotal: 682ms\tremaining: 5.52s\n",
      "11:\tlearn: 2226.4082204\ttotal: 740ms\tremaining: 5.42s\n",
      "12:\tlearn: 2159.3106350\ttotal: 797ms\tremaining: 5.33s\n",
      "13:\tlearn: 2101.1016049\ttotal: 856ms\tremaining: 5.26s\n",
      "14:\tlearn: 2050.7475484\ttotal: 910ms\tremaining: 5.16s\n",
      "15:\tlearn: 2010.8475884\ttotal: 969ms\tremaining: 5.09s\n",
      "16:\tlearn: 1972.2126539\ttotal: 1.02s\tremaining: 4.98s\n",
      "17:\tlearn: 1932.6688635\ttotal: 1.08s\tremaining: 4.92s\n",
      "18:\tlearn: 1899.1482057\ttotal: 1.14s\tremaining: 4.86s\n",
      "19:\tlearn: 1869.5220039\ttotal: 1.2s\tremaining: 4.78s\n",
      "20:\tlearn: 1844.7534905\ttotal: 1.25s\tremaining: 4.72s\n",
      "21:\tlearn: 1823.2435462\ttotal: 1.31s\tremaining: 4.64s\n",
      "22:\tlearn: 1799.8570121\ttotal: 1.37s\tremaining: 4.58s\n",
      "23:\tlearn: 1777.3706280\ttotal: 1.42s\tremaining: 4.5s\n",
      "24:\tlearn: 1761.3868291\ttotal: 1.48s\tremaining: 4.44s\n",
      "25:\tlearn: 1744.0907650\ttotal: 1.54s\tremaining: 4.38s\n",
      "26:\tlearn: 1729.4517423\ttotal: 1.59s\tremaining: 4.31s\n",
      "27:\tlearn: 1717.9227470\ttotal: 1.65s\tremaining: 4.25s\n",
      "28:\tlearn: 1707.5252936\ttotal: 1.71s\tremaining: 4.18s\n",
      "29:\tlearn: 1697.9540995\ttotal: 1.77s\tremaining: 4.12s\n",
      "30:\tlearn: 1689.5436175\ttotal: 1.82s\tremaining: 4.05s\n",
      "31:\tlearn: 1682.1431223\ttotal: 1.88s\tremaining: 3.99s\n",
      "32:\tlearn: 1674.1683122\ttotal: 1.94s\tremaining: 3.93s\n",
      "33:\tlearn: 1667.0145705\ttotal: 1.99s\tremaining: 3.87s\n",
      "34:\tlearn: 1661.6757287\ttotal: 2.05s\tremaining: 3.81s\n",
      "35:\tlearn: 1655.2003210\ttotal: 2.11s\tremaining: 3.75s\n",
      "36:\tlearn: 1648.6097722\ttotal: 2.17s\tremaining: 3.69s\n",
      "37:\tlearn: 1643.8072353\ttotal: 2.22s\tremaining: 3.63s\n",
      "38:\tlearn: 1639.0419223\ttotal: 2.28s\tremaining: 3.57s\n",
      "39:\tlearn: 1634.8017602\ttotal: 2.34s\tremaining: 3.51s\n",
      "40:\tlearn: 1630.2934816\ttotal: 2.39s\tremaining: 3.44s\n",
      "41:\tlearn: 1627.3560130\ttotal: 2.45s\tremaining: 3.39s\n",
      "42:\tlearn: 1622.6900609\ttotal: 2.51s\tremaining: 3.33s\n",
      "43:\tlearn: 1618.4301132\ttotal: 2.57s\tremaining: 3.27s\n",
      "44:\tlearn: 1615.4889705\ttotal: 2.63s\tremaining: 3.21s\n",
      "45:\tlearn: 1612.1736102\ttotal: 2.68s\tremaining: 3.15s\n",
      "46:\tlearn: 1608.6406726\ttotal: 2.74s\tremaining: 3.09s\n",
      "47:\tlearn: 1606.0899352\ttotal: 2.8s\tremaining: 3.03s\n",
      "48:\tlearn: 1603.7936517\ttotal: 2.86s\tremaining: 2.97s\n",
      "49:\tlearn: 1601.3922547\ttotal: 2.92s\tremaining: 2.92s\n",
      "50:\tlearn: 1598.1128526\ttotal: 2.97s\tremaining: 2.86s\n",
      "51:\tlearn: 1594.8791353\ttotal: 3.04s\tremaining: 2.8s\n",
      "52:\tlearn: 1592.6157504\ttotal: 3.09s\tremaining: 2.74s\n",
      "53:\tlearn: 1588.0405768\ttotal: 3.15s\tremaining: 2.68s\n",
      "54:\tlearn: 1585.9755129\ttotal: 3.21s\tremaining: 2.62s\n",
      "55:\tlearn: 1583.4658743\ttotal: 3.26s\tremaining: 2.56s\n",
      "56:\tlearn: 1581.6231854\ttotal: 3.32s\tremaining: 2.5s\n",
      "57:\tlearn: 1578.3572664\ttotal: 3.37s\tremaining: 2.44s\n",
      "58:\tlearn: 1573.7705667\ttotal: 3.42s\tremaining: 2.38s\n",
      "59:\tlearn: 1571.1355087\ttotal: 3.48s\tremaining: 2.32s\n",
      "60:\tlearn: 1570.0350958\ttotal: 3.53s\tremaining: 2.26s\n",
      "61:\tlearn: 1567.3193655\ttotal: 3.59s\tremaining: 2.2s\n",
      "62:\tlearn: 1565.8207522\ttotal: 3.64s\tremaining: 2.14s\n",
      "63:\tlearn: 1564.1730893\ttotal: 3.7s\tremaining: 2.08s\n",
      "64:\tlearn: 1560.8844147\ttotal: 3.75s\tremaining: 2.02s\n",
      "65:\tlearn: 1558.8448851\ttotal: 3.8s\tremaining: 1.96s\n",
      "66:\tlearn: 1556.5160792\ttotal: 3.86s\tremaining: 1.9s\n",
      "67:\tlearn: 1553.7341118\ttotal: 3.91s\tremaining: 1.84s\n",
      "68:\tlearn: 1551.9488355\ttotal: 3.96s\tremaining: 1.78s\n",
      "69:\tlearn: 1550.5592276\ttotal: 4.02s\tremaining: 1.72s\n",
      "70:\tlearn: 1548.9577332\ttotal: 4.07s\tremaining: 1.66s\n",
      "71:\tlearn: 1546.7757280\ttotal: 4.13s\tremaining: 1.6s\n",
      "72:\tlearn: 1544.9400249\ttotal: 4.18s\tremaining: 1.55s\n",
      "73:\tlearn: 1542.9937378\ttotal: 4.24s\tremaining: 1.49s\n",
      "74:\tlearn: 1539.8536316\ttotal: 4.29s\tremaining: 1.43s\n",
      "75:\tlearn: 1539.1921267\ttotal: 4.35s\tremaining: 1.37s\n",
      "76:\tlearn: 1538.4772904\ttotal: 4.41s\tremaining: 1.32s\n",
      "77:\tlearn: 1537.6982877\ttotal: 4.46s\tremaining: 1.26s\n",
      "78:\tlearn: 1536.4053242\ttotal: 4.52s\tremaining: 1.2s\n",
      "79:\tlearn: 1535.1569173\ttotal: 4.57s\tremaining: 1.14s\n",
      "80:\tlearn: 1533.5857793\ttotal: 4.63s\tremaining: 1.08s\n",
      "81:\tlearn: 1531.3363356\ttotal: 4.69s\tremaining: 1.03s\n",
      "82:\tlearn: 1529.8012064\ttotal: 4.74s\tremaining: 971ms\n",
      "83:\tlearn: 1528.9438767\ttotal: 4.8s\tremaining: 914ms\n",
      "84:\tlearn: 1526.5701481\ttotal: 4.86s\tremaining: 857ms\n",
      "85:\tlearn: 1525.2779619\ttotal: 4.92s\tremaining: 801ms\n",
      "86:\tlearn: 1522.7270841\ttotal: 4.98s\tremaining: 744ms\n",
      "87:\tlearn: 1520.5166159\ttotal: 5.04s\tremaining: 687ms\n",
      "88:\tlearn: 1519.2480863\ttotal: 5.1s\tremaining: 631ms\n",
      "89:\tlearn: 1517.9378856\ttotal: 5.16s\tremaining: 573ms\n",
      "90:\tlearn: 1517.3004256\ttotal: 5.21s\tremaining: 516ms\n",
      "91:\tlearn: 1516.1956175\ttotal: 5.26s\tremaining: 458ms\n",
      "92:\tlearn: 1514.8764940\ttotal: 5.32s\tremaining: 400ms\n",
      "93:\tlearn: 1512.2549055\ttotal: 5.38s\tremaining: 343ms\n",
      "94:\tlearn: 1510.7127292\ttotal: 5.43s\tremaining: 286ms\n",
      "95:\tlearn: 1509.2341057\ttotal: 5.49s\tremaining: 229ms\n",
      "96:\tlearn: 1507.5316067\ttotal: 5.54s\tremaining: 171ms\n",
      "97:\tlearn: 1506.7125749\ttotal: 5.6s\tremaining: 114ms\n",
      "98:\tlearn: 1505.2482339\ttotal: 5.65s\tremaining: 57.1ms\n",
      "99:\tlearn: 1503.7296444\ttotal: 5.71s\tremaining: 0us\n",
      "0:\tlearn: 3791.5325175\ttotal: 110ms\tremaining: 10.9s\n",
      "1:\tlearn: 3547.9292259\ttotal: 214ms\tremaining: 10.5s\n",
      "2:\tlearn: 3325.0172450\ttotal: 305ms\tremaining: 9.87s\n",
      "3:\tlearn: 3131.3075725\ttotal: 420ms\tremaining: 10.1s\n",
      "4:\tlearn: 2963.5484223\ttotal: 518ms\tremaining: 9.84s\n",
      "5:\tlearn: 2815.2168085\ttotal: 612ms\tremaining: 9.59s\n",
      "6:\tlearn: 2684.6487667\ttotal: 706ms\tremaining: 9.37s\n",
      "7:\tlearn: 2573.9394124\ttotal: 798ms\tremaining: 9.17s\n",
      "8:\tlearn: 2474.9876928\ttotal: 890ms\tremaining: 9s\n",
      "9:\tlearn: 2390.2227465\ttotal: 987ms\tremaining: 8.88s\n",
      "10:\tlearn: 2312.9453212\ttotal: 1.08s\tremaining: 8.77s\n",
      "11:\tlearn: 2235.5954146\ttotal: 1.18s\tremaining: 8.65s\n",
      "12:\tlearn: 2171.2738062\ttotal: 1.28s\tremaining: 8.54s\n",
      "13:\tlearn: 2111.9823677\ttotal: 1.37s\tremaining: 8.44s\n",
      "14:\tlearn: 2064.6014274\ttotal: 1.47s\tremaining: 8.3s\n",
      "15:\tlearn: 2022.4521431\ttotal: 1.57s\tremaining: 8.23s\n",
      "16:\tlearn: 1986.6456632\ttotal: 1.66s\tremaining: 8.1s\n",
      "17:\tlearn: 1955.4735581\ttotal: 1.75s\tremaining: 7.99s\n",
      "18:\tlearn: 1918.8514053\ttotal: 1.86s\tremaining: 7.92s\n",
      "19:\tlearn: 1888.6374107\ttotal: 1.96s\tremaining: 7.83s\n",
      "20:\tlearn: 1863.7459296\ttotal: 2.05s\tremaining: 7.72s\n",
      "21:\tlearn: 1840.8285592\ttotal: 2.15s\tremaining: 7.63s\n",
      "22:\tlearn: 1814.2461844\ttotal: 2.25s\tremaining: 7.53s\n",
      "23:\tlearn: 1794.7449482\ttotal: 2.35s\tremaining: 7.44s\n",
      "24:\tlearn: 1776.6721937\ttotal: 2.45s\tremaining: 7.34s\n",
      "25:\tlearn: 1760.4525764\ttotal: 2.54s\tremaining: 7.24s\n",
      "26:\tlearn: 1748.4424961\ttotal: 2.64s\tremaining: 7.14s\n",
      "27:\tlearn: 1734.7133146\ttotal: 2.75s\tremaining: 7.06s\n",
      "28:\tlearn: 1723.9357663\ttotal: 2.84s\tremaining: 6.95s\n",
      "29:\tlearn: 1715.8792431\ttotal: 2.93s\tremaining: 6.84s\n",
      "30:\tlearn: 1706.0994192\ttotal: 3.02s\tremaining: 6.73s\n",
      "31:\tlearn: 1698.8044647\ttotal: 3.11s\tremaining: 6.6s\n",
      "32:\tlearn: 1692.1372757\ttotal: 3.2s\tremaining: 6.5s\n",
      "33:\tlearn: 1686.6823075\ttotal: 3.3s\tremaining: 6.4s\n",
      "34:\tlearn: 1680.1139559\ttotal: 3.4s\tremaining: 6.32s\n",
      "35:\tlearn: 1673.6092450\ttotal: 3.52s\tremaining: 6.25s\n",
      "36:\tlearn: 1667.5276005\ttotal: 3.61s\tremaining: 6.14s\n",
      "37:\tlearn: 1662.3499021\ttotal: 3.71s\tremaining: 6.05s\n",
      "38:\tlearn: 1658.1582668\ttotal: 3.8s\tremaining: 5.94s\n",
      "39:\tlearn: 1654.0612106\ttotal: 3.9s\tremaining: 5.85s\n",
      "40:\tlearn: 1650.2402040\ttotal: 4s\tremaining: 5.76s\n",
      "41:\tlearn: 1645.2805510\ttotal: 4.09s\tremaining: 5.65s\n",
      "42:\tlearn: 1641.6520295\ttotal: 4.19s\tremaining: 5.55s\n",
      "43:\tlearn: 1636.9799686\ttotal: 4.28s\tremaining: 5.45s\n",
      "44:\tlearn: 1634.4842381\ttotal: 4.38s\tremaining: 5.35s\n",
      "45:\tlearn: 1630.7303504\ttotal: 4.48s\tremaining: 5.26s\n",
      "46:\tlearn: 1628.0172185\ttotal: 4.58s\tremaining: 5.16s\n",
      "47:\tlearn: 1625.6930438\ttotal: 4.68s\tremaining: 5.07s\n",
      "48:\tlearn: 1623.6451217\ttotal: 4.78s\tremaining: 4.97s\n",
      "49:\tlearn: 1621.0973158\ttotal: 4.88s\tremaining: 4.88s\n",
      "50:\tlearn: 1618.8617867\ttotal: 4.98s\tremaining: 4.79s\n",
      "51:\tlearn: 1617.4520997\ttotal: 5.08s\tremaining: 4.69s\n",
      "52:\tlearn: 1614.4828263\ttotal: 5.18s\tremaining: 4.59s\n",
      "53:\tlearn: 1611.5117272\ttotal: 5.28s\tremaining: 4.49s\n",
      "54:\tlearn: 1608.9250519\ttotal: 5.38s\tremaining: 4.4s\n",
      "55:\tlearn: 1605.8809825\ttotal: 5.48s\tremaining: 4.3s\n",
      "56:\tlearn: 1602.9802131\ttotal: 5.58s\tremaining: 4.21s\n",
      "57:\tlearn: 1600.6922764\ttotal: 5.67s\tremaining: 4.11s\n",
      "58:\tlearn: 1599.1351346\ttotal: 5.79s\tremaining: 4.02s\n",
      "59:\tlearn: 1597.0986443\ttotal: 5.88s\tremaining: 3.92s\n",
      "60:\tlearn: 1595.2253459\ttotal: 5.98s\tremaining: 3.82s\n",
      "61:\tlearn: 1594.1837164\ttotal: 6.08s\tremaining: 3.72s\n",
      "62:\tlearn: 1591.7821411\ttotal: 6.17s\tremaining: 3.63s\n",
      "63:\tlearn: 1589.2516646\ttotal: 6.27s\tremaining: 3.53s\n",
      "64:\tlearn: 1586.5410271\ttotal: 6.37s\tremaining: 3.43s\n",
      "65:\tlearn: 1584.4484102\ttotal: 6.48s\tremaining: 3.34s\n",
      "66:\tlearn: 1583.0318888\ttotal: 6.57s\tremaining: 3.24s\n",
      "67:\tlearn: 1581.4172779\ttotal: 6.67s\tremaining: 3.14s\n",
      "68:\tlearn: 1579.0477305\ttotal: 6.77s\tremaining: 3.04s\n",
      "69:\tlearn: 1575.2148128\ttotal: 6.86s\tremaining: 2.94s\n",
      "70:\tlearn: 1572.7400237\ttotal: 6.96s\tremaining: 2.84s\n",
      "71:\tlearn: 1570.2638306\ttotal: 7.05s\tremaining: 2.74s\n",
      "72:\tlearn: 1567.2012969\ttotal: 7.15s\tremaining: 2.64s\n",
      "73:\tlearn: 1564.9484605\ttotal: 7.24s\tremaining: 2.54s\n",
      "74:\tlearn: 1563.6432502\ttotal: 7.34s\tremaining: 2.45s\n",
      "75:\tlearn: 1561.5764477\ttotal: 7.44s\tremaining: 2.35s\n",
      "76:\tlearn: 1560.4619069\ttotal: 7.54s\tremaining: 2.25s\n",
      "77:\tlearn: 1558.2530218\ttotal: 7.63s\tremaining: 2.15s\n",
      "78:\tlearn: 1555.8648999\ttotal: 7.73s\tremaining: 2.06s\n",
      "79:\tlearn: 1554.2174088\ttotal: 7.83s\tremaining: 1.96s\n",
      "80:\tlearn: 1551.9357732\ttotal: 7.94s\tremaining: 1.86s\n",
      "81:\tlearn: 1550.3381458\ttotal: 8.04s\tremaining: 1.76s\n",
      "82:\tlearn: 1550.2335675\ttotal: 8.09s\tremaining: 1.66s\n",
      "83:\tlearn: 1548.6836116\ttotal: 8.19s\tremaining: 1.56s\n",
      "84:\tlearn: 1546.2824902\ttotal: 8.29s\tremaining: 1.46s\n",
      "85:\tlearn: 1544.8033500\ttotal: 8.39s\tremaining: 1.36s\n",
      "86:\tlearn: 1543.2838104\ttotal: 8.49s\tremaining: 1.27s\n",
      "87:\tlearn: 1542.8157769\ttotal: 8.59s\tremaining: 1.17s\n",
      "88:\tlearn: 1541.6474065\ttotal: 8.71s\tremaining: 1.07s\n",
      "89:\tlearn: 1540.9424742\ttotal: 8.81s\tremaining: 979ms\n",
      "90:\tlearn: 1538.8513892\ttotal: 8.9s\tremaining: 881ms\n",
      "91:\tlearn: 1538.0239621\ttotal: 9.01s\tremaining: 783ms\n",
      "92:\tlearn: 1537.0388985\ttotal: 9.11s\tremaining: 686ms\n",
      "93:\tlearn: 1535.7437216\ttotal: 9.2s\tremaining: 588ms\n",
      "94:\tlearn: 1534.3956563\ttotal: 9.3s\tremaining: 489ms\n",
      "95:\tlearn: 1533.7758702\ttotal: 9.4s\tremaining: 392ms\n",
      "96:\tlearn: 1531.9112965\ttotal: 9.5s\tremaining: 294ms\n",
      "97:\tlearn: 1530.6778251\ttotal: 9.59s\tremaining: 196ms\n",
      "98:\tlearn: 1529.2582238\ttotal: 9.69s\tremaining: 97.9ms\n",
      "99:\tlearn: 1528.9282383\ttotal: 9.79s\tremaining: 0us\n"
     ]
    },
    {
     "data": {
      "text/plain": [
       "GridSearchCV(cv=2,\n",
       "             estimator=<catboost.core.CatBoostRegressor object at 0x7fc00b085550>,\n",
       "             n_jobs=-1,\n",
       "             param_grid={'depth': [6, 8, 10], 'iterations': [30, 50, 100],\n",
       "                         'learning_rate': [0.01, 0.05, 0.1]})"
      ]
     },
     "execution_count": 66,
     "metadata": {},
     "output_type": "execute_result"
    }
   ],
   "source": [
    "cbr_grid = GridSearchCV(estimator=cbr, param_grid = parameters, cv = 2, n_jobs=-1)\n",
    "cbr_grid.fit(X_train, y_train)"
   ]
  },
  {
   "cell_type": "code",
   "execution_count": 67,
   "metadata": {},
   "outputs": [
    {
     "data": {
      "text/plain": [
       "{'depth': 10, 'iterations': 100, 'learning_rate': 0.1}"
      ]
     },
     "execution_count": 67,
     "metadata": {},
     "output_type": "execute_result"
    }
   ],
   "source": [
    "cbr_grid.best_params_"
   ]
  },
  {
   "cell_type": "code",
   "execution_count": 68,
   "metadata": {},
   "outputs": [
    {
     "name": "stdout",
     "output_type": "stream",
     "text": [
      "0:\tlearn: 3798.4681475\ttotal: 114ms\tremaining: 11.3s\n",
      "10:\tlearn: 2289.8844268\ttotal: 1.07s\tremaining: 8.64s\n",
      "20:\tlearn: 1850.8605426\ttotal: 1.99s\tremaining: 7.48s\n",
      "30:\tlearn: 1700.7907831\ttotal: 2.99s\tremaining: 6.65s\n",
      "40:\tlearn: 1641.1481341\ttotal: 3.96s\tremaining: 5.7s\n",
      "50:\tlearn: 1605.1205519\ttotal: 4.97s\tremaining: 4.77s\n",
      "60:\tlearn: 1583.3316484\ttotal: 5.97s\tremaining: 3.82s\n",
      "70:\tlearn: 1562.0848790\ttotal: 6.94s\tremaining: 2.83s\n",
      "80:\tlearn: 1546.7856464\ttotal: 7.86s\tremaining: 1.84s\n",
      "90:\tlearn: 1534.4274792\ttotal: 8.86s\tremaining: 876ms\n",
      "99:\tlearn: 1523.1315306\ttotal: 9.75s\tremaining: 0us\n"
     ]
    },
    {
     "data": {
      "text/plain": [
       "'Время обучения модели CatBoostRegressor 10.59 с'"
      ]
     },
     "metadata": {},
     "output_type": "display_data"
    }
   ],
   "source": [
    "start = time.time()\n",
    "\n",
    "cat_features = ['vehicle_type','fuel_type','brand','model', 'gearbox', 'repaired']\n",
    "\n",
    "# обучение модели CatBoostRegressor\n",
    "cbr = CatBoostRegressor(learning_rate=.1,\n",
    "                        iterations=100,\n",
    "                        depth=10,\n",
    "                        random_state=12345,\n",
    "                        verbose=10,\n",
    "                        cat_features=cat_features)\n",
    "\n",
    "cbr.fit(X_train, y_train)\n",
    "\n",
    "time_cbr_fit = time.time() - start\n",
    "\n",
    "display(f'Время обучения модели CatBoostRegressor {round(time_cbr_fit, 2)} с')"
   ]
  },
  {
   "cell_type": "code",
   "execution_count": 69,
   "metadata": {},
   "outputs": [
    {
     "data": {
      "text/plain": [
       "'Время предсказания модели CatBoostRegressor 0.09 с'"
      ]
     },
     "metadata": {},
     "output_type": "display_data"
    }
   ],
   "source": [
    "start = time.time()\n",
    "\n",
    "# предсказание на тренировочной выборке\n",
    "y_pred = cbr.predict(X_test)\n",
    "\n",
    "time_cbr_pred = time.time() - start\n",
    "\n",
    "display(f'Время предсказания модели CatBoostRegressor {round(time_cbr_pred, 2)} с')"
   ]
  },
  {
   "cell_type": "code",
   "execution_count": 70,
   "metadata": {},
   "outputs": [
    {
     "data": {
      "text/plain": [
       "'RMSE модели CatBoostRegressor: 1589'"
      ]
     },
     "metadata": {},
     "output_type": "display_data"
    }
   ],
   "source": [
    "rmse_cbr = mean_squared_error(y_test, y_pred) ** .5\n",
    "display(f'RMSE модели CatBoostRegressor: {round(rmse_cbr)}')"
   ]
  },
  {
   "cell_type": "markdown",
   "metadata": {},
   "source": [
    "## Анализ моделей"
   ]
  },
  {
   "cell_type": "code",
   "execution_count": 80,
   "metadata": {},
   "outputs": [],
   "source": [
    "#создание таблицы по показателям RMSE,\n",
    "#                                время обучения модели\n",
    "#                                время предсказания модели\n",
    "index = ['Линейная регрессия',\n",
    "         'LGBMRegressor',\n",
    "         'CatBoostRegressor'\n",
    "        ]\n",
    "\n",
    "data = {'RMSE':[round(rmse_lr),\n",
    "                round(rmse_lgbmr),\n",
    "                round(rmse_cbr)],\n",
    "\n",
    "        'Время обучения модели, c':[round(time_lr_fit, 1),\n",
    "                                    round(time_lgbmr_fit, 1),\n",
    "                                    round(time_cbr_fit, 1)\n",
    "                                   ],\n",
    "\n",
    "        'Время предсказания модели, c':[round(time_lr_pred, 2),\n",
    "                                        round(time_lgbmr_pred, 2),\n",
    "                                        round(time_cbr_pred, 2)\n",
    "                                       ]\n",
    "       }\n",
    "\n",
    "kpi = pd.DataFrame(data=data, index=index)"
   ]
  },
  {
   "cell_type": "code",
   "execution_count": 81,
   "metadata": {
    "scrolled": true
   },
   "outputs": [
    {
     "data": {
      "text/html": [
       "<div>\n",
       "<style scoped>\n",
       "    .dataframe tbody tr th:only-of-type {\n",
       "        vertical-align: middle;\n",
       "    }\n",
       "\n",
       "    .dataframe tbody tr th {\n",
       "        vertical-align: top;\n",
       "    }\n",
       "\n",
       "    .dataframe thead th {\n",
       "        text-align: right;\n",
       "    }\n",
       "</style>\n",
       "<table border=\"1\" class=\"dataframe\">\n",
       "  <thead>\n",
       "    <tr style=\"text-align: right;\">\n",
       "      <th></th>\n",
       "      <th>RMSE</th>\n",
       "      <th>Время обучения модели, c</th>\n",
       "      <th>Время предсказания модели, c</th>\n",
       "    </tr>\n",
       "  </thead>\n",
       "  <tbody>\n",
       "    <tr>\n",
       "      <th>Линейная регрессия</th>\n",
       "      <td>5075</td>\n",
       "      <td>23.0</td>\n",
       "      <td>0.02</td>\n",
       "    </tr>\n",
       "    <tr>\n",
       "      <th>LGBMRegressor</th>\n",
       "      <td>1550</td>\n",
       "      <td>33.7</td>\n",
       "      <td>0.50</td>\n",
       "    </tr>\n",
       "    <tr>\n",
       "      <th>CatBoostRegressor</th>\n",
       "      <td>1567</td>\n",
       "      <td>10.6</td>\n",
       "      <td>0.09</td>\n",
       "    </tr>\n",
       "  </tbody>\n",
       "</table>\n",
       "</div>"
      ],
      "text/plain": [
       "                    RMSE  Время обучения модели, c  \\\n",
       "Линейная регрессия  5075                      23.0   \n",
       "LGBMRegressor       1550                      33.7   \n",
       "CatBoostRegressor   1567                      10.6   \n",
       "\n",
       "                    Время предсказания модели, c  \n",
       "Линейная регрессия                          0.02  \n",
       "LGBMRegressor                               0.50  \n",
       "CatBoostRegressor                           0.09  "
      ]
     },
     "execution_count": 81,
     "metadata": {},
     "output_type": "execute_result"
    }
   ],
   "source": [
    "kpi"
   ]
  },
  {
   "cell_type": "code",
   "execution_count": 73,
   "metadata": {},
   "outputs": [],
   "source": [
    "X = val.drop('price', axis=1)\n",
    "y = val['price']"
   ]
  },
  {
   "cell_type": "code",
   "execution_count": 74,
   "metadata": {},
   "outputs": [],
   "source": [
    "y_pred = cbr.predict(X)"
   ]
  },
  {
   "cell_type": "code",
   "execution_count": 75,
   "metadata": {},
   "outputs": [
    {
     "data": {
      "text/plain": [
       "'RMSE модели CatBoostRegressor: 1567'"
      ]
     },
     "metadata": {},
     "output_type": "display_data"
    }
   ],
   "source": [
    "rmse_cbr = mean_squared_error(y, y_pred) ** .5\n",
    "display(f'RMSE модели CatBoostRegressor: {round(rmse_cbr)}')"
   ]
  },
  {
   "cell_type": "markdown",
   "metadata": {},
   "source": [
    "### Вывод:\n",
    "Лучший показатель RMSE у модели LGBMRegressor - `1550`, но у нее худшее время обучения - 34 секунды.\n",
    "У модели линейной регрессии худший RMSE - `5075`.\n",
    "\n",
    "Поэтому выбираем модель `CatBoostRegressor` у нее близкий к лучшей модели RMSE - 1567 и лучшее время обучения - 11 секунд."
   ]
  },
  {
   "cell_type": "markdown",
   "metadata": {},
   "source": [
    "## Вывод\n",
    "1. Проведена предобработка данных:\n",
    "    1. Заполнены пропуски\n",
    "    2. Удалены дубликаты\n",
    "2. Проведен исследовательский анализ данных\n",
    "3. Обучены три модели:\n",
    "    1. Линейная регрессия\n",
    "        1. RMSE - 5075;\n",
    "        2. Время обучения - 23 c; \n",
    "        3. Время предсказания модели - 0.02 c.\n",
    "    2. LGBMRegresso\n",
    "        1. RMSE - 1550;\n",
    "        2. Время обучения - 33.7 с;\n",
    "        3. Время предсказания модели - 0.5 с.\n",
    "    3. CatBoostRegressor\n",
    "        1. RMSE - 1567;\n",
    "        2. Время обучения - 10.6 с; \n",
    "        3. Время предсказания модели - 0.09 с.\n",
    "\n",
    "Выбрана лучшая модель `CatBoostRegressor` и проверена на валидационной выборке."
   ]
  },
  {
   "cell_type": "markdown",
   "metadata": {},
   "source": [
    "## Чек-лист проверки"
   ]
  },
  {
   "cell_type": "markdown",
   "metadata": {},
   "source": [
    "Поставьте 'x' в выполненных пунктах. Далее нажмите Shift+Enter."
   ]
  },
  {
   "cell_type": "markdown",
   "metadata": {},
   "source": [
    "- [x]  Jupyter Notebook открыт\n",
    "- [x]  Весь код выполняется без ошибок\n",
    "- [x]  Ячейки с кодом расположены в порядке исполнения\n",
    "- [x]  Выполнена загрузка и подготовка данных\n",
    "- [x]  Выполнено обучение моделей\n",
    "- [x]  Есть анализ скорости работы и качества моделей"
   ]
  }
 ],
 "metadata": {
  "ExecuteTimeLog": [
   {
    "duration": 354,
    "start_time": "2023-06-19T00:16:01.692Z"
   },
   {
    "duration": 97,
    "start_time": "2023-06-19T00:16:08.669Z"
   },
   {
    "duration": 1062,
    "start_time": "2023-06-19T00:16:17.610Z"
   },
   {
    "duration": 25,
    "start_time": "2023-06-19T00:16:23.988Z"
   },
   {
    "duration": 1173,
    "start_time": "2023-06-19T00:21:45.938Z"
   },
   {
    "duration": 32,
    "start_time": "2023-06-19T00:22:34.928Z"
   },
   {
    "duration": 155,
    "start_time": "2023-06-19T00:24:01.939Z"
   },
   {
    "duration": 57,
    "start_time": "2023-06-19T00:25:01.246Z"
   },
   {
    "duration": 9,
    "start_time": "2023-06-19T00:25:08.244Z"
   },
   {
    "duration": 4,
    "start_time": "2023-06-19T00:25:11.489Z"
   },
   {
    "duration": 10,
    "start_time": "2023-06-19T00:25:26.933Z"
   },
   {
    "duration": 809,
    "start_time": "2023-06-19T00:25:31.558Z"
   },
   {
    "duration": 25,
    "start_time": "2023-06-19T00:25:32.369Z"
   },
   {
    "duration": 151,
    "start_time": "2023-06-19T00:25:32.396Z"
   },
   {
    "duration": 65,
    "start_time": "2023-06-19T00:25:44.094Z"
   },
   {
    "duration": 775,
    "start_time": "2023-06-19T00:27:17.642Z"
   },
   {
    "duration": 25,
    "start_time": "2023-06-19T00:27:18.418Z"
   },
   {
    "duration": 115,
    "start_time": "2023-06-19T00:27:18.892Z"
   },
   {
    "duration": 4,
    "start_time": "2023-06-19T00:27:22.499Z"
   },
   {
    "duration": 115,
    "start_time": "2023-06-19T00:27:24.392Z"
   },
   {
    "duration": 325349,
    "start_time": "2023-06-19T00:34:29.455Z"
   },
   {
    "duration": 8,
    "start_time": "2023-06-19T00:39:54.806Z"
   },
   {
    "duration": 37,
    "start_time": "2023-06-19T00:43:06.554Z"
   },
   {
    "duration": 9,
    "start_time": "2023-06-19T00:43:20.398Z"
   },
   {
    "duration": 280,
    "start_time": "2023-06-19T00:43:25.918Z"
   },
   {
    "duration": 11,
    "start_time": "2023-06-19T00:43:29.942Z"
   },
   {
    "duration": 256,
    "start_time": "2023-06-19T00:43:33.613Z"
   },
   {
    "duration": 10,
    "start_time": "2023-06-19T00:44:07.055Z"
   },
   {
    "duration": 8,
    "start_time": "2023-06-19T00:48:42.238Z"
   },
   {
    "duration": 79,
    "start_time": "2023-06-19T00:48:45.076Z"
   },
   {
    "duration": 10,
    "start_time": "2023-06-19T00:52:42.462Z"
   },
   {
    "duration": 9,
    "start_time": "2023-06-19T00:52:45.624Z"
   },
   {
    "duration": 11,
    "start_time": "2023-06-19T00:53:10.491Z"
   },
   {
    "duration": 156,
    "start_time": "2023-06-19T00:53:13.822Z"
   },
   {
    "duration": 86,
    "start_time": "2023-06-19T00:53:18.874Z"
   },
   {
    "duration": 181,
    "start_time": "2023-06-19T00:53:21.117Z"
   },
   {
    "duration": 238,
    "start_time": "2023-06-19T00:53:27.370Z"
   },
   {
    "duration": 153,
    "start_time": "2023-06-19T00:53:33.733Z"
   },
   {
    "duration": 52,
    "start_time": "2023-06-19T23:55:27.844Z"
   },
   {
    "duration": 27,
    "start_time": "2023-06-19T23:56:12.182Z"
   },
   {
    "duration": 17,
    "start_time": "2023-06-19T23:56:33.062Z"
   },
   {
    "duration": 30,
    "start_time": "2023-06-19T23:56:53.551Z"
   },
   {
    "duration": 26,
    "start_time": "2023-06-19T23:57:07.504Z"
   },
   {
    "duration": 40,
    "start_time": "2023-06-19T23:57:21.973Z"
   },
   {
    "duration": 19,
    "start_time": "2023-06-19T23:57:39.650Z"
   },
   {
    "duration": 24,
    "start_time": "2023-06-19T23:57:48.431Z"
   },
   {
    "duration": 25,
    "start_time": "2023-06-19T23:58:08.545Z"
   },
   {
    "duration": 28,
    "start_time": "2023-06-19T23:58:17.244Z"
   },
   {
    "duration": 92,
    "start_time": "2023-06-19T23:58:29.354Z"
   },
   {
    "duration": 66,
    "start_time": "2023-06-19T23:58:35.430Z"
   },
   {
    "duration": 13,
    "start_time": "2023-06-20T00:54:52.978Z"
   },
   {
    "duration": 7,
    "start_time": "2023-06-20T00:55:06.928Z"
   },
   {
    "duration": 7,
    "start_time": "2023-06-20T00:55:18.342Z"
   },
   {
    "duration": 11,
    "start_time": "2023-06-20T00:55:52.213Z"
   },
   {
    "duration": 4,
    "start_time": "2023-06-20T00:56:00.530Z"
   },
   {
    "duration": 4,
    "start_time": "2023-06-20T00:56:11.260Z"
   },
   {
    "duration": 9,
    "start_time": "2023-06-20T00:56:14.425Z"
   },
   {
    "duration": 3,
    "start_time": "2023-06-20T00:56:19.092Z"
   },
   {
    "duration": 5,
    "start_time": "2023-06-20T00:56:26.684Z"
   },
   {
    "duration": 6,
    "start_time": "2023-06-20T00:56:26.828Z"
   },
   {
    "duration": 4,
    "start_time": "2023-06-20T00:56:34.656Z"
   },
   {
    "duration": 9,
    "start_time": "2023-06-20T00:56:41.931Z"
   },
   {
    "duration": 15,
    "start_time": "2023-06-20T00:56:47.412Z"
   },
   {
    "duration": 2,
    "start_time": "2023-06-20T00:56:53.726Z"
   },
   {
    "duration": 5,
    "start_time": "2023-06-20T00:56:57.439Z"
   },
   {
    "duration": 3,
    "start_time": "2023-06-20T00:56:57.596Z"
   },
   {
    "duration": 9,
    "start_time": "2023-06-20T00:57:15.962Z"
   },
   {
    "duration": 4,
    "start_time": "2023-06-20T00:58:20.344Z"
   },
   {
    "duration": 9,
    "start_time": "2023-06-20T00:58:40.521Z"
   },
   {
    "duration": 10,
    "start_time": "2023-06-20T00:59:50.927Z"
   },
   {
    "duration": 31,
    "start_time": "2023-06-20T00:59:55.076Z"
   },
   {
    "duration": 29,
    "start_time": "2023-06-20T01:00:01.309Z"
   },
   {
    "duration": 6,
    "start_time": "2023-06-20T01:00:20.748Z"
   },
   {
    "duration": 11,
    "start_time": "2023-06-20T01:00:41.655Z"
   },
   {
    "duration": 184,
    "start_time": "2023-06-20T01:00:59.106Z"
   },
   {
    "duration": 170,
    "start_time": "2023-06-20T01:01:02.964Z"
   },
   {
    "duration": 30,
    "start_time": "2023-06-20T01:05:01.055Z"
   },
   {
    "duration": 236,
    "start_time": "2023-06-20T01:05:07.615Z"
   },
   {
    "duration": 44,
    "start_time": "2023-06-20T01:05:40.564Z"
   },
   {
    "duration": 17,
    "start_time": "2023-06-20T01:06:09.261Z"
   },
   {
    "duration": 17,
    "start_time": "2023-06-20T01:06:46.567Z"
   },
   {
    "duration": 23,
    "start_time": "2023-06-20T01:07:31.380Z"
   },
   {
    "duration": 33,
    "start_time": "2023-06-20T01:10:09.007Z"
   },
   {
    "duration": 138,
    "start_time": "2023-06-20T01:10:23.947Z"
   },
   {
    "duration": 18,
    "start_time": "2023-06-20T01:10:37.145Z"
   },
   {
    "duration": 9,
    "start_time": "2023-06-20T01:12:38.985Z"
   },
   {
    "duration": 927,
    "start_time": "2023-06-20T01:12:52.434Z"
   },
   {
    "duration": 25,
    "start_time": "2023-06-20T01:12:53.363Z"
   },
   {
    "duration": 144,
    "start_time": "2023-06-20T01:12:53.389Z"
   },
   {
    "duration": 5,
    "start_time": "2023-06-20T01:12:53.535Z"
   },
   {
    "duration": 138,
    "start_time": "2023-06-20T01:12:53.542Z"
   },
   {
    "duration": 13,
    "start_time": "2023-06-20T01:12:53.682Z"
   },
   {
    "duration": 39,
    "start_time": "2023-06-20T01:12:53.697Z"
   },
   {
    "duration": 87,
    "start_time": "2023-06-20T01:12:53.738Z"
   },
   {
    "duration": 42,
    "start_time": "2023-06-20T01:12:53.880Z"
   },
   {
    "duration": 29,
    "start_time": "2023-06-20T01:12:54.043Z"
   },
   {
    "duration": 23,
    "start_time": "2023-06-20T01:12:54.207Z"
   },
   {
    "duration": 37,
    "start_time": "2023-06-20T01:12:54.395Z"
   },
   {
    "duration": 16,
    "start_time": "2023-06-20T01:12:57.095Z"
   },
   {
    "duration": 30,
    "start_time": "2023-06-20T01:12:57.227Z"
   },
   {
    "duration": 17,
    "start_time": "2023-06-20T01:12:57.359Z"
   },
   {
    "duration": 36,
    "start_time": "2023-06-20T01:12:57.793Z"
   },
   {
    "duration": 69,
    "start_time": "2023-06-20T01:12:58.031Z"
   },
   {
    "duration": 187,
    "start_time": "2023-06-20T01:12:58.844Z"
   },
   {
    "duration": 212,
    "start_time": "2023-06-20T01:12:59.435Z"
   },
   {
    "duration": 141,
    "start_time": "2023-06-20T01:13:00.236Z"
   },
   {
    "duration": 8,
    "start_time": "2023-06-20T01:13:02.365Z"
   },
   {
    "duration": 27,
    "start_time": "2023-06-20T01:13:03.211Z"
   },
   {
    "duration": 6,
    "start_time": "2023-06-20T01:13:04.379Z"
   },
   {
    "duration": 10,
    "start_time": "2023-06-20T01:13:10.851Z"
   },
   {
    "duration": 166,
    "start_time": "2023-06-20T01:13:17.871Z"
   },
   {
    "duration": 19,
    "start_time": "2023-06-20T01:13:22.936Z"
   },
   {
    "duration": 158,
    "start_time": "2023-06-20T01:13:27.130Z"
   },
   {
    "duration": 19,
    "start_time": "2023-06-20T01:13:35.862Z"
   },
   {
    "duration": 852,
    "start_time": "2023-06-20T01:14:05.881Z"
   },
   {
    "duration": 24,
    "start_time": "2023-06-20T01:14:07.543Z"
   },
   {
    "duration": 121,
    "start_time": "2023-06-20T01:14:11.235Z"
   },
   {
    "duration": 5,
    "start_time": "2023-06-20T01:14:11.549Z"
   },
   {
    "duration": 132,
    "start_time": "2023-06-20T01:14:11.695Z"
   },
   {
    "duration": 14,
    "start_time": "2023-06-20T01:14:11.832Z"
   },
   {
    "duration": 17,
    "start_time": "2023-06-20T01:14:11.965Z"
   },
   {
    "duration": 83,
    "start_time": "2023-06-20T01:14:12.361Z"
   },
   {
    "duration": 32,
    "start_time": "2023-06-20T01:14:12.543Z"
   },
   {
    "duration": 39,
    "start_time": "2023-06-20T01:14:12.704Z"
   },
   {
    "duration": 16,
    "start_time": "2023-06-20T01:14:12.848Z"
   },
   {
    "duration": 40,
    "start_time": "2023-06-20T01:14:12.995Z"
   },
   {
    "duration": 17,
    "start_time": "2023-06-20T01:14:13.150Z"
   },
   {
    "duration": 42,
    "start_time": "2023-06-20T01:14:13.350Z"
   },
   {
    "duration": 17,
    "start_time": "2023-06-20T01:14:13.532Z"
   },
   {
    "duration": 32,
    "start_time": "2023-06-20T01:14:13.824Z"
   },
   {
    "duration": 78,
    "start_time": "2023-06-20T01:14:14.177Z"
   },
   {
    "duration": 166,
    "start_time": "2023-06-20T01:14:15.677Z"
   },
   {
    "duration": 192,
    "start_time": "2023-06-20T01:14:15.849Z"
   },
   {
    "duration": 159,
    "start_time": "2023-06-20T01:14:16.269Z"
   },
   {
    "duration": 6,
    "start_time": "2023-06-20T01:14:18.094Z"
   },
   {
    "duration": 25,
    "start_time": "2023-06-20T01:14:22.011Z"
   },
   {
    "duration": 6,
    "start_time": "2023-06-20T01:14:22.397Z"
   },
   {
    "duration": 13,
    "start_time": "2023-06-20T01:14:25.824Z"
   },
   {
    "duration": 172,
    "start_time": "2023-06-20T01:14:28.941Z"
   },
   {
    "duration": 156,
    "start_time": "2023-06-20T01:14:44.740Z"
   },
   {
    "duration": 18,
    "start_time": "2023-06-20T01:15:00.375Z"
   },
   {
    "duration": 19,
    "start_time": "2023-06-20T01:16:09.374Z"
   },
   {
    "duration": 19,
    "start_time": "2023-06-20T01:16:37.251Z"
   },
   {
    "duration": 29,
    "start_time": "2023-06-20T01:16:53.909Z"
   },
   {
    "duration": 188,
    "start_time": "2023-06-20T01:16:56.383Z"
   },
   {
    "duration": 18,
    "start_time": "2023-06-20T01:17:04.276Z"
   },
   {
    "duration": 19,
    "start_time": "2023-06-20T01:17:12.160Z"
   },
   {
    "duration": 17,
    "start_time": "2023-06-20T01:17:22.280Z"
   },
   {
    "duration": 8,
    "start_time": "2023-06-20T01:17:47.746Z"
   },
   {
    "duration": 162,
    "start_time": "2023-06-20T01:17:48.480Z"
   },
   {
    "duration": 13,
    "start_time": "2023-06-20T01:17:53.049Z"
   },
   {
    "duration": 73,
    "start_time": "2023-06-20T01:18:27.163Z"
   },
   {
    "duration": 13,
    "start_time": "2023-06-20T01:18:36.639Z"
   },
   {
    "duration": 8,
    "start_time": "2023-06-20T01:18:44.875Z"
   },
   {
    "duration": 170,
    "start_time": "2023-06-20T01:18:45.830Z"
   },
   {
    "duration": 21,
    "start_time": "2023-06-20T01:18:54.933Z"
   },
   {
    "duration": 7,
    "start_time": "2023-06-20T01:19:08.881Z"
   },
   {
    "duration": 160,
    "start_time": "2023-06-20T01:19:12.475Z"
   },
   {
    "duration": 176,
    "start_time": "2023-06-20T01:20:01.365Z"
   },
   {
    "duration": 265,
    "start_time": "2023-06-20T01:20:04.947Z"
   },
   {
    "duration": 31,
    "start_time": "2023-06-20T01:21:41.630Z"
   },
   {
    "duration": 21,
    "start_time": "2023-06-20T01:21:44.202Z"
   },
   {
    "duration": 25,
    "start_time": "2023-06-20T01:22:03.879Z"
   },
   {
    "duration": 1428,
    "start_time": "2023-06-20T01:22:56.485Z"
   },
   {
    "duration": 1453,
    "start_time": "2023-06-20T01:23:04.057Z"
   },
   {
    "duration": 1376,
    "start_time": "2023-06-20T01:23:24.129Z"
   },
   {
    "duration": 623,
    "start_time": "2023-06-20T01:25:13.988Z"
   },
   {
    "duration": 716,
    "start_time": "2023-06-20T01:25:22.314Z"
   },
   {
    "duration": 724,
    "start_time": "2023-06-20T01:25:30.637Z"
   },
   {
    "duration": 117,
    "start_time": "2023-06-20T01:27:38.932Z"
   },
   {
    "duration": 116,
    "start_time": "2023-06-20T01:27:49.901Z"
   },
   {
    "duration": 122,
    "start_time": "2023-06-20T01:28:20.978Z"
   },
   {
    "duration": 123,
    "start_time": "2023-06-20T01:28:31.530Z"
   },
   {
    "duration": 124,
    "start_time": "2023-06-20T01:28:38.516Z"
   },
   {
    "duration": 396,
    "start_time": "2023-06-20T01:28:57.201Z"
   },
   {
    "duration": 407,
    "start_time": "2023-06-20T01:29:03.165Z"
   },
   {
    "duration": 10,
    "start_time": "2023-06-20T01:29:58.483Z"
   },
   {
    "duration": 11,
    "start_time": "2023-06-20T01:30:36.454Z"
   },
   {
    "duration": 7,
    "start_time": "2023-06-20T01:31:52.101Z"
   },
   {
    "duration": 4,
    "start_time": "2023-06-20T01:32:03.457Z"
   },
   {
    "duration": 1510,
    "start_time": "2023-06-20T01:32:52.491Z"
   },
   {
    "duration": 2952,
    "start_time": "2023-06-20T01:32:54.003Z"
   },
   {
    "duration": 27,
    "start_time": "2023-06-20T01:32:56.956Z"
   },
   {
    "duration": 128,
    "start_time": "2023-06-20T01:32:56.985Z"
   },
   {
    "duration": 5,
    "start_time": "2023-06-20T01:32:57.115Z"
   },
   {
    "duration": 144,
    "start_time": "2023-06-20T01:32:57.121Z"
   },
   {
    "duration": 13,
    "start_time": "2023-06-20T01:32:57.267Z"
   },
   {
    "duration": 39,
    "start_time": "2023-06-20T01:32:57.281Z"
   },
   {
    "duration": 78,
    "start_time": "2023-06-20T01:32:57.322Z"
   },
   {
    "duration": 68,
    "start_time": "2023-06-20T01:32:57.402Z"
   },
   {
    "duration": 35,
    "start_time": "2023-06-20T01:32:57.472Z"
   },
   {
    "duration": 16,
    "start_time": "2023-06-20T01:32:57.509Z"
   },
   {
    "duration": 51,
    "start_time": "2023-06-20T01:32:57.527Z"
   },
   {
    "duration": 16,
    "start_time": "2023-06-20T01:32:57.581Z"
   },
   {
    "duration": 44,
    "start_time": "2023-06-20T01:32:57.599Z"
   },
   {
    "duration": 35,
    "start_time": "2023-06-20T01:32:57.645Z"
   },
   {
    "duration": 35,
    "start_time": "2023-06-20T01:32:57.682Z"
   },
   {
    "duration": 72,
    "start_time": "2023-06-20T01:32:57.719Z"
   },
   {
    "duration": 19,
    "start_time": "2023-06-20T01:32:57.794Z"
   },
   {
    "duration": 38,
    "start_time": "2023-06-20T01:32:57.815Z"
   },
   {
    "duration": 7,
    "start_time": "2023-06-20T01:32:57.855Z"
   },
   {
    "duration": 25,
    "start_time": "2023-06-20T01:32:57.864Z"
   },
   {
    "duration": 176,
    "start_time": "2023-06-20T01:32:57.891Z"
   },
   {
    "duration": 26,
    "start_time": "2023-06-20T01:32:58.070Z"
   },
   {
    "duration": 22,
    "start_time": "2023-06-20T01:32:58.098Z"
   },
   {
    "duration": 163,
    "start_time": "2023-06-20T01:32:58.122Z"
   },
   {
    "duration": 8,
    "start_time": "2023-06-20T01:32:58.287Z"
   },
   {
    "duration": 166,
    "start_time": "2023-06-20T01:32:58.296Z"
   },
   {
    "duration": 35,
    "start_time": "2023-06-20T01:32:58.464Z"
   },
   {
    "duration": 27,
    "start_time": "2023-06-20T01:32:58.501Z"
   },
   {
    "duration": 1605,
    "start_time": "2023-06-20T01:32:58.530Z"
   },
   {
    "duration": 166,
    "start_time": "2023-06-20T01:33:00.137Z"
   },
   {
    "duration": 167,
    "start_time": "2023-06-20T01:33:00.305Z"
   },
   {
    "duration": 132,
    "start_time": "2023-06-20T01:33:00.474Z"
   },
   {
    "duration": 751,
    "start_time": "2023-06-20T01:33:00.608Z"
   },
   {
    "duration": 395,
    "start_time": "2023-06-20T01:33:01.361Z"
   },
   {
    "duration": 8,
    "start_time": "2023-06-20T01:33:01.759Z"
   },
   {
    "duration": 52,
    "start_time": "2023-06-20T01:33:01.769Z"
   },
   {
    "duration": 1596,
    "start_time": "2023-06-20T01:34:46.227Z"
   },
   {
    "duration": 3031,
    "start_time": "2023-06-20T01:34:47.825Z"
   },
   {
    "duration": 29,
    "start_time": "2023-06-20T01:34:50.858Z"
   },
   {
    "duration": 135,
    "start_time": "2023-06-20T01:34:50.888Z"
   },
   {
    "duration": 5,
    "start_time": "2023-06-20T01:34:51.026Z"
   },
   {
    "duration": 142,
    "start_time": "2023-06-20T01:34:51.032Z"
   },
   {
    "duration": 14,
    "start_time": "2023-06-20T01:34:51.175Z"
   },
   {
    "duration": 49,
    "start_time": "2023-06-20T01:34:51.190Z"
   },
   {
    "duration": 175,
    "start_time": "2023-06-20T01:34:51.241Z"
   },
   {
    "duration": 30,
    "start_time": "2023-06-20T01:34:51.417Z"
   },
   {
    "duration": 46,
    "start_time": "2023-06-20T01:34:51.449Z"
   },
   {
    "duration": 28,
    "start_time": "2023-06-20T01:34:51.497Z"
   },
   {
    "duration": 47,
    "start_time": "2023-06-20T01:34:51.527Z"
   },
   {
    "duration": 40,
    "start_time": "2023-06-20T01:34:51.577Z"
   },
   {
    "duration": 41,
    "start_time": "2023-06-20T01:34:51.619Z"
   },
   {
    "duration": 34,
    "start_time": "2023-06-20T01:34:51.662Z"
   },
   {
    "duration": 37,
    "start_time": "2023-06-20T01:34:51.697Z"
   },
   {
    "duration": 79,
    "start_time": "2023-06-20T01:34:51.736Z"
   },
   {
    "duration": 6,
    "start_time": "2023-06-20T01:34:51.816Z"
   },
   {
    "duration": 38,
    "start_time": "2023-06-20T01:34:51.824Z"
   },
   {
    "duration": 6,
    "start_time": "2023-06-20T01:34:51.864Z"
   },
   {
    "duration": 20,
    "start_time": "2023-06-20T01:34:51.871Z"
   },
   {
    "duration": 181,
    "start_time": "2023-06-20T01:34:51.913Z"
   },
   {
    "duration": 37,
    "start_time": "2023-06-20T01:34:52.096Z"
   },
   {
    "duration": 8,
    "start_time": "2023-06-20T01:34:52.135Z"
   },
   {
    "duration": 155,
    "start_time": "2023-06-20T01:34:52.144Z"
   },
   {
    "duration": 9,
    "start_time": "2023-06-20T01:34:52.312Z"
   },
   {
    "duration": 177,
    "start_time": "2023-06-20T01:34:52.322Z"
   },
   {
    "duration": 38,
    "start_time": "2023-06-20T01:34:52.501Z"
   },
   {
    "duration": 19,
    "start_time": "2023-06-20T01:34:52.541Z"
   },
   {
    "duration": 1757,
    "start_time": "2023-06-20T01:34:52.561Z"
   },
   {
    "duration": 165,
    "start_time": "2023-06-20T01:34:54.319Z"
   },
   {
    "duration": 178,
    "start_time": "2023-06-20T01:34:54.486Z"
   },
   {
    "duration": 135,
    "start_time": "2023-06-20T01:34:54.665Z"
   },
   {
    "duration": 741,
    "start_time": "2023-06-20T01:34:54.802Z"
   },
   {
    "duration": 393,
    "start_time": "2023-06-20T01:34:55.545Z"
   },
   {
    "duration": 8,
    "start_time": "2023-06-20T01:34:55.940Z"
   },
   {
    "duration": 29,
    "start_time": "2023-06-20T01:34:55.950Z"
   },
   {
    "duration": 1501,
    "start_time": "2023-06-20T01:34:55.981Z"
   },
   {
    "duration": 1352,
    "start_time": "2023-06-20T01:35:39.788Z"
   },
   {
    "duration": 1514,
    "start_time": "2023-06-20T01:35:51.329Z"
   },
   {
    "duration": 853,
    "start_time": "2023-06-20T01:35:52.846Z"
   },
   {
    "duration": 32,
    "start_time": "2023-06-20T01:35:53.701Z"
   },
   {
    "duration": 128,
    "start_time": "2023-06-20T01:35:53.735Z"
   },
   {
    "duration": 6,
    "start_time": "2023-06-20T01:35:53.865Z"
   },
   {
    "duration": 142,
    "start_time": "2023-06-20T01:35:53.872Z"
   },
   {
    "duration": 13,
    "start_time": "2023-06-20T01:35:54.016Z"
   },
   {
    "duration": 40,
    "start_time": "2023-06-20T01:35:54.031Z"
   },
   {
    "duration": 94,
    "start_time": "2023-06-20T01:35:54.073Z"
   },
   {
    "duration": 33,
    "start_time": "2023-06-20T01:35:54.170Z"
   },
   {
    "duration": 40,
    "start_time": "2023-06-20T01:35:54.204Z"
   },
   {
    "duration": 16,
    "start_time": "2023-06-20T01:35:54.246Z"
   },
   {
    "duration": 72,
    "start_time": "2023-06-20T01:35:54.264Z"
   },
   {
    "duration": 43,
    "start_time": "2023-06-20T01:35:54.339Z"
   },
   {
    "duration": 41,
    "start_time": "2023-06-20T01:35:54.383Z"
   },
   {
    "duration": 22,
    "start_time": "2023-06-20T01:35:54.426Z"
   },
   {
    "duration": 41,
    "start_time": "2023-06-20T01:35:54.449Z"
   },
   {
    "duration": 70,
    "start_time": "2023-06-20T01:35:54.492Z"
   },
   {
    "duration": 35,
    "start_time": "2023-06-20T01:35:54.564Z"
   },
   {
    "duration": 54,
    "start_time": "2023-06-20T01:35:54.601Z"
   },
   {
    "duration": 99,
    "start_time": "2023-06-20T01:35:54.657Z"
   },
   {
    "duration": 61,
    "start_time": "2023-06-20T01:35:54.758Z"
   },
   {
    "duration": 197,
    "start_time": "2023-06-20T01:35:54.821Z"
   },
   {
    "duration": 26,
    "start_time": "2023-06-20T01:35:55.020Z"
   },
   {
    "duration": 9,
    "start_time": "2023-06-20T01:35:55.048Z"
   },
   {
    "duration": 160,
    "start_time": "2023-06-20T01:35:55.058Z"
   },
   {
    "duration": 8,
    "start_time": "2023-06-20T01:35:55.220Z"
   },
   {
    "duration": 169,
    "start_time": "2023-06-20T01:35:55.230Z"
   },
   {
    "duration": 40,
    "start_time": "2023-06-20T01:35:55.400Z"
   },
   {
    "duration": 23,
    "start_time": "2023-06-20T01:35:55.442Z"
   },
   {
    "duration": 1633,
    "start_time": "2023-06-20T01:35:55.467Z"
   },
   {
    "duration": 166,
    "start_time": "2023-06-20T01:35:57.101Z"
   },
   {
    "duration": 173,
    "start_time": "2023-06-20T01:35:57.268Z"
   },
   {
    "duration": 137,
    "start_time": "2023-06-20T01:35:57.443Z"
   },
   {
    "duration": 711,
    "start_time": "2023-06-20T01:35:57.581Z"
   },
   {
    "duration": 398,
    "start_time": "2023-06-20T01:35:58.294Z"
   },
   {
    "duration": 8,
    "start_time": "2023-06-20T01:35:58.694Z"
   },
   {
    "duration": 3,
    "start_time": "2023-06-20T01:35:58.713Z"
   },
   {
    "duration": 1380,
    "start_time": "2023-06-20T01:35:58.718Z"
   },
   {
    "duration": 514,
    "start_time": "2023-06-20T01:36:37.479Z"
   },
   {
    "duration": 177,
    "start_time": "2023-06-20T01:36:53.528Z"
   },
   {
    "duration": 1567,
    "start_time": "2023-06-20T01:37:20.349Z"
   },
   {
    "duration": 139,
    "start_time": "2023-06-20T01:37:23.762Z"
   },
   {
    "duration": 1541,
    "start_time": "2023-06-20T01:37:58.578Z"
   },
   {
    "duration": 836,
    "start_time": "2023-06-20T01:38:00.121Z"
   },
   {
    "duration": 29,
    "start_time": "2023-06-20T01:38:00.958Z"
   },
   {
    "duration": 134,
    "start_time": "2023-06-20T01:38:00.988Z"
   },
   {
    "duration": 48,
    "start_time": "2023-06-20T01:38:01.124Z"
   },
   {
    "duration": 124,
    "start_time": "2023-06-20T01:38:01.173Z"
   },
   {
    "duration": 19,
    "start_time": "2023-06-20T01:38:01.299Z"
   },
   {
    "duration": 47,
    "start_time": "2023-06-20T01:38:01.320Z"
   },
   {
    "duration": 114,
    "start_time": "2023-06-20T01:38:01.369Z"
   },
   {
    "duration": 39,
    "start_time": "2023-06-20T01:38:01.484Z"
   },
   {
    "duration": 136,
    "start_time": "2023-06-20T01:38:01.525Z"
   },
   {
    "duration": 63,
    "start_time": "2023-06-20T01:38:01.663Z"
   },
   {
    "duration": 198,
    "start_time": "2023-06-20T01:38:01.728Z"
   },
   {
    "duration": 119,
    "start_time": "2023-06-20T01:38:01.929Z"
   },
   {
    "duration": 124,
    "start_time": "2023-06-20T01:38:02.050Z"
   },
   {
    "duration": 132,
    "start_time": "2023-06-20T01:38:02.175Z"
   },
   {
    "duration": 82,
    "start_time": "2023-06-20T01:38:02.309Z"
   },
   {
    "duration": 89,
    "start_time": "2023-06-20T01:38:02.394Z"
   },
   {
    "duration": 22,
    "start_time": "2023-06-20T01:38:02.484Z"
   },
   {
    "duration": 65,
    "start_time": "2023-06-20T01:38:02.508Z"
   },
   {
    "duration": 110,
    "start_time": "2023-06-20T01:38:02.575Z"
   },
   {
    "duration": 243,
    "start_time": "2023-06-20T01:38:02.687Z"
   },
   {
    "duration": 224,
    "start_time": "2023-06-20T01:38:02.932Z"
   },
   {
    "duration": 29,
    "start_time": "2023-06-20T01:38:03.158Z"
   },
   {
    "duration": 24,
    "start_time": "2023-06-20T01:38:03.189Z"
   },
   {
    "duration": 142,
    "start_time": "2023-06-20T01:38:03.215Z"
   },
   {
    "duration": 9,
    "start_time": "2023-06-20T01:38:03.360Z"
   },
   {
    "duration": 176,
    "start_time": "2023-06-20T01:38:03.371Z"
   },
   {
    "duration": 36,
    "start_time": "2023-06-20T01:38:03.549Z"
   },
   {
    "duration": 37,
    "start_time": "2023-06-20T01:38:03.586Z"
   },
   {
    "duration": 1623,
    "start_time": "2023-06-20T01:38:03.625Z"
   },
   {
    "duration": 164,
    "start_time": "2023-06-20T01:38:05.250Z"
   },
   {
    "duration": 173,
    "start_time": "2023-06-20T01:38:05.416Z"
   },
   {
    "duration": 169,
    "start_time": "2023-06-20T01:38:05.591Z"
   },
   {
    "duration": 783,
    "start_time": "2023-06-20T01:38:05.763Z"
   },
   {
    "duration": 393,
    "start_time": "2023-06-20T01:38:06.547Z"
   },
   {
    "duration": 6,
    "start_time": "2023-06-20T01:38:06.942Z"
   },
   {
    "duration": 2066,
    "start_time": "2023-06-20T01:38:06.950Z"
   },
   {
    "duration": 397,
    "start_time": "2023-06-20T01:39:08.885Z"
   },
   {
    "duration": 387,
    "start_time": "2023-06-20T01:39:17.922Z"
   },
   {
    "duration": 375,
    "start_time": "2023-06-20T01:39:44.189Z"
   },
   {
    "duration": 415,
    "start_time": "2023-06-20T01:40:03.810Z"
   },
   {
    "duration": 373,
    "start_time": "2023-06-20T01:40:18.464Z"
   },
   {
    "duration": 505,
    "start_time": "2023-06-20T01:40:31.808Z"
   },
   {
    "duration": 382,
    "start_time": "2023-06-20T01:40:36.416Z"
   },
   {
    "duration": 399,
    "start_time": "2023-06-20T01:41:11.500Z"
   },
   {
    "duration": 69,
    "start_time": "2023-06-20T01:41:21.891Z"
   },
   {
    "duration": 374,
    "start_time": "2023-06-20T01:41:28.584Z"
   },
   {
    "duration": 2065,
    "start_time": "2023-06-20T01:42:06.569Z"
   },
   {
    "duration": 23893,
    "start_time": "2023-06-20T01:44:20.224Z"
   },
   {
    "duration": 21,
    "start_time": "2023-06-20T01:45:39.578Z"
   },
   {
    "duration": 1380,
    "start_time": "2023-06-20T01:46:00.337Z"
   },
   {
    "duration": 76,
    "start_time": "2023-06-20T01:48:02.334Z"
   },
   {
    "duration": 60,
    "start_time": "2023-06-20T01:48:26.555Z"
   },
   {
    "duration": 4,
    "start_time": "2023-06-20T01:49:37.086Z"
   },
   {
    "duration": 1462,
    "start_time": "2023-06-20T01:53:45.852Z"
   },
   {
    "duration": 793,
    "start_time": "2023-06-20T01:53:47.316Z"
   },
   {
    "duration": 25,
    "start_time": "2023-06-20T01:53:48.110Z"
   },
   {
    "duration": 123,
    "start_time": "2023-06-20T01:53:48.137Z"
   },
   {
    "duration": 5,
    "start_time": "2023-06-20T01:53:48.263Z"
   },
   {
    "duration": 126,
    "start_time": "2023-06-20T01:53:48.269Z"
   },
   {
    "duration": 19,
    "start_time": "2023-06-20T01:53:48.396Z"
   },
   {
    "duration": 23,
    "start_time": "2023-06-20T01:53:48.417Z"
   },
   {
    "duration": 80,
    "start_time": "2023-06-20T01:53:48.442Z"
   },
   {
    "duration": 28,
    "start_time": "2023-06-20T01:53:48.524Z"
   },
   {
    "duration": 51,
    "start_time": "2023-06-20T01:53:48.553Z"
   },
   {
    "duration": 16,
    "start_time": "2023-06-20T01:53:48.606Z"
   },
   {
    "duration": 35,
    "start_time": "2023-06-20T01:53:48.623Z"
   },
   {
    "duration": 17,
    "start_time": "2023-06-20T01:53:48.661Z"
   },
   {
    "duration": 41,
    "start_time": "2023-06-20T01:53:48.680Z"
   },
   {
    "duration": 16,
    "start_time": "2023-06-20T01:53:48.723Z"
   },
   {
    "duration": 32,
    "start_time": "2023-06-20T01:53:48.741Z"
   },
   {
    "duration": 85,
    "start_time": "2023-06-20T01:53:48.775Z"
   },
   {
    "duration": 6,
    "start_time": "2023-06-20T01:53:48.862Z"
   },
   {
    "duration": 52,
    "start_time": "2023-06-20T01:53:48.869Z"
   },
   {
    "duration": 6,
    "start_time": "2023-06-20T01:53:48.923Z"
   },
   {
    "duration": 11,
    "start_time": "2023-06-20T01:53:48.930Z"
   },
   {
    "duration": 181,
    "start_time": "2023-06-20T01:53:48.943Z"
   },
   {
    "duration": 23,
    "start_time": "2023-06-20T01:53:49.125Z"
   },
   {
    "duration": 6,
    "start_time": "2023-06-20T01:53:49.150Z"
   },
   {
    "duration": 148,
    "start_time": "2023-06-20T01:53:49.158Z"
   },
   {
    "duration": 8,
    "start_time": "2023-06-20T01:53:49.308Z"
   },
   {
    "duration": 173,
    "start_time": "2023-06-20T01:53:49.317Z"
   },
   {
    "duration": 37,
    "start_time": "2023-06-20T01:53:49.492Z"
   },
   {
    "duration": 19,
    "start_time": "2023-06-20T01:53:49.531Z"
   },
   {
    "duration": 1570,
    "start_time": "2023-06-20T01:53:49.552Z"
   },
   {
    "duration": 155,
    "start_time": "2023-06-20T01:53:51.124Z"
   },
   {
    "duration": 171,
    "start_time": "2023-06-20T01:53:51.280Z"
   },
   {
    "duration": 125,
    "start_time": "2023-06-20T01:53:51.453Z"
   },
   {
    "duration": 735,
    "start_time": "2023-06-20T01:53:51.579Z"
   },
   {
    "duration": 382,
    "start_time": "2023-06-20T01:53:52.315Z"
   },
   {
    "duration": 2027,
    "start_time": "2023-06-20T01:53:52.699Z"
   },
   {
    "duration": 23786,
    "start_time": "2023-06-20T01:53:54.728Z"
   },
   {
    "duration": 261,
    "start_time": "2023-06-20T01:54:18.517Z"
   },
   {
    "duration": 3,
    "start_time": "2023-06-20T01:54:18.779Z"
   },
   {
    "duration": 372629,
    "start_time": "2023-06-20T01:54:18.785Z"
   },
   {
    "duration": 196,
    "start_time": "2023-06-20T02:00:31.417Z"
   },
   {
    "duration": 89,
    "start_time": "2023-06-20T02:04:13.140Z"
   },
   {
    "duration": 23,
    "start_time": "2023-06-20T02:05:25.267Z"
   },
   {
    "duration": 1142,
    "start_time": "2023-06-20T02:05:32.770Z"
   },
   {
    "duration": 137,
    "start_time": "2023-06-20T02:07:31.140Z"
   },
   {
    "duration": 140,
    "start_time": "2023-06-20T02:08:42.477Z"
   },
   {
    "duration": 148,
    "start_time": "2023-06-20T02:08:55.248Z"
   },
   {
    "duration": 86,
    "start_time": "2023-06-20T02:09:14.518Z"
   },
   {
    "duration": 143,
    "start_time": "2023-06-20T02:09:20.910Z"
   },
   {
    "duration": 81,
    "start_time": "2023-06-20T02:09:21.066Z"
   },
   {
    "duration": 63,
    "start_time": "2023-06-20T02:09:47.044Z"
   },
   {
    "duration": 194,
    "start_time": "2023-06-20T02:10:23.786Z"
   },
   {
    "duration": 3,
    "start_time": "2023-06-20T02:10:24.923Z"
   },
   {
    "duration": 511824,
    "start_time": "2023-06-20T02:10:26.007Z"
   },
   {
    "duration": 1128,
    "start_time": "2023-06-20T02:18:57.833Z"
   },
   {
    "duration": 2153,
    "start_time": "2023-06-20T09:53:21.014Z"
   },
   {
    "duration": 3457,
    "start_time": "2023-06-20T09:53:23.169Z"
   },
   {
    "duration": 46,
    "start_time": "2023-06-20T09:53:26.628Z"
   },
   {
    "duration": 243,
    "start_time": "2023-06-20T09:53:26.677Z"
   },
   {
    "duration": 9,
    "start_time": "2023-06-20T09:53:26.924Z"
   },
   {
    "duration": 219,
    "start_time": "2023-06-20T09:53:26.958Z"
   },
   {
    "duration": 25,
    "start_time": "2023-06-20T09:53:27.180Z"
   },
   {
    "duration": 59,
    "start_time": "2023-06-20T09:53:27.207Z"
   },
   {
    "duration": 152,
    "start_time": "2023-06-20T09:53:27.269Z"
   },
   {
    "duration": 71,
    "start_time": "2023-06-20T09:53:27.423Z"
   },
   {
    "duration": 66,
    "start_time": "2023-06-20T09:53:27.496Z"
   },
   {
    "duration": 33,
    "start_time": "2023-06-20T09:53:27.565Z"
   },
   {
    "duration": 72,
    "start_time": "2023-06-20T09:53:27.601Z"
   },
   {
    "duration": 37,
    "start_time": "2023-06-20T09:53:27.677Z"
   },
   {
    "duration": 71,
    "start_time": "2023-06-20T09:53:27.716Z"
   },
   {
    "duration": 31,
    "start_time": "2023-06-20T09:53:27.789Z"
   },
   {
    "duration": 73,
    "start_time": "2023-06-20T09:53:27.822Z"
   },
   {
    "duration": 139,
    "start_time": "2023-06-20T09:53:27.897Z"
   },
   {
    "duration": 28,
    "start_time": "2023-06-20T09:53:28.039Z"
   },
   {
    "duration": 50,
    "start_time": "2023-06-20T09:53:28.071Z"
   },
   {
    "duration": 11,
    "start_time": "2023-06-20T09:53:28.123Z"
   },
   {
    "duration": 13,
    "start_time": "2023-06-20T09:53:28.157Z"
   },
   {
    "duration": 301,
    "start_time": "2023-06-20T09:53:28.174Z"
   },
   {
    "duration": 46,
    "start_time": "2023-06-20T09:53:28.478Z"
   },
   {
    "duration": 30,
    "start_time": "2023-06-20T09:53:28.527Z"
   },
   {
    "duration": 248,
    "start_time": "2023-06-20T09:53:28.560Z"
   },
   {
    "duration": 14,
    "start_time": "2023-06-20T09:53:28.812Z"
   },
   {
    "duration": 424,
    "start_time": "2023-06-20T09:53:28.828Z"
   },
   {
    "duration": 48,
    "start_time": "2023-06-20T09:53:29.257Z"
   },
   {
    "duration": 49,
    "start_time": "2023-06-20T09:53:29.308Z"
   },
   {
    "duration": 2297,
    "start_time": "2023-06-20T09:53:29.360Z"
   },
   {
    "duration": 259,
    "start_time": "2023-06-20T09:53:31.659Z"
   },
   {
    "duration": 275,
    "start_time": "2023-06-20T09:53:31.920Z"
   },
   {
    "duration": 200,
    "start_time": "2023-06-20T09:53:32.198Z"
   },
   {
    "duration": 1324,
    "start_time": "2023-06-20T09:53:32.401Z"
   },
   {
    "duration": 335,
    "start_time": "2023-06-20T09:53:33.727Z"
   },
   {
    "duration": 0,
    "start_time": "2023-06-20T09:53:34.065Z"
   },
   {
    "duration": 0,
    "start_time": "2023-06-20T09:53:34.067Z"
   },
   {
    "duration": 0,
    "start_time": "2023-06-20T09:53:34.068Z"
   },
   {
    "duration": 0,
    "start_time": "2023-06-20T09:53:34.070Z"
   },
   {
    "duration": 0,
    "start_time": "2023-06-20T09:53:34.071Z"
   },
   {
    "duration": 0,
    "start_time": "2023-06-20T09:53:34.073Z"
   },
   {
    "duration": 0,
    "start_time": "2023-06-20T09:53:34.075Z"
   },
   {
    "duration": 614,
    "start_time": "2023-06-20T09:54:04.781Z"
   },
   {
    "duration": 2956,
    "start_time": "2023-06-20T09:54:09.230Z"
   },
   {
    "duration": 36618,
    "start_time": "2023-06-20T09:54:12.550Z"
   },
   {
    "duration": 192,
    "start_time": "2023-06-20T09:56:26.159Z"
   },
   {
    "duration": 4,
    "start_time": "2023-06-20T09:56:30.102Z"
   },
   {
    "duration": 21,
    "start_time": "2023-06-20T09:56:33.426Z"
   },
   {
    "duration": 1218,
    "start_time": "2023-06-20T09:56:41.491Z"
   },
   {
    "duration": 1278,
    "start_time": "2023-06-20T09:57:10.471Z"
   },
   {
    "duration": 58937,
    "start_time": "2023-06-20T09:57:23.341Z"
   },
   {
    "duration": 100,
    "start_time": "2023-06-20T10:00:35.722Z"
   },
   {
    "duration": 259,
    "start_time": "2023-06-20T10:00:41.420Z"
   },
   {
    "duration": 303,
    "start_time": "2023-06-20T10:00:48.135Z"
   },
   {
    "duration": 10,
    "start_time": "2023-06-20T10:01:26.055Z"
   },
   {
    "duration": 82857,
    "start_time": "2023-06-20T10:02:00.876Z"
   },
   {
    "duration": 202,
    "start_time": "2023-06-20T10:03:40.778Z"
   },
   {
    "duration": 6,
    "start_time": "2023-06-20T10:03:42.061Z"
   },
   {
    "duration": 73660,
    "start_time": "2023-06-20T10:05:02.439Z"
   },
   {
    "duration": 327,
    "start_time": "2023-06-20T10:06:16.101Z"
   },
   {
    "duration": 9,
    "start_time": "2023-06-20T10:06:16.431Z"
   },
   {
    "duration": 98,
    "start_time": "2023-06-20T10:09:26.856Z"
   },
   {
    "duration": 407666,
    "start_time": "2023-06-20T10:10:09.202Z"
   },
   {
    "duration": 2691,
    "start_time": "2023-06-20T10:16:56.871Z"
   },
   {
    "duration": 18,
    "start_time": "2023-06-20T10:17:07.741Z"
   },
   {
    "duration": 50057,
    "start_time": "2023-06-20T10:17:35.424Z"
   },
   {
    "duration": 94,
    "start_time": "2023-06-20T10:18:25.488Z"
   },
   {
    "duration": 3,
    "start_time": "2023-06-20T10:29:52.644Z"
   },
   {
    "duration": 815,
    "start_time": "2023-06-20T10:33:10.381Z"
   },
   {
    "duration": 16,
    "start_time": "2023-06-20T10:34:47.188Z"
   },
   {
    "duration": 18,
    "start_time": "2023-06-20T10:34:55.418Z"
   },
   {
    "duration": 18,
    "start_time": "2023-06-20T10:36:32.973Z"
   },
   {
    "duration": 16,
    "start_time": "2023-06-20T10:36:52.837Z"
   },
   {
    "duration": 15,
    "start_time": "2023-06-20T10:37:02.815Z"
   },
   {
    "duration": 16,
    "start_time": "2023-06-20T10:37:07.482Z"
   },
   {
    "duration": 22,
    "start_time": "2023-06-20T10:37:11.137Z"
   },
   {
    "duration": 15,
    "start_time": "2023-06-20T10:37:17.841Z"
   },
   {
    "duration": 18,
    "start_time": "2023-06-20T10:37:29.898Z"
   },
   {
    "duration": 39,
    "start_time": "2023-06-20T10:38:20.376Z"
   },
   {
    "duration": 18,
    "start_time": "2023-06-20T10:39:11.345Z"
   },
   {
    "duration": 46,
    "start_time": "2023-06-20T10:39:19.051Z"
   },
   {
    "duration": 40,
    "start_time": "2023-06-20T10:39:28.026Z"
   },
   {
    "duration": 109,
    "start_time": "2023-06-20T10:42:31.056Z"
   },
   {
    "duration": 26,
    "start_time": "2023-06-20T10:46:48.099Z"
   },
   {
    "duration": 16,
    "start_time": "2023-06-20T10:47:48.214Z"
   },
   {
    "duration": 58,
    "start_time": "2023-06-20T10:49:08.634Z"
   },
   {
    "duration": 789,
    "start_time": "2023-06-20T10:50:59.718Z"
   },
   {
    "duration": 62,
    "start_time": "2023-06-20T10:51:15.200Z"
   },
   {
    "duration": 927,
    "start_time": "2023-06-20T10:51:17.403Z"
   },
   {
    "duration": 24,
    "start_time": "2023-06-20T10:51:29.566Z"
   },
   {
    "duration": 44,
    "start_time": "2023-06-20T10:51:38.051Z"
   },
   {
    "duration": 713,
    "start_time": "2023-06-20T10:51:40.110Z"
   },
   {
    "duration": 43,
    "start_time": "2023-06-20T10:51:51.845Z"
   },
   {
    "duration": 925,
    "start_time": "2023-06-20T10:51:53.601Z"
   },
   {
    "duration": 15,
    "start_time": "2023-06-20T10:52:12.374Z"
   },
   {
    "duration": 1386,
    "start_time": "2023-06-20T10:52:12.624Z"
   },
   {
    "duration": 59,
    "start_time": "2023-06-20T10:52:14.021Z"
   },
   {
    "duration": 200,
    "start_time": "2023-06-20T10:52:14.089Z"
   },
   {
    "duration": 20,
    "start_time": "2023-06-20T10:52:14.291Z"
   },
   {
    "duration": 216,
    "start_time": "2023-06-20T10:52:14.317Z"
   },
   {
    "duration": 40,
    "start_time": "2023-06-20T10:52:14.536Z"
   },
   {
    "duration": 53,
    "start_time": "2023-06-20T10:52:14.579Z"
   },
   {
    "duration": 134,
    "start_time": "2023-06-20T10:52:14.734Z"
   },
   {
    "duration": 64,
    "start_time": "2023-06-20T10:52:15.743Z"
   },
   {
    "duration": 51,
    "start_time": "2023-06-20T10:52:16.001Z"
   },
   {
    "duration": 26,
    "start_time": "2023-06-20T10:52:16.313Z"
   },
   {
    "duration": 61,
    "start_time": "2023-06-20T10:52:16.750Z"
   },
   {
    "duration": 26,
    "start_time": "2023-06-20T10:52:17.025Z"
   },
   {
    "duration": 34,
    "start_time": "2023-06-20T10:52:34.743Z"
   },
   {
    "duration": 6,
    "start_time": "2023-06-20T10:52:42.411Z"
   },
   {
    "duration": 1170,
    "start_time": "2023-06-20T10:52:42.727Z"
   },
   {
    "duration": 50,
    "start_time": "2023-06-20T10:52:43.901Z"
   },
   {
    "duration": 314,
    "start_time": "2023-06-20T10:52:43.953Z"
   },
   {
    "duration": 18,
    "start_time": "2023-06-20T10:52:44.279Z"
   },
   {
    "duration": 226,
    "start_time": "2023-06-20T10:52:44.303Z"
   },
   {
    "duration": 30,
    "start_time": "2023-06-20T10:52:44.536Z"
   },
   {
    "duration": 31,
    "start_time": "2023-06-20T10:52:44.572Z"
   },
   {
    "duration": 142,
    "start_time": "2023-06-20T10:52:44.609Z"
   },
   {
    "duration": 70,
    "start_time": "2023-06-20T10:52:44.757Z"
   },
   {
    "duration": 52,
    "start_time": "2023-06-20T10:52:44.834Z"
   },
   {
    "duration": 30,
    "start_time": "2023-06-20T10:52:44.892Z"
   },
   {
    "duration": 54,
    "start_time": "2023-06-20T10:52:45.023Z"
   },
   {
    "duration": 72,
    "start_time": "2023-06-20T10:52:45.080Z"
   },
   {
    "duration": 99,
    "start_time": "2023-06-20T10:52:45.167Z"
   },
   {
    "duration": 49,
    "start_time": "2023-06-20T10:52:45.269Z"
   },
   {
    "duration": 63,
    "start_time": "2023-06-20T10:52:45.325Z"
   },
   {
    "duration": 174,
    "start_time": "2023-06-20T10:52:45.395Z"
   },
   {
    "duration": 290,
    "start_time": "2023-06-20T10:52:45.753Z"
   },
   {
    "duration": 256,
    "start_time": "2023-06-20T10:52:46.050Z"
   },
   {
    "duration": 230,
    "start_time": "2023-06-20T10:52:46.309Z"
   },
   {
    "duration": 8,
    "start_time": "2023-06-20T10:52:48.325Z"
   },
   {
    "duration": 31,
    "start_time": "2023-06-20T10:52:48.613Z"
   },
   {
    "duration": 16,
    "start_time": "2023-06-20T10:52:49.213Z"
   },
   {
    "duration": 20,
    "start_time": "2023-06-20T10:52:49.857Z"
   },
   {
    "duration": 353,
    "start_time": "2023-06-20T10:52:50.189Z"
   },
   {
    "duration": 37,
    "start_time": "2023-06-20T10:52:50.567Z"
   },
   {
    "duration": 18,
    "start_time": "2023-06-20T10:52:51.007Z"
   },
   {
    "duration": 185,
    "start_time": "2023-06-20T10:52:51.874Z"
   },
   {
    "duration": 35,
    "start_time": "2023-06-20T10:52:53.601Z"
   },
   {
    "duration": 39,
    "start_time": "2023-06-20T10:52:54.036Z"
   },
   {
    "duration": 1193,
    "start_time": "2023-06-20T10:52:54.462Z"
   },
   {
    "duration": 21,
    "start_time": "2023-06-20T10:52:55.666Z"
   },
   {
    "duration": 44,
    "start_time": "2023-06-20T10:52:56.698Z"
   },
   {
    "duration": 87,
    "start_time": "2023-06-20T10:55:31.942Z"
   },
   {
    "duration": 1838,
    "start_time": "2023-06-20T10:55:36.409Z"
   },
   {
    "duration": 4237,
    "start_time": "2023-06-20T10:55:38.250Z"
   },
   {
    "duration": 36,
    "start_time": "2023-06-20T10:55:42.496Z"
   },
   {
    "duration": 158,
    "start_time": "2023-06-20T10:55:42.536Z"
   },
   {
    "duration": 5,
    "start_time": "2023-06-20T10:55:42.696Z"
   },
   {
    "duration": 198,
    "start_time": "2023-06-20T10:55:42.703Z"
   },
   {
    "duration": 16,
    "start_time": "2023-06-20T10:55:42.903Z"
   },
   {
    "duration": 56,
    "start_time": "2023-06-20T10:55:42.922Z"
   },
   {
    "duration": 100,
    "start_time": "2023-06-20T10:55:42.981Z"
   },
   {
    "duration": 48,
    "start_time": "2023-06-20T10:55:43.084Z"
   },
   {
    "duration": 71,
    "start_time": "2023-06-20T10:55:43.136Z"
   },
   {
    "duration": 28,
    "start_time": "2023-06-20T10:55:43.210Z"
   },
   {
    "duration": 74,
    "start_time": "2023-06-20T10:55:43.241Z"
   },
   {
    "duration": 24,
    "start_time": "2023-06-20T10:55:43.319Z"
   },
   {
    "duration": 64,
    "start_time": "2023-06-20T10:55:43.345Z"
   },
   {
    "duration": 19,
    "start_time": "2023-06-20T10:55:43.412Z"
   },
   {
    "duration": 50,
    "start_time": "2023-06-20T10:55:43.433Z"
   },
   {
    "duration": 150,
    "start_time": "2023-06-20T10:55:43.485Z"
   },
   {
    "duration": 240,
    "start_time": "2023-06-20T10:55:43.637Z"
   },
   {
    "duration": 262,
    "start_time": "2023-06-20T10:55:43.886Z"
   },
   {
    "duration": 225,
    "start_time": "2023-06-20T10:55:44.155Z"
   },
   {
    "duration": 28,
    "start_time": "2023-06-20T10:55:59.279Z"
   },
   {
    "duration": 64,
    "start_time": "2023-06-20T10:56:00.147Z"
   },
   {
    "duration": 20,
    "start_time": "2023-06-20T10:56:00.797Z"
   },
   {
    "duration": 2137,
    "start_time": "2023-06-20T10:59:02.120Z"
   },
   {
    "duration": 1212,
    "start_time": "2023-06-20T10:59:04.259Z"
   },
   {
    "duration": 59,
    "start_time": "2023-06-20T10:59:05.483Z"
   },
   {
    "duration": 166,
    "start_time": "2023-06-20T10:59:05.545Z"
   },
   {
    "duration": 9,
    "start_time": "2023-06-20T10:59:05.713Z"
   },
   {
    "duration": 173,
    "start_time": "2023-06-20T10:59:05.725Z"
   },
   {
    "duration": 25,
    "start_time": "2023-06-20T10:59:05.902Z"
   },
   {
    "duration": 38,
    "start_time": "2023-06-20T10:59:05.929Z"
   },
   {
    "duration": 104,
    "start_time": "2023-06-20T10:59:05.969Z"
   },
   {
    "duration": 54,
    "start_time": "2023-06-20T10:59:06.075Z"
   },
   {
    "duration": 68,
    "start_time": "2023-06-20T10:59:06.131Z"
   },
   {
    "duration": 29,
    "start_time": "2023-06-20T10:59:06.204Z"
   },
   {
    "duration": 55,
    "start_time": "2023-06-20T10:59:06.235Z"
   },
   {
    "duration": 27,
    "start_time": "2023-06-20T10:59:06.292Z"
   },
   {
    "duration": 56,
    "start_time": "2023-06-20T10:59:06.510Z"
   },
   {
    "duration": 34,
    "start_time": "2023-06-20T10:59:06.669Z"
   },
   {
    "duration": 62,
    "start_time": "2023-06-20T10:59:07.038Z"
   },
   {
    "duration": 156,
    "start_time": "2023-06-20T10:59:07.238Z"
   },
   {
    "duration": 305,
    "start_time": "2023-06-20T10:59:08.512Z"
   },
   {
    "duration": 346,
    "start_time": "2023-06-20T10:59:08.830Z"
   },
   {
    "duration": 259,
    "start_time": "2023-06-20T10:59:09.187Z"
   },
   {
    "duration": 12,
    "start_time": "2023-06-20T10:59:16.404Z"
   },
   {
    "duration": 40,
    "start_time": "2023-06-20T10:59:17.510Z"
   },
   {
    "duration": 9,
    "start_time": "2023-06-20T10:59:18.701Z"
   },
   {
    "duration": 237,
    "start_time": "2023-06-20T10:59:19.521Z"
   },
   {
    "duration": 100,
    "start_time": "2023-06-20T11:00:03.502Z"
   },
   {
    "duration": 236,
    "start_time": "2023-06-20T11:00:11.113Z"
   },
   {
    "duration": 377,
    "start_time": "2023-06-20T11:00:19.673Z"
   },
   {
    "duration": 271,
    "start_time": "2023-06-20T11:00:25.408Z"
   },
   {
    "duration": 241,
    "start_time": "2023-06-20T11:00:29.910Z"
   },
   {
    "duration": 287,
    "start_time": "2023-06-20T11:00:34.285Z"
   },
   {
    "duration": 11,
    "start_time": "2023-06-20T11:02:05.729Z"
   },
   {
    "duration": 238,
    "start_time": "2023-06-20T11:02:06.932Z"
   },
   {
    "duration": 289,
    "start_time": "2023-06-20T11:02:21.282Z"
   },
   {
    "duration": 254,
    "start_time": "2023-06-20T11:02:31.018Z"
   },
   {
    "duration": 819,
    "start_time": "2023-06-20T11:02:58.857Z"
   },
   {
    "duration": 611,
    "start_time": "2023-06-20T11:03:04.989Z"
   },
   {
    "duration": 219,
    "start_time": "2023-06-20T11:03:09.612Z"
   },
   {
    "duration": 309,
    "start_time": "2023-06-20T11:03:13.198Z"
   },
   {
    "duration": 227,
    "start_time": "2023-06-20T11:03:17.021Z"
   },
   {
    "duration": 350,
    "start_time": "2023-06-20T11:03:21.835Z"
   },
   {
    "duration": 405,
    "start_time": "2023-06-20T11:03:36.873Z"
   },
   {
    "duration": 853,
    "start_time": "2023-06-20T11:03:40.803Z"
   },
   {
    "duration": 45,
    "start_time": "2023-06-20T11:03:41.659Z"
   },
   {
    "duration": 9,
    "start_time": "2023-06-20T11:03:43.229Z"
   },
   {
    "duration": 336,
    "start_time": "2023-06-20T11:03:51.315Z"
   },
   {
    "duration": 357,
    "start_time": "2023-06-20T11:04:20.619Z"
   },
   {
    "duration": 369,
    "start_time": "2023-06-20T11:04:45.018Z"
   },
   {
    "duration": 53,
    "start_time": "2023-06-20T11:04:57.463Z"
   },
   {
    "duration": 990,
    "start_time": "2023-06-20T11:04:57.702Z"
   },
   {
    "duration": 14,
    "start_time": "2023-06-20T11:04:58.703Z"
   },
   {
    "duration": 38,
    "start_time": "2023-06-20T11:04:58.718Z"
   },
   {
    "duration": 673,
    "start_time": "2023-06-20T11:05:12.600Z"
   },
   {
    "duration": 659,
    "start_time": "2023-06-20T11:05:19.204Z"
   },
   {
    "duration": 590,
    "start_time": "2023-06-20T11:05:27.515Z"
   },
   {
    "duration": 13,
    "start_time": "2023-06-20T11:07:11.982Z"
   },
   {
    "duration": 752,
    "start_time": "2023-06-20T11:07:41.993Z"
   },
   {
    "duration": 329,
    "start_time": "2023-06-20T11:07:46.173Z"
   },
   {
    "duration": 275,
    "start_time": "2023-06-20T11:07:53.089Z"
   },
   {
    "duration": 12,
    "start_time": "2023-06-20T11:08:26.920Z"
   },
   {
    "duration": 187,
    "start_time": "2023-06-20T11:11:44.924Z"
   },
   {
    "duration": 46,
    "start_time": "2023-06-20T11:11:50.597Z"
   },
   {
    "duration": 2184,
    "start_time": "2023-06-20T11:30:23.800Z"
   },
   {
    "duration": 1076,
    "start_time": "2023-06-20T11:30:25.987Z"
   },
   {
    "duration": 43,
    "start_time": "2023-06-20T11:30:27.065Z"
   },
   {
    "duration": 169,
    "start_time": "2023-06-20T11:30:27.111Z"
   },
   {
    "duration": 9,
    "start_time": "2023-06-20T11:30:27.283Z"
   },
   {
    "duration": 204,
    "start_time": "2023-06-20T11:30:27.295Z"
   },
   {
    "duration": 19,
    "start_time": "2023-06-20T11:30:27.501Z"
   },
   {
    "duration": 34,
    "start_time": "2023-06-20T11:30:27.522Z"
   },
   {
    "duration": 130,
    "start_time": "2023-06-20T11:30:27.559Z"
   },
   {
    "duration": 41,
    "start_time": "2023-06-20T11:30:27.692Z"
   },
   {
    "duration": 56,
    "start_time": "2023-06-20T11:30:27.735Z"
   },
   {
    "duration": 20,
    "start_time": "2023-06-20T11:30:27.802Z"
   },
   {
    "duration": 89,
    "start_time": "2023-06-20T11:30:27.825Z"
   },
   {
    "duration": 29,
    "start_time": "2023-06-20T11:30:27.917Z"
   },
   {
    "duration": 71,
    "start_time": "2023-06-20T11:30:27.949Z"
   },
   {
    "duration": 132,
    "start_time": "2023-06-20T11:30:28.023Z"
   },
   {
    "duration": 61,
    "start_time": "2023-06-20T11:30:28.159Z"
   },
   {
    "duration": 127,
    "start_time": "2023-06-20T11:30:28.239Z"
   },
   {
    "duration": 270,
    "start_time": "2023-06-20T11:30:28.833Z"
   },
   {
    "duration": 368,
    "start_time": "2023-06-20T11:30:29.113Z"
   },
   {
    "duration": 238,
    "start_time": "2023-06-20T11:30:29.484Z"
   },
   {
    "duration": 18,
    "start_time": "2023-06-20T11:30:31.373Z"
   },
   {
    "duration": 399,
    "start_time": "2023-06-20T11:30:31.687Z"
   },
   {
    "duration": 47,
    "start_time": "2023-06-20T11:30:32.088Z"
   },
   {
    "duration": 10,
    "start_time": "2023-06-20T11:30:32.308Z"
   },
   {
    "duration": 493,
    "start_time": "2023-06-20T11:30:32.818Z"
   },
   {
    "duration": 12,
    "start_time": "2023-06-20T11:30:33.699Z"
   },
   {
    "duration": 454,
    "start_time": "2023-06-20T11:30:33.924Z"
   },
   {
    "duration": 31,
    "start_time": "2023-06-20T11:30:34.611Z"
   },
   {
    "duration": 8,
    "start_time": "2023-06-20T11:30:34.828Z"
   },
   {
    "duration": 359,
    "start_time": "2023-06-20T11:30:35.226Z"
   },
   {
    "duration": 36,
    "start_time": "2023-06-20T11:30:36.416Z"
   },
   {
    "duration": 672,
    "start_time": "2023-06-20T11:30:37.138Z"
   },
   {
    "duration": 15,
    "start_time": "2023-06-20T11:30:37.818Z"
   },
   {
    "duration": 55,
    "start_time": "2023-06-20T11:30:38.149Z"
   },
   {
    "duration": 754,
    "start_time": "2023-06-20T11:30:39.024Z"
   },
   {
    "duration": 269,
    "start_time": "2023-06-20T11:30:40.075Z"
   },
   {
    "duration": 8,
    "start_time": "2023-06-20T11:30:40.699Z"
   },
   {
    "duration": 41,
    "start_time": "2023-06-20T11:30:42.612Z"
   },
   {
    "duration": 37,
    "start_time": "2023-06-20T11:30:55.026Z"
   },
   {
    "duration": 6,
    "start_time": "2023-06-20T11:31:11.541Z"
   },
   {
    "duration": 5,
    "start_time": "2023-06-20T11:32:02.993Z"
   },
   {
    "duration": 6,
    "start_time": "2023-06-20T11:32:12.389Z"
   },
   {
    "duration": 1122,
    "start_time": "2023-06-20T11:32:59.874Z"
   },
   {
    "duration": 442,
    "start_time": "2023-06-20T11:33:00.998Z"
   },
   {
    "duration": 2273,
    "start_time": "2023-06-20T11:33:01.441Z"
   },
   {
    "duration": 5,
    "start_time": "2023-06-20T11:34:02.745Z"
   },
   {
    "duration": 41871,
    "start_time": "2023-06-20T11:34:08.270Z"
   },
   {
    "duration": 17,
    "start_time": "2023-06-20T11:34:50.144Z"
   },
   {
    "duration": 0,
    "start_time": "2023-06-20T11:34:50.165Z"
   },
   {
    "duration": 257,
    "start_time": "2023-06-20T11:35:14.707Z"
   },
   {
    "duration": 8,
    "start_time": "2023-06-20T11:35:18.619Z"
   },
   {
    "duration": 31,
    "start_time": "2023-06-20T11:35:26.739Z"
   },
   {
    "duration": 154,
    "start_time": "2023-06-20T11:35:27.605Z"
   },
   {
    "duration": 63,
    "start_time": "2023-06-20T11:35:28.304Z"
   },
   {
    "duration": 385560,
    "start_time": "2023-06-20T11:35:28.820Z"
   },
   {
    "duration": 2490,
    "start_time": "2023-06-20T11:41:54.385Z"
   },
   {
    "duration": 11,
    "start_time": "2023-06-20T11:41:56.876Z"
   },
   {
    "duration": 37,
    "start_time": "2023-06-20T11:41:56.889Z"
   },
   {
    "duration": 51360,
    "start_time": "2023-06-20T11:41:56.928Z"
   },
   {
    "duration": 248,
    "start_time": "2023-06-20T11:42:48.290Z"
   },
   {
    "duration": 22,
    "start_time": "2023-06-20T11:42:48.540Z"
   },
   {
    "duration": 180,
    "start_time": "2023-06-20T11:44:08.545Z"
   },
   {
    "duration": 10,
    "start_time": "2023-06-20T11:44:17.974Z"
   },
   {
    "duration": 9,
    "start_time": "2023-06-20T11:44:38.938Z"
   },
   {
    "duration": 6,
    "start_time": "2023-06-20T11:44:58.741Z"
   },
   {
    "duration": 7,
    "start_time": "2023-06-20T11:45:08.524Z"
   },
   {
    "duration": 25,
    "start_time": "2023-06-20T11:45:51.604Z"
   },
   {
    "duration": 18,
    "start_time": "2023-06-20T11:46:27.685Z"
   },
   {
    "duration": 17,
    "start_time": "2023-06-20T11:46:53.542Z"
   },
   {
    "duration": 5,
    "start_time": "2023-06-20T11:47:02.525Z"
   },
   {
    "duration": 14,
    "start_time": "2023-06-20T11:47:52.778Z"
   },
   {
    "duration": 5,
    "start_time": "2023-06-20T11:47:57.972Z"
   },
   {
    "duration": 1835,
    "start_time": "2023-06-20T11:48:49.715Z"
   },
   {
    "duration": 992,
    "start_time": "2023-06-20T11:48:51.553Z"
   },
   {
    "duration": 47,
    "start_time": "2023-06-20T11:48:52.547Z"
   },
   {
    "duration": 149,
    "start_time": "2023-06-20T11:48:52.597Z"
   },
   {
    "duration": 15,
    "start_time": "2023-06-20T11:48:52.748Z"
   },
   {
    "duration": 201,
    "start_time": "2023-06-20T11:48:52.765Z"
   },
   {
    "duration": 30,
    "start_time": "2023-06-20T11:48:52.969Z"
   },
   {
    "duration": 38,
    "start_time": "2023-06-20T11:48:53.002Z"
   },
   {
    "duration": 104,
    "start_time": "2023-06-20T11:48:53.042Z"
   },
   {
    "duration": 56,
    "start_time": "2023-06-20T11:48:53.148Z"
   },
   {
    "duration": 37,
    "start_time": "2023-06-20T11:48:53.205Z"
   },
   {
    "duration": 34,
    "start_time": "2023-06-20T11:48:53.261Z"
   },
   {
    "duration": 112,
    "start_time": "2023-06-20T11:48:53.297Z"
   },
   {
    "duration": 23,
    "start_time": "2023-06-20T11:48:53.414Z"
   },
   {
    "duration": 97,
    "start_time": "2023-06-20T11:48:53.439Z"
   },
   {
    "duration": 55,
    "start_time": "2023-06-20T11:48:53.539Z"
   },
   {
    "duration": 57,
    "start_time": "2023-06-20T11:48:53.596Z"
   },
   {
    "duration": 80,
    "start_time": "2023-06-20T11:48:53.655Z"
   },
   {
    "duration": 294,
    "start_time": "2023-06-20T11:48:53.737Z"
   },
   {
    "duration": 248,
    "start_time": "2023-06-20T11:48:54.033Z"
   },
   {
    "duration": 191,
    "start_time": "2023-06-20T11:48:54.282Z"
   },
   {
    "duration": 10,
    "start_time": "2023-06-20T11:48:54.475Z"
   },
   {
    "duration": 316,
    "start_time": "2023-06-20T11:48:54.487Z"
   },
   {
    "duration": 30,
    "start_time": "2023-06-20T11:48:54.805Z"
   },
   {
    "duration": 34,
    "start_time": "2023-06-20T11:48:54.837Z"
   },
   {
    "duration": 424,
    "start_time": "2023-06-20T11:48:54.873Z"
   },
   {
    "duration": 10,
    "start_time": "2023-06-20T11:48:55.301Z"
   },
   {
    "duration": 364,
    "start_time": "2023-06-20T11:48:55.313Z"
   },
   {
    "duration": 29,
    "start_time": "2023-06-20T11:48:55.680Z"
   },
   {
    "duration": 7,
    "start_time": "2023-06-20T11:48:55.712Z"
   },
   {
    "duration": 330,
    "start_time": "2023-06-20T11:48:55.721Z"
   },
   {
    "duration": 38,
    "start_time": "2023-06-20T11:48:56.061Z"
   },
   {
    "duration": 496,
    "start_time": "2023-06-20T11:48:56.101Z"
   },
   {
    "duration": 12,
    "start_time": "2023-06-20T11:48:56.599Z"
   },
   {
    "duration": 60,
    "start_time": "2023-06-20T11:48:56.614Z"
   },
   {
    "duration": 497,
    "start_time": "2023-06-20T11:48:56.677Z"
   },
   {
    "duration": 357,
    "start_time": "2023-06-20T11:48:57.177Z"
   },
   {
    "duration": 30,
    "start_time": "2023-06-20T11:48:57.537Z"
   },
   {
    "duration": 32,
    "start_time": "2023-06-20T11:48:57.569Z"
   },
   {
    "duration": 8,
    "start_time": "2023-06-20T11:48:57.604Z"
   },
   {
    "duration": 1012,
    "start_time": "2023-06-20T11:48:57.618Z"
   },
   {
    "duration": 492,
    "start_time": "2023-06-20T11:48:58.632Z"
   },
   {
    "duration": 2329,
    "start_time": "2023-06-20T11:48:59.126Z"
   },
   {
    "duration": 54308,
    "start_time": "2023-06-20T11:49:01.462Z"
   },
   {
    "duration": 288,
    "start_time": "2023-06-20T11:49:55.773Z"
   },
   {
    "duration": 9,
    "start_time": "2023-06-20T11:49:56.066Z"
   },
   {
    "duration": 105,
    "start_time": "2023-06-20T11:49:56.079Z"
   },
   {
    "duration": 155,
    "start_time": "2023-06-20T11:49:56.186Z"
   },
   {
    "duration": 48,
    "start_time": "2023-06-20T11:49:56.343Z"
   },
   {
    "duration": 505781,
    "start_time": "2023-06-20T11:49:56.393Z"
   },
   {
    "duration": 2408,
    "start_time": "2023-06-20T11:58:22.183Z"
   },
   {
    "duration": 8,
    "start_time": "2023-06-20T11:58:24.594Z"
   },
   {
    "duration": 90,
    "start_time": "2023-06-20T11:58:24.604Z"
   },
   {
    "duration": 53689,
    "start_time": "2023-06-20T11:58:24.696Z"
   },
   {
    "duration": 296,
    "start_time": "2023-06-20T11:59:18.387Z"
   },
   {
    "duration": 6,
    "start_time": "2023-06-20T11:59:18.684Z"
   },
   {
    "duration": 149,
    "start_time": "2023-06-20T11:59:18.692Z"
   },
   {
    "duration": 17,
    "start_time": "2023-06-20T12:02:42.424Z"
   },
   {
    "duration": 6,
    "start_time": "2023-06-20T12:03:02.892Z"
   },
   {
    "duration": 11,
    "start_time": "2023-06-20T12:03:20.619Z"
   },
   {
    "duration": 8,
    "start_time": "2023-06-20T12:03:51.312Z"
   },
   {
    "duration": 18,
    "start_time": "2023-06-20T12:03:52.781Z"
   },
   {
    "duration": 8,
    "start_time": "2023-06-20T12:05:33.240Z"
   },
   {
    "duration": 16,
    "start_time": "2023-06-20T12:05:33.792Z"
   },
   {
    "duration": 1238,
    "start_time": "2023-06-20T14:26:33.688Z"
   },
   {
    "duration": 770,
    "start_time": "2023-06-20T14:26:34.928Z"
   },
   {
    "duration": 27,
    "start_time": "2023-06-20T14:26:35.699Z"
   },
   {
    "duration": 125,
    "start_time": "2023-06-20T14:26:35.728Z"
   },
   {
    "duration": 5,
    "start_time": "2023-06-20T14:26:35.855Z"
   },
   {
    "duration": 126,
    "start_time": "2023-06-20T14:26:35.862Z"
   },
   {
    "duration": 14,
    "start_time": "2023-06-20T14:26:37.391Z"
   },
   {
    "duration": 25,
    "start_time": "2023-06-20T14:26:37.963Z"
   },
   {
    "duration": 73,
    "start_time": "2023-06-20T14:26:40.644Z"
   },
   {
    "duration": 29,
    "start_time": "2023-06-20T14:26:44.780Z"
   },
   {
    "duration": 31,
    "start_time": "2023-06-20T14:26:45.253Z"
   },
   {
    "duration": 17,
    "start_time": "2023-06-20T14:26:48.239Z"
   },
   {
    "duration": 32,
    "start_time": "2023-06-20T14:26:49.180Z"
   },
   {
    "duration": 15,
    "start_time": "2023-06-20T14:26:49.712Z"
   },
   {
    "duration": 29,
    "start_time": "2023-06-20T14:26:51.941Z"
   },
   {
    "duration": 16,
    "start_time": "2023-06-20T14:26:52.444Z"
   },
   {
    "duration": 28,
    "start_time": "2023-06-20T14:26:53.190Z"
   },
   {
    "duration": 68,
    "start_time": "2023-06-20T14:26:53.831Z"
   },
   {
    "duration": 160,
    "start_time": "2023-06-20T14:26:56.580Z"
   },
   {
    "duration": 194,
    "start_time": "2023-06-20T14:26:57.132Z"
   },
   {
    "duration": 141,
    "start_time": "2023-06-20T14:26:57.494Z"
   },
   {
    "duration": 59,
    "start_time": "2023-06-20T18:22:56.419Z"
   },
   {
    "duration": 1740,
    "start_time": "2023-06-20T18:23:00.504Z"
   },
   {
    "duration": 3218,
    "start_time": "2023-06-20T18:23:02.247Z"
   },
   {
    "duration": 37,
    "start_time": "2023-06-20T18:23:05.467Z"
   },
   {
    "duration": 144,
    "start_time": "2023-06-20T18:23:05.507Z"
   },
   {
    "duration": 20,
    "start_time": "2023-06-20T18:23:05.653Z"
   },
   {
    "duration": 139,
    "start_time": "2023-06-20T18:23:05.675Z"
   },
   {
    "duration": 16,
    "start_time": "2023-06-20T18:23:05.816Z"
   },
   {
    "duration": 65,
    "start_time": "2023-06-20T18:23:05.834Z"
   },
   {
    "duration": 401,
    "start_time": "2023-06-20T18:23:05.902Z"
   },
   {
    "duration": 169,
    "start_time": "2023-06-20T18:23:39.664Z"
   },
   {
    "duration": 855,
    "start_time": "2023-06-20T18:23:44.696Z"
   },
   {
    "duration": 33,
    "start_time": "2023-06-20T18:23:45.553Z"
   },
   {
    "duration": 127,
    "start_time": "2023-06-20T18:23:45.587Z"
   },
   {
    "duration": 5,
    "start_time": "2023-06-20T18:23:47.254Z"
   },
   {
    "duration": 122,
    "start_time": "2023-06-20T18:23:47.662Z"
   },
   {
    "duration": 13,
    "start_time": "2023-06-20T18:23:48.542Z"
   },
   {
    "duration": 488,
    "start_time": "2023-06-20T18:23:51.041Z"
   },
   {
    "duration": 1027,
    "start_time": "2023-06-20T18:23:58.148Z"
   },
   {
    "duration": 481,
    "start_time": "2023-06-20T18:24:49.861Z"
   },
   {
    "duration": 561,
    "start_time": "2023-06-20T18:24:51.154Z"
   },
   {
    "duration": 516,
    "start_time": "2023-06-20T18:24:51.717Z"
   },
   {
    "duration": 36,
    "start_time": "2023-06-20T18:24:53.550Z"
   },
   {
    "duration": 77,
    "start_time": "2023-06-20T18:24:55.350Z"
   },
   {
    "duration": 4,
    "start_time": "2023-06-20T18:24:59.534Z"
   },
   {
    "duration": 897,
    "start_time": "2023-06-20T18:24:59.682Z"
   },
   {
    "duration": 28,
    "start_time": "2023-06-20T18:25:00.581Z"
   },
   {
    "duration": 160,
    "start_time": "2023-06-20T18:25:00.611Z"
   },
   {
    "duration": 49,
    "start_time": "2023-06-20T18:25:00.774Z"
   },
   {
    "duration": 4,
    "start_time": "2023-06-20T18:26:32.952Z"
   },
   {
    "duration": 821,
    "start_time": "2023-06-20T18:26:33.081Z"
   },
   {
    "duration": 26,
    "start_time": "2023-06-20T18:26:33.905Z"
   },
   {
    "duration": 160,
    "start_time": "2023-06-20T18:26:33.934Z"
   },
   {
    "duration": 5,
    "start_time": "2023-06-20T18:26:34.097Z"
   },
   {
    "duration": 152,
    "start_time": "2023-06-20T18:26:34.104Z"
   },
   {
    "duration": 14,
    "start_time": "2023-06-20T18:26:35.405Z"
   },
   {
    "duration": 437,
    "start_time": "2023-06-20T18:26:37.433Z"
   },
   {
    "duration": 490,
    "start_time": "2023-06-20T18:26:38.957Z"
   },
   {
    "duration": 440,
    "start_time": "2023-06-20T18:26:39.600Z"
   },
   {
    "duration": 74,
    "start_time": "2023-06-20T18:27:38.924Z"
   },
   {
    "duration": 13,
    "start_time": "2023-06-20T18:38:06.110Z"
   },
   {
    "duration": 13,
    "start_time": "2023-06-20T18:38:18.240Z"
   },
   {
    "duration": 51,
    "start_time": "2023-06-20T18:38:41.022Z"
   },
   {
    "duration": 313,
    "start_time": "2023-06-20T18:38:42.774Z"
   },
   {
    "duration": 46,
    "start_time": "2023-06-20T18:38:51.123Z"
   },
   {
    "duration": 390,
    "start_time": "2023-06-20T18:38:51.640Z"
   },
   {
    "duration": 47,
    "start_time": "2023-06-20T18:38:59.905Z"
   },
   {
    "duration": 320,
    "start_time": "2023-06-20T18:39:01.998Z"
   },
   {
    "duration": 46,
    "start_time": "2023-06-20T18:39:09.498Z"
   },
   {
    "duration": 296,
    "start_time": "2023-06-20T18:39:11.536Z"
   },
   {
    "duration": 64,
    "start_time": "2023-06-20T18:39:16.131Z"
   },
   {
    "duration": 295,
    "start_time": "2023-06-20T18:39:16.638Z"
   },
   {
    "duration": 52,
    "start_time": "2023-06-20T18:39:24.828Z"
   },
   {
    "duration": 379,
    "start_time": "2023-06-20T18:39:25.466Z"
   },
   {
    "duration": 4,
    "start_time": "2023-06-20T18:39:37.136Z"
   },
   {
    "duration": 850,
    "start_time": "2023-06-20T18:39:37.272Z"
   },
   {
    "duration": 24,
    "start_time": "2023-06-20T18:39:38.124Z"
   },
   {
    "duration": 158,
    "start_time": "2023-06-20T18:39:38.149Z"
   },
   {
    "duration": 6,
    "start_time": "2023-06-20T18:39:38.309Z"
   },
   {
    "duration": 140,
    "start_time": "2023-06-20T18:39:38.317Z"
   },
   {
    "duration": 27,
    "start_time": "2023-06-20T18:39:38.459Z"
   },
   {
    "duration": 492,
    "start_time": "2023-06-20T18:39:38.487Z"
   },
   {
    "duration": 499,
    "start_time": "2023-06-20T18:39:38.984Z"
   },
   {
    "duration": 480,
    "start_time": "2023-06-20T18:39:39.485Z"
   },
   {
    "duration": 37,
    "start_time": "2023-06-20T18:39:39.970Z"
   },
   {
    "duration": 113,
    "start_time": "2023-06-20T18:39:40.010Z"
   },
   {
    "duration": 30,
    "start_time": "2023-06-20T18:39:41.418Z"
   },
   {
    "duration": 30,
    "start_time": "2023-06-20T18:39:41.598Z"
   },
   {
    "duration": 16,
    "start_time": "2023-06-20T18:39:42.202Z"
   },
   {
    "duration": 29,
    "start_time": "2023-06-20T18:39:42.803Z"
   },
   {
    "duration": 16,
    "start_time": "2023-06-20T18:39:43.129Z"
   },
   {
    "duration": 34,
    "start_time": "2023-06-20T18:39:43.903Z"
   },
   {
    "duration": 18,
    "start_time": "2023-06-20T18:39:45.302Z"
   },
   {
    "duration": 37,
    "start_time": "2023-06-20T18:39:45.644Z"
   },
   {
    "duration": 79,
    "start_time": "2023-06-20T18:39:46.797Z"
   },
   {
    "duration": 7,
    "start_time": "2023-06-20T18:39:51.042Z"
   },
   {
    "duration": 463,
    "start_time": "2023-06-20T18:39:51.452Z"
   },
   {
    "duration": 28,
    "start_time": "2023-06-20T18:39:53.810Z"
   },
   {
    "duration": 9,
    "start_time": "2023-06-20T18:39:54.043Z"
   },
   {
    "duration": 326,
    "start_time": "2023-06-20T18:39:54.604Z"
   },
   {
    "duration": 11,
    "start_time": "2023-06-20T18:39:57.747Z"
   },
   {
    "duration": 352,
    "start_time": "2023-06-20T18:40:01.361Z"
   },
   {
    "duration": 19,
    "start_time": "2023-06-20T18:40:26.345Z"
   },
   {
    "duration": 20,
    "start_time": "2023-06-20T18:41:59.112Z"
   },
   {
    "duration": 36,
    "start_time": "2023-06-20T18:42:14.190Z"
   },
   {
    "duration": 18,
    "start_time": "2023-06-20T18:42:19.923Z"
   },
   {
    "duration": 117,
    "start_time": "2023-06-20T18:42:26.578Z"
   },
   {
    "duration": 30,
    "start_time": "2023-06-20T18:42:33.508Z"
   },
   {
    "duration": 35,
    "start_time": "2023-06-20T18:42:39.740Z"
   },
   {
    "duration": 27,
    "start_time": "2023-06-20T18:43:17.455Z"
   },
   {
    "duration": 69,
    "start_time": "2023-06-20T18:43:26.086Z"
   },
   {
    "duration": 23,
    "start_time": "2023-06-20T18:43:31.043Z"
   },
   {
    "duration": 9,
    "start_time": "2023-06-20T18:43:46.134Z"
   },
   {
    "duration": 33,
    "start_time": "2023-06-20T18:43:52.660Z"
   },
   {
    "duration": 25,
    "start_time": "2023-06-20T18:44:09.204Z"
   },
   {
    "duration": 31,
    "start_time": "2023-06-20T18:44:11.164Z"
   },
   {
    "duration": 23,
    "start_time": "2023-06-20T18:44:25.042Z"
   },
   {
    "duration": 24,
    "start_time": "2023-06-20T18:44:27.198Z"
   },
   {
    "duration": 31,
    "start_time": "2023-06-20T18:45:02.854Z"
   },
   {
    "duration": 325,
    "start_time": "2023-06-20T18:45:05.092Z"
   },
   {
    "duration": 924,
    "start_time": "2023-06-20T18:48:05.108Z"
   },
   {
    "duration": 35,
    "start_time": "2023-06-20T18:48:06.035Z"
   },
   {
    "duration": 138,
    "start_time": "2023-06-20T18:48:06.074Z"
   },
   {
    "duration": 5,
    "start_time": "2023-06-20T18:48:06.214Z"
   },
   {
    "duration": 155,
    "start_time": "2023-06-20T18:48:06.220Z"
   },
   {
    "duration": 25,
    "start_time": "2023-06-20T18:48:06.378Z"
   },
   {
    "duration": 544,
    "start_time": "2023-06-20T18:48:06.405Z"
   },
   {
    "duration": 571,
    "start_time": "2023-06-20T18:48:06.951Z"
   },
   {
    "duration": 537,
    "start_time": "2023-06-20T18:48:07.524Z"
   },
   {
    "duration": 43,
    "start_time": "2023-06-20T18:48:08.066Z"
   },
   {
    "duration": 133,
    "start_time": "2023-06-20T18:48:08.111Z"
   },
   {
    "duration": 58,
    "start_time": "2023-06-20T18:48:08.246Z"
   },
   {
    "duration": 45,
    "start_time": "2023-06-20T18:48:08.307Z"
   },
   {
    "duration": 25,
    "start_time": "2023-06-20T18:48:08.355Z"
   },
   {
    "duration": 32,
    "start_time": "2023-06-20T18:48:08.621Z"
   },
   {
    "duration": 20,
    "start_time": "2023-06-20T18:48:08.822Z"
   },
   {
    "duration": 35,
    "start_time": "2023-06-20T18:48:09.192Z"
   },
   {
    "duration": 17,
    "start_time": "2023-06-20T18:48:09.402Z"
   },
   {
    "duration": 50,
    "start_time": "2023-06-20T18:48:09.854Z"
   },
   {
    "duration": 90,
    "start_time": "2023-06-20T18:48:10.059Z"
   },
   {
    "duration": 10,
    "start_time": "2023-06-20T18:48:12.599Z"
   },
   {
    "duration": 358,
    "start_time": "2023-06-20T18:48:12.841Z"
   },
   {
    "duration": 28,
    "start_time": "2023-06-20T18:48:13.201Z"
   },
   {
    "duration": 7,
    "start_time": "2023-06-20T18:48:13.553Z"
   },
   {
    "duration": 337,
    "start_time": "2023-06-20T18:48:14.220Z"
   },
   {
    "duration": 8,
    "start_time": "2023-06-20T18:48:16.529Z"
   },
   {
    "duration": 427,
    "start_time": "2023-06-20T18:48:19.961Z"
   },
   {
    "duration": 25,
    "start_time": "2023-06-20T18:48:27.413Z"
   },
   {
    "duration": 20,
    "start_time": "2023-06-20T18:48:29.141Z"
   },
   {
    "duration": 36,
    "start_time": "2023-06-20T18:48:34.093Z"
   },
   {
    "duration": 293,
    "start_time": "2023-06-20T18:48:36.342Z"
   },
   {
    "duration": 31,
    "start_time": "2023-06-20T18:48:48.060Z"
   },
   {
    "duration": 296,
    "start_time": "2023-06-20T18:48:49.461Z"
   },
   {
    "duration": 26,
    "start_time": "2023-06-20T18:50:16.665Z"
   },
   {
    "duration": 1545,
    "start_time": "2023-06-20T18:50:16.960Z"
   },
   {
    "duration": 26,
    "start_time": "2023-06-20T18:50:29.050Z"
   },
   {
    "duration": 1657,
    "start_time": "2023-06-20T18:50:29.897Z"
   },
   {
    "duration": 10,
    "start_time": "2023-06-20T18:50:47.024Z"
   },
   {
    "duration": 24,
    "start_time": "2023-06-20T18:50:48.119Z"
   },
   {
    "duration": 26,
    "start_time": "2023-06-20T18:50:51.903Z"
   },
   {
    "duration": 1652,
    "start_time": "2023-06-20T18:50:52.717Z"
   },
   {
    "duration": 0,
    "start_time": "2023-06-20T18:50:54.373Z"
   },
   {
    "duration": 7,
    "start_time": "2023-06-20T18:50:54.601Z"
   },
   {
    "duration": 1642,
    "start_time": "2023-06-20T18:51:09.742Z"
   },
   {
    "duration": 873,
    "start_time": "2023-06-20T18:51:11.386Z"
   },
   {
    "duration": 46,
    "start_time": "2023-06-20T18:51:12.261Z"
   },
   {
    "duration": 157,
    "start_time": "2023-06-20T18:51:12.310Z"
   },
   {
    "duration": 7,
    "start_time": "2023-06-20T18:51:12.469Z"
   },
   {
    "duration": 133,
    "start_time": "2023-06-20T18:51:12.478Z"
   },
   {
    "duration": 14,
    "start_time": "2023-06-20T18:51:12.613Z"
   },
   {
    "duration": 521,
    "start_time": "2023-06-20T18:51:12.628Z"
   },
   {
    "duration": 556,
    "start_time": "2023-06-20T18:51:13.152Z"
   },
   {
    "duration": 553,
    "start_time": "2023-06-20T18:51:13.710Z"
   },
   {
    "duration": 44,
    "start_time": "2023-06-20T18:51:14.267Z"
   },
   {
    "duration": 93,
    "start_time": "2023-06-20T18:51:14.313Z"
   },
   {
    "duration": 36,
    "start_time": "2023-06-20T18:51:14.408Z"
   },
   {
    "duration": 52,
    "start_time": "2023-06-20T18:51:14.446Z"
   },
   {
    "duration": 18,
    "start_time": "2023-06-20T18:51:14.500Z"
   },
   {
    "duration": 32,
    "start_time": "2023-06-20T18:51:14.519Z"
   },
   {
    "duration": 20,
    "start_time": "2023-06-20T18:51:14.569Z"
   },
   {
    "duration": 30,
    "start_time": "2023-06-20T18:51:14.619Z"
   },
   {
    "duration": 16,
    "start_time": "2023-06-20T18:51:14.787Z"
   },
   {
    "duration": 34,
    "start_time": "2023-06-20T18:51:15.129Z"
   },
   {
    "duration": 85,
    "start_time": "2023-06-20T18:51:15.345Z"
   },
   {
    "duration": 6,
    "start_time": "2023-06-20T18:51:16.835Z"
   },
   {
    "duration": 309,
    "start_time": "2023-06-20T18:51:17.023Z"
   },
   {
    "duration": 47,
    "start_time": "2023-06-20T18:51:17.334Z"
   },
   {
    "duration": 9,
    "start_time": "2023-06-20T18:51:17.503Z"
   },
   {
    "duration": 390,
    "start_time": "2023-06-20T18:51:18.459Z"
   },
   {
    "duration": 11,
    "start_time": "2023-06-20T18:51:18.895Z"
   },
   {
    "duration": 288,
    "start_time": "2023-06-20T18:51:19.237Z"
   },
   {
    "duration": 2,
    "start_time": "2023-06-20T18:51:19.527Z"
   },
   {
    "duration": 2,
    "start_time": "2023-06-20T18:51:19.910Z"
   },
   {
    "duration": 24,
    "start_time": "2023-06-20T18:51:20.343Z"
   },
   {
    "duration": 21,
    "start_time": "2023-06-20T18:51:20.653Z"
   },
   {
    "duration": 37,
    "start_time": "2023-06-20T18:51:20.987Z"
   },
   {
    "duration": 299,
    "start_time": "2023-06-20T18:51:21.222Z"
   },
   {
    "duration": 22,
    "start_time": "2023-06-20T18:51:23.740Z"
   },
   {
    "duration": 1539,
    "start_time": "2023-06-20T18:51:24.211Z"
   },
   {
    "duration": 12,
    "start_time": "2023-06-20T18:51:44.911Z"
   },
   {
    "duration": 33,
    "start_time": "2023-06-20T18:51:46.857Z"
   },
   {
    "duration": 1493,
    "start_time": "2023-06-20T18:51:50.810Z"
   },
   {
    "duration": 185,
    "start_time": "2023-06-20T18:52:09.861Z"
   },
   {
    "duration": 8,
    "start_time": "2023-06-20T18:52:10.103Z"
   },
   {
    "duration": 33,
    "start_time": "2023-06-20T18:52:16.247Z"
   },
   {
    "duration": 5,
    "start_time": "2023-06-20T18:52:17.530Z"
   },
   {
    "duration": 819,
    "start_time": "2023-06-20T18:53:14.227Z"
   },
   {
    "duration": 421,
    "start_time": "2023-06-20T18:53:15.047Z"
   },
   {
    "duration": 3982,
    "start_time": "2023-06-20T18:53:21.811Z"
   },
   {
    "duration": 26685,
    "start_time": "2023-06-20T18:53:25.795Z"
   },
   {
    "duration": 190,
    "start_time": "2023-06-20T18:53:52.482Z"
   },
   {
    "duration": 93,
    "start_time": "2023-06-20T18:53:52.674Z"
   },
   {
    "duration": 32,
    "start_time": "2023-06-20T18:55:19.547Z"
   },
   {
    "duration": 16,
    "start_time": "2023-06-20T18:55:21.191Z"
   },
   {
    "duration": 7,
    "start_time": "2023-06-20T18:55:27.845Z"
   },
   {
    "duration": 151,
    "start_time": "2023-06-20T18:55:56.317Z"
   },
   {
    "duration": 6,
    "start_time": "2023-06-20T18:55:58.799Z"
   },
   {
    "duration": 15,
    "start_time": "2023-06-20T18:56:03.599Z"
   },
   {
    "duration": 144,
    "start_time": "2023-06-20T18:56:04.320Z"
   },
   {
    "duration": 39,
    "start_time": "2023-06-20T18:56:04.524Z"
   },
   {
    "duration": 60262,
    "start_time": "2023-06-20T18:56:04.715Z"
   },
   {
    "duration": 2395,
    "start_time": "2023-06-20T18:57:04.980Z"
   },
   {
    "duration": 14,
    "start_time": "2023-06-20T18:57:07.377Z"
   },
   {
    "duration": 112,
    "start_time": "2023-06-20T19:02:07.894Z"
   },
   {
    "duration": 72,
    "start_time": "2023-06-20T19:03:16.742Z"
   },
   {
    "duration": 11,
    "start_time": "2023-06-20T19:03:23.721Z"
   },
   {
    "duration": 302,
    "start_time": "2023-06-20T19:03:33.204Z"
   },
   {
    "duration": 41,
    "start_time": "2023-06-20T19:06:01.522Z"
   },
   {
    "duration": 45,
    "start_time": "2023-06-20T19:06:05.613Z"
   },
   {
    "duration": 64,
    "start_time": "2023-06-20T19:06:20.597Z"
   },
   {
    "duration": 62,
    "start_time": "2023-06-20T19:06:33.243Z"
   },
   {
    "duration": 420,
    "start_time": "2023-06-20T19:06:56.896Z"
   },
   {
    "duration": 2923,
    "start_time": "2023-06-20T19:06:58.703Z"
   },
   {
    "duration": 47174,
    "start_time": "2023-06-20T19:07:04.234Z"
   },
   {
    "duration": 72,
    "start_time": "2023-06-20T19:07:51.411Z"
   },
   {
    "duration": 86,
    "start_time": "2023-06-20T19:07:51.485Z"
   },
   {
    "duration": 4,
    "start_time": "2023-06-20T19:10:29.338Z"
   },
   {
    "duration": 43668,
    "start_time": "2023-06-20T19:10:57.899Z"
   },
   {
    "duration": 35963,
    "start_time": "2023-06-20T19:13:31.038Z"
   },
   {
    "duration": 3,
    "start_time": "2023-06-20T19:14:07.003Z"
   },
   {
    "duration": 40161,
    "start_time": "2023-06-20T19:14:43.442Z"
   },
   {
    "duration": 51545,
    "start_time": "2023-06-20T19:15:49.152Z"
   },
   {
    "duration": 41,
    "start_time": "2023-06-20T19:16:44.441Z"
   },
   {
    "duration": 80,
    "start_time": "2023-06-20T19:16:48.602Z"
   },
   {
    "duration": 39,
    "start_time": "2023-06-20T19:17:01.338Z"
   },
   {
    "duration": 34,
    "start_time": "2023-06-20T19:17:04.648Z"
   },
   {
    "duration": 52516,
    "start_time": "2023-06-20T19:17:37.489Z"
   },
   {
    "duration": 109,
    "start_time": "2023-06-20T19:18:30.074Z"
   },
   {
    "duration": 22,
    "start_time": "2023-06-20T19:19:42.652Z"
   },
   {
    "duration": 14,
    "start_time": "2023-06-20T19:19:53.297Z"
   },
   {
    "duration": 21,
    "start_time": "2023-06-20T19:23:06.590Z"
   },
   {
    "duration": 26,
    "start_time": "2023-06-20T19:23:11.356Z"
   },
   {
    "duration": 24,
    "start_time": "2023-06-20T19:23:26.203Z"
   },
   {
    "duration": 25,
    "start_time": "2023-06-20T19:23:51.198Z"
   },
   {
    "duration": 21,
    "start_time": "2023-06-20T19:23:59.193Z"
   },
   {
    "duration": 23,
    "start_time": "2023-06-20T19:26:08.078Z"
   },
   {
    "duration": 5,
    "start_time": "2023-06-20T19:26:23.614Z"
   },
   {
    "duration": 25,
    "start_time": "2023-06-20T19:26:44.134Z"
   },
   {
    "duration": 16,
    "start_time": "2023-06-20T19:26:56.696Z"
   },
   {
    "duration": 50,
    "start_time": "2023-06-20T19:27:06.853Z"
   },
   {
    "duration": 261,
    "start_time": "2023-06-20T19:27:07.989Z"
   },
   {
    "duration": 136,
    "start_time": "2023-06-20T19:27:28.489Z"
   },
   {
    "duration": 1051,
    "start_time": "2023-06-20T19:27:30.246Z"
   },
   {
    "duration": 32,
    "start_time": "2023-06-20T19:27:37.753Z"
   },
   {
    "duration": 218976,
    "start_time": "2023-06-20T19:32:28.805Z"
   },
   {
    "duration": 20,
    "start_time": "2023-06-20T19:39:29.791Z"
   },
   {
    "duration": 4,
    "start_time": "2023-06-20T19:39:32.150Z"
   },
   {
    "duration": 4,
    "start_time": "2023-06-20T19:46:27.534Z"
   },
   {
    "duration": 105,
    "start_time": "2023-06-20T19:59:06.146Z"
   },
   {
    "duration": 39580,
    "start_time": "2023-06-20T19:59:39.595Z"
   },
   {
    "duration": 74,
    "start_time": "2023-06-20T20:00:25.698Z"
   },
   {
    "duration": 6,
    "start_time": "2023-06-20T20:00:31.598Z"
   },
   {
    "duration": 8,
    "start_time": "2023-06-20T20:00:40.232Z"
   },
   {
    "duration": 52,
    "start_time": "2023-06-20T20:00:42.995Z"
   },
   {
    "duration": 15,
    "start_time": "2023-06-20T20:00:43.343Z"
   },
   {
    "duration": 4,
    "start_time": "2023-06-20T20:00:44.840Z"
   },
   {
    "duration": 3,
    "start_time": "2023-06-20T20:00:45.895Z"
   },
   {
    "duration": 4,
    "start_time": "2023-06-20T20:01:02.396Z"
   },
   {
    "duration": 1810,
    "start_time": "2023-06-20T20:39:04.809Z"
   },
   {
    "duration": 966,
    "start_time": "2023-06-20T20:39:06.621Z"
   },
   {
    "duration": 41,
    "start_time": "2023-06-20T20:39:07.594Z"
   },
   {
    "duration": 173,
    "start_time": "2023-06-20T20:39:07.639Z"
   },
   {
    "duration": 9,
    "start_time": "2023-06-20T20:39:07.820Z"
   },
   {
    "duration": 159,
    "start_time": "2023-06-20T20:39:07.832Z"
   },
   {
    "duration": 23,
    "start_time": "2023-06-20T20:39:07.996Z"
   },
   {
    "duration": 527,
    "start_time": "2023-06-20T20:39:08.021Z"
   },
   {
    "duration": 600,
    "start_time": "2023-06-20T20:39:08.549Z"
   },
   {
    "duration": 549,
    "start_time": "2023-06-20T20:39:09.152Z"
   },
   {
    "duration": 39,
    "start_time": "2023-06-20T20:39:12.914Z"
   },
   {
    "duration": 93,
    "start_time": "2023-06-20T20:39:14.542Z"
   },
   {
    "duration": 30,
    "start_time": "2023-06-20T20:39:15.326Z"
   },
   {
    "duration": 33,
    "start_time": "2023-06-20T20:39:15.505Z"
   },
   {
    "duration": 15,
    "start_time": "2023-06-20T20:39:15.842Z"
   },
   {
    "duration": 31,
    "start_time": "2023-06-20T20:39:16.204Z"
   },
   {
    "duration": 16,
    "start_time": "2023-06-20T20:39:16.438Z"
   },
   {
    "duration": 44,
    "start_time": "2023-06-20T20:39:17.046Z"
   },
   {
    "duration": 25,
    "start_time": "2023-06-20T20:39:17.257Z"
   },
   {
    "duration": 30,
    "start_time": "2023-06-20T20:39:17.730Z"
   },
   {
    "duration": 94,
    "start_time": "2023-06-20T20:39:17.942Z"
   },
   {
    "duration": 15,
    "start_time": "2023-06-20T20:39:21.561Z"
   },
   {
    "duration": 324,
    "start_time": "2023-06-20T20:39:21.812Z"
   },
   {
    "duration": 57,
    "start_time": "2023-06-20T20:39:22.138Z"
   },
   {
    "duration": 6,
    "start_time": "2023-06-20T20:39:22.221Z"
   },
   {
    "duration": 401,
    "start_time": "2023-06-20T20:39:22.426Z"
   },
   {
    "duration": 11,
    "start_time": "2023-06-20T20:39:22.830Z"
   },
   {
    "duration": 362,
    "start_time": "2023-06-20T20:39:23.243Z"
   },
   {
    "duration": 3,
    "start_time": "2023-06-20T20:39:25.313Z"
   },
   {
    "duration": 2,
    "start_time": "2023-06-20T20:39:25.746Z"
   },
   {
    "duration": 35,
    "start_time": "2023-06-20T20:39:26.257Z"
   },
   {
    "duration": 30,
    "start_time": "2023-06-20T20:39:26.754Z"
   },
   {
    "duration": 40,
    "start_time": "2023-06-20T20:39:28.823Z"
   },
   {
    "duration": 302,
    "start_time": "2023-06-20T20:39:45.568Z"
   },
   {
    "duration": 25,
    "start_time": "2023-06-20T20:39:49.305Z"
   },
   {
    "duration": 2120,
    "start_time": "2023-06-20T20:39:50.326Z"
   },
   {
    "duration": 331,
    "start_time": "2023-06-20T20:41:00.410Z"
   },
   {
    "duration": 340,
    "start_time": "2023-06-20T20:41:04.642Z"
   },
   {
    "duration": 452,
    "start_time": "2023-06-20T20:41:11.430Z"
   },
   {
    "duration": 318,
    "start_time": "2023-06-20T20:41:20.010Z"
   },
   {
    "duration": 28,
    "start_time": "2023-06-20T20:41:28.075Z"
   },
   {
    "duration": 38,
    "start_time": "2023-06-20T20:41:28.342Z"
   },
   {
    "duration": 323,
    "start_time": "2023-06-20T20:41:28.613Z"
   },
   {
    "duration": 207,
    "start_time": "2023-06-20T20:41:29.246Z"
   },
   {
    "duration": 8,
    "start_time": "2023-06-20T20:41:29.818Z"
   },
   {
    "duration": 32,
    "start_time": "2023-06-20T20:41:32.701Z"
   },
   {
    "duration": 5,
    "start_time": "2023-06-20T20:41:33.232Z"
   },
   {
    "duration": 73,
    "start_time": "2023-06-20T20:41:37.135Z"
   },
   {
    "duration": 37,
    "start_time": "2023-06-20T20:41:50.922Z"
   },
   {
    "duration": 251,
    "start_time": "2023-06-20T20:41:53.222Z"
   },
   {
    "duration": 132,
    "start_time": "2023-06-20T20:41:56.626Z"
   },
   {
    "duration": 1044,
    "start_time": "2023-06-20T20:42:02.204Z"
   },
   {
    "duration": 423661,
    "start_time": "2023-06-20T20:42:09.238Z"
   },
   {
    "duration": 24,
    "start_time": "2023-06-20T20:49:12.966Z"
   },
   {
    "duration": 35669,
    "start_time": "2023-06-20T20:49:13.010Z"
   },
   {
    "duration": 85,
    "start_time": "2023-06-20T20:49:48.690Z"
   },
   {
    "duration": 7,
    "start_time": "2023-06-20T20:49:48.777Z"
   },
   {
    "duration": 15,
    "start_time": "2023-06-20T20:54:48.259Z"
   },
   {
    "duration": 73,
    "start_time": "2023-06-20T20:54:51.900Z"
   },
   {
    "duration": 16,
    "start_time": "2023-06-20T20:54:53.227Z"
   },
   {
    "duration": 415062,
    "start_time": "2023-06-20T20:55:01.160Z"
   },
   {
    "duration": 377,
    "start_time": "2023-06-20T21:01:56.224Z"
   },
   {
    "duration": 13,
    "start_time": "2023-06-20T21:01:56.603Z"
   },
   {
    "duration": 11,
    "start_time": "2023-06-20T21:01:56.619Z"
   },
   {
    "duration": 48,
    "start_time": "2023-06-20T21:01:56.632Z"
   },
   {
    "duration": 4,
    "start_time": "2023-06-20T21:01:56.691Z"
   },
   {
    "duration": 9,
    "start_time": "2023-06-20T21:01:56.697Z"
   },
   {
    "duration": 17,
    "start_time": "2023-06-20T21:01:56.715Z"
   },
   {
    "duration": 16,
    "start_time": "2023-06-20T21:01:56.733Z"
   },
   {
    "duration": 0,
    "start_time": "2023-06-20T21:01:56.751Z"
   },
   {
    "duration": 0,
    "start_time": "2023-06-20T21:01:56.752Z"
   },
   {
    "duration": 0,
    "start_time": "2023-06-20T21:01:56.753Z"
   },
   {
    "duration": 119982,
    "start_time": "2023-06-20T22:20:16.810Z"
   },
   {
    "duration": 5,
    "start_time": "2023-06-20T22:23:07.938Z"
   },
   {
    "duration": 6929,
    "start_time": "2023-06-20T22:23:57.550Z"
   },
   {
    "duration": 6250,
    "start_time": "2023-06-20T22:24:28.394Z"
   },
   {
    "duration": 50,
    "start_time": "2023-06-20T22:24:46.651Z"
   },
   {
    "duration": 6730,
    "start_time": "2023-06-20T22:25:37.719Z"
   },
   {
    "duration": 6404,
    "start_time": "2023-06-20T22:25:55.088Z"
   },
   {
    "duration": 49,
    "start_time": "2023-06-20T22:28:24.778Z"
   },
   {
    "duration": 5,
    "start_time": "2023-06-20T22:28:36.556Z"
   },
   {
    "duration": 6,
    "start_time": "2023-06-20T22:31:01.878Z"
   },
   {
    "duration": 11,
    "start_time": "2023-06-20T22:31:05.422Z"
   },
   {
    "duration": 5,
    "start_time": "2023-06-20T22:32:46.388Z"
   },
   {
    "duration": 5,
    "start_time": "2023-06-20T22:33:29.444Z"
   },
   {
    "duration": 4,
    "start_time": "2023-06-20T22:33:53.609Z"
   },
   {
    "duration": 5,
    "start_time": "2023-06-20T22:33:53.917Z"
   },
   {
    "duration": 7,
    "start_time": "2023-06-20T22:34:07.009Z"
   },
   {
    "duration": 4,
    "start_time": "2023-06-20T22:34:10.214Z"
   },
   {
    "duration": 4,
    "start_time": "2023-06-20T22:34:15.577Z"
   },
   {
    "duration": 23,
    "start_time": "2023-06-20T22:34:26.460Z"
   },
   {
    "duration": 4,
    "start_time": "2023-06-20T22:34:39.345Z"
   },
   {
    "duration": 8,
    "start_time": "2023-06-20T22:34:41.779Z"
   },
   {
    "duration": 10,
    "start_time": "2023-06-20T22:35:24.141Z"
   },
   {
    "duration": 7,
    "start_time": "2023-06-20T22:35:28.428Z"
   },
   {
    "duration": 15,
    "start_time": "2023-06-20T22:35:32.253Z"
   },
   {
    "duration": 8,
    "start_time": "2023-06-20T22:35:35.922Z"
   },
   {
    "duration": 19,
    "start_time": "2023-06-20T22:35:41.953Z"
   },
   {
    "duration": 8,
    "start_time": "2023-06-20T22:35:49.268Z"
   },
   {
    "duration": 3,
    "start_time": "2023-06-20T22:36:58.688Z"
   },
   {
    "duration": 13,
    "start_time": "2023-06-20T22:37:12.342Z"
   },
   {
    "duration": 5,
    "start_time": "2023-06-20T22:37:13.936Z"
   },
   {
    "duration": 11,
    "start_time": "2023-06-20T22:37:15.467Z"
   },
   {
    "duration": 8,
    "start_time": "2023-06-20T22:37:25.527Z"
   },
   {
    "duration": 9,
    "start_time": "2023-06-20T22:37:31.562Z"
   },
   {
    "duration": 7,
    "start_time": "2023-06-20T22:37:33.682Z"
   },
   {
    "duration": 17,
    "start_time": "2023-06-20T22:37:41.383Z"
   },
   {
    "duration": 3,
    "start_time": "2023-06-20T22:37:54.204Z"
   },
   {
    "duration": 20,
    "start_time": "2023-06-20T22:38:01.061Z"
   },
   {
    "duration": 3,
    "start_time": "2023-06-20T22:38:05.860Z"
   },
   {
    "duration": 8,
    "start_time": "2023-06-20T22:38:06.181Z"
   },
   {
    "duration": 5,
    "start_time": "2023-06-20T22:38:14.482Z"
   },
   {
    "duration": 2,
    "start_time": "2023-06-20T22:38:40.311Z"
   },
   {
    "duration": 7,
    "start_time": "2023-06-20T22:38:40.608Z"
   },
   {
    "duration": 5,
    "start_time": "2023-06-20T22:38:40.860Z"
   },
   {
    "duration": 18,
    "start_time": "2023-06-20T22:38:41.913Z"
   },
   {
    "duration": 18,
    "start_time": "2023-06-20T22:38:46.867Z"
   },
   {
    "duration": 5,
    "start_time": "2023-06-20T22:39:10.409Z"
   },
   {
    "duration": 19,
    "start_time": "2023-06-20T22:39:10.978Z"
   },
   {
    "duration": 13,
    "start_time": "2023-06-20T22:39:13.582Z"
   },
   {
    "duration": 15,
    "start_time": "2023-06-20T22:39:36.482Z"
   },
   {
    "duration": 6,
    "start_time": "2023-06-20T22:39:46.157Z"
   },
   {
    "duration": 1569,
    "start_time": "2023-06-20T22:40:51.680Z"
   },
   {
    "duration": 902,
    "start_time": "2023-06-20T22:40:53.251Z"
   },
   {
    "duration": 35,
    "start_time": "2023-06-20T22:40:54.154Z"
   },
   {
    "duration": 136,
    "start_time": "2023-06-20T22:40:54.190Z"
   },
   {
    "duration": 5,
    "start_time": "2023-06-20T22:40:54.328Z"
   },
   {
    "duration": 145,
    "start_time": "2023-06-20T22:40:54.334Z"
   },
   {
    "duration": 13,
    "start_time": "2023-06-20T22:40:54.481Z"
   },
   {
    "duration": 535,
    "start_time": "2023-06-20T22:40:54.496Z"
   },
   {
    "duration": 563,
    "start_time": "2023-06-20T22:40:55.032Z"
   },
   {
    "duration": 509,
    "start_time": "2023-06-20T22:40:55.597Z"
   },
   {
    "duration": 41,
    "start_time": "2023-06-20T22:40:56.108Z"
   },
   {
    "duration": 91,
    "start_time": "2023-06-20T22:40:56.151Z"
   },
   {
    "duration": 43,
    "start_time": "2023-06-20T22:40:56.243Z"
   },
   {
    "duration": 29,
    "start_time": "2023-06-20T22:40:56.289Z"
   },
   {
    "duration": 16,
    "start_time": "2023-06-20T22:40:56.320Z"
   },
   {
    "duration": 55,
    "start_time": "2023-06-20T22:40:56.338Z"
   },
   {
    "duration": 17,
    "start_time": "2023-06-20T22:40:56.395Z"
   },
   {
    "duration": 35,
    "start_time": "2023-06-20T22:40:56.413Z"
   },
   {
    "duration": 44,
    "start_time": "2023-06-20T22:40:56.449Z"
   },
   {
    "duration": 33,
    "start_time": "2023-06-20T22:40:56.495Z"
   },
   {
    "duration": 82,
    "start_time": "2023-06-20T22:40:56.530Z"
   },
   {
    "duration": 5,
    "start_time": "2023-06-20T22:40:56.614Z"
   },
   {
    "duration": 298,
    "start_time": "2023-06-20T22:40:56.621Z"
   },
   {
    "duration": 57,
    "start_time": "2023-06-20T22:40:56.921Z"
   },
   {
    "duration": 7,
    "start_time": "2023-06-20T22:40:56.981Z"
   },
   {
    "duration": 341,
    "start_time": "2023-06-20T22:40:56.989Z"
   },
   {
    "duration": 10,
    "start_time": "2023-06-20T22:40:57.332Z"
   },
   {
    "duration": 285,
    "start_time": "2023-06-20T22:40:57.343Z"
   },
   {
    "duration": 3,
    "start_time": "2023-06-20T22:40:57.630Z"
   },
   {
    "duration": 11,
    "start_time": "2023-06-20T22:40:57.634Z"
   },
   {
    "duration": 39,
    "start_time": "2023-06-20T22:40:57.646Z"
   },
   {
    "duration": 16,
    "start_time": "2023-06-20T22:40:57.687Z"
   },
   {
    "duration": 37,
    "start_time": "2023-06-20T22:40:57.705Z"
   },
   {
    "duration": 272,
    "start_time": "2023-06-20T22:40:57.744Z"
   },
   {
    "duration": 24,
    "start_time": "2023-06-20T22:40:58.018Z"
   },
   {
    "duration": 304,
    "start_time": "2023-06-20T22:40:58.044Z"
   },
   {
    "duration": 23,
    "start_time": "2023-06-20T22:40:58.350Z"
   },
   {
    "duration": 24,
    "start_time": "2023-06-20T22:40:58.381Z"
   },
   {
    "duration": 286,
    "start_time": "2023-06-20T22:40:58.407Z"
   },
   {
    "duration": 188,
    "start_time": "2023-06-20T22:40:58.695Z"
   },
   {
    "duration": 7,
    "start_time": "2023-06-20T22:40:58.887Z"
   },
   {
    "duration": 32,
    "start_time": "2023-06-20T22:40:58.895Z"
   },
   {
    "duration": 5,
    "start_time": "2023-06-20T22:40:58.929Z"
   },
   {
    "duration": 11,
    "start_time": "2023-06-20T22:40:58.936Z"
   },
   {
    "duration": 59,
    "start_time": "2023-06-20T22:40:58.949Z"
   },
   {
    "duration": 23,
    "start_time": "2023-06-20T22:40:59.010Z"
   },
   {
    "duration": 643,
    "start_time": "2023-06-20T22:40:59.035Z"
   },
   {
    "duration": 297,
    "start_time": "2023-06-20T22:40:59.680Z"
   },
   {
    "duration": 1937,
    "start_time": "2023-06-20T22:40:59.979Z"
   },
   {
    "duration": 250967,
    "start_time": "2023-06-20T22:41:01.918Z"
   },
   {
    "duration": 84,
    "start_time": "2023-06-20T22:45:12.887Z"
   },
   {
    "duration": 23102,
    "start_time": "2023-06-20T22:45:12.973Z"
   },
   {
    "duration": 94,
    "start_time": "2023-06-20T22:45:36.077Z"
   },
   {
    "duration": 95,
    "start_time": "2023-06-20T22:45:36.176Z"
   },
   {
    "duration": 18,
    "start_time": "2023-06-20T22:45:36.281Z"
   },
   {
    "duration": 102,
    "start_time": "2023-06-20T22:45:36.300Z"
   },
   {
    "duration": 24,
    "start_time": "2023-06-20T22:45:36.404Z"
   },
   {
    "duration": 33747,
    "start_time": "2023-06-20T22:45:36.430Z"
   },
   {
    "duration": 503,
    "start_time": "2023-06-20T22:46:10.183Z"
   },
   {
    "duration": 5,
    "start_time": "2023-06-20T22:46:10.689Z"
   },
   {
    "duration": 86,
    "start_time": "2023-06-20T22:46:10.695Z"
   },
   {
    "duration": 43,
    "start_time": "2023-06-20T22:46:10.782Z"
   },
   {
    "duration": 3,
    "start_time": "2023-06-20T22:46:10.827Z"
   },
   {
    "duration": 11,
    "start_time": "2023-06-20T22:46:10.831Z"
   },
   {
    "duration": 4,
    "start_time": "2023-06-20T22:46:10.844Z"
   },
   {
    "duration": 189749,
    "start_time": "2023-06-20T22:46:10.850Z"
   },
   {
    "duration": 4,
    "start_time": "2023-06-20T22:49:20.600Z"
   },
   {
    "duration": 10611,
    "start_time": "2023-06-20T22:49:20.605Z"
   },
   {
    "duration": 92,
    "start_time": "2023-06-20T22:49:31.217Z"
   },
   {
    "duration": 12,
    "start_time": "2023-06-20T22:49:31.311Z"
   },
   {
    "duration": 119,
    "start_time": "2023-06-20T22:49:31.325Z"
   },
   {
    "duration": 61,
    "start_time": "2023-06-20T22:49:31.445Z"
   },
   {
    "duration": 37,
    "start_time": "2023-06-20T22:49:31.508Z"
   },
   {
    "duration": 169,
    "start_time": "2023-06-20T22:49:31.546Z"
   },
   {
    "duration": 5,
    "start_time": "2023-06-20T22:49:31.717Z"
   },
   {
    "duration": 68,
    "start_time": "2023-06-20T22:49:31.726Z"
   },
   {
    "duration": 107,
    "start_time": "2023-06-20T22:51:44.811Z"
   },
   {
    "duration": 6,
    "start_time": "2023-06-20T22:52:10.582Z"
   },
   {
    "duration": 6,
    "start_time": "2023-06-20T22:52:13.655Z"
   },
   {
    "duration": 5,
    "start_time": "2023-06-20T22:55:51.517Z"
   },
   {
    "duration": 9,
    "start_time": "2023-06-20T22:55:53.065Z"
   }
  ],
  "kernelspec": {
   "display_name": "Python 3 (ipykernel)",
   "language": "python",
   "name": "python3"
  },
  "language_info": {
   "codemirror_mode": {
    "name": "ipython",
    "version": 3
   },
   "file_extension": ".py",
   "mimetype": "text/x-python",
   "name": "python",
   "nbconvert_exporter": "python",
   "pygments_lexer": "ipython3",
   "version": "3.9.5"
  },
  "toc": {
   "base_numbering": 1,
   "nav_menu": {},
   "number_sections": true,
   "sideBar": true,
   "skip_h1_title": true,
   "title_cell": "Table of Contents",
   "title_sidebar": "Contents",
   "toc_cell": false,
   "toc_position": {
    "height": "calc(100% - 180px)",
    "left": "10px",
    "top": "150px",
    "width": "415.833px"
   },
   "toc_section_display": true,
   "toc_window_display": true
  }
 },
 "nbformat": 4,
 "nbformat_minor": 2
}
